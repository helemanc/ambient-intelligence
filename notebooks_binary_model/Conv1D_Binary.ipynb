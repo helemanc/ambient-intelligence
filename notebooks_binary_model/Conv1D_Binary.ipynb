{
 "cells": [
  {
   "cell_type": "markdown",
   "metadata": {
    "id": "aZpLDAvzebYz"
   },
   "source": [
    "## Import libraries"
   ]
  },
  {
   "cell_type": "code",
   "execution_count": 2,
   "metadata": {
    "colab": {
     "base_uri": "https://localhost:8080/"
    },
    "executionInfo": {
     "elapsed": 7584,
     "status": "ok",
     "timestamp": 1628604579437,
     "user": {
      "displayName": "Eleonora Mancini",
      "photoUrl": "https://lh3.googleusercontent.com/a-/AOh14GgGMAKQj5wg21_r-iyQIVVYF436AnA5QQFEsFsFtg=s64",
      "userId": "13827522260918404568"
     },
     "user_tz": -120
    },
    "id": "ouXHKAlCebY0",
    "outputId": "e39f9a6f-49d5-47e8-e4a7-d77b774e1821"
   },
   "outputs": [
    {
     "ename": "ModuleNotFoundError",
     "evalue": "No module named 'cv2'",
     "output_type": "error",
     "traceback": [
      "\u001b[0;31m---------------------------------------------------------------------------\u001b[0m",
      "\u001b[0;31mModuleNotFoundError\u001b[0m                       Traceback (most recent call last)",
      "\u001b[0;32m/tmp/ipykernel_3564/217650477.py\u001b[0m in \u001b[0;36m<module>\u001b[0;34m\u001b[0m\n\u001b[1;32m     12\u001b[0m \u001b[0;32mimport\u001b[0m \u001b[0mlibrosa\u001b[0m\u001b[0;34m.\u001b[0m\u001b[0mdisplay\u001b[0m\u001b[0;34m\u001b[0m\u001b[0;34m\u001b[0m\u001b[0m\n\u001b[1;32m     13\u001b[0m \u001b[0;32mimport\u001b[0m \u001b[0mnumpy\u001b[0m \u001b[0;32mas\u001b[0m \u001b[0mnp\u001b[0m\u001b[0;34m\u001b[0m\u001b[0;34m\u001b[0m\u001b[0m\n\u001b[0;32m---> 14\u001b[0;31m \u001b[0;32mimport\u001b[0m \u001b[0mcv2\u001b[0m\u001b[0;34m\u001b[0m\u001b[0;34m\u001b[0m\u001b[0m\n\u001b[0m\u001b[1;32m     15\u001b[0m \u001b[0;32mimport\u001b[0m \u001b[0mpickle\u001b[0m\u001b[0;34m\u001b[0m\u001b[0;34m\u001b[0m\u001b[0m\n\u001b[1;32m     16\u001b[0m \u001b[0;32mimport\u001b[0m \u001b[0mscipy\u001b[0m\u001b[0;34m\u001b[0m\u001b[0;34m\u001b[0m\u001b[0m\n",
      "\u001b[0;31mModuleNotFoundError\u001b[0m: No module named 'cv2'"
     ]
    }
   ],
   "source": [
    "import os\n",
    "import librosa\n",
    "import numpy as np\n",
    "from tqdm.notebook import tqdm\n",
    "import pandas as pd\n",
    "import matplotlib.pyplot as plt\n",
    "import warnings\n",
    "warnings.filterwarnings(\"ignore\")\n",
    "import seaborn as sns\n",
    "sns.set_style('whitegrid')\n",
    "import IPython.display as ipd\n",
    "import librosa.display\n",
    "import numpy as np\n",
    "import cv2\n",
    "import pickle\n",
    "import scipy\n",
    "\n",
    "from sklearn.model_selection import train_test_split\n",
    "from sklearn.ensemble import RandomForestClassifier\n",
    "from sklearn.preprocessing import StandardScaler, LabelEncoder\n",
    "from sklearn.pipeline import make_pipeline\n",
    "from sklearn.cluster import KMeans\n",
    "from sklearn.metrics import accuracy_score, confusion_matrix\n",
    "from scipy.cluster.hierarchy import dendrogram\n",
    "from sklearn.cluster import AgglomerativeClustering\n",
    "\n",
    "from tqdm.notebook import tqdm\n",
    "\n",
    "import tensorflow as tf\n",
    "from tensorflow.keras.layers import Dense, Dropout, Conv2D, AveragePooling1D, MaxPooling2D, Flatten\n",
    "from tensorflow.keras.optimizers import SGD\n",
    "from tensorflow.keras.models import Sequential\n",
    "from tensorflow.keras import layers\n",
    "\n",
    "# from livelossplot import PlotLossesKeras\n",
    "tf.config.list_physical_devices('GPU')"
   ]
  },
  {
   "cell_type": "code",
   "execution_count": 2,
   "metadata": {
    "colab": {
     "base_uri": "https://localhost:8080/"
    },
    "executionInfo": {
     "elapsed": 20754,
     "status": "ok",
     "timestamp": 1628604600173,
     "user": {
      "displayName": "Eleonora Mancini",
      "photoUrl": "https://lh3.googleusercontent.com/a-/AOh14GgGMAKQj5wg21_r-iyQIVVYF436AnA5QQFEsFsFtg=s64",
      "userId": "13827522260918404568"
     },
     "user_tz": -120
    },
    "id": "6_MlstoIe-Wo",
    "outputId": "76f7ea11-2f95-42eb-d3ef-0a24ade3fc2a"
   },
   "outputs": [
    {
     "name": "stdout",
     "output_type": "stream",
     "text": [
      "Mounted at /content/drive\n"
     ]
    }
   ],
   "source": [
    "from google.colab import drive\n",
    "drive.mount('/content/drive')"
   ]
  },
  {
   "cell_type": "code",
   "execution_count": 3,
   "metadata": {
    "colab": {
     "base_uri": "https://localhost:8080/"
    },
    "executionInfo": {
     "elapsed": 398,
     "status": "ok",
     "timestamp": 1628604600551,
     "user": {
      "displayName": "Eleonora Mancini",
      "photoUrl": "https://lh3.googleusercontent.com/a-/AOh14GgGMAKQj5wg21_r-iyQIVVYF436AnA5QQFEsFsFtg=s64",
      "userId": "13827522260918404568"
     },
     "user_tz": -120
    },
    "id": "UGONI0VEfLA3",
    "outputId": "798117d6-b540-49e0-e2c4-2e33cd4fc2cc"
   },
   "outputs": [
    {
     "name": "stdout",
     "output_type": "stream",
     "text": [
      "/content/drive/MyDrive/Colab Notebooks/Speech Emotion Recognition/Implementations/5_Conv_1D\n"
     ]
    }
   ],
   "source": [
    "%cd drive/MyDrive/Colab\\ Notebooks/Speech\\ Emotion\\ Recognition/Implementations/5_Conv_1D"
   ]
  },
  {
   "cell_type": "markdown",
   "metadata": {
    "id": "tfXop3pJebY2"
   },
   "source": [
    "## Get data from datasets:"
   ]
  },
  {
   "cell_type": "code",
   "execution_count": null,
   "metadata": {
    "colab": {
     "base_uri": "https://localhost:8080/"
    },
    "executionInfo": {
     "elapsed": 263,
     "status": "ok",
     "timestamp": 1628258899279,
     "user": {
      "displayName": "Eleonora Mancini",
      "photoUrl": "https://lh3.googleusercontent.com/a-/AOh14GgGMAKQj5wg21_r-iyQIVVYF436AnA5QQFEsFsFtg=s64",
      "userId": "13827522260918404568"
     },
     "user_tz": -120
    },
    "id": "1snSPnMBebY3",
    "outputId": "3e230a36-7c4e-4a4d-9c22-53848dbe059a"
   },
   "outputs": [
    {
     "data": {
      "text/plain": [
       "['DC_a01.wav', 'DC_a02.wav', 'DC_a13.wav', 'DC_a12.wav', 'DC_a06.wav']"
      ]
     },
     "execution_count": 10,
     "metadata": {
      "tags": []
     },
     "output_type": "execute_result"
    }
   ],
   "source": [
    "main_path = 'D://emotion_recognition_data'\n",
    "TESS = \"tess/TESS Toronto emotional speech set data/\"\n",
    "RAV = \"ravdess-emotional-speech-audio/audio_speech_actors_01-24/\"\n",
    "SAVEE = \"savee/ALL/\"\n",
    "\n",
    "dir_list = os.listdir(SAVEE)\n",
    "dir_list[0:5]"
   ]
  },
  {
   "cell_type": "markdown",
   "metadata": {
    "id": "Jq5EYy--ebY3"
   },
   "source": [
    "### RAVDESS dataset"
   ]
  },
  {
   "cell_type": "code",
   "execution_count": null,
   "metadata": {
    "colab": {
     "base_uri": "https://localhost:8080/",
     "height": 66,
     "referenced_widgets": [
      "8bc054af36e44844b4ef41bc59ef94ed",
      "e034b5967c48485ea6f557f562084ef7",
      "2ede483cb75540ae8163e971bc16ed96",
      "afa4c134a3a04923995d55459a89ccb0",
      "b68a0c308f2b4fdcae473829f1887a16",
      "3d1fd17b464947fa9d9f5b3960671922",
      "dc63b3f650f5468eb9d8f2f272995d16",
      "26bbcdccf0d94b8f86f60f58b3e7a3e1"
     ]
    },
    "executionInfo": {
     "elapsed": 649,
     "status": "ok",
     "timestamp": 1628258903785,
     "user": {
      "displayName": "Eleonora Mancini",
      "photoUrl": "https://lh3.googleusercontent.com/a-/AOh14GgGMAKQj5wg21_r-iyQIVVYF436AnA5QQFEsFsFtg=s64",
      "userId": "13827522260918404568"
     },
     "user_tz": -120
    },
    "id": "OiM0CnT9ebY3",
    "outputId": "b52c6a84-4654-49ee-80f4-71142e26e9a5"
   },
   "outputs": [
    {
     "data": {
      "application/vnd.jupyter.widget-view+json": {
       "model_id": "8bc054af36e44844b4ef41bc59ef94ed",
       "version_major": 2,
       "version_minor": 0
      },
      "text/plain": [
       "HBox(children=(FloatProgress(value=1.0, bar_style='info', max=1.0), HTML(value='')))"
      ]
     },
     "metadata": {
      "tags": []
     },
     "output_type": "display_data"
    },
    {
     "name": "stdout",
     "output_type": "stream",
     "text": [
      "\n"
     ]
    }
   ],
   "source": [
    "lst = []\n",
    "emotion = []\n",
    "voc_channel = []\n",
    "full_path = []\n",
    "modality = []\n",
    "intensity = []\n",
    "actors = []\n",
    "phrase =[]\n",
    "\n",
    "for root, dirs, files in tqdm(os.walk(RAV)):\n",
    "    for file in files:\n",
    "        try:\n",
    "            #Load librosa array, obtain mfcss, store the file and the mfcss information in a new array\n",
    "            # X, sample_rate = librosa.load(os.path.join(root,file), res_type='kaiser_fast')\n",
    "            # mfccs = np.mean(librosa.feature.mfcc(y=X, sr=sample_rate, n_mfcc=40).T,axis=0) \n",
    "            # The instruction below converts the labels (from 1 to 8) to a series from 0 to 7\n",
    "            # This is because our predictor needs to start from 0 otherwise it will try to predict also 0.\n",
    "           \n",
    "            modal = int(file[1:2])\n",
    "            vchan = int(file[4:5])\n",
    "            lab = int(file[7:8])\n",
    "            ints = int(file[10:11])\n",
    "            phr = int(file[13:14])\n",
    "            act = int(file[19:20])\n",
    "            \n",
    "            # arr = mfccs, lab\n",
    "            # lst.append(arr)\n",
    "            \n",
    "            modality.append(modal)\n",
    "            voc_channel.append(vchan)\n",
    "            emotion.append(lab) #only labels\n",
    "            intensity.append(ints)\n",
    "            phrase.append(phr)\n",
    "            actors.append(act)\n",
    "            \n",
    "            full_path.append((root, file)) # only files\n",
    "          # If the file is not valid, skip it\n",
    "        except ValueError:\n",
    "            continue"
   ]
  },
  {
   "cell_type": "code",
   "execution_count": null,
   "metadata": {
    "id": "aeGeZG-lebY5"
   },
   "outputs": [],
   "source": [
    "# 01 = neutral, 02 = calm, 03 = happy, 04 = sad, 05 = angry, 06 = fearful, 07 = disgust, 08 = surprised\n",
    "emotions_list = ['neutral', 'calm', 'happy', 'sad', 'angry', 'fearful', 'disgust', 'surprised']\n",
    "emotion_dict = {em[0]+1:em[1] for em in enumerate(emotions_list)}\n",
    "\n",
    "df = pd.DataFrame([emotion, voc_channel, modality, intensity, actors, phrase, full_path]).T\n",
    "df.columns = ['emotion', 'voc_channel', 'modality', 'intensity', 'actors', 'phrase', 'path']\n",
    "df['emotion'] = df['emotion'].map(emotion_dict)\n",
    "df['voc_channel'] = df['voc_channel'].map({1: 'speech', 2:'song'})\n",
    "df['modality'] = df['modality'].map({1: 'full AV', 2:'video only', 3:'audio only'})\n",
    "df['intensity'] = df['intensity'].map({1: 'normal', 2:'strong'})\n",
    "df['actors'] = df['actors'].apply(lambda x: 'female' if x%2 == 0 else 'male')\n",
    "df['phrase'] = df['phrase'].map({1: 'Kids are talking by the door', 2:'Dogs are sitting by the door'})\n",
    "df['path'] = df['path'].apply(lambda x: x[0] + '/' + x[1])\n"
   ]
  },
  {
   "cell_type": "code",
   "execution_count": null,
   "metadata": {
    "id": "TFcRulQ8jLNG"
   },
   "outputs": [],
   "source": [
    "# remove files with noise to apply the same noise to all files for data augmentation \n",
    "df = df[~df.path.str.contains('noise')]"
   ]
  },
  {
   "cell_type": "code",
   "execution_count": null,
   "metadata": {
    "colab": {
     "base_uri": "https://localhost:8080/",
     "height": 204
    },
    "executionInfo": {
     "elapsed": 17,
     "status": "ok",
     "timestamp": 1628258985653,
     "user": {
      "displayName": "Eleonora Mancini",
      "photoUrl": "https://lh3.googleusercontent.com/a-/AOh14GgGMAKQj5wg21_r-iyQIVVYF436AnA5QQFEsFsFtg=s64",
      "userId": "13827522260918404568"
     },
     "user_tz": -120
    },
    "id": "acUoNtinebY5",
    "outputId": "baa19838-5ba5-4f66-b525-e197d2a7e1a1"
   },
   "outputs": [
    {
     "data": {
      "text/html": [
       "<div>\n",
       "<style scoped>\n",
       "    .dataframe tbody tr th:only-of-type {\n",
       "        vertical-align: middle;\n",
       "    }\n",
       "\n",
       "    .dataframe tbody tr th {\n",
       "        vertical-align: top;\n",
       "    }\n",
       "\n",
       "    .dataframe thead th {\n",
       "        text-align: right;\n",
       "    }\n",
       "</style>\n",
       "<table border=\"1\" class=\"dataframe\">\n",
       "  <thead>\n",
       "    <tr style=\"text-align: right;\">\n",
       "      <th></th>\n",
       "      <th>emotion</th>\n",
       "      <th>voc_channel</th>\n",
       "      <th>modality</th>\n",
       "      <th>intensity</th>\n",
       "      <th>actors</th>\n",
       "      <th>phrase</th>\n",
       "      <th>path</th>\n",
       "    </tr>\n",
       "  </thead>\n",
       "  <tbody>\n",
       "    <tr>\n",
       "      <th>0</th>\n",
       "      <td>calm</td>\n",
       "      <td>speech</td>\n",
       "      <td>audio only</td>\n",
       "      <td>strong</td>\n",
       "      <td>male</td>\n",
       "      <td>Dogs are sitting by the door</td>\n",
       "      <td>ravdess-emotional-speech-audio/audio_speech_ac...</td>\n",
       "    </tr>\n",
       "    <tr>\n",
       "      <th>1</th>\n",
       "      <td>angry</td>\n",
       "      <td>speech</td>\n",
       "      <td>audio only</td>\n",
       "      <td>normal</td>\n",
       "      <td>male</td>\n",
       "      <td>Dogs are sitting by the door</td>\n",
       "      <td>ravdess-emotional-speech-audio/audio_speech_ac...</td>\n",
       "    </tr>\n",
       "    <tr>\n",
       "      <th>2</th>\n",
       "      <td>happy</td>\n",
       "      <td>speech</td>\n",
       "      <td>audio only</td>\n",
       "      <td>strong</td>\n",
       "      <td>male</td>\n",
       "      <td>Dogs are sitting by the door</td>\n",
       "      <td>ravdess-emotional-speech-audio/audio_speech_ac...</td>\n",
       "    </tr>\n",
       "    <tr>\n",
       "      <th>3</th>\n",
       "      <td>sad</td>\n",
       "      <td>speech</td>\n",
       "      <td>audio only</td>\n",
       "      <td>normal</td>\n",
       "      <td>male</td>\n",
       "      <td>Kids are talking by the door</td>\n",
       "      <td>ravdess-emotional-speech-audio/audio_speech_ac...</td>\n",
       "    </tr>\n",
       "    <tr>\n",
       "      <th>4</th>\n",
       "      <td>angry</td>\n",
       "      <td>speech</td>\n",
       "      <td>audio only</td>\n",
       "      <td>normal</td>\n",
       "      <td>male</td>\n",
       "      <td>Kids are talking by the door</td>\n",
       "      <td>ravdess-emotional-speech-audio/audio_speech_ac...</td>\n",
       "    </tr>\n",
       "  </tbody>\n",
       "</table>\n",
       "</div>"
      ],
      "text/plain": [
       "  emotion  ...                                               path\n",
       "0    calm  ...  ravdess-emotional-speech-audio/audio_speech_ac...\n",
       "1   angry  ...  ravdess-emotional-speech-audio/audio_speech_ac...\n",
       "2   happy  ...  ravdess-emotional-speech-audio/audio_speech_ac...\n",
       "3     sad  ...  ravdess-emotional-speech-audio/audio_speech_ac...\n",
       "4   angry  ...  ravdess-emotional-speech-audio/audio_speech_ac...\n",
       "\n",
       "[5 rows x 7 columns]"
      ]
     },
     "execution_count": 14,
     "metadata": {
      "tags": []
     },
     "output_type": "execute_result"
    }
   ],
   "source": [
    "df.head()"
   ]
  },
  {
   "cell_type": "markdown",
   "metadata": {
    "id": "WkD88hgCebY6"
   },
   "source": [
    "### SAVEE"
   ]
  },
  {
   "cell_type": "code",
   "execution_count": null,
   "metadata": {
    "colab": {
     "base_uri": "https://localhost:8080/"
    },
    "executionInfo": {
     "elapsed": 6,
     "status": "ok",
     "timestamp": 1628258986336,
     "user": {
      "displayName": "Eleonora Mancini",
      "photoUrl": "https://lh3.googleusercontent.com/a-/AOh14GgGMAKQj5wg21_r-iyQIVVYF436AnA5QQFEsFsFtg=s64",
      "userId": "13827522260918404568"
     },
     "user_tz": -120
    },
    "id": "g7Bu3NaZebZB",
    "outputId": "a94e20e2-1f13-4d90-e06a-fb770b1a3a7d"
   },
   "outputs": [
    {
     "data": {
      "text/plain": [
       "neutral_male     120\n",
       "happy_male        60\n",
       "sad_male          60\n",
       "disgust_male      60\n",
       "angry_male        60\n",
       "surprise_male     60\n",
       "fear_male         60\n",
       "Name: emotion_label, dtype: int64"
      ]
     },
     "execution_count": 15,
     "metadata": {
      "tags": []
     },
     "output_type": "execute_result"
    }
   ],
   "source": [
    "# Get the data location for SAVEE\n",
    "dir_list = os.listdir(SAVEE)\n",
    "\n",
    "# parse the filename to get the emotions\n",
    "emotion=[]\n",
    "path = []\n",
    "for i in dir_list:\n",
    "    if i[-8:-6]=='_a':\n",
    "        emotion.append('angry_male')\n",
    "    elif i[-8:-6]=='_d':\n",
    "        emotion.append('disgust_male')\n",
    "    elif i[-8:-6]=='_f':\n",
    "        emotion.append('fear_male')\n",
    "    elif i[-8:-6]=='_h':\n",
    "        emotion.append('happy_male')\n",
    "    elif i[-8:-6]=='_n':\n",
    "        emotion.append('neutral_male')\n",
    "    elif i[-8:-6]=='sa':\n",
    "        emotion.append('sad_male')\n",
    "    elif i[-8:-6]=='su':\n",
    "        emotion.append('surprise_male')\n",
    "    else:\n",
    "        emotion.append('Unknown') \n",
    "    path.append(SAVEE + i)\n",
    "    \n",
    "# Now check out the label count distribution \n",
    "SAVEE_df = pd.DataFrame(emotion, columns = ['emotion_label'])\n",
    "SAVEE_df['source'] = 'SAVEE'\n",
    "SAVEE_df = pd.concat([SAVEE_df, pd.DataFrame(path, columns = ['path'])], axis = 1)\n",
    "SAVEE_df.emotion_label.value_counts()"
   ]
  },
  {
   "cell_type": "code",
   "execution_count": null,
   "metadata": {
    "colab": {
     "base_uri": "https://localhost:8080/",
     "height": 204
    },
    "executionInfo": {
     "elapsed": 7,
     "status": "ok",
     "timestamp": 1628258986939,
     "user": {
      "displayName": "Eleonora Mancini",
      "photoUrl": "https://lh3.googleusercontent.com/a-/AOh14GgGMAKQj5wg21_r-iyQIVVYF436AnA5QQFEsFsFtg=s64",
      "userId": "13827522260918404568"
     },
     "user_tz": -120
    },
    "id": "bsPEAgJPebZC",
    "outputId": "7b727c94-f201-4c47-cd50-1afb3a835d17"
   },
   "outputs": [
    {
     "data": {
      "text/html": [
       "<div>\n",
       "<style scoped>\n",
       "    .dataframe tbody tr th:only-of-type {\n",
       "        vertical-align: middle;\n",
       "    }\n",
       "\n",
       "    .dataframe tbody tr th {\n",
       "        vertical-align: top;\n",
       "    }\n",
       "\n",
       "    .dataframe thead th {\n",
       "        text-align: right;\n",
       "    }\n",
       "</style>\n",
       "<table border=\"1\" class=\"dataframe\">\n",
       "  <thead>\n",
       "    <tr style=\"text-align: right;\">\n",
       "      <th></th>\n",
       "      <th>emotion_label</th>\n",
       "      <th>source</th>\n",
       "      <th>path</th>\n",
       "    </tr>\n",
       "  </thead>\n",
       "  <tbody>\n",
       "    <tr>\n",
       "      <th>0</th>\n",
       "      <td>angry_male</td>\n",
       "      <td>SAVEE</td>\n",
       "      <td>savee/ALL/DC_a01.wav</td>\n",
       "    </tr>\n",
       "    <tr>\n",
       "      <th>1</th>\n",
       "      <td>angry_male</td>\n",
       "      <td>SAVEE</td>\n",
       "      <td>savee/ALL/DC_a02.wav</td>\n",
       "    </tr>\n",
       "    <tr>\n",
       "      <th>2</th>\n",
       "      <td>angry_male</td>\n",
       "      <td>SAVEE</td>\n",
       "      <td>savee/ALL/DC_a13.wav</td>\n",
       "    </tr>\n",
       "    <tr>\n",
       "      <th>3</th>\n",
       "      <td>angry_male</td>\n",
       "      <td>SAVEE</td>\n",
       "      <td>savee/ALL/DC_a12.wav</td>\n",
       "    </tr>\n",
       "    <tr>\n",
       "      <th>4</th>\n",
       "      <td>angry_male</td>\n",
       "      <td>SAVEE</td>\n",
       "      <td>savee/ALL/DC_a06.wav</td>\n",
       "    </tr>\n",
       "  </tbody>\n",
       "</table>\n",
       "</div>"
      ],
      "text/plain": [
       "  emotion_label source                  path\n",
       "0    angry_male  SAVEE  savee/ALL/DC_a01.wav\n",
       "1    angry_male  SAVEE  savee/ALL/DC_a02.wav\n",
       "2    angry_male  SAVEE  savee/ALL/DC_a13.wav\n",
       "3    angry_male  SAVEE  savee/ALL/DC_a12.wav\n",
       "4    angry_male  SAVEE  savee/ALL/DC_a06.wav"
      ]
     },
     "execution_count": 16,
     "metadata": {
      "tags": []
     },
     "output_type": "execute_result"
    }
   ],
   "source": [
    "SAVEE_df.head()"
   ]
  },
  {
   "cell_type": "markdown",
   "metadata": {
    "id": "Uw0USXLHebZC"
   },
   "source": [
    "### TESS dataset"
   ]
  },
  {
   "cell_type": "code",
   "execution_count": 1,
   "metadata": {
    "colab": {
     "base_uri": "https://localhost:8080/"
    },
    "executionInfo": {
     "elapsed": 291,
     "status": "ok",
     "timestamp": 1628258988352,
     "user": {
      "displayName": "Eleonora Mancini",
      "photoUrl": "https://lh3.googleusercontent.com/a-/AOh14GgGMAKQj5wg21_r-iyQIVVYF436AnA5QQFEsFsFtg=s64",
      "userId": "13827522260918404568"
     },
     "user_tz": -120
    },
    "id": "l3V_CvlNebZC",
    "outputId": "fb6bcc51-4bb2-4fa1-f3aa-134e86d37d57"
   },
   "outputs": [
    {
     "ename": "NameError",
     "evalue": "name 'os' is not defined",
     "output_type": "error",
     "traceback": [
      "\u001b[0;31m---------------------------------------------------------------------------\u001b[0m",
      "\u001b[0;31mNameError\u001b[0m                                 Traceback (most recent call last)",
      "\u001b[0;32m/tmp/ipykernel_3564/1495334195.py\u001b[0m in \u001b[0;36m<module>\u001b[0;34m\u001b[0m\n\u001b[0;32m----> 1\u001b[0;31m \u001b[0mdir_list\u001b[0m \u001b[0;34m=\u001b[0m \u001b[0mos\u001b[0m\u001b[0;34m.\u001b[0m\u001b[0mlistdir\u001b[0m\u001b[0;34m(\u001b[0m\u001b[0mTESS\u001b[0m\u001b[0;34m)\u001b[0m\u001b[0;34m\u001b[0m\u001b[0;34m\u001b[0m\u001b[0m\n\u001b[0m\u001b[1;32m      2\u001b[0m \u001b[0mdir_list\u001b[0m\u001b[0;34m.\u001b[0m\u001b[0msort\u001b[0m\u001b[0;34m(\u001b[0m\u001b[0;34m)\u001b[0m\u001b[0;34m\u001b[0m\u001b[0;34m\u001b[0m\u001b[0m\n\u001b[1;32m      3\u001b[0m \u001b[0mdir_list\u001b[0m\u001b[0;34m\u001b[0m\u001b[0;34m\u001b[0m\u001b[0m\n\u001b[1;32m      4\u001b[0m \u001b[0;34m\u001b[0m\u001b[0m\n\u001b[1;32m      5\u001b[0m \u001b[0mpath\u001b[0m \u001b[0;34m=\u001b[0m \u001b[0;34m[\u001b[0m\u001b[0;34m]\u001b[0m\u001b[0;34m\u001b[0m\u001b[0;34m\u001b[0m\u001b[0m\n",
      "\u001b[0;31mNameError\u001b[0m: name 'os' is not defined"
     ]
    }
   ],
   "source": [
    "dir_list = os.listdir(TESS)\n",
    "dir_list.sort()\n",
    "dir_list\n",
    "\n",
    "path = []\n",
    "emotion = []\n",
    "\n",
    "for i in dir_list:\n",
    "    fname = os.listdir(TESS + i)\n",
    "    for f in fname:\n",
    "        if i == 'OAF_angry' or i == 'YAF_angry':\n",
    "            emotion.append('angry_female')\n",
    "        elif i == 'OAF_disgust' or i == 'YAF_disgust':\n",
    "            emotion.append('disgust_female')\n",
    "        elif i == 'OAF_Fear' or i == 'YAF_fear':\n",
    "            emotion.append('fear_female')\n",
    "        elif i == 'OAF_happy' or i == 'YAF_happy':\n",
    "            emotion.append('happy_female')\n",
    "        elif i == 'OAF_neutral' or i == 'YAF_neutral':\n",
    "            emotion.append('neutral_female')                                \n",
    "        elif i == 'OAF_Pleasant_surprise' or i == 'YAF_pleasant_surprised':\n",
    "            emotion.append('surprise_female')               \n",
    "        elif i == 'OAF_Sad' or i == 'YAF_sad':\n",
    "            emotion.append('sad_female')\n",
    "        else:\n",
    "            emotion.append('Unknown')\n",
    "        path.append(TESS + i + \"/\" + f)\n",
    "\n",
    "TESS_df = pd.DataFrame(emotion, columns = ['emotion_label'])\n",
    "TESS_df['source'] = 'TESS'\n",
    "TESS_df = pd.concat([TESS_df,pd.DataFrame(path, columns = ['path'])],axis=1)\n",
    "TESS_df.emotion_label.value_counts()"
   ]
  },
  {
   "cell_type": "code",
   "execution_count": null,
   "metadata": {
    "id": "pGWjrSiXjPDu"
   },
   "outputs": [],
   "source": [
    "TESS_df= TESS_df[~TESS_df.path.str.contains('noise')]"
   ]
  },
  {
   "cell_type": "code",
   "execution_count": null,
   "metadata": {
    "colab": {
     "base_uri": "https://localhost:8080/",
     "height": 204
    },
    "executionInfo": {
     "elapsed": 17,
     "status": "ok",
     "timestamp": 1628258988356,
     "user": {
      "displayName": "Eleonora Mancini",
      "photoUrl": "https://lh3.googleusercontent.com/a-/AOh14GgGMAKQj5wg21_r-iyQIVVYF436AnA5QQFEsFsFtg=s64",
      "userId": "13827522260918404568"
     },
     "user_tz": -120
    },
    "id": "a-z0575AebZD",
    "outputId": "f55bc67f-445f-4725-8846-0aa312213f81"
   },
   "outputs": [
    {
     "data": {
      "text/html": [
       "<div>\n",
       "<style scoped>\n",
       "    .dataframe tbody tr th:only-of-type {\n",
       "        vertical-align: middle;\n",
       "    }\n",
       "\n",
       "    .dataframe tbody tr th {\n",
       "        vertical-align: top;\n",
       "    }\n",
       "\n",
       "    .dataframe thead th {\n",
       "        text-align: right;\n",
       "    }\n",
       "</style>\n",
       "<table border=\"1\" class=\"dataframe\">\n",
       "  <thead>\n",
       "    <tr style=\"text-align: right;\">\n",
       "      <th></th>\n",
       "      <th>emotion_label</th>\n",
       "      <th>source</th>\n",
       "      <th>path</th>\n",
       "    </tr>\n",
       "  </thead>\n",
       "  <tbody>\n",
       "    <tr>\n",
       "      <th>0</th>\n",
       "      <td>fear_female</td>\n",
       "      <td>TESS</td>\n",
       "      <td>tess/TESS Toronto emotional speech set data/OA...</td>\n",
       "    </tr>\n",
       "    <tr>\n",
       "      <th>1</th>\n",
       "      <td>fear_female</td>\n",
       "      <td>TESS</td>\n",
       "      <td>tess/TESS Toronto emotional speech set data/OA...</td>\n",
       "    </tr>\n",
       "    <tr>\n",
       "      <th>2</th>\n",
       "      <td>fear_female</td>\n",
       "      <td>TESS</td>\n",
       "      <td>tess/TESS Toronto emotional speech set data/OA...</td>\n",
       "    </tr>\n",
       "    <tr>\n",
       "      <th>3</th>\n",
       "      <td>fear_female</td>\n",
       "      <td>TESS</td>\n",
       "      <td>tess/TESS Toronto emotional speech set data/OA...</td>\n",
       "    </tr>\n",
       "    <tr>\n",
       "      <th>4</th>\n",
       "      <td>fear_female</td>\n",
       "      <td>TESS</td>\n",
       "      <td>tess/TESS Toronto emotional speech set data/OA...</td>\n",
       "    </tr>\n",
       "  </tbody>\n",
       "</table>\n",
       "</div>"
      ],
      "text/plain": [
       "  emotion_label source                                               path\n",
       "0   fear_female   TESS  tess/TESS Toronto emotional speech set data/OA...\n",
       "1   fear_female   TESS  tess/TESS Toronto emotional speech set data/OA...\n",
       "2   fear_female   TESS  tess/TESS Toronto emotional speech set data/OA...\n",
       "3   fear_female   TESS  tess/TESS Toronto emotional speech set data/OA...\n",
       "4   fear_female   TESS  tess/TESS Toronto emotional speech set data/OA..."
      ]
     },
     "execution_count": 19,
     "metadata": {
      "tags": []
     },
     "output_type": "execute_result"
    }
   ],
   "source": [
    "TESS_df.head()"
   ]
  },
  {
   "cell_type": "markdown",
   "metadata": {
    "id": "ENPJ68wUebZE"
   },
   "source": [
    "### Combining the datasets:"
   ]
  },
  {
   "cell_type": "code",
   "execution_count": null,
   "metadata": {
    "colab": {
     "base_uri": "https://localhost:8080/",
     "height": 204
    },
    "executionInfo": {
     "elapsed": 17,
     "status": "ok",
     "timestamp": 1628258988357,
     "user": {
      "displayName": "Eleonora Mancini",
      "photoUrl": "https://lh3.googleusercontent.com/a-/AOh14GgGMAKQj5wg21_r-iyQIVVYF436AnA5QQFEsFsFtg=s64",
      "userId": "13827522260918404568"
     },
     "user_tz": -120
    },
    "id": "LtQOqUgdebZE",
    "outputId": "cf15918c-a0a0-476d-cc35-3e9ba66db718"
   },
   "outputs": [
    {
     "data": {
      "text/html": [
       "<div>\n",
       "<style scoped>\n",
       "    .dataframe tbody tr th:only-of-type {\n",
       "        vertical-align: middle;\n",
       "    }\n",
       "\n",
       "    .dataframe tbody tr th {\n",
       "        vertical-align: top;\n",
       "    }\n",
       "\n",
       "    .dataframe thead th {\n",
       "        text-align: right;\n",
       "    }\n",
       "</style>\n",
       "<table border=\"1\" class=\"dataframe\">\n",
       "  <thead>\n",
       "    <tr style=\"text-align: right;\">\n",
       "      <th></th>\n",
       "      <th>emotion_label</th>\n",
       "      <th>source</th>\n",
       "      <th>actors</th>\n",
       "      <th>path</th>\n",
       "    </tr>\n",
       "  </thead>\n",
       "  <tbody>\n",
       "    <tr>\n",
       "      <th>0</th>\n",
       "      <td>calm_male</td>\n",
       "      <td>RAV</td>\n",
       "      <td>male</td>\n",
       "      <td>ravdess-emotional-speech-audio/audio_speech_ac...</td>\n",
       "    </tr>\n",
       "    <tr>\n",
       "      <th>1</th>\n",
       "      <td>angry_male</td>\n",
       "      <td>RAV</td>\n",
       "      <td>male</td>\n",
       "      <td>ravdess-emotional-speech-audio/audio_speech_ac...</td>\n",
       "    </tr>\n",
       "    <tr>\n",
       "      <th>2</th>\n",
       "      <td>happy_male</td>\n",
       "      <td>RAV</td>\n",
       "      <td>male</td>\n",
       "      <td>ravdess-emotional-speech-audio/audio_speech_ac...</td>\n",
       "    </tr>\n",
       "    <tr>\n",
       "      <th>3</th>\n",
       "      <td>sad_male</td>\n",
       "      <td>RAV</td>\n",
       "      <td>male</td>\n",
       "      <td>ravdess-emotional-speech-audio/audio_speech_ac...</td>\n",
       "    </tr>\n",
       "    <tr>\n",
       "      <th>4</th>\n",
       "      <td>angry_male</td>\n",
       "      <td>RAV</td>\n",
       "      <td>male</td>\n",
       "      <td>ravdess-emotional-speech-audio/audio_speech_ac...</td>\n",
       "    </tr>\n",
       "  </tbody>\n",
       "</table>\n",
       "</div>"
      ],
      "text/plain": [
       "  emotion_label  ...                                               path\n",
       "0     calm_male  ...  ravdess-emotional-speech-audio/audio_speech_ac...\n",
       "1    angry_male  ...  ravdess-emotional-speech-audio/audio_speech_ac...\n",
       "2    happy_male  ...  ravdess-emotional-speech-audio/audio_speech_ac...\n",
       "3      sad_male  ...  ravdess-emotional-speech-audio/audio_speech_ac...\n",
       "4    angry_male  ...  ravdess-emotional-speech-audio/audio_speech_ac...\n",
       "\n",
       "[5 rows x 4 columns]"
      ]
     },
     "execution_count": 20,
     "metadata": {
      "tags": []
     },
     "output_type": "execute_result"
    }
   ],
   "source": [
    "RAV_df = df.copy()\n",
    "\n",
    "# only speech\n",
    "RAV_df = RAV_df.loc[RAV_df.voc_channel == 'speech']\n",
    "\n",
    "RAV_df.insert(0, \"emotion_label\", RAV_df.emotion+'_'+RAV_df.actors, True)\n",
    "RAV_df.insert(1, \"source\", \"RAV\", True)\n",
    "RAV_df = RAV_df.drop(['emotion', 'voc_channel', 'modality', 'intensity', 'phrase'], 1)\n",
    "RAV_df.head()"
   ]
  },
  {
   "cell_type": "code",
   "execution_count": null,
   "metadata": {
    "id": "44KAPlu0ebZE"
   },
   "outputs": [],
   "source": [
    "TESS_df.insert(2, \"actors\", \"female\", True)\n",
    "SAVEE_df.insert(2, \"actors\", \"male\", True)"
   ]
  },
  {
   "cell_type": "code",
   "execution_count": null,
   "metadata": {
    "colab": {
     "base_uri": "https://localhost:8080/"
    },
    "executionInfo": {
     "elapsed": 9,
     "status": "ok",
     "timestamp": 1628258989984,
     "user": {
      "displayName": "Eleonora Mancini",
      "photoUrl": "https://lh3.googleusercontent.com/a-/AOh14GgGMAKQj5wg21_r-iyQIVVYF436AnA5QQFEsFsFtg=s64",
      "userId": "13827522260918404568"
     },
     "user_tz": -120
    },
    "id": "tJfi9etGebZF",
    "outputId": "917ce2f9-62e7-4611-90cc-477b45364b10"
   },
   "outputs": [
    {
     "data": {
      "text/plain": [
       "array(['angry_male', 'disgust_male', 'happy_male', 'fear_male',\n",
       "       'neutral_male', 'sad_male', 'surprise_male'], dtype=object)"
      ]
     },
     "execution_count": 22,
     "metadata": {
      "tags": []
     },
     "output_type": "execute_result"
    }
   ],
   "source": [
    "SAVEE_df['emotion_label'].unique()"
   ]
  },
  {
   "cell_type": "code",
   "execution_count": null,
   "metadata": {
    "colab": {
     "base_uri": "https://localhost:8080/"
    },
    "executionInfo": {
     "elapsed": 23,
     "status": "ok",
     "timestamp": 1628258990487,
     "user": {
      "displayName": "Eleonora Mancini",
      "photoUrl": "https://lh3.googleusercontent.com/a-/AOh14GgGMAKQj5wg21_r-iyQIVVYF436AnA5QQFEsFsFtg=s64",
      "userId": "13827522260918404568"
     },
     "user_tz": -120
    },
    "id": "FUrdWDH5ebZF",
    "outputId": "0daaccc3-7328-4b81-b697-4230d27e5876"
   },
   "outputs": [
    {
     "name": "stdout",
     "output_type": "stream",
     "text": [
      "<class 'pandas.core.frame.DataFrame'>\n",
      "Int64Index: 4720 entries, 0 to 479\n",
      "Data columns (total 4 columns):\n",
      " #   Column         Non-Null Count  Dtype \n",
      "---  ------         --------------  ----- \n",
      " 0   emotion_label  4720 non-null   object\n",
      " 1   source         4720 non-null   object\n",
      " 2   actors         4720 non-null   object\n",
      " 3   path           4720 non-null   object\n",
      "dtypes: object(4)\n",
      "memory usage: 184.4+ KB\n"
     ]
    }
   ],
   "source": [
    "df_combined = pd.concat([TESS_df, RAV_df, SAVEE_df])\n",
    "df_combined.info()"
   ]
  },
  {
   "cell_type": "code",
   "execution_count": null,
   "metadata": {
    "colab": {
     "base_uri": "https://localhost:8080/"
    },
    "executionInfo": {
     "elapsed": 6,
     "status": "ok",
     "timestamp": 1628258991144,
     "user": {
      "displayName": "Eleonora Mancini",
      "photoUrl": "https://lh3.googleusercontent.com/a-/AOh14GgGMAKQj5wg21_r-iyQIVVYF436AnA5QQFEsFsFtg=s64",
      "userId": "13827522260918404568"
     },
     "user_tz": -120
    },
    "id": "uSXRMWp8ebZG",
    "outputId": "e72a7431-afae-4c2f-d217-d5480955319b"
   },
   "outputs": [
    {
     "name": "stdout",
     "output_type": "stream",
     "text": [
      "\n",
      "Column values for  EMOTION_LABEL\n",
      "angry_female        496\n",
      "happy_female        496\n",
      "disgust_female      496\n",
      "sad_female          496\n",
      "neutral_female      448\n",
      "fear_female         400\n",
      "surprise_female     400\n",
      "neutral_male        168\n",
      "disgust_male        156\n",
      "sad_male            156\n",
      "happy_male          156\n",
      "angry_male          156\n",
      "calm_female          96\n",
      "fearful_female       96\n",
      "fearful_male         96\n",
      "calm_male            96\n",
      "surprised_male       96\n",
      "surprised_female     96\n",
      "surprise_male        60\n",
      "fear_male            60\n",
      "Name: emotion_label, dtype: int64\n",
      "\n",
      "Column values for  SOURCE\n",
      "TESS     2800\n",
      "RAV      1440\n",
      "SAVEE     480\n",
      "Name: source, dtype: int64\n",
      "\n",
      "Column values for  ACTORS\n",
      "female    3520\n",
      "male      1200\n",
      "Name: actors, dtype: int64\n"
     ]
    }
   ],
   "source": [
    "for col in ['emotion_label', 'source', 'actors']:\n",
    "    print('\\nColumn values for ', col.upper())\n",
    "    print(df_combined[col].value_counts())"
   ]
  },
  {
   "cell_type": "code",
   "execution_count": null,
   "metadata": {
    "colab": {
     "base_uri": "https://localhost:8080/",
     "height": 204
    },
    "executionInfo": {
     "elapsed": 10,
     "status": "ok",
     "timestamp": 1628258991929,
     "user": {
      "displayName": "Eleonora Mancini",
      "photoUrl": "https://lh3.googleusercontent.com/a-/AOh14GgGMAKQj5wg21_r-iyQIVVYF436AnA5QQFEsFsFtg=s64",
      "userId": "13827522260918404568"
     },
     "user_tz": -120
    },
    "id": "1cNWVFRfebZG",
    "outputId": "13b40e51-7211-447d-b83b-c393e37f5156"
   },
   "outputs": [
    {
     "data": {
      "text/html": [
       "<div>\n",
       "<style scoped>\n",
       "    .dataframe tbody tr th:only-of-type {\n",
       "        vertical-align: middle;\n",
       "    }\n",
       "\n",
       "    .dataframe tbody tr th {\n",
       "        vertical-align: top;\n",
       "    }\n",
       "\n",
       "    .dataframe thead th {\n",
       "        text-align: right;\n",
       "    }\n",
       "</style>\n",
       "<table border=\"1\" class=\"dataframe\">\n",
       "  <thead>\n",
       "    <tr style=\"text-align: right;\">\n",
       "      <th></th>\n",
       "      <th>emotion_label</th>\n",
       "      <th>source</th>\n",
       "      <th>actors</th>\n",
       "      <th>path</th>\n",
       "      <th>emotion2</th>\n",
       "    </tr>\n",
       "  </thead>\n",
       "  <tbody>\n",
       "    <tr>\n",
       "      <th>0</th>\n",
       "      <td>fear_female</td>\n",
       "      <td>TESS</td>\n",
       "      <td>female</td>\n",
       "      <td>tess/TESS Toronto emotional speech set data/OA...</td>\n",
       "      <td>negative_female</td>\n",
       "    </tr>\n",
       "    <tr>\n",
       "      <th>1</th>\n",
       "      <td>fear_female</td>\n",
       "      <td>TESS</td>\n",
       "      <td>female</td>\n",
       "      <td>tess/TESS Toronto emotional speech set data/OA...</td>\n",
       "      <td>negative_female</td>\n",
       "    </tr>\n",
       "    <tr>\n",
       "      <th>2</th>\n",
       "      <td>fear_female</td>\n",
       "      <td>TESS</td>\n",
       "      <td>female</td>\n",
       "      <td>tess/TESS Toronto emotional speech set data/OA...</td>\n",
       "      <td>negative_female</td>\n",
       "    </tr>\n",
       "    <tr>\n",
       "      <th>3</th>\n",
       "      <td>fear_female</td>\n",
       "      <td>TESS</td>\n",
       "      <td>female</td>\n",
       "      <td>tess/TESS Toronto emotional speech set data/OA...</td>\n",
       "      <td>negative_female</td>\n",
       "    </tr>\n",
       "    <tr>\n",
       "      <th>4</th>\n",
       "      <td>fear_female</td>\n",
       "      <td>TESS</td>\n",
       "      <td>female</td>\n",
       "      <td>tess/TESS Toronto emotional speech set data/OA...</td>\n",
       "      <td>negative_female</td>\n",
       "    </tr>\n",
       "  </tbody>\n",
       "</table>\n",
       "</div>"
      ],
      "text/plain": [
       "  emotion_label  ...         emotion2\n",
       "0   fear_female  ...  negative_female\n",
       "1   fear_female  ...  negative_female\n",
       "2   fear_female  ...  negative_female\n",
       "3   fear_female  ...  negative_female\n",
       "4   fear_female  ...  negative_female\n",
       "\n",
       "[5 rows x 5 columns]"
      ]
     },
     "execution_count": 25,
     "metadata": {
      "tags": []
     },
     "output_type": "execute_result"
    }
   ],
   "source": [
    "new_labels_dict_comb = {'angry_male':'negative_male', 'angry_female':'negative_female', \n",
    "                        'calm_male':'neutral_male', 'calm_female':'neutral_female',\n",
    "                        'disgust_male':'negative_male', 'disgust_female':'negative_female', \n",
    "                        'fearful_male':'negative_male','fearful_female':'negative_female',\n",
    "                        'fear_male':'negative_male', 'fear_female':'negative_female',\n",
    "                        'happy_male':'positive_male', 'happy_female':'positive_female',\n",
    "                        'neutral_male':'neutral_male', 'neutral_female':'neutral_female',\n",
    "                        'sad_male':'negative_male', 'sad_female':'negative_female',\n",
    "                        'surprised_male':'positive_male', 'surprised_female':'positive_female',\n",
    "                        'surprise_male':'positive_male', 'surprise_female':'positive_female',\n",
    "                        'Unknown': 'unk'}\n",
    "\n",
    "df_combined['emotion2'] = df_combined['emotion_label'].map(new_labels_dict_comb)\n",
    "df_combined.head()"
   ]
  },
  {
   "cell_type": "code",
   "execution_count": null,
   "metadata": {
    "colab": {
     "base_uri": "https://localhost:8080/",
     "height": 204
    },
    "executionInfo": {
     "elapsed": 376,
     "status": "ok",
     "timestamp": 1628258993165,
     "user": {
      "displayName": "Eleonora Mancini",
      "photoUrl": "https://lh3.googleusercontent.com/a-/AOh14GgGMAKQj5wg21_r-iyQIVVYF436AnA5QQFEsFsFtg=s64",
      "userId": "13827522260918404568"
     },
     "user_tz": -120
    },
    "id": "fXj3uKqrebZH",
    "outputId": "c96a9e93-a884-4d88-d6bc-22402232a2a6"
   },
   "outputs": [
    {
     "data": {
      "text/html": [
       "<div>\n",
       "<style scoped>\n",
       "    .dataframe tbody tr th:only-of-type {\n",
       "        vertical-align: middle;\n",
       "    }\n",
       "\n",
       "    .dataframe tbody tr th {\n",
       "        vertical-align: top;\n",
       "    }\n",
       "\n",
       "    .dataframe thead th {\n",
       "        text-align: right;\n",
       "    }\n",
       "</style>\n",
       "<table border=\"1\" class=\"dataframe\">\n",
       "  <thead>\n",
       "    <tr style=\"text-align: right;\">\n",
       "      <th></th>\n",
       "      <th>emotion_label</th>\n",
       "      <th>source</th>\n",
       "      <th>actors</th>\n",
       "      <th>path</th>\n",
       "      <th>emotion2</th>\n",
       "      <th>emotion3</th>\n",
       "    </tr>\n",
       "  </thead>\n",
       "  <tbody>\n",
       "    <tr>\n",
       "      <th>0</th>\n",
       "      <td>fear_female</td>\n",
       "      <td>TESS</td>\n",
       "      <td>female</td>\n",
       "      <td>tess/TESS Toronto emotional speech set data/OA...</td>\n",
       "      <td>negative_female</td>\n",
       "      <td>fear</td>\n",
       "    </tr>\n",
       "    <tr>\n",
       "      <th>1</th>\n",
       "      <td>fear_female</td>\n",
       "      <td>TESS</td>\n",
       "      <td>female</td>\n",
       "      <td>tess/TESS Toronto emotional speech set data/OA...</td>\n",
       "      <td>negative_female</td>\n",
       "      <td>fear</td>\n",
       "    </tr>\n",
       "    <tr>\n",
       "      <th>2</th>\n",
       "      <td>fear_female</td>\n",
       "      <td>TESS</td>\n",
       "      <td>female</td>\n",
       "      <td>tess/TESS Toronto emotional speech set data/OA...</td>\n",
       "      <td>negative_female</td>\n",
       "      <td>fear</td>\n",
       "    </tr>\n",
       "    <tr>\n",
       "      <th>3</th>\n",
       "      <td>fear_female</td>\n",
       "      <td>TESS</td>\n",
       "      <td>female</td>\n",
       "      <td>tess/TESS Toronto emotional speech set data/OA...</td>\n",
       "      <td>negative_female</td>\n",
       "      <td>fear</td>\n",
       "    </tr>\n",
       "    <tr>\n",
       "      <th>4</th>\n",
       "      <td>fear_female</td>\n",
       "      <td>TESS</td>\n",
       "      <td>female</td>\n",
       "      <td>tess/TESS Toronto emotional speech set data/OA...</td>\n",
       "      <td>negative_female</td>\n",
       "      <td>fear</td>\n",
       "    </tr>\n",
       "  </tbody>\n",
       "</table>\n",
       "</div>"
      ],
      "text/plain": [
       "  emotion_label source  ...         emotion2 emotion3\n",
       "0   fear_female   TESS  ...  negative_female     fear\n",
       "1   fear_female   TESS  ...  negative_female     fear\n",
       "2   fear_female   TESS  ...  negative_female     fear\n",
       "3   fear_female   TESS  ...  negative_female     fear\n",
       "4   fear_female   TESS  ...  negative_female     fear\n",
       "\n",
       "[5 rows x 6 columns]"
      ]
     },
     "execution_count": 26,
     "metadata": {
      "tags": []
     },
     "output_type": "execute_result"
    }
   ],
   "source": [
    "addit_labels_dict_comb = {'angry_male':'angry', 'angry_female':'angry', \n",
    "                        'calm_male':'neutral', 'calm_female':'neutral',\n",
    "                        'disgust_male':'negative', 'disgust_female':'negative', \n",
    "                        'fearful_male':'fear','fearful_female':'fear',\n",
    "                        'fear_male':'fear', 'fear_female':'fear',\n",
    "                        'happy_male':'positive', 'happy_female':'positive',\n",
    "                        'neutral_male':'neutral', 'neutral_female':'neutral',\n",
    "                        'sad_male':'sadness', 'sad_female':'sadness',\n",
    "                        'surprised_male':'surprise', 'surprised_female':'surprise',\n",
    "                        'surprise_male':'surprise', 'surprise_female':'surprise',\n",
    "                        'Unknown': 'unk'}\n",
    "\n",
    "df_combined['emotion3'] = df_combined['emotion_label'].map(addit_labels_dict_comb)\n",
    "df_combined.head()"
   ]
  },
  {
   "cell_type": "code",
   "execution_count": null,
   "metadata": {
    "colab": {
     "base_uri": "https://localhost:8080/"
    },
    "executionInfo": {
     "elapsed": 14,
     "status": "ok",
     "timestamp": 1628258993166,
     "user": {
      "displayName": "Eleonora Mancini",
      "photoUrl": "https://lh3.googleusercontent.com/a-/AOh14GgGMAKQj5wg21_r-iyQIVVYF436AnA5QQFEsFsFtg=s64",
      "userId": "13827522260918404568"
     },
     "user_tz": -120
    },
    "id": "kD8WL-vcebZH",
    "outputId": "d24d79b4-7149-494f-ea8a-0d9004a97616"
   },
   "outputs": [
    {
     "data": {
      "text/plain": [
       "negative_female    1984\n",
       "positive_female     992\n",
       "negative_male       624\n",
       "neutral_female      544\n",
       "positive_male       312\n",
       "neutral_male        264\n",
       "Name: emotion2, dtype: int64"
      ]
     },
     "execution_count": 27,
     "metadata": {
      "tags": []
     },
     "output_type": "execute_result"
    }
   ],
   "source": [
    "df_combined.emotion2.value_counts()"
   ]
  },
  {
   "cell_type": "code",
   "execution_count": null,
   "metadata": {
    "colab": {
     "base_uri": "https://localhost:8080/"
    },
    "executionInfo": {
     "elapsed": 4,
     "status": "ok",
     "timestamp": 1628258994363,
     "user": {
      "displayName": "Eleonora Mancini",
      "photoUrl": "https://lh3.googleusercontent.com/a-/AOh14GgGMAKQj5wg21_r-iyQIVVYF436AnA5QQFEsFsFtg=s64",
      "userId": "13827522260918404568"
     },
     "user_tz": -120
    },
    "id": "_ieIiwUJebZI",
    "outputId": "65e0345b-2d5c-4a04-ac6d-731ed35c9c01"
   },
   "outputs": [
    {
     "data": {
      "text/plain": [
       "neutral     808\n",
       "fear        652\n",
       "sadness     652\n",
       "surprise    652\n",
       "angry       652\n",
       "positive    652\n",
       "negative    652\n",
       "Name: emotion3, dtype: int64"
      ]
     },
     "execution_count": 28,
     "metadata": {
      "tags": []
     },
     "output_type": "execute_result"
    }
   ],
   "source": [
    "df_combined.emotion3.value_counts()"
   ]
  },
  {
   "cell_type": "code",
   "execution_count": null,
   "metadata": {
    "id": "v_dj1zPEebZI"
   },
   "outputs": [],
   "source": [
    "df_combined = df_combined.loc[df_combined['emotion2'] != 'unk']"
   ]
  },
  {
   "cell_type": "markdown",
   "metadata": {
    "id": "JKnR-kJXebZI"
   },
   "source": [
    "### Save the data:"
   ]
  },
  {
   "cell_type": "code",
   "execution_count": null,
   "metadata": {
    "colab": {
     "base_uri": "https://localhost:8080/"
    },
    "executionInfo": {
     "elapsed": 4511,
     "status": "ok",
     "timestamp": 1628258815720,
     "user": {
      "displayName": "Eleonora Mancini",
      "photoUrl": "https://lh3.googleusercontent.com/a-/AOh14GgGMAKQj5wg21_r-iyQIVVYF436AnA5QQFEsFsFtg=s64",
      "userId": "13827522260918404568"
     },
     "user_tz": -120
    },
    "id": "BqfmIFr1f4Vg",
    "outputId": "17aba248-658e-4920-820b-3b1955fc26cb"
   },
   "outputs": [
    {
     "name": "stdout",
     "output_type": "stream",
     "text": [
      "Collecting fsspec\n",
      "  Downloading fsspec-2021.7.0-py3-none-any.whl (118 kB)\n",
      "\u001b[K     |████████████████████████████████| 118 kB 29.0 MB/s eta 0:00:01\n",
      "\u001b[?25hInstalling collected packages: fsspec\n",
      "Successfully installed fsspec-2021.7.0\n"
     ]
    }
   ],
   "source": [
    "pip install fsspec"
   ]
  },
  {
   "cell_type": "code",
   "execution_count": null,
   "metadata": {
    "id": "PAEQYoMdebZM"
   },
   "outputs": [],
   "source": [
    "df_combined.to_csv(os.path.join(main_path,\"combined.csv\"), index=False)"
   ]
  },
  {
   "cell_type": "markdown",
   "metadata": {
    "id": "sEYD_m-CebZM"
   },
   "source": [
    "### (Using the combined DF, MFCC's and column 'emotion2' as target)"
   ]
  },
  {
   "cell_type": "code",
   "execution_count": null,
   "metadata": {
    "colab": {
     "base_uri": "https://localhost:8080/"
    },
    "executionInfo": {
     "elapsed": 375,
     "status": "ok",
     "timestamp": 1628258858469,
     "user": {
      "displayName": "Eleonora Mancini",
      "photoUrl": "https://lh3.googleusercontent.com/a-/AOh14GgGMAKQj5wg21_r-iyQIVVYF436AnA5QQFEsFsFtg=s64",
      "userId": "13827522260918404568"
     },
     "user_tz": -120
    },
    "id": "f3q2e_E1ymf_",
    "outputId": "f4746525-9ee3-41fe-fd30-ed5fa37e8d56"
   },
   "outputs": [
    {
     "name": "stdout",
     "output_type": "stream",
     "text": [
      " autoencoder.hdf5\n",
      " Autoencoder.ipynb\n",
      " binary.hdf5\n",
      " binary_scaled_augmented_CHANGE_ORDER.hdf5\n",
      " binary_scaled_augmented.hdf5\n",
      " binary_scaled.hdf5\n",
      " Conv1D_Binary.ipynb\n",
      " Conv1D_multiclass.ipynb\n",
      " \u001b[0m\u001b[01;34mD:\u001b[0m/\n",
      " \u001b[01;34memodb\u001b[0m/\n",
      " mfccs2.pickle\n",
      " mfccs2_without_replications.pickle\n",
      " mfccs_aug.pickle\n",
      " mfccs_aug_without_replicates.pickle\n",
      " mfccs_aug_without_replicates_pn_CHANGE_ORDER.pickle\n",
      " mfccs_aug_without_replicates_pn.pickle\n",
      " mfccs.pickle\n",
      " model3.h5\n",
      " \u001b[01;34mmulticlass_model_scaled\u001b[0m/\n",
      " \u001b[01;34mmulticlass_model_scaled_without_replications\u001b[0m/\n",
      " \u001b[01;34mmulticlass_model_scaled_without_replications_augmented\u001b[0m/\n",
      " \u001b[01;34mmulticlass_model_scaled_without_replications_augmented_pn\u001b[0m/\n",
      " \u001b[01;34mmulticlass_model_scaled_without_replications_augmented_pn_CHANGE_ORDER\u001b[0m/\n",
      " multiclass_scaled.hdf5\n",
      " multiclass_scaled_without_replication_augmented.hdf5\n",
      " multiclass_scaled_without_replication_augmented_pn_CHANGE_ORDER.hdf5\n",
      " multiclass_scaled_without_replication_augmented_pn.hdf5\n",
      " multiclass_scaled_without_replication.hdf5\n",
      " \u001b[01;34mmy_model\u001b[0m/\n",
      " \u001b[01;34mmy_model_binary\u001b[0m/\n",
      " \u001b[01;34mmy_model_binary_scaled\u001b[0m/\n",
      " \u001b[01;34mmy_model_binary_scaled_pn\u001b[0m/\n",
      " \u001b[01;34mmy_model_binary_scaled_pn_CHANGE_ORDER\u001b[0m/\n",
      " \u001b[01;34mravdess-emotional-speech-audio\u001b[0m/\n",
      " recomputed_weights.hdf5\n",
      " \u001b[01;34msavee\u001b[0m/\n",
      " \u001b[01;34mspeech\u001b[0m/\n",
      " \u001b[01;34mtess\u001b[0m/\n",
      "\u001b[01;34m'tess toronto emotional speech set data'\u001b[0m/\n",
      " transfer_learning.hdf5\n",
      " y2.pickle\n",
      " y2_without_replications.pickle\n",
      " y_aug.pickle\n",
      " y_aug_without_replicates.pickle\n",
      " y_aug_without_replicates_pn_CHANGE_ORDER.pickle\n",
      " y_aug_without_replicates_pn.pickle\n",
      " y.pickle\n"
     ]
    }
   ],
   "source": [
    "%ls"
   ]
  },
  {
   "cell_type": "code",
   "execution_count": null,
   "metadata": {
    "colab": {
     "base_uri": "https://localhost:8080/",
     "height": 443
    },
    "executionInfo": {
     "elapsed": 252,
     "status": "error",
     "timestamp": 1628258845430,
     "user": {
      "displayName": "Eleonora Mancini",
      "photoUrl": "https://lh3.googleusercontent.com/a-/AOh14GgGMAKQj5wg21_r-iyQIVVYF436AnA5QQFEsFsFtg=s64",
      "userId": "13827522260918404568"
     },
     "user_tz": -120
    },
    "id": "0OTBoTD9ebZM",
    "outputId": "57ed94e3-f529-4345-fe21-dde313923af3"
   },
   "outputs": [
    {
     "ename": "FileNotFoundError",
     "evalue": "ignored",
     "output_type": "error",
     "traceback": [
      "\u001b[0;31m---------------------------------------------------------------------------\u001b[0m",
      "\u001b[0;31mFileNotFoundError\u001b[0m                         Traceback (most recent call last)",
      "\u001b[0;32m<ipython-input-8-ef2dedd83919>\u001b[0m in \u001b[0;36m<module>\u001b[0;34m()\u001b[0m\n\u001b[1;32m     11\u001b[0m \u001b[0;31m#     pickle.dump(mfccs, f)\u001b[0m\u001b[0;34m\u001b[0m\u001b[0;34m\u001b[0m\u001b[0;34m\u001b[0m\u001b[0m\n\u001b[1;32m     12\u001b[0m \u001b[0;34m\u001b[0m\u001b[0m\n\u001b[0;32m---> 13\u001b[0;31m \u001b[0mmydf\u001b[0m \u001b[0;34m=\u001b[0m \u001b[0mpd\u001b[0m\u001b[0;34m.\u001b[0m\u001b[0mread_csv\u001b[0m\u001b[0;34m(\u001b[0m\u001b[0mdf_path\u001b[0m\u001b[0;34m)\u001b[0m\u001b[0;34m\u001b[0m\u001b[0;34m\u001b[0m\u001b[0m\n\u001b[0m\u001b[1;32m     14\u001b[0m \u001b[0;34m\u001b[0m\u001b[0m\n\u001b[1;32m     15\u001b[0m \u001b[0;31m# with open(mfccs_path, 'rb') as f:\u001b[0m\u001b[0;34m\u001b[0m\u001b[0;34m\u001b[0m\u001b[0;34m\u001b[0m\u001b[0m\n",
      "\u001b[0;32m/usr/local/lib/python3.7/dist-packages/pandas/io/parsers.py\u001b[0m in \u001b[0;36mread_csv\u001b[0;34m(filepath_or_buffer, sep, delimiter, header, names, index_col, usecols, squeeze, prefix, mangle_dupe_cols, dtype, engine, converters, true_values, false_values, skipinitialspace, skiprows, skipfooter, nrows, na_values, keep_default_na, na_filter, verbose, skip_blank_lines, parse_dates, infer_datetime_format, keep_date_col, date_parser, dayfirst, cache_dates, iterator, chunksize, compression, thousands, decimal, lineterminator, quotechar, quoting, doublequote, escapechar, comment, encoding, dialect, error_bad_lines, warn_bad_lines, delim_whitespace, low_memory, memory_map, float_precision)\u001b[0m\n\u001b[1;32m    686\u001b[0m     )\n\u001b[1;32m    687\u001b[0m \u001b[0;34m\u001b[0m\u001b[0m\n\u001b[0;32m--> 688\u001b[0;31m     \u001b[0;32mreturn\u001b[0m \u001b[0m_read\u001b[0m\u001b[0;34m(\u001b[0m\u001b[0mfilepath_or_buffer\u001b[0m\u001b[0;34m,\u001b[0m \u001b[0mkwds\u001b[0m\u001b[0;34m)\u001b[0m\u001b[0;34m\u001b[0m\u001b[0;34m\u001b[0m\u001b[0m\n\u001b[0m\u001b[1;32m    689\u001b[0m \u001b[0;34m\u001b[0m\u001b[0m\n\u001b[1;32m    690\u001b[0m \u001b[0;34m\u001b[0m\u001b[0m\n",
      "\u001b[0;32m/usr/local/lib/python3.7/dist-packages/pandas/io/parsers.py\u001b[0m in \u001b[0;36m_read\u001b[0;34m(filepath_or_buffer, kwds)\u001b[0m\n\u001b[1;32m    452\u001b[0m \u001b[0;34m\u001b[0m\u001b[0m\n\u001b[1;32m    453\u001b[0m     \u001b[0;31m# Create the parser.\u001b[0m\u001b[0;34m\u001b[0m\u001b[0;34m\u001b[0m\u001b[0;34m\u001b[0m\u001b[0m\n\u001b[0;32m--> 454\u001b[0;31m     \u001b[0mparser\u001b[0m \u001b[0;34m=\u001b[0m \u001b[0mTextFileReader\u001b[0m\u001b[0;34m(\u001b[0m\u001b[0mfp_or_buf\u001b[0m\u001b[0;34m,\u001b[0m \u001b[0;34m**\u001b[0m\u001b[0mkwds\u001b[0m\u001b[0;34m)\u001b[0m\u001b[0;34m\u001b[0m\u001b[0;34m\u001b[0m\u001b[0m\n\u001b[0m\u001b[1;32m    455\u001b[0m \u001b[0;34m\u001b[0m\u001b[0m\n\u001b[1;32m    456\u001b[0m     \u001b[0;32mif\u001b[0m \u001b[0mchunksize\u001b[0m \u001b[0;32mor\u001b[0m \u001b[0miterator\u001b[0m\u001b[0;34m:\u001b[0m\u001b[0;34m\u001b[0m\u001b[0;34m\u001b[0m\u001b[0m\n",
      "\u001b[0;32m/usr/local/lib/python3.7/dist-packages/pandas/io/parsers.py\u001b[0m in \u001b[0;36m__init__\u001b[0;34m(self, f, engine, **kwds)\u001b[0m\n\u001b[1;32m    946\u001b[0m             \u001b[0mself\u001b[0m\u001b[0;34m.\u001b[0m\u001b[0moptions\u001b[0m\u001b[0;34m[\u001b[0m\u001b[0;34m\"has_index_names\"\u001b[0m\u001b[0;34m]\u001b[0m \u001b[0;34m=\u001b[0m \u001b[0mkwds\u001b[0m\u001b[0;34m[\u001b[0m\u001b[0;34m\"has_index_names\"\u001b[0m\u001b[0;34m]\u001b[0m\u001b[0;34m\u001b[0m\u001b[0;34m\u001b[0m\u001b[0m\n\u001b[1;32m    947\u001b[0m \u001b[0;34m\u001b[0m\u001b[0m\n\u001b[0;32m--> 948\u001b[0;31m         \u001b[0mself\u001b[0m\u001b[0;34m.\u001b[0m\u001b[0m_make_engine\u001b[0m\u001b[0;34m(\u001b[0m\u001b[0mself\u001b[0m\u001b[0;34m.\u001b[0m\u001b[0mengine\u001b[0m\u001b[0;34m)\u001b[0m\u001b[0;34m\u001b[0m\u001b[0;34m\u001b[0m\u001b[0m\n\u001b[0m\u001b[1;32m    949\u001b[0m \u001b[0;34m\u001b[0m\u001b[0m\n\u001b[1;32m    950\u001b[0m     \u001b[0;32mdef\u001b[0m \u001b[0mclose\u001b[0m\u001b[0;34m(\u001b[0m\u001b[0mself\u001b[0m\u001b[0;34m)\u001b[0m\u001b[0;34m:\u001b[0m\u001b[0;34m\u001b[0m\u001b[0;34m\u001b[0m\u001b[0m\n",
      "\u001b[0;32m/usr/local/lib/python3.7/dist-packages/pandas/io/parsers.py\u001b[0m in \u001b[0;36m_make_engine\u001b[0;34m(self, engine)\u001b[0m\n\u001b[1;32m   1178\u001b[0m     \u001b[0;32mdef\u001b[0m \u001b[0m_make_engine\u001b[0m\u001b[0;34m(\u001b[0m\u001b[0mself\u001b[0m\u001b[0;34m,\u001b[0m \u001b[0mengine\u001b[0m\u001b[0;34m=\u001b[0m\u001b[0;34m\"c\"\u001b[0m\u001b[0;34m)\u001b[0m\u001b[0;34m:\u001b[0m\u001b[0;34m\u001b[0m\u001b[0;34m\u001b[0m\u001b[0m\n\u001b[1;32m   1179\u001b[0m         \u001b[0;32mif\u001b[0m \u001b[0mengine\u001b[0m \u001b[0;34m==\u001b[0m \u001b[0;34m\"c\"\u001b[0m\u001b[0;34m:\u001b[0m\u001b[0;34m\u001b[0m\u001b[0;34m\u001b[0m\u001b[0m\n\u001b[0;32m-> 1180\u001b[0;31m             \u001b[0mself\u001b[0m\u001b[0;34m.\u001b[0m\u001b[0m_engine\u001b[0m \u001b[0;34m=\u001b[0m \u001b[0mCParserWrapper\u001b[0m\u001b[0;34m(\u001b[0m\u001b[0mself\u001b[0m\u001b[0;34m.\u001b[0m\u001b[0mf\u001b[0m\u001b[0;34m,\u001b[0m \u001b[0;34m**\u001b[0m\u001b[0mself\u001b[0m\u001b[0;34m.\u001b[0m\u001b[0moptions\u001b[0m\u001b[0;34m)\u001b[0m\u001b[0;34m\u001b[0m\u001b[0;34m\u001b[0m\u001b[0m\n\u001b[0m\u001b[1;32m   1181\u001b[0m         \u001b[0;32melse\u001b[0m\u001b[0;34m:\u001b[0m\u001b[0;34m\u001b[0m\u001b[0;34m\u001b[0m\u001b[0m\n\u001b[1;32m   1182\u001b[0m             \u001b[0;32mif\u001b[0m \u001b[0mengine\u001b[0m \u001b[0;34m==\u001b[0m \u001b[0;34m\"python\"\u001b[0m\u001b[0;34m:\u001b[0m\u001b[0;34m\u001b[0m\u001b[0;34m\u001b[0m\u001b[0m\n",
      "\u001b[0;32m/usr/local/lib/python3.7/dist-packages/pandas/io/parsers.py\u001b[0m in \u001b[0;36m__init__\u001b[0;34m(self, src, **kwds)\u001b[0m\n\u001b[1;32m   2008\u001b[0m         \u001b[0mkwds\u001b[0m\u001b[0;34m[\u001b[0m\u001b[0;34m\"usecols\"\u001b[0m\u001b[0;34m]\u001b[0m \u001b[0;34m=\u001b[0m \u001b[0mself\u001b[0m\u001b[0;34m.\u001b[0m\u001b[0musecols\u001b[0m\u001b[0;34m\u001b[0m\u001b[0;34m\u001b[0m\u001b[0m\n\u001b[1;32m   2009\u001b[0m \u001b[0;34m\u001b[0m\u001b[0m\n\u001b[0;32m-> 2010\u001b[0;31m         \u001b[0mself\u001b[0m\u001b[0;34m.\u001b[0m\u001b[0m_reader\u001b[0m \u001b[0;34m=\u001b[0m \u001b[0mparsers\u001b[0m\u001b[0;34m.\u001b[0m\u001b[0mTextReader\u001b[0m\u001b[0;34m(\u001b[0m\u001b[0msrc\u001b[0m\u001b[0;34m,\u001b[0m \u001b[0;34m**\u001b[0m\u001b[0mkwds\u001b[0m\u001b[0;34m)\u001b[0m\u001b[0;34m\u001b[0m\u001b[0;34m\u001b[0m\u001b[0m\n\u001b[0m\u001b[1;32m   2011\u001b[0m         \u001b[0mself\u001b[0m\u001b[0;34m.\u001b[0m\u001b[0munnamed_cols\u001b[0m \u001b[0;34m=\u001b[0m \u001b[0mself\u001b[0m\u001b[0;34m.\u001b[0m\u001b[0m_reader\u001b[0m\u001b[0;34m.\u001b[0m\u001b[0munnamed_cols\u001b[0m\u001b[0;34m\u001b[0m\u001b[0;34m\u001b[0m\u001b[0m\n\u001b[1;32m   2012\u001b[0m \u001b[0;34m\u001b[0m\u001b[0m\n",
      "\u001b[0;32mpandas/_libs/parsers.pyx\u001b[0m in \u001b[0;36mpandas._libs.parsers.TextReader.__cinit__\u001b[0;34m()\u001b[0m\n",
      "\u001b[0;32mpandas/_libs/parsers.pyx\u001b[0m in \u001b[0;36mpandas._libs.parsers.TextReader._setup_parser_source\u001b[0;34m()\u001b[0m\n",
      "\u001b[0;31mFileNotFoundError\u001b[0m: [Errno 2] No such file or directory: 'combined.csv'"
     ]
    }
   ],
   "source": [
    "import pickle\n",
    "\n",
    "df_path = 'combined.csv'\n",
    "# mfccs_path = 'd://itc//final_project//mfccs.pickle'\n",
    "# new_y_path = 'd://itc//final_project//y.pickle'\n",
    "\n",
    "# with open('d://downloads//y.pickle', 'wb') as f:\n",
    "#     pickle.dump(new_y, f)\n",
    "    \n",
    "# with open('d://downloads//mfccs.pickle', 'wb') as f:\n",
    "#     pickle.dump(mfccs, f)\n",
    "\n",
    "mydf = pd.read_csv(df_path)\n",
    "\n",
    "# with open(mfccs_path, 'rb') as f:\n",
    "#     mfccs = pickle.load(f)\n",
    "\n",
    "# with open(new_y_path, 'rb') as f:\n",
    "#     new_y = pickle.load(f)"
   ]
  },
  {
   "cell_type": "markdown",
   "metadata": {
    "id": "tQpVZWWwebZd"
   },
   "source": [
    "# Conv Model"
   ]
  },
  {
   "cell_type": "markdown",
   "metadata": {
    "id": "kRMUPz9TebZ9"
   },
   "source": [
    "## Feature Extraction"
   ]
  },
  {
   "cell_type": "markdown",
   "metadata": {
    "id": "27K1uDBjJoVN"
   },
   "source": [
    "### Normal"
   ]
  },
  {
   "cell_type": "code",
   "execution_count": null,
   "metadata": {
    "colab": {
     "base_uri": "https://localhost:8080/"
    },
    "executionInfo": {
     "elapsed": 252,
     "status": "ok",
     "timestamp": 1628163529563,
     "user": {
      "displayName": "Eleonora Mancini",
      "photoUrl": "https://lh3.googleusercontent.com/a-/AOh14GgGMAKQj5wg21_r-iyQIVVYF436AnA5QQFEsFsFtg=s64",
      "userId": "13827522260918404568"
     },
     "user_tz": -120
    },
    "id": "fyc8qFBhebZ9",
    "outputId": "5ee6a17d-85dd-4818-ebcb-4e2bb85a149c"
   },
   "outputs": [
    {
     "data": {
      "text/plain": [
       "array(['fear', 'surprise', 'sadness', 'angry', 'negative', 'positive',\n",
       "       'neutral'], dtype=object)"
      ]
     },
     "execution_count": 48,
     "metadata": {
      "tags": []
     },
     "output_type": "execute_result"
    }
   ],
   "source": [
    "mydf['emotion3'].unique()"
   ]
  },
  {
   "cell_type": "code",
   "execution_count": null,
   "metadata": {
    "colab": {
     "base_uri": "https://localhost:8080/",
     "height": 281
    },
    "executionInfo": {
     "elapsed": 254,
     "status": "ok",
     "timestamp": 1628163531143,
     "user": {
      "displayName": "Eleonora Mancini",
      "photoUrl": "https://lh3.googleusercontent.com/a-/AOh14GgGMAKQj5wg21_r-iyQIVVYF436AnA5QQFEsFsFtg=s64",
      "userId": "13827522260918404568"
     },
     "user_tz": -120
    },
    "id": "_LXE_qvhebZ_",
    "outputId": "5cde9684-f545-4c42-8feb-7fd3bc60f00f"
   },
   "outputs": [
    {
     "data": {
      "image/png": "[encoded data removed]",
      "text/plain": [
       "<Figure size 432x288 with 1 Axes>"
      ]
     },
     "metadata": {
      "tags": []
     },
     "output_type": "display_data"
    }
   ],
   "source": [
    "plt.title('Emotions distribution')\n",
    "plt.hist(mydf['emotion3'])\n",
    "# plt.hist(y)\n",
    "plt.show()"
   ]
  },
  {
   "cell_type": "code",
   "execution_count": null,
   "metadata": {
    "id": "aYZGeuS_ebZ_"
   },
   "outputs": [],
   "source": [
    "y = mydf['emotion3'].copy()"
   ]
  },
  {
   "cell_type": "code",
   "execution_count": null,
   "metadata": {
    "colab": {
     "base_uri": "https://localhost:8080/",
     "height": 204
    },
    "executionInfo": {
     "elapsed": 243,
     "status": "ok",
     "timestamp": 1628163534946,
     "user": {
      "displayName": "Eleonora Mancini",
      "photoUrl": "https://lh3.googleusercontent.com/a-/AOh14GgGMAKQj5wg21_r-iyQIVVYF436AnA5QQFEsFsFtg=s64",
      "userId": "13827522260918404568"
     },
     "user_tz": -120
    },
    "id": "wtgAWqtQebZ_",
    "outputId": "c2719c1f-0c37-4503-cd3d-180a702fe05a"
   },
   "outputs": [
    {
     "data": {
      "text/html": [
       "<div>\n",
       "<style scoped>\n",
       "    .dataframe tbody tr th:only-of-type {\n",
       "        vertical-align: middle;\n",
       "    }\n",
       "\n",
       "    .dataframe tbody tr th {\n",
       "        vertical-align: top;\n",
       "    }\n",
       "\n",
       "    .dataframe thead th {\n",
       "        text-align: right;\n",
       "    }\n",
       "</style>\n",
       "<table border=\"1\" class=\"dataframe\">\n",
       "  <thead>\n",
       "    <tr style=\"text-align: right;\">\n",
       "      <th></th>\n",
       "      <th>emotion_label</th>\n",
       "      <th>source</th>\n",
       "      <th>actors</th>\n",
       "      <th>path</th>\n",
       "      <th>emotion2</th>\n",
       "      <th>emotion3</th>\n",
       "    </tr>\n",
       "  </thead>\n",
       "  <tbody>\n",
       "    <tr>\n",
       "      <th>0</th>\n",
       "      <td>fear_female</td>\n",
       "      <td>TESS</td>\n",
       "      <td>female</td>\n",
       "      <td>tess/TESS Toronto emotional speech set data/OA...</td>\n",
       "      <td>negative_female</td>\n",
       "      <td>fear</td>\n",
       "    </tr>\n",
       "    <tr>\n",
       "      <th>1</th>\n",
       "      <td>fear_female</td>\n",
       "      <td>TESS</td>\n",
       "      <td>female</td>\n",
       "      <td>tess/TESS Toronto emotional speech set data/OA...</td>\n",
       "      <td>negative_female</td>\n",
       "      <td>fear</td>\n",
       "    </tr>\n",
       "    <tr>\n",
       "      <th>2</th>\n",
       "      <td>fear_female</td>\n",
       "      <td>TESS</td>\n",
       "      <td>female</td>\n",
       "      <td>tess/TESS Toronto emotional speech set data/OA...</td>\n",
       "      <td>negative_female</td>\n",
       "      <td>fear</td>\n",
       "    </tr>\n",
       "    <tr>\n",
       "      <th>3</th>\n",
       "      <td>fear_female</td>\n",
       "      <td>TESS</td>\n",
       "      <td>female</td>\n",
       "      <td>tess/TESS Toronto emotional speech set data/OA...</td>\n",
       "      <td>negative_female</td>\n",
       "      <td>fear</td>\n",
       "    </tr>\n",
       "    <tr>\n",
       "      <th>4</th>\n",
       "      <td>fear_female</td>\n",
       "      <td>TESS</td>\n",
       "      <td>female</td>\n",
       "      <td>tess/TESS Toronto emotional speech set data/OA...</td>\n",
       "      <td>negative_female</td>\n",
       "      <td>fear</td>\n",
       "    </tr>\n",
       "  </tbody>\n",
       "</table>\n",
       "</div>"
      ],
      "text/plain": [
       "  emotion_label source  ...         emotion2 emotion3\n",
       "0   fear_female   TESS  ...  negative_female     fear\n",
       "1   fear_female   TESS  ...  negative_female     fear\n",
       "2   fear_female   TESS  ...  negative_female     fear\n",
       "3   fear_female   TESS  ...  negative_female     fear\n",
       "4   fear_female   TESS  ...  negative_female     fear\n",
       "\n",
       "[5 rows x 6 columns]"
      ]
     },
     "execution_count": 51,
     "metadata": {
      "tags": []
     },
     "output_type": "execute_result"
    }
   ],
   "source": [
    "mydf.head()"
   ]
  },
  {
   "cell_type": "code",
   "execution_count": null,
   "metadata": {
    "colab": {
     "base_uri": "https://localhost:8080/"
    },
    "executionInfo": {
     "elapsed": 247,
     "status": "ok",
     "timestamp": 1628163614730,
     "user": {
      "displayName": "Eleonora Mancini",
      "photoUrl": "https://lh3.googleusercontent.com/a-/AOh14GgGMAKQj5wg21_r-iyQIVVYF436AnA5QQFEsFsFtg=s64",
      "userId": "13827522260918404568"
     },
     "user_tz": -120
    },
    "id": "knmhNp6qebaB",
    "outputId": "7458861c-a169-46ee-fcf9-4d489afffc42"
   },
   "outputs": [
    {
     "data": {
      "text/plain": [
       "(4720,)"
      ]
     },
     "execution_count": 52,
     "metadata": {
      "tags": []
     },
     "output_type": "execute_result"
    }
   ],
   "source": [
    "y.shape"
   ]
  },
  {
   "cell_type": "code",
   "execution_count": null,
   "metadata": {
    "colab": {
     "base_uri": "https://localhost:8080/",
     "height": 198
    },
    "executionInfo": {
     "elapsed": 894,
     "status": "error",
     "timestamp": 1628503805157,
     "user": {
      "displayName": "Eleonora Mancini",
      "photoUrl": "https://lh3.googleusercontent.com/a-/AOh14GgGMAKQj5wg21_r-iyQIVVYF436AnA5QQFEsFsFtg=s64",
      "userId": "13827522260918404568"
     },
     "user_tz": -120
    },
    "id": "z1wn__lWebaB",
    "outputId": "3d067e77-a4eb-4602-ee60-f4bc1e39fc96"
   },
   "outputs": [],
   "source": [
    "X = []\n",
    "for i in tqdm(mydf['path']): \n",
    "    X.append(librosa.load(i, res_type='kaiser_fast', sr=44000))"
   ]
  },
  {
   "cell_type": "code",
   "execution_count": null,
   "metadata": {
    "id": "Ry1ruXG9ebaC"
   },
   "outputs": [],
   "source": [
    "new_x = []\n",
    "for ind,i in enumerate(X):\n",
    "    new_x.append(i[0])"
   ]
  },
  {
   "cell_type": "code",
   "execution_count": null,
   "metadata": {
    "id": "I-sfw6OpebaC"
   },
   "outputs": [],
   "source": [
    "lengths = [len(x) for x in new_x]"
   ]
  },
  {
   "cell_type": "code",
   "execution_count": null,
   "metadata": {
    "colab": {
     "base_uri": "https://localhost:8080/",
     "height": 265
    },
    "executionInfo": {
     "elapsed": 477,
     "status": "ok",
     "timestamp": 1628167310116,
     "user": {
      "displayName": "Eleonora Mancini",
      "photoUrl": "https://lh3.googleusercontent.com/a-/AOh14GgGMAKQj5wg21_r-iyQIVVYF436AnA5QQFEsFsFtg=s64",
      "userId": "13827522260918404568"
     },
     "user_tz": -120
    },
    "id": "yK7-hDz-ebaD",
    "outputId": "01b8c3e7-b82d-46e7-d5a6-2c97e2f3ce80"
   },
   "outputs": [
    {
     "data": {
      "image/png": "[encoded data removed]",
      "text/plain": [
       "<Figure size 432x288 with 1 Axes>"
      ]
     },
     "metadata": {
      "tags": []
     },
     "output_type": "display_data"
    }
   ],
   "source": [
    "sns.boxplot(lengths)\n",
    "plt.show()"
   ]
  },
  {
   "cell_type": "code",
   "execution_count": null,
   "metadata": {
    "colab": {
     "base_uri": "https://localhost:8080/",
     "height": 282
    },
    "executionInfo": {
     "elapsed": 270,
     "status": "ok",
     "timestamp": 1628167312032,
     "user": {
      "displayName": "Eleonora Mancini",
      "photoUrl": "https://lh3.googleusercontent.com/a-/AOh14GgGMAKQj5wg21_r-iyQIVVYF436AnA5QQFEsFsFtg=s64",
      "userId": "13827522260918404568"
     },
     "user_tz": -120
    },
    "id": "hwfHJJ-GebaD",
    "outputId": "c82bb70d-fd3f-4c81-aab1-b05064b20a81"
   },
   "outputs": [
    {
     "name": "stdout",
     "output_type": "stream",
     "text": [
      "3\n"
     ]
    },
    {
     "data": {
      "image/png": "[encoded data removed]",
      "text/plain": [
       "<Figure size 432x288 with 1 Axes>"
      ]
     },
     "metadata": {
      "tags": []
     },
     "output_type": "display_data"
    }
   ],
   "source": [
    "# outliers\n",
    "lengths = np.array(lengths)\n",
    "print((lengths > 300000).sum())\n",
    "new_lengths = lengths[lengths < 300000]\n",
    "\n",
    "sns.boxplot(new_lengths)\n",
    "plt.show()"
   ]
  },
  {
   "cell_type": "code",
   "execution_count": null,
   "metadata": {
    "colab": {
     "base_uri": "https://localhost:8080/"
    },
    "executionInfo": {
     "elapsed": 4,
     "status": "ok",
     "timestamp": 1628167313447,
     "user": {
      "displayName": "Eleonora Mancini",
      "photoUrl": "https://lh3.googleusercontent.com/a-/AOh14GgGMAKQj5wg21_r-iyQIVVYF436AnA5QQFEsFsFtg=s64",
      "userId": "13827522260918404568"
     },
     "user_tz": -120
    },
    "id": "Xq96sDHgebaG",
    "outputId": "efa690df-7e1e-42bc-eeb2-0121735325f1"
   },
   "outputs": [
    {
     "name": "stdout",
     "output_type": "stream",
     "text": [
      "120378.67500529999\n"
     ]
    }
   ],
   "source": [
    "print(new_lengths.mean())"
   ]
  },
  {
   "cell_type": "code",
   "execution_count": null,
   "metadata": {
    "id": "oeAtFd6PebaH"
   },
   "outputs": [],
   "source": [
    "length_chosen = 120378\n",
    "#length_chosen = 117841"
   ]
  },
  {
   "cell_type": "code",
   "execution_count": null,
   "metadata": {
    "id": "eL9-cidrWVvg"
   },
   "outputs": [],
   "source": [
    "y = y.reset_index(drop = True)\n",
    "#new_x = new_x.reset_index(drop = True)"
   ]
  },
  {
   "cell_type": "code",
   "execution_count": null,
   "metadata": {
    "id": "Clc7OMivebaI"
   },
   "outputs": [],
   "source": [
    "import math\n",
    "\n",
    "X_new = []\n",
    "y_new = []\n",
    "count = 0 \n",
    "for ind,i in enumerate(new_x):\n",
    "    if i.shape[0] < 300000:\n",
    "        if i.shape[0] > length_chosen:\n",
    "            new = i[:length_chosen]\n",
    "            X_new.append(new)\n",
    "        elif i.shape[0] < length_chosen:\n",
    "            new = np.pad(i,math.ceil((length_chosen-i.shape[0])/2), mode='median')\n",
    "            X_new.append(new)\n",
    "        else:\n",
    "            X_new.append(i)\n",
    "        print(y[count])\n",
    "        y_new.append(y[count])\n",
    "    count+=1\n",
    "            "
   ]
  },
  {
   "cell_type": "code",
   "execution_count": null,
   "metadata": {
    "colab": {
     "base_uri": "https://localhost:8080/"
    },
    "executionInfo": {
     "elapsed": 268,
     "status": "ok",
     "timestamp": 1628167740753,
     "user": {
      "displayName": "Eleonora Mancini",
      "photoUrl": "https://lh3.googleusercontent.com/a-/AOh14GgGMAKQj5wg21_r-iyQIVVYF436AnA5QQFEsFsFtg=s64",
      "userId": "13827522260918404568"
     },
     "user_tz": -120
    },
    "id": "9IEx-wu-ebaI",
    "outputId": "89124725-996a-45d7-b4f5-afb1d00e895e"
   },
   "outputs": [
    {
     "name": "stdout",
     "output_type": "stream",
     "text": [
      "(4717,) (4717,)\n"
     ]
    }
   ],
   "source": [
    "X = np.array(X_new)\n",
    "y = np.array(y_new)\n",
    "print(X.shape, y.shape)"
   ]
  },
  {
   "cell_type": "code",
   "execution_count": null,
   "metadata": {
    "colab": {
     "base_uri": "https://localhost:8080/",
     "height": 66
    },
    "executionInfo": {
     "elapsed": 72889,
     "status": "ok",
     "timestamp": 1628167944395,
     "user": {
      "displayName": "Eleonora Mancini",
      "photoUrl": "https://lh3.googleusercontent.com/a-/AOh14GgGMAKQj5wg21_r-iyQIVVYF436AnA5QQFEsFsFtg=s64",
      "userId": "13827522260918404568"
     },
     "user_tz": -120
    },
    "id": "5kULeehZebaI",
    "outputId": "e7044216-816b-467a-c2e0-e1e8c8e11a6b"
   },
   "outputs": [
    {
     "data": {
      "application/vnd.jupyter.widget-view+json": {
       "model_id": "9fd7e41df3b14450854889a47ac62f26",
       "version_major": 2,
       "version_minor": 0
      },
      "text/plain": [
       "HBox(children=(FloatProgress(value=0.0, max=4717.0), HTML(value='')))"
      ]
     },
     "metadata": {
      "tags": []
     },
     "output_type": "display_data"
    },
    {
     "name": "stdout",
     "output_type": "stream",
     "text": [
      "\n"
     ]
    }
   ],
   "source": [
    "mfccs = []\n",
    "for i in tqdm(X):\n",
    "    mfcc = librosa.feature.mfcc(y=i, sr=44000, n_mfcc=40)\n",
    "    mfcc = mfcc.T\n",
    "    mfccs.append(mfcc)\n"
   ]
  },
  {
   "cell_type": "code",
   "execution_count": null,
   "metadata": {
    "colab": {
     "base_uri": "https://localhost:8080/"
    },
    "executionInfo": {
     "elapsed": 228,
     "status": "ok",
     "timestamp": 1628167968455,
     "user": {
      "displayName": "Eleonora Mancini",
      "photoUrl": "https://lh3.googleusercontent.com/a-/AOh14GgGMAKQj5wg21_r-iyQIVVYF436AnA5QQFEsFsFtg=s64",
      "userId": "13827522260918404568"
     },
     "user_tz": -120
    },
    "id": "driFQ2gLebaJ",
    "outputId": "c8ca6dc8-9ea3-4145-d9f0-d270775a0830"
   },
   "outputs": [
    {
     "data": {
      "text/plain": [
       "(4717, 236, 40)"
      ]
     },
     "execution_count": 73,
     "metadata": {
      "tags": []
     },
     "output_type": "execute_result"
    }
   ],
   "source": [
    "mfccs = np.array(mfccs)\n",
    "mfccs.shape"
   ]
  },
  {
   "cell_type": "code",
   "execution_count": null,
   "metadata": {
    "colab": {
     "base_uri": "https://localhost:8080/"
    },
    "executionInfo": {
     "elapsed": 234,
     "status": "ok",
     "timestamp": 1628167973910,
     "user": {
      "displayName": "Eleonora Mancini",
      "photoUrl": "https://lh3.googleusercontent.com/a-/AOh14GgGMAKQj5wg21_r-iyQIVVYF436AnA5QQFEsFsFtg=s64",
      "userId": "13827522260918404568"
     },
     "user_tz": -120
    },
    "id": "8a5VbdWwebaJ",
    "outputId": "5b7c5477-fc00-4cfc-a4e5-86bd357f3936"
   },
   "outputs": [
    {
     "data": {
      "text/plain": [
       "{'angry', 'fear', 'negative', 'neutral', 'positive', 'sadness', 'surprise'}"
      ]
     },
     "execution_count": 74,
     "metadata": {
      "tags": []
     },
     "output_type": "execute_result"
    }
   ],
   "source": [
    "set(y)"
   ]
  },
  {
   "cell_type": "markdown",
   "metadata": {
    "id": "KnEfmgvCmTI_"
   },
   "source": [
    "#### Save new data"
   ]
  },
  {
   "cell_type": "code",
   "execution_count": null,
   "metadata": {
    "id": "NcA33zFrmTJA"
   },
   "outputs": [],
   "source": [
    "import pickle \n",
    "\n",
    "mfccs2_path = 'mfccs2_without_replications.pickle'\n",
    "y2_path = 'y2_without_replications.pickle'\n",
    "\n",
    "\n",
    "with open(mfccs2_path, 'wb') as f:\n",
    "     pickle.dump(mfccs,f)\n",
    "    \n",
    "with open(y2_path, 'wb') as f:\n",
    "     pickle.dump(y,f)\n",
    "  \n"
   ]
  },
  {
   "cell_type": "markdown",
   "metadata": {
    "id": "DkzT7sspmTJA"
   },
   "source": [
    "#### Load data"
   ]
  },
  {
   "cell_type": "code",
   "execution_count": null,
   "metadata": {
    "id": "E-qqOWp5mTJA"
   },
   "outputs": [],
   "source": [
    "with open(mfccs2_path, 'rb') as f:\n",
    "    mfccs = pickle.load(f)\n",
    "    \n",
    "with open(y2_path, 'rb') as f:\n",
    "    y = pickle.load(f)"
   ]
  },
  {
   "cell_type": "markdown",
   "metadata": {
    "id": "WAh_gLGyJssR"
   },
   "source": [
    "### Data Augmentation, Weiner, Trim"
   ]
  },
  {
   "cell_type": "code",
   "execution_count": null,
   "metadata": {
    "id": "3AXRNN4HrZkO"
   },
   "outputs": [],
   "source": [
    "mydf = df_combined"
   ]
  },
  {
   "cell_type": "code",
   "execution_count": null,
   "metadata": {
    "colab": {
     "base_uri": "https://localhost:8080/"
    },
    "executionInfo": {
     "elapsed": 26,
     "status": "ok",
     "timestamp": 1628239120946,
     "user": {
      "displayName": "Eleonora Mancini",
      "photoUrl": "https://lh3.googleusercontent.com/a-/AOh14GgGMAKQj5wg21_r-iyQIVVYF436AnA5QQFEsFsFtg=s64",
      "userId": "13827522260918404568"
     },
     "user_tz": -120
    },
    "id": "JuPqkZyEbCib",
    "outputId": "bbbb447f-dd36-4aab-83f4-528e79c0a8c6"
   },
   "outputs": [
    {
     "data": {
      "text/plain": [
       "array(['fear', 'surprise', 'sadness', 'angry', 'negative', 'positive',\n",
       "       'neutral'], dtype=object)"
      ]
     },
     "execution_count": 25,
     "metadata": {
      "tags": []
     },
     "output_type": "execute_result"
    }
   ],
   "source": [
    "mydf['emotion3'].unique()"
   ]
  },
  {
   "cell_type": "code",
   "execution_count": null,
   "metadata": {
    "colab": {
     "base_uri": "https://localhost:8080/",
     "height": 281
    },
    "executionInfo": {
     "elapsed": 514,
     "status": "ok",
     "timestamp": 1628239121442,
     "user": {
      "displayName": "Eleonora Mancini",
      "photoUrl": "https://lh3.googleusercontent.com/a-/AOh14GgGMAKQj5wg21_r-iyQIVVYF436AnA5QQFEsFsFtg=s64",
      "userId": "13827522260918404568"
     },
     "user_tz": -120
    },
    "id": "P--tfPLHbCic",
    "outputId": "c419b6e5-05a0-46fa-cf81-4574feb403b3"
   },
   "outputs": [
    {
     "data": {
      "image/png": "[encoded data removed]",
      "text/plain": [
       "<Figure size 432x288 with 1 Axes>"
      ]
     },
     "metadata": {
      "tags": []
     },
     "output_type": "display_data"
    }
   ],
   "source": [
    "plt.title('Emotions distribution')\n",
    "plt.hist(mydf['emotion3'])\n",
    "# plt.hist(y)\n",
    "plt.show()"
   ]
  },
  {
   "cell_type": "code",
   "execution_count": null,
   "metadata": {
    "id": "VO12X-EvbCic"
   },
   "outputs": [],
   "source": [
    "y = mydf['emotion3'].copy()"
   ]
  },
  {
   "cell_type": "code",
   "execution_count": null,
   "metadata": {
    "colab": {
     "base_uri": "https://localhost:8080/",
     "height": 204
    },
    "executionInfo": {
     "elapsed": 109,
     "status": "ok",
     "timestamp": 1628239121445,
     "user": {
      "displayName": "Eleonora Mancini",
      "photoUrl": "https://lh3.googleusercontent.com/a-/AOh14GgGMAKQj5wg21_r-iyQIVVYF436AnA5QQFEsFsFtg=s64",
      "userId": "13827522260918404568"
     },
     "user_tz": -120
    },
    "id": "jjlNkTb6bCic",
    "outputId": "08c801c1-a93e-4926-8aab-b5c90e0c0914"
   },
   "outputs": [
    {
     "data": {
      "text/html": [
       "<div>\n",
       "<style scoped>\n",
       "    .dataframe tbody tr th:only-of-type {\n",
       "        vertical-align: middle;\n",
       "    }\n",
       "\n",
       "    .dataframe tbody tr th {\n",
       "        vertical-align: top;\n",
       "    }\n",
       "\n",
       "    .dataframe thead th {\n",
       "        text-align: right;\n",
       "    }\n",
       "</style>\n",
       "<table border=\"1\" class=\"dataframe\">\n",
       "  <thead>\n",
       "    <tr style=\"text-align: right;\">\n",
       "      <th></th>\n",
       "      <th>emotion_label</th>\n",
       "      <th>source</th>\n",
       "      <th>actors</th>\n",
       "      <th>path</th>\n",
       "      <th>emotion2</th>\n",
       "      <th>emotion3</th>\n",
       "    </tr>\n",
       "  </thead>\n",
       "  <tbody>\n",
       "    <tr>\n",
       "      <th>0</th>\n",
       "      <td>fear_female</td>\n",
       "      <td>TESS</td>\n",
       "      <td>female</td>\n",
       "      <td>tess/TESS Toronto emotional speech set data/OA...</td>\n",
       "      <td>negative_female</td>\n",
       "      <td>fear</td>\n",
       "    </tr>\n",
       "    <tr>\n",
       "      <th>1</th>\n",
       "      <td>fear_female</td>\n",
       "      <td>TESS</td>\n",
       "      <td>female</td>\n",
       "      <td>tess/TESS Toronto emotional speech set data/OA...</td>\n",
       "      <td>negative_female</td>\n",
       "      <td>fear</td>\n",
       "    </tr>\n",
       "    <tr>\n",
       "      <th>2</th>\n",
       "      <td>fear_female</td>\n",
       "      <td>TESS</td>\n",
       "      <td>female</td>\n",
       "      <td>tess/TESS Toronto emotional speech set data/OA...</td>\n",
       "      <td>negative_female</td>\n",
       "      <td>fear</td>\n",
       "    </tr>\n",
       "    <tr>\n",
       "      <th>3</th>\n",
       "      <td>fear_female</td>\n",
       "      <td>TESS</td>\n",
       "      <td>female</td>\n",
       "      <td>tess/TESS Toronto emotional speech set data/OA...</td>\n",
       "      <td>negative_female</td>\n",
       "      <td>fear</td>\n",
       "    </tr>\n",
       "    <tr>\n",
       "      <th>4</th>\n",
       "      <td>fear_female</td>\n",
       "      <td>TESS</td>\n",
       "      <td>female</td>\n",
       "      <td>tess/TESS Toronto emotional speech set data/OA...</td>\n",
       "      <td>negative_female</td>\n",
       "      <td>fear</td>\n",
       "    </tr>\n",
       "  </tbody>\n",
       "</table>\n",
       "</div>"
      ],
      "text/plain": [
       "  emotion_label source  ...         emotion2 emotion3\n",
       "0   fear_female   TESS  ...  negative_female     fear\n",
       "1   fear_female   TESS  ...  negative_female     fear\n",
       "2   fear_female   TESS  ...  negative_female     fear\n",
       "3   fear_female   TESS  ...  negative_female     fear\n",
       "4   fear_female   TESS  ...  negative_female     fear\n",
       "\n",
       "[5 rows x 6 columns]"
      ]
     },
     "execution_count": 28,
     "metadata": {
      "tags": []
     },
     "output_type": "execute_result"
    }
   ],
   "source": [
    "mydf.head()"
   ]
  },
  {
   "cell_type": "code",
   "execution_count": null,
   "metadata": {
    "colab": {
     "base_uri": "https://localhost:8080/"
    },
    "executionInfo": {
     "elapsed": 106,
     "status": "ok",
     "timestamp": 1628239121455,
     "user": {
      "displayName": "Eleonora Mancini",
      "photoUrl": "https://lh3.googleusercontent.com/a-/AOh14GgGMAKQj5wg21_r-iyQIVVYF436AnA5QQFEsFsFtg=s64",
      "userId": "13827522260918404568"
     },
     "user_tz": -120
    },
    "id": "F1VjSPKUbCic",
    "outputId": "31b04f4b-83ae-4e0a-b846-68666ff9cf26"
   },
   "outputs": [
    {
     "data": {
      "text/plain": [
       "(4720,)"
      ]
     },
     "execution_count": 29,
     "metadata": {
      "tags": []
     },
     "output_type": "execute_result"
    }
   ],
   "source": [
    "y.shape"
   ]
  },
  {
   "cell_type": "code",
   "execution_count": null,
   "metadata": {
    "colab": {
     "base_uri": "https://localhost:8080/",
     "height": 66
    },
    "executionInfo": {
     "elapsed": 1823626,
     "status": "ok",
     "timestamp": 1628240944986,
     "user": {
      "displayName": "Eleonora Mancini",
      "photoUrl": "https://lh3.googleusercontent.com/a-/AOh14GgGMAKQj5wg21_r-iyQIVVYF436AnA5QQFEsFsFtg=s64",
      "userId": "13827522260918404568"
     },
     "user_tz": -120
    },
    "id": "DvNIJNEebCic",
    "outputId": "099f61ad-48e1-4c75-a095-1e309f26e723"
   },
   "outputs": [
    {
     "data": {
      "application/vnd.jupyter.widget-view+json": {
       "model_id": "3122328a0a314ffd8cc354dc69c93900",
       "version_major": 2,
       "version_minor": 0
      },
      "text/plain": [
       "HBox(children=(FloatProgress(value=0.0, max=4720.0), HTML(value='')))"
      ]
     },
     "metadata": {
      "tags": []
     },
     "output_type": "display_data"
    },
    {
     "name": "stdout",
     "output_type": "stream",
     "text": [
      "\n"
     ]
    }
   ],
   "source": [
    "X = []\n",
    "for i in tqdm(mydf['path']): \n",
    "    X.append(librosa.load(i, res_type='kaiser_fast', sr=44000))"
   ]
  },
  {
   "cell_type": "code",
   "execution_count": null,
   "metadata": {
    "id": "yCI03PejbCic"
   },
   "outputs": [],
   "source": [
    "new_x = []\n",
    "for ind,i in enumerate(X):\n",
    "    new_x.append(i[0])"
   ]
  },
  {
   "cell_type": "code",
   "execution_count": null,
   "metadata": {
    "id": "dkQ6MREwbCid"
   },
   "outputs": [],
   "source": [
    "lengths = [len(x) for x in new_x]"
   ]
  },
  {
   "cell_type": "code",
   "execution_count": null,
   "metadata": {
    "colab": {
     "base_uri": "https://localhost:8080/",
     "height": 265
    },
    "executionInfo": {
     "elapsed": 525,
     "status": "ok",
     "timestamp": 1628240945483,
     "user": {
      "displayName": "Eleonora Mancini",
      "photoUrl": "https://lh3.googleusercontent.com/a-/AOh14GgGMAKQj5wg21_r-iyQIVVYF436AnA5QQFEsFsFtg=s64",
      "userId": "13827522260918404568"
     },
     "user_tz": -120
    },
    "id": "aVJVE3C9bCid",
    "outputId": "9ba11f1b-6d67-45c1-9eed-76f07e419565"
   },
   "outputs": [
    {
     "data": {
      "image/png": "[encoded data removed]",
      "text/plain": [
       "<Figure size 432x288 with 1 Axes>"
      ]
     },
     "metadata": {
      "tags": []
     },
     "output_type": "display_data"
    }
   ],
   "source": [
    "sns.boxplot(lengths)\n",
    "plt.show()"
   ]
  },
  {
   "cell_type": "code",
   "execution_count": null,
   "metadata": {
    "colab": {
     "base_uri": "https://localhost:8080/",
     "height": 282
    },
    "executionInfo": {
     "elapsed": 42,
     "status": "ok",
     "timestamp": 1628240945485,
     "user": {
      "displayName": "Eleonora Mancini",
      "photoUrl": "https://lh3.googleusercontent.com/a-/AOh14GgGMAKQj5wg21_r-iyQIVVYF436AnA5QQFEsFsFtg=s64",
      "userId": "13827522260918404568"
     },
     "user_tz": -120
    },
    "id": "WsG2DM67bCid",
    "outputId": "8bc5b768-5a43-437f-e56a-e92698df44e1"
   },
   "outputs": [
    {
     "name": "stdout",
     "output_type": "stream",
     "text": [
      "3\n"
     ]
    },
    {
     "data": {
      "image/png": "[encoded data removed]",
      "text/plain": [
       "<Figure size 432x288 with 1 Axes>"
      ]
     },
     "metadata": {
      "tags": []
     },
     "output_type": "display_data"
    }
   ],
   "source": [
    "# outliers\n",
    "lengths = np.array(lengths)\n",
    "print((lengths > 300000).sum())\n",
    "new_lengths = lengths[lengths < 300000]\n",
    "\n",
    "sns.boxplot(new_lengths)\n",
    "plt.show()"
   ]
  },
  {
   "cell_type": "code",
   "execution_count": null,
   "metadata": {
    "colab": {
     "base_uri": "https://localhost:8080/"
    },
    "executionInfo": {
     "elapsed": 29,
     "status": "ok",
     "timestamp": 1628240945488,
     "user": {
      "displayName": "Eleonora Mancini",
      "photoUrl": "https://lh3.googleusercontent.com/a-/AOh14GgGMAKQj5wg21_r-iyQIVVYF436AnA5QQFEsFsFtg=s64",
      "userId": "13827522260918404568"
     },
     "user_tz": -120
    },
    "id": "mP0kE8fKbCid",
    "outputId": "333e2f19-72fe-4299-cdb7-e5dcf6994483"
   },
   "outputs": [
    {
     "name": "stdout",
     "output_type": "stream",
     "text": [
      "120378.67500529999\n"
     ]
    }
   ],
   "source": [
    "print(new_lengths.mean())"
   ]
  },
  {
   "cell_type": "code",
   "execution_count": null,
   "metadata": {
    "id": "FFd7egl9bCid"
   },
   "outputs": [],
   "source": [
    "length_chosen = 120378\n",
    "#length_chosen = 117841"
   ]
  },
  {
   "cell_type": "code",
   "execution_count": null,
   "metadata": {
    "id": "H_IZyvfnbCid"
   },
   "outputs": [],
   "source": [
    "y = y.reset_index(drop = True)\n",
    "#new_x = new_x.reset_index(drop = True)"
   ]
  },
  {
   "cell_type": "code",
   "execution_count": null,
   "metadata": {
    "id": "dGiede7-bCie"
   },
   "outputs": [],
   "source": [
    "import math\n",
    "\n",
    "X_new = []\n",
    "y_new = []\n",
    "count = 0 \n",
    "for ind,i in enumerate(new_x):\n",
    "    if i.shape[0] < 300000:\n",
    "        if i.shape[0] > length_chosen:\n",
    "            new = i[:length_chosen]\n",
    "            X_new.append(new)\n",
    "        elif i.shape[0] < length_chosen:\n",
    "            new = np.pad(i,math.ceil((length_chosen-i.shape[0])/2), mode='median')\n",
    "            X_new.append(new)\n",
    "        else:\n",
    "            X_new.append(i)\n",
    "        print(y[count])\n",
    "        y_new.append(y[count])\n",
    "    count+=1\n",
    "            "
   ]
  },
  {
   "cell_type": "code",
   "execution_count": null,
   "metadata": {
    "colab": {
     "base_uri": "https://localhost:8080/"
    },
    "executionInfo": {
     "elapsed": 265,
     "status": "ok",
     "timestamp": 1628256049611,
     "user": {
      "displayName": "Eleonora Mancini",
      "photoUrl": "https://lh3.googleusercontent.com/a-/AOh14GgGMAKQj5wg21_r-iyQIVVYF436AnA5QQFEsFsFtg=s64",
      "userId": "13827522260918404568"
     },
     "user_tz": -120
    },
    "id": "TZjymu_6bCie",
    "outputId": "66941671-9aa3-4902-ad70-32972948e12b"
   },
   "outputs": [
    {
     "name": "stdout",
     "output_type": "stream",
     "text": [
      "(4717,) (4717,)\n"
     ]
    }
   ],
   "source": [
    "X = np.array(X_new)\n",
    "y = np.array(y_new)\n",
    "print(X.shape, y.shape)"
   ]
  },
  {
   "cell_type": "code",
   "execution_count": null,
   "metadata": {
    "id": "HBHAnb9ByXpg"
   },
   "outputs": [],
   "source": [
    "def noise(data):\n",
    "    noise_amp = 0.035*np.random.uniform()*np.amax(data)\n",
    "    data = data + noise_amp*np.random.normal(size=data.shape[0])\n",
    "    return data\n",
    "\n",
    "def pitch(data, sampling_rate, pitch_factor=0.7):\n",
    "    return librosa.effects.pitch_shift(data, sampling_rate, pitch_factor)"
   ]
  },
  {
   "cell_type": "code",
   "execution_count": null,
   "metadata": {
    "colab": {
     "base_uri": "https://localhost:8080/",
     "height": 66
    },
    "executionInfo": {
     "elapsed": 2445740,
     "status": "ok",
     "timestamp": 1628243880441,
     "user": {
      "displayName": "Eleonora Mancini",
      "photoUrl": "https://lh3.googleusercontent.com/a-/AOh14GgGMAKQj5wg21_r-iyQIVVYF436AnA5QQFEsFsFtg=s64",
      "userId": "13827522260918404568"
     },
     "user_tz": -120
    },
    "id": "D_prFFMHKQAb",
    "outputId": "004b11ab-1c0d-47d3-f128-a70e3a6e7ab3"
   },
   "outputs": [
    {
     "data": {
      "application/vnd.jupyter.widget-view+json": {
       "model_id": "00c3bc42056e4c58afeba8420518bfc5",
       "version_major": 2,
       "version_minor": 0
      },
      "text/plain": [
       "HBox(children=(FloatProgress(value=0.0, max=4717.0), HTML(value='')))"
      ]
     },
     "metadata": {
      "tags": []
     },
     "output_type": "display_data"
    },
    {
     "name": "stdout",
     "output_type": "stream",
     "text": [
      "\n"
     ]
    }
   ],
   "source": [
    "mfccs = []\n",
    "counter = 0 \n",
    "for i in tqdm(X):\n",
    "\n",
    "   # Weiner Filtering on original noise \n",
    "    samples_weiner = scipy.signal.wiener(i)\n",
    "    is_fin = np.isfinite(samples_weiner).all()\n",
    "\n",
    "\n",
    "    # Data Augmentation - Noise \n",
    "    noise_audio = noise(samples_weiner)\n",
    "\n",
    "    # Data Augmentation - Pitch \n",
    "    pitch_audio = pitch(samples_weiner, sampling_rate=44000)\n",
    "\n",
    "\n",
    "    # Data Augmentation -  pitch + noise \n",
    "    pn = pitch(samples_weiner, sampling_rate = 44000)\n",
    "\n",
    "\n",
    "\n",
    "\n",
    "    if is_fin: \n",
    "      # MFCC\n",
    "\n",
    "      mfcc = librosa.feature.mfcc(y=i, sr=44000, n_mfcc=40)\n",
    "      mfcc = mfcc.T\n",
    "      mfccs.append(mfcc)\n",
    "\n",
    "      mfcc_augmented = librosa.feature.mfcc(y=samples_weiner, sr=44000, n_mfcc=40)\n",
    "      mfcc_augmented = mfcc_augmented.T\n",
    "      mfccs.append(mfcc_augmented)\n",
    "\n",
    "      mfcc_augmented_pitch = librosa.feature.mfcc(y=noise_audio, sr=44000, n_mfcc=40)\n",
    "      mfcc_augmented_pitch = mfcc_augmented_pitch.T\n",
    "      mfccs.append(mfcc_augmented_pitch)\n",
    "\n",
    "      mfcc_augmented_p = librosa.feature.mfcc(y=pitch_audio, sr=44000, n_mfcc=40)\n",
    "      mfcc_augmented_p = mfcc_augmented_p.T\n",
    "      mfccs.append(mfcc_augmented_p) \n",
    "\n",
    "      mfcc_augmented_pn = librosa.feature.mfcc(y=pn, sr=44000, n_mfcc=40)\n",
    "      mfcc_augmented_pn = mfcc_augmented_pn.T\n",
    "      mfccs.append(mfcc_augmented_pn) \n",
    "                                                                         \n",
    "\n"
   ]
  },
  {
   "cell_type": "code",
   "execution_count": null,
   "metadata": {
    "colab": {
     "base_uri": "https://localhost:8080/"
    },
    "executionInfo": {
     "elapsed": 250,
     "status": "ok",
     "timestamp": 1628169325678,
     "user": {
      "displayName": "Eleonora Mancini",
      "photoUrl": "https://lh3.googleusercontent.com/a-/AOh14GgGMAKQj5wg21_r-iyQIVVYF436AnA5QQFEsFsFtg=s64",
      "userId": "13827522260918404568"
     },
     "user_tz": -120
    },
    "id": "ml964-wiTff_",
    "outputId": "bf0720e5-ad83-49a2-e641-09da75f89a80"
   },
   "outputs": [
    {
     "data": {
      "text/plain": [
       "9434"
      ]
     },
     "execution_count": 136,
     "metadata": {
      "tags": []
     },
     "output_type": "execute_result"
    }
   ],
   "source": [
    "len(y)"
   ]
  },
  {
   "cell_type": "code",
   "execution_count": null,
   "metadata": {
    "id": "gRu4REJqTI9T"
   },
   "outputs": [],
   "source": [
    "# duplicate y in same way of X \n",
    "y_prov = []\n",
    "for i in range(len(y)): \n",
    "  y_prov.append(y[i])\n",
    "  y_prov.append(y[i])\n",
    "  y_prov.append(y[i])\n",
    "  y_prov.append(y[i])\n",
    "  y_prov.append(y[i])\n",
    "y = np.asarray(y_prov)"
   ]
  },
  {
   "cell_type": "code",
   "execution_count": null,
   "metadata": {
    "colab": {
     "base_uri": "https://localhost:8080/"
    },
    "executionInfo": {
     "elapsed": 3,
     "status": "ok",
     "timestamp": 1628244109215,
     "user": {
      "displayName": "Eleonora Mancini",
      "photoUrl": "https://lh3.googleusercontent.com/a-/AOh14GgGMAKQj5wg21_r-iyQIVVYF436AnA5QQFEsFsFtg=s64",
      "userId": "13827522260918404568"
     },
     "user_tz": -120
    },
    "id": "mneWQiisIllR",
    "outputId": "5838040c-4a77-4a4d-ae55-b555284fe75b"
   },
   "outputs": [
    {
     "data": {
      "text/plain": [
       "23585"
      ]
     },
     "execution_count": 46,
     "metadata": {
      "tags": []
     },
     "output_type": "execute_result"
    }
   ],
   "source": [
    "# controllare che ora gli mfcc siano il doppio\n",
    "len(mfccs)"
   ]
  },
  {
   "cell_type": "code",
   "execution_count": null,
   "metadata": {
    "colab": {
     "base_uri": "https://localhost:8080/"
    },
    "executionInfo": {
     "elapsed": 4641,
     "status": "ok",
     "timestamp": 1628244115063,
     "user": {
      "displayName": "Eleonora Mancini",
      "photoUrl": "https://lh3.googleusercontent.com/a-/AOh14GgGMAKQj5wg21_r-iyQIVVYF436AnA5QQFEsFsFtg=s64",
      "userId": "13827522260918404568"
     },
     "user_tz": -120
    },
    "id": "_ZX2Ib0EKQAb",
    "outputId": "04e8f9c0-e6c3-40d0-c729-372f0641b085"
   },
   "outputs": [
    {
     "data": {
      "text/plain": [
       "(23585, 236, 40)"
      ]
     },
     "execution_count": 47,
     "metadata": {
      "tags": []
     },
     "output_type": "execute_result"
    }
   ],
   "source": [
    "mfccs = np.array(mfccs)\n",
    "mfccs.shape"
   ]
  },
  {
   "cell_type": "code",
   "execution_count": null,
   "metadata": {
    "colab": {
     "base_uri": "https://localhost:8080/"
    },
    "executionInfo": {
     "elapsed": 28,
     "status": "ok",
     "timestamp": 1628244115064,
     "user": {
      "displayName": "Eleonora Mancini",
      "photoUrl": "https://lh3.googleusercontent.com/a-/AOh14GgGMAKQj5wg21_r-iyQIVVYF436AnA5QQFEsFsFtg=s64",
      "userId": "13827522260918404568"
     },
     "user_tz": -120
    },
    "id": "LM5bVqTfTWtP",
    "outputId": "1259c70e-17b4-4910-cc33-7ed3782cedf5"
   },
   "outputs": [
    {
     "data": {
      "text/plain": [
       "(23585,)"
      ]
     },
     "execution_count": 48,
     "metadata": {
      "tags": []
     },
     "output_type": "execute_result"
    }
   ],
   "source": [
    "y.shape"
   ]
  },
  {
   "cell_type": "code",
   "execution_count": null,
   "metadata": {
    "colab": {
     "base_uri": "https://localhost:8080/"
    },
    "executionInfo": {
     "elapsed": 259,
     "status": "ok",
     "timestamp": 1628244117254,
     "user": {
      "displayName": "Eleonora Mancini",
      "photoUrl": "https://lh3.googleusercontent.com/a-/AOh14GgGMAKQj5wg21_r-iyQIVVYF436AnA5QQFEsFsFtg=s64",
      "userId": "13827522260918404568"
     },
     "user_tz": -120
    },
    "id": "gAG5Vwx7KQAc",
    "outputId": "4f893ef6-5153-47ec-8402-38e87f629bce"
   },
   "outputs": [
    {
     "data": {
      "text/plain": [
       "{'angry', 'fear', 'negative', 'neutral', 'positive', 'sadness', 'surprise'}"
      ]
     },
     "execution_count": 49,
     "metadata": {
      "tags": []
     },
     "output_type": "execute_result"
    }
   ],
   "source": [
    "set(y)"
   ]
  },
  {
   "cell_type": "markdown",
   "metadata": {
    "id": "W9P2RtKUSlUj"
   },
   "source": [
    "#### Save new data"
   ]
  },
  {
   "cell_type": "code",
   "execution_count": null,
   "metadata": {
    "colab": {
     "base_uri": "https://localhost:8080/",
     "height": 52
    },
    "executionInfo": {
     "elapsed": 371,
     "status": "ok",
     "timestamp": 1628501989482,
     "user": {
      "displayName": "Eleonora Mancini",
      "photoUrl": "https://lh3.googleusercontent.com/a-/AOh14GgGMAKQj5wg21_r-iyQIVVYF436AnA5QQFEsFsFtg=s64",
      "userId": "13827522260918404568"
     },
     "user_tz": -120
    },
    "id": "200tZTY5SlUk",
    "outputId": "76157651-268a-41a9-9a14-7f64e84073b5"
   },
   "outputs": [
    {
     "data": {
      "application/vnd.google.colaboratory.intrinsic+json": {
       "type": "string"
      },
      "text/plain": [
       "\"\\nwith open(mfccsaug_path, 'wb') as f:\\n     pickle.dump(mfccs,f)\\n    \\nwith open(yaug_path, 'wb') as f:\\n     pickle.dump(y,f)\\n\""
      ]
     },
     "execution_count": 5,
     "metadata": {
      "tags": []
     },
     "output_type": "execute_result"
    }
   ],
   "source": [
    "import pickle \n",
    "\n",
    "mfccsaug_path = 'mfccs_aug_without_replicates_pn_CHANGE_ORDER.pickle'\n",
    "yaug_path = 'y_aug_without_replicates_pn_CHANGE_ORDER.pickle'\n",
    "\n",
    "'''\n",
    "with open(mfccsaug_path, 'wb') as f:\n",
    "     pickle.dump(mfccs,f)\n",
    "    \n",
    "with open(yaug_path, 'wb') as f:\n",
    "     pickle.dump(y,f)\n",
    "'''"
   ]
  },
  {
   "cell_type": "markdown",
   "metadata": {
    "id": "BXdoGptjSlUl"
   },
   "source": [
    "#### Load data"
   ]
  },
  {
   "cell_type": "code",
   "execution_count": null,
   "metadata": {
    "id": "ngJHvnc7SlUl"
   },
   "outputs": [],
   "source": [
    "with open(mfccsaug_path, 'rb') as f:\n",
    "    mfccs = pickle.load(f)\n",
    "    \n",
    "with open(yaug_path, 'rb') as f:\n",
    "    y = pickle.load(f)"
   ]
  },
  {
   "cell_type": "markdown",
   "metadata": {
    "id": "JTeCREELebaL"
   },
   "source": [
    "## Save new data"
   ]
  },
  {
   "cell_type": "code",
   "execution_count": null,
   "metadata": {
    "colab": {
     "base_uri": "https://localhost:8080/",
     "height": 52
    },
    "executionInfo": {
     "elapsed": 379,
     "status": "ok",
     "timestamp": 1628501974365,
     "user": {
      "displayName": "Eleonora Mancini",
      "photoUrl": "https://lh3.googleusercontent.com/a-/AOh14GgGMAKQj5wg21_r-iyQIVVYF436AnA5QQFEsFsFtg=s64",
      "userId": "13827522260918404568"
     },
     "user_tz": -120
    },
    "id": "Gepz3wcMebaQ",
    "outputId": "f8b14aaf-d455-4715-ab16-c58311fe5db0"
   },
   "outputs": [
    {
     "data": {
      "application/vnd.google.colaboratory.intrinsic+json": {
       "type": "string"
      },
      "text/plain": [
       "\"\\nwith open(mfccs2_path, 'wb') as f:\\n     pickle.dump(mfccs,f)\\n    \\nwith open(y2_path, 'wb') as f:\\n     pickle.dump(y,f)\\n\""
      ]
     },
     "execution_count": 4,
     "metadata": {
      "tags": []
     },
     "output_type": "execute_result"
    }
   ],
   "source": [
    "import pickle \n",
    "\n",
    "mfccs2_path = 'mfccs2.pickle'\n",
    "y2_path = 'y2.pickle'\n",
    "\n",
    "'''\n",
    "with open(mfccs2_path, 'wb') as f:\n",
    "     pickle.dump(mfccs,f)\n",
    "    \n",
    "with open(y2_path, 'wb') as f:\n",
    "     pickle.dump(y,f)\n",
    "'''   \n"
   ]
  },
  {
   "cell_type": "markdown",
   "metadata": {
    "id": "BAFENd78ViLH"
   },
   "source": [
    "## Load data"
   ]
  },
  {
   "cell_type": "code",
   "execution_count": null,
   "metadata": {
    "id": "HJMJ_C7LVje6"
   },
   "outputs": [],
   "source": [
    "with open(mfccs2_path, 'rb') as f:\n",
    "    mfccs = pickle.load(f)\n",
    "    \n",
    "with open(y2_path, 'rb') as f:\n",
    "    y = pickle.load(f)"
   ]
  },
  {
   "cell_type": "markdown",
   "metadata": {
    "id": "fGNXA9IMVl7U"
   },
   "source": [
    "## Encode labels"
   ]
  },
  {
   "cell_type": "code",
   "execution_count": null,
   "metadata": {
    "colab": {
     "base_uri": "https://localhost:8080/"
    },
    "executionInfo": {
     "elapsed": 334,
     "status": "ok",
     "timestamp": 1628502072947,
     "user": {
      "displayName": "Eleonora Mancini",
      "photoUrl": "https://lh3.googleusercontent.com/a-/AOh14GgGMAKQj5wg21_r-iyQIVVYF436AnA5QQFEsFsFtg=s64",
      "userId": "13827522260918404568"
     },
     "user_tz": -120
    },
    "id": "yzjoDCahebaQ",
    "outputId": "584bfaa1-30e3-4e31-d797-8e2c1fb18362"
   },
   "outputs": [
    {
     "data": {
      "text/plain": [
       "{'angry', 'fear', 'negative', 'neutral', 'positive', 'sadness', 'surprise'}"
      ]
     },
     "execution_count": 7,
     "metadata": {
      "tags": []
     },
     "output_type": "execute_result"
    }
   ],
   "source": [
    "set(y)"
   ]
  },
  {
   "cell_type": "code",
   "execution_count": null,
   "metadata": {
    "id": "2S9bJMNbebaR"
   },
   "outputs": [],
   "source": [
    "y = np.where(y=='positive', 'happy', y)\n",
    "y = np.where(y=='negative', 'disgust', y)"
   ]
  },
  {
   "cell_type": "code",
   "execution_count": null,
   "metadata": {
    "id": "yVwSeCmyebaR"
   },
   "outputs": [],
   "source": [
    "emotion_enc = {'fear':1, 'disgust':1, 'neutral':0, 'happy':0, 'sadness':1, 'surprise':0, 'angry':1}"
   ]
  },
  {
   "cell_type": "markdown",
   "metadata": {
    "id": "SURnyXNaV3Cn"
   },
   "source": [
    "## Train Test Split"
   ]
  },
  {
   "cell_type": "code",
   "execution_count": null,
   "metadata": {
    "colab": {
     "base_uri": "https://localhost:8080/"
    },
    "executionInfo": {
     "elapsed": 1152,
     "status": "ok",
     "timestamp": 1628502094463,
     "user": {
      "displayName": "Eleonora Mancini",
      "photoUrl": "https://lh3.googleusercontent.com/a-/AOh14GgGMAKQj5wg21_r-iyQIVVYF436AnA5QQFEsFsFtg=s64",
      "userId": "13827522260918404568"
     },
     "user_tz": -120
    },
    "id": "AUXs4bwlebaR",
    "outputId": "516addd8-4daf-4e8f-e22c-d3ba9d04858b"
   },
   "outputs": [
    {
     "data": {
      "text/plain": [
       "((18868, 236, 40),\n",
       " (2358, 236, 40),\n",
       " (2359, 236, 40),\n",
       " (18868,),\n",
       " (2358,),\n",
       " (2359,))"
      ]
     },
     "execution_count": 11,
     "metadata": {
      "tags": []
     },
     "output_type": "execute_result"
    }
   ],
   "source": [
    "X_train, X_val, y_train, y_val = train_test_split(mfccs, y, test_size=0.2, random_state=12) #12\n",
    "X_val, X_test, y_val, y_test = train_test_split(X_val, y_val, test_size=0.5, random_state=15) #15\n",
    "\n",
    "X_train.shape, X_val.shape, X_test.shape, y_train.shape, y_val.shape, y_test.shape"
   ]
  },
  {
   "cell_type": "code",
   "execution_count": null,
   "metadata": {
    "id": "mGi9vxIYebaS"
   },
   "outputs": [],
   "source": [
    "y_train = pd.Series(y_train).map(emotion_enc)\n",
    "y_val = pd.Series(y_val).map(emotion_enc)\n",
    "y_test = pd.Series(y_test).map(emotion_enc)"
   ]
  },
  {
   "cell_type": "code",
   "execution_count": null,
   "metadata": {
    "colab": {
     "base_uri": "https://localhost:8080/"
    },
    "executionInfo": {
     "elapsed": 6,
     "status": "ok",
     "timestamp": 1628502094465,
     "user": {
      "displayName": "Eleonora Mancini",
      "photoUrl": "https://lh3.googleusercontent.com/a-/AOh14GgGMAKQj5wg21_r-iyQIVVYF436AnA5QQFEsFsFtg=s64",
      "userId": "13827522260918404568"
     },
     "user_tz": -120
    },
    "id": "7Bw8-GGHebaS",
    "outputId": "e9ea2bd1-e709-48c8-edea-88ee244ca4b9"
   },
   "outputs": [
    {
     "data": {
      "text/plain": [
       "(array([0, 1]), array([1, 0]), array([0, 1]))"
      ]
     },
     "execution_count": 13,
     "metadata": {
      "tags": []
     },
     "output_type": "execute_result"
    }
   ],
   "source": [
    "y_train.unique(), y_test.unique(), y_val.unique()"
   ]
  },
  {
   "cell_type": "markdown",
   "metadata": {
    "id": "dmBDqsC0Q6NB"
   },
   "source": [
    "## Standard Scaling"
   ]
  },
  {
   "cell_type": "code",
   "execution_count": null,
   "metadata": {
    "id": "M1iiGWSgTGrg"
   },
   "outputs": [],
   "source": [
    "from sklearn.preprocessing import StandardScaler\n",
    "scaler = StandardScaler()\n",
    "X_train = scaler.fit_transform(X_train.reshape(-1, X_train.shape[-1])).reshape(X_train.shape)\n",
    "X_test = scaler.transform(X_test.reshape(-1, X_test.shape[-1])).reshape(X_test.shape)\n",
    "X_val = scaler.transform(X_val.reshape(-1, X_val.shape[-1])).reshape(X_val.shape)"
   ]
  },
  {
   "cell_type": "markdown",
   "metadata": {
    "id": "QPLs9FQ_Sttb"
   },
   "source": [
    "## Save Scaler fitted"
   ]
  },
  {
   "cell_type": "code",
   "execution_count": null,
   "metadata": {
    "id": "YeydBkFHSwWT"
   },
   "outputs": [],
   "source": [
    "with open('scaler', 'wb') as f:\n",
    "     pickle.dump(scaler,f)"
   ]
  },
  {
   "cell_type": "markdown",
   "metadata": {
    "id": "Ju-u6k1xVpmT"
   },
   "source": [
    "## Model"
   ]
  },
  {
   "cell_type": "code",
   "execution_count": null,
   "metadata": {
    "colab": {
     "base_uri": "https://localhost:8080/"
    },
    "executionInfo": {
     "elapsed": 393,
     "status": "ok",
     "timestamp": 1628244365096,
     "user": {
      "displayName": "Eleonora Mancini",
      "photoUrl": "https://lh3.googleusercontent.com/a-/AOh14GgGMAKQj5wg21_r-iyQIVVYF436AnA5QQFEsFsFtg=s64",
      "userId": "13827522260918404568"
     },
     "user_tz": -120
    },
    "id": "H4KjyanvebaT",
    "outputId": "532cfe84-c43f-4265-d767-76ad6561d912"
   },
   "outputs": [
    {
     "name": "stdout",
     "output_type": "stream",
     "text": [
      "Model: \"sequential\"\n",
      "_________________________________________________________________\n",
      "Layer (type)                 Output Shape              Param #   \n",
      "=================================================================\n",
      "conv1d (Conv1D)              (None, 236, 256)          51456     \n",
      "_________________________________________________________________\n",
      "activation (Activation)      (None, 236, 256)          0         \n",
      "_________________________________________________________________\n",
      "max_pooling1d (MaxPooling1D) (None, 29, 256)           0         \n",
      "_________________________________________________________________\n",
      "dropout (Dropout)            (None, 29, 256)           0         \n",
      "_________________________________________________________________\n",
      "conv1d_1 (Conv1D)            (None, 29, 128)           163968    \n",
      "_________________________________________________________________\n",
      "activation_1 (Activation)    (None, 29, 128)           0         \n",
      "_________________________________________________________________\n",
      "max_pooling1d_1 (MaxPooling1 (None, 7, 128)            0         \n",
      "_________________________________________________________________\n",
      "dropout_1 (Dropout)          (None, 7, 128)            0         \n",
      "_________________________________________________________________\n",
      "flatten (Flatten)            (None, 896)               0         \n",
      "_________________________________________________________________\n",
      "dense (Dense)                (None, 64)                57408     \n",
      "_________________________________________________________________\n",
      "dense_1 (Dense)              (None, 1)                 65        \n",
      "_________________________________________________________________\n",
      "activation_2 (Activation)    (None, 1)                 0         \n",
      "=================================================================\n",
      "Total params: 272,897\n",
      "Trainable params: 272,897\n",
      "Non-trainable params: 0\n",
      "_________________________________________________________________\n"
     ]
    }
   ],
   "source": [
    "model3 = Sequential()\n",
    "\n",
    "model3.add(layers.Conv1D(256, 5,padding='same',\n",
    "                 input_shape=(236,40)))\n",
    "model3.add(layers.Activation('relu'))\n",
    "model3.add(layers.MaxPooling1D(pool_size=(8)))\n",
    "model3.add(layers.Dropout(0.2))\n",
    "\n",
    "model3.add(layers.Conv1D(128, 5,padding='same'))\n",
    "model3.add(layers.Activation('relu'))\n",
    "model3.add(layers.MaxPooling1D(pool_size=(4)))\n",
    "model3.add(layers.Dropout(0.1))\n",
    "\n",
    "model3.add(layers.Flatten())\n",
    "model3.add(layers.Dense(64))\n",
    "model3.add(layers.Dense(1))\n",
    "model3.add(layers.Activation('sigmoid'))\n",
    "\n",
    "model3.summary()\n"
   ]
  },
  {
   "cell_type": "markdown",
   "metadata": {
    "id": "To3_-xoMVscF"
   },
   "source": [
    "## Training"
   ]
  },
  {
   "cell_type": "code",
   "execution_count": null,
   "metadata": {
    "id": "FmOwKDAwebaU"
   },
   "outputs": [],
   "source": [
    "# weight_path2 = 'd://ITC//final_project_data//best_weights3.hdf5'\n",
    "weight_path2 = 'binary_scaled_augmented_CHANGE_ORDER.hdf5'\n",
    "\n",
    "reduce_lr = tf.keras.callbacks.ReduceLROnPlateau(monitor='val_accuracy', \n",
    "                                                 factor=0.5, patience=4, \n",
    "                                                 verbose=1, mode='max', \n",
    "                                                 min_lr=0.00001)\n",
    "\n",
    "early_stop = tf.keras.callbacks.EarlyStopping(monitor='val_loss', patience=45, \n",
    "                                              verbose=1)\n",
    "\n",
    "model_checkpoint2 = tf.keras.callbacks.ModelCheckpoint(filepath=weight_path2, \n",
    "                                                      save_weights_only=True, \n",
    "                                                      monitor='val_accuracy', \n",
    "                                                      mode='max', \n",
    "                                                      save_best_only=True)\n",
    "# classweight \n",
    "from sklearn.utils import class_weight\n",
    "class_weights = class_weight.compute_class_weight('balanced', np.unique(y_train), y_train)\n",
    "class_weights = {l:c for l,c in zip(np.unique(y_train), class_weights)}\n"
   ]
  },
  {
   "cell_type": "code",
   "execution_count": null,
   "metadata": {
    "colab": {
     "base_uri": "https://localhost:8080/"
    },
    "executionInfo": {
     "elapsed": 1668997,
     "status": "ok",
     "timestamp": 1628248001714,
     "user": {
      "displayName": "Eleonora Mancini",
      "photoUrl": "https://lh3.googleusercontent.com/a-/AOh14GgGMAKQj5wg21_r-iyQIVVYF436AnA5QQFEsFsFtg=s64",
      "userId": "13827522260918404568"
     },
     "user_tz": -120
    },
    "id": "LdVFqexbebaV",
    "outputId": "098c6421-d3d9-4b5f-a058-5dd509d3467d",
    "scrolled": true
   },
   "outputs": [
    {
     "name": "stdout",
     "output_type": "stream",
     "text": [
      "WARNING:tensorflow:From /usr/local/lib/python3.7/dist-packages/tensorflow/python/ops/array_ops.py:5049: calling gather (from tensorflow.python.ops.array_ops) with validate_indices is deprecated and will be removed in a future version.\n",
      "Instructions for updating:\n",
      "The `validate_indices` argument has no effect. Indices are always validated on CPU and never validated on GPU.\n",
      "Epoch 1/500\n",
      "1180/1180 [==============================] - 53s 44ms/step - loss: 0.2852 - accuracy: 0.8532 - val_loss: 0.1833 - val_accuracy: 0.9097\n",
      "Epoch 2/500\n",
      "1180/1180 [==============================] - 52s 44ms/step - loss: 0.1850 - accuracy: 0.9121 - val_loss: 0.1347 - val_accuracy: 0.9364\n",
      "Epoch 3/500\n",
      "1180/1180 [==============================] - 52s 44ms/step - loss: 0.1408 - accuracy: 0.9370 - val_loss: 0.1090 - val_accuracy: 0.9500\n",
      "Epoch 4/500\n",
      "1180/1180 [==============================] - 52s 44ms/step - loss: 0.1109 - accuracy: 0.9525 - val_loss: 0.0842 - val_accuracy: 0.9631\n",
      "Epoch 5/500\n",
      "1180/1180 [==============================] - 52s 44ms/step - loss: 0.0866 - accuracy: 0.9645 - val_loss: 0.0761 - val_accuracy: 0.9652\n",
      "Epoch 6/500\n",
      "1180/1180 [==============================] - 52s 44ms/step - loss: 0.0731 - accuracy: 0.9722 - val_loss: 0.0831 - val_accuracy: 0.9678\n",
      "Epoch 7/500\n",
      "1180/1180 [==============================] - 52s 44ms/step - loss: 0.0650 - accuracy: 0.9740 - val_loss: 0.0460 - val_accuracy: 0.9839\n",
      "Epoch 8/500\n",
      "1180/1180 [==============================] - 52s 44ms/step - loss: 0.0533 - accuracy: 0.9804 - val_loss: 0.0559 - val_accuracy: 0.9779\n",
      "Epoch 9/500\n",
      "1180/1180 [==============================] - 52s 44ms/step - loss: 0.0513 - accuracy: 0.9799 - val_loss: 0.0300 - val_accuracy: 0.9898\n",
      "Epoch 10/500\n",
      "1180/1180 [==============================] - 52s 44ms/step - loss: 0.0481 - accuracy: 0.9817 - val_loss: 0.0316 - val_accuracy: 0.9898\n",
      "Epoch 11/500\n",
      "1180/1180 [==============================] - 52s 44ms/step - loss: 0.0416 - accuracy: 0.9843 - val_loss: 0.0565 - val_accuracy: 0.9771\n",
      "Epoch 12/500\n",
      "1180/1180 [==============================] - 52s 44ms/step - loss: 0.0364 - accuracy: 0.9867 - val_loss: 0.0476 - val_accuracy: 0.9826\n",
      "Epoch 13/500\n",
      "1180/1180 [==============================] - 52s 44ms/step - loss: 0.0382 - accuracy: 0.9861 - val_loss: 0.0246 - val_accuracy: 0.9898\n",
      "\n",
      "Epoch 00013: ReduceLROnPlateau reducing learning rate to 0.0005000000237487257.\n",
      "Epoch 14/500\n",
      "1180/1180 [==============================] - 52s 44ms/step - loss: 0.0216 - accuracy: 0.9923 - val_loss: 0.0260 - val_accuracy: 0.9924\n",
      "Epoch 15/500\n",
      "1180/1180 [==============================] - 52s 44ms/step - loss: 0.0158 - accuracy: 0.9946 - val_loss: 0.0214 - val_accuracy: 0.9936\n",
      "Epoch 16/500\n",
      "1180/1180 [==============================] - 52s 44ms/step - loss: 0.0158 - accuracy: 0.9948 - val_loss: 0.0161 - val_accuracy: 0.9936\n",
      "Epoch 17/500\n",
      "1180/1180 [==============================] - 52s 44ms/step - loss: 0.0148 - accuracy: 0.9947 - val_loss: 0.0197 - val_accuracy: 0.9928\n",
      "Epoch 18/500\n",
      "1180/1180 [==============================] - 52s 44ms/step - loss: 0.0137 - accuracy: 0.9955 - val_loss: 0.0188 - val_accuracy: 0.9932\n",
      "Epoch 19/500\n",
      "1180/1180 [==============================] - 52s 44ms/step - loss: 0.0123 - accuracy: 0.9958 - val_loss: 0.0246 - val_accuracy: 0.9932\n",
      "\n",
      "Epoch 00019: ReduceLROnPlateau reducing learning rate to 0.0002500000118743628.\n",
      "Epoch 20/500\n",
      "1180/1180 [==============================] - 52s 44ms/step - loss: 0.0085 - accuracy: 0.9971 - val_loss: 0.0149 - val_accuracy: 0.9949\n",
      "Epoch 21/500\n",
      "1180/1180 [==============================] - 52s 44ms/step - loss: 0.0061 - accuracy: 0.9979 - val_loss: 0.0201 - val_accuracy: 0.9941\n",
      "Epoch 22/500\n",
      "1180/1180 [==============================] - 52s 44ms/step - loss: 0.0066 - accuracy: 0.9972 - val_loss: 0.0203 - val_accuracy: 0.9941\n",
      "Epoch 23/500\n",
      "1180/1180 [==============================] - 52s 44ms/step - loss: 0.0067 - accuracy: 0.9977 - val_loss: 0.0186 - val_accuracy: 0.9941\n",
      "Epoch 24/500\n",
      "1180/1180 [==============================] - 52s 44ms/step - loss: 0.0063 - accuracy: 0.9982 - val_loss: 0.0136 - val_accuracy: 0.9945\n",
      "\n",
      "Epoch 00024: ReduceLROnPlateau reducing learning rate to 0.0001250000059371814.\n",
      "Epoch 25/500\n",
      "1180/1180 [==============================] - 52s 44ms/step - loss: 0.0048 - accuracy: 0.9985 - val_loss: 0.0182 - val_accuracy: 0.9941\n",
      "Epoch 26/500\n",
      "1180/1180 [==============================] - 52s 44ms/step - loss: 0.0054 - accuracy: 0.9983 - val_loss: 0.0196 - val_accuracy: 0.9945\n",
      "Epoch 27/500\n",
      "1180/1180 [==============================] - 52s 44ms/step - loss: 0.0037 - accuracy: 0.9988 - val_loss: 0.0196 - val_accuracy: 0.9945\n",
      "Epoch 28/500\n",
      "1180/1180 [==============================] - 52s 44ms/step - loss: 0.0039 - accuracy: 0.9987 - val_loss: 0.0198 - val_accuracy: 0.9945\n",
      "\n",
      "Epoch 00028: ReduceLROnPlateau reducing learning rate to 6.25000029685907e-05.\n",
      "Epoch 29/500\n",
      "1180/1180 [==============================] - 52s 44ms/step - loss: 0.0025 - accuracy: 0.9991 - val_loss: 0.0160 - val_accuracy: 0.9958\n",
      "Epoch 30/500\n",
      "1180/1180 [==============================] - 53s 45ms/step - loss: 0.0025 - accuracy: 0.9993 - val_loss: 0.0204 - val_accuracy: 0.9949\n",
      "Epoch 31/500\n",
      "1180/1180 [==============================] - 53s 45ms/step - loss: 0.0029 - accuracy: 0.9988 - val_loss: 0.0191 - val_accuracy: 0.9949\n",
      "Epoch 32/500\n",
      "1180/1180 [==============================] - 53s 45ms/step - loss: 0.0019 - accuracy: 0.9993 - val_loss: 0.0183 - val_accuracy: 0.9953\n",
      "Epoch 33/500\n",
      "1180/1180 [==============================] - 53s 45ms/step - loss: 0.0036 - accuracy: 0.9989 - val_loss: 0.0179 - val_accuracy: 0.9953\n",
      "\n",
      "Epoch 00033: ReduceLROnPlateau reducing learning rate to 3.125000148429535e-05.\n",
      "Epoch 34/500\n",
      "1180/1180 [==============================] - 53s 45ms/step - loss: 0.0024 - accuracy: 0.9993 - val_loss: 0.0172 - val_accuracy: 0.9953\n",
      "Epoch 35/500\n",
      "1180/1180 [==============================] - 53s 45ms/step - loss: 0.0017 - accuracy: 0.9993 - val_loss: 0.0167 - val_accuracy: 0.9949\n",
      "Epoch 36/500\n",
      "1180/1180 [==============================] - 53s 45ms/step - loss: 0.0026 - accuracy: 0.9991 - val_loss: 0.0164 - val_accuracy: 0.9949\n",
      "Epoch 37/500\n",
      "1180/1180 [==============================] - 53s 45ms/step - loss: 0.0017 - accuracy: 0.9994 - val_loss: 0.0174 - val_accuracy: 0.9945\n",
      "\n",
      "Epoch 00037: ReduceLROnPlateau reducing learning rate to 1.5625000742147677e-05.\n",
      "Epoch 38/500\n",
      "1180/1180 [==============================] - 52s 44ms/step - loss: 0.0020 - accuracy: 0.9991 - val_loss: 0.0157 - val_accuracy: 0.9953\n",
      "Epoch 39/500\n",
      "1180/1180 [==============================] - 53s 45ms/step - loss: 0.0023 - accuracy: 0.9993 - val_loss: 0.0156 - val_accuracy: 0.9966\n",
      "Epoch 40/500\n",
      "1180/1180 [==============================] - 53s 45ms/step - loss: 0.0023 - accuracy: 0.9994 - val_loss: 0.0148 - val_accuracy: 0.9970\n",
      "Epoch 41/500\n",
      "1180/1180 [==============================] - 53s 45ms/step - loss: 0.0034 - accuracy: 0.9989 - val_loss: 0.0160 - val_accuracy: 0.9962\n",
      "Epoch 42/500\n",
      "1180/1180 [==============================] - 53s 45ms/step - loss: 0.0020 - accuracy: 0.9995 - val_loss: 0.0163 - val_accuracy: 0.9953\n",
      "Epoch 43/500\n",
      "1180/1180 [==============================] - 53s 45ms/step - loss: 0.0020 - accuracy: 0.9994 - val_loss: 0.0157 - val_accuracy: 0.9953\n",
      "Epoch 44/500\n",
      "1180/1180 [==============================] - 53s 45ms/step - loss: 0.0021 - accuracy: 0.9996 - val_loss: 0.0158 - val_accuracy: 0.9953\n",
      "\n",
      "Epoch 00044: ReduceLROnPlateau reducing learning rate to 1e-05.\n",
      "Epoch 45/500\n",
      "1180/1180 [==============================] - 53s 45ms/step - loss: 0.0027 - accuracy: 0.9994 - val_loss: 0.0160 - val_accuracy: 0.9958\n",
      "Epoch 46/500\n",
      "1180/1180 [==============================] - 53s 45ms/step - loss: 0.0017 - accuracy: 0.9994 - val_loss: 0.0162 - val_accuracy: 0.9958\n",
      "Epoch 47/500\n",
      "1180/1180 [==============================] - 53s 45ms/step - loss: 0.0017 - accuracy: 0.9995 - val_loss: 0.0162 - val_accuracy: 0.9962\n",
      "Epoch 48/500\n",
      "1180/1180 [==============================] - 53s 45ms/step - loss: 0.0026 - accuracy: 0.9993 - val_loss: 0.0159 - val_accuracy: 0.9962\n",
      "Epoch 49/500\n",
      "1180/1180 [==============================] - 53s 45ms/step - loss: 0.0019 - accuracy: 0.9993 - val_loss: 0.0154 - val_accuracy: 0.9958\n",
      "Epoch 50/500\n",
      "1180/1180 [==============================] - 53s 45ms/step - loss: 0.0022 - accuracy: 0.9993 - val_loss: 0.0157 - val_accuracy: 0.9958\n",
      "Epoch 51/500\n",
      "1180/1180 [==============================] - 53s 45ms/step - loss: 9.9733e-04 - accuracy: 0.9998 - val_loss: 0.0153 - val_accuracy: 0.9962\n",
      "Epoch 52/500\n",
      "1180/1180 [==============================] - 53s 45ms/step - loss: 0.0025 - accuracy: 0.9993 - val_loss: 0.0157 - val_accuracy: 0.9962\n",
      "Epoch 53/500\n",
      "1180/1180 [==============================] - 53s 45ms/step - loss: 0.0022 - accuracy: 0.9994 - val_loss: 0.0157 - val_accuracy: 0.9962\n",
      "Epoch 54/500\n",
      "1180/1180 [==============================] - 53s 45ms/step - loss: 0.0016 - accuracy: 0.9993 - val_loss: 0.0155 - val_accuracy: 0.9962\n",
      "Epoch 55/500\n",
      "1180/1180 [==============================] - 53s 45ms/step - loss: 0.0014 - accuracy: 0.9996 - val_loss: 0.0164 - val_accuracy: 0.9958\n",
      "Epoch 56/500\n",
      "1180/1180 [==============================] - 53s 45ms/step - loss: 0.0019 - accuracy: 0.9995 - val_loss: 0.0161 - val_accuracy: 0.9962\n",
      "Epoch 57/500\n",
      "1180/1180 [==============================] - 53s 45ms/step - loss: 0.0013 - accuracy: 0.9996 - val_loss: 0.0155 - val_accuracy: 0.9958\n",
      "Epoch 58/500\n",
      "1180/1180 [==============================] - 53s 45ms/step - loss: 0.0013 - accuracy: 0.9995 - val_loss: 0.0155 - val_accuracy: 0.9958\n",
      "Epoch 59/500\n",
      "1180/1180 [==============================] - 53s 44ms/step - loss: 0.0020 - accuracy: 0.9994 - val_loss: 0.0157 - val_accuracy: 0.9962\n",
      "Epoch 60/500\n",
      "1180/1180 [==============================] - 53s 45ms/step - loss: 0.0024 - accuracy: 0.9992 - val_loss: 0.0152 - val_accuracy: 0.9962\n",
      "Epoch 61/500\n",
      "1180/1180 [==============================] - 53s 45ms/step - loss: 0.0020 - accuracy: 0.9993 - val_loss: 0.0152 - val_accuracy: 0.9966\n",
      "Epoch 62/500\n",
      "1180/1180 [==============================] - 53s 45ms/step - loss: 0.0024 - accuracy: 0.9994 - val_loss: 0.0157 - val_accuracy: 0.9958\n",
      "Epoch 63/500\n",
      "1180/1180 [==============================] - 52s 44ms/step - loss: 0.0025 - accuracy: 0.9994 - val_loss: 0.0154 - val_accuracy: 0.9958\n",
      "Epoch 64/500\n",
      "1180/1180 [==============================] - 53s 45ms/step - loss: 0.0020 - accuracy: 0.9994 - val_loss: 0.0155 - val_accuracy: 0.9958\n",
      "Epoch 65/500\n",
      "1180/1180 [==============================] - 53s 45ms/step - loss: 0.0025 - accuracy: 0.9993 - val_loss: 0.0157 - val_accuracy: 0.9953\n",
      "Epoch 66/500\n",
      "1180/1180 [==============================] - 53s 45ms/step - loss: 0.0015 - accuracy: 0.9994 - val_loss: 0.0153 - val_accuracy: 0.9953\n",
      "Epoch 67/500\n",
      "1180/1180 [==============================] - 53s 45ms/step - loss: 0.0010 - accuracy: 0.9996 - val_loss: 0.0150 - val_accuracy: 0.9958\n",
      "Epoch 68/500\n",
      "1180/1180 [==============================] - 53s 45ms/step - loss: 0.0016 - accuracy: 0.9995 - val_loss: 0.0156 - val_accuracy: 0.9953\n",
      "Epoch 69/500\n",
      "1180/1180 [==============================] - 53s 45ms/step - loss: 0.0021 - accuracy: 0.9991 - val_loss: 0.0153 - val_accuracy: 0.9953\n",
      "Epoch 00069: early stopping\n"
     ]
    },
    {
     "data": {
      "text/plain": [
       "<tensorflow.python.keras.callbacks.History at 0x7f144b5ce4d0>"
      ]
     },
     "execution_count": 61,
     "metadata": {
      "tags": []
     },
     "output_type": "execute_result"
    }
   ],
   "source": [
    "model3.compile(loss='binary_crossentropy', optimizer='adam', metrics='accuracy')\n",
    "model3.fit(X_train, y_train, batch_size=16, epochs=500, validation_data=(X_val, y_val),\n",
    "           callbacks=[reduce_lr, early_stop, model_checkpoint2], class_weight = class_weights)"
   ]
  },
  {
   "cell_type": "markdown",
   "metadata": {
    "id": "GCuGcpruU187"
   },
   "source": [
    "## Save model"
   ]
  },
  {
   "cell_type": "code",
   "execution_count": null,
   "metadata": {
    "colab": {
     "base_uri": "https://localhost:8080/"
    },
    "executionInfo": {
     "elapsed": 2092,
     "status": "ok",
     "timestamp": 1628248554947,
     "user": {
      "displayName": "Eleonora Mancini",
      "photoUrl": "https://lh3.googleusercontent.com/a-/AOh14GgGMAKQj5wg21_r-iyQIVVYF436AnA5QQFEsFsFtg=s64",
      "userId": "13827522260918404568"
     },
     "user_tz": -120
    },
    "id": "NGkcNK-MMfLF",
    "outputId": "542837b4-421d-4664-bcfd-d25ec032a3da"
   },
   "outputs": [
    {
     "name": "stdout",
     "output_type": "stream",
     "text": [
      "INFO:tensorflow:Assets written to: my_model_binary_scaled_pn_CHANGE_ORDER/assets\n"
     ]
    }
   ],
   "source": [
    "model3.save(\"my_model_binary_scaled_pn_CHANGE_ORDER\")"
   ]
  },
  {
   "cell_type": "code",
   "execution_count": null,
   "metadata": {
    "colab": {
     "base_uri": "https://localhost:8080/"
    },
    "executionInfo": {
     "elapsed": 2647,
     "status": "ok",
     "timestamp": 1627915739926,
     "user": {
      "displayName": "Eleonora Mancini",
      "photoUrl": "https://lh3.googleusercontent.com/a-/AOh14GgGMAKQj5wg21_r-iyQIVVYF436AnA5QQFEsFsFtg=s64",
      "userId": "13827522260918404568"
     },
     "user_tz": -120
    },
    "id": "cj9rTozOUO3b",
    "outputId": "bf8de42c-f6a3-4a86-9695-818863311127"
   },
   "outputs": [
    {
     "name": "stdout",
     "output_type": "stream",
     "text": [
      "56/56 [==============================] - 1s 18ms/step - loss: 0.2437 - accuracy: 0.9420\n"
     ]
    },
    {
     "data": {
      "text/plain": [
       "[0.24373212456703186, 0.9419642686843872]"
      ]
     },
     "execution_count": 49,
     "metadata": {
      "tags": []
     },
     "output_type": "execute_result"
    }
   ],
   "source": [
    "model3.evaluate(X_test, y_test, batch_size=16)"
   ]
  },
  {
   "cell_type": "code",
   "execution_count": null,
   "metadata": {
    "id": "An2WgbCTUOum"
   },
   "outputs": [],
   "source": [
    "predictions = model3.predict(X_test)"
   ]
  },
  {
   "cell_type": "code",
   "execution_count": null,
   "metadata": {
    "id": "mTJ_pdO2dTmr"
   },
   "outputs": [],
   "source": [
    "pred = [1 * (x[0]>=0.5) for x in predictions]"
   ]
  },
  {
   "cell_type": "code",
   "execution_count": null,
   "metadata": {
    "colab": {
     "base_uri": "https://localhost:8080/"
    },
    "executionInfo": {
     "elapsed": 196,
     "status": "ok",
     "timestamp": 1627917761399,
     "user": {
      "displayName": "Eleonora Mancini",
      "photoUrl": "https://lh3.googleusercontent.com/a-/AOh14GgGMAKQj5wg21_r-iyQIVVYF436AnA5QQFEsFsFtg=s64",
      "userId": "13827522260918404568"
     },
     "user_tz": -120
    },
    "id": "w3HAn1dgV2Nw",
    "outputId": "389d14d3-8795-4d4d-9276-d33a686afe7b"
   },
   "outputs": [
    {
     "data": {
      "text/plain": [
       "491"
      ]
     },
     "execution_count": 57,
     "metadata": {
      "tags": []
     },
     "output_type": "execute_result"
    }
   ],
   "source": [
    "counter = 0 \n",
    "for i in range(len(pred)):\n",
    "  if predictions[i] != y_test[i]:\n",
    "    counter +=1\n",
    "counter \n"
   ]
  },
  {
   "cell_type": "code",
   "execution_count": null,
   "metadata": {
    "colab": {
     "base_uri": "https://localhost:8080/"
    },
    "executionInfo": {
     "elapsed": 192,
     "status": "ok",
     "timestamp": 1627915859579,
     "user": {
      "displayName": "Eleonora Mancini",
      "photoUrl": "https://lh3.googleusercontent.com/a-/AOh14GgGMAKQj5wg21_r-iyQIVVYF436AnA5QQFEsFsFtg=s64",
      "userId": "13827522260918404568"
     },
     "user_tz": -120
    },
    "id": "Qwskv7UDWI_C",
    "outputId": "0deaa485-10b1-4443-bcae-5737de785875"
   },
   "outputs": [
    {
     "data": {
      "text/plain": [
       "896"
      ]
     },
     "execution_count": 52,
     "metadata": {
      "tags": []
     },
     "output_type": "execute_result"
    }
   ],
   "source": [
    "len(y_test)"
   ]
  },
  {
   "cell_type": "markdown",
   "metadata": {
    "id": "f96_OJStebaZ"
   },
   "source": [
    "## Final evaluation"
   ]
  },
  {
   "cell_type": "code",
   "execution_count": null,
   "metadata": {
    "id": "v6DhIgZnebaZ"
   },
   "outputs": [],
   "source": [
    "def report_res_and_plot_matrix(y_test, y_pred, plot_classes):\n",
    "\n",
    "  #report metrics\n",
    "  acc = accuracy_score(y_test, y_pred)\n",
    "  print(f\"Accuracy: {acc:.4f}\")\n",
    "  # print(f\"Classes: {plot_classes}\")\n",
    "\n",
    "  #plot matrix\n",
    "  cnf_matrix = confusion_matrix(y_test, y_pred)\n",
    "  fig, ax = plt.subplots()\n",
    "    \n",
    "  tick_marks = np.arange(len(plot_classes))\n",
    "  plt.xticks(ticks=tick_marks, labels=plot_classes, rotation=90)\n",
    "  plt.yticks(ticks=tick_marks, labels=plot_classes, rotation=90)\n",
    "\n",
    "  group_counts = [f'{value:0.0f}' for value in cnf_matrix.flatten()]\n",
    "  group_percentages = [f'{100 * value:0.1f} %' for value in \n",
    "                       cnf_matrix.flatten()/np.sum(cnf_matrix)]\n",
    "  labels = [f'{v1}\\n({v2})' for v1, v2 in\n",
    "            zip(group_counts,group_percentages)]\n",
    "  n = int(np.sqrt(len(labels)))\n",
    "  labels = np.asarray(labels).reshape(n,n)\n",
    "  sns.heatmap(cnf_matrix, annot=labels, fmt='', cmap='Blues',\n",
    "              xticklabels=plot_classes, yticklabels=plot_classes)\n",
    "\n",
    "\n",
    "  ax.xaxis.set_label_position(\"bottom\")\n",
    "  plt.tight_layout()\n",
    "  plt.title('Confusion matrix', y=1.1)\n",
    "  plt.ylabel('Actual label')\n",
    "  plt.xlabel('Predicted label')\n",
    "  plt.show()\n",
    "\n",
    "  # return metrics\n",
    "  return [acc, cnf_matrix]"
   ]
  },
  {
   "cell_type": "code",
   "execution_count": null,
   "metadata": {
    "id": "6cTZUW4IjKTf"
   },
   "outputs": [],
   "source": [
    "#model3 = tf.keras.models.load_model('model3.h5')"
   ]
  },
  {
   "cell_type": "code",
   "execution_count": null,
   "metadata": {
    "id": "xIyosyU0L8TN"
   },
   "outputs": [],
   "source": [
    "model_loaded = tf.keras.models.load_model('my_model_binary_scaled_pn_CHANGE_ORDER')"
   ]
  },
  {
   "cell_type": "code",
   "execution_count": null,
   "metadata": {
    "colab": {
     "base_uri": "https://localhost:8080/"
    },
    "executionInfo": {
     "elapsed": 1873,
     "status": "ok",
     "timestamp": 1628250630596,
     "user": {
      "displayName": "Eleonora Mancini",
      "photoUrl": "https://lh3.googleusercontent.com/a-/AOh14GgGMAKQj5wg21_r-iyQIVVYF436AnA5QQFEsFsFtg=s64",
      "userId": "13827522260918404568"
     },
     "user_tz": -120
    },
    "id": "UK44Rl01ebaa",
    "outputId": "8455f9f4-3d1c-476b-b6ce-c4ccc463c201"
   },
   "outputs": [
    {
     "name": "stdout",
     "output_type": "stream",
     "text": [
      "              precision    recall  f1-score   support\n",
      "\n",
      "           0       0.99      1.00      0.99      1010\n",
      "           1       1.00      0.99      1.00      1349\n",
      "\n",
      "    accuracy                           0.99      2359\n",
      "   macro avg       0.99      1.00      0.99      2359\n",
      "weighted avg       0.99      0.99      0.99      2359\n",
      "\n"
     ]
    }
   ],
   "source": [
    "from sklearn.metrics import classification_report\n",
    "predictions = model3.predict(X_test)\n",
    "pred = [1 * (x[0]>=0.52) for x in predictions] #0.5 o 0.52? \n",
    "print(classification_report(y_test, pred))\n",
    "#params = report_res_and_plot_matrix(y_val, y_pred, target)"
   ]
  },
  {
   "cell_type": "markdown",
   "metadata": {
    "id": "3Sw0NpgWWCFt"
   },
   "source": [
    "# Analyze Classes"
   ]
  },
  {
   "cell_type": "markdown",
   "metadata": {
    "id": "B1N_VtoJebaa"
   },
   "source": [
    "### Visualization of our classes"
   ]
  },
  {
   "cell_type": "code",
   "execution_count": null,
   "metadata": {
    "colab": {
     "base_uri": "https://localhost:8080/"
    },
    "executionInfo": {
     "elapsed": 254,
     "status": "ok",
     "timestamp": 1627899069593,
     "user": {
      "displayName": "Eleonora Mancini",
      "photoUrl": "https://lh3.googleusercontent.com/a-/AOh14GgGMAKQj5wg21_r-iyQIVVYF436AnA5QQFEsFsFtg=s64",
      "userId": "13827522260918404568"
     },
     "user_tz": -120
    },
    "id": "911Vn52iebab",
    "outputId": "663e956e-07f2-4220-98f6-8b99cd979d60"
   },
   "outputs": [
    {
     "data": {
      "text/plain": [
       "((896, 231, 40), (7165, 231, 40), (896,))"
      ]
     },
     "execution_count": 86,
     "metadata": {
      "tags": []
     },
     "output_type": "execute_result"
    }
   ],
   "source": [
    "X_test.shape, X_train.shape, y_pred.shape"
   ]
  },
  {
   "cell_type": "code",
   "execution_count": null,
   "metadata": {
    "id": "eQ4mEGa0ebab"
   },
   "outputs": [],
   "source": [
    "X_test_new = X_test.reshape(896,-1).copy()\n",
    "X_train_new = X_train.reshape(7165,-1).copy()"
   ]
  },
  {
   "cell_type": "code",
   "execution_count": null,
   "metadata": {
    "colab": {
     "base_uri": "https://localhost:8080/"
    },
    "executionInfo": {
     "elapsed": 224,
     "status": "ok",
     "timestamp": 1627899087125,
     "user": {
      "displayName": "Eleonora Mancini",
      "photoUrl": "https://lh3.googleusercontent.com/a-/AOh14GgGMAKQj5wg21_r-iyQIVVYF436AnA5QQFEsFsFtg=s64",
      "userId": "13827522260918404568"
     },
     "user_tz": -120
    },
    "id": "pT3MBS43ebac",
    "outputId": "7872d7d2-57cf-4ee0-db62-b4d703eb4c54"
   },
   "outputs": [
    {
     "data": {
      "text/plain": [
       "((896, 9240), (7165, 9240))"
      ]
     },
     "execution_count": 89,
     "metadata": {
      "tags": []
     },
     "output_type": "execute_result"
    }
   ],
   "source": [
    "X_test_new.shape, X_train_new.shape"
   ]
  },
  {
   "cell_type": "code",
   "execution_count": null,
   "metadata": {
    "id": "hwjpbZPWebac"
   },
   "outputs": [],
   "source": [
    "from sklearn.preprocessing import StandardScaler, MinMaxScaler\n",
    "\n",
    "scaler = StandardScaler()\n",
    "scaler.fit(X_train_new)\n",
    "X_train_scaled = scaler.transform(X_train_new)\n",
    "X_test_scaled = scaler.transform(X_test_new)\n"
   ]
  },
  {
   "cell_type": "code",
   "execution_count": null,
   "metadata": {
    "id": "tNeL1eAfebac"
   },
   "outputs": [],
   "source": [
    "from sklearn.decomposition import PCA\n",
    "\n",
    "pca = PCA(n_components=2)\n",
    "pca.fit_transform(X_train_scaled)\n",
    "X_pca = pca.transform(X_test_scaled)\n"
   ]
  },
  {
   "cell_type": "code",
   "execution_count": null,
   "metadata": {
    "id": "y9HzRqAxebac"
   },
   "outputs": [],
   "source": [
    "from sklearn.cluster import KMeans\n",
    "\n",
    "kmeans = KMeans(n_clusters=7, random_state=0).fit(X_pca)\n",
    "labels = kmeans.labels_"
   ]
  },
  {
   "cell_type": "code",
   "execution_count": null,
   "metadata": {
    "colab": {
     "base_uri": "https://localhost:8080/"
    },
    "executionInfo": {
     "elapsed": 228,
     "status": "ok",
     "timestamp": 1627899107316,
     "user": {
      "displayName": "Eleonora Mancini",
      "photoUrl": "https://lh3.googleusercontent.com/a-/AOh14GgGMAKQj5wg21_r-iyQIVVYF436AnA5QQFEsFsFtg=s64",
      "userId": "13827522260918404568"
     },
     "user_tz": -120
    },
    "id": "fQPbBr0lebad",
    "outputId": "d8e10d8c-09d1-4514-e4d7-d05ae603bb04"
   },
   "outputs": [
    {
     "data": {
      "text/plain": [
       "{0, 1, 2, 3, 4, 5, 6}"
      ]
     },
     "execution_count": 93,
     "metadata": {
      "tags": []
     },
     "output_type": "execute_result"
    }
   ],
   "source": [
    "set(labels)"
   ]
  },
  {
   "cell_type": "markdown",
   "metadata": {
    "id": "bmsnaVZ_ebae"
   },
   "source": [
    "### Figuring out which label resambles which class"
   ]
  },
  {
   "cell_type": "code",
   "execution_count": null,
   "metadata": {
    "colab": {
     "base_uri": "https://localhost:8080/"
    },
    "executionInfo": {
     "elapsed": 336,
     "status": "ok",
     "timestamp": 1627899123914,
     "user": {
      "displayName": "Eleonora Mancini",
      "photoUrl": "https://lh3.googleusercontent.com/a-/AOh14GgGMAKQj5wg21_r-iyQIVVYF436AnA5QQFEsFsFtg=s64",
      "userId": "13827522260918404568"
     },
     "user_tz": -120
    },
    "id": "VrUnZ4GQebag",
    "outputId": "611f89f1-d7b8-4b0c-df0a-d2250b7c9b58"
   },
   "outputs": [
    {
     "data": {
      "text/plain": [
       "{0, 1, 2, 3, 4, 5, 6}"
      ]
     },
     "execution_count": 94,
     "metadata": {
      "tags": []
     },
     "output_type": "execute_result"
    }
   ],
   "source": [
    "set(y_pred)"
   ]
  },
  {
   "cell_type": "code",
   "execution_count": null,
   "metadata": {
    "colab": {
     "base_uri": "https://localhost:8080/"
    },
    "executionInfo": {
     "elapsed": 245,
     "status": "ok",
     "timestamp": 1627899125187,
     "user": {
      "displayName": "Eleonora Mancini",
      "photoUrl": "https://lh3.googleusercontent.com/a-/AOh14GgGMAKQj5wg21_r-iyQIVVYF436AnA5QQFEsFsFtg=s64",
      "userId": "13827522260918404568"
     },
     "user_tz": -120
    },
    "id": "ea61OYjxebag",
    "outputId": "d6ecac6c-f2ac-41a0-95ad-3c6a88147334"
   },
   "outputs": [
    {
     "data": {
      "text/plain": [
       "((896, 7), (896, 7))"
      ]
     },
     "execution_count": 95,
     "metadata": {
      "tags": []
     },
     "output_type": "execute_result"
    }
   ],
   "source": [
    "l = pd.get_dummies(labels)\n",
    "p = pd.get_dummies(y_pred)\n",
    "\n",
    "l.shape, p.shape"
   ]
  },
  {
   "cell_type": "code",
   "execution_count": null,
   "metadata": {
    "id": "4fnqstMpebag"
   },
   "outputs": [],
   "source": [
    "h = pd.merge(l, p, left_index=True, right_index=True)"
   ]
  },
  {
   "cell_type": "code",
   "execution_count": null,
   "metadata": {
    "colab": {
     "base_uri": "https://localhost:8080/",
     "height": 592
    },
    "executionInfo": {
     "elapsed": 1234,
     "status": "ok",
     "timestamp": 1627899128402,
     "user": {
      "displayName": "Eleonora Mancini",
      "photoUrl": "https://lh3.googleusercontent.com/a-/AOh14GgGMAKQj5wg21_r-iyQIVVYF436AnA5QQFEsFsFtg=s64",
      "userId": "13827522260918404568"
     },
     "user_tz": -120
    },
    "id": "gz2a_uxKebah",
    "outputId": "3a501edc-02ce-4601-b921-f080b15d9b01"
   },
   "outputs": [
    {
     "data": {
      "image/png": "[encoded data removed]",
      "text/plain": [
       "<Figure size 1800x720 with 2 Axes>"
      ]
     },
     "metadata": {
      "tags": []
     },
     "output_type": "display_data"
    }
   ],
   "source": [
    "corr = h.corr(method='spearman')\n",
    "mask = np.tril(np.ones_like(corr, dtype=np.bool))\n",
    "ax = plt.figure(figsize=(25,10))\n",
    "ax = sns.heatmap(h.corr(method='spearman'), annot=True, fmt=\".2f\", mask = mask, square = True, cmap=\"Blues\")"
   ]
  },
  {
   "cell_type": "code",
   "execution_count": null,
   "metadata": {
    "id": "r8kg2JpAebah"
   },
   "outputs": [],
   "source": [
    "a = pd.DataFrame(labels)\n",
    "b= pd.DataFrame(y_pred)\n",
    "c= pd.DataFrame()\n",
    "c['labels'] = a[0].copy()\n",
    "c['preds'] = b[0].copy()"
   ]
  },
  {
   "cell_type": "code",
   "execution_count": null,
   "metadata": {
    "colab": {
     "base_uri": "https://localhost:8080/",
     "height": 204
    },
    "executionInfo": {
     "elapsed": 10,
     "status": "ok",
     "timestamp": 1627899135968,
     "user": {
      "displayName": "Eleonora Mancini",
      "photoUrl": "https://lh3.googleusercontent.com/a-/AOh14GgGMAKQj5wg21_r-iyQIVVYF436AnA5QQFEsFsFtg=s64",
      "userId": "13827522260918404568"
     },
     "user_tz": -120
    },
    "id": "7j5gsTJzebah",
    "outputId": "996a2d6d-a4d4-484e-c239-04ecc9b18d40"
   },
   "outputs": [
    {
     "data": {
      "text/html": [
       "<div>\n",
       "<style scoped>\n",
       "    .dataframe tbody tr th:only-of-type {\n",
       "        vertical-align: middle;\n",
       "    }\n",
       "\n",
       "    .dataframe tbody tr th {\n",
       "        vertical-align: top;\n",
       "    }\n",
       "\n",
       "    .dataframe thead th {\n",
       "        text-align: right;\n",
       "    }\n",
       "</style>\n",
       "<table border=\"1\" class=\"dataframe\">\n",
       "  <thead>\n",
       "    <tr style=\"text-align: right;\">\n",
       "      <th></th>\n",
       "      <th>labels</th>\n",
       "      <th>preds</th>\n",
       "    </tr>\n",
       "  </thead>\n",
       "  <tbody>\n",
       "    <tr>\n",
       "      <th>0</th>\n",
       "      <td>4</td>\n",
       "      <td>2</td>\n",
       "    </tr>\n",
       "    <tr>\n",
       "      <th>1</th>\n",
       "      <td>4</td>\n",
       "      <td>2</td>\n",
       "    </tr>\n",
       "    <tr>\n",
       "      <th>2</th>\n",
       "      <td>3</td>\n",
       "      <td>1</td>\n",
       "    </tr>\n",
       "    <tr>\n",
       "      <th>3</th>\n",
       "      <td>3</td>\n",
       "      <td>6</td>\n",
       "    </tr>\n",
       "    <tr>\n",
       "      <th>4</th>\n",
       "      <td>4</td>\n",
       "      <td>1</td>\n",
       "    </tr>\n",
       "  </tbody>\n",
       "</table>\n",
       "</div>"
      ],
      "text/plain": [
       "   labels  preds\n",
       "0       4      2\n",
       "1       4      2\n",
       "2       3      1\n",
       "3       3      6\n",
       "4       4      1"
      ]
     },
     "execution_count": 99,
     "metadata": {
      "tags": []
     },
     "output_type": "execute_result"
    }
   ],
   "source": [
    "c.head()"
   ]
  },
  {
   "cell_type": "code",
   "execution_count": null,
   "metadata": {
    "colab": {
     "base_uri": "https://localhost:8080/",
     "height": 283
    },
    "executionInfo": {
     "elapsed": 2402,
     "status": "ok",
     "timestamp": 1627899143301,
     "user": {
      "displayName": "Eleonora Mancini",
      "photoUrl": "https://lh3.googleusercontent.com/a-/AOh14GgGMAKQj5wg21_r-iyQIVVYF436AnA5QQFEsFsFtg=s64",
      "userId": "13827522260918404568"
     },
     "user_tz": -120
    },
    "id": "Z0QvF051ebbA",
    "outputId": "f53614e1-2606-48bf-b81b-71326a9a7dc3",
    "scrolled": true
   },
   "outputs": [
    {
     "data": {
      "image/png": "[encoded data removed]",
      "text/plain": [
       "<Figure size 720x288 with 1 Axes>"
      ]
     },
     "metadata": {
      "tags": []
     },
     "output_type": "display_data"
    }
   ],
   "source": [
    "plt.figure(figsize=(10,4))\n",
    "sns.countplot(x='labels', hue=\"preds\", data=c)\n",
    "plt.xlabel('Labels', fontsize=14)\n",
    "plt.ylabel('Count', fontsize=14)\n",
    "plt.legend(title='Classes', bbox_to_anchor = (1,1), labels=list(emotion_enc.keys()), fontsize='large')\n",
    "plt.show()"
   ]
  },
  {
   "cell_type": "markdown",
   "metadata": {
    "id": "06sa-LaLebbB"
   },
   "source": [
    "### Plot clusters of emotions\n",
    "\n",
    "- label 0 - class 5\n",
    "- label 1 - class 2\n",
    "- label 2 - class 1\n",
    "- label 3 - class 3\n",
    "- label 4 - class 6\n",
    "- label 5 - class 0\n",
    "- label 6 - class 4\n"
   ]
  },
  {
   "cell_type": "code",
   "execution_count": null,
   "metadata": {
    "colab": {
     "base_uri": "https://localhost:8080/"
    },
    "executionInfo": {
     "elapsed": 342,
     "status": "ok",
     "timestamp": 1627899158624,
     "user": {
      "displayName": "Eleonora Mancini",
      "photoUrl": "https://lh3.googleusercontent.com/a-/AOh14GgGMAKQj5wg21_r-iyQIVVYF436AnA5QQFEsFsFtg=s64",
      "userId": "13827522260918404568"
     },
     "user_tz": -120
    },
    "id": "N-B2RHlLebbB",
    "outputId": "1d66a8ae-9882-4072-80dd-120a7e000edd"
   },
   "outputs": [
    {
     "data": {
      "text/plain": [
       "{'angry': 6,\n",
       " 'disgust': 1,\n",
       " 'fear': 0,\n",
       " 'happy': 3,\n",
       " 'neutral': 2,\n",
       " 'sadness': 4,\n",
       " 'surprise': 5}"
      ]
     },
     "execution_count": 101,
     "metadata": {
      "tags": []
     },
     "output_type": "execute_result"
    }
   ],
   "source": [
    "emotion_enc"
   ]
  },
  {
   "cell_type": "code",
   "execution_count": null,
   "metadata": {
    "colab": {
     "base_uri": "https://localhost:8080/",
     "height": 359
    },
    "executionInfo": {
     "elapsed": 976,
     "status": "ok",
     "timestamp": 1627899159594,
     "user": {
      "displayName": "Eleonora Mancini",
      "photoUrl": "https://lh3.googleusercontent.com/a-/AOh14GgGMAKQj5wg21_r-iyQIVVYF436AnA5QQFEsFsFtg=s64",
      "userId": "13827522260918404568"
     },
     "user_tz": -120
    },
    "id": "Z3Itd4VdebbB",
    "outputId": "1beb1de7-226f-491c-c65d-f817339d25ee"
   },
   "outputs": [
    {
     "data": {
      "image/png": "[encoded data removed]",
      "text/plain": [
       "<Figure size 1080x360 with 1 Axes>"
      ]
     },
     "metadata": {
      "tags": []
     },
     "output_type": "display_data"
    }
   ],
   "source": [
    "colors = {0:'blue', 1:'red', 2:'green', 3:'orange', 4:'black', 5:'grey', 6:'brown'}\n",
    "lab = ['surprise', 'neutral', 'disgust', 'happy', 'angry', 'fear', 'sadness']\n",
    "\n",
    "\n",
    "fig = plt.figure(figsize = (15, 5))\n",
    "ax = fig.add_subplot(111)\n",
    "ax.scatter(X_pca[:, 0], X_pca[:, 1], c = pd.Series(labels).map(colors), alpha=0.5)\n",
    "for i in range(7):\n",
    "    plt.scatter(None, None, color=colors[i], label=lab[i])\n",
    "\n",
    "plt.title('Emotions divided to clusters', fontsize=20)\n",
    "plt.legend(fontsize=15, bbox_to_anchor= [1, 1.05])\n",
    "plt.xlabel('PCA 1', fontsize=15)\n",
    "plt.ylabel('PCA 2', fontsize=15)\n",
    "plt.show()"
   ]
  },
  {
   "cell_type": "markdown",
   "metadata": {
    "id": "URW8NQRan-Mb"
   },
   "source": [
    "# Check on training data"
   ]
  },
  {
   "cell_type": "code",
   "execution_count": null,
   "metadata": {
    "id": "5iMmijD1zLJ0"
   },
   "outputs": [],
   "source": [
    "mydf = df_combined"
   ]
  },
  {
   "cell_type": "code",
   "execution_count": null,
   "metadata": {
    "id": "vGXsnSVgpcGD"
   },
   "outputs": [],
   "source": [
    "y = mydf['emotion3'].copy()"
   ]
  },
  {
   "cell_type": "code",
   "execution_count": null,
   "metadata": {
    "id": "U2ZUXA9ZpcGE"
   },
   "outputs": [],
   "source": [
    "y = y.reset_index(drop = True)\n",
    "#new_x = new_x.reset_index(drop = True)"
   ]
  },
  {
   "cell_type": "code",
   "execution_count": null,
   "metadata": {
    "colab": {
     "base_uri": "https://localhost:8080/",
     "height": 66
    },
    "executionInfo": {
     "elapsed": 167442,
     "status": "ok",
     "timestamp": 1628260664315,
     "user": {
      "displayName": "Eleonora Mancini",
      "photoUrl": "https://lh3.googleusercontent.com/a-/AOh14GgGMAKQj5wg21_r-iyQIVVYF436AnA5QQFEsFsFtg=s64",
      "userId": "13827522260918404568"
     },
     "user_tz": -120
    },
    "id": "l3ayqrteoZVk",
    "outputId": "313f2492-d110-4b99-c094-e19c8b638241"
   },
   "outputs": [
    {
     "data": {
      "application/vnd.jupyter.widget-view+json": {
       "model_id": "ca7cfb2ceb5545a4b33e76678e24f000",
       "version_major": 2,
       "version_minor": 0
      },
      "text/plain": [
       "HBox(children=(FloatProgress(value=0.0, max=4720.0), HTML(value='')))"
      ]
     },
     "metadata": {
      "tags": []
     },
     "output_type": "display_data"
    },
    {
     "name": "stdout",
     "output_type": "stream",
     "text": [
      "\n"
     ]
    }
   ],
   "source": [
    "X = []\n",
    "for i in tqdm(mydf['path']): \n",
    "    X.append(librosa.load(i, res_type='kaiser_fast', sr=44000))"
   ]
  },
  {
   "cell_type": "code",
   "execution_count": null,
   "metadata": {
    "id": "VYtqXXi4oZVl"
   },
   "outputs": [],
   "source": [
    "new_x = []\n",
    "for ind,i in enumerate(X):\n",
    "    new_x.append(i[0])"
   ]
  },
  {
   "cell_type": "code",
   "execution_count": null,
   "metadata": {
    "id": "vaDeVuUVoZVl"
   },
   "outputs": [],
   "source": [
    "import math\n",
    "\n",
    "X_new = []\n",
    "y_new = []\n",
    "count = 0 \n",
    "length_chosen = 120378\n",
    "for ind,i in enumerate(new_x):\n",
    "    if i.shape[0] < 300000:\n",
    "        if i.shape[0] > length_chosen:\n",
    "            new = i[:length_chosen]\n",
    "            X_new.append(new)\n",
    "        elif i.shape[0] < length_chosen:\n",
    "            new = np.pad(i,math.ceil((length_chosen-i.shape[0])/2), mode='median')\n",
    "            X_new.append(new)\n",
    "        else:\n",
    "            X_new.append(i)\n",
    "        y_new.append(y[count])\n",
    "    count+=1\n",
    "            "
   ]
  },
  {
   "cell_type": "code",
   "execution_count": null,
   "metadata": {
    "colab": {
     "base_uri": "https://localhost:8080/"
    },
    "executionInfo": {
     "elapsed": 18,
     "status": "ok",
     "timestamp": 1628260667969,
     "user": {
      "displayName": "Eleonora Mancini",
      "photoUrl": "https://lh3.googleusercontent.com/a-/AOh14GgGMAKQj5wg21_r-iyQIVVYF436AnA5QQFEsFsFtg=s64",
      "userId": "13827522260918404568"
     },
     "user_tz": -120
    },
    "id": "XLJFUlVtoZVl",
    "outputId": "daeb5e84-bce7-449d-e35b-fb24abb7ace7"
   },
   "outputs": [
    {
     "name": "stdout",
     "output_type": "stream",
     "text": [
      "(4717,) (4717,)\n"
     ]
    }
   ],
   "source": [
    "X = np.array(X_new)\n",
    "y = np.array(y_new)\n",
    "print(X.shape, y.shape)"
   ]
  },
  {
   "cell_type": "code",
   "execution_count": null,
   "metadata": {
    "colab": {
     "base_uri": "https://localhost:8080/"
    },
    "executionInfo": {
     "elapsed": 33,
     "status": "ok",
     "timestamp": 1628256718392,
     "user": {
      "displayName": "Eleonora Mancini",
      "photoUrl": "https://lh3.googleusercontent.com/a-/AOh14GgGMAKQj5wg21_r-iyQIVVYF436AnA5QQFEsFsFtg=s64",
      "userId": "13827522260918404568"
     },
     "user_tz": -120
    },
    "id": "3FeVvCLDpqMD",
    "outputId": "63dfa4db-ae86-4787-c953-485ff9328286"
   },
   "outputs": [
    {
     "data": {
      "text/plain": [
       "array([array([0.00060798, 0.00060798, 0.00060798, ..., 0.00060798, 0.00060798,\n",
       "       0.00060798], dtype=float32),\n",
       "       array([0.00038673, 0.00038673, 0.00038673, ..., 0.00038673, 0.00038673,\n",
       "       0.00038673], dtype=float32),\n",
       "       array([0.00079125, 0.00079125, 0.00079125, ..., 0.00079125, 0.00079125,\n",
       "       0.00079125], dtype=float32),\n",
       "       ...,\n",
       "       array([0.00521335, 0.00603615, 0.00534158, ..., 0.00653263, 0.00611953,\n",
       "       0.0058484 ], dtype=float32),\n",
       "       array([0.00371752, 0.00427904, 0.00377774, ..., 0.00122611, 0.00114972,\n",
       "       0.00111981], dtype=float32),\n",
       "       array([0.00153902, 0.00153902, 0.00153902, ..., 0.00153902, 0.00153902,\n",
       "       0.00153902], dtype=float32)], dtype=object)"
      ]
     },
     "execution_count": 199,
     "metadata": {
      "tags": []
     },
     "output_type": "execute_result"
    }
   ],
   "source": [
    "X"
   ]
  },
  {
   "cell_type": "code",
   "execution_count": null,
   "metadata": {
    "colab": {
     "base_uri": "https://localhost:8080/",
     "height": 66
    },
    "executionInfo": {
     "elapsed": 482454,
     "status": "ok",
     "timestamp": 1628261150409,
     "user": {
      "displayName": "Eleonora Mancini",
      "photoUrl": "https://lh3.googleusercontent.com/a-/AOh14GgGMAKQj5wg21_r-iyQIVVYF436AnA5QQFEsFsFtg=s64",
      "userId": "13827522260918404568"
     },
     "user_tz": -120
    },
    "id": "-NVlc3vWoBgp",
    "outputId": "faa044eb-e9e6-4d97-c932-74b2def7ba19"
   },
   "outputs": [
    {
     "data": {
      "application/vnd.jupyter.widget-view+json": {
       "model_id": "77e4c90ff51e46049a0db6272fc6f860",
       "version_major": 2,
       "version_minor": 0
      },
      "text/plain": [
       "HBox(children=(FloatProgress(value=0.0, max=4717.0), HTML(value='')))"
      ]
     },
     "metadata": {
      "tags": []
     },
     "output_type": "display_data"
    },
    {
     "name": "stdout",
     "output_type": "stream",
     "text": [
      "\n"
     ]
    }
   ],
   "source": [
    "mfccs = []\n",
    "counter = 0 \n",
    "for i in tqdm(X):    \n",
    "  samples_weiner = scipy.signal.wiener(i)   \n",
    "  mfcc = librosa.feature.mfcc(y=samples_weiner, sr=44000, n_mfcc=40)\n",
    "  mfcc = mfcc.T\n",
    "  mfccs.append(mfcc)                                                        \n"
   ]
  },
  {
   "cell_type": "code",
   "execution_count": null,
   "metadata": {
    "colab": {
     "base_uri": "https://localhost:8080/"
    },
    "executionInfo": {
     "elapsed": 377,
     "status": "ok",
     "timestamp": 1628261150780,
     "user": {
      "displayName": "Eleonora Mancini",
      "photoUrl": "https://lh3.googleusercontent.com/a-/AOh14GgGMAKQj5wg21_r-iyQIVVYF436AnA5QQFEsFsFtg=s64",
      "userId": "13827522260918404568"
     },
     "user_tz": -120
    },
    "id": "kfrhJGmd1KfL",
    "outputId": "18e65506-1fac-4f0a-985d-2ca23fcd6e70"
   },
   "outputs": [
    {
     "data": {
      "text/plain": [
       "(4717, 236, 40)"
      ]
     },
     "execution_count": 88,
     "metadata": {
      "tags": []
     },
     "output_type": "execute_result"
    }
   ],
   "source": [
    "mfccs = np.array(mfccs)\n",
    "mfccs.shape"
   ]
  },
  {
   "cell_type": "code",
   "execution_count": null,
   "metadata": {
    "id": "IyXt6_dy1TOC"
   },
   "outputs": [],
   "source": [
    "y = np.where(y=='positive', 'happy', y)\n",
    "y = np.where(y=='negative', 'disgust', y)"
   ]
  },
  {
   "cell_type": "code",
   "execution_count": null,
   "metadata": {
    "id": "x4idkcWg1TOD"
   },
   "outputs": [],
   "source": [
    "emotion_enc = {'fear':1, 'disgust':1, 'neutral':0, 'happy':0, 'sadness':1, 'surprise':0, 'angry':1}"
   ]
  },
  {
   "cell_type": "code",
   "execution_count": null,
   "metadata": {
    "id": "0lHH32f807St"
   },
   "outputs": [],
   "source": [
    "model_loaded = tf.keras.models.load_model('my_model_binary_scaled_pn_CHANGE_ORDER')"
   ]
  },
  {
   "cell_type": "code",
   "execution_count": null,
   "metadata": {
    "id": "RDnUWouz1_DK"
   },
   "outputs": [],
   "source": [
    "y = pd.Series(y).map(emotion_enc)"
   ]
  },
  {
   "cell_type": "code",
   "execution_count": null,
   "metadata": {
    "id": "31zp7ZBA4heO"
   },
   "outputs": [],
   "source": [
    "mfccs = scaler.transform(mfccs.reshape(-1, mfccs.shape[-1])).reshape(mfccs.shape)"
   ]
  },
  {
   "cell_type": "code",
   "execution_count": null,
   "metadata": {
    "colab": {
     "base_uri": "https://localhost:8080/"
    },
    "executionInfo": {
     "elapsed": 3013,
     "status": "ok",
     "timestamp": 1628261155332,
     "user": {
      "displayName": "Eleonora Mancini",
      "photoUrl": "https://lh3.googleusercontent.com/a-/AOh14GgGMAKQj5wg21_r-iyQIVVYF436AnA5QQFEsFsFtg=s64",
      "userId": "13827522260918404568"
     },
     "user_tz": -120
    },
    "id": "Ayggcp-C07St",
    "outputId": "84add395-6d2c-4047-eda6-1b89d9d21b5a"
   },
   "outputs": [
    {
     "name": "stdout",
     "output_type": "stream",
     "text": [
      "              precision    recall  f1-score   support\n",
      "\n",
      "           0       1.00      1.00      1.00      2112\n",
      "           1       1.00      1.00      1.00      2605\n",
      "\n",
      "    accuracy                           1.00      4717\n",
      "   macro avg       1.00      1.00      1.00      4717\n",
      "weighted avg       1.00      1.00      1.00      4717\n",
      "\n"
     ]
    }
   ],
   "source": [
    "from sklearn.metrics import classification_report\n",
    "predictions = model_loaded.predict(mfccs)\n",
    "pred = [1 * (x[0]>=0.5) for x in predictions] #0.5 o 0.52? \n",
    "print(classification_report(y, pred))\n",
    "#params = report_res_and_plot_matrix(y_val, y_pred, target)"
   ]
  },
  {
   "cell_type": "markdown",
   "metadata": {
    "id": "IjEqmgJ9TUQc"
   },
   "source": [
    "# Check on CREMA-D dataset"
   ]
  },
  {
   "cell_type": "markdown",
   "metadata": {
    "id": "ebQgfY0mRp3t"
   },
   "source": [
    "## Dataset download\n",
    "**ATTENTION: RUN THE FOLLOWING CELLS ONLY THE FIRST TIME - SKIP THIS PART BECAUSE DATASETS ARE ALREADY IN GDRIVE**"
   ]
  },
  {
   "cell_type": "code",
   "execution_count": null,
   "metadata": {
    "colab": {
     "base_uri": "https://localhost:8080/"
    },
    "executionInfo": {
     "elapsed": 4405,
     "status": "ok",
     "timestamp": 1628503144445,
     "user": {
      "displayName": "Eleonora Mancini",
      "photoUrl": "https://lh3.googleusercontent.com/a-/AOh14GgGMAKQj5wg21_r-iyQIVVYF436AnA5QQFEsFsFtg=s64",
      "userId": "13827522260918404568"
     },
     "user_tz": -120
    },
    "id": "UG4k8Skl2ZhD",
    "outputId": "037eedfd-c637-467f-c179-3ab6368df858"
   },
   "outputs": [
    {
     "name": "stdout",
     "output_type": "stream",
     "text": [
      "Requirement already satisfied: kaggle in /usr/local/lib/python3.7/dist-packages (1.5.12)\n",
      "Requirement already satisfied: requests in /usr/local/lib/python3.7/dist-packages (from kaggle) (2.23.0)\n",
      "Requirement already satisfied: python-dateutil in /usr/local/lib/python3.7/dist-packages (from kaggle) (2.8.1)\n",
      "Requirement already satisfied: tqdm in /usr/local/lib/python3.7/dist-packages (from kaggle) (4.41.1)\n",
      "Requirement already satisfied: python-slugify in /usr/local/lib/python3.7/dist-packages (from kaggle) (5.0.2)\n",
      "Requirement already satisfied: six>=1.10 in /usr/local/lib/python3.7/dist-packages (from kaggle) (1.15.0)\n",
      "Requirement already satisfied: certifi in /usr/local/lib/python3.7/dist-packages (from kaggle) (2021.5.30)\n",
      "Requirement already satisfied: urllib3 in /usr/local/lib/python3.7/dist-packages (from kaggle) (1.24.3)\n",
      "Requirement already satisfied: text-unidecode>=1.3 in /usr/local/lib/python3.7/dist-packages (from python-slugify->kaggle) (1.3)\n",
      "Requirement already satisfied: idna<3,>=2.5 in /usr/local/lib/python3.7/dist-packages (from requests->kaggle) (2.10)\n",
      "Requirement already satisfied: chardet<4,>=3.0.2 in /usr/local/lib/python3.7/dist-packages (from requests->kaggle) (3.0.4)\n"
     ]
    }
   ],
   "source": [
    "!pip install kaggle"
   ]
  },
  {
   "cell_type": "code",
   "execution_count": null,
   "metadata": {
    "colab": {
     "base_uri": "https://localhost:8080/",
     "height": 89,
     "resources": {
      "http://localhost:8080/nbextensions/google.colab/files.js": {
       "data": "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",
       "headers": [
        [
         "content-type",
         "application/javascript"
        ]
       ],
       "ok": true,
       "status": 200,
       "status_text": ""
      }
     }
    },
    "executionInfo": {
     "elapsed": 15296,
     "status": "ok",
     "timestamp": 1628503161659,
     "user": {
      "displayName": "Eleonora Mancini",
      "photoUrl": "https://lh3.googleusercontent.com/a-/AOh14GgGMAKQj5wg21_r-iyQIVVYF436AnA5QQFEsFsFtg=s64",
      "userId": "13827522260918404568"
     },
     "user_tz": -120
    },
    "id": "8ooWhUve2rDz",
    "outputId": "21651e76-9c4d-4578-f3f4-78720d9869bb"
   },
   "outputs": [
    {
     "data": {
      "text/html": [
       "\n",
       "     <input type=\"file\" id=\"files-dc75d281-6255-4c6a-8f0c-d31688290736\" name=\"files[]\" multiple disabled\n",
       "        style=\"border:none\" />\n",
       "     <output id=\"result-dc75d281-6255-4c6a-8f0c-d31688290736\">\n",
       "      Upload widget is only available when the cell has been executed in the\n",
       "      current browser session. Please rerun this cell to enable.\n",
       "      </output>\n",
       "      <script src=\"/nbextensions/google.colab/files.js\"></script> "
      ],
      "text/plain": [
       "<IPython.core.display.HTML object>"
      ]
     },
     "metadata": {
      "tags": []
     },
     "output_type": "display_data"
    },
    {
     "name": "stdout",
     "output_type": "stream",
     "text": [
      "Saving kaggle.json to kaggle.json\n"
     ]
    },
    {
     "data": {
      "text/plain": [
       "{'kaggle.json': b'{\"username\":\"helemanc\",\"key\":\"70a6e382dab75fbfda6cb749a53b3c17\"}'}"
      ]
     },
     "execution_count": 20,
     "metadata": {
      "tags": []
     },
     "output_type": "execute_result"
    }
   ],
   "source": [
    "from google.colab import files\n",
    "files.upload()"
   ]
  },
  {
   "cell_type": "code",
   "execution_count": null,
   "metadata": {
    "id": "wcQ5B1u-2uQM"
   },
   "outputs": [],
   "source": [
    "!mkdir -p ~/.kaggle\n",
    "!cp kaggle.json ~/.kaggle/\n",
    "!chmod 600 ~/.kaggle/kaggle.json"
   ]
  },
  {
   "cell_type": "code",
   "execution_count": null,
   "metadata": {
    "colab": {
     "base_uri": "https://localhost:8080/"
    },
    "executionInfo": {
     "elapsed": 10506,
     "status": "ok",
     "timestamp": 1628503186495,
     "user": {
      "displayName": "Eleonora Mancini",
      "photoUrl": "https://lh3.googleusercontent.com/a-/AOh14GgGMAKQj5wg21_r-iyQIVVYF436AnA5QQFEsFsFtg=s64",
      "userId": "13827522260918404568"
     },
     "user_tz": -120
    },
    "id": "5ssidvHORpU0",
    "outputId": "7ba88f46-755f-4ed3-e082-fed7a5d3d630"
   },
   "outputs": [
    {
     "name": "stdout",
     "output_type": "stream",
     "text": [
      "Downloading cremad.zip to /content/drive/My Drive/Colab Notebooks/Speech Emotion Recognition/Implementations/5_Conv_1D\n",
      " 99% 447M/451M [00:08<00:00, 51.0MB/s]\n",
      "100% 451M/451M [00:08<00:00, 53.5MB/s]\n"
     ]
    }
   ],
   "source": [
    "!kaggle datasets download -d ejlok1/cremad"
   ]
  },
  {
   "cell_type": "code",
   "execution_count": null,
   "metadata": {
    "id": "RqV_P-bdR3HA"
   },
   "outputs": [],
   "source": [
    "!unzip -q cremad.zip -d creamd"
   ]
  },
  {
   "cell_type": "markdown",
   "metadata": {
    "id": "s6X2WoYrSN4k"
   },
   "source": [
    "## Dataset extraction"
   ]
  },
  {
   "cell_type": "code",
   "execution_count": 26,
   "metadata": {
    "executionInfo": {
     "elapsed": 256,
     "status": "ok",
     "timestamp": 1628607324297,
     "user": {
      "displayName": "Eleonora Mancini",
      "photoUrl": "https://lh3.googleusercontent.com/a-/AOh14GgGMAKQj5wg21_r-iyQIVVYF436AnA5QQFEsFsFtg=s64",
      "userId": "13827522260918404568"
     },
     "user_tz": -120
    },
    "id": "GI6cYoJeYXId"
   },
   "outputs": [],
   "source": [
    "Crema = \"creamd/AudioWAV/\""
   ]
  },
  {
   "cell_type": "code",
   "execution_count": 27,
   "metadata": {
    "colab": {
     "base_uri": "https://localhost:8080/",
     "height": 204
    },
    "executionInfo": {
     "elapsed": 573,
     "status": "ok",
     "timestamp": 1628607325293,
     "user": {
      "displayName": "Eleonora Mancini",
      "photoUrl": "https://lh3.googleusercontent.com/a-/AOh14GgGMAKQj5wg21_r-iyQIVVYF436AnA5QQFEsFsFtg=s64",
      "userId": "13827522260918404568"
     },
     "user_tz": -120
    },
    "id": "BzVFFbzKSNrJ",
    "outputId": "ad2354a1-d516-4d9f-b70f-2aabe2223ab4"
   },
   "outputs": [
    {
     "data": {
      "text/html": [
       "<div>\n",
       "<style scoped>\n",
       "    .dataframe tbody tr th:only-of-type {\n",
       "        vertical-align: middle;\n",
       "    }\n",
       "\n",
       "    .dataframe tbody tr th {\n",
       "        vertical-align: top;\n",
       "    }\n",
       "\n",
       "    .dataframe thead th {\n",
       "        text-align: right;\n",
       "    }\n",
       "</style>\n",
       "<table border=\"1\" class=\"dataframe\">\n",
       "  <thead>\n",
       "    <tr style=\"text-align: right;\">\n",
       "      <th></th>\n",
       "      <th>labels</th>\n",
       "      <th>path</th>\n",
       "      <th>source</th>\n",
       "    </tr>\n",
       "  </thead>\n",
       "  <tbody>\n",
       "    <tr>\n",
       "      <th>0</th>\n",
       "      <td>happy</td>\n",
       "      <td>creamd/AudioWAV/1079_WSI_HAP_XX.wav</td>\n",
       "      <td>CREAM</td>\n",
       "    </tr>\n",
       "    <tr>\n",
       "      <th>1</th>\n",
       "      <td>disgust</td>\n",
       "      <td>creamd/AudioWAV/1079_WSI_DIS_XX.wav</td>\n",
       "      <td>CREAM</td>\n",
       "    </tr>\n",
       "    <tr>\n",
       "      <th>2</th>\n",
       "      <td>happy</td>\n",
       "      <td>creamd/AudioWAV/1079_TSI_HAP_XX.wav</td>\n",
       "      <td>CREAM</td>\n",
       "    </tr>\n",
       "    <tr>\n",
       "      <th>3</th>\n",
       "      <td>angry</td>\n",
       "      <td>creamd/AudioWAV/1080_DFA_ANG_XX.wav</td>\n",
       "      <td>CREAM</td>\n",
       "    </tr>\n",
       "    <tr>\n",
       "      <th>4</th>\n",
       "      <td>neutral</td>\n",
       "      <td>creamd/AudioWAV/1079_WSI_NEU_XX.wav</td>\n",
       "      <td>CREAM</td>\n",
       "    </tr>\n",
       "  </tbody>\n",
       "</table>\n",
       "</div>"
      ],
      "text/plain": [
       "    labels                                 path source\n",
       "0    happy  creamd/AudioWAV/1079_WSI_HAP_XX.wav  CREAM\n",
       "1  disgust  creamd/AudioWAV/1079_WSI_DIS_XX.wav  CREAM\n",
       "2    happy  creamd/AudioWAV/1079_TSI_HAP_XX.wav  CREAM\n",
       "3    angry  creamd/AudioWAV/1080_DFA_ANG_XX.wav  CREAM\n",
       "4  neutral  creamd/AudioWAV/1079_WSI_NEU_XX.wav  CREAM"
      ]
     },
     "execution_count": 27,
     "metadata": {
      "tags": []
     },
     "output_type": "execute_result"
    }
   ],
   "source": [
    "crema_directory_list = os.listdir(Crema)\n",
    "\n",
    "file_emotion = []\n",
    "file_path = []\n",
    "\n",
    "for file in crema_directory_list:\n",
    "\n",
    "    # storing file emotions\n",
    "    part=file.split('_')\n",
    "\n",
    "    # storing file paths\n",
    "    file_path.append(Crema + file)\n",
    "    if part[2] == 'SAD':\n",
    "        file_emotion.append('sadness')\n",
    "    elif part[2] == 'ANG':\n",
    "        file_emotion.append('angry')\n",
    "    elif part[2] == 'DIS':\n",
    "        file_emotion.append('disgust')\n",
    "    elif part[2] == 'FEA':\n",
    "        file_emotion.append('fear')\n",
    "    elif part[2] == 'HAP':\n",
    "        file_emotion.append('happy')\n",
    "    elif part[2] == 'NEU':\n",
    "        file_emotion.append('neutral')\n",
    "    else:\n",
    "        file_emotion.append('Unknown')\n",
    "        \n",
    "# dataframe for emotion of files\n",
    "emotion_df = pd.DataFrame(file_emotion, columns=['labels'])\n",
    "\n",
    "# dataframe for path of files.\n",
    "path_df = pd.DataFrame(file_path, columns=['path'])\n",
    "Crema_df = pd.concat([emotion_df, path_df], axis=1)\n",
    "Crema_df['source'] = 'CREAM'\n",
    "Crema_df.head()"
   ]
  },
  {
   "cell_type": "code",
   "execution_count": 28,
   "metadata": {
    "colab": {
     "base_uri": "https://localhost:8080/"
    },
    "executionInfo": {
     "elapsed": 66,
     "status": "ok",
     "timestamp": 1628607325293,
     "user": {
      "displayName": "Eleonora Mancini",
      "photoUrl": "https://lh3.googleusercontent.com/a-/AOh14GgGMAKQj5wg21_r-iyQIVVYF436AnA5QQFEsFsFtg=s64",
      "userId": "13827522260918404568"
     },
     "user_tz": -120
    },
    "id": "z-cjYVwviraI",
    "outputId": "b56958c5-ef8b-4acc-e039-2652704c72ae"
   },
   "outputs": [
    {
     "data": {
      "text/plain": [
       "(7442, 3)"
      ]
     },
     "execution_count": 28,
     "metadata": {
      "tags": []
     },
     "output_type": "execute_result"
    }
   ],
   "source": [
    "Crema_df.shape"
   ]
  },
  {
   "cell_type": "code",
   "execution_count": 29,
   "metadata": {
    "colab": {
     "base_uri": "https://localhost:8080/"
    },
    "executionInfo": {
     "elapsed": 59,
     "status": "ok",
     "timestamp": 1628607325295,
     "user": {
      "displayName": "Eleonora Mancini",
      "photoUrl": "https://lh3.googleusercontent.com/a-/AOh14GgGMAKQj5wg21_r-iyQIVVYF436AnA5QQFEsFsFtg=s64",
      "userId": "13827522260918404568"
     },
     "user_tz": -120
    },
    "id": "BrvMM0Tb8O8Z",
    "outputId": "80758d46-80e3-462d-812a-faea43999b89"
   },
   "outputs": [
    {
     "data": {
      "text/plain": [
       "array(['happy', 'disgust', 'angry', 'neutral', 'sadness', 'fear'],\n",
       "      dtype=object)"
      ]
     },
     "execution_count": 29,
     "metadata": {
      "tags": []
     },
     "output_type": "execute_result"
    }
   ],
   "source": [
    "Crema_df['labels'].unique()"
   ]
  },
  {
   "cell_type": "code",
   "execution_count": 30,
   "metadata": {
    "executionInfo": {
     "elapsed": 52,
     "status": "ok",
     "timestamp": 1628607325295,
     "user": {
      "displayName": "Eleonora Mancini",
      "photoUrl": "https://lh3.googleusercontent.com/a-/AOh14GgGMAKQj5wg21_r-iyQIVVYF436AnA5QQFEsFsFtg=s64",
      "userId": "13827522260918404568"
     },
     "user_tz": -120
    },
    "id": "KeN7a_BoYawr"
   },
   "outputs": [],
   "source": [
    "crema_angry = Crema_df[Crema_df.labels == 'angry']\n",
    "crema_disgust = Crema_df[Crema_df.labels == 'disgust']\n",
    "crema_fear = Crema_df[Crema_df.labels == 'fear']\n",
    "crema_happy = Crema_df[Crema_df.labels == 'happy']\n",
    "crema_neutral = Crema_df[Crema_df.labels == 'neutral']\n",
    "crema_sadness = Crema_df[Crema_df.labels == 'sadness']"
   ]
  },
  {
   "cell_type": "code",
   "execution_count": 31,
   "metadata": {
    "colab": {
     "base_uri": "https://localhost:8080/",
     "height": 419
    },
    "executionInfo": {
     "elapsed": 54,
     "status": "ok",
     "timestamp": 1628607325297,
     "user": {
      "displayName": "Eleonora Mancini",
      "photoUrl": "https://lh3.googleusercontent.com/a-/AOh14GgGMAKQj5wg21_r-iyQIVVYF436AnA5QQFEsFsFtg=s64",
      "userId": "13827522260918404568"
     },
     "user_tz": -120
    },
    "id": "jufxNdCcnoAy",
    "outputId": "de1f2477-342f-494c-f54e-605d03ff9d8a"
   },
   "outputs": [
    {
     "data": {
      "text/html": [
       "<div>\n",
       "<style scoped>\n",
       "    .dataframe tbody tr th:only-of-type {\n",
       "        vertical-align: middle;\n",
       "    }\n",
       "\n",
       "    .dataframe tbody tr th {\n",
       "        vertical-align: top;\n",
       "    }\n",
       "\n",
       "    .dataframe thead th {\n",
       "        text-align: right;\n",
       "    }\n",
       "</style>\n",
       "<table border=\"1\" class=\"dataframe\">\n",
       "  <thead>\n",
       "    <tr style=\"text-align: right;\">\n",
       "      <th></th>\n",
       "      <th>labels</th>\n",
       "      <th>path</th>\n",
       "      <th>source</th>\n",
       "    </tr>\n",
       "  </thead>\n",
       "  <tbody>\n",
       "    <tr>\n",
       "      <th>4</th>\n",
       "      <td>neutral</td>\n",
       "      <td>creamd/AudioWAV/1079_WSI_NEU_XX.wav</td>\n",
       "      <td>CREAM</td>\n",
       "    </tr>\n",
       "    <tr>\n",
       "      <th>5</th>\n",
       "      <td>neutral</td>\n",
       "      <td>creamd/AudioWAV/1080_DFA_NEU_XX.wav</td>\n",
       "      <td>CREAM</td>\n",
       "    </tr>\n",
       "    <tr>\n",
       "      <th>15</th>\n",
       "      <td>neutral</td>\n",
       "      <td>creamd/AudioWAV/1079_TIE_NEU_XX.wav</td>\n",
       "      <td>CREAM</td>\n",
       "    </tr>\n",
       "    <tr>\n",
       "      <th>17</th>\n",
       "      <td>neutral</td>\n",
       "      <td>creamd/AudioWAV/1079_TSI_NEU_XX.wav</td>\n",
       "      <td>CREAM</td>\n",
       "    </tr>\n",
       "    <tr>\n",
       "      <th>22</th>\n",
       "      <td>neutral</td>\n",
       "      <td>creamd/AudioWAV/1080_IEO_NEU_XX.wav</td>\n",
       "      <td>CREAM</td>\n",
       "    </tr>\n",
       "    <tr>\n",
       "      <th>...</th>\n",
       "      <td>...</td>\n",
       "      <td>...</td>\n",
       "      <td>...</td>\n",
       "    </tr>\n",
       "    <tr>\n",
       "      <th>7422</th>\n",
       "      <td>neutral</td>\n",
       "      <td>creamd/AudioWAV/1006_DFA_NEU_XX.wav</td>\n",
       "      <td>CREAM</td>\n",
       "    </tr>\n",
       "    <tr>\n",
       "      <th>7423</th>\n",
       "      <td>neutral</td>\n",
       "      <td>creamd/AudioWAV/1006_IEO_NEU_XX.wav</td>\n",
       "      <td>CREAM</td>\n",
       "    </tr>\n",
       "    <tr>\n",
       "      <th>7428</th>\n",
       "      <td>neutral</td>\n",
       "      <td>creamd/AudioWAV/1006_IOM_NEU_XX.wav</td>\n",
       "      <td>CREAM</td>\n",
       "    </tr>\n",
       "    <tr>\n",
       "      <th>7439</th>\n",
       "      <td>neutral</td>\n",
       "      <td>creamd/AudioWAV/1006_ITH_NEU_XX.wav</td>\n",
       "      <td>CREAM</td>\n",
       "    </tr>\n",
       "    <tr>\n",
       "      <th>7440</th>\n",
       "      <td>neutral</td>\n",
       "      <td>creamd/AudioWAV/1006_ITS_NEU_XX.wav</td>\n",
       "      <td>CREAM</td>\n",
       "    </tr>\n",
       "  </tbody>\n",
       "</table>\n",
       "<p>1087 rows × 3 columns</p>\n",
       "</div>"
      ],
      "text/plain": [
       "       labels                                 path source\n",
       "4     neutral  creamd/AudioWAV/1079_WSI_NEU_XX.wav  CREAM\n",
       "5     neutral  creamd/AudioWAV/1080_DFA_NEU_XX.wav  CREAM\n",
       "15    neutral  creamd/AudioWAV/1079_TIE_NEU_XX.wav  CREAM\n",
       "17    neutral  creamd/AudioWAV/1079_TSI_NEU_XX.wav  CREAM\n",
       "22    neutral  creamd/AudioWAV/1080_IEO_NEU_XX.wav  CREAM\n",
       "...       ...                                  ...    ...\n",
       "7422  neutral  creamd/AudioWAV/1006_DFA_NEU_XX.wav  CREAM\n",
       "7423  neutral  creamd/AudioWAV/1006_IEO_NEU_XX.wav  CREAM\n",
       "7428  neutral  creamd/AudioWAV/1006_IOM_NEU_XX.wav  CREAM\n",
       "7439  neutral  creamd/AudioWAV/1006_ITH_NEU_XX.wav  CREAM\n",
       "7440  neutral  creamd/AudioWAV/1006_ITS_NEU_XX.wav  CREAM\n",
       "\n",
       "[1087 rows x 3 columns]"
      ]
     },
     "execution_count": 31,
     "metadata": {
      "tags": []
     },
     "output_type": "execute_result"
    }
   ],
   "source": [
    "crema_neutral"
   ]
  },
  {
   "cell_type": "markdown",
   "metadata": {
    "id": "bmtMSbNbZFJi"
   },
   "source": [
    "### Angry"
   ]
  },
  {
   "cell_type": "code",
   "execution_count": 32,
   "metadata": {
    "colab": {
     "base_uri": "https://localhost:8080/",
     "height": 373,
     "referenced_widgets": [
      "61f4e13a03414291841441661c5dc130",
      "4b5519f567c44f5fb91451223b02568a",
      "ece8dac95bbf4f63958ceff2479a6ba2",
      "4a9113e9191047af9b4b62fa7459ff50",
      "3c148be8fb2546f392c515a67aca8cb9",
      "6328e52ef3094c61aaa8e02d3d4db4a8",
      "6f44ed6b79154af3b28e908641cc9b02",
      "c789a722d990414cb8615af1f30c7eec"
     ]
    },
    "executionInfo": {
     "elapsed": 2298,
     "status": "error",
     "timestamp": 1628607327544,
     "user": {
      "displayName": "Eleonora Mancini",
      "photoUrl": "https://lh3.googleusercontent.com/a-/AOh14GgGMAKQj5wg21_r-iyQIVVYF436AnA5QQFEsFsFtg=s64",
      "userId": "13827522260918404568"
     },
     "user_tz": -120
    },
    "id": "CKye4eoHZHaf",
    "outputId": "78907bf8-2b06-419d-be34-deafb54f7ca9"
   },
   "outputs": [
    {
     "data": {
      "application/vnd.jupyter.widget-view+json": {
       "model_id": "61f4e13a03414291841441661c5dc130",
       "version_major": 2,
       "version_minor": 0
      },
      "text/plain": [
       "HBox(children=(FloatProgress(value=0.0, max=1271.0), HTML(value='')))"
      ]
     },
     "metadata": {
      "tags": []
     },
     "output_type": "display_data"
    },
    {
     "ename": "KeyboardInterrupt",
     "evalue": "ignored",
     "output_type": "error",
     "traceback": [
      "\u001b[0;31m---------------------------------------------------------------------------\u001b[0m",
      "\u001b[0;31mKeyboardInterrupt\u001b[0m                         Traceback (most recent call last)",
      "\u001b[0;32m<ipython-input-32-0f9a51908bb4>\u001b[0m in \u001b[0;36m<module>\u001b[0;34m()\u001b[0m\n\u001b[1;32m      1\u001b[0m \u001b[0mX\u001b[0m \u001b[0;34m=\u001b[0m \u001b[0;34m[\u001b[0m\u001b[0;34m]\u001b[0m\u001b[0;34m\u001b[0m\u001b[0;34m\u001b[0m\u001b[0m\n\u001b[1;32m      2\u001b[0m \u001b[0;32mfor\u001b[0m \u001b[0mi\u001b[0m \u001b[0;32min\u001b[0m \u001b[0mtqdm\u001b[0m\u001b[0;34m(\u001b[0m\u001b[0mcrema_angry\u001b[0m\u001b[0;34m[\u001b[0m\u001b[0;34m'path'\u001b[0m\u001b[0;34m]\u001b[0m\u001b[0;34m)\u001b[0m\u001b[0;34m:\u001b[0m\u001b[0;34m\u001b[0m\u001b[0;34m\u001b[0m\u001b[0m\n\u001b[0;32m----> 3\u001b[0;31m     \u001b[0mX\u001b[0m\u001b[0;34m.\u001b[0m\u001b[0mappend\u001b[0m\u001b[0;34m(\u001b[0m\u001b[0mlibrosa\u001b[0m\u001b[0;34m.\u001b[0m\u001b[0mload\u001b[0m\u001b[0;34m(\u001b[0m\u001b[0mi\u001b[0m\u001b[0;34m,\u001b[0m \u001b[0mres_type\u001b[0m\u001b[0;34m=\u001b[0m\u001b[0;34m'kaiser_fast'\u001b[0m\u001b[0;34m,\u001b[0m \u001b[0msr\u001b[0m\u001b[0;34m=\u001b[0m\u001b[0;36m44000\u001b[0m\u001b[0;34m)\u001b[0m\u001b[0;34m)\u001b[0m\u001b[0;34m\u001b[0m\u001b[0;34m\u001b[0m\u001b[0m\n\u001b[0m",
      "\u001b[0;32m/usr/local/lib/python3.7/dist-packages/librosa/core/audio.py\u001b[0m in \u001b[0;36mload\u001b[0;34m(path, sr, mono, offset, duration, dtype, res_type)\u001b[0m\n\u001b[1;32m    173\u001b[0m \u001b[0;34m\u001b[0m\u001b[0m\n\u001b[1;32m    174\u001b[0m     \u001b[0;32mif\u001b[0m \u001b[0msr\u001b[0m \u001b[0;32mis\u001b[0m \u001b[0;32mnot\u001b[0m \u001b[0;32mNone\u001b[0m\u001b[0;34m:\u001b[0m\u001b[0;34m\u001b[0m\u001b[0;34m\u001b[0m\u001b[0m\n\u001b[0;32m--> 175\u001b[0;31m         \u001b[0my\u001b[0m \u001b[0;34m=\u001b[0m \u001b[0mresample\u001b[0m\u001b[0;34m(\u001b[0m\u001b[0my\u001b[0m\u001b[0;34m,\u001b[0m \u001b[0msr_native\u001b[0m\u001b[0;34m,\u001b[0m \u001b[0msr\u001b[0m\u001b[0;34m,\u001b[0m \u001b[0mres_type\u001b[0m\u001b[0;34m=\u001b[0m\u001b[0mres_type\u001b[0m\u001b[0;34m)\u001b[0m\u001b[0;34m\u001b[0m\u001b[0;34m\u001b[0m\u001b[0m\n\u001b[0m\u001b[1;32m    176\u001b[0m \u001b[0;34m\u001b[0m\u001b[0m\n\u001b[1;32m    177\u001b[0m     \u001b[0;32melse\u001b[0m\u001b[0;34m:\u001b[0m\u001b[0;34m\u001b[0m\u001b[0;34m\u001b[0m\u001b[0m\n",
      "\u001b[0;32m/usr/local/lib/python3.7/dist-packages/librosa/core/audio.py\u001b[0m in \u001b[0;36mresample\u001b[0;34m(y, orig_sr, target_sr, res_type, fix, scale, **kwargs)\u001b[0m\n\u001b[1;32m    602\u001b[0m         \u001b[0my_hat\u001b[0m \u001b[0;34m=\u001b[0m \u001b[0msoxr\u001b[0m\u001b[0;34m.\u001b[0m\u001b[0mresample\u001b[0m\u001b[0;34m(\u001b[0m\u001b[0my\u001b[0m\u001b[0;34m.\u001b[0m\u001b[0mT\u001b[0m\u001b[0;34m,\u001b[0m \u001b[0morig_sr\u001b[0m\u001b[0;34m,\u001b[0m \u001b[0mtarget_sr\u001b[0m\u001b[0;34m,\u001b[0m \u001b[0mquality\u001b[0m\u001b[0;34m=\u001b[0m\u001b[0mres_type\u001b[0m\u001b[0;34m)\u001b[0m\u001b[0;34m.\u001b[0m\u001b[0mT\u001b[0m\u001b[0;34m\u001b[0m\u001b[0;34m\u001b[0m\u001b[0m\n\u001b[1;32m    603\u001b[0m     \u001b[0;32melse\u001b[0m\u001b[0;34m:\u001b[0m\u001b[0;34m\u001b[0m\u001b[0;34m\u001b[0m\u001b[0m\n\u001b[0;32m--> 604\u001b[0;31m         \u001b[0my_hat\u001b[0m \u001b[0;34m=\u001b[0m \u001b[0mresampy\u001b[0m\u001b[0;34m.\u001b[0m\u001b[0mresample\u001b[0m\u001b[0;34m(\u001b[0m\u001b[0my\u001b[0m\u001b[0;34m,\u001b[0m \u001b[0morig_sr\u001b[0m\u001b[0;34m,\u001b[0m \u001b[0mtarget_sr\u001b[0m\u001b[0;34m,\u001b[0m \u001b[0mfilter\u001b[0m\u001b[0;34m=\u001b[0m\u001b[0mres_type\u001b[0m\u001b[0;34m,\u001b[0m \u001b[0maxis\u001b[0m\u001b[0;34m=\u001b[0m\u001b[0;34m-\u001b[0m\u001b[0;36m1\u001b[0m\u001b[0;34m)\u001b[0m\u001b[0;34m\u001b[0m\u001b[0;34m\u001b[0m\u001b[0m\n\u001b[0m\u001b[1;32m    605\u001b[0m \u001b[0;34m\u001b[0m\u001b[0m\n\u001b[1;32m    606\u001b[0m     \u001b[0;32mif\u001b[0m \u001b[0mfix\u001b[0m\u001b[0;34m:\u001b[0m\u001b[0;34m\u001b[0m\u001b[0;34m\u001b[0m\u001b[0m\n",
      "\u001b[0;32m/usr/local/lib/python3.7/dist-packages/resampy/core.py\u001b[0m in \u001b[0;36mresample\u001b[0;34m(x, sr_orig, sr_new, axis, filter, **kwargs)\u001b[0m\n\u001b[1;32m    118\u001b[0m     \u001b[0mx_2d\u001b[0m \u001b[0;34m=\u001b[0m \u001b[0mx\u001b[0m\u001b[0;34m.\u001b[0m\u001b[0mswapaxes\u001b[0m\u001b[0;34m(\u001b[0m\u001b[0;36m0\u001b[0m\u001b[0;34m,\u001b[0m \u001b[0maxis\u001b[0m\u001b[0;34m)\u001b[0m\u001b[0;34m.\u001b[0m\u001b[0mreshape\u001b[0m\u001b[0;34m(\u001b[0m\u001b[0;34m(\u001b[0m\u001b[0mx\u001b[0m\u001b[0;34m.\u001b[0m\u001b[0mshape\u001b[0m\u001b[0;34m[\u001b[0m\u001b[0maxis\u001b[0m\u001b[0;34m]\u001b[0m\u001b[0;34m,\u001b[0m \u001b[0;34m-\u001b[0m\u001b[0;36m1\u001b[0m\u001b[0;34m)\u001b[0m\u001b[0;34m)\u001b[0m\u001b[0;34m\u001b[0m\u001b[0;34m\u001b[0m\u001b[0m\n\u001b[1;32m    119\u001b[0m     \u001b[0my_2d\u001b[0m \u001b[0;34m=\u001b[0m \u001b[0my\u001b[0m\u001b[0;34m.\u001b[0m\u001b[0mswapaxes\u001b[0m\u001b[0;34m(\u001b[0m\u001b[0;36m0\u001b[0m\u001b[0;34m,\u001b[0m \u001b[0maxis\u001b[0m\u001b[0;34m)\u001b[0m\u001b[0;34m.\u001b[0m\u001b[0mreshape\u001b[0m\u001b[0;34m(\u001b[0m\u001b[0;34m(\u001b[0m\u001b[0my\u001b[0m\u001b[0;34m.\u001b[0m\u001b[0mshape\u001b[0m\u001b[0;34m[\u001b[0m\u001b[0maxis\u001b[0m\u001b[0;34m]\u001b[0m\u001b[0;34m,\u001b[0m \u001b[0;34m-\u001b[0m\u001b[0;36m1\u001b[0m\u001b[0;34m)\u001b[0m\u001b[0;34m)\u001b[0m\u001b[0;34m\u001b[0m\u001b[0;34m\u001b[0m\u001b[0m\n\u001b[0;32m--> 120\u001b[0;31m     \u001b[0mresample_f\u001b[0m\u001b[0;34m(\u001b[0m\u001b[0mx_2d\u001b[0m\u001b[0;34m,\u001b[0m \u001b[0my_2d\u001b[0m\u001b[0;34m,\u001b[0m \u001b[0msample_ratio\u001b[0m\u001b[0;34m,\u001b[0m \u001b[0minterp_win\u001b[0m\u001b[0;34m,\u001b[0m \u001b[0minterp_delta\u001b[0m\u001b[0;34m,\u001b[0m \u001b[0mprecision\u001b[0m\u001b[0;34m)\u001b[0m\u001b[0;34m\u001b[0m\u001b[0;34m\u001b[0m\u001b[0m\n\u001b[0m\u001b[1;32m    121\u001b[0m \u001b[0;34m\u001b[0m\u001b[0m\n\u001b[1;32m    122\u001b[0m     \u001b[0;32mreturn\u001b[0m \u001b[0my\u001b[0m\u001b[0;34m\u001b[0m\u001b[0;34m\u001b[0m\u001b[0m\n",
      "\u001b[0;31mKeyboardInterrupt\u001b[0m: "
     ]
    }
   ],
   "source": [
    "X = []\n",
    "for i in tqdm(crema_angry['path']): \n",
    "    X.append(librosa.load(i, res_type='kaiser_fast', sr=44000))"
   ]
  },
  {
   "cell_type": "code",
   "execution_count": null,
   "metadata": {
    "executionInfo": {
     "elapsed": 391,
     "status": "aborted",
     "timestamp": 1628607326887,
     "user": {
      "displayName": "Eleonora Mancini",
      "photoUrl": "https://lh3.googleusercontent.com/a-/AOh14GgGMAKQj5wg21_r-iyQIVVYF436AnA5QQFEsFsFtg=s64",
      "userId": "13827522260918404568"
     },
     "user_tz": -120
    },
    "id": "PE_XGe6xZUKW"
   },
   "outputs": [],
   "source": [
    "new_x = []\n",
    "for ind,i in enumerate(X):\n",
    "    new_x.append(i[0])"
   ]
  },
  {
   "cell_type": "code",
   "execution_count": null,
   "metadata": {
    "executionInfo": {
     "elapsed": 392,
     "status": "aborted",
     "timestamp": 1628607326889,
     "user": {
      "displayName": "Eleonora Mancini",
      "photoUrl": "https://lh3.googleusercontent.com/a-/AOh14GgGMAKQj5wg21_r-iyQIVVYF436AnA5QQFEsFsFtg=s64",
      "userId": "13827522260918404568"
     },
     "user_tz": -120
    },
    "id": "a0i_GljSZey4"
   },
   "outputs": [],
   "source": [
    "y = crema_angry.labels"
   ]
  },
  {
   "cell_type": "code",
   "execution_count": null,
   "metadata": {
    "executionInfo": {
     "elapsed": 392,
     "status": "aborted",
     "timestamp": 1628607326889,
     "user": {
      "displayName": "Eleonora Mancini",
      "photoUrl": "https://lh3.googleusercontent.com/a-/AOh14GgGMAKQj5wg21_r-iyQIVVYF436AnA5QQFEsFsFtg=s64",
      "userId": "13827522260918404568"
     },
     "user_tz": -120
    },
    "id": "jqH-q1lyZllM"
   },
   "outputs": [],
   "source": [
    "y = y.reset_index(drop=True)"
   ]
  },
  {
   "cell_type": "code",
   "execution_count": null,
   "metadata": {
    "executionInfo": {
     "elapsed": 393,
     "status": "aborted",
     "timestamp": 1628607326890,
     "user": {
      "displayName": "Eleonora Mancini",
      "photoUrl": "https://lh3.googleusercontent.com/a-/AOh14GgGMAKQj5wg21_r-iyQIVVYF436AnA5QQFEsFsFtg=s64",
      "userId": "13827522260918404568"
     },
     "user_tz": -120
    },
    "id": "WptbkQwDZosS"
   },
   "outputs": [],
   "source": [
    "import math\n",
    "length_chosen = 120378\n",
    "\n",
    "X_new = []\n",
    "y_new = []\n",
    "count = 0 \n",
    "for ind,i in enumerate(new_x):\n",
    "    if i.shape[0] < 300000:\n",
    "        if i.shape[0] > length_chosen:\n",
    "            new = i[:length_chosen]\n",
    "            X_new.append(new)\n",
    "        elif i.shape[0] < length_chosen:\n",
    "            new = np.pad(i,math.ceil((length_chosen-i.shape[0])/2), mode='median')\n",
    "            X_new.append(new)\n",
    "        else:\n",
    "            X_new.append(i)\n",
    "        y_new.append(y[count])\n",
    "    count+=1\n",
    "            "
   ]
  },
  {
   "cell_type": "code",
   "execution_count": null,
   "metadata": {
    "executionInfo": {
     "elapsed": 394,
     "status": "aborted",
     "timestamp": 1628607326891,
     "user": {
      "displayName": "Eleonora Mancini",
      "photoUrl": "https://lh3.googleusercontent.com/a-/AOh14GgGMAKQj5wg21_r-iyQIVVYF436AnA5QQFEsFsFtg=s64",
      "userId": "13827522260918404568"
     },
     "user_tz": -120
    },
    "id": "yNTG3B0HZ3PA"
   },
   "outputs": [],
   "source": [
    "X = np.array(X_new)\n",
    "y = np.array(y_new)\n",
    "print(X.shape, y.shape)"
   ]
  },
  {
   "cell_type": "code",
   "execution_count": null,
   "metadata": {
    "executionInfo": {
     "elapsed": 394,
     "status": "aborted",
     "timestamp": 1628607326892,
     "user": {
      "displayName": "Eleonora Mancini",
      "photoUrl": "https://lh3.googleusercontent.com/a-/AOh14GgGMAKQj5wg21_r-iyQIVVYF436AnA5QQFEsFsFtg=s64",
      "userId": "13827522260918404568"
     },
     "user_tz": -120
    },
    "id": "QVwfpleqZ8xc"
   },
   "outputs": [],
   "source": [
    "mfccs = []\n",
    "for i in tqdm(X):\n",
    "    mfcc = librosa.feature.mfcc(y=i, sr=44000, n_mfcc=40)\n",
    "    mfcc = mfcc.T\n",
    "    mfccs.append(mfcc)\n"
   ]
  },
  {
   "cell_type": "code",
   "execution_count": null,
   "metadata": {
    "executionInfo": {
     "elapsed": 394,
     "status": "aborted",
     "timestamp": 1628607326892,
     "user": {
      "displayName": "Eleonora Mancini",
      "photoUrl": "https://lh3.googleusercontent.com/a-/AOh14GgGMAKQj5wg21_r-iyQIVVYF436AnA5QQFEsFsFtg=s64",
      "userId": "13827522260918404568"
     },
     "user_tz": -120
    },
    "id": "rFMmE97jaEz-"
   },
   "outputs": [],
   "source": [
    "mfccs = np.array(mfccs)\n",
    "mfccs.shape"
   ]
  },
  {
   "cell_type": "code",
   "execution_count": null,
   "metadata": {
    "executionInfo": {
     "elapsed": 404,
     "status": "aborted",
     "timestamp": 1628607326902,
     "user": {
      "displayName": "Eleonora Mancini",
      "photoUrl": "https://lh3.googleusercontent.com/a-/AOh14GgGMAKQj5wg21_r-iyQIVVYF436AnA5QQFEsFsFtg=s64",
      "userId": "13827522260918404568"
     },
     "user_tz": -120
    },
    "id": "EE4crZTzaae5"
   },
   "outputs": [],
   "source": [
    "emotion_enc = {'fear':1, 'disgust':1, 'neutral':0, 'happy':0, 'sadness':1, 'surprise':0, 'angry':1}"
   ]
  },
  {
   "cell_type": "code",
   "execution_count": null,
   "metadata": {
    "executionInfo": {
     "elapsed": 31,
     "status": "aborted",
     "timestamp": 1628607326902,
     "user": {
      "displayName": "Eleonora Mancini",
      "photoUrl": "https://lh3.googleusercontent.com/a-/AOh14GgGMAKQj5wg21_r-iyQIVVYF436AnA5QQFEsFsFtg=s64",
      "userId": "13827522260918404568"
     },
     "user_tz": -120
    },
    "id": "dYam0PL4adc3"
   },
   "outputs": [],
   "source": [
    "y = pd.Series(y).map(emotion_enc)"
   ]
  },
  {
   "cell_type": "code",
   "execution_count": null,
   "metadata": {
    "executionInfo": {
     "elapsed": 32,
     "status": "aborted",
     "timestamp": 1628607326904,
     "user": {
      "displayName": "Eleonora Mancini",
      "photoUrl": "https://lh3.googleusercontent.com/a-/AOh14GgGMAKQj5wg21_r-iyQIVVYF436AnA5QQFEsFsFtg=s64",
      "userId": "13827522260918404568"
     },
     "user_tz": -120
    },
    "id": "2EfVVr9SanS8"
   },
   "outputs": [],
   "source": [
    "with open('scaler.pickle', 'rb') as f:\n",
    "  scaler = pickle.load(f)"
   ]
  },
  {
   "cell_type": "code",
   "execution_count": null,
   "metadata": {
    "executionInfo": {
     "elapsed": 33,
     "status": "aborted",
     "timestamp": 1628607326905,
     "user": {
      "displayName": "Eleonora Mancini",
      "photoUrl": "https://lh3.googleusercontent.com/a-/AOh14GgGMAKQj5wg21_r-iyQIVVYF436AnA5QQFEsFsFtg=s64",
      "userId": "13827522260918404568"
     },
     "user_tz": -120
    },
    "id": "PIi0Pblia9me"
   },
   "outputs": [],
   "source": [
    " mfccs = scaler.transform(mfccs.reshape(-1, mfccs.shape[-1])).reshape(mfccs.shape)"
   ]
  },
  {
   "cell_type": "code",
   "execution_count": null,
   "metadata": {
    "executionInfo": {
     "elapsed": 32,
     "status": "aborted",
     "timestamp": 1628607326905,
     "user": {
      "displayName": "Eleonora Mancini",
      "photoUrl": "https://lh3.googleusercontent.com/a-/AOh14GgGMAKQj5wg21_r-iyQIVVYF436AnA5QQFEsFsFtg=s64",
      "userId": "13827522260918404568"
     },
     "user_tz": -120
    },
    "id": "bUHwDq_mbcrI"
   },
   "outputs": [],
   "source": [
    "model_loaded = tf.keras.models.load_model('my_model_binary_scaled_pn_CHANGE_ORDER')"
   ]
  },
  {
   "cell_type": "code",
   "execution_count": null,
   "metadata": {
    "executionInfo": {
     "elapsed": 33,
     "status": "aborted",
     "timestamp": 1628607326906,
     "user": {
      "displayName": "Eleonora Mancini",
      "photoUrl": "https://lh3.googleusercontent.com/a-/AOh14GgGMAKQj5wg21_r-iyQIVVYF436AnA5QQFEsFsFtg=s64",
      "userId": "13827522260918404568"
     },
     "user_tz": -120
    },
    "id": "cCgg-kZzbbmn"
   },
   "outputs": [],
   "source": [
    "predictions = model_loaded.predict(mfccs)\n",
    "pred = [1 * (x[0]>=0.50) for x in predictions]"
   ]
  },
  {
   "cell_type": "code",
   "execution_count": null,
   "metadata": {
    "executionInfo": {
     "elapsed": 33,
     "status": "aborted",
     "timestamp": 1628607326906,
     "user": {
      "displayName": "Eleonora Mancini",
      "photoUrl": "https://lh3.googleusercontent.com/a-/AOh14GgGMAKQj5wg21_r-iyQIVVYF436AnA5QQFEsFsFtg=s64",
      "userId": "13827522260918404568"
     },
     "user_tz": -120
    },
    "id": "OeZFBzaVb_CK"
   },
   "outputs": [],
   "source": [
    "count_misclassified = 0 \n",
    "for i in range(len(y)): \n",
    "  if y[i] != pred[i]: \n",
    "    count_misclassified +=1\n",
    "count_misclassified"
   ]
  },
  {
   "cell_type": "code",
   "execution_count": null,
   "metadata": {
    "executionInfo": {
     "elapsed": 34,
     "status": "aborted",
     "timestamp": 1628607326907,
     "user": {
      "displayName": "Eleonora Mancini",
      "photoUrl": "https://lh3.googleusercontent.com/a-/AOh14GgGMAKQj5wg21_r-iyQIVVYF436AnA5QQFEsFsFtg=s64",
      "userId": "13827522260918404568"
     },
     "user_tz": -120
    },
    "id": "bUWu2nUTcfGY"
   },
   "outputs": [],
   "source": [
    "print(\"Percentage of misclassified files: {} %\".format((count_misclassified/len(y)*100)))"
   ]
  },
  {
   "cell_type": "markdown",
   "metadata": {
    "id": "G6mImSMRc1Jr"
   },
   "source": [
    "### Disgust"
   ]
  },
  {
   "cell_type": "code",
   "execution_count": null,
   "metadata": {
    "executionInfo": {
     "elapsed": 33,
     "status": "aborted",
     "timestamp": 1628607326907,
     "user": {
      "displayName": "Eleonora Mancini",
      "photoUrl": "https://lh3.googleusercontent.com/a-/AOh14GgGMAKQj5wg21_r-iyQIVVYF436AnA5QQFEsFsFtg=s64",
      "userId": "13827522260918404568"
     },
     "user_tz": -120
    },
    "id": "2WmzsvV4c1Js"
   },
   "outputs": [],
   "source": [
    "X = []\n",
    "for i in tqdm(crema_disgust['path']): \n",
    "    X.append(librosa.load(i, res_type='kaiser_fast', sr=44000))"
   ]
  },
  {
   "cell_type": "code",
   "execution_count": null,
   "metadata": {
    "executionInfo": {
     "elapsed": 33,
     "status": "aborted",
     "timestamp": 1628607326907,
     "user": {
      "displayName": "Eleonora Mancini",
      "photoUrl": "https://lh3.googleusercontent.com/a-/AOh14GgGMAKQj5wg21_r-iyQIVVYF436AnA5QQFEsFsFtg=s64",
      "userId": "13827522260918404568"
     },
     "user_tz": -120
    },
    "id": "6gv4OSqcc1Js"
   },
   "outputs": [],
   "source": [
    "new_x = []\n",
    "for ind,i in enumerate(X):\n",
    "    new_x.append(i[0])"
   ]
  },
  {
   "cell_type": "code",
   "execution_count": null,
   "metadata": {
    "executionInfo": {
     "elapsed": 34,
     "status": "aborted",
     "timestamp": 1628607326908,
     "user": {
      "displayName": "Eleonora Mancini",
      "photoUrl": "https://lh3.googleusercontent.com/a-/AOh14GgGMAKQj5wg21_r-iyQIVVYF436AnA5QQFEsFsFtg=s64",
      "userId": "13827522260918404568"
     },
     "user_tz": -120
    },
    "id": "PKmz-yQec1Jt"
   },
   "outputs": [],
   "source": [
    "y = crema_disgust.labels"
   ]
  },
  {
   "cell_type": "code",
   "execution_count": null,
   "metadata": {
    "executionInfo": {
     "elapsed": 34,
     "status": "aborted",
     "timestamp": 1628607326908,
     "user": {
      "displayName": "Eleonora Mancini",
      "photoUrl": "https://lh3.googleusercontent.com/a-/AOh14GgGMAKQj5wg21_r-iyQIVVYF436AnA5QQFEsFsFtg=s64",
      "userId": "13827522260918404568"
     },
     "user_tz": -120
    },
    "id": "vBh_b-0sc1Jt"
   },
   "outputs": [],
   "source": [
    "y = y.reset_index(drop=True)"
   ]
  },
  {
   "cell_type": "code",
   "execution_count": null,
   "metadata": {
    "executionInfo": {
     "elapsed": 34,
     "status": "aborted",
     "timestamp": 1628607326909,
     "user": {
      "displayName": "Eleonora Mancini",
      "photoUrl": "https://lh3.googleusercontent.com/a-/AOh14GgGMAKQj5wg21_r-iyQIVVYF436AnA5QQFEsFsFtg=s64",
      "userId": "13827522260918404568"
     },
     "user_tz": -120
    },
    "id": "UtiG_vZ3c1Jt"
   },
   "outputs": [],
   "source": [
    "import math\n",
    "length_chosen = 120378\n",
    "\n",
    "X_new = []\n",
    "y_new = []\n",
    "count = 0 \n",
    "for ind,i in enumerate(new_x):\n",
    "    if i.shape[0] < 300000:\n",
    "        if i.shape[0] > length_chosen:\n",
    "            new = i[:length_chosen]\n",
    "            X_new.append(new)\n",
    "        elif i.shape[0] < length_chosen:\n",
    "            new = np.pad(i,math.ceil((length_chosen-i.shape[0])/2), mode='median')\n",
    "            X_new.append(new)\n",
    "        else:\n",
    "            X_new.append(i)\n",
    "        y_new.append(y[count])\n",
    "    count+=1\n",
    "            "
   ]
  },
  {
   "cell_type": "code",
   "execution_count": null,
   "metadata": {
    "executionInfo": {
     "elapsed": 34,
     "status": "aborted",
     "timestamp": 1628607326909,
     "user": {
      "displayName": "Eleonora Mancini",
      "photoUrl": "https://lh3.googleusercontent.com/a-/AOh14GgGMAKQj5wg21_r-iyQIVVYF436AnA5QQFEsFsFtg=s64",
      "userId": "13827522260918404568"
     },
     "user_tz": -120
    },
    "id": "PdKcryqYc1Jt"
   },
   "outputs": [],
   "source": [
    "X = np.array(X_new)\n",
    "y = np.array(y_new)\n",
    "print(X.shape, y.shape)"
   ]
  },
  {
   "cell_type": "code",
   "execution_count": null,
   "metadata": {
    "executionInfo": {
     "elapsed": 34,
     "status": "aborted",
     "timestamp": 1628607326909,
     "user": {
      "displayName": "Eleonora Mancini",
      "photoUrl": "https://lh3.googleusercontent.com/a-/AOh14GgGMAKQj5wg21_r-iyQIVVYF436AnA5QQFEsFsFtg=s64",
      "userId": "13827522260918404568"
     },
     "user_tz": -120
    },
    "id": "wJtzccdZc1Jt"
   },
   "outputs": [],
   "source": [
    "mfccs = []\n",
    "for i in tqdm(X):\n",
    "    mfcc = librosa.feature.mfcc(y=i, sr=44000, n_mfcc=40)\n",
    "    mfcc = mfcc.T\n",
    "    mfccs.append(mfcc)\n"
   ]
  },
  {
   "cell_type": "code",
   "execution_count": null,
   "metadata": {
    "executionInfo": {
     "elapsed": 35,
     "status": "aborted",
     "timestamp": 1628607326910,
     "user": {
      "displayName": "Eleonora Mancini",
      "photoUrl": "https://lh3.googleusercontent.com/a-/AOh14GgGMAKQj5wg21_r-iyQIVVYF436AnA5QQFEsFsFtg=s64",
      "userId": "13827522260918404568"
     },
     "user_tz": -120
    },
    "id": "hUE4fw-zc1Jt"
   },
   "outputs": [],
   "source": [
    "mfccs = np.array(mfccs)\n",
    "mfccs.shape"
   ]
  },
  {
   "cell_type": "code",
   "execution_count": null,
   "metadata": {
    "executionInfo": {
     "elapsed": 34,
     "status": "aborted",
     "timestamp": 1628607326910,
     "user": {
      "displayName": "Eleonora Mancini",
      "photoUrl": "https://lh3.googleusercontent.com/a-/AOh14GgGMAKQj5wg21_r-iyQIVVYF436AnA5QQFEsFsFtg=s64",
      "userId": "13827522260918404568"
     },
     "user_tz": -120
    },
    "id": "miLeaWEsc1Ju"
   },
   "outputs": [],
   "source": [
    "emotion_enc = {'fear':1, 'disgust':1, 'neutral':0, 'happy':0, 'sadness':1, 'surprise':0, 'angry':1}"
   ]
  },
  {
   "cell_type": "code",
   "execution_count": null,
   "metadata": {
    "executionInfo": {
     "elapsed": 35,
     "status": "aborted",
     "timestamp": 1628607326911,
     "user": {
      "displayName": "Eleonora Mancini",
      "photoUrl": "https://lh3.googleusercontent.com/a-/AOh14GgGMAKQj5wg21_r-iyQIVVYF436AnA5QQFEsFsFtg=s64",
      "userId": "13827522260918404568"
     },
     "user_tz": -120
    },
    "id": "6haMX6VFc1Ju"
   },
   "outputs": [],
   "source": [
    "y = pd.Series(y).map(emotion_enc)"
   ]
  },
  {
   "cell_type": "code",
   "execution_count": null,
   "metadata": {
    "executionInfo": {
     "elapsed": 35,
     "status": "aborted",
     "timestamp": 1628607326911,
     "user": {
      "displayName": "Eleonora Mancini",
      "photoUrl": "https://lh3.googleusercontent.com/a-/AOh14GgGMAKQj5wg21_r-iyQIVVYF436AnA5QQFEsFsFtg=s64",
      "userId": "13827522260918404568"
     },
     "user_tz": -120
    },
    "id": "SqyLnk5Dc1Ju"
   },
   "outputs": [],
   "source": [
    "with open('scaler.pickle', 'rb') as f:\n",
    "  scaler = pickle.load(f)"
   ]
  },
  {
   "cell_type": "code",
   "execution_count": null,
   "metadata": {
    "executionInfo": {
     "elapsed": 34,
     "status": "aborted",
     "timestamp": 1628607326911,
     "user": {
      "displayName": "Eleonora Mancini",
      "photoUrl": "https://lh3.googleusercontent.com/a-/AOh14GgGMAKQj5wg21_r-iyQIVVYF436AnA5QQFEsFsFtg=s64",
      "userId": "13827522260918404568"
     },
     "user_tz": -120
    },
    "id": "SzGqSLNdc1Ju"
   },
   "outputs": [],
   "source": [
    " mfccs = scaler.transform(mfccs.reshape(-1, mfccs.shape[-1])).reshape(mfccs.shape)"
   ]
  },
  {
   "cell_type": "code",
   "execution_count": null,
   "metadata": {
    "executionInfo": {
     "elapsed": 35,
     "status": "aborted",
     "timestamp": 1628607326912,
     "user": {
      "displayName": "Eleonora Mancini",
      "photoUrl": "https://lh3.googleusercontent.com/a-/AOh14GgGMAKQj5wg21_r-iyQIVVYF436AnA5QQFEsFsFtg=s64",
      "userId": "13827522260918404568"
     },
     "user_tz": -120
    },
    "id": "GfVKvyJLc1Ju"
   },
   "outputs": [],
   "source": [
    "model_loaded = tf.keras.models.load_model('my_model_binary_scaled_pn_CHANGE_ORDER')"
   ]
  },
  {
   "cell_type": "code",
   "execution_count": null,
   "metadata": {
    "executionInfo": {
     "elapsed": 35,
     "status": "aborted",
     "timestamp": 1628607326912,
     "user": {
      "displayName": "Eleonora Mancini",
      "photoUrl": "https://lh3.googleusercontent.com/a-/AOh14GgGMAKQj5wg21_r-iyQIVVYF436AnA5QQFEsFsFtg=s64",
      "userId": "13827522260918404568"
     },
     "user_tz": -120
    },
    "id": "cNKK5oI8c1Ju"
   },
   "outputs": [],
   "source": [
    "predictions = model_loaded.predict(mfccs)\n",
    "pred = [1 * (x[0]>=0.50) for x in predictions]"
   ]
  },
  {
   "cell_type": "code",
   "execution_count": null,
   "metadata": {
    "executionInfo": {
     "elapsed": 36,
     "status": "aborted",
     "timestamp": 1628607326913,
     "user": {
      "displayName": "Eleonora Mancini",
      "photoUrl": "https://lh3.googleusercontent.com/a-/AOh14GgGMAKQj5wg21_r-iyQIVVYF436AnA5QQFEsFsFtg=s64",
      "userId": "13827522260918404568"
     },
     "user_tz": -120
    },
    "id": "Xupn1KIAc1Ju"
   },
   "outputs": [],
   "source": [
    "count_misclassified = 0 \n",
    "for i in range(len(y)): \n",
    "  if y[i] != pred[i]: \n",
    "    count_misclassified +=1\n",
    "count_misclassified"
   ]
  },
  {
   "cell_type": "code",
   "execution_count": null,
   "metadata": {
    "executionInfo": {
     "elapsed": 36,
     "status": "aborted",
     "timestamp": 1628607326913,
     "user": {
      "displayName": "Eleonora Mancini",
      "photoUrl": "https://lh3.googleusercontent.com/a-/AOh14GgGMAKQj5wg21_r-iyQIVVYF436AnA5QQFEsFsFtg=s64",
      "userId": "13827522260918404568"
     },
     "user_tz": -120
    },
    "id": "bMFc-Ruwc1Ju"
   },
   "outputs": [],
   "source": [
    "print(\"Percentage of misclassified files: {} %\".format((count_misclassified/len(y)*100)))"
   ]
  },
  {
   "cell_type": "markdown",
   "metadata": {
    "id": "xb-4PeR2eNDo"
   },
   "source": [
    "### Fear"
   ]
  },
  {
   "cell_type": "code",
   "execution_count": null,
   "metadata": {
    "executionInfo": {
     "elapsed": 35,
     "status": "aborted",
     "timestamp": 1628607326913,
     "user": {
      "displayName": "Eleonora Mancini",
      "photoUrl": "https://lh3.googleusercontent.com/a-/AOh14GgGMAKQj5wg21_r-iyQIVVYF436AnA5QQFEsFsFtg=s64",
      "userId": "13827522260918404568"
     },
     "user_tz": -120
    },
    "id": "YQUgdB_LeNDp"
   },
   "outputs": [],
   "source": [
    "X = []\n",
    "for i in tqdm(crema_fear['path']): \n",
    "    X.append(librosa.load(i, res_type='kaiser_fast', sr=44000))"
   ]
  },
  {
   "cell_type": "code",
   "execution_count": null,
   "metadata": {
    "executionInfo": {
     "elapsed": 36,
     "status": "aborted",
     "timestamp": 1628607326914,
     "user": {
      "displayName": "Eleonora Mancini",
      "photoUrl": "https://lh3.googleusercontent.com/a-/AOh14GgGMAKQj5wg21_r-iyQIVVYF436AnA5QQFEsFsFtg=s64",
      "userId": "13827522260918404568"
     },
     "user_tz": -120
    },
    "id": "NuAc6T-3eNDp"
   },
   "outputs": [],
   "source": [
    "new_x = []\n",
    "for ind,i in enumerate(X):\n",
    "    new_x.append(i[0])"
   ]
  },
  {
   "cell_type": "code",
   "execution_count": null,
   "metadata": {
    "executionInfo": {
     "elapsed": 36,
     "status": "aborted",
     "timestamp": 1628607326914,
     "user": {
      "displayName": "Eleonora Mancini",
      "photoUrl": "https://lh3.googleusercontent.com/a-/AOh14GgGMAKQj5wg21_r-iyQIVVYF436AnA5QQFEsFsFtg=s64",
      "userId": "13827522260918404568"
     },
     "user_tz": -120
    },
    "id": "yHokZLs2eNDp"
   },
   "outputs": [],
   "source": [
    "y = crema_fear.labels"
   ]
  },
  {
   "cell_type": "code",
   "execution_count": null,
   "metadata": {
    "executionInfo": {
     "elapsed": 37,
     "status": "aborted",
     "timestamp": 1628607326915,
     "user": {
      "displayName": "Eleonora Mancini",
      "photoUrl": "https://lh3.googleusercontent.com/a-/AOh14GgGMAKQj5wg21_r-iyQIVVYF436AnA5QQFEsFsFtg=s64",
      "userId": "13827522260918404568"
     },
     "user_tz": -120
    },
    "id": "oMJGdU_QeNDp"
   },
   "outputs": [],
   "source": [
    "y = y.reset_index(drop=True)"
   ]
  },
  {
   "cell_type": "code",
   "execution_count": null,
   "metadata": {
    "executionInfo": {
     "elapsed": 619,
     "status": "aborted",
     "timestamp": 1628607327497,
     "user": {
      "displayName": "Eleonora Mancini",
      "photoUrl": "https://lh3.googleusercontent.com/a-/AOh14GgGMAKQj5wg21_r-iyQIVVYF436AnA5QQFEsFsFtg=s64",
      "userId": "13827522260918404568"
     },
     "user_tz": -120
    },
    "id": "alBeVCYJeNDq"
   },
   "outputs": [],
   "source": [
    "import math\n",
    "length_chosen = 120378\n",
    "\n",
    "X_new = []\n",
    "y_new = []\n",
    "count = 0 \n",
    "for ind,i in enumerate(new_x):\n",
    "    if i.shape[0] < 300000:\n",
    "        if i.shape[0] > length_chosen:\n",
    "            new = i[:length_chosen]\n",
    "            X_new.append(new)\n",
    "        elif i.shape[0] < length_chosen:\n",
    "            new = np.pad(i,math.ceil((length_chosen-i.shape[0])/2), mode='median')\n",
    "            X_new.append(new)\n",
    "        else:\n",
    "            X_new.append(i)\n",
    "        y_new.append(y[count])\n",
    "    count+=1\n",
    "            "
   ]
  },
  {
   "cell_type": "code",
   "execution_count": null,
   "metadata": {
    "executionInfo": {
     "elapsed": 620,
     "status": "aborted",
     "timestamp": 1628607327499,
     "user": {
      "displayName": "Eleonora Mancini",
      "photoUrl": "https://lh3.googleusercontent.com/a-/AOh14GgGMAKQj5wg21_r-iyQIVVYF436AnA5QQFEsFsFtg=s64",
      "userId": "13827522260918404568"
     },
     "user_tz": -120
    },
    "id": "8VmonsKgeNDq"
   },
   "outputs": [],
   "source": [
    "X = np.array(X_new)\n",
    "y = np.array(y_new)\n",
    "print(X.shape, y.shape)"
   ]
  },
  {
   "cell_type": "code",
   "execution_count": null,
   "metadata": {
    "executionInfo": {
     "elapsed": 621,
     "status": "aborted",
     "timestamp": 1628607327500,
     "user": {
      "displayName": "Eleonora Mancini",
      "photoUrl": "https://lh3.googleusercontent.com/a-/AOh14GgGMAKQj5wg21_r-iyQIVVYF436AnA5QQFEsFsFtg=s64",
      "userId": "13827522260918404568"
     },
     "user_tz": -120
    },
    "id": "a0BAFHMVeNDq"
   },
   "outputs": [],
   "source": [
    "mfccs = []\n",
    "for i in tqdm(X):\n",
    "    mfcc = librosa.feature.mfcc(y=i, sr=44000, n_mfcc=40)\n",
    "    mfcc = mfcc.T\n",
    "    mfccs.append(mfcc)\n"
   ]
  },
  {
   "cell_type": "code",
   "execution_count": null,
   "metadata": {
    "executionInfo": {
     "elapsed": 621,
     "status": "aborted",
     "timestamp": 1628607327500,
     "user": {
      "displayName": "Eleonora Mancini",
      "photoUrl": "https://lh3.googleusercontent.com/a-/AOh14GgGMAKQj5wg21_r-iyQIVVYF436AnA5QQFEsFsFtg=s64",
      "userId": "13827522260918404568"
     },
     "user_tz": -120
    },
    "id": "M7HrF9KoeNDq"
   },
   "outputs": [],
   "source": [
    "mfccs = np.array(mfccs)\n",
    "mfccs.shape"
   ]
  },
  {
   "cell_type": "code",
   "execution_count": null,
   "metadata": {
    "executionInfo": {
     "elapsed": 622,
     "status": "aborted",
     "timestamp": 1628607327501,
     "user": {
      "displayName": "Eleonora Mancini",
      "photoUrl": "https://lh3.googleusercontent.com/a-/AOh14GgGMAKQj5wg21_r-iyQIVVYF436AnA5QQFEsFsFtg=s64",
      "userId": "13827522260918404568"
     },
     "user_tz": -120
    },
    "id": "Q74au62GeNDq"
   },
   "outputs": [],
   "source": [
    "emotion_enc = {'fear':1, 'disgust':1, 'neutral':0, 'happy':0, 'sadness':1, 'surprise':0, 'angry':1}"
   ]
  },
  {
   "cell_type": "code",
   "execution_count": null,
   "metadata": {
    "executionInfo": {
     "elapsed": 623,
     "status": "aborted",
     "timestamp": 1628607327502,
     "user": {
      "displayName": "Eleonora Mancini",
      "photoUrl": "https://lh3.googleusercontent.com/a-/AOh14GgGMAKQj5wg21_r-iyQIVVYF436AnA5QQFEsFsFtg=s64",
      "userId": "13827522260918404568"
     },
     "user_tz": -120
    },
    "id": "Htc-aOZfeNDr"
   },
   "outputs": [],
   "source": [
    "y = pd.Series(y).map(emotion_enc)"
   ]
  },
  {
   "cell_type": "code",
   "execution_count": null,
   "metadata": {
    "executionInfo": {
     "elapsed": 622,
     "status": "aborted",
     "timestamp": 1628607327502,
     "user": {
      "displayName": "Eleonora Mancini",
      "photoUrl": "https://lh3.googleusercontent.com/a-/AOh14GgGMAKQj5wg21_r-iyQIVVYF436AnA5QQFEsFsFtg=s64",
      "userId": "13827522260918404568"
     },
     "user_tz": -120
    },
    "id": "ONY56jPCeNDr"
   },
   "outputs": [],
   "source": [
    "with open('scaler.pickle', 'rb') as f:\n",
    "  scaler = pickle.load(f)"
   ]
  },
  {
   "cell_type": "code",
   "execution_count": null,
   "metadata": {
    "executionInfo": {
     "elapsed": 622,
     "status": "aborted",
     "timestamp": 1628607327502,
     "user": {
      "displayName": "Eleonora Mancini",
      "photoUrl": "https://lh3.googleusercontent.com/a-/AOh14GgGMAKQj5wg21_r-iyQIVVYF436AnA5QQFEsFsFtg=s64",
      "userId": "13827522260918404568"
     },
     "user_tz": -120
    },
    "id": "F74SqK9OeNDr"
   },
   "outputs": [],
   "source": [
    " mfccs = scaler.transform(mfccs.reshape(-1, mfccs.shape[-1])).reshape(mfccs.shape)"
   ]
  },
  {
   "cell_type": "code",
   "execution_count": null,
   "metadata": {
    "executionInfo": {
     "elapsed": 622,
     "status": "aborted",
     "timestamp": 1628607327503,
     "user": {
      "displayName": "Eleonora Mancini",
      "photoUrl": "https://lh3.googleusercontent.com/a-/AOh14GgGMAKQj5wg21_r-iyQIVVYF436AnA5QQFEsFsFtg=s64",
      "userId": "13827522260918404568"
     },
     "user_tz": -120
    },
    "id": "TxdTWlWYeNDr"
   },
   "outputs": [],
   "source": [
    "model_loaded = tf.keras.models.load_model('my_model_binary_scaled_pn_CHANGE_ORDER')"
   ]
  },
  {
   "cell_type": "code",
   "execution_count": null,
   "metadata": {
    "executionInfo": {
     "elapsed": 622,
     "status": "aborted",
     "timestamp": 1628607327503,
     "user": {
      "displayName": "Eleonora Mancini",
      "photoUrl": "https://lh3.googleusercontent.com/a-/AOh14GgGMAKQj5wg21_r-iyQIVVYF436AnA5QQFEsFsFtg=s64",
      "userId": "13827522260918404568"
     },
     "user_tz": -120
    },
    "id": "paoffRuoeNDr"
   },
   "outputs": [],
   "source": [
    "predictions = model_loaded.predict(mfccs)\n",
    "pred = [1 * (x[0]>=0.50) for x in predictions]"
   ]
  },
  {
   "cell_type": "code",
   "execution_count": null,
   "metadata": {
    "executionInfo": {
     "elapsed": 622,
     "status": "aborted",
     "timestamp": 1628607327503,
     "user": {
      "displayName": "Eleonora Mancini",
      "photoUrl": "https://lh3.googleusercontent.com/a-/AOh14GgGMAKQj5wg21_r-iyQIVVYF436AnA5QQFEsFsFtg=s64",
      "userId": "13827522260918404568"
     },
     "user_tz": -120
    },
    "id": "AWH7_FsueNDr"
   },
   "outputs": [],
   "source": [
    "count_misclassified = 0 \n",
    "for i in range(len(y)): \n",
    "  if y[i] != pred[i]: \n",
    "    count_misclassified +=1\n",
    "count_misclassified"
   ]
  },
  {
   "cell_type": "code",
   "execution_count": null,
   "metadata": {
    "executionInfo": {
     "elapsed": 622,
     "status": "aborted",
     "timestamp": 1628607327504,
     "user": {
      "displayName": "Eleonora Mancini",
      "photoUrl": "https://lh3.googleusercontent.com/a-/AOh14GgGMAKQj5wg21_r-iyQIVVYF436AnA5QQFEsFsFtg=s64",
      "userId": "13827522260918404568"
     },
     "user_tz": -120
    },
    "id": "eOjA_94peNDs"
   },
   "outputs": [],
   "source": [
    "print(\"Percentage of misclassified files: {} %\".format((count_misclassified/len(y)*100)))"
   ]
  },
  {
   "cell_type": "markdown",
   "metadata": {
    "id": "1Z0ydaM4e8nO"
   },
   "source": [
    "### Happy"
   ]
  },
  {
   "cell_type": "code",
   "execution_count": null,
   "metadata": {
    "executionInfo": {
     "elapsed": 622,
     "status": "aborted",
     "timestamp": 1628607327504,
     "user": {
      "displayName": "Eleonora Mancini",
      "photoUrl": "https://lh3.googleusercontent.com/a-/AOh14GgGMAKQj5wg21_r-iyQIVVYF436AnA5QQFEsFsFtg=s64",
      "userId": "13827522260918404568"
     },
     "user_tz": -120
    },
    "id": "m0vtK_Ote8nP"
   },
   "outputs": [],
   "source": [
    "X = []\n",
    "for i in tqdm(crema_happy['path']): \n",
    "    X.append(librosa.load(i, res_type='kaiser_fast', sr=44000))"
   ]
  },
  {
   "cell_type": "code",
   "execution_count": null,
   "metadata": {
    "executionInfo": {
     "elapsed": 623,
     "status": "aborted",
     "timestamp": 1628607327505,
     "user": {
      "displayName": "Eleonora Mancini",
      "photoUrl": "https://lh3.googleusercontent.com/a-/AOh14GgGMAKQj5wg21_r-iyQIVVYF436AnA5QQFEsFsFtg=s64",
      "userId": "13827522260918404568"
     },
     "user_tz": -120
    },
    "id": "aq6pj7h1e8nP"
   },
   "outputs": [],
   "source": [
    "new_x = []\n",
    "for ind,i in enumerate(X):\n",
    "    new_x.append(i[0])"
   ]
  },
  {
   "cell_type": "code",
   "execution_count": null,
   "metadata": {
    "executionInfo": {
     "elapsed": 622,
     "status": "aborted",
     "timestamp": 1628607327505,
     "user": {
      "displayName": "Eleonora Mancini",
      "photoUrl": "https://lh3.googleusercontent.com/a-/AOh14GgGMAKQj5wg21_r-iyQIVVYF436AnA5QQFEsFsFtg=s64",
      "userId": "13827522260918404568"
     },
     "user_tz": -120
    },
    "id": "xfUsaZ2re8nP"
   },
   "outputs": [],
   "source": [
    "y = crema_happy.labels"
   ]
  },
  {
   "cell_type": "code",
   "execution_count": null,
   "metadata": {
    "executionInfo": {
     "elapsed": 622,
     "status": "aborted",
     "timestamp": 1628607327505,
     "user": {
      "displayName": "Eleonora Mancini",
      "photoUrl": "https://lh3.googleusercontent.com/a-/AOh14GgGMAKQj5wg21_r-iyQIVVYF436AnA5QQFEsFsFtg=s64",
      "userId": "13827522260918404568"
     },
     "user_tz": -120
    },
    "id": "HjVpuLQje8nQ"
   },
   "outputs": [],
   "source": [
    "y = y.reset_index(drop=True)"
   ]
  },
  {
   "cell_type": "code",
   "execution_count": null,
   "metadata": {
    "executionInfo": {
     "elapsed": 623,
     "status": "aborted",
     "timestamp": 1628607327506,
     "user": {
      "displayName": "Eleonora Mancini",
      "photoUrl": "https://lh3.googleusercontent.com/a-/AOh14GgGMAKQj5wg21_r-iyQIVVYF436AnA5QQFEsFsFtg=s64",
      "userId": "13827522260918404568"
     },
     "user_tz": -120
    },
    "id": "FLR8Jhkbe8nQ"
   },
   "outputs": [],
   "source": [
    "import math\n",
    "length_chosen = 120378\n",
    "\n",
    "X_new = []\n",
    "y_new = []\n",
    "count = 0 \n",
    "for ind,i in enumerate(new_x):\n",
    "    if i.shape[0] < 300000:\n",
    "        if i.shape[0] > length_chosen:\n",
    "            new = i[:length_chosen]\n",
    "            X_new.append(new)\n",
    "        elif i.shape[0] < length_chosen:\n",
    "            new = np.pad(i,math.ceil((length_chosen-i.shape[0])/2), mode='median')\n",
    "            X_new.append(new)\n",
    "        else:\n",
    "            X_new.append(i)\n",
    "        y_new.append(y[count])\n",
    "    count+=1\n",
    "            "
   ]
  },
  {
   "cell_type": "code",
   "execution_count": null,
   "metadata": {
    "executionInfo": {
     "elapsed": 622,
     "status": "aborted",
     "timestamp": 1628607327506,
     "user": {
      "displayName": "Eleonora Mancini",
      "photoUrl": "https://lh3.googleusercontent.com/a-/AOh14GgGMAKQj5wg21_r-iyQIVVYF436AnA5QQFEsFsFtg=s64",
      "userId": "13827522260918404568"
     },
     "user_tz": -120
    },
    "id": "E1Wom2eRe8nQ"
   },
   "outputs": [],
   "source": [
    "X = np.array(X_new)\n",
    "y = np.array(y_new)\n",
    "print(X.shape, y.shape)"
   ]
  },
  {
   "cell_type": "code",
   "execution_count": null,
   "metadata": {
    "executionInfo": {
     "elapsed": 622,
     "status": "aborted",
     "timestamp": 1628607327506,
     "user": {
      "displayName": "Eleonora Mancini",
      "photoUrl": "https://lh3.googleusercontent.com/a-/AOh14GgGMAKQj5wg21_r-iyQIVVYF436AnA5QQFEsFsFtg=s64",
      "userId": "13827522260918404568"
     },
     "user_tz": -120
    },
    "id": "3kFx4bI3e8nQ"
   },
   "outputs": [],
   "source": [
    "mfccs = []\n",
    "for i in tqdm(X):\n",
    "    mfcc = librosa.feature.mfcc(y=i, sr=44000, n_mfcc=40)\n",
    "    mfcc = mfcc.T\n",
    "    mfccs.append(mfcc)\n"
   ]
  },
  {
   "cell_type": "code",
   "execution_count": null,
   "metadata": {
    "executionInfo": {
     "elapsed": 623,
     "status": "aborted",
     "timestamp": 1628607327507,
     "user": {
      "displayName": "Eleonora Mancini",
      "photoUrl": "https://lh3.googleusercontent.com/a-/AOh14GgGMAKQj5wg21_r-iyQIVVYF436AnA5QQFEsFsFtg=s64",
      "userId": "13827522260918404568"
     },
     "user_tz": -120
    },
    "id": "7_krzvyxe8nR"
   },
   "outputs": [],
   "source": [
    "mfccs = np.array(mfccs)\n",
    "mfccs.shape"
   ]
  },
  {
   "cell_type": "code",
   "execution_count": null,
   "metadata": {
    "executionInfo": {
     "elapsed": 622,
     "status": "aborted",
     "timestamp": 1628607327507,
     "user": {
      "displayName": "Eleonora Mancini",
      "photoUrl": "https://lh3.googleusercontent.com/a-/AOh14GgGMAKQj5wg21_r-iyQIVVYF436AnA5QQFEsFsFtg=s64",
      "userId": "13827522260918404568"
     },
     "user_tz": -120
    },
    "id": "cwRKXEZWe8nR"
   },
   "outputs": [],
   "source": [
    "emotion_enc = {'fear':1, 'disgust':1, 'neutral':0, 'happy':0, 'sadness':1, 'surprise':0, 'angry':1}"
   ]
  },
  {
   "cell_type": "code",
   "execution_count": null,
   "metadata": {
    "executionInfo": {
     "elapsed": 622,
     "status": "aborted",
     "timestamp": 1628607327507,
     "user": {
      "displayName": "Eleonora Mancini",
      "photoUrl": "https://lh3.googleusercontent.com/a-/AOh14GgGMAKQj5wg21_r-iyQIVVYF436AnA5QQFEsFsFtg=s64",
      "userId": "13827522260918404568"
     },
     "user_tz": -120
    },
    "id": "yunS7Kfse8nR"
   },
   "outputs": [],
   "source": [
    "y = pd.Series(y).map(emotion_enc)"
   ]
  },
  {
   "cell_type": "code",
   "execution_count": null,
   "metadata": {
    "executionInfo": {
     "elapsed": 623,
     "status": "aborted",
     "timestamp": 1628607327508,
     "user": {
      "displayName": "Eleonora Mancini",
      "photoUrl": "https://lh3.googleusercontent.com/a-/AOh14GgGMAKQj5wg21_r-iyQIVVYF436AnA5QQFEsFsFtg=s64",
      "userId": "13827522260918404568"
     },
     "user_tz": -120
    },
    "id": "o5AeE3XGe8nS"
   },
   "outputs": [],
   "source": [
    "with open('scaler.pickle', 'rb') as f:\n",
    "  scaler = pickle.load(f)"
   ]
  },
  {
   "cell_type": "code",
   "execution_count": null,
   "metadata": {
    "executionInfo": {
     "elapsed": 622,
     "status": "aborted",
     "timestamp": 1628607327508,
     "user": {
      "displayName": "Eleonora Mancini",
      "photoUrl": "https://lh3.googleusercontent.com/a-/AOh14GgGMAKQj5wg21_r-iyQIVVYF436AnA5QQFEsFsFtg=s64",
      "userId": "13827522260918404568"
     },
     "user_tz": -120
    },
    "id": "ZciFZQLse8nS"
   },
   "outputs": [],
   "source": [
    " mfccs = scaler.transform(mfccs.reshape(-1, mfccs.shape[-1])).reshape(mfccs.shape)"
   ]
  },
  {
   "cell_type": "code",
   "execution_count": null,
   "metadata": {
    "executionInfo": {
     "elapsed": 630,
     "status": "aborted",
     "timestamp": 1628607327516,
     "user": {
      "displayName": "Eleonora Mancini",
      "photoUrl": "https://lh3.googleusercontent.com/a-/AOh14GgGMAKQj5wg21_r-iyQIVVYF436AnA5QQFEsFsFtg=s64",
      "userId": "13827522260918404568"
     },
     "user_tz": -120
    },
    "id": "AYP7xRC4e8nS"
   },
   "outputs": [],
   "source": [
    "model_loaded = tf.keras.models.load_model('my_model_binary_scaled_pn_CHANGE_ORDER')"
   ]
  },
  {
   "cell_type": "code",
   "execution_count": null,
   "metadata": {
    "executionInfo": {
     "elapsed": 55,
     "status": "aborted",
     "timestamp": 1628607327517,
     "user": {
      "displayName": "Eleonora Mancini",
      "photoUrl": "https://lh3.googleusercontent.com/a-/AOh14GgGMAKQj5wg21_r-iyQIVVYF436AnA5QQFEsFsFtg=s64",
      "userId": "13827522260918404568"
     },
     "user_tz": -120
    },
    "id": "PPaUSJvje8nS"
   },
   "outputs": [],
   "source": [
    "predictions = model_loaded.predict(mfccs)\n",
    "pred = [1 * (x[0]>=0.50) for x in predictions]"
   ]
  },
  {
   "cell_type": "code",
   "execution_count": null,
   "metadata": {
    "executionInfo": {
     "elapsed": 55,
     "status": "aborted",
     "timestamp": 1628607327517,
     "user": {
      "displayName": "Eleonora Mancini",
      "photoUrl": "https://lh3.googleusercontent.com/a-/AOh14GgGMAKQj5wg21_r-iyQIVVYF436AnA5QQFEsFsFtg=s64",
      "userId": "13827522260918404568"
     },
     "user_tz": -120
    },
    "id": "er6UYVR4e8nS"
   },
   "outputs": [],
   "source": [
    "count_misclassified = 0 \n",
    "for i in range(len(y)): \n",
    "  if y[i] != pred[i]: \n",
    "    count_misclassified +=1\n",
    "count_misclassified"
   ]
  },
  {
   "cell_type": "code",
   "execution_count": null,
   "metadata": {
    "executionInfo": {
     "elapsed": 54,
     "status": "aborted",
     "timestamp": 1628607327517,
     "user": {
      "displayName": "Eleonora Mancini",
      "photoUrl": "https://lh3.googleusercontent.com/a-/AOh14GgGMAKQj5wg21_r-iyQIVVYF436AnA5QQFEsFsFtg=s64",
      "userId": "13827522260918404568"
     },
     "user_tz": -120
    },
    "id": "K24M2qUHe8nS"
   },
   "outputs": [],
   "source": [
    "print(\"Percentage of misclassified files: {} %\".format((count_misclassified/len(y)*100)))"
   ]
  },
  {
   "cell_type": "markdown",
   "metadata": {
    "id": "P4-SO5jHfNHJ"
   },
   "source": [
    "### Neutral"
   ]
  },
  {
   "cell_type": "code",
   "execution_count": null,
   "metadata": {
    "executionInfo": {
     "elapsed": 55,
     "status": "aborted",
     "timestamp": 1628607327518,
     "user": {
      "displayName": "Eleonora Mancini",
      "photoUrl": "https://lh3.googleusercontent.com/a-/AOh14GgGMAKQj5wg21_r-iyQIVVYF436AnA5QQFEsFsFtg=s64",
      "userId": "13827522260918404568"
     },
     "user_tz": -120
    },
    "id": "OCXu5DMifNHJ"
   },
   "outputs": [],
   "source": [
    "X = []\n",
    "for i in tqdm(crema_neutral['path']): \n",
    "    X.append(librosa.load(i, res_type='kaiser_fast', sr=44000))"
   ]
  },
  {
   "cell_type": "code",
   "execution_count": null,
   "metadata": {
    "executionInfo": {
     "elapsed": 55,
     "status": "aborted",
     "timestamp": 1628607327518,
     "user": {
      "displayName": "Eleonora Mancini",
      "photoUrl": "https://lh3.googleusercontent.com/a-/AOh14GgGMAKQj5wg21_r-iyQIVVYF436AnA5QQFEsFsFtg=s64",
      "userId": "13827522260918404568"
     },
     "user_tz": -120
    },
    "id": "JOnrbztafNHK"
   },
   "outputs": [],
   "source": [
    "new_x = []\n",
    "for ind,i in enumerate(X):\n",
    "    new_x.append(i[0])"
   ]
  },
  {
   "cell_type": "code",
   "execution_count": null,
   "metadata": {
    "executionInfo": {
     "elapsed": 54,
     "status": "aborted",
     "timestamp": 1628607327518,
     "user": {
      "displayName": "Eleonora Mancini",
      "photoUrl": "https://lh3.googleusercontent.com/a-/AOh14GgGMAKQj5wg21_r-iyQIVVYF436AnA5QQFEsFsFtg=s64",
      "userId": "13827522260918404568"
     },
     "user_tz": -120
    },
    "id": "fbJV6eOpfNHK"
   },
   "outputs": [],
   "source": [
    "y = crema_neutral.labels"
   ]
  },
  {
   "cell_type": "code",
   "execution_count": null,
   "metadata": {
    "executionInfo": {
     "elapsed": 53,
     "status": "aborted",
     "timestamp": 1628607327519,
     "user": {
      "displayName": "Eleonora Mancini",
      "photoUrl": "https://lh3.googleusercontent.com/a-/AOh14GgGMAKQj5wg21_r-iyQIVVYF436AnA5QQFEsFsFtg=s64",
      "userId": "13827522260918404568"
     },
     "user_tz": -120
    },
    "id": "s3B-ybmXfNHK"
   },
   "outputs": [],
   "source": [
    "y = y.reset_index(drop=True)"
   ]
  },
  {
   "cell_type": "code",
   "execution_count": null,
   "metadata": {
    "executionInfo": {
     "elapsed": 52,
     "status": "aborted",
     "timestamp": 1628607327519,
     "user": {
      "displayName": "Eleonora Mancini",
      "photoUrl": "https://lh3.googleusercontent.com/a-/AOh14GgGMAKQj5wg21_r-iyQIVVYF436AnA5QQFEsFsFtg=s64",
      "userId": "13827522260918404568"
     },
     "user_tz": -120
    },
    "id": "FSxfmUYOfNHK"
   },
   "outputs": [],
   "source": [
    "import math\n",
    "length_chosen = 120378\n",
    "\n",
    "X_new = []\n",
    "y_new = []\n",
    "count = 0 \n",
    "for ind,i in enumerate(new_x):\n",
    "    if i.shape[0] < 300000:\n",
    "        if i.shape[0] > length_chosen:\n",
    "            new = i[:length_chosen]\n",
    "            X_new.append(new)\n",
    "        elif i.shape[0] < length_chosen:\n",
    "            new = np.pad(i,math.ceil((length_chosen-i.shape[0])/2), mode='median')\n",
    "            X_new.append(new)\n",
    "        else:\n",
    "            X_new.append(i)\n",
    "        y_new.append(y[count])\n",
    "    count+=1\n",
    "            "
   ]
  },
  {
   "cell_type": "code",
   "execution_count": null,
   "metadata": {
    "executionInfo": {
     "elapsed": 52,
     "status": "aborted",
     "timestamp": 1628607327519,
     "user": {
      "displayName": "Eleonora Mancini",
      "photoUrl": "https://lh3.googleusercontent.com/a-/AOh14GgGMAKQj5wg21_r-iyQIVVYF436AnA5QQFEsFsFtg=s64",
      "userId": "13827522260918404568"
     },
     "user_tz": -120
    },
    "id": "XD9U0AsyfNHL"
   },
   "outputs": [],
   "source": [
    "X = np.array(X_new)\n",
    "y = np.array(y_new)\n",
    "print(X.shape, y.shape)"
   ]
  },
  {
   "cell_type": "code",
   "execution_count": null,
   "metadata": {
    "executionInfo": {
     "elapsed": 52,
     "status": "aborted",
     "timestamp": 1628607327520,
     "user": {
      "displayName": "Eleonora Mancini",
      "photoUrl": "https://lh3.googleusercontent.com/a-/AOh14GgGMAKQj5wg21_r-iyQIVVYF436AnA5QQFEsFsFtg=s64",
      "userId": "13827522260918404568"
     },
     "user_tz": -120
    },
    "id": "jOagOL-GfNHL"
   },
   "outputs": [],
   "source": [
    "mfccs = []\n",
    "for i in tqdm(X):\n",
    "    mfcc = librosa.feature.mfcc(y=i, sr=44000, n_mfcc=40)\n",
    "    mfcc = mfcc.T\n",
    "    mfccs.append(mfcc)\n"
   ]
  },
  {
   "cell_type": "code",
   "execution_count": null,
   "metadata": {
    "executionInfo": {
     "elapsed": 52,
     "status": "aborted",
     "timestamp": 1628607327520,
     "user": {
      "displayName": "Eleonora Mancini",
      "photoUrl": "https://lh3.googleusercontent.com/a-/AOh14GgGMAKQj5wg21_r-iyQIVVYF436AnA5QQFEsFsFtg=s64",
      "userId": "13827522260918404568"
     },
     "user_tz": -120
    },
    "id": "28HuRovWfNHL"
   },
   "outputs": [],
   "source": [
    "mfccs = np.array(mfccs)\n",
    "mfccs.shape"
   ]
  },
  {
   "cell_type": "code",
   "execution_count": null,
   "metadata": {
    "executionInfo": {
     "elapsed": 53,
     "status": "aborted",
     "timestamp": 1628607327521,
     "user": {
      "displayName": "Eleonora Mancini",
      "photoUrl": "https://lh3.googleusercontent.com/a-/AOh14GgGMAKQj5wg21_r-iyQIVVYF436AnA5QQFEsFsFtg=s64",
      "userId": "13827522260918404568"
     },
     "user_tz": -120
    },
    "id": "VKGpgDwyfNHL"
   },
   "outputs": [],
   "source": [
    "emotion_enc = {'fear':1, 'disgust':1, 'neutral':0, 'happy':0, 'sadness':1, 'surprise':0, 'angry':1}"
   ]
  },
  {
   "cell_type": "code",
   "execution_count": null,
   "metadata": {
    "executionInfo": {
     "elapsed": 52,
     "status": "aborted",
     "timestamp": 1628607327521,
     "user": {
      "displayName": "Eleonora Mancini",
      "photoUrl": "https://lh3.googleusercontent.com/a-/AOh14GgGMAKQj5wg21_r-iyQIVVYF436AnA5QQFEsFsFtg=s64",
      "userId": "13827522260918404568"
     },
     "user_tz": -120
    },
    "id": "e9-KeOoXfNHM"
   },
   "outputs": [],
   "source": [
    "y = pd.Series(y).map(emotion_enc)"
   ]
  },
  {
   "cell_type": "code",
   "execution_count": null,
   "metadata": {
    "executionInfo": {
     "elapsed": 52,
     "status": "aborted",
     "timestamp": 1628607327521,
     "user": {
      "displayName": "Eleonora Mancini",
      "photoUrl": "https://lh3.googleusercontent.com/a-/AOh14GgGMAKQj5wg21_r-iyQIVVYF436AnA5QQFEsFsFtg=s64",
      "userId": "13827522260918404568"
     },
     "user_tz": -120
    },
    "id": "zDgUuK6cfNHM"
   },
   "outputs": [],
   "source": [
    "with open('scaler.pickle', 'rb') as f:\n",
    "  scaler = pickle.load(f)"
   ]
  },
  {
   "cell_type": "code",
   "execution_count": null,
   "metadata": {
    "executionInfo": {
     "elapsed": 54,
     "status": "aborted",
     "timestamp": 1628607327523,
     "user": {
      "displayName": "Eleonora Mancini",
      "photoUrl": "https://lh3.googleusercontent.com/a-/AOh14GgGMAKQj5wg21_r-iyQIVVYF436AnA5QQFEsFsFtg=s64",
      "userId": "13827522260918404568"
     },
     "user_tz": -120
    },
    "id": "ui_mE8a3fNHM"
   },
   "outputs": [],
   "source": [
    " mfccs = scaler.transform(mfccs.reshape(-1, mfccs.shape[-1])).reshape(mfccs.shape)"
   ]
  },
  {
   "cell_type": "code",
   "execution_count": null,
   "metadata": {
    "executionInfo": {
     "elapsed": 53,
     "status": "aborted",
     "timestamp": 1628607327523,
     "user": {
      "displayName": "Eleonora Mancini",
      "photoUrl": "https://lh3.googleusercontent.com/a-/AOh14GgGMAKQj5wg21_r-iyQIVVYF436AnA5QQFEsFsFtg=s64",
      "userId": "13827522260918404568"
     },
     "user_tz": -120
    },
    "id": "RK1gFvwSfNHM"
   },
   "outputs": [],
   "source": [
    "model_loaded = tf.keras.models.load_model('my_model_binary_scaled_pn_CHANGE_ORDER')"
   ]
  },
  {
   "cell_type": "code",
   "execution_count": null,
   "metadata": {
    "executionInfo": {
     "elapsed": 52,
     "status": "aborted",
     "timestamp": 1628607327524,
     "user": {
      "displayName": "Eleonora Mancini",
      "photoUrl": "https://lh3.googleusercontent.com/a-/AOh14GgGMAKQj5wg21_r-iyQIVVYF436AnA5QQFEsFsFtg=s64",
      "userId": "13827522260918404568"
     },
     "user_tz": -120
    },
    "id": "VGLojYunfNHM"
   },
   "outputs": [],
   "source": [
    "predictions = model_loaded.predict(mfccs)\n",
    "pred = [1 * (x[0]>=0.50) for x in predictions]"
   ]
  },
  {
   "cell_type": "code",
   "execution_count": null,
   "metadata": {
    "executionInfo": {
     "elapsed": 51,
     "status": "aborted",
     "timestamp": 1628607327524,
     "user": {
      "displayName": "Eleonora Mancini",
      "photoUrl": "https://lh3.googleusercontent.com/a-/AOh14GgGMAKQj5wg21_r-iyQIVVYF436AnA5QQFEsFsFtg=s64",
      "userId": "13827522260918404568"
     },
     "user_tz": -120
    },
    "id": "Wp72eHn-fNHM"
   },
   "outputs": [],
   "source": [
    "count_misclassified = 0 \n",
    "for i in range(len(y)): \n",
    "  if y[i] != pred[i]: \n",
    "    count_misclassified +=1\n",
    "count_misclassified"
   ]
  },
  {
   "cell_type": "code",
   "execution_count": null,
   "metadata": {
    "executionInfo": {
     "elapsed": 51,
     "status": "aborted",
     "timestamp": 1628607327524,
     "user": {
      "displayName": "Eleonora Mancini",
      "photoUrl": "https://lh3.googleusercontent.com/a-/AOh14GgGMAKQj5wg21_r-iyQIVVYF436AnA5QQFEsFsFtg=s64",
      "userId": "13827522260918404568"
     },
     "user_tz": -120
    },
    "id": "xUJ4rTj0fNHN"
   },
   "outputs": [],
   "source": [
    "print(\"Percentage of misclassified files: {} %\".format((count_misclassified/len(y)*100)))"
   ]
  },
  {
   "cell_type": "markdown",
   "metadata": {
    "id": "UfM_AGewfrrx"
   },
   "source": [
    "### Sadness"
   ]
  },
  {
   "cell_type": "code",
   "execution_count": null,
   "metadata": {
    "executionInfo": {
     "elapsed": 52,
     "status": "aborted",
     "timestamp": 1628607327525,
     "user": {
      "displayName": "Eleonora Mancini",
      "photoUrl": "https://lh3.googleusercontent.com/a-/AOh14GgGMAKQj5wg21_r-iyQIVVYF436AnA5QQFEsFsFtg=s64",
      "userId": "13827522260918404568"
     },
     "user_tz": -120
    },
    "id": "wJoCgpamfrry"
   },
   "outputs": [],
   "source": [
    "X = []\n",
    "for i in tqdm(crema_sadness['path']): \n",
    "    X.append(librosa.load(i, res_type='kaiser_fast', sr=44000))"
   ]
  },
  {
   "cell_type": "code",
   "execution_count": null,
   "metadata": {
    "executionInfo": {
     "elapsed": 52,
     "status": "aborted",
     "timestamp": 1628607327526,
     "user": {
      "displayName": "Eleonora Mancini",
      "photoUrl": "https://lh3.googleusercontent.com/a-/AOh14GgGMAKQj5wg21_r-iyQIVVYF436AnA5QQFEsFsFtg=s64",
      "userId": "13827522260918404568"
     },
     "user_tz": -120
    },
    "id": "TUYE6dMhfrry"
   },
   "outputs": [],
   "source": [
    "new_x = []\n",
    "for ind,i in enumerate(X):\n",
    "    new_x.append(i[0])"
   ]
  },
  {
   "cell_type": "code",
   "execution_count": null,
   "metadata": {
    "executionInfo": {
     "elapsed": 53,
     "status": "aborted",
     "timestamp": 1628607327527,
     "user": {
      "displayName": "Eleonora Mancini",
      "photoUrl": "https://lh3.googleusercontent.com/a-/AOh14GgGMAKQj5wg21_r-iyQIVVYF436AnA5QQFEsFsFtg=s64",
      "userId": "13827522260918404568"
     },
     "user_tz": -120
    },
    "id": "xCSQxdNXfrry"
   },
   "outputs": [],
   "source": [
    "y = crema_sadness.labels"
   ]
  },
  {
   "cell_type": "code",
   "execution_count": null,
   "metadata": {
    "executionInfo": {
     "elapsed": 51,
     "status": "aborted",
     "timestamp": 1628607327527,
     "user": {
      "displayName": "Eleonora Mancini",
      "photoUrl": "https://lh3.googleusercontent.com/a-/AOh14GgGMAKQj5wg21_r-iyQIVVYF436AnA5QQFEsFsFtg=s64",
      "userId": "13827522260918404568"
     },
     "user_tz": -120
    },
    "id": "kB5-Z1p5frry"
   },
   "outputs": [],
   "source": [
    "y = y.reset_index(drop=True)"
   ]
  },
  {
   "cell_type": "code",
   "execution_count": null,
   "metadata": {
    "executionInfo": {
     "elapsed": 50,
     "status": "aborted",
     "timestamp": 1628607327528,
     "user": {
      "displayName": "Eleonora Mancini",
      "photoUrl": "https://lh3.googleusercontent.com/a-/AOh14GgGMAKQj5wg21_r-iyQIVVYF436AnA5QQFEsFsFtg=s64",
      "userId": "13827522260918404568"
     },
     "user_tz": -120
    },
    "id": "Shx7tFcwfrry"
   },
   "outputs": [],
   "source": [
    "import math\n",
    "length_chosen = 120378\n",
    "\n",
    "X_new = []\n",
    "y_new = []\n",
    "count = 0 \n",
    "for ind,i in enumerate(new_x):\n",
    "    if i.shape[0] < 300000:\n",
    "        if i.shape[0] > length_chosen:\n",
    "            new = i[:length_chosen]\n",
    "            X_new.append(new)\n",
    "        elif i.shape[0] < length_chosen:\n",
    "            new = np.pad(i,math.ceil((length_chosen-i.shape[0])/2), mode='median')\n",
    "            X_new.append(new)\n",
    "        else:\n",
    "            X_new.append(i)\n",
    "        y_new.append(y[count])\n",
    "    count+=1\n",
    "            "
   ]
  },
  {
   "cell_type": "code",
   "execution_count": null,
   "metadata": {
    "executionInfo": {
     "elapsed": 50,
     "status": "aborted",
     "timestamp": 1628607327528,
     "user": {
      "displayName": "Eleonora Mancini",
      "photoUrl": "https://lh3.googleusercontent.com/a-/AOh14GgGMAKQj5wg21_r-iyQIVVYF436AnA5QQFEsFsFtg=s64",
      "userId": "13827522260918404568"
     },
     "user_tz": -120
    },
    "id": "toYRsvUIfrrz"
   },
   "outputs": [],
   "source": [
    "X = np.array(X_new)\n",
    "y = np.array(y_new)\n",
    "print(X.shape, y.shape)"
   ]
  },
  {
   "cell_type": "code",
   "execution_count": null,
   "metadata": {
    "executionInfo": {
     "elapsed": 48,
     "status": "aborted",
     "timestamp": 1628607327528,
     "user": {
      "displayName": "Eleonora Mancini",
      "photoUrl": "https://lh3.googleusercontent.com/a-/AOh14GgGMAKQj5wg21_r-iyQIVVYF436AnA5QQFEsFsFtg=s64",
      "userId": "13827522260918404568"
     },
     "user_tz": -120
    },
    "id": "7scIZ-B6frrz"
   },
   "outputs": [],
   "source": [
    "mfccs = []\n",
    "for i in tqdm(X):\n",
    "    mfcc = librosa.feature.mfcc(y=i, sr=44000, n_mfcc=40)\n",
    "    mfcc = mfcc.T\n",
    "    mfccs.append(mfcc)\n"
   ]
  },
  {
   "cell_type": "code",
   "execution_count": null,
   "metadata": {
    "executionInfo": {
     "elapsed": 49,
     "status": "aborted",
     "timestamp": 1628607327529,
     "user": {
      "displayName": "Eleonora Mancini",
      "photoUrl": "https://lh3.googleusercontent.com/a-/AOh14GgGMAKQj5wg21_r-iyQIVVYF436AnA5QQFEsFsFtg=s64",
      "userId": "13827522260918404568"
     },
     "user_tz": -120
    },
    "id": "DZdgiQkRfrrz"
   },
   "outputs": [],
   "source": [
    "mfccs = np.array(mfccs)\n",
    "mfccs.shape"
   ]
  },
  {
   "cell_type": "code",
   "execution_count": null,
   "metadata": {
    "executionInfo": {
     "elapsed": 49,
     "status": "aborted",
     "timestamp": 1628607327529,
     "user": {
      "displayName": "Eleonora Mancini",
      "photoUrl": "https://lh3.googleusercontent.com/a-/AOh14GgGMAKQj5wg21_r-iyQIVVYF436AnA5QQFEsFsFtg=s64",
      "userId": "13827522260918404568"
     },
     "user_tz": -120
    },
    "id": "IBZww1Z3frrz"
   },
   "outputs": [],
   "source": [
    "emotion_enc = {'fear':1, 'disgust':1, 'neutral':0, 'happy':0, 'sadness':1, 'surprise':0, 'angry':1}"
   ]
  },
  {
   "cell_type": "code",
   "execution_count": null,
   "metadata": {
    "executionInfo": {
     "elapsed": 51,
     "status": "aborted",
     "timestamp": 1628607327532,
     "user": {
      "displayName": "Eleonora Mancini",
      "photoUrl": "https://lh3.googleusercontent.com/a-/AOh14GgGMAKQj5wg21_r-iyQIVVYF436AnA5QQFEsFsFtg=s64",
      "userId": "13827522260918404568"
     },
     "user_tz": -120
    },
    "id": "0YW1F4N0frrz"
   },
   "outputs": [],
   "source": [
    "y = pd.Series(y).map(emotion_enc)"
   ]
  },
  {
   "cell_type": "code",
   "execution_count": null,
   "metadata": {
    "executionInfo": {
     "elapsed": 52,
     "status": "aborted",
     "timestamp": 1628607327533,
     "user": {
      "displayName": "Eleonora Mancini",
      "photoUrl": "https://lh3.googleusercontent.com/a-/AOh14GgGMAKQj5wg21_r-iyQIVVYF436AnA5QQFEsFsFtg=s64",
      "userId": "13827522260918404568"
     },
     "user_tz": -120
    },
    "id": "ZjgU_HQPfrrz"
   },
   "outputs": [],
   "source": [
    "with open('scaler.pickle', 'rb') as f:\n",
    "  scaler = pickle.load(f)"
   ]
  },
  {
   "cell_type": "code",
   "execution_count": null,
   "metadata": {
    "executionInfo": {
     "elapsed": 47,
     "status": "aborted",
     "timestamp": 1628607327534,
     "user": {
      "displayName": "Eleonora Mancini",
      "photoUrl": "https://lh3.googleusercontent.com/a-/AOh14GgGMAKQj5wg21_r-iyQIVVYF436AnA5QQFEsFsFtg=s64",
      "userId": "13827522260918404568"
     },
     "user_tz": -120
    },
    "id": "mGBFcJO4frr0"
   },
   "outputs": [],
   "source": [
    " mfccs = scaler.transform(mfccs.reshape(-1, mfccs.shape[-1])).reshape(mfccs.shape)"
   ]
  },
  {
   "cell_type": "code",
   "execution_count": null,
   "metadata": {
    "executionInfo": {
     "elapsed": 47,
     "status": "aborted",
     "timestamp": 1628607327535,
     "user": {
      "displayName": "Eleonora Mancini",
      "photoUrl": "https://lh3.googleusercontent.com/a-/AOh14GgGMAKQj5wg21_r-iyQIVVYF436AnA5QQFEsFsFtg=s64",
      "userId": "13827522260918404568"
     },
     "user_tz": -120
    },
    "id": "j2CGIo21frr0"
   },
   "outputs": [],
   "source": [
    "model_loaded = tf.keras.models.load_model('my_model_binary_scaled_pn_CHANGE_ORDER')"
   ]
  },
  {
   "cell_type": "code",
   "execution_count": null,
   "metadata": {
    "executionInfo": {
     "elapsed": 47,
     "status": "aborted",
     "timestamp": 1628607327535,
     "user": {
      "displayName": "Eleonora Mancini",
      "photoUrl": "https://lh3.googleusercontent.com/a-/AOh14GgGMAKQj5wg21_r-iyQIVVYF436AnA5QQFEsFsFtg=s64",
      "userId": "13827522260918404568"
     },
     "user_tz": -120
    },
    "id": "UZdYWmYMnQ0b"
   },
   "outputs": [],
   "source": [
    "predictions = model_loaded.predict(mfccs)"
   ]
  },
  {
   "cell_type": "code",
   "execution_count": null,
   "metadata": {
    "executionInfo": {
     "elapsed": 48,
     "status": "aborted",
     "timestamp": 1628607327536,
     "user": {
      "displayName": "Eleonora Mancini",
      "photoUrl": "https://lh3.googleusercontent.com/a-/AOh14GgGMAKQj5wg21_r-iyQIVVYF436AnA5QQFEsFsFtg=s64",
      "userId": "13827522260918404568"
     },
     "user_tz": -120
    },
    "id": "QV_wrYeOfrr0"
   },
   "outputs": [],
   "source": [
    "pred = [1 * (x[0]>=0.50) for x in predictions]"
   ]
  },
  {
   "cell_type": "code",
   "execution_count": null,
   "metadata": {
    "executionInfo": {
     "elapsed": 48,
     "status": "aborted",
     "timestamp": 1628607327537,
     "user": {
      "displayName": "Eleonora Mancini",
      "photoUrl": "https://lh3.googleusercontent.com/a-/AOh14GgGMAKQj5wg21_r-iyQIVVYF436AnA5QQFEsFsFtg=s64",
      "userId": "13827522260918404568"
     },
     "user_tz": -120
    },
    "id": "lUcnSILCfrr0"
   },
   "outputs": [],
   "source": [
    "count_misclassified = 0 \n",
    "for i in range(len(y)): \n",
    "  if y[i] != pred[i]: \n",
    "    count_misclassified +=1\n",
    "count_misclassified"
   ]
  },
  {
   "cell_type": "code",
   "execution_count": null,
   "metadata": {
    "executionInfo": {
     "elapsed": 48,
     "status": "aborted",
     "timestamp": 1628607327537,
     "user": {
      "displayName": "Eleonora Mancini",
      "photoUrl": "https://lh3.googleusercontent.com/a-/AOh14GgGMAKQj5wg21_r-iyQIVVYF436AnA5QQFEsFsFtg=s64",
      "userId": "13827522260918404568"
     },
     "user_tz": -120
    },
    "id": "DJrThVfqfrr1"
   },
   "outputs": [],
   "source": [
    "print(\"Percentage of misclassified files: {} %\".format((count_misclassified/len(y)*100)))"
   ]
  },
  {
   "cell_type": "markdown",
   "metadata": {
    "id": "erNYkX4Zp0tr"
   },
   "source": [
    "### All classes"
   ]
  },
  {
   "cell_type": "code",
   "execution_count": null,
   "metadata": {
    "executionInfo": {
     "elapsed": 48,
     "status": "aborted",
     "timestamp": 1628607327537,
     "user": {
      "displayName": "Eleonora Mancini",
      "photoUrl": "https://lh3.googleusercontent.com/a-/AOh14GgGMAKQj5wg21_r-iyQIVVYF436AnA5QQFEsFsFtg=s64",
      "userId": "13827522260918404568"
     },
     "user_tz": -120
    },
    "id": "hFKMZmL7p0ts"
   },
   "outputs": [],
   "source": [
    "X = []\n",
    "for i in tqdm(Crema_df['path']): \n",
    "    X.append(librosa.load(i, res_type='kaiser_fast', sr=44000))"
   ]
  },
  {
   "cell_type": "code",
   "execution_count": null,
   "metadata": {
    "executionInfo": {
     "elapsed": 49,
     "status": "aborted",
     "timestamp": 1628607327538,
     "user": {
      "displayName": "Eleonora Mancini",
      "photoUrl": "https://lh3.googleusercontent.com/a-/AOh14GgGMAKQj5wg21_r-iyQIVVYF436AnA5QQFEsFsFtg=s64",
      "userId": "13827522260918404568"
     },
     "user_tz": -120
    },
    "id": "9wL7JwZhp0ts"
   },
   "outputs": [],
   "source": [
    "new_x = []\n",
    "for ind,i in enumerate(X):\n",
    "    new_x.append(i[0])"
   ]
  },
  {
   "cell_type": "code",
   "execution_count": null,
   "metadata": {
    "executionInfo": {
     "elapsed": 49,
     "status": "aborted",
     "timestamp": 1628607327538,
     "user": {
      "displayName": "Eleonora Mancini",
      "photoUrl": "https://lh3.googleusercontent.com/a-/AOh14GgGMAKQj5wg21_r-iyQIVVYF436AnA5QQFEsFsFtg=s64",
      "userId": "13827522260918404568"
     },
     "user_tz": -120
    },
    "id": "d3YeCUkBp0ts"
   },
   "outputs": [],
   "source": [
    "y = Crema_df.labels"
   ]
  },
  {
   "cell_type": "code",
   "execution_count": null,
   "metadata": {
    "executionInfo": {
     "elapsed": 49,
     "status": "aborted",
     "timestamp": 1628607327539,
     "user": {
      "displayName": "Eleonora Mancini",
      "photoUrl": "https://lh3.googleusercontent.com/a-/AOh14GgGMAKQj5wg21_r-iyQIVVYF436AnA5QQFEsFsFtg=s64",
      "userId": "13827522260918404568"
     },
     "user_tz": -120
    },
    "id": "w6pWvFLJp0ts"
   },
   "outputs": [],
   "source": [
    "y = y.reset_index(drop=True)"
   ]
  },
  {
   "cell_type": "code",
   "execution_count": null,
   "metadata": {
    "executionInfo": {
     "elapsed": 49,
     "status": "aborted",
     "timestamp": 1628607327539,
     "user": {
      "displayName": "Eleonora Mancini",
      "photoUrl": "https://lh3.googleusercontent.com/a-/AOh14GgGMAKQj5wg21_r-iyQIVVYF436AnA5QQFEsFsFtg=s64",
      "userId": "13827522260918404568"
     },
     "user_tz": -120
    },
    "id": "5987SH9Rp0ts"
   },
   "outputs": [],
   "source": [
    "import math\n",
    "length_chosen = 120378\n",
    "\n",
    "X_new = []\n",
    "y_new = []\n",
    "count = 0 \n",
    "for ind,i in enumerate(new_x):\n",
    "    if i.shape[0] < 300000:\n",
    "        if i.shape[0] > length_chosen:\n",
    "            new = i[:length_chosen]\n",
    "            X_new.append(new)\n",
    "        elif i.shape[0] < length_chosen:\n",
    "            new = np.pad(i,math.ceil((length_chosen-i.shape[0])/2), mode='median')\n",
    "            X_new.append(new)\n",
    "        else:\n",
    "            X_new.append(i)\n",
    "        y_new.append(y[count])\n",
    "    count+=1\n",
    "            "
   ]
  },
  {
   "cell_type": "code",
   "execution_count": null,
   "metadata": {
    "executionInfo": {
     "elapsed": 50,
     "status": "aborted",
     "timestamp": 1628607327540,
     "user": {
      "displayName": "Eleonora Mancini",
      "photoUrl": "https://lh3.googleusercontent.com/a-/AOh14GgGMAKQj5wg21_r-iyQIVVYF436AnA5QQFEsFsFtg=s64",
      "userId": "13827522260918404568"
     },
     "user_tz": -120
    },
    "id": "hugDmjBYp0tt"
   },
   "outputs": [],
   "source": [
    "X = np.array(X_new)\n",
    "y = np.array(y_new)\n",
    "print(X.shape, y.shape)"
   ]
  },
  {
   "cell_type": "code",
   "execution_count": null,
   "metadata": {
    "executionInfo": {
     "elapsed": 50,
     "status": "aborted",
     "timestamp": 1628607327540,
     "user": {
      "displayName": "Eleonora Mancini",
      "photoUrl": "https://lh3.googleusercontent.com/a-/AOh14GgGMAKQj5wg21_r-iyQIVVYF436AnA5QQFEsFsFtg=s64",
      "userId": "13827522260918404568"
     },
     "user_tz": -120
    },
    "id": "2Popd1Z7p0tt"
   },
   "outputs": [],
   "source": [
    "mfccs = []\n",
    "for i in tqdm(X):\n",
    "    mfcc = librosa.feature.mfcc(y=i, sr=44000, n_mfcc=40)\n",
    "    mfcc = mfcc.T\n",
    "    mfccs.append(mfcc)\n"
   ]
  },
  {
   "cell_type": "code",
   "execution_count": null,
   "metadata": {
    "executionInfo": {
     "elapsed": 50,
     "status": "aborted",
     "timestamp": 1628607327540,
     "user": {
      "displayName": "Eleonora Mancini",
      "photoUrl": "https://lh3.googleusercontent.com/a-/AOh14GgGMAKQj5wg21_r-iyQIVVYF436AnA5QQFEsFsFtg=s64",
      "userId": "13827522260918404568"
     },
     "user_tz": -120
    },
    "id": "pmj8k7IBp0tt"
   },
   "outputs": [],
   "source": [
    "mfccs = np.array(mfccs)\n",
    "mfccs.shape"
   ]
  },
  {
   "cell_type": "code",
   "execution_count": null,
   "metadata": {
    "executionInfo": {
     "elapsed": 50,
     "status": "aborted",
     "timestamp": 1628607327541,
     "user": {
      "displayName": "Eleonora Mancini",
      "photoUrl": "https://lh3.googleusercontent.com/a-/AOh14GgGMAKQj5wg21_r-iyQIVVYF436AnA5QQFEsFsFtg=s64",
      "userId": "13827522260918404568"
     },
     "user_tz": -120
    },
    "id": "aTGj5uyCp0tu"
   },
   "outputs": [],
   "source": [
    "emotion_enc = {'fear':1, 'disgust':1, 'neutral':0, 'happy':0, 'sadness':1, 'surprise':0, 'angry':1}"
   ]
  },
  {
   "cell_type": "code",
   "execution_count": null,
   "metadata": {
    "executionInfo": {
     "elapsed": 50,
     "status": "aborted",
     "timestamp": 1628607327541,
     "user": {
      "displayName": "Eleonora Mancini",
      "photoUrl": "https://lh3.googleusercontent.com/a-/AOh14GgGMAKQj5wg21_r-iyQIVVYF436AnA5QQFEsFsFtg=s64",
      "userId": "13827522260918404568"
     },
     "user_tz": -120
    },
    "id": "aRnFjXNyp0tu"
   },
   "outputs": [],
   "source": [
    "y = pd.Series(y).map(emotion_enc)"
   ]
  },
  {
   "cell_type": "code",
   "execution_count": null,
   "metadata": {
    "executionInfo": {
     "elapsed": 47,
     "status": "aborted",
     "timestamp": 1628607327541,
     "user": {
      "displayName": "Eleonora Mancini",
      "photoUrl": "https://lh3.googleusercontent.com/a-/AOh14GgGMAKQj5wg21_r-iyQIVVYF436AnA5QQFEsFsFtg=s64",
      "userId": "13827522260918404568"
     },
     "user_tz": -120
    },
    "id": "pDvo7Rltp0tu"
   },
   "outputs": [],
   "source": [
    "with open('scaler.pickle', 'rb') as f:\n",
    "  scaler = pickle.load(f)"
   ]
  },
  {
   "cell_type": "code",
   "execution_count": null,
   "metadata": {
    "executionInfo": {
     "elapsed": 48,
     "status": "aborted",
     "timestamp": 1628607327542,
     "user": {
      "displayName": "Eleonora Mancini",
      "photoUrl": "https://lh3.googleusercontent.com/a-/AOh14GgGMAKQj5wg21_r-iyQIVVYF436AnA5QQFEsFsFtg=s64",
      "userId": "13827522260918404568"
     },
     "user_tz": -120
    },
    "id": "PyhErT35p0tu"
   },
   "outputs": [],
   "source": [
    " mfccs = scaler.transform(mfccs.reshape(-1, mfccs.shape[-1])).reshape(mfccs.shape)"
   ]
  },
  {
   "cell_type": "code",
   "execution_count": null,
   "metadata": {
    "executionInfo": {
     "elapsed": 48,
     "status": "aborted",
     "timestamp": 1628607327542,
     "user": {
      "displayName": "Eleonora Mancini",
      "photoUrl": "https://lh3.googleusercontent.com/a-/AOh14GgGMAKQj5wg21_r-iyQIVVYF436AnA5QQFEsFsFtg=s64",
      "userId": "13827522260918404568"
     },
     "user_tz": -120
    },
    "id": "QX0hhOYhp0tu"
   },
   "outputs": [],
   "source": [
    "model_loaded = tf.keras.models.load_model('my_model_binary_scaled_pn_CHANGE_ORDER')"
   ]
  },
  {
   "cell_type": "code",
   "execution_count": null,
   "metadata": {
    "executionInfo": {
     "elapsed": 48,
     "status": "aborted",
     "timestamp": 1628607327542,
     "user": {
      "displayName": "Eleonora Mancini",
      "photoUrl": "https://lh3.googleusercontent.com/a-/AOh14GgGMAKQj5wg21_r-iyQIVVYF436AnA5QQFEsFsFtg=s64",
      "userId": "13827522260918404568"
     },
     "user_tz": -120
    },
    "id": "k6XF_h8Vp0tu"
   },
   "outputs": [],
   "source": [
    "predictions = model_loaded.predict(mfccs)\n",
    "pred = [1 * (x[0]>=0.50) for x in predictions]"
   ]
  },
  {
   "cell_type": "code",
   "execution_count": null,
   "metadata": {
    "executionInfo": {
     "elapsed": 48,
     "status": "aborted",
     "timestamp": 1628607327542,
     "user": {
      "displayName": "Eleonora Mancini",
      "photoUrl": "https://lh3.googleusercontent.com/a-/AOh14GgGMAKQj5wg21_r-iyQIVVYF436AnA5QQFEsFsFtg=s64",
      "userId": "13827522260918404568"
     },
     "user_tz": -120
    },
    "id": "9clU5dZgp0tu"
   },
   "outputs": [],
   "source": [
    "count_misclassified = 0 \n",
    "for i in range(len(y)): \n",
    "  if y[i] != pred[i]: \n",
    "    count_misclassified +=1\n",
    "count_misclassified"
   ]
  },
  {
   "cell_type": "code",
   "execution_count": null,
   "metadata": {
    "executionInfo": {
     "elapsed": 48,
     "status": "aborted",
     "timestamp": 1628607327543,
     "user": {
      "displayName": "Eleonora Mancini",
      "photoUrl": "https://lh3.googleusercontent.com/a-/AOh14GgGMAKQj5wg21_r-iyQIVVYF436AnA5QQFEsFsFtg=s64",
      "userId": "13827522260918404568"
     },
     "user_tz": -120
    },
    "id": "p6WZmTTPp0tv"
   },
   "outputs": [],
   "source": [
    "print(\"Percentage of misclassified files: {} %\".format((count_misclassified/len(y)*100)))"
   ]
  },
  {
   "cell_type": "code",
   "execution_count": null,
   "metadata": {
    "executionInfo": {
     "elapsed": 48,
     "status": "aborted",
     "timestamp": 1628607327543,
     "user": {
      "displayName": "Eleonora Mancini",
      "photoUrl": "https://lh3.googleusercontent.com/a-/AOh14GgGMAKQj5wg21_r-iyQIVVYF436AnA5QQFEsFsFtg=s64",
      "userId": "13827522260918404568"
     },
     "user_tz": -120
    },
    "id": "V6SzSOW4p7yD"
   },
   "outputs": [],
   "source": [
    "from sklearn.metrics import classification_report\n",
    "predictions = model_loaded.predict(mfccs)\n",
    "pred = [1 * (x[0]>=0.50) for x in predictions] \n",
    "print(classification_report(y, pred))"
   ]
  },
  {
   "cell_type": "markdown",
   "metadata": {
    "id": "7GZJAxIZebbC"
   },
   "source": [
    "# Check random samples from dataset"
   ]
  },
  {
   "cell_type": "code",
   "execution_count": null,
   "metadata": {
    "id": "eBa1v206LfNG"
   },
   "outputs": [],
   "source": [
    "import os\n",
    "path = \"/content\" # /content is pretty much the root. you can choose other path in your colab workspace\n",
    "os.chdir(path)"
   ]
  },
  {
   "cell_type": "code",
   "execution_count": null,
   "metadata": {
    "id": "CCpiOCUUebbD"
   },
   "outputs": [],
   "source": [
    "x,sr = librosa.load('OAF_bar_sad.wav',\n",
    "             res_type='kaiser_fast', sr=44000)"
   ]
  },
  {
   "cell_type": "code",
   "execution_count": null,
   "metadata": {
    "colab": {
     "base_uri": "https://localhost:8080/"
    },
    "executionInfo": {
     "elapsed": 9,
     "status": "ok",
     "timestamp": 1628250684270,
     "user": {
      "displayName": "Eleonora Mancini",
      "photoUrl": "https://lh3.googleusercontent.com/a-/AOh14GgGMAKQj5wg21_r-iyQIVVYF436AnA5QQFEsFsFtg=s64",
      "userId": "13827522260918404568"
     },
     "user_tz": -120
    },
    "id": "uwSKn6C2ebbE",
    "outputId": "2a54adb2-6cf2-47b2-8e26-eef9057283e7"
   },
   "outputs": [
    {
     "data": {
      "text/plain": [
       "((110077,), 120378)"
      ]
     },
     "execution_count": 170,
     "metadata": {
      "tags": []
     },
     "output_type": "execute_result"
    }
   ],
   "source": [
    "x.shape, length_chosen"
   ]
  },
  {
   "cell_type": "code",
   "execution_count": null,
   "metadata": {
    "id": "cSCeGKOqebbE"
   },
   "outputs": [],
   "source": [
    "if x.shape[0] > length_chosen:\n",
    "        new = x[:length_chosen]\n",
    "elif x.shape[0] < length_chosen:\n",
    "        new = np.pad(x,math.ceil((length_chosen-x.shape[0])/2), mode='median')\n",
    "else:\n",
    "        new = x\n",
    "\n"
   ]
  },
  {
   "cell_type": "code",
   "execution_count": null,
   "metadata": {
    "colab": {
     "base_uri": "https://localhost:8080/"
    },
    "executionInfo": {
     "elapsed": 27,
     "status": "ok",
     "timestamp": 1628250685301,
     "user": {
      "displayName": "Eleonora Mancini",
      "photoUrl": "https://lh3.googleusercontent.com/a-/AOh14GgGMAKQj5wg21_r-iyQIVVYF436AnA5QQFEsFsFtg=s64",
      "userId": "13827522260918404568"
     },
     "user_tz": -120
    },
    "id": "IFvN61sEebbE",
    "outputId": "1f8d5e2d-7dcf-43fe-bcea-3a8c395468ba"
   },
   "outputs": [
    {
     "data": {
      "text/plain": [
       "(236, 40)"
      ]
     },
     "execution_count": 172,
     "metadata": {
      "tags": []
     },
     "output_type": "execute_result"
    }
   ],
   "source": [
    "mfcc = librosa.feature.mfcc(y=new, sr=44000, n_mfcc=40)\n",
    "mfcc = mfcc.T\n",
    "mfcc.shape"
   ]
  },
  {
   "cell_type": "code",
   "execution_count": null,
   "metadata": {
    "colab": {
     "base_uri": "https://localhost:8080/"
    },
    "executionInfo": {
     "elapsed": 5,
     "status": "ok",
     "timestamp": 1628250685877,
     "user": {
      "displayName": "Eleonora Mancini",
      "photoUrl": "https://lh3.googleusercontent.com/a-/AOh14GgGMAKQj5wg21_r-iyQIVVYF436AnA5QQFEsFsFtg=s64",
      "userId": "13827522260918404568"
     },
     "user_tz": -120
    },
    "id": "K3Cdy2rKebbF",
    "outputId": "c7506a46-a543-4f13-f57e-6fbb46e025fd"
   },
   "outputs": [
    {
     "data": {
      "text/plain": [
       "(1, 236, 40)"
      ]
     },
     "execution_count": 173,
     "metadata": {
      "tags": []
     },
     "output_type": "execute_result"
    }
   ],
   "source": [
    "mfcc = mfcc.reshape(1,236,40)\n",
    "mfcc.shape"
   ]
  },
  {
   "cell_type": "code",
   "execution_count": null,
   "metadata": {
    "id": "sJyDVG0yMEtO"
   },
   "outputs": [],
   "source": [
    "predictions = model_loaded.predict(mfcc)\n",
    "pred = [1 * (x[0]>=0.52) for x in predictions]"
   ]
  },
  {
   "cell_type": "code",
   "execution_count": null,
   "metadata": {
    "colab": {
     "base_uri": "https://localhost:8080/"
    },
    "executionInfo": {
     "elapsed": 359,
     "status": "ok",
     "timestamp": 1628250688035,
     "user": {
      "displayName": "Eleonora Mancini",
      "photoUrl": "https://lh3.googleusercontent.com/a-/AOh14GgGMAKQj5wg21_r-iyQIVVYF436AnA5QQFEsFsFtg=s64",
      "userId": "13827522260918404568"
     },
     "user_tz": -120
    },
    "id": "xcNlWrYEQJEI",
    "outputId": "f99cfc74-d4e4-4f0e-dc44-2162c1a4c1b8"
   },
   "outputs": [
    {
     "data": {
      "text/plain": [
       "array([[0.5158022]], dtype=float32)"
      ]
     },
     "execution_count": 175,
     "metadata": {
      "tags": []
     },
     "output_type": "execute_result"
    }
   ],
   "source": [
    "predictions"
   ]
  },
  {
   "cell_type": "code",
   "execution_count": null,
   "metadata": {
    "colab": {
     "base_uri": "https://localhost:8080/"
    },
    "executionInfo": {
     "elapsed": 261,
     "status": "ok",
     "timestamp": 1628250692267,
     "user": {
      "displayName": "Eleonora Mancini",
      "photoUrl": "https://lh3.googleusercontent.com/a-/AOh14GgGMAKQj5wg21_r-iyQIVVYF436AnA5QQFEsFsFtg=s64",
      "userId": "13827522260918404568"
     },
     "user_tz": -120
    },
    "id": "SvD01LEeMQxY",
    "outputId": "31c3dd12-01a6-4b23-90fe-547b8de7d679"
   },
   "outputs": [
    {
     "data": {
      "text/plain": [
       "[0]"
      ]
     },
     "execution_count": 176,
     "metadata": {
      "tags": []
     },
     "output_type": "execute_result"
    }
   ],
   "source": [
    "pred"
   ]
  },
  {
   "cell_type": "code",
   "execution_count": null,
   "metadata": {
    "colab": {
     "base_uri": "https://localhost:8080/"
    },
    "executionInfo": {
     "elapsed": 8,
     "status": "ok",
     "timestamp": 1628248711846,
     "user": {
      "displayName": "Eleonora Mancini",
      "photoUrl": "https://lh3.googleusercontent.com/a-/AOh14GgGMAKQj5wg21_r-iyQIVVYF436AnA5QQFEsFsFtg=s64",
      "userId": "13827522260918404568"
     },
     "user_tz": -120
    },
    "id": "41NtOApbebbF",
    "outputId": "54dc1ca3-17c3-4353-e196-a060e769db6d"
   },
   "outputs": [
    {
     "data": {
      "text/plain": [
       "{'angry': 1,\n",
       " 'disgust': 1,\n",
       " 'fear': 1,\n",
       " 'happy': 0,\n",
       " 'neutral': 0,\n",
       " 'sadness': 1,\n",
       " 'surprise': 0}"
      ]
     },
     "execution_count": 80,
     "metadata": {
      "tags": []
     },
     "output_type": "execute_result"
    }
   ],
   "source": [
    "emotion_enc"
   ]
  },
  {
   "cell_type": "markdown",
   "metadata": {
    "id": "sjiFYhcIYW0F"
   },
   "source": [
    "# Validation on EMO-DB"
   ]
  },
  {
   "cell_type": "code",
   "execution_count": null,
   "metadata": {
    "id": "VHmtLNM4ykBs"
   },
   "outputs": [],
   "source": [
    "EMODB = \"emodb/wav/\"\n",
    "\n",
    "emodb_directory_list = os.listdir(EMODB)\n",
    "emotion = []\n",
    "path = []\n",
    "\n",
    "for root, dirs, files in os.walk(EMODB):\n",
    "  for name in files:\n",
    "      if name[0:2] in '0310111215':  # MALE\n",
    "          if name[5] == 'W':  # Ärger (Wut) -> Angry\n",
    "              emotion.append('angry')\n",
    "          elif name[5] == 'E':  # Ekel -> Disgusted\n",
    "              emotion.append('disgust')\n",
    "          elif name[5] == 'A':  # Angst -> Angry\n",
    "              emotion.append('angry')\n",
    "          elif name[5] == 'F':  # Freude -> Happiness\n",
    "              emotion.append('happy')\n",
    "          elif name[5] == 'T':  # Trauer -> Sadness\n",
    "              emotion.append('sadness')\n",
    "          else:\n",
    "              emotion.append('unknown')\n",
    "      else:\n",
    "          if name[5] == 'W':  # Ärger (Wut) -> Angry\n",
    "              emotion.append('angry')\n",
    "          elif name[5] == 'E':  # Ekel -> Disgusted\n",
    "              emotion.append('disgust')\n",
    "          elif name[5] == 'A':  # Angst -> Angry\n",
    "              emotion.append('angry')\n",
    "          elif name[5] == 'F':  # Freude -> Happiness\n",
    "              emotion.append('happy')\n",
    "          elif name[5] == 'T':  # Trauer -> Sadness\n",
    "              emotion.append('sadness')\n",
    "          else:\n",
    "              emotion.append('unknown')\n",
    "\n",
    "      path.append(os.path.join(EMODB, name))\n",
    "\n",
    "emodb_df = pd.DataFrame(emotion, columns=['labels'])\n",
    "emodb_df['source'] = 'EMODB'\n",
    "emodb_df = pd.concat([emodb_df, pd.DataFrame(path, columns=['path'])], axis=1)\n",
    "\n"
   ]
  },
  {
   "cell_type": "code",
   "execution_count": null,
   "metadata": {
    "colab": {
     "base_uri": "https://localhost:8080/",
     "height": 204
    },
    "executionInfo": {
     "elapsed": 42,
     "status": "ok",
     "timestamp": 1628524051226,
     "user": {
      "displayName": "Eleonora Mancini",
      "photoUrl": "https://lh3.googleusercontent.com/a-/AOh14GgGMAKQj5wg21_r-iyQIVVYF436AnA5QQFEsFsFtg=s64",
      "userId": "13827522260918404568"
     },
     "user_tz": -120
    },
    "id": "E9x3220rIsKi",
    "outputId": "778e4eff-aca9-4dd2-e467-e8780debdd78"
   },
   "outputs": [
    {
     "data": {
      "text/html": [
       "<div>\n",
       "<style scoped>\n",
       "    .dataframe tbody tr th:only-of-type {\n",
       "        vertical-align: middle;\n",
       "    }\n",
       "\n",
       "    .dataframe tbody tr th {\n",
       "        vertical-align: top;\n",
       "    }\n",
       "\n",
       "    .dataframe thead th {\n",
       "        text-align: right;\n",
       "    }\n",
       "</style>\n",
       "<table border=\"1\" class=\"dataframe\">\n",
       "  <thead>\n",
       "    <tr style=\"text-align: right;\">\n",
       "      <th></th>\n",
       "      <th>labels</th>\n",
       "      <th>source</th>\n",
       "      <th>path</th>\n",
       "    </tr>\n",
       "  </thead>\n",
       "  <tbody>\n",
       "    <tr>\n",
       "      <th>0</th>\n",
       "      <td>unknown</td>\n",
       "      <td>EMODB</td>\n",
       "      <td>emodb/wav/03a02Nc.wav</td>\n",
       "    </tr>\n",
       "    <tr>\n",
       "      <th>1</th>\n",
       "      <td>unknown</td>\n",
       "      <td>EMODB</td>\n",
       "      <td>emodb/wav/03a01Nc.wav</td>\n",
       "    </tr>\n",
       "    <tr>\n",
       "      <th>2</th>\n",
       "      <td>happy</td>\n",
       "      <td>EMODB</td>\n",
       "      <td>emodb/wav/03a02Fc.wav</td>\n",
       "    </tr>\n",
       "    <tr>\n",
       "      <th>3</th>\n",
       "      <td>sadness</td>\n",
       "      <td>EMODB</td>\n",
       "      <td>emodb/wav/03a02Ta.wav</td>\n",
       "    </tr>\n",
       "    <tr>\n",
       "      <th>4</th>\n",
       "      <td>happy</td>\n",
       "      <td>EMODB</td>\n",
       "      <td>emodb/wav/03a01Fa.wav</td>\n",
       "    </tr>\n",
       "  </tbody>\n",
       "</table>\n",
       "</div>"
      ],
      "text/plain": [
       "    labels source                   path\n",
       "0  unknown  EMODB  emodb/wav/03a02Nc.wav\n",
       "1  unknown  EMODB  emodb/wav/03a01Nc.wav\n",
       "2    happy  EMODB  emodb/wav/03a02Fc.wav\n",
       "3  sadness  EMODB  emodb/wav/03a02Ta.wav\n",
       "4    happy  EMODB  emodb/wav/03a01Fa.wav"
      ]
     },
     "execution_count": 5,
     "metadata": {
      "tags": []
     },
     "output_type": "execute_result"
    }
   ],
   "source": [
    "emodb_df.head()"
   ]
  },
  {
   "cell_type": "code",
   "execution_count": null,
   "metadata": {
    "id": "9c1xTXjtJqIq"
   },
   "outputs": [],
   "source": [
    "# remove 'unknown'rows\n",
    "emodb_df.drop(index=emodb_df[emodb_df['labels'] == 'unknown'].index, inplace=True)"
   ]
  },
  {
   "cell_type": "code",
   "execution_count": null,
   "metadata": {
    "colab": {
     "base_uri": "https://localhost:8080/",
     "height": 204
    },
    "executionInfo": {
     "elapsed": 37,
     "status": "ok",
     "timestamp": 1628524051228,
     "user": {
      "displayName": "Eleonora Mancini",
      "photoUrl": "https://lh3.googleusercontent.com/a-/AOh14GgGMAKQj5wg21_r-iyQIVVYF436AnA5QQFEsFsFtg=s64",
      "userId": "13827522260918404568"
     },
     "user_tz": -120
    },
    "id": "smgT1TrUKX7B",
    "outputId": "f9b35793-8f63-4138-8567-add15226cdad"
   },
   "outputs": [
    {
     "data": {
      "text/html": [
       "<div>\n",
       "<style scoped>\n",
       "    .dataframe tbody tr th:only-of-type {\n",
       "        vertical-align: middle;\n",
       "    }\n",
       "\n",
       "    .dataframe tbody tr th {\n",
       "        vertical-align: top;\n",
       "    }\n",
       "\n",
       "    .dataframe thead th {\n",
       "        text-align: right;\n",
       "    }\n",
       "</style>\n",
       "<table border=\"1\" class=\"dataframe\">\n",
       "  <thead>\n",
       "    <tr style=\"text-align: right;\">\n",
       "      <th></th>\n",
       "      <th>labels</th>\n",
       "      <th>source</th>\n",
       "      <th>path</th>\n",
       "    </tr>\n",
       "  </thead>\n",
       "  <tbody>\n",
       "    <tr>\n",
       "      <th>2</th>\n",
       "      <td>happy</td>\n",
       "      <td>EMODB</td>\n",
       "      <td>emodb/wav/03a02Fc.wav</td>\n",
       "    </tr>\n",
       "    <tr>\n",
       "      <th>3</th>\n",
       "      <td>sadness</td>\n",
       "      <td>EMODB</td>\n",
       "      <td>emodb/wav/03a02Ta.wav</td>\n",
       "    </tr>\n",
       "    <tr>\n",
       "      <th>4</th>\n",
       "      <td>happy</td>\n",
       "      <td>EMODB</td>\n",
       "      <td>emodb/wav/03a01Fa.wav</td>\n",
       "    </tr>\n",
       "    <tr>\n",
       "      <th>5</th>\n",
       "      <td>angry</td>\n",
       "      <td>EMODB</td>\n",
       "      <td>emodb/wav/03a02Wb.wav</td>\n",
       "    </tr>\n",
       "    <tr>\n",
       "      <th>6</th>\n",
       "      <td>angry</td>\n",
       "      <td>EMODB</td>\n",
       "      <td>emodb/wav/03a01Wa.wav</td>\n",
       "    </tr>\n",
       "  </tbody>\n",
       "</table>\n",
       "</div>"
      ],
      "text/plain": [
       "    labels source                   path\n",
       "2    happy  EMODB  emodb/wav/03a02Fc.wav\n",
       "3  sadness  EMODB  emodb/wav/03a02Ta.wav\n",
       "4    happy  EMODB  emodb/wav/03a01Fa.wav\n",
       "5    angry  EMODB  emodb/wav/03a02Wb.wav\n",
       "6    angry  EMODB  emodb/wav/03a01Wa.wav"
      ]
     },
     "execution_count": 7,
     "metadata": {
      "tags": []
     },
     "output_type": "execute_result"
    }
   ],
   "source": [
    "emodb_df.head()"
   ]
  },
  {
   "cell_type": "code",
   "execution_count": null,
   "metadata": {
    "id": "A0Ie-aToZC3Q"
   },
   "outputs": [],
   "source": [
    "y_emodb = emodb_df['labels'].copy()"
   ]
  },
  {
   "cell_type": "code",
   "execution_count": null,
   "metadata": {
    "id": "fHv6wGYv-Xop"
   },
   "outputs": [],
   "source": [
    "y_emodb = y_emodb.reset_index(drop=True)"
   ]
  },
  {
   "cell_type": "code",
   "execution_count": null,
   "metadata": {
    "colab": {
     "base_uri": "https://localhost:8080/"
    },
    "executionInfo": {
     "elapsed": 37,
     "status": "ok",
     "timestamp": 1628524051232,
     "user": {
      "displayName": "Eleonora Mancini",
      "photoUrl": "https://lh3.googleusercontent.com/a-/AOh14GgGMAKQj5wg21_r-iyQIVVYF436AnA5QQFEsFsFtg=s64",
      "userId": "13827522260918404568"
     },
     "user_tz": -120
    },
    "id": "DzuF5Yqr-knz",
    "outputId": "fb6f46b7-f803-47db-cbb9-1ca7f73fd258"
   },
   "outputs": [
    {
     "data": {
      "text/plain": [
       "0        happy\n",
       "1      sadness\n",
       "2        happy\n",
       "3        angry\n",
       "4        angry\n",
       "        ...   \n",
       "745      angry\n",
       "746      angry\n",
       "747      angry\n",
       "748      happy\n",
       "749      angry\n",
       "Name: labels, Length: 750, dtype: object"
      ]
     },
     "execution_count": 10,
     "metadata": {
      "tags": []
     },
     "output_type": "execute_result"
    }
   ],
   "source": [
    "y_emodb"
   ]
  },
  {
   "cell_type": "code",
   "execution_count": null,
   "metadata": {
    "colab": {
     "base_uri": "https://localhost:8080/"
    },
    "executionInfo": {
     "elapsed": 34,
     "status": "ok",
     "timestamp": 1628524051233,
     "user": {
      "displayName": "Eleonora Mancini",
      "photoUrl": "https://lh3.googleusercontent.com/a-/AOh14GgGMAKQj5wg21_r-iyQIVVYF436AnA5QQFEsFsFtg=s64",
      "userId": "13827522260918404568"
     },
     "user_tz": -120
    },
    "id": "bveWNfXzZXlG",
    "outputId": "86e0c427-2ecc-433c-deff-720ba2fc5bd8"
   },
   "outputs": [
    {
     "data": {
      "text/plain": [
       "(750,)"
      ]
     },
     "execution_count": 11,
     "metadata": {
      "tags": []
     },
     "output_type": "execute_result"
    }
   ],
   "source": [
    "y_emodb.shape"
   ]
  },
  {
   "cell_type": "code",
   "execution_count": null,
   "metadata": {
    "colab": {
     "base_uri": "https://localhost:8080/",
     "height": 66
    },
    "executionInfo": {
     "elapsed": 437698,
     "status": "ok",
     "timestamp": 1628524488901,
     "user": {
      "displayName": "Eleonora Mancini",
      "photoUrl": "https://lh3.googleusercontent.com/a-/AOh14GgGMAKQj5wg21_r-iyQIVVYF436AnA5QQFEsFsFtg=s64",
      "userId": "13827522260918404568"
     },
     "user_tz": -120
    },
    "id": "lkPWTXvyZS7z",
    "outputId": "dc8eeaf0-d7af-4cbc-c24c-6093adabf143"
   },
   "outputs": [
    {
     "data": {
      "application/vnd.jupyter.widget-view+json": {
       "model_id": "da7d7658beb742fa89db59b96f86d105",
       "version_major": 2,
       "version_minor": 0
      },
      "text/plain": [
       "HBox(children=(FloatProgress(value=0.0, max=750.0), HTML(value='')))"
      ]
     },
     "metadata": {
      "tags": []
     },
     "output_type": "display_data"
    },
    {
     "name": "stdout",
     "output_type": "stream",
     "text": [
      "\n"
     ]
    }
   ],
   "source": [
    "X_emodb = []\n",
    "for i in tqdm(emodb_df['path']): \n",
    "    X_emodb.append(librosa.load(i, res_type='kaiser_fast', sr=44000))"
   ]
  },
  {
   "cell_type": "code",
   "execution_count": null,
   "metadata": {
    "id": "2oNmI_hXZcsL"
   },
   "outputs": [],
   "source": [
    "new_x_emodb = []\n",
    "for ind,i in enumerate(X_emodb):\n",
    "    new_x_emodb.append(i[0])"
   ]
  },
  {
   "cell_type": "code",
   "execution_count": null,
   "metadata": {
    "id": "cZTARij3aF40"
   },
   "outputs": [],
   "source": [
    "import math\n",
    "length_chosen = 120378\n",
    "\n",
    "X_new_emodb = []\n",
    "y_new_emodb = []\n",
    "for ind,i in enumerate(new_x_emodb):\n",
    "    if i.shape[0] < 300000:\n",
    "        if i.shape[0] > length_chosen:\n",
    "            new = i[:length_chosen]\n",
    "            X_new_emodb.append(new)\n",
    "        elif i.shape[0] < length_chosen:\n",
    "            new = np.pad(i,math.ceil((length_chosen-i.shape[0])/2), mode='median')\n",
    "            X_new_emodb.append(new)\n",
    "        else:\n",
    "            X_new_emodb.append(i)\n",
    "            \n",
    "        y_new_emodb.append(y_emodb[ind])\n",
    "            "
   ]
  },
  {
   "cell_type": "code",
   "execution_count": null,
   "metadata": {
    "colab": {
     "base_uri": "https://localhost:8080/"
    },
    "executionInfo": {
     "elapsed": 250,
     "status": "ok",
     "timestamp": 1628524734350,
     "user": {
      "displayName": "Eleonora Mancini",
      "photoUrl": "https://lh3.googleusercontent.com/a-/AOh14GgGMAKQj5wg21_r-iyQIVVYF436AnA5QQFEsFsFtg=s64",
      "userId": "13827522260918404568"
     },
     "user_tz": -120
    },
    "id": "p1P8Ngk1aQwO",
    "outputId": "3975a494-ad01-422a-db9d-fe48b3de8908"
   },
   "outputs": [
    {
     "name": "stdout",
     "output_type": "stream",
     "text": [
      "(746,) (746,)\n"
     ]
    }
   ],
   "source": [
    "X_emodb = np.array(X_new_emodb)\n",
    "y_emodb = np.array(y_new_emodb)\n",
    "print(X_emodb.shape, y_emodb.shape)"
   ]
  },
  {
   "cell_type": "code",
   "execution_count": null,
   "metadata": {
    "colab": {
     "base_uri": "https://localhost:8080/"
    },
    "executionInfo": {
     "elapsed": 5,
     "status": "ok",
     "timestamp": 1628524735343,
     "user": {
      "displayName": "Eleonora Mancini",
      "photoUrl": "https://lh3.googleusercontent.com/a-/AOh14GgGMAKQj5wg21_r-iyQIVVYF436AnA5QQFEsFsFtg=s64",
      "userId": "13827522260918404568"
     },
     "user_tz": -120
    },
    "id": "uLwt-Ua5-ptR",
    "outputId": "75bd1d3f-4c58-4cc4-d876-2b65461668d8"
   },
   "outputs": [
    {
     "data": {
      "text/plain": [
       "array(['happy', 'sadness', 'happy', 'angry', 'angry', 'disgust',\n",
       "       'disgust', 'angry', 'disgust', 'sadness', 'angry', 'angry',\n",
       "       'angry', 'angry', 'angry', 'angry', 'happy', 'angry', 'disgust',\n",
       "       'angry', 'disgust', 'angry', 'happy', 'happy', 'angry', 'angry',\n",
       "       'happy', 'angry', 'angry', 'angry', 'happy', 'happy', 'angry',\n",
       "       'sadness', 'angry', 'angry', 'angry', 'angry', 'angry', 'sadness',\n",
       "       'happy', 'sadness', 'angry', 'happy', 'disgust', 'happy', 'angry',\n",
       "       'happy', 'happy', 'angry', 'angry', 'angry', 'angry', 'sadness',\n",
       "       'angry', 'angry', 'angry', 'sadness', 'sadness', 'happy', 'angry',\n",
       "       'angry', 'disgust', 'disgust', 'happy', 'happy', 'sadness',\n",
       "       'happy', 'sadness', 'angry', 'happy', 'angry', 'disgust',\n",
       "       'sadness', 'happy', 'sadness', 'angry', 'angry', 'happy', 'angry',\n",
       "       'angry', 'angry', 'angry', 'disgust', 'angry', 'sadness',\n",
       "       'sadness', 'angry', 'angry', 'sadness', 'happy', 'angry', 'angry',\n",
       "       'sadness', 'angry', 'angry', 'angry', 'angry', 'angry', 'angry',\n",
       "       'happy', 'angry', 'angry', 'happy', 'angry', 'angry', 'angry',\n",
       "       'angry', 'angry', 'angry', 'disgust', 'angry', 'happy', 'sadness',\n",
       "       'angry', 'angry', 'happy', 'sadness', 'angry', 'angry', 'angry',\n",
       "       'sadness', 'angry', 'angry', 'sadness', 'angry', 'happy', 'angry',\n",
       "       'angry', 'angry', 'happy', 'happy', 'angry', 'happy', 'angry',\n",
       "       'sadness', 'happy', 'sadness', 'happy', 'angry', 'angry', 'angry',\n",
       "       'angry', 'happy', 'angry', 'disgust', 'angry', 'angry', 'disgust',\n",
       "       'angry', 'angry', 'angry', 'angry', 'happy', 'disgust', 'angry',\n",
       "       'angry', 'disgust', 'sadness', 'disgust', 'angry', 'disgust',\n",
       "       'disgust', 'sadness', 'angry', 'angry', 'angry', 'angry',\n",
       "       'disgust', 'angry', 'happy', 'angry', 'angry', 'angry', 'sadness',\n",
       "       'happy', 'disgust', 'disgust', 'disgust', 'angry', 'angry',\n",
       "       'angry', 'disgust', 'disgust', 'sadness', 'sadness', 'angry',\n",
       "       'angry', 'sadness', 'disgust', 'angry', 'disgust', 'happy',\n",
       "       'angry', 'angry', 'sadness', 'angry', 'angry', 'sadness', 'angry',\n",
       "       'sadness', 'happy', 'angry', 'happy', 'angry', 'sadness', 'angry',\n",
       "       'angry', 'angry', 'angry', 'sadness', 'happy', 'angry', 'happy',\n",
       "       'happy', 'angry', 'disgust', 'angry', 'angry', 'angry', 'angry',\n",
       "       'sadness', 'angry', 'angry', 'angry', 'angry', 'angry', 'sadness',\n",
       "       'sadness', 'angry', 'sadness', 'happy', 'sadness', 'angry',\n",
       "       'angry', 'angry', 'angry', 'sadness', 'sadness', 'angry', 'happy',\n",
       "       'sadness', 'happy', 'sadness', 'angry', 'disgust', 'angry',\n",
       "       'angry', 'sadness', 'angry', 'sadness', 'angry', 'happy', 'happy',\n",
       "       'angry', 'angry', 'happy', 'happy', 'angry', 'happy', 'angry',\n",
       "       'disgust', 'angry', 'sadness', 'happy', 'angry', 'angry', 'angry',\n",
       "       'angry', 'angry', 'angry', 'angry', 'angry', 'happy', 'angry',\n",
       "       'happy', 'happy', 'angry', 'angry', 'disgust', 'angry', 'angry',\n",
       "       'angry', 'angry', 'angry', 'happy', 'happy', 'happy', 'happy',\n",
       "       'disgust', 'angry', 'happy', 'angry', 'disgust', 'disgust',\n",
       "       'angry', 'angry', 'sadness', 'angry', 'disgust', 'happy',\n",
       "       'sadness', 'sadness', 'angry', 'angry', 'angry', 'angry',\n",
       "       'sadness', 'happy', 'angry', 'disgust', 'angry', 'angry', 'angry',\n",
       "       'disgust', 'sadness', 'disgust', 'disgust', 'disgust', 'happy',\n",
       "       'disgust', 'angry', 'angry', 'sadness', 'disgust', 'disgust',\n",
       "       'sadness', 'happy', 'sadness', 'happy', 'angry', 'sadness',\n",
       "       'angry', 'happy', 'disgust', 'angry', 'sadness', 'angry', 'happy',\n",
       "       'angry', 'disgust', 'sadness', 'happy', 'angry', 'disgust',\n",
       "       'sadness', 'angry', 'happy', 'sadness', 'angry', 'angry', 'angry',\n",
       "       'angry', 'sadness', 'happy', 'angry', 'angry', 'disgust', 'angry',\n",
       "       'sadness', 'angry', 'happy', 'angry', 'angry', 'angry', 'angry',\n",
       "       'happy', 'angry', 'angry', 'angry', 'angry', 'happy', 'angry',\n",
       "       'happy', 'sadness', 'happy', 'angry', 'angry', 'disgust',\n",
       "       'disgust', 'angry', 'disgust', 'sadness', 'angry', 'angry',\n",
       "       'angry', 'angry', 'angry', 'angry', 'happy', 'angry', 'disgust',\n",
       "       'angry', 'disgust', 'angry', 'happy', 'happy', 'angry', 'angry',\n",
       "       'happy', 'angry', 'angry', 'angry', 'happy', 'happy', 'angry',\n",
       "       'sadness', 'angry', 'angry', 'angry', 'angry', 'angry', 'sadness',\n",
       "       'happy', 'sadness', 'angry', 'happy', 'disgust', 'happy', 'angry',\n",
       "       'happy', 'happy', 'angry', 'angry', 'angry', 'angry', 'sadness',\n",
       "       'angry', 'angry', 'angry', 'sadness', 'sadness', 'happy', 'angry',\n",
       "       'angry', 'disgust', 'disgust', 'happy', 'happy', 'sadness',\n",
       "       'happy', 'sadness', 'angry', 'happy', 'angry', 'disgust',\n",
       "       'sadness', 'happy', 'sadness', 'angry', 'angry', 'happy', 'angry',\n",
       "       'angry', 'angry', 'angry', 'disgust', 'angry', 'sadness',\n",
       "       'sadness', 'angry', 'angry', 'sadness', 'happy', 'angry', 'angry',\n",
       "       'sadness', 'angry', 'angry', 'angry', 'angry', 'angry', 'angry',\n",
       "       'happy', 'angry', 'angry', 'happy', 'angry', 'angry', 'angry',\n",
       "       'angry', 'angry', 'angry', 'disgust', 'angry', 'happy', 'sadness',\n",
       "       'angry', 'angry', 'happy', 'sadness', 'angry', 'angry', 'angry',\n",
       "       'sadness', 'angry', 'angry', 'sadness', 'angry', 'happy', 'angry',\n",
       "       'angry', 'angry', 'happy', 'happy', 'angry', 'happy', 'angry',\n",
       "       'sadness', 'happy', 'sadness', 'happy', 'angry', 'angry', 'angry',\n",
       "       'angry', 'happy', 'angry', 'disgust', 'angry', 'angry', 'disgust',\n",
       "       'angry', 'angry', 'angry', 'angry', 'happy', 'disgust', 'angry',\n",
       "       'angry', 'disgust', 'sadness', 'disgust', 'angry', 'disgust',\n",
       "       'disgust', 'sadness', 'angry', 'angry', 'angry', 'angry',\n",
       "       'disgust', 'angry', 'happy', 'angry', 'angry', 'angry', 'sadness',\n",
       "       'happy', 'disgust', 'disgust', 'disgust', 'angry', 'angry',\n",
       "       'angry', 'disgust', 'disgust', 'sadness', 'sadness', 'angry',\n",
       "       'angry', 'sadness', 'disgust', 'angry', 'disgust', 'happy',\n",
       "       'angry', 'angry', 'sadness', 'angry', 'angry', 'sadness', 'angry',\n",
       "       'sadness', 'happy', 'angry', 'happy', 'angry', 'sadness', 'angry',\n",
       "       'angry', 'angry', 'angry', 'sadness', 'happy', 'angry', 'happy',\n",
       "       'happy', 'angry', 'disgust', 'angry', 'angry', 'angry', 'angry',\n",
       "       'sadness', 'angry', 'angry', 'angry', 'angry', 'angry', 'sadness',\n",
       "       'sadness', 'angry', 'sadness', 'happy', 'sadness', 'angry',\n",
       "       'angry', 'angry', 'angry', 'sadness', 'sadness', 'angry', 'happy',\n",
       "       'sadness', 'happy', 'sadness', 'angry', 'disgust', 'angry',\n",
       "       'angry', 'sadness', 'angry', 'sadness', 'angry', 'happy', 'happy',\n",
       "       'angry', 'angry', 'happy', 'happy', 'angry', 'happy', 'angry',\n",
       "       'disgust', 'angry', 'sadness', 'happy', 'angry', 'angry', 'angry',\n",
       "       'angry', 'angry', 'angry', 'angry', 'angry', 'happy', 'angry',\n",
       "       'happy', 'happy', 'angry', 'angry', 'disgust', 'angry', 'angry',\n",
       "       'angry', 'angry', 'angry', 'happy', 'happy', 'happy', 'happy',\n",
       "       'disgust', 'angry', 'happy', 'angry', 'disgust', 'disgust',\n",
       "       'angry', 'angry', 'sadness', 'angry', 'disgust', 'happy',\n",
       "       'sadness', 'sadness', 'angry', 'angry', 'angry', 'angry',\n",
       "       'sadness', 'happy', 'angry', 'disgust', 'angry', 'angry', 'angry',\n",
       "       'disgust', 'sadness', 'disgust', 'disgust', 'disgust', 'happy',\n",
       "       'disgust', 'angry', 'angry', 'sadness', 'disgust', 'disgust',\n",
       "       'sadness', 'happy', 'sadness', 'happy', 'angry', 'sadness',\n",
       "       'angry', 'happy', 'disgust', 'angry', 'sadness', 'angry', 'happy',\n",
       "       'angry', 'disgust', 'sadness', 'happy', 'angry', 'disgust',\n",
       "       'sadness', 'angry', 'happy', 'sadness', 'angry', 'angry', 'angry',\n",
       "       'angry', 'sadness', 'happy', 'angry', 'angry', 'disgust', 'angry',\n",
       "       'sadness', 'angry', 'happy', 'angry', 'angry', 'angry', 'angry',\n",
       "       'happy', 'angry', 'angry', 'angry', 'angry', 'happy', 'angry'],\n",
       "      dtype='<U7')"
      ]
     },
     "execution_count": 17,
     "metadata": {
      "tags": []
     },
     "output_type": "execute_result"
    }
   ],
   "source": [
    "y_emodb"
   ]
  },
  {
   "cell_type": "code",
   "execution_count": null,
   "metadata": {
    "colab": {
     "base_uri": "https://localhost:8080/",
     "height": 66
    },
    "executionInfo": {
     "elapsed": 12790,
     "status": "ok",
     "timestamp": 1628524754511,
     "user": {
      "displayName": "Eleonora Mancini",
      "photoUrl": "https://lh3.googleusercontent.com/a-/AOh14GgGMAKQj5wg21_r-iyQIVVYF436AnA5QQFEsFsFtg=s64",
      "userId": "13827522260918404568"
     },
     "user_tz": -120
    },
    "id": "1xD8ip6SaVuk",
    "outputId": "11ee95b7-1f73-4079-81e8-880298bedbe4"
   },
   "outputs": [
    {
     "data": {
      "application/vnd.jupyter.widget-view+json": {
       "model_id": "984ac664e6944444a2b6a45dd958829c",
       "version_major": 2,
       "version_minor": 0
      },
      "text/plain": [
       "HBox(children=(FloatProgress(value=0.0, max=746.0), HTML(value='')))"
      ]
     },
     "metadata": {
      "tags": []
     },
     "output_type": "display_data"
    },
    {
     "name": "stdout",
     "output_type": "stream",
     "text": [
      "\n"
     ]
    }
   ],
   "source": [
    "mfccs_emodb = []\n",
    "for i in tqdm(X_emodb):\n",
    "    mfcc_emodb = librosa.feature.mfcc(y=i, sr=44000, n_mfcc=40)\n",
    "    mfcc_emodb = mfcc_emodb.T\n",
    "    mfccs_emodb.append(mfcc_emodb)\n"
   ]
  },
  {
   "cell_type": "code",
   "execution_count": null,
   "metadata": {
    "colab": {
     "base_uri": "https://localhost:8080/"
    },
    "executionInfo": {
     "elapsed": 2821,
     "status": "ok",
     "timestamp": 1628524758802,
     "user": {
      "displayName": "Eleonora Mancini",
      "photoUrl": "https://lh3.googleusercontent.com/a-/AOh14GgGMAKQj5wg21_r-iyQIVVYF436AnA5QQFEsFsFtg=s64",
      "userId": "13827522260918404568"
     },
     "user_tz": -120
    },
    "id": "CnOpA7QvbZao",
    "outputId": "472e2e7d-17a6-4cd2-a922-085af798d0e7"
   },
   "outputs": [
    {
     "data": {
      "text/plain": [
       "(746, 236, 40)"
      ]
     },
     "execution_count": 19,
     "metadata": {
      "tags": []
     },
     "output_type": "execute_result"
    }
   ],
   "source": [
    "mfccs_emodb = np.array(mfccs_emodb)\n",
    "mfccs_emodb.shape"
   ]
  },
  {
   "cell_type": "code",
   "execution_count": null,
   "metadata": {
    "id": "MC0FwWMio02x"
   },
   "outputs": [],
   "source": [
    "with open('scaler.pickle', 'rb') as f:\n",
    "  scaler = pickle.load(f)"
   ]
  },
  {
   "cell_type": "code",
   "execution_count": null,
   "metadata": {
    "id": "OUQGUKIy7v7c"
   },
   "outputs": [],
   "source": [
    "mfccs_emodb = scaler.transform(mfccs_emodb.reshape(-1, mfccs_emodb.shape[-1])).reshape(mfccs_emodb.shape)"
   ]
  },
  {
   "cell_type": "code",
   "execution_count": null,
   "metadata": {
    "id": "rsKlpC9f718h"
   },
   "outputs": [],
   "source": [
    "emotion_enc = {'fear':1, 'disgust':1, 'neutral':0, 'happy':0, 'sadness':1, 'surprise':0, 'angry':1}"
   ]
  },
  {
   "cell_type": "code",
   "execution_count": null,
   "metadata": {
    "id": "hYcqlklXbpnL"
   },
   "outputs": [],
   "source": [
    "y_emodb = pd.Series(y_emodb).map(emotion_enc)"
   ]
  },
  {
   "cell_type": "code",
   "execution_count": null,
   "metadata": {
    "colab": {
     "base_uri": "https://localhost:8080/"
    },
    "executionInfo": {
     "elapsed": 4,
     "status": "ok",
     "timestamp": 1628524776673,
     "user": {
      "displayName": "Eleonora Mancini",
      "photoUrl": "https://lh3.googleusercontent.com/a-/AOh14GgGMAKQj5wg21_r-iyQIVVYF436AnA5QQFEsFsFtg=s64",
      "userId": "13827522260918404568"
     },
     "user_tz": -120
    },
    "id": "TF8zy7TZ92sk",
    "outputId": "78e14017-3a1f-431b-c51e-7ddc95d67ed1"
   },
   "outputs": [
    {
     "data": {
      "text/plain": [
       "array([0, 1])"
      ]
     },
     "execution_count": 24,
     "metadata": {
      "tags": []
     },
     "output_type": "execute_result"
    }
   ],
   "source": [
    "np.unique(y_emodb)"
   ]
  },
  {
   "cell_type": "code",
   "execution_count": null,
   "metadata": {
    "colab": {
     "base_uri": "https://localhost:8080/"
    },
    "executionInfo": {
     "elapsed": 366,
     "status": "ok",
     "timestamp": 1628524863627,
     "user": {
      "displayName": "Eleonora Mancini",
      "photoUrl": "https://lh3.googleusercontent.com/a-/AOh14GgGMAKQj5wg21_r-iyQIVVYF436AnA5QQFEsFsFtg=s64",
      "userId": "13827522260918404568"
     },
     "user_tz": -120
    },
    "id": "JCW1rnUvmfcg",
    "outputId": "ab0b4f1e-323f-42e6-e825-092264114649"
   },
   "outputs": [
    {
     "name": "stdout",
     "output_type": "stream",
     "text": [
      "              precision    recall  f1-score   support\n",
      "\n",
      "           0       0.26      0.29      0.27       142\n",
      "           1       0.83      0.81      0.82       604\n",
      "\n",
      "    accuracy                           0.71       746\n",
      "   macro avg       0.54      0.55      0.55       746\n",
      "weighted avg       0.72      0.71      0.71       746\n",
      "\n"
     ]
    }
   ],
   "source": [
    "from sklearn.metrics import classification_report\n",
    "predictions = model_loaded.predict(mfccs_emodb)\n",
    "pred = [1 * (x[0]>=0.52) for x in predictions] #0.5 o 0.52? \n",
    "print(classification_report(y_emodb, pred))"
   ]
  },
  {
   "cell_type": "markdown",
   "metadata": {
    "id": "2osopZCXAPFO"
   },
   "source": [
    "# Check on "
   ]
  },
  {
   "cell_type": "code",
   "execution_count": null,
   "metadata": {
    "id": "MpO6vH3y_oJh"
   },
   "outputs": [],
   "source": []
  }
 ],
 "metadata": {
  "colab": {
   "name": "Conv1D_Binary.ipynb",
   "provenance": [],
   "toc_visible": true
  },
  "kernelspec": {
   "display_name": "Python 3 (ipykernel)",
   "language": "python",
   "name": "python3"
  },
  "language_info": {
   "codemirror_mode": {
    "name": "ipython",
    "version": 3
   },
   "file_extension": ".py",
   "mimetype": "text/x-python",
   "name": "python",
   "nbconvert_exporter": "python",
   "pygments_lexer": "ipython3",
   "version": "3.8.10"
  },
  "widgets": {
   "application/vnd.jupyter.widget-state+json": {
    "26bbcdccf0d94b8f86f60f58b3e7a3e1": {
     "model_module": "@jupyter-widgets/controls",
     "model_module_version": "1.5.0",
     "model_name": "DescriptionStyleModel",
     "state": {
      "_model_module": "@jupyter-widgets/controls",
      "_model_module_version": "1.5.0",
      "_model_name": "DescriptionStyleModel",
      "_view_count": null,
      "_view_module": "@jupyter-widgets/base",
      "_view_module_version": "1.2.0",
      "_view_name": "StyleView",
      "description_width": ""
     }
    },
    "2ede483cb75540ae8163e971bc16ed96": {
     "model_module": "@jupyter-widgets/controls",
     "model_module_version": "1.5.0",
     "model_name": "HTMLModel",
     "state": {
      "_dom_classes": [],
      "_model_module": "@jupyter-widgets/controls",
      "_model_module_version": "1.5.0",
      "_model_name": "HTMLModel",
      "_view_count": null,
      "_view_module": "@jupyter-widgets/controls",
      "_view_module_version": "1.5.0",
      "_view_name": "HTMLView",
      "description": "",
      "description_tooltip": null,
      "layout": "IPY_MODEL_dc63b3f650f5468eb9d8f2f272995d16",
      "placeholder": "​",
      "style": "IPY_MODEL_26bbcdccf0d94b8f86f60f58b3e7a3e1",
      "value": " 25/? [01:21&lt;00:00,  3.25s/it]"
     }
    },
    "3c148be8fb2546f392c515a67aca8cb9": {
     "model_module": "@jupyter-widgets/controls",
     "model_module_version": "1.5.0",
     "model_name": "ProgressStyleModel",
     "state": {
      "_model_module": "@jupyter-widgets/controls",
      "_model_module_version": "1.5.0",
      "_model_name": "ProgressStyleModel",
      "_view_count": null,
      "_view_module": "@jupyter-widgets/base",
      "_view_module_version": "1.2.0",
      "_view_name": "StyleView",
      "bar_color": null,
      "description_width": "initial"
     }
    },
    "3d1fd17b464947fa9d9f5b3960671922": {
     "model_module": "@jupyter-widgets/controls",
     "model_module_version": "1.5.0",
     "model_name": "ProgressStyleModel",
     "state": {
      "_model_module": "@jupyter-widgets/controls",
      "_model_module_version": "1.5.0",
      "_model_name": "ProgressStyleModel",
      "_view_count": null,
      "_view_module": "@jupyter-widgets/base",
      "_view_module_version": "1.2.0",
      "_view_name": "StyleView",
      "bar_color": null,
      "description_width": "initial"
     }
    },
    "4a9113e9191047af9b4b62fa7459ff50": {
     "model_module": "@jupyter-widgets/controls",
     "model_module_version": "1.5.0",
     "model_name": "HTMLModel",
     "state": {
      "_dom_classes": [],
      "_model_module": "@jupyter-widgets/controls",
      "_model_module_version": "1.5.0",
      "_model_name": "HTMLModel",
      "_view_count": null,
      "_view_module": "@jupyter-widgets/controls",
      "_view_module_version": "1.5.0",
      "_view_name": "HTMLView",
      "description": "",
      "description_tooltip": null,
      "layout": "IPY_MODEL_c789a722d990414cb8615af1f30c7eec",
      "placeholder": "​",
      "style": "IPY_MODEL_6f44ed6b79154af3b28e908641cc9b02",
      "value": " 26/1271 [00:20&lt;00:45, 27.30it/s]"
     }
    },
    "4b5519f567c44f5fb91451223b02568a": {
     "model_module": "@jupyter-widgets/base",
     "model_module_version": "1.2.0",
     "model_name": "LayoutModel",
     "state": {
      "_model_module": "@jupyter-widgets/base",
      "_model_module_version": "1.2.0",
      "_model_name": "LayoutModel",
      "_view_count": null,
      "_view_module": "@jupyter-widgets/base",
      "_view_module_version": "1.2.0",
      "_view_name": "LayoutView",
      "align_content": null,
      "align_items": null,
      "align_self": null,
      "border": null,
      "bottom": null,
      "display": null,
      "flex": null,
      "flex_flow": null,
      "grid_area": null,
      "grid_auto_columns": null,
      "grid_auto_flow": null,
      "grid_auto_rows": null,
      "grid_column": null,
      "grid_gap": null,
      "grid_row": null,
      "grid_template_areas": null,
      "grid_template_columns": null,
      "grid_template_rows": null,
      "height": null,
      "justify_content": null,
      "justify_items": null,
      "left": null,
      "margin": null,
      "max_height": null,
      "max_width": null,
      "min_height": null,
      "min_width": null,
      "object_fit": null,
      "object_position": null,
      "order": null,
      "overflow": null,
      "overflow_x": null,
      "overflow_y": null,
      "padding": null,
      "right": null,
      "top": null,
      "visibility": null,
      "width": null
     }
    },
    "61f4e13a03414291841441661c5dc130": {
     "model_module": "@jupyter-widgets/controls",
     "model_module_version": "1.5.0",
     "model_name": "HBoxModel",
     "state": {
      "_dom_classes": [],
      "_model_module": "@jupyter-widgets/controls",
      "_model_module_version": "1.5.0",
      "_model_name": "HBoxModel",
      "_view_count": null,
      "_view_module": "@jupyter-widgets/controls",
      "_view_module_version": "1.5.0",
      "_view_name": "HBoxView",
      "box_style": "",
      "children": [
       "IPY_MODEL_ece8dac95bbf4f63958ceff2479a6ba2",
       "IPY_MODEL_4a9113e9191047af9b4b62fa7459ff50"
      ],
      "layout": "IPY_MODEL_4b5519f567c44f5fb91451223b02568a"
     }
    },
    "6328e52ef3094c61aaa8e02d3d4db4a8": {
     "model_module": "@jupyter-widgets/base",
     "model_module_version": "1.2.0",
     "model_name": "LayoutModel",
     "state": {
      "_model_module": "@jupyter-widgets/base",
      "_model_module_version": "1.2.0",
      "_model_name": "LayoutModel",
      "_view_count": null,
      "_view_module": "@jupyter-widgets/base",
      "_view_module_version": "1.2.0",
      "_view_name": "LayoutView",
      "align_content": null,
      "align_items": null,
      "align_self": null,
      "border": null,
      "bottom": null,
      "display": null,
      "flex": null,
      "flex_flow": null,
      "grid_area": null,
      "grid_auto_columns": null,
      "grid_auto_flow": null,
      "grid_auto_rows": null,
      "grid_column": null,
      "grid_gap": null,
      "grid_row": null,
      "grid_template_areas": null,
      "grid_template_columns": null,
      "grid_template_rows": null,
      "height": null,
      "justify_content": null,
      "justify_items": null,
      "left": null,
      "margin": null,
      "max_height": null,
      "max_width": null,
      "min_height": null,
      "min_width": null,
      "object_fit": null,
      "object_position": null,
      "order": null,
      "overflow": null,
      "overflow_x": null,
      "overflow_y": null,
      "padding": null,
      "right": null,
      "top": null,
      "visibility": null,
      "width": null
     }
    },
    "6f44ed6b79154af3b28e908641cc9b02": {
     "model_module": "@jupyter-widgets/controls",
     "model_module_version": "1.5.0",
     "model_name": "DescriptionStyleModel",
     "state": {
      "_model_module": "@jupyter-widgets/controls",
      "_model_module_version": "1.5.0",
      "_model_name": "DescriptionStyleModel",
      "_view_count": null,
      "_view_module": "@jupyter-widgets/base",
      "_view_module_version": "1.2.0",
      "_view_name": "StyleView",
      "description_width": ""
     }
    },
    "8bc054af36e44844b4ef41bc59ef94ed": {
     "model_module": "@jupyter-widgets/controls",
     "model_module_version": "1.5.0",
     "model_name": "HBoxModel",
     "state": {
      "_dom_classes": [],
      "_model_module": "@jupyter-widgets/controls",
      "_model_module_version": "1.5.0",
      "_model_name": "HBoxModel",
      "_view_count": null,
      "_view_module": "@jupyter-widgets/controls",
      "_view_module_version": "1.5.0",
      "_view_name": "HBoxView",
      "box_style": "",
      "children": [
       "IPY_MODEL_e034b5967c48485ea6f557f562084ef7",
       "IPY_MODEL_2ede483cb75540ae8163e971bc16ed96"
      ],
      "layout": "IPY_MODEL_afa4c134a3a04923995d55459a89ccb0"
     }
    },
    "afa4c134a3a04923995d55459a89ccb0": {
     "model_module": "@jupyter-widgets/base",
     "model_module_version": "1.2.0",
     "model_name": "LayoutModel",
     "state": {
      "_model_module": "@jupyter-widgets/base",
      "_model_module_version": "1.2.0",
      "_model_name": "LayoutModel",
      "_view_count": null,
      "_view_module": "@jupyter-widgets/base",
      "_view_module_version": "1.2.0",
      "_view_name": "LayoutView",
      "align_content": null,
      "align_items": null,
      "align_self": null,
      "border": null,
      "bottom": null,
      "display": null,
      "flex": null,
      "flex_flow": null,
      "grid_area": null,
      "grid_auto_columns": null,
      "grid_auto_flow": null,
      "grid_auto_rows": null,
      "grid_column": null,
      "grid_gap": null,
      "grid_row": null,
      "grid_template_areas": null,
      "grid_template_columns": null,
      "grid_template_rows": null,
      "height": null,
      "justify_content": null,
      "justify_items": null,
      "left": null,
      "margin": null,
      "max_height": null,
      "max_width": null,
      "min_height": null,
      "min_width": null,
      "object_fit": null,
      "object_position": null,
      "order": null,
      "overflow": null,
      "overflow_x": null,
      "overflow_y": null,
      "padding": null,
      "right": null,
      "top": null,
      "visibility": null,
      "width": null
     }
    },
    "b68a0c308f2b4fdcae473829f1887a16": {
     "model_module": "@jupyter-widgets/base",
     "model_module_version": "1.2.0",
     "model_name": "LayoutModel",
     "state": {
      "_model_module": "@jupyter-widgets/base",
      "_model_module_version": "1.2.0",
      "_model_name": "LayoutModel",
      "_view_count": null,
      "_view_module": "@jupyter-widgets/base",
      "_view_module_version": "1.2.0",
      "_view_name": "LayoutView",
      "align_content": null,
      "align_items": null,
      "align_self": null,
      "border": null,
      "bottom": null,
      "display": null,
      "flex": null,
      "flex_flow": null,
      "grid_area": null,
      "grid_auto_columns": null,
      "grid_auto_flow": null,
      "grid_auto_rows": null,
      "grid_column": null,
      "grid_gap": null,
      "grid_row": null,
      "grid_template_areas": null,
      "grid_template_columns": null,
      "grid_template_rows": null,
      "height": null,
      "justify_content": null,
      "justify_items": null,
      "left": null,
      "margin": null,
      "max_height": null,
      "max_width": null,
      "min_height": null,
      "min_width": null,
      "object_fit": null,
      "object_position": null,
      "order": null,
      "overflow": null,
      "overflow_x": null,
      "overflow_y": null,
      "padding": null,
      "right": null,
      "top": null,
      "visibility": null,
      "width": null
     }
    },
    "c789a722d990414cb8615af1f30c7eec": {
     "model_module": "@jupyter-widgets/base",
     "model_module_version": "1.2.0",
     "model_name": "LayoutModel",
     "state": {
      "_model_module": "@jupyter-widgets/base",
      "_model_module_version": "1.2.0",
      "_model_name": "LayoutModel",
      "_view_count": null,
      "_view_module": "@jupyter-widgets/base",
      "_view_module_version": "1.2.0",
      "_view_name": "LayoutView",
      "align_content": null,
      "align_items": null,
      "align_self": null,
      "border": null,
      "bottom": null,
      "display": null,
      "flex": null,
      "flex_flow": null,
      "grid_area": null,
      "grid_auto_columns": null,
      "grid_auto_flow": null,
      "grid_auto_rows": null,
      "grid_column": null,
      "grid_gap": null,
      "grid_row": null,
      "grid_template_areas": null,
      "grid_template_columns": null,
      "grid_template_rows": null,
      "height": null,
      "justify_content": null,
      "justify_items": null,
      "left": null,
      "margin": null,
      "max_height": null,
      "max_width": null,
      "min_height": null,
      "min_width": null,
      "object_fit": null,
      "object_position": null,
      "order": null,
      "overflow": null,
      "overflow_x": null,
      "overflow_y": null,
      "padding": null,
      "right": null,
      "top": null,
      "visibility": null,
      "width": null
     }
    },
    "dc63b3f650f5468eb9d8f2f272995d16": {
     "model_module": "@jupyter-widgets/base",
     "model_module_version": "1.2.0",
     "model_name": "LayoutModel",
     "state": {
      "_model_module": "@jupyter-widgets/base",
      "_model_module_version": "1.2.0",
      "_model_name": "LayoutModel",
      "_view_count": null,
      "_view_module": "@jupyter-widgets/base",
      "_view_module_version": "1.2.0",
      "_view_name": "LayoutView",
      "align_content": null,
      "align_items": null,
      "align_self": null,
      "border": null,
      "bottom": null,
      "display": null,
      "flex": null,
      "flex_flow": null,
      "grid_area": null,
      "grid_auto_columns": null,
      "grid_auto_flow": null,
      "grid_auto_rows": null,
      "grid_column": null,
      "grid_gap": null,
      "grid_row": null,
      "grid_template_areas": null,
      "grid_template_columns": null,
      "grid_template_rows": null,
      "height": null,
      "justify_content": null,
      "justify_items": null,
      "left": null,
      "margin": null,
      "max_height": null,
      "max_width": null,
      "min_height": null,
      "min_width": null,
      "object_fit": null,
      "object_position": null,
      "order": null,
      "overflow": null,
      "overflow_x": null,
      "overflow_y": null,
      "padding": null,
      "right": null,
      "top": null,
      "visibility": null,
      "width": null
     }
    },
    "e034b5967c48485ea6f557f562084ef7": {
     "model_module": "@jupyter-widgets/controls",
     "model_module_version": "1.5.0",
     "model_name": "FloatProgressModel",
     "state": {
      "_dom_classes": [],
      "_model_module": "@jupyter-widgets/controls",
      "_model_module_version": "1.5.0",
      "_model_name": "FloatProgressModel",
      "_view_count": null,
      "_view_module": "@jupyter-widgets/controls",
      "_view_module_version": "1.5.0",
      "_view_name": "ProgressView",
      "bar_style": "success",
      "description": "",
      "description_tooltip": null,
      "layout": "IPY_MODEL_b68a0c308f2b4fdcae473829f1887a16",
      "max": 1,
      "min": 0,
      "orientation": "horizontal",
      "style": "IPY_MODEL_3d1fd17b464947fa9d9f5b3960671922",
      "value": 1
     }
    },
    "ece8dac95bbf4f63958ceff2479a6ba2": {
     "model_module": "@jupyter-widgets/controls",
     "model_module_version": "1.5.0",
     "model_name": "FloatProgressModel",
     "state": {
      "_dom_classes": [],
      "_model_module": "@jupyter-widgets/controls",
      "_model_module_version": "1.5.0",
      "_model_name": "FloatProgressModel",
      "_view_count": null,
      "_view_module": "@jupyter-widgets/controls",
      "_view_module_version": "1.5.0",
      "_view_name": "ProgressView",
      "bar_style": "danger",
      "description": "  2%",
      "description_tooltip": null,
      "layout": "IPY_MODEL_6328e52ef3094c61aaa8e02d3d4db4a8",
      "max": 1271,
      "min": 0,
      "orientation": "horizontal",
      "style": "IPY_MODEL_3c148be8fb2546f392c515a67aca8cb9",
      "value": 26
     }
    }
   }
  }
 },
 "nbformat": 4,
 "nbformat_minor": 4
}

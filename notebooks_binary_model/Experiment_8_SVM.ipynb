{
 "cells": [
  {
   "cell_type": "markdown",
   "id": "40bfbd15-475f-435f-bfb0-60ef9bc2185e",
   "metadata": {
    "tags": []
   },
   "source": [
    "# Configuration\n",
    "\n",
    "NOTES: The warnings after the import are referred to the fact that Tensorflow 2.x versions are built to directly look for a GPU in the system. The warning can be forgot if you are not going to use the GPU. \n",
    "\n",
    "NOTE: Differently from experiments 1-4, here we have the 'mean' and 'std' of mfccs in **compute_mfccs** function"
   ]
  },
  {
   "cell_type": "code",
   "execution_count": 1,
   "id": "2dc5999c-050f-4ad0-9cf6-dbe77e40bf8d",
   "metadata": {},
   "outputs": [],
   "source": [
    "!source myenv/bin/activate"
   ]
  },
  {
   "cell_type": "code",
   "execution_count": 2,
   "id": "d725298e-ae2e-4dee-af71-7c157b162a0e",
   "metadata": {},
   "outputs": [],
   "source": [
    "# samples in 5 seconds of audio, 16 KHz sample rate \n",
    "LENGTH_CHOSEN =  80000"
   ]
  },
  {
   "cell_type": "code",
   "execution_count": 3,
   "id": "4ed45fc9-3298-44df-a347-08e70a97b340",
   "metadata": {},
   "outputs": [
    {
     "name": "stderr",
     "output_type": "stream",
     "text": [
      "2021-09-27 19:14:19.873805: W tensorflow/stream_executor/platform/default/dso_loader.cc:60] Could not load dynamic library 'libcudart.so.11.0'; dlerror: libcudart.so.11.0: cannot open shared object file: No such file or directory\n",
      "2021-09-27 19:14:19.873850: I tensorflow/stream_executor/cuda/cudart_stub.cc:29] Ignore above cudart dlerror if you do not have a GPU set up on your machine.\n",
      "2021-09-27 19:14:21.997703: I tensorflow/compiler/jit/xla_cpu_device.cc:41] Not creating XLA devices, tf_xla_enable_xla_devices not set\n",
      "2021-09-27 19:14:21.998510: I tensorflow/stream_executor/platform/default/dso_loader.cc:49] Successfully opened dynamic library libcuda.so.1\n",
      "2021-09-27 19:14:22.094598: E tensorflow/stream_executor/cuda/cuda_driver.cc:328] failed call to cuInit: CUDA_ERROR_NO_DEVICE: no CUDA-capable device is detected\n",
      "2021-09-27 19:14:22.094628: I tensorflow/stream_executor/cuda/cuda_diagnostics.cc:156] kernel driver does not appear to be running on this host (helemanc-Latitude-5410): /proc/driver/nvidia/version does not exist\n"
     ]
    },
    {
     "data": {
      "text/plain": [
       "[]"
      ]
     },
     "execution_count": 3,
     "metadata": {},
     "output_type": "execute_result"
    }
   ],
   "source": [
    "import os\n",
    "import librosa\n",
    "import numpy as np\n",
    "from tqdm.notebook import tqdm\n",
    "import pandas as pd\n",
    "import matplotlib.pyplot as plt\n",
    "import warnings\n",
    "warnings.filterwarnings(\"ignore\")\n",
    "import seaborn as sns\n",
    "sns.set_style('whitegrid')\n",
    "import IPython.display as ipd\n",
    "import librosa.display\n",
    "import numpy as np\n",
    "import pickle\n",
    "import scipy\n",
    "import ipywidgets\n",
    "import math\n",
    "from time import time\n",
    "\n",
    "from sklearn.model_selection import train_test_split\n",
    "from sklearn.ensemble import RandomForestClassifier\n",
    "from sklearn.preprocessing import StandardScaler, LabelEncoder\n",
    "from sklearn.pipeline import make_pipeline\n",
    "from sklearn.cluster import KMeans\n",
    "from sklearn.metrics import accuracy_score, confusion_matrix\n",
    "from scipy.cluster.hierarchy import dendrogram\n",
    "from sklearn.cluster import AgglomerativeClustering\n",
    "from sklearn.model_selection import RandomizedSearchCV\n",
    "from sklearn.model_selection import KFold, StratifiedKFold\n",
    "\n",
    "\n",
    "from tqdm import tqdm\n",
    "\n",
    "import tensorflow as tf\n",
    "from tensorflow.keras.layers import Dense, Dropout, Conv2D, AveragePooling1D, MaxPooling2D, Flatten\n",
    "from tensorflow.keras.optimizers import SGD, Adam \n",
    "from tensorflow.keras.models import Sequential\n",
    "from tensorflow.keras import layers\n",
    "from tensorflow.keras import regularizers\n",
    "\n",
    "# from livelossplot import PlotLossesKeras\n",
    "tf.config.list_physical_devices('GPU')"
   ]
  },
  {
   "cell_type": "code",
   "execution_count": 4,
   "id": "0a4df061-e7e3-4723-94fa-9c1cc2d0901b",
   "metadata": {},
   "outputs": [],
   "source": [
    "# import SVM\n",
    "from sklearn.model_selection import ParameterGrid\n",
    "from sklearn.svm import SVC "
   ]
  },
  {
   "cell_type": "code",
   "execution_count": 5,
   "id": "5ac1c6a3-215e-4de1-911e-8aeb3495778d",
   "metadata": {},
   "outputs": [],
   "source": [
    "# set reproducibility \n",
    "seed = 7\n",
    "np.random.seed(seed)"
   ]
  },
  {
   "cell_type": "markdown",
   "id": "b94cae51-8ae4-4cd3-bdc9-153dc0d7ff0f",
   "metadata": {},
   "source": [
    "# Utils"
   ]
  },
  {
   "cell_type": "code",
   "execution_count": 6,
   "id": "6a099d56-b1b9-412a-a359-2cf84017c1f4",
   "metadata": {},
   "outputs": [],
   "source": [
    "def load_files(df):\n",
    "    X = []\n",
    "    for i in tqdm(df['path']): \n",
    "        X.append(librosa.load(i, res_type='kaiser_fast', sr=16000))\n",
    "    return X\n",
    "\n",
    "def extract_samples(X): \n",
    "    samples = []\n",
    "    for ind,i in enumerate(X):\n",
    "        samples.append(i[0])\n",
    "    return samples \n",
    "\n",
    "def extract_labels(df): \n",
    "    labels = df['emotion_label'].copy()\n",
    "    return labels \n",
    "\n",
    "def compute_lengths(samples): \n",
    "    lengths = [len(x) for x in samples]\n",
    "    return lengths \n",
    "\n",
    "def check_outliers(lengths):\n",
    "    # outliers\n",
    "    lengths = np.array(lengths)\n",
    "    print((lengths > 300000).sum())\n",
    "    new_lengths = lengths[lengths < 300000]\n",
    "    return new_lengths \n",
    "\n",
    "def compute_mean_length(lengths): \n",
    "    return lengths.mean()\n",
    "\n",
    "def cut_and_pad(samples, labels, length_chosen = LENGTH_CHOSEN): \n",
    "    X_new = []\n",
    "    y_new = []\n",
    "    count = 0 \n",
    "    for ind,i in enumerate(samples):\n",
    "        if i.shape[0] < 300000:\n",
    "            if i.shape[0] > length_chosen:\n",
    "                new = i[:length_chosen]\n",
    "                X_new.append(new)\n",
    "            elif i.shape[0] < length_chosen:\n",
    "                new = np.pad(i,math.ceil((length_chosen-i.shape[0])/2), mode='median')\n",
    "                X_new.append(new)\n",
    "            else:\n",
    "                X_new.append(i)\n",
    "            y_new.append(labels[count])\n",
    "        count+=1\n",
    "    \n",
    "    return X_new, y_new\n",
    "\n",
    "def compute_energy(samples): \n",
    "    energy_mean = []\n",
    "    for i in tqdm(samples):\n",
    "        energy = librosa.feature.rms(i)\n",
    "        energy = energy.T \n",
    "        energy = np.array(energy)\n",
    "        energy_mean.append(np.mean(energy, axis=0)) \n",
    "    return energy_mean\n",
    "\n",
    "def compute_mfccs(samples, n_mfcc): \n",
    "    mfccs = []\n",
    "    for i in tqdm(samples):\n",
    "        mfcc = librosa.feature.mfcc(y=i, sr=16000, n_mfcc=n_mfcc)\n",
    "        mfcc = mfcc.T\n",
    "        mfcc = np.array(mfcc)\n",
    "        #mfccs.append(mfcc[:, 1:]) # get rid of the first component \n",
    "        mfccs.append(np.mean(mfcc[:, 1:], axis = 0))\n",
    "    mfccs = np.array(mfccs)\n",
    "    return mfccs\n",
    "\n",
    "def feature_extractor(df_train, df_val, df_test, n_mfcc): \n",
    "    load_train = load_files(df_train)\n",
    "    samples_train = extract_samples(load_train)\n",
    "    labels_train = extract_labels(df_train)\n",
    "    samples_train, labels_train = cut_and_pad(samples_train, labels_train)\n",
    "    samples_train = np.array(samples_train)\n",
    "    labels_train = np.array(labels_train)\n",
    "    mfccs_train = compute_mfccs(samples_train, n_mfcc = n_mfcc)\n",
    "    # energy \n",
    "    energy_train = compute_energy(samples_train) \n",
    "    features_train = []\n",
    "    for i in range(len(mfccs_train)): \n",
    "        if len(mfccs_train) == len(energy_train): \n",
    "            conc = np.concatenate((mfccs_train[i], energy_train[i]), axis = None)\n",
    "            features_train.append(conc)\n",
    "\n",
    "    \n",
    "    \n",
    "  \n",
    "    load_val = load_files(df_val)\n",
    "    samples_val = extract_samples(load_val)\n",
    "    labels_val = extract_labels(df_val)\n",
    "    samples_val, labels_val = cut_and_pad(samples_val, labels_val)\n",
    "    samples_val = np.array(samples_val)\n",
    "    labels_val = np.array(labels_val)\n",
    "    mfccs_val = compute_mfccs(samples_val, n_mfcc = n_mfcc)\n",
    "    # energy \n",
    "    energy_val = compute_energy(samples_val) \n",
    "    features_val = []\n",
    "    for i in range(len(mfccs_val)): \n",
    "        if len(mfccs_val) == len(energy_val): \n",
    "            conc = np.concatenate((mfccs_val[i], energy_val[i]), axis = None)\n",
    "            features_val.append(conc)\n",
    "    \n",
    "    \n",
    "    \n",
    "    \n",
    "    load_test = load_files(df_test)\n",
    "    samples_test = extract_samples(load_test)\n",
    "    labels_test = extract_labels(df_test)\n",
    "    samples_test, labels_test = cut_and_pad(samples_test, labels_test)\n",
    "    samples_test = np.array(samples_test)\n",
    "    labels_test = np.array(labels_test)\n",
    "    mfccs_test = compute_mfccs(samples_test, n_mfcc = n_mfcc)\n",
    "    # energy \n",
    "    energy_test = compute_energy(samples_test) \n",
    "    features_test=[]\n",
    "    for i in range(len(mfccs_test)): \n",
    "        if len(mfccs_test) == len(energy_test): \n",
    "            conc = np.concatenate((mfccs_test[i], energy_test[i]), axis = None)\n",
    "            features_test.append(conc)\n",
    "    \n",
    "\n",
    "    return np.array(features_train), labels_train,  np.array(features_val), labels_val, np.array(features_test), labels_test\n",
    "    \n",
    "\n",
    "def feature_extractor_tess(df_train,  df_test, n_mfcc): \n",
    "    # we do not have the validation set here \n",
    "    load_train = load_files(df_train)\n",
    "    samples_train = extract_samples(load_train)\n",
    "    labels_train = extract_labels(df_train)\n",
    "    samples_train, labels_train = cut_and_pad(samples_train, labels_train)\n",
    "    samples_train = np.array(samples_train)\n",
    "    labels_train = np.array(labels_train)\n",
    "    mfccs_train = compute_mfccs(samples_train, n_mfcc = n_mfcc)\n",
    "    # energy \n",
    "    energy_train = compute_energy(samples_train) \n",
    "    features_train = []\n",
    "    for i in range(len(mfccs_train)): \n",
    "        if len(mfccs_train) == len(energy_train): \n",
    "            conc = np.concatenate((mfccs_train[i], energy_train[i]), axis = None)\n",
    "            features_train.append(conc)\n",
    "\n",
    "    \n",
    "    \n",
    "    load_test = load_files(df_test)\n",
    "    samples_test = extract_samples(load_test)\n",
    "    labels_test = extract_labels(df_test)\n",
    "    samples_test, labels_test = cut_and_pad(samples_test, labels_test)\n",
    "    samples_test = np.array(samples_test)\n",
    "    labels_test = np.array(labels_test)\n",
    "    mfccs_test = compute_mfccs(samples_test, n_mfcc = n_mfcc)\n",
    "    # energy \n",
    "    energy_test = compute_energy(samples_test) \n",
    "    features_test=[]\n",
    "    for i in range(len(mfccs_test)): \n",
    "        if len(mfccs_test) == len(energy_test): \n",
    "            conc = np.concatenate((mfccs_test[i], energy_test[i]), axis = None)\n",
    "            features_test.append(conc)\n",
    "    \n",
    "    \n",
    "    return np.array(features_train), labels_train, np.array(features_test), labels_test\n",
    "    \n",
    "def encode_labels(labels_train, labels_val, labels_test): \n",
    "    \n",
    "    emotion_enc = {'fear':1, 'disgust':1, 'neutral':0, 'calm':0,  'happy':0, 'sadness':1, 'surprise':0, 'angry':1}\n",
    "    y_train = pd.Series(labels_train).replace(emotion_enc)\n",
    "  \n",
    "    y_test = pd.Series(labels_test).map(emotion_enc)\n",
    "    y_val = pd.Series(labels_val).map(emotion_enc)\n",
    "    return y_train, y_val, y_test \n",
    "\n",
    "\n",
    "def encode_labels_tess(labels_train, labels_test): \n",
    "    \n",
    "    emotion_enc = {'fear':1, 'disgust':1, 'neutral':0, 'calm':0,  'happy':0, 'sadness':1, 'surprise':0, 'angry':1}\n",
    "    y_train = pd.Series(labels_train).replace(emotion_enc)\n",
    "  \n",
    "    y_test = pd.Series(labels_test).map(emotion_enc)\n",
    "    return y_train, y_test\n",
    "    \n",
    "def standard_scaling(X_train, X_val, X_test): \n",
    "  \n",
    "    scaler = StandardScaler()\n",
    "    X_train = scaler.fit_transform(X_train.reshape(-1, X_train.shape[-1])).reshape(X_train.shape)\n",
    "    X_test = scaler.transform(X_test.reshape(-1, X_test.shape[-1])).reshape(X_test.shape)\n",
    "    X_val = scaler.transform(X_val.reshape(-1, X_val.shape[-1])).reshape(X_val.shape)\n",
    "    return X_train, X_val, X_test \n",
    "    \n",
    "def standard_scaling_tess(X_train, X_test): \n",
    "  \n",
    "    scaler = StandardScaler()\n",
    "    X_train = scaler.fit_transform(X_train.reshape(-1, X_train.shape[-1])).reshape(X_train.shape)\n",
    "    X_test = scaler.transform(X_test.reshape(-1, X_test.shape[-1])).reshape(X_test.shape)\n",
    "    return X_train, X_test   \n",
    "    \n"
   ]
  },
  {
   "cell_type": "markdown",
   "id": "2d0b37ac-8a2b-4254-bfdf-74477f7d7b85",
   "metadata": {},
   "source": [
    "# Compute dataframes for datasets and split in Train, Val, Test "
   ]
  },
  {
   "cell_type": "code",
   "execution_count": 7,
   "id": "667d6c06-b4ea-4e9f-9a1f-2e8eb90fbc5f",
   "metadata": {},
   "outputs": [],
   "source": [
    "main_path = '/media/helemanc/OS/Users/i2CAT/Desktop/Datasets SER/'\n",
    "TESS = os.path.join(main_path, \"tess/TESS Toronto emotional speech set data/\") \n",
    "RAV = os.path.join(main_path, \"ravdess-emotional-speech-audio/audio_speech_actors_01-24\")\n",
    "SAVEE = os.path.join(main_path, \"savee/ALL/\")\n",
    "CREMA = os.path.join(main_path, \"creamd/AudioWAV/\")"
   ]
  },
  {
   "cell_type": "markdown",
   "id": "f09fc249-8432-419d-9f48-9d5bf08b4499",
   "metadata": {
    "tags": []
   },
   "source": [
    "## RADVESS"
   ]
  },
  {
   "cell_type": "code",
   "execution_count": 8,
   "id": "4348cf2e-269a-4afe-b6c1-e5f8821a3647",
   "metadata": {},
   "outputs": [
    {
     "name": "stderr",
     "output_type": "stream",
     "text": [
      "25it [00:00, 859.27it/s]\n"
     ]
    }
   ],
   "source": [
    "lst = []\n",
    "emotion = []\n",
    "voc_channel = []\n",
    "full_path = []\n",
    "modality = []\n",
    "intensity = []\n",
    "actors = []\n",
    "phrase =[]\n",
    "\n",
    "for root, dirs, files in tqdm(os.walk(RAV)):\n",
    "    for file in files:\n",
    "        try:\n",
    "            #Load librosa array, obtain mfcss, store the file and the mfcss information in a new array\n",
    "            # X, sample_rate = librosa.load(os.path.join(root,file), res_type='kaiser_fast')\n",
    "            # mfccs = np.mean(librosa.feature.mfcc(y=X, sr=sample_rate, n_mfcc=40).T,axis=0) \n",
    "            # The instruction below converts the labels (from 1 to 8) to a series from 0 to 7\n",
    "            # This is because our predictor needs to start from 0 otherwise it will try to predict also 0.\n",
    "           \n",
    "            modal = int(file[1:2])\n",
    "            vchan = int(file[4:5])\n",
    "            lab = int(file[7:8])\n",
    "            ints = int(file[10:11])\n",
    "            phr = int(file[13:14])\n",
    "            act = int(file[18:20])\n",
    "            # arr = mfccs, lab\n",
    "            # lst.append(arr)\n",
    "            \n",
    "            modality.append(modal)\n",
    "            voc_channel.append(vchan)\n",
    "            emotion.append(lab) #only labels\n",
    "            intensity.append(ints)\n",
    "            phrase.append(phr)\n",
    "            actors.append(act)\n",
    "            \n",
    "            full_path.append((root, file)) # only files\n",
    "          # If the file is not valid, skip it\n",
    "        except ValueError:\n",
    "            continue"
   ]
  },
  {
   "cell_type": "code",
   "execution_count": 9,
   "id": "4c6b1558-60a6-4fb3-bd72-f4d79b5646dd",
   "metadata": {},
   "outputs": [],
   "source": [
    "# 01 = neutral, 02 = calm, 03 = happy, 04 = sad, 05 = angry, 06 = fearful, 07 = disgust, 08 = surprised\n",
    "# merge neutral and calm\n",
    "emotions_list = ['neutral', 'neutral', 'happy', 'sadness', 'angry', 'fear', 'disgust', 'surprise']\n",
    "emotion_dict = {em[0]+1:em[1] for em in enumerate(emotions_list)}\n",
    "\n",
    "df = pd.DataFrame([emotion, voc_channel, modality, intensity, actors, actors,phrase, full_path]).T\n",
    "df.columns = ['emotion', 'voc_channel', 'modality', 'intensity', 'actors', 'gender', 'phrase', 'path']\n",
    "df['emotion'] = df['emotion'].map(emotion_dict)\n",
    "df['voc_channel'] = df['voc_channel'].map({1: 'speech', 2:'song'})\n",
    "df['modality'] = df['modality'].map({1: 'full AV', 2:'video only', 3:'audio only'})\n",
    "df['intensity'] = df['intensity'].map({1: 'normal', 2:'strong'})\n",
    "df['actors'] = df['actors']\n",
    "df['gender'] = df['actors'].apply(lambda x: 'female' if x%2 == 0 else 'male')\n",
    "df['phrase'] = df['phrase'].map({1: 'Kids are talking by the door', 2:'Dogs are sitting by the door'})\n",
    "df['path'] = df['path'].apply(lambda x: x[0] + '/' + x[1])"
   ]
  },
  {
   "cell_type": "code",
   "execution_count": 10,
   "id": "791558dc-76de-435f-ae64-1316bd1237c4",
   "metadata": {},
   "outputs": [],
   "source": [
    "# remove files with noise to apply the same noise to all files for data augmentation \n",
    "df = df[~df.path.str.contains('noise')]"
   ]
  },
  {
   "cell_type": "code",
   "execution_count": 11,
   "id": "83bc6b44-f409-44a1-8b75-7d0ba18765ab",
   "metadata": {},
   "outputs": [
    {
     "data": {
      "text/html": [
       "<div>\n",
       "<style scoped>\n",
       "    .dataframe tbody tr th:only-of-type {\n",
       "        vertical-align: middle;\n",
       "    }\n",
       "\n",
       "    .dataframe tbody tr th {\n",
       "        vertical-align: top;\n",
       "    }\n",
       "\n",
       "    .dataframe thead th {\n",
       "        text-align: right;\n",
       "    }\n",
       "</style>\n",
       "<table border=\"1\" class=\"dataframe\">\n",
       "  <thead>\n",
       "    <tr style=\"text-align: right;\">\n",
       "      <th></th>\n",
       "      <th>emotion</th>\n",
       "      <th>voc_channel</th>\n",
       "      <th>modality</th>\n",
       "      <th>intensity</th>\n",
       "      <th>actors</th>\n",
       "      <th>gender</th>\n",
       "      <th>phrase</th>\n",
       "      <th>path</th>\n",
       "    </tr>\n",
       "  </thead>\n",
       "  <tbody>\n",
       "    <tr>\n",
       "      <th>0</th>\n",
       "      <td>disgust</td>\n",
       "      <td>speech</td>\n",
       "      <td>audio only</td>\n",
       "      <td>normal</td>\n",
       "      <td>1</td>\n",
       "      <td>male</td>\n",
       "      <td>Dogs are sitting by the door</td>\n",
       "      <td>/media/helemanc/OS/Users/i2CAT/Desktop/Dataset...</td>\n",
       "    </tr>\n",
       "    <tr>\n",
       "      <th>2</th>\n",
       "      <td>disgust</td>\n",
       "      <td>speech</td>\n",
       "      <td>audio only</td>\n",
       "      <td>strong</td>\n",
       "      <td>1</td>\n",
       "      <td>male</td>\n",
       "      <td>Kids are talking by the door</td>\n",
       "      <td>/media/helemanc/OS/Users/i2CAT/Desktop/Dataset...</td>\n",
       "    </tr>\n",
       "    <tr>\n",
       "      <th>4</th>\n",
       "      <td>disgust</td>\n",
       "      <td>speech</td>\n",
       "      <td>audio only</td>\n",
       "      <td>strong</td>\n",
       "      <td>1</td>\n",
       "      <td>male</td>\n",
       "      <td>Kids are talking by the door</td>\n",
       "      <td>/media/helemanc/OS/Users/i2CAT/Desktop/Dataset...</td>\n",
       "    </tr>\n",
       "    <tr>\n",
       "      <th>6</th>\n",
       "      <td>disgust</td>\n",
       "      <td>speech</td>\n",
       "      <td>audio only</td>\n",
       "      <td>strong</td>\n",
       "      <td>1</td>\n",
       "      <td>male</td>\n",
       "      <td>Dogs are sitting by the door</td>\n",
       "      <td>/media/helemanc/OS/Users/i2CAT/Desktop/Dataset...</td>\n",
       "    </tr>\n",
       "    <tr>\n",
       "      <th>8</th>\n",
       "      <td>disgust</td>\n",
       "      <td>speech</td>\n",
       "      <td>audio only</td>\n",
       "      <td>strong</td>\n",
       "      <td>1</td>\n",
       "      <td>male</td>\n",
       "      <td>Dogs are sitting by the door</td>\n",
       "      <td>/media/helemanc/OS/Users/i2CAT/Desktop/Dataset...</td>\n",
       "    </tr>\n",
       "  </tbody>\n",
       "</table>\n",
       "</div>"
      ],
      "text/plain": [
       "   emotion voc_channel    modality intensity actors gender  \\\n",
       "0  disgust      speech  audio only    normal      1   male   \n",
       "2  disgust      speech  audio only    strong      1   male   \n",
       "4  disgust      speech  audio only    strong      1   male   \n",
       "6  disgust      speech  audio only    strong      1   male   \n",
       "8  disgust      speech  audio only    strong      1   male   \n",
       "\n",
       "                         phrase  \\\n",
       "0  Dogs are sitting by the door   \n",
       "2  Kids are talking by the door   \n",
       "4  Kids are talking by the door   \n",
       "6  Dogs are sitting by the door   \n",
       "8  Dogs are sitting by the door   \n",
       "\n",
       "                                                path  \n",
       "0  /media/helemanc/OS/Users/i2CAT/Desktop/Dataset...  \n",
       "2  /media/helemanc/OS/Users/i2CAT/Desktop/Dataset...  \n",
       "4  /media/helemanc/OS/Users/i2CAT/Desktop/Dataset...  \n",
       "6  /media/helemanc/OS/Users/i2CAT/Desktop/Dataset...  \n",
       "8  /media/helemanc/OS/Users/i2CAT/Desktop/Dataset...  "
      ]
     },
     "execution_count": 11,
     "metadata": {},
     "output_type": "execute_result"
    }
   ],
   "source": [
    "df.head()"
   ]
  },
  {
   "cell_type": "code",
   "execution_count": 12,
   "id": "2034edbc-c247-44dd-a8d5-ea1b35a01daf",
   "metadata": {},
   "outputs": [],
   "source": [
    "# only speech\n",
    "RAV_df = df\n",
    "RAV_df = RAV_df.loc[RAV_df.voc_channel == 'speech']"
   ]
  },
  {
   "cell_type": "code",
   "execution_count": 13,
   "id": "6bda41a6-faff-407e-9251-fcef17468133",
   "metadata": {},
   "outputs": [],
   "source": [
    "RAV_df.insert(0, \"emotion_label\", RAV_df.emotion, True)"
   ]
  },
  {
   "cell_type": "code",
   "execution_count": 14,
   "id": "6a4d4c48-d68c-4cc9-82be-ede117dde231",
   "metadata": {},
   "outputs": [],
   "source": [
    "RAV_df = RAV_df.drop(['emotion', 'voc_channel', 'modality', 'intensity', 'phrase'], 1)"
   ]
  },
  {
   "cell_type": "code",
   "execution_count": 15,
   "id": "71a21e43-9488-4498-94a3-e035460cf20b",
   "metadata": {
    "tags": []
   },
   "outputs": [
    {
     "data": {
      "text/html": [
       "<div>\n",
       "<style scoped>\n",
       "    .dataframe tbody tr th:only-of-type {\n",
       "        vertical-align: middle;\n",
       "    }\n",
       "\n",
       "    .dataframe tbody tr th {\n",
       "        vertical-align: top;\n",
       "    }\n",
       "\n",
       "    .dataframe thead th {\n",
       "        text-align: right;\n",
       "    }\n",
       "</style>\n",
       "<table border=\"1\" class=\"dataframe\">\n",
       "  <thead>\n",
       "    <tr style=\"text-align: right;\">\n",
       "      <th></th>\n",
       "      <th>emotion_label</th>\n",
       "      <th>actors</th>\n",
       "      <th>gender</th>\n",
       "      <th>path</th>\n",
       "    </tr>\n",
       "  </thead>\n",
       "  <tbody>\n",
       "    <tr>\n",
       "      <th>0</th>\n",
       "      <td>disgust</td>\n",
       "      <td>1</td>\n",
       "      <td>male</td>\n",
       "      <td>/media/helemanc/OS/Users/i2CAT/Desktop/Dataset...</td>\n",
       "    </tr>\n",
       "    <tr>\n",
       "      <th>2</th>\n",
       "      <td>disgust</td>\n",
       "      <td>1</td>\n",
       "      <td>male</td>\n",
       "      <td>/media/helemanc/OS/Users/i2CAT/Desktop/Dataset...</td>\n",
       "    </tr>\n",
       "    <tr>\n",
       "      <th>4</th>\n",
       "      <td>disgust</td>\n",
       "      <td>1</td>\n",
       "      <td>male</td>\n",
       "      <td>/media/helemanc/OS/Users/i2CAT/Desktop/Dataset...</td>\n",
       "    </tr>\n",
       "    <tr>\n",
       "      <th>6</th>\n",
       "      <td>disgust</td>\n",
       "      <td>1</td>\n",
       "      <td>male</td>\n",
       "      <td>/media/helemanc/OS/Users/i2CAT/Desktop/Dataset...</td>\n",
       "    </tr>\n",
       "    <tr>\n",
       "      <th>8</th>\n",
       "      <td>disgust</td>\n",
       "      <td>1</td>\n",
       "      <td>male</td>\n",
       "      <td>/media/helemanc/OS/Users/i2CAT/Desktop/Dataset...</td>\n",
       "    </tr>\n",
       "    <tr>\n",
       "      <th>...</th>\n",
       "      <td>...</td>\n",
       "      <td>...</td>\n",
       "      <td>...</td>\n",
       "      <td>...</td>\n",
       "    </tr>\n",
       "    <tr>\n",
       "      <th>2871</th>\n",
       "      <td>neutral</td>\n",
       "      <td>24</td>\n",
       "      <td>female</td>\n",
       "      <td>/media/helemanc/OS/Users/i2CAT/Desktop/Dataset...</td>\n",
       "    </tr>\n",
       "    <tr>\n",
       "      <th>2873</th>\n",
       "      <td>neutral</td>\n",
       "      <td>24</td>\n",
       "      <td>female</td>\n",
       "      <td>/media/helemanc/OS/Users/i2CAT/Desktop/Dataset...</td>\n",
       "    </tr>\n",
       "    <tr>\n",
       "      <th>2875</th>\n",
       "      <td>neutral</td>\n",
       "      <td>24</td>\n",
       "      <td>female</td>\n",
       "      <td>/media/helemanc/OS/Users/i2CAT/Desktop/Dataset...</td>\n",
       "    </tr>\n",
       "    <tr>\n",
       "      <th>2877</th>\n",
       "      <td>neutral</td>\n",
       "      <td>24</td>\n",
       "      <td>female</td>\n",
       "      <td>/media/helemanc/OS/Users/i2CAT/Desktop/Dataset...</td>\n",
       "    </tr>\n",
       "    <tr>\n",
       "      <th>2879</th>\n",
       "      <td>neutral</td>\n",
       "      <td>24</td>\n",
       "      <td>female</td>\n",
       "      <td>/media/helemanc/OS/Users/i2CAT/Desktop/Dataset...</td>\n",
       "    </tr>\n",
       "  </tbody>\n",
       "</table>\n",
       "<p>1440 rows × 4 columns</p>\n",
       "</div>"
      ],
      "text/plain": [
       "     emotion_label actors  gender  \\\n",
       "0          disgust      1    male   \n",
       "2          disgust      1    male   \n",
       "4          disgust      1    male   \n",
       "6          disgust      1    male   \n",
       "8          disgust      1    male   \n",
       "...            ...    ...     ...   \n",
       "2871       neutral     24  female   \n",
       "2873       neutral     24  female   \n",
       "2875       neutral     24  female   \n",
       "2877       neutral     24  female   \n",
       "2879       neutral     24  female   \n",
       "\n",
       "                                                   path  \n",
       "0     /media/helemanc/OS/Users/i2CAT/Desktop/Dataset...  \n",
       "2     /media/helemanc/OS/Users/i2CAT/Desktop/Dataset...  \n",
       "4     /media/helemanc/OS/Users/i2CAT/Desktop/Dataset...  \n",
       "6     /media/helemanc/OS/Users/i2CAT/Desktop/Dataset...  \n",
       "8     /media/helemanc/OS/Users/i2CAT/Desktop/Dataset...  \n",
       "...                                                 ...  \n",
       "2871  /media/helemanc/OS/Users/i2CAT/Desktop/Dataset...  \n",
       "2873  /media/helemanc/OS/Users/i2CAT/Desktop/Dataset...  \n",
       "2875  /media/helemanc/OS/Users/i2CAT/Desktop/Dataset...  \n",
       "2877  /media/helemanc/OS/Users/i2CAT/Desktop/Dataset...  \n",
       "2879  /media/helemanc/OS/Users/i2CAT/Desktop/Dataset...  \n",
       "\n",
       "[1440 rows x 4 columns]"
      ]
     },
     "execution_count": 15,
     "metadata": {},
     "output_type": "execute_result"
    }
   ],
   "source": [
    "RAV_df"
   ]
  },
  {
   "cell_type": "code",
   "execution_count": 16,
   "id": "c0cf4110-243d-4c67-aafb-a6da92c570d6",
   "metadata": {
    "tags": []
   },
   "outputs": [],
   "source": [
    "RAV_train = []\n",
    "RAV_val = []\n",
    "RAV_test = []"
   ]
  },
  {
   "cell_type": "code",
   "execution_count": 17,
   "id": "97b27caf-1fea-4107-8ce6-a44118aee84b",
   "metadata": {},
   "outputs": [
    {
     "data": {
      "text/plain": [
       "(1200, 120, 120)"
      ]
     },
     "execution_count": 17,
     "metadata": {},
     "output_type": "execute_result"
    }
   ],
   "source": [
    "for index, row in RAV_df.iterrows():\n",
    "    if row['actors'] in range(1,21): \n",
    "        RAV_train.append(row) \n",
    "    elif row['actors'] in range(21,23): \n",
    "        RAV_val.append(row)\n",
    "    elif row['actors'] in range(23,25): \n",
    "        RAV_test.append(row)\n",
    "len(RAV_train), len(RAV_val), len(RAV_test)"
   ]
  },
  {
   "cell_type": "code",
   "execution_count": 18,
   "id": "1a5b2f2d-8a70-44ae-8913-9723cebe3beb",
   "metadata": {},
   "outputs": [],
   "source": [
    "RAV_train = pd.DataFrame(RAV_train)\n",
    "RAV_val = pd.DataFrame(RAV_val)\n",
    "RAV_test = pd.DataFrame(RAV_test)"
   ]
  },
  {
   "cell_type": "code",
   "execution_count": 19,
   "id": "11ae49f9-0b8b-4d50-855d-6f77db2ceeb7",
   "metadata": {
    "tags": []
   },
   "outputs": [],
   "source": [
    "RAV_train = RAV_train.drop(['actors'], 1)\n",
    "RAV_val = RAV_val.drop(['actors'], 1)\n",
    "RAV_test = RAV_test.drop(['actors'], 1)"
   ]
  },
  {
   "cell_type": "code",
   "execution_count": 20,
   "id": "f590267d-be08-4394-874c-092e228dd39f",
   "metadata": {},
   "outputs": [],
   "source": [
    "RAV_train.reset_index(drop=True, inplace = True) \n",
    "RAV_val.reset_index(drop=True, inplace = True) \n",
    "RAV_test.reset_index(drop=True, inplace = True ) "
   ]
  },
  {
   "cell_type": "markdown",
   "id": "00febbee-d138-4205-a130-109ddea2e642",
   "metadata": {
    "tags": []
   },
   "source": [
    "## SAVEE"
   ]
  },
  {
   "cell_type": "code",
   "execution_count": 21,
   "id": "faa70f50-a449-42b0-a2b3-17c4f10c0ef8",
   "metadata": {},
   "outputs": [
    {
     "data": {
      "text/plain": [
       "neutral     120\n",
       "sadness      60\n",
       "surprise     60\n",
       "happy        60\n",
       "disgust      60\n",
       "fear         60\n",
       "angry        60\n",
       "Name: emotion_label, dtype: int64"
      ]
     },
     "execution_count": 21,
     "metadata": {},
     "output_type": "execute_result"
    }
   ],
   "source": [
    "# Get the data location for SAVEE\n",
    "dir_list = os.listdir(SAVEE)\n",
    "\n",
    "# parse the filename to get the emotions\n",
    "emotion=[]\n",
    "path = []\n",
    "actors = []\n",
    "gender = []\n",
    "for i in dir_list:\n",
    "    actors.append(i[:2])\n",
    "    if i[-8:-6]=='_a':\n",
    "        emotion.append('angry')\n",
    "        gender.append('male')\n",
    "    elif i[-8:-6]=='_d':\n",
    "        emotion.append('disgust')\n",
    "        gender.append('male')\n",
    "    elif i[-8:-6]=='_f':\n",
    "        emotion.append('fear')\n",
    "        gender.append('male')\n",
    "    elif i[-8:-6]=='_h':\n",
    "        emotion.append('happy')\n",
    "        gender.append('male')\n",
    "    elif i[-8:-6]=='_n':\n",
    "        emotion.append('neutral')\n",
    "        gender.append('male')\n",
    "    elif i[-8:-6]=='sa':\n",
    "        emotion.append('sadness')\n",
    "        gender.append('male')\n",
    "    elif i[-8:-6]=='su':\n",
    "        emotion.append('surprise')\n",
    "        gender.append('male') \n",
    "    else:\n",
    "        emotion.append('Unknown') \n",
    "    path.append(SAVEE + i)\n",
    "    \n",
    "# Now check out the label count distribution \n",
    "SAVEE_df = pd.DataFrame(emotion, columns = ['emotion_label'])\n",
    "                      \n",
    "SAVEE_df = pd.concat([SAVEE_df,\n",
    "                      pd.DataFrame(actors, columns = ['actors']),\n",
    "                      pd.DataFrame(gender, columns = ['gender']), \n",
    "                      pd.DataFrame(path, columns = ['path'])], axis = 1)\n",
    "SAVEE_df.emotion_label.value_counts()"
   ]
  },
  {
   "cell_type": "code",
   "execution_count": 22,
   "id": "beada9fb-b269-4f51-b09a-f152f4ebd587",
   "metadata": {},
   "outputs": [
    {
     "data": {
      "text/html": [
       "<div>\n",
       "<style scoped>\n",
       "    .dataframe tbody tr th:only-of-type {\n",
       "        vertical-align: middle;\n",
       "    }\n",
       "\n",
       "    .dataframe tbody tr th {\n",
       "        vertical-align: top;\n",
       "    }\n",
       "\n",
       "    .dataframe thead th {\n",
       "        text-align: right;\n",
       "    }\n",
       "</style>\n",
       "<table border=\"1\" class=\"dataframe\">\n",
       "  <thead>\n",
       "    <tr style=\"text-align: right;\">\n",
       "      <th></th>\n",
       "      <th>emotion_label</th>\n",
       "      <th>actors</th>\n",
       "      <th>gender</th>\n",
       "      <th>path</th>\n",
       "    </tr>\n",
       "  </thead>\n",
       "  <tbody>\n",
       "    <tr>\n",
       "      <th>0</th>\n",
       "      <td>neutral</td>\n",
       "      <td>DC</td>\n",
       "      <td>male</td>\n",
       "      <td>/media/helemanc/OS/Users/i2CAT/Desktop/Dataset...</td>\n",
       "    </tr>\n",
       "    <tr>\n",
       "      <th>1</th>\n",
       "      <td>sadness</td>\n",
       "      <td>KL</td>\n",
       "      <td>male</td>\n",
       "      <td>/media/helemanc/OS/Users/i2CAT/Desktop/Dataset...</td>\n",
       "    </tr>\n",
       "    <tr>\n",
       "      <th>2</th>\n",
       "      <td>sadness</td>\n",
       "      <td>KL</td>\n",
       "      <td>male</td>\n",
       "      <td>/media/helemanc/OS/Users/i2CAT/Desktop/Dataset...</td>\n",
       "    </tr>\n",
       "    <tr>\n",
       "      <th>3</th>\n",
       "      <td>sadness</td>\n",
       "      <td>KL</td>\n",
       "      <td>male</td>\n",
       "      <td>/media/helemanc/OS/Users/i2CAT/Desktop/Dataset...</td>\n",
       "    </tr>\n",
       "    <tr>\n",
       "      <th>4</th>\n",
       "      <td>sadness</td>\n",
       "      <td>KL</td>\n",
       "      <td>male</td>\n",
       "      <td>/media/helemanc/OS/Users/i2CAT/Desktop/Dataset...</td>\n",
       "    </tr>\n",
       "  </tbody>\n",
       "</table>\n",
       "</div>"
      ],
      "text/plain": [
       "  emotion_label actors gender  \\\n",
       "0       neutral     DC   male   \n",
       "1       sadness     KL   male   \n",
       "2       sadness     KL   male   \n",
       "3       sadness     KL   male   \n",
       "4       sadness     KL   male   \n",
       "\n",
       "                                                path  \n",
       "0  /media/helemanc/OS/Users/i2CAT/Desktop/Dataset...  \n",
       "1  /media/helemanc/OS/Users/i2CAT/Desktop/Dataset...  \n",
       "2  /media/helemanc/OS/Users/i2CAT/Desktop/Dataset...  \n",
       "3  /media/helemanc/OS/Users/i2CAT/Desktop/Dataset...  \n",
       "4  /media/helemanc/OS/Users/i2CAT/Desktop/Dataset...  "
      ]
     },
     "execution_count": 22,
     "metadata": {},
     "output_type": "execute_result"
    }
   ],
   "source": [
    "SAVEE_df.head()"
   ]
  },
  {
   "cell_type": "code",
   "execution_count": 23,
   "id": "adadc19a-555c-4884-9132-dc8664e8b4c9",
   "metadata": {},
   "outputs": [],
   "source": [
    "SAVEE_train = []\n",
    "SAVEE_val = []\n",
    "SAVEE_test = []"
   ]
  },
  {
   "cell_type": "code",
   "execution_count": 24,
   "id": "f06fbc3c-031e-4ae8-bc82-715c1376cf71",
   "metadata": {},
   "outputs": [
    {
     "data": {
      "text/plain": [
       "(240, 120, 120)"
      ]
     },
     "execution_count": 24,
     "metadata": {},
     "output_type": "execute_result"
    }
   ],
   "source": [
    "#DC, JE, JK, KL\n",
    "for index, row in SAVEE_df.iterrows(): \n",
    "    if row['actors'] == 'DC' or row ['actors'] == 'JE':\n",
    "        SAVEE_train.append(row)\n",
    "    elif row['actors'] == 'JK': \n",
    "        SAVEE_val.append(row)\n",
    "    else: \n",
    "        SAVEE_test.append(row)\n",
    "len(SAVEE_train), len(SAVEE_val), len(SAVEE_test)"
   ]
  },
  {
   "cell_type": "code",
   "execution_count": 25,
   "id": "d833db8d-9e13-42a4-bde1-85c89020badb",
   "metadata": {},
   "outputs": [],
   "source": [
    "SAVEE_train = pd.DataFrame(SAVEE_train)\n",
    "SAVEE_val = pd.DataFrame(SAVEE_val)\n",
    "SAVEE_test = pd.DataFrame(SAVEE_test)"
   ]
  },
  {
   "cell_type": "code",
   "execution_count": 26,
   "id": "913764a8-05e7-4551-9134-294768e2cbc9",
   "metadata": {},
   "outputs": [],
   "source": [
    "SAVEE_train = SAVEE_train.drop(['actors'], 1)\n",
    "SAVEE_val = SAVEE_val.drop(['actors'], 1)\n",
    "SAVEE_test = SAVEE_test.drop(['actors'], 1)"
   ]
  },
  {
   "cell_type": "code",
   "execution_count": 27,
   "id": "ba2983fb-6c70-402d-ad39-0a5189ea555a",
   "metadata": {
    "tags": []
   },
   "outputs": [],
   "source": [
    "SAVEE_train = SAVEE_train.reset_index(drop=True) \n",
    "SAVEE_val = SAVEE_val.reset_index(drop=True) \n",
    "SAVEE_test = SAVEE_test.reset_index(drop=True) "
   ]
  },
  {
   "cell_type": "markdown",
   "id": "f72e5631-4c17-4e32-9734-113fccfe1879",
   "metadata": {},
   "source": [
    "## TESS"
   ]
  },
  {
   "cell_type": "code",
   "execution_count": 28,
   "id": "4de28898-d9ad-4761-995d-f98f0fa50bfc",
   "metadata": {},
   "outputs": [
    {
     "data": {
      "text/plain": [
       "angry       1200\n",
       "fear         800\n",
       "surprise     800\n",
       "sadness      800\n",
       "disgust      800\n",
       "neutral      800\n",
       "happy        400\n",
       "Name: emotion_label, dtype: int64"
      ]
     },
     "execution_count": 28,
     "metadata": {},
     "output_type": "execute_result"
    }
   ],
   "source": [
    "dir_list = os.listdir(TESS)\n",
    "dir_list.sort()\n",
    "dir_list\n",
    "\n",
    "path = []\n",
    "emotion = []\n",
    "gender = []\n",
    "actors = []\n",
    "\n",
    "for i in dir_list:\n",
    "    fname = os.listdir(TESS + i)\n",
    "    for f in fname:\n",
    "        if i == 'OAF_angry':\n",
    "            emotion.append('angry')\n",
    "            gender.append('female')\n",
    "            actors.append('OAF')\n",
    "        elif i == 'YAF_angry': \n",
    "            emotion.append('angry')\n",
    "            gender.append('female')\n",
    "            actors.append('YAF')\n",
    "            \n",
    "            \n",
    "        elif i == 'OAF_disgust' :\n",
    "            emotion.append('disgust')\n",
    "            gender.append('female')\n",
    "            actors.append('OAF')\n",
    "        elif i == 'YAF_disgust': \n",
    "            emotion.append('disgust')\n",
    "            gender.append('female')\n",
    "            actors.append('YAF')\n",
    "            \n",
    "            \n",
    "        elif i == 'OAF_Fear':\n",
    "            emotion.append('fear')\n",
    "            gender.append('female')\n",
    "            actors.append('OAF')\n",
    "        elif i == 'YAF_fear': \n",
    "            emotion.append('fear')\n",
    "            gender.append('female')\n",
    "            actors.append('YAF') \n",
    "            \n",
    "            \n",
    "        elif i == 'OAF_happy' :\n",
    "            emotion.append('happy')\n",
    "            gender.append('female')\n",
    "            actors.append('OAF')\n",
    "        elif i == 'YAF_happy': \n",
    "            emotion.append('angry')\n",
    "            gender.append('female')\n",
    "            actors.append('YAF')            \n",
    "            \n",
    "        elif i == 'OAF_neutral':\n",
    "            emotion.append('neutral')\n",
    "            gender.append('female')\n",
    "            actors.append('OAF')   \n",
    "        elif i == 'YAF_neutral': \n",
    "            emotion.append('neutral')\n",
    "            gender.append('female')\n",
    "            actors.append('YAF')      \n",
    "            \n",
    "                \n",
    "        elif i == 'OAF_Pleasant_surprise':\n",
    "            emotion.append('surprise')\n",
    "            gender.append('female')\n",
    "            actors.append('OAF')\n",
    "        \n",
    "        elif i == 'YAF_pleasant_surprised': \n",
    "            emotion.append('surprise')\n",
    "            gender.append('female')\n",
    "            actors.append('YAF')            \n",
    "            \n",
    "        elif i == 'OAF_Sad':\n",
    "            emotion.append('sadness')\n",
    "            gender.append('female')\n",
    "            actors.append('OAF')\n",
    "        elif i == 'YAF_sad': \n",
    "            emotion.append('sadness')\n",
    "            gender.append('female')\n",
    "            actors.append('YAF')            \n",
    "        else:\n",
    "            emotion.append('Unknown')\n",
    "        path.append(TESS + i + \"/\" + f)\n",
    "\n",
    "TESS_df = pd.DataFrame(emotion, columns = ['emotion_label'])\n",
    "TESS_df = pd.concat([TESS_df, pd.DataFrame(gender, columns = ['gender']), \n",
    "                     pd.DataFrame(actors, columns= ['actors']),\n",
    "                     pd.DataFrame(path, columns = ['path'])],axis=1)\n",
    "TESS_df.emotion_label.value_counts()"
   ]
  },
  {
   "cell_type": "code",
   "execution_count": 29,
   "id": "ae01ce6d-6998-4a90-92ad-f776d3bfe493",
   "metadata": {
    "tags": []
   },
   "outputs": [],
   "source": [
    "TESS_df= TESS_df[~TESS_df.path.str.contains('noise')]"
   ]
  },
  {
   "cell_type": "code",
   "execution_count": 30,
   "id": "975b24b5-b4fa-436a-b291-60a6b59b7320",
   "metadata": {},
   "outputs": [],
   "source": [
    "TESS_train = []\n",
    "TESS_test = []"
   ]
  },
  {
   "cell_type": "code",
   "execution_count": 31,
   "id": "a6db4bc6-d698-4890-8196-09483ffe514b",
   "metadata": {},
   "outputs": [
    {
     "data": {
      "text/plain": [
       "(1400, 1400)"
      ]
     },
     "execution_count": 31,
     "metadata": {},
     "output_type": "execute_result"
    }
   ],
   "source": [
    "for index, row in TESS_df.iterrows(): \n",
    "    if row['actors'] == 'YAF': \n",
    "        TESS_train.append(row)\n",
    "    else: \n",
    "        TESS_test.append(row)\n",
    "len(TESS_train), len(TESS_test)"
   ]
  },
  {
   "cell_type": "code",
   "execution_count": 32,
   "id": "561e99d0-2b5a-4aef-bf76-7ef40fd9b72e",
   "metadata": {},
   "outputs": [],
   "source": [
    "TESS_train = pd.DataFrame(TESS_train)\n",
    "TESS_test = pd.DataFrame(TESS_test)"
   ]
  },
  {
   "cell_type": "code",
   "execution_count": 33,
   "id": "be392461-0cbb-4d8d-b798-a76619f0c346",
   "metadata": {},
   "outputs": [],
   "source": [
    "TESS_train = TESS_train.reset_index(drop=True) \n",
    "TESS_test  = TESS_test.reset_index(drop=True) "
   ]
  },
  {
   "cell_type": "markdown",
   "id": "d6df008f-a375-4e94-9016-270350484a6c",
   "metadata": {},
   "source": [
    "## CREMA-D"
   ]
  },
  {
   "cell_type": "code",
   "execution_count": 34,
   "id": "82dad3af-4df1-459e-b730-c2e9443b9ef6",
   "metadata": {
    "tags": []
   },
   "outputs": [],
   "source": [
    "males = [1,\n",
    "5,\n",
    "11,\n",
    "14,\n",
    "15,\n",
    "16,\n",
    "17,\n",
    "19,\n",
    "22,\n",
    "23,\n",
    "26,\n",
    "27,\n",
    "31,\n",
    "32,\n",
    "33,\n",
    "34,\n",
    "35,\n",
    "36,\n",
    "38,\n",
    "39,\n",
    "41,\n",
    "42,\n",
    "44,\n",
    "45,\n",
    "48,\n",
    "50,\n",
    "51,\n",
    "57,\n",
    "59, \n",
    "62, \n",
    "64,\n",
    "65, \n",
    "66,\n",
    "67,\n",
    "68,\n",
    "69,\n",
    "70,\n",
    "71,\n",
    "77, \n",
    "80, \n",
    "81, \n",
    "83, \n",
    "85, \n",
    "86, \n",
    "87,\n",
    "88, \n",
    "90]"
   ]
  },
  {
   "cell_type": "code",
   "execution_count": 35,
   "id": "abb03dd8-f97b-45fb-b6c2-5e3fd8a0c206",
   "metadata": {},
   "outputs": [],
   "source": [
    "females = [ 2,\n",
    "3,\n",
    "4,\n",
    "6,\n",
    "7,\n",
    "8,\n",
    "9,\n",
    "10,\n",
    "12,\n",
    "13,\n",
    "18,\n",
    "20,\n",
    "21,\n",
    "24,\n",
    "25,\n",
    "28,\n",
    "29,\n",
    "30,\n",
    "37,\n",
    "40,\n",
    "43,\n",
    "46,\n",
    "47,\n",
    "49,\n",
    "52,\n",
    "53,\n",
    "54,\n",
    "55,\n",
    "56, \n",
    "58, \n",
    "60,\n",
    "61,\n",
    "63,\n",
    "72, \n",
    "73, \n",
    "74, \n",
    "75, \n",
    "76, \n",
    "78, \n",
    "79, \n",
    "82, \n",
    "84, \n",
    "89, \n",
    "91]"
   ]
  },
  {
   "cell_type": "code",
   "execution_count": 36,
   "id": "3b94ff4d-d94f-44ab-8cdb-e91c03bec816",
   "metadata": {},
   "outputs": [
    {
     "data": {
      "text/html": [
       "<div>\n",
       "<style scoped>\n",
       "    .dataframe tbody tr th:only-of-type {\n",
       "        vertical-align: middle;\n",
       "    }\n",
       "\n",
       "    .dataframe tbody tr th {\n",
       "        vertical-align: top;\n",
       "    }\n",
       "\n",
       "    .dataframe thead th {\n",
       "        text-align: right;\n",
       "    }\n",
       "</style>\n",
       "<table border=\"1\" class=\"dataframe\">\n",
       "  <thead>\n",
       "    <tr style=\"text-align: right;\">\n",
       "      <th></th>\n",
       "      <th>emotion_label</th>\n",
       "      <th>actors</th>\n",
       "      <th>gender</th>\n",
       "      <th>path</th>\n",
       "    </tr>\n",
       "  </thead>\n",
       "  <tbody>\n",
       "    <tr>\n",
       "      <th>0</th>\n",
       "      <td>happy</td>\n",
       "      <td>91</td>\n",
       "      <td>female</td>\n",
       "      <td>/media/helemanc/OS/Users/i2CAT/Desktop/Dataset...</td>\n",
       "    </tr>\n",
       "    <tr>\n",
       "      <th>1</th>\n",
       "      <td>sadness</td>\n",
       "      <td>91</td>\n",
       "      <td>female</td>\n",
       "      <td>/media/helemanc/OS/Users/i2CAT/Desktop/Dataset...</td>\n",
       "    </tr>\n",
       "    <tr>\n",
       "      <th>2</th>\n",
       "      <td>angry</td>\n",
       "      <td>91</td>\n",
       "      <td>female</td>\n",
       "      <td>/media/helemanc/OS/Users/i2CAT/Desktop/Dataset...</td>\n",
       "    </tr>\n",
       "    <tr>\n",
       "      <th>3</th>\n",
       "      <td>disgust</td>\n",
       "      <td>91</td>\n",
       "      <td>female</td>\n",
       "      <td>/media/helemanc/OS/Users/i2CAT/Desktop/Dataset...</td>\n",
       "    </tr>\n",
       "    <tr>\n",
       "      <th>4</th>\n",
       "      <td>fear</td>\n",
       "      <td>91</td>\n",
       "      <td>female</td>\n",
       "      <td>/media/helemanc/OS/Users/i2CAT/Desktop/Dataset...</td>\n",
       "    </tr>\n",
       "  </tbody>\n",
       "</table>\n",
       "</div>"
      ],
      "text/plain": [
       "  emotion_label actors  gender  \\\n",
       "0         happy     91  female   \n",
       "1       sadness     91  female   \n",
       "2         angry     91  female   \n",
       "3       disgust     91  female   \n",
       "4          fear     91  female   \n",
       "\n",
       "                                                path  \n",
       "0  /media/helemanc/OS/Users/i2CAT/Desktop/Dataset...  \n",
       "1  /media/helemanc/OS/Users/i2CAT/Desktop/Dataset...  \n",
       "2  /media/helemanc/OS/Users/i2CAT/Desktop/Dataset...  \n",
       "3  /media/helemanc/OS/Users/i2CAT/Desktop/Dataset...  \n",
       "4  /media/helemanc/OS/Users/i2CAT/Desktop/Dataset...  "
      ]
     },
     "execution_count": 36,
     "metadata": {},
     "output_type": "execute_result"
    }
   ],
   "source": [
    "crema_directory_list = os.listdir(CREMA)\n",
    "\n",
    "file_emotion = []\n",
    "file_path = []\n",
    "actors = []\n",
    "gender = []\n",
    "\n",
    "\n",
    "\n",
    "\n",
    "for file in crema_directory_list:\n",
    "\n",
    "    # storing file emotions\n",
    "    part=file.split('_')\n",
    "    \n",
    "    # use only high intensity files\n",
    "    if \"HI\" in part[3] :\n",
    "        actor = part[0][2:]\n",
    "        actors.append(actor)\n",
    "        if int(actor) in males:\n",
    "            gender.append('male')\n",
    "        else: \n",
    "            gender.append('female')\n",
    "    \n",
    "        # storing file paths\n",
    "        file_path.append(CREMA + file)\n",
    "        if part[2] == 'SAD':\n",
    "            file_emotion.append('sadness')\n",
    "        elif part[2] == 'ANG':\n",
    "            file_emotion.append('angry')\n",
    "        elif part[2] == 'DIS':\n",
    "            file_emotion.append('disgust')\n",
    "        elif part[2] == 'FEA':\n",
    "            file_emotion.append('fear')\n",
    "        elif part[2] == 'HAP':\n",
    "            file_emotion.append('happy')\n",
    "        elif part[2] == 'NEU':\n",
    "            file_emotion.append('neutral')\n",
    "        else:\n",
    "            file_emotion.append('Unknown')\n",
    "\n",
    "# dataframe for emotion of files\n",
    "emotion_df = pd.DataFrame(file_emotion, columns=['emotion_label'])\n",
    "\n",
    "# dataframe for path of files.\n",
    "path_df = pd.DataFrame(file_path, columns=['path'])\n",
    "actors_df = pd.DataFrame(actors, columns=['actors'])\n",
    "gender_df = pd.DataFrame(gender, columns=['gender'])                      \n",
    "Crema_df = pd.concat([emotion_df, actors_df, gender_df, path_df], axis=1)\n",
    "Crema_df.head()"
   ]
  },
  {
   "cell_type": "code",
   "execution_count": 37,
   "id": "ecad7898-4352-4283-894d-8bd4f82df2d4",
   "metadata": {},
   "outputs": [
    {
     "data": {
      "text/plain": [
       "(455, 4)"
      ]
     },
     "execution_count": 37,
     "metadata": {},
     "output_type": "execute_result"
    }
   ],
   "source": [
    "Crema_df.shape"
   ]
  },
  {
   "cell_type": "code",
   "execution_count": 38,
   "id": "e02644b6-3ae2-464a-aa79-729611528643",
   "metadata": {},
   "outputs": [],
   "source": [
    "actor_files = {}\n",
    "\n",
    "for index, row in Crema_df.iterrows():\n",
    "    actor = row['actors']\n",
    "    if actor not in actor_files.keys(): \n",
    "        actor_files[actor] = 1\n",
    "    else: \n",
    "        actor_files[actor]+=1"
   ]
  },
  {
   "cell_type": "code",
   "execution_count": 39,
   "id": "302cc77c-d6e3-4444-bde2-492c6e79038f",
   "metadata": {},
   "outputs": [
    {
     "data": {
      "text/plain": [
       "{'91': 5,\n",
       " '90': 5,\n",
       " '89': 5,\n",
       " '88': 5,\n",
       " '87': 5,\n",
       " '86': 5,\n",
       " '85': 5,\n",
       " '84': 5,\n",
       " '83': 5,\n",
       " '82': 5,\n",
       " '81': 5,\n",
       " '80': 5,\n",
       " '79': 5,\n",
       " '78': 5,\n",
       " '77': 5,\n",
       " '76': 5,\n",
       " '75': 5,\n",
       " '74': 5,\n",
       " '73': 5,\n",
       " '72': 5,\n",
       " '71': 5,\n",
       " '70': 5,\n",
       " '69': 5,\n",
       " '68': 5,\n",
       " '67': 5,\n",
       " '66': 5,\n",
       " '65': 5,\n",
       " '64': 5,\n",
       " '63': 5,\n",
       " '62': 5,\n",
       " '61': 5,\n",
       " '60': 5,\n",
       " '59': 5,\n",
       " '58': 5,\n",
       " '57': 5,\n",
       " '56': 5,\n",
       " '55': 5,\n",
       " '54': 5,\n",
       " '53': 5,\n",
       " '52': 5,\n",
       " '51': 5,\n",
       " '50': 5,\n",
       " '49': 5,\n",
       " '48': 5,\n",
       " '47': 5,\n",
       " '46': 5,\n",
       " '45': 5,\n",
       " '44': 5,\n",
       " '43': 5,\n",
       " '42': 5,\n",
       " '41': 5,\n",
       " '40': 5,\n",
       " '39': 5,\n",
       " '38': 5,\n",
       " '37': 5,\n",
       " '36': 5,\n",
       " '35': 5,\n",
       " '34': 5,\n",
       " '33': 5,\n",
       " '32': 5,\n",
       " '31': 5,\n",
       " '30': 5,\n",
       " '29': 5,\n",
       " '28': 5,\n",
       " '27': 5,\n",
       " '26': 5,\n",
       " '25': 5,\n",
       " '24': 5,\n",
       " '23': 5,\n",
       " '22': 5,\n",
       " '21': 5,\n",
       " '20': 5,\n",
       " '19': 5,\n",
       " '18': 5,\n",
       " '17': 5,\n",
       " '16': 5,\n",
       " '15': 5,\n",
       " '14': 5,\n",
       " '13': 5,\n",
       " '12': 5,\n",
       " '11': 5,\n",
       " '10': 5,\n",
       " '09': 5,\n",
       " '08': 5,\n",
       " '07': 5,\n",
       " '06': 5,\n",
       " '05': 5,\n",
       " '04': 5,\n",
       " '03': 5,\n",
       " '02': 5,\n",
       " '01': 5}"
      ]
     },
     "execution_count": 39,
     "metadata": {},
     "output_type": "execute_result"
    }
   ],
   "source": [
    "actor_files"
   ]
  },
  {
   "cell_type": "code",
   "execution_count": 40,
   "id": "9a580676-36df-4612-80d9-80c55436977d",
   "metadata": {},
   "outputs": [],
   "source": [
    "count_males = 0 \n",
    "count_females = 0 \n",
    "male_list = []\n",
    "for index, row in Crema_df.iterrows(): \n",
    "    gender = row['gender']\n",
    "    actor = row['actors']\n",
    "    if gender == 'male':\n",
    "        count_males +=1\n",
    "        if actor not in male_list: \n",
    "            male_list.append(actor)\n",
    "    else: \n",
    "        count_females +=1"
   ]
  },
  {
   "cell_type": "code",
   "execution_count": 41,
   "id": "9d7fe4bb-08aa-4a15-9a35-9c52f0b22caa",
   "metadata": {},
   "outputs": [
    {
     "data": {
      "text/plain": [
       "(235, 220)"
      ]
     },
     "execution_count": 41,
     "metadata": {},
     "output_type": "execute_result"
    }
   ],
   "source": [
    "count_males, count_females"
   ]
  },
  {
   "cell_type": "markdown",
   "id": "289c6354-325e-4fb6-bd7d-f7167a0b58e7",
   "metadata": {},
   "source": [
    "Since there are more males than females we will remove randomly 3 male actors (since there are exactly 5 audio files per actor)"
   ]
  },
  {
   "cell_type": "code",
   "execution_count": 42,
   "id": "a8c23f99-66c6-4ade-9810-bb575b06c3ab",
   "metadata": {},
   "outputs": [
    {
     "data": {
      "text/plain": [
       "['17', '80', '88']"
      ]
     },
     "execution_count": 42,
     "metadata": {},
     "output_type": "execute_result"
    }
   ],
   "source": [
    "import random \n",
    "random.seed(42)\n",
    "males_to_remove = random.sample(male_list, 3)\n",
    "males_to_remove"
   ]
  },
  {
   "cell_type": "code",
   "execution_count": 43,
   "id": "4560489d-c0b0-4c13-9c20-a0a85e51ab7e",
   "metadata": {},
   "outputs": [],
   "source": [
    "new_df = []\n",
    "for index, row in Crema_df.iterrows(): \n",
    "    if row['actors'] not in males_to_remove: \n",
    "        new_df.append(row)"
   ]
  },
  {
   "cell_type": "code",
   "execution_count": 44,
   "id": "c90c9148-e178-44be-a2f4-425ab1730262",
   "metadata": {},
   "outputs": [],
   "source": [
    "CREMA_df = pd.DataFrame(new_df)"
   ]
  },
  {
   "cell_type": "code",
   "execution_count": 45,
   "id": "bd5cc96a-9f0e-41e2-83c8-4dafff44847f",
   "metadata": {},
   "outputs": [],
   "source": [
    "for index, row in CREMA_df.iterrows(): \n",
    "    if row['actors'] == '17': \n",
    "        print(\"Elements not removed\")"
   ]
  },
  {
   "cell_type": "code",
   "execution_count": 46,
   "id": "dd672c99-fce0-4b5f-b006-443308084c22",
   "metadata": {},
   "outputs": [],
   "source": [
    "count_males = 0 \n",
    "count_females = 0 \n",
    "male_list = []\n",
    "female_list = []\n",
    "for index, row in CREMA_df.iterrows(): \n",
    "    gender = row['gender']\n",
    "    actor = row['actors']\n",
    "    if gender == 'male':\n",
    "        count_males +=1\n",
    "        if actor not in male_list: \n",
    "            male_list.append(actor)\n",
    "    else: \n",
    "        count_females +=1\n",
    "        if actor not in female_list: \n",
    "            female_list.append(actor)"
   ]
  },
  {
   "cell_type": "code",
   "execution_count": 47,
   "id": "e005b737-1ac2-4158-be4c-c0334cfa41ca",
   "metadata": {},
   "outputs": [
    {
     "data": {
      "text/plain": [
       "(220, 220)"
      ]
     },
     "execution_count": 47,
     "metadata": {},
     "output_type": "execute_result"
    }
   ],
   "source": [
    "count_males, count_females"
   ]
  },
  {
   "cell_type": "code",
   "execution_count": 48,
   "id": "6c2c35ab-250c-476b-b4af-522f54106ff4",
   "metadata": {},
   "outputs": [
    {
     "data": {
      "text/plain": [
       "44"
      ]
     },
     "execution_count": 48,
     "metadata": {},
     "output_type": "execute_result"
    }
   ],
   "source": [
    "len(female_list)"
   ]
  },
  {
   "cell_type": "code",
   "execution_count": 49,
   "id": "6a371416-69b8-435b-aba1-573b319bac5f",
   "metadata": {},
   "outputs": [
    {
     "data": {
      "text/plain": [
       "44"
      ]
     },
     "execution_count": 49,
     "metadata": {},
     "output_type": "execute_result"
    }
   ],
   "source": [
    "len(male_list)"
   ]
  },
  {
   "cell_type": "code",
   "execution_count": 50,
   "id": "71f858fd-99e5-4e80-a986-60ed83bc1b4d",
   "metadata": {},
   "outputs": [],
   "source": [
    "CREMA_train = []\n",
    "CREMA_val = []\n",
    "CREMA_test = []"
   ]
  },
  {
   "cell_type": "code",
   "execution_count": 51,
   "id": "19305b4d-e680-4c31-9d6d-5200bdb3d89f",
   "metadata": {},
   "outputs": [],
   "source": [
    "females_train = random.sample(female_list, 32)\n",
    "males_train = random.sample(male_list, 32)\n",
    "\n",
    "# remove the elements assigned to train \n",
    "for element in females_train:\n",
    "    if element in female_list:\n",
    "        female_list.remove(element)\n",
    "        \n",
    "for element in males_train:\n",
    "    if element in male_list:\n",
    "        male_list.remove(element)\n",
    "\n",
    "         \n",
    "females_val = random.sample(female_list, 6) \n",
    "males_val = random.sample(male_list, 6) \n",
    "\n",
    "# remove the elements assigned to val\n",
    "for element in females_val:\n",
    "    if element in female_list:\n",
    "        female_list.remove(element)\n",
    "        \n",
    "for element in males_val:\n",
    "    if element in male_list:\n",
    "        male_list.remove(element)\n",
    "        \n",
    "females_test = random.sample(female_list, 6) \n",
    "males_test = random.sample(male_list, 6)        "
   ]
  },
  {
   "cell_type": "code",
   "execution_count": 52,
   "id": "18dd0f5b-209b-4294-8b1c-fef90a6bcdec",
   "metadata": {},
   "outputs": [
    {
     "data": {
      "text/plain": [
       "(['54',\n",
       "  '56',\n",
       "  '58',\n",
       "  '74',\n",
       "  '76',\n",
       "  '13',\n",
       "  '78',\n",
       "  '29',\n",
       "  '84',\n",
       "  '89',\n",
       "  '09',\n",
       "  '60',\n",
       "  '04',\n",
       "  '55',\n",
       "  '52',\n",
       "  '91',\n",
       "  '02',\n",
       "  '07',\n",
       "  '46',\n",
       "  '49',\n",
       "  '37',\n",
       "  '10',\n",
       "  '20',\n",
       "  '75',\n",
       "  '21',\n",
       "  '53',\n",
       "  '06',\n",
       "  '28',\n",
       "  '18',\n",
       "  '63',\n",
       "  '30',\n",
       "  '03'],\n",
       " ['57',\n",
       "  '69',\n",
       "  '65',\n",
       "  '45',\n",
       "  '77',\n",
       "  '81',\n",
       "  '41',\n",
       "  '15',\n",
       "  '44',\n",
       "  '23',\n",
       "  '59',\n",
       "  '86',\n",
       "  '34',\n",
       "  '01',\n",
       "  '85',\n",
       "  '66',\n",
       "  '31',\n",
       "  '33',\n",
       "  '05',\n",
       "  '48',\n",
       "  '50',\n",
       "  '67',\n",
       "  '51',\n",
       "  '22',\n",
       "  '36',\n",
       "  '87',\n",
       "  '71',\n",
       "  '39',\n",
       "  '42',\n",
       "  '11',\n",
       "  '32',\n",
       "  '14'],\n",
       " ['43', '61', '40', '47', '73', '24'],\n",
       " ['62', '68', '64', '83', '70', '26'],\n",
       " ['08', '79', '12', '25', '72', '82'],\n",
       " ['16', '19', '38', '35', '27', '90'])"
      ]
     },
     "execution_count": 52,
     "metadata": {},
     "output_type": "execute_result"
    }
   ],
   "source": [
    "females_train, males_train, females_val, males_val, females_test, males_test"
   ]
  },
  {
   "cell_type": "code",
   "execution_count": 53,
   "id": "4a7cda46-8e3b-4932-b48a-3379491194e8",
   "metadata": {},
   "outputs": [],
   "source": [
    "train = females_train + males_train \n",
    "val = females_val + males_val \n",
    "test = females_test + males_test"
   ]
  },
  {
   "cell_type": "code",
   "execution_count": 54,
   "id": "18293a8d-844f-489f-b8cb-ecc7c2d98503",
   "metadata": {
    "tags": []
   },
   "outputs": [],
   "source": [
    "for index, row in CREMA_df.iterrows(): \n",
    "    gender = row['gender']\n",
    "    actor = row['actors']\n",
    "    if actor in train: \n",
    "        CREMA_train.append(row)\n",
    "    elif actor in val: \n",
    "        CREMA_val.append(row)\n",
    "    else:\n",
    "        CREMA_test.append(row)"
   ]
  },
  {
   "cell_type": "code",
   "execution_count": 55,
   "id": "16717674-670b-4ae6-b1e8-f832929f303c",
   "metadata": {},
   "outputs": [],
   "source": [
    "CREMA_train = pd.DataFrame(CREMA_train) \n",
    "CREMA_val = pd.DataFrame(CREMA_val) \n",
    "CREMA_test = pd.DataFrame(CREMA_test)"
   ]
  },
  {
   "cell_type": "code",
   "execution_count": 56,
   "id": "273b73dd-994f-4e83-bb86-b98799927607",
   "metadata": {
    "tags": []
   },
   "outputs": [
    {
     "data": {
      "text/plain": [
       "((320, 4), (60, 4), (60, 4))"
      ]
     },
     "execution_count": 56,
     "metadata": {},
     "output_type": "execute_result"
    }
   ],
   "source": [
    "CREMA_train.shape, CREMA_val.shape, CREMA_test.shape"
   ]
  },
  {
   "cell_type": "code",
   "execution_count": 57,
   "id": "062a1962-1b48-4377-b11f-b9d26b2bae72",
   "metadata": {
    "tags": []
   },
   "outputs": [],
   "source": [
    "CREMA_train = CREMA_train.reset_index(drop=True) \n",
    "CREMA_val = CREMA_val.reset_index(drop = True) "
   ]
  },
  {
   "cell_type": "markdown",
   "id": "f18b3328-6ebd-4792-babd-b05e162d1e8d",
   "metadata": {},
   "source": [
    "# Random Search parameters"
   ]
  },
  {
   "cell_type": "code",
   "execution_count": 58,
   "id": "c0ee4e4d-e9ee-4cd4-a62e-aa8976cc9284",
   "metadata": {},
   "outputs": [],
   "source": [
    "param_grid_clf = {'C': [0.1,1, 10, 100], 'kernel': ['rbf',  'linear']}\n",
    "svc = SVC()"
   ]
  },
  {
   "cell_type": "markdown",
   "id": "5a903ab6-3e28-42ea-8e2e-1728da74177b",
   "metadata": {
    "tags": []
   },
   "source": [
    "# Experiment 1.1 : RAVDESS"
   ]
  },
  {
   "cell_type": "code",
   "execution_count": 59,
   "id": "7113e3c8-d3b4-4acb-9870-2d292257fef6",
   "metadata": {
    "tags": []
   },
   "outputs": [],
   "source": [
    "df_train = RAV_train\n",
    "df_val = RAV_val\n",
    "df_test = RAV_test"
   ]
  },
  {
   "cell_type": "code",
   "execution_count": 60,
   "id": "a48ce802-d076-461b-b637-9404149250c7",
   "metadata": {
    "tags": []
   },
   "outputs": [],
   "source": [
    "df_train.reset_index(drop = True, inplace = True) \n",
    "df_val.reset_index(drop = True, inplace = True)\n",
    "df_test.reset_index(drop = True, inplace = True)"
   ]
  },
  {
   "cell_type": "markdown",
   "id": "e29597e4-a464-4c2f-8266-7445a6659a3e",
   "metadata": {
    "tags": []
   },
   "source": [
    "## Feature Extraction"
   ]
  },
  {
   "cell_type": "code",
   "execution_count": 61,
   "id": "9ba75283-1e94-487e-a565-ce2e6b37f36f",
   "metadata": {
    "tags": []
   },
   "outputs": [
    {
     "name": "stderr",
     "output_type": "stream",
     "text": [
      "100%|██████████████████████████████████████| 1200/1200 [00:02<00:00, 526.86it/s]\n",
      "100%|███████████████████████████████████████| 1200/1200 [00:33<00:00, 35.41it/s]\n",
      "100%|██████████████████████████████████████| 1200/1200 [00:01<00:00, 775.19it/s]\n",
      "100%|███████████████████████████████████████| 120/120 [00:00<00:00, 1329.86it/s]\n",
      "100%|█████████████████████████████████████████| 120/120 [00:05<00:00, 23.31it/s]\n",
      "100%|████████████████████████████████████████| 120/120 [00:00<00:00, 627.12it/s]\n",
      "100%|███████████████████████████████████████| 120/120 [00:00<00:00, 1120.61it/s]\n",
      "100%|█████████████████████████████████████████| 120/120 [00:02<00:00, 43.61it/s]\n",
      "100%|████████████████████████████████████████| 120/120 [00:00<00:00, 796.41it/s]\n"
     ]
    }
   ],
   "source": [
    "X_train, y_train, X_val, y_val, X_test, y_test = feature_extractor(df_train, df_val, df_test, 26)"
   ]
  },
  {
   "cell_type": "code",
   "execution_count": 62,
   "id": "1f01d2f7-256b-41f1-845f-b0b07f03e874",
   "metadata": {},
   "outputs": [],
   "source": [
    "y_train, y_val, y_test = encode_labels(y_train, y_val, y_test)"
   ]
  },
  {
   "cell_type": "code",
   "execution_count": 63,
   "id": "ca7fd0c9-1c52-455b-bdf9-86ef31fe3b21",
   "metadata": {},
   "outputs": [
    {
     "data": {
      "text/plain": [
       "120"
      ]
     },
     "execution_count": 63,
     "metadata": {},
     "output_type": "execute_result"
    }
   ],
   "source": [
    "np.size(y_val)"
   ]
  },
  {
   "cell_type": "code",
   "execution_count": 64,
   "id": "7cee3df9-47b4-411a-b7a5-fd0f88fe0ea7",
   "metadata": {},
   "outputs": [],
   "source": [
    "X_train, X_val, X_test = standard_scaling(X_train, X_val, X_test)"
   ]
  },
  {
   "cell_type": "code",
   "execution_count": 65,
   "id": "0ce96edd-c284-481d-9528-a78c35602ec8",
   "metadata": {},
   "outputs": [
    {
     "data": {
      "text/plain": [
       "(1200, 26)"
      ]
     },
     "execution_count": 65,
     "metadata": {},
     "output_type": "execute_result"
    }
   ],
   "source": [
    "X_train.shape"
   ]
  },
  {
   "cell_type": "code",
   "execution_count": 66,
   "id": "578f0f6e-d166-4c01-93e5-7c34cad4589c",
   "metadata": {},
   "outputs": [
    {
     "data": {
      "text/plain": [
       "26"
      ]
     },
     "execution_count": 66,
     "metadata": {},
     "output_type": "execute_result"
    }
   ],
   "source": [
    "len(X_train[0])"
   ]
  },
  {
   "cell_type": "code",
   "execution_count": 67,
   "id": "07416577-0363-417e-9afa-8f649f0afd58",
   "metadata": {},
   "outputs": [
    {
     "data": {
      "text/plain": [
       "(1200,)"
      ]
     },
     "execution_count": 67,
     "metadata": {},
     "output_type": "execute_result"
    }
   ],
   "source": [
    "y_train.shape"
   ]
  },
  {
   "cell_type": "markdown",
   "id": "a5b83f5f-3107-49f5-81ff-1209b6a2c0c8",
   "metadata": {},
   "source": [
    "## Shuffle training data"
   ]
  },
  {
   "cell_type": "code",
   "execution_count": 68,
   "id": "aa60917a-7681-435b-a28c-29c556453652",
   "metadata": {},
   "outputs": [],
   "source": [
    "from sklearn.utils import shuffle\n",
    "X_train, y_train = shuffle(X_train, y_train)"
   ]
  },
  {
   "cell_type": "markdown",
   "id": "3396bda4-6cd0-4a39-a44e-8ecdc3f927c3",
   "metadata": {
    "tags": []
   },
   "source": [
    "## Hypeparameter optimization"
   ]
  },
  {
   "cell_type": "code",
   "execution_count": 69,
   "id": "8a1ef370-d2e3-4811-9982-8a2132e27829",
   "metadata": {},
   "outputs": [],
   "source": [
    "# classweight \n",
    "from sklearn.utils import class_weight\n",
    "class_weights = class_weight.compute_class_weight('balanced', np.unique(y_train), y_train)\n",
    "class_weights = {l:c for l,c in zip(np.unique(y_train), class_weights)}"
   ]
  },
  {
   "cell_type": "code",
   "execution_count": 70,
   "id": "e45e86d4-734b-4f1e-a000-9bcc860c7610",
   "metadata": {},
   "outputs": [],
   "source": [
    "rand_search = RandomizedSearchCV(estimator=svc, \n",
    "                                 param_distributions=param_grid_clf, \n",
    "                                 n_jobs = -1, \n",
    "                                 cv=KFold(3))"
   ]
  },
  {
   "cell_type": "code",
   "execution_count": 71,
   "id": "695259c2-e26a-493d-be2f-cd2ecfd93bc2",
   "metadata": {},
   "outputs": [
    {
     "name": "stdout",
     "output_type": "stream",
     "text": [
      "Performing Randomized Search...\n",
      "\n",
      "Done in 6.880s\n",
      "\n"
     ]
    }
   ],
   "source": [
    "print(\"Performing Randomized Search...\")\n",
    "t0 = time()\n",
    "rand_search.fit(X_train, y_train) \n",
    "print(\"\\nDone in %0.3fs\" % (time()-t0))\n",
    "print() "
   ]
  },
  {
   "cell_type": "code",
   "execution_count": 72,
   "id": "ebc88b7e-cd88-4f0f-971e-2a2bac5b1207",
   "metadata": {},
   "outputs": [
    {
     "data": {
      "text/plain": [
       "{'kernel': 'rbf', 'C': 10}"
      ]
     },
     "execution_count": 72,
     "metadata": {},
     "output_type": "execute_result"
    }
   ],
   "source": [
    "best_params = rand_search.best_params_\n",
    "best_clf = rand_search.best_estimator_\n",
    "best_params"
   ]
  },
  {
   "cell_type": "code",
   "execution_count": 73,
   "id": "781a6370-0a98-4f8f-8607-2efeeb9d28e1",
   "metadata": {},
   "outputs": [
    {
     "data": {
      "text/plain": [
       "SVC(C=10, class_weight={0: 1.0714285714285714, 1: 0.9375})"
      ]
     },
     "execution_count": 73,
     "metadata": {},
     "output_type": "execute_result"
    }
   ],
   "source": [
    "best_clf =  SVC(C=best_params.get('C'), kernel=best_params.get('kernel'), class_weight=class_weights)\n",
    "best_clf.fit(X_train, y_train)"
   ]
  },
  {
   "cell_type": "markdown",
   "id": "7bff60a2-db41-4d4d-bab0-cf60ca79188e",
   "metadata": {},
   "source": [
    "## Testing"
   ]
  },
  {
   "cell_type": "code",
   "execution_count": 74,
   "id": "37d5c36d-c20e-4072-8cfb-30a124e63da4",
   "metadata": {},
   "outputs": [
    {
     "name": "stdout",
     "output_type": "stream",
     "text": [
      "Testing...\n",
      "Accuracy: 0.65\n"
     ]
    }
   ],
   "source": [
    "print(\"Testing...\")\n",
    "pred = best_clf.predict(X_test) \n",
    "accuracy = best_clf.score(X_test, y_test) \n",
    "print(\"Accuracy: %s\" %str(accuracy))"
   ]
  },
  {
   "cell_type": "markdown",
   "id": "02a965bb-4a08-4a67-b3b4-7be1c0bfd161",
   "metadata": {},
   "source": [
    "## Save best model "
   ]
  },
  {
   "cell_type": "code",
   "execution_count": 75,
   "id": "28565379-d61c-4cef-bbeb-35c14140b5d7",
   "metadata": {},
   "outputs": [],
   "source": [
    "pkl_filename = \"/home/helemanc/Desktop/Binary_Model/models_experiments/Experiment_8/model_8_1.pkl\"\n",
    "with open(pkl_filename, 'wb') as file:\n",
    "    pickle.dump(best_clf, file)"
   ]
  },
  {
   "cell_type": "code",
   "execution_count": 76,
   "id": "5ee841fb-6bc3-449c-bfe0-53895f5ebbbb",
   "metadata": {
    "tags": []
   },
   "outputs": [
    {
     "data": {
      "text/plain": [
       "\"\\n# Load from file\\nwith open(pkl_filename, 'rb') as file:\\n    pickle_model = pickle.load(file)\\n\""
      ]
     },
     "execution_count": 76,
     "metadata": {},
     "output_type": "execute_result"
    }
   ],
   "source": [
    "'''\n",
    "# Load from file\n",
    "with open(pkl_filename, 'rb') as file:\n",
    "    pickle_model = pickle.load(file)\n",
    "'''"
   ]
  },
  {
   "cell_type": "markdown",
   "id": "979209ed-c942-47f9-9481-8c9dcf83ce01",
   "metadata": {},
   "source": [
    "# Experiment 1.2 : RAVDESS noise"
   ]
  },
  {
   "cell_type": "markdown",
   "id": "61e2f6db-f15a-49d8-9ed0-ea117e34144a",
   "metadata": {
    "tags": []
   },
   "source": [
    "## Read dataframes"
   ]
  },
  {
   "cell_type": "code",
   "execution_count": 77,
   "id": "4eb77255-42fe-41a4-a477-62e95bc10bd6",
   "metadata": {
    "tags": []
   },
   "outputs": [],
   "source": [
    "preprocess_path = \"/home/helemanc/Desktop/Binary_Model/df_csv_noise/ravdess\"\n",
    "df_train = pd.read_csv(os.path.join(preprocess_path,\"df_train.csv\"))\n",
    "df_val = pd.read_csv(os.path.join(preprocess_path,\"df_val.csv\"))\n",
    "df_test = pd.read_csv(os.path.join(preprocess_path,\"df_test.csv\"))  "
   ]
  },
  {
   "cell_type": "markdown",
   "id": "df6b13ca-1808-46b8-9153-3d6adfb073f5",
   "metadata": {},
   "source": [
    "## Feature Extraction"
   ]
  },
  {
   "cell_type": "code",
   "execution_count": 78,
   "id": "85873cb7-76ff-4686-af10-57e8f829cf4f",
   "metadata": {},
   "outputs": [
    {
     "name": "stderr",
     "output_type": "stream",
     "text": [
      "100%|█████████████████████████████████████| 2400/2400 [00:01<00:00, 1251.00it/s]\n",
      "100%|███████████████████████████████████████| 2400/2400 [00:40<00:00, 58.67it/s]\n",
      "100%|█████████████████████████████████████| 2400/2400 [00:01<00:00, 1598.21it/s]\n",
      "100%|███████████████████████████████████████| 120/120 [00:00<00:00, 2134.21it/s]\n",
      "100%|█████████████████████████████████████████| 120/120 [00:01<00:00, 60.90it/s]\n",
      "100%|████████████████████████████████████████| 120/120 [00:00<00:00, 694.44it/s]\n",
      "100%|███████████████████████████████████████| 120/120 [00:00<00:00, 1786.45it/s]\n",
      "100%|█████████████████████████████████████████| 120/120 [00:01<00:00, 66.15it/s]\n",
      "100%|████████████████████████████████████████| 120/120 [00:00<00:00, 793.22it/s]\n"
     ]
    }
   ],
   "source": [
    "X_train, y_train, X_val, y_val, X_test, y_test = feature_extractor(df_train, df_val, df_test, 26) # 13"
   ]
  },
  {
   "cell_type": "code",
   "execution_count": 79,
   "id": "dbb7d15a-bb75-442f-9a15-a7a426d14dfc",
   "metadata": {},
   "outputs": [],
   "source": [
    "y_train, y_val, y_test = encode_labels(y_train, y_val, y_test)"
   ]
  },
  {
   "cell_type": "code",
   "execution_count": 80,
   "id": "f4049d3c-9bfc-4ce1-afcc-3b5849da91c0",
   "metadata": {},
   "outputs": [
    {
     "data": {
      "text/plain": [
       "120"
      ]
     },
     "execution_count": 80,
     "metadata": {},
     "output_type": "execute_result"
    }
   ],
   "source": [
    "np.size(y_val)"
   ]
  },
  {
   "cell_type": "code",
   "execution_count": 81,
   "id": "db133369-73e0-4659-a29c-919f64c1cdfb",
   "metadata": {},
   "outputs": [],
   "source": [
    "X_train, X_val, X_test = standard_scaling(X_train, X_val, X_test)"
   ]
  },
  {
   "cell_type": "code",
   "execution_count": 82,
   "id": "f57ed79a-62dd-4816-9012-37d00f26cedf",
   "metadata": {},
   "outputs": [
    {
     "data": {
      "text/plain": [
       "(2400, 26)"
      ]
     },
     "execution_count": 82,
     "metadata": {},
     "output_type": "execute_result"
    }
   ],
   "source": [
    "X_train.shape"
   ]
  },
  {
   "cell_type": "markdown",
   "id": "0babc08a-facf-480b-83a5-2431366e3b12",
   "metadata": {},
   "source": [
    "## Shuffle training data"
   ]
  },
  {
   "cell_type": "code",
   "execution_count": 83,
   "id": "780206a3-2187-4a1d-9b7f-688713a0bd40",
   "metadata": {},
   "outputs": [],
   "source": [
    "from sklearn.utils import shuffle\n",
    "X_train, y_train = shuffle(X_train, y_train)"
   ]
  },
  {
   "cell_type": "markdown",
   "id": "20072b7e-f4e9-4f0d-9c6e-1d8cc63732ba",
   "metadata": {
    "tags": []
   },
   "source": [
    "## Hypeparameter optimization"
   ]
  },
  {
   "cell_type": "code",
   "execution_count": 84,
   "id": "badaa23b-0034-49c4-b416-71a4ed6b450c",
   "metadata": {},
   "outputs": [],
   "source": [
    "# classweight \n",
    "from sklearn.utils import class_weight\n",
    "class_weights = class_weight.compute_class_weight('balanced', np.unique(y_train), y_train)\n",
    "class_weights = {l:c for l,c in zip(np.unique(y_train), class_weights)}"
   ]
  },
  {
   "cell_type": "code",
   "execution_count": 85,
   "id": "5acc927f-8077-43d1-9c22-1cc60dc04c12",
   "metadata": {},
   "outputs": [],
   "source": [
    "rand_search = RandomizedSearchCV(estimator=svc, \n",
    "                                 param_distributions=param_grid_clf, \n",
    "                                 n_jobs = -1, \n",
    "                                 cv=KFold(3))"
   ]
  },
  {
   "cell_type": "code",
   "execution_count": 86,
   "id": "c0133c4b-3cd2-4952-855f-c9899f726632",
   "metadata": {},
   "outputs": [
    {
     "name": "stdout",
     "output_type": "stream",
     "text": [
      "Performing Randomized Search...\n",
      "\n",
      "Done in 9.025s\n",
      "\n"
     ]
    }
   ],
   "source": [
    "print(\"Performing Randomized Search...\")\n",
    "t0 = time()\n",
    "rand_search.fit(X_train, y_train) \n",
    "print(\"\\nDone in %0.3fs\" % (time()-t0))\n",
    "print() "
   ]
  },
  {
   "cell_type": "code",
   "execution_count": 87,
   "id": "37a1c647-0f2c-4afb-97b2-624e7fbad8f0",
   "metadata": {},
   "outputs": [
    {
     "data": {
      "text/plain": [
       "{'kernel': 'rbf', 'C': 10}"
      ]
     },
     "execution_count": 87,
     "metadata": {},
     "output_type": "execute_result"
    }
   ],
   "source": [
    "best_params = rand_search.best_params_\n",
    "best_clf = rand_search.best_estimator_\n",
    "best_params"
   ]
  },
  {
   "cell_type": "code",
   "execution_count": 88,
   "id": "a20b1895-0eab-4a6f-96eb-bd64bda85975",
   "metadata": {},
   "outputs": [
    {
     "data": {
      "text/plain": [
       "SVC(C=10, class_weight={0: 1.0714285714285714, 1: 0.9375})"
      ]
     },
     "execution_count": 88,
     "metadata": {},
     "output_type": "execute_result"
    }
   ],
   "source": [
    "best_clf =  SVC(C=best_params.get('C'), kernel=best_params.get('kernel'), class_weight=class_weights)\n",
    "best_clf.fit(X_train, y_train)"
   ]
  },
  {
   "cell_type": "markdown",
   "id": "fb57ac01-73ef-44eb-b99b-cc6cb4c821ad",
   "metadata": {},
   "source": [
    "## Testing"
   ]
  },
  {
   "cell_type": "code",
   "execution_count": 89,
   "id": "06e50888-9109-4b2d-9bb4-b0179a37d157",
   "metadata": {},
   "outputs": [
    {
     "name": "stdout",
     "output_type": "stream",
     "text": [
      "Testing...\n",
      "Accuracy: 0.7\n"
     ]
    }
   ],
   "source": [
    "print(\"Testing...\")\n",
    "pred = best_clf.predict(X_test) \n",
    "accuracy = best_clf.score(X_test, y_test) \n",
    "print(\"Accuracy: %s\" %str(accuracy))"
   ]
  },
  {
   "cell_type": "markdown",
   "id": "9d95c7ad-4bb3-431f-b28b-2059734eaa65",
   "metadata": {},
   "source": [
    "## Save best model "
   ]
  },
  {
   "cell_type": "code",
   "execution_count": 90,
   "id": "3577df61-3509-4a37-ae06-f55f80caad13",
   "metadata": {},
   "outputs": [],
   "source": [
    "pkl_filename = \"/home/helemanc/Desktop/Binary_Model/models_experiments/Experiment_8/model_8_2.pkl\"\n",
    "with open(pkl_filename, 'wb') as file:\n",
    "    pickle.dump(best_clf, file)"
   ]
  },
  {
   "cell_type": "code",
   "execution_count": 91,
   "id": "b9654a80-f959-441a-91bb-d6a9c982c127",
   "metadata": {
    "tags": []
   },
   "outputs": [
    {
     "data": {
      "text/plain": [
       "\"\\n# Load from file\\nwith open(pkl_filename, 'rb') as file:\\n    pickle_model = pickle.load(file)\\n\""
      ]
     },
     "execution_count": 91,
     "metadata": {},
     "output_type": "execute_result"
    }
   ],
   "source": [
    "'''\n",
    "# Load from file\n",
    "with open(pkl_filename, 'rb') as file:\n",
    "    pickle_model = pickle.load(file)\n",
    "'''"
   ]
  },
  {
   "cell_type": "markdown",
   "id": "e8b9e31e-d5f0-42db-b833-a3ed12e31c4b",
   "metadata": {},
   "source": [
    "# Experiment 1.3: TESS"
   ]
  },
  {
   "cell_type": "code",
   "execution_count": 92,
   "id": "6a98fd89-1c91-49cf-85d0-a8239754824c",
   "metadata": {},
   "outputs": [],
   "source": [
    "df_train = TESS_train\n",
    "df_test = TESS_test"
   ]
  },
  {
   "cell_type": "code",
   "execution_count": 93,
   "id": "03a69b00-aa1a-4e8a-839d-d6bb109f301e",
   "metadata": {},
   "outputs": [],
   "source": [
    "df_train.reset_index(drop = True, inplace = True) \n",
    "df_test.reset_index(drop = True, inplace = True)"
   ]
  },
  {
   "cell_type": "markdown",
   "id": "125e0e01-b9c7-4979-bff2-ba3395cb950b",
   "metadata": {},
   "source": [
    "## Feature Extraction"
   ]
  },
  {
   "cell_type": "code",
   "execution_count": 94,
   "id": "a20c05e3-9aa9-450a-beb2-c257ca8a748c",
   "metadata": {
    "tags": []
   },
   "outputs": [
    {
     "name": "stderr",
     "output_type": "stream",
     "text": [
      "100%|███████████████████████████████████████| 1400/1400 [00:17<00:00, 81.86it/s]\n",
      "100%|███████████████████████████████████████| 1400/1400 [00:25<00:00, 54.93it/s]\n",
      "100%|█████████████████████████████████████| 1400/1400 [00:00<00:00, 1404.84it/s]\n",
      "100%|█████████████████████████████████████| 1400/1400 [00:01<00:00, 1349.50it/s]\n",
      "100%|███████████████████████████████████████| 1400/1400 [00:40<00:00, 34.84it/s]\n",
      "100%|██████████████████████████████████████| 1400/1400 [00:02<00:00, 699.17it/s]\n"
     ]
    }
   ],
   "source": [
    "X_train, y_train, X_test, y_test = feature_extractor_tess(df_train,  df_test, 26)"
   ]
  },
  {
   "cell_type": "code",
   "execution_count": 95,
   "id": "53155ab2-d542-4971-bf90-48a3f6c230c5",
   "metadata": {},
   "outputs": [],
   "source": [
    "y_train, y_test = encode_labels_tess(y_train, y_test)"
   ]
  },
  {
   "cell_type": "code",
   "execution_count": 96,
   "id": "1678140f-6657-4a36-93c1-49d6a9d57c40",
   "metadata": {},
   "outputs": [
    {
     "data": {
      "text/plain": [
       "1400"
      ]
     },
     "execution_count": 96,
     "metadata": {},
     "output_type": "execute_result"
    }
   ],
   "source": [
    "np.size(y_test)"
   ]
  },
  {
   "cell_type": "code",
   "execution_count": 97,
   "id": "3a2c5282-9bc0-43e9-b5be-f3a8ced7c834",
   "metadata": {},
   "outputs": [],
   "source": [
    "X_train, X_test = standard_scaling_tess(X_train,  X_test)"
   ]
  },
  {
   "cell_type": "code",
   "execution_count": 98,
   "id": "d51a3554-bd93-4113-b848-cfabe6b63e09",
   "metadata": {},
   "outputs": [
    {
     "data": {
      "text/plain": [
       "(1400, 26)"
      ]
     },
     "execution_count": 98,
     "metadata": {},
     "output_type": "execute_result"
    }
   ],
   "source": [
    "X_train.shape"
   ]
  },
  {
   "cell_type": "markdown",
   "id": "4de3fe09-dac5-4df6-8ef0-a36c9a46cc8d",
   "metadata": {},
   "source": [
    "## Shuffle training data"
   ]
  },
  {
   "cell_type": "code",
   "execution_count": 99,
   "id": "1843a03a-cbfd-43de-a153-37d423ab565c",
   "metadata": {},
   "outputs": [],
   "source": [
    "from sklearn.utils import shuffle\n",
    "X_train, y_train = shuffle(X_train, y_train)"
   ]
  },
  {
   "cell_type": "markdown",
   "id": "7f093acb-939f-442b-9ee8-be554977fa1b",
   "metadata": {
    "tags": []
   },
   "source": [
    "## Hypeparameter optimization"
   ]
  },
  {
   "cell_type": "code",
   "execution_count": 100,
   "id": "ab0a4669-76a6-4767-a0c0-6244b2249d7a",
   "metadata": {},
   "outputs": [],
   "source": [
    "# classweight \n",
    "from sklearn.utils import class_weight\n",
    "class_weights = class_weight.compute_class_weight('balanced', np.unique(y_train), y_train)\n",
    "class_weights = {l:c for l,c in zip(np.unique(y_train), class_weights)}"
   ]
  },
  {
   "cell_type": "code",
   "execution_count": 101,
   "id": "041eebd8-43d5-4cd2-83e4-b176fb9a8e81",
   "metadata": {},
   "outputs": [],
   "source": [
    "rand_search = RandomizedSearchCV(estimator=svc, \n",
    "                                 param_distributions=param_grid_clf, \n",
    "                                 n_jobs = -1, \n",
    "                                 cv=KFold(3))"
   ]
  },
  {
   "cell_type": "code",
   "execution_count": 102,
   "id": "219e629d-c0c6-4e0c-aaec-229105833c23",
   "metadata": {},
   "outputs": [
    {
     "name": "stdout",
     "output_type": "stream",
     "text": [
      "Performing Randomized Search...\n",
      "\n",
      "Done in 0.337s\n",
      "\n"
     ]
    }
   ],
   "source": [
    "print(\"Performing Randomized Search...\")\n",
    "t0 = time()\n",
    "rand_search.fit(X_train, y_train) \n",
    "print(\"\\nDone in %0.3fs\" % (time()-t0))\n",
    "print() "
   ]
  },
  {
   "cell_type": "code",
   "execution_count": 103,
   "id": "08c30b5b-1d95-446b-8e95-a3818b68e585",
   "metadata": {},
   "outputs": [
    {
     "data": {
      "text/plain": [
       "{'kernel': 'rbf', 'C': 1}"
      ]
     },
     "execution_count": 103,
     "metadata": {},
     "output_type": "execute_result"
    }
   ],
   "source": [
    "best_params = rand_search.best_params_\n",
    "best_clf = rand_search.best_estimator_\n",
    "best_params"
   ]
  },
  {
   "cell_type": "code",
   "execution_count": 104,
   "id": "feca15bb-fb8a-48ac-8915-02fe8cbd992b",
   "metadata": {},
   "outputs": [
    {
     "data": {
      "text/plain": [
       "SVC(C=1, class_weight={0: 1.75, 1: 0.7})"
      ]
     },
     "execution_count": 104,
     "metadata": {},
     "output_type": "execute_result"
    }
   ],
   "source": [
    "best_clf =  SVC(C=best_params.get('C'), kernel=best_params.get('kernel'), class_weight=class_weights)\n",
    "best_clf.fit(X_train, y_train)"
   ]
  },
  {
   "cell_type": "markdown",
   "id": "bb526b70-bdc7-442f-88f9-2670b633901f",
   "metadata": {},
   "source": [
    "## Testing"
   ]
  },
  {
   "cell_type": "code",
   "execution_count": 105,
   "id": "669ea9ec-69ee-4660-acd4-9bea7781590f",
   "metadata": {},
   "outputs": [
    {
     "name": "stdout",
     "output_type": "stream",
     "text": [
      "Testing...\n",
      "Accuracy: 0.5714285714285714\n"
     ]
    }
   ],
   "source": [
    "print(\"Testing...\")\n",
    "pred = best_clf.predict(X_test) \n",
    "accuracy = best_clf.score(X_test, y_test) \n",
    "print(\"Accuracy: %s\" %str(accuracy))"
   ]
  },
  {
   "cell_type": "markdown",
   "id": "7206662a-7e92-4532-897c-082650e41184",
   "metadata": {},
   "source": [
    "## Save best model "
   ]
  },
  {
   "cell_type": "code",
   "execution_count": 106,
   "id": "af29c073-79ef-4697-b53a-d524479eeec0",
   "metadata": {},
   "outputs": [],
   "source": [
    "pkl_filename = \"/home/helemanc/Desktop/Binary_Model/models_experiments/Experiment_8/model_8_3.pkl\"\n",
    "with open(pkl_filename, 'wb') as file:\n",
    "    pickle.dump(best_clf, file)"
   ]
  },
  {
   "cell_type": "code",
   "execution_count": 107,
   "id": "9c790166-2e14-4a5c-9adb-52c16ee39c33",
   "metadata": {
    "tags": []
   },
   "outputs": [
    {
     "data": {
      "text/plain": [
       "\"\\n# Load from file\\nwith open(pkl_filename, 'rb') as file:\\n    pickle_model = pickle.load(file)\\n\""
      ]
     },
     "execution_count": 107,
     "metadata": {},
     "output_type": "execute_result"
    }
   ],
   "source": [
    "'''\n",
    "# Load from file\n",
    "with open(pkl_filename, 'rb') as file:\n",
    "    pickle_model = pickle.load(file)\n",
    "'''"
   ]
  },
  {
   "cell_type": "markdown",
   "id": "50f91f1a-bcab-46ae-bd07-08e742697c55",
   "metadata": {},
   "source": [
    "# Experiment 1.4: TESS noise"
   ]
  },
  {
   "cell_type": "markdown",
   "id": "4257af7d-b83f-4b18-a424-1e6f971d974a",
   "metadata": {},
   "source": [
    "## Read dataframes"
   ]
  },
  {
   "cell_type": "code",
   "execution_count": 108,
   "id": "7b666c0c-b083-442a-a36c-adfb27eeaf8b",
   "metadata": {
    "tags": []
   },
   "outputs": [],
   "source": [
    "preprocess_path = \"/home/helemanc/Desktop/Binary_Model/df_csv_noise/tess\"\n",
    "df_train = pd.read_csv(os.path.join(preprocess_path,\"df_train.csv\"))\n",
    "df_test = pd.read_csv(os.path.join(preprocess_path,\"df_test.csv\"))  "
   ]
  },
  {
   "cell_type": "markdown",
   "id": "80cba7ce-1861-470a-871f-2b7606f6ec81",
   "metadata": {},
   "source": [
    "## Feature Extraction"
   ]
  },
  {
   "cell_type": "code",
   "execution_count": 109,
   "id": "f063aae1-f072-419c-8f79-3b771302b3aa",
   "metadata": {},
   "outputs": [
    {
     "name": "stderr",
     "output_type": "stream",
     "text": [
      "100%|███████████████████████████████████████| 2800/2800 [01:35<00:00, 29.25it/s]\n",
      "100%|███████████████████████████████████████| 2800/2800 [01:17<00:00, 36.14it/s]\n",
      "100%|█████████████████████████████████████| 2800/2800 [00:01<00:00, 1529.36it/s]\n",
      "100%|█████████████████████████████████████| 1400/1400 [00:00<00:00, 2095.49it/s]\n",
      "100%|███████████████████████████████████████| 1400/1400 [00:57<00:00, 24.49it/s]\n",
      "100%|██████████████████████████████████████| 1400/1400 [00:01<00:00, 895.95it/s]\n"
     ]
    }
   ],
   "source": [
    "X_train, y_train, X_test, y_test = feature_extractor_tess(df_train, df_test, 26) # 13"
   ]
  },
  {
   "cell_type": "code",
   "execution_count": 110,
   "id": "76b7f7bf-db44-4cd3-85b7-478a1565434a",
   "metadata": {},
   "outputs": [],
   "source": [
    "y_train,  y_test = encode_labels_tess(y_train,  y_test)"
   ]
  },
  {
   "cell_type": "code",
   "execution_count": 111,
   "id": "b3ef5299-61f3-4017-9ef8-186e4cb1fb61",
   "metadata": {},
   "outputs": [
    {
     "data": {
      "text/plain": [
       "2800"
      ]
     },
     "execution_count": 111,
     "metadata": {},
     "output_type": "execute_result"
    }
   ],
   "source": [
    "np.size(y_train)"
   ]
  },
  {
   "cell_type": "code",
   "execution_count": 112,
   "id": "bfb16b34-49e2-492e-8656-4b6d25fe4ea3",
   "metadata": {},
   "outputs": [],
   "source": [
    "X_train, X_test = standard_scaling_tess(X_train,  X_test)"
   ]
  },
  {
   "cell_type": "code",
   "execution_count": 113,
   "id": "c168520d-9fca-44a5-b38c-b0294d7c4f8e",
   "metadata": {},
   "outputs": [
    {
     "data": {
      "text/plain": [
       "(2800, 26)"
      ]
     },
     "execution_count": 113,
     "metadata": {},
     "output_type": "execute_result"
    }
   ],
   "source": [
    "X_train.shape"
   ]
  },
  {
   "cell_type": "markdown",
   "id": "f97ccbaa-8da3-48ac-a643-34f23c8f0902",
   "metadata": {},
   "source": [
    "## Shuffle training data"
   ]
  },
  {
   "cell_type": "code",
   "execution_count": 114,
   "id": "238152aa-25bf-4dbb-af72-57a04a183b4d",
   "metadata": {},
   "outputs": [],
   "source": [
    "from sklearn.utils import shuffle\n",
    "X_train, y_train = shuffle(X_train, y_train)"
   ]
  },
  {
   "cell_type": "markdown",
   "id": "e195dd88-7e8e-435f-9559-e39e854f91a6",
   "metadata": {
    "tags": []
   },
   "source": [
    "## Hypeparameter optimization"
   ]
  },
  {
   "cell_type": "code",
   "execution_count": 115,
   "id": "f22a8377-05b3-4ad4-abad-1eb5dfe3a771",
   "metadata": {},
   "outputs": [],
   "source": [
    "# classweight \n",
    "from sklearn.utils import class_weight\n",
    "class_weights = class_weight.compute_class_weight('balanced', np.unique(y_train), y_train)\n",
    "class_weights = {l:c for l,c in zip(np.unique(y_train), class_weights)}"
   ]
  },
  {
   "cell_type": "code",
   "execution_count": 116,
   "id": "ec532f8e-9357-4fac-8daa-22c68a6c52e9",
   "metadata": {},
   "outputs": [],
   "source": [
    "rand_search = RandomizedSearchCV(estimator=svc, \n",
    "                                 param_distributions=param_grid_clf, \n",
    "                                 n_jobs = -1, \n",
    "                                 cv=KFold(3))"
   ]
  },
  {
   "cell_type": "code",
   "execution_count": 117,
   "id": "f8fe954d-acc7-4763-80c5-ef92c1e4bd59",
   "metadata": {},
   "outputs": [
    {
     "name": "stdout",
     "output_type": "stream",
     "text": [
      "Performing Randomized Search...\n",
      "\n",
      "Done in 4.918s\n",
      "\n"
     ]
    }
   ],
   "source": [
    "print(\"Performing Randomized Search...\")\n",
    "t0 = time()\n",
    "rand_search.fit(X_train, y_train) \n",
    "print(\"\\nDone in %0.3fs\" % (time()-t0))\n",
    "print() "
   ]
  },
  {
   "cell_type": "code",
   "execution_count": 118,
   "id": "17ccadbc-a05d-448a-8913-97bc1fbc71c9",
   "metadata": {},
   "outputs": [
    {
     "data": {
      "text/plain": [
       "{'kernel': 'rbf', 'C': 100}"
      ]
     },
     "execution_count": 118,
     "metadata": {},
     "output_type": "execute_result"
    }
   ],
   "source": [
    "best_params = rand_search.best_params_\n",
    "best_clf = rand_search.best_estimator_\n",
    "best_params"
   ]
  },
  {
   "cell_type": "code",
   "execution_count": 119,
   "id": "564b89bf-57ad-40c0-bef6-6c4aabec7985",
   "metadata": {},
   "outputs": [
    {
     "data": {
      "text/plain": [
       "SVC(C=100, class_weight={0: 1.75, 1: 0.7})"
      ]
     },
     "execution_count": 119,
     "metadata": {},
     "output_type": "execute_result"
    }
   ],
   "source": [
    "best_clf =  SVC(C=best_params.get('C'), kernel=best_params.get('kernel'), class_weight=class_weights)\n",
    "best_clf.fit(X_train, y_train)"
   ]
  },
  {
   "cell_type": "markdown",
   "id": "bc2e7c8e-d7cc-4187-b60a-f47d07cecdb5",
   "metadata": {},
   "source": [
    "## Testing"
   ]
  },
  {
   "cell_type": "code",
   "execution_count": 120,
   "id": "6138ba6c-1d71-42c9-9690-28fb50eaade8",
   "metadata": {},
   "outputs": [
    {
     "name": "stdout",
     "output_type": "stream",
     "text": [
      "Testing...\n",
      "Accuracy: 0.5714285714285714\n"
     ]
    }
   ],
   "source": [
    "print(\"Testing...\")\n",
    "pred = best_clf.predict(X_test) \n",
    "accuracy = best_clf.score(X_test, y_test) \n",
    "print(\"Accuracy: %s\" %str(accuracy))"
   ]
  },
  {
   "cell_type": "markdown",
   "id": "d9019202-2916-4582-aa6e-f9fc92c985d6",
   "metadata": {},
   "source": [
    "## Save best model "
   ]
  },
  {
   "cell_type": "code",
   "execution_count": 121,
   "id": "d2430bfc-3dec-44a6-8e34-354ded76393f",
   "metadata": {},
   "outputs": [],
   "source": [
    "pkl_filename = \"/home/helemanc/Desktop/Binary_Model/models_experiments/Experiment_8/model_8_4.pkl\"\n",
    "with open(pkl_filename, 'wb') as file:\n",
    "    pickle.dump(best_clf, file)"
   ]
  },
  {
   "cell_type": "code",
   "execution_count": 122,
   "id": "9eb45d5d-288b-4c52-a2fd-e6f238cc68f7",
   "metadata": {
    "tags": []
   },
   "outputs": [
    {
     "data": {
      "text/plain": [
       "\"\\n# Load from file\\nwith open(pkl_filename, 'rb') as file:\\n    pickle_model = pickle.load(file)\\n\""
      ]
     },
     "execution_count": 122,
     "metadata": {},
     "output_type": "execute_result"
    }
   ],
   "source": [
    "'''\n",
    "# Load from file\n",
    "with open(pkl_filename, 'rb') as file:\n",
    "    pickle_model = pickle.load(file)\n",
    "'''"
   ]
  },
  {
   "cell_type": "markdown",
   "id": "8503ebf0-b124-45cc-9126-6132be37656a",
   "metadata": {},
   "source": [
    "# Experiment 1.5: SAVEE"
   ]
  },
  {
   "cell_type": "code",
   "execution_count": 123,
   "id": "557d46e9-33e8-4d9f-bc3b-a680904d2f1d",
   "metadata": {},
   "outputs": [],
   "source": [
    "df_train = SAVEE_train\n",
    "df_val = SAVEE_val\n",
    "df_test = SAVEE_test"
   ]
  },
  {
   "cell_type": "code",
   "execution_count": 124,
   "id": "0e1628d8-8366-4e0b-b625-fde96456f92c",
   "metadata": {},
   "outputs": [],
   "source": [
    "df_train.reset_index(drop = True, inplace = True) \n",
    "df_val.reset_index(drop = True, inplace = True)\n",
    "df_test.reset_index(drop = True, inplace = True)"
   ]
  },
  {
   "cell_type": "markdown",
   "id": "8ab73f6a-1e47-4e80-bb7c-395eddae703a",
   "metadata": {
    "toc-hr-collapsed": true
   },
   "source": [
    "## Feature Extraction"
   ]
  },
  {
   "cell_type": "code",
   "execution_count": 125,
   "id": "f00d1120-07f2-4ce1-9ecc-f9ca3c5cba46",
   "metadata": {
    "tags": []
   },
   "outputs": [
    {
     "name": "stderr",
     "output_type": "stream",
     "text": [
      "100%|█████████████████████████████████████████| 240/240 [00:14<00:00, 16.14it/s]\n",
      "100%|█████████████████████████████████████████| 240/240 [00:07<00:00, 33.61it/s]\n",
      "100%|████████████████████████████████████████| 240/240 [00:00<00:00, 745.67it/s]\n",
      "100%|█████████████████████████████████████████| 120/120 [00:07<00:00, 16.89it/s]\n",
      "100%|█████████████████████████████████████████| 120/120 [00:02<00:00, 44.56it/s]\n",
      "100%|████████████████████████████████████████| 120/120 [00:00<00:00, 902.41it/s]\n",
      "100%|█████████████████████████████████████████| 120/120 [00:04<00:00, 26.67it/s]\n",
      "100%|█████████████████████████████████████████| 120/120 [00:02<00:00, 44.94it/s]\n",
      "100%|████████████████████████████████████████| 120/120 [00:00<00:00, 786.28it/s]\n"
     ]
    }
   ],
   "source": [
    "X_train, y_train, X_val, y_val, X_test, y_test = feature_extractor(df_train, df_val, df_test, 26)"
   ]
  },
  {
   "cell_type": "code",
   "execution_count": 126,
   "id": "bbada6db-9802-47aa-9186-b48eddebb936",
   "metadata": {},
   "outputs": [],
   "source": [
    "y_train, y_val, y_test = encode_labels(y_train, y_val, y_test)"
   ]
  },
  {
   "cell_type": "code",
   "execution_count": 127,
   "id": "3aac7d81-2388-407e-8122-b4aad6b16c08",
   "metadata": {},
   "outputs": [
    {
     "data": {
      "text/plain": [
       "120"
      ]
     },
     "execution_count": 127,
     "metadata": {},
     "output_type": "execute_result"
    }
   ],
   "source": [
    "np.size(y_val)"
   ]
  },
  {
   "cell_type": "code",
   "execution_count": 128,
   "id": "60bcedf2-7063-4896-a774-bd420263be3f",
   "metadata": {},
   "outputs": [],
   "source": [
    "X_train, X_val, X_test = standard_scaling(X_train, X_val, X_test)"
   ]
  },
  {
   "cell_type": "code",
   "execution_count": 129,
   "id": "bff6d9c0-514a-4f54-9f94-94e2d7e7778b",
   "metadata": {},
   "outputs": [
    {
     "data": {
      "text/plain": [
       "(240, 26)"
      ]
     },
     "execution_count": 129,
     "metadata": {},
     "output_type": "execute_result"
    }
   ],
   "source": [
    "X_train.shape"
   ]
  },
  {
   "cell_type": "markdown",
   "id": "a9e5a46b-fd14-4f9d-9a75-530e3511213e",
   "metadata": {},
   "source": [
    "## Shuffle training data"
   ]
  },
  {
   "cell_type": "code",
   "execution_count": 130,
   "id": "5e74a700-51f4-43f1-bd13-d4e2d55321d4",
   "metadata": {},
   "outputs": [],
   "source": [
    "from sklearn.utils import shuffle\n",
    "X_train, y_train = shuffle(X_train, y_train)"
   ]
  },
  {
   "cell_type": "markdown",
   "id": "4c2e9acc-8cae-4918-b19b-962ce567063e",
   "metadata": {
    "tags": []
   },
   "source": [
    "## Hypeparameter optimization"
   ]
  },
  {
   "cell_type": "code",
   "execution_count": 131,
   "id": "f7f8df7c-33b2-41a5-b6ee-be4d03985438",
   "metadata": {},
   "outputs": [],
   "source": [
    "# classweight \n",
    "from sklearn.utils import class_weight\n",
    "class_weights = class_weight.compute_class_weight('balanced', np.unique(y_train), y_train)\n",
    "class_weights = {l:c for l,c in zip(np.unique(y_train), class_weights)}"
   ]
  },
  {
   "cell_type": "code",
   "execution_count": 132,
   "id": "46df4a5c-5b66-482a-984c-ff10a2fc9cce",
   "metadata": {},
   "outputs": [],
   "source": [
    "rand_search = RandomizedSearchCV(estimator=svc, \n",
    "                                 param_distributions=param_grid_clf, \n",
    "                                 n_jobs = -1, \n",
    "                                 cv=KFold(3))"
   ]
  },
  {
   "cell_type": "code",
   "execution_count": 133,
   "id": "19e04cc7-48a2-4d52-9296-bc6df88d3c74",
   "metadata": {},
   "outputs": [
    {
     "name": "stdout",
     "output_type": "stream",
     "text": [
      "Performing Randomized Search...\n",
      "\n",
      "Done in 0.479s\n",
      "\n"
     ]
    }
   ],
   "source": [
    "print(\"Performing Randomized Search...\")\n",
    "t0 = time()\n",
    "rand_search.fit(X_train, y_train) \n",
    "print(\"\\nDone in %0.3fs\" % (time()-t0))\n",
    "print() "
   ]
  },
  {
   "cell_type": "code",
   "execution_count": 134,
   "id": "401c0694-5bc9-44a3-86ed-11531de519f0",
   "metadata": {},
   "outputs": [
    {
     "data": {
      "text/plain": [
       "{'kernel': 'rbf', 'C': 10}"
      ]
     },
     "execution_count": 134,
     "metadata": {},
     "output_type": "execute_result"
    }
   ],
   "source": [
    "best_params = rand_search.best_params_\n",
    "best_clf = rand_search.best_estimator_\n",
    "best_params"
   ]
  },
  {
   "cell_type": "code",
   "execution_count": 135,
   "id": "7b701d24-84d2-4f28-be6d-8fb45b2e0748",
   "metadata": {},
   "outputs": [
    {
     "data": {
      "text/plain": [
       "SVC(C=10, class_weight={0: 1.0, 1: 1.0})"
      ]
     },
     "execution_count": 135,
     "metadata": {},
     "output_type": "execute_result"
    }
   ],
   "source": [
    "best_clf =  SVC(C=best_params.get('C'), kernel=best_params.get('kernel'), class_weight=class_weights)\n",
    "best_clf.fit(X_train, y_train)"
   ]
  },
  {
   "cell_type": "markdown",
   "id": "5f1c22e5-34b7-4735-8792-a3d27c2b0a88",
   "metadata": {},
   "source": [
    "## Testing"
   ]
  },
  {
   "cell_type": "code",
   "execution_count": 136,
   "id": "7d8f75bd-5118-44a5-9f77-46c8a275cb98",
   "metadata": {},
   "outputs": [
    {
     "name": "stdout",
     "output_type": "stream",
     "text": [
      "Testing...\n",
      "Accuracy: 0.5166666666666667\n"
     ]
    }
   ],
   "source": [
    "print(\"Testing...\")\n",
    "pred = best_clf.predict(X_test) \n",
    "accuracy = best_clf.score(X_test, y_test) \n",
    "print(\"Accuracy: %s\" %str(accuracy))"
   ]
  },
  {
   "cell_type": "markdown",
   "id": "d742d84a-2be6-4961-94cc-12790931f271",
   "metadata": {},
   "source": [
    "## Save best model "
   ]
  },
  {
   "cell_type": "code",
   "execution_count": 137,
   "id": "7cff06b6-fa80-4255-8242-ff8d86109e0b",
   "metadata": {},
   "outputs": [],
   "source": [
    "pkl_filename = \"/home/helemanc/Desktop/Binary_Model/models_experiments/Experiment_8/model_8_5.pkl\"\n",
    "with open(pkl_filename, 'wb') as file:\n",
    "    pickle.dump(best_clf, file)"
   ]
  },
  {
   "cell_type": "code",
   "execution_count": 138,
   "id": "ec41e35f-7265-4b2a-8552-55bcec4a4c00",
   "metadata": {
    "tags": []
   },
   "outputs": [
    {
     "data": {
      "text/plain": [
       "\"\\n# Load from file\\nwith open(pkl_filename, 'rb') as file:\\n    pickle_model = pickle.load(file)\\n\""
      ]
     },
     "execution_count": 138,
     "metadata": {},
     "output_type": "execute_result"
    }
   ],
   "source": [
    "'''\n",
    "# Load from file\n",
    "with open(pkl_filename, 'rb') as file:\n",
    "    pickle_model = pickle.load(file)\n",
    "'''"
   ]
  },
  {
   "cell_type": "markdown",
   "id": "8ce8a6a6-b4c8-4108-b39b-d694ff280c5b",
   "metadata": {},
   "source": [
    "# Experiment 1.6: SAVEE noise"
   ]
  },
  {
   "cell_type": "markdown",
   "id": "18f6660a-8ebb-48b1-be6f-433775ff8a03",
   "metadata": {
    "tags": [],
    "toc-hr-collapsed": true
   },
   "source": [
    "## Read dataframes"
   ]
  },
  {
   "cell_type": "code",
   "execution_count": 139,
   "id": "6abc32ff-753b-4116-8aa0-3833b786d0a4",
   "metadata": {
    "tags": []
   },
   "outputs": [],
   "source": [
    "preprocess_path = \"/home/helemanc/Desktop/Binary_Model/df_csv_noise/savee\"\n",
    "df_train = pd.read_csv(os.path.join(preprocess_path,\"df_train.csv\"))\n",
    "df_val = pd.read_csv(os.path.join(preprocess_path,\"df_val.csv\"))\n",
    "df_test = pd.read_csv(os.path.join(preprocess_path,\"df_test.csv\"))  "
   ]
  },
  {
   "cell_type": "markdown",
   "id": "64d0bceb-e29e-460a-99a8-0bb8ca77ba1b",
   "metadata": {},
   "source": [
    "## Feature Extraction"
   ]
  },
  {
   "cell_type": "code",
   "execution_count": 140,
   "id": "f09398e6-63fa-45ad-bbb9-24c4bc809491",
   "metadata": {},
   "outputs": [
    {
     "name": "stderr",
     "output_type": "stream",
     "text": [
      "100%|█████████████████████████████████████████| 480/480 [00:16<00:00, 28.66it/s]\n",
      "100%|█████████████████████████████████████████| 480/480 [00:08<00:00, 54.77it/s]\n",
      "100%|███████████████████████████████████████| 480/480 [00:00<00:00, 1248.31it/s]\n",
      "100%|█████████████████████████████████████████| 120/120 [00:04<00:00, 28.49it/s]\n",
      "100%|█████████████████████████████████████████| 120/120 [00:02<00:00, 59.72it/s]\n",
      "100%|████████████████████████████████████████| 120/120 [00:00<00:00, 999.47it/s]\n",
      "100%|█████████████████████████████████████████| 120/120 [00:03<00:00, 35.76it/s]\n",
      "100%|█████████████████████████████████████████| 120/120 [00:01<00:00, 81.42it/s]\n",
      "100%|███████████████████████████████████████| 120/120 [00:00<00:00, 1043.02it/s]\n"
     ]
    }
   ],
   "source": [
    "X_train, y_train, X_val, y_val, X_test, y_test = feature_extractor(df_train, df_val, df_test, 26) # 13"
   ]
  },
  {
   "cell_type": "code",
   "execution_count": 141,
   "id": "93f6a76c-9b4a-4afe-8950-9a884114cabd",
   "metadata": {},
   "outputs": [],
   "source": [
    "y_train, y_val, y_test = encode_labels(y_train, y_val, y_test)"
   ]
  },
  {
   "cell_type": "code",
   "execution_count": 142,
   "id": "496cf5b5-2645-44ae-acac-54aa7a7ec28d",
   "metadata": {},
   "outputs": [
    {
     "data": {
      "text/plain": [
       "120"
      ]
     },
     "execution_count": 142,
     "metadata": {},
     "output_type": "execute_result"
    }
   ],
   "source": [
    "np.size(y_val)"
   ]
  },
  {
   "cell_type": "code",
   "execution_count": 143,
   "id": "e7620998-0c80-40b7-b445-62c494a4530f",
   "metadata": {},
   "outputs": [],
   "source": [
    "X_train, X_val, X_test = standard_scaling(X_train, X_val, X_test)"
   ]
  },
  {
   "cell_type": "code",
   "execution_count": 144,
   "id": "24843c42-3405-421c-a995-dadfacf47417",
   "metadata": {},
   "outputs": [
    {
     "data": {
      "text/plain": [
       "(480, 26)"
      ]
     },
     "execution_count": 144,
     "metadata": {},
     "output_type": "execute_result"
    }
   ],
   "source": [
    "X_train.shape"
   ]
  },
  {
   "cell_type": "markdown",
   "id": "1f852ef1-8b70-41d6-a154-ccc9c3bd12a4",
   "metadata": {},
   "source": [
    "## Shuffle training data"
   ]
  },
  {
   "cell_type": "code",
   "execution_count": 145,
   "id": "5b5e48a5-595f-4d23-b12d-812a302588c6",
   "metadata": {},
   "outputs": [],
   "source": [
    "from sklearn.utils import shuffle\n",
    "X_train, y_train = shuffle(X_train, y_train)"
   ]
  },
  {
   "cell_type": "markdown",
   "id": "967b5433-f5ea-445b-8e89-b5da50924e3b",
   "metadata": {
    "tags": []
   },
   "source": [
    "## Hypeparameter optimization"
   ]
  },
  {
   "cell_type": "code",
   "execution_count": 146,
   "id": "0bedb9c3-024a-43c3-870c-1ac4ad35da00",
   "metadata": {},
   "outputs": [],
   "source": [
    "# classweight \n",
    "from sklearn.utils import class_weight\n",
    "class_weights = class_weight.compute_class_weight('balanced', np.unique(y_train), y_train)\n",
    "class_weights = {l:c for l,c in zip(np.unique(y_train), class_weights)}"
   ]
  },
  {
   "cell_type": "code",
   "execution_count": 147,
   "id": "ca6171f1-1b74-4c6b-b9ee-70b17fb4a39b",
   "metadata": {},
   "outputs": [],
   "source": [
    "rand_search = RandomizedSearchCV(estimator=svc, \n",
    "                                 param_distributions=param_grid_clf, \n",
    "                                 n_jobs = -1, \n",
    "                                 cv=KFold(3))"
   ]
  },
  {
   "cell_type": "code",
   "execution_count": 148,
   "id": "d5a88b15-283e-4bdd-bc04-12ebba70c80a",
   "metadata": {},
   "outputs": [
    {
     "name": "stdout",
     "output_type": "stream",
     "text": [
      "Performing Randomized Search...\n",
      "\n",
      "Done in 1.270s\n",
      "\n"
     ]
    }
   ],
   "source": [
    "print(\"Performing Randomized Search...\")\n",
    "t0 = time()\n",
    "rand_search.fit(X_train, y_train) \n",
    "print(\"\\nDone in %0.3fs\" % (time()-t0))\n",
    "print() "
   ]
  },
  {
   "cell_type": "code",
   "execution_count": 149,
   "id": "64680a08-83fa-4a0c-8b8c-1ceb2130e9e2",
   "metadata": {},
   "outputs": [
    {
     "data": {
      "text/plain": [
       "{'kernel': 'rbf', 'C': 10}"
      ]
     },
     "execution_count": 149,
     "metadata": {},
     "output_type": "execute_result"
    }
   ],
   "source": [
    "best_params = rand_search.best_params_\n",
    "best_clf = rand_search.best_estimator_\n",
    "best_params"
   ]
  },
  {
   "cell_type": "code",
   "execution_count": 150,
   "id": "463b033a-b698-4a74-891e-75047a440b79",
   "metadata": {},
   "outputs": [
    {
     "data": {
      "text/plain": [
       "SVC(C=10, class_weight={0: 1.0, 1: 1.0})"
      ]
     },
     "execution_count": 150,
     "metadata": {},
     "output_type": "execute_result"
    }
   ],
   "source": [
    "best_clf =  SVC(C=best_params.get('C'), kernel=best_params.get('kernel'), class_weight=class_weights)\n",
    "best_clf.fit(X_train, y_train)"
   ]
  },
  {
   "cell_type": "markdown",
   "id": "5e30144f-00eb-4faf-b757-d6368bffde03",
   "metadata": {},
   "source": [
    "## Testing"
   ]
  },
  {
   "cell_type": "code",
   "execution_count": 151,
   "id": "d7bfa53f-03b5-4371-9994-f7d1218fe6da",
   "metadata": {},
   "outputs": [
    {
     "name": "stdout",
     "output_type": "stream",
     "text": [
      "Testing...\n",
      "Accuracy: 0.5\n"
     ]
    }
   ],
   "source": [
    "print(\"Testing...\")\n",
    "pred = best_clf.predict(X_test) \n",
    "accuracy = best_clf.score(X_test, y_test) \n",
    "print(\"Accuracy: %s\" %str(accuracy))"
   ]
  },
  {
   "cell_type": "markdown",
   "id": "ed64eece-494b-4846-bd8b-ab9179fa1611",
   "metadata": {},
   "source": [
    "## Save best model "
   ]
  },
  {
   "cell_type": "code",
   "execution_count": 152,
   "id": "684331a4-be16-4eda-af7a-039c850f590e",
   "metadata": {},
   "outputs": [],
   "source": [
    "pkl_filename = \"/home/helemanc/Desktop/Binary_Model/models_experiments/Experiment_8/model_8_6.pkl\"\n",
    "with open(pkl_filename, 'wb') as file:\n",
    "    pickle.dump(best_clf, file)"
   ]
  },
  {
   "cell_type": "code",
   "execution_count": 153,
   "id": "b5247a39-89dc-4043-826f-1b33e483f872",
   "metadata": {
    "tags": []
   },
   "outputs": [
    {
     "data": {
      "text/plain": [
       "\"\\n# Load from file\\nwith open(pkl_filename, 'rb') as file:\\n    pickle_model = pickle.load(file)\\n\""
      ]
     },
     "execution_count": 153,
     "metadata": {},
     "output_type": "execute_result"
    }
   ],
   "source": [
    "'''\n",
    "# Load from file\n",
    "with open(pkl_filename, 'rb') as file:\n",
    "    pickle_model = pickle.load(file)\n",
    "'''"
   ]
  },
  {
   "cell_type": "markdown",
   "id": "209e4905-69cb-4da6-b3d7-185d1b7f985d",
   "metadata": {},
   "source": [
    "# Experiment 1.7: CREMA "
   ]
  },
  {
   "cell_type": "code",
   "execution_count": 154,
   "id": "1ebbf809-d879-4246-aa8d-602346ad0154",
   "metadata": {
    "tags": []
   },
   "outputs": [],
   "source": [
    "df_train = CREMA_train\n",
    "df_val = CREMA_val\n",
    "df_test = CREMA_test"
   ]
  },
  {
   "cell_type": "code",
   "execution_count": 155,
   "id": "6d6db882-18d0-4318-900e-31a3479994cb",
   "metadata": {
    "tags": []
   },
   "outputs": [],
   "source": [
    "df_train.reset_index(drop = True, inplace = True) \n",
    "df_val.reset_index(drop = True, inplace = True)\n",
    "df_test.reset_index(drop = True, inplace = True)"
   ]
  },
  {
   "cell_type": "markdown",
   "id": "0887848b-8f7b-4132-84bb-76b5eb9ac601",
   "metadata": {
    "tags": []
   },
   "source": [
    "## Feature Extraction"
   ]
  },
  {
   "cell_type": "code",
   "execution_count": 156,
   "id": "5c44e984-7d18-4ed4-94ca-e2914fe4f5a4",
   "metadata": {
    "tags": []
   },
   "outputs": [
    {
     "name": "stderr",
     "output_type": "stream",
     "text": [
      "100%|███████████████████████████████████████| 320/320 [00:00<00:00, 2483.53it/s]\n",
      "100%|█████████████████████████████████████████| 320/320 [00:04<00:00, 68.98it/s]\n",
      "100%|███████████████████████████████████████| 320/320 [00:00<00:00, 1205.18it/s]\n",
      "100%|██████████████████████████████████████████| 60/60 [00:00<00:00, 928.60it/s]\n",
      "100%|███████████████████████████████████████████| 60/60 [00:00<00:00, 71.70it/s]\n",
      "100%|██████████████████████████████████████████| 60/60 [00:00<00:00, 942.10it/s]\n",
      "100%|██████████████████████████████████████████| 60/60 [00:00<00:00, 811.41it/s]\n",
      "100%|███████████████████████████████████████████| 60/60 [00:00<00:00, 70.17it/s]\n",
      "100%|██████████████████████████████████████████| 60/60 [00:00<00:00, 915.93it/s]\n"
     ]
    }
   ],
   "source": [
    "X_train, y_train, X_val, y_val, X_test, y_test = feature_extractor(df_train, df_val, df_test, 26)"
   ]
  },
  {
   "cell_type": "code",
   "execution_count": 157,
   "id": "9835acd3-4443-4938-9fbc-3b634a19b1f7",
   "metadata": {},
   "outputs": [],
   "source": [
    "y_train, y_val, y_test = encode_labels(y_train, y_val, y_test)"
   ]
  },
  {
   "cell_type": "code",
   "execution_count": 158,
   "id": "dc0549fd-cb61-4664-9f2e-29257625f38d",
   "metadata": {},
   "outputs": [
    {
     "data": {
      "text/plain": [
       "60"
      ]
     },
     "execution_count": 158,
     "metadata": {},
     "output_type": "execute_result"
    }
   ],
   "source": [
    "np.size(y_val)"
   ]
  },
  {
   "cell_type": "code",
   "execution_count": 159,
   "id": "139f330e-af47-48e9-8f23-0a8cbc41b0e8",
   "metadata": {},
   "outputs": [],
   "source": [
    "X_train, X_val, X_test = standard_scaling(X_train, X_val, X_test)"
   ]
  },
  {
   "cell_type": "code",
   "execution_count": 160,
   "id": "85f693d9-497d-4cee-b2ef-8d1141f78498",
   "metadata": {},
   "outputs": [
    {
     "data": {
      "text/plain": [
       "(320, 26)"
      ]
     },
     "execution_count": 160,
     "metadata": {},
     "output_type": "execute_result"
    }
   ],
   "source": [
    "X_train.shape"
   ]
  },
  {
   "cell_type": "markdown",
   "id": "f83bb2f2-ca01-4f1a-ab57-13ba53a28f6c",
   "metadata": {},
   "source": [
    "## Shuffle training data"
   ]
  },
  {
   "cell_type": "code",
   "execution_count": 161,
   "id": "97eafe36-cee8-4615-9eb4-5c3db8315d7d",
   "metadata": {},
   "outputs": [],
   "source": [
    "from sklearn.utils import shuffle\n",
    "X_train, y_train = shuffle(X_train, y_train)"
   ]
  },
  {
   "cell_type": "markdown",
   "id": "23f3dbc5-82a8-4040-9dff-83f593333082",
   "metadata": {
    "tags": []
   },
   "source": [
    "## Hypeparameter optimization"
   ]
  },
  {
   "cell_type": "code",
   "execution_count": 162,
   "id": "950c6579-c872-4d26-8298-4201937257eb",
   "metadata": {},
   "outputs": [],
   "source": [
    "# classweight \n",
    "from sklearn.utils import class_weight\n",
    "class_weights = class_weight.compute_class_weight('balanced', np.unique(y_train), y_train)\n",
    "class_weights = {l:c for l,c in zip(np.unique(y_train), class_weights)}"
   ]
  },
  {
   "cell_type": "code",
   "execution_count": 163,
   "id": "51d3c3d9-106e-45c0-b935-2bb159d0b78c",
   "metadata": {},
   "outputs": [],
   "source": [
    "rand_search = RandomizedSearchCV(estimator=svc, \n",
    "                                 param_distributions=param_grid_clf, \n",
    "                                 n_jobs = -1, \n",
    "                                 cv=KFold(3))"
   ]
  },
  {
   "cell_type": "code",
   "execution_count": 164,
   "id": "f9489d02-bcf6-4e1d-acd9-bc1f4babf2cb",
   "metadata": {},
   "outputs": [
    {
     "name": "stdout",
     "output_type": "stream",
     "text": [
      "Performing Randomized Search...\n",
      "\n",
      "Done in 0.490s\n",
      "\n"
     ]
    }
   ],
   "source": [
    "print(\"Performing Randomized Search...\")\n",
    "t0 = time()\n",
    "rand_search.fit(X_train, y_train) \n",
    "print(\"\\nDone in %0.3fs\" % (time()-t0))\n",
    "print() "
   ]
  },
  {
   "cell_type": "code",
   "execution_count": 165,
   "id": "9c9f8d9a-f8fb-4712-b3b9-baff0ddb10ca",
   "metadata": {},
   "outputs": [
    {
     "data": {
      "text/plain": [
       "{'kernel': 'rbf', 'C': 0.1}"
      ]
     },
     "execution_count": 165,
     "metadata": {},
     "output_type": "execute_result"
    }
   ],
   "source": [
    "best_params = rand_search.best_params_\n",
    "best_clf = rand_search.best_estimator_\n",
    "best_params"
   ]
  },
  {
   "cell_type": "code",
   "execution_count": 166,
   "id": "a07d9799-3b51-428e-a61b-dae3f0a07602",
   "metadata": {},
   "outputs": [
    {
     "data": {
      "text/plain": [
       "SVC(C=0.1, class_weight={0: 2.5, 1: 0.625})"
      ]
     },
     "execution_count": 166,
     "metadata": {},
     "output_type": "execute_result"
    }
   ],
   "source": [
    "best_clf =  SVC(C=best_params.get('C'), kernel=best_params.get('kernel'), class_weight=class_weights)\n",
    "best_clf.fit(X_train, y_train)"
   ]
  },
  {
   "cell_type": "markdown",
   "id": "053a6109-9346-4381-a5a0-389bc8d45298",
   "metadata": {},
   "source": [
    "## Testing"
   ]
  },
  {
   "cell_type": "code",
   "execution_count": 167,
   "id": "8af98a3d-a4a2-42ed-a41b-3fefa44e7145",
   "metadata": {},
   "outputs": [
    {
     "name": "stdout",
     "output_type": "stream",
     "text": [
      "Testing...\n",
      "Accuracy: 0.4666666666666667\n"
     ]
    }
   ],
   "source": [
    "print(\"Testing...\")\n",
    "pred = best_clf.predict(X_test) \n",
    "accuracy = best_clf.score(X_test, y_test) \n",
    "print(\"Accuracy: %s\" %str(accuracy))"
   ]
  },
  {
   "cell_type": "markdown",
   "id": "7582319d-ad21-49d7-a48e-9adb5505f23a",
   "metadata": {},
   "source": [
    "## Save best model "
   ]
  },
  {
   "cell_type": "code",
   "execution_count": 168,
   "id": "76c6337f-a88c-4628-a664-24cfb272a602",
   "metadata": {},
   "outputs": [],
   "source": [
    "pkl_filename = \"/home/helemanc/Desktop/Binary_Model/models_experiments/Experiment_8/model_8_7.pkl\"\n",
    "with open(pkl_filename, 'wb') as file:\n",
    "    pickle.dump(best_clf, file)"
   ]
  },
  {
   "cell_type": "code",
   "execution_count": 169,
   "id": "f71ac017-1e5f-45b8-a4f7-0751d44b5e32",
   "metadata": {
    "tags": []
   },
   "outputs": [
    {
     "data": {
      "text/plain": [
       "\"\\n# Load from file\\nwith open(pkl_filename, 'rb') as file:\\n    pickle_model = pickle.load(file)\\n\""
      ]
     },
     "execution_count": 169,
     "metadata": {},
     "output_type": "execute_result"
    }
   ],
   "source": [
    "'''\n",
    "# Load from file\n",
    "with open(pkl_filename, 'rb') as file:\n",
    "    pickle_model = pickle.load(file)\n",
    "'''"
   ]
  },
  {
   "cell_type": "markdown",
   "id": "5b1d97d5-d302-4674-bc9d-9555252c2728",
   "metadata": {},
   "source": [
    "# Experiment 1.8: CREMA - noise"
   ]
  },
  {
   "cell_type": "code",
   "execution_count": 170,
   "id": "5148d8a3-1fcf-4867-b8ab-f689ec009bc0",
   "metadata": {
    "tags": []
   },
   "outputs": [],
   "source": [
    "preprocess_path = \"/home/helemanc/Desktop/Binary_Model/df_csv_noise/crema\"\n",
    "df_train = pd.read_csv(os.path.join(preprocess_path,\"df_train.csv\"))\n",
    "df_val = pd.read_csv(os.path.join(preprocess_path,\"df_val.csv\"))\n",
    "df_test = pd.read_csv(os.path.join(preprocess_path,\"df_test.csv\"))  "
   ]
  },
  {
   "cell_type": "markdown",
   "id": "ee5bfdd2-b274-44eb-885d-c9a5a8bb7956",
   "metadata": {},
   "source": [
    "## Feature Extraction"
   ]
  },
  {
   "cell_type": "code",
   "execution_count": 171,
   "id": "0c92a714-363b-49ce-96d9-c464de37fbe7",
   "metadata": {},
   "outputs": [
    {
     "name": "stderr",
     "output_type": "stream",
     "text": [
      "100%|███████████████████████████████████████| 640/640 [00:00<00:00, 2307.91it/s]\n",
      "100%|█████████████████████████████████████████| 640/640 [00:10<00:00, 61.84it/s]\n",
      "100%|███████████████████████████████████████| 640/640 [00:00<00:00, 1494.35it/s]\n",
      "100%|█████████████████████████████████████████| 60/60 [00:00<00:00, 3370.05it/s]\n",
      "100%|███████████████████████████████████████████| 60/60 [00:00<00:00, 73.74it/s]\n",
      "100%|██████████████████████████████████████████| 60/60 [00:00<00:00, 909.90it/s]\n",
      "100%|█████████████████████████████████████████| 60/60 [00:00<00:00, 1788.01it/s]\n",
      "100%|███████████████████████████████████████████| 60/60 [00:00<00:00, 69.82it/s]\n",
      "100%|██████████████████████████████████████████| 60/60 [00:00<00:00, 889.87it/s]\n"
     ]
    }
   ],
   "source": [
    "X_train, y_train, X_val, y_val, X_test, y_test = feature_extractor(df_train, df_val, df_test, 26) # 13"
   ]
  },
  {
   "cell_type": "code",
   "execution_count": 172,
   "id": "033c4ebb-62da-4c66-b725-8305db3c4356",
   "metadata": {},
   "outputs": [],
   "source": [
    "y_train, y_val, y_test = encode_labels(y_train, y_val, y_test)"
   ]
  },
  {
   "cell_type": "code",
   "execution_count": 173,
   "id": "dbb2cc4f-fd60-43df-bbcd-c011af5c52ab",
   "metadata": {},
   "outputs": [
    {
     "data": {
      "text/plain": [
       "60"
      ]
     },
     "execution_count": 173,
     "metadata": {},
     "output_type": "execute_result"
    }
   ],
   "source": [
    "np.size(y_val)"
   ]
  },
  {
   "cell_type": "code",
   "execution_count": 174,
   "id": "376fb88e-6ba3-4b2d-9c90-551a5d1b19a7",
   "metadata": {},
   "outputs": [],
   "source": [
    "X_train, X_val, X_test = standard_scaling(X_train, X_val, X_test)"
   ]
  },
  {
   "cell_type": "code",
   "execution_count": 175,
   "id": "99d1adb1-807d-4450-b8e6-636aae44fd50",
   "metadata": {},
   "outputs": [
    {
     "data": {
      "text/plain": [
       "(640, 26)"
      ]
     },
     "execution_count": 175,
     "metadata": {},
     "output_type": "execute_result"
    }
   ],
   "source": [
    "X_train.shape"
   ]
  },
  {
   "cell_type": "markdown",
   "id": "2d8d73ed-4dc2-425d-875a-6527ba8099de",
   "metadata": {
    "tags": []
   },
   "source": [
    "## Hypeparameter optimization"
   ]
  },
  {
   "cell_type": "code",
   "execution_count": 176,
   "id": "aa9fe241-bd40-4082-8e51-d8698f3b17f8",
   "metadata": {},
   "outputs": [],
   "source": [
    "# classweight \n",
    "from sklearn.utils import class_weight\n",
    "class_weights = class_weight.compute_class_weight('balanced', np.unique(y_train), y_train)\n",
    "class_weights = {l:c for l,c in zip(np.unique(y_train), class_weights)}"
   ]
  },
  {
   "cell_type": "code",
   "execution_count": 177,
   "id": "4bb4526d-08f3-4af7-870d-81ff930b8c4b",
   "metadata": {},
   "outputs": [],
   "source": [
    "rand_search = RandomizedSearchCV(estimator=svc, \n",
    "                                 param_distributions=param_grid_clf, \n",
    "                                 n_jobs = -1, \n",
    "                                 cv=KFold(3))"
   ]
  },
  {
   "cell_type": "code",
   "execution_count": 178,
   "id": "05e34bf7-fdcc-4b24-b68b-5d6d326e04bb",
   "metadata": {},
   "outputs": [
    {
     "name": "stdout",
     "output_type": "stream",
     "text": [
      "Performing Randomized Search...\n",
      "\n",
      "Done in 5.035s\n",
      "\n"
     ]
    }
   ],
   "source": [
    "print(\"Performing Randomized Search...\")\n",
    "t0 = time()\n",
    "rand_search.fit(X_train, y_train) \n",
    "print(\"\\nDone in %0.3fs\" % (time()-t0))\n",
    "print() "
   ]
  },
  {
   "cell_type": "code",
   "execution_count": 179,
   "id": "1e666f44-d331-41cd-892a-25228b962989",
   "metadata": {},
   "outputs": [
    {
     "data": {
      "text/plain": [
       "{'kernel': 'rbf', 'C': 10}"
      ]
     },
     "execution_count": 179,
     "metadata": {},
     "output_type": "execute_result"
    }
   ],
   "source": [
    "best_params = rand_search.best_params_\n",
    "best_clf = rand_search.best_estimator_\n",
    "best_params"
   ]
  },
  {
   "cell_type": "code",
   "execution_count": 180,
   "id": "ca71c4b6-c2bd-4b6a-984d-448f2a5adadb",
   "metadata": {},
   "outputs": [
    {
     "data": {
      "text/plain": [
       "SVC(C=10, class_weight={0: 2.5, 1: 0.625})"
      ]
     },
     "execution_count": 180,
     "metadata": {},
     "output_type": "execute_result"
    }
   ],
   "source": [
    "best_clf =  SVC(C=best_params.get('C'), kernel=best_params.get('kernel'), class_weight=class_weights)\n",
    "best_clf.fit(X_train, y_train)"
   ]
  },
  {
   "cell_type": "markdown",
   "id": "c6a802b1-ac05-4f19-8884-064d0a43c134",
   "metadata": {},
   "source": [
    "## Testing"
   ]
  },
  {
   "cell_type": "code",
   "execution_count": 181,
   "id": "439030ea-6662-4850-bdf9-0e3a635af2c1",
   "metadata": {},
   "outputs": [
    {
     "name": "stdout",
     "output_type": "stream",
     "text": [
      "Testing...\n",
      "Accuracy: 0.85\n"
     ]
    }
   ],
   "source": [
    "print(\"Testing...\")\n",
    "pred = best_clf.predict(X_test) \n",
    "accuracy = best_clf.score(X_test, y_test) \n",
    "print(\"Accuracy: %s\" %str(accuracy))"
   ]
  },
  {
   "cell_type": "markdown",
   "id": "ed879e23-4a61-45e0-a535-784e17dd5785",
   "metadata": {},
   "source": [
    "## Save best model "
   ]
  },
  {
   "cell_type": "code",
   "execution_count": 182,
   "id": "bd252fd6-a2f0-46e8-ae6e-9ea0239065a8",
   "metadata": {},
   "outputs": [],
   "source": [
    "pkl_filename = \"/home/helemanc/Desktop/Binary_Model/models_experiments/Experiment_8/model_8_8.pkl\"\n",
    "with open(pkl_filename, 'wb') as file:\n",
    "    pickle.dump(best_clf, file)"
   ]
  },
  {
   "cell_type": "code",
   "execution_count": 183,
   "id": "4262a807-7b30-4cee-ab07-5ef0fd1ee858",
   "metadata": {
    "tags": []
   },
   "outputs": [
    {
     "data": {
      "text/plain": [
       "\"\\n# Load from file\\nwith open(pkl_filename, 'rb') as file:\\n    pickle_model = pickle.load(file)\\n\""
      ]
     },
     "execution_count": 183,
     "metadata": {},
     "output_type": "execute_result"
    }
   ],
   "source": [
    "'''\n",
    "# Load from file\n",
    "with open(pkl_filename, 'rb') as file:\n",
    "    pickle_model = pickle.load(file)\n",
    "'''"
   ]
  },
  {
   "cell_type": "markdown",
   "id": "a0bc7ea8-bdc6-4129-8cd2-cca7ce05d4e2",
   "metadata": {},
   "source": [
    "# Experiment 1.9: RAVDESS - TESS - SAVEE"
   ]
  },
  {
   "cell_type": "code",
   "execution_count": 184,
   "id": "257f8515-30db-4a0e-b529-1b07e97aa861",
   "metadata": {},
   "outputs": [],
   "source": [
    "df_train = pd.concat([RAV_train, SAVEE_train, TESS_train])\n",
    "df_val = pd.concat([RAV_val, SAVEE_val])\n",
    "df_test = pd.concat([RAV_test, SAVEE_test, TESS_test])\n",
    "#df_test = pd.concat([RAV_train, SAVEE_test])"
   ]
  },
  {
   "cell_type": "code",
   "execution_count": 185,
   "id": "abc249c4-be50-407d-bc83-24052167ee26",
   "metadata": {
    "tags": []
   },
   "outputs": [],
   "source": [
    "df_train.reset_index(drop = True, inplace = True) \n",
    "df_val.reset_index(drop = True, inplace = True)\n",
    "df_test.reset_index(drop = True, inplace = True)"
   ]
  },
  {
   "cell_type": "markdown",
   "id": "0841420b-0ce5-4fd7-a1c5-6398fc200626",
   "metadata": {
    "tags": []
   },
   "source": [
    "## Feature Extraction"
   ]
  },
  {
   "cell_type": "code",
   "execution_count": 186,
   "id": "ca6d2e84-15c7-4541-8340-f8ba988c55eb",
   "metadata": {
    "tags": []
   },
   "outputs": [
    {
     "name": "stderr",
     "output_type": "stream",
     "text": [
      "100%|██████████████████████████████████████| 2840/2840 [00:25<00:00, 111.96it/s]\n",
      "100%|███████████████████████████████████████| 2840/2840 [00:44<00:00, 63.71it/s]\n",
      "100%|█████████████████████████████████████| 2840/2840 [00:01<00:00, 1705.78it/s]\n",
      "100%|█████████████████████████████████████████| 240/240 [00:04<00:00, 56.85it/s]\n",
      "100%|█████████████████████████████████████████| 240/240 [00:03<00:00, 65.76it/s]\n",
      "100%|███████████████████████████████████████| 240/240 [00:00<00:00, 1129.64it/s]\n",
      "100%|██████████████████████████████████████| 1640/1640 [00:04<00:00, 349.57it/s]\n",
      "100%|███████████████████████████████████████| 1640/1640 [00:25<00:00, 63.81it/s]\n",
      "100%|█████████████████████████████████████| 1640/1640 [00:01<00:00, 1594.54it/s]\n"
     ]
    }
   ],
   "source": [
    "X_train, y_train, X_val, y_val, X_test, y_test = feature_extractor(df_train, df_val, df_test, 26)"
   ]
  },
  {
   "cell_type": "code",
   "execution_count": 187,
   "id": "5eaa4a3a-ee00-4b08-9056-ad3631f4caf1",
   "metadata": {},
   "outputs": [],
   "source": [
    "y_train, y_val, y_test = encode_labels(y_train, y_val, y_test)"
   ]
  },
  {
   "cell_type": "code",
   "execution_count": 188,
   "id": "f16da7f3-adf9-48b0-88be-e192627aedf0",
   "metadata": {},
   "outputs": [
    {
     "data": {
      "text/plain": [
       "1640"
      ]
     },
     "execution_count": 188,
     "metadata": {},
     "output_type": "execute_result"
    }
   ],
   "source": [
    "np.size(y_test)"
   ]
  },
  {
   "cell_type": "code",
   "execution_count": 189,
   "id": "6ba457db-8132-4191-a6cb-49ba8a2bc4d0",
   "metadata": {},
   "outputs": [],
   "source": [
    "X_train, X_val, X_test = standard_scaling(X_train, X_val, X_test)"
   ]
  },
  {
   "cell_type": "code",
   "execution_count": 190,
   "id": "aa1028e6-ee9c-42b4-bb4c-19e9cc46b8db",
   "metadata": {
    "tags": []
   },
   "outputs": [
    {
     "data": {
      "text/plain": [
       "(2840, 26)"
      ]
     },
     "execution_count": 190,
     "metadata": {},
     "output_type": "execute_result"
    }
   ],
   "source": [
    "X_train.shape"
   ]
  },
  {
   "cell_type": "markdown",
   "id": "1bd51899-f6ac-4420-bbd0-941d02b640e4",
   "metadata": {},
   "source": [
    "## Shuffle training data"
   ]
  },
  {
   "cell_type": "code",
   "execution_count": 191,
   "id": "f1cf57a4-7479-45de-a92c-bb72b62e0f47",
   "metadata": {},
   "outputs": [],
   "source": [
    "from sklearn.utils import shuffle\n",
    "X_train, y_train = shuffle(X_train, y_train)"
   ]
  },
  {
   "cell_type": "markdown",
   "id": "e26cd514-fb81-46fd-81f6-1d06094e50c5",
   "metadata": {
    "tags": []
   },
   "source": [
    "## Hypeparameter optimization"
   ]
  },
  {
   "cell_type": "code",
   "execution_count": 192,
   "id": "3dc8276c-a04a-4e89-a3be-6609862fd0f5",
   "metadata": {},
   "outputs": [],
   "source": [
    "# classweight \n",
    "from sklearn.utils import class_weight\n",
    "class_weights = class_weight.compute_class_weight('balanced', np.unique(y_train), y_train)\n",
    "class_weights = {l:c for l,c in zip(np.unique(y_train), class_weights)}"
   ]
  },
  {
   "cell_type": "code",
   "execution_count": 193,
   "id": "030ac7da-f541-4c47-983c-4d69e2b49116",
   "metadata": {},
   "outputs": [],
   "source": [
    "rand_search = RandomizedSearchCV(estimator=svc, \n",
    "                                 param_distributions=param_grid_clf, \n",
    "                                 n_jobs = -1, \n",
    "                                 cv=KFold(3))"
   ]
  },
  {
   "cell_type": "code",
   "execution_count": 194,
   "id": "15282e6f-68e4-4969-b97a-3123f38cf681",
   "metadata": {},
   "outputs": [
    {
     "name": "stdout",
     "output_type": "stream",
     "text": [
      "Performing Randomized Search...\n",
      "\n",
      "Done in 10.528s\n",
      "\n"
     ]
    }
   ],
   "source": [
    "print(\"Performing Randomized Search...\")\n",
    "t0 = time()\n",
    "rand_search.fit(X_train, y_train) \n",
    "print(\"\\nDone in %0.3fs\" % (time()-t0))\n",
    "print() "
   ]
  },
  {
   "cell_type": "code",
   "execution_count": 195,
   "id": "d782ee6a-d870-492b-a12d-2a46a5aef24a",
   "metadata": {},
   "outputs": [
    {
     "data": {
      "text/plain": [
       "{'kernel': 'rbf', 'C': 10}"
      ]
     },
     "execution_count": 195,
     "metadata": {},
     "output_type": "execute_result"
    }
   ],
   "source": [
    "best_params = rand_search.best_params_\n",
    "best_clf = rand_search.best_estimator_\n",
    "best_params"
   ]
  },
  {
   "cell_type": "code",
   "execution_count": 196,
   "id": "aa4d7338-f73f-4ef0-8ca5-0eadf0512d58",
   "metadata": {},
   "outputs": [
    {
     "data": {
      "text/plain": [
       "SVC(C=10, class_weight={0: 1.3148148148148149, 1: 0.8068181818181818})"
      ]
     },
     "execution_count": 196,
     "metadata": {},
     "output_type": "execute_result"
    }
   ],
   "source": [
    "best_clf =  SVC(C=best_params.get('C'), kernel=best_params.get('kernel'), class_weight=class_weights)\n",
    "best_clf.fit(X_train, y_train)"
   ]
  },
  {
   "cell_type": "markdown",
   "id": "63ebaabb-3b3c-489e-b814-834c802ee4c4",
   "metadata": {},
   "source": [
    "## Testing"
   ]
  },
  {
   "cell_type": "code",
   "execution_count": 197,
   "id": "1ffa6fe8-7f28-4a58-8155-a3211842f3f7",
   "metadata": {},
   "outputs": [
    {
     "name": "stdout",
     "output_type": "stream",
     "text": [
      "Testing...\n",
      "Accuracy: 0.65\n"
     ]
    }
   ],
   "source": [
    "print(\"Testing...\")\n",
    "pred = best_clf.predict(X_test) \n",
    "accuracy = best_clf.score(X_test, y_test) \n",
    "print(\"Accuracy: %s\" %str(accuracy))"
   ]
  },
  {
   "cell_type": "markdown",
   "id": "b57ea88d-6e74-479d-9bf9-c36caef289fb",
   "metadata": {},
   "source": [
    "## Save best model "
   ]
  },
  {
   "cell_type": "code",
   "execution_count": 198,
   "id": "137b7a38-4c74-469c-bcee-e02a93665a5b",
   "metadata": {},
   "outputs": [],
   "source": [
    "pkl_filename = \"/home/helemanc/Desktop/Binary_Model/models_experiments/Experiment_8/model_8_9.pkl\"\n",
    "with open(pkl_filename, 'wb') as file:\n",
    "    pickle.dump(best_clf, file)"
   ]
  },
  {
   "cell_type": "code",
   "execution_count": 199,
   "id": "1a1daf04-e4aa-428f-ab5c-12562a940cb4",
   "metadata": {
    "tags": []
   },
   "outputs": [
    {
     "data": {
      "text/plain": [
       "\"\\n# Load from file\\nwith open(pkl_filename, 'rb') as file:\\n    pickle_model = pickle.load(file)\\n\""
      ]
     },
     "execution_count": 199,
     "metadata": {},
     "output_type": "execute_result"
    }
   ],
   "source": [
    "'''\n",
    "# Load from file\n",
    "with open(pkl_filename, 'rb') as file:\n",
    "    pickle_model = pickle.load(file)\n",
    "'''"
   ]
  },
  {
   "cell_type": "markdown",
   "id": "d5ffed28-320c-458e-b49d-f6e19022c24b",
   "metadata": {
    "tags": []
   },
   "source": [
    "# Experiment 1.10: RAVDESS - TESS - SAVEE noise"
   ]
  },
  {
   "cell_type": "markdown",
   "id": "270ad9ca-d751-4b97-8f3d-5409ea77cabf",
   "metadata": {
    "tags": [],
    "toc-hr-collapsed": true
   },
   "source": [
    "## Read dataframes"
   ]
  },
  {
   "cell_type": "code",
   "execution_count": 200,
   "id": "ce98cf30-d0a1-4a3e-b39d-cf34e0d87d39",
   "metadata": {
    "tags": []
   },
   "outputs": [],
   "source": [
    "preprocess_path_rav = \"/home/helemanc/Desktop/Binary_Model/df_csv_noise/ravdess\"\n",
    "preprocess_path_savee = \"/home/helemanc/Desktop/Binary_Model/df_csv_noise/savee\"\n",
    "preprocess_path_tess = \"/home/helemanc/Desktop/Binary_Model/df_csv_noise/tess\"\n",
    "\n",
    "df_train_rav = pd.read_csv(os.path.join(preprocess_path_rav,\"df_train.csv\"))\n",
    "df_val_rav = pd.read_csv(os.path.join(preprocess_path_rav,\"df_val.csv\"))\n",
    "df_test_rav = pd.read_csv(os.path.join(preprocess_path_rav,\"df_test.csv\"))  \n",
    "\n",
    "df_train_tess = pd.read_csv(os.path.join(preprocess_path_tess,\"df_train.csv\"))\n",
    "df_test_tess= pd.read_csv(os.path.join(preprocess_path_tess,\"df_test.csv\"))  \n",
    "\n",
    "df_train_savee = pd.read_csv(os.path.join(preprocess_path_savee,\"df_train.csv\"))\n",
    "df_val_savee = pd.read_csv(os.path.join(preprocess_path_savee,\"df_val.csv\"))\n",
    "df_test_savee = pd.read_csv(os.path.join(preprocess_path_savee,\"df_test.csv\"))  "
   ]
  },
  {
   "cell_type": "code",
   "execution_count": 201,
   "id": "ba4d41fc-bbad-44cf-be36-36aa4baafa35",
   "metadata": {},
   "outputs": [],
   "source": [
    "df_train = pd.concat([df_train_rav, df_train_savee, df_train_tess])\n",
    "df_val = pd.concat([df_val_rav, df_val_savee])\n",
    "#df_test = pd.concat([df_test_rav, df_test_savee, df_test_tess])\n",
    "df_test = pd.concat([RAV_train, SAVEE_test])"
   ]
  },
  {
   "cell_type": "code",
   "execution_count": 202,
   "id": "38c9c1b2-6875-4dca-9dff-ef69ce0dd23a",
   "metadata": {
    "tags": []
   },
   "outputs": [],
   "source": [
    "df_train.reset_index(drop = True, inplace = True) \n",
    "df_val.reset_index(drop = True, inplace = True)\n",
    "df_test.reset_index(drop = True, inplace = True)"
   ]
  },
  {
   "cell_type": "markdown",
   "id": "53a8bb7c-f56c-4545-bfde-44d65d6bdc6b",
   "metadata": {
    "tags": []
   },
   "source": [
    "## Feature Extraction"
   ]
  },
  {
   "cell_type": "code",
   "execution_count": 203,
   "id": "b2756a3f-3488-43a4-8a48-336fa51c3600",
   "metadata": {
    "tags": []
   },
   "outputs": [
    {
     "name": "stderr",
     "output_type": "stream",
     "text": [
      "100%|██████████████████████████████████████| 5680/5680 [00:47<00:00, 120.60it/s]\n",
      "100%|███████████████████████████████████████| 5680/5680 [01:22<00:00, 68.50it/s]\n",
      "100%|█████████████████████████████████████| 5680/5680 [00:03<00:00, 1746.36it/s]\n",
      "100%|█████████████████████████████████████████| 240/240 [00:04<00:00, 57.69it/s]\n",
      "100%|█████████████████████████████████████████| 240/240 [00:03<00:00, 69.65it/s]\n",
      "100%|███████████████████████████████████████| 240/240 [00:00<00:00, 1223.91it/s]\n",
      "100%|██████████████████████████████████████| 1320/1320 [00:04<00:00, 320.63it/s]\n",
      "100%|███████████████████████████████████████| 1320/1320 [00:17<00:00, 76.35it/s]\n",
      "100%|█████████████████████████████████████| 1320/1320 [00:00<00:00, 1629.42it/s]\n"
     ]
    }
   ],
   "source": [
    "X_train, y_train, X_val, y_val, X_test, y_test = feature_extractor(df_train, df_val, df_test, 26)"
   ]
  },
  {
   "cell_type": "code",
   "execution_count": 204,
   "id": "0fd73bd6-0d0a-41a4-bc22-25f69f4e5b6e",
   "metadata": {},
   "outputs": [],
   "source": [
    "y_train, y_val, y_test = encode_labels(y_train, y_val, y_test)"
   ]
  },
  {
   "cell_type": "code",
   "execution_count": 205,
   "id": "b78287db-652e-41f4-8bd3-03ebcade81e4",
   "metadata": {},
   "outputs": [
    {
     "data": {
      "text/plain": [
       "1320"
      ]
     },
     "execution_count": 205,
     "metadata": {},
     "output_type": "execute_result"
    }
   ],
   "source": [
    "np.size(y_test)"
   ]
  },
  {
   "cell_type": "code",
   "execution_count": 206,
   "id": "7c280f37-8406-4efe-9166-246fc05f4da0",
   "metadata": {},
   "outputs": [],
   "source": [
    "X_train, X_val, X_test = standard_scaling(X_train, X_val, X_test)"
   ]
  },
  {
   "cell_type": "code",
   "execution_count": 207,
   "id": "374a58f0-3743-4506-aaab-c0bfeec72647",
   "metadata": {
    "tags": []
   },
   "outputs": [
    {
     "data": {
      "text/plain": [
       "(5680, 26)"
      ]
     },
     "execution_count": 207,
     "metadata": {},
     "output_type": "execute_result"
    }
   ],
   "source": [
    "X_train.shape"
   ]
  },
  {
   "cell_type": "markdown",
   "id": "a60b272c-765f-4d81-9d22-368f1e1ceb8f",
   "metadata": {},
   "source": [
    "## Shuffle training data"
   ]
  },
  {
   "cell_type": "code",
   "execution_count": 208,
   "id": "12190a72-207c-46ac-aca9-38ed80395f3f",
   "metadata": {},
   "outputs": [],
   "source": [
    "from sklearn.utils import shuffle\n",
    "X_train, y_train = shuffle(X_train, y_train)"
   ]
  },
  {
   "cell_type": "markdown",
   "id": "20d6dede-ea68-4ee1-9de0-7364559d0009",
   "metadata": {
    "tags": []
   },
   "source": [
    "## Hypeparameter optimization"
   ]
  },
  {
   "cell_type": "code",
   "execution_count": 209,
   "id": "245e2c6b-de1d-457b-9472-5ee5c324e54c",
   "metadata": {},
   "outputs": [],
   "source": [
    "# classweight \n",
    "from sklearn.utils import class_weight\n",
    "class_weights = class_weight.compute_class_weight('balanced', np.unique(y_train), y_train)\n",
    "class_weights = {l:c for l,c in zip(np.unique(y_train), class_weights)}"
   ]
  },
  {
   "cell_type": "code",
   "execution_count": 210,
   "id": "cc8331a6-5ca9-4c7f-b564-49eca058b8ed",
   "metadata": {},
   "outputs": [],
   "source": [
    "rand_search = RandomizedSearchCV(estimator=svc, \n",
    "                                 param_distributions=param_grid_clf, \n",
    "                                 n_jobs = -1, \n",
    "                                 cv=KFold(3))"
   ]
  },
  {
   "cell_type": "code",
   "execution_count": 211,
   "id": "58306ad4-c74d-4330-b167-50c99846acd8",
   "metadata": {},
   "outputs": [
    {
     "name": "stdout",
     "output_type": "stream",
     "text": [
      "Performing Randomized Search...\n",
      "\n",
      "Done in 37.337s\n",
      "\n"
     ]
    }
   ],
   "source": [
    "print(\"Performing Randomized Search...\")\n",
    "t0 = time()\n",
    "rand_search.fit(X_train, y_train) \n",
    "print(\"\\nDone in %0.3fs\" % (time()-t0))\n",
    "print() "
   ]
  },
  {
   "cell_type": "code",
   "execution_count": 212,
   "id": "4643cd17-f40e-4dbe-bf25-1d080d949ef5",
   "metadata": {},
   "outputs": [
    {
     "data": {
      "text/plain": [
       "{'kernel': 'rbf', 'C': 10}"
      ]
     },
     "execution_count": 212,
     "metadata": {},
     "output_type": "execute_result"
    }
   ],
   "source": [
    "best_params = rand_search.best_params_\n",
    "best_clf = rand_search.best_estimator_\n",
    "best_params"
   ]
  },
  {
   "cell_type": "code",
   "execution_count": 213,
   "id": "6a8a49eb-77e5-417f-93e7-57205f1222f6",
   "metadata": {},
   "outputs": [
    {
     "data": {
      "text/plain": [
       "SVC(C=10, class_weight={0: 1.3148148148148149, 1: 0.8068181818181818})"
      ]
     },
     "execution_count": 213,
     "metadata": {},
     "output_type": "execute_result"
    }
   ],
   "source": [
    "best_clf =  SVC(C=best_params.get('C'), kernel=best_params.get('kernel'), class_weight=class_weights)\n",
    "best_clf.fit(X_train, y_train)"
   ]
  },
  {
   "cell_type": "markdown",
   "id": "6655b621-7c92-4b0f-bf8e-ea9a51dbcc9f",
   "metadata": {},
   "source": [
    "## Testing"
   ]
  },
  {
   "cell_type": "code",
   "execution_count": 214,
   "id": "6c1986c9-b0c9-4042-a152-ae532ae1561a",
   "metadata": {},
   "outputs": [
    {
     "name": "stdout",
     "output_type": "stream",
     "text": [
      "Testing...\n",
      "Accuracy: 0.878030303030303\n"
     ]
    }
   ],
   "source": [
    "print(\"Testing...\")\n",
    "pred = best_clf.predict(X_test) \n",
    "accuracy = best_clf.score(X_test, y_test) \n",
    "print(\"Accuracy: %s\" %str(accuracy))"
   ]
  },
  {
   "cell_type": "markdown",
   "id": "3d2ac6d5-a80e-4ba3-9efd-0a44c9a59c67",
   "metadata": {},
   "source": [
    "## Save best model "
   ]
  },
  {
   "cell_type": "code",
   "execution_count": 215,
   "id": "7f86275c-70c8-4929-bab9-5ea36d86dc7d",
   "metadata": {},
   "outputs": [],
   "source": [
    "pkl_filename = \"/home/helemanc/Desktop/Binary_Model/models_experiments/Experiment_8/model_8_10.pkl\"\n",
    "with open(pkl_filename, 'wb') as file:\n",
    "    pickle.dump(best_clf, file)"
   ]
  },
  {
   "cell_type": "code",
   "execution_count": 216,
   "id": "4b1783c8-ae1e-4f80-8598-e3da92810a97",
   "metadata": {
    "tags": []
   },
   "outputs": [
    {
     "data": {
      "text/plain": [
       "\"\\n# Load from file\\nwith open(pkl_filename, 'rb') as file:\\n    pickle_model = pickle.load(file)\\n\""
      ]
     },
     "execution_count": 216,
     "metadata": {},
     "output_type": "execute_result"
    }
   ],
   "source": [
    "'''\n",
    "# Load from file\n",
    "with open(pkl_filename, 'rb') as file:\n",
    "    pickle_model = pickle.load(file)\n",
    "'''"
   ]
  },
  {
   "cell_type": "markdown",
   "id": "f43dca60-1cb9-4bbb-87f0-132325a55e34",
   "metadata": {},
   "source": [
    "# Experiment 1.11: RAVDESS - TESS - SAVEE - CREMA"
   ]
  },
  {
   "cell_type": "code",
   "execution_count": 217,
   "id": "4663d954-0772-45dd-9f3a-7c38115ca175",
   "metadata": {},
   "outputs": [],
   "source": [
    "df_train = pd.concat([RAV_train, SAVEE_train, TESS_train, CREMA_train])\n",
    "df_val = pd.concat([RAV_val, SAVEE_val, CREMA_val])\n",
    "df_test = pd.concat([RAV_test, SAVEE_test, TESS_test, CREMA_test])\n",
    "#df_test = pd.concat([RAV_train, SAVEE_test])"
   ]
  },
  {
   "cell_type": "code",
   "execution_count": 218,
   "id": "f88edeb4-4eec-4c97-9c06-6804f7ebb3f0",
   "metadata": {
    "tags": []
   },
   "outputs": [],
   "source": [
    "df_train.reset_index(drop = True, inplace = True) \n",
    "df_val.reset_index(drop = True, inplace = True)\n",
    "df_test.reset_index(drop = True, inplace = True)"
   ]
  },
  {
   "cell_type": "markdown",
   "id": "ba6a03f3-68a5-4841-8ddb-1428a7f3ab48",
   "metadata": {
    "tags": []
   },
   "source": [
    "## Feature Extraction"
   ]
  },
  {
   "cell_type": "code",
   "execution_count": 219,
   "id": "3bec8d16-77d8-49b0-b3e2-bb73c0ee5e2e",
   "metadata": {
    "tags": []
   },
   "outputs": [
    {
     "name": "stderr",
     "output_type": "stream",
     "text": [
      "100%|██████████████████████████████████████| 3160/3160 [00:24<00:00, 127.66it/s]\n",
      "100%|███████████████████████████████████████| 3160/3160 [00:43<00:00, 72.61it/s]\n",
      "100%|█████████████████████████████████████| 3160/3160 [00:01<00:00, 1708.05it/s]\n",
      "100%|█████████████████████████████████████████| 300/300 [00:04<00:00, 74.38it/s]\n",
      "100%|█████████████████████████████████████████| 300/300 [00:04<00:00, 74.44it/s]\n",
      "100%|███████████████████████████████████████| 300/300 [00:00<00:00, 1327.31it/s]\n",
      "100%|██████████████████████████████████████| 1700/1700 [00:04<00:00, 421.30it/s]\n",
      "100%|███████████████████████████████████████| 1700/1700 [00:26<00:00, 64.90it/s]\n",
      "100%|█████████████████████████████████████| 1700/1700 [00:01<00:00, 1672.29it/s]\n"
     ]
    }
   ],
   "source": [
    "X_train, y_train, X_val, y_val, X_test, y_test = feature_extractor(df_train, df_val, df_test, 26)"
   ]
  },
  {
   "cell_type": "code",
   "execution_count": 220,
   "id": "45d86562-ee77-4b3f-964d-34d67fe10bb2",
   "metadata": {},
   "outputs": [],
   "source": [
    "y_train, y_val, y_test = encode_labels(y_train, y_val, y_test)"
   ]
  },
  {
   "cell_type": "code",
   "execution_count": 221,
   "id": "6c4934f2-3291-4c3e-bab8-217f3a20a3dc",
   "metadata": {},
   "outputs": [
    {
     "data": {
      "text/plain": [
       "1700"
      ]
     },
     "execution_count": 221,
     "metadata": {},
     "output_type": "execute_result"
    }
   ],
   "source": [
    "np.size(y_test)"
   ]
  },
  {
   "cell_type": "code",
   "execution_count": 222,
   "id": "d6181778-b254-43e4-ab91-2a338aa284a0",
   "metadata": {},
   "outputs": [],
   "source": [
    "X_train, X_val, X_test = standard_scaling(X_train, X_val, X_test)"
   ]
  },
  {
   "cell_type": "code",
   "execution_count": 223,
   "id": "4606bdf6-027f-4f71-9a25-978927c37c33",
   "metadata": {},
   "outputs": [
    {
     "data": {
      "text/plain": [
       "(3160, 26)"
      ]
     },
     "execution_count": 223,
     "metadata": {},
     "output_type": "execute_result"
    }
   ],
   "source": [
    "X_train.shape"
   ]
  },
  {
   "cell_type": "markdown",
   "id": "cb1c7712-1afe-4cd9-aac5-e54e8da3e1d2",
   "metadata": {},
   "source": [
    "## Shuffle training data"
   ]
  },
  {
   "cell_type": "code",
   "execution_count": 224,
   "id": "18c89078-5d18-41dc-acb8-dd43b51406f3",
   "metadata": {},
   "outputs": [],
   "source": [
    "from sklearn.utils import shuffle\n",
    "X_train, y_train = shuffle(X_train, y_train)"
   ]
  },
  {
   "cell_type": "markdown",
   "id": "7c4e8a52-8a58-46f9-9803-eb987397ea2f",
   "metadata": {
    "tags": []
   },
   "source": [
    "## Hypeparameter optimization"
   ]
  },
  {
   "cell_type": "code",
   "execution_count": 225,
   "id": "0b575c4d-f9bf-478d-b611-a3b9a0aec775",
   "metadata": {},
   "outputs": [],
   "source": [
    "# classweight \n",
    "from sklearn.utils import class_weight\n",
    "class_weights = class_weight.compute_class_weight('balanced', np.unique(y_train), y_train)\n",
    "class_weights = {l:c for l,c in zip(np.unique(y_train), class_weights)}"
   ]
  },
  {
   "cell_type": "code",
   "execution_count": 226,
   "id": "5b62965c-59a8-4489-a610-25dd9bf02754",
   "metadata": {},
   "outputs": [],
   "source": [
    "rand_search = RandomizedSearchCV(estimator=svc, \n",
    "                                 param_distributions=param_grid_clf, \n",
    "                                 n_jobs = -1, \n",
    "                                 cv=KFold(3))"
   ]
  },
  {
   "cell_type": "code",
   "execution_count": 227,
   "id": "1b9393a7-9b6a-4738-82e3-f12e9f5856eb",
   "metadata": {},
   "outputs": [
    {
     "name": "stdout",
     "output_type": "stream",
     "text": [
      "Performing Randomized Search...\n",
      "\n",
      "Done in 13.442s\n",
      "\n"
     ]
    }
   ],
   "source": [
    "print(\"Performing Randomized Search...\")\n",
    "t0 = time()\n",
    "rand_search.fit(X_train, y_train) \n",
    "print(\"\\nDone in %0.3fs\" % (time()-t0))\n",
    "print() "
   ]
  },
  {
   "cell_type": "code",
   "execution_count": 228,
   "id": "4df02a67-83c8-40f0-86bf-dae1e876c292",
   "metadata": {},
   "outputs": [
    {
     "data": {
      "text/plain": [
       "{'kernel': 'rbf', 'C': 10}"
      ]
     },
     "execution_count": 228,
     "metadata": {},
     "output_type": "execute_result"
    }
   ],
   "source": [
    "best_params = rand_search.best_params_\n",
    "best_clf = rand_search.best_estimator_\n",
    "best_params"
   ]
  },
  {
   "cell_type": "code",
   "execution_count": 229,
   "id": "00add182-3c35-473f-bac9-79e593fb3521",
   "metadata": {},
   "outputs": [
    {
     "data": {
      "text/plain": [
       "SVC(C=10, class_weight={0: 1.381118881118881, 1: 0.7837301587301587})"
      ]
     },
     "execution_count": 229,
     "metadata": {},
     "output_type": "execute_result"
    }
   ],
   "source": [
    "best_clf =  SVC(C=best_params.get('C'), kernel=best_params.get('kernel'), class_weight=class_weights)\n",
    "best_clf.fit(X_train, y_train)"
   ]
  },
  {
   "cell_type": "markdown",
   "id": "0884c611-ac47-4b28-a6f2-b965350bf339",
   "metadata": {},
   "source": [
    "## Testing"
   ]
  },
  {
   "cell_type": "code",
   "execution_count": 230,
   "id": "f976dd0a-63a6-4978-a50a-10a670c62a07",
   "metadata": {},
   "outputs": [
    {
     "name": "stdout",
     "output_type": "stream",
     "text": [
      "Testing...\n",
      "Accuracy: 0.6594117647058824\n"
     ]
    }
   ],
   "source": [
    "print(\"Testing...\")\n",
    "pred = best_clf.predict(X_test) \n",
    "accuracy = best_clf.score(X_test, y_test) \n",
    "print(\"Accuracy: %s\" %str(accuracy))"
   ]
  },
  {
   "cell_type": "markdown",
   "id": "0483cf83-b543-48b6-87a7-8ff30fa6cb8d",
   "metadata": {},
   "source": [
    "## Save best model "
   ]
  },
  {
   "cell_type": "code",
   "execution_count": 231,
   "id": "e83b2ad6-57a5-4db0-96c4-28c053eee9b6",
   "metadata": {},
   "outputs": [],
   "source": [
    "pkl_filename = \"/home/helemanc/Desktop/Binary_Model/models_experiments/Experiment_8/model_8_11.pkl\"\n",
    "with open(pkl_filename, 'wb') as file:\n",
    "    pickle.dump(best_clf, file)"
   ]
  },
  {
   "cell_type": "code",
   "execution_count": 232,
   "id": "27293067-9289-4f1f-bb3a-d734659ddeb6",
   "metadata": {
    "tags": []
   },
   "outputs": [
    {
     "data": {
      "text/plain": [
       "\"\\n# Load from file\\nwith open(pkl_filename, 'rb') as file:\\n    pickle_model = pickle.load(file)\\n\""
      ]
     },
     "execution_count": 232,
     "metadata": {},
     "output_type": "execute_result"
    }
   ],
   "source": [
    "'''\n",
    "# Load from file\n",
    "with open(pkl_filename, 'rb') as file:\n",
    "    pickle_model = pickle.load(file)\n",
    "'''"
   ]
  },
  {
   "cell_type": "markdown",
   "id": "9012747a-f090-4751-a2e5-b24c94bec423",
   "metadata": {},
   "source": [
    "# Experiment 1.12:  RAVDESS - TESS - SAVEE - CREMA noise"
   ]
  },
  {
   "cell_type": "markdown",
   "id": "bb15773d-7513-4218-8643-2105a9850b2b",
   "metadata": {
    "tags": [],
    "toc-hr-collapsed": true
   },
   "source": [
    "## Read dataframes"
   ]
  },
  {
   "cell_type": "code",
   "execution_count": 233,
   "id": "ab902bcf-7895-47d7-93c5-0794ffe0137e",
   "metadata": {
    "tags": []
   },
   "outputs": [],
   "source": [
    "preprocess_path_rav = \"/home/helemanc/Desktop/Binary_Model/df_csv_noise/ravdess\"\n",
    "preprocess_path_savee = \"/home/helemanc/Desktop/Binary_Model/df_csv_noise/savee\"\n",
    "preprocess_path_tess = \"/home/helemanc/Desktop/Binary_Model/df_csv_noise/tess\"\n",
    "preprocess_path_crema = \"/home/helemanc/Desktop/Binary_Model/df_csv_noise/crema\"\n",
    "\n",
    "df_train_rav = pd.read_csv(os.path.join(preprocess_path_rav,\"df_train.csv\"))\n",
    "df_val_rav = pd.read_csv(os.path.join(preprocess_path_rav,\"df_val.csv\"))\n",
    "df_test_rav = pd.read_csv(os.path.join(preprocess_path_rav,\"df_test.csv\"))  \n",
    "\n",
    "df_train_tess = pd.read_csv(os.path.join(preprocess_path_tess,\"df_train.csv\"))\n",
    "df_test_tess= pd.read_csv(os.path.join(preprocess_path_tess,\"df_test.csv\"))  \n",
    "\n",
    "df_train_savee = pd.read_csv(os.path.join(preprocess_path_savee,\"df_train.csv\"))\n",
    "df_val_savee = pd.read_csv(os.path.join(preprocess_path_savee,\"df_val.csv\"))\n",
    "df_test_savee = pd.read_csv(os.path.join(preprocess_path_savee,\"df_test.csv\"))  \n",
    "\n",
    "df_train_crema = pd.read_csv(os.path.join(preprocess_path_crema,\"df_train.csv\"))\n",
    "df_val_crema = pd.read_csv(os.path.join(preprocess_path_crema,\"df_val.csv\"))\n",
    "df_test_crema = pd.read_csv(os.path.join(preprocess_path_crema,\"df_test.csv\")) "
   ]
  },
  {
   "cell_type": "code",
   "execution_count": 234,
   "id": "a2aaf3cf-3914-44e8-bb29-f36caaea91c0",
   "metadata": {},
   "outputs": [],
   "source": [
    "df_train = pd.concat([df_train_rav, df_train_savee, df_train_tess, df_train_crema])\n",
    "df_val = pd.concat([df_val_rav, df_val_savee, df_train_crema, df_train_crema])\n",
    "#df_test = pd.concat([df_test_rav, df_test_savee, df_test_tess])\n",
    "#df_test = pd.concat([df_test_rav, df_test_savee, df_test_crema ])\n",
    "df_test = pd.concat([df_test_rav, df_test_savee ])"
   ]
  },
  {
   "cell_type": "code",
   "execution_count": 235,
   "id": "abcd11c3-788f-4778-aafa-6a96169cab8e",
   "metadata": {
    "tags": []
   },
   "outputs": [],
   "source": [
    "df_train.reset_index(drop = True, inplace = True) \n",
    "df_val.reset_index(drop = True, inplace = True)\n",
    "df_test.reset_index(drop = True, inplace = True)"
   ]
  },
  {
   "cell_type": "markdown",
   "id": "b85d103d-0edf-49d8-b543-13573105c229",
   "metadata": {},
   "source": [
    "## Feature Extraction"
   ]
  },
  {
   "cell_type": "code",
   "execution_count": 236,
   "id": "76c4a4f2-756e-4613-b3ae-dfe98a8f7c2b",
   "metadata": {},
   "outputs": [
    {
     "name": "stderr",
     "output_type": "stream",
     "text": [
      "100%|██████████████████████████████████████| 6320/6320 [00:47<00:00, 133.28it/s]\n",
      "100%|███████████████████████████████████████| 6320/6320 [01:28<00:00, 71.34it/s]\n",
      "100%|█████████████████████████████████████| 6320/6320 [00:03<00:00, 1821.35it/s]\n",
      "100%|██████████████████████████████████████| 1520/1520 [00:04<00:00, 347.58it/s]\n",
      "100%|███████████████████████████████████████| 1520/1520 [00:22<00:00, 67.01it/s]\n",
      "100%|█████████████████████████████████████| 1520/1520 [00:00<00:00, 1638.81it/s]\n",
      "100%|█████████████████████████████████████████| 240/240 [00:03<00:00, 66.19it/s]\n",
      "100%|█████████████████████████████████████████| 240/240 [00:03<00:00, 69.54it/s]\n",
      "100%|███████████████████████████████████████| 240/240 [00:00<00:00, 1206.92it/s]\n"
     ]
    }
   ],
   "source": [
    "X_train, y_train, X_val, y_val, X_test, y_test = feature_extractor(df_train, df_val, df_test, 26) # 13"
   ]
  },
  {
   "cell_type": "code",
   "execution_count": 237,
   "id": "aca7168d-ff8e-4178-9dfc-4b74bdb4dedd",
   "metadata": {},
   "outputs": [
    {
     "data": {
      "text/plain": [
       "(26,)"
      ]
     },
     "execution_count": 237,
     "metadata": {},
     "output_type": "execute_result"
    }
   ],
   "source": [
    "X_train[0].shape"
   ]
  },
  {
   "cell_type": "code",
   "execution_count": 238,
   "id": "204357f1-8550-4b9f-b972-207260fbbfb9",
   "metadata": {},
   "outputs": [],
   "source": [
    "y_train, y_val, y_test = encode_labels(y_train, y_val, y_test)"
   ]
  },
  {
   "cell_type": "code",
   "execution_count": 239,
   "id": "9d65d502-ad3d-4cf1-af1d-1024e10fa780",
   "metadata": {},
   "outputs": [
    {
     "data": {
      "text/plain": [
       "1520"
      ]
     },
     "execution_count": 239,
     "metadata": {},
     "output_type": "execute_result"
    }
   ],
   "source": [
    "np.size(y_val)"
   ]
  },
  {
   "cell_type": "code",
   "execution_count": 240,
   "id": "952051d2-83a8-4a22-8c2b-472b51f7604b",
   "metadata": {},
   "outputs": [],
   "source": [
    "X_train, X_val, X_test = standard_scaling(X_train, X_val, X_test)"
   ]
  },
  {
   "cell_type": "code",
   "execution_count": 241,
   "id": "741bc426-99ad-4953-a27b-41e9987e63af",
   "metadata": {},
   "outputs": [
    {
     "data": {
      "text/plain": [
       "(6320, 26)"
      ]
     },
     "execution_count": 241,
     "metadata": {},
     "output_type": "execute_result"
    }
   ],
   "source": [
    "X_train.shape"
   ]
  },
  {
   "cell_type": "markdown",
   "id": "b8624338-0a5a-4d93-b236-921aef77ab0b",
   "metadata": {},
   "source": [
    "## Shuffle training data"
   ]
  },
  {
   "cell_type": "code",
   "execution_count": 242,
   "id": "470c2ae2-a093-4a22-9103-df291ba69a2e",
   "metadata": {},
   "outputs": [],
   "source": [
    "from sklearn.utils import shuffle\n",
    "X_train, y_train = shuffle(X_train, y_train)"
   ]
  },
  {
   "cell_type": "markdown",
   "id": "4a483905-faf2-4cdc-8f48-e1d860267e46",
   "metadata": {
    "tags": []
   },
   "source": [
    "## Hypeparameter optimization"
   ]
  },
  {
   "cell_type": "code",
   "execution_count": 243,
   "id": "e0d172f9-55ea-4635-a6d7-d86e2b7a2da0",
   "metadata": {},
   "outputs": [],
   "source": [
    "# classweight \n",
    "from sklearn.utils import class_weight\n",
    "class_weights = class_weight.compute_class_weight('balanced', np.unique(y_train), y_train)\n",
    "class_weights = {l:c for l,c in zip(np.unique(y_train), class_weights)}"
   ]
  },
  {
   "cell_type": "code",
   "execution_count": 244,
   "id": "d8604317-1fc7-4fcb-81f7-6d8ab63009ee",
   "metadata": {},
   "outputs": [],
   "source": [
    "rand_search = RandomizedSearchCV(estimator=svc, \n",
    "                                 param_distributions=param_grid_clf, \n",
    "                                 n_jobs = -1, \n",
    "                                 cv=KFold(3))"
   ]
  },
  {
   "cell_type": "code",
   "execution_count": 245,
   "id": "ca318a8f-552d-4513-9343-9f5af3e44658",
   "metadata": {},
   "outputs": [
    {
     "name": "stdout",
     "output_type": "stream",
     "text": [
      "Performing Randomized Search...\n",
      "\n",
      "Done in 42.224s\n",
      "\n"
     ]
    }
   ],
   "source": [
    "print(\"Performing Randomized Search...\")\n",
    "t0 = time()\n",
    "rand_search.fit(X_train, y_train) \n",
    "print(\"\\nDone in %0.3fs\" % (time()-t0))\n",
    "print() "
   ]
  },
  {
   "cell_type": "code",
   "execution_count": 246,
   "id": "24ddd10b-f876-4994-a24b-ab9925af990b",
   "metadata": {},
   "outputs": [
    {
     "data": {
      "text/plain": [
       "{'kernel': 'rbf', 'C': 10}"
      ]
     },
     "execution_count": 246,
     "metadata": {},
     "output_type": "execute_result"
    }
   ],
   "source": [
    "best_params = rand_search.best_params_\n",
    "best_clf = rand_search.best_estimator_\n",
    "best_params"
   ]
  },
  {
   "cell_type": "code",
   "execution_count": 247,
   "id": "e41b3aba-56f3-4d9f-a42a-17621e84fb2b",
   "metadata": {},
   "outputs": [
    {
     "data": {
      "text/plain": [
       "SVC(C=10, class_weight={0: 1.381118881118881, 1: 0.7837301587301587})"
      ]
     },
     "execution_count": 247,
     "metadata": {},
     "output_type": "execute_result"
    }
   ],
   "source": [
    "best_clf =  SVC(C=best_params.get('C'), kernel=best_params.get('kernel'), class_weight=class_weights)\n",
    "best_clf.fit(X_train, y_train)"
   ]
  },
  {
   "cell_type": "markdown",
   "id": "b432fdfc-c045-4fa2-bf22-3159a4c5672b",
   "metadata": {},
   "source": [
    "## Testing"
   ]
  },
  {
   "cell_type": "code",
   "execution_count": 248,
   "id": "e9725d79-f880-4c82-9241-cbd5a0bb8407",
   "metadata": {},
   "outputs": [
    {
     "name": "stdout",
     "output_type": "stream",
     "text": [
      "Testing...\n",
      "Accuracy: 0.5625\n"
     ]
    }
   ],
   "source": [
    "print(\"Testing...\")\n",
    "pred = best_clf.predict(X_test) \n",
    "accuracy = best_clf.score(X_test, y_test) \n",
    "print(\"Accuracy: %s\" %str(accuracy))"
   ]
  },
  {
   "cell_type": "markdown",
   "id": "041e757f-3501-49ee-a85d-a1b9e81df160",
   "metadata": {},
   "source": [
    "## Save best model "
   ]
  },
  {
   "cell_type": "code",
   "execution_count": 249,
   "id": "6e6b1f40-56fe-4c35-919e-04c34ce45685",
   "metadata": {},
   "outputs": [],
   "source": [
    "pkl_filename = \"/home/helemanc/Desktop/Binary_Model/models_experiments/Experiment_8/model_8_12.pkl\"\n",
    "with open(pkl_filename, 'wb') as file:\n",
    "    pickle.dump(best_clf, file)"
   ]
  },
  {
   "cell_type": "code",
   "execution_count": 250,
   "id": "60a9694d-15a0-40fb-8cc6-40d5e062cf82",
   "metadata": {
    "tags": []
   },
   "outputs": [
    {
     "data": {
      "text/plain": [
       "\"\\n# Load from file\\nwith open(pkl_filename, 'rb') as file:\\n    pickle_model = pickle.load(file)\\n\""
      ]
     },
     "execution_count": 250,
     "metadata": {},
     "output_type": "execute_result"
    }
   ],
   "source": [
    "'''\n",
    "# Load from file\n",
    "with open(pkl_filename, 'rb') as file:\n",
    "    pickle_model = pickle.load(file)\n",
    "'''"
   ]
  }
 ],
 "metadata": {
  "kernelspec": {
   "display_name": "Python 3 (ipykernel)",
   "language": "python",
   "name": "python3"
  },
  "language_info": {
   "codemirror_mode": {
    "name": "ipython",
    "version": 3
   },
   "file_extension": ".py",
   "mimetype": "text/x-python",
   "name": "python",
   "nbconvert_exporter": "python",
   "pygments_lexer": "ipython3",
   "version": "3.8.10"
  }
 },
 "nbformat": 4,
 "nbformat_minor": 5
}

{
 "cells": [
  {
   "cell_type": "markdown",
   "id": "e59f6973-0ecb-46bc-8a6b-21b07f9a7f24",
   "metadata": {
    "tags": []
   },
   "source": [
    "# Configuration\n",
    "\n",
    "NOTES: The warnings after the import are referred to the fact that Tensorflow 2.x versions are built to directly look for a GPU in the system. The warning can be forgot if you are not going to use the GPU. \n",
    "\n",
    "NOTE: Differently from experiments 1-4, here we have the 'mean' and 'std' of mfccs in **compute_mfccs** function"
   ]
  },
  {
   "cell_type": "code",
   "execution_count": 1,
   "id": "1edcb51c-1bfa-416f-a951-0b14b581625e",
   "metadata": {},
   "outputs": [],
   "source": [
    "!source myenv/bin/activate"
   ]
  },
  {
   "cell_type": "code",
   "execution_count": 2,
   "id": "6f3292dd-6c5b-427f-bbf3-8986aa3d457b",
   "metadata": {},
   "outputs": [],
   "source": [
    "# samples in 5 seconds of audio, 16 KHz sample rate \n",
    "LENGTH_CHOSEN =  80000"
   ]
  },
  {
   "cell_type": "code",
   "execution_count": 3,
   "id": "606e26d0-b4d5-48d8-b427-76553f5884b0",
   "metadata": {},
   "outputs": [
    {
     "data": {
      "text/plain": [
       "[]"
      ]
     },
     "execution_count": 3,
     "metadata": {},
     "output_type": "execute_result"
    }
   ],
   "source": [
    "import os\n",
    "import librosa\n",
    "import numpy as np\n",
    "from tqdm.notebook import tqdm\n",
    "import pandas as pd\n",
    "import matplotlib.pyplot as plt\n",
    "import warnings\n",
    "warnings.filterwarnings(\"ignore\")\n",
    "import seaborn as sns\n",
    "sns.set_style('whitegrid')\n",
    "import IPython.display as ipd\n",
    "import librosa.display\n",
    "import numpy as np\n",
    "import pickle\n",
    "import scipy\n",
    "import ipywidgets\n",
    "import math\n",
    "from time import time\n",
    "\n",
    "from sklearn.model_selection import train_test_split\n",
    "from sklearn.ensemble import RandomForestClassifier\n",
    "from sklearn.preprocessing import StandardScaler, LabelEncoder\n",
    "from sklearn.pipeline import make_pipeline\n",
    "from sklearn.cluster import KMeans\n",
    "from sklearn.metrics import accuracy_score, confusion_matrix\n",
    "from scipy.cluster.hierarchy import dendrogram\n",
    "from sklearn.cluster import AgglomerativeClustering\n",
    "from sklearn.model_selection import RandomizedSearchCV\n",
    "from sklearn.model_selection import KFold, StratifiedKFold\n",
    "\n",
    "\n",
    "from tqdm import tqdm\n",
    "\n",
    "import tensorflow as tf\n",
    "from tensorflow.keras.layers import Dense, Dropout, Conv2D, AveragePooling1D, MaxPooling2D, Flatten\n",
    "from tensorflow.keras.optimizers import SGD, Adam \n",
    "from tensorflow.keras.models import Sequential\n",
    "from tensorflow.keras import layers\n",
    "from tensorflow.keras import regularizers\n",
    "\n",
    "# from livelossplot import PlotLossesKeras\n",
    "tf.config.list_physical_devices('GPU')"
   ]
  },
  {
   "cell_type": "code",
   "execution_count": 4,
   "id": "da2fb8d5-5a42-45fb-969f-672514f065dc",
   "metadata": {},
   "outputs": [],
   "source": [
    "# import SVM\n",
    "from sklearn.model_selection import ParameterGrid\n",
    "from sklearn.svm import SVC "
   ]
  },
  {
   "cell_type": "code",
   "execution_count": 5,
   "id": "7ffaca36-5d42-4e40-8781-d09cf3d5cee5",
   "metadata": {},
   "outputs": [],
   "source": [
    "# set reproducibility \n",
    "seed = 7\n",
    "np.random.seed(seed)"
   ]
  },
  {
   "cell_type": "markdown",
   "id": "da91d3ec-4cff-45fb-93bb-63ea9570a6d9",
   "metadata": {
    "tags": []
   },
   "source": [
    "# Utils"
   ]
  },
  {
   "cell_type": "code",
   "execution_count": 6,
   "id": "bcc052fd-7872-42e0-902a-f2dc680c1edf",
   "metadata": {},
   "outputs": [],
   "source": [
    "def load_files(df):\n",
    "    X = []\n",
    "    for i in tqdm(df['path']): \n",
    "        X.append(librosa.load(i, res_type='kaiser_fast', sr=16000))\n",
    "    return X\n",
    "\n",
    "def extract_samples(X): \n",
    "    samples = []\n",
    "    for ind,i in enumerate(X):\n",
    "        samples.append(i[0])\n",
    "    return samples \n",
    "\n",
    "def extract_labels(df): \n",
    "    labels = df['emotion_label'].copy()\n",
    "    return labels \n",
    "\n",
    "def compute_lengths(samples): \n",
    "    lengths = [len(x) for x in samples]\n",
    "    return lengths \n",
    "\n",
    "def check_outliers(lengths):\n",
    "    # outliers\n",
    "    lengths = np.array(lengths)\n",
    "    print((lengths > 300000).sum())\n",
    "    new_lengths = lengths[lengths < 300000]\n",
    "    return new_lengths \n",
    "\n",
    "def compute_mean_length(lengths): \n",
    "    return lengths.mean()\n",
    "\n",
    "def cut_and_pad(samples, labels, length_chosen = LENGTH_CHOSEN): \n",
    "    X_new = []\n",
    "    y_new = []\n",
    "    count = 0 \n",
    "    for ind,i in enumerate(samples):\n",
    "        if i.shape[0] < 300000:\n",
    "            if i.shape[0] > length_chosen:\n",
    "                new = i[:length_chosen]\n",
    "                X_new.append(new)\n",
    "            elif i.shape[0] < length_chosen:\n",
    "                new = np.pad(i,math.ceil((length_chosen-i.shape[0])/2), mode='median')\n",
    "                X_new.append(new)\n",
    "            else:\n",
    "                X_new.append(i)\n",
    "            y_new.append(labels[count])\n",
    "        count+=1\n",
    "    \n",
    "    return X_new, y_new\n",
    "\n",
    "def compute_energy(samples): \n",
    "    energy_mean = []\n",
    "    for i in tqdm(samples):\n",
    "        energy = librosa.feature.rms(i)\n",
    "        energy = energy.T \n",
    "        energy = np.array(energy)\n",
    "        energy_mean.append(np.mean(energy, axis=0)) \n",
    "    return energy_mean\n",
    "\n",
    "def compute_mfccs(samples, n_mfcc): \n",
    "    mfccs = []\n",
    "    for i in tqdm(samples):\n",
    "        mfcc = librosa.feature.mfcc(y=i, sr=16000, n_mfcc=n_mfcc)\n",
    "        mfcc = mfcc.T\n",
    "        mfcc = np.array(mfcc)\n",
    "        #mfccs.append(mfcc[:, 1:]) # get rid of the first component \n",
    "        mfccs.append(np.mean(mfcc[:, 1:], axis = 0))\n",
    "    mfccs = np.array(mfccs)\n",
    "    return mfccs\n",
    "\n",
    "def feature_extractor(df_train, df_val, df_test, n_mfcc): \n",
    "    load_train = load_files(df_train)\n",
    "    samples_train = extract_samples(load_train)\n",
    "    labels_train = extract_labels(df_train)\n",
    "    samples_train, labels_train = cut_and_pad(samples_train, labels_train)\n",
    "    samples_train = np.array(samples_train)\n",
    "    labels_train = np.array(labels_train)\n",
    "    mfccs_train = compute_mfccs(samples_train, n_mfcc = n_mfcc)\n",
    "    # energy \n",
    "    energy_train = compute_energy(samples_train) \n",
    "    features_train = []\n",
    "    for i in range(len(mfccs_train)): \n",
    "        if len(mfccs_train) == len(energy_train): \n",
    "            conc = np.concatenate((mfccs_train[i], energy_train[i]), axis = None)\n",
    "            features_train.append(conc)\n",
    "\n",
    "    \n",
    "    \n",
    "  \n",
    "    load_val = load_files(df_val)\n",
    "    samples_val = extract_samples(load_val)\n",
    "    labels_val = extract_labels(df_val)\n",
    "    samples_val, labels_val = cut_and_pad(samples_val, labels_val)\n",
    "    samples_val = np.array(samples_val)\n",
    "    labels_val = np.array(labels_val)\n",
    "    mfccs_val = compute_mfccs(samples_val, n_mfcc = n_mfcc)\n",
    "    # energy \n",
    "    energy_val = compute_energy(samples_val) \n",
    "    features_val = []\n",
    "    for i in range(len(mfccs_val)): \n",
    "        if len(mfccs_val) == len(energy_val): \n",
    "            conc = np.concatenate((mfccs_val[i], energy_val[i]), axis = None)\n",
    "            features_val.append(conc)\n",
    "    \n",
    "    \n",
    "    \n",
    "    \n",
    "    load_test = load_files(df_test)\n",
    "    samples_test = extract_samples(load_test)\n",
    "    labels_test = extract_labels(df_test)\n",
    "    samples_test, labels_test = cut_and_pad(samples_test, labels_test)\n",
    "    samples_test = np.array(samples_test)\n",
    "    labels_test = np.array(labels_test)\n",
    "    mfccs_test = compute_mfccs(samples_test, n_mfcc = n_mfcc)\n",
    "    # energy \n",
    "    energy_test = compute_energy(samples_test) \n",
    "    features_test=[]\n",
    "    for i in range(len(mfccs_test)): \n",
    "        if len(mfccs_test) == len(energy_test): \n",
    "            conc = np.concatenate((mfccs_test[i], energy_test[i]), axis = None)\n",
    "            features_test.append(conc)\n",
    "    \n",
    "\n",
    "    return np.array(features_train), labels_train,  np.array(features_val), labels_val, np.array(features_test), labels_test\n",
    "    \n",
    "\n",
    "def feature_extractor_tess(df_train,  df_test, n_mfcc): \n",
    "    # we do not have the validation set here \n",
    "    load_train = load_files(df_train)\n",
    "    samples_train = extract_samples(load_train)\n",
    "    labels_train = extract_labels(df_train)\n",
    "    samples_train, labels_train = cut_and_pad(samples_train, labels_train)\n",
    "    samples_train = np.array(samples_train)\n",
    "    labels_train = np.array(labels_train)\n",
    "    mfccs_train = compute_mfccs(samples_train, n_mfcc = n_mfcc)\n",
    "    # energy \n",
    "    energy_train = compute_energy(samples_train) \n",
    "    features_train = []\n",
    "    for i in range(len(mfccs_train)): \n",
    "        if len(mfccs_train) == len(energy_train): \n",
    "            conc = np.concatenate((mfccs_train[i], energy_train[i]), axis = None)\n",
    "            features_train.append(conc)\n",
    "\n",
    "    \n",
    "    \n",
    "    load_test = load_files(df_test)\n",
    "    samples_test = extract_samples(load_test)\n",
    "    labels_test = extract_labels(df_test)\n",
    "    samples_test, labels_test = cut_and_pad(samples_test, labels_test)\n",
    "    samples_test = np.array(samples_test)\n",
    "    labels_test = np.array(labels_test)\n",
    "    mfccs_test = compute_mfccs(samples_test, n_mfcc = n_mfcc)\n",
    "    # energy \n",
    "    energy_test = compute_energy(samples_test) \n",
    "    features_test=[]\n",
    "    for i in range(len(mfccs_test)): \n",
    "        if len(mfccs_test) == len(energy_test): \n",
    "            conc = np.concatenate((mfccs_test[i], energy_test[i]), axis = None)\n",
    "            features_test.append(conc)\n",
    "    \n",
    "    \n",
    "    return np.array(features_train), labels_train, np.array(features_test), labels_test\n",
    "    \n",
    "def encode_labels(labels_train, labels_val, labels_test): \n",
    "    \n",
    "    emotion_enc = {'fear':1, 'disgust':1, 'neutral':0, 'calm':0,  'happy':0, 'sadness':1, 'surprise':0, 'angry':1}\n",
    "    y_train = pd.Series(labels_train).replace(emotion_enc)\n",
    "  \n",
    "    y_test = pd.Series(labels_test).map(emotion_enc)\n",
    "    y_val = pd.Series(labels_val).map(emotion_enc)\n",
    "    return y_train, y_val, y_test \n",
    "\n",
    "\n",
    "def encode_labels_tess(labels_train, labels_test): \n",
    "    \n",
    "    emotion_enc = {'fear':1, 'disgust':1, 'neutral':0, 'calm':0,  'happy':0, 'sadness':1, 'surprise':0, 'angry':1}\n",
    "    y_train = pd.Series(labels_train).replace(emotion_enc)\n",
    "  \n",
    "    y_test = pd.Series(labels_test).map(emotion_enc)\n",
    "    return y_train, y_test\n",
    "    \n",
    "def standard_scaling(X_train, X_val, X_test): \n",
    "  \n",
    "    scaler = StandardScaler()\n",
    "    X_train = scaler.fit_transform(X_train.reshape(-1, X_train.shape[-1])).reshape(X_train.shape)\n",
    "    X_test = scaler.transform(X_test.reshape(-1, X_test.shape[-1])).reshape(X_test.shape)\n",
    "    X_val = scaler.transform(X_val.reshape(-1, X_val.shape[-1])).reshape(X_val.shape)\n",
    "    return X_train, X_val, X_test \n",
    "    \n",
    "def standard_scaling_tess(X_train, X_test): \n",
    "  \n",
    "    scaler = StandardScaler()\n",
    "    X_train = scaler.fit_transform(X_train.reshape(-1, X_train.shape[-1])).reshape(X_train.shape)\n",
    "    X_test = scaler.transform(X_test.reshape(-1, X_test.shape[-1])).reshape(X_test.shape)\n",
    "    return X_train, X_test   \n",
    "    \n"
   ]
  },
  {
   "cell_type": "markdown",
   "id": "c1e20187-f70f-4e50-b94e-f0690d3760c2",
   "metadata": {
    "tags": []
   },
   "source": [
    "# Compute dataframes for datasets and split in Train, Val, Test "
   ]
  },
  {
   "cell_type": "code",
   "execution_count": 7,
   "id": "92d7790d-0021-4b86-b4ea-a46de6f81692",
   "metadata": {},
   "outputs": [],
   "source": [
    "#main_path = '/media/helemanc/OS/Users/i2CAT/Desktop/Datasets SER/'\n",
    "main_path = '/Users/helemanc/Documents/MasterAI/THESIS/Datasets SER'\n",
    "TESS = os.path.join(main_path, \"tess/TESS Toronto emotional speech set data/\") \n",
    "RAV = os.path.join(main_path, \"ravdess-emotional-speech-audio/audio_speech_actors_01-24\")\n",
    "SAVEE = os.path.join(main_path, \"savee/ALL/\")\n",
    "CREMA = os.path.join(main_path, \"creamd/AudioWAV/\")"
   ]
  },
  {
   "cell_type": "markdown",
   "id": "18fc3bf1-7d53-4a36-9bd1-89143e24ac15",
   "metadata": {
    "tags": []
   },
   "source": [
    "## RADVESS"
   ]
  },
  {
   "cell_type": "code",
   "execution_count": 8,
   "id": "39ce4ce5-8054-462e-94df-aed1820386d3",
   "metadata": {},
   "outputs": [
    {
     "name": "stderr",
     "output_type": "stream",
     "text": [
      "25it [00:00, 148.77it/s]\n"
     ]
    }
   ],
   "source": [
    "lst = []\n",
    "emotion = []\n",
    "voc_channel = []\n",
    "full_path = []\n",
    "modality = []\n",
    "intensity = []\n",
    "actors = []\n",
    "phrase =[]\n",
    "\n",
    "for root, dirs, files in tqdm(os.walk(RAV)):\n",
    "    for file in files:\n",
    "        try:\n",
    "            #Load librosa array, obtain mfcss, store the file and the mfcss information in a new array\n",
    "            # X, sample_rate = librosa.load(os.path.join(root,file), res_type='kaiser_fast')\n",
    "            # mfccs = np.mean(librosa.feature.mfcc(y=X, sr=sample_rate, n_mfcc=40).T,axis=0) \n",
    "            # The instruction below converts the labels (from 1 to 8) to a series from 0 to 7\n",
    "            # This is because our predictor needs to start from 0 otherwise it will try to predict also 0.\n",
    "           \n",
    "            modal = int(file[1:2])\n",
    "            vchan = int(file[4:5])\n",
    "            lab = int(file[7:8])\n",
    "            ints = int(file[10:11])\n",
    "            phr = int(file[13:14])\n",
    "            act = int(file[18:20])\n",
    "            # arr = mfccs, lab\n",
    "            # lst.append(arr)\n",
    "            \n",
    "            modality.append(modal)\n",
    "            voc_channel.append(vchan)\n",
    "            emotion.append(lab) #only labels\n",
    "            intensity.append(ints)\n",
    "            phrase.append(phr)\n",
    "            actors.append(act)\n",
    "            \n",
    "            full_path.append((root, file)) # only files\n",
    "          # If the file is not valid, skip it\n",
    "        except ValueError:\n",
    "            continue"
   ]
  },
  {
   "cell_type": "code",
   "execution_count": 9,
   "id": "d652b816-0633-4bed-81b1-34b49a083ebf",
   "metadata": {},
   "outputs": [],
   "source": [
    "# 01 = neutral, 02 = calm, 03 = happy, 04 = sad, 05 = angry, 06 = fearful, 07 = disgust, 08 = surprised\n",
    "# merge neutral and calm\n",
    "emotions_list = ['neutral', 'neutral', 'happy', 'sadness', 'angry', 'fear', 'disgust', 'surprise']\n",
    "emotion_dict = {em[0]+1:em[1] for em in enumerate(emotions_list)}\n",
    "\n",
    "df = pd.DataFrame([emotion, voc_channel, modality, intensity, actors, actors,phrase, full_path]).T\n",
    "df.columns = ['emotion', 'voc_channel', 'modality', 'intensity', 'actors', 'gender', 'phrase', 'path']\n",
    "df['emotion'] = df['emotion'].map(emotion_dict)\n",
    "df['voc_channel'] = df['voc_channel'].map({1: 'speech', 2:'song'})\n",
    "df['modality'] = df['modality'].map({1: 'full AV', 2:'video only', 3:'audio only'})\n",
    "df['intensity'] = df['intensity'].map({1: 'normal', 2:'strong'})\n",
    "df['actors'] = df['actors']\n",
    "df['gender'] = df['actors'].apply(lambda x: 'female' if x%2 == 0 else 'male')\n",
    "df['phrase'] = df['phrase'].map({1: 'Kids are talking by the door', 2:'Dogs are sitting by the door'})\n",
    "df['path'] = df['path'].apply(lambda x: x[0] + '/' + x[1])"
   ]
  },
  {
   "cell_type": "code",
   "execution_count": 10,
   "id": "82cb4193-962b-476b-a9a6-8ed674841c5a",
   "metadata": {},
   "outputs": [],
   "source": [
    "# remove files with noise to apply the same noise to all files for data augmentation \n",
    "df = df[~df.path.str.contains('noise')]"
   ]
  },
  {
   "cell_type": "code",
   "execution_count": 11,
   "id": "36840b1d-f8ab-47cf-88a9-4e575cdcaa46",
   "metadata": {},
   "outputs": [
    {
     "data": {
      "text/html": [
       "<div>\n",
       "<style scoped>\n",
       "    .dataframe tbody tr th:only-of-type {\n",
       "        vertical-align: middle;\n",
       "    }\n",
       "\n",
       "    .dataframe tbody tr th {\n",
       "        vertical-align: top;\n",
       "    }\n",
       "\n",
       "    .dataframe thead th {\n",
       "        text-align: right;\n",
       "    }\n",
       "</style>\n",
       "<table border=\"1\" class=\"dataframe\">\n",
       "  <thead>\n",
       "    <tr style=\"text-align: right;\">\n",
       "      <th></th>\n",
       "      <th>emotion</th>\n",
       "      <th>voc_channel</th>\n",
       "      <th>modality</th>\n",
       "      <th>intensity</th>\n",
       "      <th>actors</th>\n",
       "      <th>gender</th>\n",
       "      <th>phrase</th>\n",
       "      <th>path</th>\n",
       "    </tr>\n",
       "  </thead>\n",
       "  <tbody>\n",
       "    <tr>\n",
       "      <th>0</th>\n",
       "      <td>angry</td>\n",
       "      <td>speech</td>\n",
       "      <td>audio only</td>\n",
       "      <td>normal</td>\n",
       "      <td>16</td>\n",
       "      <td>female</td>\n",
       "      <td>Dogs are sitting by the door</td>\n",
       "      <td>/Users/helemanc/Documents/MasterAI/THESIS/Data...</td>\n",
       "    </tr>\n",
       "    <tr>\n",
       "      <th>1</th>\n",
       "      <td>fear</td>\n",
       "      <td>speech</td>\n",
       "      <td>audio only</td>\n",
       "      <td>normal</td>\n",
       "      <td>16</td>\n",
       "      <td>female</td>\n",
       "      <td>Dogs are sitting by the door</td>\n",
       "      <td>/Users/helemanc/Documents/MasterAI/THESIS/Data...</td>\n",
       "    </tr>\n",
       "    <tr>\n",
       "      <th>2</th>\n",
       "      <td>fear</td>\n",
       "      <td>speech</td>\n",
       "      <td>audio only</td>\n",
       "      <td>strong</td>\n",
       "      <td>16</td>\n",
       "      <td>female</td>\n",
       "      <td>Kids are talking by the door</td>\n",
       "      <td>/Users/helemanc/Documents/MasterAI/THESIS/Data...</td>\n",
       "    </tr>\n",
       "    <tr>\n",
       "      <th>3</th>\n",
       "      <td>angry</td>\n",
       "      <td>speech</td>\n",
       "      <td>audio only</td>\n",
       "      <td>strong</td>\n",
       "      <td>16</td>\n",
       "      <td>female</td>\n",
       "      <td>Kids are talking by the door</td>\n",
       "      <td>/Users/helemanc/Documents/MasterAI/THESIS/Data...</td>\n",
       "    </tr>\n",
       "    <tr>\n",
       "      <th>5</th>\n",
       "      <td>disgust</td>\n",
       "      <td>speech</td>\n",
       "      <td>audio only</td>\n",
       "      <td>normal</td>\n",
       "      <td>16</td>\n",
       "      <td>female</td>\n",
       "      <td>Kids are talking by the door</td>\n",
       "      <td>/Users/helemanc/Documents/MasterAI/THESIS/Data...</td>\n",
       "    </tr>\n",
       "  </tbody>\n",
       "</table>\n",
       "</div>"
      ],
      "text/plain": [
       "   emotion voc_channel    modality intensity actors  gender  \\\n",
       "0    angry      speech  audio only    normal     16  female   \n",
       "1     fear      speech  audio only    normal     16  female   \n",
       "2     fear      speech  audio only    strong     16  female   \n",
       "3    angry      speech  audio only    strong     16  female   \n",
       "5  disgust      speech  audio only    normal     16  female   \n",
       "\n",
       "                         phrase  \\\n",
       "0  Dogs are sitting by the door   \n",
       "1  Dogs are sitting by the door   \n",
       "2  Kids are talking by the door   \n",
       "3  Kids are talking by the door   \n",
       "5  Kids are talking by the door   \n",
       "\n",
       "                                                path  \n",
       "0  /Users/helemanc/Documents/MasterAI/THESIS/Data...  \n",
       "1  /Users/helemanc/Documents/MasterAI/THESIS/Data...  \n",
       "2  /Users/helemanc/Documents/MasterAI/THESIS/Data...  \n",
       "3  /Users/helemanc/Documents/MasterAI/THESIS/Data...  \n",
       "5  /Users/helemanc/Documents/MasterAI/THESIS/Data...  "
      ]
     },
     "execution_count": 11,
     "metadata": {},
     "output_type": "execute_result"
    }
   ],
   "source": [
    "df.head()"
   ]
  },
  {
   "cell_type": "code",
   "execution_count": 12,
   "id": "df31efc5-bf56-45f9-8594-7d0119b4f30f",
   "metadata": {},
   "outputs": [],
   "source": [
    "# only speech\n",
    "RAV_df = df\n",
    "RAV_df = RAV_df.loc[RAV_df.voc_channel == 'speech']"
   ]
  },
  {
   "cell_type": "code",
   "execution_count": 13,
   "id": "2bbba861-f3fc-447c-88ff-e861b49ab9b7",
   "metadata": {},
   "outputs": [],
   "source": [
    "RAV_df.insert(0, \"emotion_label\", RAV_df.emotion, True)"
   ]
  },
  {
   "cell_type": "code",
   "execution_count": 14,
   "id": "e0577e45-1f4f-46be-8f50-a12d9143d059",
   "metadata": {},
   "outputs": [],
   "source": [
    "RAV_df = RAV_df.drop(['emotion', 'voc_channel', 'modality', 'intensity', 'phrase'], 1)"
   ]
  },
  {
   "cell_type": "code",
   "execution_count": 15,
   "id": "fee8ac55-6098-4cf0-8028-500d3ba9e285",
   "metadata": {
    "tags": []
   },
   "outputs": [
    {
     "data": {
      "text/html": [
       "<div>\n",
       "<style scoped>\n",
       "    .dataframe tbody tr th:only-of-type {\n",
       "        vertical-align: middle;\n",
       "    }\n",
       "\n",
       "    .dataframe tbody tr th {\n",
       "        vertical-align: top;\n",
       "    }\n",
       "\n",
       "    .dataframe thead th {\n",
       "        text-align: right;\n",
       "    }\n",
       "</style>\n",
       "<table border=\"1\" class=\"dataframe\">\n",
       "  <thead>\n",
       "    <tr style=\"text-align: right;\">\n",
       "      <th></th>\n",
       "      <th>emotion_label</th>\n",
       "      <th>actors</th>\n",
       "      <th>gender</th>\n",
       "      <th>path</th>\n",
       "    </tr>\n",
       "  </thead>\n",
       "  <tbody>\n",
       "    <tr>\n",
       "      <th>0</th>\n",
       "      <td>angry</td>\n",
       "      <td>16</td>\n",
       "      <td>female</td>\n",
       "      <td>/Users/helemanc/Documents/MasterAI/THESIS/Data...</td>\n",
       "    </tr>\n",
       "    <tr>\n",
       "      <th>1</th>\n",
       "      <td>fear</td>\n",
       "      <td>16</td>\n",
       "      <td>female</td>\n",
       "      <td>/Users/helemanc/Documents/MasterAI/THESIS/Data...</td>\n",
       "    </tr>\n",
       "    <tr>\n",
       "      <th>2</th>\n",
       "      <td>fear</td>\n",
       "      <td>16</td>\n",
       "      <td>female</td>\n",
       "      <td>/Users/helemanc/Documents/MasterAI/THESIS/Data...</td>\n",
       "    </tr>\n",
       "    <tr>\n",
       "      <th>3</th>\n",
       "      <td>angry</td>\n",
       "      <td>16</td>\n",
       "      <td>female</td>\n",
       "      <td>/Users/helemanc/Documents/MasterAI/THESIS/Data...</td>\n",
       "    </tr>\n",
       "    <tr>\n",
       "      <th>5</th>\n",
       "      <td>disgust</td>\n",
       "      <td>16</td>\n",
       "      <td>female</td>\n",
       "      <td>/Users/helemanc/Documents/MasterAI/THESIS/Data...</td>\n",
       "    </tr>\n",
       "    <tr>\n",
       "      <th>...</th>\n",
       "      <td>...</td>\n",
       "      <td>...</td>\n",
       "      <td>...</td>\n",
       "      <td>...</td>\n",
       "    </tr>\n",
       "    <tr>\n",
       "      <th>2869</th>\n",
       "      <td>happy</td>\n",
       "      <td>8</td>\n",
       "      <td>female</td>\n",
       "      <td>/Users/helemanc/Documents/MasterAI/THESIS/Data...</td>\n",
       "    </tr>\n",
       "    <tr>\n",
       "      <th>2871</th>\n",
       "      <td>happy</td>\n",
       "      <td>8</td>\n",
       "      <td>female</td>\n",
       "      <td>/Users/helemanc/Documents/MasterAI/THESIS/Data...</td>\n",
       "    </tr>\n",
       "    <tr>\n",
       "      <th>2872</th>\n",
       "      <td>neutral</td>\n",
       "      <td>8</td>\n",
       "      <td>female</td>\n",
       "      <td>/Users/helemanc/Documents/MasterAI/THESIS/Data...</td>\n",
       "    </tr>\n",
       "    <tr>\n",
       "      <th>2873</th>\n",
       "      <td>neutral</td>\n",
       "      <td>8</td>\n",
       "      <td>female</td>\n",
       "      <td>/Users/helemanc/Documents/MasterAI/THESIS/Data...</td>\n",
       "    </tr>\n",
       "    <tr>\n",
       "      <th>2874</th>\n",
       "      <td>neutral</td>\n",
       "      <td>8</td>\n",
       "      <td>female</td>\n",
       "      <td>/Users/helemanc/Documents/MasterAI/THESIS/Data...</td>\n",
       "    </tr>\n",
       "  </tbody>\n",
       "</table>\n",
       "<p>1440 rows × 4 columns</p>\n",
       "</div>"
      ],
      "text/plain": [
       "     emotion_label actors  gender  \\\n",
       "0            angry     16  female   \n",
       "1             fear     16  female   \n",
       "2             fear     16  female   \n",
       "3            angry     16  female   \n",
       "5          disgust     16  female   \n",
       "...            ...    ...     ...   \n",
       "2869         happy      8  female   \n",
       "2871         happy      8  female   \n",
       "2872       neutral      8  female   \n",
       "2873       neutral      8  female   \n",
       "2874       neutral      8  female   \n",
       "\n",
       "                                                   path  \n",
       "0     /Users/helemanc/Documents/MasterAI/THESIS/Data...  \n",
       "1     /Users/helemanc/Documents/MasterAI/THESIS/Data...  \n",
       "2     /Users/helemanc/Documents/MasterAI/THESIS/Data...  \n",
       "3     /Users/helemanc/Documents/MasterAI/THESIS/Data...  \n",
       "5     /Users/helemanc/Documents/MasterAI/THESIS/Data...  \n",
       "...                                                 ...  \n",
       "2869  /Users/helemanc/Documents/MasterAI/THESIS/Data...  \n",
       "2871  /Users/helemanc/Documents/MasterAI/THESIS/Data...  \n",
       "2872  /Users/helemanc/Documents/MasterAI/THESIS/Data...  \n",
       "2873  /Users/helemanc/Documents/MasterAI/THESIS/Data...  \n",
       "2874  /Users/helemanc/Documents/MasterAI/THESIS/Data...  \n",
       "\n",
       "[1440 rows x 4 columns]"
      ]
     },
     "execution_count": 15,
     "metadata": {},
     "output_type": "execute_result"
    }
   ],
   "source": [
    "RAV_df"
   ]
  },
  {
   "cell_type": "code",
   "execution_count": 16,
   "id": "b2e45a9f-fa37-46d2-bf0a-759b4279a443",
   "metadata": {
    "tags": []
   },
   "outputs": [],
   "source": [
    "RAV_train = []\n",
    "RAV_val = []\n",
    "RAV_test = []"
   ]
  },
  {
   "cell_type": "code",
   "execution_count": 17,
   "id": "ceb97055-1d42-4025-9309-5c7156488e6c",
   "metadata": {},
   "outputs": [
    {
     "data": {
      "text/plain": [
       "(1200, 120, 120)"
      ]
     },
     "execution_count": 17,
     "metadata": {},
     "output_type": "execute_result"
    }
   ],
   "source": [
    "for index, row in RAV_df.iterrows():\n",
    "    if row['actors'] in range(1,21): \n",
    "        RAV_train.append(row) \n",
    "    elif row['actors'] in range(21,23): \n",
    "        RAV_val.append(row)\n",
    "    elif row['actors'] in range(23,25): \n",
    "        RAV_test.append(row)\n",
    "len(RAV_train), len(RAV_val), len(RAV_test)"
   ]
  },
  {
   "cell_type": "code",
   "execution_count": 18,
   "id": "8661ba0f-5395-4fb1-b44a-af9c02599bb6",
   "metadata": {},
   "outputs": [],
   "source": [
    "RAV_train = pd.DataFrame(RAV_train)\n",
    "RAV_val = pd.DataFrame(RAV_val)\n",
    "RAV_test = pd.DataFrame(RAV_test)"
   ]
  },
  {
   "cell_type": "code",
   "execution_count": 19,
   "id": "f956f0a0-55d9-46be-96f2-ad06293e94ad",
   "metadata": {
    "tags": []
   },
   "outputs": [],
   "source": [
    "RAV_train = RAV_train.drop(['actors'], 1)\n",
    "RAV_val = RAV_val.drop(['actors'], 1)\n",
    "RAV_test = RAV_test.drop(['actors'], 1)"
   ]
  },
  {
   "cell_type": "code",
   "execution_count": 20,
   "id": "89d56f05-481e-4973-be7c-6e8c6a59b35c",
   "metadata": {},
   "outputs": [],
   "source": [
    "RAV_train.reset_index(drop=True, inplace = True) \n",
    "RAV_val.reset_index(drop=True, inplace = True) \n",
    "RAV_test.reset_index(drop=True, inplace = True ) "
   ]
  },
  {
   "cell_type": "markdown",
   "id": "b61667f2-1c30-4e48-8485-c6553dcb555d",
   "metadata": {
    "tags": []
   },
   "source": [
    "## SAVEE"
   ]
  },
  {
   "cell_type": "code",
   "execution_count": 21,
   "id": "5df322ea-98df-42db-9d64-74b98237f0c4",
   "metadata": {},
   "outputs": [
    {
     "data": {
      "text/plain": [
       "neutral     120\n",
       "surprise     60\n",
       "disgust      60\n",
       "sadness      60\n",
       "angry        60\n",
       "fear         60\n",
       "happy        60\n",
       "Name: emotion_label, dtype: int64"
      ]
     },
     "execution_count": 21,
     "metadata": {},
     "output_type": "execute_result"
    }
   ],
   "source": [
    "# Get the data location for SAVEE\n",
    "dir_list = os.listdir(SAVEE)\n",
    "\n",
    "# parse the filename to get the emotions\n",
    "emotion=[]\n",
    "path = []\n",
    "actors = []\n",
    "gender = []\n",
    "for i in dir_list:\n",
    "    actors.append(i[:2])\n",
    "    if i[-8:-6]=='_a':\n",
    "        emotion.append('angry')\n",
    "        gender.append('male')\n",
    "    elif i[-8:-6]=='_d':\n",
    "        emotion.append('disgust')\n",
    "        gender.append('male')\n",
    "    elif i[-8:-6]=='_f':\n",
    "        emotion.append('fear')\n",
    "        gender.append('male')\n",
    "    elif i[-8:-6]=='_h':\n",
    "        emotion.append('happy')\n",
    "        gender.append('male')\n",
    "    elif i[-8:-6]=='_n':\n",
    "        emotion.append('neutral')\n",
    "        gender.append('male')\n",
    "    elif i[-8:-6]=='sa':\n",
    "        emotion.append('sadness')\n",
    "        gender.append('male')\n",
    "    elif i[-8:-6]=='su':\n",
    "        emotion.append('surprise')\n",
    "        gender.append('male') \n",
    "    else:\n",
    "        emotion.append('Unknown') \n",
    "    path.append(SAVEE + i)\n",
    "    \n",
    "# Now check out the label count distribution \n",
    "SAVEE_df = pd.DataFrame(emotion, columns = ['emotion_label'])\n",
    "                      \n",
    "SAVEE_df = pd.concat([SAVEE_df,\n",
    "                      pd.DataFrame(actors, columns = ['actors']),\n",
    "                      pd.DataFrame(gender, columns = ['gender']), \n",
    "                      pd.DataFrame(path, columns = ['path'])], axis = 1)\n",
    "SAVEE_df.emotion_label.value_counts()"
   ]
  },
  {
   "cell_type": "code",
   "execution_count": 22,
   "id": "4c3aa8a3-22bb-4054-ad99-85849c23da58",
   "metadata": {},
   "outputs": [
    {
     "data": {
      "text/html": [
       "<div>\n",
       "<style scoped>\n",
       "    .dataframe tbody tr th:only-of-type {\n",
       "        vertical-align: middle;\n",
       "    }\n",
       "\n",
       "    .dataframe tbody tr th {\n",
       "        vertical-align: top;\n",
       "    }\n",
       "\n",
       "    .dataframe thead th {\n",
       "        text-align: right;\n",
       "    }\n",
       "</style>\n",
       "<table border=\"1\" class=\"dataframe\">\n",
       "  <thead>\n",
       "    <tr style=\"text-align: right;\">\n",
       "      <th></th>\n",
       "      <th>emotion_label</th>\n",
       "      <th>actors</th>\n",
       "      <th>gender</th>\n",
       "      <th>path</th>\n",
       "    </tr>\n",
       "  </thead>\n",
       "  <tbody>\n",
       "    <tr>\n",
       "      <th>0</th>\n",
       "      <td>sadness</td>\n",
       "      <td>JK</td>\n",
       "      <td>male</td>\n",
       "      <td>/Users/helemanc/Documents/MasterAI/THESIS/Data...</td>\n",
       "    </tr>\n",
       "    <tr>\n",
       "      <th>1</th>\n",
       "      <td>sadness</td>\n",
       "      <td>JK</td>\n",
       "      <td>male</td>\n",
       "      <td>/Users/helemanc/Documents/MasterAI/THESIS/Data...</td>\n",
       "    </tr>\n",
       "    <tr>\n",
       "      <th>2</th>\n",
       "      <td>neutral</td>\n",
       "      <td>DC</td>\n",
       "      <td>male</td>\n",
       "      <td>/Users/helemanc/Documents/MasterAI/THESIS/Data...</td>\n",
       "    </tr>\n",
       "    <tr>\n",
       "      <th>3</th>\n",
       "      <td>surprise</td>\n",
       "      <td>DC</td>\n",
       "      <td>male</td>\n",
       "      <td>/Users/helemanc/Documents/MasterAI/THESIS/Data...</td>\n",
       "    </tr>\n",
       "    <tr>\n",
       "      <th>4</th>\n",
       "      <td>neutral</td>\n",
       "      <td>DC</td>\n",
       "      <td>male</td>\n",
       "      <td>/Users/helemanc/Documents/MasterAI/THESIS/Data...</td>\n",
       "    </tr>\n",
       "  </tbody>\n",
       "</table>\n",
       "</div>"
      ],
      "text/plain": [
       "  emotion_label actors gender  \\\n",
       "0       sadness     JK   male   \n",
       "1       sadness     JK   male   \n",
       "2       neutral     DC   male   \n",
       "3      surprise     DC   male   \n",
       "4       neutral     DC   male   \n",
       "\n",
       "                                                path  \n",
       "0  /Users/helemanc/Documents/MasterAI/THESIS/Data...  \n",
       "1  /Users/helemanc/Documents/MasterAI/THESIS/Data...  \n",
       "2  /Users/helemanc/Documents/MasterAI/THESIS/Data...  \n",
       "3  /Users/helemanc/Documents/MasterAI/THESIS/Data...  \n",
       "4  /Users/helemanc/Documents/MasterAI/THESIS/Data...  "
      ]
     },
     "execution_count": 22,
     "metadata": {},
     "output_type": "execute_result"
    }
   ],
   "source": [
    "SAVEE_df.head()"
   ]
  },
  {
   "cell_type": "code",
   "execution_count": 23,
   "id": "1964ce24-0e6a-484d-82e8-f478aa1a1ab3",
   "metadata": {},
   "outputs": [],
   "source": [
    "SAVEE_train = []\n",
    "SAVEE_val = []\n",
    "SAVEE_test = []"
   ]
  },
  {
   "cell_type": "code",
   "execution_count": 24,
   "id": "6223ea37-8f6f-411f-a1d3-7f313b81592c",
   "metadata": {},
   "outputs": [
    {
     "data": {
      "text/plain": [
       "(240, 120, 120)"
      ]
     },
     "execution_count": 24,
     "metadata": {},
     "output_type": "execute_result"
    }
   ],
   "source": [
    "#DC, JE, JK, KL\n",
    "for index, row in SAVEE_df.iterrows(): \n",
    "    if row['actors'] == 'DC' or row ['actors'] == 'JE':\n",
    "        SAVEE_train.append(row)\n",
    "    elif row['actors'] == 'JK': \n",
    "        SAVEE_val.append(row)\n",
    "    else: \n",
    "        SAVEE_test.append(row)\n",
    "len(SAVEE_train), len(SAVEE_val), len(SAVEE_test)"
   ]
  },
  {
   "cell_type": "code",
   "execution_count": 25,
   "id": "efe63cf1-a634-45df-9e5f-fd9d42726fca",
   "metadata": {},
   "outputs": [],
   "source": [
    "SAVEE_train = pd.DataFrame(SAVEE_train)\n",
    "SAVEE_val = pd.DataFrame(SAVEE_val)\n",
    "SAVEE_test = pd.DataFrame(SAVEE_test)"
   ]
  },
  {
   "cell_type": "code",
   "execution_count": 26,
   "id": "3e8710f9-a885-4d92-8dfb-243b75040186",
   "metadata": {},
   "outputs": [],
   "source": [
    "SAVEE_train = SAVEE_train.drop(['actors'], 1)\n",
    "SAVEE_val = SAVEE_val.drop(['actors'], 1)\n",
    "SAVEE_test = SAVEE_test.drop(['actors'], 1)"
   ]
  },
  {
   "cell_type": "code",
   "execution_count": 27,
   "id": "1dddd38d-3f86-41ac-8a3f-fd7ddf91c429",
   "metadata": {
    "tags": []
   },
   "outputs": [],
   "source": [
    "SAVEE_train = SAVEE_train.reset_index(drop=True) \n",
    "SAVEE_val = SAVEE_val.reset_index(drop=True) \n",
    "SAVEE_test = SAVEE_test.reset_index(drop=True) "
   ]
  },
  {
   "cell_type": "markdown",
   "id": "1f28a3c8-8c20-4b97-8370-aaa20fa4f58c",
   "metadata": {},
   "source": [
    "## TESS"
   ]
  },
  {
   "cell_type": "code",
   "execution_count": 28,
   "id": "cd302da3-dfcf-4b9c-8f4b-2b8352a38b6c",
   "metadata": {},
   "outputs": [
    {
     "data": {
      "text/plain": [
       "angry       1200\n",
       "sadness      800\n",
       "neutral      800\n",
       "disgust      800\n",
       "surprise     800\n",
       "fear         800\n",
       "happy        400\n",
       "Name: emotion_label, dtype: int64"
      ]
     },
     "execution_count": 28,
     "metadata": {},
     "output_type": "execute_result"
    }
   ],
   "source": [
    "dir_list = os.listdir(TESS)\n",
    "dir_list.sort()\n",
    "dir_list\n",
    "\n",
    "path = []\n",
    "emotion = []\n",
    "gender = []\n",
    "actors = []\n",
    "\n",
    "for i in dir_list:\n",
    "    fname = os.listdir(TESS + i)\n",
    "    for f in fname:\n",
    "        if i == 'OAF_angry':\n",
    "            emotion.append('angry')\n",
    "            gender.append('female')\n",
    "            actors.append('OAF')\n",
    "        elif i == 'YAF_angry': \n",
    "            emotion.append('angry')\n",
    "            gender.append('female')\n",
    "            actors.append('YAF')\n",
    "            \n",
    "            \n",
    "        elif i == 'OAF_disgust' :\n",
    "            emotion.append('disgust')\n",
    "            gender.append('female')\n",
    "            actors.append('OAF')\n",
    "        elif i == 'YAF_disgust': \n",
    "            emotion.append('disgust')\n",
    "            gender.append('female')\n",
    "            actors.append('YAF')\n",
    "            \n",
    "            \n",
    "        elif i == 'OAF_Fear':\n",
    "            emotion.append('fear')\n",
    "            gender.append('female')\n",
    "            actors.append('OAF')\n",
    "        elif i == 'YAF_fear': \n",
    "            emotion.append('fear')\n",
    "            gender.append('female')\n",
    "            actors.append('YAF') \n",
    "            \n",
    "            \n",
    "        elif i == 'OAF_happy' :\n",
    "            emotion.append('happy')\n",
    "            gender.append('female')\n",
    "            actors.append('OAF')\n",
    "        elif i == 'YAF_happy': \n",
    "            emotion.append('angry')\n",
    "            gender.append('female')\n",
    "            actors.append('YAF')            \n",
    "            \n",
    "        elif i == 'OAF_neutral':\n",
    "            emotion.append('neutral')\n",
    "            gender.append('female')\n",
    "            actors.append('OAF')   \n",
    "        elif i == 'YAF_neutral': \n",
    "            emotion.append('neutral')\n",
    "            gender.append('female')\n",
    "            actors.append('YAF')      \n",
    "            \n",
    "                \n",
    "        elif i == 'OAF_Pleasant_surprise':\n",
    "            emotion.append('surprise')\n",
    "            gender.append('female')\n",
    "            actors.append('OAF')\n",
    "        \n",
    "        elif i == 'YAF_pleasant_surprised': \n",
    "            emotion.append('surprise')\n",
    "            gender.append('female')\n",
    "            actors.append('YAF')            \n",
    "            \n",
    "        elif i == 'OAF_Sad':\n",
    "            emotion.append('sadness')\n",
    "            gender.append('female')\n",
    "            actors.append('OAF')\n",
    "        elif i == 'YAF_sad': \n",
    "            emotion.append('sadness')\n",
    "            gender.append('female')\n",
    "            actors.append('YAF')            \n",
    "        else:\n",
    "            emotion.append('Unknown')\n",
    "        path.append(TESS + i + \"/\" + f)\n",
    "\n",
    "TESS_df = pd.DataFrame(emotion, columns = ['emotion_label'])\n",
    "TESS_df = pd.concat([TESS_df, pd.DataFrame(gender, columns = ['gender']), \n",
    "                     pd.DataFrame(actors, columns= ['actors']),\n",
    "                     pd.DataFrame(path, columns = ['path'])],axis=1)\n",
    "TESS_df.emotion_label.value_counts()"
   ]
  },
  {
   "cell_type": "code",
   "execution_count": 29,
   "id": "d477df35-9387-4d85-ae54-25bc6fd7eb20",
   "metadata": {
    "tags": []
   },
   "outputs": [],
   "source": [
    "TESS_df= TESS_df[~TESS_df.path.str.contains('noise')]"
   ]
  },
  {
   "cell_type": "code",
   "execution_count": 30,
   "id": "14fc34e1-447c-4a0d-8985-81eb3fcca4dc",
   "metadata": {},
   "outputs": [],
   "source": [
    "TESS_train = []\n",
    "TESS_test = []"
   ]
  },
  {
   "cell_type": "code",
   "execution_count": 31,
   "id": "3c8a57e6-4e99-4202-a5f1-e96059fb7d86",
   "metadata": {},
   "outputs": [
    {
     "data": {
      "text/plain": [
       "(1400, 1400)"
      ]
     },
     "execution_count": 31,
     "metadata": {},
     "output_type": "execute_result"
    }
   ],
   "source": [
    "for index, row in TESS_df.iterrows(): \n",
    "    if row['actors'] == 'YAF': \n",
    "        TESS_train.append(row)\n",
    "    else: \n",
    "        TESS_test.append(row)\n",
    "len(TESS_train), len(TESS_test)"
   ]
  },
  {
   "cell_type": "code",
   "execution_count": 32,
   "id": "673d0a5d-50b9-440b-a988-a2fc9a35435e",
   "metadata": {},
   "outputs": [],
   "source": [
    "TESS_train = pd.DataFrame(TESS_train)\n",
    "TESS_test = pd.DataFrame(TESS_test)"
   ]
  },
  {
   "cell_type": "code",
   "execution_count": 33,
   "id": "a1ad9757-7582-436d-8e0c-e74122cf8650",
   "metadata": {},
   "outputs": [],
   "source": [
    "TESS_train = TESS_train.reset_index(drop=True) \n",
    "TESS_test  = TESS_test.reset_index(drop=True) "
   ]
  },
  {
   "cell_type": "markdown",
   "id": "5328b5a0-138f-44c5-9e23-cef34d5552c6",
   "metadata": {},
   "source": [
    "## CREMA-D"
   ]
  },
  {
   "cell_type": "code",
   "execution_count": 34,
   "id": "e810ffee-c9f2-43a0-83db-0e78c5f3fe9b",
   "metadata": {
    "tags": []
   },
   "outputs": [],
   "source": [
    "males = [1,\n",
    "5,\n",
    "11,\n",
    "14,\n",
    "15,\n",
    "16,\n",
    "17,\n",
    "19,\n",
    "22,\n",
    "23,\n",
    "26,\n",
    "27,\n",
    "31,\n",
    "32,\n",
    "33,\n",
    "34,\n",
    "35,\n",
    "36,\n",
    "38,\n",
    "39,\n",
    "41,\n",
    "42,\n",
    "44,\n",
    "45,\n",
    "48,\n",
    "50,\n",
    "51,\n",
    "57,\n",
    "59, \n",
    "62, \n",
    "64,\n",
    "65, \n",
    "66,\n",
    "67,\n",
    "68,\n",
    "69,\n",
    "70,\n",
    "71,\n",
    "77, \n",
    "80, \n",
    "81, \n",
    "83, \n",
    "85, \n",
    "86, \n",
    "87,\n",
    "88, \n",
    "90]"
   ]
  },
  {
   "cell_type": "code",
   "execution_count": 35,
   "id": "637a8d18-37c8-4489-b1bc-9cbf8387c06f",
   "metadata": {},
   "outputs": [],
   "source": [
    "females = [ 2,\n",
    "3,\n",
    "4,\n",
    "6,\n",
    "7,\n",
    "8,\n",
    "9,\n",
    "10,\n",
    "12,\n",
    "13,\n",
    "18,\n",
    "20,\n",
    "21,\n",
    "24,\n",
    "25,\n",
    "28,\n",
    "29,\n",
    "30,\n",
    "37,\n",
    "40,\n",
    "43,\n",
    "46,\n",
    "47,\n",
    "49,\n",
    "52,\n",
    "53,\n",
    "54,\n",
    "55,\n",
    "56, \n",
    "58, \n",
    "60,\n",
    "61,\n",
    "63,\n",
    "72, \n",
    "73, \n",
    "74, \n",
    "75, \n",
    "76, \n",
    "78, \n",
    "79, \n",
    "82, \n",
    "84, \n",
    "89, \n",
    "91]"
   ]
  },
  {
   "cell_type": "code",
   "execution_count": 36,
   "id": "ecf8e38c-8615-492c-af8f-f97a609cf93a",
   "metadata": {},
   "outputs": [
    {
     "data": {
      "text/html": [
       "<div>\n",
       "<style scoped>\n",
       "    .dataframe tbody tr th:only-of-type {\n",
       "        vertical-align: middle;\n",
       "    }\n",
       "\n",
       "    .dataframe tbody tr th {\n",
       "        vertical-align: top;\n",
       "    }\n",
       "\n",
       "    .dataframe thead th {\n",
       "        text-align: right;\n",
       "    }\n",
       "</style>\n",
       "<table border=\"1\" class=\"dataframe\">\n",
       "  <thead>\n",
       "    <tr style=\"text-align: right;\">\n",
       "      <th></th>\n",
       "      <th>emotion_label</th>\n",
       "      <th>actors</th>\n",
       "      <th>gender</th>\n",
       "      <th>path</th>\n",
       "    </tr>\n",
       "  </thead>\n",
       "  <tbody>\n",
       "    <tr>\n",
       "      <th>0</th>\n",
       "      <td>sadness</td>\n",
       "      <td>28</td>\n",
       "      <td>female</td>\n",
       "      <td>/Users/helemanc/Documents/MasterAI/THESIS/Data...</td>\n",
       "    </tr>\n",
       "    <tr>\n",
       "      <th>1</th>\n",
       "      <td>angry</td>\n",
       "      <td>48</td>\n",
       "      <td>male</td>\n",
       "      <td>/Users/helemanc/Documents/MasterAI/THESIS/Data...</td>\n",
       "    </tr>\n",
       "    <tr>\n",
       "      <th>2</th>\n",
       "      <td>disgust</td>\n",
       "      <td>27</td>\n",
       "      <td>male</td>\n",
       "      <td>/Users/helemanc/Documents/MasterAI/THESIS/Data...</td>\n",
       "    </tr>\n",
       "    <tr>\n",
       "      <th>3</th>\n",
       "      <td>disgust</td>\n",
       "      <td>32</td>\n",
       "      <td>male</td>\n",
       "      <td>/Users/helemanc/Documents/MasterAI/THESIS/Data...</td>\n",
       "    </tr>\n",
       "    <tr>\n",
       "      <th>4</th>\n",
       "      <td>happy</td>\n",
       "      <td>80</td>\n",
       "      <td>male</td>\n",
       "      <td>/Users/helemanc/Documents/MasterAI/THESIS/Data...</td>\n",
       "    </tr>\n",
       "  </tbody>\n",
       "</table>\n",
       "</div>"
      ],
      "text/plain": [
       "  emotion_label actors  gender  \\\n",
       "0       sadness     28  female   \n",
       "1         angry     48    male   \n",
       "2       disgust     27    male   \n",
       "3       disgust     32    male   \n",
       "4         happy     80    male   \n",
       "\n",
       "                                                path  \n",
       "0  /Users/helemanc/Documents/MasterAI/THESIS/Data...  \n",
       "1  /Users/helemanc/Documents/MasterAI/THESIS/Data...  \n",
       "2  /Users/helemanc/Documents/MasterAI/THESIS/Data...  \n",
       "3  /Users/helemanc/Documents/MasterAI/THESIS/Data...  \n",
       "4  /Users/helemanc/Documents/MasterAI/THESIS/Data...  "
      ]
     },
     "execution_count": 36,
     "metadata": {},
     "output_type": "execute_result"
    }
   ],
   "source": [
    "crema_directory_list = os.listdir(CREMA)\n",
    "\n",
    "file_emotion = []\n",
    "file_path = []\n",
    "actors = []\n",
    "gender = []\n",
    "\n",
    "\n",
    "\n",
    "\n",
    "for file in crema_directory_list:\n",
    "\n",
    "    # storing file emotions\n",
    "    part=file.split('_')\n",
    "    \n",
    "    # use only high intensity files\n",
    "    if \"HI\" in part[3] :\n",
    "        actor = part[0][2:]\n",
    "        actors.append(actor)\n",
    "        if int(actor) in males:\n",
    "            gender.append('male')\n",
    "        else: \n",
    "            gender.append('female')\n",
    "    \n",
    "        # storing file paths\n",
    "        file_path.append(CREMA + file)\n",
    "        if part[2] == 'SAD':\n",
    "            file_emotion.append('sadness')\n",
    "        elif part[2] == 'ANG':\n",
    "            file_emotion.append('angry')\n",
    "        elif part[2] == 'DIS':\n",
    "            file_emotion.append('disgust')\n",
    "        elif part[2] == 'FEA':\n",
    "            file_emotion.append('fear')\n",
    "        elif part[2] == 'HAP':\n",
    "            file_emotion.append('happy')\n",
    "        elif part[2] == 'NEU':\n",
    "            file_emotion.append('neutral')\n",
    "        else:\n",
    "            file_emotion.append('Unknown')\n",
    "\n",
    "# dataframe for emotion of files\n",
    "emotion_df = pd.DataFrame(file_emotion, columns=['emotion_label'])\n",
    "\n",
    "# dataframe for path of files.\n",
    "path_df = pd.DataFrame(file_path, columns=['path'])\n",
    "actors_df = pd.DataFrame(actors, columns=['actors'])\n",
    "gender_df = pd.DataFrame(gender, columns=['gender'])                      \n",
    "Crema_df = pd.concat([emotion_df, actors_df, gender_df, path_df], axis=1)\n",
    "Crema_df.head()"
   ]
  },
  {
   "cell_type": "code",
   "execution_count": 37,
   "id": "8ccc62f9-c0b9-4c36-89ca-f6213a574745",
   "metadata": {},
   "outputs": [
    {
     "data": {
      "text/plain": [
       "(455, 4)"
      ]
     },
     "execution_count": 37,
     "metadata": {},
     "output_type": "execute_result"
    }
   ],
   "source": [
    "Crema_df.shape"
   ]
  },
  {
   "cell_type": "code",
   "execution_count": 38,
   "id": "54ef1e7e-edae-4293-836e-546ebcf7d539",
   "metadata": {},
   "outputs": [],
   "source": [
    "actor_files = {}\n",
    "\n",
    "for index, row in Crema_df.iterrows():\n",
    "    actor = row['actors']\n",
    "    if actor not in actor_files.keys(): \n",
    "        actor_files[actor] = 1\n",
    "    else: \n",
    "        actor_files[actor]+=1"
   ]
  },
  {
   "cell_type": "code",
   "execution_count": 39,
   "id": "ee0f640b-e17b-4c9b-a837-6bebc754aa74",
   "metadata": {},
   "outputs": [
    {
     "data": {
      "text/plain": [
       "{'28': 5,\n",
       " '48': 5,\n",
       " '27': 5,\n",
       " '32': 5,\n",
       " '80': 5,\n",
       " '59': 5,\n",
       " '39': 5,\n",
       " '43': 5,\n",
       " '56': 5,\n",
       " '31': 5,\n",
       " '24': 5,\n",
       " '51': 5,\n",
       " '44': 5,\n",
       " '77': 5,\n",
       " '62': 5,\n",
       " '88': 5,\n",
       " '55': 5,\n",
       " '40': 5,\n",
       " '13': 5,\n",
       " '06': 5,\n",
       " '35': 5,\n",
       " '20': 5,\n",
       " '87': 5,\n",
       " '09': 5,\n",
       " '78': 5,\n",
       " '65': 5,\n",
       " '70': 5,\n",
       " '23': 5,\n",
       " '36': 5,\n",
       " '01': 5,\n",
       " '14': 5,\n",
       " '47': 5,\n",
       " '52': 5,\n",
       " '58': 5,\n",
       " '37': 5,\n",
       " '22': 5,\n",
       " '71': 5,\n",
       " '64': 5,\n",
       " '50': 5,\n",
       " '45': 5,\n",
       " '57': 5,\n",
       " '42': 5,\n",
       " '29': 5,\n",
       " '53': 5,\n",
       " '46': 5,\n",
       " '33': 5,\n",
       " '26': 5,\n",
       " '34': 5,\n",
       " '21': 5,\n",
       " '15': 5,\n",
       " '08': 5,\n",
       " '86': 5,\n",
       " '79': 5,\n",
       " '63': 5,\n",
       " '76': 5,\n",
       " '25': 5,\n",
       " '30': 5,\n",
       " '07': 5,\n",
       " '12': 5,\n",
       " '41': 5,\n",
       " '54': 5,\n",
       " '89': 5,\n",
       " '81': 5,\n",
       " '49': 5,\n",
       " '38': 5,\n",
       " '05': 5,\n",
       " '10': 5,\n",
       " '61': 5,\n",
       " '74': 5,\n",
       " '69': 5,\n",
       " '18': 5,\n",
       " '83': 5,\n",
       " '17': 5,\n",
       " '02': 5,\n",
       " '73': 5,\n",
       " '66': 5,\n",
       " '84': 5,\n",
       " '91': 5,\n",
       " '90': 5,\n",
       " '85': 5,\n",
       " '03': 5,\n",
       " '16': 5,\n",
       " '67': 5,\n",
       " '72': 5,\n",
       " '68': 5,\n",
       " '82': 5,\n",
       " '19': 5,\n",
       " '11': 5,\n",
       " '04': 5,\n",
       " '75': 5,\n",
       " '60': 5}"
      ]
     },
     "execution_count": 39,
     "metadata": {},
     "output_type": "execute_result"
    }
   ],
   "source": [
    "actor_files"
   ]
  },
  {
   "cell_type": "code",
   "execution_count": 40,
   "id": "72c23fb0-874b-44a7-a69c-9d01fa347bd2",
   "metadata": {},
   "outputs": [],
   "source": [
    "count_males = 0 \n",
    "count_females = 0 \n",
    "male_list = []\n",
    "for index, row in Crema_df.iterrows(): \n",
    "    gender = row['gender']\n",
    "    actor = row['actors']\n",
    "    if gender == 'male':\n",
    "        count_males +=1\n",
    "        if actor not in male_list: \n",
    "            male_list.append(actor)\n",
    "    else: \n",
    "        count_females +=1"
   ]
  },
  {
   "cell_type": "code",
   "execution_count": 41,
   "id": "a1432b8a-2dd0-403a-b5e7-9e94209c5a4b",
   "metadata": {},
   "outputs": [
    {
     "data": {
      "text/plain": [
       "(235, 220)"
      ]
     },
     "execution_count": 41,
     "metadata": {},
     "output_type": "execute_result"
    }
   ],
   "source": [
    "count_males, count_females"
   ]
  },
  {
   "cell_type": "markdown",
   "id": "e9fb3632-9e15-4804-9936-9280a993e418",
   "metadata": {},
   "source": [
    "Since there are more males than females we will remove randomly 3 male actors (since there are exactly 5 audio files per actor)"
   ]
  },
  {
   "cell_type": "code",
   "execution_count": 42,
   "id": "f6f8703e-fa5c-4116-a894-e2763c14ffb1",
   "metadata": {},
   "outputs": [],
   "source": [
    "import random \n",
    "'''\n",
    "random.seed(42)\n",
    "males_to_remove = random.sample(male_list, 3)\n",
    "males_to_remove\n",
    "'''\n",
    "males_to_remove = ['17', '80', '88']"
   ]
  },
  {
   "cell_type": "code",
   "execution_count": 43,
   "id": "5495aaed-fa8d-4b2a-b7fc-1eceffec3bfc",
   "metadata": {},
   "outputs": [],
   "source": [
    "new_df = []\n",
    "for index, row in Crema_df.iterrows(): \n",
    "    if row['actors'] not in males_to_remove: \n",
    "        new_df.append(row)"
   ]
  },
  {
   "cell_type": "code",
   "execution_count": 44,
   "id": "85226c75-8e81-4626-ae1d-39143605bc1c",
   "metadata": {},
   "outputs": [],
   "source": [
    "CREMA_df = pd.DataFrame(new_df)"
   ]
  },
  {
   "cell_type": "code",
   "execution_count": 45,
   "id": "16bccc38-46e2-4896-8b1b-41c872fc86d9",
   "metadata": {},
   "outputs": [],
   "source": [
    "for index, row in CREMA_df.iterrows(): \n",
    "    if row['actors'] == '17': \n",
    "        print(\"Elements not removed\")"
   ]
  },
  {
   "cell_type": "code",
   "execution_count": 46,
   "id": "dfc1e56a-3d14-494a-bd45-99e5f23671b2",
   "metadata": {},
   "outputs": [],
   "source": [
    "count_males = 0 \n",
    "count_females = 0 \n",
    "male_list = []\n",
    "female_list = []\n",
    "for index, row in CREMA_df.iterrows(): \n",
    "    gender = row['gender']\n",
    "    actor = row['actors']\n",
    "    if gender == 'male':\n",
    "        count_males +=1\n",
    "        if actor not in male_list: \n",
    "            male_list.append(actor)\n",
    "    else: \n",
    "        count_females +=1\n",
    "        if actor not in female_list: \n",
    "            female_list.append(actor)"
   ]
  },
  {
   "cell_type": "code",
   "execution_count": 47,
   "id": "662ad090-a2cd-4141-9f2f-e41f8c99ce69",
   "metadata": {},
   "outputs": [
    {
     "data": {
      "text/plain": [
       "(220, 220)"
      ]
     },
     "execution_count": 47,
     "metadata": {},
     "output_type": "execute_result"
    }
   ],
   "source": [
    "count_males, count_females"
   ]
  },
  {
   "cell_type": "code",
   "execution_count": 48,
   "id": "45a6b76c-f0d0-47de-ac1d-14cbea6d2107",
   "metadata": {},
   "outputs": [
    {
     "data": {
      "text/plain": [
       "44"
      ]
     },
     "execution_count": 48,
     "metadata": {},
     "output_type": "execute_result"
    }
   ],
   "source": [
    "len(female_list)"
   ]
  },
  {
   "cell_type": "code",
   "execution_count": 49,
   "id": "6de68630-f5f0-4d50-99d4-0e196edf5b88",
   "metadata": {},
   "outputs": [
    {
     "data": {
      "text/plain": [
       "44"
      ]
     },
     "execution_count": 49,
     "metadata": {},
     "output_type": "execute_result"
    }
   ],
   "source": [
    "len(male_list)"
   ]
  },
  {
   "cell_type": "code",
   "execution_count": 50,
   "id": "feffcb91-2d77-41c2-97c0-9b65b4794301",
   "metadata": {},
   "outputs": [],
   "source": [
    "CREMA_train = []\n",
    "CREMA_val = []\n",
    "CREMA_test = []"
   ]
  },
  {
   "cell_type": "code",
   "execution_count": 51,
   "id": "f0e0f926-04c3-416c-aab5-0f92b3077269",
   "metadata": {},
   "outputs": [],
   "source": [
    "females_train = random.sample(female_list, 32)\n",
    "males_train = random.sample(male_list, 32)\n",
    "\n",
    "# remove the elements assigned to train \n",
    "for element in females_train:\n",
    "    if element in female_list:\n",
    "        female_list.remove(element)\n",
    "        \n",
    "for element in males_train:\n",
    "    if element in male_list:\n",
    "        male_list.remove(element)\n",
    "\n",
    "         \n",
    "females_val = random.sample(female_list, 6) \n",
    "males_val = random.sample(male_list, 6) \n",
    "\n",
    "# remove the elements assigned to val\n",
    "for element in females_val:\n",
    "    if element in female_list:\n",
    "        female_list.remove(element)\n",
    "        \n",
    "for element in males_val:\n",
    "    if element in male_list:\n",
    "        male_list.remove(element)\n",
    "        \n",
    "females_test = random.sample(female_list, 6) \n",
    "males_test = random.sample(male_list, 6)        "
   ]
  },
  {
   "cell_type": "code",
   "execution_count": 52,
   "id": "6bca0cf9-7622-434a-84f9-0713119dafb0",
   "metadata": {},
   "outputs": [
    {
     "data": {
      "text/plain": [
       "(['47',\n",
       "  '10',\n",
       "  '78',\n",
       "  '46',\n",
       "  '06',\n",
       "  '49',\n",
       "  '75',\n",
       "  '29',\n",
       "  '61',\n",
       "  '37',\n",
       "  '18',\n",
       "  '13',\n",
       "  '72',\n",
       "  '12',\n",
       "  '03',\n",
       "  '25',\n",
       "  '54',\n",
       "  '07',\n",
       "  '76',\n",
       "  '60',\n",
       "  '63',\n",
       "  '30',\n",
       "  '82',\n",
       "  '84',\n",
       "  '09',\n",
       "  '21',\n",
       "  '24',\n",
       "  '89',\n",
       "  '20',\n",
       "  '55',\n",
       "  '74',\n",
       "  '73'],\n",
       " ['90',\n",
       "  '15',\n",
       "  '51',\n",
       "  '70',\n",
       "  '16',\n",
       "  '66',\n",
       "  '31',\n",
       "  '81',\n",
       "  '69',\n",
       "  '71',\n",
       "  '83',\n",
       "  '42',\n",
       "  '39',\n",
       "  '87',\n",
       "  '77',\n",
       "  '45',\n",
       "  '62',\n",
       "  '11',\n",
       "  '41',\n",
       "  '86',\n",
       "  '65',\n",
       "  '35',\n",
       "  '67',\n",
       "  '23',\n",
       "  '27',\n",
       "  '33',\n",
       "  '14',\n",
       "  '36',\n",
       "  '38',\n",
       "  '44',\n",
       "  '19',\n",
       "  '68'],\n",
       " ['53', '91', '43', '58', '56', '52'],\n",
       " ['34', '22', '26', '01', '85', '32'],\n",
       " ['40', '28', '04', '79', '02', '08'],\n",
       " ['48', '50', '59', '64', '57', '05'])"
      ]
     },
     "execution_count": 52,
     "metadata": {},
     "output_type": "execute_result"
    }
   ],
   "source": [
    "females_train, males_train, females_val, males_val, females_test, males_test"
   ]
  },
  {
   "cell_type": "code",
   "execution_count": 53,
   "id": "1f8e1752-f647-4552-8015-48d3edda0f7a",
   "metadata": {},
   "outputs": [],
   "source": [
    "train = females_train + males_train \n",
    "val = females_val + males_val \n",
    "test = females_test + males_test"
   ]
  },
  {
   "cell_type": "code",
   "execution_count": 54,
   "id": "2a47b1aa-8533-45fc-ba15-b7f31574384d",
   "metadata": {
    "tags": []
   },
   "outputs": [],
   "source": [
    "for index, row in CREMA_df.iterrows(): \n",
    "    gender = row['gender']\n",
    "    actor = row['actors']\n",
    "    if actor in train: \n",
    "        CREMA_train.append(row)\n",
    "    elif actor in val: \n",
    "        CREMA_val.append(row)\n",
    "    else:\n",
    "        CREMA_test.append(row)"
   ]
  },
  {
   "cell_type": "code",
   "execution_count": 55,
   "id": "05f680c6-7112-4f1c-8197-9840b92015a5",
   "metadata": {},
   "outputs": [],
   "source": [
    "CREMA_train = pd.DataFrame(CREMA_train) \n",
    "CREMA_val = pd.DataFrame(CREMA_val) \n",
    "CREMA_test = pd.DataFrame(CREMA_test)"
   ]
  },
  {
   "cell_type": "code",
   "execution_count": 56,
   "id": "7e3b539d-978d-4fee-a835-5c3a33fe295d",
   "metadata": {
    "tags": []
   },
   "outputs": [
    {
     "data": {
      "text/plain": [
       "((320, 4), (60, 4), (60, 4))"
      ]
     },
     "execution_count": 56,
     "metadata": {},
     "output_type": "execute_result"
    }
   ],
   "source": [
    "CREMA_train.shape, CREMA_val.shape, CREMA_test.shape"
   ]
  },
  {
   "cell_type": "code",
   "execution_count": 57,
   "id": "e84cb57a-93aa-4349-bd58-6b614717d0ad",
   "metadata": {
    "tags": []
   },
   "outputs": [],
   "source": [
    "CREMA_train = CREMA_train.reset_index(drop=True) \n",
    "CREMA_val = CREMA_val.reset_index(drop = True) "
   ]
  },
  {
   "cell_type": "markdown",
   "id": "82f0fb09-a5db-4bbe-a4c7-9673434de1ab",
   "metadata": {},
   "source": [
    "# Random Search parameters"
   ]
  },
  {
   "cell_type": "code",
   "execution_count": 57,
   "id": "8858584c-56bc-40d1-b123-6da8d6766989",
   "metadata": {},
   "outputs": [],
   "source": [
    "param_grid_clf = {'C': [0.1,1, 10, 100], 'kernel': ['rbf',  'linear']}\n",
    "svc = SVC()"
   ]
  },
  {
   "cell_type": "markdown",
   "id": "db136c95-b48a-4d5a-be03-5096f1489084",
   "metadata": {
    "tags": []
   },
   "source": [
    "# Experiment 1.1 : RAVDESS"
   ]
  },
  {
   "cell_type": "code",
   "execution_count": 59,
   "id": "727e9cce-bd9c-4a8b-acdb-15e97d7c6518",
   "metadata": {
    "tags": []
   },
   "outputs": [],
   "source": [
    "df_train = RAV_train\n",
    "df_val = RAV_val\n",
    "df_test = RAV_test"
   ]
  },
  {
   "cell_type": "code",
   "execution_count": 60,
   "id": "775a216a-e2b5-4b90-a1cd-eddd2e46c85a",
   "metadata": {},
   "outputs": [
    {
     "data": {
      "text/html": [
       "<div>\n",
       "<style scoped>\n",
       "    .dataframe tbody tr th:only-of-type {\n",
       "        vertical-align: middle;\n",
       "    }\n",
       "\n",
       "    .dataframe tbody tr th {\n",
       "        vertical-align: top;\n",
       "    }\n",
       "\n",
       "    .dataframe thead th {\n",
       "        text-align: right;\n",
       "    }\n",
       "</style>\n",
       "<table border=\"1\" class=\"dataframe\">\n",
       "  <thead>\n",
       "    <tr style=\"text-align: right;\">\n",
       "      <th></th>\n",
       "      <th>emotion_label</th>\n",
       "      <th>gender</th>\n",
       "      <th>path</th>\n",
       "    </tr>\n",
       "  </thead>\n",
       "  <tbody>\n",
       "    <tr>\n",
       "      <th>0</th>\n",
       "      <td>angry</td>\n",
       "      <td>female</td>\n",
       "      <td>/Users/helemanc/Documents/MasterAI/THESIS/Data...</td>\n",
       "    </tr>\n",
       "    <tr>\n",
       "      <th>1</th>\n",
       "      <td>fear</td>\n",
       "      <td>female</td>\n",
       "      <td>/Users/helemanc/Documents/MasterAI/THESIS/Data...</td>\n",
       "    </tr>\n",
       "    <tr>\n",
       "      <th>2</th>\n",
       "      <td>fear</td>\n",
       "      <td>female</td>\n",
       "      <td>/Users/helemanc/Documents/MasterAI/THESIS/Data...</td>\n",
       "    </tr>\n",
       "    <tr>\n",
       "      <th>3</th>\n",
       "      <td>angry</td>\n",
       "      <td>female</td>\n",
       "      <td>/Users/helemanc/Documents/MasterAI/THESIS/Data...</td>\n",
       "    </tr>\n",
       "    <tr>\n",
       "      <th>4</th>\n",
       "      <td>disgust</td>\n",
       "      <td>female</td>\n",
       "      <td>/Users/helemanc/Documents/MasterAI/THESIS/Data...</td>\n",
       "    </tr>\n",
       "  </tbody>\n",
       "</table>\n",
       "</div>"
      ],
      "text/plain": [
       "  emotion_label  gender                                               path\n",
       "0         angry  female  /Users/helemanc/Documents/MasterAI/THESIS/Data...\n",
       "1          fear  female  /Users/helemanc/Documents/MasterAI/THESIS/Data...\n",
       "2          fear  female  /Users/helemanc/Documents/MasterAI/THESIS/Data...\n",
       "3         angry  female  /Users/helemanc/Documents/MasterAI/THESIS/Data...\n",
       "4       disgust  female  /Users/helemanc/Documents/MasterAI/THESIS/Data..."
      ]
     },
     "execution_count": 60,
     "metadata": {},
     "output_type": "execute_result"
    }
   ],
   "source": [
    "df_train.head()"
   ]
  },
  {
   "cell_type": "code",
   "execution_count": 61,
   "id": "401838e6-8eed-4a51-a812-c05c94be54b6",
   "metadata": {},
   "outputs": [
    {
     "data": {
      "text/plain": [
       "neutral     240\n",
       "surprise    160\n",
       "sadness     160\n",
       "angry       160\n",
       "fear        160\n",
       "happy       160\n",
       "disgust     160\n",
       "Name: emotion_label, dtype: int64"
      ]
     },
     "execution_count": 61,
     "metadata": {},
     "output_type": "execute_result"
    }
   ],
   "source": [
    "df_train['emotion_label'].value_counts()"
   ]
  },
  {
   "cell_type": "code",
   "execution_count": 62,
   "id": "814172a3-1205-47be-8061-8733c88f6e29",
   "metadata": {
    "tags": []
   },
   "outputs": [],
   "source": [
    "df_train.reset_index(drop = True, inplace = True) \n",
    "df_val.reset_index(drop = True, inplace = True)\n",
    "df_test.reset_index(drop = True, inplace = True)"
   ]
  },
  {
   "cell_type": "markdown",
   "id": "8824c4f3-8ad8-4a78-8035-e7ebb5d67d91",
   "metadata": {
    "tags": []
   },
   "source": [
    "## Feature Extraction"
   ]
  },
  {
   "cell_type": "code",
   "execution_count": 63,
   "id": "114074f6-d635-44d5-91ce-7c53d6948f81",
   "metadata": {
    "tags": []
   },
   "outputs": [
    {
     "name": "stderr",
     "output_type": "stream",
     "text": [
      "100%|██████████| 1200/1200 [00:05<00:00, 236.96it/s]\n",
      "100%|██████████| 1200/1200 [00:09<00:00, 121.94it/s]\n",
      "100%|██████████| 1200/1200 [00:00<00:00, 1322.42it/s]\n",
      "100%|██████████| 120/120 [00:00<00:00, 416.51it/s]\n",
      "100%|██████████| 120/120 [00:01<00:00, 113.93it/s]\n",
      "100%|██████████| 120/120 [00:00<00:00, 1396.36it/s]\n",
      "100%|██████████| 120/120 [00:00<00:00, 425.43it/s]\n",
      "100%|██████████| 120/120 [00:01<00:00, 89.67it/s]\n",
      "100%|██████████| 120/120 [00:00<00:00, 783.93it/s]\n"
     ]
    }
   ],
   "source": [
    "X_train, y_train, X_val, y_val, X_test, y_test = feature_extractor(df_train, df_val, df_test, 13)"
   ]
  },
  {
   "cell_type": "code",
   "execution_count": 64,
   "id": "2cef3747-075b-48ad-a63b-dd9c6a532d09",
   "metadata": {},
   "outputs": [],
   "source": [
    "y_train, y_val, y_test = encode_labels(y_train, y_val, y_test)"
   ]
  },
  {
   "cell_type": "code",
   "execution_count": 65,
   "id": "e3b6ea64-4b92-4dbd-ab20-192e422a4856",
   "metadata": {},
   "outputs": [],
   "source": [
    "values, counts = np.unique(y_train, return_counts=True)"
   ]
  },
  {
   "cell_type": "code",
   "execution_count": 66,
   "id": "874f1422-dd65-40a1-8d5a-ab8d000e62c7",
   "metadata": {},
   "outputs": [
    {
     "data": {
      "text/plain": [
       "array([560, 640])"
      ]
     },
     "execution_count": 66,
     "metadata": {},
     "output_type": "execute_result"
    }
   ],
   "source": [
    "counts"
   ]
  },
  {
   "cell_type": "code",
   "execution_count": 62,
   "id": "29aedd7d-7d36-40a8-b3b8-7589418efe93",
   "metadata": {},
   "outputs": [
    {
     "data": {
      "text/plain": [
       "120"
      ]
     },
     "execution_count": 62,
     "metadata": {},
     "output_type": "execute_result"
    }
   ],
   "source": [
    "np.size(y_val)"
   ]
  },
  {
   "cell_type": "code",
   "execution_count": 64,
   "id": "9e9da6d4-f686-4da3-9651-d89267002eab",
   "metadata": {},
   "outputs": [],
   "source": [
    "X_train, X_val, X_test = standard_scaling(X_train, X_val, X_test)"
   ]
  },
  {
   "cell_type": "code",
   "execution_count": 65,
   "id": "b20d4619-37c5-49c7-add1-f0881f603549",
   "metadata": {},
   "outputs": [
    {
     "data": {
      "text/plain": [
       "(1200, 13)"
      ]
     },
     "execution_count": 65,
     "metadata": {},
     "output_type": "execute_result"
    }
   ],
   "source": [
    "X_train.shape"
   ]
  },
  {
   "cell_type": "code",
   "execution_count": 66,
   "id": "344cd1a2-b312-4dad-96a5-7df99ea8d847",
   "metadata": {},
   "outputs": [
    {
     "data": {
      "text/plain": [
       "(1200,)"
      ]
     },
     "execution_count": 66,
     "metadata": {},
     "output_type": "execute_result"
    }
   ],
   "source": [
    "y_train.shape"
   ]
  },
  {
   "cell_type": "markdown",
   "id": "99dc07df-43e1-40da-8de0-6dc76e4400b4",
   "metadata": {},
   "source": [
    "## Shuffle training data"
   ]
  },
  {
   "cell_type": "code",
   "execution_count": 67,
   "id": "d3b9f0bc-4a2c-4f52-a184-65567d074b36",
   "metadata": {},
   "outputs": [],
   "source": [
    "from sklearn.utils import shuffle\n",
    "X_train, y_train = shuffle(X_train, y_train)"
   ]
  },
  {
   "cell_type": "markdown",
   "id": "ac51534e-fe79-4be2-bd4a-3f3daa036106",
   "metadata": {
    "tags": []
   },
   "source": [
    "## Hypeparameter optimization"
   ]
  },
  {
   "cell_type": "code",
   "execution_count": 68,
   "id": "2c924a56-18d6-446a-94de-626b0a0eff5d",
   "metadata": {},
   "outputs": [],
   "source": [
    "# classweight \n",
    "from sklearn.utils import class_weight\n",
    "class_weights = class_weight.compute_class_weight('balanced', np.unique(y_train), y_train)\n",
    "class_weights = {l:c for l,c in zip(np.unique(y_train), class_weights)}"
   ]
  },
  {
   "cell_type": "code",
   "execution_count": 69,
   "id": "7a102104-1c10-4b45-8462-328f4fe41e6c",
   "metadata": {},
   "outputs": [],
   "source": [
    "rand_search = RandomizedSearchCV(estimator=svc, \n",
    "                                 param_distributions=param_grid_clf, \n",
    "                                 n_jobs = -1, \n",
    "                                 cv=KFold(3))"
   ]
  },
  {
   "cell_type": "code",
   "execution_count": 70,
   "id": "882bb3e7-c937-43dd-9781-1564796f7a25",
   "metadata": {},
   "outputs": [
    {
     "name": "stdout",
     "output_type": "stream",
     "text": [
      "Performing Randomized Search...\n",
      "\n",
      "Done in 3.776s\n",
      "\n"
     ]
    }
   ],
   "source": [
    "print(\"Performing Randomized Search...\")\n",
    "t0 = time()\n",
    "rand_search.fit(X_train, y_train) \n",
    "print(\"\\nDone in %0.3fs\" % (time()-t0))\n",
    "print() "
   ]
  },
  {
   "cell_type": "code",
   "execution_count": 71,
   "id": "c35fa686-20f5-4f4e-b8ca-9ffcd367da05",
   "metadata": {},
   "outputs": [
    {
     "data": {
      "text/plain": [
       "{'kernel': 'rbf', 'C': 10}"
      ]
     },
     "execution_count": 71,
     "metadata": {},
     "output_type": "execute_result"
    }
   ],
   "source": [
    "best_params = rand_search.best_params_\n",
    "best_clf = rand_search.best_estimator_\n",
    "best_params"
   ]
  },
  {
   "cell_type": "code",
   "execution_count": 72,
   "id": "9aab1625-a29d-4e84-b374-e2099730e161",
   "metadata": {},
   "outputs": [
    {
     "data": {
      "text/plain": [
       "SVC(C=10, class_weight={0: 1.0714285714285714, 1: 0.9375})"
      ]
     },
     "execution_count": 72,
     "metadata": {},
     "output_type": "execute_result"
    }
   ],
   "source": [
    "best_clf =SVC(C=best_params.get('C'), kernel=best_params.get('kernel'), class_weight=class_weights)\n",
    "best_clf.fit(X_train, y_train)"
   ]
  },
  {
   "cell_type": "markdown",
   "id": "e31c1d02-7f07-44bc-a027-ba715228e12a",
   "metadata": {},
   "source": [
    "## Testing"
   ]
  },
  {
   "cell_type": "code",
   "execution_count": 73,
   "id": "2a0728af-17bb-44c9-9c20-7e84a6caca27",
   "metadata": {},
   "outputs": [
    {
     "name": "stdout",
     "output_type": "stream",
     "text": [
      "Testing...\n",
      "Accuracy: 0.625\n"
     ]
    }
   ],
   "source": [
    "print(\"Testing...\")\n",
    "pred = best_clf.predict(X_test) \n",
    "accuracy = best_clf.score(X_test, y_test) \n",
    "print(\"Accuracy: %s\" %str(accuracy))"
   ]
  },
  {
   "cell_type": "markdown",
   "id": "b674eec1-c562-4f03-b2d5-89743aea6c68",
   "metadata": {},
   "source": [
    "## Save best model "
   ]
  },
  {
   "cell_type": "code",
   "execution_count": 74,
   "id": "c0192c49-ef46-4c81-a1cb-408cdfe42977",
   "metadata": {},
   "outputs": [],
   "source": [
    "pkl_filename = \"/home/helemanc/Desktop/Binary_Model/models_experiments/Experiment_6/model_6_1.pkl\"\n",
    "with open(pkl_filename, 'wb') as file:\n",
    "    pickle.dump(best_clf, file)"
   ]
  },
  {
   "cell_type": "code",
   "execution_count": 75,
   "id": "38570d2c-9262-4361-8f7a-a8e07ff8cca4",
   "metadata": {
    "tags": []
   },
   "outputs": [
    {
     "data": {
      "text/plain": [
       "\"\\n# Load from file\\nwith open(pkl_filename, 'rb') as file:\\n    pickle_model = pickle.load(file)\\n\""
      ]
     },
     "execution_count": 75,
     "metadata": {},
     "output_type": "execute_result"
    }
   ],
   "source": [
    "'''\n",
    "# Load from file\n",
    "with open(pkl_filename, 'rb') as file:\n",
    "    pickle_model = pickle.load(file)\n",
    "'''"
   ]
  },
  {
   "cell_type": "markdown",
   "id": "0bd6baa9-31f4-42c4-b0f4-e793afdaae1e",
   "metadata": {},
   "source": [
    "# Experiment 1.2 : RAVDESS noise"
   ]
  },
  {
   "cell_type": "markdown",
   "id": "56a186bc-567c-425f-bd9b-bb1688fe4f59",
   "metadata": {
    "tags": []
   },
   "source": [
    "## Read dataframes"
   ]
  },
  {
   "cell_type": "code",
   "execution_count": 76,
   "id": "06e9fee5-2664-4a95-a9e8-21935b9efb34",
   "metadata": {
    "tags": []
   },
   "outputs": [],
   "source": [
    "preprocess_path = \"/home/helemanc/Desktop/Binary_Model/df_csv_noise/ravdess\"\n",
    "df_train = pd.read_csv(os.path.join(preprocess_path,\"df_train.csv\"))\n",
    "df_val = pd.read_csv(os.path.join(preprocess_path,\"df_val.csv\"))\n",
    "df_test = pd.read_csv(os.path.join(preprocess_path,\"df_test.csv\"))  "
   ]
  },
  {
   "cell_type": "markdown",
   "id": "bd871773-b516-4716-880a-70793f84f4c0",
   "metadata": {},
   "source": [
    "## Feature Extraction"
   ]
  },
  {
   "cell_type": "code",
   "execution_count": 77,
   "id": "899c9390-4a36-4c1b-81f3-5fc3fc76c74a",
   "metadata": {},
   "outputs": [
    {
     "name": "stderr",
     "output_type": "stream",
     "text": [
      "100%|█████████████████████████████████████| 2400/2400 [00:00<00:00, 2556.93it/s]\n",
      "100%|███████████████████████████████████████| 2400/2400 [01:09<00:00, 34.45it/s]\n",
      "100%|██████████████████████████████████████| 2400/2400 [00:03<00:00, 779.70it/s]\n",
      "100%|███████████████████████████████████████| 120/120 [00:00<00:00, 1431.44it/s]\n",
      "100%|█████████████████████████████████████████| 120/120 [00:03<00:00, 35.94it/s]\n",
      "100%|████████████████████████████████████████| 120/120 [00:00<00:00, 790.88it/s]\n",
      "100%|███████████████████████████████████████| 120/120 [00:00<00:00, 1097.22it/s]\n",
      "100%|█████████████████████████████████████████| 120/120 [00:03<00:00, 31.29it/s]\n",
      "100%|████████████████████████████████████████| 120/120 [00:00<00:00, 577.51it/s]\n"
     ]
    }
   ],
   "source": [
    "X_train, y_train, X_val, y_val, X_test, y_test = feature_extractor(df_train, df_val, df_test, 13) # 13"
   ]
  },
  {
   "cell_type": "code",
   "execution_count": 78,
   "id": "37e636c6-9cd2-4efc-9ee0-b78ac2a950f7",
   "metadata": {},
   "outputs": [],
   "source": [
    "y_train, y_val, y_test = encode_labels(y_train, y_val, y_test)"
   ]
  },
  {
   "cell_type": "code",
   "execution_count": 79,
   "id": "92a716f9-5d55-4003-beba-87e4aff68a6d",
   "metadata": {},
   "outputs": [
    {
     "data": {
      "text/plain": [
       "120"
      ]
     },
     "execution_count": 79,
     "metadata": {},
     "output_type": "execute_result"
    }
   ],
   "source": [
    "np.size(y_val)"
   ]
  },
  {
   "cell_type": "code",
   "execution_count": 80,
   "id": "b243de08-1c4b-4e31-9942-b4a6aa9eb2e0",
   "metadata": {},
   "outputs": [],
   "source": [
    "X_train, X_val, X_test = standard_scaling(X_train, X_val, X_test)"
   ]
  },
  {
   "cell_type": "code",
   "execution_count": 81,
   "id": "c045ece4-e51c-49cb-a10e-503675a050c2",
   "metadata": {},
   "outputs": [
    {
     "data": {
      "text/plain": [
       "(2400, 13)"
      ]
     },
     "execution_count": 81,
     "metadata": {},
     "output_type": "execute_result"
    }
   ],
   "source": [
    "X_train.shape"
   ]
  },
  {
   "cell_type": "markdown",
   "id": "e9301055-3822-4f8c-ab57-32a90c61edab",
   "metadata": {},
   "source": [
    "## Shuffle training data"
   ]
  },
  {
   "cell_type": "code",
   "execution_count": 82,
   "id": "eab823e9-03bc-40b9-9675-4d40f08211a8",
   "metadata": {},
   "outputs": [],
   "source": [
    "from sklearn.utils import shuffle\n",
    "X_train, y_train = shuffle(X_train, y_train)"
   ]
  },
  {
   "cell_type": "markdown",
   "id": "6c80c349-f02c-44a4-a7fa-33589ecb61d2",
   "metadata": {
    "tags": []
   },
   "source": [
    "## Hypeparameter optimization"
   ]
  },
  {
   "cell_type": "code",
   "execution_count": 83,
   "id": "49163006-0ed8-4cd2-80bf-c089b37a56f3",
   "metadata": {},
   "outputs": [],
   "source": [
    "# classweight \n",
    "from sklearn.utils import class_weight\n",
    "class_weights = class_weight.compute_class_weight('balanced', np.unique(y_train), y_train)\n",
    "class_weights = {l:c for l,c in zip(np.unique(y_train), class_weights)}"
   ]
  },
  {
   "cell_type": "code",
   "execution_count": 84,
   "id": "c1eab477-c87c-416d-a841-4d9db84dec0c",
   "metadata": {},
   "outputs": [],
   "source": [
    "rand_search = RandomizedSearchCV(estimator=svc, \n",
    "                                 param_distributions=param_grid_clf, \n",
    "                                 n_jobs = -1, \n",
    "                                 cv=KFold(3))"
   ]
  },
  {
   "cell_type": "code",
   "execution_count": 85,
   "id": "a6ec55d9-349f-4d24-a0f5-1b70ee6e78e7",
   "metadata": {},
   "outputs": [
    {
     "name": "stdout",
     "output_type": "stream",
     "text": [
      "Performing Randomized Search...\n",
      "\n",
      "Done in 7.774s\n",
      "\n"
     ]
    }
   ],
   "source": [
    "print(\"Performing Randomized Search...\")\n",
    "t0 = time()\n",
    "rand_search.fit(X_train, y_train) \n",
    "print(\"\\nDone in %0.3fs\" % (time()-t0))\n",
    "print() "
   ]
  },
  {
   "cell_type": "code",
   "execution_count": 86,
   "id": "48474f17-323d-492b-90b8-df9f196f0e02",
   "metadata": {},
   "outputs": [
    {
     "data": {
      "text/plain": [
       "{'kernel': 'rbf', 'C': 10}"
      ]
     },
     "execution_count": 86,
     "metadata": {},
     "output_type": "execute_result"
    }
   ],
   "source": [
    "best_params = rand_search.best_params_\n",
    "best_clf = rand_search.best_estimator_\n",
    "best_params"
   ]
  },
  {
   "cell_type": "code",
   "execution_count": 87,
   "id": "8fdffbf6-c205-4834-b069-025eba2a692b",
   "metadata": {},
   "outputs": [
    {
     "data": {
      "text/plain": [
       "SVC(C=10, class_weight={0: 1.0714285714285714, 1: 0.9375})"
      ]
     },
     "execution_count": 87,
     "metadata": {},
     "output_type": "execute_result"
    }
   ],
   "source": [
    "best_clf =SVC(C=best_params.get('C'), kernel=best_params.get('kernel'), class_weight=class_weights)\n",
    "best_clf.fit(X_train, y_train)"
   ]
  },
  {
   "cell_type": "markdown",
   "id": "19cdab7a-ed23-40da-8fd5-00da054dd39f",
   "metadata": {},
   "source": [
    "## Testing"
   ]
  },
  {
   "cell_type": "code",
   "execution_count": 88,
   "id": "7c2efa95-a461-4962-a2ca-512b42ec6958",
   "metadata": {},
   "outputs": [
    {
     "name": "stdout",
     "output_type": "stream",
     "text": [
      "Testing...\n",
      "Accuracy: 0.6083333333333333\n"
     ]
    }
   ],
   "source": [
    "print(\"Testing...\")\n",
    "pred = best_clf.predict(X_test) \n",
    "accuracy = best_clf.score(X_test, y_test) \n",
    "print(\"Accuracy: %s\" %str(accuracy))"
   ]
  },
  {
   "cell_type": "markdown",
   "id": "2895f6ee-7290-4fe1-a24e-1df5ed10be6f",
   "metadata": {},
   "source": [
    "## Save best model "
   ]
  },
  {
   "cell_type": "code",
   "execution_count": 89,
   "id": "00ef8731-518e-4f3a-898c-e70962be84dd",
   "metadata": {},
   "outputs": [],
   "source": [
    "pkl_filename = \"/home/helemanc/Desktop/Binary_Model/models_experiments/Experiment_6/model_6_2.pkl\"\n",
    "with open(pkl_filename, 'wb') as file:\n",
    "    pickle.dump(best_clf, file)"
   ]
  },
  {
   "cell_type": "code",
   "execution_count": 90,
   "id": "52a1c923-1f10-48df-8687-54b0bb6383f4",
   "metadata": {
    "tags": []
   },
   "outputs": [
    {
     "data": {
      "text/plain": [
       "\"\\n# Load from file\\nwith open(pkl_filename, 'rb') as file:\\n    pickle_model = pickle.load(file)\\n\""
      ]
     },
     "execution_count": 90,
     "metadata": {},
     "output_type": "execute_result"
    }
   ],
   "source": [
    "'''\n",
    "# Load from file\n",
    "with open(pkl_filename, 'rb') as file:\n",
    "    pickle_model = pickle.load(file)\n",
    "'''"
   ]
  },
  {
   "cell_type": "markdown",
   "id": "cbc56e5f-fbba-4711-ac6d-5e90bd544323",
   "metadata": {},
   "source": [
    "# Experiment 1.3: TESS"
   ]
  },
  {
   "cell_type": "code",
   "execution_count": 67,
   "id": "41f2cc07-1259-4b7b-b73a-d8aacdd6cadc",
   "metadata": {},
   "outputs": [],
   "source": [
    "df_train = TESS_train\n",
    "df_test = TESS_test"
   ]
  },
  {
   "cell_type": "code",
   "execution_count": 70,
   "id": "017621f2-bdb5-4a53-9fb2-7cacc1d7ec32",
   "metadata": {},
   "outputs": [
    {
     "data": {
      "text/plain": [
       "angry       400\n",
       "surprise    200\n",
       "sadness     200\n",
       "fear        200\n",
       "neutral     200\n",
       "disgust     200\n",
       "Name: emotion_label, dtype: int64"
      ]
     },
     "execution_count": 70,
     "metadata": {},
     "output_type": "execute_result"
    }
   ],
   "source": [
    "df_train['emotion_label'].value_counts()"
   ]
  },
  {
   "cell_type": "code",
   "execution_count": 92,
   "id": "e6313ff8-0cbd-46c8-9bad-6c45960ea3fc",
   "metadata": {},
   "outputs": [],
   "source": [
    "df_train.reset_index(drop = True, inplace = True) \n",
    "df_test.reset_index(drop = True, inplace = True)"
   ]
  },
  {
   "cell_type": "markdown",
   "id": "a0cc48dc-fed9-49d1-a239-d6e28cfb744b",
   "metadata": {},
   "source": [
    "## Feature Extraction"
   ]
  },
  {
   "cell_type": "code",
   "execution_count": 71,
   "id": "ffbe0542-e15e-4731-8cd3-c68652d4de8f",
   "metadata": {
    "tags": []
   },
   "outputs": [
    {
     "name": "stderr",
     "output_type": "stream",
     "text": [
      "100%|██████████| 1400/1400 [00:23<00:00, 60.11it/s]\n",
      "100%|██████████| 1400/1400 [00:15<00:00, 92.85it/s] \n",
      "100%|██████████| 1400/1400 [00:00<00:00, 1450.61it/s]\n",
      "100%|██████████| 1400/1400 [00:02<00:00, 541.49it/s]\n",
      "100%|██████████| 1400/1400 [00:14<00:00, 95.95it/s] \n",
      "100%|██████████| 1400/1400 [00:00<00:00, 1404.50it/s]\n"
     ]
    }
   ],
   "source": [
    "X_train, y_train, X_test, y_test = feature_extractor_tess(df_train,  df_test, 13)"
   ]
  },
  {
   "cell_type": "code",
   "execution_count": 72,
   "id": "35d917c7-31a1-4afd-8565-7aafe1d15eef",
   "metadata": {},
   "outputs": [],
   "source": [
    "y_train, y_test = encode_labels_tess(y_train, y_test)"
   ]
  },
  {
   "cell_type": "code",
   "execution_count": 73,
   "id": "32912659-f809-4760-a901-32c1513fd18d",
   "metadata": {},
   "outputs": [],
   "source": [
    "values, counts = np.unique(y_train, return_counts=True)"
   ]
  },
  {
   "cell_type": "code",
   "execution_count": 74,
   "id": "6c5c4880-9a4e-4499-8d5f-2da345cb838b",
   "metadata": {},
   "outputs": [
    {
     "data": {
      "text/plain": [
       "array([ 400, 1000])"
      ]
     },
     "execution_count": 74,
     "metadata": {},
     "output_type": "execute_result"
    }
   ],
   "source": [
    "counts"
   ]
  },
  {
   "cell_type": "code",
   "execution_count": 95,
   "id": "9a9d7205-58e2-442c-9821-40f124cf3156",
   "metadata": {},
   "outputs": [
    {
     "data": {
      "text/plain": [
       "1400"
      ]
     },
     "execution_count": 95,
     "metadata": {},
     "output_type": "execute_result"
    }
   ],
   "source": [
    "np.size(y_test)"
   ]
  },
  {
   "cell_type": "code",
   "execution_count": 96,
   "id": "33f7695c-0976-4399-96cf-419f7acddc49",
   "metadata": {},
   "outputs": [],
   "source": [
    "X_train, X_test = standard_scaling_tess(X_train,  X_test)"
   ]
  },
  {
   "cell_type": "code",
   "execution_count": 97,
   "id": "817f456d-dd7e-4907-8678-f9342ee39864",
   "metadata": {},
   "outputs": [
    {
     "data": {
      "text/plain": [
       "(1400, 13)"
      ]
     },
     "execution_count": 97,
     "metadata": {},
     "output_type": "execute_result"
    }
   ],
   "source": [
    "X_train.shape"
   ]
  },
  {
   "cell_type": "markdown",
   "id": "0bcd64bb-374c-4637-93ac-44df98148d50",
   "metadata": {},
   "source": [
    "## Shuffle training data"
   ]
  },
  {
   "cell_type": "code",
   "execution_count": 98,
   "id": "df8bc469-7ec4-43d0-9963-f5587ab51e18",
   "metadata": {},
   "outputs": [],
   "source": [
    "from sklearn.utils import shuffle\n",
    "X_train, y_train = shuffle(X_train, y_train)"
   ]
  },
  {
   "cell_type": "markdown",
   "id": "ede5591f-4d8a-4b84-9a88-7a733065807b",
   "metadata": {
    "tags": []
   },
   "source": [
    "## Hypeparameter optimization"
   ]
  },
  {
   "cell_type": "code",
   "execution_count": 99,
   "id": "562dc831-4726-48a2-9957-7a6eafd871b0",
   "metadata": {},
   "outputs": [],
   "source": [
    "# classweight \n",
    "from sklearn.utils import class_weight\n",
    "class_weights = class_weight.compute_class_weight('balanced', np.unique(y_train), y_train)\n",
    "class_weights = {l:c for l,c in zip(np.unique(y_train), class_weights)}"
   ]
  },
  {
   "cell_type": "code",
   "execution_count": 100,
   "id": "8e7333df-3703-4d89-924b-f63919903cca",
   "metadata": {},
   "outputs": [],
   "source": [
    "rand_search = RandomizedSearchCV(estimator=svc, \n",
    "                                 param_distributions=param_grid_clf, \n",
    "                                 n_jobs = -1, \n",
    "                                 cv=KFold(3))"
   ]
  },
  {
   "cell_type": "code",
   "execution_count": 101,
   "id": "1b25cbca-bc6d-4e2d-9f95-de29c0389261",
   "metadata": {},
   "outputs": [
    {
     "name": "stdout",
     "output_type": "stream",
     "text": [
      "Performing Randomized Search...\n",
      "\n",
      "Done in 0.848s\n",
      "\n"
     ]
    }
   ],
   "source": [
    "print(\"Performing Randomized Search...\")\n",
    "t0 = time()\n",
    "rand_search.fit(X_train, y_train) \n",
    "print(\"\\nDone in %0.3fs\" % (time()-t0))\n",
    "print() "
   ]
  },
  {
   "cell_type": "code",
   "execution_count": 102,
   "id": "09995618-cc64-4994-9d31-4f98b4c8cef1",
   "metadata": {},
   "outputs": [
    {
     "data": {
      "text/plain": [
       "{'kernel': 'rbf', 'C': 10}"
      ]
     },
     "execution_count": 102,
     "metadata": {},
     "output_type": "execute_result"
    }
   ],
   "source": [
    "best_params = rand_search.best_params_\n",
    "best_clf = rand_search.best_estimator_\n",
    "best_params"
   ]
  },
  {
   "cell_type": "code",
   "execution_count": 103,
   "id": "420110ec-fc3d-47d8-922d-1d4fc1d4465b",
   "metadata": {},
   "outputs": [
    {
     "data": {
      "text/plain": [
       "SVC(C=10, class_weight={0: 1.75, 1: 0.7})"
      ]
     },
     "execution_count": 103,
     "metadata": {},
     "output_type": "execute_result"
    }
   ],
   "source": [
    "best_clf =SVC(C=best_params.get('C'), kernel=best_params.get('kernel'), class_weight=class_weights)\n",
    "best_clf.fit(X_train, y_train)"
   ]
  },
  {
   "cell_type": "markdown",
   "id": "42a03cb2-6000-4513-b70d-2c3e1d0908c6",
   "metadata": {},
   "source": [
    "## Testing"
   ]
  },
  {
   "cell_type": "code",
   "execution_count": 104,
   "id": "c87bc79b-85f2-426c-b53d-4b22fa2a333a",
   "metadata": {},
   "outputs": [
    {
     "name": "stdout",
     "output_type": "stream",
     "text": [
      "Testing...\n",
      "Accuracy: 0.5564285714285714\n"
     ]
    }
   ],
   "source": [
    "print(\"Testing...\")\n",
    "pred = best_clf.predict(X_test) \n",
    "accuracy = best_clf.score(X_test, y_test) \n",
    "print(\"Accuracy: %s\" %str(accuracy))"
   ]
  },
  {
   "cell_type": "markdown",
   "id": "059f26c1-a4a0-479c-a2c0-5f7bf00f17e3",
   "metadata": {},
   "source": [
    "## Save best model "
   ]
  },
  {
   "cell_type": "code",
   "execution_count": 105,
   "id": "7ea2aafe-88cd-4b98-ab16-87d944e64daf",
   "metadata": {},
   "outputs": [],
   "source": [
    "pkl_filename = \"/home/helemanc/Desktop/Binary_Model/models_experiments/Experiment_6/model_6_3.pkl\"\n",
    "with open(pkl_filename, 'wb') as file:\n",
    "    pickle.dump(best_clf, file)"
   ]
  },
  {
   "cell_type": "code",
   "execution_count": 106,
   "id": "1eff35f5-78ff-4980-bea0-8f141d8135b2",
   "metadata": {
    "tags": []
   },
   "outputs": [
    {
     "data": {
      "text/plain": [
       "'\\npkl_filename = \"/home/helemanc/Desktop/Binary_Model/models_experiments/Experiment_6/model_6_3.pkl\"\\n\\n# Load from file\\nwith open(pkl_filename, \\'rb\\') as file:\\n    pickle_model = pickle.load(file)\\n'"
      ]
     },
     "execution_count": 106,
     "metadata": {},
     "output_type": "execute_result"
    }
   ],
   "source": [
    "'''\n",
    "pkl_filename = \"/home/helemanc/Desktop/Binary_Model/models_experiments/Experiment_6/model_6_3.pkl\"\n",
    "\n",
    "# Load from file\n",
    "with open(pkl_filename, 'rb') as file:\n",
    "    pickle_model = pickle.load(file)\n",
    "'''"
   ]
  },
  {
   "cell_type": "markdown",
   "id": "ecb99df5-a544-440c-ab96-33281b7fc72b",
   "metadata": {},
   "source": [
    "# Experiment 1.4: TESS noise"
   ]
  },
  {
   "cell_type": "markdown",
   "id": "16d8566e-043c-4522-ac38-76876c9295da",
   "metadata": {},
   "source": [
    "## Read dataframes"
   ]
  },
  {
   "cell_type": "code",
   "execution_count": 107,
   "id": "dc5af872-6348-46d7-a0eb-31190893dc4d",
   "metadata": {
    "tags": []
   },
   "outputs": [],
   "source": [
    "preprocess_path = \"/home/helemanc/Desktop/Binary_Model/df_csv_noise/tess\"\n",
    "df_train = pd.read_csv(os.path.join(preprocess_path,\"df_train.csv\"))\n",
    "df_test = pd.read_csv(os.path.join(preprocess_path,\"df_test.csv\"))  "
   ]
  },
  {
   "cell_type": "markdown",
   "id": "846300f6-7e0d-4de5-ad92-22a96b91ecfe",
   "metadata": {},
   "source": [
    "## Feature Extraction"
   ]
  },
  {
   "cell_type": "code",
   "execution_count": 108,
   "id": "a2d93168-4920-4638-8ef0-096d9ae6706a",
   "metadata": {},
   "outputs": [
    {
     "name": "stderr",
     "output_type": "stream",
     "text": [
      "100%|███████████████████████████████████████| 2800/2800 [00:47<00:00, 59.41it/s]\n",
      "100%|███████████████████████████████████████| 2800/2800 [01:12<00:00, 38.37it/s]\n",
      "100%|█████████████████████████████████████| 2800/2800 [00:02<00:00, 1247.92it/s]\n",
      "100%|█████████████████████████████████████| 1400/1400 [00:00<00:00, 1836.78it/s]\n",
      "100%|███████████████████████████████████████| 1400/1400 [00:37<00:00, 37.54it/s]\n",
      "100%|█████████████████████████████████████| 1400/1400 [00:01<00:00, 1255.27it/s]\n"
     ]
    }
   ],
   "source": [
    "X_train, y_train, X_test, y_test = feature_extractor_tess(df_train, df_test, 13) # 13"
   ]
  },
  {
   "cell_type": "code",
   "execution_count": 109,
   "id": "4611ae19-38c4-4cf2-a95c-06c1c7c92905",
   "metadata": {},
   "outputs": [],
   "source": [
    "y_train,  y_test = encode_labels_tess(y_train,  y_test)"
   ]
  },
  {
   "cell_type": "code",
   "execution_count": 110,
   "id": "87a73e71-46e2-489a-a3bf-626ae3a0612e",
   "metadata": {},
   "outputs": [
    {
     "data": {
      "text/plain": [
       "2800"
      ]
     },
     "execution_count": 110,
     "metadata": {},
     "output_type": "execute_result"
    }
   ],
   "source": [
    "np.size(y_train)"
   ]
  },
  {
   "cell_type": "code",
   "execution_count": 111,
   "id": "e7776772-9ce5-46d5-8f05-c5fc980494e6",
   "metadata": {},
   "outputs": [],
   "source": [
    "X_train, X_test = standard_scaling_tess(X_train,  X_test)"
   ]
  },
  {
   "cell_type": "code",
   "execution_count": 112,
   "id": "ca3e5cac-be87-4ab6-82e2-33403a8e1dfb",
   "metadata": {},
   "outputs": [
    {
     "data": {
      "text/plain": [
       "(2800, 13)"
      ]
     },
     "execution_count": 112,
     "metadata": {},
     "output_type": "execute_result"
    }
   ],
   "source": [
    "X_train.shape"
   ]
  },
  {
   "cell_type": "markdown",
   "id": "d9cb8a66-cd8d-408d-8532-d5369bf86c9f",
   "metadata": {},
   "source": [
    "## Shuffle training data"
   ]
  },
  {
   "cell_type": "code",
   "execution_count": 113,
   "id": "0a8e868a-6d93-4917-a6d3-8dc6b3de8365",
   "metadata": {},
   "outputs": [],
   "source": [
    "from sklearn.utils import shuffle\n",
    "X_train, y_train = shuffle(X_train, y_train)"
   ]
  },
  {
   "cell_type": "markdown",
   "id": "4e00561c-85ad-45ef-a1b1-73dfcb77f5e5",
   "metadata": {
    "tags": []
   },
   "source": [
    "## Hypeparameter optimization"
   ]
  },
  {
   "cell_type": "code",
   "execution_count": 114,
   "id": "c6e27758-4716-4f99-87b7-8f0af0f2577b",
   "metadata": {},
   "outputs": [],
   "source": [
    "# classweight \n",
    "from sklearn.utils import class_weight\n",
    "class_weights = class_weight.compute_class_weight('balanced', np.unique(y_train), y_train)\n",
    "class_weights = {l:c for l,c in zip(np.unique(y_train), class_weights)}"
   ]
  },
  {
   "cell_type": "code",
   "execution_count": 115,
   "id": "844752c9-3fef-40c9-8d8f-550967ecf2b0",
   "metadata": {},
   "outputs": [],
   "source": [
    "rand_search = RandomizedSearchCV(estimator=svc, \n",
    "                                 param_distributions=param_grid_clf, \n",
    "                                 n_jobs = -1, \n",
    "                                 cv=KFold(3))"
   ]
  },
  {
   "cell_type": "code",
   "execution_count": 116,
   "id": "995418f6-e586-40a1-8914-7916ae1b1ac3",
   "metadata": {},
   "outputs": [
    {
     "name": "stdout",
     "output_type": "stream",
     "text": [
      "Performing Randomized Search...\n",
      "\n",
      "Done in 4.405s\n",
      "\n"
     ]
    }
   ],
   "source": [
    "print(\"Performing Randomized Search...\")\n",
    "t0 = time()\n",
    "rand_search.fit(X_train, y_train) \n",
    "print(\"\\nDone in %0.3fs\" % (time()-t0))\n",
    "print() "
   ]
  },
  {
   "cell_type": "code",
   "execution_count": 117,
   "id": "a9c9b141-39dc-4a40-8ab9-1f2855934192",
   "metadata": {},
   "outputs": [
    {
     "data": {
      "text/plain": [
       "{'kernel': 'rbf', 'C': 10}"
      ]
     },
     "execution_count": 117,
     "metadata": {},
     "output_type": "execute_result"
    }
   ],
   "source": [
    "best_params = rand_search.best_params_\n",
    "best_clf = rand_search.best_estimator_\n",
    "best_params"
   ]
  },
  {
   "cell_type": "code",
   "execution_count": 118,
   "id": "8bf3e648-da7c-4d27-8a59-c4161895638a",
   "metadata": {},
   "outputs": [
    {
     "data": {
      "text/plain": [
       "SVC(C=10, class_weight={0: 1.75, 1: 0.7})"
      ]
     },
     "execution_count": 118,
     "metadata": {},
     "output_type": "execute_result"
    }
   ],
   "source": [
    "best_clf =SVC(C=best_params.get('C'), kernel=best_params.get('kernel'), class_weight=class_weights)\n",
    "best_clf.fit(X_train, y_train)"
   ]
  },
  {
   "cell_type": "markdown",
   "id": "6a11473c-c9f7-44c5-a364-01766c092370",
   "metadata": {},
   "source": [
    "## Testing"
   ]
  },
  {
   "cell_type": "code",
   "execution_count": 119,
   "id": "27976c08-57e4-4d27-a698-65ce2d778535",
   "metadata": {},
   "outputs": [
    {
     "name": "stdout",
     "output_type": "stream",
     "text": [
      "Testing...\n",
      "Accuracy: 0.5714285714285714\n"
     ]
    }
   ],
   "source": [
    "print(\"Testing...\")\n",
    "pred = best_clf.predict(X_test) \n",
    "accuracy = best_clf.score(X_test, y_test) \n",
    "print(\"Accuracy: %s\" %str(accuracy))"
   ]
  },
  {
   "cell_type": "markdown",
   "id": "9158ae68-abbc-4035-86fa-722ce97c0b28",
   "metadata": {},
   "source": [
    "## Save best model "
   ]
  },
  {
   "cell_type": "code",
   "execution_count": 120,
   "id": "8517b916-b8e3-49f8-abaa-7965c01cf2b5",
   "metadata": {},
   "outputs": [],
   "source": [
    "pkl_filename = \"/home/helemanc/Desktop/Binary_Model/models_experiments/Experiment_6/model_6_4.pkl\"\n",
    "with open(pkl_filename, 'wb') as file:\n",
    "    pickle.dump(best_clf, file)"
   ]
  },
  {
   "cell_type": "code",
   "execution_count": 121,
   "id": "f2c771f9-0dc7-41e1-bad2-d4bd793f4ad4",
   "metadata": {
    "tags": []
   },
   "outputs": [
    {
     "data": {
      "text/plain": [
       "\"\\n# Load from file\\nwith open(pkl_filename, 'rb') as file:\\n    pickle_model = pickle.load(file)\\n\""
      ]
     },
     "execution_count": 121,
     "metadata": {},
     "output_type": "execute_result"
    }
   ],
   "source": [
    "'''\n",
    "# Load from file\n",
    "with open(pkl_filename, 'rb') as file:\n",
    "    pickle_model = pickle.load(file)\n",
    "'''"
   ]
  },
  {
   "cell_type": "markdown",
   "id": "50de5bbb-c6ee-4bd3-80bd-00fc0fb78d8d",
   "metadata": {},
   "source": [
    "# Experiment 1.5: SAVEE"
   ]
  },
  {
   "cell_type": "code",
   "execution_count": 75,
   "id": "5c23acb0-fe4f-41be-a931-3186707b0f1f",
   "metadata": {},
   "outputs": [],
   "source": [
    "df_train = SAVEE_train\n",
    "df_val = SAVEE_val\n",
    "df_test = SAVEE_test"
   ]
  },
  {
   "cell_type": "code",
   "execution_count": 76,
   "id": "387454ff-8fc1-43d1-909e-686eec2e85af",
   "metadata": {},
   "outputs": [],
   "source": [
    "df_train.reset_index(drop = True, inplace = True) \n",
    "df_val.reset_index(drop = True, inplace = True)\n",
    "df_test.reset_index(drop = True, inplace = True)"
   ]
  },
  {
   "cell_type": "markdown",
   "id": "792e2ff4-4790-42ec-b9b0-c5eb111b1057",
   "metadata": {
    "toc-hr-collapsed": true
   },
   "source": [
    "## Feature Extraction"
   ]
  },
  {
   "cell_type": "code",
   "execution_count": 124,
   "id": "e8e4c46d-6857-4dc0-b4b7-606bdf79abec",
   "metadata": {
    "tags": []
   },
   "outputs": [
    {
     "name": "stderr",
     "output_type": "stream",
     "text": [
      "100%|█████████████████████████████████████████| 240/240 [00:09<00:00, 24.33it/s]\n",
      "100%|█████████████████████████████████████████| 240/240 [00:03<00:00, 77.98it/s]\n",
      "100%|███████████████████████████████████████| 240/240 [00:00<00:00, 1250.73it/s]\n",
      "100%|█████████████████████████████████████████| 120/120 [00:06<00:00, 17.93it/s]\n",
      "100%|█████████████████████████████████████████| 120/120 [00:03<00:00, 38.04it/s]\n",
      "100%|████████████████████████████████████████| 120/120 [00:00<00:00, 666.43it/s]\n",
      "100%|█████████████████████████████████████████| 120/120 [00:04<00:00, 26.48it/s]\n",
      "100%|█████████████████████████████████████████| 120/120 [00:03<00:00, 30.58it/s]\n",
      "100%|████████████████████████████████████████| 120/120 [00:00<00:00, 629.45it/s]\n"
     ]
    }
   ],
   "source": [
    "X_train, y_train, X_val, y_val, X_test, y_test = feature_extractor(df_train, df_val, df_test, 13)"
   ]
  },
  {
   "cell_type": "code",
   "execution_count": 125,
   "id": "96a69cef-0085-47f1-bfae-1c6f6e22f4b6",
   "metadata": {},
   "outputs": [],
   "source": [
    "y_train, y_val, y_test = encode_labels(y_train, y_val, y_test)"
   ]
  },
  {
   "cell_type": "code",
   "execution_count": 126,
   "id": "95485302-108e-4591-a2d0-2797b96650f3",
   "metadata": {},
   "outputs": [
    {
     "data": {
      "text/plain": [
       "120"
      ]
     },
     "execution_count": 126,
     "metadata": {},
     "output_type": "execute_result"
    }
   ],
   "source": [
    "np.size(y_val)"
   ]
  },
  {
   "cell_type": "code",
   "execution_count": 127,
   "id": "91d8bb7e-c404-4f70-a8ee-b03ced60a4d9",
   "metadata": {},
   "outputs": [],
   "source": [
    "X_train, X_val, X_test = standard_scaling(X_train, X_val, X_test)"
   ]
  },
  {
   "cell_type": "code",
   "execution_count": 128,
   "id": "b0c7544c-e9e7-48b9-b431-1788bdbb9f5b",
   "metadata": {},
   "outputs": [
    {
     "data": {
      "text/plain": [
       "(240, 13)"
      ]
     },
     "execution_count": 128,
     "metadata": {},
     "output_type": "execute_result"
    }
   ],
   "source": [
    "X_train.shape"
   ]
  },
  {
   "cell_type": "markdown",
   "id": "b209bc06-bb54-4d94-b715-5994a444c001",
   "metadata": {},
   "source": [
    "## Shuffle training data"
   ]
  },
  {
   "cell_type": "code",
   "execution_count": 129,
   "id": "25ebd2ed-7f90-4d09-ba9c-bd9a724db580",
   "metadata": {},
   "outputs": [],
   "source": [
    "from sklearn.utils import shuffle\n",
    "X_train, y_train = shuffle(X_train, y_train)"
   ]
  },
  {
   "cell_type": "markdown",
   "id": "0fec3b71-e48d-4f30-899a-9acfabbe85e3",
   "metadata": {
    "tags": []
   },
   "source": [
    "## Hypeparameter optimization"
   ]
  },
  {
   "cell_type": "code",
   "execution_count": 130,
   "id": "dbb4b38a-053f-4394-971b-59800d77df44",
   "metadata": {},
   "outputs": [],
   "source": [
    "# classweight \n",
    "from sklearn.utils import class_weight\n",
    "class_weights = class_weight.compute_class_weight('balanced', np.unique(y_train), y_train)\n",
    "class_weights = {l:c for l,c in zip(np.unique(y_train), class_weights)}"
   ]
  },
  {
   "cell_type": "code",
   "execution_count": 131,
   "id": "120e318d-ed82-46c8-a932-777019075f4b",
   "metadata": {},
   "outputs": [],
   "source": [
    "rand_search = RandomizedSearchCV(estimator=svc, \n",
    "                                 param_distributions=param_grid_clf, \n",
    "                                 n_jobs = -1, \n",
    "                                 cv=KFold(3))"
   ]
  },
  {
   "cell_type": "code",
   "execution_count": 132,
   "id": "08be6028-e42b-41c3-b202-c568d09bd379",
   "metadata": {},
   "outputs": [
    {
     "name": "stdout",
     "output_type": "stream",
     "text": [
      "Performing Randomized Search...\n",
      "\n",
      "Done in 0.323s\n",
      "\n"
     ]
    }
   ],
   "source": [
    "print(\"Performing Randomized Search...\")\n",
    "t0 = time()\n",
    "rand_search.fit(X_train, y_train) \n",
    "print(\"\\nDone in %0.3fs\" % (time()-t0))\n",
    "print() "
   ]
  },
  {
   "cell_type": "code",
   "execution_count": 133,
   "id": "be6a2b68-d7fd-4265-aa7c-c8ed53019968",
   "metadata": {},
   "outputs": [
    {
     "data": {
      "text/plain": [
       "{'kernel': 'rbf', 'C': 100}"
      ]
     },
     "execution_count": 133,
     "metadata": {},
     "output_type": "execute_result"
    }
   ],
   "source": [
    "best_params = rand_search.best_params_\n",
    "best_clf = rand_search.best_estimator_\n",
    "best_params"
   ]
  },
  {
   "cell_type": "code",
   "execution_count": 134,
   "id": "c11b235d-4bd3-47ad-8ffb-0997fe89fe13",
   "metadata": {},
   "outputs": [
    {
     "data": {
      "text/plain": [
       "SVC(C=100, class_weight={0: 1.0, 1: 1.0})"
      ]
     },
     "execution_count": 134,
     "metadata": {},
     "output_type": "execute_result"
    }
   ],
   "source": [
    "best_clf =SVC(C=best_params.get('C'), kernel=best_params.get('kernel'), class_weight=class_weights)\n",
    "best_clf.fit(X_train, y_train)"
   ]
  },
  {
   "cell_type": "markdown",
   "id": "ace1d704-e2df-4120-8eec-9cbccf65e7c3",
   "metadata": {},
   "source": [
    "## Testing"
   ]
  },
  {
   "cell_type": "code",
   "execution_count": 135,
   "id": "adf25851-3a81-4652-b4b4-6dca6d2dfa7d",
   "metadata": {},
   "outputs": [
    {
     "name": "stdout",
     "output_type": "stream",
     "text": [
      "Testing...\n",
      "Accuracy: 0.5166666666666667\n"
     ]
    }
   ],
   "source": [
    "print(\"Testing...\")\n",
    "pred = best_clf.predict(X_test) \n",
    "accuracy = best_clf.score(X_test, y_test) \n",
    "print(\"Accuracy: %s\" %str(accuracy))"
   ]
  },
  {
   "cell_type": "markdown",
   "id": "b3a666cf-c61f-4fd5-bdd1-acbdf69a910b",
   "metadata": {},
   "source": [
    "## Save best model "
   ]
  },
  {
   "cell_type": "code",
   "execution_count": 136,
   "id": "a6122702-539c-47ed-95f9-45a6f8ddf06f",
   "metadata": {},
   "outputs": [],
   "source": [
    "pkl_filename = \"/home/helemanc/Desktop/Binary_Model/models_experiments/Experiment_6/model_6_5.pkl\"\n",
    "with open(pkl_filename, 'wb') as file:\n",
    "    pickle.dump(best_clf, file)"
   ]
  },
  {
   "cell_type": "code",
   "execution_count": 137,
   "id": "9ee703f1-e622-415b-a2cb-dad488420704",
   "metadata": {
    "tags": []
   },
   "outputs": [
    {
     "data": {
      "text/plain": [
       "\"\\n# Load from file\\nwith open(pkl_filename, 'rb') as file:\\n    pickle_model = pickle.load(file)\\n\""
      ]
     },
     "execution_count": 137,
     "metadata": {},
     "output_type": "execute_result"
    }
   ],
   "source": [
    "'''\n",
    "# Load from file\n",
    "with open(pkl_filename, 'rb') as file:\n",
    "    pickle_model = pickle.load(file)\n",
    "'''"
   ]
  },
  {
   "cell_type": "markdown",
   "id": "4f0299d5-3b63-41db-a28e-226f70b432b2",
   "metadata": {},
   "source": [
    "# Experiment 1.6: SAVEE noise"
   ]
  },
  {
   "cell_type": "markdown",
   "id": "6632caab-4fdb-4dc5-b399-3d93d107d646",
   "metadata": {
    "tags": [],
    "toc-hr-collapsed": true
   },
   "source": [
    "## Read dataframes"
   ]
  },
  {
   "cell_type": "code",
   "execution_count": 138,
   "id": "9e56883c-03ac-4055-b0cc-2aa13783141d",
   "metadata": {
    "tags": []
   },
   "outputs": [],
   "source": [
    "preprocess_path = \"/home/helemanc/Desktop/Binary_Model/df_csv_noise/savee\"\n",
    "df_train = pd.read_csv(os.path.join(preprocess_path,\"df_train.csv\"))\n",
    "df_val = pd.read_csv(os.path.join(preprocess_path,\"df_val.csv\"))\n",
    "df_test = pd.read_csv(os.path.join(preprocess_path,\"df_test.csv\"))  "
   ]
  },
  {
   "cell_type": "markdown",
   "id": "bf081536-314c-4443-850b-7d466ff3dc71",
   "metadata": {},
   "source": [
    "## Feature Extraction"
   ]
  },
  {
   "cell_type": "code",
   "execution_count": 139,
   "id": "ab9f31d2-5e9e-4532-ad15-da1be5ed70d8",
   "metadata": {},
   "outputs": [
    {
     "name": "stderr",
     "output_type": "stream",
     "text": [
      "100%|█████████████████████████████████████████| 480/480 [00:22<00:00, 21.74it/s]\n",
      "100%|█████████████████████████████████████████| 480/480 [00:10<00:00, 45.88it/s]\n",
      "100%|████████████████████████████████████████| 480/480 [00:00<00:00, 947.87it/s]\n",
      "100%|█████████████████████████████████████████| 120/120 [00:05<00:00, 20.45it/s]\n",
      "100%|█████████████████████████████████████████| 120/120 [00:03<00:00, 36.62it/s]\n",
      "100%|████████████████████████████████████████| 120/120 [00:00<00:00, 821.49it/s]\n",
      "100%|█████████████████████████████████████████| 120/120 [00:04<00:00, 25.51it/s]\n",
      "100%|█████████████████████████████████████████| 120/120 [00:02<00:00, 42.07it/s]\n",
      "100%|████████████████████████████████████████| 120/120 [00:00<00:00, 658.45it/s]\n"
     ]
    }
   ],
   "source": [
    "X_train, y_train, X_val, y_val, X_test, y_test = feature_extractor(df_train, df_val, df_test, 13) # 13"
   ]
  },
  {
   "cell_type": "code",
   "execution_count": 140,
   "id": "8b5438da-349a-4cc7-a1c0-bcced62f22aa",
   "metadata": {},
   "outputs": [],
   "source": [
    "y_train, y_val, y_test = encode_labels(y_train, y_val, y_test)"
   ]
  },
  {
   "cell_type": "code",
   "execution_count": 141,
   "id": "6194e8db-e0ea-47f4-a91c-2b5a64fc60a8",
   "metadata": {},
   "outputs": [
    {
     "data": {
      "text/plain": [
       "120"
      ]
     },
     "execution_count": 141,
     "metadata": {},
     "output_type": "execute_result"
    }
   ],
   "source": [
    "np.size(y_val)"
   ]
  },
  {
   "cell_type": "code",
   "execution_count": 142,
   "id": "d3448825-da5b-4644-9155-e7ee6c1cdf4d",
   "metadata": {},
   "outputs": [],
   "source": [
    "X_train, X_val, X_test = standard_scaling(X_train, X_val, X_test)"
   ]
  },
  {
   "cell_type": "code",
   "execution_count": 143,
   "id": "92ad9463-4122-4632-931e-e66c6bd7fc7f",
   "metadata": {},
   "outputs": [
    {
     "data": {
      "text/plain": [
       "(480, 13)"
      ]
     },
     "execution_count": 143,
     "metadata": {},
     "output_type": "execute_result"
    }
   ],
   "source": [
    "X_train.shape"
   ]
  },
  {
   "cell_type": "markdown",
   "id": "07138318-7b7b-44dc-a44e-b58879081259",
   "metadata": {},
   "source": [
    "## Shuffle training data"
   ]
  },
  {
   "cell_type": "code",
   "execution_count": 144,
   "id": "bc0e6685-e850-41c6-86d2-eb655e8fd617",
   "metadata": {},
   "outputs": [],
   "source": [
    "from sklearn.utils import shuffle\n",
    "X_train, y_train = shuffle(X_train, y_train)"
   ]
  },
  {
   "cell_type": "markdown",
   "id": "d72084a0-b473-480c-a4b8-72fc2cd93c24",
   "metadata": {
    "tags": []
   },
   "source": [
    "## Hypeparameter optimization"
   ]
  },
  {
   "cell_type": "code",
   "execution_count": 145,
   "id": "3c41e171-6f1b-4b91-b7d6-9d0106c4fe5f",
   "metadata": {},
   "outputs": [],
   "source": [
    "# classweight \n",
    "from sklearn.utils import class_weight\n",
    "class_weights = class_weight.compute_class_weight('balanced', np.unique(y_train), y_train)\n",
    "class_weights = {l:c for l,c in zip(np.unique(y_train), class_weights)}"
   ]
  },
  {
   "cell_type": "code",
   "execution_count": 146,
   "id": "327e936b-311d-4f55-a3b3-80e602aa7629",
   "metadata": {},
   "outputs": [],
   "source": [
    "rand_search = RandomizedSearchCV(estimator=svc, \n",
    "                                 param_distributions=param_grid_clf, \n",
    "                                 n_jobs = -1, \n",
    "                                 cv=KFold(3))"
   ]
  },
  {
   "cell_type": "code",
   "execution_count": 147,
   "id": "fea05bc1-8963-4a31-b942-b060aa65a2d1",
   "metadata": {},
   "outputs": [
    {
     "name": "stdout",
     "output_type": "stream",
     "text": [
      "Performing Randomized Search...\n",
      "\n",
      "Done in 0.648s\n",
      "\n"
     ]
    }
   ],
   "source": [
    "print(\"Performing Randomized Search...\")\n",
    "t0 = time()\n",
    "rand_search.fit(X_train, y_train) \n",
    "print(\"\\nDone in %0.3fs\" % (time()-t0))\n",
    "print() "
   ]
  },
  {
   "cell_type": "code",
   "execution_count": 148,
   "id": "92922a88-f0b7-411b-a8b0-359e37404279",
   "metadata": {},
   "outputs": [
    {
     "data": {
      "text/plain": [
       "{'kernel': 'rbf', 'C': 10}"
      ]
     },
     "execution_count": 148,
     "metadata": {},
     "output_type": "execute_result"
    }
   ],
   "source": [
    "best_params = rand_search.best_params_\n",
    "best_clf = rand_search.best_estimator_\n",
    "best_params"
   ]
  },
  {
   "cell_type": "code",
   "execution_count": 149,
   "id": "711a0a46-3bcf-4ff5-a7d9-77989f048eb2",
   "metadata": {},
   "outputs": [
    {
     "data": {
      "text/plain": [
       "SVC(C=10, class_weight={0: 1.0, 1: 1.0})"
      ]
     },
     "execution_count": 149,
     "metadata": {},
     "output_type": "execute_result"
    }
   ],
   "source": [
    "best_clf =SVC(C=best_params.get('C'), kernel=best_params.get('kernel'), class_weight=class_weights)\n",
    "best_clf.fit(X_train, y_train)"
   ]
  },
  {
   "cell_type": "markdown",
   "id": "2eb7e571-8795-45fd-812a-4adfd8bbb6e3",
   "metadata": {},
   "source": [
    "## Testing"
   ]
  },
  {
   "cell_type": "code",
   "execution_count": 150,
   "id": "636557d6-f652-44fd-ba74-6fdf6a0a13e3",
   "metadata": {},
   "outputs": [
    {
     "name": "stdout",
     "output_type": "stream",
     "text": [
      "Testing...\n",
      "Accuracy: 0.5\n"
     ]
    }
   ],
   "source": [
    "print(\"Testing...\")\n",
    "pred = best_clf.predict(X_test) \n",
    "accuracy = best_clf.score(X_test, y_test) \n",
    "print(\"Accuracy: %s\" %str(accuracy))"
   ]
  },
  {
   "cell_type": "markdown",
   "id": "0191b446-d8cf-4083-b32f-296f724402ba",
   "metadata": {},
   "source": [
    "## Save best model "
   ]
  },
  {
   "cell_type": "code",
   "execution_count": 151,
   "id": "63337adb-db17-4639-b164-3521d294e96e",
   "metadata": {},
   "outputs": [],
   "source": [
    "pkl_filename = \"/home/helemanc/Desktop/Binary_Model/models_experiments/Experiment_6/model_6_6.pkl\"\n",
    "with open(pkl_filename, 'wb') as file:\n",
    "    pickle.dump(best_clf, file)"
   ]
  },
  {
   "cell_type": "code",
   "execution_count": 152,
   "id": "abd12dfb-2860-4ab2-8e2e-09ec0fd01c43",
   "metadata": {
    "tags": []
   },
   "outputs": [
    {
     "data": {
      "text/plain": [
       "\"\\n# Load from file\\nwith open(pkl_filename, 'rb') as file:\\n    pickle_model = pickle.load(file)\\n\""
      ]
     },
     "execution_count": 152,
     "metadata": {},
     "output_type": "execute_result"
    }
   ],
   "source": [
    "'''\n",
    "# Load from file\n",
    "with open(pkl_filename, 'rb') as file:\n",
    "    pickle_model = pickle.load(file)\n",
    "'''"
   ]
  },
  {
   "cell_type": "markdown",
   "id": "b4c48e6d-34ae-456b-ad75-8fa2034edd6f",
   "metadata": {},
   "source": [
    "# Experiment 1.7: CREMA "
   ]
  },
  {
   "cell_type": "code",
   "execution_count": 77,
   "id": "be375127-9429-47f7-9836-aaab171c1bac",
   "metadata": {
    "tags": []
   },
   "outputs": [],
   "source": [
    "df_train = CREMA_train\n",
    "df_val = CREMA_val\n",
    "df_test = CREMA_test"
   ]
  },
  {
   "cell_type": "code",
   "execution_count": 78,
   "id": "b1925b80-d592-4e07-9c58-7182efebf60a",
   "metadata": {},
   "outputs": [
    {
     "data": {
      "text/plain": [
       "disgust    64\n",
       "sadness    64\n",
       "angry      64\n",
       "fear       64\n",
       "happy      64\n",
       "Name: emotion_label, dtype: int64"
      ]
     },
     "execution_count": 78,
     "metadata": {},
     "output_type": "execute_result"
    }
   ],
   "source": [
    "df_train['emotion_label'].value_counts()"
   ]
  },
  {
   "cell_type": "code",
   "execution_count": 154,
   "id": "34dd9940-3fc6-4b8d-b8e8-3aa0bdaa066d",
   "metadata": {
    "tags": []
   },
   "outputs": [],
   "source": [
    "df_train.reset_index(drop = True, inplace = True) \n",
    "df_val.reset_index(drop = True, inplace = True)\n",
    "df_test.reset_index(drop = True, inplace = True)"
   ]
  },
  {
   "cell_type": "markdown",
   "id": "1be9b2f7-c724-4ddc-94ba-a7d42cd013de",
   "metadata": {
    "tags": []
   },
   "source": [
    "## Feature Extraction"
   ]
  },
  {
   "cell_type": "code",
   "execution_count": 155,
   "id": "445bd3d5-e230-4a1d-bb22-c988e7600445",
   "metadata": {
    "tags": []
   },
   "outputs": [
    {
     "name": "stderr",
     "output_type": "stream",
     "text": [
      "100%|███████████████████████████████████████| 320/320 [00:00<00:00, 1807.88it/s]\n",
      "100%|█████████████████████████████████████████| 320/320 [00:09<00:00, 33.01it/s]\n",
      "100%|████████████████████████████████████████| 320/320 [00:00<00:00, 932.83it/s]\n",
      "100%|█████████████████████████████████████████| 60/60 [00:00<00:00, 2039.63it/s]\n",
      "100%|███████████████████████████████████████████| 60/60 [00:02<00:00, 27.68it/s]\n",
      "100%|██████████████████████████████████████████| 60/60 [00:00<00:00, 540.56it/s]\n",
      "100%|█████████████████████████████████████████| 60/60 [00:00<00:00, 1789.19it/s]\n",
      "100%|███████████████████████████████████████████| 60/60 [00:01<00:00, 32.55it/s]\n",
      "100%|██████████████████████████████████████████| 60/60 [00:00<00:00, 483.17it/s]\n"
     ]
    }
   ],
   "source": [
    "X_train, y_train, X_val, y_val, X_test, y_test = feature_extractor(df_train, df_val, df_test, 13)"
   ]
  },
  {
   "cell_type": "code",
   "execution_count": 156,
   "id": "7a9a1b2b-eed8-4f69-b639-0bbf4e05d65c",
   "metadata": {},
   "outputs": [],
   "source": [
    "y_train, y_val, y_test = encode_labels(y_train, y_val, y_test)"
   ]
  },
  {
   "cell_type": "code",
   "execution_count": 157,
   "id": "f38c75f3-dcd6-4849-9f65-293a4c6ae8e0",
   "metadata": {},
   "outputs": [
    {
     "data": {
      "text/plain": [
       "60"
      ]
     },
     "execution_count": 157,
     "metadata": {},
     "output_type": "execute_result"
    }
   ],
   "source": [
    "np.size(y_val)"
   ]
  },
  {
   "cell_type": "code",
   "execution_count": 158,
   "id": "9c5bb6e8-0ceb-49b0-a3cb-540fb7d66bd3",
   "metadata": {},
   "outputs": [],
   "source": [
    "X_train, X_val, X_test = standard_scaling(X_train, X_val, X_test)"
   ]
  },
  {
   "cell_type": "code",
   "execution_count": 159,
   "id": "02f61116-9bec-4235-ac7f-c8027abb4ddb",
   "metadata": {},
   "outputs": [
    {
     "data": {
      "text/plain": [
       "(320, 13)"
      ]
     },
     "execution_count": 159,
     "metadata": {},
     "output_type": "execute_result"
    }
   ],
   "source": [
    "X_train.shape"
   ]
  },
  {
   "cell_type": "markdown",
   "id": "3e7c1640-4a94-4c17-8a11-e2923526aaa1",
   "metadata": {},
   "source": [
    "## Shuffle training data"
   ]
  },
  {
   "cell_type": "code",
   "execution_count": 160,
   "id": "64348f86-067a-4455-a960-0369045d468f",
   "metadata": {},
   "outputs": [],
   "source": [
    "from sklearn.utils import shuffle\n",
    "X_train, y_train = shuffle(X_train, y_train)"
   ]
  },
  {
   "cell_type": "markdown",
   "id": "505ef49b-f947-4de8-b767-dc0b73f376da",
   "metadata": {
    "tags": []
   },
   "source": [
    "## Hypeparameter optimization"
   ]
  },
  {
   "cell_type": "code",
   "execution_count": 161,
   "id": "2331124d-217d-4bae-885a-adaea39929ae",
   "metadata": {},
   "outputs": [],
   "source": [
    "# classweight \n",
    "from sklearn.utils import class_weight\n",
    "class_weights = class_weight.compute_class_weight('balanced', np.unique(y_train), y_train)\n",
    "class_weights = {l:c for l,c in zip(np.unique(y_train), class_weights)}"
   ]
  },
  {
   "cell_type": "code",
   "execution_count": 162,
   "id": "68460fba-4c57-45ed-b883-23564c6fd2a6",
   "metadata": {},
   "outputs": [],
   "source": [
    "rand_search = RandomizedSearchCV(estimator=svc, \n",
    "                                 param_distributions=param_grid_clf, \n",
    "                                 n_jobs = -1, \n",
    "                                 cv=KFold(3))"
   ]
  },
  {
   "cell_type": "code",
   "execution_count": 163,
   "id": "bb6da693-7a08-46e6-a7a1-60d0e2cbffbc",
   "metadata": {},
   "outputs": [
    {
     "name": "stdout",
     "output_type": "stream",
     "text": [
      "Performing Randomized Search...\n",
      "\n",
      "Done in 0.403s\n",
      "\n"
     ]
    }
   ],
   "source": [
    "print(\"Performing Randomized Search...\")\n",
    "t0 = time()\n",
    "rand_search.fit(X_train, y_train) \n",
    "print(\"\\nDone in %0.3fs\" % (time()-t0))\n",
    "print() "
   ]
  },
  {
   "cell_type": "code",
   "execution_count": 164,
   "id": "6438c45a-678d-497e-89a7-7e7fe13f06b0",
   "metadata": {},
   "outputs": [
    {
     "data": {
      "text/plain": [
       "{'kernel': 'linear', 'C': 10}"
      ]
     },
     "execution_count": 164,
     "metadata": {},
     "output_type": "execute_result"
    }
   ],
   "source": [
    "best_params = rand_search.best_params_\n",
    "best_clf = rand_search.best_estimator_\n",
    "best_params"
   ]
  },
  {
   "cell_type": "code",
   "execution_count": 165,
   "id": "187e63ac-04d5-4807-8739-d0488ad94488",
   "metadata": {},
   "outputs": [
    {
     "data": {
      "text/plain": [
       "SVC(C=10, class_weight={0: 2.5, 1: 0.625}, kernel='linear')"
      ]
     },
     "execution_count": 165,
     "metadata": {},
     "output_type": "execute_result"
    }
   ],
   "source": [
    "best_clf =SVC(C=best_params.get('C'), kernel=best_params.get('kernel'), class_weight=class_weights)\n",
    "best_clf.fit(X_train, y_train)"
   ]
  },
  {
   "cell_type": "markdown",
   "id": "639129b6-4514-46b7-841b-d983bd409df9",
   "metadata": {},
   "source": [
    "## Testing"
   ]
  },
  {
   "cell_type": "code",
   "execution_count": 166,
   "id": "deb60227-1e08-4b3c-92c3-3da09ce7ac5c",
   "metadata": {},
   "outputs": [
    {
     "name": "stdout",
     "output_type": "stream",
     "text": [
      "Testing...\n",
      "Accuracy: 0.7\n"
     ]
    }
   ],
   "source": [
    "print(\"Testing...\")\n",
    "pred = best_clf.predict(X_test) \n",
    "accuracy = best_clf.score(X_test, y_test) \n",
    "print(\"Accuracy: %s\" %str(accuracy))"
   ]
  },
  {
   "cell_type": "markdown",
   "id": "163a81c5-b424-4c9d-8e96-6f3bd2db688d",
   "metadata": {},
   "source": [
    "## Save best model "
   ]
  },
  {
   "cell_type": "code",
   "execution_count": 167,
   "id": "a9ccec04-f079-4d69-8b08-d1b714235977",
   "metadata": {},
   "outputs": [],
   "source": [
    "pkl_filename = \"/home/helemanc/Desktop/Binary_Model/models_experiments/Experiment_6/model_6_7.pkl\"\n",
    "with open(pkl_filename, 'wb') as file:\n",
    "    pickle.dump(best_clf, file)"
   ]
  },
  {
   "cell_type": "code",
   "execution_count": 168,
   "id": "d23d3a49-c7e9-4bbe-bf2b-06b7c80fc910",
   "metadata": {
    "tags": []
   },
   "outputs": [
    {
     "data": {
      "text/plain": [
       "\"\\n# Load from file\\nwith open(pkl_filename, 'rb') as file:\\n    pickle_model = pickle.load(file)\\n\""
      ]
     },
     "execution_count": 168,
     "metadata": {},
     "output_type": "execute_result"
    }
   ],
   "source": [
    "'''\n",
    "# Load from file\n",
    "with open(pkl_filename, 'rb') as file:\n",
    "    pickle_model = pickle.load(file)\n",
    "'''"
   ]
  },
  {
   "cell_type": "markdown",
   "id": "4013fce3-6bfa-4776-af73-dd43a69ee537",
   "metadata": {},
   "source": [
    "# Experiment 1.8: CREMA - noise"
   ]
  },
  {
   "cell_type": "code",
   "execution_count": 63,
   "id": "fd765c83-e307-4f37-a524-ed8d5812acf7",
   "metadata": {
    "tags": []
   },
   "outputs": [],
   "source": [
    "#preprocess_path = \"/home/helemanc/Desktop/Binary_Model/df_csv_noise/crema\"\n",
    "preprocess_path = \"/Users/helemanc/PycharmProjects/ambient-intelligence/notebooks_binary_model/df_csv_noise/crema\" \n",
    "df_train = pd.read_csv(os.path.join(preprocess_path,\"df_train.csv\"))\n",
    "df_val = pd.read_csv(os.path.join(preprocess_path,\"df_val.csv\"))\n",
    "df_test = pd.read_csv(os.path.join(preprocess_path,\"df_test.csv\"))  "
   ]
  },
  {
   "cell_type": "markdown",
   "id": "da3a2cae-0693-4fd5-9d6f-4ef90bf0082f",
   "metadata": {},
   "source": [
    "## Feature Extraction"
   ]
  },
  {
   "cell_type": "code",
   "execution_count": 64,
   "id": "806add34-bb2f-41ce-9315-4af07b83af31",
   "metadata": {},
   "outputs": [
    {
     "name": "stderr",
     "output_type": "stream",
     "text": [
      "100%|██████████| 640/640 [00:01<00:00, 494.62it/s]\n",
      "100%|██████████| 640/640 [00:06<00:00, 91.44it/s] \n",
      "100%|██████████| 640/640 [00:00<00:00, 1453.08it/s]\n",
      "100%|██████████| 60/60 [00:00<00:00, 334.44it/s]\n",
      "100%|██████████| 60/60 [00:01<00:00, 59.98it/s]\n",
      "100%|██████████| 60/60 [00:00<00:00, 943.63it/s]\n",
      "100%|██████████| 60/60 [00:00<00:00, 387.33it/s]\n",
      "100%|██████████| 60/60 [00:00<00:00, 83.50it/s]\n",
      "100%|██████████| 60/60 [00:00<00:00, 997.52it/s]\n"
     ]
    }
   ],
   "source": [
    "X_train, y_train, X_val, y_val, X_test, y_test = feature_extractor(df_train, df_val, df_test, 13) # 13"
   ]
  },
  {
   "cell_type": "code",
   "execution_count": 65,
   "id": "c9408224-1230-463d-ab19-22f404496035",
   "metadata": {},
   "outputs": [],
   "source": [
    "y_train, y_val, y_test = encode_labels(y_train, y_val, y_test)"
   ]
  },
  {
   "cell_type": "code",
   "execution_count": 66,
   "id": "a1643b6f-6870-4386-86c8-0cb15f1dd1cf",
   "metadata": {},
   "outputs": [
    {
     "data": {
      "text/plain": [
       "60"
      ]
     },
     "execution_count": 66,
     "metadata": {},
     "output_type": "execute_result"
    }
   ],
   "source": [
    "np.size(y_val)"
   ]
  },
  {
   "cell_type": "code",
   "execution_count": 67,
   "id": "f34bfe80-db0d-4f81-870e-5f77205fa8a4",
   "metadata": {},
   "outputs": [],
   "source": [
    "X_train, X_val, X_test = standard_scaling(X_train, X_val, X_test)"
   ]
  },
  {
   "cell_type": "code",
   "execution_count": 68,
   "id": "6866977f-3ce9-4fd0-8417-15783b0c4271",
   "metadata": {},
   "outputs": [
    {
     "data": {
      "text/plain": [
       "(640, 13)"
      ]
     },
     "execution_count": 68,
     "metadata": {},
     "output_type": "execute_result"
    }
   ],
   "source": [
    "X_train.shape"
   ]
  },
  {
   "cell_type": "markdown",
   "id": "3ed02ee1-334d-479c-88af-2bcbe48794e8",
   "metadata": {
    "tags": []
   },
   "source": [
    "## Hypeparameter optimization"
   ]
  },
  {
   "cell_type": "code",
   "execution_count": 70,
   "id": "df65a27a-82d3-4b60-bfc9-32893573e3df",
   "metadata": {},
   "outputs": [],
   "source": [
    "# classweight \n",
    "from sklearn.utils import class_weight\n",
    "class_weights = class_weight.compute_class_weight('balanced', np.unique(y_train), y_train)\n",
    "class_weights = {l:c for l,c in zip(np.unique(y_train), class_weights)}"
   ]
  },
  {
   "cell_type": "code",
   "execution_count": 176,
   "id": "3a264a25-98c1-42ea-b660-9fe76a468632",
   "metadata": {},
   "outputs": [],
   "source": [
    "rand_search = RandomizedSearchCV(estimator=svc, \n",
    "                                 param_distributions=param_grid_clf, \n",
    "                                 n_jobs = -1, \n",
    "                                 cv=KFold(3))"
   ]
  },
  {
   "cell_type": "code",
   "execution_count": 177,
   "id": "b3cf2eed-079e-447e-bc79-75a79d12f0ff",
   "metadata": {},
   "outputs": [
    {
     "name": "stdout",
     "output_type": "stream",
     "text": [
      "Performing Randomized Search...\n",
      "\n",
      "Done in 0.346s\n",
      "\n"
     ]
    }
   ],
   "source": [
    "print(\"Performing Randomized Search...\")\n",
    "t0 = time()\n",
    "rand_search.fit(X_train, y_train) \n",
    "print(\"\\nDone in %0.3fs\" % (time()-t0))\n",
    "print() "
   ]
  },
  {
   "cell_type": "code",
   "execution_count": 178,
   "id": "4049a48f-e2e2-4876-8ed5-3e0b6e00d000",
   "metadata": {},
   "outputs": [
    {
     "data": {
      "text/plain": [
       "{'kernel': 'rbf', 'C': 10}"
      ]
     },
     "execution_count": 178,
     "metadata": {},
     "output_type": "execute_result"
    }
   ],
   "source": [
    "best_params = rand_search.best_params_\n",
    "best_clf = rand_search.best_estimator_\n",
    "best_params"
   ]
  },
  {
   "cell_type": "code",
   "execution_count": 71,
   "id": "23cc84ae-a729-468c-a81c-ca17e0f485a0",
   "metadata": {},
   "outputs": [
    {
     "data": {
      "text/plain": [
       "SVC(C=10, class_weight={0: 2.5, 1: 0.625}, probability=True)"
      ]
     },
     "execution_count": 71,
     "metadata": {},
     "output_type": "execute_result"
    }
   ],
   "source": [
    "'''\n",
    "best_clf =SVC(C=best_params.get('C'), kernel=best_params.get('kernel'), class_weight=class_weights, probability=True)\n",
    "best_clf.fit(X_train, y_train)\n",
    "'''\n",
    "best_clf =SVC(C=10, kernel='rbf', class_weight=class_weights, probability=True)\n",
    "best_clf.fit(X_train, y_train)"
   ]
  },
  {
   "cell_type": "markdown",
   "id": "fd4708d9-833c-400a-b3b7-5fc11ef03156",
   "metadata": {},
   "source": [
    "## Testing"
   ]
  },
  {
   "cell_type": "code",
   "execution_count": 180,
   "id": "55b297fb-89c2-4f83-9b4d-1c5ae516a401",
   "metadata": {},
   "outputs": [
    {
     "name": "stdout",
     "output_type": "stream",
     "text": [
      "Testing...\n",
      "Accuracy: 0.8333333333333334\n"
     ]
    }
   ],
   "source": [
    "print(\"Testing...\")\n",
    "pred = best_clf.predict(X_test) \n",
    "accuracy = best_clf.score(X_test, y_test) \n",
    "print(\"Accuracy: %s\" %str(accuracy))"
   ]
  },
  {
   "cell_type": "code",
   "execution_count": 90,
   "id": "f2de61e3-cf71-46ff-b77f-445924ada6fd",
   "metadata": {},
   "outputs": [
    {
     "name": "stdout",
     "output_type": "stream",
     "text": [
      "0.8107118558926012\n"
     ]
    }
   ],
   "source": [
    "print(best_clf.predict_proba(X_test)[0][1])"
   ]
  },
  {
   "cell_type": "code",
   "execution_count": 88,
   "id": "1cfa489f-723c-4c57-8fa5-630101df2b75",
   "metadata": {},
   "outputs": [
    {
     "name": "stdout",
     "output_type": "stream",
     "text": [
      "              precision    recall  f1-score   support\n",
      "\n",
      "           0       0.58      0.58      0.58        12\n",
      "           1       0.90      0.90      0.90        48\n",
      "\n",
      "    accuracy                           0.83        60\n",
      "   macro avg       0.74      0.74      0.74        60\n",
      "weighted avg       0.83      0.83      0.83        60\n",
      "\n"
     ]
    }
   ],
   "source": [
    "from sklearn.metrics import classification_report\n",
    "print(classification_report(y_test, pred))"
   ]
  },
  {
   "cell_type": "markdown",
   "id": "00899e15-0738-427e-8db2-6a9217740cc9",
   "metadata": {},
   "source": [
    "## Save best model "
   ]
  },
  {
   "cell_type": "code",
   "execution_count": 85,
   "id": "0f49b672-3b13-4ea7-ab47-132c21e95244",
   "metadata": {},
   "outputs": [],
   "source": [
    "#pkl_filename = \"/home/helemanc/Desktop/Binary_Model/models_experiments/Experiment_6/model_6_8.pkl\"\n",
    "pkl_filename = \"/Users/helemanc/Desktop/re_run_best_svm/model_6_8.pkl\"\n",
    "with open(pkl_filename, 'wb') as file:\n",
    "    pickle.dump(best_clf, file)"
   ]
  },
  {
   "cell_type": "code",
   "execution_count": 182,
   "id": "9afcdf0b-3ece-4c3d-9bc2-78306fc7a520",
   "metadata": {
    "tags": []
   },
   "outputs": [
    {
     "data": {
      "text/plain": [
       "\"\\n# Load from file\\nwith open(pkl_filename, 'rb') as file:\\n    pickle_model = pickle.load(file)\\n\""
      ]
     },
     "execution_count": 182,
     "metadata": {},
     "output_type": "execute_result"
    }
   ],
   "source": [
    "'''\n",
    "# Load from file\n",
    "with open(pkl_filename, 'rb') as file:\n",
    "    pickle_model = pickle.load(file)\n",
    "'''"
   ]
  },
  {
   "cell_type": "markdown",
   "id": "dc2df43b-e6c6-4ee6-b60a-7cfc09866b02",
   "metadata": {},
   "source": [
    "# Experiment 1.9: RAVDESS - TESS - SAVEE"
   ]
  },
  {
   "cell_type": "code",
   "execution_count": 233,
   "id": "fd6170f8-84e3-4449-9e53-f41da31d1568",
   "metadata": {},
   "outputs": [],
   "source": [
    "df_train = pd.concat([RAV_train, SAVEE_train, TESS_train])\n",
    "df_val = pd.concat([RAV_val, SAVEE_val])\n",
    "df_test = pd.concat([RAV_test, SAVEE_test, TESS_test])\n",
    "#df_test = pd.concat([RAV_train, SAVEE_test])"
   ]
  },
  {
   "cell_type": "code",
   "execution_count": 234,
   "id": "3c7eb92b-3fc0-4f3e-beb1-a54f1234d131",
   "metadata": {
    "tags": []
   },
   "outputs": [],
   "source": [
    "df_train.reset_index(drop = True, inplace = True) \n",
    "df_val.reset_index(drop = True, inplace = True)\n",
    "df_test.reset_index(drop = True, inplace = True)"
   ]
  },
  {
   "cell_type": "markdown",
   "id": "fd591fdb-9249-4af6-a9c1-6b9f05b1608e",
   "metadata": {
    "tags": []
   },
   "source": [
    "## Feature Extraction"
   ]
  },
  {
   "cell_type": "code",
   "execution_count": 235,
   "id": "14b2064c-f64d-49e2-b4e7-a2e192fd04c7",
   "metadata": {
    "tags": []
   },
   "outputs": [
    {
     "name": "stderr",
     "output_type": "stream",
     "text": [
      "100%|██████████████████████████████████████| 2840/2840 [00:22<00:00, 124.91it/s]\n",
      "100%|███████████████████████████████████████| 2840/2840 [00:39<00:00, 71.51it/s]\n",
      "100%|█████████████████████████████████████| 2840/2840 [00:01<00:00, 1535.13it/s]\n",
      "100%|█████████████████████████████████████████| 240/240 [00:04<00:00, 58.69it/s]\n",
      "100%|█████████████████████████████████████████| 240/240 [00:03<00:00, 79.52it/s]\n",
      "100%|███████████████████████████████████████| 240/240 [00:00<00:00, 1025.97it/s]\n",
      "100%|██████████████████████████████████████| 1640/1640 [00:03<00:00, 434.14it/s]\n",
      "100%|███████████████████████████████████████| 1640/1640 [00:22<00:00, 73.15it/s]\n",
      "100%|█████████████████████████████████████| 1640/1640 [00:00<00:00, 1746.69it/s]\n"
     ]
    }
   ],
   "source": [
    "X_train, y_train, X_val, y_val, X_test, y_test = feature_extractor(df_train, df_val, df_test, 13)"
   ]
  },
  {
   "cell_type": "code",
   "execution_count": 236,
   "id": "c07fd928-1a74-4264-92a4-4fd4e5e42fc4",
   "metadata": {},
   "outputs": [],
   "source": [
    "y_train, y_val, y_test = encode_labels(y_train, y_val, y_test)"
   ]
  },
  {
   "cell_type": "code",
   "execution_count": 237,
   "id": "0ee0d2ac-c5c9-4b1d-860c-e980d0504f02",
   "metadata": {},
   "outputs": [
    {
     "data": {
      "text/plain": [
       "1640"
      ]
     },
     "execution_count": 237,
     "metadata": {},
     "output_type": "execute_result"
    }
   ],
   "source": [
    "np.size(y_test)"
   ]
  },
  {
   "cell_type": "code",
   "execution_count": 238,
   "id": "ce55fb5f-facc-4c6d-aa34-970a8787934c",
   "metadata": {},
   "outputs": [],
   "source": [
    "X_train, X_val, X_test = standard_scaling(X_train, X_val, X_test)"
   ]
  },
  {
   "cell_type": "code",
   "execution_count": 239,
   "id": "15aa37da-fbdb-4599-b1f4-0a3ff7722b30",
   "metadata": {},
   "outputs": [
    {
     "data": {
      "text/plain": [
       "(2840, 13)"
      ]
     },
     "execution_count": 239,
     "metadata": {},
     "output_type": "execute_result"
    }
   ],
   "source": [
    "X_train.shape"
   ]
  },
  {
   "cell_type": "markdown",
   "id": "765e6555-1906-44d6-b439-1d9f1540c98c",
   "metadata": {},
   "source": [
    "## Shuffle training data"
   ]
  },
  {
   "cell_type": "code",
   "execution_count": 240,
   "id": "fcc8d152-d81e-4ecf-9617-aa67d9a05e82",
   "metadata": {},
   "outputs": [],
   "source": [
    "from sklearn.utils import shuffle\n",
    "X_train, y_train = shuffle(X_train, y_train)"
   ]
  },
  {
   "cell_type": "markdown",
   "id": "a4d07dec-a3db-4063-a3b9-199d260cc135",
   "metadata": {
    "tags": []
   },
   "source": [
    "## Hypeparameter optimization"
   ]
  },
  {
   "cell_type": "code",
   "execution_count": 241,
   "id": "b0eabd8f-93a2-4ed6-ad1e-89446cfeb619",
   "metadata": {},
   "outputs": [],
   "source": [
    "# classweight \n",
    "from sklearn.utils import class_weight\n",
    "class_weights = class_weight.compute_class_weight('balanced', np.unique(y_train), y_train)\n",
    "class_weights = {l:c for l,c in zip(np.unique(y_train), class_weights)}"
   ]
  },
  {
   "cell_type": "code",
   "execution_count": 242,
   "id": "d94d22e8-9d44-4cda-9c4d-d423ef7efa3b",
   "metadata": {},
   "outputs": [],
   "source": [
    "rand_search = RandomizedSearchCV(estimator=svc, \n",
    "                                 param_distributions=param_grid_clf, \n",
    "                                 n_jobs = -1, \n",
    "                                 cv=KFold(3))"
   ]
  },
  {
   "cell_type": "code",
   "execution_count": 243,
   "id": "2a683fe8-3e66-4c35-ba78-7f4de7a918bf",
   "metadata": {},
   "outputs": [
    {
     "name": "stdout",
     "output_type": "stream",
     "text": [
      "Performing Randomized Search...\n",
      "\n",
      "Done in 6.504s\n",
      "\n"
     ]
    }
   ],
   "source": [
    "print(\"Performing Randomized Search...\")\n",
    "t0 = time()\n",
    "rand_search.fit(X_train, y_train) \n",
    "print(\"\\nDone in %0.3fs\" % (time()-t0))\n",
    "print() "
   ]
  },
  {
   "cell_type": "code",
   "execution_count": 244,
   "id": "c74be00d-62e6-42ab-81d9-364ac09c9fb0",
   "metadata": {},
   "outputs": [
    {
     "data": {
      "text/plain": [
       "{'kernel': 'rbf', 'C': 100}"
      ]
     },
     "execution_count": 244,
     "metadata": {},
     "output_type": "execute_result"
    }
   ],
   "source": [
    "best_params = rand_search.best_params_\n",
    "best_clf = rand_search.best_estimator_\n",
    "best_params"
   ]
  },
  {
   "cell_type": "code",
   "execution_count": 245,
   "id": "cc957f98-395c-48a8-9e11-20e11f43dd25",
   "metadata": {},
   "outputs": [
    {
     "data": {
      "text/plain": [
       "SVC(C=100, class_weight={0: 1.3148148148148149, 1: 0.8068181818181818})"
      ]
     },
     "execution_count": 245,
     "metadata": {},
     "output_type": "execute_result"
    }
   ],
   "source": [
    "best_clf =SVC(C=best_params.get('C'), kernel=best_params.get('kernel'), class_weight=class_weights)\n",
    "best_clf.fit(X_train, y_train)"
   ]
  },
  {
   "cell_type": "markdown",
   "id": "be7b6625-510f-4fe0-820e-26d15bd001ea",
   "metadata": {},
   "source": [
    "## Testing"
   ]
  },
  {
   "cell_type": "code",
   "execution_count": 246,
   "id": "5b032733-a946-4065-8862-7015237c0490",
   "metadata": {},
   "outputs": [
    {
     "name": "stdout",
     "output_type": "stream",
     "text": [
      "Testing...\n",
      "Accuracy: 0.5463414634146342\n"
     ]
    }
   ],
   "source": [
    "print(\"Testing...\")\n",
    "pred = best_clf.predict(X_test) \n",
    "accuracy = best_clf.score(X_test, y_test) \n",
    "print(\"Accuracy: %s\" %str(accuracy))"
   ]
  },
  {
   "cell_type": "markdown",
   "id": "c803b17c-e025-4337-b3a2-b9c3593bf910",
   "metadata": {},
   "source": [
    "## Save best model "
   ]
  },
  {
   "cell_type": "code",
   "execution_count": 247,
   "id": "ede9f16d-19ad-4355-ad0b-ec4f9c09b331",
   "metadata": {},
   "outputs": [],
   "source": [
    "pkl_filename = \"/home/helemanc/Desktop/Binary_Model/models_experiments/Experiment_6/model_6_9.pkl\"\n",
    "with open(pkl_filename, 'wb') as file:\n",
    "    pickle.dump(best_clf, file)"
   ]
  },
  {
   "cell_type": "code",
   "execution_count": 248,
   "id": "4530e230-6788-4766-a6c1-e56efd6c8e43",
   "metadata": {
    "tags": []
   },
   "outputs": [
    {
     "data": {
      "text/plain": [
       "\"\\n# Load from file\\nwith open(pkl_filename, 'rb') as file:\\n    pickle_model = pickle.load(file)\\n\""
      ]
     },
     "execution_count": 248,
     "metadata": {},
     "output_type": "execute_result"
    }
   ],
   "source": [
    "'''\n",
    "# Load from file\n",
    "with open(pkl_filename, 'rb') as file:\n",
    "    pickle_model = pickle.load(file)\n",
    "'''"
   ]
  },
  {
   "cell_type": "markdown",
   "id": "8d829525-1427-4eb7-9b5b-9166c200eec6",
   "metadata": {
    "tags": []
   },
   "source": [
    "# Experiment 2.10: RAVDESS - TESS - SAVEE noise"
   ]
  },
  {
   "cell_type": "markdown",
   "id": "4f2516bd-5f25-4527-bd4d-6c2530909c1c",
   "metadata": {
    "tags": [],
    "toc-hr-collapsed": true
   },
   "source": [
    "## Read dataframes"
   ]
  },
  {
   "cell_type": "code",
   "execution_count": 249,
   "id": "4755a045-12f5-473d-93b5-285c6020c2eb",
   "metadata": {
    "tags": []
   },
   "outputs": [],
   "source": [
    "preprocess_path_rav = \"/home/helemanc/Desktop/Binary_Model/df_csv_noise/ravdess\"\n",
    "preprocess_path_savee = \"/home/helemanc/Desktop/Binary_Model/df_csv_noise/savee\"\n",
    "preprocess_path_tess = \"/home/helemanc/Desktop/Binary_Model/df_csv_noise/tess\"\n",
    "\n",
    "df_train_rav = pd.read_csv(os.path.join(preprocess_path_rav,\"df_train.csv\"))\n",
    "df_val_rav = pd.read_csv(os.path.join(preprocess_path_rav,\"df_val.csv\"))\n",
    "df_test_rav = pd.read_csv(os.path.join(preprocess_path_rav,\"df_test.csv\"))  \n",
    "\n",
    "df_train_tess = pd.read_csv(os.path.join(preprocess_path_tess,\"df_train.csv\"))\n",
    "df_test_tess= pd.read_csv(os.path.join(preprocess_path_tess,\"df_test.csv\"))  \n",
    "\n",
    "df_train_savee = pd.read_csv(os.path.join(preprocess_path_savee,\"df_train.csv\"))\n",
    "df_val_savee = pd.read_csv(os.path.join(preprocess_path_savee,\"df_val.csv\"))\n",
    "df_test_savee = pd.read_csv(os.path.join(preprocess_path_savee,\"df_test.csv\"))  "
   ]
  },
  {
   "cell_type": "code",
   "execution_count": 250,
   "id": "a7a8e69b-206c-4fa3-8214-67045f0dc15d",
   "metadata": {},
   "outputs": [],
   "source": [
    "df_train = pd.concat([df_train_rav, df_train_savee, df_train_tess])\n",
    "df_val = pd.concat([df_val_rav, df_val_savee])\n",
    "#df_test = pd.concat([df_test_rav, df_test_savee, df_test_tess])\n",
    "df_test = pd.concat([RAV_train, SAVEE_test])"
   ]
  },
  {
   "cell_type": "code",
   "execution_count": 251,
   "id": "b2e72830-b221-4d36-ab48-361b81d4bf05",
   "metadata": {
    "tags": []
   },
   "outputs": [],
   "source": [
    "df_train.reset_index(drop = True, inplace = True) \n",
    "df_val.reset_index(drop = True, inplace = True)\n",
    "df_test.reset_index(drop = True, inplace = True)"
   ]
  },
  {
   "cell_type": "markdown",
   "id": "cd155567-086f-42a5-8340-355e94f41593",
   "metadata": {},
   "source": [
    "## Shuffle training data"
   ]
  },
  {
   "cell_type": "code",
   "execution_count": 252,
   "id": "2af17f3b-5d28-4fa5-b453-c05583237d6d",
   "metadata": {},
   "outputs": [],
   "source": [
    "from sklearn.utils import shuffle\n",
    "X_train, y_train = shuffle(X_train, y_train)"
   ]
  },
  {
   "cell_type": "markdown",
   "id": "1fdd3ead-17ce-483b-8ed2-12491416ab0c",
   "metadata": {
    "tags": []
   },
   "source": [
    "## Hypeparameter optimization"
   ]
  },
  {
   "cell_type": "code",
   "execution_count": 253,
   "id": "5e67d7d9-f844-4437-91ad-4eed735b9552",
   "metadata": {},
   "outputs": [],
   "source": [
    "# classweight \n",
    "from sklearn.utils import class_weight\n",
    "class_weights = class_weight.compute_class_weight('balanced', np.unique(y_train), y_train)\n",
    "class_weights = {l:c for l,c in zip(np.unique(y_train), class_weights)}"
   ]
  },
  {
   "cell_type": "code",
   "execution_count": 254,
   "id": "e92f9098-52ef-420f-97cb-6e43b6972be8",
   "metadata": {},
   "outputs": [],
   "source": [
    "rand_search = RandomizedSearchCV(estimator=svc, \n",
    "                                 param_distributions=param_grid_clf, \n",
    "                                 n_jobs = -1, \n",
    "                                 cv=KFold(3))"
   ]
  },
  {
   "cell_type": "code",
   "execution_count": 255,
   "id": "2c4f0633-a6e7-4411-8e8a-0abd45f14e85",
   "metadata": {},
   "outputs": [
    {
     "name": "stdout",
     "output_type": "stream",
     "text": [
      "Performing Randomized Search...\n",
      "\n",
      "Done in 5.314s\n",
      "\n"
     ]
    }
   ],
   "source": [
    "print(\"Performing Randomized Search...\")\n",
    "t0 = time()\n",
    "rand_search.fit(X_train, y_train) \n",
    "print(\"\\nDone in %0.3fs\" % (time()-t0))\n",
    "print() "
   ]
  },
  {
   "cell_type": "code",
   "execution_count": 256,
   "id": "acf7f5bc-1f82-4631-af4e-55378af2c2ee",
   "metadata": {},
   "outputs": [
    {
     "data": {
      "text/plain": [
       "{'kernel': 'rbf', 'C': 100}"
      ]
     },
     "execution_count": 256,
     "metadata": {},
     "output_type": "execute_result"
    }
   ],
   "source": [
    "best_params = rand_search.best_params_\n",
    "best_clf = rand_search.best_estimator_\n",
    "best_params"
   ]
  },
  {
   "cell_type": "code",
   "execution_count": 257,
   "id": "a5cb946d-6f77-436b-98dc-4d97f5f9349e",
   "metadata": {},
   "outputs": [
    {
     "data": {
      "text/plain": [
       "SVC(C=100, class_weight={0: 1.3148148148148149, 1: 0.8068181818181818})"
      ]
     },
     "execution_count": 257,
     "metadata": {},
     "output_type": "execute_result"
    }
   ],
   "source": [
    "best_clf = SVC(C=best_params.get('C'), kernel=best_params.get('kernel'), class_weight=class_weights)\n",
    "best_clf.fit(X_train, y_train)"
   ]
  },
  {
   "cell_type": "markdown",
   "id": "6951060d-47d9-4a01-83ea-441300a488cd",
   "metadata": {},
   "source": [
    "## Testing"
   ]
  },
  {
   "cell_type": "code",
   "execution_count": 258,
   "id": "b9417e78-4cf5-4ca0-8356-eae5a449bc41",
   "metadata": {},
   "outputs": [
    {
     "name": "stdout",
     "output_type": "stream",
     "text": [
      "Testing...\n",
      "Accuracy: 0.5469512195121952\n"
     ]
    }
   ],
   "source": [
    "print(\"Testing...\")\n",
    "pred = best_clf.predict(X_test) \n",
    "accuracy = best_clf.score(X_test, y_test) \n",
    "print(\"Accuracy: %s\" %str(accuracy))"
   ]
  },
  {
   "cell_type": "markdown",
   "id": "defe98d8-269b-44b9-a722-07e0a5a2393e",
   "metadata": {},
   "source": [
    "## Save best model "
   ]
  },
  {
   "cell_type": "code",
   "execution_count": 259,
   "id": "ef0e0286-0b29-41c9-9685-41af041d7cca",
   "metadata": {},
   "outputs": [],
   "source": [
    "pkl_filename = \"/home/helemanc/Desktop/Binary_Model/models_experiments/Experiment_6/model_6_10.pkl\"\n",
    "with open(pkl_filename, 'wb') as file:\n",
    "    pickle.dump(best_clf, file)"
   ]
  },
  {
   "cell_type": "code",
   "execution_count": 212,
   "id": "920b295c-9ac0-45d6-8281-98885ae252bb",
   "metadata": {
    "tags": []
   },
   "outputs": [
    {
     "data": {
      "text/plain": [
       "\"\\n# Load from file\\nwith open(pkl_filename, 'rb') as file:\\n    pickle_model = pickle.load(file)\\n\""
      ]
     },
     "execution_count": 212,
     "metadata": {},
     "output_type": "execute_result"
    }
   ],
   "source": [
    "'''\n",
    "# Load from file\n",
    "with open(pkl_filename, 'rb') as file:\n",
    "    pickle_model = pickle.load(file)\n",
    "'''"
   ]
  },
  {
   "cell_type": "markdown",
   "id": "6298fc2c-3a00-41b0-b391-4c93800096e5",
   "metadata": {},
   "source": [
    "# Experiment 1.11: RAVDESS - TESS - SAVEE - CREMA"
   ]
  },
  {
   "cell_type": "code",
   "execution_count": 199,
   "id": "4cfc0dcf-36af-4a66-9a6a-9580922b4172",
   "metadata": {},
   "outputs": [],
   "source": [
    "df_train = pd.concat([RAV_train, SAVEE_train, TESS_train, CREMA_train])\n",
    "df_val = pd.concat([RAV_val, SAVEE_val, CREMA_val])\n",
    "df_test = pd.concat([RAV_test, SAVEE_test, TESS_test, CREMA_test])\n",
    "#df_test = pd.concat([RAV_train, SAVEE_test])"
   ]
  },
  {
   "cell_type": "code",
   "execution_count": 200,
   "id": "eb2ff5a3-b5e4-489b-84bf-e46b49eb434d",
   "metadata": {
    "tags": []
   },
   "outputs": [],
   "source": [
    "df_train.reset_index(drop = True, inplace = True) \n",
    "df_val.reset_index(drop = True, inplace = True)\n",
    "df_test.reset_index(drop = True, inplace = True)"
   ]
  },
  {
   "cell_type": "markdown",
   "id": "77fbb91d-4bb1-4a09-8864-0a5d61303c7e",
   "metadata": {
    "tags": []
   },
   "source": [
    "## Feature Extraction"
   ]
  },
  {
   "cell_type": "code",
   "execution_count": 201,
   "id": "d0292786-9eeb-4268-abd3-0eeaf0920671",
   "metadata": {
    "tags": []
   },
   "outputs": [
    {
     "name": "stderr",
     "output_type": "stream",
     "text": [
      "100%|███████████████████████████████████████| 3160/3160 [00:31<00:00, 99.43it/s]\n",
      "100%|███████████████████████████████████████| 3160/3160 [00:58<00:00, 53.72it/s]\n",
      "100%|█████████████████████████████████████| 3160/3160 [00:02<00:00, 1539.54it/s]\n",
      "100%|█████████████████████████████████████████| 300/300 [00:04<00:00, 68.05it/s]\n",
      "100%|█████████████████████████████████████████| 300/300 [00:05<00:00, 54.92it/s]\n",
      "100%|███████████████████████████████████████| 300/300 [00:00<00:00, 1045.02it/s]\n",
      "100%|██████████████████████████████████████| 1700/1700 [00:04<00:00, 378.68it/s]\n",
      "100%|███████████████████████████████████████| 1700/1700 [00:29<00:00, 58.51it/s]\n",
      "100%|█████████████████████████████████████| 1700/1700 [00:01<00:00, 1513.97it/s]\n"
     ]
    }
   ],
   "source": [
    "X_train, y_train, X_val, y_val, X_test, y_test = feature_extractor(df_train, df_val, df_test, 13)"
   ]
  },
  {
   "cell_type": "code",
   "execution_count": 202,
   "id": "2652c860-832b-4d28-80c9-bc42ffecc7e6",
   "metadata": {},
   "outputs": [],
   "source": [
    "y_train, y_val, y_test = encode_labels(y_train, y_val, y_test)"
   ]
  },
  {
   "cell_type": "code",
   "execution_count": 203,
   "id": "68420d1c-27ce-4c4b-8897-9214afdb3917",
   "metadata": {},
   "outputs": [
    {
     "data": {
      "text/plain": [
       "1700"
      ]
     },
     "execution_count": 203,
     "metadata": {},
     "output_type": "execute_result"
    }
   ],
   "source": [
    "np.size(y_test)"
   ]
  },
  {
   "cell_type": "code",
   "execution_count": 204,
   "id": "4b05faf6-6d1b-4b5f-8b1d-b457fd2f81a1",
   "metadata": {},
   "outputs": [],
   "source": [
    "X_train, X_val, X_test = standard_scaling(X_train, X_val, X_test)"
   ]
  },
  {
   "cell_type": "code",
   "execution_count": 205,
   "id": "7a4a9e28-abd1-41d8-8f20-5aa2ca354856",
   "metadata": {},
   "outputs": [
    {
     "data": {
      "text/plain": [
       "(3160, 13)"
      ]
     },
     "execution_count": 205,
     "metadata": {},
     "output_type": "execute_result"
    }
   ],
   "source": [
    "X_train.shape"
   ]
  },
  {
   "cell_type": "markdown",
   "id": "3c248f82-229f-470a-8fef-3702a57c505b",
   "metadata": {},
   "source": [
    "## Shuffle training data"
   ]
  },
  {
   "cell_type": "code",
   "execution_count": 206,
   "id": "20eef273-8dd0-4316-b41f-7ecb591fe824",
   "metadata": {},
   "outputs": [],
   "source": [
    "from sklearn.utils import shuffle\n",
    "X_train, y_train = shuffle(X_train, y_train)"
   ]
  },
  {
   "cell_type": "markdown",
   "id": "e57d993b-3b60-4045-b34f-398cfc69f654",
   "metadata": {
    "tags": []
   },
   "source": [
    "## Hypeparameter optimization"
   ]
  },
  {
   "cell_type": "code",
   "execution_count": 207,
   "id": "56a40aaf-1814-4930-acd6-e320343e7144",
   "metadata": {},
   "outputs": [],
   "source": [
    "# classweight \n",
    "from sklearn.utils import class_weight\n",
    "class_weights = class_weight.compute_class_weight('balanced', np.unique(y_train), y_train)\n",
    "class_weights = {l:c for l,c in zip(np.unique(y_train), class_weights)}"
   ]
  },
  {
   "cell_type": "code",
   "execution_count": 208,
   "id": "71c7389a-49d4-4e21-b5e2-25e89a98b9eb",
   "metadata": {},
   "outputs": [],
   "source": [
    "rand_search = RandomizedSearchCV(estimator=svc, \n",
    "                                 param_distributions=param_grid_clf, \n",
    "                                 n_jobs = -1, \n",
    "                                 cv=KFold(3))"
   ]
  },
  {
   "cell_type": "code",
   "execution_count": 209,
   "id": "3c5bd5ab-faee-454c-b0be-3fe3fb86baa7",
   "metadata": {},
   "outputs": [
    {
     "name": "stdout",
     "output_type": "stream",
     "text": [
      "Performing Randomized Search...\n",
      "\n",
      "Done in 227.239s\n",
      "\n"
     ]
    }
   ],
   "source": [
    "print(\"Performing Randomized Search...\")\n",
    "t0 = time()\n",
    "rand_search.fit(X_train, y_train) \n",
    "print(\"\\nDone in %0.3fs\" % (time()-t0))\n",
    "print() "
   ]
  },
  {
   "cell_type": "code",
   "execution_count": 210,
   "id": "d6206026-49f5-4654-a0ad-6e9b54bd8c45",
   "metadata": {},
   "outputs": [
    {
     "data": {
      "text/plain": [
       "{'kernel': 'rbf', 'C': 100}"
      ]
     },
     "execution_count": 210,
     "metadata": {},
     "output_type": "execute_result"
    }
   ],
   "source": [
    "best_params = rand_search.best_params_\n",
    "best_clf = rand_search.best_estimator_\n",
    "best_params"
   ]
  },
  {
   "cell_type": "code",
   "execution_count": 211,
   "id": "a44d8fe1-13c0-4c19-ac9a-50569704805e",
   "metadata": {},
   "outputs": [
    {
     "data": {
      "text/plain": [
       "SVC(C=100, class_weight={0: 1.381118881118881, 1: 0.7837301587301587})"
      ]
     },
     "execution_count": 211,
     "metadata": {},
     "output_type": "execute_result"
    }
   ],
   "source": [
    "best_clf =SVC(C=best_params.get('C'), kernel=best_params.get('kernel'), class_weight=class_weights)\n",
    "best_clf.fit(X_train, y_train)"
   ]
  },
  {
   "cell_type": "markdown",
   "id": "924717a0-799b-4d1b-8ea3-1598348b41c9",
   "metadata": {},
   "source": [
    "## Testing"
   ]
  },
  {
   "cell_type": "code",
   "execution_count": 212,
   "id": "baf546e2-cadc-4d3c-8fdb-5e776377854a",
   "metadata": {},
   "outputs": [
    {
     "name": "stdout",
     "output_type": "stream",
     "text": [
      "Testing...\n",
      "Accuracy: 0.5152941176470588\n"
     ]
    }
   ],
   "source": [
    "print(\"Testing...\")\n",
    "pred = best_clf.predict(X_test) \n",
    "accuracy = best_clf.score(X_test, y_test) \n",
    "print(\"Accuracy: %s\" %str(accuracy))"
   ]
  },
  {
   "cell_type": "markdown",
   "id": "c3e08cb6-22ba-46be-b425-61a2bc44c753",
   "metadata": {},
   "source": [
    "## Save best model "
   ]
  },
  {
   "cell_type": "code",
   "execution_count": 213,
   "id": "5909742b-0933-4d72-8e2e-3aad84f9c57c",
   "metadata": {},
   "outputs": [],
   "source": [
    "pkl_filename = \"/home/helemanc/Desktop/Binary_Model/models_experiments/Experiment_6/model_6_11.pkl\"\n",
    "with open(pkl_filename, 'wb') as file:\n",
    "    pickle.dump(best_clf, file)"
   ]
  },
  {
   "cell_type": "code",
   "execution_count": 214,
   "id": "0ceb0904-96bd-485e-bfe7-a381a7693b30",
   "metadata": {
    "tags": []
   },
   "outputs": [
    {
     "data": {
      "text/plain": [
       "\"\\n# Load from file\\nwith open(pkl_filename, 'rb') as file:\\n    pickle_model = pickle.load(file)\\n\""
      ]
     },
     "execution_count": 214,
     "metadata": {},
     "output_type": "execute_result"
    }
   ],
   "source": [
    "'''\n",
    "# Load from file\n",
    "with open(pkl_filename, 'rb') as file:\n",
    "    pickle_model = pickle.load(file)\n",
    "'''"
   ]
  },
  {
   "cell_type": "markdown",
   "id": "b45ef83d-395e-4c18-bad1-0dfb226b86f6",
   "metadata": {},
   "source": [
    "# Experiment 1.12:  RAVDESS - TESS - SAVEE - CREMA noise"
   ]
  },
  {
   "cell_type": "markdown",
   "id": "81485f79-699d-453d-bc5c-10cbe39189d7",
   "metadata": {
    "tags": [],
    "toc-hr-collapsed": true
   },
   "source": [
    "## Read dataframes"
   ]
  },
  {
   "cell_type": "code",
   "execution_count": 215,
   "id": "bf12e019-afff-435d-86d4-0b915bf880bb",
   "metadata": {
    "tags": []
   },
   "outputs": [],
   "source": [
    "preprocess_path_rav = \"/home/helemanc/Desktop/Binary_Model/df_csv_noise/ravdess\"\n",
    "preprocess_path_savee = \"/home/helemanc/Desktop/Binary_Model/df_csv_noise/savee\"\n",
    "preprocess_path_tess = \"/home/helemanc/Desktop/Binary_Model/df_csv_noise/tess\"\n",
    "preprocess_path_crema = \"/home/helemanc/Desktop/Binary_Model/df_csv_noise/crema\"\n",
    "\n",
    "df_train_rav = pd.read_csv(os.path.join(preprocess_path_rav,\"df_train.csv\"))\n",
    "df_val_rav = pd.read_csv(os.path.join(preprocess_path_rav,\"df_val.csv\"))\n",
    "df_test_rav = pd.read_csv(os.path.join(preprocess_path_rav,\"df_test.csv\"))  \n",
    "\n",
    "df_train_tess = pd.read_csv(os.path.join(preprocess_path_tess,\"df_train.csv\"))\n",
    "df_test_tess= pd.read_csv(os.path.join(preprocess_path_tess,\"df_test.csv\"))  \n",
    "\n",
    "df_train_savee = pd.read_csv(os.path.join(preprocess_path_savee,\"df_train.csv\"))\n",
    "df_val_savee = pd.read_csv(os.path.join(preprocess_path_savee,\"df_val.csv\"))\n",
    "df_test_savee = pd.read_csv(os.path.join(preprocess_path_savee,\"df_test.csv\"))  \n",
    "\n",
    "df_train_crema = pd.read_csv(os.path.join(preprocess_path_crema,\"df_train.csv\"))\n",
    "df_val_crema = pd.read_csv(os.path.join(preprocess_path_crema,\"df_val.csv\"))\n",
    "df_test_crema = pd.read_csv(os.path.join(preprocess_path_crema,\"df_test.csv\")) "
   ]
  },
  {
   "cell_type": "code",
   "execution_count": 216,
   "id": "1e470b6c-54a3-498e-9b1c-8dfaf3481798",
   "metadata": {},
   "outputs": [],
   "source": [
    "df_train = pd.concat([df_train_rav, df_train_savee, df_train_tess, df_train_crema])\n",
    "df_val = pd.concat([df_val_rav, df_val_savee, df_train_crema, df_train_crema])\n",
    "#df_test = pd.concat([df_test_rav, df_test_savee, df_test_tess])\n",
    "#df_test = pd.concat([df_test_rav, df_test_savee, df_test_crema ])\n",
    "df_test = pd.concat([df_test_rav, df_test_savee ])"
   ]
  },
  {
   "cell_type": "code",
   "execution_count": 217,
   "id": "17b367fa-2924-48c5-a504-0418a7d78e0c",
   "metadata": {
    "tags": []
   },
   "outputs": [],
   "source": [
    "df_train.reset_index(drop = True, inplace = True) \n",
    "df_val.reset_index(drop = True, inplace = True)\n",
    "df_test.reset_index(drop = True, inplace = True)"
   ]
  },
  {
   "cell_type": "markdown",
   "id": "67a6c252-fdda-483f-8750-d90c312579d0",
   "metadata": {},
   "source": [
    "## Feature Extraction"
   ]
  },
  {
   "cell_type": "code",
   "execution_count": 218,
   "id": "472f3c80-4a8b-4eb9-958c-ad71753f4d41",
   "metadata": {},
   "outputs": [
    {
     "name": "stderr",
     "output_type": "stream",
     "text": [
      "100%|███████████████████████████████████████| 6320/6320 [01:13<00:00, 86.21it/s]\n",
      "100%|███████████████████████████████████████| 6320/6320 [02:58<00:00, 35.47it/s]\n",
      "100%|█████████████████████████████████████| 6320/6320 [00:05<00:00, 1115.40it/s]\n",
      "100%|██████████████████████████████████████| 1520/1520 [00:06<00:00, 224.50it/s]\n",
      "100%|███████████████████████████████████████| 1520/1520 [00:43<00:00, 34.81it/s]\n",
      "100%|█████████████████████████████████████| 1520/1520 [00:01<00:00, 1126.68it/s]\n",
      "100%|█████████████████████████████████████████| 240/240 [00:05<00:00, 46.86it/s]\n",
      "100%|█████████████████████████████████████████| 240/240 [00:06<00:00, 34.73it/s]\n",
      "100%|████████████████████████████████████████| 240/240 [00:00<00:00, 855.58it/s]\n"
     ]
    }
   ],
   "source": [
    "X_train, y_train, X_val, y_val, X_test, y_test = feature_extractor(df_train, df_val, df_test, 13) # 13"
   ]
  },
  {
   "cell_type": "code",
   "execution_count": 219,
   "id": "6792c602-a33b-4af0-9d85-1eccc2bbeac4",
   "metadata": {},
   "outputs": [
    {
     "data": {
      "text/plain": [
       "(13,)"
      ]
     },
     "execution_count": 219,
     "metadata": {},
     "output_type": "execute_result"
    }
   ],
   "source": [
    "X_train[0].shape"
   ]
  },
  {
   "cell_type": "code",
   "execution_count": 220,
   "id": "3162e853-307e-4afb-a3e6-5d07b8593407",
   "metadata": {},
   "outputs": [],
   "source": [
    "y_train, y_val, y_test = encode_labels(y_train, y_val, y_test)"
   ]
  },
  {
   "cell_type": "code",
   "execution_count": 221,
   "id": "84c2e99c-fbc4-4d7e-82c0-2a8628a1953a",
   "metadata": {},
   "outputs": [
    {
     "data": {
      "text/plain": [
       "1520"
      ]
     },
     "execution_count": 221,
     "metadata": {},
     "output_type": "execute_result"
    }
   ],
   "source": [
    "np.size(y_val)"
   ]
  },
  {
   "cell_type": "code",
   "execution_count": 222,
   "id": "c8dff17a-0802-47ae-b05b-c105f6fd6384",
   "metadata": {},
   "outputs": [],
   "source": [
    "X_train, X_val, X_test = standard_scaling(X_train, X_val, X_test)"
   ]
  },
  {
   "cell_type": "code",
   "execution_count": 223,
   "id": "4cf58063-5ef2-4314-abf2-1c812e5d1947",
   "metadata": {},
   "outputs": [
    {
     "data": {
      "text/plain": [
       "(6320, 13)"
      ]
     },
     "execution_count": 223,
     "metadata": {},
     "output_type": "execute_result"
    }
   ],
   "source": [
    "X_train.shape"
   ]
  },
  {
   "cell_type": "markdown",
   "id": "1f92be9a-1b1a-4ea2-a55c-60543da52d8d",
   "metadata": {},
   "source": [
    "## Shuffle training data"
   ]
  },
  {
   "cell_type": "code",
   "execution_count": 224,
   "id": "e00a1634-98e7-4e1c-8ed0-92d401ce2514",
   "metadata": {},
   "outputs": [],
   "source": [
    "from sklearn.utils import shuffle\n",
    "X_train, y_train = shuffle(X_train, y_train)"
   ]
  },
  {
   "cell_type": "markdown",
   "id": "08fca9fa-8623-416f-9343-1d0f522bd38e",
   "metadata": {
    "tags": []
   },
   "source": [
    "## Hypeparameter optimization"
   ]
  },
  {
   "cell_type": "code",
   "execution_count": 225,
   "id": "ce955f2e-75ba-4a6f-9438-990552cdad90",
   "metadata": {},
   "outputs": [],
   "source": [
    "# classweight \n",
    "from sklearn.utils import class_weight\n",
    "class_weights = class_weight.compute_class_weight('balanced', np.unique(y_train), y_train)\n",
    "class_weights = {l:c for l,c in zip(np.unique(y_train), class_weights)}"
   ]
  },
  {
   "cell_type": "code",
   "execution_count": 226,
   "id": "a055433f-4077-4534-97e8-837b65a4d6e8",
   "metadata": {},
   "outputs": [],
   "source": [
    "rand_search = RandomizedSearchCV(estimator=svc, \n",
    "                                 param_distributions=param_grid_clf, \n",
    "                                 n_jobs = -1, \n",
    "                                 cv=KFold(3))"
   ]
  },
  {
   "cell_type": "code",
   "execution_count": 227,
   "id": "08bfbbe8-8dd4-4e7f-b4ff-d3ad359379c5",
   "metadata": {},
   "outputs": [
    {
     "name": "stdout",
     "output_type": "stream",
     "text": [
      "Performing Randomized Search...\n",
      "\n",
      "Done in 1072.045s\n",
      "\n"
     ]
    }
   ],
   "source": [
    "print(\"Performing Randomized Search...\")\n",
    "t0 = time()\n",
    "rand_search.fit(X_train, y_train) \n",
    "print(\"\\nDone in %0.3fs\" % (time()-t0))\n",
    "print() "
   ]
  },
  {
   "cell_type": "code",
   "execution_count": 228,
   "id": "fbbe4907-8f41-4b7e-b96e-28fb18fad97c",
   "metadata": {},
   "outputs": [
    {
     "data": {
      "text/plain": [
       "{'kernel': 'rbf', 'C': 100}"
      ]
     },
     "execution_count": 228,
     "metadata": {},
     "output_type": "execute_result"
    }
   ],
   "source": [
    "best_params = rand_search.best_params_\n",
    "best_clf = rand_search.best_estimator_\n",
    "best_params"
   ]
  },
  {
   "cell_type": "code",
   "execution_count": 229,
   "id": "5f6dcb4d-4a6f-4476-ac45-ac3795156e2d",
   "metadata": {},
   "outputs": [
    {
     "data": {
      "text/plain": [
       "SVC(C=100, class_weight={0: 1.381118881118881, 1: 0.7837301587301587})"
      ]
     },
     "execution_count": 229,
     "metadata": {},
     "output_type": "execute_result"
    }
   ],
   "source": [
    "best_clf =SVC(C=best_params.get('C'), kernel=best_params.get('kernel'), class_weight=class_weights)\n",
    "best_clf.fit(X_train, y_train)"
   ]
  },
  {
   "cell_type": "markdown",
   "id": "ab4075a9-2f85-4ffe-92c0-96e1fe010556",
   "metadata": {},
   "source": [
    "## Testing"
   ]
  },
  {
   "cell_type": "code",
   "execution_count": 230,
   "id": "251e3f24-3776-44a7-b5a6-655d2972c71e",
   "metadata": {},
   "outputs": [
    {
     "name": "stdout",
     "output_type": "stream",
     "text": [
      "Testing...\n",
      "Accuracy: 0.575\n"
     ]
    }
   ],
   "source": [
    "print(\"Testing...\")\n",
    "pred = best_clf.predict(X_test) \n",
    "accuracy = best_clf.score(X_test, y_test) \n",
    "print(\"Accuracy: %s\" %str(accuracy))"
   ]
  },
  {
   "cell_type": "markdown",
   "id": "50b82a02-2102-4227-af02-19a5c5ae5781",
   "metadata": {},
   "source": [
    "## Save best model "
   ]
  },
  {
   "cell_type": "code",
   "execution_count": 231,
   "id": "8dd282bd-6779-45ea-81af-eab033e823ac",
   "metadata": {},
   "outputs": [],
   "source": [
    "pkl_filename = \"/home/helemanc/Desktop/Binary_Model/models_experiments/Experiment_6/model_6_12.pkl\"\n",
    "with open(pkl_filename, 'wb') as file:\n",
    "    pickle.dump(best_clf, file)"
   ]
  },
  {
   "cell_type": "code",
   "execution_count": 232,
   "id": "6f7081ea-5770-42fa-be8c-042f1a30102a",
   "metadata": {
    "tags": []
   },
   "outputs": [
    {
     "data": {
      "text/plain": [
       "\"\\n# Load from file\\nwith open(pkl_filename, 'rb') as file:\\n    pickle_model = pickle.load(file)\\n\""
      ]
     },
     "execution_count": 232,
     "metadata": {},
     "output_type": "execute_result"
    }
   ],
   "source": [
    "'''\n",
    "# Load from file\n",
    "with open(pkl_filename, 'rb') as file:\n",
    "    pickle_model = pickle.load(file)\n",
    "'''"
   ]
  }
 ],
 "metadata": {
  "kernelspec": {
   "display_name": "Python 3",
   "language": "python",
   "name": "python3"
  },
  "language_info": {
   "codemirror_mode": {
    "name": "ipython",
    "version": 3
   },
   "file_extension": ".py",
   "mimetype": "text/x-python",
   "name": "python",
   "nbconvert_exporter": "python",
   "pygments_lexer": "ipython3",
   "version": "3.7.7"
  }
 },
 "nbformat": 4,
 "nbformat_minor": 5
}

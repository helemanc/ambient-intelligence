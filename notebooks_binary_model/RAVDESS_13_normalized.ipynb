{
 "cells": [
  {
   "cell_type": "markdown",
   "id": "5db0db58-8f11-41f5-b255-03cf045abc6e",
   "metadata": {
    "tags": []
   },
   "source": [
    "# Configuration\n",
    "\n",
    "NOTES: The warnings after the import are referred to the fact that Tensorflow 2.x versions are built to directly look for a GPU in the system. The warning can be forgot if you are not going to use the GPU. "
   ]
  },
  {
   "cell_type": "code",
   "execution_count": 1,
   "id": "e0ce32b5-ab46-426f-a9e7-86028b959227",
   "metadata": {},
   "outputs": [],
   "source": [
    "!source myenv/bin/activate"
   ]
  },
  {
   "cell_type": "code",
   "execution_count": 2,
   "id": "ca3a7763-0b63-48d4-ba28-acdffefcc0ab",
   "metadata": {},
   "outputs": [],
   "source": [
    "LENGTH_CHOSEN = 126520"
   ]
  },
  {
   "cell_type": "code",
   "execution_count": 3,
   "id": "36b37e74-d859-425a-b14d-a39475aaa503",
   "metadata": {
    "tags": []
   },
   "outputs": [
    {
     "name": "stderr",
     "output_type": "stream",
     "text": [
      "2021-08-30 11:15:05.207607: W tensorflow/stream_executor/platform/default/dso_loader.cc:60] Could not load dynamic library 'libcudart.so.11.0'; dlerror: libcudart.so.11.0: cannot open shared object file: No such file or directory\n",
      "2021-08-30 11:15:05.207630: I tensorflow/stream_executor/cuda/cudart_stub.cc:29] Ignore above cudart dlerror if you do not have a GPU set up on your machine.\n",
      "2021-08-30 11:15:06.056241: I tensorflow/compiler/jit/xla_cpu_device.cc:41] Not creating XLA devices, tf_xla_enable_xla_devices not set\n",
      "2021-08-30 11:15:06.056812: I tensorflow/stream_executor/platform/default/dso_loader.cc:49] Successfully opened dynamic library libcuda.so.1\n",
      "2021-08-30 11:15:06.127513: E tensorflow/stream_executor/cuda/cuda_driver.cc:328] failed call to cuInit: CUDA_ERROR_NO_DEVICE: no CUDA-capable device is detected\n",
      "2021-08-30 11:15:06.127533: I tensorflow/stream_executor/cuda/cuda_diagnostics.cc:156] kernel driver does not appear to be running on this host (helemanc-Latitude-5410): /proc/driver/nvidia/version does not exist\n"
     ]
    },
    {
     "data": {
      "text/plain": [
       "[]"
      ]
     },
     "execution_count": 3,
     "metadata": {},
     "output_type": "execute_result"
    }
   ],
   "source": [
    "import os\n",
    "import librosa\n",
    "import numpy as np\n",
    "from tqdm.notebook import tqdm\n",
    "import pandas as pd\n",
    "import matplotlib.pyplot as plt\n",
    "import warnings\n",
    "warnings.filterwarnings(\"ignore\")\n",
    "import seaborn as sns\n",
    "sns.set_style('whitegrid')\n",
    "import IPython.display as ipd\n",
    "import librosa.display\n",
    "import numpy as np\n",
    "import pickle\n",
    "import scipy\n",
    "import ipywidgets\n",
    "import math\n",
    "\n",
    "from sklearn.model_selection import train_test_split\n",
    "from sklearn.ensemble import RandomForestClassifier\n",
    "from sklearn.preprocessing import StandardScaler, LabelEncoder\n",
    "from sklearn.pipeline import make_pipeline\n",
    "from sklearn.cluster import KMeans\n",
    "from sklearn.metrics import accuracy_score, confusion_matrix\n",
    "from scipy.cluster.hierarchy import dendrogram\n",
    "from sklearn.cluster import AgglomerativeClustering\n",
    "\n",
    "from tqdm import tqdm\n",
    "\n",
    "import tensorflow as tf\n",
    "from tensorflow.keras.layers import Dense, Dropout, Conv2D, AveragePooling1D, MaxPooling2D, Flatten\n",
    "from tensorflow.keras.optimizers import SGD, Adam \n",
    "from tensorflow.keras.models import Sequential\n",
    "from tensorflow.keras import layers\n",
    "from tensorflow.keras import regularizers\n",
    "\n",
    "# from livelossplot import PlotLossesKeras\n",
    "tf.config.list_physical_devices('GPU')"
   ]
  },
  {
   "cell_type": "markdown",
   "id": "ca3de598-e9b4-468c-83f1-5792909a1d18",
   "metadata": {},
   "source": [
    "# Get data from dataset - Normalized Audio Folder "
   ]
  },
  {
   "cell_type": "code",
   "execution_count": 4,
   "id": "d44e5350-a15c-4bdb-b4c4-3b7804e258ff",
   "metadata": {},
   "outputs": [],
   "source": [
    "main_path ='/home/helemanc/Desktop/Binary_Model/normalized_audio/ravdess' "
   ]
  },
  {
   "cell_type": "code",
   "execution_count": 5,
   "id": "9aa2bf64-a26a-425f-b840-832c9d6bccd6",
   "metadata": {},
   "outputs": [
    {
     "name": "stderr",
     "output_type": "stream",
     "text": [
      "1it [00:00, 49.26it/s]\n"
     ]
    }
   ],
   "source": [
    "lst = []\n",
    "emotion = []\n",
    "voc_channel = []\n",
    "full_path = []\n",
    "modality = []\n",
    "intensity = []\n",
    "actors = []\n",
    "phrase =[]\n",
    "\n",
    "paths = []\n",
    "\n",
    "for root, dirs, files in tqdm(os.walk(main_path)):\n",
    "    for file in files:\n",
    "        try:\n",
    "            #Load librosa array, obtain mfcss, store the file and the mfcss information in a new array\n",
    "            # X, sample_rate = librosa.load(os.path.join(root,file), res_type='kaiser_fast')\n",
    "            # mfccs = np.mean(librosa.feature.mfcc(y=X, sr=sample_rate, n_mfcc=40).T,axis=0) \n",
    "            # The instruction below converts the labels (from 1 to 8) to a series from 0 to 7\n",
    "            # This is because our predictor needs to start from 0 otherwise it will try to predict also 0.\n",
    "            \n",
    "            modal = int(file[1:2])\n",
    "            vchan = int(file[4:5])\n",
    "            lab = int(file[7:8])\n",
    "            ints = int(file[10:11])\n",
    "            phr = int(file[13:14])\n",
    "            act = int(file[18:20])\n",
    "            # arr = mfccs, lab\n",
    "            # lst.append(arr)\n",
    "            \n",
    "            if file not in paths: \n",
    "                modality.append(modal)\n",
    "                voc_channel.append(vchan)\n",
    "                emotion.append(lab) #only labels\n",
    "                intensity.append(ints)\n",
    "                phrase.append(phr)\n",
    "                actors.append(act)\n",
    "\n",
    "                paths.append(file)\n",
    "                full_path.append((root, file)) # only files\n",
    "          # If the file is not valid, skip it\n",
    "        except ValueError:\n",
    "            continue"
   ]
  },
  {
   "cell_type": "code",
   "execution_count": 6,
   "id": "076e357e-f189-4482-afb3-1b797b51f0ad",
   "metadata": {},
   "outputs": [],
   "source": [
    "# 01 = neutral, 02 = calm, 03 = happy, 04 = sad, 05 = angry, 06 = fearful, 07 = disgust, 08 = surprised\n",
    "emotions_list = ['neutral', 'calm', 'happy', 'sadness', 'angry', 'fear', 'disgust', 'surprise']\n",
    "emotion_dict = {em[0]+1:em[1] for em in enumerate(emotions_list)}\n",
    "\n",
    "df = pd.DataFrame([emotion, voc_channel, modality, intensity, actors, actors,phrase, full_path]).T\n",
    "df.columns = ['emotion', 'voc_channel', 'modality', 'intensity', 'actors', 'gender', 'phrase', 'path']\n",
    "df['emotion'] = df['emotion'].map(emotion_dict)\n",
    "df['voc_channel'] = df['voc_channel'].map({1: 'speech', 2:'song'})\n",
    "df['modality'] = df['modality'].map({1: 'full AV', 2:'video only', 3:'audio only'})\n",
    "df['intensity'] = df['intensity'].map({1: 'normal', 2:'strong'})\n",
    "df['actors'] = df['actors']\n",
    "df['gender'] = df['actors'].apply(lambda x: 'female' if x%2 == 0 else 'male')\n",
    "df['phrase'] = df['phrase'].map({1: 'Kids are talking by the door', 2:'Dogs are sitting by the door'})\n",
    "df['path'] = df['path'].apply(lambda x: x[0] + '/' + x[1])"
   ]
  },
  {
   "cell_type": "code",
   "execution_count": 7,
   "id": "b9d5d3d9-964b-4648-8ff0-4cb14499572c",
   "metadata": {},
   "outputs": [
    {
     "data": {
      "text/plain": [
       "(1440, 8)"
      ]
     },
     "execution_count": 7,
     "metadata": {},
     "output_type": "execute_result"
    }
   ],
   "source": [
    "df.shape"
   ]
  },
  {
   "cell_type": "code",
   "execution_count": 8,
   "id": "16735c38-1f59-42bf-9b88-97cbc8c43a09",
   "metadata": {},
   "outputs": [],
   "source": [
    "# only speech\n",
    "RAV_df = df\n",
    "RAV_df = RAV_df.loc[RAV_df.voc_channel == 'speech']"
   ]
  },
  {
   "cell_type": "code",
   "execution_count": 9,
   "id": "be0580ce-acbd-48d7-895d-fe00e32f01e3",
   "metadata": {},
   "outputs": [],
   "source": [
    "RAV_df.insert(0, \"emotion_label\", RAV_df.emotion, True)"
   ]
  },
  {
   "cell_type": "code",
   "execution_count": 10,
   "id": "fd4d8376-31c5-444c-a607-fd18458e8921",
   "metadata": {},
   "outputs": [],
   "source": [
    "RAV_df = RAV_df.drop(['emotion', 'voc_channel', 'modality', 'intensity', 'phrase'], 1)"
   ]
  },
  {
   "cell_type": "code",
   "execution_count": 11,
   "id": "aba35340-54b3-4b19-867e-2e15eac78db5",
   "metadata": {},
   "outputs": [
    {
     "data": {
      "text/html": [
       "<div>\n",
       "<style scoped>\n",
       "    .dataframe tbody tr th:only-of-type {\n",
       "        vertical-align: middle;\n",
       "    }\n",
       "\n",
       "    .dataframe tbody tr th {\n",
       "        vertical-align: top;\n",
       "    }\n",
       "\n",
       "    .dataframe thead th {\n",
       "        text-align: right;\n",
       "    }\n",
       "</style>\n",
       "<table border=\"1\" class=\"dataframe\">\n",
       "  <thead>\n",
       "    <tr style=\"text-align: right;\">\n",
       "      <th></th>\n",
       "      <th>emotion_label</th>\n",
       "      <th>actors</th>\n",
       "      <th>gender</th>\n",
       "      <th>path</th>\n",
       "    </tr>\n",
       "  </thead>\n",
       "  <tbody>\n",
       "    <tr>\n",
       "      <th>0</th>\n",
       "      <td>happy</td>\n",
       "      <td>16</td>\n",
       "      <td>female</td>\n",
       "      <td>/home/helemanc/Desktop/Binary_Model/normalized...</td>\n",
       "    </tr>\n",
       "    <tr>\n",
       "      <th>1</th>\n",
       "      <td>fear</td>\n",
       "      <td>16</td>\n",
       "      <td>female</td>\n",
       "      <td>/home/helemanc/Desktop/Binary_Model/normalized...</td>\n",
       "    </tr>\n",
       "    <tr>\n",
       "      <th>2</th>\n",
       "      <td>happy</td>\n",
       "      <td>2</td>\n",
       "      <td>female</td>\n",
       "      <td>/home/helemanc/Desktop/Binary_Model/normalized...</td>\n",
       "    </tr>\n",
       "    <tr>\n",
       "      <th>3</th>\n",
       "      <td>angry</td>\n",
       "      <td>17</td>\n",
       "      <td>male</td>\n",
       "      <td>/home/helemanc/Desktop/Binary_Model/normalized...</td>\n",
       "    </tr>\n",
       "    <tr>\n",
       "      <th>4</th>\n",
       "      <td>disgust</td>\n",
       "      <td>19</td>\n",
       "      <td>male</td>\n",
       "      <td>/home/helemanc/Desktop/Binary_Model/normalized...</td>\n",
       "    </tr>\n",
       "    <tr>\n",
       "      <th>...</th>\n",
       "      <td>...</td>\n",
       "      <td>...</td>\n",
       "      <td>...</td>\n",
       "      <td>...</td>\n",
       "    </tr>\n",
       "    <tr>\n",
       "      <th>1435</th>\n",
       "      <td>fear</td>\n",
       "      <td>19</td>\n",
       "      <td>male</td>\n",
       "      <td>/home/helemanc/Desktop/Binary_Model/normalized...</td>\n",
       "    </tr>\n",
       "    <tr>\n",
       "      <th>1436</th>\n",
       "      <td>neutral</td>\n",
       "      <td>2</td>\n",
       "      <td>female</td>\n",
       "      <td>/home/helemanc/Desktop/Binary_Model/normalized...</td>\n",
       "    </tr>\n",
       "    <tr>\n",
       "      <th>1437</th>\n",
       "      <td>fear</td>\n",
       "      <td>12</td>\n",
       "      <td>female</td>\n",
       "      <td>/home/helemanc/Desktop/Binary_Model/normalized...</td>\n",
       "    </tr>\n",
       "    <tr>\n",
       "      <th>1438</th>\n",
       "      <td>sadness</td>\n",
       "      <td>22</td>\n",
       "      <td>female</td>\n",
       "      <td>/home/helemanc/Desktop/Binary_Model/normalized...</td>\n",
       "    </tr>\n",
       "    <tr>\n",
       "      <th>1439</th>\n",
       "      <td>disgust</td>\n",
       "      <td>1</td>\n",
       "      <td>male</td>\n",
       "      <td>/home/helemanc/Desktop/Binary_Model/normalized...</td>\n",
       "    </tr>\n",
       "  </tbody>\n",
       "</table>\n",
       "<p>1440 rows × 4 columns</p>\n",
       "</div>"
      ],
      "text/plain": [
       "     emotion_label actors  gender  \\\n",
       "0            happy     16  female   \n",
       "1             fear     16  female   \n",
       "2            happy      2  female   \n",
       "3            angry     17    male   \n",
       "4          disgust     19    male   \n",
       "...            ...    ...     ...   \n",
       "1435          fear     19    male   \n",
       "1436       neutral      2  female   \n",
       "1437          fear     12  female   \n",
       "1438       sadness     22  female   \n",
       "1439       disgust      1    male   \n",
       "\n",
       "                                                   path  \n",
       "0     /home/helemanc/Desktop/Binary_Model/normalized...  \n",
       "1     /home/helemanc/Desktop/Binary_Model/normalized...  \n",
       "2     /home/helemanc/Desktop/Binary_Model/normalized...  \n",
       "3     /home/helemanc/Desktop/Binary_Model/normalized...  \n",
       "4     /home/helemanc/Desktop/Binary_Model/normalized...  \n",
       "...                                                 ...  \n",
       "1435  /home/helemanc/Desktop/Binary_Model/normalized...  \n",
       "1436  /home/helemanc/Desktop/Binary_Model/normalized...  \n",
       "1437  /home/helemanc/Desktop/Binary_Model/normalized...  \n",
       "1438  /home/helemanc/Desktop/Binary_Model/normalized...  \n",
       "1439  /home/helemanc/Desktop/Binary_Model/normalized...  \n",
       "\n",
       "[1440 rows x 4 columns]"
      ]
     },
     "execution_count": 11,
     "metadata": {},
     "output_type": "execute_result"
    }
   ],
   "source": [
    "RAV_df"
   ]
  },
  {
   "cell_type": "code",
   "execution_count": 12,
   "id": "cd0dfe6f-22f3-480c-a5b1-64f9d9eeadde",
   "metadata": {},
   "outputs": [],
   "source": [
    "RAV_train = []\n",
    "RAV_val = []\n",
    "RAV_test = []"
   ]
  },
  {
   "cell_type": "code",
   "execution_count": 13,
   "id": "127f7095-b103-4394-9d76-22eeb87b4d14",
   "metadata": {},
   "outputs": [
    {
     "data": {
      "text/plain": [
       "(1200, 120, 120)"
      ]
     },
     "execution_count": 13,
     "metadata": {},
     "output_type": "execute_result"
    }
   ],
   "source": [
    "for index, row in RAV_df.iterrows():\n",
    "    if row['actors'] in range(1,21): \n",
    "        RAV_train.append(row) \n",
    "    elif row['actors'] in range(21,23): \n",
    "        RAV_val.append(row)\n",
    "    elif row['actors'] in range(23,25): \n",
    "        RAV_test.append(row)\n",
    "len(RAV_train), len(RAV_val), len(RAV_test)"
   ]
  },
  {
   "cell_type": "code",
   "execution_count": 14,
   "id": "e763f2d8-539f-48ee-a0f6-412ad5fa7f62",
   "metadata": {},
   "outputs": [],
   "source": [
    "RAV_train = pd.DataFrame(RAV_train)\n",
    "RAV_val = pd.DataFrame(RAV_val)\n",
    "RAV_test = pd.DataFrame(RAV_test)"
   ]
  },
  {
   "cell_type": "code",
   "execution_count": 15,
   "id": "4a161d91-e15c-4cd5-b53b-f8d6a3192d09",
   "metadata": {},
   "outputs": [],
   "source": [
    "RAV_train = RAV_train.drop(['actors'], 1)\n",
    "RAV_val = RAV_val.drop(['actors'], 1)\n",
    "RAV_test = RAV_test.drop(['actors'], 1)"
   ]
  },
  {
   "cell_type": "code",
   "execution_count": 16,
   "id": "2d74362a-c8f8-46f9-9b62-566bc8c86338",
   "metadata": {},
   "outputs": [],
   "source": [
    "df_train = RAV_train.reset_index(drop=True) \n",
    "df_val = RAV_val.reset_index(drop=True) \n",
    "df_test = RAV_test.reset_index(drop=True) "
   ]
  },
  {
   "cell_type": "markdown",
   "id": "f2bea181-13dd-4835-a132-afe40fb5c641",
   "metadata": {
    "tags": []
   },
   "source": [
    "## Utils"
   ]
  },
  {
   "cell_type": "code",
   "execution_count": 23,
   "id": "5535642e-5e75-45fb-bc41-6bb30ff4641e",
   "metadata": {
    "tags": []
   },
   "outputs": [],
   "source": [
    "def load_files(df):\n",
    "    X = []\n",
    "    for i in tqdm(df['path']): \n",
    "        X.append(librosa.load(i, res_type='kaiser_fast', sr=16000))\n",
    "    return X\n",
    "\n",
    "def extract_samples(X): \n",
    "    samples = []\n",
    "    for ind,i in enumerate(X):\n",
    "        samples.append(i[0])\n",
    "    return samples \n",
    "\n",
    "def extract_labels(df): \n",
    "    labels = df['emotion_label'].copy()\n",
    "    return labels \n",
    "\n",
    "def compute_lengths(samples): \n",
    "    lengths = [len(x) for x in samples]\n",
    "    return lengths \n",
    "\n",
    "def check_outliers(lengths):\n",
    "    # outliers\n",
    "    lengths = np.array(lengths)\n",
    "    print((lengths > 300000).sum())\n",
    "    new_lengths = lengths[lengths < 300000]\n",
    "    return new_lengths \n",
    "\n",
    "def compute_mean_length(lengths): \n",
    "    return lengths.mean()\n",
    "\n",
    "def cut_and_pad(samples, labels, length_chosen = LENGTH_CHOSEN): \n",
    "    X_new = []\n",
    "    y_new = []\n",
    "    count = 0 \n",
    "    for ind,i in enumerate(samples):\n",
    "        if i.shape[0] < 300000:\n",
    "            if i.shape[0] > length_chosen:\n",
    "                new = i[:length_chosen]\n",
    "                X_new.append(new)\n",
    "            elif i.shape[0] < length_chosen:\n",
    "                new = np.pad(i,math.ceil((length_chosen-i.shape[0])/2), mode='median')\n",
    "                X_new.append(new)\n",
    "            else:\n",
    "                X_new.append(i)\n",
    "            y_new.append(labels[count])\n",
    "        count+=1\n",
    "    \n",
    "    return X_new, y_new\n",
    "\n",
    "# Data Augmentation \n",
    "def noise(data):\n",
    "    noise_amp = 0.035*np.random.uniform()*np.amax(data)\n",
    "    data = data + noise_amp*np.random.normal(size=data.shape[0])\n",
    "    return data\n",
    "\n",
    "# Data Augmentation \n",
    "def pitch(data, sampling_rate, pitch_factor=0.7):\n",
    "    return librosa.effects.pitch_shift(data, sampling_rate, pitch_factor)\n",
    "    \n",
    "def compute_mfccs(samples): \n",
    "    mfccs = []\n",
    "    for i in tqdm(samples):\n",
    "        mfcc = librosa.feature.mfcc(y=i, sr=16000, n_mfcc=13)\n",
    "        mfcc = mfcc.T\n",
    "        mfcc = np.array(mfcc)\n",
    "        mfccs.append(mfcc[:, 1:])\n",
    "    mfccs = np.array(mfccs)\n",
    "    return mfccs\n",
    "\n",
    "def compute_mfccs_augmentation(samples, labels): \n",
    "    mfccs = []\n",
    "    counter = 0 \n",
    "    for i in tqdm(samples):\n",
    "\n",
    "       # Weiner Filtering on original noise \n",
    "        samples_weiner = scipy.signal.wiener(i)\n",
    "        is_fin = np.isfinite(samples_weiner).all()\n",
    "\n",
    "\n",
    "        # Data Augmentation - Noise \n",
    "        noise_audio = noise(samples_weiner)\n",
    "\n",
    "        # Data Augmentation - Pitch \n",
    "        pitch_audio = pitch(samples_weiner, sampling_rate=16000)\n",
    "\n",
    "\n",
    "        # Data Augmentation -  pitch + noise \n",
    "        pn = pitch(noise_audio, sampling_rate = 16000)\n",
    "\n",
    "\n",
    "        if is_fin: \n",
    "          # MFCC\n",
    "\n",
    "          mfcc = librosa.feature.mfcc(y=i, sr=16000, n_mfcc=13)\n",
    "          mfcc = mfcc.T\n",
    "          mfccs.append(mfcc[:, 1:])\n",
    "\n",
    "          mfcc_augmented = librosa.feature.mfcc(y=samples_weiner, sr=16000, n_mfcc=13)\n",
    "          mfcc_augmented = mfcc_augmented.T\n",
    "          mfccs.append(mfcc_augmented[:, 1:])\n",
    "\n",
    "          mfcc_augmented_pitch = librosa.feature.mfcc(y=noise_audio, sr=16000, n_mfcc=13)\n",
    "          mfcc_augmented_pitch = mfcc_augmented_pitch.T\n",
    "          mfccs.append(mfcc_augmented_pitch[:, 1:])\n",
    "\n",
    "          mfcc_augmented_p = librosa.feature.mfcc(y=pitch_audio, sr=16000, n_mfcc=13)\n",
    "          mfcc_augmented_p = mfcc_augmented_p.T\n",
    "          mfccs.append(mfcc_augmented_p[:, 1:]) \n",
    "\n",
    "          mfcc_augmented_pn = librosa.feature.mfcc(y=pn, sr=16000, n_mfcc=13)\n",
    "          mfcc_augmented_pn = mfcc_augmented_pn.T\n",
    "          mfccs.append(mfcc_augmented_pn[:, 1:]) \n",
    "    \n",
    "    mfccs = np.array(mfccs)\n",
    "    \n",
    "    # Copy labels \n",
    "    y_prov = []\n",
    "    y = labels \n",
    "    for i in range(len(y)): \n",
    "      y_prov.append(y[i])\n",
    "      y_prov.append(y[i])\n",
    "      y_prov.append(y[i])\n",
    "      y_prov.append(y[i])\n",
    "      y_prov.append(y[i])\n",
    "    y = np.asarray(y_prov)\n",
    "\n",
    "    return mfccs, y \n",
    "\n",
    "\n",
    "\n"
   ]
  },
  {
   "cell_type": "markdown",
   "id": "59c5b3ec-3279-49c9-943f-429bccd61b2d",
   "metadata": {
    "tags": []
   },
   "source": [
    "# Feature extraction"
   ]
  },
  {
   "cell_type": "code",
   "execution_count": 24,
   "id": "15ef82bf-08fb-4d25-89c0-8b3c2adf9e38",
   "metadata": {},
   "outputs": [
    {
     "data": {
      "text/plain": [
       "array(['happy', 'fear', 'angry', 'disgust', 'sadness', 'surprise', 'calm',\n",
       "       'neutral'], dtype=object)"
      ]
     },
     "execution_count": 24,
     "metadata": {},
     "output_type": "execute_result"
    }
   ],
   "source": [
    "df_train['emotion_label'].unique()"
   ]
  },
  {
   "cell_type": "code",
   "execution_count": 25,
   "id": "337b51ea-1023-4812-b5ef-6c66b3e619c3",
   "metadata": {},
   "outputs": [
    {
     "data": {
      "image/png": "[encoded data removed]",
      "text/plain": [
       "<Figure size 432x288 with 1 Axes>"
      ]
     },
     "metadata": {},
     "output_type": "display_data"
    }
   ],
   "source": [
    "plt.title('Emotions distribution')\n",
    "plt.hist(df_train['emotion_label'])\n",
    "# plt.hist(y)\n",
    "plt.show()"
   ]
  },
  {
   "cell_type": "code",
   "execution_count": 26,
   "id": "3207c4a6-594f-4de4-bffc-e5318042f7f7",
   "metadata": {},
   "outputs": [
    {
     "data": {
      "image/png": "[encoded data removed]",
      "text/plain": [
       "<Figure size 432x288 with 1 Axes>"
      ]
     },
     "metadata": {},
     "output_type": "display_data"
    }
   ],
   "source": [
    "plt.title('Emotions distribution')\n",
    "plt.hist(df_val['emotion_label'])\n",
    "# plt.hist(y)\n",
    "plt.show()"
   ]
  },
  {
   "cell_type": "code",
   "execution_count": 27,
   "id": "4d9d9b7f-576b-4dc1-a005-4519d18ade34",
   "metadata": {},
   "outputs": [
    {
     "data": {
      "image/png": "[encoded data removed]",
      "text/plain": [
       "<Figure size 432x288 with 1 Axes>"
      ]
     },
     "metadata": {},
     "output_type": "display_data"
    }
   ],
   "source": [
    "plt.title('Emotions distribution')\n",
    "plt.hist(df_test['emotion_label'])\n",
    "# plt.hist(y)\n",
    "plt.show()"
   ]
  },
  {
   "cell_type": "code",
   "execution_count": 28,
   "id": "7ebe436a-62e2-44a8-b996-837d5795ec78",
   "metadata": {},
   "outputs": [
    {
     "name": "stderr",
     "output_type": "stream",
     "text": [
      "100%|█████████████████████████████████████| 1200/1200 [00:00<00:00, 3850.40it/s]\n"
     ]
    }
   ],
   "source": [
    "load_train = load_files(df_train)"
   ]
  },
  {
   "cell_type": "code",
   "execution_count": 29,
   "id": "71f5f198-abb3-473d-8fde-1b844750a7dc",
   "metadata": {},
   "outputs": [],
   "source": [
    "samples_train = extract_samples(load_train)"
   ]
  },
  {
   "cell_type": "code",
   "execution_count": 30,
   "id": "c8d9ac92-2d78-4ca5-a700-2699c8ba9a37",
   "metadata": {},
   "outputs": [],
   "source": [
    "labels_train = extract_labels(df_train)"
   ]
  },
  {
   "cell_type": "markdown",
   "id": "c0f1260e-49c2-4175-9529-0762b444e7d6",
   "metadata": {},
   "source": [
    "## Train"
   ]
  },
  {
   "cell_type": "code",
   "execution_count": 31,
   "id": "370da7c5-3b11-4318-8e2d-fcf4b9e5ea31",
   "metadata": {},
   "outputs": [],
   "source": [
    "lengths = compute_lengths(samples_train) "
   ]
  },
  {
   "cell_type": "code",
   "execution_count": 32,
   "id": "a6aa1984-6b46-40f0-8af1-ef3387da1a91",
   "metadata": {},
   "outputs": [
    {
     "name": "stdout",
     "output_type": "stream",
     "text": [
      "0\n"
     ]
    }
   ],
   "source": [
    "new_lengths = check_outliers(lengths) "
   ]
  },
  {
   "cell_type": "code",
   "execution_count": 33,
   "id": "30a892ab-8cf3-4534-8b18-9d20cb4c7dd2",
   "metadata": {},
   "outputs": [],
   "source": [
    "mean_length = compute_mean_length(new_lengths)"
   ]
  },
  {
   "cell_type": "code",
   "execution_count": 34,
   "id": "01f015e6-e52d-49a5-8fa5-64d77bd4007c",
   "metadata": {},
   "outputs": [
    {
     "data": {
      "text/plain": [
       "58883.15416666667"
      ]
     },
     "execution_count": 34,
     "metadata": {},
     "output_type": "execute_result"
    }
   ],
   "source": [
    "mean_length"
   ]
  },
  {
   "cell_type": "markdown",
   "id": "8aa499c2-8ed5-414e-a910-a49c35ab0f0e",
   "metadata": {},
   "source": [
    "### Decide length"
   ]
  },
  {
   "cell_type": "code",
   "execution_count": 35,
   "id": "059090a6-e275-4ec5-9edb-4d0c30fbc64d",
   "metadata": {},
   "outputs": [],
   "source": [
    "samples_train, labels_train = cut_and_pad(samples_train, labels_train)"
   ]
  },
  {
   "cell_type": "code",
   "execution_count": 36,
   "id": "e9815614-6103-4d55-877b-ed9b4c3783ed",
   "metadata": {},
   "outputs": [
    {
     "name": "stdout",
     "output_type": "stream",
     "text": [
      "(1200,) (1200,)\n"
     ]
    }
   ],
   "source": [
    "samples_train = np.array(samples_train)\n",
    "labels_train = np.array(labels_train)\n",
    "print(samples_train.shape, labels_train.shape)"
   ]
  },
  {
   "cell_type": "code",
   "execution_count": 37,
   "id": "f0ae62aa-9c37-4b0b-a87c-dc18bca390c0",
   "metadata": {},
   "outputs": [],
   "source": [
    "mean_length = compute_mean_length(new_lengths)"
   ]
  },
  {
   "cell_type": "code",
   "execution_count": 38,
   "id": "0d2171c8-94da-4b4c-ba9c-b01ba85100fa",
   "metadata": {},
   "outputs": [
    {
     "name": "stderr",
     "output_type": "stream",
     "text": [
      "100%|███████████████████████████████████████| 1200/1200 [00:17<00:00, 69.53it/s]\n"
     ]
    }
   ],
   "source": [
    "mfccs_train = compute_mfccs(samples_train)"
   ]
  },
  {
   "cell_type": "code",
   "execution_count": 39,
   "id": "0beb8ec7-e527-4b08-bb5d-d6aa5b514fee",
   "metadata": {
    "tags": []
   },
   "outputs": [
    {
     "data": {
      "text/plain": [
       "(1200, 248, 12)"
      ]
     },
     "execution_count": 39,
     "metadata": {},
     "output_type": "execute_result"
    }
   ],
   "source": [
    "mfccs_train.shape"
   ]
  },
  {
   "cell_type": "markdown",
   "id": "876f774a-77dd-4594-9609-3f1a4eb3c579",
   "metadata": {
    "tags": []
   },
   "source": [
    "## Val"
   ]
  },
  {
   "cell_type": "markdown",
   "id": "74e929f8-1e96-4ba1-b796-a6b785b42046",
   "metadata": {
    "tags": []
   },
   "source": [
    "### Load samples and labels"
   ]
  },
  {
   "cell_type": "code",
   "execution_count": 40,
   "id": "fad3a944-0794-4a7b-8fb2-e278936b1d51",
   "metadata": {},
   "outputs": [
    {
     "name": "stderr",
     "output_type": "stream",
     "text": [
      "100%|███████████████████████████████████████| 120/120 [00:00<00:00, 1870.15it/s]\n"
     ]
    }
   ],
   "source": [
    "load_val = load_files(df_val)"
   ]
  },
  {
   "cell_type": "code",
   "execution_count": 41,
   "id": "9b3cd2db-6c12-447f-a371-35f8a3770a39",
   "metadata": {},
   "outputs": [],
   "source": [
    "samples_val = extract_samples(load_val)"
   ]
  },
  {
   "cell_type": "code",
   "execution_count": 42,
   "id": "73cff248-be77-4d1f-9c71-56cbe600df48",
   "metadata": {
    "tags": []
   },
   "outputs": [],
   "source": [
    "labels_val = extract_labels(df_val)"
   ]
  },
  {
   "cell_type": "markdown",
   "id": "65c80c65-c0d6-46e6-9c88-309e5f7e5b8c",
   "metadata": {},
   "source": [
    "### Cut and Pad "
   ]
  },
  {
   "cell_type": "code",
   "execution_count": 43,
   "id": "097d3610-058f-43f5-8758-5a8e8ae96bb8",
   "metadata": {},
   "outputs": [],
   "source": [
    "samples_val, labels_val = cut_and_pad(samples_val, labels_val)"
   ]
  },
  {
   "cell_type": "code",
   "execution_count": 44,
   "id": "a51d88ec-a06f-4b04-b190-3c970eb1e6fb",
   "metadata": {},
   "outputs": [
    {
     "name": "stdout",
     "output_type": "stream",
     "text": [
      "(120,) (120,)\n"
     ]
    }
   ],
   "source": [
    "samples_val = np.array(samples_val)\n",
    "labels_val = np.array(labels_val)\n",
    "print(samples_val.shape, labels_val.shape)"
   ]
  },
  {
   "cell_type": "markdown",
   "id": "e0072979-e92f-4eba-94d6-b0adacf0534f",
   "metadata": {},
   "source": [
    "### Feature Extraction"
   ]
  },
  {
   "cell_type": "code",
   "execution_count": 45,
   "id": "d7347e25-561e-4373-9027-709c0a9109d4",
   "metadata": {},
   "outputs": [
    {
     "name": "stderr",
     "output_type": "stream",
     "text": [
      "100%|█████████████████████████████████████████| 120/120 [00:01<00:00, 66.25it/s]\n"
     ]
    }
   ],
   "source": [
    "mfccs_val = compute_mfccs(samples_val)"
   ]
  },
  {
   "cell_type": "code",
   "execution_count": 46,
   "id": "2f1d466a-5457-4807-ad2b-fcdde4894d35",
   "metadata": {},
   "outputs": [
    {
     "data": {
      "text/plain": [
       "(120, 248, 12)"
      ]
     },
     "execution_count": 46,
     "metadata": {},
     "output_type": "execute_result"
    }
   ],
   "source": [
    "mfccs_val.shape"
   ]
  },
  {
   "cell_type": "markdown",
   "id": "72756f91-14bd-4af6-b645-2e352bb5440c",
   "metadata": {},
   "source": [
    "### Save features and labels"
   ]
  },
  {
   "cell_type": "code",
   "execution_count": null,
   "id": "29e88672-972e-4c5d-8aa0-eb8a713755ff",
   "metadata": {},
   "outputs": [],
   "source": [
    "'''\n",
    "preprocess_path = \"/home/helemanc/Desktop/Binary_Model/pre-processed\"\n",
    "mfccs_val_path = os.path.join(preprocess_path,\"mfccs_val.pkl\")\n",
    "labels_val_path = os.path.join(preprocess_path,\"labels_val.pkl\")\n",
    "\n",
    "with open(mfccs_val_path, 'wb') as f:\n",
    "        pickle.dump(mfccs_val , f)\n",
    "        \n",
    "with open(labels_val_path, 'wb') as f:\n",
    "        pickle.dump(labels_val , f)\n",
    "'''"
   ]
  },
  {
   "cell_type": "markdown",
   "id": "cdc55676-f622-4e8b-8cd8-88f5c7ea4b38",
   "metadata": {},
   "source": [
    "## Test"
   ]
  },
  {
   "cell_type": "markdown",
   "id": "bbe27465-69a5-4e14-883b-e866136f24fc",
   "metadata": {
    "tags": []
   },
   "source": [
    "### Load samples and labels"
   ]
  },
  {
   "cell_type": "code",
   "execution_count": 47,
   "id": "06cec376-3efc-4a3f-bd69-a9f67c9d1c51",
   "metadata": {},
   "outputs": [
    {
     "name": "stderr",
     "output_type": "stream",
     "text": [
      "100%|███████████████████████████████████████| 120/120 [00:00<00:00, 1721.68it/s]\n"
     ]
    }
   ],
   "source": [
    "load_test = load_files(df_test)"
   ]
  },
  {
   "cell_type": "code",
   "execution_count": 48,
   "id": "ca4ccd9f-7e83-4786-ae87-538b5262d94f",
   "metadata": {},
   "outputs": [],
   "source": [
    "samples_test = extract_samples(load_test)"
   ]
  },
  {
   "cell_type": "code",
   "execution_count": 49,
   "id": "6d037c0c-11d1-4ef8-a047-dea627ddea65",
   "metadata": {
    "tags": []
   },
   "outputs": [],
   "source": [
    "labels_test = extract_labels(df_test)"
   ]
  },
  {
   "cell_type": "markdown",
   "id": "6de65b60-ef1e-4432-9802-0837f74bbc80",
   "metadata": {},
   "source": [
    "### Cut and Pad "
   ]
  },
  {
   "cell_type": "code",
   "execution_count": 50,
   "id": "69316a03-7036-44ad-8a5d-646e2f8f3b23",
   "metadata": {},
   "outputs": [],
   "source": [
    "samples_test, labels_test = cut_and_pad(samples_test, labels_test)"
   ]
  },
  {
   "cell_type": "code",
   "execution_count": 51,
   "id": "ce3b4702-9d60-4a05-8539-2e23d291f5b2",
   "metadata": {},
   "outputs": [
    {
     "name": "stdout",
     "output_type": "stream",
     "text": [
      "(120,) (120,)\n"
     ]
    }
   ],
   "source": [
    "samples_test = np.array(samples_test)\n",
    "labels_test = np.array(labels_test)\n",
    "print(samples_test.shape, labels_test.shape)"
   ]
  },
  {
   "cell_type": "markdown",
   "id": "446dccd4-019b-42c4-9d1a-79e0235f384a",
   "metadata": {},
   "source": [
    "### Feature Extraction"
   ]
  },
  {
   "cell_type": "code",
   "execution_count": 52,
   "id": "6e093a32-b863-4f79-abcd-0e7070c6a37e",
   "metadata": {},
   "outputs": [
    {
     "name": "stderr",
     "output_type": "stream",
     "text": [
      "100%|█████████████████████████████████████████| 120/120 [00:01<00:00, 72.11it/s]\n"
     ]
    }
   ],
   "source": [
    "mfccs_test = compute_mfccs(samples_test)"
   ]
  },
  {
   "cell_type": "code",
   "execution_count": null,
   "id": "2b958764-421f-4617-a61b-9197f4d983e5",
   "metadata": {},
   "outputs": [],
   "source": [
    "mfccs_test.shape"
   ]
  },
  {
   "cell_type": "markdown",
   "id": "b8238eab-3476-4ad4-bc36-866477271f81",
   "metadata": {},
   "source": [
    "### Save features and labels"
   ]
  },
  {
   "cell_type": "code",
   "execution_count": null,
   "id": "96ed8f86-460a-4d42-b0ff-2566a05b664b",
   "metadata": {
    "tags": []
   },
   "outputs": [],
   "source": [
    "'''\n",
    "preprocess_path = \"/home/helemanc/Desktop/Binary_Model/pre-processed\"\n",
    "mfccs_test_path = os.path.join(preprocess_path,\"mfccs_test.pkl\")\n",
    "labels_test_path = os.path.join(preprocess_path,\"labels_test.pkl\")\n",
    "\n",
    "with open(mfccs_test_path, 'wb') as f:\n",
    "        pickle.dump(mfccs_test , f)\n",
    "        \n",
    "with open(labels_test_path, 'wb') as f:\n",
    "        pickle.dump(labels_test , f)\n",
    "'''"
   ]
  },
  {
   "cell_type": "markdown",
   "id": "e774d4c4-93e4-401d-86e7-d37e5209ef51",
   "metadata": {
    "tags": []
   },
   "source": [
    "# Encode Labels - Binary "
   ]
  },
  {
   "cell_type": "code",
   "execution_count": 53,
   "id": "ca470d5c-7b1a-4a79-b615-eccad2ebe5cd",
   "metadata": {
    "tags": []
   },
   "outputs": [],
   "source": [
    "emotion_enc = {'fear':1, 'disgust':1, 'neutral':0, 'calm':0,  'happy':0, 'sadness':1, 'surprise':0, 'angry':1}"
   ]
  },
  {
   "cell_type": "code",
   "execution_count": 55,
   "id": "12870325-f6a5-4a17-bdbd-00ef6cb5cdf8",
   "metadata": {},
   "outputs": [],
   "source": [
    "y_train = pd.Series(labels_train).replace(emotion_enc)\n",
    "y_val = pd.Series(labels_val).map(emotion_enc)\n",
    "y_test = pd.Series(labels_test).map(emotion_enc)\n",
    "#y_train_aug = pd.Series(labels_train_aug).map(emotion_enc)"
   ]
  },
  {
   "cell_type": "markdown",
   "id": "84db9a52-e1c1-4a6d-9c8f-20db7742aaaa",
   "metadata": {},
   "source": [
    "# Train, Val, Test (X) "
   ]
  },
  {
   "cell_type": "code",
   "execution_count": 56,
   "id": "a36d80b1-07a2-456a-a9e0-b02da8ec1b5c",
   "metadata": {
    "tags": []
   },
   "outputs": [],
   "source": [
    "X_train = mfccs_train\n",
    "X_val = mfccs_val\n",
    "X_test = mfccs_test "
   ]
  },
  {
   "cell_type": "markdown",
   "id": "e3fd0999-c7c8-410f-93bc-b1fe81658eae",
   "metadata": {
    "tags": []
   },
   "source": [
    "# Standard Scaling "
   ]
  },
  {
   "cell_type": "markdown",
   "id": "b3f54845-1415-45c8-a454-170492f8fece",
   "metadata": {},
   "source": [
    "## Without Augmentation"
   ]
  },
  {
   "cell_type": "code",
   "execution_count": 57,
   "id": "21e3ad9b-f7fd-4188-8740-da4bdf637a69",
   "metadata": {
    "tags": []
   },
   "outputs": [],
   "source": [
    "from sklearn.preprocessing import StandardScaler\n",
    "scaler = StandardScaler()\n",
    "X_train = scaler.fit_transform(X_train.reshape(-1, X_train.shape[-1])).reshape(X_train.shape)\n",
    "X_test = scaler.transform(X_test.reshape(-1, X_test.shape[-1])).reshape(X_test.shape)\n",
    "X_val = scaler.transform(X_val.reshape(-1, X_val.shape[-1])).reshape(X_val.shape)"
   ]
  },
  {
   "cell_type": "markdown",
   "id": "fa36310b-3dcd-405b-9fee-168c77be5206",
   "metadata": {
    "tags": []
   },
   "source": [
    "# Model "
   ]
  },
  {
   "cell_type": "code",
   "execution_count": 58,
   "id": "2a328435-cf6f-4c3e-a070-be2f97b0ea0c",
   "metadata": {},
   "outputs": [
    {
     "name": "stdout",
     "output_type": "stream",
     "text": [
      "Model: \"sequential\"\n",
      "_________________________________________________________________\n",
      "Layer (type)                 Output Shape              Param #   \n",
      "=================================================================\n",
      "conv1d (Conv1D)              (None, 248, 256)          15616     \n",
      "_________________________________________________________________\n",
      "activation (Activation)      (None, 248, 256)          0         \n",
      "_________________________________________________________________\n",
      "max_pooling1d (MaxPooling1D) (None, 62, 256)           0         \n",
      "_________________________________________________________________\n",
      "dropout (Dropout)            (None, 62, 256)           0         \n",
      "_________________________________________________________________\n",
      "conv1d_1 (Conv1D)            (None, 62, 128)           163968    \n",
      "_________________________________________________________________\n",
      "activation_1 (Activation)    (None, 62, 128)           0         \n",
      "_________________________________________________________________\n",
      "max_pooling1d_1 (MaxPooling1 (None, 15, 128)           0         \n",
      "_________________________________________________________________\n",
      "dropout_1 (Dropout)          (None, 15, 128)           0         \n",
      "_________________________________________________________________\n",
      "flatten (Flatten)            (None, 1920)              0         \n",
      "_________________________________________________________________\n",
      "dense (Dense)                (None, 64)                122944    \n",
      "_________________________________________________________________\n",
      "dense_1 (Dense)              (None, 1)                 65        \n",
      "_________________________________________________________________\n",
      "activation_2 (Activation)    (None, 1)                 0         \n",
      "=================================================================\n",
      "Total params: 302,593\n",
      "Trainable params: 302,593\n",
      "Non-trainable params: 0\n",
      "_________________________________________________________________\n"
     ]
    },
    {
     "name": "stderr",
     "output_type": "stream",
     "text": [
      "2021-08-30 11:17:47.722081: I tensorflow/core/platform/cpu_feature_guard.cc:142] This TensorFlow binary is optimized with oneAPI Deep Neural Network Library (oneDNN) to use the following CPU instructions in performance-critical operations:  AVX2 FMA\n",
      "To enable them in other operations, rebuild TensorFlow with the appropriate compiler flags.\n",
      "2021-08-30 11:17:47.723150: I tensorflow/compiler/jit/xla_gpu_device.cc:99] Not creating XLA devices, tf_xla_enable_xla_devices not set\n"
     ]
    }
   ],
   "source": [
    "model = Sequential()\n",
    "\n",
    "model.add(layers.Conv1D(256, 5,padding='same',\n",
    "                 input_shape=(248,12), kernel_initializer=tf.keras.initializers.HeNormal(seed=0)))\n",
    "model.add(layers.Activation('relu'))\n",
    "model.add(layers.MaxPooling1D(pool_size=(4)))\n",
    "model.add(layers.Dropout(0.6))\n",
    "\n",
    "model.add(layers.Conv1D(128, 5,padding='same', kernel_initializer=tf.keras.initializers.HeNormal(seed=0)))\n",
    "model.add(layers.Activation('relu'))\n",
    "model.add(layers.MaxPooling1D(pool_size=(4)))\n",
    "model.add(layers.Dropout(0.5))\n",
    "\n",
    "model.add(layers.Flatten())\n",
    "model.add(layers.Dense(64,  kernel_initializer=tf.keras.initializers.HeNormal(seed=0)))\n",
    "model.add(layers.Dense(1))\n",
    "model.add(layers.Activation('sigmoid'))\n",
    "\n",
    "model.summary()"
   ]
  },
  {
   "cell_type": "markdown",
   "id": "8406b0f2-8bf0-4688-a65e-ef646e93a99f",
   "metadata": {},
   "source": [
    "# Training"
   ]
  },
  {
   "cell_type": "markdown",
   "id": "3b40ccd4-18da-4302-a41b-7e0a723f1019",
   "metadata": {
    "tags": []
   },
   "source": [
    "## Without Augmentation"
   ]
  },
  {
   "cell_type": "markdown",
   "id": "bbe9f43b-d5f8-4297-bcb1-bad80f6bd7af",
   "metadata": {
    "tags": []
   },
   "source": [
    "### Load Data"
   ]
  },
  {
   "cell_type": "code",
   "execution_count": 217,
   "id": "f5ac6f0b-3058-4a14-bdd0-6313af044d10",
   "metadata": {},
   "outputs": [
    {
     "data": {
      "text/plain": [
       "'\\nX_train = pickle.load(open( \"/home/helemanc/Desktop/Binary_Model/data_model/X_train.pkl\", \\'rb\\'))\\nX_val = pickle.load(open( \"/home/helemanc/Desktop/Binary_Model/data_model/X_val.pkl\", \\'rb\\'))\\nX_test = pickle.load(open( \"/home/helemanc/Desktop/Binary_Model/data_model/X_test.pkl\", \\'rb\\'))\\ny_train = pickle.load(open( \"/home/helemanc/Desktop/Binary_Model/data_model/y_train.pkl\", \\'rb\\'))\\ny_val = pickle.load(open( \"/home/helemanc/Desktop/Binary_Model/data_model/y_val.pkl\", \\'rb\\'))\\ny_test =  pickle.load(open( \"/home/helemanc/Desktop/Binary_Model/data_model/y_test.pkl\", \\'rb\\'))\\n'"
      ]
     },
     "execution_count": 217,
     "metadata": {},
     "output_type": "execute_result"
    }
   ],
   "source": [
    "'''\n",
    "X_train = pickle.load(open( \"/home/helemanc/Desktop/Binary_Model/data_model/X_train.pkl\", 'rb'))\n",
    "X_val = pickle.load(open( \"/home/helemanc/Desktop/Binary_Model/data_model/X_val.pkl\", 'rb'))\n",
    "X_test = pickle.load(open( \"/home/helemanc/Desktop/Binary_Model/data_model/X_test.pkl\", 'rb'))\n",
    "y_train = pickle.load(open( \"/home/helemanc/Desktop/Binary_Model/data_model/y_train.pkl\", 'rb'))\n",
    "y_val = pickle.load(open( \"/home/helemanc/Desktop/Binary_Model/data_model/y_val.pkl\", 'rb'))\n",
    "y_test =  pickle.load(open( \"/home/helemanc/Desktop/Binary_Model/data_model/y_test.pkl\", 'rb'))\n",
    "'''"
   ]
  },
  {
   "cell_type": "code",
   "execution_count": 59,
   "id": "eac44cf6-15da-4e57-9c86-26dfb499e9ba",
   "metadata": {},
   "outputs": [],
   "source": [
    "from sklearn.utils import shuffle\n",
    "X_train, y_train = shuffle(X_train, y_train)"
   ]
  },
  {
   "cell_type": "code",
   "execution_count": 60,
   "id": "14c7b841-8887-46f3-98c8-00220b78bc71",
   "metadata": {
    "tags": []
   },
   "outputs": [],
   "source": [
    "# Load the TensorBoard notebook extension\n",
    "%load_ext tensorboard"
   ]
  },
  {
   "cell_type": "code",
   "execution_count": 64,
   "id": "b6cffa24-df96-4ddf-a98c-81faeb9e25fb",
   "metadata": {},
   "outputs": [],
   "source": [
    "import datetime, os"
   ]
  },
  {
   "cell_type": "code",
   "execution_count": 65,
   "id": "73b9b83e-baee-4c77-a423-e223a4105043",
   "metadata": {},
   "outputs": [],
   "source": [
    "logdir = os.path.join(\"logs\", datetime.datetime.now().strftime(\"%Y%m%d-%H%M%S\"))"
   ]
  },
  {
   "cell_type": "code",
   "execution_count": 66,
   "id": "fd71ed27-cbc4-4bf2-b03f-126bdfe27bbf",
   "metadata": {
    "jupyter": {
     "source_hidden": true
    },
    "tags": []
   },
   "outputs": [
    {
     "name": "stderr",
     "output_type": "stream",
     "text": [
      "2021-08-30 11:19:21.639530: I tensorflow/core/profiler/lib/profiler_session.cc:136] Profiler session initializing.\n",
      "2021-08-30 11:19:21.639603: I tensorflow/core/profiler/lib/profiler_session.cc:155] Profiler session started.\n",
      "2021-08-30 11:19:21.698505: I tensorflow/core/profiler/lib/profiler_session.cc:172] Profiler session tear down.\n"
     ]
    }
   ],
   "source": [
    "tensorboard_callback = tf.keras.callbacks.TensorBoard(logdir, histogram_freq=1)"
   ]
  },
  {
   "cell_type": "code",
   "execution_count": 67,
   "id": "8ccba040-72ea-4af4-a79d-71b98a31113e",
   "metadata": {},
   "outputs": [],
   "source": [
    "weight_path = \"/home/helemanc/Desktop/Binary_Model/weights/binary_model_l1l2.hdf5\"\n",
    "\n",
    "reduce_lr = tf.keras.callbacks.ReduceLROnPlateau(monitor='val_accuracy', \n",
    "                                                 factor=0.5, patience=4, \n",
    "                                                 verbose=1, mode='max', \n",
    "                                                 min_lr=0.00001)\n",
    "\n",
    "early_stop = tf.keras.callbacks.EarlyStopping(monitor='val_loss', patience=45, \n",
    "                                              verbose=1)\n",
    "\n",
    "model_checkpoint = tf.keras.callbacks.ModelCheckpoint(filepath=weight_path, \n",
    "                                                      save_weights_only=True, \n",
    "                                                      monitor='val_accuracy', \n",
    "                                                      mode='max', \n",
    "                                                      save_best_only=True)\n",
    "# classweight \n",
    "from sklearn.utils import class_weight\n",
    "class_weights = class_weight.compute_class_weight('balanced', np.unique(y_train), y_train)\n",
    "class_weights = {l:c for l,c in zip(np.unique(y_train), class_weights)}\n"
   ]
  },
  {
   "cell_type": "code",
   "execution_count": 68,
   "id": "044760d7-58b0-4aeb-a80f-a78414be8e8c",
   "metadata": {},
   "outputs": [],
   "source": [
    "model.compile(loss='binary_crossentropy', optimizer=\"adam\", metrics='accuracy')"
   ]
  },
  {
   "cell_type": "markdown",
   "id": "41dc567c-86c3-4ff1-8dab-43aada919f7c",
   "metadata": {},
   "source": [
    "### Train"
   ]
  },
  {
   "cell_type": "code",
   "execution_count": 69,
   "id": "b22d5442-0cf3-4439-bf8f-164e88f682b7",
   "metadata": {
    "tags": []
   },
   "outputs": [
    {
     "name": "stderr",
     "output_type": "stream",
     "text": [
      "2021-08-30 11:20:28.806988: I tensorflow/compiler/mlir/mlir_graph_optimization_pass.cc:116] None of the MLIR optimization passes are enabled (registered 2)\n",
      "2021-08-30 11:20:28.834188: I tensorflow/core/platform/profile_utils/cpu_utils.cc:112] CPU Frequency: 2299965000 Hz\n"
     ]
    },
    {
     "name": "stdout",
     "output_type": "stream",
     "text": [
      "Epoch 1/500\n",
      " 39/300 [==>...........................] - ETA: 1s - loss: 7.1871 - accuracy: 0.4840"
     ]
    },
    {
     "name": "stderr",
     "output_type": "stream",
     "text": [
      "2021-08-30 11:20:29.274020: I tensorflow/core/profiler/lib/profiler_session.cc:136] Profiler session initializing.\n",
      "2021-08-30 11:20:29.274067: I tensorflow/core/profiler/lib/profiler_session.cc:155] Profiler session started.\n",
      "2021-08-30 11:20:29.280416: I tensorflow/core/profiler/lib/profiler_session.cc:71] Profiler session collecting data.\n",
      "2021-08-30 11:20:29.283094: I tensorflow/core/profiler/lib/profiler_session.cc:172] Profiler session tear down.\n",
      "2021-08-30 11:20:29.287012: I tensorflow/core/profiler/rpc/client/save_profile.cc:137] Creating directory: logs/20210830-111921/train/plugins/profile/2021_08_30_11_20_29\n",
      "2021-08-30 11:20:29.287750: I tensorflow/core/profiler/rpc/client/save_profile.cc:143] Dumped gzipped tool data for trace.json.gz to logs/20210830-111921/train/plugins/profile/2021_08_30_11_20_29/helemanc-Latitude-5410.trace.json.gz\n",
      "2021-08-30 11:20:29.292265: I tensorflow/core/profiler/rpc/client/save_profile.cc:137] Creating directory: logs/20210830-111921/train/plugins/profile/2021_08_30_11_20_29\n",
      "2021-08-30 11:20:29.292342: I tensorflow/core/profiler/rpc/client/save_profile.cc:143] Dumped gzipped tool data for memory_profile.json.gz to logs/20210830-111921/train/plugins/profile/2021_08_30_11_20_29/helemanc-Latitude-5410.memory_profile.json.gz\n",
      "2021-08-30 11:20:29.292491: I tensorflow/core/profiler/rpc/client/capture_profile.cc:251] Creating directory: logs/20210830-111921/train/plugins/profile/2021_08_30_11_20_29Dumped tool data for xplane.pb to logs/20210830-111921/train/plugins/profile/2021_08_30_11_20_29/helemanc-Latitude-5410.xplane.pb\n",
      "Dumped tool data for overview_page.pb to logs/20210830-111921/train/plugins/profile/2021_08_30_11_20_29/helemanc-Latitude-5410.overview_page.pb\n",
      "Dumped tool data for input_pipeline.pb to logs/20210830-111921/train/plugins/profile/2021_08_30_11_20_29/helemanc-Latitude-5410.input_pipeline.pb\n",
      "Dumped tool data for tensorflow_stats.pb to logs/20210830-111921/train/plugins/profile/2021_08_30_11_20_29/helemanc-Latitude-5410.tensorflow_stats.pb\n",
      "Dumped tool data for kernel_stats.pb to logs/20210830-111921/train/plugins/profile/2021_08_30_11_20_29/helemanc-Latitude-5410.kernel_stats.pb\n",
      "\n"
     ]
    },
    {
     "name": "stdout",
     "output_type": "stream",
     "text": [
      "300/300 [==============================] - 2s 6ms/step - loss: 3.4411 - accuracy: 0.5401 - val_loss: 0.6716 - val_accuracy: 0.5917\n",
      "Epoch 2/500\n",
      "300/300 [==============================] - 2s 5ms/step - loss: 0.6732 - accuracy: 0.6223 - val_loss: 0.6499 - val_accuracy: 0.7333\n",
      "Epoch 3/500\n",
      "300/300 [==============================] - 1s 5ms/step - loss: 0.6174 - accuracy: 0.6519 - val_loss: 0.6399 - val_accuracy: 0.6917\n",
      "Epoch 4/500\n",
      "300/300 [==============================] - 1s 5ms/step - loss: 0.6002 - accuracy: 0.6808 - val_loss: 0.6131 - val_accuracy: 0.7667\n",
      "Epoch 5/500\n",
      "300/300 [==============================] - 1s 5ms/step - loss: 0.6257 - accuracy: 0.6527 - val_loss: 0.6309 - val_accuracy: 0.6833\n",
      "Epoch 6/500\n",
      "300/300 [==============================] - 1s 5ms/step - loss: 0.6004 - accuracy: 0.6860 - val_loss: 0.5177 - val_accuracy: 0.7333\n",
      "Epoch 7/500\n",
      "300/300 [==============================] - 1s 5ms/step - loss: 0.6263 - accuracy: 0.6759 - val_loss: 0.5574 - val_accuracy: 0.6667\n",
      "Epoch 8/500\n",
      "300/300 [==============================] - 1s 5ms/step - loss: 0.5610 - accuracy: 0.6944 - val_loss: 0.5591 - val_accuracy: 0.7250\n",
      "\n",
      "Epoch 00008: ReduceLROnPlateau reducing learning rate to 0.0005000000237487257.\n",
      "Epoch 9/500\n",
      "300/300 [==============================] - 2s 5ms/step - loss: 0.5099 - accuracy: 0.7356 - val_loss: 0.5301 - val_accuracy: 0.7750\n",
      "Epoch 10/500\n",
      "300/300 [==============================] - 1s 5ms/step - loss: 0.5311 - accuracy: 0.7406 - val_loss: 0.5530 - val_accuracy: 0.6833\n",
      "Epoch 11/500\n",
      "300/300 [==============================] - 1s 5ms/step - loss: 0.5138 - accuracy: 0.7266 - val_loss: 0.4993 - val_accuracy: 0.7833\n",
      "Epoch 12/500\n",
      "300/300 [==============================] - 1s 5ms/step - loss: 0.4869 - accuracy: 0.7714 - val_loss: 0.5411 - val_accuracy: 0.7250\n",
      "Epoch 13/500\n",
      "300/300 [==============================] - 1s 5ms/step - loss: 0.4848 - accuracy: 0.7623 - val_loss: 0.4660 - val_accuracy: 0.8083\n",
      "Epoch 14/500\n",
      "300/300 [==============================] - 1s 5ms/step - loss: 0.4648 - accuracy: 0.7836 - val_loss: 0.4984 - val_accuracy: 0.8333\n",
      "Epoch 15/500\n",
      "300/300 [==============================] - 1s 5ms/step - loss: 0.4582 - accuracy: 0.7809 - val_loss: 0.4849 - val_accuracy: 0.7833\n",
      "Epoch 16/500\n",
      "300/300 [==============================] - 1s 5ms/step - loss: 0.4694 - accuracy: 0.7628 - val_loss: 0.4798 - val_accuracy: 0.8500\n",
      "Epoch 17/500\n",
      "300/300 [==============================] - 1s 5ms/step - loss: 0.4550 - accuracy: 0.7909 - val_loss: 0.4723 - val_accuracy: 0.7750\n",
      "Epoch 18/500\n",
      "300/300 [==============================] - 1s 5ms/step - loss: 0.4345 - accuracy: 0.7906 - val_loss: 0.4678 - val_accuracy: 0.7917\n",
      "Epoch 19/500\n",
      "300/300 [==============================] - 1s 5ms/step - loss: 0.4520 - accuracy: 0.7816 - val_loss: 0.4426 - val_accuracy: 0.8417\n",
      "Epoch 20/500\n",
      "300/300 [==============================] - 2s 5ms/step - loss: 0.4288 - accuracy: 0.7947 - val_loss: 0.4657 - val_accuracy: 0.8083\n",
      "\n",
      "Epoch 00020: ReduceLROnPlateau reducing learning rate to 0.0002500000118743628.\n",
      "Epoch 21/500\n",
      "300/300 [==============================] - 1s 5ms/step - loss: 0.4070 - accuracy: 0.8199 - val_loss: 0.4022 - val_accuracy: 0.8417\n",
      "Epoch 22/500\n",
      "300/300 [==============================] - 1s 5ms/step - loss: 0.3591 - accuracy: 0.8385 - val_loss: 0.4369 - val_accuracy: 0.8333\n",
      "Epoch 23/500\n",
      "300/300 [==============================] - 1s 5ms/step - loss: 0.3486 - accuracy: 0.8405 - val_loss: 0.4078 - val_accuracy: 0.8417\n",
      "Epoch 24/500\n",
      "300/300 [==============================] - 2s 5ms/step - loss: 0.3507 - accuracy: 0.8236 - val_loss: 0.4000 - val_accuracy: 0.8333\n",
      "\n",
      "Epoch 00024: ReduceLROnPlateau reducing learning rate to 0.0001250000059371814.\n",
      "Epoch 25/500\n",
      "300/300 [==============================] - 1s 5ms/step - loss: 0.3488 - accuracy: 0.8538 - val_loss: 0.3958 - val_accuracy: 0.8417\n",
      "Epoch 26/500\n",
      "300/300 [==============================] - 1s 5ms/step - loss: 0.3397 - accuracy: 0.8516 - val_loss: 0.4044 - val_accuracy: 0.8250\n",
      "Epoch 27/500\n",
      "300/300 [==============================] - 1s 5ms/step - loss: 0.3178 - accuracy: 0.8709 - val_loss: 0.4145 - val_accuracy: 0.8333\n",
      "Epoch 28/500\n",
      "300/300 [==============================] - 1s 5ms/step - loss: 0.3411 - accuracy: 0.8340 - val_loss: 0.4090 - val_accuracy: 0.8417\n",
      "\n",
      "Epoch 00028: ReduceLROnPlateau reducing learning rate to 6.25000029685907e-05.\n",
      "Epoch 29/500\n",
      "300/300 [==============================] - 1s 5ms/step - loss: 0.3241 - accuracy: 0.8529 - val_loss: 0.3843 - val_accuracy: 0.8333\n",
      "Epoch 30/500\n",
      "300/300 [==============================] - 1s 5ms/step - loss: 0.3131 - accuracy: 0.8568 - val_loss: 0.3708 - val_accuracy: 0.8417\n",
      "Epoch 31/500\n",
      "300/300 [==============================] - 1s 5ms/step - loss: 0.3133 - accuracy: 0.8563 - val_loss: 0.3601 - val_accuracy: 0.8417\n",
      "Epoch 32/500\n",
      "300/300 [==============================] - 1s 5ms/step - loss: 0.3017 - accuracy: 0.8672 - val_loss: 0.3762 - val_accuracy: 0.8417\n",
      "\n",
      "Epoch 00032: ReduceLROnPlateau reducing learning rate to 3.125000148429535e-05.\n",
      "Epoch 33/500\n",
      "300/300 [==============================] - 1s 5ms/step - loss: 0.3179 - accuracy: 0.8596 - val_loss: 0.3824 - val_accuracy: 0.8333\n",
      "Epoch 34/500\n",
      "300/300 [==============================] - 1s 5ms/step - loss: 0.2613 - accuracy: 0.8852 - val_loss: 0.3807 - val_accuracy: 0.8417\n",
      "Epoch 35/500\n",
      "300/300 [==============================] - 1s 5ms/step - loss: 0.2857 - accuracy: 0.8776 - val_loss: 0.3804 - val_accuracy: 0.8167\n",
      "Epoch 36/500\n",
      "300/300 [==============================] - 1s 5ms/step - loss: 0.3001 - accuracy: 0.8595 - val_loss: 0.3777 - val_accuracy: 0.8167\n",
      "\n",
      "Epoch 00036: ReduceLROnPlateau reducing learning rate to 1.5625000742147677e-05.\n",
      "Epoch 37/500\n",
      "300/300 [==============================] - 1s 5ms/step - loss: 0.2914 - accuracy: 0.8629 - val_loss: 0.3812 - val_accuracy: 0.8333\n",
      "Epoch 38/500\n",
      "300/300 [==============================] - 1s 5ms/step - loss: 0.3280 - accuracy: 0.8601 - val_loss: 0.3790 - val_accuracy: 0.8250\n",
      "Epoch 39/500\n",
      "300/300 [==============================] - 1s 5ms/step - loss: 0.2927 - accuracy: 0.8717 - val_loss: 0.3772 - val_accuracy: 0.8333\n",
      "Epoch 40/500\n",
      "300/300 [==============================] - 1s 5ms/step - loss: 0.3061 - accuracy: 0.8544 - val_loss: 0.3821 - val_accuracy: 0.8417\n",
      "\n",
      "Epoch 00040: ReduceLROnPlateau reducing learning rate to 1e-05.\n",
      "Epoch 41/500\n",
      "300/300 [==============================] - 1s 5ms/step - loss: 0.3262 - accuracy: 0.8549 - val_loss: 0.3796 - val_accuracy: 0.8250\n",
      "Epoch 42/500\n",
      "300/300 [==============================] - 1s 5ms/step - loss: 0.2869 - accuracy: 0.8670 - val_loss: 0.3769 - val_accuracy: 0.8250\n",
      "Epoch 43/500\n",
      "300/300 [==============================] - 1s 5ms/step - loss: 0.3210 - accuracy: 0.8541 - val_loss: 0.3749 - val_accuracy: 0.8250\n",
      "Epoch 44/500\n",
      "300/300 [==============================] - 1s 5ms/step - loss: 0.2952 - accuracy: 0.8649 - val_loss: 0.3739 - val_accuracy: 0.8417\n",
      "Epoch 45/500\n",
      "300/300 [==============================] - 1s 5ms/step - loss: 0.2750 - accuracy: 0.8731 - val_loss: 0.3739 - val_accuracy: 0.8333\n",
      "Epoch 46/500\n",
      "300/300 [==============================] - 1s 5ms/step - loss: 0.2564 - accuracy: 0.8954 - val_loss: 0.3746 - val_accuracy: 0.8167\n",
      "Epoch 47/500\n",
      "300/300 [==============================] - 1s 5ms/step - loss: 0.2725 - accuracy: 0.8957 - val_loss: 0.3725 - val_accuracy: 0.8417\n",
      "Epoch 48/500\n",
      "300/300 [==============================] - 2s 5ms/step - loss: 0.3397 - accuracy: 0.8692 - val_loss: 0.3747 - val_accuracy: 0.8250\n",
      "Epoch 49/500\n",
      "300/300 [==============================] - 2s 5ms/step - loss: 0.2707 - accuracy: 0.8808 - val_loss: 0.3795 - val_accuracy: 0.8250\n",
      "Epoch 50/500\n",
      "300/300 [==============================] - 2s 5ms/step - loss: 0.2895 - accuracy: 0.8652 - val_loss: 0.3800 - val_accuracy: 0.8417\n",
      "Epoch 51/500\n",
      "300/300 [==============================] - 2s 5ms/step - loss: 0.2744 - accuracy: 0.8943 - val_loss: 0.3757 - val_accuracy: 0.8333\n",
      "Epoch 52/500\n",
      "300/300 [==============================] - 2s 5ms/step - loss: 0.2541 - accuracy: 0.8895 - val_loss: 0.3744 - val_accuracy: 0.8500\n",
      "Epoch 53/500\n",
      "300/300 [==============================] - 2s 5ms/step - loss: 0.2891 - accuracy: 0.8715 - val_loss: 0.3790 - val_accuracy: 0.8417\n",
      "Epoch 54/500\n",
      "300/300 [==============================] - 1s 5ms/step - loss: 0.2647 - accuracy: 0.8949 - val_loss: 0.3808 - val_accuracy: 0.8500\n",
      "Epoch 55/500\n",
      "300/300 [==============================] - 1s 5ms/step - loss: 0.2498 - accuracy: 0.8733 - val_loss: 0.3825 - val_accuracy: 0.8500\n",
      "Epoch 56/500\n",
      "300/300 [==============================] - 1s 5ms/step - loss: 0.2518 - accuracy: 0.8873 - val_loss: 0.3803 - val_accuracy: 0.8500\n",
      "Epoch 57/500\n",
      "300/300 [==============================] - 1s 5ms/step - loss: 0.2865 - accuracy: 0.8727 - val_loss: 0.3783 - val_accuracy: 0.8583\n",
      "Epoch 58/500\n",
      "300/300 [==============================] - 1s 5ms/step - loss: 0.2756 - accuracy: 0.8943 - val_loss: 0.3778 - val_accuracy: 0.8583\n",
      "Epoch 59/500\n",
      "300/300 [==============================] - 1s 5ms/step - loss: 0.2726 - accuracy: 0.8720 - val_loss: 0.3774 - val_accuracy: 0.8667\n",
      "Epoch 60/500\n",
      "300/300 [==============================] - 1s 5ms/step - loss: 0.2820 - accuracy: 0.8741 - val_loss: 0.3748 - val_accuracy: 0.8583\n",
      "Epoch 61/500\n",
      "300/300 [==============================] - 1s 5ms/step - loss: 0.2737 - accuracy: 0.8822 - val_loss: 0.3782 - val_accuracy: 0.8667\n",
      "Epoch 62/500\n",
      "300/300 [==============================] - 1s 5ms/step - loss: 0.2999 - accuracy: 0.8693 - val_loss: 0.3824 - val_accuracy: 0.8500\n",
      "Epoch 63/500\n",
      "300/300 [==============================] - 1s 5ms/step - loss: 0.3109 - accuracy: 0.8672 - val_loss: 0.3774 - val_accuracy: 0.8583\n",
      "Epoch 64/500\n",
      "300/300 [==============================] - 1s 5ms/step - loss: 0.3058 - accuracy: 0.8706 - val_loss: 0.3757 - val_accuracy: 0.8583\n",
      "Epoch 65/500\n",
      "300/300 [==============================] - 1s 5ms/step - loss: 0.2781 - accuracy: 0.8715 - val_loss: 0.3746 - val_accuracy: 0.8667\n",
      "Epoch 66/500\n",
      "300/300 [==============================] - 1s 5ms/step - loss: 0.3003 - accuracy: 0.8705 - val_loss: 0.3741 - val_accuracy: 0.8667\n",
      "Epoch 67/500\n",
      "300/300 [==============================] - 1s 5ms/step - loss: 0.3280 - accuracy: 0.8604 - val_loss: 0.3739 - val_accuracy: 0.8583\n",
      "Epoch 68/500\n",
      "300/300 [==============================] - 1s 5ms/step - loss: 0.3020 - accuracy: 0.8697 - val_loss: 0.3736 - val_accuracy: 0.8500\n",
      "Epoch 69/500\n",
      "300/300 [==============================] - 1s 5ms/step - loss: 0.2572 - accuracy: 0.9042 - val_loss: 0.3713 - val_accuracy: 0.8417\n",
      "Epoch 70/500\n",
      "300/300 [==============================] - 1s 5ms/step - loss: 0.2947 - accuracy: 0.8859 - val_loss: 0.3721 - val_accuracy: 0.8500\n",
      "Epoch 71/500\n",
      "300/300 [==============================] - 1s 5ms/step - loss: 0.2829 - accuracy: 0.8764 - val_loss: 0.3704 - val_accuracy: 0.8417\n",
      "Epoch 72/500\n",
      "300/300 [==============================] - 1s 5ms/step - loss: 0.2541 - accuracy: 0.8858 - val_loss: 0.3720 - val_accuracy: 0.8667\n",
      "Epoch 73/500\n",
      "300/300 [==============================] - 1s 5ms/step - loss: 0.2867 - accuracy: 0.8741 - val_loss: 0.3696 - val_accuracy: 0.8417\n",
      "Epoch 74/500\n",
      "300/300 [==============================] - 1s 5ms/step - loss: 0.2806 - accuracy: 0.8807 - val_loss: 0.3722 - val_accuracy: 0.8667\n",
      "Epoch 75/500\n",
      "300/300 [==============================] - 1s 5ms/step - loss: 0.2664 - accuracy: 0.8854 - val_loss: 0.3758 - val_accuracy: 0.8500\n",
      "Epoch 76/500\n",
      "300/300 [==============================] - 1s 5ms/step - loss: 0.2454 - accuracy: 0.9012 - val_loss: 0.3697 - val_accuracy: 0.8500\n",
      "Epoch 00076: early stopping\n"
     ]
    }
   ],
   "source": [
    "history = model.fit(X_train, y_train, batch_size=4, epochs=500, validation_data=(X_val, y_val),\n",
    "           callbacks=[reduce_lr, early_stop, model_checkpoint, tensorboard_callback], class_weight = class_weights)"
   ]
  },
  {
   "cell_type": "code",
   "execution_count": 70,
   "id": "edd0765a-6413-4fc1-aa3d-ddca1ccf1309",
   "metadata": {},
   "outputs": [
    {
     "data": {
      "text/html": [
       "\n",
       "      <iframe id=\"tensorboard-frame-5e9b9df0998ab51\" width=\"100%\" height=\"800\" frameborder=\"0\">\n",
       "      </iframe>\n",
       "      <script>\n",
       "        (function() {\n",
       "          const frame = document.getElementById(\"tensorboard-frame-5e9b9df0998ab51\");\n",
       "          const url = new URL(\"/\", window.location);\n",
       "          const port = 6006;\n",
       "          if (port) {\n",
       "            url.port = port;\n",
       "          }\n",
       "          frame.src = url;\n",
       "        })();\n",
       "      </script>\n",
       "    "
      ],
      "text/plain": [
       "<IPython.core.display.HTML object>"
      ]
     },
     "metadata": {},
     "output_type": "display_data"
    }
   ],
   "source": [
    "%tensorboard --logdir logs"
   ]
  },
  {
   "cell_type": "code",
   "execution_count": 71,
   "id": "03cc9447-c332-4c4a-b59d-5434307deb59",
   "metadata": {},
   "outputs": [
    {
     "name": "stdout",
     "output_type": "stream",
     "text": [
      "15/15 [==============================] - 0s 2ms/step - loss: 0.4256 - accuracy: 0.8083\n"
     ]
    },
    {
     "data": {
      "text/plain": [
       "[0.4256199598312378, 0.8083333373069763]"
      ]
     },
     "execution_count": 71,
     "metadata": {},
     "output_type": "execute_result"
    }
   ],
   "source": [
    "model.evaluate(X_test, y_test, batch_size=8)"
   ]
  },
  {
   "cell_type": "code",
   "execution_count": 74,
   "id": "b8c3420a-577a-4b96-9aed-20b292b8ad70",
   "metadata": {},
   "outputs": [
    {
     "name": "stdout",
     "output_type": "stream",
     "text": [
      "              precision    recall  f1-score   support\n",
      "\n",
      "           0       0.76      0.86      0.81        56\n",
      "           1       0.86      0.77      0.81        64\n",
      "\n",
      "    accuracy                           0.81       120\n",
      "   macro avg       0.81      0.81      0.81       120\n",
      "weighted avg       0.81      0.81      0.81       120\n",
      "\n"
     ]
    }
   ],
   "source": [
    "from sklearn.metrics import classification_report\n",
    "predictions = model.predict(X_test)\n",
    "pred = [1 * (x[0]>=0.50) for x in predictions] #0.5 o 0.52? \n",
    "print(classification_report(y_test, pred))"
   ]
  },
  {
   "cell_type": "code",
   "execution_count": null,
   "id": "7e824fb2-0bda-48c0-919e-3100e9fe08d3",
   "metadata": {},
   "outputs": [],
   "source": []
  }
 ],
 "metadata": {
  "kernelspec": {
   "display_name": "Python 3 (ipykernel)",
   "language": "python",
   "name": "python3"
  },
  "language_info": {
   "codemirror_mode": {
    "name": "ipython",
    "version": 3
   },
   "file_extension": ".py",
   "mimetype": "text/x-python",
   "name": "python",
   "nbconvert_exporter": "python",
   "pygments_lexer": "ipython3",
   "version": "3.8.10"
  }
 },
 "nbformat": 4,
 "nbformat_minor": 5
}

{
 "cells": [
  {
   "cell_type": "markdown",
   "id": "85e9bf14-d4a1-4959-ae46-3656e67c93d9",
   "metadata": {
    "tags": []
   },
   "source": [
    "# Configuration\n",
    "\n",
    "NOTES: The warnings after the import are referred to the fact that Tensorflow 2.x versions are built to directly look for a GPU in the system. The warning can be forgot if you are not going to use the GPU. "
   ]
  },
  {
   "cell_type": "code",
   "execution_count": 1,
   "id": "ac0fa92f-fd18-4ef6-8aaa-9d73f2174083",
   "metadata": {},
   "outputs": [],
   "source": [
    "LENGTH_CHOSEN = 126520"
   ]
  },
  {
   "cell_type": "code",
   "execution_count": null,
   "id": "99fce86a-0a51-4dd2-836d-0e19a4b771d1",
   "metadata": {},
   "outputs": [],
   "source": [
    "!pip install fsspec"
   ]
  },
  {
   "cell_type": "code",
   "execution_count": null,
   "id": "33151867-d392-43ab-b419-3cc44e89c099",
   "metadata": {},
   "outputs": [],
   "source": [
    "!virtualenv myenv"
   ]
  },
  {
   "cell_type": "code",
   "execution_count": null,
   "id": "6e543cc0-69f6-497a-946d-245d65159c70",
   "metadata": {},
   "outputs": [],
   "source": [
    "!python3 -m venv myenv"
   ]
  },
  {
   "cell_type": "code",
   "execution_count": 2,
   "id": "c55ac1a8-e0a6-404a-bcfe-f0fa2c9ab45b",
   "metadata": {},
   "outputs": [],
   "source": [
    "!source myenv/bin/activate"
   ]
  },
  {
   "cell_type": "code",
   "execution_count": 3,
   "id": "181a7a82-6b93-4575-a9f1-1e4f26eb123a",
   "metadata": {},
   "outputs": [
    {
     "name": "stdout",
     "output_type": "stream",
     "text": [
      "Requirement already satisfied: seaborn in /home/helemanc/.local/lib/python3.8/site-packages (0.11.2)\n",
      "Requirement already satisfied: scipy>=1.0 in /usr/local/lib/python3.8/dist-packages (from seaborn) (1.6.3)\n",
      "Requirement already satisfied: numpy>=1.15 in /home/helemanc/.local/lib/python3.8/site-packages (from seaborn) (1.19.5)\n",
      "Requirement already satisfied: pandas>=0.23 in /home/helemanc/.local/lib/python3.8/site-packages (from seaborn) (1.3.2)\n",
      "Requirement already satisfied: matplotlib>=2.2 in /usr/local/lib/python3.8/dist-packages/matplotlib-3.4.1-py3.8-linux-x86_64.egg (from seaborn) (3.4.1)\n",
      "Requirement already satisfied: python-dateutil>=2.7.3 in /usr/lib/python3/dist-packages (from pandas>=0.23->seaborn) (2.7.3)\n",
      "Requirement already satisfied: pytz>=2017.3 in /usr/lib/python3/dist-packages (from pandas>=0.23->seaborn) (2019.3)\n",
      "Requirement already satisfied: cycler>=0.10 in /usr/local/lib/python3.8/dist-packages/cycler-0.10.0-py3.8.egg (from matplotlib>=2.2->seaborn) (0.10.0)\n",
      "Requirement already satisfied: kiwisolver>=1.0.1 in /usr/local/lib/python3.8/dist-packages/kiwisolver-1.3.1-py3.8-linux-x86_64.egg (from matplotlib>=2.2->seaborn) (1.3.1)\n",
      "Requirement already satisfied: pillow>=6.2.0 in /usr/lib/python3/dist-packages (from matplotlib>=2.2->seaborn) (7.0.0)\n",
      "Requirement already satisfied: pyparsing>=2.2.1 in /home/helemanc/.local/lib/python3.8/site-packages (from matplotlib>=2.2->seaborn) (2.4.7)\n",
      "Requirement already satisfied: six in /home/helemanc/.local/lib/python3.8/site-packages (from cycler>=0.10->matplotlib>=2.2->seaborn) (1.15.0)\n"
     ]
    }
   ],
   "source": [
    "!pip install seaborn"
   ]
  },
  {
   "cell_type": "code",
   "execution_count": 4,
   "id": "683f4eb2-10c3-4452-a6e9-dd60f067565f",
   "metadata": {},
   "outputs": [
    {
     "name": "stdout",
     "output_type": "stream",
     "text": [
      "Requirement already satisfied: ipywidgets in /home/helemanc/.local/lib/python3.8/site-packages (7.6.3)\n",
      "Requirement already satisfied: jupyterlab-widgets>=1.0.0; python_version >= \"3.6\" in /home/helemanc/.local/lib/python3.8/site-packages (from ipywidgets) (1.0.0)\n",
      "Requirement already satisfied: traitlets>=4.3.1 in /home/helemanc/.local/lib/python3.8/site-packages (from ipywidgets) (5.0.5)\n",
      "Requirement already satisfied: ipykernel>=4.5.1 in /home/helemanc/.local/lib/python3.8/site-packages (from ipywidgets) (6.2.0)\n",
      "Requirement already satisfied: ipython>=4.0.0; python_version >= \"3.3\" in /home/helemanc/.local/lib/python3.8/site-packages (from ipywidgets) (7.26.0)\n",
      "Requirement already satisfied: nbformat>=4.2.0 in /home/helemanc/.local/lib/python3.8/site-packages (from ipywidgets) (5.1.3)\n",
      "Requirement already satisfied: widgetsnbextension~=3.5.0 in /home/helemanc/.local/lib/python3.8/site-packages (from ipywidgets) (3.5.1)\n",
      "Requirement already satisfied: ipython-genutils in /home/helemanc/.local/lib/python3.8/site-packages (from traitlets>=4.3.1->ipywidgets) (0.2.0)\n",
      "Requirement already satisfied: debugpy<2.0,>=1.0.0 in /home/helemanc/.local/lib/python3.8/site-packages (from ipykernel>=4.5.1->ipywidgets) (1.4.1)\n",
      "Requirement already satisfied: tornado<7.0,>=4.2 in /home/helemanc/.local/lib/python3.8/site-packages (from ipykernel>=4.5.1->ipywidgets) (6.1)\n",
      "Requirement already satisfied: matplotlib-inline<0.2.0,>=0.1.0 in /home/helemanc/.local/lib/python3.8/site-packages (from ipykernel>=4.5.1->ipywidgets) (0.1.2)\n",
      "Requirement already satisfied: jupyter-client<8.0 in /home/helemanc/.local/lib/python3.8/site-packages (from ipykernel>=4.5.1->ipywidgets) (6.1.12)\n",
      "Requirement already satisfied: setuptools>=18.5 in /usr/lib/python3/dist-packages (from ipython>=4.0.0; python_version >= \"3.3\"->ipywidgets) (45.2.0)\n",
      "Requirement already satisfied: prompt-toolkit!=3.0.0,!=3.0.1,<3.1.0,>=2.0.0 in /home/helemanc/.local/lib/python3.8/site-packages (from ipython>=4.0.0; python_version >= \"3.3\"->ipywidgets) (3.0.19)\n",
      "Requirement already satisfied: pickleshare in /home/helemanc/.local/lib/python3.8/site-packages (from ipython>=4.0.0; python_version >= \"3.3\"->ipywidgets) (0.7.5)\n",
      "Requirement already satisfied: pygments in /home/helemanc/.local/lib/python3.8/site-packages (from ipython>=4.0.0; python_version >= \"3.3\"->ipywidgets) (2.10.0)\n",
      "Requirement already satisfied: decorator in /usr/local/lib/python3.8/dist-packages/decorator-5.0.7-py3.8.egg (from ipython>=4.0.0; python_version >= \"3.3\"->ipywidgets) (5.0.7)\n",
      "Requirement already satisfied: backcall in /home/helemanc/.local/lib/python3.8/site-packages (from ipython>=4.0.0; python_version >= \"3.3\"->ipywidgets) (0.2.0)\n",
      "Requirement already satisfied: pexpect>4.3; sys_platform != \"win32\" in /usr/lib/python3/dist-packages (from ipython>=4.0.0; python_version >= \"3.3\"->ipywidgets) (4.6.0)\n",
      "Requirement already satisfied: jedi>=0.16 in /home/helemanc/.local/lib/python3.8/site-packages (from ipython>=4.0.0; python_version >= \"3.3\"->ipywidgets) (0.18.0)\n",
      "Requirement already satisfied: jupyter-core in /home/helemanc/.local/lib/python3.8/site-packages (from nbformat>=4.2.0->ipywidgets) (4.7.1)\n",
      "Requirement already satisfied: jsonschema!=2.5.0,>=2.4 in /home/helemanc/.local/lib/python3.8/site-packages (from nbformat>=4.2.0->ipywidgets) (3.2.0)\n",
      "Requirement already satisfied: notebook>=4.4.1 in /home/helemanc/.local/lib/python3.8/site-packages (from widgetsnbextension~=3.5.0->ipywidgets) (6.4.3)\n",
      "Requirement already satisfied: pyzmq>=13 in /home/helemanc/.local/lib/python3.8/site-packages (from jupyter-client<8.0->ipykernel>=4.5.1->ipywidgets) (22.2.1)\n",
      "Requirement already satisfied: python-dateutil>=2.1 in /usr/lib/python3/dist-packages (from jupyter-client<8.0->ipykernel>=4.5.1->ipywidgets) (2.7.3)\n",
      "Requirement already satisfied: wcwidth in /home/helemanc/.local/lib/python3.8/site-packages (from prompt-toolkit!=3.0.0,!=3.0.1,<3.1.0,>=2.0.0->ipython>=4.0.0; python_version >= \"3.3\"->ipywidgets) (0.2.5)\n",
      "Requirement already satisfied: parso<0.9.0,>=0.8.0 in /home/helemanc/.local/lib/python3.8/site-packages (from jedi>=0.16->ipython>=4.0.0; python_version >= \"3.3\"->ipywidgets) (0.8.2)\n",
      "Requirement already satisfied: pyrsistent>=0.14.0 in /home/helemanc/.local/lib/python3.8/site-packages (from jsonschema!=2.5.0,>=2.4->nbformat>=4.2.0->ipywidgets) (0.18.0)\n",
      "Requirement already satisfied: six>=1.11.0 in /home/helemanc/.local/lib/python3.8/site-packages (from jsonschema!=2.5.0,>=2.4->nbformat>=4.2.0->ipywidgets) (1.15.0)\n",
      "Requirement already satisfied: attrs>=17.4.0 in /home/helemanc/.local/lib/python3.8/site-packages (from jsonschema!=2.5.0,>=2.4->nbformat>=4.2.0->ipywidgets) (21.2.0)\n",
      "Requirement already satisfied: argon2-cffi in /home/helemanc/.local/lib/python3.8/site-packages (from notebook>=4.4.1->widgetsnbextension~=3.5.0->ipywidgets) (20.1.0)\n",
      "Requirement already satisfied: Send2Trash>=1.5.0 in /home/helemanc/.local/lib/python3.8/site-packages (from notebook>=4.4.1->widgetsnbextension~=3.5.0->ipywidgets) (1.8.0)\n",
      "Requirement already satisfied: prometheus-client in /home/helemanc/.local/lib/python3.8/site-packages (from notebook>=4.4.1->widgetsnbextension~=3.5.0->ipywidgets) (0.11.0)\n",
      "Requirement already satisfied: jinja2 in /home/helemanc/.local/lib/python3.8/site-packages (from notebook>=4.4.1->widgetsnbextension~=3.5.0->ipywidgets) (3.0.1)\n",
      "Requirement already satisfied: nbconvert in /home/helemanc/.local/lib/python3.8/site-packages (from notebook>=4.4.1->widgetsnbextension~=3.5.0->ipywidgets) (6.1.0)\n",
      "Requirement already satisfied: terminado>=0.8.3 in /home/helemanc/.local/lib/python3.8/site-packages (from notebook>=4.4.1->widgetsnbextension~=3.5.0->ipywidgets) (0.11.0)\n",
      "Requirement already satisfied: cffi>=1.0.0 in /usr/local/lib/python3.8/dist-packages/cffi-1.14.5-py3.8-linux-x86_64.egg (from argon2-cffi->notebook>=4.4.1->widgetsnbextension~=3.5.0->ipywidgets) (1.14.5)\n",
      "Requirement already satisfied: MarkupSafe>=2.0 in /home/helemanc/.local/lib/python3.8/site-packages (from jinja2->notebook>=4.4.1->widgetsnbextension~=3.5.0->ipywidgets) (2.0.1)\n",
      "Requirement already satisfied: pandocfilters>=1.4.1 in /home/helemanc/.local/lib/python3.8/site-packages (from nbconvert->notebook>=4.4.1->widgetsnbextension~=3.5.0->ipywidgets) (1.4.3)\n",
      "Requirement already satisfied: testpath in /home/helemanc/.local/lib/python3.8/site-packages (from nbconvert->notebook>=4.4.1->widgetsnbextension~=3.5.0->ipywidgets) (0.5.0)\n",
      "Requirement already satisfied: mistune<2,>=0.8.1 in /home/helemanc/.local/lib/python3.8/site-packages (from nbconvert->notebook>=4.4.1->widgetsnbextension~=3.5.0->ipywidgets) (0.8.4)\n",
      "Requirement already satisfied: bleach in /home/helemanc/.local/lib/python3.8/site-packages (from nbconvert->notebook>=4.4.1->widgetsnbextension~=3.5.0->ipywidgets) (4.0.0)\n",
      "Requirement already satisfied: entrypoints>=0.2.2 in /usr/lib/python3/dist-packages (from nbconvert->notebook>=4.4.1->widgetsnbextension~=3.5.0->ipywidgets) (0.3)\n",
      "Requirement already satisfied: jupyterlab-pygments in /home/helemanc/.local/lib/python3.8/site-packages (from nbconvert->notebook>=4.4.1->widgetsnbextension~=3.5.0->ipywidgets) (0.1.2)\n",
      "Requirement already satisfied: nbclient<0.6.0,>=0.5.0 in /home/helemanc/.local/lib/python3.8/site-packages (from nbconvert->notebook>=4.4.1->widgetsnbextension~=3.5.0->ipywidgets) (0.5.4)\n",
      "Requirement already satisfied: defusedxml in /home/helemanc/.local/lib/python3.8/site-packages (from nbconvert->notebook>=4.4.1->widgetsnbextension~=3.5.0->ipywidgets) (0.7.1)\n",
      "Requirement already satisfied: ptyprocess; os_name != \"nt\" in /home/helemanc/.local/lib/python3.8/site-packages (from terminado>=0.8.3->notebook>=4.4.1->widgetsnbextension~=3.5.0->ipywidgets) (0.7.0)\n",
      "Requirement already satisfied: pycparser in /usr/local/lib/python3.8/dist-packages/pycparser-2.20-py3.8.egg (from cffi>=1.0.0->argon2-cffi->notebook>=4.4.1->widgetsnbextension~=3.5.0->ipywidgets) (2.20)\n",
      "Requirement already satisfied: webencodings in /home/helemanc/.local/lib/python3.8/site-packages (from bleach->nbconvert->notebook>=4.4.1->widgetsnbextension~=3.5.0->ipywidgets) (0.5.1)\n",
      "Requirement already satisfied: packaging in /usr/local/lib/python3.8/dist-packages/packaging-20.9-py3.8.egg (from bleach->nbconvert->notebook>=4.4.1->widgetsnbextension~=3.5.0->ipywidgets) (20.9)\n",
      "Requirement already satisfied: nest-asyncio in /home/helemanc/.local/lib/python3.8/site-packages (from nbclient<0.6.0,>=0.5.0->nbconvert->notebook>=4.4.1->widgetsnbextension~=3.5.0->ipywidgets) (1.5.1)\n",
      "Requirement already satisfied: pyparsing>=2.0.2 in /home/helemanc/.local/lib/python3.8/site-packages (from packaging->bleach->nbconvert->notebook>=4.4.1->widgetsnbextension~=3.5.0->ipywidgets) (2.4.7)\n"
     ]
    }
   ],
   "source": [
    "!pip install ipywidgets"
   ]
  },
  {
   "cell_type": "code",
   "execution_count": 67,
   "id": "be74c105-39bd-421a-aee1-bb189cd0fd76",
   "metadata": {},
   "outputs": [
    {
     "data": {
      "text/plain": [
       "[]"
      ]
     },
     "execution_count": 67,
     "metadata": {},
     "output_type": "execute_result"
    }
   ],
   "source": [
    "import os\n",
    "import librosa\n",
    "import numpy as np\n",
    "from tqdm.notebook import tqdm\n",
    "import pandas as pd\n",
    "import matplotlib.pyplot as plt\n",
    "import warnings\n",
    "warnings.filterwarnings(\"ignore\")\n",
    "import seaborn as sns\n",
    "sns.set_style('whitegrid')\n",
    "import IPython.display as ipd\n",
    "import librosa.display\n",
    "import numpy as np\n",
    "import pickle\n",
    "import scipy\n",
    "import ipywidgets\n",
    "import math\n",
    "\n",
    "from sklearn.model_selection import train_test_split\n",
    "from sklearn.ensemble import RandomForestClassifier\n",
    "from sklearn.preprocessing import StandardScaler, LabelEncoder\n",
    "from sklearn.pipeline import make_pipeline\n",
    "from sklearn.cluster import KMeans\n",
    "from sklearn.metrics import accuracy_score, confusion_matrix\n",
    "from scipy.cluster.hierarchy import dendrogram\n",
    "from sklearn.cluster import AgglomerativeClustering\n",
    "\n",
    "from tqdm import tqdm\n",
    "\n",
    "import tensorflow as tf\n",
    "from tensorflow.keras.layers import Dense, Dropout, Conv2D, AveragePooling1D, MaxPooling2D, Flatten\n",
    "from tensorflow.keras.optimizers import SGD\n",
    "from tensorflow.keras.models import Sequential\n",
    "from tensorflow.keras import layers\n",
    "from tensorflow.keras import regularizers\n",
    "\n",
    "# from livelossplot import PlotLossesKeras\n",
    "tf.config.list_physical_devices('GPU')"
   ]
  },
  {
   "cell_type": "markdown",
   "id": "e2f4fc1c-d183-4b12-b06d-df6837b9f498",
   "metadata": {},
   "source": [
    "# Get data from datasets"
   ]
  },
  {
   "cell_type": "code",
   "execution_count": 68,
   "id": "6d66f0f2-9eb5-4688-bef4-99c89f1c55ad",
   "metadata": {},
   "outputs": [],
   "source": [
    "main_path = '/media/helemanc/OS/Users/i2CAT/Desktop/Datasets SER/'\n",
    "TESS = os.path.join(main_path, \"tess/TESS Toronto emotional speech set data/\") \n",
    "RAV = os.path.join(main_path, \"ravdess-emotional-speech-audio/audio_speech_actors_01-24\")\n",
    "SAVEE = os.path.join(main_path, \"savee/ALL/\")\n",
    "CREMA = os.path.join(main_path, \"creamd/AudioWAV/\")\n",
    "\n",
    "dir_list = os.listdir(RAV)"
   ]
  },
  {
   "cell_type": "markdown",
   "id": "b7f0f81e-199f-4f75-a84f-01019d63ba4c",
   "metadata": {
    "tags": []
   },
   "source": [
    "## RADVESS"
   ]
  },
  {
   "cell_type": "code",
   "execution_count": 69,
   "id": "1d892dfe-c2a5-4285-8128-fda1a97a1a78",
   "metadata": {},
   "outputs": [
    {
     "name": "stderr",
     "output_type": "stream",
     "text": [
      "25it [00:00, 1079.48it/s]\n"
     ]
    }
   ],
   "source": [
    "lst = []\n",
    "emotion = []\n",
    "voc_channel = []\n",
    "full_path = []\n",
    "modality = []\n",
    "intensity = []\n",
    "actors = []\n",
    "phrase =[]\n",
    "\n",
    "for root, dirs, files in tqdm(os.walk(RAV)):\n",
    "    for file in files:\n",
    "        try:\n",
    "            #Load librosa array, obtain mfcss, store the file and the mfcss information in a new array\n",
    "            # X, sample_rate = librosa.load(os.path.join(root,file), res_type='kaiser_fast')\n",
    "            # mfccs = np.mean(librosa.feature.mfcc(y=X, sr=sample_rate, n_mfcc=40).T,axis=0) \n",
    "            # The instruction below converts the labels (from 1 to 8) to a series from 0 to 7\n",
    "            # This is because our predictor needs to start from 0 otherwise it will try to predict also 0.\n",
    "           \n",
    "            modal = int(file[1:2])\n",
    "            vchan = int(file[4:5])\n",
    "            lab = int(file[7:8])\n",
    "            ints = int(file[10:11])\n",
    "            phr = int(file[13:14])\n",
    "            act = int(file[18:20])\n",
    "            # arr = mfccs, lab\n",
    "            # lst.append(arr)\n",
    "            \n",
    "            modality.append(modal)\n",
    "            voc_channel.append(vchan)\n",
    "            emotion.append(lab) #only labels\n",
    "            intensity.append(ints)\n",
    "            phrase.append(phr)\n",
    "            actors.append(act)\n",
    "            \n",
    "            full_path.append((root, file)) # only files\n",
    "          # If the file is not valid, skip it\n",
    "        except ValueError:\n",
    "            continue"
   ]
  },
  {
   "cell_type": "code",
   "execution_count": 70,
   "id": "9bb3acde-892d-4ad5-a8b0-b2dc60a51a2e",
   "metadata": {},
   "outputs": [],
   "source": [
    "# 01 = neutral, 02 = calm, 03 = happy, 04 = sad, 05 = angry, 06 = fearful, 07 = disgust, 08 = surprised\n",
    "emotions_list = ['neutral', 'calm', 'happy', 'sadness', 'angry', 'fear', 'disgust', 'surprise']\n",
    "emotion_dict = {em[0]+1:em[1] for em in enumerate(emotions_list)}\n",
    "\n",
    "df = pd.DataFrame([emotion, voc_channel, modality, intensity, actors, actors,phrase, full_path]).T\n",
    "df.columns = ['emotion', 'voc_channel', 'modality', 'intensity', 'actors', 'gender', 'phrase', 'path']\n",
    "df['emotion'] = df['emotion'].map(emotion_dict)\n",
    "df['voc_channel'] = df['voc_channel'].map({1: 'speech', 2:'song'})\n",
    "df['modality'] = df['modality'].map({1: 'full AV', 2:'video only', 3:'audio only'})\n",
    "df['intensity'] = df['intensity'].map({1: 'normal', 2:'strong'})\n",
    "df['actors'] = df['actors']\n",
    "df['gender'] = df['actors'].apply(lambda x: 'female' if x%2 == 0 else 'male')\n",
    "df['phrase'] = df['phrase'].map({1: 'Kids are talking by the door', 2:'Dogs are sitting by the door'})\n",
    "df['path'] = df['path'].apply(lambda x: x[0] + '/' + x[1])"
   ]
  },
  {
   "cell_type": "code",
   "execution_count": 71,
   "id": "89576907-a0b5-4743-95a3-2246f7ddc242",
   "metadata": {},
   "outputs": [],
   "source": [
    "# remove files with noise to apply the same noise to all files for data augmentation \n",
    "df = df[~df.path.str.contains('noise')]"
   ]
  },
  {
   "cell_type": "code",
   "execution_count": 72,
   "id": "9d955ba7-116b-4744-a924-1b508f581ac9",
   "metadata": {},
   "outputs": [
    {
     "data": {
      "text/html": [
       "<div>\n",
       "<style scoped>\n",
       "    .dataframe tbody tr th:only-of-type {\n",
       "        vertical-align: middle;\n",
       "    }\n",
       "\n",
       "    .dataframe tbody tr th {\n",
       "        vertical-align: top;\n",
       "    }\n",
       "\n",
       "    .dataframe thead th {\n",
       "        text-align: right;\n",
       "    }\n",
       "</style>\n",
       "<table border=\"1\" class=\"dataframe\">\n",
       "  <thead>\n",
       "    <tr style=\"text-align: right;\">\n",
       "      <th></th>\n",
       "      <th>emotion</th>\n",
       "      <th>voc_channel</th>\n",
       "      <th>modality</th>\n",
       "      <th>intensity</th>\n",
       "      <th>actors</th>\n",
       "      <th>gender</th>\n",
       "      <th>phrase</th>\n",
       "      <th>path</th>\n",
       "    </tr>\n",
       "  </thead>\n",
       "  <tbody>\n",
       "    <tr>\n",
       "      <th>0</th>\n",
       "      <td>disgust</td>\n",
       "      <td>speech</td>\n",
       "      <td>audio only</td>\n",
       "      <td>normal</td>\n",
       "      <td>1</td>\n",
       "      <td>male</td>\n",
       "      <td>Dogs are sitting by the door</td>\n",
       "      <td>/media/helemanc/OS/Users/i2CAT/Desktop/Dataset...</td>\n",
       "    </tr>\n",
       "    <tr>\n",
       "      <th>2</th>\n",
       "      <td>disgust</td>\n",
       "      <td>speech</td>\n",
       "      <td>audio only</td>\n",
       "      <td>strong</td>\n",
       "      <td>1</td>\n",
       "      <td>male</td>\n",
       "      <td>Kids are talking by the door</td>\n",
       "      <td>/media/helemanc/OS/Users/i2CAT/Desktop/Dataset...</td>\n",
       "    </tr>\n",
       "    <tr>\n",
       "      <th>4</th>\n",
       "      <td>disgust</td>\n",
       "      <td>speech</td>\n",
       "      <td>audio only</td>\n",
       "      <td>strong</td>\n",
       "      <td>1</td>\n",
       "      <td>male</td>\n",
       "      <td>Kids are talking by the door</td>\n",
       "      <td>/media/helemanc/OS/Users/i2CAT/Desktop/Dataset...</td>\n",
       "    </tr>\n",
       "    <tr>\n",
       "      <th>6</th>\n",
       "      <td>disgust</td>\n",
       "      <td>speech</td>\n",
       "      <td>audio only</td>\n",
       "      <td>strong</td>\n",
       "      <td>1</td>\n",
       "      <td>male</td>\n",
       "      <td>Dogs are sitting by the door</td>\n",
       "      <td>/media/helemanc/OS/Users/i2CAT/Desktop/Dataset...</td>\n",
       "    </tr>\n",
       "    <tr>\n",
       "      <th>8</th>\n",
       "      <td>disgust</td>\n",
       "      <td>speech</td>\n",
       "      <td>audio only</td>\n",
       "      <td>strong</td>\n",
       "      <td>1</td>\n",
       "      <td>male</td>\n",
       "      <td>Dogs are sitting by the door</td>\n",
       "      <td>/media/helemanc/OS/Users/i2CAT/Desktop/Dataset...</td>\n",
       "    </tr>\n",
       "  </tbody>\n",
       "</table>\n",
       "</div>"
      ],
      "text/plain": [
       "   emotion voc_channel    modality intensity actors gender  \\\n",
       "0  disgust      speech  audio only    normal      1   male   \n",
       "2  disgust      speech  audio only    strong      1   male   \n",
       "4  disgust      speech  audio only    strong      1   male   \n",
       "6  disgust      speech  audio only    strong      1   male   \n",
       "8  disgust      speech  audio only    strong      1   male   \n",
       "\n",
       "                         phrase  \\\n",
       "0  Dogs are sitting by the door   \n",
       "2  Kids are talking by the door   \n",
       "4  Kids are talking by the door   \n",
       "6  Dogs are sitting by the door   \n",
       "8  Dogs are sitting by the door   \n",
       "\n",
       "                                                path  \n",
       "0  /media/helemanc/OS/Users/i2CAT/Desktop/Dataset...  \n",
       "2  /media/helemanc/OS/Users/i2CAT/Desktop/Dataset...  \n",
       "4  /media/helemanc/OS/Users/i2CAT/Desktop/Dataset...  \n",
       "6  /media/helemanc/OS/Users/i2CAT/Desktop/Dataset...  \n",
       "8  /media/helemanc/OS/Users/i2CAT/Desktop/Dataset...  "
      ]
     },
     "execution_count": 72,
     "metadata": {},
     "output_type": "execute_result"
    }
   ],
   "source": [
    "df.head()"
   ]
  },
  {
   "cell_type": "code",
   "execution_count": 73,
   "id": "3e0af0a8-1dea-42f8-8c80-2cdb052f91c0",
   "metadata": {},
   "outputs": [],
   "source": [
    "# only speech\n",
    "RAV_df = df\n",
    "RAV_df = RAV_df.loc[RAV_df.voc_channel == 'speech']"
   ]
  },
  {
   "cell_type": "code",
   "execution_count": 74,
   "id": "14d12b78-98c0-4f3c-8381-4984ee98f62e",
   "metadata": {},
   "outputs": [],
   "source": [
    "RAV_df.insert(0, \"emotion_label\", RAV_df.emotion, True)"
   ]
  },
  {
   "cell_type": "code",
   "execution_count": 75,
   "id": "35be209e-eb83-4392-9ca0-61f02d284261",
   "metadata": {},
   "outputs": [],
   "source": [
    "RAV_df = RAV_df.drop(['emotion', 'voc_channel', 'modality', 'intensity', 'phrase'], 1)"
   ]
  },
  {
   "cell_type": "code",
   "execution_count": 76,
   "id": "7988732f-3d98-43ce-831a-bb33e48f38d3",
   "metadata": {},
   "outputs": [
    {
     "data": {
      "text/html": [
       "<div>\n",
       "<style scoped>\n",
       "    .dataframe tbody tr th:only-of-type {\n",
       "        vertical-align: middle;\n",
       "    }\n",
       "\n",
       "    .dataframe tbody tr th {\n",
       "        vertical-align: top;\n",
       "    }\n",
       "\n",
       "    .dataframe thead th {\n",
       "        text-align: right;\n",
       "    }\n",
       "</style>\n",
       "<table border=\"1\" class=\"dataframe\">\n",
       "  <thead>\n",
       "    <tr style=\"text-align: right;\">\n",
       "      <th></th>\n",
       "      <th>emotion_label</th>\n",
       "      <th>actors</th>\n",
       "      <th>gender</th>\n",
       "      <th>path</th>\n",
       "    </tr>\n",
       "  </thead>\n",
       "  <tbody>\n",
       "    <tr>\n",
       "      <th>0</th>\n",
       "      <td>disgust</td>\n",
       "      <td>1</td>\n",
       "      <td>male</td>\n",
       "      <td>/media/helemanc/OS/Users/i2CAT/Desktop/Dataset...</td>\n",
       "    </tr>\n",
       "    <tr>\n",
       "      <th>2</th>\n",
       "      <td>disgust</td>\n",
       "      <td>1</td>\n",
       "      <td>male</td>\n",
       "      <td>/media/helemanc/OS/Users/i2CAT/Desktop/Dataset...</td>\n",
       "    </tr>\n",
       "    <tr>\n",
       "      <th>4</th>\n",
       "      <td>disgust</td>\n",
       "      <td>1</td>\n",
       "      <td>male</td>\n",
       "      <td>/media/helemanc/OS/Users/i2CAT/Desktop/Dataset...</td>\n",
       "    </tr>\n",
       "    <tr>\n",
       "      <th>6</th>\n",
       "      <td>disgust</td>\n",
       "      <td>1</td>\n",
       "      <td>male</td>\n",
       "      <td>/media/helemanc/OS/Users/i2CAT/Desktop/Dataset...</td>\n",
       "    </tr>\n",
       "    <tr>\n",
       "      <th>8</th>\n",
       "      <td>disgust</td>\n",
       "      <td>1</td>\n",
       "      <td>male</td>\n",
       "      <td>/media/helemanc/OS/Users/i2CAT/Desktop/Dataset...</td>\n",
       "    </tr>\n",
       "    <tr>\n",
       "      <th>...</th>\n",
       "      <td>...</td>\n",
       "      <td>...</td>\n",
       "      <td>...</td>\n",
       "      <td>...</td>\n",
       "    </tr>\n",
       "    <tr>\n",
       "      <th>2871</th>\n",
       "      <td>neutral</td>\n",
       "      <td>24</td>\n",
       "      <td>female</td>\n",
       "      <td>/media/helemanc/OS/Users/i2CAT/Desktop/Dataset...</td>\n",
       "    </tr>\n",
       "    <tr>\n",
       "      <th>2873</th>\n",
       "      <td>neutral</td>\n",
       "      <td>24</td>\n",
       "      <td>female</td>\n",
       "      <td>/media/helemanc/OS/Users/i2CAT/Desktop/Dataset...</td>\n",
       "    </tr>\n",
       "    <tr>\n",
       "      <th>2875</th>\n",
       "      <td>calm</td>\n",
       "      <td>24</td>\n",
       "      <td>female</td>\n",
       "      <td>/media/helemanc/OS/Users/i2CAT/Desktop/Dataset...</td>\n",
       "    </tr>\n",
       "    <tr>\n",
       "      <th>2877</th>\n",
       "      <td>calm</td>\n",
       "      <td>24</td>\n",
       "      <td>female</td>\n",
       "      <td>/media/helemanc/OS/Users/i2CAT/Desktop/Dataset...</td>\n",
       "    </tr>\n",
       "    <tr>\n",
       "      <th>2879</th>\n",
       "      <td>calm</td>\n",
       "      <td>24</td>\n",
       "      <td>female</td>\n",
       "      <td>/media/helemanc/OS/Users/i2CAT/Desktop/Dataset...</td>\n",
       "    </tr>\n",
       "  </tbody>\n",
       "</table>\n",
       "<p>1440 rows × 4 columns</p>\n",
       "</div>"
      ],
      "text/plain": [
       "     emotion_label actors  gender  \\\n",
       "0          disgust      1    male   \n",
       "2          disgust      1    male   \n",
       "4          disgust      1    male   \n",
       "6          disgust      1    male   \n",
       "8          disgust      1    male   \n",
       "...            ...    ...     ...   \n",
       "2871       neutral     24  female   \n",
       "2873       neutral     24  female   \n",
       "2875          calm     24  female   \n",
       "2877          calm     24  female   \n",
       "2879          calm     24  female   \n",
       "\n",
       "                                                   path  \n",
       "0     /media/helemanc/OS/Users/i2CAT/Desktop/Dataset...  \n",
       "2     /media/helemanc/OS/Users/i2CAT/Desktop/Dataset...  \n",
       "4     /media/helemanc/OS/Users/i2CAT/Desktop/Dataset...  \n",
       "6     /media/helemanc/OS/Users/i2CAT/Desktop/Dataset...  \n",
       "8     /media/helemanc/OS/Users/i2CAT/Desktop/Dataset...  \n",
       "...                                                 ...  \n",
       "2871  /media/helemanc/OS/Users/i2CAT/Desktop/Dataset...  \n",
       "2873  /media/helemanc/OS/Users/i2CAT/Desktop/Dataset...  \n",
       "2875  /media/helemanc/OS/Users/i2CAT/Desktop/Dataset...  \n",
       "2877  /media/helemanc/OS/Users/i2CAT/Desktop/Dataset...  \n",
       "2879  /media/helemanc/OS/Users/i2CAT/Desktop/Dataset...  \n",
       "\n",
       "[1440 rows x 4 columns]"
      ]
     },
     "execution_count": 76,
     "metadata": {},
     "output_type": "execute_result"
    }
   ],
   "source": [
    "RAV_df"
   ]
  },
  {
   "cell_type": "code",
   "execution_count": 77,
   "id": "5e9f93c7-6bbb-46a5-bea1-59a00611a6f1",
   "metadata": {},
   "outputs": [],
   "source": [
    "RAV_train = []\n",
    "RAV_val = []\n",
    "RAV_test = []"
   ]
  },
  {
   "cell_type": "code",
   "execution_count": 78,
   "id": "b90568af-6d0c-4371-9454-923921631989",
   "metadata": {},
   "outputs": [
    {
     "data": {
      "text/plain": [
       "(1200, 120, 120)"
      ]
     },
     "execution_count": 78,
     "metadata": {},
     "output_type": "execute_result"
    }
   ],
   "source": [
    "for index, row in RAV_df.iterrows():\n",
    "    if row['actors'] in range(1,21): \n",
    "        RAV_train.append(row) \n",
    "    elif row['actors'] in range(21,23): \n",
    "        RAV_val.append(row)\n",
    "    elif row['actors'] in range(23,25): \n",
    "        RAV_test.append(row)\n",
    "len(RAV_train), len(RAV_val), len(RAV_test)"
   ]
  },
  {
   "cell_type": "code",
   "execution_count": 79,
   "id": "ecca2c20-fca5-49b3-bbe7-74c894ffb311",
   "metadata": {},
   "outputs": [],
   "source": [
    "RAV_train = pd.DataFrame(RAV_train)\n",
    "RAV_val = pd.DataFrame(RAV_val)\n",
    "RAV_test = pd.DataFrame(RAV_test)"
   ]
  },
  {
   "cell_type": "code",
   "execution_count": 80,
   "id": "cfbbe2a3-5c71-4d5b-9ecd-93e2bdcab60c",
   "metadata": {},
   "outputs": [],
   "source": [
    "RAV_train = RAV_train.drop(['actors'], 1)\n",
    "RAV_val = RAV_val.drop(['actors'], 1)\n",
    "RAV_test = RAV_test.drop(['actors'], 1)"
   ]
  },
  {
   "cell_type": "code",
   "execution_count": 81,
   "id": "1dba885c-b312-4002-8862-6d49dbc07470",
   "metadata": {},
   "outputs": [
    {
     "data": {
      "text/html": [
       "<div>\n",
       "<style scoped>\n",
       "    .dataframe tbody tr th:only-of-type {\n",
       "        vertical-align: middle;\n",
       "    }\n",
       "\n",
       "    .dataframe tbody tr th {\n",
       "        vertical-align: top;\n",
       "    }\n",
       "\n",
       "    .dataframe thead th {\n",
       "        text-align: right;\n",
       "    }\n",
       "</style>\n",
       "<table border=\"1\" class=\"dataframe\">\n",
       "  <thead>\n",
       "    <tr style=\"text-align: right;\">\n",
       "      <th></th>\n",
       "      <th>emotion_label</th>\n",
       "      <th>gender</th>\n",
       "      <th>path</th>\n",
       "    </tr>\n",
       "  </thead>\n",
       "  <tbody>\n",
       "    <tr>\n",
       "      <th>0</th>\n",
       "      <td>disgust</td>\n",
       "      <td>male</td>\n",
       "      <td>/media/helemanc/OS/Users/i2CAT/Desktop/Dataset...</td>\n",
       "    </tr>\n",
       "    <tr>\n",
       "      <th>2</th>\n",
       "      <td>disgust</td>\n",
       "      <td>male</td>\n",
       "      <td>/media/helemanc/OS/Users/i2CAT/Desktop/Dataset...</td>\n",
       "    </tr>\n",
       "    <tr>\n",
       "      <th>4</th>\n",
       "      <td>disgust</td>\n",
       "      <td>male</td>\n",
       "      <td>/media/helemanc/OS/Users/i2CAT/Desktop/Dataset...</td>\n",
       "    </tr>\n",
       "    <tr>\n",
       "      <th>6</th>\n",
       "      <td>disgust</td>\n",
       "      <td>male</td>\n",
       "      <td>/media/helemanc/OS/Users/i2CAT/Desktop/Dataset...</td>\n",
       "    </tr>\n",
       "    <tr>\n",
       "      <th>8</th>\n",
       "      <td>disgust</td>\n",
       "      <td>male</td>\n",
       "      <td>/media/helemanc/OS/Users/i2CAT/Desktop/Dataset...</td>\n",
       "    </tr>\n",
       "  </tbody>\n",
       "</table>\n",
       "</div>"
      ],
      "text/plain": [
       "  emotion_label gender                                               path\n",
       "0       disgust   male  /media/helemanc/OS/Users/i2CAT/Desktop/Dataset...\n",
       "2       disgust   male  /media/helemanc/OS/Users/i2CAT/Desktop/Dataset...\n",
       "4       disgust   male  /media/helemanc/OS/Users/i2CAT/Desktop/Dataset...\n",
       "6       disgust   male  /media/helemanc/OS/Users/i2CAT/Desktop/Dataset...\n",
       "8       disgust   male  /media/helemanc/OS/Users/i2CAT/Desktop/Dataset..."
      ]
     },
     "execution_count": 81,
     "metadata": {},
     "output_type": "execute_result"
    }
   ],
   "source": [
    "RAV_train.head()"
   ]
  },
  {
   "cell_type": "code",
   "execution_count": 82,
   "id": "b929bf2b-692e-45ca-9047-8065d1b27207",
   "metadata": {},
   "outputs": [
    {
     "data": {
      "text/html": [
       "<div>\n",
       "<style scoped>\n",
       "    .dataframe tbody tr th:only-of-type {\n",
       "        vertical-align: middle;\n",
       "    }\n",
       "\n",
       "    .dataframe tbody tr th {\n",
       "        vertical-align: top;\n",
       "    }\n",
       "\n",
       "    .dataframe thead th {\n",
       "        text-align: right;\n",
       "    }\n",
       "</style>\n",
       "<table border=\"1\" class=\"dataframe\">\n",
       "  <thead>\n",
       "    <tr style=\"text-align: right;\">\n",
       "      <th></th>\n",
       "      <th>emotion_label</th>\n",
       "      <th>gender</th>\n",
       "      <th>path</th>\n",
       "    </tr>\n",
       "  </thead>\n",
       "  <tbody>\n",
       "    <tr>\n",
       "      <th>2400</th>\n",
       "      <td>angry</td>\n",
       "      <td>male</td>\n",
       "      <td>/media/helemanc/OS/Users/i2CAT/Desktop/Dataset...</td>\n",
       "    </tr>\n",
       "    <tr>\n",
       "      <th>2402</th>\n",
       "      <td>fear</td>\n",
       "      <td>male</td>\n",
       "      <td>/media/helemanc/OS/Users/i2CAT/Desktop/Dataset...</td>\n",
       "    </tr>\n",
       "    <tr>\n",
       "      <th>2404</th>\n",
       "      <td>fear</td>\n",
       "      <td>male</td>\n",
       "      <td>/media/helemanc/OS/Users/i2CAT/Desktop/Dataset...</td>\n",
       "    </tr>\n",
       "    <tr>\n",
       "      <th>2406</th>\n",
       "      <td>fear</td>\n",
       "      <td>male</td>\n",
       "      <td>/media/helemanc/OS/Users/i2CAT/Desktop/Dataset...</td>\n",
       "    </tr>\n",
       "    <tr>\n",
       "      <th>2408</th>\n",
       "      <td>fear</td>\n",
       "      <td>male</td>\n",
       "      <td>/media/helemanc/OS/Users/i2CAT/Desktop/Dataset...</td>\n",
       "    </tr>\n",
       "  </tbody>\n",
       "</table>\n",
       "</div>"
      ],
      "text/plain": [
       "     emotion_label gender                                               path\n",
       "2400         angry   male  /media/helemanc/OS/Users/i2CAT/Desktop/Dataset...\n",
       "2402          fear   male  /media/helemanc/OS/Users/i2CAT/Desktop/Dataset...\n",
       "2404          fear   male  /media/helemanc/OS/Users/i2CAT/Desktop/Dataset...\n",
       "2406          fear   male  /media/helemanc/OS/Users/i2CAT/Desktop/Dataset...\n",
       "2408          fear   male  /media/helemanc/OS/Users/i2CAT/Desktop/Dataset..."
      ]
     },
     "execution_count": 82,
     "metadata": {},
     "output_type": "execute_result"
    }
   ],
   "source": [
    "RAV_val.head()"
   ]
  },
  {
   "cell_type": "code",
   "execution_count": 274,
   "id": "7cd67b74-b4ff-4ca3-b2a5-336e622160ca",
   "metadata": {},
   "outputs": [],
   "source": [
    "preprocess_path = \"/home/helemanc/Desktop/Binary_Model/pre-processed\"\n",
    "RAV_df.to_csv(os.path.join(preprocess_path,\"RAV_df.csv\"), index=False)"
   ]
  },
  {
   "cell_type": "markdown",
   "id": "89bc3387-6d28-4c44-afc3-f500dfd7091a",
   "metadata": {
    "tags": []
   },
   "source": [
    "## SAVEE"
   ]
  },
  {
   "cell_type": "code",
   "execution_count": 83,
   "id": "5be8a34d-84ea-461a-a136-cdf405a52d0b",
   "metadata": {},
   "outputs": [
    {
     "data": {
      "text/plain": [
       "neutral     120\n",
       "sadness      60\n",
       "surprise     60\n",
       "happy        60\n",
       "disgust      60\n",
       "fear         60\n",
       "angry        60\n",
       "Name: emotion_label, dtype: int64"
      ]
     },
     "execution_count": 83,
     "metadata": {},
     "output_type": "execute_result"
    }
   ],
   "source": [
    "# Get the data location for SAVEE\n",
    "dir_list = os.listdir(SAVEE)\n",
    "\n",
    "# parse the filename to get the emotions\n",
    "emotion=[]\n",
    "path = []\n",
    "actors = []\n",
    "gender = []\n",
    "for i in dir_list:\n",
    "    actors.append(i[:2])\n",
    "    if i[-8:-6]=='_a':\n",
    "        emotion.append('angry')\n",
    "        gender.append('male')\n",
    "    elif i[-8:-6]=='_d':\n",
    "        emotion.append('disgust')\n",
    "        gender.append('male')\n",
    "    elif i[-8:-6]=='_f':\n",
    "        emotion.append('fear')\n",
    "        gender.append('male')\n",
    "    elif i[-8:-6]=='_h':\n",
    "        emotion.append('happy')\n",
    "        gender.append('male')\n",
    "    elif i[-8:-6]=='_n':\n",
    "        emotion.append('neutral')\n",
    "        gender.append('male')\n",
    "    elif i[-8:-6]=='sa':\n",
    "        emotion.append('sadness')\n",
    "        gender.append('male')\n",
    "    elif i[-8:-6]=='su':\n",
    "        emotion.append('surprise')\n",
    "        gender.append('male') \n",
    "    else:\n",
    "        emotion.append('Unknown') \n",
    "    path.append(SAVEE + i)\n",
    "    \n",
    "# Now check out the label count distribution \n",
    "SAVEE_df = pd.DataFrame(emotion, columns = ['emotion_label'])\n",
    "                      \n",
    "SAVEE_df = pd.concat([SAVEE_df,\n",
    "                      pd.DataFrame(actors, columns = ['actors']),\n",
    "                      pd.DataFrame(gender, columns = ['gender']), \n",
    "                      pd.DataFrame(path, columns = ['path'])], axis = 1)\n",
    "SAVEE_df.emotion_label.value_counts()"
   ]
  },
  {
   "cell_type": "code",
   "execution_count": 84,
   "id": "903a8049-8913-49a5-b7d0-b88a63568098",
   "metadata": {},
   "outputs": [
    {
     "data": {
      "text/html": [
       "<div>\n",
       "<style scoped>\n",
       "    .dataframe tbody tr th:only-of-type {\n",
       "        vertical-align: middle;\n",
       "    }\n",
       "\n",
       "    .dataframe tbody tr th {\n",
       "        vertical-align: top;\n",
       "    }\n",
       "\n",
       "    .dataframe thead th {\n",
       "        text-align: right;\n",
       "    }\n",
       "</style>\n",
       "<table border=\"1\" class=\"dataframe\">\n",
       "  <thead>\n",
       "    <tr style=\"text-align: right;\">\n",
       "      <th></th>\n",
       "      <th>emotion_label</th>\n",
       "      <th>actors</th>\n",
       "      <th>gender</th>\n",
       "      <th>path</th>\n",
       "    </tr>\n",
       "  </thead>\n",
       "  <tbody>\n",
       "    <tr>\n",
       "      <th>0</th>\n",
       "      <td>neutral</td>\n",
       "      <td>DC</td>\n",
       "      <td>male</td>\n",
       "      <td>/media/helemanc/OS/Users/i2CAT/Desktop/Dataset...</td>\n",
       "    </tr>\n",
       "    <tr>\n",
       "      <th>1</th>\n",
       "      <td>sadness</td>\n",
       "      <td>KL</td>\n",
       "      <td>male</td>\n",
       "      <td>/media/helemanc/OS/Users/i2CAT/Desktop/Dataset...</td>\n",
       "    </tr>\n",
       "    <tr>\n",
       "      <th>2</th>\n",
       "      <td>sadness</td>\n",
       "      <td>KL</td>\n",
       "      <td>male</td>\n",
       "      <td>/media/helemanc/OS/Users/i2CAT/Desktop/Dataset...</td>\n",
       "    </tr>\n",
       "    <tr>\n",
       "      <th>3</th>\n",
       "      <td>sadness</td>\n",
       "      <td>KL</td>\n",
       "      <td>male</td>\n",
       "      <td>/media/helemanc/OS/Users/i2CAT/Desktop/Dataset...</td>\n",
       "    </tr>\n",
       "    <tr>\n",
       "      <th>4</th>\n",
       "      <td>sadness</td>\n",
       "      <td>KL</td>\n",
       "      <td>male</td>\n",
       "      <td>/media/helemanc/OS/Users/i2CAT/Desktop/Dataset...</td>\n",
       "    </tr>\n",
       "  </tbody>\n",
       "</table>\n",
       "</div>"
      ],
      "text/plain": [
       "  emotion_label actors gender  \\\n",
       "0       neutral     DC   male   \n",
       "1       sadness     KL   male   \n",
       "2       sadness     KL   male   \n",
       "3       sadness     KL   male   \n",
       "4       sadness     KL   male   \n",
       "\n",
       "                                                path  \n",
       "0  /media/helemanc/OS/Users/i2CAT/Desktop/Dataset...  \n",
       "1  /media/helemanc/OS/Users/i2CAT/Desktop/Dataset...  \n",
       "2  /media/helemanc/OS/Users/i2CAT/Desktop/Dataset...  \n",
       "3  /media/helemanc/OS/Users/i2CAT/Desktop/Dataset...  \n",
       "4  /media/helemanc/OS/Users/i2CAT/Desktop/Dataset...  "
      ]
     },
     "execution_count": 84,
     "metadata": {},
     "output_type": "execute_result"
    }
   ],
   "source": [
    "SAVEE_df.head()"
   ]
  },
  {
   "cell_type": "code",
   "execution_count": 85,
   "id": "18a56c39-69c8-4d6e-972c-857676044408",
   "metadata": {},
   "outputs": [],
   "source": [
    "SAVEE_train = []\n",
    "SAVEE_val = []\n",
    "SAVEE_test = []"
   ]
  },
  {
   "cell_type": "code",
   "execution_count": 86,
   "id": "52631bb5-8ed5-4e6b-9ab7-9afcdfb6c9e6",
   "metadata": {},
   "outputs": [
    {
     "data": {
      "text/plain": [
       "(240, 120, 120)"
      ]
     },
     "execution_count": 86,
     "metadata": {},
     "output_type": "execute_result"
    }
   ],
   "source": [
    "#DC, JE, JK, KL\n",
    "for index, row in SAVEE_df.iterrows(): \n",
    "    if row['actors'] == 'DC' or row ['actors'] == 'JE':\n",
    "        SAVEE_train.append(row)\n",
    "    elif row['actors'] == 'JK': \n",
    "        SAVEE_val.append(row)\n",
    "    else: \n",
    "        SAVEE_test.append(row)\n",
    "len(SAVEE_train), len(SAVEE_val), len(SAVEE_test)"
   ]
  },
  {
   "cell_type": "code",
   "execution_count": 87,
   "id": "2a234c45-760d-4835-bf15-798e44dfe54f",
   "metadata": {},
   "outputs": [],
   "source": [
    "SAVEE_train = pd.DataFrame(SAVEE_train)\n",
    "SAVEE_val = pd.DataFrame(SAVEE_val)\n",
    "SAVEE_test = pd.DataFrame(SAVEE_test)"
   ]
  },
  {
   "cell_type": "code",
   "execution_count": 88,
   "id": "c87850f7-622b-4ca3-84d6-65ada3e3a18b",
   "metadata": {},
   "outputs": [],
   "source": [
    "SAVEE_train = SAVEE_train.drop(['actors'], 1)\n",
    "SAVEE_val = SAVEE_val.drop(['actors'], 1)\n",
    "SAVEE_test = SAVEE_test.drop(['actors'], 1)"
   ]
  },
  {
   "cell_type": "code",
   "execution_count": 275,
   "id": "d84ba563-f44e-4137-b3f3-86f1b4968f04",
   "metadata": {},
   "outputs": [],
   "source": [
    "preprocess_path = \"/home/helemanc/Desktop/Binary_Model/pre-processed\"\n",
    "SAVEE_df.to_csv(os.path.join(preprocess_path,\"SAVEE_df.csv\"), index=False)"
   ]
  },
  {
   "cell_type": "markdown",
   "id": "759802b0-e7e5-44a3-90e1-f541ea413342",
   "metadata": {},
   "source": [
    "## TESS"
   ]
  },
  {
   "cell_type": "code",
   "execution_count": 89,
   "id": "a4edf24d-fce6-45d4-911e-a6a18b781126",
   "metadata": {},
   "outputs": [
    {
     "data": {
      "text/plain": [
       "angry       1200\n",
       "fear         800\n",
       "surprise     800\n",
       "sadness      800\n",
       "disgust      800\n",
       "neutral      800\n",
       "happy        400\n",
       "Name: emotion_label, dtype: int64"
      ]
     },
     "execution_count": 89,
     "metadata": {},
     "output_type": "execute_result"
    }
   ],
   "source": [
    "dir_list = os.listdir(TESS)\n",
    "dir_list.sort()\n",
    "dir_list\n",
    "\n",
    "path = []\n",
    "emotion = []\n",
    "gender = []\n",
    "actors = []\n",
    "\n",
    "for i in dir_list:\n",
    "    fname = os.listdir(TESS + i)\n",
    "    for f in fname:\n",
    "        if i == 'OAF_angry':\n",
    "            emotion.append('angry')\n",
    "            gender.append('female')\n",
    "            actors.append('OAF')\n",
    "        elif i == 'YAF_angry': \n",
    "            emotion.append('angry')\n",
    "            gender.append('female')\n",
    "            actors.append('YAF')\n",
    "            \n",
    "            \n",
    "        elif i == 'OAF_disgust' :\n",
    "            emotion.append('disgust')\n",
    "            gender.append('female')\n",
    "            actors.append('OAF')\n",
    "        elif i == 'YAF_disgust': \n",
    "            emotion.append('disgust')\n",
    "            gender.append('female')\n",
    "            actors.append('YAF')\n",
    "            \n",
    "            \n",
    "        elif i == 'OAF_Fear':\n",
    "            emotion.append('fear')\n",
    "            gender.append('female')\n",
    "            actors.append('OAF')\n",
    "        elif i == 'YAF_fear': \n",
    "            emotion.append('fear')\n",
    "            gender.append('female')\n",
    "            actors.append('YAF') \n",
    "            \n",
    "            \n",
    "        elif i == 'OAF_happy' :\n",
    "            emotion.append('happy')\n",
    "            gender.append('female')\n",
    "            actors.append('OAF')\n",
    "        elif i == 'YAF_happy': \n",
    "            emotion.append('angry')\n",
    "            gender.append('female')\n",
    "            actors.append('YAF')            \n",
    "            \n",
    "        elif i == 'OAF_neutral':\n",
    "            emotion.append('neutral')\n",
    "            gender.append('female')\n",
    "            actors.append('OAF')   \n",
    "        elif i == 'YAF_neutral': \n",
    "            emotion.append('neutral')\n",
    "            gender.append('female')\n",
    "            actors.append('YAF')      \n",
    "            \n",
    "                \n",
    "        elif i == 'OAF_Pleasant_surprise':\n",
    "            emotion.append('surprise')\n",
    "            gender.append('female')\n",
    "            actors.append('OAF')\n",
    "        \n",
    "        elif i == 'YAF_pleasant_surprised': \n",
    "            emotion.append('surprise')\n",
    "            gender.append('female')\n",
    "            actors.append('YAF')            \n",
    "            \n",
    "        elif i == 'OAF_Sad':\n",
    "            emotion.append('sadness')\n",
    "            gender.append('female')\n",
    "            actors.append('OAF')\n",
    "        elif i == 'YAF_sad': \n",
    "            emotion.append('sadness')\n",
    "            gender.append('female')\n",
    "            actors.append('YAF')            \n",
    "        else:\n",
    "            emotion.append('Unknown')\n",
    "        path.append(TESS + i + \"/\" + f)\n",
    "\n",
    "TESS_df = pd.DataFrame(emotion, columns = ['emotion_label'])\n",
    "TESS_df = pd.concat([TESS_df, pd.DataFrame(gender, columns = ['gender']), \n",
    "                     pd.DataFrame(actors, columns= ['actors']),\n",
    "                     pd.DataFrame(path, columns = ['path'])],axis=1)\n",
    "TESS_df.emotion_label.value_counts()"
   ]
  },
  {
   "cell_type": "code",
   "execution_count": 90,
   "id": "079e4b60-dd89-4cf5-8476-51b47f097f5d",
   "metadata": {},
   "outputs": [],
   "source": [
    "TESS_df= TESS_df[~TESS_df.path.str.contains('noise')]"
   ]
  },
  {
   "cell_type": "code",
   "execution_count": 91,
   "id": "490a32e9-f25d-4961-8774-be88dc190e52",
   "metadata": {},
   "outputs": [],
   "source": [
    "TESS_train = []\n",
    "TESS_test = []"
   ]
  },
  {
   "cell_type": "code",
   "execution_count": 92,
   "id": "2f99520d-0e7c-4baf-bd0b-7d66947ee713",
   "metadata": {},
   "outputs": [
    {
     "data": {
      "text/plain": [
       "(1400, 1400)"
      ]
     },
     "execution_count": 92,
     "metadata": {},
     "output_type": "execute_result"
    }
   ],
   "source": [
    "for index, row in TESS_df.iterrows(): \n",
    "    if row['actors'] == 'YAF': \n",
    "        TESS_train.append(row)\n",
    "    else: \n",
    "        TESS_test.append(row)\n",
    "len(TESS_train), len(TESS_test)"
   ]
  },
  {
   "cell_type": "code",
   "execution_count": 93,
   "id": "d581f86c-a7dc-4368-907c-9ad676d3791d",
   "metadata": {},
   "outputs": [],
   "source": [
    "TESS_train = pd.DataFrame(TESS_train)\n",
    "TESS_test = pd.DataFrame(TESS_test)"
   ]
  },
  {
   "cell_type": "code",
   "execution_count": 125,
   "id": "08f649cb-cda1-458a-ac49-014720716a91",
   "metadata": {},
   "outputs": [],
   "source": [
    "TESS_train = TESS_train.drop(['actors'], 1)\n",
    "TESS_test = TESS_test.drop(['actors'], 1)"
   ]
  },
  {
   "cell_type": "code",
   "execution_count": 276,
   "id": "a0fdfc91-9bed-43cb-92dd-51890d6a4819",
   "metadata": {},
   "outputs": [],
   "source": [
    "preprocess_path = \"/home/helemanc/Desktop/Binary_Model/pre-processed\"\n",
    "TESS_df.to_csv(os.path.join(preprocess_path,\"TESS_df.csv\"), index=False)"
   ]
  },
  {
   "cell_type": "markdown",
   "id": "f1a34260-3d37-4b72-91d3-da6e74ad69c8",
   "metadata": {},
   "source": [
    "## CREMA-D"
   ]
  },
  {
   "cell_type": "code",
   "execution_count": 94,
   "id": "c278ccbe-29f3-4a25-ae60-2d4072808b28",
   "metadata": {},
   "outputs": [],
   "source": [
    "males = [1,\n",
    "5,\n",
    "11,\n",
    "14,\n",
    "15,\n",
    "16,\n",
    "17,\n",
    "19,\n",
    "22,\n",
    "23,\n",
    "26,\n",
    "27,\n",
    "31,\n",
    "32,\n",
    "33,\n",
    "34,\n",
    "35,\n",
    "36,\n",
    "38,\n",
    "39,\n",
    "41,\n",
    "42,\n",
    "44,\n",
    "45,\n",
    "48,\n",
    "50,\n",
    "51,\n",
    "57,\n",
    "59, \n",
    "62, \n",
    "64,\n",
    "65, \n",
    "66,\n",
    "67,\n",
    "68,\n",
    "69,\n",
    "70,\n",
    "71,\n",
    "77, \n",
    "80, \n",
    "81, \n",
    "83, \n",
    "85, \n",
    "86, \n",
    "87,\n",
    "88, \n",
    "90]"
   ]
  },
  {
   "cell_type": "code",
   "execution_count": 95,
   "id": "5fe22024-dd8e-4ae6-a851-cc5076b1514c",
   "metadata": {},
   "outputs": [],
   "source": [
    "females = [ 2,\n",
    "3,\n",
    "4,\n",
    "6,\n",
    "7,\n",
    "8,\n",
    "9,\n",
    "10,\n",
    "12,\n",
    "13,\n",
    "18,\n",
    "20,\n",
    "21,\n",
    "24,\n",
    "25,\n",
    "28,\n",
    "29,\n",
    "30,\n",
    "37,\n",
    "40,\n",
    "43,\n",
    "46,\n",
    "47,\n",
    "49,\n",
    "52,\n",
    "53,\n",
    "54,\n",
    "55,\n",
    "56, \n",
    "58, \n",
    "60,\n",
    "61,\n",
    "63,\n",
    "72, \n",
    "73, \n",
    "74, \n",
    "75, \n",
    "76, \n",
    "78, \n",
    "79, \n",
    "82, \n",
    "84, \n",
    "89, \n",
    "91]"
   ]
  },
  {
   "cell_type": "code",
   "execution_count": 96,
   "id": "d7c6d4e1-162c-4844-9013-0cee6ab409ca",
   "metadata": {},
   "outputs": [
    {
     "data": {
      "text/html": [
       "<div>\n",
       "<style scoped>\n",
       "    .dataframe tbody tr th:only-of-type {\n",
       "        vertical-align: middle;\n",
       "    }\n",
       "\n",
       "    .dataframe tbody tr th {\n",
       "        vertical-align: top;\n",
       "    }\n",
       "\n",
       "    .dataframe thead th {\n",
       "        text-align: right;\n",
       "    }\n",
       "</style>\n",
       "<table border=\"1\" class=\"dataframe\">\n",
       "  <thead>\n",
       "    <tr style=\"text-align: right;\">\n",
       "      <th></th>\n",
       "      <th>emotion_label</th>\n",
       "      <th>actors</th>\n",
       "      <th>gender</th>\n",
       "      <th>path</th>\n",
       "    </tr>\n",
       "  </thead>\n",
       "  <tbody>\n",
       "    <tr>\n",
       "      <th>0</th>\n",
       "      <td>happy</td>\n",
       "      <td>91</td>\n",
       "      <td>female</td>\n",
       "      <td>/media/helemanc/OS/Users/i2CAT/Desktop/Dataset...</td>\n",
       "    </tr>\n",
       "    <tr>\n",
       "      <th>1</th>\n",
       "      <td>sadness</td>\n",
       "      <td>91</td>\n",
       "      <td>female</td>\n",
       "      <td>/media/helemanc/OS/Users/i2CAT/Desktop/Dataset...</td>\n",
       "    </tr>\n",
       "    <tr>\n",
       "      <th>2</th>\n",
       "      <td>angry</td>\n",
       "      <td>91</td>\n",
       "      <td>female</td>\n",
       "      <td>/media/helemanc/OS/Users/i2CAT/Desktop/Dataset...</td>\n",
       "    </tr>\n",
       "    <tr>\n",
       "      <th>3</th>\n",
       "      <td>disgust</td>\n",
       "      <td>91</td>\n",
       "      <td>female</td>\n",
       "      <td>/media/helemanc/OS/Users/i2CAT/Desktop/Dataset...</td>\n",
       "    </tr>\n",
       "    <tr>\n",
       "      <th>4</th>\n",
       "      <td>fear</td>\n",
       "      <td>91</td>\n",
       "      <td>female</td>\n",
       "      <td>/media/helemanc/OS/Users/i2CAT/Desktop/Dataset...</td>\n",
       "    </tr>\n",
       "  </tbody>\n",
       "</table>\n",
       "</div>"
      ],
      "text/plain": [
       "  emotion_label actors  gender  \\\n",
       "0         happy     91  female   \n",
       "1       sadness     91  female   \n",
       "2         angry     91  female   \n",
       "3       disgust     91  female   \n",
       "4          fear     91  female   \n",
       "\n",
       "                                                path  \n",
       "0  /media/helemanc/OS/Users/i2CAT/Desktop/Dataset...  \n",
       "1  /media/helemanc/OS/Users/i2CAT/Desktop/Dataset...  \n",
       "2  /media/helemanc/OS/Users/i2CAT/Desktop/Dataset...  \n",
       "3  /media/helemanc/OS/Users/i2CAT/Desktop/Dataset...  \n",
       "4  /media/helemanc/OS/Users/i2CAT/Desktop/Dataset...  "
      ]
     },
     "execution_count": 96,
     "metadata": {},
     "output_type": "execute_result"
    }
   ],
   "source": [
    "crema_directory_list = os.listdir(CREMA)\n",
    "\n",
    "file_emotion = []\n",
    "file_path = []\n",
    "actors = []\n",
    "gender = []\n",
    "\n",
    "\n",
    "\n",
    "\n",
    "for file in crema_directory_list:\n",
    "\n",
    "    # storing file emotions\n",
    "    part=file.split('_')\n",
    "    \n",
    "    # use only high intensity files\n",
    "    if \"HI\" in part[3] :\n",
    "        actor = part[0][2:]\n",
    "        actors.append(actor)\n",
    "        if int(actor) in males:\n",
    "            gender.append('male')\n",
    "        else: \n",
    "            gender.append('female')\n",
    "    \n",
    "        # storing file paths\n",
    "        file_path.append(CREMA + file)\n",
    "        if part[2] == 'SAD':\n",
    "            file_emotion.append('sadness')\n",
    "        elif part[2] == 'ANG':\n",
    "            file_emotion.append('angry')\n",
    "        elif part[2] == 'DIS':\n",
    "            file_emotion.append('disgust')\n",
    "        elif part[2] == 'FEA':\n",
    "            file_emotion.append('fear')\n",
    "        elif part[2] == 'HAP':\n",
    "            file_emotion.append('happy')\n",
    "        elif part[2] == 'NEU':\n",
    "            file_emotion.append('neutral')\n",
    "        else:\n",
    "            file_emotion.append('Unknown')\n",
    "\n",
    "# dataframe for emotion of files\n",
    "emotion_df = pd.DataFrame(file_emotion, columns=['emotion_label'])\n",
    "\n",
    "# dataframe for path of files.\n",
    "path_df = pd.DataFrame(file_path, columns=['path'])\n",
    "actors_df = pd.DataFrame(actors, columns=['actors'])\n",
    "gender_df = pd.DataFrame(gender, columns=['gender'])                      \n",
    "Crema_df = pd.concat([emotion_df, actors_df, gender_df, path_df], axis=1)\n",
    "Crema_df.head()"
   ]
  },
  {
   "cell_type": "code",
   "execution_count": 97,
   "id": "0122d892-010d-456e-b704-7cb17290ddca",
   "metadata": {},
   "outputs": [
    {
     "data": {
      "text/plain": [
       "(455, 4)"
      ]
     },
     "execution_count": 97,
     "metadata": {},
     "output_type": "execute_result"
    }
   ],
   "source": [
    "Crema_df.shape"
   ]
  },
  {
   "cell_type": "code",
   "execution_count": 98,
   "id": "a35d80c0-46ba-49fe-bdf7-ad9c5fcb4d5a",
   "metadata": {},
   "outputs": [],
   "source": [
    "actor_files = {}\n",
    "\n",
    "for index, row in Crema_df.iterrows():\n",
    "    actor = row['actors']\n",
    "    if actor not in actor_files.keys(): \n",
    "        actor_files[actor] = 1\n",
    "    else: \n",
    "        actor_files[actor]+=1"
   ]
  },
  {
   "cell_type": "code",
   "execution_count": 99,
   "id": "9a9faa1e-2d75-4a4f-a89e-cedeb9e1143b",
   "metadata": {},
   "outputs": [
    {
     "data": {
      "text/plain": [
       "{'91': 5,\n",
       " '90': 5,\n",
       " '89': 5,\n",
       " '88': 5,\n",
       " '87': 5,\n",
       " '86': 5,\n",
       " '85': 5,\n",
       " '84': 5,\n",
       " '83': 5,\n",
       " '82': 5,\n",
       " '81': 5,\n",
       " '80': 5,\n",
       " '79': 5,\n",
       " '78': 5,\n",
       " '77': 5,\n",
       " '76': 5,\n",
       " '75': 5,\n",
       " '74': 5,\n",
       " '73': 5,\n",
       " '72': 5,\n",
       " '71': 5,\n",
       " '70': 5,\n",
       " '69': 5,\n",
       " '68': 5,\n",
       " '67': 5,\n",
       " '66': 5,\n",
       " '65': 5,\n",
       " '64': 5,\n",
       " '63': 5,\n",
       " '62': 5,\n",
       " '61': 5,\n",
       " '60': 5,\n",
       " '59': 5,\n",
       " '58': 5,\n",
       " '57': 5,\n",
       " '56': 5,\n",
       " '55': 5,\n",
       " '54': 5,\n",
       " '53': 5,\n",
       " '52': 5,\n",
       " '51': 5,\n",
       " '50': 5,\n",
       " '49': 5,\n",
       " '48': 5,\n",
       " '47': 5,\n",
       " '46': 5,\n",
       " '45': 5,\n",
       " '44': 5,\n",
       " '43': 5,\n",
       " '42': 5,\n",
       " '41': 5,\n",
       " '40': 5,\n",
       " '39': 5,\n",
       " '38': 5,\n",
       " '37': 5,\n",
       " '36': 5,\n",
       " '35': 5,\n",
       " '34': 5,\n",
       " '33': 5,\n",
       " '32': 5,\n",
       " '31': 5,\n",
       " '30': 5,\n",
       " '29': 5,\n",
       " '28': 5,\n",
       " '27': 5,\n",
       " '26': 5,\n",
       " '25': 5,\n",
       " '24': 5,\n",
       " '23': 5,\n",
       " '22': 5,\n",
       " '21': 5,\n",
       " '20': 5,\n",
       " '19': 5,\n",
       " '18': 5,\n",
       " '17': 5,\n",
       " '16': 5,\n",
       " '15': 5,\n",
       " '14': 5,\n",
       " '13': 5,\n",
       " '12': 5,\n",
       " '11': 5,\n",
       " '10': 5,\n",
       " '09': 5,\n",
       " '08': 5,\n",
       " '07': 5,\n",
       " '06': 5,\n",
       " '05': 5,\n",
       " '04': 5,\n",
       " '03': 5,\n",
       " '02': 5,\n",
       " '01': 5}"
      ]
     },
     "execution_count": 99,
     "metadata": {},
     "output_type": "execute_result"
    }
   ],
   "source": [
    "actor_files"
   ]
  },
  {
   "cell_type": "code",
   "execution_count": 100,
   "id": "e0efa543-56b3-45b9-8c14-2d175fc92ca6",
   "metadata": {},
   "outputs": [],
   "source": [
    "count_males = 0 \n",
    "count_females = 0 \n",
    "male_list = []\n",
    "for index, row in Crema_df.iterrows(): \n",
    "    gender = row['gender']\n",
    "    actor = row['actors']\n",
    "    if gender == 'male':\n",
    "        count_males +=1\n",
    "        if actor not in male_list: \n",
    "            male_list.append(actor)\n",
    "    else: \n",
    "        count_females +=1"
   ]
  },
  {
   "cell_type": "code",
   "execution_count": 101,
   "id": "0bf67ef1-f4f2-421e-9824-0d8a88d3768b",
   "metadata": {},
   "outputs": [
    {
     "data": {
      "text/plain": [
       "(235, 220)"
      ]
     },
     "execution_count": 101,
     "metadata": {},
     "output_type": "execute_result"
    }
   ],
   "source": [
    "count_males, count_females"
   ]
  },
  {
   "cell_type": "markdown",
   "id": "176d7ef8-70bd-477d-9af3-5285312feac1",
   "metadata": {},
   "source": [
    "Since there are more males than females we will remove randomly 3 male actors (since there are exactly 5 audio files per actor)"
   ]
  },
  {
   "cell_type": "code",
   "execution_count": 102,
   "id": "5dc278a5-d425-4446-a5a5-5664a8d98f1b",
   "metadata": {},
   "outputs": [
    {
     "data": {
      "text/plain": [
       "['17', '80', '88']"
      ]
     },
     "execution_count": 102,
     "metadata": {},
     "output_type": "execute_result"
    }
   ],
   "source": [
    "import random \n",
    "random.seed(42)\n",
    "males_to_remove = random.sample(male_list, 3)\n",
    "males_to_remove"
   ]
  },
  {
   "cell_type": "code",
   "execution_count": 103,
   "id": "271180cc-fdd6-4297-b38f-1f65a472be21",
   "metadata": {},
   "outputs": [],
   "source": [
    "new_df = []\n",
    "for index, row in Crema_df.iterrows(): \n",
    "    if row['actors'] not in males_to_remove: \n",
    "        new_df.append(row)"
   ]
  },
  {
   "cell_type": "code",
   "execution_count": 104,
   "id": "11875f50-58b7-415a-9f02-4487c3597970",
   "metadata": {},
   "outputs": [],
   "source": [
    "CREMA_df = pd.DataFrame(new_df)"
   ]
  },
  {
   "cell_type": "code",
   "execution_count": 105,
   "id": "f2186345-a1d1-46e8-b113-b20c83fc2bd9",
   "metadata": {},
   "outputs": [],
   "source": [
    "for index, row in CREMA_df.iterrows(): \n",
    "    if row['actors'] == '17': \n",
    "        print(\"Elements not removed\")"
   ]
  },
  {
   "cell_type": "code",
   "execution_count": 106,
   "id": "990f0680-28fb-41c3-8a98-2e68d1aae695",
   "metadata": {},
   "outputs": [],
   "source": [
    "count_males = 0 \n",
    "count_females = 0 \n",
    "male_list = []\n",
    "female_list = []\n",
    "for index, row in CREMA_df.iterrows(): \n",
    "    gender = row['gender']\n",
    "    actor = row['actors']\n",
    "    if gender == 'male':\n",
    "        count_males +=1\n",
    "        if actor not in male_list: \n",
    "            male_list.append(actor)\n",
    "    else: \n",
    "        count_females +=1\n",
    "        if actor not in female_list: \n",
    "            female_list.append(actor)"
   ]
  },
  {
   "cell_type": "code",
   "execution_count": 107,
   "id": "3d8a244f-256b-4852-9c7a-788726947683",
   "metadata": {},
   "outputs": [
    {
     "data": {
      "text/plain": [
       "(220, 220)"
      ]
     },
     "execution_count": 107,
     "metadata": {},
     "output_type": "execute_result"
    }
   ],
   "source": [
    "count_males, count_females"
   ]
  },
  {
   "cell_type": "code",
   "execution_count": 108,
   "id": "b78e218b-347b-41da-a2c1-6623c2991427",
   "metadata": {},
   "outputs": [
    {
     "data": {
      "text/plain": [
       "44"
      ]
     },
     "execution_count": 108,
     "metadata": {},
     "output_type": "execute_result"
    }
   ],
   "source": [
    "len(female_list)"
   ]
  },
  {
   "cell_type": "code",
   "execution_count": 109,
   "id": "46f64d61-bc9f-45d9-87a8-7cdfc2a03748",
   "metadata": {},
   "outputs": [
    {
     "data": {
      "text/plain": [
       "44"
      ]
     },
     "execution_count": 109,
     "metadata": {},
     "output_type": "execute_result"
    }
   ],
   "source": [
    "len(male_list)"
   ]
  },
  {
   "cell_type": "code",
   "execution_count": 110,
   "id": "abb78dc0-afdf-4a64-a272-fdf19211d608",
   "metadata": {},
   "outputs": [],
   "source": [
    "CREMA_train = []\n",
    "CREMA_val = []\n",
    "CREMA_test = []"
   ]
  },
  {
   "cell_type": "code",
   "execution_count": 111,
   "id": "dcdaeb9b-4f67-4073-8a7a-cd0125f547d1",
   "metadata": {},
   "outputs": [],
   "source": [
    "females_train = random.sample(female_list, 32)\n",
    "males_train = random.sample(male_list, 32)\n",
    "\n",
    "# remove the elements assigned to train \n",
    "for element in females_train:\n",
    "    if element in female_list:\n",
    "        female_list.remove(element)\n",
    "        \n",
    "for element in males_train:\n",
    "    if element in male_list:\n",
    "        male_list.remove(element)\n",
    "\n",
    "         \n",
    "females_val = random.sample(female_list, 6) \n",
    "males_val = random.sample(male_list, 6) \n",
    "\n",
    "# remove the elements assigned to val\n",
    "for element in females_val:\n",
    "    if element in female_list:\n",
    "        female_list.remove(element)\n",
    "        \n",
    "for element in males_val:\n",
    "    if element in male_list:\n",
    "        male_list.remove(element)\n",
    "        \n",
    "females_test = random.sample(female_list, 6) \n",
    "males_test = random.sample(male_list, 6)        "
   ]
  },
  {
   "cell_type": "code",
   "execution_count": 112,
   "id": "7a138ab6-0296-4331-88b6-7725c56d30fe",
   "metadata": {},
   "outputs": [
    {
     "data": {
      "text/plain": [
       "(['54',\n",
       "  '56',\n",
       "  '58',\n",
       "  '74',\n",
       "  '76',\n",
       "  '13',\n",
       "  '78',\n",
       "  '29',\n",
       "  '84',\n",
       "  '89',\n",
       "  '09',\n",
       "  '60',\n",
       "  '04',\n",
       "  '55',\n",
       "  '52',\n",
       "  '91',\n",
       "  '02',\n",
       "  '07',\n",
       "  '46',\n",
       "  '49',\n",
       "  '37',\n",
       "  '10',\n",
       "  '20',\n",
       "  '75',\n",
       "  '21',\n",
       "  '53',\n",
       "  '06',\n",
       "  '28',\n",
       "  '18',\n",
       "  '63',\n",
       "  '30',\n",
       "  '03'],\n",
       " ['57',\n",
       "  '69',\n",
       "  '65',\n",
       "  '45',\n",
       "  '77',\n",
       "  '81',\n",
       "  '41',\n",
       "  '15',\n",
       "  '44',\n",
       "  '23',\n",
       "  '59',\n",
       "  '86',\n",
       "  '34',\n",
       "  '01',\n",
       "  '85',\n",
       "  '66',\n",
       "  '31',\n",
       "  '33',\n",
       "  '05',\n",
       "  '48',\n",
       "  '50',\n",
       "  '67',\n",
       "  '51',\n",
       "  '22',\n",
       "  '36',\n",
       "  '87',\n",
       "  '71',\n",
       "  '39',\n",
       "  '42',\n",
       "  '11',\n",
       "  '32',\n",
       "  '14'],\n",
       " ['43', '61', '40', '47', '73', '24'],\n",
       " ['62', '68', '64', '83', '70', '26'],\n",
       " ['08', '79', '12', '25', '72', '82'],\n",
       " ['16', '19', '38', '35', '27', '90'])"
      ]
     },
     "execution_count": 112,
     "metadata": {},
     "output_type": "execute_result"
    }
   ],
   "source": [
    "females_train, males_train, females_val, males_val, females_test, males_test"
   ]
  },
  {
   "cell_type": "code",
   "execution_count": 113,
   "id": "4aadff67-f46b-4382-9942-326aa20fa71b",
   "metadata": {},
   "outputs": [],
   "source": [
    "train = females_train + males_train \n",
    "val = females_val + males_val \n",
    "test = females_test + males_test"
   ]
  },
  {
   "cell_type": "code",
   "execution_count": 114,
   "id": "85b0445b-f235-4181-b24e-6c6b44ecb04a",
   "metadata": {},
   "outputs": [],
   "source": [
    "for index, row in CREMA_df.iterrows(): \n",
    "    gender = row['gender']\n",
    "    actor = row['actors']\n",
    "    if actor in train: \n",
    "        CREMA_train.append(row)\n",
    "    elif actor in val: \n",
    "        CREMA_val.append(row)\n",
    "    else:\n",
    "        CREMA_test.append(row)"
   ]
  },
  {
   "cell_type": "code",
   "execution_count": 115,
   "id": "de6f7300-4f3d-4f2c-b6f2-bbfde7c04539",
   "metadata": {},
   "outputs": [],
   "source": [
    "CREMA_train = pd.DataFrame(CREMA_train) \n",
    "CREMA_val = pd.DataFrame(CREMA_val) \n",
    "CREMA_test = pd.DataFrame(CREMA_test)"
   ]
  },
  {
   "cell_type": "code",
   "execution_count": 116,
   "id": "428a52ee-ea05-4bda-bb27-de27832b87b6",
   "metadata": {},
   "outputs": [
    {
     "data": {
      "text/plain": [
       "((320, 4), (60, 4), (60, 4))"
      ]
     },
     "execution_count": 116,
     "metadata": {},
     "output_type": "execute_result"
    }
   ],
   "source": [
    "CREMA_train.shape, CREMA_val.shape, CREMA_test.shape"
   ]
  },
  {
   "cell_type": "code",
   "execution_count": 117,
   "id": "e07664b0-eb47-4082-8506-e65ed988e051",
   "metadata": {},
   "outputs": [
    {
     "data": {
      "text/html": [
       "<div>\n",
       "<style scoped>\n",
       "    .dataframe tbody tr th:only-of-type {\n",
       "        vertical-align: middle;\n",
       "    }\n",
       "\n",
       "    .dataframe tbody tr th {\n",
       "        vertical-align: top;\n",
       "    }\n",
       "\n",
       "    .dataframe thead th {\n",
       "        text-align: right;\n",
       "    }\n",
       "</style>\n",
       "<table border=\"1\" class=\"dataframe\">\n",
       "  <thead>\n",
       "    <tr style=\"text-align: right;\">\n",
       "      <th></th>\n",
       "      <th>emotion_label</th>\n",
       "      <th>actors</th>\n",
       "      <th>gender</th>\n",
       "      <th>path</th>\n",
       "    </tr>\n",
       "  </thead>\n",
       "  <tbody>\n",
       "    <tr>\n",
       "      <th>0</th>\n",
       "      <td>happy</td>\n",
       "      <td>91</td>\n",
       "      <td>female</td>\n",
       "      <td>/media/helemanc/OS/Users/i2CAT/Desktop/Dataset...</td>\n",
       "    </tr>\n",
       "    <tr>\n",
       "      <th>1</th>\n",
       "      <td>sadness</td>\n",
       "      <td>91</td>\n",
       "      <td>female</td>\n",
       "      <td>/media/helemanc/OS/Users/i2CAT/Desktop/Dataset...</td>\n",
       "    </tr>\n",
       "    <tr>\n",
       "      <th>2</th>\n",
       "      <td>angry</td>\n",
       "      <td>91</td>\n",
       "      <td>female</td>\n",
       "      <td>/media/helemanc/OS/Users/i2CAT/Desktop/Dataset...</td>\n",
       "    </tr>\n",
       "    <tr>\n",
       "      <th>3</th>\n",
       "      <td>disgust</td>\n",
       "      <td>91</td>\n",
       "      <td>female</td>\n",
       "      <td>/media/helemanc/OS/Users/i2CAT/Desktop/Dataset...</td>\n",
       "    </tr>\n",
       "    <tr>\n",
       "      <th>4</th>\n",
       "      <td>fear</td>\n",
       "      <td>91</td>\n",
       "      <td>female</td>\n",
       "      <td>/media/helemanc/OS/Users/i2CAT/Desktop/Dataset...</td>\n",
       "    </tr>\n",
       "  </tbody>\n",
       "</table>\n",
       "</div>"
      ],
      "text/plain": [
       "  emotion_label actors  gender  \\\n",
       "0         happy     91  female   \n",
       "1       sadness     91  female   \n",
       "2         angry     91  female   \n",
       "3       disgust     91  female   \n",
       "4          fear     91  female   \n",
       "\n",
       "                                                path  \n",
       "0  /media/helemanc/OS/Users/i2CAT/Desktop/Dataset...  \n",
       "1  /media/helemanc/OS/Users/i2CAT/Desktop/Dataset...  \n",
       "2  /media/helemanc/OS/Users/i2CAT/Desktop/Dataset...  \n",
       "3  /media/helemanc/OS/Users/i2CAT/Desktop/Dataset...  \n",
       "4  /media/helemanc/OS/Users/i2CAT/Desktop/Dataset...  "
      ]
     },
     "execution_count": 117,
     "metadata": {},
     "output_type": "execute_result"
    }
   ],
   "source": [
    "CREMA_train.head()"
   ]
  },
  {
   "cell_type": "code",
   "execution_count": 118,
   "id": "a67f7964-bbd3-4784-ab89-391eccff9880",
   "metadata": {},
   "outputs": [],
   "source": [
    "CREMA_train = CREMA_train.drop(['actors'], 1)\n",
    "CREMA_val = CREMA_val.drop(['actors'], 1)\n",
    "CREMA_test = CREMA_test.drop(['actors'], 1)"
   ]
  },
  {
   "cell_type": "code",
   "execution_count": null,
   "id": "5343c444-ad15-4740-8a25-38be26540d3d",
   "metadata": {},
   "outputs": [],
   "source": [
    "preprocess_path = \"/home/helemanc/Desktop/Binary_Model/pre-processed\"\n",
    "CRE_df.to_csv(os.path.join(preprocess_path,\"RAV_df.csv\"), index=False)"
   ]
  },
  {
   "cell_type": "markdown",
   "id": "a92c0e1f-8890-4b16-9acf-227edd454138",
   "metadata": {},
   "source": [
    "## Combine datasets"
   ]
  },
  {
   "cell_type": "code",
   "execution_count": 126,
   "id": "584ee7d6-c415-4561-b0f2-c31ed11e42e4",
   "metadata": {},
   "outputs": [],
   "source": [
    "df_train = pd.concat([RAV_train, SAVEE_train, TESS_train, CREMA_train])"
   ]
  },
  {
   "cell_type": "code",
   "execution_count": 127,
   "id": "d73fe52a-ef03-4689-b0bd-40e3536e000e",
   "metadata": {},
   "outputs": [],
   "source": [
    "df_val = pd.concat([RAV_val, SAVEE_val, CREMA_val])"
   ]
  },
  {
   "cell_type": "code",
   "execution_count": 128,
   "id": "aec09c14-398b-4312-ab57-150f6f0b042c",
   "metadata": {},
   "outputs": [],
   "source": [
    "df_test = pd.concat([RAV_test, SAVEE_test, TESS_test, CREMA_test])"
   ]
  },
  {
   "cell_type": "code",
   "execution_count": 129,
   "id": "ca111c60-2bb6-4fea-9875-d0d60ef1d90b",
   "metadata": {
    "tags": []
   },
   "outputs": [
    {
     "data": {
      "text/plain": [
       "((3160, 3), (300, 3), (1700, 3))"
      ]
     },
     "execution_count": 129,
     "metadata": {},
     "output_type": "execute_result"
    }
   ],
   "source": [
    "df_train.shape, df_val.shape, df_test.shape"
   ]
  },
  {
   "cell_type": "code",
   "execution_count": 130,
   "id": "ff5478d6-bfdd-47d7-8d58-ad73410ab40a",
   "metadata": {},
   "outputs": [
    {
     "data": {
      "text/html": [
       "<div>\n",
       "<style scoped>\n",
       "    .dataframe tbody tr th:only-of-type {\n",
       "        vertical-align: middle;\n",
       "    }\n",
       "\n",
       "    .dataframe tbody tr th {\n",
       "        vertical-align: top;\n",
       "    }\n",
       "\n",
       "    .dataframe thead th {\n",
       "        text-align: right;\n",
       "    }\n",
       "</style>\n",
       "<table border=\"1\" class=\"dataframe\">\n",
       "  <thead>\n",
       "    <tr style=\"text-align: right;\">\n",
       "      <th></th>\n",
       "      <th>emotion_label</th>\n",
       "      <th>gender</th>\n",
       "      <th>path</th>\n",
       "    </tr>\n",
       "  </thead>\n",
       "  <tbody>\n",
       "    <tr>\n",
       "      <th>412</th>\n",
       "      <td>fear</td>\n",
       "      <td>female</td>\n",
       "      <td>/media/helemanc/OS/Users/i2CAT/Desktop/Dataset...</td>\n",
       "    </tr>\n",
       "    <tr>\n",
       "      <th>413</th>\n",
       "      <td>happy</td>\n",
       "      <td>female</td>\n",
       "      <td>/media/helemanc/OS/Users/i2CAT/Desktop/Dataset...</td>\n",
       "    </tr>\n",
       "    <tr>\n",
       "      <th>414</th>\n",
       "      <td>sadness</td>\n",
       "      <td>female</td>\n",
       "      <td>/media/helemanc/OS/Users/i2CAT/Desktop/Dataset...</td>\n",
       "    </tr>\n",
       "    <tr>\n",
       "      <th>415</th>\n",
       "      <td>angry</td>\n",
       "      <td>female</td>\n",
       "      <td>/media/helemanc/OS/Users/i2CAT/Desktop/Dataset...</td>\n",
       "    </tr>\n",
       "    <tr>\n",
       "      <th>416</th>\n",
       "      <td>disgust</td>\n",
       "      <td>female</td>\n",
       "      <td>/media/helemanc/OS/Users/i2CAT/Desktop/Dataset...</td>\n",
       "    </tr>\n",
       "  </tbody>\n",
       "</table>\n",
       "</div>"
      ],
      "text/plain": [
       "    emotion_label  gender                                               path\n",
       "412          fear  female  /media/helemanc/OS/Users/i2CAT/Desktop/Dataset...\n",
       "413         happy  female  /media/helemanc/OS/Users/i2CAT/Desktop/Dataset...\n",
       "414       sadness  female  /media/helemanc/OS/Users/i2CAT/Desktop/Dataset...\n",
       "415         angry  female  /media/helemanc/OS/Users/i2CAT/Desktop/Dataset...\n",
       "416       disgust  female  /media/helemanc/OS/Users/i2CAT/Desktop/Dataset..."
      ]
     },
     "execution_count": 130,
     "metadata": {},
     "output_type": "execute_result"
    }
   ],
   "source": [
    "df_test.tail()"
   ]
  },
  {
   "cell_type": "markdown",
   "id": "1ec593c9-6934-4dda-a4ef-efdf94e5d695",
   "metadata": {
    "tags": []
   },
   "source": [
    "# Exploratory Data Analysis \n",
    "\n",
    "We will do the EDA on all files, not only on the training set, so we are going to concatenate the datasets."
   ]
  },
  {
   "cell_type": "code",
   "execution_count": 166,
   "id": "692f0b19-797f-4968-a7b5-4ddaedcfaf21",
   "metadata": {},
   "outputs": [],
   "source": [
    "df = pd.concat([CREMA_df, RAV_df, SAVEE_df, TESS_df])"
   ]
  },
  {
   "cell_type": "code",
   "execution_count": 167,
   "id": "d0a3280e-b276-49d2-a359-57b02ccbd699",
   "metadata": {},
   "outputs": [
    {
     "data": {
      "text/html": [
       "<div>\n",
       "<style scoped>\n",
       "    .dataframe tbody tr th:only-of-type {\n",
       "        vertical-align: middle;\n",
       "    }\n",
       "\n",
       "    .dataframe tbody tr th {\n",
       "        vertical-align: top;\n",
       "    }\n",
       "\n",
       "    .dataframe thead th {\n",
       "        text-align: right;\n",
       "    }\n",
       "</style>\n",
       "<table border=\"1\" class=\"dataframe\">\n",
       "  <thead>\n",
       "    <tr style=\"text-align: right;\">\n",
       "      <th></th>\n",
       "      <th>emotion_label</th>\n",
       "      <th>actors</th>\n",
       "      <th>gender</th>\n",
       "      <th>path</th>\n",
       "    </tr>\n",
       "  </thead>\n",
       "  <tbody>\n",
       "    <tr>\n",
       "      <th>5577</th>\n",
       "      <td>sadness</td>\n",
       "      <td>YAF</td>\n",
       "      <td>female</td>\n",
       "      <td>/media/helemanc/OS/Users/i2CAT/Desktop/Dataset...</td>\n",
       "    </tr>\n",
       "    <tr>\n",
       "      <th>5579</th>\n",
       "      <td>sadness</td>\n",
       "      <td>YAF</td>\n",
       "      <td>female</td>\n",
       "      <td>/media/helemanc/OS/Users/i2CAT/Desktop/Dataset...</td>\n",
       "    </tr>\n",
       "    <tr>\n",
       "      <th>5581</th>\n",
       "      <td>sadness</td>\n",
       "      <td>YAF</td>\n",
       "      <td>female</td>\n",
       "      <td>/media/helemanc/OS/Users/i2CAT/Desktop/Dataset...</td>\n",
       "    </tr>\n",
       "    <tr>\n",
       "      <th>5583</th>\n",
       "      <td>sadness</td>\n",
       "      <td>YAF</td>\n",
       "      <td>female</td>\n",
       "      <td>/media/helemanc/OS/Users/i2CAT/Desktop/Dataset...</td>\n",
       "    </tr>\n",
       "    <tr>\n",
       "      <th>5585</th>\n",
       "      <td>sadness</td>\n",
       "      <td>YAF</td>\n",
       "      <td>female</td>\n",
       "      <td>/media/helemanc/OS/Users/i2CAT/Desktop/Dataset...</td>\n",
       "    </tr>\n",
       "  </tbody>\n",
       "</table>\n",
       "</div>"
      ],
      "text/plain": [
       "     emotion_label actors  gender  \\\n",
       "5577       sadness    YAF  female   \n",
       "5579       sadness    YAF  female   \n",
       "5581       sadness    YAF  female   \n",
       "5583       sadness    YAF  female   \n",
       "5585       sadness    YAF  female   \n",
       "\n",
       "                                                   path  \n",
       "5577  /media/helemanc/OS/Users/i2CAT/Desktop/Dataset...  \n",
       "5579  /media/helemanc/OS/Users/i2CAT/Desktop/Dataset...  \n",
       "5581  /media/helemanc/OS/Users/i2CAT/Desktop/Dataset...  \n",
       "5583  /media/helemanc/OS/Users/i2CAT/Desktop/Dataset...  \n",
       "5585  /media/helemanc/OS/Users/i2CAT/Desktop/Dataset...  "
      ]
     },
     "execution_count": 167,
     "metadata": {},
     "output_type": "execute_result"
    }
   ],
   "source": [
    "df.tail()"
   ]
  },
  {
   "cell_type": "markdown",
   "id": "fff793ef-10b1-4d53-9602-a415865373d4",
   "metadata": {},
   "source": [
    "## Check labels"
   ]
  },
  {
   "cell_type": "code",
   "execution_count": 168,
   "id": "d107bae9-c0d5-4445-9131-9496dc69f17f",
   "metadata": {},
   "outputs": [
    {
     "data": {
      "text/plain": [
       "array(['angry', 'disgust', 'fear', 'happy', 'sadness'], dtype=object)"
      ]
     },
     "execution_count": 168,
     "metadata": {},
     "output_type": "execute_result"
    }
   ],
   "source": [
    "np.unique(CREMA_df['emotion_label'])"
   ]
  },
  {
   "cell_type": "code",
   "execution_count": 169,
   "id": "276f1d94-4217-4b75-b23d-d0acd8bb2181",
   "metadata": {},
   "outputs": [
    {
     "data": {
      "text/plain": [
       "array(['angry', 'calm', 'disgust', 'fear', 'happy', 'neutral', 'sadness',\n",
       "       'surprise'], dtype=object)"
      ]
     },
     "execution_count": 169,
     "metadata": {},
     "output_type": "execute_result"
    }
   ],
   "source": [
    "np.unique(RAV_df['emotion_label'])"
   ]
  },
  {
   "cell_type": "code",
   "execution_count": 170,
   "id": "56239cd8-d294-4bff-999f-c08730b8278d",
   "metadata": {},
   "outputs": [
    {
     "data": {
      "text/plain": [
       "array(['angry', 'disgust', 'fear', 'happy', 'neutral', 'sadness',\n",
       "       'surprise'], dtype=object)"
      ]
     },
     "execution_count": 170,
     "metadata": {},
     "output_type": "execute_result"
    }
   ],
   "source": [
    "np.unique(SAVEE_df['emotion_label'])"
   ]
  },
  {
   "cell_type": "code",
   "execution_count": 171,
   "id": "f6381401-ca9c-4064-85a3-097a207c3ead",
   "metadata": {},
   "outputs": [
    {
     "data": {
      "text/plain": [
       "array(['angry', 'disgust', 'fear', 'happy', 'neutral', 'sadness',\n",
       "       'surprise'], dtype=object)"
      ]
     },
     "execution_count": 171,
     "metadata": {},
     "output_type": "execute_result"
    }
   ],
   "source": [
    "np.unique(TESS_df['emotion_label'])"
   ]
  },
  {
   "cell_type": "markdown",
   "id": "1bc3f194-ab46-4a56-8992-bde63151bcbe",
   "metadata": {},
   "source": [
    "## Check Bit-Depth of wav files"
   ]
  },
  {
   "cell_type": "code",
   "execution_count": 134,
   "id": "50e99434-0f18-44c4-b2f2-81e178981bb0",
   "metadata": {},
   "outputs": [],
   "source": [
    "from soundfile import SoundFile"
   ]
  },
  {
   "cell_type": "code",
   "execution_count": 135,
   "id": "a5585f8e-9ae0-40fc-a0a2-87f9cb690be5",
   "metadata": {},
   "outputs": [],
   "source": [
    "ravdess_bd = []\n",
    "savee_bd = []\n",
    "tess_bd = []\n",
    "crema_bd = []\n",
    "\n",
    "\n",
    "for index, row in df.iterrows(): \n",
    "    path = row['path']\n",
    "    file = SoundFile(path)\n",
    "    if 'ravdess' in path:\n",
    "        ravdess_bd.append(file.subtype)\n",
    "    elif 'savee' in path: \n",
    "        savee_bd.append(file.subtype)\n",
    "    elif 'creamd' in path: \n",
    "        crema_bd.append(file.subtype) \n",
    "    else: \n",
    "        tess_bd.append(file.subtype)\n",
    "         "
   ]
  },
  {
   "cell_type": "code",
   "execution_count": 136,
   "id": "07b78a8a-61a1-4112-9834-b7b279b43fcf",
   "metadata": {},
   "outputs": [],
   "source": [
    "# check that all the audio files of a dataset have the same bith depth \n",
    "for el in ravdess_bd: \n",
    "    if el != 'PCM_16':\n",
    "        print('Diff')"
   ]
  },
  {
   "cell_type": "code",
   "execution_count": 137,
   "id": "69865c05-011e-48b6-9d8d-a3cf1932cebf",
   "metadata": {},
   "outputs": [],
   "source": [
    "for el in savee_bd: \n",
    "    if el != 'PCM_16':\n",
    "        print('Diff')"
   ]
  },
  {
   "cell_type": "code",
   "execution_count": 138,
   "id": "3001dd60-0d8e-48a5-b507-9b71429a803e",
   "metadata": {},
   "outputs": [],
   "source": [
    "for el in tess_bd: \n",
    "    if el != 'PCM_16':\n",
    "        print('Diff')"
   ]
  },
  {
   "cell_type": "code",
   "execution_count": 139,
   "id": "3663427f-95a8-4637-9158-5f1afae2868d",
   "metadata": {},
   "outputs": [],
   "source": [
    "for el in crema_bd: \n",
    "    if el != 'PCM_16':\n",
    "        print('Diff')"
   ]
  },
  {
   "cell_type": "markdown",
   "id": "0ce0fbbf-269d-4f4b-979d-97fee5a5376c",
   "metadata": {},
   "source": [
    "## Check range of sample values per emotion - per dataset"
   ]
  },
  {
   "cell_type": "code",
   "execution_count": 172,
   "id": "38cd90af-075c-4ea2-8590-38f75a914789",
   "metadata": {},
   "outputs": [],
   "source": [
    "ravdess_range_min = {'fear':list(), 'disgust':list(), 'neutral':list(), 'calm':list(),  'happy':list(), 'sadness':list(), 'surprise':list(), 'angry':list()}\n",
    "ravdess_range_max = {'fear':list(), 'disgust':list(), 'neutral':list(), 'calm':list(),  'happy':list(), 'sadness':list(), 'surprise':list(), 'angry':list()}\n",
    "\n",
    "savee_range_min = {'fear':list(), 'disgust':list(), 'neutral':list(), 'calm':list(),  'happy':list(), 'sadness':list(), 'surprise':list(), 'angry':list()}\n",
    "savee_range_max = {'fear':list(), 'disgust':list(), 'neutral':list(), 'calm':list(),  'happy':list(), 'sadness':list(), 'surprise':list(), 'angry':list()}\n",
    "\n",
    "tess_range_min = {'fear':list(), 'disgust':list(), 'neutral':list(), 'calm':list(),  'happy':list(), 'sadness':list(), 'surprise':list(), 'angry':list()}\n",
    "tess_range_max = {'fear':list(), 'disgust':list(), 'neutral':list(), 'calm':list(),  'happy':list(), 'sadness':list(), 'surprise':list(), 'angry':list()}\n",
    "\n",
    "crema_range_min = {'fear':list(), 'disgust':list(), 'neutral':list(), 'calm':list(),  'happy':list(), 'sadness':list(), 'surprise':list(), 'angry':list()}\n",
    "crema_range_max = {'fear':list(), 'disgust':list(), 'neutral':list(), 'calm':list(),  'happy':list(), 'sadness':list(), 'surprise':list(), 'angry':list()}"
   ]
  },
  {
   "cell_type": "code",
   "execution_count": 173,
   "id": "8eab1a32-1be0-4455-939c-4090d1a63013",
   "metadata": {},
   "outputs": [
    {
     "data": {
      "text/plain": [
       "{'fear': [],\n",
       " 'disgust': [],\n",
       " 'neutral': [],\n",
       " 'calm': [],\n",
       " 'happy': [],\n",
       " 'sadness': [],\n",
       " 'surprise': [],\n",
       " 'angry': []}"
      ]
     },
     "execution_count": 173,
     "metadata": {},
     "output_type": "execute_result"
    }
   ],
   "source": [
    "ravdess_range_min"
   ]
  },
  {
   "cell_type": "code",
   "execution_count": 174,
   "id": "22e90b4d-ae51-48cd-9f10-c705be4411c0",
   "metadata": {},
   "outputs": [
    {
     "name": "stderr",
     "output_type": "stream",
     "text": [
      "5160it [01:59, 43.00it/s]  \n"
     ]
    }
   ],
   "source": [
    "for index, row in tqdm(df.iterrows()): \n",
    "    path = row['path']\n",
    "    label = row['emotion_label']\n",
    "    data, samplerate = librosa.load(path, sr = 16000) \n",
    "    if 'ravdess' in path: \n",
    "        ravdess_range_min.get(label).append(np.min(data))\n",
    "        ravdess_range_max.get(label).append(np.max(data))\n",
    "    elif 'savee' in path: \n",
    "        savee_range_min.get(label).append(np.min(data))\n",
    "        savee_range_max.get(label).append(np.max(data))\n",
    "    elif 'tess' in path: \n",
    "        tess_range_min.get(label).append(np.min(data))\n",
    "        tess_range_max.get(label).append(np.max(data))\n",
    "    elif 'cream' in path: \n",
    "        crema_range_min.get(label).append(np.min(data))\n",
    "        crema_range_max.get(label).append(np.max(data))\n",
    "        "
   ]
  },
  {
   "cell_type": "code",
   "execution_count": 175,
   "id": "b2a876c3-8295-4253-a87a-5e3c47d10eb0",
   "metadata": {},
   "outputs": [],
   "source": [
    "ravdess_range_min_stats = {'fear':list(), 'disgust':list(), 'neutral':list(), 'calm':list(),  'happy':list(), 'sadness':list(), 'surprise':list(), 'angry':list()}\n",
    "ravdess_range_max_stats = {'fear':list(), 'disgust':list(), 'neutral':list(), 'calm':list(),  'happy':list(), 'sadness':list(), 'surprise':list(), 'angry':list()}\n",
    "\n",
    "savee_range_min_stats = {'fear':list(), 'disgust':list(), 'neutral':list(), 'calm':list(),  'happy':list(), 'sadness':list(), 'surprise':list(), 'angry':list()}\n",
    "savee_range_max_stats = {'fear':list(), 'disgust':list(), 'neutral':list(), 'calm':list(),  'happy':list(), 'sadness':list(), 'surprise':list(), 'angry':list()}\n",
    "\n",
    "tess_range_min_stats = {'fear':list(), 'disgust':list(), 'neutral':list(), 'calm':list(),  'happy':list(), 'sadness':list(), 'surprise':list(), 'angry':list()}\n",
    "tess_range_max_stats = {'fear':list(), 'disgust':list(), 'neutral':list(), 'calm':list(),  'happy':list(), 'sadness':list(), 'surprise':list(), 'angry':list()}\n",
    "\n",
    "crema_range_min_stats = {'fear':list(), 'disgust':list(), 'neutral':list(), 'calm':list(),  'happy':list(), 'sadness':list(), 'surprise':list(), 'angry':list()}\n",
    "crema_range_max_stats = {'fear':list(), 'disgust':list(), 'neutral':list(), 'calm':list(),  'happy':list(), 'sadness':list(), 'surprise':list(), 'angry':list()}"
   ]
  },
  {
   "cell_type": "code",
   "execution_count": 176,
   "id": "e4cff3da-6bb0-4026-883f-2a5d02c67611",
   "metadata": {},
   "outputs": [],
   "source": [
    "# min values\n",
    "for k, v in ravdess_range_min.items():\n",
    "    if ravdess_range_min_stats.get(k) == []: \n",
    "        ravdess_range_min_stats.get(k).append(np.mean(v))\n",
    "        ravdess_range_min_stats.get(k).append(np.median(v))\n",
    "\n",
    "for k, v in savee_range_min.items():\n",
    "    if savee_range_min_stats.get(k) == []: \n",
    "        savee_range_min_stats.get(k).append(np.mean(v))\n",
    "        savee_range_min_stats.get(k).append(np.median(v))\n",
    "\n",
    "for k, v in tess_range_min.items():\n",
    "    if tess_range_min_stats.get(k) == []: \n",
    "        tess_range_min_stats.get(k).append(np.mean(v))\n",
    "        tess_range_min_stats.get(k).append(np.median(v))  \n",
    "\n",
    "for k, v in crema_range_min.items():\n",
    "    if crema_range_min_stats.get(k) == []: \n",
    "        crema_range_min_stats.get(k).append(np.mean(v))\n",
    "        crema_range_min_stats.get(k).append(np.median(v))     "
   ]
  },
  {
   "cell_type": "code",
   "execution_count": 178,
   "id": "2503e1d3-7710-49f4-a3df-a0046872df94",
   "metadata": {},
   "outputs": [
    {
     "data": {
      "text/plain": [
       "({'fear': [-0.23780616, -0.14706421],\n",
       "  'disgust': [-0.101773106, -0.08566284],\n",
       "  'neutral': [-0.046873093, -0.038619995],\n",
       "  'calm': [-0.035154145, -0.028579712],\n",
       "  'happy': [-0.17604177, -0.13343811],\n",
       "  'sadness': [-0.076462746, -0.053024292],\n",
       "  'surprise': [-0.12169584, -0.10638428],\n",
       "  'angry': [-0.4092703, -0.32962036]},\n",
       " {'fear': [-0.27757418, -0.24928084],\n",
       "  'disgust': [-0.15876997, -0.15109253],\n",
       "  'neutral': [-0.10046892, -0.07223511],\n",
       "  'calm': [nan, nan],\n",
       "  'happy': [-0.12787384, -0.122680664],\n",
       "  'sadness': [-0.14802553, -0.1129303],\n",
       "  'surprise': [-0.19243604, -0.18675232],\n",
       "  'angry': [-0.44376713, -0.44312444]},\n",
       " {'fear': [-0.71591896, -0.88570786],\n",
       "  'disgust': [-0.5699336, -0.6159462],\n",
       "  'neutral': [-0.40062708, -0.3691684],\n",
       "  'calm': [nan, nan],\n",
       "  'happy': [-0.77316344, -1.0065743],\n",
       "  'sadness': [-0.48110422, -0.49636734],\n",
       "  'surprise': [-0.7670256, -1.0061314],\n",
       "  'angry': [-0.78904533, -1.0099708]},\n",
       " {'fear': [-0.7101187, -0.7963562],\n",
       "  'disgust': [-0.36877024, -0.28172302],\n",
       "  'neutral': [nan, nan],\n",
       "  'calm': [nan, nan],\n",
       "  'happy': [-0.57884735, -0.5081787],\n",
       "  'sadness': [-0.10312028, -0.07118225],\n",
       "  'surprise': [nan, nan],\n",
       "  'angry': [-0.95166814, -1.0]})"
      ]
     },
     "execution_count": 178,
     "metadata": {},
     "output_type": "execute_result"
    }
   ],
   "source": [
    " ravdess_range_min_stats, tess_range_min_stats, savee_range_min_stats, crema_range_min_stats"
   ]
  },
  {
   "cell_type": "code",
   "execution_count": 179,
   "id": "eb395553-618c-4e8e-86a6-0a1a051a5ce9",
   "metadata": {},
   "outputs": [],
   "source": [
    "# max values\n",
    "for k, v in ravdess_range_max.items():\n",
    "    if ravdess_range_max_stats.get(k) == []: \n",
    "        ravdess_range_max_stats.get(k).append(np.mean(v))\n",
    "        ravdess_range_max_stats.get(k).append(np.median(v))\n",
    "\n",
    "for k, v in savee_range_max.items():\n",
    "    if savee_range_max_stats.get(k) == []: \n",
    "        savee_range_max_stats.get(k).append(np.mean(v))\n",
    "        savee_range_max_stats.get(k).append(np.median(v))\n",
    "\n",
    "for k, v in tess_range_max.items():\n",
    "    if tess_range_max_stats.get(k) == []: \n",
    "        tess_range_max_stats.get(k).append(np.mean(v))\n",
    "        tess_range_max_stats.get(k).append(np.median(v))     \n",
    "\n",
    "for k, v in crema_range_max.items():\n",
    "    if crema_range_max_stats.get(k) == []: \n",
    "        crema_range_max_stats.get(k).append(np.mean(v))\n",
    "        crema_range_max_stats.get(k).append(np.median(v))   "
   ]
  },
  {
   "cell_type": "code",
   "execution_count": 180,
   "id": "64daa48f-f7f9-4375-b3ff-590a11069a13",
   "metadata": {},
   "outputs": [
    {
     "data": {
      "text/plain": [
       "({'fear': [0.25650072, 0.16661072],\n",
       "  'disgust': [0.10567633, 0.08670044],\n",
       "  'neutral': [0.05240218, 0.042510986],\n",
       "  'calm': [0.037156593, 0.028656006],\n",
       "  'happy': [0.19236724, 0.1496582],\n",
       "  'sadness': [0.081086, 0.05407715],\n",
       "  'surprise': [0.12735271, 0.114746094],\n",
       "  'angry': [0.45379272, 0.3430481]},\n",
       " {'fear': [0.24390072, 0.2087408],\n",
       "  'disgust': [0.16192557, 0.15957642],\n",
       "  'neutral': [0.088810176, 0.058654785],\n",
       "  'calm': [nan, nan],\n",
       "  'happy': [0.10222793, 0.09567261],\n",
       "  'sadness': [0.10903225, 0.08784485],\n",
       "  'surprise': [0.18419087, 0.17173767],\n",
       "  'angry': [0.4117691, 0.40662274]},\n",
       " {'fear': [0.68867236, 0.8359611],\n",
       "  'disgust': [0.5250933, 0.53767484],\n",
       "  'neutral': [0.3384821, 0.31288826],\n",
       "  'calm': [nan, nan],\n",
       "  'happy': [0.7482513, 1.0047958],\n",
       "  'sadness': [0.46011713, 0.4823631],\n",
       "  'surprise': [0.74085814, 0.9891869],\n",
       "  'angry': [0.78176016, 1.0073144]},\n",
       " {'fear': [0.70948863, 0.7923126],\n",
       "  'disgust': [0.36619222, 0.27059937],\n",
       "  'neutral': [nan, nan],\n",
       "  'calm': [nan, nan],\n",
       "  'happy': [0.6020823, 0.55755615],\n",
       "  'sadness': [0.114715576, 0.07688904],\n",
       "  'surprise': [nan, nan],\n",
       "  'angry': [0.96277446, 0.9999695]})"
      ]
     },
     "execution_count": 180,
     "metadata": {},
     "output_type": "execute_result"
    }
   ],
   "source": [
    " ravdess_range_max_stats, tess_range_max_stats, savee_range_max_stats, crema_range_max_stats"
   ]
  },
  {
   "cell_type": "markdown",
   "id": "889d948e-eee3-4fe0-9d53-319202a38797",
   "metadata": {},
   "source": [
    "## Check Amplitude"
   ]
  },
  {
   "cell_type": "code",
   "execution_count": 215,
   "id": "e0a02644-99c5-4068-bba0-9ba9615a0965",
   "metadata": {},
   "outputs": [],
   "source": [
    "ravdess_amp = {'fear':list(), 'disgust':list(), 'neutral':list(), 'calm':list(),  'happy':list(), 'sadness':list(), 'surprise':list(), 'angry':list()}\n",
    "savee_amp = {'fear':list(), 'disgust':list(), 'neutral':list(), 'calm':list(),  'happy':list(), 'sadness':list(), 'surprise':list(), 'angry':list()}\n",
    "\n",
    "tess_amp = {'fear':list(), 'disgust':list(), 'neutral':list(), 'calm':list(),  'happy':list(), 'sadness':list(), 'surprise':list(), 'angry':list()}\n",
    "crema_amp = {'fear':list(), 'disgust':list(), 'neutral':list(), 'calm':list(),  'happy':list(), 'sadness':list(), 'surprise':list(), 'angry':list()}\n"
   ]
  },
  {
   "cell_type": "code",
   "execution_count": 216,
   "id": "0e3787ec-398e-49f7-ad48-c2007c8eae11",
   "metadata": {},
   "outputs": [
    {
     "name": "stderr",
     "output_type": "stream",
     "text": [
      "5160it [02:32, 33.92it/s] \n"
     ]
    }
   ],
   "source": [
    "for index, row in tqdm(df.iterrows()): \n",
    "    path = row['path']\n",
    "    label = row['emotion_label']\n",
    "    data, samplerate = librosa.load(path, sr = 16000)\n",
    "    X=librosa.stft(data)\n",
    "    amplitude = librosa.amplitude_to_db(abs(X))\n",
    "    if 'ravdess' in path: \n",
    "        ravdess_amp.get(label).append(np.median(amplitude))\n",
    "\n",
    "    elif 'savee' in path: \n",
    "        savee_amp.get(label).append(np.median(amplitude))\n",
    "    elif 'tess' in path: \n",
    "        tess_amp.get(label).append(np.median(amplitude))\n",
    "    elif 'cream' in path: \n",
    "        crema_amp.get(label).append(np.median(amplitude))\n",
    "    "
   ]
  },
  {
   "cell_type": "code",
   "execution_count": 217,
   "id": "00a773fc-deaf-4536-9288-8b3dffb210b0",
   "metadata": {},
   "outputs": [],
   "source": [
    "ravdess_amp_median = {'fear':list(), 'disgust':list(), 'neutral':list(), 'calm':list(),  'happy':list(), 'sadness':list(), 'surprise':list(), 'angry':list()}\n",
    "savee_amp_median = {'fear':list(), 'disgust':list(), 'neutral':list(), 'calm':list(),  'happy':list(), 'sadness':list(), 'surprise':list(), 'angry':list()}\n",
    "\n",
    "tess_amp_median = {'fear':list(), 'disgust':list(), 'neutral':list(), 'calm':list(),  'happy':list(), 'sadness':list(), 'surprise':list(), 'angry':list()}\n",
    "crema_amp_median = {'fear':list(), 'disgust':list(), 'neutral':list(), 'calm':list(),  'happy':list(), 'sadness':list(), 'surprise':list(), 'angry':list()}\n"
   ]
  },
  {
   "cell_type": "code",
   "execution_count": 218,
   "id": "8ccb9501-1fc4-43b0-af97-04aa08f5efb9",
   "metadata": {},
   "outputs": [],
   "source": [
    "# median of amplitude per emotion and per dataset \n",
    "for k, v in ravdess_amp.items():\n",
    "    if ravdess_amp_median.get(k) == []: \n",
    "        ravdess_amp_median.get(k).append(np.median(v))\n",
    "\n",
    "for k, v in savee_amp.items():\n",
    "    if savee_amp_median.get(k) == []: \n",
    "        savee_amp_median.get(k).append(np.median(v))\n",
    "\n",
    "\n",
    "for k, v in tess_amp.items():\n",
    "    if tess_amp_median.get(k) == []: \n",
    "        tess_amp_median.get(k).append(np.median(v))\n",
    "\n",
    "for k, v in crema_amp.items():\n",
    "    if crema_amp_median.get(k) == []: \n",
    "        crema_amp_median.get(k).append(np.median(v))\n"
   ]
  },
  {
   "cell_type": "code",
   "execution_count": 219,
   "id": "8d396124-d53f-4185-848d-dfac61c450c3",
   "metadata": {},
   "outputs": [
    {
     "data": {
      "text/plain": [
       "({'fear': [-46.64563],\n",
       "  'disgust': [-51.789726],\n",
       "  'neutral': [-61.547245],\n",
       "  'calm': [-59.527428],\n",
       "  'happy': [-51.2706],\n",
       "  'sadness': [-56.886414],\n",
       "  'surprise': [-54.039314],\n",
       "  'angry': [-43.45335]},\n",
       " {'fear': [-30.685266],\n",
       "  'disgust': [-37.014606],\n",
       "  'neutral': [-42.397095],\n",
       "  'calm': [nan],\n",
       "  'happy': [-28.83998],\n",
       "  'sadness': [-38.810497],\n",
       "  'surprise': [-29.03577],\n",
       "  'angry': [-29.30946]},\n",
       " {'fear': [-26.96304],\n",
       "  'disgust': [-34.383503],\n",
       "  'neutral': [-38.743904],\n",
       "  'calm': [nan],\n",
       "  'happy': [-35.066933],\n",
       "  'sadness': [-39.51477],\n",
       "  'surprise': [-29.666206],\n",
       "  'angry': [-25.703892]},\n",
       " {'fear': [-27.407616],\n",
       "  'disgust': [-32.23555],\n",
       "  'neutral': [nan],\n",
       "  'calm': [nan],\n",
       "  'happy': [-27.47182],\n",
       "  'sadness': [-36.953915],\n",
       "  'surprise': [nan],\n",
       "  'angry': [-16.908876]})"
      ]
     },
     "execution_count": 219,
     "metadata": {},
     "output_type": "execute_result"
    }
   ],
   "source": [
    "ravdess_amp_median, savee_amp_median, tess_amp_median, crema_amp_median"
   ]
  },
  {
   "cell_type": "markdown",
   "id": "9abc736b-8d1e-4bd7-bf28-b21e8e0169f9",
   "metadata": {
    "tags": []
   },
   "source": [
    "## Check the volume of wav files \n",
    "\n",
    "To check the volume we are going to compute the rms for each audio files. Later we will plot the distribution of the volume for each database. \n",
    "https://docs.python.org/3/library/audioop.html"
   ]
  },
  {
   "cell_type": "code",
   "execution_count": 210,
   "id": "e61da5ec-e79c-4d84-9a7b-61b168a64a51",
   "metadata": {},
   "outputs": [],
   "source": [
    "ravdess_rms = {'fear':list(), 'disgust':list(), 'neutral':list(), 'calm':list(),  'happy':list(), 'sadness':list(), 'surprise':list(), 'angry':list()}\n",
    "savee_rms = {'fear':list(), 'disgust':list(), 'neutral':list(), 'calm':list(),  'happy':list(), 'sadness':list(), 'surprise':list(), 'angry':list()}\n",
    "\n",
    "tess_rms = {'fear':list(), 'disgust':list(), 'neutral':list(), 'calm':list(),  'happy':list(), 'sadness':list(), 'surprise':list(), 'angry':list()}\n",
    "crema_rms = {'fear':list(), 'disgust':list(), 'neutral':list(), 'calm':list(),  'happy':list(), 'sadness':list(), 'surprise':list(), 'angry':list()}\n"
   ]
  },
  {
   "cell_type": "code",
   "execution_count": 211,
   "id": "391c22a4-118c-4fd1-a490-07ff7c4cb4fd",
   "metadata": {
    "tags": []
   },
   "outputs": [],
   "source": [
    "for index, row in df_train.iterrows(): \n",
    "    path = row['path']\n",
    "    label = row['emotion_label']\n",
    "    data, samplerate = librosa.load(path)\n",
    "    \n",
    "    if 'ravdess' in path:\n",
    "        ravdess_rms.get(label).append(np.mean(librosa.feature.rms(data)))\n",
    "\n",
    "    elif 'savee' in path: \n",
    "        savee_rms.get(label).append(np.mean(librosa.feature.rms(data)))\n",
    "    elif 'creamd' in path: \n",
    "        crema_rms.get(label).append(np.mean(librosa.feature.rms(data))) \n",
    "    else: \n",
    "        tess_rms.get(label).append(np.mean(librosa.feature.rms(data)))         "
   ]
  },
  {
   "cell_type": "code",
   "execution_count": 212,
   "id": "7e340a33-9b4d-4f3d-a64f-831a4de8a374",
   "metadata": {},
   "outputs": [],
   "source": [
    "ravdess_rms_median = {'fear':list(), 'disgust':list(), 'neutral':list(), 'calm':list(),  'happy':list(), 'sadness':list(), 'surprise':list(), 'angry':list()}\n",
    "savee_rms_median = {'fear':list(), 'disgust':list(), 'neutral':list(), 'calm':list(),  'happy':list(), 'sadness':list(), 'surprise':list(), 'angry':list()}\n",
    "\n",
    "tess_rms_median = {'fear':list(), 'disgust':list(), 'neutral':list(), 'calm':list(),  'happy':list(), 'sadness':list(), 'surprise':list(), 'angry':list()}\n",
    "crema_rms_median = {'fear':list(), 'disgust':list(), 'neutral':list(), 'calm':list(),  'happy':list(), 'sadness':list(), 'surprise':list(), 'angry':list()}\n"
   ]
  },
  {
   "cell_type": "code",
   "execution_count": 213,
   "id": "44df8426-dd6f-44d9-b4ba-2f9557415867",
   "metadata": {},
   "outputs": [],
   "source": [
    "# median of amplitude per emotion and per dataset \n",
    "for k, v in ravdess_rms.items():\n",
    "    if ravdess_rms_median.get(k) == []: \n",
    "        ravdess_rms_median.get(k).append(np.median(v))\n",
    "\n",
    "for k, v in savee_rms.items():\n",
    "    if savee_rms_median.get(k) == []: \n",
    "        savee_rms_median.get(k).append(np.median(v))\n",
    "\n",
    "\n",
    "for k, v in tess_rms.items():\n",
    "    if tess_rms_median.get(k) == []: \n",
    "        tess_rms_median.get(k).append(np.median(v))\n",
    "\n",
    "for k, v in crema_rms.items():\n",
    "    if crema_rms_median.get(k) == []: \n",
    "        crema_rms_median.get(k).append(np.median(v))\n"
   ]
  },
  {
   "cell_type": "code",
   "execution_count": 214,
   "id": "5767f482-29ae-4c35-9f56-71fdf17dcf4d",
   "metadata": {},
   "outputs": [
    {
     "data": {
      "text/plain": [
       "({'fear': [0.010353636],\n",
       "  'disgust': [0.0050750943],\n",
       "  'neutral': [0.0025113472],\n",
       "  'calm': [0.0020973552],\n",
       "  'happy': [0.009248671],\n",
       "  'sadness': [0.0033962876],\n",
       "  'surprise': [0.00671383],\n",
       "  'angry': [0.018378183]},\n",
       " {'fear': [0.11257792],\n",
       "  'disgust': [0.07859196],\n",
       "  'neutral': [0.061942585],\n",
       "  'calm': [nan],\n",
       "  'happy': [0.1404942],\n",
       "  'sadness': [0.07850291],\n",
       "  'surprise': [0.1240446],\n",
       "  'angry': [0.15217704]},\n",
       " {'fear': [0.049176022],\n",
       "  'disgust': [0.020419043],\n",
       "  'neutral': [0.027181733],\n",
       "  'calm': [nan],\n",
       "  'happy': [nan],\n",
       "  'sadness': [0.034186486],\n",
       "  'surprise': [0.029411208],\n",
       "  'angry': [0.05952949]},\n",
       " {'fear': [0.054254543],\n",
       "  'disgust': [0.021384936],\n",
       "  'neutral': [nan],\n",
       "  'calm': [nan],\n",
       "  'happy': [0.044515457],\n",
       "  'sadness': [0.008052027],\n",
       "  'surprise': [nan],\n",
       "  'angry': [0.123767376]})"
      ]
     },
     "execution_count": 214,
     "metadata": {},
     "output_type": "execute_result"
    }
   ],
   "source": [
    "ravdess_rms_median, savee_rms_median, tess_rms_median, crema_rms_median"
   ]
  },
  {
   "cell_type": "markdown",
   "id": "491befa8-a5e2-4a5e-a64a-aca5eb84419e",
   "metadata": {},
   "source": [
    "## Check duration of files per dataset"
   ]
  },
  {
   "cell_type": "code",
   "execution_count": 269,
   "id": "7df3ddde-0b25-4eec-b062-ed5718eb07e7",
   "metadata": {},
   "outputs": [],
   "source": [
    "durations_rav = []\n",
    "durations_savee = []\n",
    "durations_tess = []\n",
    "durations_crema = []"
   ]
  },
  {
   "cell_type": "code",
   "execution_count": 270,
   "id": "9b77e2f0-79b4-49fe-b06b-8c152c0aa8f4",
   "metadata": {},
   "outputs": [
    {
     "data": {
      "application/vnd.jupyter.widget-view+json": {
       "model_id": "34f077edcba840e8b895575e7902835a",
       "version_major": 2,
       "version_minor": 0
      },
      "text/plain": [
       "  0%|          | 0/1440 [00:00<?, ?it/s]"
      ]
     },
     "metadata": {},
     "output_type": "display_data"
    },
    {
     "data": {
      "application/vnd.jupyter.widget-view+json": {
       "model_id": "6aa25cbe61fc48229f7545fc22465010",
       "version_major": 2,
       "version_minor": 0
      },
      "text/plain": [
       "  0%|          | 0/480 [00:00<?, ?it/s]"
      ]
     },
     "metadata": {},
     "output_type": "display_data"
    },
    {
     "data": {
      "application/vnd.jupyter.widget-view+json": {
       "model_id": "b451fccd1cf64dd3b3785362632ea79b",
       "version_major": 2,
       "version_minor": 0
      },
      "text/plain": [
       "  0%|          | 0/2800 [00:00<?, ?it/s]"
      ]
     },
     "metadata": {},
     "output_type": "display_data"
    },
    {
     "data": {
      "application/vnd.jupyter.widget-view+json": {
       "model_id": "f81563b3df2a4daeb5c56ab93c226489",
       "version_major": 2,
       "version_minor": 0
      },
      "text/plain": [
       "  0%|          | 0/440 [00:00<?, ?it/s]"
      ]
     },
     "metadata": {},
     "output_type": "display_data"
    }
   ],
   "source": [
    "from tqdm import tqdm_notebook\n",
    "for path in tqdm_notebook(list(RAV_df.path)):\n",
    "    samples, sr = librosa.load(path, res_type='kaiser_fast', sr=16000)\n",
    "    durations_rav.append(librosa.get_duration(y = samples, sr = sr))\n",
    "\n",
    "for path in tqdm_notebook(list(SAVEE_df.path)):\n",
    "    samples, sr = librosa.load(path, res_type='kaiser_fast', sr=16000)\n",
    "    durations_savee.append(librosa.get_duration(y = samples, sr = sr))\n",
    "\n",
    "for path in tqdm_notebook(list(TESS_df.path)):\n",
    "    samples, sr = librosa.load(path, res_type='kaiser_fast', sr=16000)\n",
    "    durations_tess.append(librosa.get_duration(y = samples, sr = sr))\n",
    "\n",
    "for path in tqdm_notebook(list(CREMA_df.path)):\n",
    "    samples, sr= librosa.load(path, res_type='kaiser_fast', sr=16000)\n",
    "    durations_crema.append(librosa.get_duration(y = samples, sr = sr))"
   ]
  },
  {
   "cell_type": "code",
   "execution_count": 273,
   "id": "bdc27189-90b0-4e2b-864c-7577b4da19ce",
   "metadata": {},
   "outputs": [
    {
     "name": "stdout",
     "output_type": "stream",
     "text": [
      "RAV outliers  2\n",
      "SAVEE outliers  105\n",
      "TESS outliers  2800\n",
      "CREMA outliers  380\n"
     ]
    }
   ],
   "source": [
    "# check outliers i.e audio files with duration < 3 seconds\n",
    "\n",
    "count = 0 \n",
    "for el in durations_rav: \n",
    "    if el < 3: \n",
    "        count += 1 \n",
    "print(\"RAV outliers \", count)\n",
    "\n",
    "count = 0 \n",
    "for el in durations_savee: \n",
    "    if el < 3: \n",
    "        count += 1 \n",
    "print(\"SAVEE outliers \", count)\n",
    "\n",
    "count = 0 \n",
    "for el in durations_tess: \n",
    "    if el < 3: \n",
    "        count += 1 \n",
    "print(\"TESS outliers \", count)\n",
    "\n",
    "count = 0 \n",
    "for el in durations_crema: \n",
    "    if el < 3: \n",
    "        count += 1 \n",
    "print(\"CREMA outliers \", count)"
   ]
  },
  {
   "cell_type": "markdown",
   "id": "a2229f57-f067-4bb5-9c30-e9d36c85e2a7",
   "metadata": {},
   "source": [
    "# Audio Normalization ffmpeg \n",
    "\n",
    "https://pypi.org/project/ffmpeg-normalize/#examples\n"
   ]
  },
  {
   "cell_type": "code",
   "execution_count": null,
   "id": "d678f1b7-cb3d-47c8-8e1c-c054ae639f7a",
   "metadata": {},
   "outputs": [],
   "source": []
  },
  {
   "cell_type": "code",
   "execution_count": 222,
   "id": "20d1848e-8e64-49d0-b0f2-80ceb8f12072",
   "metadata": {},
   "outputs": [
    {
     "name": "stdout",
     "output_type": "stream",
     "text": [
      "\u001b[31mERROR: Invalid requirement: '/home/helemanc/Desktop/Binary_Model/normalized_audio/norm.wav'\n",
      "Hint: It looks like a path. File '/home/helemanc/Desktop/Binary_Model/normalized_audio/norm.wav' does not exist.\u001b[0m\n"
     ]
    }
   ],
   "source": [
    "!pip3 install ffmpeg-normalize \n"
   ]
  },
  {
   "cell_type": "code",
   "execution_count": 231,
   "id": "9835beae-3d61-4e9d-a841-72768bb046ed",
   "metadata": {},
   "outputs": [
    {
     "name": "stdin",
     "output_type": "stream",
     "text": [
      " ··········\n"
     ]
    },
    {
     "name": "stderr",
     "output_type": "stream",
     "text": [
      "[sudo] password for helemanc: "
     ]
    },
    {
     "name": "stdout",
     "output_type": "stream",
     "text": [
      "Reading package lists...\n",
      "Building dependency tree...\n",
      "Reading state information...\n",
      "The following additional packages will be installed:\n",
      "  i965-va-driver intel-media-va-driver libaacs0 libaom0 libass9 libavcodec58\n",
      "  libavdevice58 libavfilter7 libavformat58 libavresample4 libavutil56\n",
      "  libbdplus0 libbluray2 libbs2b0 libchromaprint1 libcodec2-0.9 libdc1394-22\n",
      "  libfftw3-double3 libflite1 libgme0 libigdgmm11 liblilv-0-0 libmysofa1\n",
      "  libnorm1 libopenmpt0 libpgm-5.2-0 libpostproc55 librubberband2 libsdl2-2.0-0\n",
      "  libserd-0-0 libshine3 libsnappy1v5 libsord-0-0 libsratom-0-0 libssh-gcrypt-4\n",
      "  libswresample3 libswscale5 libva-drm2 libva-x11-2 libva2 libvidstab1.1\n",
      "  libx264-155 libx265-179 libxvidcore4 libzmq5 libzvbi-common libzvbi0\n",
      "  mesa-va-drivers va-driver-all\n",
      "Suggested packages:\n",
      "  ffmpeg-doc i965-va-driver-shaders libbluray-bdj libfftw3-bin libfftw3-dev\n",
      "  serdi sordi\n",
      "The following NEW packages will be installed:\n",
      "  ffmpeg i965-va-driver intel-media-va-driver libaacs0 libaom0 libass9\n",
      "  libavcodec58 libavdevice58 libavfilter7 libavformat58 libavresample4\n",
      "  libavutil56 libbdplus0 libbluray2 libbs2b0 libchromaprint1 libcodec2-0.9\n",
      "  libdc1394-22 libfftw3-double3 libflite1 libgme0 libigdgmm11 liblilv-0-0\n",
      "  libmysofa1 libnorm1 libopenmpt0 libpgm-5.2-0 libpostproc55 librubberband2\n",
      "  libsdl2-2.0-0 libserd-0-0 libshine3 libsnappy1v5 libsord-0-0 libsratom-0-0\n",
      "  libssh-gcrypt-4 libswresample3 libswscale5 libva-drm2 libva-x11-2 libva2\n",
      "  libvidstab1.1 libx264-155 libx265-179 libxvidcore4 libzmq5 libzvbi-common\n",
      "  libzvbi0 mesa-va-drivers va-driver-all\n",
      "0 upgraded, 50 newly installed, 0 to remove and 150 not upgraded.\n",
      "Need to get 42,2 MB of archives.\n",
      "After this operation, 151 MB of additional disk space will be used.\n",
      "Do you want to continue? [Y/n] Abort.\n"
     ]
    },
    {
     "data": {
      "text/plain": [
       "256"
      ]
     },
     "execution_count": 231,
     "metadata": {},
     "output_type": "execute_result"
    }
   ],
   "source": [
    "password = getpass.getpass()\n",
    "command = \"sudo -S apt-get install ffmpeg\"\n",
    "os.system('echo %s | %s' % (password, command))"
   ]
  },
  {
   "cell_type": "code",
   "execution_count": 251,
   "id": "f96c52f1-bb4b-46c4-a8fb-1b6bf500478e",
   "metadata": {},
   "outputs": [
    {
     "name": "stdin",
     "output_type": "stream",
     "text": [
      " ··········\n"
     ]
    },
    {
     "name": "stderr",
     "output_type": "stream",
     "text": [
      "[sudo] password for helemanc: sudo: ffmpeg-normalize: command not found\n"
     ]
    },
    {
     "data": {
      "text/plain": [
       "256"
      ]
     },
     "execution_count": 251,
     "metadata": {},
     "output_type": "execute_result"
    }
   ],
   "source": [
    "import getpass\n",
    "import os\n",
    "\n",
    "password = getpass.getpass()\n",
    "command = \"sudo -S ffmpeg-normalize '/media/helemanc/OS/Users/i2CAT/Desktop/Datasets SER/ravdess-emotional-speech-audio/audio_speech_actors_01-24/Actor_01/03-01-07-01-02-02-01.wav' -o '/home/helemanc/Desktop/Binary_Model/normalized_audio/norm.wav' \" #can be any command but don't forget -S as it enables input from stdin\n",
    "os.system('echo %s | %s' % (password, command))"
   ]
  },
  {
   "cell_type": "code",
   "execution_count": 264,
   "id": "6394f4b8-4877-45b2-a7b0-f25e2106a6ed",
   "metadata": {},
   "outputs": [
    {
     "name": "stdout",
     "output_type": "stream",
     "text": [
      "\u001b[1;33m\u001b[1;33m\u001b[1;33m\u001b[1;33m\u001b[1;33m\u001b[1;33mWARNING\u001b[1;0m\u001b[1;0m\u001b[1;0m\u001b[1;0m\u001b[1;0m\u001b[1;0m: Audio stream has a duration of less than 3 seconds. Normalization may not work. See https://github.com/slhck/ffmpeg-normalize/issues/87 for more info.\n"
     ]
    }
   ],
   "source": [
    "!ffmpeg-normalize '/home/helemanc/Desktop/Binary_Model/normalized_audio/norm_crema.wav' -o '/home/helemanc/Desktop/Binary_Model/normalized_audio/norm_crema_2.wav' -ar 16000"
   ]
  },
  {
   "cell_type": "code",
   "execution_count": 233,
   "id": "e7ddb2a5-1509-48de-9b35-751f77fff1f9",
   "metadata": {
    "tags": []
   },
   "outputs": [
    {
     "name": "stdout",
     "output_type": "stream",
     "text": [
      "Cloning into 'ffmpeg-normalize'...\n",
      "remote: Enumerating objects: 1321, done.\u001b[K\n",
      "remote: Counting objects: 100% (143/143), done.\u001b[K\n",
      "remote: Compressing objects: 100% (83/83), done.\u001b[K\n",
      "remote: Total 1321 (delta 79), reused 109 (delta 52), pack-reused 1178\u001b[K\n",
      "Receiving objects: 100% (1321/1321), 2.12 MiB | 573.00 KiB/s, done.\n",
      "Resolving deltas: 100% (762/762), done.\n"
     ]
    }
   ],
   "source": [
    "!git clone https://github.com/slhck/ffmpeg-normalize"
   ]
  },
  {
   "cell_type": "code",
   "execution_count": 240,
   "id": "8653d807-6e07-4022-aa8c-9c88fffd96c1",
   "metadata": {},
   "outputs": [
    {
     "name": "stdout",
     "output_type": "stream",
     "text": [
      "/home/helemanc/Desktop/Binary_Model/ffmpeg-normalize\n"
     ]
    }
   ],
   "source": [
    "%cd ffmpeg-normalize"
   ]
  },
  {
   "cell_type": "code",
   "execution_count": 241,
   "id": "ba270aa6-e20d-452d-958c-c8ef9546e3cf",
   "metadata": {},
   "outputs": [
    {
     "name": "stdout",
     "output_type": "stream",
     "text": [
      "CHANGELOG.md\t  LICENSE      requirements.dev.txt  setup.py\n",
      "DEVELOPERS.md\t  MANIFEST.in  requirements.txt      test\n",
      "ffmpeg_normalize  README.md    setup.cfg\n"
     ]
    }
   ],
   "source": [
    "!ls"
   ]
  },
  {
   "cell_type": "code",
   "execution_count": 242,
   "id": "aab4a14f-d985-4a32-9a9f-6e09fc2a5f89",
   "metadata": {},
   "outputs": [
    {
     "name": "stdout",
     "output_type": "stream",
     "text": [
      "running install\n",
      "running bdist_egg\n",
      "running egg_info\n",
      "creating ffmpeg_normalize.egg-info\n",
      "writing ffmpeg_normalize.egg-info/PKG-INFO\n",
      "writing dependency_links to ffmpeg_normalize.egg-info/dependency_links.txt\n",
      "writing entry points to ffmpeg_normalize.egg-info/entry_points.txt\n",
      "writing requirements to ffmpeg_normalize.egg-info/requires.txt\n",
      "writing top-level names to ffmpeg_normalize.egg-info/top_level.txt\n",
      "writing manifest file 'ffmpeg_normalize.egg-info/SOURCES.txt'\n",
      "reading manifest file 'ffmpeg_normalize.egg-info/SOURCES.txt'\n",
      "reading manifest template 'MANIFEST.in'\n",
      "warning: no files found matching 'CONTRIBUTING.md'\n",
      "writing manifest file 'ffmpeg_normalize.egg-info/SOURCES.txt'\n",
      "installing library code to build/bdist.linux-x86_64/egg\n",
      "running install_lib\n",
      "running build_py\n",
      "creating build\n",
      "creating build/lib\n",
      "creating build/lib/ffmpeg_normalize\n",
      "copying ffmpeg_normalize/_ffmpeg_normalize.py -> build/lib/ffmpeg_normalize\n",
      "copying ffmpeg_normalize/__init__.py -> build/lib/ffmpeg_normalize\n",
      "copying ffmpeg_normalize/_cmd_utils.py -> build/lib/ffmpeg_normalize\n",
      "copying ffmpeg_normalize/_errors.py -> build/lib/ffmpeg_normalize\n",
      "copying ffmpeg_normalize/_streams.py -> build/lib/ffmpeg_normalize\n",
      "copying ffmpeg_normalize/_media_file.py -> build/lib/ffmpeg_normalize\n",
      "copying ffmpeg_normalize/_logger.py -> build/lib/ffmpeg_normalize\n",
      "copying ffmpeg_normalize/__main__.py -> build/lib/ffmpeg_normalize\n",
      "copying ffmpeg_normalize/_version.py -> build/lib/ffmpeg_normalize\n",
      "creating build/bdist.linux-x86_64\n",
      "creating build/bdist.linux-x86_64/egg\n",
      "creating build/bdist.linux-x86_64/egg/ffmpeg_normalize\n",
      "copying build/lib/ffmpeg_normalize/_ffmpeg_normalize.py -> build/bdist.linux-x86_64/egg/ffmpeg_normalize\n",
      "copying build/lib/ffmpeg_normalize/__init__.py -> build/bdist.linux-x86_64/egg/ffmpeg_normalize\n",
      "copying build/lib/ffmpeg_normalize/_cmd_utils.py -> build/bdist.linux-x86_64/egg/ffmpeg_normalize\n",
      "copying build/lib/ffmpeg_normalize/_errors.py -> build/bdist.linux-x86_64/egg/ffmpeg_normalize\n",
      "copying build/lib/ffmpeg_normalize/_streams.py -> build/bdist.linux-x86_64/egg/ffmpeg_normalize\n",
      "copying build/lib/ffmpeg_normalize/_media_file.py -> build/bdist.linux-x86_64/egg/ffmpeg_normalize\n",
      "copying build/lib/ffmpeg_normalize/_logger.py -> build/bdist.linux-x86_64/egg/ffmpeg_normalize\n",
      "copying build/lib/ffmpeg_normalize/__main__.py -> build/bdist.linux-x86_64/egg/ffmpeg_normalize\n",
      "copying build/lib/ffmpeg_normalize/_version.py -> build/bdist.linux-x86_64/egg/ffmpeg_normalize\n",
      "byte-compiling build/bdist.linux-x86_64/egg/ffmpeg_normalize/_ffmpeg_normalize.py to _ffmpeg_normalize.cpython-38.pyc\n",
      "byte-compiling build/bdist.linux-x86_64/egg/ffmpeg_normalize/__init__.py to __init__.cpython-38.pyc\n",
      "byte-compiling build/bdist.linux-x86_64/egg/ffmpeg_normalize/_cmd_utils.py to _cmd_utils.cpython-38.pyc\n",
      "byte-compiling build/bdist.linux-x86_64/egg/ffmpeg_normalize/_errors.py to _errors.cpython-38.pyc\n",
      "byte-compiling build/bdist.linux-x86_64/egg/ffmpeg_normalize/_streams.py to _streams.cpython-38.pyc\n",
      "byte-compiling build/bdist.linux-x86_64/egg/ffmpeg_normalize/_media_file.py to _media_file.cpython-38.pyc\n",
      "byte-compiling build/bdist.linux-x86_64/egg/ffmpeg_normalize/_logger.py to _logger.cpython-38.pyc\n",
      "byte-compiling build/bdist.linux-x86_64/egg/ffmpeg_normalize/__main__.py to __main__.cpython-38.pyc\n",
      "byte-compiling build/bdist.linux-x86_64/egg/ffmpeg_normalize/_version.py to _version.cpython-38.pyc\n",
      "creating build/bdist.linux-x86_64/egg/EGG-INFO\n",
      "copying ffmpeg_normalize.egg-info/PKG-INFO -> build/bdist.linux-x86_64/egg/EGG-INFO\n",
      "copying ffmpeg_normalize.egg-info/SOURCES.txt -> build/bdist.linux-x86_64/egg/EGG-INFO\n",
      "copying ffmpeg_normalize.egg-info/dependency_links.txt -> build/bdist.linux-x86_64/egg/EGG-INFO\n",
      "copying ffmpeg_normalize.egg-info/entry_points.txt -> build/bdist.linux-x86_64/egg/EGG-INFO\n",
      "copying ffmpeg_normalize.egg-info/not-zip-safe -> build/bdist.linux-x86_64/egg/EGG-INFO\n",
      "copying ffmpeg_normalize.egg-info/requires.txt -> build/bdist.linux-x86_64/egg/EGG-INFO\n",
      "copying ffmpeg_normalize.egg-info/top_level.txt -> build/bdist.linux-x86_64/egg/EGG-INFO\n",
      "creating dist\n",
      "creating 'dist/ffmpeg_normalize-1.22.2-py3.8.egg' and adding 'build/bdist.linux-x86_64/egg' to it\n",
      "removing 'build/bdist.linux-x86_64/egg' (and everything under it)\n",
      "Processing ffmpeg_normalize-1.22.2-py3.8.egg\n",
      "creating /home/helemanc/.local/lib/python3.8/site-packages/ffmpeg_normalize-1.22.2-py3.8.egg\n",
      "Extracting ffmpeg_normalize-1.22.2-py3.8.egg to /home/helemanc/.local/lib/python3.8/site-packages\n",
      "Adding ffmpeg-normalize 1.22.2 to easy-install.pth file\n",
      "Installing ffmpeg-normalize script to /home/helemanc/.local/bin\n",
      "\n",
      "Installed /home/helemanc/.local/lib/python3.8/site-packages/ffmpeg_normalize-1.22.2-py3.8.egg\n",
      "Processing dependencies for ffmpeg-normalize==1.22.2\n",
      "Searching for tqdm==4.62.1\n",
      "Best match: tqdm 4.62.1\n",
      "Adding tqdm 4.62.1 to easy-install.pth file\n",
      "Installing tqdm script to /home/helemanc/.local/bin\n",
      "\n",
      "Using /home/helemanc/.local/lib/python3.8/site-packages\n",
      "Searching for ffmpeg-progress-yield==0.1.2\n",
      "Best match: ffmpeg-progress-yield 0.1.2\n",
      "Adding ffmpeg-progress-yield 0.1.2 to easy-install.pth file\n",
      "Installing ffmpeg-progress-yield script to /home/helemanc/.local/bin\n",
      "\n",
      "Using /home/helemanc/.local/lib/python3.8/site-packages\n",
      "Searching for colorama==0.4.3\n",
      "Best match: colorama 0.4.3\n",
      "Adding colorama 0.4.3 to easy-install.pth file\n",
      "\n",
      "Using /usr/lib/python3/dist-packages\n",
      "Finished processing dependencies for ffmpeg-normalize==1.22.2\n"
     ]
    }
   ],
   "source": [
    "!python3 setup.py install --user"
   ]
  },
  {
   "cell_type": "code",
   "execution_count": 245,
   "id": "9f6a1028-73a3-427c-a877-f8855bd32e5b",
   "metadata": {
    "tags": []
   },
   "outputs": [
    {
     "name": "stdout",
     "output_type": "stream",
     "text": [
      "[Errno 20] Not a directory: 'ffmpeg-normalize'\n",
      "/home/helemanc/.local/bin\n"
     ]
    }
   ],
   "source": [
    "%cd ffmpeg-normalize"
   ]
  },
  {
   "cell_type": "code",
   "execution_count": 247,
   "id": "02074b27-088d-4ec7-9477-f1fc433034ce",
   "metadata": {},
   "outputs": [
    {
     "name": "stdout",
     "output_type": "stream",
     "text": [
      "/home/helemanc/.local\n"
     ]
    }
   ],
   "source": [
    "%cd .."
   ]
  },
  {
   "cell_type": "code",
   "execution_count": 249,
   "id": "186f10c8-8e65-4a3d-8d8e-d21535583ffe",
   "metadata": {},
   "outputs": [
    {
     "name": "stdout",
     "output_type": "stream",
     "text": [
      "/home/helemanc\n"
     ]
    }
   ],
   "source": [
    "%cd .."
   ]
  },
  {
   "cell_type": "code",
   "execution_count": 250,
   "id": "a81dfde1-b730-40de-b133-506fbccb4cf6",
   "metadata": {},
   "outputs": [
    {
     "name": "stdout",
     "output_type": "stream",
     "text": [
      "/home/helemanc/Desktop/Binary_Model/ffmpeg-normalize\n"
     ]
    }
   ],
   "source": [
    "%cd '/home/helemanc/Desktop/Binary_Model/ffmpeg-normalize'"
   ]
  },
  {
   "cell_type": "code",
   "execution_count": 258,
   "id": "cb9ad1b5-baae-439a-b96c-fbc2acc263f1",
   "metadata": {},
   "outputs": [
    {
     "data": {
      "text/plain": [
       "'/media/helemanc/OS/Users/i2CAT/Desktop/Datasets SER/creamd/AudioWAV/1091_IEO_HAP_HI.wav'"
      ]
     },
     "execution_count": 258,
     "metadata": {},
     "output_type": "execute_result"
    }
   ],
   "source": [
    "CREMA_df.path[0]"
   ]
  },
  {
   "cell_type": "code",
   "execution_count": 262,
   "id": "149f5c7a-94c9-4bfb-a136-7e30d91d7fd0",
   "metadata": {},
   "outputs": [
    {
     "name": "stdout",
     "output_type": "stream",
     "text": [
      "Collecting pydub\n",
      "  Downloading pydub-0.25.1-py2.py3-none-any.whl (32 kB)\n",
      "Installing collected packages: pydub\n",
      "Successfully installed pydub-0.25.1\n"
     ]
    }
   ],
   "source": [
    "!pip3 install pydub"
   ]
  },
  {
   "cell_type": "code",
   "execution_count": 263,
   "id": "dc3b6bb3-bcfd-411b-887d-894251abd100",
   "metadata": {},
   "outputs": [
    {
     "data": {
      "text/plain": [
       "<_io.BufferedRandom name='/home/helemanc/Desktop/Binary_Model/normalized_audio/norm_crema.wav'>"
      ]
     },
     "execution_count": 263,
     "metadata": {},
     "output_type": "execute_result"
    }
   ],
   "source": [
    "from pydub import AudioSegment\n",
    "\n",
    "pad_ms = 1000  # milliseconds of silence needed\n",
    "silence = AudioSegment.silent(duration=pad_ms)\n",
    "audio = AudioSegment.from_wav(CREMA_df.path[0])\n",
    "\n",
    "padded = audio + silence  # Adding silence after the audio\n",
    "padded.export('/home/helemanc/Desktop/Binary_Model/normalized_audio/norm_crema.wav', format='wav')"
   ]
  },
  {
   "cell_type": "code",
   "execution_count": null,
   "id": "d57228f5-3af6-42e4-ad9f-d08dbb89e4f0",
   "metadata": {},
   "outputs": [],
   "source": []
  }
 ],
 "metadata": {
  "kernelspec": {
   "display_name": "Python 3 (ipykernel)",
   "language": "python",
   "name": "python3"
  },
  "language_info": {
   "codemirror_mode": {
    "name": "ipython",
    "version": 3
   },
   "file_extension": ".py",
   "mimetype": "text/x-python",
   "name": "python",
   "nbconvert_exporter": "python",
   "pygments_lexer": "ipython3",
   "version": "3.8.10"
  },
  "toc-autonumbering": true
 },
 "nbformat": 4,
 "nbformat_minor": 5
}

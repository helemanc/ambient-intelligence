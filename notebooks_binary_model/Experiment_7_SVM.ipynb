{
 "cells": [
  {
   "cell_type": "markdown",
   "id": "74a0a0d3-8768-4701-a5cc-05b68e088935",
   "metadata": {
    "tags": []
   },
   "source": [
    "# Configuration\n",
    "\n",
    "NOTES: The warnings after the import are referred to the fact that Tensorflow 2.x versions are built to directly look for a GPU in the system. The warning can be forgot if you are not going to use the GPU. \n",
    "\n",
    "NOTE: Differently from experiments 1-4, here we have the 'mean' and 'std' of mfccs in **compute_mfccs** function"
   ]
  },
  {
   "cell_type": "code",
   "execution_count": 251,
   "id": "f7872ac5-0d57-4b36-b7b4-f1be35c1b996",
   "metadata": {},
   "outputs": [],
   "source": [
    "!source myenv/bin/activate"
   ]
  },
  {
   "cell_type": "code",
   "execution_count": 252,
   "id": "4b2c35f8-80f8-4e23-9d08-d0746750df37",
   "metadata": {},
   "outputs": [],
   "source": [
    "# samples in 5 seconds of audio, 16 KHz sample rate \n",
    "LENGTH_CHOSEN =  80000"
   ]
  },
  {
   "cell_type": "code",
   "execution_count": 253,
   "id": "4a449f49-a33c-4f25-8efb-56943082d963",
   "metadata": {},
   "outputs": [
    {
     "data": {
      "text/plain": [
       "[]"
      ]
     },
     "execution_count": 253,
     "metadata": {},
     "output_type": "execute_result"
    }
   ],
   "source": [
    "import os\n",
    "import librosa\n",
    "import numpy as np\n",
    "from tqdm.notebook import tqdm\n",
    "import pandas as pd\n",
    "import matplotlib.pyplot as plt\n",
    "import warnings\n",
    "warnings.filterwarnings(\"ignore\")\n",
    "import seaborn as sns\n",
    "sns.set_style('whitegrid')\n",
    "import IPython.display as ipd\n",
    "import librosa.display\n",
    "import numpy as np\n",
    "import pickle\n",
    "import scipy\n",
    "import ipywidgets\n",
    "import math\n",
    "from time import time\n",
    "\n",
    "from sklearn.model_selection import train_test_split\n",
    "from sklearn.ensemble import RandomForestClassifier\n",
    "from sklearn.preprocessing import StandardScaler, LabelEncoder\n",
    "from sklearn.pipeline import make_pipeline\n",
    "from sklearn.cluster import KMeans\n",
    "from sklearn.metrics import accuracy_score, confusion_matrix\n",
    "from scipy.cluster.hierarchy import dendrogram\n",
    "from sklearn.cluster import AgglomerativeClustering\n",
    "from sklearn.model_selection import RandomizedSearchCV\n",
    "from sklearn.model_selection import KFold, StratifiedKFold\n",
    "\n",
    "\n",
    "from tqdm import tqdm\n",
    "\n",
    "import tensorflow as tf\n",
    "from tensorflow.keras.layers import Dense, Dropout, Conv2D, AveragePooling1D, MaxPooling2D, Flatten\n",
    "from tensorflow.keras.optimizers import SGD, Adam \n",
    "from tensorflow.keras.models import Sequential\n",
    "from tensorflow.keras import layers\n",
    "from tensorflow.keras import regularizers\n",
    "\n",
    "# from livelossplot import PlotLossesKeras\n",
    "tf.config.list_physical_devices('GPU')"
   ]
  },
  {
   "cell_type": "code",
   "execution_count": 254,
   "id": "999ed50b-a4bf-4a84-8bc7-3617aca2e6f0",
   "metadata": {},
   "outputs": [],
   "source": [
    "# import SVM\n",
    "from sklearn.model_selection import ParameterGrid\n",
    "from sklearn.svm import SVC "
   ]
  },
  {
   "cell_type": "code",
   "execution_count": 255,
   "id": "a4a5f6f0-f411-4bae-900e-3ac40dedd85f",
   "metadata": {},
   "outputs": [],
   "source": [
    "# set reproducibility \n",
    "seed = 7\n",
    "np.random.seed(seed)"
   ]
  },
  {
   "cell_type": "markdown",
   "id": "a14f7fbc-87b4-42e3-b667-308c459b4efd",
   "metadata": {},
   "source": [
    "# Utils"
   ]
  },
  {
   "cell_type": "code",
   "execution_count": 256,
   "id": "1aee350a-3230-4169-a364-0751afd7985f",
   "metadata": {},
   "outputs": [],
   "source": [
    "def load_files(df):\n",
    "    X = []\n",
    "    for i in tqdm(df['path']): \n",
    "        X.append(librosa.load(i, res_type='kaiser_fast', sr=16000))\n",
    "    return X\n",
    "\n",
    "def extract_samples(X): \n",
    "    samples = []\n",
    "    for ind,i in enumerate(X):\n",
    "        samples.append(i[0])\n",
    "    return samples \n",
    "\n",
    "def extract_labels(df): \n",
    "    labels = df['emotion_label'].copy()\n",
    "    return labels \n",
    "\n",
    "def compute_lengths(samples): \n",
    "    lengths = [len(x) for x in samples]\n",
    "    return lengths \n",
    "\n",
    "def check_outliers(lengths):\n",
    "    # outliers\n",
    "    lengths = np.array(lengths)\n",
    "    print((lengths > 300000).sum())\n",
    "    new_lengths = lengths[lengths < 300000]\n",
    "    return new_lengths \n",
    "\n",
    "def compute_mean_length(lengths): \n",
    "    return lengths.mean()\n",
    "\n",
    "def cut_and_pad(samples, labels, length_chosen = LENGTH_CHOSEN): \n",
    "    X_new = []\n",
    "    y_new = []\n",
    "    count = 0 \n",
    "    for ind,i in enumerate(samples):\n",
    "        if i.shape[0] < 300000:\n",
    "            if i.shape[0] > length_chosen:\n",
    "                new = i[:length_chosen]\n",
    "                X_new.append(new)\n",
    "            elif i.shape[0] < length_chosen:\n",
    "                new = np.pad(i,math.ceil((length_chosen-i.shape[0])/2), mode='median')\n",
    "                X_new.append(new)\n",
    "            else:\n",
    "                X_new.append(i)\n",
    "            y_new.append(labels[count])\n",
    "        count+=1\n",
    "    \n",
    "    return X_new, y_new\n",
    "\n",
    "def compute_mfccs(samples, n_mfcc): \n",
    "    mfccs = []\n",
    "    for i in tqdm(samples):\n",
    "        mfcc = librosa.feature.mfcc(y=i, sr=16000, n_mfcc=n_mfcc)\n",
    "        mfcc = mfcc.T\n",
    "        mfcc = np.array(mfcc)\n",
    "        #mfccs.append(mfcc[:, 1:]) # get rid of the first component \n",
    "        mfccs.append(np.mean(mfcc[:, 1:], axis = 0))\n",
    "    mfccs = np.array(mfccs)\n",
    "    return mfccs\n",
    "\n",
    "'''\n",
    "\n",
    "def compute_mfccs(samples, n_mfcc): \n",
    "    mfccs = []\n",
    "    for i in tqdm(samples):\n",
    "        mfcc = librosa.feature.mfcc(y=i, sr=16000, n_mfcc=n_mfcc)\n",
    "        mfcc = mfcc.T\n",
    "        mfcc = np.array(mfcc)\n",
    "        #mfccs.append(mfcc[:, 1:]) # get rid of the first component \n",
    "        mean = np.mean(mfcc[:, 1:].T, axis = 0)\n",
    "        std = np.std(mfcc[:, 1:].T, axis = 0)\n",
    "        features = np.concatenate((mean, std), axis = None)\n",
    "        \n",
    "        mfccs.append(features)\n",
    "    mfccs = np.array(mfccs)\n",
    "    return mfccs\n",
    "'''\n",
    "\n",
    "def feature_extractor(df_train, df_val, df_test, n_mfcc): \n",
    "    load_train = load_files(df_train)\n",
    "    samples_train = extract_samples(load_train)\n",
    "    labels_train = extract_labels(df_train)\n",
    "    samples_train, labels_train = cut_and_pad(samples_train, labels_train)\n",
    "    samples_train = np.array(samples_train)\n",
    "    labels_train = np.array(labels_train)\n",
    "    mfccs_train = compute_mfccs(samples_train, n_mfcc = n_mfcc)\n",
    "    \n",
    "    \n",
    "  \n",
    "    load_val = load_files(df_val)\n",
    "    samples_val = extract_samples(load_val)\n",
    "    labels_val = extract_labels(df_val)\n",
    "    samples_val, labels_val = cut_and_pad(samples_val, labels_val)\n",
    "    samples_val = np.array(samples_val)\n",
    "    labels_val = np.array(labels_val)\n",
    "    mfccs_val = compute_mfccs(samples_val, n_mfcc = n_mfcc)\n",
    "    \n",
    "    \n",
    "    load_test = load_files(df_test)\n",
    "    samples_test = extract_samples(load_test)\n",
    "    labels_test = extract_labels(df_test)\n",
    "    samples_test, labels_test = cut_and_pad(samples_test, labels_test)\n",
    "    samples_test = np.array(samples_test)\n",
    "    labels_test = np.array(labels_test)\n",
    "    mfccs_test = compute_mfccs(samples_test, n_mfcc = n_mfcc)\n",
    "    \n",
    "\n",
    "    return mfccs_train, labels_train,  mfccs_val, labels_val, mfccs_test, labels_test\n",
    "    \n",
    "\n",
    "def feature_extractor_tess(df_train,  df_test, n_mfcc): \n",
    "    # we do not have the validation set here \n",
    "    load_train = load_files(df_train)\n",
    "    samples_train = extract_samples(load_train)\n",
    "    labels_train = extract_labels(df_train)\n",
    "    samples_train, labels_train = cut_and_pad(samples_train, labels_train)\n",
    "    samples_train = np.array(samples_train)\n",
    "    labels_train = np.array(labels_train)\n",
    "    mfccs_train = compute_mfccs(samples_train, n_mfcc = n_mfcc)\n",
    "    \n",
    "    \n",
    "    \n",
    "    load_test = load_files(df_test)\n",
    "    samples_test = extract_samples(load_test)\n",
    "    labels_test = extract_labels(df_test)\n",
    "    samples_test, labels_test = cut_and_pad(samples_test, labels_test)\n",
    "    samples_test = np.array(samples_test)\n",
    "    labels_test = np.array(labels_test)\n",
    "    mfccs_test = compute_mfccs(samples_test, n_mfcc = n_mfcc)\n",
    "    \n",
    "    return mfccs_train, labels_train, mfccs_test, labels_test\n",
    "    \n",
    "def encode_labels(labels_train, labels_val, labels_test): \n",
    "    \n",
    "    emotion_enc = {'fear':1, 'disgust':1, 'neutral':0, 'calm':0,  'happy':0, 'sadness':1, 'surprise':0, 'angry':1}\n",
    "    y_train = pd.Series(labels_train).replace(emotion_enc)\n",
    "  \n",
    "    y_test = pd.Series(labels_test).map(emotion_enc)\n",
    "    y_val = pd.Series(labels_val).map(emotion_enc)\n",
    "    return y_train, y_val, y_test \n",
    "\n",
    "\n",
    "def encode_labels_tess(labels_train, labels_test): \n",
    "    \n",
    "    emotion_enc = {'fear':1, 'disgust':1, 'neutral':0, 'calm':0,  'happy':0, 'sadness':1, 'surprise':0, 'angry':1}\n",
    "    y_train = pd.Series(labels_train).replace(emotion_enc)\n",
    "  \n",
    "    y_test = pd.Series(labels_test).map(emotion_enc)\n",
    "    return y_train, y_test\n",
    "    \n",
    "def standard_scaling(X_train, X_val, X_test): \n",
    "  \n",
    "    scaler = StandardScaler()\n",
    "    X_train = scaler.fit_transform(X_train.reshape(-1, X_train.shape[-1])).reshape(X_train.shape)\n",
    "    X_test = scaler.transform(X_test.reshape(-1, X_test.shape[-1])).reshape(X_test.shape)\n",
    "    X_val = scaler.transform(X_val.reshape(-1, X_val.shape[-1])).reshape(X_val.shape)\n",
    "    return X_train, X_val, X_test \n",
    "    \n",
    "def standard_scaling_tess(X_train, X_test): \n",
    "  \n",
    "    scaler = StandardScaler()\n",
    "    X_train = scaler.fit_transform(X_train.reshape(-1, X_train.shape[-1])).reshape(X_train.shape)\n",
    "    X_test = scaler.transform(X_test.reshape(-1, X_test.shape[-1])).reshape(X_test.shape)\n",
    "    return X_train, X_test   \n",
    "    \n"
   ]
  },
  {
   "cell_type": "markdown",
   "id": "978776c8-4641-4f55-97c2-b2964cf7d2f2",
   "metadata": {},
   "source": [
    "# Compute dataframes for datasets and split in Train, Val, Test "
   ]
  },
  {
   "cell_type": "code",
   "execution_count": 257,
   "id": "f47b4239-5a40-48b0-ae59-bd186cbd14b9",
   "metadata": {},
   "outputs": [],
   "source": [
    "main_path = '/media/helemanc/OS/Users/i2CAT/Desktop/Datasets SER/'\n",
    "TESS = os.path.join(main_path, \"tess/TESS Toronto emotional speech set data/\") \n",
    "RAV = os.path.join(main_path, \"ravdess-emotional-speech-audio/audio_speech_actors_01-24\")\n",
    "SAVEE = os.path.join(main_path, \"savee/ALL/\")\n",
    "CREMA = os.path.join(main_path, \"creamd/AudioWAV/\")"
   ]
  },
  {
   "cell_type": "markdown",
   "id": "468c13d6-3a76-4bd8-bca1-464b0017c3af",
   "metadata": {
    "tags": []
   },
   "source": [
    "## RADVESS"
   ]
  },
  {
   "cell_type": "code",
   "execution_count": 258,
   "id": "e1239717-d77c-441f-ba7f-c025f4e5046d",
   "metadata": {},
   "outputs": [
    {
     "name": "stderr",
     "output_type": "stream",
     "text": [
      "25it [00:00, 721.37it/s]\n"
     ]
    }
   ],
   "source": [
    "lst = []\n",
    "emotion = []\n",
    "voc_channel = []\n",
    "full_path = []\n",
    "modality = []\n",
    "intensity = []\n",
    "actors = []\n",
    "phrase =[]\n",
    "\n",
    "for root, dirs, files in tqdm(os.walk(RAV)):\n",
    "    for file in files:\n",
    "        try:\n",
    "            #Load librosa array, obtain mfcss, store the file and the mfcss information in a new array\n",
    "            # X, sample_rate = librosa.load(os.path.join(root,file), res_type='kaiser_fast')\n",
    "            # mfccs = np.mean(librosa.feature.mfcc(y=X, sr=sample_rate, n_mfcc=40).T,axis=0) \n",
    "            # The instruction below converts the labels (from 1 to 8) to a series from 0 to 7\n",
    "            # This is because our predictor needs to start from 0 otherwise it will try to predict also 0.\n",
    "           \n",
    "            modal = int(file[1:2])\n",
    "            vchan = int(file[4:5])\n",
    "            lab = int(file[7:8])\n",
    "            ints = int(file[10:11])\n",
    "            phr = int(file[13:14])\n",
    "            act = int(file[18:20])\n",
    "            # arr = mfccs, lab\n",
    "            # lst.append(arr)\n",
    "            \n",
    "            modality.append(modal)\n",
    "            voc_channel.append(vchan)\n",
    "            emotion.append(lab) #only labels\n",
    "            intensity.append(ints)\n",
    "            phrase.append(phr)\n",
    "            actors.append(act)\n",
    "            \n",
    "            full_path.append((root, file)) # only files\n",
    "          # If the file is not valid, skip it\n",
    "        except ValueError:\n",
    "            continue"
   ]
  },
  {
   "cell_type": "code",
   "execution_count": 259,
   "id": "35588c0d-259d-4a11-86a7-40c576eefc3f",
   "metadata": {},
   "outputs": [],
   "source": [
    "# 01 = neutral, 02 = calm, 03 = happy, 04 = sad, 05 = angry, 06 = fearful, 07 = disgust, 08 = surprised\n",
    "# merge neutral and calm\n",
    "emotions_list = ['neutral', 'neutral', 'happy', 'sadness', 'angry', 'fear', 'disgust', 'surprise']\n",
    "emotion_dict = {em[0]+1:em[1] for em in enumerate(emotions_list)}\n",
    "\n",
    "df = pd.DataFrame([emotion, voc_channel, modality, intensity, actors, actors,phrase, full_path]).T\n",
    "df.columns = ['emotion', 'voc_channel', 'modality', 'intensity', 'actors', 'gender', 'phrase', 'path']\n",
    "df['emotion'] = df['emotion'].map(emotion_dict)\n",
    "df['voc_channel'] = df['voc_channel'].map({1: 'speech', 2:'song'})\n",
    "df['modality'] = df['modality'].map({1: 'full AV', 2:'video only', 3:'audio only'})\n",
    "df['intensity'] = df['intensity'].map({1: 'normal', 2:'strong'})\n",
    "df['actors'] = df['actors']\n",
    "df['gender'] = df['actors'].apply(lambda x: 'female' if x%2 == 0 else 'male')\n",
    "df['phrase'] = df['phrase'].map({1: 'Kids are talking by the door', 2:'Dogs are sitting by the door'})\n",
    "df['path'] = df['path'].apply(lambda x: x[0] + '/' + x[1])"
   ]
  },
  {
   "cell_type": "code",
   "execution_count": 260,
   "id": "8457c88f-b631-48ef-a9bb-19fa86da5cc5",
   "metadata": {},
   "outputs": [],
   "source": [
    "# remove files with noise to apply the same noise to all files for data augmentation \n",
    "df = df[~df.path.str.contains('noise')]"
   ]
  },
  {
   "cell_type": "code",
   "execution_count": 261,
   "id": "8c46fe74-2a30-49fe-a417-6365d848d93d",
   "metadata": {},
   "outputs": [
    {
     "data": {
      "text/html": [
       "<div>\n",
       "<style scoped>\n",
       "    .dataframe tbody tr th:only-of-type {\n",
       "        vertical-align: middle;\n",
       "    }\n",
       "\n",
       "    .dataframe tbody tr th {\n",
       "        vertical-align: top;\n",
       "    }\n",
       "\n",
       "    .dataframe thead th {\n",
       "        text-align: right;\n",
       "    }\n",
       "</style>\n",
       "<table border=\"1\" class=\"dataframe\">\n",
       "  <thead>\n",
       "    <tr style=\"text-align: right;\">\n",
       "      <th></th>\n",
       "      <th>emotion</th>\n",
       "      <th>voc_channel</th>\n",
       "      <th>modality</th>\n",
       "      <th>intensity</th>\n",
       "      <th>actors</th>\n",
       "      <th>gender</th>\n",
       "      <th>phrase</th>\n",
       "      <th>path</th>\n",
       "    </tr>\n",
       "  </thead>\n",
       "  <tbody>\n",
       "    <tr>\n",
       "      <th>0</th>\n",
       "      <td>disgust</td>\n",
       "      <td>speech</td>\n",
       "      <td>audio only</td>\n",
       "      <td>normal</td>\n",
       "      <td>1</td>\n",
       "      <td>male</td>\n",
       "      <td>Dogs are sitting by the door</td>\n",
       "      <td>/media/helemanc/OS/Users/i2CAT/Desktop/Dataset...</td>\n",
       "    </tr>\n",
       "    <tr>\n",
       "      <th>2</th>\n",
       "      <td>disgust</td>\n",
       "      <td>speech</td>\n",
       "      <td>audio only</td>\n",
       "      <td>strong</td>\n",
       "      <td>1</td>\n",
       "      <td>male</td>\n",
       "      <td>Kids are talking by the door</td>\n",
       "      <td>/media/helemanc/OS/Users/i2CAT/Desktop/Dataset...</td>\n",
       "    </tr>\n",
       "    <tr>\n",
       "      <th>4</th>\n",
       "      <td>disgust</td>\n",
       "      <td>speech</td>\n",
       "      <td>audio only</td>\n",
       "      <td>strong</td>\n",
       "      <td>1</td>\n",
       "      <td>male</td>\n",
       "      <td>Kids are talking by the door</td>\n",
       "      <td>/media/helemanc/OS/Users/i2CAT/Desktop/Dataset...</td>\n",
       "    </tr>\n",
       "    <tr>\n",
       "      <th>6</th>\n",
       "      <td>disgust</td>\n",
       "      <td>speech</td>\n",
       "      <td>audio only</td>\n",
       "      <td>strong</td>\n",
       "      <td>1</td>\n",
       "      <td>male</td>\n",
       "      <td>Dogs are sitting by the door</td>\n",
       "      <td>/media/helemanc/OS/Users/i2CAT/Desktop/Dataset...</td>\n",
       "    </tr>\n",
       "    <tr>\n",
       "      <th>8</th>\n",
       "      <td>disgust</td>\n",
       "      <td>speech</td>\n",
       "      <td>audio only</td>\n",
       "      <td>strong</td>\n",
       "      <td>1</td>\n",
       "      <td>male</td>\n",
       "      <td>Dogs are sitting by the door</td>\n",
       "      <td>/media/helemanc/OS/Users/i2CAT/Desktop/Dataset...</td>\n",
       "    </tr>\n",
       "  </tbody>\n",
       "</table>\n",
       "</div>"
      ],
      "text/plain": [
       "   emotion voc_channel    modality intensity actors gender  \\\n",
       "0  disgust      speech  audio only    normal      1   male   \n",
       "2  disgust      speech  audio only    strong      1   male   \n",
       "4  disgust      speech  audio only    strong      1   male   \n",
       "6  disgust      speech  audio only    strong      1   male   \n",
       "8  disgust      speech  audio only    strong      1   male   \n",
       "\n",
       "                         phrase  \\\n",
       "0  Dogs are sitting by the door   \n",
       "2  Kids are talking by the door   \n",
       "4  Kids are talking by the door   \n",
       "6  Dogs are sitting by the door   \n",
       "8  Dogs are sitting by the door   \n",
       "\n",
       "                                                path  \n",
       "0  /media/helemanc/OS/Users/i2CAT/Desktop/Dataset...  \n",
       "2  /media/helemanc/OS/Users/i2CAT/Desktop/Dataset...  \n",
       "4  /media/helemanc/OS/Users/i2CAT/Desktop/Dataset...  \n",
       "6  /media/helemanc/OS/Users/i2CAT/Desktop/Dataset...  \n",
       "8  /media/helemanc/OS/Users/i2CAT/Desktop/Dataset...  "
      ]
     },
     "execution_count": 261,
     "metadata": {},
     "output_type": "execute_result"
    }
   ],
   "source": [
    "df.head()"
   ]
  },
  {
   "cell_type": "code",
   "execution_count": 262,
   "id": "206bc12d-21b7-4489-88b7-22cb1e658185",
   "metadata": {},
   "outputs": [],
   "source": [
    "# only speech\n",
    "RAV_df = df\n",
    "RAV_df = RAV_df.loc[RAV_df.voc_channel == 'speech']"
   ]
  },
  {
   "cell_type": "code",
   "execution_count": 263,
   "id": "e088174a-a4f2-45b4-8b3f-7340c9861f66",
   "metadata": {},
   "outputs": [],
   "source": [
    "RAV_df.insert(0, \"emotion_label\", RAV_df.emotion, True)"
   ]
  },
  {
   "cell_type": "code",
   "execution_count": 264,
   "id": "d4d20aae-9464-4222-880b-80c6016259ab",
   "metadata": {},
   "outputs": [],
   "source": [
    "RAV_df = RAV_df.drop(['emotion', 'voc_channel', 'modality', 'intensity', 'phrase'], 1)"
   ]
  },
  {
   "cell_type": "code",
   "execution_count": 265,
   "id": "29bb8d57-118a-4da6-97a2-7523d2747123",
   "metadata": {
    "tags": []
   },
   "outputs": [
    {
     "data": {
      "text/html": [
       "<div>\n",
       "<style scoped>\n",
       "    .dataframe tbody tr th:only-of-type {\n",
       "        vertical-align: middle;\n",
       "    }\n",
       "\n",
       "    .dataframe tbody tr th {\n",
       "        vertical-align: top;\n",
       "    }\n",
       "\n",
       "    .dataframe thead th {\n",
       "        text-align: right;\n",
       "    }\n",
       "</style>\n",
       "<table border=\"1\" class=\"dataframe\">\n",
       "  <thead>\n",
       "    <tr style=\"text-align: right;\">\n",
       "      <th></th>\n",
       "      <th>emotion_label</th>\n",
       "      <th>actors</th>\n",
       "      <th>gender</th>\n",
       "      <th>path</th>\n",
       "    </tr>\n",
       "  </thead>\n",
       "  <tbody>\n",
       "    <tr>\n",
       "      <th>0</th>\n",
       "      <td>disgust</td>\n",
       "      <td>1</td>\n",
       "      <td>male</td>\n",
       "      <td>/media/helemanc/OS/Users/i2CAT/Desktop/Dataset...</td>\n",
       "    </tr>\n",
       "    <tr>\n",
       "      <th>2</th>\n",
       "      <td>disgust</td>\n",
       "      <td>1</td>\n",
       "      <td>male</td>\n",
       "      <td>/media/helemanc/OS/Users/i2CAT/Desktop/Dataset...</td>\n",
       "    </tr>\n",
       "    <tr>\n",
       "      <th>4</th>\n",
       "      <td>disgust</td>\n",
       "      <td>1</td>\n",
       "      <td>male</td>\n",
       "      <td>/media/helemanc/OS/Users/i2CAT/Desktop/Dataset...</td>\n",
       "    </tr>\n",
       "    <tr>\n",
       "      <th>6</th>\n",
       "      <td>disgust</td>\n",
       "      <td>1</td>\n",
       "      <td>male</td>\n",
       "      <td>/media/helemanc/OS/Users/i2CAT/Desktop/Dataset...</td>\n",
       "    </tr>\n",
       "    <tr>\n",
       "      <th>8</th>\n",
       "      <td>disgust</td>\n",
       "      <td>1</td>\n",
       "      <td>male</td>\n",
       "      <td>/media/helemanc/OS/Users/i2CAT/Desktop/Dataset...</td>\n",
       "    </tr>\n",
       "    <tr>\n",
       "      <th>...</th>\n",
       "      <td>...</td>\n",
       "      <td>...</td>\n",
       "      <td>...</td>\n",
       "      <td>...</td>\n",
       "    </tr>\n",
       "    <tr>\n",
       "      <th>2871</th>\n",
       "      <td>neutral</td>\n",
       "      <td>24</td>\n",
       "      <td>female</td>\n",
       "      <td>/media/helemanc/OS/Users/i2CAT/Desktop/Dataset...</td>\n",
       "    </tr>\n",
       "    <tr>\n",
       "      <th>2873</th>\n",
       "      <td>neutral</td>\n",
       "      <td>24</td>\n",
       "      <td>female</td>\n",
       "      <td>/media/helemanc/OS/Users/i2CAT/Desktop/Dataset...</td>\n",
       "    </tr>\n",
       "    <tr>\n",
       "      <th>2875</th>\n",
       "      <td>neutral</td>\n",
       "      <td>24</td>\n",
       "      <td>female</td>\n",
       "      <td>/media/helemanc/OS/Users/i2CAT/Desktop/Dataset...</td>\n",
       "    </tr>\n",
       "    <tr>\n",
       "      <th>2877</th>\n",
       "      <td>neutral</td>\n",
       "      <td>24</td>\n",
       "      <td>female</td>\n",
       "      <td>/media/helemanc/OS/Users/i2CAT/Desktop/Dataset...</td>\n",
       "    </tr>\n",
       "    <tr>\n",
       "      <th>2879</th>\n",
       "      <td>neutral</td>\n",
       "      <td>24</td>\n",
       "      <td>female</td>\n",
       "      <td>/media/helemanc/OS/Users/i2CAT/Desktop/Dataset...</td>\n",
       "    </tr>\n",
       "  </tbody>\n",
       "</table>\n",
       "<p>1440 rows × 4 columns</p>\n",
       "</div>"
      ],
      "text/plain": [
       "     emotion_label actors  gender  \\\n",
       "0          disgust      1    male   \n",
       "2          disgust      1    male   \n",
       "4          disgust      1    male   \n",
       "6          disgust      1    male   \n",
       "8          disgust      1    male   \n",
       "...            ...    ...     ...   \n",
       "2871       neutral     24  female   \n",
       "2873       neutral     24  female   \n",
       "2875       neutral     24  female   \n",
       "2877       neutral     24  female   \n",
       "2879       neutral     24  female   \n",
       "\n",
       "                                                   path  \n",
       "0     /media/helemanc/OS/Users/i2CAT/Desktop/Dataset...  \n",
       "2     /media/helemanc/OS/Users/i2CAT/Desktop/Dataset...  \n",
       "4     /media/helemanc/OS/Users/i2CAT/Desktop/Dataset...  \n",
       "6     /media/helemanc/OS/Users/i2CAT/Desktop/Dataset...  \n",
       "8     /media/helemanc/OS/Users/i2CAT/Desktop/Dataset...  \n",
       "...                                                 ...  \n",
       "2871  /media/helemanc/OS/Users/i2CAT/Desktop/Dataset...  \n",
       "2873  /media/helemanc/OS/Users/i2CAT/Desktop/Dataset...  \n",
       "2875  /media/helemanc/OS/Users/i2CAT/Desktop/Dataset...  \n",
       "2877  /media/helemanc/OS/Users/i2CAT/Desktop/Dataset...  \n",
       "2879  /media/helemanc/OS/Users/i2CAT/Desktop/Dataset...  \n",
       "\n",
       "[1440 rows x 4 columns]"
      ]
     },
     "execution_count": 265,
     "metadata": {},
     "output_type": "execute_result"
    }
   ],
   "source": [
    "RAV_df"
   ]
  },
  {
   "cell_type": "code",
   "execution_count": 266,
   "id": "7b127121-52ce-40f3-96ad-5a2ff7520f65",
   "metadata": {
    "tags": []
   },
   "outputs": [],
   "source": [
    "RAV_train = []\n",
    "RAV_val = []\n",
    "RAV_test = []"
   ]
  },
  {
   "cell_type": "code",
   "execution_count": 267,
   "id": "b7a37c59-d000-4fc4-9eae-83cd379c1fa7",
   "metadata": {},
   "outputs": [
    {
     "data": {
      "text/plain": [
       "(1200, 120, 120)"
      ]
     },
     "execution_count": 267,
     "metadata": {},
     "output_type": "execute_result"
    }
   ],
   "source": [
    "for index, row in RAV_df.iterrows():\n",
    "    if row['actors'] in range(1,21): \n",
    "        RAV_train.append(row) \n",
    "    elif row['actors'] in range(21,23): \n",
    "        RAV_val.append(row)\n",
    "    elif row['actors'] in range(23,25): \n",
    "        RAV_test.append(row)\n",
    "len(RAV_train), len(RAV_val), len(RAV_test)"
   ]
  },
  {
   "cell_type": "code",
   "execution_count": 268,
   "id": "652faa7f-497a-4212-9839-baf4fa03a855",
   "metadata": {},
   "outputs": [],
   "source": [
    "RAV_train = pd.DataFrame(RAV_train)\n",
    "RAV_val = pd.DataFrame(RAV_val)\n",
    "RAV_test = pd.DataFrame(RAV_test)"
   ]
  },
  {
   "cell_type": "code",
   "execution_count": 269,
   "id": "778af17a-972e-4d90-943e-03a4f2e88f33",
   "metadata": {
    "tags": []
   },
   "outputs": [],
   "source": [
    "RAV_train = RAV_train.drop(['actors'], 1)\n",
    "RAV_val = RAV_val.drop(['actors'], 1)\n",
    "RAV_test = RAV_test.drop(['actors'], 1)"
   ]
  },
  {
   "cell_type": "code",
   "execution_count": 270,
   "id": "e7f1dcd6-030a-414a-803c-4f8d4f3c9fde",
   "metadata": {},
   "outputs": [],
   "source": [
    "RAV_train.reset_index(drop=True, inplace = True) \n",
    "RAV_val.reset_index(drop=True, inplace = True) \n",
    "RAV_test.reset_index(drop=True, inplace = True ) "
   ]
  },
  {
   "cell_type": "markdown",
   "id": "5c630533-8fea-4fe3-9677-b9473f8fd4fe",
   "metadata": {
    "tags": []
   },
   "source": [
    "## SAVEE"
   ]
  },
  {
   "cell_type": "code",
   "execution_count": 271,
   "id": "66e620b2-df2f-4b6f-8aec-25247d16d703",
   "metadata": {},
   "outputs": [
    {
     "data": {
      "text/plain": [
       "neutral     120\n",
       "sadness      60\n",
       "surprise     60\n",
       "happy        60\n",
       "disgust      60\n",
       "fear         60\n",
       "angry        60\n",
       "Name: emotion_label, dtype: int64"
      ]
     },
     "execution_count": 271,
     "metadata": {},
     "output_type": "execute_result"
    }
   ],
   "source": [
    "# Get the data location for SAVEE\n",
    "dir_list = os.listdir(SAVEE)\n",
    "\n",
    "# parse the filename to get the emotions\n",
    "emotion=[]\n",
    "path = []\n",
    "actors = []\n",
    "gender = []\n",
    "for i in dir_list:\n",
    "    actors.append(i[:2])\n",
    "    if i[-8:-6]=='_a':\n",
    "        emotion.append('angry')\n",
    "        gender.append('male')\n",
    "    elif i[-8:-6]=='_d':\n",
    "        emotion.append('disgust')\n",
    "        gender.append('male')\n",
    "    elif i[-8:-6]=='_f':\n",
    "        emotion.append('fear')\n",
    "        gender.append('male')\n",
    "    elif i[-8:-6]=='_h':\n",
    "        emotion.append('happy')\n",
    "        gender.append('male')\n",
    "    elif i[-8:-6]=='_n':\n",
    "        emotion.append('neutral')\n",
    "        gender.append('male')\n",
    "    elif i[-8:-6]=='sa':\n",
    "        emotion.append('sadness')\n",
    "        gender.append('male')\n",
    "    elif i[-8:-6]=='su':\n",
    "        emotion.append('surprise')\n",
    "        gender.append('male') \n",
    "    else:\n",
    "        emotion.append('Unknown') \n",
    "    path.append(SAVEE + i)\n",
    "    \n",
    "# Now check out the label count distribution \n",
    "SAVEE_df = pd.DataFrame(emotion, columns = ['emotion_label'])\n",
    "                      \n",
    "SAVEE_df = pd.concat([SAVEE_df,\n",
    "                      pd.DataFrame(actors, columns = ['actors']),\n",
    "                      pd.DataFrame(gender, columns = ['gender']), \n",
    "                      pd.DataFrame(path, columns = ['path'])], axis = 1)\n",
    "SAVEE_df.emotion_label.value_counts()"
   ]
  },
  {
   "cell_type": "code",
   "execution_count": 272,
   "id": "9045bd73-8b0e-45cb-9614-c7f77036fff4",
   "metadata": {},
   "outputs": [
    {
     "data": {
      "text/html": [
       "<div>\n",
       "<style scoped>\n",
       "    .dataframe tbody tr th:only-of-type {\n",
       "        vertical-align: middle;\n",
       "    }\n",
       "\n",
       "    .dataframe tbody tr th {\n",
       "        vertical-align: top;\n",
       "    }\n",
       "\n",
       "    .dataframe thead th {\n",
       "        text-align: right;\n",
       "    }\n",
       "</style>\n",
       "<table border=\"1\" class=\"dataframe\">\n",
       "  <thead>\n",
       "    <tr style=\"text-align: right;\">\n",
       "      <th></th>\n",
       "      <th>emotion_label</th>\n",
       "      <th>actors</th>\n",
       "      <th>gender</th>\n",
       "      <th>path</th>\n",
       "    </tr>\n",
       "  </thead>\n",
       "  <tbody>\n",
       "    <tr>\n",
       "      <th>0</th>\n",
       "      <td>neutral</td>\n",
       "      <td>DC</td>\n",
       "      <td>male</td>\n",
       "      <td>/media/helemanc/OS/Users/i2CAT/Desktop/Dataset...</td>\n",
       "    </tr>\n",
       "    <tr>\n",
       "      <th>1</th>\n",
       "      <td>sadness</td>\n",
       "      <td>KL</td>\n",
       "      <td>male</td>\n",
       "      <td>/media/helemanc/OS/Users/i2CAT/Desktop/Dataset...</td>\n",
       "    </tr>\n",
       "    <tr>\n",
       "      <th>2</th>\n",
       "      <td>sadness</td>\n",
       "      <td>KL</td>\n",
       "      <td>male</td>\n",
       "      <td>/media/helemanc/OS/Users/i2CAT/Desktop/Dataset...</td>\n",
       "    </tr>\n",
       "    <tr>\n",
       "      <th>3</th>\n",
       "      <td>sadness</td>\n",
       "      <td>KL</td>\n",
       "      <td>male</td>\n",
       "      <td>/media/helemanc/OS/Users/i2CAT/Desktop/Dataset...</td>\n",
       "    </tr>\n",
       "    <tr>\n",
       "      <th>4</th>\n",
       "      <td>sadness</td>\n",
       "      <td>KL</td>\n",
       "      <td>male</td>\n",
       "      <td>/media/helemanc/OS/Users/i2CAT/Desktop/Dataset...</td>\n",
       "    </tr>\n",
       "  </tbody>\n",
       "</table>\n",
       "</div>"
      ],
      "text/plain": [
       "  emotion_label actors gender  \\\n",
       "0       neutral     DC   male   \n",
       "1       sadness     KL   male   \n",
       "2       sadness     KL   male   \n",
       "3       sadness     KL   male   \n",
       "4       sadness     KL   male   \n",
       "\n",
       "                                                path  \n",
       "0  /media/helemanc/OS/Users/i2CAT/Desktop/Dataset...  \n",
       "1  /media/helemanc/OS/Users/i2CAT/Desktop/Dataset...  \n",
       "2  /media/helemanc/OS/Users/i2CAT/Desktop/Dataset...  \n",
       "3  /media/helemanc/OS/Users/i2CAT/Desktop/Dataset...  \n",
       "4  /media/helemanc/OS/Users/i2CAT/Desktop/Dataset...  "
      ]
     },
     "execution_count": 272,
     "metadata": {},
     "output_type": "execute_result"
    }
   ],
   "source": [
    "SAVEE_df.head()"
   ]
  },
  {
   "cell_type": "code",
   "execution_count": 273,
   "id": "3e1e3bae-a0ae-4ce6-8b41-472038312eee",
   "metadata": {},
   "outputs": [],
   "source": [
    "SAVEE_train = []\n",
    "SAVEE_val = []\n",
    "SAVEE_test = []"
   ]
  },
  {
   "cell_type": "code",
   "execution_count": 274,
   "id": "2e78bfff-515c-47f1-bc83-e7f7ef16ccdc",
   "metadata": {},
   "outputs": [
    {
     "data": {
      "text/plain": [
       "(240, 120, 120)"
      ]
     },
     "execution_count": 274,
     "metadata": {},
     "output_type": "execute_result"
    }
   ],
   "source": [
    "#DC, JE, JK, KL\n",
    "for index, row in SAVEE_df.iterrows(): \n",
    "    if row['actors'] == 'DC' or row ['actors'] == 'JE':\n",
    "        SAVEE_train.append(row)\n",
    "    elif row['actors'] == 'JK': \n",
    "        SAVEE_val.append(row)\n",
    "    else: \n",
    "        SAVEE_test.append(row)\n",
    "len(SAVEE_train), len(SAVEE_val), len(SAVEE_test)"
   ]
  },
  {
   "cell_type": "code",
   "execution_count": 275,
   "id": "f2905a11-5643-43d4-bb38-f4e31b3bf472",
   "metadata": {},
   "outputs": [],
   "source": [
    "SAVEE_train = pd.DataFrame(SAVEE_train)\n",
    "SAVEE_val = pd.DataFrame(SAVEE_val)\n",
    "SAVEE_test = pd.DataFrame(SAVEE_test)"
   ]
  },
  {
   "cell_type": "code",
   "execution_count": 276,
   "id": "4ce1f861-65ae-4be1-9f26-81519057b077",
   "metadata": {},
   "outputs": [],
   "source": [
    "SAVEE_train = SAVEE_train.drop(['actors'], 1)\n",
    "SAVEE_val = SAVEE_val.drop(['actors'], 1)\n",
    "SAVEE_test = SAVEE_test.drop(['actors'], 1)"
   ]
  },
  {
   "cell_type": "code",
   "execution_count": 277,
   "id": "fc9fdc98-28cd-40ad-ba5c-6f59610ea0a2",
   "metadata": {
    "tags": []
   },
   "outputs": [],
   "source": [
    "SAVEE_train = SAVEE_train.reset_index(drop=True) \n",
    "SAVEE_val = SAVEE_val.reset_index(drop=True) \n",
    "SAVEE_test = SAVEE_test.reset_index(drop=True) "
   ]
  },
  {
   "cell_type": "markdown",
   "id": "c371938e-9ff3-4e4c-a72b-b3a16d675121",
   "metadata": {},
   "source": [
    "## TESS"
   ]
  },
  {
   "cell_type": "code",
   "execution_count": 278,
   "id": "677de470-9068-4960-8afa-e507473d6772",
   "metadata": {},
   "outputs": [
    {
     "data": {
      "text/plain": [
       "angry       1200\n",
       "fear         800\n",
       "surprise     800\n",
       "sadness      800\n",
       "disgust      800\n",
       "neutral      800\n",
       "happy        400\n",
       "Name: emotion_label, dtype: int64"
      ]
     },
     "execution_count": 278,
     "metadata": {},
     "output_type": "execute_result"
    }
   ],
   "source": [
    "dir_list = os.listdir(TESS)\n",
    "dir_list.sort()\n",
    "dir_list\n",
    "\n",
    "path = []\n",
    "emotion = []\n",
    "gender = []\n",
    "actors = []\n",
    "\n",
    "for i in dir_list:\n",
    "    fname = os.listdir(TESS + i)\n",
    "    for f in fname:\n",
    "        if i == 'OAF_angry':\n",
    "            emotion.append('angry')\n",
    "            gender.append('female')\n",
    "            actors.append('OAF')\n",
    "        elif i == 'YAF_angry': \n",
    "            emotion.append('angry')\n",
    "            gender.append('female')\n",
    "            actors.append('YAF')\n",
    "            \n",
    "            \n",
    "        elif i == 'OAF_disgust' :\n",
    "            emotion.append('disgust')\n",
    "            gender.append('female')\n",
    "            actors.append('OAF')\n",
    "        elif i == 'YAF_disgust': \n",
    "            emotion.append('disgust')\n",
    "            gender.append('female')\n",
    "            actors.append('YAF')\n",
    "            \n",
    "            \n",
    "        elif i == 'OAF_Fear':\n",
    "            emotion.append('fear')\n",
    "            gender.append('female')\n",
    "            actors.append('OAF')\n",
    "        elif i == 'YAF_fear': \n",
    "            emotion.append('fear')\n",
    "            gender.append('female')\n",
    "            actors.append('YAF') \n",
    "            \n",
    "            \n",
    "        elif i == 'OAF_happy' :\n",
    "            emotion.append('happy')\n",
    "            gender.append('female')\n",
    "            actors.append('OAF')\n",
    "        elif i == 'YAF_happy': \n",
    "            emotion.append('angry')\n",
    "            gender.append('female')\n",
    "            actors.append('YAF')            \n",
    "            \n",
    "        elif i == 'OAF_neutral':\n",
    "            emotion.append('neutral')\n",
    "            gender.append('female')\n",
    "            actors.append('OAF')   \n",
    "        elif i == 'YAF_neutral': \n",
    "            emotion.append('neutral')\n",
    "            gender.append('female')\n",
    "            actors.append('YAF')      \n",
    "            \n",
    "                \n",
    "        elif i == 'OAF_Pleasant_surprise':\n",
    "            emotion.append('surprise')\n",
    "            gender.append('female')\n",
    "            actors.append('OAF')\n",
    "        \n",
    "        elif i == 'YAF_pleasant_surprised': \n",
    "            emotion.append('surprise')\n",
    "            gender.append('female')\n",
    "            actors.append('YAF')            \n",
    "            \n",
    "        elif i == 'OAF_Sad':\n",
    "            emotion.append('sadness')\n",
    "            gender.append('female')\n",
    "            actors.append('OAF')\n",
    "        elif i == 'YAF_sad': \n",
    "            emotion.append('sadness')\n",
    "            gender.append('female')\n",
    "            actors.append('YAF')            \n",
    "        else:\n",
    "            emotion.append('Unknown')\n",
    "        path.append(TESS + i + \"/\" + f)\n",
    "\n",
    "TESS_df = pd.DataFrame(emotion, columns = ['emotion_label'])\n",
    "TESS_df = pd.concat([TESS_df, pd.DataFrame(gender, columns = ['gender']), \n",
    "                     pd.DataFrame(actors, columns= ['actors']),\n",
    "                     pd.DataFrame(path, columns = ['path'])],axis=1)\n",
    "TESS_df.emotion_label.value_counts()"
   ]
  },
  {
   "cell_type": "code",
   "execution_count": 279,
   "id": "0e60a799-5b40-47d6-8cf4-b9776e266db2",
   "metadata": {
    "tags": []
   },
   "outputs": [],
   "source": [
    "TESS_df= TESS_df[~TESS_df.path.str.contains('noise')]"
   ]
  },
  {
   "cell_type": "code",
   "execution_count": 280,
   "id": "9c9fc959-7e3e-43e8-93e6-de830994a952",
   "metadata": {},
   "outputs": [],
   "source": [
    "TESS_train = []\n",
    "TESS_test = []"
   ]
  },
  {
   "cell_type": "code",
   "execution_count": 281,
   "id": "1f1b236d-4bb8-48e6-8847-5081bfcd1bd5",
   "metadata": {},
   "outputs": [
    {
     "data": {
      "text/plain": [
       "(1400, 1400)"
      ]
     },
     "execution_count": 281,
     "metadata": {},
     "output_type": "execute_result"
    }
   ],
   "source": [
    "for index, row in TESS_df.iterrows(): \n",
    "    if row['actors'] == 'YAF': \n",
    "        TESS_train.append(row)\n",
    "    else: \n",
    "        TESS_test.append(row)\n",
    "len(TESS_train), len(TESS_test)"
   ]
  },
  {
   "cell_type": "code",
   "execution_count": 282,
   "id": "f01d66a3-3f9c-4214-aa80-6d78b6b3d86b",
   "metadata": {},
   "outputs": [],
   "source": [
    "TESS_train = pd.DataFrame(TESS_train)\n",
    "TESS_test = pd.DataFrame(TESS_test)"
   ]
  },
  {
   "cell_type": "code",
   "execution_count": 283,
   "id": "a22627b0-f46f-4e09-a08b-08f63d890f07",
   "metadata": {},
   "outputs": [],
   "source": [
    "TESS_train = TESS_train.reset_index(drop=True) \n",
    "TESS_test  = TESS_test.reset_index(drop=True) "
   ]
  },
  {
   "cell_type": "markdown",
   "id": "9b12d18f-b1a9-48e7-9cbc-14bee498433c",
   "metadata": {},
   "source": [
    "## CREMA-D"
   ]
  },
  {
   "cell_type": "code",
   "execution_count": 284,
   "id": "5a98b33f-7e32-4f6b-a86f-de01d9a744d1",
   "metadata": {
    "tags": []
   },
   "outputs": [],
   "source": [
    "males = [1,\n",
    "5,\n",
    "11,\n",
    "14,\n",
    "15,\n",
    "16,\n",
    "17,\n",
    "19,\n",
    "22,\n",
    "23,\n",
    "26,\n",
    "27,\n",
    "31,\n",
    "32,\n",
    "33,\n",
    "34,\n",
    "35,\n",
    "36,\n",
    "38,\n",
    "39,\n",
    "41,\n",
    "42,\n",
    "44,\n",
    "45,\n",
    "48,\n",
    "50,\n",
    "51,\n",
    "57,\n",
    "59, \n",
    "62, \n",
    "64,\n",
    "65, \n",
    "66,\n",
    "67,\n",
    "68,\n",
    "69,\n",
    "70,\n",
    "71,\n",
    "77, \n",
    "80, \n",
    "81, \n",
    "83, \n",
    "85, \n",
    "86, \n",
    "87,\n",
    "88, \n",
    "90]"
   ]
  },
  {
   "cell_type": "code",
   "execution_count": 285,
   "id": "9123b94a-3936-4bf2-9163-94a16b3803a3",
   "metadata": {},
   "outputs": [],
   "source": [
    "females = [ 2,\n",
    "3,\n",
    "4,\n",
    "6,\n",
    "7,\n",
    "8,\n",
    "9,\n",
    "10,\n",
    "12,\n",
    "13,\n",
    "18,\n",
    "20,\n",
    "21,\n",
    "24,\n",
    "25,\n",
    "28,\n",
    "29,\n",
    "30,\n",
    "37,\n",
    "40,\n",
    "43,\n",
    "46,\n",
    "47,\n",
    "49,\n",
    "52,\n",
    "53,\n",
    "54,\n",
    "55,\n",
    "56, \n",
    "58, \n",
    "60,\n",
    "61,\n",
    "63,\n",
    "72, \n",
    "73, \n",
    "74, \n",
    "75, \n",
    "76, \n",
    "78, \n",
    "79, \n",
    "82, \n",
    "84, \n",
    "89, \n",
    "91]"
   ]
  },
  {
   "cell_type": "code",
   "execution_count": 286,
   "id": "b2817893-1bc9-4fb8-8834-119dab33bc0f",
   "metadata": {},
   "outputs": [
    {
     "data": {
      "text/html": [
       "<div>\n",
       "<style scoped>\n",
       "    .dataframe tbody tr th:only-of-type {\n",
       "        vertical-align: middle;\n",
       "    }\n",
       "\n",
       "    .dataframe tbody tr th {\n",
       "        vertical-align: top;\n",
       "    }\n",
       "\n",
       "    .dataframe thead th {\n",
       "        text-align: right;\n",
       "    }\n",
       "</style>\n",
       "<table border=\"1\" class=\"dataframe\">\n",
       "  <thead>\n",
       "    <tr style=\"text-align: right;\">\n",
       "      <th></th>\n",
       "      <th>emotion_label</th>\n",
       "      <th>actors</th>\n",
       "      <th>gender</th>\n",
       "      <th>path</th>\n",
       "    </tr>\n",
       "  </thead>\n",
       "  <tbody>\n",
       "    <tr>\n",
       "      <th>0</th>\n",
       "      <td>happy</td>\n",
       "      <td>91</td>\n",
       "      <td>female</td>\n",
       "      <td>/media/helemanc/OS/Users/i2CAT/Desktop/Dataset...</td>\n",
       "    </tr>\n",
       "    <tr>\n",
       "      <th>1</th>\n",
       "      <td>sadness</td>\n",
       "      <td>91</td>\n",
       "      <td>female</td>\n",
       "      <td>/media/helemanc/OS/Users/i2CAT/Desktop/Dataset...</td>\n",
       "    </tr>\n",
       "    <tr>\n",
       "      <th>2</th>\n",
       "      <td>angry</td>\n",
       "      <td>91</td>\n",
       "      <td>female</td>\n",
       "      <td>/media/helemanc/OS/Users/i2CAT/Desktop/Dataset...</td>\n",
       "    </tr>\n",
       "    <tr>\n",
       "      <th>3</th>\n",
       "      <td>disgust</td>\n",
       "      <td>91</td>\n",
       "      <td>female</td>\n",
       "      <td>/media/helemanc/OS/Users/i2CAT/Desktop/Dataset...</td>\n",
       "    </tr>\n",
       "    <tr>\n",
       "      <th>4</th>\n",
       "      <td>fear</td>\n",
       "      <td>91</td>\n",
       "      <td>female</td>\n",
       "      <td>/media/helemanc/OS/Users/i2CAT/Desktop/Dataset...</td>\n",
       "    </tr>\n",
       "  </tbody>\n",
       "</table>\n",
       "</div>"
      ],
      "text/plain": [
       "  emotion_label actors  gender  \\\n",
       "0         happy     91  female   \n",
       "1       sadness     91  female   \n",
       "2         angry     91  female   \n",
       "3       disgust     91  female   \n",
       "4          fear     91  female   \n",
       "\n",
       "                                                path  \n",
       "0  /media/helemanc/OS/Users/i2CAT/Desktop/Dataset...  \n",
       "1  /media/helemanc/OS/Users/i2CAT/Desktop/Dataset...  \n",
       "2  /media/helemanc/OS/Users/i2CAT/Desktop/Dataset...  \n",
       "3  /media/helemanc/OS/Users/i2CAT/Desktop/Dataset...  \n",
       "4  /media/helemanc/OS/Users/i2CAT/Desktop/Dataset...  "
      ]
     },
     "execution_count": 286,
     "metadata": {},
     "output_type": "execute_result"
    }
   ],
   "source": [
    "crema_directory_list = os.listdir(CREMA)\n",
    "\n",
    "file_emotion = []\n",
    "file_path = []\n",
    "actors = []\n",
    "gender = []\n",
    "\n",
    "\n",
    "\n",
    "\n",
    "for file in crema_directory_list:\n",
    "\n",
    "    # storing file emotions\n",
    "    part=file.split('_')\n",
    "    \n",
    "    # use only high intensity files\n",
    "    if \"HI\" in part[3] :\n",
    "        actor = part[0][2:]\n",
    "        actors.append(actor)\n",
    "        if int(actor) in males:\n",
    "            gender.append('male')\n",
    "        else: \n",
    "            gender.append('female')\n",
    "    \n",
    "        # storing file paths\n",
    "        file_path.append(CREMA + file)\n",
    "        if part[2] == 'SAD':\n",
    "            file_emotion.append('sadness')\n",
    "        elif part[2] == 'ANG':\n",
    "            file_emotion.append('angry')\n",
    "        elif part[2] == 'DIS':\n",
    "            file_emotion.append('disgust')\n",
    "        elif part[2] == 'FEA':\n",
    "            file_emotion.append('fear')\n",
    "        elif part[2] == 'HAP':\n",
    "            file_emotion.append('happy')\n",
    "        elif part[2] == 'NEU':\n",
    "            file_emotion.append('neutral')\n",
    "        else:\n",
    "            file_emotion.append('Unknown')\n",
    "\n",
    "# dataframe for emotion of files\n",
    "emotion_df = pd.DataFrame(file_emotion, columns=['emotion_label'])\n",
    "\n",
    "# dataframe for path of files.\n",
    "path_df = pd.DataFrame(file_path, columns=['path'])\n",
    "actors_df = pd.DataFrame(actors, columns=['actors'])\n",
    "gender_df = pd.DataFrame(gender, columns=['gender'])                      \n",
    "Crema_df = pd.concat([emotion_df, actors_df, gender_df, path_df], axis=1)\n",
    "Crema_df.head()"
   ]
  },
  {
   "cell_type": "code",
   "execution_count": 287,
   "id": "c956e6f5-bef3-414c-a725-86e82d1d44f5",
   "metadata": {},
   "outputs": [
    {
     "data": {
      "text/plain": [
       "(455, 4)"
      ]
     },
     "execution_count": 287,
     "metadata": {},
     "output_type": "execute_result"
    }
   ],
   "source": [
    "Crema_df.shape"
   ]
  },
  {
   "cell_type": "code",
   "execution_count": 288,
   "id": "44b37713-dfbb-4d14-a0b8-1b5417cfe6ef",
   "metadata": {},
   "outputs": [],
   "source": [
    "actor_files = {}\n",
    "\n",
    "for index, row in Crema_df.iterrows():\n",
    "    actor = row['actors']\n",
    "    if actor not in actor_files.keys(): \n",
    "        actor_files[actor] = 1\n",
    "    else: \n",
    "        actor_files[actor]+=1"
   ]
  },
  {
   "cell_type": "code",
   "execution_count": 289,
   "id": "e757b1b3-51fb-43bd-8918-46d01a2e6493",
   "metadata": {},
   "outputs": [
    {
     "data": {
      "text/plain": [
       "{'91': 5,\n",
       " '90': 5,\n",
       " '89': 5,\n",
       " '88': 5,\n",
       " '87': 5,\n",
       " '86': 5,\n",
       " '85': 5,\n",
       " '84': 5,\n",
       " '83': 5,\n",
       " '82': 5,\n",
       " '81': 5,\n",
       " '80': 5,\n",
       " '79': 5,\n",
       " '78': 5,\n",
       " '77': 5,\n",
       " '76': 5,\n",
       " '75': 5,\n",
       " '74': 5,\n",
       " '73': 5,\n",
       " '72': 5,\n",
       " '71': 5,\n",
       " '70': 5,\n",
       " '69': 5,\n",
       " '68': 5,\n",
       " '67': 5,\n",
       " '66': 5,\n",
       " '65': 5,\n",
       " '64': 5,\n",
       " '63': 5,\n",
       " '62': 5,\n",
       " '61': 5,\n",
       " '60': 5,\n",
       " '59': 5,\n",
       " '58': 5,\n",
       " '57': 5,\n",
       " '56': 5,\n",
       " '55': 5,\n",
       " '54': 5,\n",
       " '53': 5,\n",
       " '52': 5,\n",
       " '51': 5,\n",
       " '50': 5,\n",
       " '49': 5,\n",
       " '48': 5,\n",
       " '47': 5,\n",
       " '46': 5,\n",
       " '45': 5,\n",
       " '44': 5,\n",
       " '43': 5,\n",
       " '42': 5,\n",
       " '41': 5,\n",
       " '40': 5,\n",
       " '39': 5,\n",
       " '38': 5,\n",
       " '37': 5,\n",
       " '36': 5,\n",
       " '35': 5,\n",
       " '34': 5,\n",
       " '33': 5,\n",
       " '32': 5,\n",
       " '31': 5,\n",
       " '30': 5,\n",
       " '29': 5,\n",
       " '28': 5,\n",
       " '27': 5,\n",
       " '26': 5,\n",
       " '25': 5,\n",
       " '24': 5,\n",
       " '23': 5,\n",
       " '22': 5,\n",
       " '21': 5,\n",
       " '20': 5,\n",
       " '19': 5,\n",
       " '18': 5,\n",
       " '17': 5,\n",
       " '16': 5,\n",
       " '15': 5,\n",
       " '14': 5,\n",
       " '13': 5,\n",
       " '12': 5,\n",
       " '11': 5,\n",
       " '10': 5,\n",
       " '09': 5,\n",
       " '08': 5,\n",
       " '07': 5,\n",
       " '06': 5,\n",
       " '05': 5,\n",
       " '04': 5,\n",
       " '03': 5,\n",
       " '02': 5,\n",
       " '01': 5}"
      ]
     },
     "execution_count": 289,
     "metadata": {},
     "output_type": "execute_result"
    }
   ],
   "source": [
    "actor_files"
   ]
  },
  {
   "cell_type": "code",
   "execution_count": 290,
   "id": "8331aa83-39c9-4a06-8187-f39f910e0d43",
   "metadata": {},
   "outputs": [],
   "source": [
    "count_males = 0 \n",
    "count_females = 0 \n",
    "male_list = []\n",
    "for index, row in Crema_df.iterrows(): \n",
    "    gender = row['gender']\n",
    "    actor = row['actors']\n",
    "    if gender == 'male':\n",
    "        count_males +=1\n",
    "        if actor not in male_list: \n",
    "            male_list.append(actor)\n",
    "    else: \n",
    "        count_females +=1"
   ]
  },
  {
   "cell_type": "code",
   "execution_count": 291,
   "id": "7ff77c87-6cc7-4f29-a747-7cc1203ab0b6",
   "metadata": {},
   "outputs": [
    {
     "data": {
      "text/plain": [
       "(235, 220)"
      ]
     },
     "execution_count": 291,
     "metadata": {},
     "output_type": "execute_result"
    }
   ],
   "source": [
    "count_males, count_females"
   ]
  },
  {
   "cell_type": "markdown",
   "id": "61b62b59-edc3-4dfe-b8e6-c3ee4fd0c1e9",
   "metadata": {},
   "source": [
    "Since there are more males than females we will remove randomly 3 male actors (since there are exactly 5 audio files per actor)"
   ]
  },
  {
   "cell_type": "code",
   "execution_count": 292,
   "id": "43cd654a-c605-4015-b1d5-1d39756794b9",
   "metadata": {},
   "outputs": [
    {
     "data": {
      "text/plain": [
       "['17', '80', '88']"
      ]
     },
     "execution_count": 292,
     "metadata": {},
     "output_type": "execute_result"
    }
   ],
   "source": [
    "import random \n",
    "random.seed(42)\n",
    "males_to_remove = random.sample(male_list, 3)\n",
    "males_to_remove"
   ]
  },
  {
   "cell_type": "code",
   "execution_count": 293,
   "id": "654968cc-c9f1-4724-8cdf-077699ea4e1c",
   "metadata": {},
   "outputs": [],
   "source": [
    "new_df = []\n",
    "for index, row in Crema_df.iterrows(): \n",
    "    if row['actors'] not in males_to_remove: \n",
    "        new_df.append(row)"
   ]
  },
  {
   "cell_type": "code",
   "execution_count": 294,
   "id": "d4014661-31bf-4435-ba74-7312587252f4",
   "metadata": {},
   "outputs": [],
   "source": [
    "CREMA_df = pd.DataFrame(new_df)"
   ]
  },
  {
   "cell_type": "code",
   "execution_count": 295,
   "id": "e23305cc-4f12-49b1-8755-df6538551435",
   "metadata": {},
   "outputs": [],
   "source": [
    "for index, row in CREMA_df.iterrows(): \n",
    "    if row['actors'] == '17': \n",
    "        print(\"Elements not removed\")"
   ]
  },
  {
   "cell_type": "code",
   "execution_count": 296,
   "id": "9e95af37-9ac9-46c4-a7e2-1b4bed8262bc",
   "metadata": {},
   "outputs": [],
   "source": [
    "count_males = 0 \n",
    "count_females = 0 \n",
    "male_list = []\n",
    "female_list = []\n",
    "for index, row in CREMA_df.iterrows(): \n",
    "    gender = row['gender']\n",
    "    actor = row['actors']\n",
    "    if gender == 'male':\n",
    "        count_males +=1\n",
    "        if actor not in male_list: \n",
    "            male_list.append(actor)\n",
    "    else: \n",
    "        count_females +=1\n",
    "        if actor not in female_list: \n",
    "            female_list.append(actor)"
   ]
  },
  {
   "cell_type": "code",
   "execution_count": 297,
   "id": "a3e7b8e1-9a29-46e4-a91e-d39f55e2d4ae",
   "metadata": {},
   "outputs": [
    {
     "data": {
      "text/plain": [
       "(220, 220)"
      ]
     },
     "execution_count": 297,
     "metadata": {},
     "output_type": "execute_result"
    }
   ],
   "source": [
    "count_males, count_females"
   ]
  },
  {
   "cell_type": "code",
   "execution_count": 298,
   "id": "e6a3ca5d-6f33-4498-87fb-14ac24e921ef",
   "metadata": {},
   "outputs": [
    {
     "data": {
      "text/plain": [
       "44"
      ]
     },
     "execution_count": 298,
     "metadata": {},
     "output_type": "execute_result"
    }
   ],
   "source": [
    "len(female_list)"
   ]
  },
  {
   "cell_type": "code",
   "execution_count": 299,
   "id": "b10bc520-eda0-4b94-8875-c9319afbbc1b",
   "metadata": {},
   "outputs": [
    {
     "data": {
      "text/plain": [
       "44"
      ]
     },
     "execution_count": 299,
     "metadata": {},
     "output_type": "execute_result"
    }
   ],
   "source": [
    "len(male_list)"
   ]
  },
  {
   "cell_type": "code",
   "execution_count": 300,
   "id": "412e5b10-046e-4074-9bdf-8d020c2c1cc8",
   "metadata": {},
   "outputs": [],
   "source": [
    "CREMA_train = []\n",
    "CREMA_val = []\n",
    "CREMA_test = []"
   ]
  },
  {
   "cell_type": "code",
   "execution_count": 301,
   "id": "43af03df-cb12-4b5f-a55c-fca01983ea41",
   "metadata": {},
   "outputs": [],
   "source": [
    "females_train = random.sample(female_list, 32)\n",
    "males_train = random.sample(male_list, 32)\n",
    "\n",
    "# remove the elements assigned to train \n",
    "for element in females_train:\n",
    "    if element in female_list:\n",
    "        female_list.remove(element)\n",
    "        \n",
    "for element in males_train:\n",
    "    if element in male_list:\n",
    "        male_list.remove(element)\n",
    "\n",
    "         \n",
    "females_val = random.sample(female_list, 6) \n",
    "males_val = random.sample(male_list, 6) \n",
    "\n",
    "# remove the elements assigned to val\n",
    "for element in females_val:\n",
    "    if element in female_list:\n",
    "        female_list.remove(element)\n",
    "        \n",
    "for element in males_val:\n",
    "    if element in male_list:\n",
    "        male_list.remove(element)\n",
    "        \n",
    "females_test = random.sample(female_list, 6) \n",
    "males_test = random.sample(male_list, 6)        "
   ]
  },
  {
   "cell_type": "code",
   "execution_count": 302,
   "id": "0e88bbab-0296-4c63-aaa6-2f56f8d46782",
   "metadata": {},
   "outputs": [
    {
     "data": {
      "text/plain": [
       "(['54',\n",
       "  '56',\n",
       "  '58',\n",
       "  '74',\n",
       "  '76',\n",
       "  '13',\n",
       "  '78',\n",
       "  '29',\n",
       "  '84',\n",
       "  '89',\n",
       "  '09',\n",
       "  '60',\n",
       "  '04',\n",
       "  '55',\n",
       "  '52',\n",
       "  '91',\n",
       "  '02',\n",
       "  '07',\n",
       "  '46',\n",
       "  '49',\n",
       "  '37',\n",
       "  '10',\n",
       "  '20',\n",
       "  '75',\n",
       "  '21',\n",
       "  '53',\n",
       "  '06',\n",
       "  '28',\n",
       "  '18',\n",
       "  '63',\n",
       "  '30',\n",
       "  '03'],\n",
       " ['57',\n",
       "  '69',\n",
       "  '65',\n",
       "  '45',\n",
       "  '77',\n",
       "  '81',\n",
       "  '41',\n",
       "  '15',\n",
       "  '44',\n",
       "  '23',\n",
       "  '59',\n",
       "  '86',\n",
       "  '34',\n",
       "  '01',\n",
       "  '85',\n",
       "  '66',\n",
       "  '31',\n",
       "  '33',\n",
       "  '05',\n",
       "  '48',\n",
       "  '50',\n",
       "  '67',\n",
       "  '51',\n",
       "  '22',\n",
       "  '36',\n",
       "  '87',\n",
       "  '71',\n",
       "  '39',\n",
       "  '42',\n",
       "  '11',\n",
       "  '32',\n",
       "  '14'],\n",
       " ['43', '61', '40', '47', '73', '24'],\n",
       " ['62', '68', '64', '83', '70', '26'],\n",
       " ['08', '79', '12', '25', '72', '82'],\n",
       " ['16', '19', '38', '35', '27', '90'])"
      ]
     },
     "execution_count": 302,
     "metadata": {},
     "output_type": "execute_result"
    }
   ],
   "source": [
    "females_train, males_train, females_val, males_val, females_test, males_test"
   ]
  },
  {
   "cell_type": "code",
   "execution_count": 303,
   "id": "0bf0d934-5db0-43f5-a28e-5c5b8739df77",
   "metadata": {},
   "outputs": [],
   "source": [
    "train = females_train + males_train \n",
    "val = females_val + males_val \n",
    "test = females_test + males_test"
   ]
  },
  {
   "cell_type": "code",
   "execution_count": 304,
   "id": "7d5b4dbe-8d82-47e2-b837-e91771a1ea0d",
   "metadata": {
    "tags": []
   },
   "outputs": [],
   "source": [
    "for index, row in CREMA_df.iterrows(): \n",
    "    gender = row['gender']\n",
    "    actor = row['actors']\n",
    "    if actor in train: \n",
    "        CREMA_train.append(row)\n",
    "    elif actor in val: \n",
    "        CREMA_val.append(row)\n",
    "    else:\n",
    "        CREMA_test.append(row)"
   ]
  },
  {
   "cell_type": "code",
   "execution_count": 305,
   "id": "299f973e-1115-4f27-8d73-9b6f1d9dea10",
   "metadata": {},
   "outputs": [],
   "source": [
    "CREMA_train = pd.DataFrame(CREMA_train) \n",
    "CREMA_val = pd.DataFrame(CREMA_val) \n",
    "CREMA_test = pd.DataFrame(CREMA_test)"
   ]
  },
  {
   "cell_type": "code",
   "execution_count": 306,
   "id": "64ea0c81-547d-405e-aa56-b4ff406fb065",
   "metadata": {
    "tags": []
   },
   "outputs": [
    {
     "data": {
      "text/plain": [
       "((320, 4), (60, 4), (60, 4))"
      ]
     },
     "execution_count": 306,
     "metadata": {},
     "output_type": "execute_result"
    }
   ],
   "source": [
    "CREMA_train.shape, CREMA_val.shape, CREMA_test.shape"
   ]
  },
  {
   "cell_type": "code",
   "execution_count": 307,
   "id": "109367cc-db12-46b3-abf0-d4a141c3b61d",
   "metadata": {
    "tags": []
   },
   "outputs": [],
   "source": [
    "CREMA_train = CREMA_train.reset_index(drop=True) \n",
    "CREMA_val = CREMA_val.reset_index(drop = True) "
   ]
  },
  {
   "cell_type": "markdown",
   "id": "630be4f3-a350-4e55-aeee-1c201e71e74f",
   "metadata": {},
   "source": [
    "# Random Search parameters"
   ]
  },
  {
   "cell_type": "code",
   "execution_count": 308,
   "id": "e970b315-249e-4de5-bb87-3e589618ceff",
   "metadata": {},
   "outputs": [],
   "source": [
    "param_grid_clf = {'C': [0.1,1, 10, 100], 'kernel': ['rbf',  'linear']}\n",
    "svc = SVC()"
   ]
  },
  {
   "cell_type": "markdown",
   "id": "9a0d14f6-a24b-447b-8b0e-7ae725c3151a",
   "metadata": {
    "tags": []
   },
   "source": [
    "# Experiment 1.1 : RAVDESS"
   ]
  },
  {
   "cell_type": "code",
   "execution_count": 309,
   "id": "df57fe6d-5a29-4bfc-9256-a76f625c006c",
   "metadata": {
    "tags": []
   },
   "outputs": [],
   "source": [
    "df_train = RAV_train\n",
    "df_val = RAV_val\n",
    "df_test = RAV_test"
   ]
  },
  {
   "cell_type": "code",
   "execution_count": 310,
   "id": "76ef2262-7e6e-44f6-b2fd-83a2dbf93f76",
   "metadata": {
    "tags": []
   },
   "outputs": [],
   "source": [
    "df_train.reset_index(drop = True, inplace = True) \n",
    "df_val.reset_index(drop = True, inplace = True)\n",
    "df_test.reset_index(drop = True, inplace = True)"
   ]
  },
  {
   "cell_type": "markdown",
   "id": "fa234856-4203-4cd3-8783-db580748e8d9",
   "metadata": {
    "tags": []
   },
   "source": [
    "## Feature Extraction"
   ]
  },
  {
   "cell_type": "code",
   "execution_count": 311,
   "id": "4cb69c0f-042b-497c-8eb9-42babff627f1",
   "metadata": {
    "tags": []
   },
   "outputs": [
    {
     "name": "stderr",
     "output_type": "stream",
     "text": [
      "100%|█████████████████████████████████████| 1200/1200 [00:01<00:00, 1189.42it/s]\n",
      "100%|███████████████████████████████████████| 1200/1200 [00:13<00:00, 86.05it/s]\n",
      "100%|████████████████████████████████████████| 120/120 [00:00<00:00, 886.32it/s]\n",
      "100%|█████████████████████████████████████████| 120/120 [00:01<00:00, 94.29it/s]\n",
      "100%|████████████████████████████████████████| 120/120 [00:00<00:00, 851.59it/s]\n",
      "100%|█████████████████████████████████████████| 120/120 [00:01<00:00, 79.45it/s]\n"
     ]
    }
   ],
   "source": [
    "X_train, y_train, X_val, y_val, X_test, y_test = feature_extractor(df_train, df_val, df_test, 26)"
   ]
  },
  {
   "cell_type": "code",
   "execution_count": 312,
   "id": "d305c65c-65dd-4e11-b40d-fbf9fe9f7454",
   "metadata": {},
   "outputs": [],
   "source": [
    "y_train, y_val, y_test = encode_labels(y_train, y_val, y_test)"
   ]
  },
  {
   "cell_type": "code",
   "execution_count": 313,
   "id": "ac60c19e-b620-432c-9997-fa0a5b50b49f",
   "metadata": {},
   "outputs": [
    {
     "data": {
      "text/plain": [
       "120"
      ]
     },
     "execution_count": 313,
     "metadata": {},
     "output_type": "execute_result"
    }
   ],
   "source": [
    "np.size(y_val)"
   ]
  },
  {
   "cell_type": "code",
   "execution_count": 314,
   "id": "b12778cd-a6cc-4a70-aabc-b807485f3d6f",
   "metadata": {},
   "outputs": [],
   "source": [
    "X_train, X_val, X_test = standard_scaling(X_train, X_val, X_test)"
   ]
  },
  {
   "cell_type": "code",
   "execution_count": 315,
   "id": "37b9be5f-ef6e-4d46-95c3-fba0d39d8665",
   "metadata": {},
   "outputs": [
    {
     "data": {
      "text/plain": [
       "(1200, 25)"
      ]
     },
     "execution_count": 315,
     "metadata": {},
     "output_type": "execute_result"
    }
   ],
   "source": [
    "X_train.shape"
   ]
  },
  {
   "cell_type": "code",
   "execution_count": 316,
   "id": "4e1ff88c-7815-47be-81a8-bdeeac968a14",
   "metadata": {},
   "outputs": [
    {
     "data": {
      "text/plain": [
       "25"
      ]
     },
     "execution_count": 316,
     "metadata": {},
     "output_type": "execute_result"
    }
   ],
   "source": [
    "len(X_train[0])"
   ]
  },
  {
   "cell_type": "code",
   "execution_count": 317,
   "id": "95620755-5c11-44df-a35e-cd7774eafc41",
   "metadata": {},
   "outputs": [
    {
     "data": {
      "text/plain": [
       "(1200,)"
      ]
     },
     "execution_count": 317,
     "metadata": {},
     "output_type": "execute_result"
    }
   ],
   "source": [
    "y_train.shape"
   ]
  },
  {
   "cell_type": "markdown",
   "id": "20618b26-de66-443d-8096-919868693bbe",
   "metadata": {},
   "source": [
    "## Shuffle training data"
   ]
  },
  {
   "cell_type": "code",
   "execution_count": 318,
   "id": "a4a35ea6-1225-4889-8f44-eb5cee3fb6da",
   "metadata": {},
   "outputs": [],
   "source": [
    "from sklearn.utils import shuffle\n",
    "X_train, y_train = shuffle(X_train, y_train)"
   ]
  },
  {
   "cell_type": "markdown",
   "id": "3c45c0ff-2436-44fd-bd73-cab77ac9b03f",
   "metadata": {
    "tags": []
   },
   "source": [
    "## Hypeparameter optimization"
   ]
  },
  {
   "cell_type": "code",
   "execution_count": 319,
   "id": "ce27cbc4-709d-4cc6-99cf-2749c62a2764",
   "metadata": {},
   "outputs": [],
   "source": [
    "# classweight \n",
    "from sklearn.utils import class_weight\n",
    "class_weights = class_weight.compute_class_weight('balanced', np.unique(y_train), y_train)\n",
    "class_weights = {l:c for l,c in zip(np.unique(y_train), class_weights)}"
   ]
  },
  {
   "cell_type": "code",
   "execution_count": 320,
   "id": "ab74cb81-b4df-4861-b48d-a7676e92fb63",
   "metadata": {},
   "outputs": [],
   "source": [
    "rand_search = RandomizedSearchCV(estimator=svc, \n",
    "                                 param_distributions=param_grid_clf, \n",
    "                                 n_jobs = -1, \n",
    "                                 cv=KFold(3))"
   ]
  },
  {
   "cell_type": "code",
   "execution_count": 321,
   "id": "3d6186ad-4bef-4646-859a-37e913f55b45",
   "metadata": {},
   "outputs": [
    {
     "name": "stdout",
     "output_type": "stream",
     "text": [
      "Performing Randomized Search...\n",
      "\n",
      "Done in 4.495s\n",
      "\n"
     ]
    }
   ],
   "source": [
    "print(\"Performing Randomized Search...\")\n",
    "t0 = time()\n",
    "rand_search.fit(X_train, y_train) \n",
    "print(\"\\nDone in %0.3fs\" % (time()-t0))\n",
    "print() "
   ]
  },
  {
   "cell_type": "code",
   "execution_count": 322,
   "id": "792a9921-b32a-4f45-b66a-9c831ad11af7",
   "metadata": {},
   "outputs": [
    {
     "data": {
      "text/plain": [
       "{'kernel': 'rbf', 'C': 100}"
      ]
     },
     "execution_count": 322,
     "metadata": {},
     "output_type": "execute_result"
    }
   ],
   "source": [
    "best_params = rand_search.best_params_\n",
    "best_clf = rand_search.best_estimator_\n",
    "best_params"
   ]
  },
  {
   "cell_type": "code",
   "execution_count": 323,
   "id": "dc5f8983-bf72-4d10-b09b-b035d20f0451",
   "metadata": {},
   "outputs": [
    {
     "data": {
      "text/plain": [
       "SVC(C=100, class_weight={0: 1.0714285714285714, 1: 0.9375})"
      ]
     },
     "execution_count": 323,
     "metadata": {},
     "output_type": "execute_result"
    }
   ],
   "source": [
    "best_clf =  SVC(C=best_params.get('C'), kernel=best_params.get('kernel'), class_weight=class_weights)\n",
    "best_clf.fit(X_train, y_train)"
   ]
  },
  {
   "cell_type": "markdown",
   "id": "be2e46f4-12c7-4e46-b946-5086505ebee2",
   "metadata": {},
   "source": [
    "## Testing"
   ]
  },
  {
   "cell_type": "code",
   "execution_count": 324,
   "id": "4c48df4c-5d6a-40dd-a62c-0f8798299d18",
   "metadata": {},
   "outputs": [
    {
     "name": "stdout",
     "output_type": "stream",
     "text": [
      "Testing...\n",
      "Accuracy: 0.725\n"
     ]
    }
   ],
   "source": [
    "print(\"Testing...\")\n",
    "pred = best_clf.predict(X_test) \n",
    "accuracy = best_clf.score(X_test, y_test) \n",
    "print(\"Accuracy: %s\" %str(accuracy))"
   ]
  },
  {
   "cell_type": "markdown",
   "id": "fe48d864-f31a-435e-a8dc-7ffe8c611afe",
   "metadata": {},
   "source": [
    "## Save best model "
   ]
  },
  {
   "cell_type": "code",
   "execution_count": 325,
   "id": "6985ba49-a56f-4584-aec3-60f26314ca37",
   "metadata": {},
   "outputs": [],
   "source": [
    "pkl_filename = \"/home/helemanc/Desktop/Binary_Model/models_experiments/Experiment_7/model_7_1.pkl\"\n",
    "with open(pkl_filename, 'wb') as file:\n",
    "    pickle.dump(best_clf, file)"
   ]
  },
  {
   "cell_type": "code",
   "execution_count": 326,
   "id": "4114de3c-aaf7-4e31-b38c-6b6bbb775ce5",
   "metadata": {
    "tags": []
   },
   "outputs": [
    {
     "data": {
      "text/plain": [
       "\"\\n# Load from file\\nwith open(pkl_filename, 'rb') as file:\\n    pickle_model = pickle.load(file)\\n\""
      ]
     },
     "execution_count": 326,
     "metadata": {},
     "output_type": "execute_result"
    }
   ],
   "source": [
    "'''\n",
    "# Load from file\n",
    "with open(pkl_filename, 'rb') as file:\n",
    "    pickle_model = pickle.load(file)\n",
    "'''"
   ]
  },
  {
   "cell_type": "markdown",
   "id": "f316e1e3-e7ff-4b8c-8eeb-35b9317514ab",
   "metadata": {},
   "source": [
    "# Experiment 1.2 : RAVDESS noise"
   ]
  },
  {
   "cell_type": "markdown",
   "id": "535d1971-593b-4fc8-805a-451815d33678",
   "metadata": {
    "tags": []
   },
   "source": [
    "## Read dataframes"
   ]
  },
  {
   "cell_type": "code",
   "execution_count": 327,
   "id": "da330130-9ea8-49e8-8fd8-d0c79d2b193e",
   "metadata": {
    "tags": []
   },
   "outputs": [],
   "source": [
    "preprocess_path = \"/home/helemanc/Desktop/Binary_Model/df_csv_noise/ravdess\"\n",
    "df_train = pd.read_csv(os.path.join(preprocess_path,\"df_train.csv\"))\n",
    "df_val = pd.read_csv(os.path.join(preprocess_path,\"df_val.csv\"))\n",
    "df_test = pd.read_csv(os.path.join(preprocess_path,\"df_test.csv\"))  "
   ]
  },
  {
   "cell_type": "markdown",
   "id": "0852c5d6-df72-49c7-b03c-dd6bad36fdb6",
   "metadata": {},
   "source": [
    "## Feature Extraction"
   ]
  },
  {
   "cell_type": "code",
   "execution_count": 328,
   "id": "be8660a7-884d-40c4-9d0a-a2530e0f6d2f",
   "metadata": {},
   "outputs": [
    {
     "name": "stderr",
     "output_type": "stream",
     "text": [
      "100%|█████████████████████████████████████| 2400/2400 [00:01<00:00, 1957.93it/s]\n",
      "100%|███████████████████████████████████████| 2400/2400 [00:36<00:00, 66.52it/s]\n",
      "100%|███████████████████████████████████████| 120/120 [00:00<00:00, 1515.94it/s]\n",
      "100%|█████████████████████████████████████████| 120/120 [00:01<00:00, 77.50it/s]\n",
      "100%|███████████████████████████████████████| 120/120 [00:00<00:00, 1313.89it/s]\n",
      "100%|█████████████████████████████████████████| 120/120 [00:01<00:00, 74.12it/s]\n"
     ]
    }
   ],
   "source": [
    "X_train, y_train, X_val, y_val, X_test, y_test = feature_extractor(df_train, df_val, df_test, 26) # 13"
   ]
  },
  {
   "cell_type": "code",
   "execution_count": 329,
   "id": "be78f4f1-822e-47f2-8dc9-b8e172253999",
   "metadata": {},
   "outputs": [],
   "source": [
    "y_train, y_val, y_test = encode_labels(y_train, y_val, y_test)"
   ]
  },
  {
   "cell_type": "code",
   "execution_count": 330,
   "id": "8e6eac93-0d5f-4562-b05a-fb9903cffedf",
   "metadata": {},
   "outputs": [
    {
     "data": {
      "text/plain": [
       "120"
      ]
     },
     "execution_count": 330,
     "metadata": {},
     "output_type": "execute_result"
    }
   ],
   "source": [
    "np.size(y_val)"
   ]
  },
  {
   "cell_type": "code",
   "execution_count": 331,
   "id": "eda7f67a-a5b7-4b33-821a-d5a73df5d143",
   "metadata": {},
   "outputs": [],
   "source": [
    "X_train, X_val, X_test = standard_scaling(X_train, X_val, X_test)"
   ]
  },
  {
   "cell_type": "code",
   "execution_count": 332,
   "id": "c226731b-0533-4dc7-ad21-52ea217878e9",
   "metadata": {},
   "outputs": [
    {
     "data": {
      "text/plain": [
       "(2400, 25)"
      ]
     },
     "execution_count": 332,
     "metadata": {},
     "output_type": "execute_result"
    }
   ],
   "source": [
    "X_train.shape"
   ]
  },
  {
   "cell_type": "markdown",
   "id": "65a91511-03b3-48b6-a79a-6c870234286c",
   "metadata": {},
   "source": [
    "## Shuffle training data"
   ]
  },
  {
   "cell_type": "code",
   "execution_count": 333,
   "id": "e9c6dc46-2d71-483e-850d-557c81cc23e8",
   "metadata": {},
   "outputs": [],
   "source": [
    "from sklearn.utils import shuffle\n",
    "X_train, y_train = shuffle(X_train, y_train)"
   ]
  },
  {
   "cell_type": "markdown",
   "id": "6fb7c62d-e5b3-4de3-ad55-efc8a2924274",
   "metadata": {
    "tags": []
   },
   "source": [
    "## Hypeparameter optimization"
   ]
  },
  {
   "cell_type": "code",
   "execution_count": 334,
   "id": "5b2385c2-b190-42e1-a9d2-c683170faff6",
   "metadata": {},
   "outputs": [],
   "source": [
    "# classweight \n",
    "from sklearn.utils import class_weight\n",
    "class_weights = class_weight.compute_class_weight('balanced', np.unique(y_train), y_train)\n",
    "class_weights = {l:c for l,c in zip(np.unique(y_train), class_weights)}"
   ]
  },
  {
   "cell_type": "code",
   "execution_count": 335,
   "id": "f664c7a2-8995-4c97-8e9e-9dadf67c53d2",
   "metadata": {},
   "outputs": [],
   "source": [
    "rand_search = RandomizedSearchCV(estimator=svc, \n",
    "                                 param_distributions=param_grid_clf, \n",
    "                                 n_jobs = -1, \n",
    "                                 cv=KFold(3))"
   ]
  },
  {
   "cell_type": "code",
   "execution_count": 336,
   "id": "042fb006-7768-4ace-a771-6b323da74349",
   "metadata": {},
   "outputs": [
    {
     "name": "stdout",
     "output_type": "stream",
     "text": [
      "Performing Randomized Search...\n",
      "\n",
      "Done in 7.099s\n",
      "\n"
     ]
    }
   ],
   "source": [
    "print(\"Performing Randomized Search...\")\n",
    "t0 = time()\n",
    "rand_search.fit(X_train, y_train) \n",
    "print(\"\\nDone in %0.3fs\" % (time()-t0))\n",
    "print() "
   ]
  },
  {
   "cell_type": "code",
   "execution_count": 337,
   "id": "ccb3d0a2-5ced-4491-87c5-86091362079e",
   "metadata": {},
   "outputs": [
    {
     "data": {
      "text/plain": [
       "{'kernel': 'rbf', 'C': 10}"
      ]
     },
     "execution_count": 337,
     "metadata": {},
     "output_type": "execute_result"
    }
   ],
   "source": [
    "best_params = rand_search.best_params_\n",
    "best_clf = rand_search.best_estimator_\n",
    "best_params"
   ]
  },
  {
   "cell_type": "code",
   "execution_count": 338,
   "id": "1e190979-4304-4bf2-ab47-4ea6991d2b0d",
   "metadata": {},
   "outputs": [
    {
     "data": {
      "text/plain": [
       "SVC(C=10, class_weight={0: 1.0714285714285714, 1: 0.9375})"
      ]
     },
     "execution_count": 338,
     "metadata": {},
     "output_type": "execute_result"
    }
   ],
   "source": [
    "best_clf =  SVC(C=best_params.get('C'), kernel=best_params.get('kernel'), class_weight=class_weights)\n",
    "best_clf.fit(X_train, y_train)"
   ]
  },
  {
   "cell_type": "markdown",
   "id": "742e0f2a-da91-4a78-a307-0ff5bbe27175",
   "metadata": {},
   "source": [
    "## Testing"
   ]
  },
  {
   "cell_type": "code",
   "execution_count": 339,
   "id": "de4f6c01-965a-4b0b-8e67-89a7504b82f8",
   "metadata": {},
   "outputs": [
    {
     "name": "stdout",
     "output_type": "stream",
     "text": [
      "Testing...\n",
      "Accuracy: 0.6833333333333333\n"
     ]
    }
   ],
   "source": [
    "print(\"Testing...\")\n",
    "pred = best_clf.predict(X_test) \n",
    "accuracy = best_clf.score(X_test, y_test) \n",
    "print(\"Accuracy: %s\" %str(accuracy))"
   ]
  },
  {
   "cell_type": "markdown",
   "id": "fa5d6b75-0ede-4cc3-a0bd-02fc8f71203b",
   "metadata": {},
   "source": [
    "## Save best model "
   ]
  },
  {
   "cell_type": "code",
   "execution_count": 340,
   "id": "5009941f-87d2-4a4b-bb58-af8e4badd29e",
   "metadata": {},
   "outputs": [],
   "source": [
    "pkl_filename = \"/home/helemanc/Desktop/Binary_Model/models_experiments/Experiment_7/model_7_2.pkl\"\n",
    "with open(pkl_filename, 'wb') as file:\n",
    "    pickle.dump(best_clf, file)"
   ]
  },
  {
   "cell_type": "code",
   "execution_count": 341,
   "id": "bc8d7b67-2c21-45e7-98d2-89d667b4f6bb",
   "metadata": {
    "tags": []
   },
   "outputs": [
    {
     "data": {
      "text/plain": [
       "\"\\n# Load from file\\nwith open(pkl_filename, 'rb') as file:\\n    pickle_model = pickle.load(file)\\n\""
      ]
     },
     "execution_count": 341,
     "metadata": {},
     "output_type": "execute_result"
    }
   ],
   "source": [
    "'''\n",
    "# Load from file\n",
    "with open(pkl_filename, 'rb') as file:\n",
    "    pickle_model = pickle.load(file)\n",
    "'''"
   ]
  },
  {
   "cell_type": "markdown",
   "id": "5e40ab81-2a44-4293-b5e1-5acded332321",
   "metadata": {},
   "source": [
    "# Experiment 1.3: TESS"
   ]
  },
  {
   "cell_type": "code",
   "execution_count": 342,
   "id": "69e0310a-b112-4a26-9fdf-52eb436fd4db",
   "metadata": {},
   "outputs": [],
   "source": [
    "df_train = TESS_train\n",
    "df_test = TESS_test"
   ]
  },
  {
   "cell_type": "code",
   "execution_count": 343,
   "id": "d0485085-c678-4a25-b767-72fb94f02ed4",
   "metadata": {},
   "outputs": [],
   "source": [
    "df_train.reset_index(drop = True, inplace = True) \n",
    "df_test.reset_index(drop = True, inplace = True)"
   ]
  },
  {
   "cell_type": "markdown",
   "id": "b4d3327e-880d-41a4-b53c-411369534c5d",
   "metadata": {},
   "source": [
    "## Feature Extraction"
   ]
  },
  {
   "cell_type": "code",
   "execution_count": 344,
   "id": "8864ccdc-301d-4ed6-9d5d-4312619018e2",
   "metadata": {
    "tags": []
   },
   "outputs": [
    {
     "name": "stderr",
     "output_type": "stream",
     "text": [
      "100%|███████████████████████████████████████| 1400/1400 [00:16<00:00, 84.13it/s]\n",
      "100%|███████████████████████████████████████| 1400/1400 [00:18<00:00, 74.35it/s]\n",
      "100%|█████████████████████████████████████| 1400/1400 [00:01<00:00, 1367.02it/s]\n",
      "100%|███████████████████████████████████████| 1400/1400 [00:19<00:00, 70.49it/s]\n"
     ]
    }
   ],
   "source": [
    "X_train, y_train, X_test, y_test = feature_extractor_tess(df_train,  df_test, 26)"
   ]
  },
  {
   "cell_type": "code",
   "execution_count": 345,
   "id": "610b79ea-56dd-4c10-8c81-27f2a4666c49",
   "metadata": {},
   "outputs": [],
   "source": [
    "y_train, y_test = encode_labels_tess(y_train, y_test)"
   ]
  },
  {
   "cell_type": "code",
   "execution_count": 346,
   "id": "0d0805b8-665d-421b-8e3a-e90bffb14446",
   "metadata": {},
   "outputs": [
    {
     "data": {
      "text/plain": [
       "1400"
      ]
     },
     "execution_count": 346,
     "metadata": {},
     "output_type": "execute_result"
    }
   ],
   "source": [
    "np.size(y_test)"
   ]
  },
  {
   "cell_type": "code",
   "execution_count": 347,
   "id": "7027512d-0a1f-4a66-8942-98e3c0cda27c",
   "metadata": {},
   "outputs": [],
   "source": [
    "X_train, X_test = standard_scaling_tess(X_train,  X_test)"
   ]
  },
  {
   "cell_type": "code",
   "execution_count": 348,
   "id": "c8528c7e-b942-4019-9efb-77533ef139e2",
   "metadata": {},
   "outputs": [
    {
     "data": {
      "text/plain": [
       "(1400, 25)"
      ]
     },
     "execution_count": 348,
     "metadata": {},
     "output_type": "execute_result"
    }
   ],
   "source": [
    "X_train.shape"
   ]
  },
  {
   "cell_type": "markdown",
   "id": "6f9cc9fe-e1d6-44b5-a697-4567f556cf7e",
   "metadata": {},
   "source": [
    "## Shuffle training data"
   ]
  },
  {
   "cell_type": "code",
   "execution_count": 349,
   "id": "bb780f2f-adbd-4d06-b3a8-9d8dd68c022f",
   "metadata": {},
   "outputs": [],
   "source": [
    "from sklearn.utils import shuffle\n",
    "X_train, y_train = shuffle(X_train, y_train)"
   ]
  },
  {
   "cell_type": "markdown",
   "id": "41f778d3-5f1a-4539-b667-2539c40ed87a",
   "metadata": {
    "tags": []
   },
   "source": [
    "## Hypeparameter optimization"
   ]
  },
  {
   "cell_type": "code",
   "execution_count": 350,
   "id": "edfccf12-db34-4eca-b08c-033bc1cde595",
   "metadata": {},
   "outputs": [],
   "source": [
    "# classweight \n",
    "from sklearn.utils import class_weight\n",
    "class_weights = class_weight.compute_class_weight('balanced', np.unique(y_train), y_train)\n",
    "class_weights = {l:c for l,c in zip(np.unique(y_train), class_weights)}"
   ]
  },
  {
   "cell_type": "code",
   "execution_count": 351,
   "id": "119d1894-ade0-41e9-8fad-5a30bd475a52",
   "metadata": {},
   "outputs": [],
   "source": [
    "rand_search = RandomizedSearchCV(estimator=svc, \n",
    "                                 param_distributions=param_grid_clf, \n",
    "                                 n_jobs = -1, \n",
    "                                 cv=KFold(3))"
   ]
  },
  {
   "cell_type": "code",
   "execution_count": 352,
   "id": "8687c5f1-057b-4408-aea9-598f0bf03fd8",
   "metadata": {},
   "outputs": [
    {
     "name": "stdout",
     "output_type": "stream",
     "text": [
      "Performing Randomized Search...\n",
      "\n",
      "Done in 0.217s\n",
      "\n"
     ]
    }
   ],
   "source": [
    "print(\"Performing Randomized Search...\")\n",
    "t0 = time()\n",
    "rand_search.fit(X_train, y_train) \n",
    "print(\"\\nDone in %0.3fs\" % (time()-t0))\n",
    "print() "
   ]
  },
  {
   "cell_type": "code",
   "execution_count": 353,
   "id": "bf76f036-ca45-4679-b20f-b298e776d404",
   "metadata": {},
   "outputs": [
    {
     "data": {
      "text/plain": [
       "{'kernel': 'rbf', 'C': 1}"
      ]
     },
     "execution_count": 353,
     "metadata": {},
     "output_type": "execute_result"
    }
   ],
   "source": [
    "best_params = rand_search.best_params_\n",
    "best_clf = rand_search.best_estimator_\n",
    "best_params"
   ]
  },
  {
   "cell_type": "code",
   "execution_count": 354,
   "id": "e55ede91-733c-4577-98a9-d3d075ad44c1",
   "metadata": {},
   "outputs": [
    {
     "data": {
      "text/plain": [
       "SVC(C=1, class_weight={0: 1.75, 1: 0.7})"
      ]
     },
     "execution_count": 354,
     "metadata": {},
     "output_type": "execute_result"
    }
   ],
   "source": [
    "best_clf =  SVC(C=best_params.get('C'), kernel=best_params.get('kernel'), class_weight=class_weights)\n",
    "best_clf.fit(X_train, y_train)"
   ]
  },
  {
   "cell_type": "markdown",
   "id": "7f9c1afd-9a1e-4631-94df-39ec4bbf9c5a",
   "metadata": {},
   "source": [
    "## Testing"
   ]
  },
  {
   "cell_type": "code",
   "execution_count": 355,
   "id": "1dd3fa33-2d94-4a0e-bb0f-7ed68b831537",
   "metadata": {},
   "outputs": [
    {
     "name": "stdout",
     "output_type": "stream",
     "text": [
      "Testing...\n",
      "Accuracy: 0.5714285714285714\n"
     ]
    }
   ],
   "source": [
    "print(\"Testing...\")\n",
    "pred = best_clf.predict(X_test) \n",
    "accuracy = best_clf.score(X_test, y_test) \n",
    "print(\"Accuracy: %s\" %str(accuracy))"
   ]
  },
  {
   "cell_type": "markdown",
   "id": "99afd605-48e0-4e8f-bbde-630c32f20f17",
   "metadata": {},
   "source": [
    "## Save best model "
   ]
  },
  {
   "cell_type": "code",
   "execution_count": 356,
   "id": "de2df165-dfc9-4e83-8d2b-3dc384094a85",
   "metadata": {},
   "outputs": [],
   "source": [
    "pkl_filename = \"/home/helemanc/Desktop/Binary_Model/models_experiments/Experiment_7/model_7_3.pkl\"\n",
    "with open(pkl_filename, 'wb') as file:\n",
    "    pickle.dump(best_clf, file)"
   ]
  },
  {
   "cell_type": "code",
   "execution_count": 357,
   "id": "34b8d194-2e55-45c7-9e86-cd79d0b0f7c9",
   "metadata": {
    "tags": []
   },
   "outputs": [
    {
     "data": {
      "text/plain": [
       "\"\\n# Load from file\\nwith open(pkl_filename, 'rb') as file:\\n    pickle_model = pickle.load(file)\\n\""
      ]
     },
     "execution_count": 357,
     "metadata": {},
     "output_type": "execute_result"
    }
   ],
   "source": [
    "'''\n",
    "# Load from file\n",
    "with open(pkl_filename, 'rb') as file:\n",
    "    pickle_model = pickle.load(file)\n",
    "'''"
   ]
  },
  {
   "cell_type": "markdown",
   "id": "dd1f1f95-31ce-4f8f-a2d3-f8a55e5791bc",
   "metadata": {},
   "source": [
    "# Experiment 1.4: TESS noise"
   ]
  },
  {
   "cell_type": "markdown",
   "id": "bcc9fda0-c169-49b2-b749-b2f9624d66a9",
   "metadata": {},
   "source": [
    "## Read dataframes"
   ]
  },
  {
   "cell_type": "code",
   "execution_count": 358,
   "id": "396a0a3a-a239-47fa-a92b-55deb426e481",
   "metadata": {
    "tags": []
   },
   "outputs": [],
   "source": [
    "preprocess_path = \"/home/helemanc/Desktop/Binary_Model/df_csv_noise/tess\"\n",
    "df_train = pd.read_csv(os.path.join(preprocess_path,\"df_train.csv\"))\n",
    "df_test = pd.read_csv(os.path.join(preprocess_path,\"df_test.csv\"))  "
   ]
  },
  {
   "cell_type": "markdown",
   "id": "0a794e4b-eb69-4ca4-81f5-e1d9bb49b943",
   "metadata": {},
   "source": [
    "## Feature Extraction"
   ]
  },
  {
   "cell_type": "code",
   "execution_count": 359,
   "id": "be7a1eaa-d41f-47bf-bf39-a2c839489e7e",
   "metadata": {},
   "outputs": [
    {
     "name": "stderr",
     "output_type": "stream",
     "text": [
      "100%|███████████████████████████████████████| 2800/2800 [00:30<00:00, 90.77it/s]\n",
      "100%|███████████████████████████████████████| 2800/2800 [00:38<00:00, 72.05it/s]\n",
      "100%|█████████████████████████████████████| 1400/1400 [00:00<00:00, 2635.20it/s]\n",
      "100%|███████████████████████████████████████| 1400/1400 [00:23<00:00, 59.57it/s]\n"
     ]
    }
   ],
   "source": [
    "X_train, y_train, X_test, y_test = feature_extractor_tess(df_train, df_test, 26) # 13"
   ]
  },
  {
   "cell_type": "code",
   "execution_count": 360,
   "id": "7946e411-202c-43ff-a364-9c51aadc311d",
   "metadata": {},
   "outputs": [],
   "source": [
    "y_train,  y_test = encode_labels_tess(y_train,  y_test)"
   ]
  },
  {
   "cell_type": "code",
   "execution_count": 361,
   "id": "1742df11-27f5-4291-980d-65bab1049525",
   "metadata": {},
   "outputs": [
    {
     "data": {
      "text/plain": [
       "2800"
      ]
     },
     "execution_count": 361,
     "metadata": {},
     "output_type": "execute_result"
    }
   ],
   "source": [
    "np.size(y_train)"
   ]
  },
  {
   "cell_type": "code",
   "execution_count": 362,
   "id": "12fcf5d0-65ed-408a-96cd-85803ba5fd1c",
   "metadata": {},
   "outputs": [],
   "source": [
    "X_train, X_test = standard_scaling_tess(X_train,  X_test)"
   ]
  },
  {
   "cell_type": "code",
   "execution_count": 363,
   "id": "74d95565-95e6-485c-af8e-a82e69104006",
   "metadata": {},
   "outputs": [
    {
     "data": {
      "text/plain": [
       "(2800, 25)"
      ]
     },
     "execution_count": 363,
     "metadata": {},
     "output_type": "execute_result"
    }
   ],
   "source": [
    "X_train.shape"
   ]
  },
  {
   "cell_type": "markdown",
   "id": "fb0eaeda-31b6-4b0e-a7cb-0505599c5540",
   "metadata": {},
   "source": [
    "## Shuffle training data"
   ]
  },
  {
   "cell_type": "code",
   "execution_count": 364,
   "id": "15f3f50d-ff5c-4842-9923-9022a6a6b335",
   "metadata": {},
   "outputs": [],
   "source": [
    "from sklearn.utils import shuffle\n",
    "X_train, y_train = shuffle(X_train, y_train)"
   ]
  },
  {
   "cell_type": "markdown",
   "id": "aca538d9-42c5-493d-bd75-5a3d657be573",
   "metadata": {
    "tags": []
   },
   "source": [
    "## Hypeparameter optimization"
   ]
  },
  {
   "cell_type": "code",
   "execution_count": 365,
   "id": "a91afbfc-81bd-4e87-9dc3-8ab13ea176cf",
   "metadata": {},
   "outputs": [],
   "source": [
    "# classweight \n",
    "from sklearn.utils import class_weight\n",
    "class_weights = class_weight.compute_class_weight('balanced', np.unique(y_train), y_train)\n",
    "class_weights = {l:c for l,c in zip(np.unique(y_train), class_weights)}"
   ]
  },
  {
   "cell_type": "code",
   "execution_count": 366,
   "id": "9a3f2646-3aa2-4e99-8590-e2cb623544d1",
   "metadata": {},
   "outputs": [],
   "source": [
    "rand_search = RandomizedSearchCV(estimator=svc, \n",
    "                                 param_distributions=param_grid_clf, \n",
    "                                 n_jobs = -1, \n",
    "                                 cv=KFold(3))"
   ]
  },
  {
   "cell_type": "code",
   "execution_count": 367,
   "id": "02b4dce0-4f1b-4ddb-bf09-590c87f7b0a3",
   "metadata": {},
   "outputs": [
    {
     "name": "stdout",
     "output_type": "stream",
     "text": [
      "Performing Randomized Search...\n",
      "\n",
      "Done in 2.801s\n",
      "\n"
     ]
    }
   ],
   "source": [
    "print(\"Performing Randomized Search...\")\n",
    "t0 = time()\n",
    "rand_search.fit(X_train, y_train) \n",
    "print(\"\\nDone in %0.3fs\" % (time()-t0))\n",
    "print() "
   ]
  },
  {
   "cell_type": "code",
   "execution_count": 368,
   "id": "49805783-fd28-45ef-a353-57bc621060df",
   "metadata": {},
   "outputs": [
    {
     "data": {
      "text/plain": [
       "{'kernel': 'rbf', 'C': 10}"
      ]
     },
     "execution_count": 368,
     "metadata": {},
     "output_type": "execute_result"
    }
   ],
   "source": [
    "best_params = rand_search.best_params_\n",
    "best_clf = rand_search.best_estimator_\n",
    "best_params"
   ]
  },
  {
   "cell_type": "code",
   "execution_count": 369,
   "id": "8f1d7278-9d7f-467e-bfc5-7eb98aa80d43",
   "metadata": {},
   "outputs": [
    {
     "data": {
      "text/plain": [
       "SVC(C=10, class_weight={0: 1.75, 1: 0.7})"
      ]
     },
     "execution_count": 369,
     "metadata": {},
     "output_type": "execute_result"
    }
   ],
   "source": [
    "best_clf =  SVC(C=best_params.get('C'), kernel=best_params.get('kernel'), class_weight=class_weights)\n",
    "best_clf.fit(X_train, y_train)"
   ]
  },
  {
   "cell_type": "markdown",
   "id": "958f28f2-4d42-4b40-8277-ace47e34bdcf",
   "metadata": {},
   "source": [
    "## Testing"
   ]
  },
  {
   "cell_type": "code",
   "execution_count": 370,
   "id": "2d2d946b-de96-4e14-993a-2b06e1684724",
   "metadata": {},
   "outputs": [
    {
     "name": "stdout",
     "output_type": "stream",
     "text": [
      "Testing...\n",
      "Accuracy: 0.5714285714285714\n"
     ]
    }
   ],
   "source": [
    "print(\"Testing...\")\n",
    "pred = best_clf.predict(X_test) \n",
    "accuracy = best_clf.score(X_test, y_test) \n",
    "print(\"Accuracy: %s\" %str(accuracy))"
   ]
  },
  {
   "cell_type": "markdown",
   "id": "6f4302c4-68c9-4782-be53-f5f817820901",
   "metadata": {},
   "source": [
    "## Save best model "
   ]
  },
  {
   "cell_type": "code",
   "execution_count": 371,
   "id": "ec91b20a-2e14-406c-9c73-dfe50e78c02e",
   "metadata": {},
   "outputs": [],
   "source": [
    "pkl_filename = \"/home/helemanc/Desktop/Binary_Model/models_experiments/Experiment_7/model_7_4.pkl\"\n",
    "with open(pkl_filename, 'wb') as file:\n",
    "    pickle.dump(best_clf, file)"
   ]
  },
  {
   "cell_type": "code",
   "execution_count": 372,
   "id": "570a2e68-cee5-48d7-8e43-d1ae299df8b7",
   "metadata": {
    "tags": []
   },
   "outputs": [
    {
     "data": {
      "text/plain": [
       "\"\\n# Load from file\\nwith open(pkl_filename, 'rb') as file:\\n    pickle_model = pickle.load(file)\\n\""
      ]
     },
     "execution_count": 372,
     "metadata": {},
     "output_type": "execute_result"
    }
   ],
   "source": [
    "'''\n",
    "# Load from file\n",
    "with open(pkl_filename, 'rb') as file:\n",
    "    pickle_model = pickle.load(file)\n",
    "'''"
   ]
  },
  {
   "cell_type": "markdown",
   "id": "ae8c1744-5c47-4d5d-a876-b5422a06f19c",
   "metadata": {},
   "source": [
    "# Experiment 1.5: SAVEE"
   ]
  },
  {
   "cell_type": "code",
   "execution_count": 373,
   "id": "603dacc5-78a2-4120-9eed-16874f83db18",
   "metadata": {},
   "outputs": [],
   "source": [
    "df_train = SAVEE_train\n",
    "df_val = SAVEE_val\n",
    "df_test = SAVEE_test"
   ]
  },
  {
   "cell_type": "code",
   "execution_count": 374,
   "id": "69ea71b4-9ac6-46b6-853f-436c2c68adc6",
   "metadata": {},
   "outputs": [],
   "source": [
    "df_train.reset_index(drop = True, inplace = True) \n",
    "df_val.reset_index(drop = True, inplace = True)\n",
    "df_test.reset_index(drop = True, inplace = True)"
   ]
  },
  {
   "cell_type": "markdown",
   "id": "3ca2c3b6-b713-440b-a5ce-68de6a466948",
   "metadata": {
    "toc-hr-collapsed": true
   },
   "source": [
    "## Feature Extraction"
   ]
  },
  {
   "cell_type": "code",
   "execution_count": 375,
   "id": "e06d0394-b006-4d29-afac-e9342bfd8450",
   "metadata": {
    "tags": []
   },
   "outputs": [
    {
     "name": "stderr",
     "output_type": "stream",
     "text": [
      "100%|█████████████████████████████████████████| 240/240 [00:09<00:00, 26.24it/s]\n",
      "100%|█████████████████████████████████████████| 240/240 [00:02<00:00, 82.84it/s]\n",
      "100%|█████████████████████████████████████████| 120/120 [00:04<00:00, 28.46it/s]\n",
      "100%|█████████████████████████████████████████| 120/120 [00:01<00:00, 97.35it/s]\n",
      "100%|█████████████████████████████████████████| 120/120 [00:03<00:00, 37.51it/s]\n",
      "100%|█████████████████████████████████████████| 120/120 [00:01<00:00, 79.48it/s]\n"
     ]
    }
   ],
   "source": [
    "X_train, y_train, X_val, y_val, X_test, y_test = feature_extractor(df_train, df_val, df_test, 26)"
   ]
  },
  {
   "cell_type": "code",
   "execution_count": 376,
   "id": "9f2985ed-4a24-41d9-8594-6bed529da212",
   "metadata": {},
   "outputs": [],
   "source": [
    "y_train, y_val, y_test = encode_labels(y_train, y_val, y_test)"
   ]
  },
  {
   "cell_type": "code",
   "execution_count": 377,
   "id": "d3785be7-40a0-4e3b-88dc-50420922edc0",
   "metadata": {},
   "outputs": [
    {
     "data": {
      "text/plain": [
       "120"
      ]
     },
     "execution_count": 377,
     "metadata": {},
     "output_type": "execute_result"
    }
   ],
   "source": [
    "np.size(y_val)"
   ]
  },
  {
   "cell_type": "code",
   "execution_count": 378,
   "id": "355d91e7-3935-47bb-88b4-8c1cf66008c6",
   "metadata": {},
   "outputs": [],
   "source": [
    "X_train, X_val, X_test = standard_scaling(X_train, X_val, X_test)"
   ]
  },
  {
   "cell_type": "code",
   "execution_count": 379,
   "id": "121759b9-27f1-42c3-a7bb-d0e8185749b4",
   "metadata": {},
   "outputs": [
    {
     "data": {
      "text/plain": [
       "(240, 25)"
      ]
     },
     "execution_count": 379,
     "metadata": {},
     "output_type": "execute_result"
    }
   ],
   "source": [
    "X_train.shape"
   ]
  },
  {
   "cell_type": "markdown",
   "id": "9cff7862-d783-4cb2-a892-d51393f93286",
   "metadata": {},
   "source": [
    "## Shuffle training data"
   ]
  },
  {
   "cell_type": "code",
   "execution_count": 380,
   "id": "fea3ba46-cc4a-4a21-be53-9168c94e6d05",
   "metadata": {},
   "outputs": [],
   "source": [
    "from sklearn.utils import shuffle\n",
    "X_train, y_train = shuffle(X_train, y_train)"
   ]
  },
  {
   "cell_type": "markdown",
   "id": "2d335d15-559f-4a6f-be35-9ef04bfca7b4",
   "metadata": {
    "tags": []
   },
   "source": [
    "## Hypeparameter optimization"
   ]
  },
  {
   "cell_type": "code",
   "execution_count": 381,
   "id": "17040d15-5b10-48c2-8330-598fa4825395",
   "metadata": {},
   "outputs": [],
   "source": [
    "# classweight \n",
    "from sklearn.utils import class_weight\n",
    "class_weights = class_weight.compute_class_weight('balanced', np.unique(y_train), y_train)\n",
    "class_weights = {l:c for l,c in zip(np.unique(y_train), class_weights)}"
   ]
  },
  {
   "cell_type": "code",
   "execution_count": 382,
   "id": "68e234ae-a3c6-46a1-9268-9fbe1553351f",
   "metadata": {},
   "outputs": [],
   "source": [
    "rand_search = RandomizedSearchCV(estimator=svc, \n",
    "                                 param_distributions=param_grid_clf, \n",
    "                                 n_jobs = -1, \n",
    "                                 cv=KFold(3))"
   ]
  },
  {
   "cell_type": "code",
   "execution_count": 383,
   "id": "ab7e7441-180e-4d36-a66a-264dfca96773",
   "metadata": {},
   "outputs": [
    {
     "name": "stdout",
     "output_type": "stream",
     "text": [
      "Performing Randomized Search...\n",
      "\n",
      "Done in 0.581s\n",
      "\n"
     ]
    }
   ],
   "source": [
    "print(\"Performing Randomized Search...\")\n",
    "t0 = time()\n",
    "rand_search.fit(X_train, y_train) \n",
    "print(\"\\nDone in %0.3fs\" % (time()-t0))\n",
    "print() "
   ]
  },
  {
   "cell_type": "code",
   "execution_count": 384,
   "id": "ea42985f-732b-47b8-957f-2d6c3f3a2f29",
   "metadata": {},
   "outputs": [
    {
     "data": {
      "text/plain": [
       "{'kernel': 'rbf', 'C': 10}"
      ]
     },
     "execution_count": 384,
     "metadata": {},
     "output_type": "execute_result"
    }
   ],
   "source": [
    "best_params = rand_search.best_params_\n",
    "best_clf = rand_search.best_estimator_\n",
    "best_params"
   ]
  },
  {
   "cell_type": "code",
   "execution_count": 385,
   "id": "f5f50afa-6372-483e-85e2-97b863aa34b0",
   "metadata": {},
   "outputs": [
    {
     "data": {
      "text/plain": [
       "SVC(C=10, class_weight={0: 1.0, 1: 1.0})"
      ]
     },
     "execution_count": 385,
     "metadata": {},
     "output_type": "execute_result"
    }
   ],
   "source": [
    "best_clf =  SVC(C=best_params.get('C'), kernel=best_params.get('kernel'), class_weight=class_weights)\n",
    "best_clf.fit(X_train, y_train)"
   ]
  },
  {
   "cell_type": "markdown",
   "id": "202c691b-395f-4836-ac57-44605eb8ca09",
   "metadata": {},
   "source": [
    "## Testing"
   ]
  },
  {
   "cell_type": "code",
   "execution_count": 386,
   "id": "929da59f-1bb5-454e-ab72-fb763f8a3f9f",
   "metadata": {},
   "outputs": [
    {
     "name": "stdout",
     "output_type": "stream",
     "text": [
      "Testing...\n",
      "Accuracy: 0.5083333333333333\n"
     ]
    }
   ],
   "source": [
    "print(\"Testing...\")\n",
    "pred = best_clf.predict(X_test) \n",
    "accuracy = best_clf.score(X_test, y_test) \n",
    "print(\"Accuracy: %s\" %str(accuracy))"
   ]
  },
  {
   "cell_type": "markdown",
   "id": "fa93e3d8-99e0-4e38-bc5e-7691f6bf22a6",
   "metadata": {},
   "source": [
    "## Save best model "
   ]
  },
  {
   "cell_type": "code",
   "execution_count": 387,
   "id": "3778e8d4-ecf9-4a25-b758-fe3f5657e7cc",
   "metadata": {},
   "outputs": [],
   "source": [
    "pkl_filename = \"/home/helemanc/Desktop/Binary_Model/models_experiments/Experiment_7/model_7_5.pkl\"\n",
    "with open(pkl_filename, 'wb') as file:\n",
    "    pickle.dump(best_clf, file)"
   ]
  },
  {
   "cell_type": "code",
   "execution_count": 388,
   "id": "b0b9ef29-1a4d-4e0a-8e9e-92f8c74871ca",
   "metadata": {
    "tags": []
   },
   "outputs": [
    {
     "data": {
      "text/plain": [
       "\"\\n# Load from file\\nwith open(pkl_filename, 'rb') as file:\\n    pickle_model = pickle.load(file)\\n\""
      ]
     },
     "execution_count": 388,
     "metadata": {},
     "output_type": "execute_result"
    }
   ],
   "source": [
    "'''\n",
    "# Load from file\n",
    "with open(pkl_filename, 'rb') as file:\n",
    "    pickle_model = pickle.load(file)\n",
    "'''"
   ]
  },
  {
   "cell_type": "markdown",
   "id": "1c110367-a46a-44c6-992d-3e859ddc1a8f",
   "metadata": {},
   "source": [
    "# Experiment 1.6: SAVEE noise"
   ]
  },
  {
   "cell_type": "markdown",
   "id": "a8fd1848-c4db-4a7d-a501-00a10056352f",
   "metadata": {
    "tags": [],
    "toc-hr-collapsed": true
   },
   "source": [
    "## Read dataframes"
   ]
  },
  {
   "cell_type": "code",
   "execution_count": 389,
   "id": "6a2f4b8b-b539-4678-a701-ccea6afa3896",
   "metadata": {
    "tags": []
   },
   "outputs": [],
   "source": [
    "preprocess_path = \"/home/helemanc/Desktop/Binary_Model/df_csv_noise/savee\"\n",
    "df_train = pd.read_csv(os.path.join(preprocess_path,\"df_train.csv\"))\n",
    "df_val = pd.read_csv(os.path.join(preprocess_path,\"df_val.csv\"))\n",
    "df_test = pd.read_csv(os.path.join(preprocess_path,\"df_test.csv\"))  "
   ]
  },
  {
   "cell_type": "markdown",
   "id": "b5942afb-58ff-4f3d-8198-c0b3086e5b69",
   "metadata": {},
   "source": [
    "## Feature Extraction"
   ]
  },
  {
   "cell_type": "code",
   "execution_count": 390,
   "id": "005fdba4-02e9-46dd-ab6a-8e844eaca70d",
   "metadata": {},
   "outputs": [
    {
     "name": "stderr",
     "output_type": "stream",
     "text": [
      "100%|█████████████████████████████████████████| 480/480 [00:15<00:00, 31.21it/s]\n",
      "100%|█████████████████████████████████████████| 480/480 [00:06<00:00, 78.52it/s]\n",
      "100%|█████████████████████████████████████████| 120/120 [00:03<00:00, 31.47it/s]\n",
      "100%|█████████████████████████████████████████| 120/120 [00:01<00:00, 93.04it/s]\n",
      "100%|█████████████████████████████████████████| 120/120 [00:03<00:00, 33.85it/s]\n",
      "100%|█████████████████████████████████████████| 120/120 [00:01<00:00, 66.47it/s]\n"
     ]
    }
   ],
   "source": [
    "X_train, y_train, X_val, y_val, X_test, y_test = feature_extractor(df_train, df_val, df_test, 26) # 13"
   ]
  },
  {
   "cell_type": "code",
   "execution_count": 391,
   "id": "4c583ca0-7858-48e3-af1d-43867315bb24",
   "metadata": {},
   "outputs": [],
   "source": [
    "y_train, y_val, y_test = encode_labels(y_train, y_val, y_test)"
   ]
  },
  {
   "cell_type": "code",
   "execution_count": 392,
   "id": "d7352253-a161-4311-a149-eb827d89b517",
   "metadata": {},
   "outputs": [
    {
     "data": {
      "text/plain": [
       "120"
      ]
     },
     "execution_count": 392,
     "metadata": {},
     "output_type": "execute_result"
    }
   ],
   "source": [
    "np.size(y_val)"
   ]
  },
  {
   "cell_type": "code",
   "execution_count": 393,
   "id": "f5ecab61-3d12-40dd-aad4-76c2a2e50ba3",
   "metadata": {},
   "outputs": [],
   "source": [
    "X_train, X_val, X_test = standard_scaling(X_train, X_val, X_test)"
   ]
  },
  {
   "cell_type": "code",
   "execution_count": 394,
   "id": "e630b3b3-04d0-4b95-aeee-e1c1c13d848c",
   "metadata": {},
   "outputs": [
    {
     "data": {
      "text/plain": [
       "(480, 25)"
      ]
     },
     "execution_count": 394,
     "metadata": {},
     "output_type": "execute_result"
    }
   ],
   "source": [
    "X_train.shape"
   ]
  },
  {
   "cell_type": "markdown",
   "id": "3d0d01ab-87ae-404c-aeb2-9f0041a53272",
   "metadata": {},
   "source": [
    "## Shuffle training data"
   ]
  },
  {
   "cell_type": "code",
   "execution_count": 395,
   "id": "c4e645b8-b9ff-44ea-bbab-f273921c7e1c",
   "metadata": {},
   "outputs": [],
   "source": [
    "from sklearn.utils import shuffle\n",
    "X_train, y_train = shuffle(X_train, y_train)"
   ]
  },
  {
   "cell_type": "markdown",
   "id": "94c9482e-83c5-447a-a090-a8fedcc691a4",
   "metadata": {
    "tags": []
   },
   "source": [
    "## Hypeparameter optimization"
   ]
  },
  {
   "cell_type": "code",
   "execution_count": 396,
   "id": "c47db704-8ed3-4cf3-badc-e5c8221cf926",
   "metadata": {},
   "outputs": [],
   "source": [
    "# classweight \n",
    "from sklearn.utils import class_weight\n",
    "class_weights = class_weight.compute_class_weight('balanced', np.unique(y_train), y_train)\n",
    "class_weights = {l:c for l,c in zip(np.unique(y_train), class_weights)}"
   ]
  },
  {
   "cell_type": "code",
   "execution_count": 397,
   "id": "f736e3ee-6ee8-4ae8-9c9b-53ff4f381ae0",
   "metadata": {},
   "outputs": [],
   "source": [
    "rand_search = RandomizedSearchCV(estimator=svc, \n",
    "                                 param_distributions=param_grid_clf, \n",
    "                                 n_jobs = -1, \n",
    "                                 cv=KFold(3))"
   ]
  },
  {
   "cell_type": "code",
   "execution_count": 398,
   "id": "bbe7958b-2238-4576-83aa-ff8714a2efbd",
   "metadata": {},
   "outputs": [
    {
     "name": "stdout",
     "output_type": "stream",
     "text": [
      "Performing Randomized Search...\n",
      "\n",
      "Done in 1.751s\n",
      "\n"
     ]
    }
   ],
   "source": [
    "print(\"Performing Randomized Search...\")\n",
    "t0 = time()\n",
    "rand_search.fit(X_train, y_train) \n",
    "print(\"\\nDone in %0.3fs\" % (time()-t0))\n",
    "print() "
   ]
  },
  {
   "cell_type": "code",
   "execution_count": 399,
   "id": "fea4e69b-3f1d-427d-962f-b192e2364b7c",
   "metadata": {},
   "outputs": [
    {
     "data": {
      "text/plain": [
       "{'kernel': 'rbf', 'C': 10}"
      ]
     },
     "execution_count": 399,
     "metadata": {},
     "output_type": "execute_result"
    }
   ],
   "source": [
    "best_params = rand_search.best_params_\n",
    "best_clf = rand_search.best_estimator_\n",
    "best_params"
   ]
  },
  {
   "cell_type": "code",
   "execution_count": 400,
   "id": "445d115b-3250-43ce-b818-1cba99eacd9b",
   "metadata": {},
   "outputs": [
    {
     "data": {
      "text/plain": [
       "SVC(C=10, class_weight={0: 1.0, 1: 1.0})"
      ]
     },
     "execution_count": 400,
     "metadata": {},
     "output_type": "execute_result"
    }
   ],
   "source": [
    "best_clf =  SVC(C=best_params.get('C'), kernel=best_params.get('kernel'), class_weight=class_weights)\n",
    "best_clf.fit(X_train, y_train)"
   ]
  },
  {
   "cell_type": "markdown",
   "id": "537dc6f4-d55e-4fdf-8ac2-4601e69f3037",
   "metadata": {},
   "source": [
    "## Testing"
   ]
  },
  {
   "cell_type": "code",
   "execution_count": 401,
   "id": "a2a69edf-dfbd-46b4-a529-47a246df0faf",
   "metadata": {},
   "outputs": [
    {
     "name": "stdout",
     "output_type": "stream",
     "text": [
      "Testing...\n",
      "Accuracy: 0.5\n"
     ]
    }
   ],
   "source": [
    "print(\"Testing...\")\n",
    "pred = best_clf.predict(X_test) \n",
    "accuracy = best_clf.score(X_test, y_test) \n",
    "print(\"Accuracy: %s\" %str(accuracy))"
   ]
  },
  {
   "cell_type": "markdown",
   "id": "7b345504-c142-40c4-b4cb-03a3b1f23bfb",
   "metadata": {},
   "source": [
    "## Save best model "
   ]
  },
  {
   "cell_type": "code",
   "execution_count": 402,
   "id": "e80939c5-0ae8-4b38-960d-629a2a5ecfb6",
   "metadata": {},
   "outputs": [],
   "source": [
    "pkl_filename = \"/home/helemanc/Desktop/Binary_Model/models_experiments/Experiment_7/model_7_6.pkl\"\n",
    "with open(pkl_filename, 'wb') as file:\n",
    "    pickle.dump(best_clf, file)"
   ]
  },
  {
   "cell_type": "code",
   "execution_count": 403,
   "id": "a63e31b1-f20b-43d9-96c5-9f069584b8f5",
   "metadata": {
    "tags": []
   },
   "outputs": [
    {
     "data": {
      "text/plain": [
       "\"\\n# Load from file\\nwith open(pkl_filename, 'rb') as file:\\n    pickle_model = pickle.load(file)\\n\""
      ]
     },
     "execution_count": 403,
     "metadata": {},
     "output_type": "execute_result"
    }
   ],
   "source": [
    "'''\n",
    "# Load from file\n",
    "with open(pkl_filename, 'rb') as file:\n",
    "    pickle_model = pickle.load(file)\n",
    "'''"
   ]
  },
  {
   "cell_type": "markdown",
   "id": "9b48bb0d-46c4-4afe-9971-598e03d033ba",
   "metadata": {},
   "source": [
    "# Experiment 1.7: CREMA "
   ]
  },
  {
   "cell_type": "code",
   "execution_count": 404,
   "id": "5fb277ee-5442-48d0-8611-0c65bd19c6ea",
   "metadata": {
    "tags": []
   },
   "outputs": [],
   "source": [
    "df_train = CREMA_train\n",
    "df_val = CREMA_val\n",
    "df_test = CREMA_test"
   ]
  },
  {
   "cell_type": "code",
   "execution_count": 405,
   "id": "4c62e87f-f0a2-445a-a99e-df4b0ed230c2",
   "metadata": {
    "tags": []
   },
   "outputs": [],
   "source": [
    "df_train.reset_index(drop = True, inplace = True) \n",
    "df_val.reset_index(drop = True, inplace = True)\n",
    "df_test.reset_index(drop = True, inplace = True)"
   ]
  },
  {
   "cell_type": "markdown",
   "id": "319b29e7-e259-497c-8a5f-99b5bdfcf00a",
   "metadata": {
    "tags": []
   },
   "source": [
    "## Feature Extraction"
   ]
  },
  {
   "cell_type": "code",
   "execution_count": 406,
   "id": "346c666b-074d-49b6-824d-c479cc929acf",
   "metadata": {
    "tags": []
   },
   "outputs": [
    {
     "name": "stderr",
     "output_type": "stream",
     "text": [
      "100%|███████████████████████████████████████| 320/320 [00:00<00:00, 2169.42it/s]\n",
      "100%|█████████████████████████████████████████| 320/320 [00:04<00:00, 66.13it/s]\n",
      "100%|██████████████████████████████████████████| 60/60 [00:00<00:00, 842.54it/s]\n",
      "100%|███████████████████████████████████████████| 60/60 [00:00<00:00, 64.46it/s]\n",
      "100%|██████████████████████████████████████████| 60/60 [00:00<00:00, 895.15it/s]\n",
      "100%|███████████████████████████████████████████| 60/60 [00:00<00:00, 66.06it/s]\n"
     ]
    }
   ],
   "source": [
    "X_train, y_train, X_val, y_val, X_test, y_test = feature_extractor(df_train, df_val, df_test, 26)"
   ]
  },
  {
   "cell_type": "code",
   "execution_count": 407,
   "id": "e193aeca-ae95-4b97-a25a-12d39e1dea07",
   "metadata": {},
   "outputs": [],
   "source": [
    "y_train, y_val, y_test = encode_labels(y_train, y_val, y_test)"
   ]
  },
  {
   "cell_type": "code",
   "execution_count": 408,
   "id": "6ec8c6fd-0b63-4a58-a8d2-758f3b219608",
   "metadata": {},
   "outputs": [
    {
     "data": {
      "text/plain": [
       "60"
      ]
     },
     "execution_count": 408,
     "metadata": {},
     "output_type": "execute_result"
    }
   ],
   "source": [
    "np.size(y_val)"
   ]
  },
  {
   "cell_type": "code",
   "execution_count": 409,
   "id": "8f06ff29-3f36-44d1-901e-4e104c6c91c9",
   "metadata": {},
   "outputs": [],
   "source": [
    "X_train, X_val, X_test = standard_scaling(X_train, X_val, X_test)"
   ]
  },
  {
   "cell_type": "code",
   "execution_count": 410,
   "id": "900ab638-8a5f-47f9-b2bf-133545246e64",
   "metadata": {},
   "outputs": [
    {
     "data": {
      "text/plain": [
       "(320, 25)"
      ]
     },
     "execution_count": 410,
     "metadata": {},
     "output_type": "execute_result"
    }
   ],
   "source": [
    "X_train.shape"
   ]
  },
  {
   "cell_type": "markdown",
   "id": "bef5cb21-e518-42db-8a5e-a0b24e594642",
   "metadata": {},
   "source": [
    "## Shuffle training data"
   ]
  },
  {
   "cell_type": "code",
   "execution_count": 411,
   "id": "e30ebabd-d714-4c0d-931d-77be9f4ce74e",
   "metadata": {},
   "outputs": [],
   "source": [
    "from sklearn.utils import shuffle\n",
    "X_train, y_train = shuffle(X_train, y_train)"
   ]
  },
  {
   "cell_type": "markdown",
   "id": "693642fb-93f6-442b-b2c6-d7923eef4fd9",
   "metadata": {
    "tags": []
   },
   "source": [
    "## Hypeparameter optimization"
   ]
  },
  {
   "cell_type": "code",
   "execution_count": 412,
   "id": "ca8dfb10-20bd-4962-bb3a-d187346cddfc",
   "metadata": {},
   "outputs": [],
   "source": [
    "# classweight \n",
    "from sklearn.utils import class_weight\n",
    "class_weights = class_weight.compute_class_weight('balanced', np.unique(y_train), y_train)\n",
    "class_weights = {l:c for l,c in zip(np.unique(y_train), class_weights)}"
   ]
  },
  {
   "cell_type": "code",
   "execution_count": 413,
   "id": "c8774d36-dbe4-4d1f-8a7e-64493ca9523d",
   "metadata": {},
   "outputs": [],
   "source": [
    "rand_search = RandomizedSearchCV(estimator=svc, \n",
    "                                 param_distributions=param_grid_clf, \n",
    "                                 n_jobs = -1, \n",
    "                                 cv=KFold(3))"
   ]
  },
  {
   "cell_type": "code",
   "execution_count": 414,
   "id": "4f483cde-83ea-48f2-b4ef-bde9b82c44c9",
   "metadata": {},
   "outputs": [
    {
     "name": "stdout",
     "output_type": "stream",
     "text": [
      "Performing Randomized Search...\n",
      "\n",
      "Done in 0.645s\n",
      "\n"
     ]
    }
   ],
   "source": [
    "print(\"Performing Randomized Search...\")\n",
    "t0 = time()\n",
    "rand_search.fit(X_train, y_train) \n",
    "print(\"\\nDone in %0.3fs\" % (time()-t0))\n",
    "print() "
   ]
  },
  {
   "cell_type": "code",
   "execution_count": 415,
   "id": "35dbab36-03b3-4407-b42c-6736a348f490",
   "metadata": {},
   "outputs": [
    {
     "data": {
      "text/plain": [
       "{'kernel': 'rbf', 'C': 0.1}"
      ]
     },
     "execution_count": 415,
     "metadata": {},
     "output_type": "execute_result"
    }
   ],
   "source": [
    "best_params = rand_search.best_params_\n",
    "best_clf = rand_search.best_estimator_\n",
    "best_params"
   ]
  },
  {
   "cell_type": "code",
   "execution_count": 416,
   "id": "bd1aeaf1-ec84-4c4f-a943-873d023a93fa",
   "metadata": {},
   "outputs": [
    {
     "data": {
      "text/plain": [
       "SVC(C=0.1, class_weight={0: 2.5, 1: 0.625})"
      ]
     },
     "execution_count": 416,
     "metadata": {},
     "output_type": "execute_result"
    }
   ],
   "source": [
    "best_clf =  SVC(C=best_params.get('C'), kernel=best_params.get('kernel'), class_weight=class_weights)\n",
    "best_clf.fit(X_train, y_train)"
   ]
  },
  {
   "cell_type": "markdown",
   "id": "16db6167-6c48-49f9-aa3b-11d363be32e8",
   "metadata": {},
   "source": [
    "## Testing"
   ]
  },
  {
   "cell_type": "code",
   "execution_count": 417,
   "id": "59e8ed0e-bafa-4f14-92ac-fc97c04bbcba",
   "metadata": {},
   "outputs": [
    {
     "name": "stdout",
     "output_type": "stream",
     "text": [
      "Testing...\n",
      "Accuracy: 0.4666666666666667\n"
     ]
    }
   ],
   "source": [
    "print(\"Testing...\")\n",
    "pred = best_clf.predict(X_test) \n",
    "accuracy = best_clf.score(X_test, y_test) \n",
    "print(\"Accuracy: %s\" %str(accuracy))"
   ]
  },
  {
   "cell_type": "markdown",
   "id": "3a540c32-60b8-4860-ab48-de8cad2a6278",
   "metadata": {},
   "source": [
    "## Save best model "
   ]
  },
  {
   "cell_type": "code",
   "execution_count": 418,
   "id": "100e0bb9-6288-4b1c-b557-63fe8fe35858",
   "metadata": {},
   "outputs": [],
   "source": [
    "pkl_filename = \"/home/helemanc/Desktop/Binary_Model/models_experiments/Experiment_7/model_7_7.pkl\"\n",
    "with open(pkl_filename, 'wb') as file:\n",
    "    pickle.dump(best_clf, file)"
   ]
  },
  {
   "cell_type": "code",
   "execution_count": 419,
   "id": "cc335170-1f44-43b8-837a-6a13be4256c1",
   "metadata": {
    "tags": []
   },
   "outputs": [
    {
     "data": {
      "text/plain": [
       "\"\\n# Load from file\\nwith open(pkl_filename, 'rb') as file:\\n    pickle_model = pickle.load(file)\\n\""
      ]
     },
     "execution_count": 419,
     "metadata": {},
     "output_type": "execute_result"
    }
   ],
   "source": [
    "'''\n",
    "# Load from file\n",
    "with open(pkl_filename, 'rb') as file:\n",
    "    pickle_model = pickle.load(file)\n",
    "'''"
   ]
  },
  {
   "cell_type": "markdown",
   "id": "714bd40a-c088-405d-8dff-cf79e3ff4f81",
   "metadata": {},
   "source": [
    "# Experiment 1.8: CREMA - noise"
   ]
  },
  {
   "cell_type": "code",
   "execution_count": 420,
   "id": "60d0f467-4225-4044-a301-90fab65882ce",
   "metadata": {
    "tags": []
   },
   "outputs": [],
   "source": [
    "preprocess_path = \"/home/helemanc/Desktop/Binary_Model/df_csv_noise/crema\"\n",
    "df_train = pd.read_csv(os.path.join(preprocess_path,\"df_train.csv\"))\n",
    "df_val = pd.read_csv(os.path.join(preprocess_path,\"df_val.csv\"))\n",
    "df_test = pd.read_csv(os.path.join(preprocess_path,\"df_test.csv\"))  "
   ]
  },
  {
   "cell_type": "markdown",
   "id": "f3f8e926-a058-4798-b1a8-3d901d0e7269",
   "metadata": {},
   "source": [
    "## Feature Extraction"
   ]
  },
  {
   "cell_type": "code",
   "execution_count": 421,
   "id": "c010c46c-a396-4299-81ce-3e9e318677ee",
   "metadata": {},
   "outputs": [
    {
     "name": "stderr",
     "output_type": "stream",
     "text": [
      "100%|███████████████████████████████████████| 640/640 [00:00<00:00, 2411.60it/s]\n",
      "100%|█████████████████████████████████████████| 640/640 [00:10<00:00, 63.14it/s]\n",
      "100%|█████████████████████████████████████████| 60/60 [00:00<00:00, 2050.00it/s]\n",
      "100%|███████████████████████████████████████████| 60/60 [00:00<00:00, 76.55it/s]\n",
      "100%|█████████████████████████████████████████| 60/60 [00:00<00:00, 2026.22it/s]\n",
      "100%|███████████████████████████████████████████| 60/60 [00:00<00:00, 76.65it/s]\n"
     ]
    }
   ],
   "source": [
    "X_train, y_train, X_val, y_val, X_test, y_test = feature_extractor(df_train, df_val, df_test, 26) # 13"
   ]
  },
  {
   "cell_type": "code",
   "execution_count": 422,
   "id": "953b77a1-a33e-4912-8edf-14e44f691a5d",
   "metadata": {},
   "outputs": [],
   "source": [
    "y_train, y_val, y_test = encode_labels(y_train, y_val, y_test)"
   ]
  },
  {
   "cell_type": "code",
   "execution_count": 423,
   "id": "4c5fc16d-b278-4dc6-9058-3cf9d6482619",
   "metadata": {},
   "outputs": [
    {
     "data": {
      "text/plain": [
       "60"
      ]
     },
     "execution_count": 423,
     "metadata": {},
     "output_type": "execute_result"
    }
   ],
   "source": [
    "np.size(y_val)"
   ]
  },
  {
   "cell_type": "code",
   "execution_count": 424,
   "id": "b8964d19-51c6-4437-babf-5086d55701b1",
   "metadata": {},
   "outputs": [],
   "source": [
    "X_train, X_val, X_test = standard_scaling(X_train, X_val, X_test)"
   ]
  },
  {
   "cell_type": "code",
   "execution_count": 425,
   "id": "64f10e87-5a2a-4256-bf78-b84729dafccd",
   "metadata": {},
   "outputs": [
    {
     "data": {
      "text/plain": [
       "(640, 25)"
      ]
     },
     "execution_count": 425,
     "metadata": {},
     "output_type": "execute_result"
    }
   ],
   "source": [
    "X_train.shape"
   ]
  },
  {
   "cell_type": "markdown",
   "id": "5a1eddb6-f1d3-4864-874e-488f2f4caa72",
   "metadata": {
    "tags": []
   },
   "source": [
    "## Hypeparameter optimization"
   ]
  },
  {
   "cell_type": "code",
   "execution_count": 426,
   "id": "a7fb10cb-6a46-411b-9eb5-681ffeecd5c1",
   "metadata": {},
   "outputs": [],
   "source": [
    "# classweight \n",
    "from sklearn.utils import class_weight\n",
    "class_weights = class_weight.compute_class_weight('balanced', np.unique(y_train), y_train)\n",
    "class_weights = {l:c for l,c in zip(np.unique(y_train), class_weights)}"
   ]
  },
  {
   "cell_type": "code",
   "execution_count": 427,
   "id": "ee8e1846-943c-49b3-9aae-58a3be059245",
   "metadata": {},
   "outputs": [],
   "source": [
    "rand_search = RandomizedSearchCV(estimator=svc, \n",
    "                                 param_distributions=param_grid_clf, \n",
    "                                 n_jobs = -1, \n",
    "                                 cv=KFold(3))"
   ]
  },
  {
   "cell_type": "code",
   "execution_count": 428,
   "id": "1e5a5dfd-9e9d-41f7-886f-d24d424a3877",
   "metadata": {},
   "outputs": [
    {
     "name": "stdout",
     "output_type": "stream",
     "text": [
      "Performing Randomized Search...\n",
      "\n",
      "Done in 7.108s\n",
      "\n"
     ]
    }
   ],
   "source": [
    "print(\"Performing Randomized Search...\")\n",
    "t0 = time()\n",
    "rand_search.fit(X_train, y_train) \n",
    "print(\"\\nDone in %0.3fs\" % (time()-t0))\n",
    "print() "
   ]
  },
  {
   "cell_type": "code",
   "execution_count": 429,
   "id": "3c5483e7-7636-48a7-9e7b-00f1f86f9ce0",
   "metadata": {},
   "outputs": [
    {
     "data": {
      "text/plain": [
       "{'kernel': 'rbf', 'C': 10}"
      ]
     },
     "execution_count": 429,
     "metadata": {},
     "output_type": "execute_result"
    }
   ],
   "source": [
    "best_params = rand_search.best_params_\n",
    "best_clf = rand_search.best_estimator_\n",
    "best_params"
   ]
  },
  {
   "cell_type": "code",
   "execution_count": 430,
   "id": "1bc58c27-d97c-48f5-b540-cdd0f766193d",
   "metadata": {},
   "outputs": [
    {
     "data": {
      "text/plain": [
       "SVC(C=10, class_weight={0: 2.5, 1: 0.625})"
      ]
     },
     "execution_count": 430,
     "metadata": {},
     "output_type": "execute_result"
    }
   ],
   "source": [
    "best_clf =  SVC(C=best_params.get('C'), kernel=best_params.get('kernel'), class_weight=class_weights)\n",
    "best_clf.fit(X_train, y_train)"
   ]
  },
  {
   "cell_type": "markdown",
   "id": "d42081c2-a7c5-4ac6-adb7-da3c5f39cc9d",
   "metadata": {},
   "source": [
    "## Testing"
   ]
  },
  {
   "cell_type": "code",
   "execution_count": 431,
   "id": "11b66991-09d6-4bc0-bf7f-59b14a06b518",
   "metadata": {},
   "outputs": [
    {
     "name": "stdout",
     "output_type": "stream",
     "text": [
      "Testing...\n",
      "Accuracy: 0.8166666666666667\n"
     ]
    }
   ],
   "source": [
    "print(\"Testing...\")\n",
    "pred = best_clf.predict(X_test) \n",
    "accuracy = best_clf.score(X_test, y_test) \n",
    "print(\"Accuracy: %s\" %str(accuracy))"
   ]
  },
  {
   "cell_type": "markdown",
   "id": "b96937f6-82f1-484e-badf-1dda2c373e29",
   "metadata": {},
   "source": [
    "## Save best model "
   ]
  },
  {
   "cell_type": "code",
   "execution_count": 432,
   "id": "98e0cc52-2a07-454a-bc03-dd37f38fc339",
   "metadata": {},
   "outputs": [],
   "source": [
    "pkl_filename = \"/home/helemanc/Desktop/Binary_Model/models_experiments/Experiment_7/model_7_8.pkl\"\n",
    "with open(pkl_filename, 'wb') as file:\n",
    "    pickle.dump(best_clf, file)"
   ]
  },
  {
   "cell_type": "code",
   "execution_count": 433,
   "id": "7878bcce-2611-4a8f-a3fd-61d8065e9e65",
   "metadata": {
    "tags": []
   },
   "outputs": [
    {
     "data": {
      "text/plain": [
       "\"\\n# Load from file\\nwith open(pkl_filename, 'rb') as file:\\n    pickle_model = pickle.load(file)\\n\""
      ]
     },
     "execution_count": 433,
     "metadata": {},
     "output_type": "execute_result"
    }
   ],
   "source": [
    "'''\n",
    "# Load from file\n",
    "with open(pkl_filename, 'rb') as file:\n",
    "    pickle_model = pickle.load(file)\n",
    "'''"
   ]
  },
  {
   "cell_type": "markdown",
   "id": "b1c89e34-c5d9-4c73-bd54-9c7ce12429e3",
   "metadata": {},
   "source": [
    "# Experiment 1.9: RAVDESS - TESS - SAVEE"
   ]
  },
  {
   "cell_type": "code",
   "execution_count": 434,
   "id": "3b698050-7778-432c-9b05-0bb349d09827",
   "metadata": {},
   "outputs": [],
   "source": [
    "df_train = pd.concat([RAV_train, SAVEE_train, TESS_train])\n",
    "df_val = pd.concat([RAV_val, SAVEE_val])\n",
    "df_test = pd.concat([RAV_test, SAVEE_test, TESS_test])\n",
    "#df_test = pd.concat([RAV_train, SAVEE_test])"
   ]
  },
  {
   "cell_type": "code",
   "execution_count": 435,
   "id": "64fef3e3-80c6-4bd4-b841-f90ec5fb1caa",
   "metadata": {
    "tags": []
   },
   "outputs": [],
   "source": [
    "df_train.reset_index(drop = True, inplace = True) \n",
    "df_val.reset_index(drop = True, inplace = True)\n",
    "df_test.reset_index(drop = True, inplace = True)"
   ]
  },
  {
   "cell_type": "markdown",
   "id": "2a7c6a75-0ae4-46fc-b152-10311a4fbc6d",
   "metadata": {
    "tags": []
   },
   "source": [
    "## Feature Extraction"
   ]
  },
  {
   "cell_type": "code",
   "execution_count": 436,
   "id": "a45fcaec-66c2-43f7-8380-84c89ca01a1e",
   "metadata": {
    "tags": []
   },
   "outputs": [
    {
     "name": "stderr",
     "output_type": "stream",
     "text": [
      "100%|██████████████████████████████████████| 2840/2840 [00:21<00:00, 130.98it/s]\n",
      "100%|███████████████████████████████████████| 2840/2840 [00:36<00:00, 76.82it/s]\n",
      "100%|█████████████████████████████████████████| 240/240 [00:04<00:00, 59.92it/s]\n",
      "100%|█████████████████████████████████████████| 240/240 [00:03<00:00, 66.53it/s]\n",
      "100%|██████████████████████████████████████| 1640/1640 [00:03<00:00, 425.77it/s]\n",
      "100%|███████████████████████████████████████| 1640/1640 [00:21<00:00, 75.59it/s]\n"
     ]
    }
   ],
   "source": [
    "X_train, y_train, X_val, y_val, X_test, y_test = feature_extractor(df_train, df_val, df_test, 26)"
   ]
  },
  {
   "cell_type": "code",
   "execution_count": 437,
   "id": "893d56e5-05df-4dae-a832-328daf0aa6e6",
   "metadata": {},
   "outputs": [],
   "source": [
    "y_train, y_val, y_test = encode_labels(y_train, y_val, y_test)"
   ]
  },
  {
   "cell_type": "code",
   "execution_count": 438,
   "id": "03172c7e-268f-47b5-a1cb-ab80c3d779c2",
   "metadata": {},
   "outputs": [
    {
     "data": {
      "text/plain": [
       "1640"
      ]
     },
     "execution_count": 438,
     "metadata": {},
     "output_type": "execute_result"
    }
   ],
   "source": [
    "np.size(y_test)"
   ]
  },
  {
   "cell_type": "code",
   "execution_count": 439,
   "id": "1dc72241-e079-4c70-b408-681d6fcf242b",
   "metadata": {},
   "outputs": [],
   "source": [
    "X_train, X_val, X_test = standard_scaling(X_train, X_val, X_test)"
   ]
  },
  {
   "cell_type": "code",
   "execution_count": 440,
   "id": "48e0afeb-ac46-4605-bb99-89d1f0e76b4c",
   "metadata": {
    "tags": []
   },
   "outputs": [
    {
     "data": {
      "text/plain": [
       "(2840, 25)"
      ]
     },
     "execution_count": 440,
     "metadata": {},
     "output_type": "execute_result"
    }
   ],
   "source": [
    "X_train.shape"
   ]
  },
  {
   "cell_type": "markdown",
   "id": "bc61c327-a4cd-4844-8744-5b285f578d2a",
   "metadata": {},
   "source": [
    "## Shuffle training data"
   ]
  },
  {
   "cell_type": "code",
   "execution_count": 441,
   "id": "1b97ee3c-0154-482a-963c-8c0b3faca2f7",
   "metadata": {},
   "outputs": [],
   "source": [
    "from sklearn.utils import shuffle\n",
    "X_train, y_train = shuffle(X_train, y_train)"
   ]
  },
  {
   "cell_type": "markdown",
   "id": "f63e5888-afdb-463a-ab4b-b04bd2c45b72",
   "metadata": {
    "tags": []
   },
   "source": [
    "## Hypeparameter optimization"
   ]
  },
  {
   "cell_type": "code",
   "execution_count": 442,
   "id": "0c10e08b-792b-4155-9270-e18087c598bb",
   "metadata": {},
   "outputs": [],
   "source": [
    "# classweight \n",
    "from sklearn.utils import class_weight\n",
    "class_weights = class_weight.compute_class_weight('balanced', np.unique(y_train), y_train)\n",
    "class_weights = {l:c for l,c in zip(np.unique(y_train), class_weights)}"
   ]
  },
  {
   "cell_type": "code",
   "execution_count": 443,
   "id": "7b1ba436-1804-40f5-909a-7fd6b7c2a8ed",
   "metadata": {},
   "outputs": [],
   "source": [
    "rand_search = RandomizedSearchCV(estimator=svc, \n",
    "                                 param_distributions=param_grid_clf, \n",
    "                                 n_jobs = -1, \n",
    "                                 cv=KFold(3))"
   ]
  },
  {
   "cell_type": "code",
   "execution_count": 444,
   "id": "93c25b6a-1531-440c-9101-d286179b900a",
   "metadata": {},
   "outputs": [
    {
     "name": "stdout",
     "output_type": "stream",
     "text": [
      "Performing Randomized Search...\n",
      "\n",
      "Done in 10.891s\n",
      "\n"
     ]
    }
   ],
   "source": [
    "print(\"Performing Randomized Search...\")\n",
    "t0 = time()\n",
    "rand_search.fit(X_train, y_train) \n",
    "print(\"\\nDone in %0.3fs\" % (time()-t0))\n",
    "print() "
   ]
  },
  {
   "cell_type": "code",
   "execution_count": 445,
   "id": "b0faf07c-8db5-4ce4-8e2e-1fcdf3990dc2",
   "metadata": {},
   "outputs": [
    {
     "data": {
      "text/plain": [
       "{'kernel': 'rbf', 'C': 10}"
      ]
     },
     "execution_count": 445,
     "metadata": {},
     "output_type": "execute_result"
    }
   ],
   "source": [
    "best_params = rand_search.best_params_\n",
    "best_clf = rand_search.best_estimator_\n",
    "best_params"
   ]
  },
  {
   "cell_type": "code",
   "execution_count": 446,
   "id": "ddd1efcc-7719-42c7-a6a4-55de55f67a44",
   "metadata": {},
   "outputs": [
    {
     "data": {
      "text/plain": [
       "SVC(C=10, class_weight={0: 1.3148148148148149, 1: 0.8068181818181818})"
      ]
     },
     "execution_count": 446,
     "metadata": {},
     "output_type": "execute_result"
    }
   ],
   "source": [
    "best_clf =  SVC(C=best_params.get('C'), kernel=best_params.get('kernel'), class_weight=class_weights)\n",
    "best_clf.fit(X_train, y_train)"
   ]
  },
  {
   "cell_type": "markdown",
   "id": "440ae44c-e0f3-46e8-808f-41d9cd4acad8",
   "metadata": {},
   "source": [
    "## Testing"
   ]
  },
  {
   "cell_type": "code",
   "execution_count": 447,
   "id": "442af1be-a3c7-4fdd-b872-6500e0f359ca",
   "metadata": {},
   "outputs": [
    {
     "name": "stdout",
     "output_type": "stream",
     "text": [
      "Testing...\n",
      "Accuracy: 0.6695121951219513\n"
     ]
    }
   ],
   "source": [
    "print(\"Testing...\")\n",
    "pred = best_clf.predict(X_test) \n",
    "accuracy = best_clf.score(X_test, y_test) \n",
    "print(\"Accuracy: %s\" %str(accuracy))"
   ]
  },
  {
   "cell_type": "markdown",
   "id": "ee59b21b-417b-45e5-af22-fdb4c46ea4a2",
   "metadata": {},
   "source": [
    "## Save best model "
   ]
  },
  {
   "cell_type": "code",
   "execution_count": 448,
   "id": "ed2ad8e8-3802-4ac9-8b8a-d1e10a06f335",
   "metadata": {},
   "outputs": [],
   "source": [
    "pkl_filename = \"/home/helemanc/Desktop/Binary_Model/models_experiments/Experiment_7/model_7_9.pkl\"\n",
    "with open(pkl_filename, 'wb') as file:\n",
    "    pickle.dump(best_clf, file)"
   ]
  },
  {
   "cell_type": "code",
   "execution_count": 449,
   "id": "c3a1a14c-3476-4de8-ab4c-ec81c2e4a941",
   "metadata": {
    "tags": []
   },
   "outputs": [
    {
     "data": {
      "text/plain": [
       "\"\\n# Load from file\\nwith open(pkl_filename, 'rb') as file:\\n    pickle_model = pickle.load(file)\\n\""
      ]
     },
     "execution_count": 449,
     "metadata": {},
     "output_type": "execute_result"
    }
   ],
   "source": [
    "'''\n",
    "# Load from file\n",
    "with open(pkl_filename, 'rb') as file:\n",
    "    pickle_model = pickle.load(file)\n",
    "'''"
   ]
  },
  {
   "cell_type": "markdown",
   "id": "4afc468c-ad88-4e8c-8eed-a6f21e888c3f",
   "metadata": {
    "tags": []
   },
   "source": [
    "# Experiment 1.10: RAVDESS - TESS - SAVEE noise"
   ]
  },
  {
   "cell_type": "markdown",
   "id": "b93afaee-2ece-41d5-b74f-12a9e6b4b2f2",
   "metadata": {
    "tags": [],
    "toc-hr-collapsed": true
   },
   "source": [
    "## Read dataframes"
   ]
  },
  {
   "cell_type": "code",
   "execution_count": 450,
   "id": "4d4c4bcb-7aad-4cf1-a585-44b7e327885e",
   "metadata": {
    "tags": []
   },
   "outputs": [],
   "source": [
    "preprocess_path_rav = \"/home/helemanc/Desktop/Binary_Model/df_csv_noise/ravdess\"\n",
    "preprocess_path_savee = \"/home/helemanc/Desktop/Binary_Model/df_csv_noise/savee\"\n",
    "preprocess_path_tess = \"/home/helemanc/Desktop/Binary_Model/df_csv_noise/tess\"\n",
    "\n",
    "df_train_rav = pd.read_csv(os.path.join(preprocess_path_rav,\"df_train.csv\"))\n",
    "df_val_rav = pd.read_csv(os.path.join(preprocess_path_rav,\"df_val.csv\"))\n",
    "df_test_rav = pd.read_csv(os.path.join(preprocess_path_rav,\"df_test.csv\"))  \n",
    "\n",
    "df_train_tess = pd.read_csv(os.path.join(preprocess_path_tess,\"df_train.csv\"))\n",
    "df_test_tess= pd.read_csv(os.path.join(preprocess_path_tess,\"df_test.csv\"))  \n",
    "\n",
    "df_train_savee = pd.read_csv(os.path.join(preprocess_path_savee,\"df_train.csv\"))\n",
    "df_val_savee = pd.read_csv(os.path.join(preprocess_path_savee,\"df_val.csv\"))\n",
    "df_test_savee = pd.read_csv(os.path.join(preprocess_path_savee,\"df_test.csv\"))  "
   ]
  },
  {
   "cell_type": "code",
   "execution_count": 451,
   "id": "72ab285b-ff5e-41ec-bf0f-8ed10f1daf8b",
   "metadata": {},
   "outputs": [],
   "source": [
    "df_train = pd.concat([df_train_rav, df_train_savee, df_train_tess])\n",
    "df_val = pd.concat([df_val_rav, df_val_savee])\n",
    "#df_test = pd.concat([df_test_rav, df_test_savee, df_test_tess])\n",
    "df_test = pd.concat([RAV_train, SAVEE_test])"
   ]
  },
  {
   "cell_type": "code",
   "execution_count": 452,
   "id": "ed2ff89d-0624-4a03-b67e-6bb02fddd52b",
   "metadata": {
    "tags": []
   },
   "outputs": [],
   "source": [
    "df_train.reset_index(drop = True, inplace = True) \n",
    "df_val.reset_index(drop = True, inplace = True)\n",
    "df_test.reset_index(drop = True, inplace = True)"
   ]
  },
  {
   "cell_type": "markdown",
   "id": "0fe5d8e8-2905-4b86-b1fa-39c42e6783ff",
   "metadata": {
    "tags": []
   },
   "source": [
    "## Feature Extraction"
   ]
  },
  {
   "cell_type": "code",
   "execution_count": 453,
   "id": "80a0b8c9-75e3-42e1-a873-e460d2b455ce",
   "metadata": {
    "tags": []
   },
   "outputs": [
    {
     "name": "stderr",
     "output_type": "stream",
     "text": [
      "100%|██████████████████████████████████████| 5680/5680 [00:45<00:00, 125.29it/s]\n",
      "100%|███████████████████████████████████████| 5680/5680 [01:21<00:00, 69.39it/s]\n",
      "100%|█████████████████████████████████████████| 240/240 [00:04<00:00, 55.53it/s]\n",
      "100%|█████████████████████████████████████████| 240/240 [00:03<00:00, 71.46it/s]\n",
      "100%|██████████████████████████████████████| 1320/1320 [00:03<00:00, 337.35it/s]\n",
      "100%|███████████████████████████████████████| 1320/1320 [00:17<00:00, 77.06it/s]\n"
     ]
    }
   ],
   "source": [
    "X_train, y_train, X_val, y_val, X_test, y_test = feature_extractor(df_train, df_val, df_test, 26)"
   ]
  },
  {
   "cell_type": "code",
   "execution_count": 454,
   "id": "21ca7306-08f0-40df-989a-f1f8a20bcecd",
   "metadata": {},
   "outputs": [],
   "source": [
    "y_train, y_val, y_test = encode_labels(y_train, y_val, y_test)"
   ]
  },
  {
   "cell_type": "code",
   "execution_count": 455,
   "id": "38ed6bbc-f059-4e79-ba18-8b135dbad56e",
   "metadata": {},
   "outputs": [
    {
     "data": {
      "text/plain": [
       "1320"
      ]
     },
     "execution_count": 455,
     "metadata": {},
     "output_type": "execute_result"
    }
   ],
   "source": [
    "np.size(y_test)"
   ]
  },
  {
   "cell_type": "code",
   "execution_count": 456,
   "id": "0fba40a9-df05-41a4-aee7-2a2a82f83983",
   "metadata": {},
   "outputs": [],
   "source": [
    "X_train, X_val, X_test = standard_scaling(X_train, X_val, X_test)"
   ]
  },
  {
   "cell_type": "code",
   "execution_count": 457,
   "id": "f7f6ecf3-cc68-45fe-8e47-5ce622835067",
   "metadata": {
    "tags": []
   },
   "outputs": [
    {
     "data": {
      "text/plain": [
       "(5680, 25)"
      ]
     },
     "execution_count": 457,
     "metadata": {},
     "output_type": "execute_result"
    }
   ],
   "source": [
    "X_train.shape"
   ]
  },
  {
   "cell_type": "markdown",
   "id": "9c84891d-7fce-4a75-9432-04ad418b0bd8",
   "metadata": {},
   "source": [
    "## Shuffle training data"
   ]
  },
  {
   "cell_type": "code",
   "execution_count": 458,
   "id": "a0e60097-0ab7-4ef4-8d13-17e7fe002453",
   "metadata": {},
   "outputs": [],
   "source": [
    "from sklearn.utils import shuffle\n",
    "X_train, y_train = shuffle(X_train, y_train)"
   ]
  },
  {
   "cell_type": "markdown",
   "id": "783b165e-4e75-424c-b5ef-47e292fd937e",
   "metadata": {
    "tags": []
   },
   "source": [
    "## Hypeparameter optimization"
   ]
  },
  {
   "cell_type": "code",
   "execution_count": 459,
   "id": "cf92ffd3-9703-4684-aadf-99e9717d6756",
   "metadata": {},
   "outputs": [],
   "source": [
    "# classweight \n",
    "from sklearn.utils import class_weight\n",
    "class_weights = class_weight.compute_class_weight('balanced', np.unique(y_train), y_train)\n",
    "class_weights = {l:c for l,c in zip(np.unique(y_train), class_weights)}"
   ]
  },
  {
   "cell_type": "code",
   "execution_count": 460,
   "id": "08dc4768-cdc1-467e-8099-288ef2774060",
   "metadata": {},
   "outputs": [],
   "source": [
    "rand_search = RandomizedSearchCV(estimator=svc, \n",
    "                                 param_distributions=param_grid_clf, \n",
    "                                 n_jobs = -1, \n",
    "                                 cv=KFold(3))"
   ]
  },
  {
   "cell_type": "code",
   "execution_count": 461,
   "id": "173b5202-5cdf-4a4d-b920-fba7a1e4e8ab",
   "metadata": {},
   "outputs": [
    {
     "name": "stdout",
     "output_type": "stream",
     "text": [
      "Performing Randomized Search...\n",
      "\n",
      "Done in 34.184s\n",
      "\n"
     ]
    }
   ],
   "source": [
    "print(\"Performing Randomized Search...\")\n",
    "t0 = time()\n",
    "rand_search.fit(X_train, y_train) \n",
    "print(\"\\nDone in %0.3fs\" % (time()-t0))\n",
    "print() "
   ]
  },
  {
   "cell_type": "code",
   "execution_count": 462,
   "id": "2d0a5de6-e3cc-46f4-b887-a05f0eb5644e",
   "metadata": {},
   "outputs": [
    {
     "data": {
      "text/plain": [
       "{'kernel': 'rbf', 'C': 10}"
      ]
     },
     "execution_count": 462,
     "metadata": {},
     "output_type": "execute_result"
    }
   ],
   "source": [
    "best_params = rand_search.best_params_\n",
    "best_clf = rand_search.best_estimator_\n",
    "best_params"
   ]
  },
  {
   "cell_type": "code",
   "execution_count": 463,
   "id": "44eaee05-e211-4688-8491-7cd30aafefb2",
   "metadata": {},
   "outputs": [
    {
     "data": {
      "text/plain": [
       "SVC(C=10, class_weight={0: 1.3148148148148149, 1: 0.8068181818181818})"
      ]
     },
     "execution_count": 463,
     "metadata": {},
     "output_type": "execute_result"
    }
   ],
   "source": [
    "best_clf =  SVC(C=best_params.get('C'), kernel=best_params.get('kernel'), class_weight=class_weights)\n",
    "best_clf.fit(X_train, y_train)"
   ]
  },
  {
   "cell_type": "markdown",
   "id": "7b6df95b-96b7-45ea-ab16-7dc64262ecd4",
   "metadata": {},
   "source": [
    "## Testing"
   ]
  },
  {
   "cell_type": "code",
   "execution_count": 464,
   "id": "3a7335fb-9345-4279-9518-4993171e219c",
   "metadata": {},
   "outputs": [
    {
     "name": "stdout",
     "output_type": "stream",
     "text": [
      "Testing...\n",
      "Accuracy: 0.8787878787878788\n"
     ]
    }
   ],
   "source": [
    "print(\"Testing...\")\n",
    "pred = best_clf.predict(X_test) \n",
    "accuracy = best_clf.score(X_test, y_test) \n",
    "print(\"Accuracy: %s\" %str(accuracy))"
   ]
  },
  {
   "cell_type": "markdown",
   "id": "01567c74-c724-47de-be71-f8a800307b22",
   "metadata": {},
   "source": [
    "## Save best model "
   ]
  },
  {
   "cell_type": "code",
   "execution_count": 465,
   "id": "32dea37c-a158-4f07-ab23-6fac2d60f9b4",
   "metadata": {},
   "outputs": [],
   "source": [
    "pkl_filename = \"/home/helemanc/Desktop/Binary_Model/models_experiments/Experiment_7/model_7_10.pkl\"\n",
    "with open(pkl_filename, 'wb') as file:\n",
    "    pickle.dump(best_clf, file)"
   ]
  },
  {
   "cell_type": "code",
   "execution_count": 466,
   "id": "69b7c066-9417-4cdf-a9b2-6a7ba9391fb4",
   "metadata": {
    "tags": []
   },
   "outputs": [
    {
     "data": {
      "text/plain": [
       "\"\\n# Load from file\\nwith open(pkl_filename, 'rb') as file:\\n    pickle_model = pickle.load(file)\\n\""
      ]
     },
     "execution_count": 466,
     "metadata": {},
     "output_type": "execute_result"
    }
   ],
   "source": [
    "'''\n",
    "# Load from file\n",
    "with open(pkl_filename, 'rb') as file:\n",
    "    pickle_model = pickle.load(file)\n",
    "'''"
   ]
  },
  {
   "cell_type": "markdown",
   "id": "75af445d-bb64-4f0a-a451-b4468a54b646",
   "metadata": {},
   "source": [
    "# Experiment 1.11: RAVDESS - TESS - SAVEE - CREMA"
   ]
  },
  {
   "cell_type": "code",
   "execution_count": 467,
   "id": "44d32a88-ff24-44e1-ad42-6127a24bd18f",
   "metadata": {},
   "outputs": [],
   "source": [
    "df_train = pd.concat([RAV_train, SAVEE_train, TESS_train, CREMA_train])\n",
    "df_val = pd.concat([RAV_val, SAVEE_val, CREMA_val])\n",
    "df_test = pd.concat([RAV_test, SAVEE_test, TESS_test, CREMA_test])\n",
    "#df_test = pd.concat([RAV_train, SAVEE_test])"
   ]
  },
  {
   "cell_type": "code",
   "execution_count": 468,
   "id": "f5927291-8540-42e6-afc8-f044ee1c55d6",
   "metadata": {
    "tags": []
   },
   "outputs": [],
   "source": [
    "df_train.reset_index(drop = True, inplace = True) \n",
    "df_val.reset_index(drop = True, inplace = True)\n",
    "df_test.reset_index(drop = True, inplace = True)"
   ]
  },
  {
   "cell_type": "markdown",
   "id": "63878d02-55a1-4b1f-bbdd-634c7f41572d",
   "metadata": {
    "tags": []
   },
   "source": [
    "## Feature Extraction"
   ]
  },
  {
   "cell_type": "code",
   "execution_count": 469,
   "id": "3dd5b22b-ac32-468b-b101-4640ec54e52c",
   "metadata": {
    "tags": []
   },
   "outputs": [
    {
     "name": "stderr",
     "output_type": "stream",
     "text": [
      "100%|██████████████████████████████████████| 3160/3160 [00:24<00:00, 131.57it/s]\n",
      "100%|███████████████████████████████████████| 3160/3160 [00:43<00:00, 72.19it/s]\n",
      "100%|█████████████████████████████████████████| 300/300 [00:04<00:00, 72.21it/s]\n",
      "100%|█████████████████████████████████████████| 300/300 [00:03<00:00, 76.65it/s]\n",
      "100%|██████████████████████████████████████| 1700/1700 [00:03<00:00, 428.78it/s]\n",
      "100%|███████████████████████████████████████| 1700/1700 [00:25<00:00, 67.24it/s]\n"
     ]
    }
   ],
   "source": [
    "X_train, y_train, X_val, y_val, X_test, y_test = feature_extractor(df_train, df_val, df_test, 26)"
   ]
  },
  {
   "cell_type": "code",
   "execution_count": 470,
   "id": "f6e74935-6e14-44b4-93aa-9e540da6cf53",
   "metadata": {},
   "outputs": [],
   "source": [
    "y_train, y_val, y_test = encode_labels(y_train, y_val, y_test)"
   ]
  },
  {
   "cell_type": "code",
   "execution_count": 471,
   "id": "2fd7bf3c-c583-4654-b1fc-dec93f597add",
   "metadata": {},
   "outputs": [
    {
     "data": {
      "text/plain": [
       "1700"
      ]
     },
     "execution_count": 471,
     "metadata": {},
     "output_type": "execute_result"
    }
   ],
   "source": [
    "np.size(y_test)"
   ]
  },
  {
   "cell_type": "code",
   "execution_count": 472,
   "id": "21039771-6af0-461c-9351-83d644b73fd8",
   "metadata": {},
   "outputs": [],
   "source": [
    "X_train, X_val, X_test = standard_scaling(X_train, X_val, X_test)"
   ]
  },
  {
   "cell_type": "code",
   "execution_count": 473,
   "id": "92072fe5-2858-4333-8096-05d3bcba64ae",
   "metadata": {},
   "outputs": [
    {
     "data": {
      "text/plain": [
       "(3160, 25)"
      ]
     },
     "execution_count": 473,
     "metadata": {},
     "output_type": "execute_result"
    }
   ],
   "source": [
    "X_train.shape"
   ]
  },
  {
   "cell_type": "markdown",
   "id": "e304b32c-7ccb-4dc2-80e7-37ba7ebe39e8",
   "metadata": {},
   "source": [
    "## Shuffle training data"
   ]
  },
  {
   "cell_type": "code",
   "execution_count": 474,
   "id": "350021e5-d7b0-4a81-b402-79c542cdac6b",
   "metadata": {},
   "outputs": [],
   "source": [
    "from sklearn.utils import shuffle\n",
    "X_train, y_train = shuffle(X_train, y_train)"
   ]
  },
  {
   "cell_type": "markdown",
   "id": "1a9ebcb0-d9c1-4b47-995a-cc4c6d66f195",
   "metadata": {
    "tags": []
   },
   "source": [
    "## Hypeparameter optimization"
   ]
  },
  {
   "cell_type": "code",
   "execution_count": 475,
   "id": "b9859556-0e77-4cbb-b8f9-e3eea3e426ff",
   "metadata": {},
   "outputs": [],
   "source": [
    "# classweight \n",
    "from sklearn.utils import class_weight\n",
    "class_weights = class_weight.compute_class_weight('balanced', np.unique(y_train), y_train)\n",
    "class_weights = {l:c for l,c in zip(np.unique(y_train), class_weights)}"
   ]
  },
  {
   "cell_type": "code",
   "execution_count": 476,
   "id": "6b536e5b-9764-47bf-bda8-5fd92d7608ab",
   "metadata": {},
   "outputs": [],
   "source": [
    "rand_search = RandomizedSearchCV(estimator=svc, \n",
    "                                 param_distributions=param_grid_clf, \n",
    "                                 n_jobs = -1, \n",
    "                                 cv=KFold(3))"
   ]
  },
  {
   "cell_type": "code",
   "execution_count": 477,
   "id": "f0766a47-830c-4ea7-9391-b629cc7ed589",
   "metadata": {},
   "outputs": [
    {
     "name": "stdout",
     "output_type": "stream",
     "text": [
      "Performing Randomized Search...\n",
      "\n",
      "Done in 13.060s\n",
      "\n"
     ]
    }
   ],
   "source": [
    "print(\"Performing Randomized Search...\")\n",
    "t0 = time()\n",
    "rand_search.fit(X_train, y_train) \n",
    "print(\"\\nDone in %0.3fs\" % (time()-t0))\n",
    "print() "
   ]
  },
  {
   "cell_type": "code",
   "execution_count": 478,
   "id": "79bfe1fc-9c4b-4a08-878f-0f2041dd3ceb",
   "metadata": {},
   "outputs": [
    {
     "data": {
      "text/plain": [
       "{'kernel': 'rbf', 'C': 10}"
      ]
     },
     "execution_count": 478,
     "metadata": {},
     "output_type": "execute_result"
    }
   ],
   "source": [
    "best_params = rand_search.best_params_\n",
    "best_clf = rand_search.best_estimator_\n",
    "best_params"
   ]
  },
  {
   "cell_type": "code",
   "execution_count": 479,
   "id": "0dea9cfd-3233-4f12-81ea-921177f13635",
   "metadata": {},
   "outputs": [
    {
     "data": {
      "text/plain": [
       "SVC(C=10, class_weight={0: 1.381118881118881, 1: 0.7837301587301587})"
      ]
     },
     "execution_count": 479,
     "metadata": {},
     "output_type": "execute_result"
    }
   ],
   "source": [
    "best_clf =  SVC(C=best_params.get('C'), kernel=best_params.get('kernel'), class_weight=class_weights)\n",
    "best_clf.fit(X_train, y_train)"
   ]
  },
  {
   "cell_type": "markdown",
   "id": "139ff35e-2d3e-496d-b3f4-1f824867ed84",
   "metadata": {},
   "source": [
    "## Testing"
   ]
  },
  {
   "cell_type": "code",
   "execution_count": 480,
   "id": "c462a0cd-6c04-41a8-8b25-bb4a20ec792b",
   "metadata": {},
   "outputs": [
    {
     "name": "stdout",
     "output_type": "stream",
     "text": [
      "Testing...\n",
      "Accuracy: 0.7205882352941176\n"
     ]
    }
   ],
   "source": [
    "print(\"Testing...\")\n",
    "pred = best_clf.predict(X_test) \n",
    "accuracy = best_clf.score(X_test, y_test) \n",
    "print(\"Accuracy: %s\" %str(accuracy))"
   ]
  },
  {
   "cell_type": "markdown",
   "id": "1c53f4ed-204d-4ecd-8fac-1f2cfbc422e3",
   "metadata": {},
   "source": [
    "## Save best model "
   ]
  },
  {
   "cell_type": "code",
   "execution_count": 481,
   "id": "55c4e6c1-063c-438e-9b95-73b105374ad0",
   "metadata": {},
   "outputs": [],
   "source": [
    "pkl_filename = \"/home/helemanc/Desktop/Binary_Model/models_experiments/Experiment_7/model_7_11.pkl\"\n",
    "with open(pkl_filename, 'wb') as file:\n",
    "    pickle.dump(best_clf, file)"
   ]
  },
  {
   "cell_type": "code",
   "execution_count": 482,
   "id": "bd7de8f2-2079-4c71-aecc-bd9b941f6e5e",
   "metadata": {
    "tags": []
   },
   "outputs": [
    {
     "data": {
      "text/plain": [
       "\"\\n# Load from file\\nwith open(pkl_filename, 'rb') as file:\\n    pickle_model = pickle.load(file)\\n\""
      ]
     },
     "execution_count": 482,
     "metadata": {},
     "output_type": "execute_result"
    }
   ],
   "source": [
    "'''\n",
    "# Load from file\n",
    "with open(pkl_filename, 'rb') as file:\n",
    "    pickle_model = pickle.load(file)\n",
    "'''"
   ]
  },
  {
   "cell_type": "markdown",
   "id": "4baaf95f-8806-4014-987b-0265fe8e1f64",
   "metadata": {},
   "source": [
    "# Experiment 1.12:  RAVDESS - TESS - SAVEE - CREMA noise"
   ]
  },
  {
   "cell_type": "markdown",
   "id": "727f5b0f-27af-4bf6-94db-2592ebf3a292",
   "metadata": {
    "tags": [],
    "toc-hr-collapsed": true
   },
   "source": [
    "## Read dataframes"
   ]
  },
  {
   "cell_type": "code",
   "execution_count": 483,
   "id": "017fc722-bfcf-437e-8f01-4d1fa38a4e20",
   "metadata": {
    "tags": []
   },
   "outputs": [],
   "source": [
    "preprocess_path_rav = \"/home/helemanc/Desktop/Binary_Model/df_csv_noise/ravdess\"\n",
    "preprocess_path_savee = \"/home/helemanc/Desktop/Binary_Model/df_csv_noise/savee\"\n",
    "preprocess_path_tess = \"/home/helemanc/Desktop/Binary_Model/df_csv_noise/tess\"\n",
    "preprocess_path_crema = \"/home/helemanc/Desktop/Binary_Model/df_csv_noise/crema\"\n",
    "\n",
    "df_train_rav = pd.read_csv(os.path.join(preprocess_path_rav,\"df_train.csv\"))\n",
    "df_val_rav = pd.read_csv(os.path.join(preprocess_path_rav,\"df_val.csv\"))\n",
    "df_test_rav = pd.read_csv(os.path.join(preprocess_path_rav,\"df_test.csv\"))  \n",
    "\n",
    "df_train_tess = pd.read_csv(os.path.join(preprocess_path_tess,\"df_train.csv\"))\n",
    "df_test_tess= pd.read_csv(os.path.join(preprocess_path_tess,\"df_test.csv\"))  \n",
    "\n",
    "df_train_savee = pd.read_csv(os.path.join(preprocess_path_savee,\"df_train.csv\"))\n",
    "df_val_savee = pd.read_csv(os.path.join(preprocess_path_savee,\"df_val.csv\"))\n",
    "df_test_savee = pd.read_csv(os.path.join(preprocess_path_savee,\"df_test.csv\"))  \n",
    "\n",
    "df_train_crema = pd.read_csv(os.path.join(preprocess_path_crema,\"df_train.csv\"))\n",
    "df_val_crema = pd.read_csv(os.path.join(preprocess_path_crema,\"df_val.csv\"))\n",
    "df_test_crema = pd.read_csv(os.path.join(preprocess_path_crema,\"df_test.csv\")) "
   ]
  },
  {
   "cell_type": "code",
   "execution_count": 484,
   "id": "0e3445f8-7935-4897-b882-9baf5d6dc36e",
   "metadata": {},
   "outputs": [],
   "source": [
    "df_train = pd.concat([df_train_rav, df_train_savee, df_train_tess, df_train_crema])\n",
    "df_val = pd.concat([df_val_rav, df_val_savee, df_train_crema, df_train_crema])\n",
    "#df_test = pd.concat([df_test_rav, df_test_savee, df_test_tess])\n",
    "#df_test = pd.concat([df_test_rav, df_test_savee, df_test_crema ])\n",
    "df_test = pd.concat([df_test_rav, df_test_savee ])"
   ]
  },
  {
   "cell_type": "code",
   "execution_count": 485,
   "id": "3475748f-664b-4844-9f96-35787959c192",
   "metadata": {
    "tags": []
   },
   "outputs": [],
   "source": [
    "df_train.reset_index(drop = True, inplace = True) \n",
    "df_val.reset_index(drop = True, inplace = True)\n",
    "df_test.reset_index(drop = True, inplace = True)"
   ]
  },
  {
   "cell_type": "markdown",
   "id": "6eae61c1-9558-4bc2-ab0c-8fe4ffd6a1a8",
   "metadata": {},
   "source": [
    "## Feature Extraction"
   ]
  },
  {
   "cell_type": "code",
   "execution_count": 486,
   "id": "ec7492f2-1dbb-4f53-b3be-0c57ad215cf4",
   "metadata": {},
   "outputs": [
    {
     "name": "stderr",
     "output_type": "stream",
     "text": [
      "100%|██████████████████████████████████████| 6320/6320 [00:46<00:00, 137.16it/s]\n",
      "100%|███████████████████████████████████████| 6320/6320 [01:34<00:00, 66.89it/s]\n",
      "100%|██████████████████████████████████████| 1520/1520 [00:04<00:00, 324.79it/s]\n",
      "100%|███████████████████████████████████████| 1520/1520 [00:25<00:00, 60.76it/s]\n",
      "100%|█████████████████████████████████████████| 240/240 [00:03<00:00, 66.26it/s]\n",
      "100%|█████████████████████████████████████████| 240/240 [00:03<00:00, 74.38it/s]\n"
     ]
    }
   ],
   "source": [
    "X_train, y_train, X_val, y_val, X_test, y_test = feature_extractor(df_train, df_val, df_test, 26) # 13"
   ]
  },
  {
   "cell_type": "code",
   "execution_count": 487,
   "id": "3c4c8627-907e-4582-b406-1ad8a3da51d6",
   "metadata": {},
   "outputs": [
    {
     "data": {
      "text/plain": [
       "(25,)"
      ]
     },
     "execution_count": 487,
     "metadata": {},
     "output_type": "execute_result"
    }
   ],
   "source": [
    "X_train[0].shape"
   ]
  },
  {
   "cell_type": "code",
   "execution_count": 488,
   "id": "880c40b9-b9a7-4240-9876-e0b91815b6e0",
   "metadata": {},
   "outputs": [],
   "source": [
    "y_train, y_val, y_test = encode_labels(y_train, y_val, y_test)"
   ]
  },
  {
   "cell_type": "code",
   "execution_count": 489,
   "id": "dc0cbaf0-0178-430f-81da-60581fec95cd",
   "metadata": {},
   "outputs": [
    {
     "data": {
      "text/plain": [
       "1520"
      ]
     },
     "execution_count": 489,
     "metadata": {},
     "output_type": "execute_result"
    }
   ],
   "source": [
    "np.size(y_val)"
   ]
  },
  {
   "cell_type": "code",
   "execution_count": 490,
   "id": "8afcaf00-6a69-4fd0-9544-e9a161417fe4",
   "metadata": {},
   "outputs": [],
   "source": [
    "X_train, X_val, X_test = standard_scaling(X_train, X_val, X_test)"
   ]
  },
  {
   "cell_type": "code",
   "execution_count": 491,
   "id": "2cf4ac10-9e7c-47e7-a312-7f0de29601ad",
   "metadata": {},
   "outputs": [
    {
     "data": {
      "text/plain": [
       "(6320, 25)"
      ]
     },
     "execution_count": 491,
     "metadata": {},
     "output_type": "execute_result"
    }
   ],
   "source": [
    "X_train.shape"
   ]
  },
  {
   "cell_type": "markdown",
   "id": "384b92bb-6093-48c0-81d3-3b3c05813a2c",
   "metadata": {},
   "source": [
    "## Shuffle training data"
   ]
  },
  {
   "cell_type": "code",
   "execution_count": 492,
   "id": "4918393f-f911-4f1e-931d-b8702958322c",
   "metadata": {},
   "outputs": [],
   "source": [
    "from sklearn.utils import shuffle\n",
    "X_train, y_train = shuffle(X_train, y_train)"
   ]
  },
  {
   "cell_type": "markdown",
   "id": "d3e83ab1-d37a-4313-a718-beeb903f3312",
   "metadata": {
    "tags": []
   },
   "source": [
    "## Hypeparameter optimization"
   ]
  },
  {
   "cell_type": "code",
   "execution_count": 493,
   "id": "72c50dbc-8570-4725-8772-b71558ed633b",
   "metadata": {},
   "outputs": [],
   "source": [
    "# classweight \n",
    "from sklearn.utils import class_weight\n",
    "class_weights = class_weight.compute_class_weight('balanced', np.unique(y_train), y_train)\n",
    "class_weights = {l:c for l,c in zip(np.unique(y_train), class_weights)}"
   ]
  },
  {
   "cell_type": "code",
   "execution_count": 494,
   "id": "9232e124-27d6-4359-b796-89429604868f",
   "metadata": {},
   "outputs": [],
   "source": [
    "rand_search = RandomizedSearchCV(estimator=svc, \n",
    "                                 param_distributions=param_grid_clf, \n",
    "                                 n_jobs = -1, \n",
    "                                 cv=KFold(3))"
   ]
  },
  {
   "cell_type": "code",
   "execution_count": 495,
   "id": "e1ff61b6-be4c-4164-8367-5bf2f5fa8664",
   "metadata": {},
   "outputs": [
    {
     "name": "stdout",
     "output_type": "stream",
     "text": [
      "Performing Randomized Search...\n",
      "\n",
      "Done in 48.723s\n",
      "\n"
     ]
    }
   ],
   "source": [
    "print(\"Performing Randomized Search...\")\n",
    "t0 = time()\n",
    "rand_search.fit(X_train, y_train) \n",
    "print(\"\\nDone in %0.3fs\" % (time()-t0))\n",
    "print() "
   ]
  },
  {
   "cell_type": "code",
   "execution_count": 496,
   "id": "b325119e-b2d1-421a-9acc-90e1dc0ebb40",
   "metadata": {},
   "outputs": [
    {
     "data": {
      "text/plain": [
       "{'kernel': 'rbf', 'C': 10}"
      ]
     },
     "execution_count": 496,
     "metadata": {},
     "output_type": "execute_result"
    }
   ],
   "source": [
    "best_params = rand_search.best_params_\n",
    "best_clf = rand_search.best_estimator_\n",
    "best_params"
   ]
  },
  {
   "cell_type": "code",
   "execution_count": 497,
   "id": "4f1d2ea2-1990-48f0-8fcd-d06d16e5cee8",
   "metadata": {},
   "outputs": [
    {
     "data": {
      "text/plain": [
       "SVC(C=10, class_weight={0: 1.381118881118881, 1: 0.7837301587301587})"
      ]
     },
     "execution_count": 497,
     "metadata": {},
     "output_type": "execute_result"
    }
   ],
   "source": [
    "best_clf =  SVC(C=best_params.get('C'), kernel=best_params.get('kernel'), class_weight=class_weights)\n",
    "best_clf.fit(X_train, y_train)"
   ]
  },
  {
   "cell_type": "markdown",
   "id": "c0b7374d-0ba5-4c24-8f14-c821369bdd0c",
   "metadata": {},
   "source": [
    "## Testing"
   ]
  },
  {
   "cell_type": "code",
   "execution_count": 498,
   "id": "3ad5ae1c-2421-43d0-8cf3-5d159a7760b9",
   "metadata": {},
   "outputs": [
    {
     "name": "stdout",
     "output_type": "stream",
     "text": [
      "Testing...\n",
      "Accuracy: 0.5833333333333334\n"
     ]
    }
   ],
   "source": [
    "print(\"Testing...\")\n",
    "pred = best_clf.predict(X_test) \n",
    "accuracy = best_clf.score(X_test, y_test) \n",
    "print(\"Accuracy: %s\" %str(accuracy))"
   ]
  },
  {
   "cell_type": "markdown",
   "id": "e22f079d-e8ce-4e83-9957-417855e24e57",
   "metadata": {},
   "source": [
    "## Save best model "
   ]
  },
  {
   "cell_type": "code",
   "execution_count": 499,
   "id": "6f88c450-e212-4e3e-a768-144fa47b76dc",
   "metadata": {},
   "outputs": [],
   "source": [
    "pkl_filename = \"/home/helemanc/Desktop/Binary_Model/models_experiments/Experiment_7/model_7_12.pkl\"\n",
    "with open(pkl_filename, 'wb') as file:\n",
    "    pickle.dump(best_clf, file)"
   ]
  },
  {
   "cell_type": "code",
   "execution_count": 500,
   "id": "10116405-234a-423d-a5d9-70de13e202f5",
   "metadata": {
    "tags": []
   },
   "outputs": [
    {
     "data": {
      "text/plain": [
       "\"\\n# Load from file\\nwith open(pkl_filename, 'rb') as file:\\n    pickle_model = pickle.load(file)\\n\""
      ]
     },
     "execution_count": 500,
     "metadata": {},
     "output_type": "execute_result"
    }
   ],
   "source": [
    "'''\n",
    "# Load from file\n",
    "with open(pkl_filename, 'rb') as file:\n",
    "    pickle_model = pickle.load(file)\n",
    "'''"
   ]
  }
 ],
 "metadata": {
  "kernelspec": {
   "display_name": "Python 3 (ipykernel)",
   "language": "python",
   "name": "python3"
  },
  "language_info": {
   "codemirror_mode": {
    "name": "ipython",
    "version": 3
   },
   "file_extension": ".py",
   "mimetype": "text/x-python",
   "name": "python",
   "nbconvert_exporter": "python",
   "pygments_lexer": "ipython3",
   "version": "3.8.10"
  }
 },
 "nbformat": 4,
 "nbformat_minor": 5
}

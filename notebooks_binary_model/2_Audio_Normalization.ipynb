{
 "cells": [
  {
   "cell_type": "markdown",
   "id": "ec5e234d-7c93-488b-bc59-40570eeb8927",
   "metadata": {
    "tags": []
   },
   "source": [
    "# Configuration\n",
    "\n",
    "NOTES: The warnings after the import are referred to the fact that Tensorflow 2.x versions are built to directly look for a GPU in the system. The warning can be forgot if you are not going to use the GPU. "
   ]
  },
  {
   "cell_type": "code",
   "execution_count": 1,
   "id": "f211f280-e7e1-47fd-ba2a-d911027cdb45",
   "metadata": {},
   "outputs": [],
   "source": [
    "!source myenv/bin/activate"
   ]
  },
  {
   "cell_type": "code",
   "execution_count": 2,
   "id": "14ea1c25-9715-437d-8088-c49a2c2957df",
   "metadata": {
    "tags": []
   },
   "outputs": [
    {
     "name": "stderr",
     "output_type": "stream",
     "text": [
      "2021-08-30 16:10:23.089688: W tensorflow/stream_executor/platform/default/dso_loader.cc:60] Could not load dynamic library 'libcudart.so.11.0'; dlerror: libcudart.so.11.0: cannot open shared object file: No such file or directory\n",
      "2021-08-30 16:10:23.089709: I tensorflow/stream_executor/cuda/cudart_stub.cc:29] Ignore above cudart dlerror if you do not have a GPU set up on your machine.\n",
      "2021-08-30 16:10:23.968251: I tensorflow/compiler/jit/xla_cpu_device.cc:41] Not creating XLA devices, tf_xla_enable_xla_devices not set\n",
      "2021-08-30 16:10:23.970543: I tensorflow/stream_executor/platform/default/dso_loader.cc:49] Successfully opened dynamic library libcuda.so.1\n",
      "2021-08-30 16:10:24.044390: E tensorflow/stream_executor/cuda/cuda_driver.cc:328] failed call to cuInit: CUDA_ERROR_NO_DEVICE: no CUDA-capable device is detected\n",
      "2021-08-30 16:10:24.044414: I tensorflow/stream_executor/cuda/cuda_diagnostics.cc:156] kernel driver does not appear to be running on this host (helemanc-Latitude-5410): /proc/driver/nvidia/version does not exist\n"
     ]
    },
    {
     "data": {
      "text/plain": [
       "[]"
      ]
     },
     "execution_count": 2,
     "metadata": {},
     "output_type": "execute_result"
    }
   ],
   "source": [
    "import os\n",
    "import librosa\n",
    "import numpy as np\n",
    "from tqdm.notebook import tqdm\n",
    "import pandas as pd\n",
    "import matplotlib.pyplot as plt\n",
    "import warnings\n",
    "warnings.filterwarnings(\"ignore\")\n",
    "import seaborn as sns\n",
    "sns.set_style('whitegrid')\n",
    "import IPython.display as ipd\n",
    "import librosa.display\n",
    "import numpy as np\n",
    "import pickle\n",
    "import scipy\n",
    "import ipywidgets\n",
    "import math\n",
    "\n",
    "from sklearn.model_selection import train_test_split\n",
    "from sklearn.ensemble import RandomForestClassifier\n",
    "from sklearn.preprocessing import StandardScaler, LabelEncoder\n",
    "from sklearn.pipeline import make_pipeline\n",
    "from sklearn.cluster import KMeans\n",
    "from sklearn.metrics import accuracy_score, confusion_matrix\n",
    "from scipy.cluster.hierarchy import dendrogram\n",
    "from sklearn.cluster import AgglomerativeClustering\n",
    "\n",
    "from tqdm import tqdm\n",
    "\n",
    "import tensorflow as tf\n",
    "from tensorflow.keras.layers import Dense, Dropout, Conv2D, AveragePooling1D, MaxPooling2D, Flatten\n",
    "from tensorflow.keras.optimizers import SGD\n",
    "from tensorflow.keras.models import Sequential\n",
    "from tensorflow.keras import layers\n",
    "from tensorflow.keras import regularizers\n",
    "\n",
    "# from livelossplot import PlotLossesKeras\n",
    "tf.config.list_physical_devices('GPU')"
   ]
  },
  {
   "cell_type": "code",
   "execution_count": 3,
   "id": "56f14470-3652-4404-be90-4dabc788c2b8",
   "metadata": {},
   "outputs": [
    {
     "name": "stdout",
     "output_type": "stream",
     "text": [
      "/home/helemanc/Desktop/Binary_Model/ffmpeg-normalize\n"
     ]
    }
   ],
   "source": [
    "%cd ffmpeg-normalize"
   ]
  },
  {
   "cell_type": "markdown",
   "id": "f34fc464-2e6c-454d-b000-7cb211c8f203",
   "metadata": {
    "tags": []
   },
   "source": [
    "# Load Dataframes"
   ]
  },
  {
   "cell_type": "code",
   "execution_count": 4,
   "id": "b76ce9c3-3e52-4bd5-9981-4811abf7edd3",
   "metadata": {
    "tags": []
   },
   "outputs": [],
   "source": [
    "preprocess_path = \"/home/helemanc/Desktop/Binary_Model/pre-processed\"\n",
    "\n",
    "RAV_df = pd.read_csv(os.path.join(preprocess_path,\"RAV_df.csv\"))\n",
    "SAVEE_df = pd.read_csv(os.path.join(preprocess_path,\"SAVEE_df.csv\"))\n",
    "TESS_df = pd.read_csv(os.path.join(preprocess_path,\"TESS_df.csv\"))\n",
    "CREMA_df = pd.read_csv(os.path.join(preprocess_path,\"CREMA_df.csv\"))"
   ]
  },
  {
   "cell_type": "markdown",
   "id": "e6d0222a-9b6a-4f87-a5b0-e7d6b1d7afa0",
   "metadata": {},
   "source": [
    "# Audio Normalization"
   ]
  },
  {
   "cell_type": "code",
   "execution_count": null,
   "id": "1d865186-b9e8-4d63-a4d3-544caf938eae",
   "metadata": {
    "tags": []
   },
   "outputs": [],
   "source": [
    "!git clone https://github.com/slhck/ffmpeg-normalize"
   ]
  },
  {
   "cell_type": "code",
   "execution_count": null,
   "id": "fda8f9c8-2ee1-4781-992a-6cb12f8d9695",
   "metadata": {},
   "outputs": [],
   "source": [
    "!python3 setup.py install --user"
   ]
  },
  {
   "cell_type": "code",
   "execution_count": 5,
   "id": "61c380db-aa90-4090-8ae9-99f21a4fe96b",
   "metadata": {},
   "outputs": [],
   "source": [
    "from pydub import AudioSegment\n",
    "from pydub.utils import make_chunks\n",
    "\n",
    "concatenation_tmp_folder = '/home/helemanc/Desktop/Binary_Model/concatenation_audio'\n",
    "normalized_files_folder = '/home/helemanc/Desktop/Binary_Model/normalized_audio/crema'\n",
    "ravdess_folder = \"/media/helemanc/OS/Users/i2CAT/Desktop/Datasets\\ SER/ravdess-emotional-speech-audio/audio_speech_actors_01-24/\"\n",
    "savee_folder = \"/media/helemanc/OS/Users/i2CAT/Desktop/Datasets\\ SER/savee\"\n",
    "tess_folder = \"/media/helemanc/OS/Users/i2CAT/Desktop/Datasets\\ SER/tess/TESS Toronto emotional speech set data\"\n",
    "crema_folder = \"/media/helemanc/OS/Users/i2CAT/Desktop/Datasets\\ SER/creamd\" \n",
    "\n",
    "\n",
    "\n",
    "\n",
    "def audio_normalization(dataset_folder, df):\n",
    "    paths_normalized = []\n",
    "    from tqdm import tqdm_notebook\n",
    "    for path in tqdm_notebook(list(df.path)):\n",
    "        samples, sr = librosa.load(path, res_type='kaiser_fast', sr=16000)\n",
    "        duration = librosa.get_duration(y = samples, sr = sr)\n",
    "\n",
    "        part = path.split('/')\n",
    "        flag_duration = 0 \n",
    "\n",
    "        if duration < 3: \n",
    "            flag_duration = 1 \n",
    "            audio = AudioSegment.from_file(path)\n",
    "            combined_sounds = audio+audio+audio\n",
    "            conc_path = os.path.join(concatenation_tmp_folder, part[-1])\n",
    "            combined_sounds.export(conc_path, format=\"wav\") \n",
    "        if flag_duration == 0:  # audio file duration > 3s\n",
    "            new_path = os.path.join(normalized_files_folder, part[-1])\n",
    "            paths_normalized.append(new_path)\n",
    "            old_path = os.path.join(dataset_folder, part[-2], part[-1])\n",
    "            command = \"ffmpeg-normalize \" + old_path + \" -o \" +  new_path +   \" -ar 16000\"\n",
    "            os.system(command)\n",
    "        else: \n",
    "            new_path = os.path.join(normalized_files_folder, part[-1])\n",
    "            paths_normalized.append(new_path)\n",
    "            old_path = os.path.join(concatenation_tmp_folder, part[-1])\n",
    "            command = \"ffmpeg-normalize \" + old_path + \" -o \" +  new_path +   \" -ar 16000\"\n",
    "            os.system(command)\n",
    "\n",
    "            audio_to_cut = AudioSegment.from_file(new_path , \"wav\") \n",
    "            chunk_length_ms = duration*1000 #ms\n",
    "            chunks = make_chunks(audio_to_cut, chunk_length_ms) # divide the audio file to the original length\n",
    "            for i, chunk in enumerate(chunks):\n",
    "                chunk_name = new_path\n",
    "                chunk.export(chunk_name, format=\"wav\")\n",
    "                break\n",
    "    return paths_normalized"
   ]
  },
  {
   "cell_type": "code",
   "execution_count": 10,
   "id": "a5f84592-a8cf-4990-a7b3-6562122e863e",
   "metadata": {},
   "outputs": [
    {
     "data": {
      "application/vnd.jupyter.widget-view+json": {
       "model_id": "e92c5800a9564b03af1c0390be030a5c",
       "version_major": 2,
       "version_minor": 0
      },
      "text/plain": [
       "  0%|          | 0/1440 [00:00<?, ?it/s]"
      ]
     },
     "metadata": {},
     "output_type": "display_data"
    },
    {
     "name": "stdout",
     "output_type": "stream",
     "text": [
      "exporting /home/helemanc/Desktop/Binary_Model/normalized_audio/03-01-08-01-02-02-11.wav\n"
     ]
    },
    {
     "name": "stderr",
     "output_type": "stream",
     "text": [
      "\u001b[1;33m\u001b[1;33m\u001b[1;33m\u001b[1;33m\u001b[1;33m\u001b[1;33mWARNING\u001b[1;0m\u001b[1;0m\u001b[1;0m\u001b[1;0m\u001b[1;0m\u001b[1;0m: Audio stream has a duration of less than 3 seconds. Normalization may not work. See https://github.com/slhck/ffmpeg-normalize/issues/87 for more info.\n"
     ]
    },
    {
     "name": "stdout",
     "output_type": "stream",
     "text": [
      "exporting /home/helemanc/Desktop/Binary_Model/normalized_audio/03-01-02-01-02-02-13.wav\n"
     ]
    }
   ],
   "source": [
    "rav_path_normalized = audio_normalization(ravdess_folder, RAV_df)"
   ]
  },
  {
   "cell_type": "code",
   "execution_count": 11,
   "id": "e94f495d-3bd3-4660-bff8-c25b48f4dea9",
   "metadata": {},
   "outputs": [
    {
     "data": {
      "application/vnd.jupyter.widget-view+json": {
       "model_id": "9d5409fb742d4a309ff6c1f5fc605098",
       "version_major": 2,
       "version_minor": 0
      },
      "text/plain": [
       "  0%|          | 0/480 [00:00<?, ?it/s]"
      ]
     },
     "metadata": {},
     "output_type": "display_data"
    },
    {
     "name": "stdout",
     "output_type": "stream",
     "text": [
      "exporting /home/helemanc/Desktop/Binary_Model/normalized_audio/KL_sa07.wav\n",
      "exporting /home/helemanc/Desktop/Binary_Model/normalized_audio/KL_sa08.wav\n",
      "exporting /home/helemanc/Desktop/Binary_Model/normalized_audio/KL_sa09.wav\n",
      "exporting /home/helemanc/Desktop/Binary_Model/normalized_audio/KL_su02.wav\n",
      "exporting /home/helemanc/Desktop/Binary_Model/normalized_audio/KL_su03.wav\n",
      "exporting /home/helemanc/Desktop/Binary_Model/normalized_audio/KL_su04.wav\n",
      "exporting /home/helemanc/Desktop/Binary_Model/normalized_audio/KL_su05.wav\n",
      "exporting /home/helemanc/Desktop/Binary_Model/normalized_audio/KL_su06.wav\n",
      "exporting /home/helemanc/Desktop/Binary_Model/normalized_audio/KL_su07.wav\n",
      "exporting /home/helemanc/Desktop/Binary_Model/normalized_audio/KL_su09.wav\n",
      "exporting /home/helemanc/Desktop/Binary_Model/normalized_audio/KL_su11.wav\n",
      "exporting /home/helemanc/Desktop/Binary_Model/normalized_audio/KL_n17.wav\n",
      "exporting /home/helemanc/Desktop/Binary_Model/normalized_audio/KL_n18.wav\n",
      "exporting /home/helemanc/Desktop/Binary_Model/normalized_audio/KL_n19.wav\n",
      "exporting /home/helemanc/Desktop/Binary_Model/normalized_audio/KL_n20.wav\n",
      "exporting /home/helemanc/Desktop/Binary_Model/normalized_audio/KL_n22.wav\n",
      "exporting /home/helemanc/Desktop/Binary_Model/normalized_audio/KL_n23.wav\n",
      "exporting /home/helemanc/Desktop/Binary_Model/normalized_audio/KL_n26.wav\n",
      "exporting /home/helemanc/Desktop/Binary_Model/normalized_audio/KL_n29.wav\n",
      "exporting /home/helemanc/Desktop/Binary_Model/normalized_audio/KL_sa02.wav\n",
      "exporting /home/helemanc/Desktop/Binary_Model/normalized_audio/KL_sa03.wav\n",
      "exporting /home/helemanc/Desktop/Binary_Model/normalized_audio/KL_h08.wav\n",
      "exporting /home/helemanc/Desktop/Binary_Model/normalized_audio/KL_h10.wav\n",
      "exporting /home/helemanc/Desktop/Binary_Model/normalized_audio/KL_h13.wav\n",
      "exporting /home/helemanc/Desktop/Binary_Model/normalized_audio/KL_n02.wav\n",
      "exporting /home/helemanc/Desktop/Binary_Model/normalized_audio/KL_n03.wav\n",
      "exporting /home/helemanc/Desktop/Binary_Model/normalized_audio/KL_n05.wav\n",
      "exporting /home/helemanc/Desktop/Binary_Model/normalized_audio/KL_n12.wav\n",
      "exporting /home/helemanc/Desktop/Binary_Model/normalized_audio/KL_n13.wav\n",
      "exporting /home/helemanc/Desktop/Binary_Model/normalized_audio/KL_f02.wav\n",
      "exporting /home/helemanc/Desktop/Binary_Model/normalized_audio/KL_f03.wav\n",
      "exporting /home/helemanc/Desktop/Binary_Model/normalized_audio/KL_f04.wav\n",
      "exporting /home/helemanc/Desktop/Binary_Model/normalized_audio/KL_f06.wav\n",
      "exporting /home/helemanc/Desktop/Binary_Model/normalized_audio/KL_f10.wav\n",
      "exporting /home/helemanc/Desktop/Binary_Model/normalized_audio/KL_f13.wav\n",
      "exporting /home/helemanc/Desktop/Binary_Model/normalized_audio/KL_h02.wav\n",
      "exporting /home/helemanc/Desktop/Binary_Model/normalized_audio/KL_h03.wav\n",
      "exporting /home/helemanc/Desktop/Binary_Model/normalized_audio/KL_h04.wav\n",
      "exporting /home/helemanc/Desktop/Binary_Model/normalized_audio/KL_a11.wav\n",
      "exporting /home/helemanc/Desktop/Binary_Model/normalized_audio/KL_d02.wav\n",
      "exporting /home/helemanc/Desktop/Binary_Model/normalized_audio/KL_d03.wav\n",
      "exporting /home/helemanc/Desktop/Binary_Model/normalized_audio/KL_d05.wav\n",
      "exporting /home/helemanc/Desktop/Binary_Model/normalized_audio/KL_d06.wav\n",
      "exporting /home/helemanc/Desktop/Binary_Model/normalized_audio/KL_d07.wav\n",
      "exporting /home/helemanc/Desktop/Binary_Model/normalized_audio/KL_d12.wav\n",
      "exporting /home/helemanc/Desktop/Binary_Model/normalized_audio/JK_su03.wav\n",
      "exporting /home/helemanc/Desktop/Binary_Model/normalized_audio/JK_su05.wav\n",
      "exporting /home/helemanc/Desktop/Binary_Model/normalized_audio/JK_su06.wav\n",
      "exporting /home/helemanc/Desktop/Binary_Model/normalized_audio/KL_a02.wav\n",
      "exporting /home/helemanc/Desktop/Binary_Model/normalized_audio/KL_a03.wav\n",
      "exporting /home/helemanc/Desktop/Binary_Model/normalized_audio/KL_a04.wav\n",
      "exporting /home/helemanc/Desktop/Binary_Model/normalized_audio/KL_a05.wav\n",
      "exporting /home/helemanc/Desktop/Binary_Model/normalized_audio/KL_a07.wav\n",
      "exporting /home/helemanc/Desktop/Binary_Model/normalized_audio/DC_d07.wav\n",
      "exporting /home/helemanc/Desktop/Binary_Model/normalized_audio/JK_n26.wav\n",
      "exporting /home/helemanc/Desktop/Binary_Model/normalized_audio/JK_n03.wav\n",
      "exporting /home/helemanc/Desktop/Binary_Model/normalized_audio/JK_n13.wav\n",
      "exporting /home/helemanc/Desktop/Binary_Model/normalized_audio/JK_n18.wav\n",
      "exporting /home/helemanc/Desktop/Binary_Model/normalized_audio/JK_h03.wav\n",
      "exporting /home/helemanc/Desktop/Binary_Model/normalized_audio/JK_h08.wav\n",
      "exporting /home/helemanc/Desktop/Binary_Model/normalized_audio/JK_h13.wav\n",
      "exporting /home/helemanc/Desktop/Binary_Model/normalized_audio/JK_f03.wav\n",
      "exporting /home/helemanc/Desktop/Binary_Model/normalized_audio/JK_a03.wav\n",
      "exporting /home/helemanc/Desktop/Binary_Model/normalized_audio/JK_a07.wav\n",
      "exporting /home/helemanc/Desktop/Binary_Model/normalized_audio/JK_a11.wav\n",
      "exporting /home/helemanc/Desktop/Binary_Model/normalized_audio/JK_d03.wav\n",
      "exporting /home/helemanc/Desktop/Binary_Model/normalized_audio/JE_su03.wav\n",
      "exporting /home/helemanc/Desktop/Binary_Model/normalized_audio/JE_n13.wav\n"
     ]
    },
    {
     "name": "stderr",
     "output_type": "stream",
     "text": [
      "\u001b[1;33m\u001b[1;33m\u001b[1;33m\u001b[1;33m\u001b[1;33m\u001b[1;33mWARNING\u001b[1;0m\u001b[1;0m\u001b[1;0m\u001b[1;0m\u001b[1;0m\u001b[1;0m: Audio stream has a duration of less than 3 seconds. Normalization may not work. See https://github.com/slhck/ffmpeg-normalize/issues/87 for more info.\n"
     ]
    },
    {
     "name": "stdout",
     "output_type": "stream",
     "text": [
      "exporting /home/helemanc/Desktop/Binary_Model/normalized_audio/JE_n18.wav\n",
      "exporting /home/helemanc/Desktop/Binary_Model/normalized_audio/JE_n26.wav\n",
      "exporting /home/helemanc/Desktop/Binary_Model/normalized_audio/JE_sa03.wav\n",
      "exporting /home/helemanc/Desktop/Binary_Model/normalized_audio/JE_h13.wav\n",
      "exporting /home/helemanc/Desktop/Binary_Model/normalized_audio/JE_n03.wav\n",
      "exporting /home/helemanc/Desktop/Binary_Model/normalized_audio/JE_f03.wav\n",
      "exporting /home/helemanc/Desktop/Binary_Model/normalized_audio/JE_h03.wav\n",
      "exporting /home/helemanc/Desktop/Binary_Model/normalized_audio/JE_d03.wav\n",
      "exporting /home/helemanc/Desktop/Binary_Model/normalized_audio/JE_d07.wav\n",
      "exporting /home/helemanc/Desktop/Binary_Model/normalized_audio/DC_su03.wav\n",
      "exporting /home/helemanc/Desktop/Binary_Model/normalized_audio/DC_su05.wav\n",
      "exporting /home/helemanc/Desktop/Binary_Model/normalized_audio/DC_su06.wav\n",
      "exporting /home/helemanc/Desktop/Binary_Model/normalized_audio/DC_su11.wav\n",
      "exporting /home/helemanc/Desktop/Binary_Model/normalized_audio/JE_a03.wav\n",
      "exporting /home/helemanc/Desktop/Binary_Model/normalized_audio/DC_sa03.wav\n",
      "exporting /home/helemanc/Desktop/Binary_Model/normalized_audio/DC_sa07.wav\n",
      "exporting /home/helemanc/Desktop/Binary_Model/normalized_audio/DC_sa09.wav\n",
      "exporting /home/helemanc/Desktop/Binary_Model/normalized_audio/DC_n12.wav\n",
      "exporting /home/helemanc/Desktop/Binary_Model/normalized_audio/DC_n13.wav\n",
      "exporting /home/helemanc/Desktop/Binary_Model/normalized_audio/DC_n18.wav\n",
      "exporting /home/helemanc/Desktop/Binary_Model/normalized_audio/DC_f13.wav\n",
      "exporting /home/helemanc/Desktop/Binary_Model/normalized_audio/DC_h03.wav\n",
      "exporting /home/helemanc/Desktop/Binary_Model/normalized_audio/DC_h08.wav\n",
      "exporting /home/helemanc/Desktop/Binary_Model/normalized_audio/DC_h13.wav\n",
      "exporting /home/helemanc/Desktop/Binary_Model/normalized_audio/DC_n03.wav\n",
      "exporting /home/helemanc/Desktop/Binary_Model/normalized_audio/DC_n05.wav\n",
      "exporting /home/helemanc/Desktop/Binary_Model/normalized_audio/DC_f03.wav\n",
      "exporting /home/helemanc/Desktop/Binary_Model/normalized_audio/DC_f06.wav\n",
      "exporting /home/helemanc/Desktop/Binary_Model/normalized_audio/DC_f10.wav\n",
      "exporting /home/helemanc/Desktop/Binary_Model/normalized_audio/DC_a03.wav\n",
      "exporting /home/helemanc/Desktop/Binary_Model/normalized_audio/DC_a04.wav\n",
      "exporting /home/helemanc/Desktop/Binary_Model/normalized_audio/DC_a05.wav\n",
      "exporting /home/helemanc/Desktop/Binary_Model/normalized_audio/DC_a07.wav\n",
      "exporting /home/helemanc/Desktop/Binary_Model/normalized_audio/DC_a11.wav\n",
      "exporting /home/helemanc/Desktop/Binary_Model/normalized_audio/DC_d03.wav\n",
      "exporting /home/helemanc/Desktop/Binary_Model/normalized_audio/JK_f10.wav\n",
      "exporting /home/helemanc/Desktop/Binary_Model/normalized_audio/KL_h07.wav\n"
     ]
    }
   ],
   "source": [
    "savee_path_normalized = audio_normalization(savee_folder, SAVEE_df)"
   ]
  },
  {
   "cell_type": "code",
   "execution_count": null,
   "id": "91e5d783-758b-451a-b1a0-61fe0c45d46a",
   "metadata": {},
   "outputs": [],
   "source": [
    "tess_path_normalized = audio_normalization(tess_folder, TESS_df)"
   ]
  },
  {
   "cell_type": "code",
   "execution_count": 6,
   "id": "12190d36-a2a5-45de-b890-48db2e49a499",
   "metadata": {},
   "outputs": [
    {
     "data": {
      "application/vnd.jupyter.widget-view+json": {
       "model_id": "922d996d73d04ffebdf18824c0062773",
       "version_major": 2,
       "version_minor": 0
      },
      "text/plain": [
       "  0%|          | 0/440 [00:00<?, ?it/s]"
      ]
     },
     "metadata": {},
     "output_type": "display_data"
    },
    {
     "name": "stderr",
     "output_type": "stream",
     "text": [
      "\u001b[1;33m\u001b[1;33m\u001b[1;33m\u001b[1;33m\u001b[1;33m\u001b[1;33mWARNING\u001b[1;0m\u001b[1;0m\u001b[1;0m\u001b[1;0m\u001b[1;0m\u001b[1;0m: Audio stream has a duration of less than 3 seconds. Normalization may not work. See https://github.com/slhck/ffmpeg-normalize/issues/87 for more info.\n"
     ]
    }
   ],
   "source": [
    "crema_path_normalized = audio_normalization(crema_folder, CREMA_df)"
   ]
  },
  {
   "cell_type": "code",
   "execution_count": null,
   "id": "20afc8db-0931-496b-bd22-6f2ebd159970",
   "metadata": {},
   "outputs": [],
   "source": []
  },
  {
   "cell_type": "code",
   "execution_count": 7,
   "id": "c35c70ba-cbd6-47a3-9506-c7ceb2157957",
   "metadata": {},
   "outputs": [
    {
     "data": {
      "text/plain": [
       "(440, 4)"
      ]
     },
     "execution_count": 7,
     "metadata": {},
     "output_type": "execute_result"
    }
   ],
   "source": [
    "CREMA_df.shape"
   ]
  },
  {
   "cell_type": "code",
   "execution_count": null,
   "id": "c42deff9-2037-4910-8b82-4e66fd8061a5",
   "metadata": {},
   "outputs": [],
   "source": []
  }
 ],
 "metadata": {
  "kernelspec": {
   "display_name": "Python 3 (ipykernel)",
   "language": "python",
   "name": "python3"
  },
  "language_info": {
   "codemirror_mode": {
    "name": "ipython",
    "version": 3
   },
   "file_extension": ".py",
   "mimetype": "text/x-python",
   "name": "python",
   "nbconvert_exporter": "python",
   "pygments_lexer": "ipython3",
   "version": "3.8.10"
  }
 },
 "nbformat": 4,
 "nbformat_minor": 5
}

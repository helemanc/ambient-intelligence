{
 "cells": [
  {
   "cell_type": "markdown",
   "id": "873702c2-2ec2-49af-9606-985b25eabc93",
   "metadata": {
    "tags": []
   },
   "source": [
    "# Configuration\n",
    "\n",
    "NOTES: The warnings after the import are referred to the fact that Tensorflow 2.x versions are built to directly look for a GPU in the system. The warning can be forgot if you are not going to use the GPU. "
   ]
  },
  {
   "cell_type": "code",
   "execution_count": 1,
   "id": "dc0f7084-d523-49d1-a344-e71e6517d1b8",
   "metadata": {},
   "outputs": [],
   "source": [
    "!source myenv/bin/activate"
   ]
  },
  {
   "cell_type": "code",
   "execution_count": 12,
   "id": "27ec6ec0-0f93-4194-88ff-5e645e42df42",
   "metadata": {},
   "outputs": [],
   "source": [
    "LENGTH_CHOSEN = 126520"
   ]
  },
  {
   "cell_type": "code",
   "execution_count": 2,
   "id": "22ba6f69-f9cb-423a-81ff-3091658e4beb",
   "metadata": {
    "tags": []
   },
   "outputs": [
    {
     "name": "stderr",
     "output_type": "stream",
     "text": [
      "2021-09-01 11:35:14.540658: W tensorflow/stream_executor/platform/default/dso_loader.cc:60] Could not load dynamic library 'libcudart.so.11.0'; dlerror: libcudart.so.11.0: cannot open shared object file: No such file or directory\n",
      "2021-09-01 11:35:14.540677: I tensorflow/stream_executor/cuda/cudart_stub.cc:29] Ignore above cudart dlerror if you do not have a GPU set up on your machine.\n",
      "2021-09-01 11:35:15.416333: I tensorflow/compiler/jit/xla_cpu_device.cc:41] Not creating XLA devices, tf_xla_enable_xla_devices not set\n",
      "2021-09-01 11:35:15.416923: I tensorflow/stream_executor/platform/default/dso_loader.cc:49] Successfully opened dynamic library libcuda.so.1\n",
      "2021-09-01 11:35:15.490788: E tensorflow/stream_executor/cuda/cuda_driver.cc:328] failed call to cuInit: CUDA_ERROR_NO_DEVICE: no CUDA-capable device is detected\n",
      "2021-09-01 11:35:15.490807: I tensorflow/stream_executor/cuda/cuda_diagnostics.cc:156] kernel driver does not appear to be running on this host (helemanc-Latitude-5410): /proc/driver/nvidia/version does not exist\n"
     ]
    },
    {
     "data": {
      "text/plain": [
       "[]"
      ]
     },
     "execution_count": 2,
     "metadata": {},
     "output_type": "execute_result"
    }
   ],
   "source": [
    "import os\n",
    "import librosa\n",
    "import numpy as np\n",
    "from tqdm.notebook import tqdm\n",
    "import pandas as pd\n",
    "import matplotlib.pyplot as plt\n",
    "import warnings\n",
    "warnings.filterwarnings(\"ignore\")\n",
    "import seaborn as sns\n",
    "sns.set_style('whitegrid')\n",
    "import IPython.display as ipd\n",
    "import librosa.display\n",
    "import numpy as np\n",
    "import pickle\n",
    "import scipy\n",
    "import ipywidgets\n",
    "import math\n",
    "\n",
    "from sklearn.model_selection import train_test_split\n",
    "from sklearn.ensemble import RandomForestClassifier\n",
    "from sklearn.preprocessing import StandardScaler, LabelEncoder\n",
    "from sklearn.pipeline import make_pipeline\n",
    "from sklearn.cluster import KMeans\n",
    "from sklearn.metrics import accuracy_score, confusion_matrix\n",
    "from scipy.cluster.hierarchy import dendrogram\n",
    "from sklearn.cluster import AgglomerativeClustering\n",
    "\n",
    "from tqdm import tqdm\n",
    "\n",
    "import tensorflow as tf\n",
    "from tensorflow.keras.layers import Dense, Dropout, Conv2D, AveragePooling1D, MaxPooling2D, Flatten\n",
    "from tensorflow.keras.optimizers import SGD, Adam \n",
    "from tensorflow.keras.models import Sequential\n",
    "from tensorflow.keras import layers\n",
    "from tensorflow.keras import regularizers\n",
    "\n",
    "# from livelossplot import PlotLossesKeras\n",
    "tf.config.list_physical_devices('GPU')"
   ]
  },
  {
   "cell_type": "markdown",
   "id": "aedb3619-eba7-42cb-bcb5-f41ad2634be3",
   "metadata": {
    "tags": []
   },
   "source": [
    "# Load Dataframes"
   ]
  },
  {
   "cell_type": "code",
   "execution_count": 3,
   "id": "7dcac02c-82ef-4014-8add-10c97110dc97",
   "metadata": {
    "tags": []
   },
   "outputs": [],
   "source": [
    "preprocess_path = \"/home/helemanc/Desktop/Binary_Model/pre-processed\"\n",
    "\n",
    "RAV_df = pd.read_csv(os.path.join(preprocess_path,\"RAV_df.csv\"))"
   ]
  },
  {
   "cell_type": "code",
   "execution_count": 4,
   "id": "e50cbfb0-5c2c-41da-a128-2ee89664e87c",
   "metadata": {
    "jupyter": {
     "source_hidden": true
    },
    "tags": []
   },
   "outputs": [],
   "source": [
    "RAV_train = []\n",
    "RAV_val = []\n",
    "RAV_test = []"
   ]
  },
  {
   "cell_type": "code",
   "execution_count": 5,
   "id": "17436580-9f00-4fae-b11f-16b3bf1b2670",
   "metadata": {},
   "outputs": [
    {
     "data": {
      "text/plain": [
       "(1200, 120, 120)"
      ]
     },
     "execution_count": 5,
     "metadata": {},
     "output_type": "execute_result"
    }
   ],
   "source": [
    "for index, row in RAV_df.iterrows():\n",
    "    if row['actors'] in range(1,21): \n",
    "        RAV_train.append(row) \n",
    "    elif row['actors'] in range(21,23): \n",
    "        RAV_val.append(row)\n",
    "    elif row['actors'] in range(23,25): \n",
    "        RAV_test.append(row)\n",
    "len(RAV_train), len(RAV_val), len(RAV_test)"
   ]
  },
  {
   "cell_type": "code",
   "execution_count": 6,
   "id": "4c23cd67-a31d-477b-a1d3-45232928c822",
   "metadata": {},
   "outputs": [],
   "source": [
    "RAV_train = pd.DataFrame(RAV_train)\n",
    "RAV_val = pd.DataFrame(RAV_val)\n",
    "RAV_test = pd.DataFrame(RAV_test)"
   ]
  },
  {
   "cell_type": "code",
   "execution_count": 7,
   "id": "6f5f400e-e12a-4b53-920c-8fd9c5207d9d",
   "metadata": {
    "tags": []
   },
   "outputs": [],
   "source": [
    "RAV_train = RAV_train.drop(['actors'], 1)\n",
    "RAV_val = RAV_val.drop(['actors'], 1)\n",
    "RAV_test = RAV_test.drop(['actors'], 1)"
   ]
  },
  {
   "cell_type": "code",
   "execution_count": 8,
   "id": "3bf0a8cd-1ed4-4ae7-99fb-74ace48127ff",
   "metadata": {},
   "outputs": [],
   "source": [
    "df_train = RAV_train.reset_index(drop=True) \n",
    "df_val = RAV_val.reset_index(drop=True) \n",
    "df_test = RAV_test.reset_index(drop=True) "
   ]
  },
  {
   "cell_type": "markdown",
   "id": "4c435abe-684f-4061-96d3-92ffe8841c10",
   "metadata": {
    "tags": []
   },
   "source": [
    "# Feature extraction"
   ]
  },
  {
   "cell_type": "code",
   "execution_count": 10,
   "id": "2d4acd04-bc0d-4fd5-9e4b-5394ccb7ce27",
   "metadata": {},
   "outputs": [
    {
     "data": {
      "text/plain": [
       "array(['disgust', 'surprise', 'sadness', 'angry', 'fear', 'happy', 'calm',\n",
       "       'neutral'], dtype=object)"
      ]
     },
     "execution_count": 10,
     "metadata": {},
     "output_type": "execute_result"
    }
   ],
   "source": [
    "df_train['emotion_label'].unique()"
   ]
  },
  {
   "cell_type": "code",
   "execution_count": 11,
   "id": "4d4af6c9-586b-4c85-a71f-a26ca6ca2dc4",
   "metadata": {},
   "outputs": [
    {
     "data": {
      "image/png": "[encoded data removed]",
      "text/plain": [
       "<Figure size 432x288 with 1 Axes>"
      ]
     },
     "metadata": {},
     "output_type": "display_data"
    }
   ],
   "source": [
    "plt.title('Emotions distribution')\n",
    "plt.hist(df_train['emotion_label'])\n",
    "# plt.hist(y)\n",
    "plt.show()"
   ]
  },
  {
   "cell_type": "code",
   "execution_count": null,
   "id": "af417f1b-30fe-4b7a-987e-9bce59ee322f",
   "metadata": {},
   "outputs": [],
   "source": [
    "plt.title('Emotions distribution')\n",
    "plt.hist(df_val['emotion_label'])\n",
    "# plt.hist(y)\n",
    "plt.show()"
   ]
  },
  {
   "cell_type": "code",
   "execution_count": null,
   "id": "6166203a-122e-4692-9fd5-6887679874e2",
   "metadata": {},
   "outputs": [],
   "source": [
    "plt.title('Emotions distribution')\n",
    "plt.hist(df_test['emotion_label'])\n",
    "# plt.hist(y)\n",
    "plt.show()"
   ]
  },
  {
   "cell_type": "code",
   "execution_count": null,
   "id": "116fe087-d45f-46a9-bf45-86986295874c",
   "metadata": {},
   "outputs": [],
   "source": [
    "df_train.shape"
   ]
  },
  {
   "cell_type": "markdown",
   "id": "e95f6b7d-3e43-4bbb-aede-5fdfe5bb7b30",
   "metadata": {
    "tags": []
   },
   "source": [
    "## Utils"
   ]
  },
  {
   "cell_type": "code",
   "execution_count": 24,
   "id": "ba57d9c0-26c6-44dc-ad5d-268d6abefdab",
   "metadata": {
    "tags": []
   },
   "outputs": [],
   "source": [
    "def load_files(df):\n",
    "    X = []\n",
    "    for i in tqdm(df['path']): \n",
    "        s = librosa.load(i, res_type='kaiser_fast', sr=16000)\n",
    "        if librosa.get_duration(s[0]) > 3.5: \n",
    "            s = librosa.load(i, res_type='kaiser_fast', sr=16000, duration = 3.5)\n",
    "            X.append(s)\n",
    "    return X\n",
    "\n",
    "def extract_samples(X): \n",
    "    samples = []\n",
    "    for ind,i in enumerate(X):\n",
    "        samples.append(i[0])\n",
    "    return samples \n",
    "\n",
    "def extract_labels(df): \n",
    "    labels = df['emotion_label'].copy()\n",
    "    return labels \n",
    "\n",
    "def compute_lengths(samples): \n",
    "    lengths = [len(x) for x in samples]\n",
    "    return lengths \n",
    "\n",
    "def check_outliers(lengths):\n",
    "    # outliers\n",
    "    lengths = np.array(lengths)\n",
    "    print((lengths > 300000).sum())\n",
    "    new_lengths = lengths[lengths < 300000]\n",
    "    return new_lengths \n",
    "\n",
    "def compute_mean_length(lengths): \n",
    "    return lengths.mean()\n",
    "\n",
    "def cut_and_pad(samples, labels, length_chosen = LENGTH_CHOSEN): \n",
    "    X_new = []\n",
    "    y_new = []\n",
    "    count = 0 \n",
    "    for ind,i in enumerate(samples):\n",
    "        if i.shape[0] < 300000:\n",
    "            if i.shape[0] > length_chosen:\n",
    "                new = i[:length_chosen]\n",
    "                X_new.append(new)\n",
    "            elif i.shape[0] < length_chosen:\n",
    "                new = np.pad(i,math.ceil((length_chosen-i.shape[0])/2), mode='median')\n",
    "                X_new.append(new)\n",
    "            else:\n",
    "                X_new.append(i)\n",
    "            y_new.append(labels[count])\n",
    "        count+=1\n",
    "    \n",
    "    return X_new, y_new\n",
    "\n",
    "# Data Augmentation \n",
    "def noise(data):\n",
    "    noise_amp = 0.035*np.random.uniform()*np.amax(data)\n",
    "    data = data + noise_amp*np.random.normal(size=data.shape[0])\n",
    "    return data\n",
    "\n",
    "# Data Augmentation \n",
    "def pitch(data, sampling_rate, pitch_factor=0.7):\n",
    "    return librosa.effects.pitch_shift(data, sampling_rate, pitch_factor)\n",
    "    \n",
    "def compute_mfccs(samples): \n",
    "    mfccs = []\n",
    "    for i in tqdm(samples):\n",
    "        mfcc = librosa.feature.mfcc(y=i, sr=16000, n_mfcc=13)\n",
    "        mfcc = mfcc.T\n",
    "        mfcc = np.array(mfcc)\n",
    "        mfccs.append(mfcc[:, 1:])\n",
    "    mfccs = np.array(mfccs)\n",
    "    return mfccs\n",
    "\n",
    "def compute_mfccs_augmentation(samples, labels): \n",
    "    mfccs = []\n",
    "    counter = 0 \n",
    "    for i in tqdm(samples):\n",
    "\n",
    "       # Weiner Filtering on original noise \n",
    "        samples_weiner = scipy.signal.wiener(i)\n",
    "        is_fin = np.isfinite(samples_weiner).all()\n",
    "\n",
    "\n",
    "        # Data Augmentation - Noise \n",
    "        noise_audio = noise(samples_weiner)\n",
    "\n",
    "        # Data Augmentation - Pitch \n",
    "        pitch_audio = pitch(samples_weiner, sampling_rate=16000)\n",
    "\n",
    "\n",
    "        # Data Augmentation -  pitch + noise \n",
    "        pn = pitch(noise_audio, sampling_rate = 16000)\n",
    "\n",
    "\n",
    "        if is_fin: \n",
    "          # MFCC\n",
    "\n",
    "          mfcc = librosa.feature.mfcc(y=i, sr=16000, n_mfcc=13)\n",
    "          mfcc = mfcc.T\n",
    "          mfccs.append(mfcc[:, 1:])\n",
    "\n",
    "          mfcc_augmented = librosa.feature.mfcc(y=samples_weiner, sr=16000, n_mfcc=13)\n",
    "          mfcc_augmented = mfcc_augmented.T\n",
    "          mfccs.append(mfcc_augmented[:, 1:])\n",
    "\n",
    "          mfcc_augmented_pitch = librosa.feature.mfcc(y=noise_audio, sr=16000, n_mfcc=13)\n",
    "          mfcc_augmented_pitch = mfcc_augmented_pitch.T\n",
    "          mfccs.append(mfcc_augmented_pitch[:, 1:])\n",
    "\n",
    "          mfcc_augmented_p = librosa.feature.mfcc(y=pitch_audio, sr=16000, n_mfcc=13)\n",
    "          mfcc_augmented_p = mfcc_augmented_p.T\n",
    "          mfccs.append(mfcc_augmented_p[:, 1:]) \n",
    "\n",
    "          mfcc_augmented_pn = librosa.feature.mfcc(y=pn, sr=16000, n_mfcc=13)\n",
    "          mfcc_augmented_pn = mfcc_augmented_pn.T\n",
    "          mfccs.append(mfcc_augmented_pn[:, 1:]) \n",
    "    \n",
    "    mfccs = np.array(mfccs)\n",
    "    \n",
    "    # Copy labels \n",
    "    y_prov = []\n",
    "    y = labels \n",
    "    for i in range(len(y)): \n",
    "      y_prov.append(y[i])\n",
    "      y_prov.append(y[i])\n",
    "      y_prov.append(y[i])\n",
    "      y_prov.append(y[i])\n",
    "      y_prov.append(y[i])\n",
    "    y = np.asarray(y_prov)\n",
    "\n",
    "    return mfccs, y \n",
    "\n",
    "\n",
    "\n"
   ]
  },
  {
   "cell_type": "markdown",
   "id": "600490c7-779a-4ea9-a85c-916f22a97593",
   "metadata": {},
   "source": [
    "## Train"
   ]
  },
  {
   "cell_type": "markdown",
   "id": "08c62151-23a7-4b1a-8a59-622fdbb63774",
   "metadata": {
    "tags": []
   },
   "source": [
    "### Load samples and labels "
   ]
  },
  {
   "cell_type": "code",
   "execution_count": 25,
   "id": "1a349d89-7d6b-4e06-8ae6-f52bacb710af",
   "metadata": {},
   "outputs": [
    {
     "name": "stderr",
     "output_type": "stream",
     "text": [
      "100%|█████████████████████████████████████| 1200/1200 [00:00<00:00, 2444.76it/s]\n"
     ]
    }
   ],
   "source": [
    "load_train = load_files(df_train)"
   ]
  },
  {
   "cell_type": "code",
   "execution_count": 26,
   "id": "d21e7d89-5384-4127-97c3-5fd8c75a0433",
   "metadata": {},
   "outputs": [
    {
     "data": {
      "text/plain": [
       "6"
      ]
     },
     "execution_count": 26,
     "metadata": {},
     "output_type": "execute_result"
    }
   ],
   "source": [
    "len(load_train)"
   ]
  },
  {
   "cell_type": "code",
   "execution_count": 27,
   "id": "0fba02a5-0314-44cf-abe1-58d838a5a2fc",
   "metadata": {},
   "outputs": [],
   "source": [
    "samples_train = extract_samples(load_train)"
   ]
  },
  {
   "cell_type": "code",
   "execution_count": 28,
   "id": "ced67e82-31f5-424a-8e02-545cc39c840e",
   "metadata": {},
   "outputs": [],
   "source": [
    "labels_train = extract_labels(df_train)"
   ]
  },
  {
   "cell_type": "markdown",
   "id": "531f5524-e6ba-47a8-bd8d-d89c7ed8e224",
   "metadata": {},
   "source": [
    "### Decide length"
   ]
  },
  {
   "cell_type": "code",
   "execution_count": 29,
   "id": "c4ccbb85-47bc-4ea7-9112-cd5fac2a6e2a",
   "metadata": {},
   "outputs": [],
   "source": [
    "lengths = compute_lengths(samples_train) "
   ]
  },
  {
   "cell_type": "code",
   "execution_count": 30,
   "id": "d92baedf-7c28-4062-b143-fc3b77031f95",
   "metadata": {},
   "outputs": [
    {
     "data": {
      "text/plain": [
       "[56000, 56000, 56000, 56000, 56000, 56000]"
      ]
     },
     "execution_count": 30,
     "metadata": {},
     "output_type": "execute_result"
    }
   ],
   "source": [
    "lengths"
   ]
  },
  {
   "cell_type": "code",
   "execution_count": null,
   "id": "048813d6-1ea9-491e-b64b-d4c6e32e667a",
   "metadata": {},
   "outputs": [],
   "source": [
    "new_lengths = check_outliers(lengths) "
   ]
  },
  {
   "cell_type": "code",
   "execution_count": null,
   "id": "f4d25ece-95df-4207-a0a6-63f7b3e88b1e",
   "metadata": {},
   "outputs": [],
   "source": [
    "mean_length = compute_mean_length(new_lengths)"
   ]
  },
  {
   "cell_type": "code",
   "execution_count": null,
   "id": "03877aa1-dd6d-462c-b157-0c67a4ba2f0e",
   "metadata": {},
   "outputs": [],
   "source": [
    "mean_length"
   ]
  },
  {
   "cell_type": "markdown",
   "id": "6926a505-e71e-4d7b-a5ee-9bf613436a70",
   "metadata": {},
   "source": [
    "### Cut and Pad"
   ]
  },
  {
   "cell_type": "code",
   "execution_count": 16,
   "id": "a908ecd7-2405-460c-8a96-c63931b410ae",
   "metadata": {},
   "outputs": [],
   "source": [
    "samples_train, labels_train = cut_and_pad(samples_train, labels_train)"
   ]
  },
  {
   "cell_type": "code",
   "execution_count": 17,
   "id": "f5888271-73d3-4dd4-988a-51f237df3387",
   "metadata": {},
   "outputs": [
    {
     "name": "stdout",
     "output_type": "stream",
     "text": [
      "(1200,) (1200,)\n"
     ]
    }
   ],
   "source": [
    "samples_train = np.array(samples_train)\n",
    "labels_train = np.array(labels_train)\n",
    "print(samples_train.shape, labels_train.shape)"
   ]
  },
  {
   "cell_type": "markdown",
   "id": "3cf2e1bd-8223-4be3-afeb-a5d4a09914d7",
   "metadata": {},
   "source": [
    "### Feature Extraction - Without Data Augmentation "
   ]
  },
  {
   "cell_type": "code",
   "execution_count": 18,
   "id": "246e2d28-009e-4a39-b589-317090a821c9",
   "metadata": {},
   "outputs": [
    {
     "name": "stderr",
     "output_type": "stream",
     "text": [
      "100%|███████████████████████████████████████| 1200/1200 [00:19<00:00, 63.15it/s]\n"
     ]
    }
   ],
   "source": [
    "mfccs_train = compute_mfccs(samples_train)"
   ]
  },
  {
   "cell_type": "code",
   "execution_count": 19,
   "id": "3a1d1628-3efb-4ffb-9095-1d8abe648eb5",
   "metadata": {},
   "outputs": [
    {
     "data": {
      "text/plain": [
       "(1200, 248, 12)"
      ]
     },
     "execution_count": 19,
     "metadata": {},
     "output_type": "execute_result"
    }
   ],
   "source": [
    "mfccs_train.shape"
   ]
  },
  {
   "cell_type": "markdown",
   "id": "776752d3-3b71-4ad1-b9bf-ee5c7b15bd3f",
   "metadata": {},
   "source": [
    "### Save features and labels"
   ]
  },
  {
   "cell_type": "code",
   "execution_count": null,
   "id": "3ffe888e-12a0-40d4-8798-75ac31d9cda1",
   "metadata": {},
   "outputs": [],
   "source": [
    "'''\n",
    "preprocess_path = \"/home/helemanc/Desktop/Binary_Model/pre-processed\"\n",
    "mfccs_train_path = os.path.join(preprocess_path,\"mfccs_train.pkl\")\n",
    "labels_train_path = os.path.join(preprocess_path,\"labels_train.pkl\")\n",
    "\n",
    "with open(mfccs_train_path, 'wb') as f:\n",
    "        pickle.dump(mfccs_train , f)\n",
    "        \n",
    "with open(labels_train_path, 'wb') as f:\n",
    "        pickle.dump(labels_train , f)\n",
    "'''"
   ]
  },
  {
   "cell_type": "markdown",
   "id": "2dfd1d91-3d00-4767-872a-ecc5bd62591b",
   "metadata": {
    "tags": []
   },
   "source": [
    "### Feature Extraction - With Data Augmentation"
   ]
  },
  {
   "cell_type": "code",
   "execution_count": null,
   "id": "3326d48a-897b-48c9-ba1b-9ca4b1ebd35b",
   "metadata": {},
   "outputs": [],
   "source": [
    "mfccs_train_aug, labels_train_aug = compute_mfccs_augmentation(samples_train, labels_train)"
   ]
  },
  {
   "cell_type": "code",
   "execution_count": null,
   "id": "48af507a-0eaa-4f01-9a69-e5bb4ca375dd",
   "metadata": {},
   "outputs": [],
   "source": [
    "mfccs_train_aug.shape, labels_train_aug.shape"
   ]
  },
  {
   "cell_type": "markdown",
   "id": "c40a7539-25a8-45f2-9958-c0e44143f1d0",
   "metadata": {
    "jp-MarkdownHeadingCollapsed": true,
    "tags": []
   },
   "source": [
    "### Save features and labels"
   ]
  },
  {
   "cell_type": "code",
   "execution_count": null,
   "id": "4586f442-69d5-48e6-86a8-a120cf06d42c",
   "metadata": {},
   "outputs": [],
   "source": [
    "preprocess_path = \"/home/helemanc/Desktop/Binary_Model/pre-processed\"\n",
    "mfccs_aug_train_path = os.path.join(preprocess_path,\"mfccs_train_aug.pkl\")\n",
    "labels_aug_train_path = os.path.join(preprocess_path,\"labels_train_aug.pkl\")\n",
    "\n",
    "with open(mfccs_aug_train_path, 'wb') as f:\n",
    "        pickle.dump(mfccs_train_aug , f)\n",
    "        \n",
    "with open(labels_aug_train_path, 'wb') as f:\n",
    "        pickle.dump(labels_train_aug , f)"
   ]
  },
  {
   "cell_type": "markdown",
   "id": "b26c64a9-0b89-4c1c-ad88-04f9f3f8609d",
   "metadata": {
    "jupyter": {
     "source_hidden": true
    },
    "tags": []
   },
   "source": [
    "## Val"
   ]
  },
  {
   "cell_type": "markdown",
   "id": "ccd7fe4c-c665-43b8-955c-cd32120410fe",
   "metadata": {
    "tags": []
   },
   "source": [
    "### Load samples and labels"
   ]
  },
  {
   "cell_type": "code",
   "execution_count": 20,
   "id": "f3625426-503d-4e59-8e24-8df48f577a78",
   "metadata": {},
   "outputs": [
    {
     "name": "stderr",
     "output_type": "stream",
     "text": [
      "100%|███████████████████████████████████████| 120/120 [00:00<00:00, 1444.08it/s]\n"
     ]
    }
   ],
   "source": [
    "load_val = load_files(df_val)"
   ]
  },
  {
   "cell_type": "code",
   "execution_count": 21,
   "id": "49652253-f141-4a4f-a102-63760cfa3cf6",
   "metadata": {},
   "outputs": [],
   "source": [
    "samples_val = extract_samples(load_val)"
   ]
  },
  {
   "cell_type": "code",
   "execution_count": 22,
   "id": "b6dca4b2-fa87-4624-b6ae-01a64e423e51",
   "metadata": {
    "tags": []
   },
   "outputs": [],
   "source": [
    "labels_val = extract_labels(df_val)"
   ]
  },
  {
   "cell_type": "markdown",
   "id": "fd61ea35-913e-46ac-abce-3bab8431076f",
   "metadata": {},
   "source": [
    "### Cut and Pad "
   ]
  },
  {
   "cell_type": "code",
   "execution_count": 23,
   "id": "a4f84742-1a5c-4ca5-922f-260cf7e347e1",
   "metadata": {},
   "outputs": [],
   "source": [
    "samples_val, labels_val = cut_and_pad(samples_val, labels_val)"
   ]
  },
  {
   "cell_type": "code",
   "execution_count": 24,
   "id": "730c17d7-5109-4b0e-ad0a-30b78b9348b0",
   "metadata": {},
   "outputs": [
    {
     "name": "stdout",
     "output_type": "stream",
     "text": [
      "(120,) (120,)\n"
     ]
    }
   ],
   "source": [
    "samples_val = np.array(samples_val)\n",
    "labels_val = np.array(labels_val)\n",
    "print(samples_val.shape, labels_val.shape)"
   ]
  },
  {
   "cell_type": "markdown",
   "id": "d69d5f68-7a36-4956-9809-fa1fb149854b",
   "metadata": {},
   "source": [
    "### Feature Extraction"
   ]
  },
  {
   "cell_type": "code",
   "execution_count": 25,
   "id": "c2a7d907-ac5f-4486-b165-eb83ed54384b",
   "metadata": {},
   "outputs": [
    {
     "name": "stderr",
     "output_type": "stream",
     "text": [
      "100%|█████████████████████████████████████████| 120/120 [00:01<00:00, 63.51it/s]\n"
     ]
    }
   ],
   "source": [
    "mfccs_val = compute_mfccs(samples_val)"
   ]
  },
  {
   "cell_type": "code",
   "execution_count": 26,
   "id": "01047131-6aa4-4f5d-aaf4-89129dd781cd",
   "metadata": {},
   "outputs": [
    {
     "data": {
      "text/plain": [
       "(120, 248, 12)"
      ]
     },
     "execution_count": 26,
     "metadata": {},
     "output_type": "execute_result"
    }
   ],
   "source": [
    "mfccs_val.shape"
   ]
  },
  {
   "cell_type": "markdown",
   "id": "decc78ab-3f76-416c-a0ea-5ce8cf232ab2",
   "metadata": {},
   "source": [
    "### Save features and labels"
   ]
  },
  {
   "cell_type": "code",
   "execution_count": null,
   "id": "d180915f-2f21-495e-b61d-3a895613ab79",
   "metadata": {},
   "outputs": [],
   "source": [
    "preprocess_path = \"/home/helemanc/Desktop/Binary_Model/pre-processed\"\n",
    "mfccs_val_path = os.path.join(preprocess_path,\"mfccs_val.pkl\")\n",
    "labels_val_path = os.path.join(preprocess_path,\"labels_val.pkl\")\n",
    "\n",
    "with open(mfccs_val_path, 'wb') as f:\n",
    "        pickle.dump(mfccs_val , f)\n",
    "        \n",
    "with open(labels_val_path, 'wb') as f:\n",
    "        pickle.dump(labels_val , f)"
   ]
  },
  {
   "cell_type": "markdown",
   "id": "ef94cf56-d43e-4c41-a8ca-1124bac35b7e",
   "metadata": {},
   "source": [
    "## Test"
   ]
  },
  {
   "cell_type": "markdown",
   "id": "91accc11-b395-45c8-b0f4-9c81bcd47b08",
   "metadata": {
    "tags": []
   },
   "source": [
    "### Load samples and labels"
   ]
  },
  {
   "cell_type": "code",
   "execution_count": 27,
   "id": "b4ab274a-63cf-4b79-933e-d19baed143fd",
   "metadata": {},
   "outputs": [
    {
     "name": "stderr",
     "output_type": "stream",
     "text": [
      "100%|███████████████████████████████████████| 120/120 [00:00<00:00, 1936.55it/s]\n"
     ]
    }
   ],
   "source": [
    "load_test = load_files(df_test)"
   ]
  },
  {
   "cell_type": "code",
   "execution_count": 28,
   "id": "989f64d2-cf3f-463a-a35d-c624843b3b9a",
   "metadata": {},
   "outputs": [],
   "source": [
    "samples_test = extract_samples(load_test)"
   ]
  },
  {
   "cell_type": "code",
   "execution_count": 29,
   "id": "cc7eaf74-60a0-438c-a9aa-d23688bb2f67",
   "metadata": {
    "tags": []
   },
   "outputs": [],
   "source": [
    "labels_test = extract_labels(df_test)"
   ]
  },
  {
   "cell_type": "markdown",
   "id": "e7981556-056c-4fac-a303-9eecc21e3a58",
   "metadata": {},
   "source": [
    "### Cut and Pad "
   ]
  },
  {
   "cell_type": "code",
   "execution_count": 30,
   "id": "28993758-6566-4f6b-ab6d-188cb9759772",
   "metadata": {},
   "outputs": [],
   "source": [
    "samples_test, labels_test = cut_and_pad(samples_test, labels_test)"
   ]
  },
  {
   "cell_type": "code",
   "execution_count": 31,
   "id": "bb3842d5-f68e-4698-9059-7361369c1282",
   "metadata": {},
   "outputs": [
    {
     "name": "stdout",
     "output_type": "stream",
     "text": [
      "(120,) (120,)\n"
     ]
    }
   ],
   "source": [
    "samples_test = np.array(samples_test)\n",
    "labels_test = np.array(labels_test)\n",
    "print(samples_test.shape, labels_test.shape)"
   ]
  },
  {
   "cell_type": "markdown",
   "id": "0def5652-2060-4b08-bd38-5771c4dc5b70",
   "metadata": {},
   "source": [
    "### Feature Extraction"
   ]
  },
  {
   "cell_type": "code",
   "execution_count": 32,
   "id": "f8c80b1b-ae3e-43d7-85f1-b0d4eee2efb8",
   "metadata": {},
   "outputs": [
    {
     "name": "stderr",
     "output_type": "stream",
     "text": [
      "100%|█████████████████████████████████████████| 120/120 [00:01<00:00, 63.69it/s]\n"
     ]
    }
   ],
   "source": [
    "mfccs_test = compute_mfccs(samples_test)"
   ]
  },
  {
   "cell_type": "code",
   "execution_count": 33,
   "id": "95388da8-bae9-4b04-b594-c6e5dafc6656",
   "metadata": {},
   "outputs": [
    {
     "data": {
      "text/plain": [
       "(120, 248, 12)"
      ]
     },
     "execution_count": 33,
     "metadata": {},
     "output_type": "execute_result"
    }
   ],
   "source": [
    "mfccs_test.shape"
   ]
  },
  {
   "cell_type": "markdown",
   "id": "de1a9229-8e1d-464e-86e8-c5db39d9b7c4",
   "metadata": {},
   "source": [
    "### Save features and labels"
   ]
  },
  {
   "cell_type": "code",
   "execution_count": null,
   "id": "f2841177-9e11-481d-87a6-d5057bc25ac7",
   "metadata": {
    "jupyter": {
     "source_hidden": true
    },
    "tags": []
   },
   "outputs": [],
   "source": [
    "preprocess_path = \"/home/helemanc/Desktop/Binary_Model/pre-processed\"\n",
    "mfccs_test_path = os.path.join(preprocess_path,\"mfccs_test.pkl\")\n",
    "labels_test_path = os.path.join(preprocess_path,\"labels_test.pkl\")\n",
    "\n",
    "with open(mfccs_test_path, 'wb') as f:\n",
    "        pickle.dump(mfccs_test , f)\n",
    "        \n",
    "with open(labels_test_path, 'wb') as f:\n",
    "        pickle.dump(labels_test , f)"
   ]
  },
  {
   "cell_type": "markdown",
   "id": "7bf9db69-b623-43ce-9386-a2a79cd642df",
   "metadata": {
    "tags": []
   },
   "source": [
    "# Encode Labels - Binary "
   ]
  },
  {
   "cell_type": "code",
   "execution_count": 34,
   "id": "033620da-0a65-4f68-8c74-8cef2ae2ab9c",
   "metadata": {
    "tags": []
   },
   "outputs": [],
   "source": [
    "emotion_enc = {'fear':1, 'disgust':1, 'neutral':0, 'calm':0,  'happy':0, 'sadness':1, 'surprise':0, 'angry':1}"
   ]
  },
  {
   "cell_type": "code",
   "execution_count": 35,
   "id": "e1e2641d-44cb-4c3f-a58b-80f8956f39ad",
   "metadata": {},
   "outputs": [],
   "source": [
    "y_train = pd.Series(labels_train).replace(emotion_enc)\n",
    "y_val = pd.Series(labels_val).map(emotion_enc)\n",
    "y_test = pd.Series(labels_test).map(emotion_enc)\n",
    "#y_train_aug = pd.Series(labels_train_aug).map(emotion_enc)"
   ]
  },
  {
   "cell_type": "markdown",
   "id": "fb379a3d-0842-4a4d-90ed-3ee6c4c33fd0",
   "metadata": {},
   "source": [
    "# Train, Val, Test (X) "
   ]
  },
  {
   "cell_type": "code",
   "execution_count": 36,
   "id": "d713ae08-b9af-426c-af9e-5d9865eb7a0b",
   "metadata": {
    "tags": []
   },
   "outputs": [],
   "source": [
    "X_train = mfccs_train\n",
    "X_val = mfccs_val\n",
    "X_test = mfccs_test "
   ]
  },
  {
   "cell_type": "markdown",
   "id": "3aaff80f-c17f-4998-8e68-bcb672313258",
   "metadata": {
    "tags": []
   },
   "source": [
    "# Standard Scaling "
   ]
  },
  {
   "cell_type": "markdown",
   "id": "b20b39aa-5f92-4e4d-81e4-22cd046ff49a",
   "metadata": {},
   "source": [
    "## Without Augmentation"
   ]
  },
  {
   "cell_type": "code",
   "execution_count": 37,
   "id": "13f34579-5147-476b-bc6e-5bef90fb4010",
   "metadata": {
    "tags": []
   },
   "outputs": [],
   "source": [
    "from sklearn.preprocessing import StandardScaler\n",
    "scaler = StandardScaler()\n",
    "X_train = scaler.fit_transform(X_train.reshape(-1, X_train.shape[-1])).reshape(X_train.shape)\n",
    "X_test = scaler.transform(X_test.reshape(-1, X_test.shape[-1])).reshape(X_test.shape)\n",
    "X_val = scaler.transform(X_val.reshape(-1, X_val.shape[-1])).reshape(X_val.shape)"
   ]
  },
  {
   "cell_type": "markdown",
   "id": "6e7c5712-2f3a-4434-81ac-eaf317c7b537",
   "metadata": {},
   "source": [
    "## With Augmentation"
   ]
  },
  {
   "cell_type": "code",
   "execution_count": null,
   "id": "158dc5c6-d305-4f40-b440-2bdc8d0c2812",
   "metadata": {},
   "outputs": [],
   "source": [
    "X_train_aug = mfccs_train_aug\n",
    "y_train_aug = labels_train_aug\n",
    "X_val = mfccs_val\n",
    "X_test = mfccs_test "
   ]
  },
  {
   "cell_type": "code",
   "execution_count": null,
   "id": "79b22aec-7940-41a5-96ae-9a1efb4fc2ac",
   "metadata": {},
   "outputs": [],
   "source": [
    "from sklearn.preprocessing import StandardScaler\n",
    "scaler = StandardScaler()\n",
    "X_train_aug = scaler.fit_transform(X_train_aug.reshape(-1, X_train.shape[-1])).reshape(X_train_aug.shape)\n",
    "X_test = scaler.transform(X_test.reshape(-1, X_test.shape[-1])).reshape(X_test.shape)\n",
    "X_val = scaler.transform(X_val.reshape(-1, X_val.shape[-1])).reshape(X_val.shape)"
   ]
  },
  {
   "cell_type": "markdown",
   "id": "541d0b02-4453-4e02-b1f9-0750776749fb",
   "metadata": {
    "tags": []
   },
   "source": [
    "# Model "
   ]
  },
  {
   "cell_type": "code",
   "execution_count": null,
   "id": "5897772f-9c69-4d97-ace8-930170acbfe9",
   "metadata": {},
   "outputs": [],
   "source": [
    "model = Sequential()\n",
    "\n",
    "model.add(layers.Conv1D(256, 5,padding='same',\n",
    "                 input_shape=(248,12), kernel_initializer=tf.keras.initializers.HeNormal(seed=0)))\n",
    "model.add(layers.Activation('relu'))\n",
    "model.add(layers.MaxPooling1D(pool_size=(4)))\n",
    "model.add(layers.Dropout(0.6))\n",
    "\n",
    "model.add(layers.Conv1D(128, 5,padding='same', kernel_initializer=tf.keras.initializers.HeNormal(seed=0)))\n",
    "model.add(layers.Activation('relu'))\n",
    "model.add(layers.MaxPooling1D(pool_size=(4)))\n",
    "model.add(layers.Dropout(0.5))\n",
    "\n",
    "model.add(layers.Flatten())\n",
    "model.add(layers.Dense(64,  kernel_initializer=tf.keras.initializers.HeNormal(seed=0)))\n",
    "model.add(layers.Dense(1))\n",
    "model.add(layers.Activation('sigmoid'))\n",
    "\n",
    "model.summary()"
   ]
  },
  {
   "cell_type": "code",
   "execution_count": null,
   "id": "1e1afc53-5cd6-4994-bc46-2a60366301e5",
   "metadata": {},
   "outputs": [],
   "source": []
  },
  {
   "cell_type": "markdown",
   "id": "bbe6e722-c99b-425a-b04c-4a14822cd33c",
   "metadata": {},
   "source": [
    "# Training"
   ]
  },
  {
   "cell_type": "markdown",
   "id": "4dc60146-19a7-4846-b7dc-abe31b49a7e2",
   "metadata": {
    "tags": []
   },
   "source": [
    "## Without Augmentation"
   ]
  },
  {
   "cell_type": "markdown",
   "id": "c82c516e-9dc8-4277-87ce-6d28f91e1deb",
   "metadata": {
    "tags": []
   },
   "source": [
    "### Load Data"
   ]
  },
  {
   "cell_type": "code",
   "execution_count": null,
   "id": "9fc747e7-4e79-4131-b576-7ab743e06d6e",
   "metadata": {},
   "outputs": [],
   "source": [
    "'''\n",
    "X_train = pickle.load(open( \"/home/helemanc/Desktop/Binary_Model/data_model/X_train.pkl\", 'rb'))\n",
    "X_val = pickle.load(open( \"/home/helemanc/Desktop/Binary_Model/data_model/X_val.pkl\", 'rb'))\n",
    "X_test = pickle.load(open( \"/home/helemanc/Desktop/Binary_Model/data_model/X_test.pkl\", 'rb'))\n",
    "y_train = pickle.load(open( \"/home/helemanc/Desktop/Binary_Model/data_model/y_train.pkl\", 'rb'))\n",
    "y_val = pickle.load(open( \"/home/helemanc/Desktop/Binary_Model/data_model/y_val.pkl\", 'rb'))\n",
    "y_test =  pickle.load(open( \"/home/helemanc/Desktop/Binary_Model/data_model/y_test.pkl\", 'rb'))\n",
    "'''"
   ]
  },
  {
   "cell_type": "code",
   "execution_count": null,
   "id": "4e793180-bfb5-4f13-80f6-89257589f1fa",
   "metadata": {},
   "outputs": [],
   "source": [
    "from sklearn.utils import shuffle\n",
    "X_train, y_train = shuffle(X_train, y_train)"
   ]
  },
  {
   "cell_type": "code",
   "execution_count": null,
   "id": "2db3b5a6-55b7-4d16-8208-880232df8380",
   "metadata": {},
   "outputs": [],
   "source": [
    "weight_path = \"/home/helemanc/Desktop/Binary_Model/weights/binary_model_l1l2.hdf5\"\n",
    "\n",
    "reduce_lr = tf.keras.callbacks.ReduceLROnPlateau(monitor='val_accuracy', \n",
    "                                                 factor=0.5, patience=4, \n",
    "                                                 verbose=1, mode='max', \n",
    "                                                 min_lr=0.00001)\n",
    "\n",
    "early_stop = tf.keras.callbacks.EarlyStopping(monitor='val_loss', patience=45, \n",
    "                                              verbose=1)\n",
    "\n",
    "model_checkpoint = tf.keras.callbacks.ModelCheckpoint(filepath=weight_path, \n",
    "                                                      save_weights_only=True, \n",
    "                                                      monitor='val_accuracy', \n",
    "                                                      mode='max', \n",
    "                                                      save_best_only=True)\n",
    "# classweight \n",
    "from sklearn.utils import class_weight\n",
    "class_weights = class_weight.compute_class_weight('balanced', np.unique(y_train), y_train)\n",
    "class_weights = {l:c for l,c in zip(np.unique(y_train), class_weights)}\n"
   ]
  },
  {
   "cell_type": "code",
   "execution_count": null,
   "id": "a6127f7b-a868-4ae6-9d66-1fea47ab9491",
   "metadata": {},
   "outputs": [],
   "source": [
    "model.compile(loss='binary_crossentropy', optimizer=\"adam\", metrics='accuracy')"
   ]
  },
  {
   "cell_type": "markdown",
   "id": "cd3948d0-f583-47f7-99db-c4a125ce7889",
   "metadata": {},
   "source": [
    "### Train"
   ]
  },
  {
   "cell_type": "code",
   "execution_count": null,
   "id": "09e089f4-a0d8-487c-92e2-7d0d9970a542",
   "metadata": {
    "tags": []
   },
   "outputs": [],
   "source": [
    "history = model.fit(X_train, y_train, batch_size=4, epochs=500, validation_data=(X_val, y_val),\n",
    "           callbacks=[reduce_lr, early_stop, model_checkpoint], class_weight = class_weights)"
   ]
  },
  {
   "cell_type": "markdown",
   "id": "b06d8fcd-fc44-4ba0-935d-b2b91276614d",
   "metadata": {},
   "source": [
    "### Plot Training Graphs"
   ]
  },
  {
   "cell_type": "code",
   "execution_count": null,
   "id": "c6d11927-b7a5-4174-b835-9416b71fd183",
   "metadata": {},
   "outputs": [],
   "source": [
    "plt.plot(history.history['loss'])\n",
    "plt.plot(history.history['val_loss'])\n",
    "plt.title('model loss')\n",
    "plt.ylabel('loss')\n",
    "plt.xlabel('epoch')\n",
    "plt.legend(['train', 'val'], loc='upper left')\n",
    "plt.show()"
   ]
  },
  {
   "cell_type": "code",
   "execution_count": null,
   "id": "66b6cbdf-b3ff-4160-a1cf-2b047cedce39",
   "metadata": {},
   "outputs": [],
   "source": [
    "plt.plot(history.history['accuracy'])\n",
    "plt.plot(history.history['val_accuracy'])\n",
    "plt.title('model accuracy')\n",
    "plt.ylabel('acc')\n",
    "plt.xlabel('epoch')\n",
    "plt.legend(['train', 'val'], loc='upper left')\n",
    "plt.show()"
   ]
  },
  {
   "cell_type": "markdown",
   "id": "9902ea86-f5fa-4031-baf1-7fb018d03c33",
   "metadata": {},
   "source": [
    "### Save Model"
   ]
  },
  {
   "cell_type": "code",
   "execution_count": null,
   "id": "e4e42100-fd2b-4923-9fe3-8c5d5dac473e",
   "metadata": {},
   "outputs": [],
   "source": [
    "model.save(\"/home/helemanc/Desktop/Binary_Model/models/binary_model_ravdess_13_83\")"
   ]
  },
  {
   "cell_type": "markdown",
   "id": "7c7430fd-ff21-43f2-b88f-bc98bc4c5047",
   "metadata": {},
   "source": [
    "### Evaluate Model"
   ]
  },
  {
   "cell_type": "code",
   "execution_count": null,
   "id": "9b50c2c0-361c-4d15-9aa2-ddaeafef0136",
   "metadata": {},
   "outputs": [],
   "source": [
    "model_loaded = tf.keras.models.load_model(\"/home/helemanc/Desktop/Binary_Model/models/binary_model\")"
   ]
  },
  {
   "cell_type": "code",
   "execution_count": null,
   "id": "cc638158-a06d-491a-a7c4-c91b0de1364d",
   "metadata": {},
   "outputs": [],
   "source": [
    "model.evaluate(X_test, y_test, batch_size=8)"
   ]
  },
  {
   "cell_type": "code",
   "execution_count": null,
   "id": "3ff0ce1c-eddc-4964-a2b7-9e6fd77d1a59",
   "metadata": {
    "tags": []
   },
   "outputs": [],
   "source": [
    "from sklearn.metrics import classification_report\n",
    "predictions = model.predict(X_test)\n",
    "pred = [1 * (x[0]>=0.50) for x in predictions] #0.5 o 0.52? \n",
    "print(classification_report(y_test, pred))"
   ]
  },
  {
   "cell_type": "markdown",
   "id": "cbd069f6-6cc7-4020-8b88-c4f481ed05d7",
   "metadata": {
    "tags": []
   },
   "source": [
    "## With Augmentation"
   ]
  },
  {
   "cell_type": "markdown",
   "id": "38d93b04-205c-48dd-a78b-c7face831d7d",
   "metadata": {
    "tags": []
   },
   "source": [
    "### Load Data"
   ]
  },
  {
   "cell_type": "code",
   "execution_count": null,
   "id": "ddf085e6-9c7e-4525-8792-856d8b4656cf",
   "metadata": {},
   "outputs": [],
   "source": [
    "'''\n",
    "X_train_aug = pickle.load(open( \"/home/helemanc/Desktop/Binary_Model/data_model_augmented/X_train_aug.pkl\", 'rb'))\n",
    "X_val = pickle.load(open( \"/home/helemanc/Desktop/Binary_Model/data_model_augmented/X_val.pkl\", 'rb'))\n",
    "X_test = pickle.load(open( \"/home/helemanc/Desktop/Binary_Model/data_model_augmented/X_test.pkl\", 'rb'))\n",
    "y_train_aug = pickle.load(open( \"/home/helemanc/Desktop/Binary_Model/data_model_augmented/y_train_aug.pkl\", 'rb'))\n",
    "y_val = pickle.load(open( \"/home/helemanc/Desktop/Binary_Model/data_model_augmented/y_val.pkl\", 'rb'))\n",
    "y_test =  pickle.load(open( \"/home/helemanc/Desktop/Binary_Model/data_model_augmented/y_test.pkl\", 'rb'))\n",
    "'''"
   ]
  },
  {
   "cell_type": "code",
   "execution_count": null,
   "id": "8f54bff1-0e6b-43f7-9066-47c1bdaa19bf",
   "metadata": {},
   "outputs": [],
   "source": [
    "X_train_aug = mfccs_train_aug\n",
    "y_train_aug = labels_train_aug "
   ]
  },
  {
   "cell_type": "code",
   "execution_count": null,
   "id": "9a587e39-bfd0-431f-a1df-9339bb881dda",
   "metadata": {},
   "outputs": [],
   "source": [
    "from sklearn.utils import shuffle\n",
    "X_train_aug, y_train_aug = shuffle(X_train_aug, y_train_aug)"
   ]
  },
  {
   "cell_type": "code",
   "execution_count": null,
   "id": "e7c6bb10-f057-487b-811c-a4397eef0ea2",
   "metadata": {},
   "outputs": [],
   "source": [
    "(unique, counts) = np.unique(y_train_aug, return_counts=True)\n",
    "frequencies = np.asarray((unique, counts)).T\n",
    "print(frequencies)"
   ]
  },
  {
   "cell_type": "code",
   "execution_count": null,
   "id": "090153cb-4377-4e6d-a5ff-26922ad4aedb",
   "metadata": {},
   "outputs": [],
   "source": [
    "weight_path = \"/home/helemanc/Desktop/Binary_Model/weights/binary_model_augmented.hdf5\"\n",
    "\n",
    "reduce_lr = tf.keras.callbacks.ReduceLROnPlateau(monitor='val_accuracy', \n",
    "                                                 factor=0.5, patience=4, \n",
    "                                                 verbose=1, mode='max', \n",
    "                                                 min_lr=0.00001)\n",
    "\n",
    "early_stop = tf.keras.callbacks.EarlyStopping(monitor='val_loss', patience=45, \n",
    "                                              verbose=1)\n",
    "\n",
    "model_checkpoint = tf.keras.callbacks.ModelCheckpoint(filepath=weight_path, \n",
    "                                                      save_weights_only=True, \n",
    "                                                      monitor='val_accuracy', \n",
    "                                                      mode='max', \n",
    "                                                      save_best_only=True)\n",
    "# classweight \n",
    "from sklearn.utils import class_weight\n",
    "class_weights = class_weight.compute_class_weight('balanced', np.unique(y_train_aug), y_train_aug)\n",
    "class_weights = {l:c for l,c in zip(np.unique(y_train_aug), class_weights)}\n"
   ]
  },
  {
   "cell_type": "code",
   "execution_count": null,
   "id": "91feafaa-e4e7-43b8-ac31-ed6e55fc74ca",
   "metadata": {},
   "outputs": [],
   "source": [
    "model.compile(loss='binary_crossentropy', optimizer='adam', metrics='accuracy')"
   ]
  },
  {
   "cell_type": "markdown",
   "id": "8405767e-0736-4031-891b-f05f21867afa",
   "metadata": {},
   "source": [
    "### Train"
   ]
  },
  {
   "cell_type": "code",
   "execution_count": null,
   "id": "ea910a2c-757c-4a73-b0c1-b043aaf4efad",
   "metadata": {},
   "outputs": [],
   "source": [
    "history = model.fit(X_train_aug, y_train_aug, batch_size=16, epochs=500, validation_data=(X_val, y_val),\n",
    "           callbacks=[reduce_lr, early_stop, model_checkpoint], class_weight = class_weights)\n"
   ]
  },
  {
   "cell_type": "markdown",
   "id": "f5c24e5d-8891-498c-bcd9-7b526f9e51de",
   "metadata": {},
   "source": [
    "### Plot Training Graphs"
   ]
  },
  {
   "cell_type": "code",
   "execution_count": null,
   "id": "e278ace7-a025-4894-966f-f0301cfbfc3d",
   "metadata": {},
   "outputs": [],
   "source": [
    "plt.plot(history.history['loss'])\n",
    "plt.plot(history.history['val_loss'])\n",
    "plt.title('model loss')\n",
    "plt.ylabel('loss')\n",
    "plt.xlabel('epoch')\n",
    "plt.legend(['train', 'val'], loc='upper left')\n",
    "plt.show()"
   ]
  },
  {
   "cell_type": "code",
   "execution_count": null,
   "id": "3b1d831d-3632-4240-a2ed-ac60124f82cf",
   "metadata": {},
   "outputs": [],
   "source": [
    "plt.plot(history.history['accuracy'])\n",
    "plt.plot(history.history['val_accuracy'])\n",
    "plt.title('model accuracy')\n",
    "plt.ylabel('acc')\n",
    "plt.xlabel('epoch')\n",
    "plt.legend(['train', 'val'], loc='upper left')\n",
    "plt.show()"
   ]
  },
  {
   "cell_type": "markdown",
   "id": "fec59dd4-6e4b-44fc-afbf-f09ffa2374ff",
   "metadata": {},
   "source": [
    "### Save Model"
   ]
  },
  {
   "cell_type": "code",
   "execution_count": null,
   "id": "bc74328f-fdbd-4ef3-bdc0-1b5fdb44c737",
   "metadata": {},
   "outputs": [],
   "source": [
    "model.save(\"/home/helemanc/Desktop/Binary_Model/models/binary_model_aug\")"
   ]
  },
  {
   "cell_type": "markdown",
   "id": "d831e388-68c5-45b0-ad29-f94270ae6e39",
   "metadata": {},
   "source": [
    "### Evaluate Model"
   ]
  },
  {
   "cell_type": "code",
   "execution_count": null,
   "id": "68048831-593c-40ed-a724-b88be0673b7e",
   "metadata": {},
   "outputs": [],
   "source": [
    "model_loaded = tf.keras.models.load_model(\"/home/helemanc/Desktop/Binary_Model/models/binary_model_aug\")"
   ]
  },
  {
   "cell_type": "code",
   "execution_count": null,
   "id": "73f28c88-f0ad-4e6a-8d25-877624f7966d",
   "metadata": {},
   "outputs": [],
   "source": [
    "model_loaded.evaluate(X_test, y_test, batch_size=16)"
   ]
  },
  {
   "cell_type": "code",
   "execution_count": null,
   "id": "25083521-a762-4edd-9180-88134d6fbb3c",
   "metadata": {
    "tags": []
   },
   "outputs": [],
   "source": [
    "from sklearn.metrics import classification_report\n",
    "predictions = model_loaded.predict(X_test)\n",
    "pred = [1 * (x[0]>=0.50) for x in predictions] #0.5 o 0.52? \n",
    "print(classification_report(y_test, pred))"
   ]
  },
  {
   "cell_type": "markdown",
   "id": "02035b92-9fcb-4d3e-8557-1520a7714147",
   "metadata": {},
   "source": [
    "# Hyprparameter optimization "
   ]
  },
  {
   "cell_type": "code",
   "execution_count": 38,
   "id": "938b67dd-19d6-477c-b218-f929d969589e",
   "metadata": {},
   "outputs": [],
   "source": [
    "def create_model(optimizer='adam', init_mode='glorot_uniform'):\n",
    "    model = Sequential()\n",
    "\n",
    "    model.add(layers.Conv1D(256, 5,padding='same',\n",
    "                     input_shape=(248,12), kernel_initializer=tf.keras.initializers.HeNormal(seed=0)))\n",
    "    model.add(layers.Activation('relu'))\n",
    "    model.add(layers.MaxPooling1D(pool_size=(4)))\n",
    "    model.add(layers.Dropout(0.6))\n",
    "\n",
    "    model.add(layers.Conv1D(128, 5,padding='same', kernel_initializer=tf.keras.initializers.HeNormal(seed=0)))\n",
    "    model.add(layers.Activation('relu'))\n",
    "    model.add(layers.MaxPooling1D(pool_size=(4)))\n",
    "    model.add(layers.Dropout(0.5))\n",
    "\n",
    "    model.add(layers.Flatten())\n",
    "    model.add(layers.Dense(64,  kernel_initializer=tf.keras.initializers.HeNormal(seed=0)))\n",
    "    model.add(layers.Dense(1))\n",
    "    model.add(layers.Activation('sigmoid'))\n",
    "    \n",
    "    # compile model\n",
    "    model.compile(loss='binary_crossentropy', \n",
    "                  optimizer=optimizer, \n",
    "                  metrics=['accuracy'])\n",
    "    return model"
   ]
  },
  {
   "cell_type": "code",
   "execution_count": 39,
   "id": "e8788f22-ca37-416c-b481-99951eb043b3",
   "metadata": {},
   "outputs": [],
   "source": [
    "from sklearn.utils import shuffle\n",
    "X_train, y_train = shuffle(X_train, y_train)"
   ]
  },
  {
   "cell_type": "markdown",
   "id": "17bca155-5ba0-41a8-a4c5-e75a780f6f9d",
   "metadata": {},
   "source": [
    "## Initializer"
   ]
  },
  {
   "cell_type": "code",
   "execution_count": 40,
   "id": "16795acb-db51-4167-ae77-5339707efc0b",
   "metadata": {
    "tags": []
   },
   "outputs": [],
   "source": [
    "weight_path = \"/home/helemanc/Desktop/Binary_Model/weights/binary_model_l1l2.hdf5\"\n",
    "\n",
    "reduce_lr = tf.keras.callbacks.ReduceLROnPlateau(monitor='accuracy', \n",
    "                                                 factor=0.5, patience=4, \n",
    "                                                 verbose=1, mode='max', \n",
    "                                                 min_lr=0.00001)\n",
    "\n",
    "early_stop = tf.keras.callbacks.EarlyStopping(monitor='loss', patience=45, \n",
    "                                              verbose=1)\n",
    "\n",
    "model_checkpoint = tf.keras.callbacks.ModelCheckpoint(filepath=weight_path, \n",
    "                                                      save_weights_only=True, \n",
    "                                                      monitor='val_accuracy', \n",
    "                                                      mode='max', \n",
    "                                                      save_best_only=True)\n",
    "# classweight \n",
    "from sklearn.utils import class_weight\n",
    "class_weights = class_weight.compute_class_weight('balanced', np.unique(y_train), y_train)\n",
    "class_weights = {l:c for l,c in zip(np.unique(y_train), class_weights)}\n"
   ]
  },
  {
   "cell_type": "code",
   "execution_count": null,
   "id": "f54f8cc0-f2f7-4b50-81ac-ba0c18ac6259",
   "metadata": {
    "tags": []
   },
   "outputs": [],
   "source": [
    "%%time\n",
    "from sklearn.model_selection import RandomizedSearchCV\n",
    "from sklearn.model_selection import KFold\n",
    "#import tensorflow as tf \n",
    "#from tf.keras.wrappers.scikit_learn import KerasClassifier\n",
    "\n",
    "seed = 7\n",
    "np.random.seed(seed)\n",
    "batch_size = 4\n",
    "epochs = 30\n",
    "\n",
    "model_CV = tf.keras.wrappers.scikit_learn.KerasClassifier(build_fn=create_model, epochs=epochs, \n",
    "                           batch_size=batch_size, verbose=2)\n",
    "# define the grid search parameters\n",
    "init_mode = ['uniform', 'lecun_uniform', 'normal', 'zero', \n",
    "             'glorot_normal', 'glorot_uniform', 'he_normal', 'he_uniform']\n",
    "\n",
    "param_grid = dict(init_mode=init_mode)\n",
    "grid = RandomizedSearchCV(estimator=model_CV, param_distributions=param_grid, n_jobs=-1, cv=KFold(3), verbose = 10 )\n",
    "grid_result = grid.fit(X_train, y_train, callbacks=[reduce_lr, early_stop], class_weight = class_weights)"
   ]
  },
  {
   "cell_type": "code",
   "execution_count": 44,
   "id": "9cf5b6d9-ced1-4df5-8c91-594f05f7aec3",
   "metadata": {},
   "outputs": [
    {
     "name": "stdout",
     "output_type": "stream",
     "text": [
      "Best Accuracy for 0.8583333293596903 using {'init_mode': 'zero'}\n",
      " mean=0.8492, std=0.02786 using {'init_mode': 'uniform'}\n",
      " mean=0.8417, std=0.02183 using {'init_mode': 'lecun_uniform'}\n",
      " mean=0.8467, std=0.01586 using {'init_mode': 'normal'}\n",
      " mean=0.8583, std=0.01477 using {'init_mode': 'zero'}\n",
      " mean=0.8483, std=0.0123 using {'init_mode': 'glorot_normal'}\n",
      " mean=0.8358, std=0.03859 using {'init_mode': 'glorot_uniform'}\n",
      " mean=0.8567, std=0.01359 using {'init_mode': 'he_normal'}\n",
      " mean=0.8467, std=0.01359 using {'init_mode': 'he_uniform'}\n"
     ]
    }
   ],
   "source": [
    "# print results\n",
    "print(f'Best Accuracy for {grid_result.best_score_} using {grid_result.best_params_}')\n",
    "means = grid_result.cv_results_['mean_test_score']\n",
    "stds = grid_result.cv_results_['std_test_score']\n",
    "params = grid_result.cv_results_['params']\n",
    "for mean, stdev, param in zip(means, stds, params):\n",
    "    print(f' mean={mean:.4}, std={stdev:.4} using {param}')"
   ]
  },
  {
   "cell_type": "markdown",
   "id": "36048e35-dd70-4379-b977-a2c37915b760",
   "metadata": {},
   "source": [
    "## Initializer, Batch Size, Learning Rate "
   ]
  },
  {
   "cell_type": "code",
   "execution_count": 75,
   "id": "fb4284eb-da83-4878-8169-259e1b23f86b",
   "metadata": {},
   "outputs": [],
   "source": [
    "def create_model( init_mode='glorot_uniform', lr = 0.001):\n",
    "    model = Sequential()\n",
    "\n",
    "    model.add(layers.Conv1D(256, 5,padding='same',\n",
    "                     input_shape=(248,12), kernel_initializer=init_mode))\n",
    "    model.add(layers.Activation('relu'))\n",
    "    model.add(layers.MaxPooling1D(pool_size=(4)))\n",
    "    model.add(layers.Dropout(0.6))\n",
    "\n",
    "    model.add(layers.Conv1D(128, 5,padding='same', kernel_initializer=init_mode))\n",
    "    model.add(layers.Activation('relu'))\n",
    "    model.add(layers.MaxPooling1D(pool_size=(4)))\n",
    "    model.add(layers.Dropout(0.5))\n",
    "\n",
    "    model.add(layers.Flatten())\n",
    "    model.add(layers.Dense(64, kernel_initializer=init_mode))\n",
    "    model.add(layers.Dense(1))\n",
    "    model.add(layers.Activation('sigmoid'))\n",
    "    \n",
    "    # compile model\n",
    "    model.compile(loss='binary_crossentropy', \n",
    "                  optimizer=Adam(lr = lr) , \n",
    "                  metrics=['accuracy'])\n",
    "    return model"
   ]
  },
  {
   "cell_type": "code",
   "execution_count": 77,
   "id": "9da2284d-8c5e-4508-9af8-add010bc7113",
   "metadata": {
    "tags": []
   },
   "outputs": [],
   "source": [
    "weight_path = \"/home/helemanc/Desktop/Binary_Model/weights/binary_model_l1l2.hdf5\"\n",
    "\n",
    "reduce_lr = tf.keras.callbacks.ReduceLROnPlateau(monitor='accuracy', \n",
    "                                                 factor=0.5, patience=4, \n",
    "                                                 verbose=1, mode='max', \n",
    "                                                 min_lr=0.000001)\n",
    "\n",
    "early_stop = tf.keras.callbacks.EarlyStopping(monitor='loss', patience=45, \n",
    "                                              verbose=1)\n",
    "\n",
    "model_checkpoint = tf.keras.callbacks.ModelCheckpoint(filepath=weight_path, \n",
    "                                                      save_weights_only=True, \n",
    "                                                      monitor='val_accuracy', \n",
    "                                                      mode='max', \n",
    "                                                      save_best_only=True)\n",
    "# classweight \n",
    "from sklearn.utils import class_weight\n",
    "class_weights = class_weight.compute_class_weight('balanced', np.unique(y_train), y_train)\n",
    "class_weights = {l:c for l,c in zip(np.unique(y_train), class_weights)}\n"
   ]
  },
  {
   "cell_type": "code",
   "execution_count": 78,
   "id": "1a744388-2b7a-41a0-ab85-a611a94e2cea",
   "metadata": {
    "tags": []
   },
   "outputs": [
    {
     "name": "stderr",
     "output_type": "stream",
     "text": [
      "2021-08-30 14:59:57.426678: W tensorflow/stream_executor/platform/default/dso_loader.cc:60] Could not load dynamic library 'libcudart.so.11.0'; dlerror: libcudart.so.11.0: cannot open shared object file: No such file or directory\n",
      "2021-08-30 14:59:57.426899: I tensorflow/stream_executor/cuda/cudart_stub.cc:29] Ignore above cudart dlerror if you do not have a GPU set up on your machine.\n",
      "2021-08-30 14:59:57.521660: W tensorflow/stream_executor/platform/default/dso_loader.cc:60] Could not load dynamic library 'libcudart.so.11.0'; dlerror: libcudart.so.11.0: cannot open shared object file: No such file or directory\n",
      "2021-08-30 14:59:57.521891: I tensorflow/stream_executor/cuda/cudart_stub.cc:29] Ignore above cudart dlerror if you do not have a GPU set up on your machine.\n",
      "2021-08-30 14:59:57.557426: W tensorflow/stream_executor/platform/default/dso_loader.cc:60] Could not load dynamic library 'libcudart.so.11.0'; dlerror: libcudart.so.11.0: cannot open shared object file: No such file or directory\n",
      "2021-08-30 14:59:57.557564: I tensorflow/stream_executor/cuda/cudart_stub.cc:29] Ignore above cudart dlerror if you do not have a GPU set up on your machine.\n",
      "2021-08-30 14:59:57.577950: W tensorflow/stream_executor/platform/default/dso_loader.cc:60] Could not load dynamic library 'libcudart.so.11.0'; dlerror: libcudart.so.11.0: cannot open shared object file: No such file or directory\n",
      "2021-08-30 14:59:57.578104: I tensorflow/stream_executor/cuda/cudart_stub.cc:29] Ignore above cudart dlerror if you do not have a GPU set up on your machine.\n",
      "2021-08-30 14:59:57.598875: W tensorflow/stream_executor/platform/default/dso_loader.cc:60] Could not load dynamic library 'libcudart.so.11.0'; dlerror: libcudart.so.11.0: cannot open shared object file: No such file or directory\n",
      "2021-08-30 14:59:57.599003: I tensorflow/stream_executor/cuda/cudart_stub.cc:29] Ignore above cudart dlerror if you do not have a GPU set up on your machine.\n",
      "2021-08-30 14:59:57.692629: W tensorflow/stream_executor/platform/default/dso_loader.cc:60] Could not load dynamic library 'libcudart.so.11.0'; dlerror: libcudart.so.11.0: cannot open shared object file: No such file or directory\n",
      "2021-08-30 14:59:57.693023: I tensorflow/stream_executor/cuda/cudart_stub.cc:29] Ignore above cudart dlerror if you do not have a GPU set up on your machine.\n",
      "2021-08-30 14:59:57.763678: W tensorflow/stream_executor/platform/default/dso_loader.cc:60] Could not load dynamic library 'libcudart.so.11.0'; dlerror: libcudart.so.11.0: cannot open shared object file: No such file or directory\n",
      "2021-08-30 14:59:57.763811: I tensorflow/stream_executor/cuda/cudart_stub.cc:29] Ignore above cudart dlerror if you do not have a GPU set up on your machine.\n",
      "2021-08-30 14:59:57.774615: W tensorflow/stream_executor/platform/default/dso_loader.cc:60] Could not load dynamic library 'libcudart.so.11.0'; dlerror: libcudart.so.11.0: cannot open shared object file: No such file or directory\n",
      "2021-08-30 14:59:57.774753: I tensorflow/stream_executor/cuda/cudart_stub.cc:29] Ignore above cudart dlerror if you do not have a GPU set up on your machine.\n"
     ]
    },
    {
     "ename": "KeyboardInterrupt",
     "evalue": "",
     "output_type": "error",
     "traceback": [
      "\u001b[0;31m---------------------------------------------------------------------------\u001b[0m",
      "\u001b[0;31mKeyboardInterrupt\u001b[0m                         Traceback (most recent call last)",
      "\u001b[0;32m<timed exec>\u001b[0m in \u001b[0;36m<module>\u001b[0;34m\u001b[0m\n",
      "\u001b[0;32m/usr/local/lib/python3.8/dist-packages/scikit_learn-0.24.2-py3.8-linux-x86_64.egg/sklearn/utils/validation.py\u001b[0m in \u001b[0;36minner_f\u001b[0;34m(*args, **kwargs)\u001b[0m\n\u001b[1;32m     61\u001b[0m             \u001b[0mextra_args\u001b[0m \u001b[0;34m=\u001b[0m \u001b[0mlen\u001b[0m\u001b[0;34m(\u001b[0m\u001b[0margs\u001b[0m\u001b[0;34m)\u001b[0m \u001b[0;34m-\u001b[0m \u001b[0mlen\u001b[0m\u001b[0;34m(\u001b[0m\u001b[0mall_args\u001b[0m\u001b[0;34m)\u001b[0m\u001b[0;34m\u001b[0m\u001b[0;34m\u001b[0m\u001b[0m\n\u001b[1;32m     62\u001b[0m             \u001b[0;32mif\u001b[0m \u001b[0mextra_args\u001b[0m \u001b[0;34m<=\u001b[0m \u001b[0;36m0\u001b[0m\u001b[0;34m:\u001b[0m\u001b[0;34m\u001b[0m\u001b[0;34m\u001b[0m\u001b[0m\n\u001b[0;32m---> 63\u001b[0;31m                 \u001b[0;32mreturn\u001b[0m \u001b[0mf\u001b[0m\u001b[0;34m(\u001b[0m\u001b[0;34m*\u001b[0m\u001b[0margs\u001b[0m\u001b[0;34m,\u001b[0m \u001b[0;34m**\u001b[0m\u001b[0mkwargs\u001b[0m\u001b[0;34m)\u001b[0m\u001b[0;34m\u001b[0m\u001b[0;34m\u001b[0m\u001b[0m\n\u001b[0m\u001b[1;32m     64\u001b[0m \u001b[0;34m\u001b[0m\u001b[0m\n\u001b[1;32m     65\u001b[0m             \u001b[0;31m# extra_args > 0\u001b[0m\u001b[0;34m\u001b[0m\u001b[0;34m\u001b[0m\u001b[0;34m\u001b[0m\u001b[0m\n",
      "\u001b[0;32m/usr/local/lib/python3.8/dist-packages/scikit_learn-0.24.2-py3.8-linux-x86_64.egg/sklearn/model_selection/_search.py\u001b[0m in \u001b[0;36mfit\u001b[0;34m(self, X, y, groups, **fit_params)\u001b[0m\n\u001b[1;32m    839\u001b[0m                 \u001b[0;32mreturn\u001b[0m \u001b[0mresults\u001b[0m\u001b[0;34m\u001b[0m\u001b[0;34m\u001b[0m\u001b[0m\n\u001b[1;32m    840\u001b[0m \u001b[0;34m\u001b[0m\u001b[0m\n\u001b[0;32m--> 841\u001b[0;31m             \u001b[0mself\u001b[0m\u001b[0;34m.\u001b[0m\u001b[0m_run_search\u001b[0m\u001b[0;34m(\u001b[0m\u001b[0mevaluate_candidates\u001b[0m\u001b[0;34m)\u001b[0m\u001b[0;34m\u001b[0m\u001b[0;34m\u001b[0m\u001b[0m\n\u001b[0m\u001b[1;32m    842\u001b[0m \u001b[0;34m\u001b[0m\u001b[0m\n\u001b[1;32m    843\u001b[0m             \u001b[0;31m# multimetric is determined here because in the case of a callable\u001b[0m\u001b[0;34m\u001b[0m\u001b[0;34m\u001b[0m\u001b[0;34m\u001b[0m\u001b[0m\n",
      "\u001b[0;32m/usr/local/lib/python3.8/dist-packages/scikit_learn-0.24.2-py3.8-linux-x86_64.egg/sklearn/model_selection/_search.py\u001b[0m in \u001b[0;36m_run_search\u001b[0;34m(self, evaluate_candidates)\u001b[0m\n\u001b[1;32m   1631\u001b[0m     \u001b[0;32mdef\u001b[0m \u001b[0m_run_search\u001b[0m\u001b[0;34m(\u001b[0m\u001b[0mself\u001b[0m\u001b[0;34m,\u001b[0m \u001b[0mevaluate_candidates\u001b[0m\u001b[0;34m)\u001b[0m\u001b[0;34m:\u001b[0m\u001b[0;34m\u001b[0m\u001b[0;34m\u001b[0m\u001b[0m\n\u001b[1;32m   1632\u001b[0m         \u001b[0;34m\"\"\"Search n_iter candidates from param_distributions\"\"\"\u001b[0m\u001b[0;34m\u001b[0m\u001b[0;34m\u001b[0m\u001b[0m\n\u001b[0;32m-> 1633\u001b[0;31m         evaluate_candidates(ParameterSampler(\n\u001b[0m\u001b[1;32m   1634\u001b[0m             \u001b[0mself\u001b[0m\u001b[0;34m.\u001b[0m\u001b[0mparam_distributions\u001b[0m\u001b[0;34m,\u001b[0m \u001b[0mself\u001b[0m\u001b[0;34m.\u001b[0m\u001b[0mn_iter\u001b[0m\u001b[0;34m,\u001b[0m\u001b[0;34m\u001b[0m\u001b[0;34m\u001b[0m\u001b[0m\n\u001b[1;32m   1635\u001b[0m             random_state=self.random_state))\n",
      "\u001b[0;32m/usr/local/lib/python3.8/dist-packages/scikit_learn-0.24.2-py3.8-linux-x86_64.egg/sklearn/model_selection/_search.py\u001b[0m in \u001b[0;36mevaluate_candidates\u001b[0;34m(candidate_params, cv, more_results)\u001b[0m\n\u001b[1;32m    793\u001b[0m                               n_splits, n_candidates, n_candidates * n_splits))\n\u001b[1;32m    794\u001b[0m \u001b[0;34m\u001b[0m\u001b[0m\n\u001b[0;32m--> 795\u001b[0;31m                 out = parallel(delayed(_fit_and_score)(clone(base_estimator),\n\u001b[0m\u001b[1;32m    796\u001b[0m                                                        \u001b[0mX\u001b[0m\u001b[0;34m,\u001b[0m \u001b[0my\u001b[0m\u001b[0;34m,\u001b[0m\u001b[0;34m\u001b[0m\u001b[0;34m\u001b[0m\u001b[0m\n\u001b[1;32m    797\u001b[0m                                                        \u001b[0mtrain\u001b[0m\u001b[0;34m=\u001b[0m\u001b[0mtrain\u001b[0m\u001b[0;34m,\u001b[0m \u001b[0mtest\u001b[0m\u001b[0;34m=\u001b[0m\u001b[0mtest\u001b[0m\u001b[0;34m,\u001b[0m\u001b[0;34m\u001b[0m\u001b[0;34m\u001b[0m\u001b[0m\n",
      "\u001b[0;32m/usr/local/lib/python3.8/dist-packages/joblib-1.0.1-py3.8.egg/joblib/parallel.py\u001b[0m in \u001b[0;36m__call__\u001b[0;34m(self, iterable)\u001b[0m\n\u001b[1;32m   1052\u001b[0m \u001b[0;34m\u001b[0m\u001b[0m\n\u001b[1;32m   1053\u001b[0m             \u001b[0;32mwith\u001b[0m \u001b[0mself\u001b[0m\u001b[0;34m.\u001b[0m\u001b[0m_backend\u001b[0m\u001b[0;34m.\u001b[0m\u001b[0mretrieval_context\u001b[0m\u001b[0;34m(\u001b[0m\u001b[0;34m)\u001b[0m\u001b[0;34m:\u001b[0m\u001b[0;34m\u001b[0m\u001b[0;34m\u001b[0m\u001b[0m\n\u001b[0;32m-> 1054\u001b[0;31m                 \u001b[0mself\u001b[0m\u001b[0;34m.\u001b[0m\u001b[0mretrieve\u001b[0m\u001b[0;34m(\u001b[0m\u001b[0;34m)\u001b[0m\u001b[0;34m\u001b[0m\u001b[0;34m\u001b[0m\u001b[0m\n\u001b[0m\u001b[1;32m   1055\u001b[0m             \u001b[0;31m# Make sure that we get a last message telling us we are done\u001b[0m\u001b[0;34m\u001b[0m\u001b[0;34m\u001b[0m\u001b[0;34m\u001b[0m\u001b[0m\n\u001b[1;32m   1056\u001b[0m             \u001b[0melapsed_time\u001b[0m \u001b[0;34m=\u001b[0m \u001b[0mtime\u001b[0m\u001b[0;34m.\u001b[0m\u001b[0mtime\u001b[0m\u001b[0;34m(\u001b[0m\u001b[0;34m)\u001b[0m \u001b[0;34m-\u001b[0m \u001b[0mself\u001b[0m\u001b[0;34m.\u001b[0m\u001b[0m_start_time\u001b[0m\u001b[0;34m\u001b[0m\u001b[0;34m\u001b[0m\u001b[0m\n",
      "\u001b[0;32m/usr/local/lib/python3.8/dist-packages/joblib-1.0.1-py3.8.egg/joblib/parallel.py\u001b[0m in \u001b[0;36mretrieve\u001b[0;34m(self)\u001b[0m\n\u001b[1;32m    931\u001b[0m             \u001b[0;32mtry\u001b[0m\u001b[0;34m:\u001b[0m\u001b[0;34m\u001b[0m\u001b[0;34m\u001b[0m\u001b[0m\n\u001b[1;32m    932\u001b[0m                 \u001b[0;32mif\u001b[0m \u001b[0mgetattr\u001b[0m\u001b[0;34m(\u001b[0m\u001b[0mself\u001b[0m\u001b[0;34m.\u001b[0m\u001b[0m_backend\u001b[0m\u001b[0;34m,\u001b[0m \u001b[0;34m'supports_timeout'\u001b[0m\u001b[0;34m,\u001b[0m \u001b[0;32mFalse\u001b[0m\u001b[0;34m)\u001b[0m\u001b[0;34m:\u001b[0m\u001b[0;34m\u001b[0m\u001b[0;34m\u001b[0m\u001b[0m\n\u001b[0;32m--> 933\u001b[0;31m                     \u001b[0mself\u001b[0m\u001b[0;34m.\u001b[0m\u001b[0m_output\u001b[0m\u001b[0;34m.\u001b[0m\u001b[0mextend\u001b[0m\u001b[0;34m(\u001b[0m\u001b[0mjob\u001b[0m\u001b[0;34m.\u001b[0m\u001b[0mget\u001b[0m\u001b[0;34m(\u001b[0m\u001b[0mtimeout\u001b[0m\u001b[0;34m=\u001b[0m\u001b[0mself\u001b[0m\u001b[0;34m.\u001b[0m\u001b[0mtimeout\u001b[0m\u001b[0;34m)\u001b[0m\u001b[0;34m)\u001b[0m\u001b[0;34m\u001b[0m\u001b[0;34m\u001b[0m\u001b[0m\n\u001b[0m\u001b[1;32m    934\u001b[0m                 \u001b[0;32melse\u001b[0m\u001b[0;34m:\u001b[0m\u001b[0;34m\u001b[0m\u001b[0;34m\u001b[0m\u001b[0m\n\u001b[1;32m    935\u001b[0m                     \u001b[0mself\u001b[0m\u001b[0;34m.\u001b[0m\u001b[0m_output\u001b[0m\u001b[0;34m.\u001b[0m\u001b[0mextend\u001b[0m\u001b[0;34m(\u001b[0m\u001b[0mjob\u001b[0m\u001b[0;34m.\u001b[0m\u001b[0mget\u001b[0m\u001b[0;34m(\u001b[0m\u001b[0;34m)\u001b[0m\u001b[0;34m)\u001b[0m\u001b[0;34m\u001b[0m\u001b[0;34m\u001b[0m\u001b[0m\n",
      "\u001b[0;32m/usr/local/lib/python3.8/dist-packages/joblib-1.0.1-py3.8.egg/joblib/_parallel_backends.py\u001b[0m in \u001b[0;36mwrap_future_result\u001b[0;34m(future, timeout)\u001b[0m\n\u001b[1;32m    540\u001b[0m         AsyncResults.get from multiprocessing.\"\"\"\n\u001b[1;32m    541\u001b[0m         \u001b[0;32mtry\u001b[0m\u001b[0;34m:\u001b[0m\u001b[0;34m\u001b[0m\u001b[0;34m\u001b[0m\u001b[0m\n\u001b[0;32m--> 542\u001b[0;31m             \u001b[0;32mreturn\u001b[0m \u001b[0mfuture\u001b[0m\u001b[0;34m.\u001b[0m\u001b[0mresult\u001b[0m\u001b[0;34m(\u001b[0m\u001b[0mtimeout\u001b[0m\u001b[0;34m=\u001b[0m\u001b[0mtimeout\u001b[0m\u001b[0;34m)\u001b[0m\u001b[0;34m\u001b[0m\u001b[0;34m\u001b[0m\u001b[0m\n\u001b[0m\u001b[1;32m    543\u001b[0m         \u001b[0;32mexcept\u001b[0m \u001b[0mCfTimeoutError\u001b[0m \u001b[0;32mas\u001b[0m \u001b[0me\u001b[0m\u001b[0;34m:\u001b[0m\u001b[0;34m\u001b[0m\u001b[0;34m\u001b[0m\u001b[0m\n\u001b[1;32m    544\u001b[0m             \u001b[0;32mraise\u001b[0m \u001b[0mTimeoutError\u001b[0m \u001b[0;32mfrom\u001b[0m \u001b[0me\u001b[0m\u001b[0;34m\u001b[0m\u001b[0;34m\u001b[0m\u001b[0m\n",
      "\u001b[0;32m/usr/lib/python3.8/concurrent/futures/_base.py\u001b[0m in \u001b[0;36mresult\u001b[0;34m(self, timeout)\u001b[0m\n\u001b[1;32m    437\u001b[0m                     \u001b[0;32mreturn\u001b[0m \u001b[0mself\u001b[0m\u001b[0;34m.\u001b[0m\u001b[0m__get_result\u001b[0m\u001b[0;34m(\u001b[0m\u001b[0;34m)\u001b[0m\u001b[0;34m\u001b[0m\u001b[0;34m\u001b[0m\u001b[0m\n\u001b[1;32m    438\u001b[0m \u001b[0;34m\u001b[0m\u001b[0m\n\u001b[0;32m--> 439\u001b[0;31m                 \u001b[0mself\u001b[0m\u001b[0;34m.\u001b[0m\u001b[0m_condition\u001b[0m\u001b[0;34m.\u001b[0m\u001b[0mwait\u001b[0m\u001b[0;34m(\u001b[0m\u001b[0mtimeout\u001b[0m\u001b[0;34m)\u001b[0m\u001b[0;34m\u001b[0m\u001b[0;34m\u001b[0m\u001b[0m\n\u001b[0m\u001b[1;32m    440\u001b[0m \u001b[0;34m\u001b[0m\u001b[0m\n\u001b[1;32m    441\u001b[0m                 \u001b[0;32mif\u001b[0m \u001b[0mself\u001b[0m\u001b[0;34m.\u001b[0m\u001b[0m_state\u001b[0m \u001b[0;32min\u001b[0m \u001b[0;34m[\u001b[0m\u001b[0mCANCELLED\u001b[0m\u001b[0;34m,\u001b[0m \u001b[0mCANCELLED_AND_NOTIFIED\u001b[0m\u001b[0;34m]\u001b[0m\u001b[0;34m:\u001b[0m\u001b[0;34m\u001b[0m\u001b[0;34m\u001b[0m\u001b[0m\n",
      "\u001b[0;32m/usr/lib/python3.8/threading.py\u001b[0m in \u001b[0;36mwait\u001b[0;34m(self, timeout)\u001b[0m\n\u001b[1;32m    300\u001b[0m         \u001b[0;32mtry\u001b[0m\u001b[0;34m:\u001b[0m    \u001b[0;31m# restore state no matter what (e.g., KeyboardInterrupt)\u001b[0m\u001b[0;34m\u001b[0m\u001b[0;34m\u001b[0m\u001b[0m\n\u001b[1;32m    301\u001b[0m             \u001b[0;32mif\u001b[0m \u001b[0mtimeout\u001b[0m \u001b[0;32mis\u001b[0m \u001b[0;32mNone\u001b[0m\u001b[0;34m:\u001b[0m\u001b[0;34m\u001b[0m\u001b[0;34m\u001b[0m\u001b[0m\n\u001b[0;32m--> 302\u001b[0;31m                 \u001b[0mwaiter\u001b[0m\u001b[0;34m.\u001b[0m\u001b[0macquire\u001b[0m\u001b[0;34m(\u001b[0m\u001b[0;34m)\u001b[0m\u001b[0;34m\u001b[0m\u001b[0;34m\u001b[0m\u001b[0m\n\u001b[0m\u001b[1;32m    303\u001b[0m                 \u001b[0mgotit\u001b[0m \u001b[0;34m=\u001b[0m \u001b[0;32mTrue\u001b[0m\u001b[0;34m\u001b[0m\u001b[0;34m\u001b[0m\u001b[0m\n\u001b[1;32m    304\u001b[0m             \u001b[0;32melse\u001b[0m\u001b[0;34m:\u001b[0m\u001b[0;34m\u001b[0m\u001b[0;34m\u001b[0m\u001b[0m\n",
      "\u001b[0;31mKeyboardInterrupt\u001b[0m: "
     ]
    }
   ],
   "source": [
    "%%time\n",
    "from sklearn.model_selection import RandomizedSearchCV\n",
    "from sklearn.model_selection import KFold\n",
    "#import tensorflow as tf \n",
    "#from tf.keras.wrappers.scikit_learn import KerasClassifier\n",
    "\n",
    "seed = 7\n",
    "np.random.seed(seed)\n",
    "batch_size = 4\n",
    "epochs = 50\n",
    "\n",
    "model_CV = tf.keras.wrappers.scikit_learn.KerasClassifier(build_fn=create_model, epochs=epochs, \n",
    "                           batch_size=batch_size, verbose=2)\n",
    "# define the grid search parameters\n",
    "init_mode = ['uniform', 'lecun_uniform', 'glorot_uniform', 'glorot_normal']\n",
    "batches = [4,8,16]\n",
    "lr = [0.001, 0.0001, 0.00005]\n",
    "\n",
    "param_grid = dict(init_mode=init_mode, lr = lr, batch_size = batches)\n",
    "grid = RandomizedSearchCV(estimator=model_CV, param_distributions=param_grid, n_jobs=-1, cv=KFold(3))\n",
    "grid_result = grid.fit(X_train, y_train, callbacks=[reduce_lr, early_stop], class_weight = class_weights)"
   ]
  },
  {
   "cell_type": "code",
   "execution_count": 79,
   "id": "6fb898d1-7a68-4b05-8c5b-cf26b9536f3c",
   "metadata": {
    "tags": []
   },
   "outputs": [
    {
     "name": "stdout",
     "output_type": "stream",
     "text": [
      "Best Accuracy for 0.875 using {'lr': 0.001, 'init_mode': 'glorot_normal', 'batch_size': 4}\n",
      " mean=0.7508, std=0.002357 using {'lr': 5e-05, 'init_mode': 'glorot_uniform', 'batch_size': 16}\n",
      " mean=0.81, std=0.03048 using {'lr': 5e-05, 'init_mode': 'uniform', 'batch_size': 4}\n",
      " mean=0.8625, std=0.01947 using {'lr': 0.001, 'init_mode': 'uniform', 'batch_size': 16}\n",
      " mean=0.8425, std=0.01021 using {'lr': 0.0001, 'init_mode': 'uniform', 'batch_size': 4}\n",
      " mean=0.8692, std=0.01586 using {'lr': 0.001, 'init_mode': 'glorot_uniform', 'batch_size': 8}\n",
      " mean=0.8308, std=0.01961 using {'lr': 0.0001, 'init_mode': 'uniform', 'batch_size': 8}\n",
      " mean=0.875, std=0.005401 using {'lr': 0.001, 'init_mode': 'glorot_normal', 'batch_size': 4}\n",
      " mean=0.8467, std=0.01532 using {'lr': 0.001, 'init_mode': 'lecun_uniform', 'batch_size': 8}\n",
      " mean=0.8158, std=0.01027 using {'lr': 0.0001, 'init_mode': 'glorot_normal', 'batch_size': 8}\n",
      " mean=0.7808, std=0.006236 using {'lr': 5e-05, 'init_mode': 'lecun_uniform', 'batch_size': 4}\n"
     ]
    }
   ],
   "source": [
    "# print results\n",
    "print(f'Best Accuracy for {grid_result.best_score_} using {grid_result.best_params_}')\n",
    "means = grid_result.cv_results_['mean_test_score']\n",
    "stds = grid_result.cv_results_['std_test_score']\n",
    "params = grid_result.cv_results_['params']\n",
    "for mean, stdev, param in zip(means, stds, params):\n",
    "    print(f' mean={mean:.4}, std={stdev:.4} using {param}')"
   ]
  },
  {
   "cell_type": "markdown",
   "id": "82ba3df1-c978-4524-8d9e-d7aa178605a2",
   "metadata": {
    "jupyter": {
     "source_hidden": true
    },
    "tags": []
   },
   "source": [
    "## Train with best parameters"
   ]
  },
  {
   "cell_type": "code",
   "execution_count": 80,
   "id": "b502d2bd-7b38-4f2b-a61f-99b70743f3d0",
   "metadata": {},
   "outputs": [],
   "source": [
    "# Best Accuracy for 0.875 using {'lr': 0.001, 'init_mode': 'glorot_normal', 'batch_size': 4}\n",
    "def create_model( init_mode='glorot_normal', lr = 0.001):\n",
    "    model = Sequential()\n",
    "\n",
    "    model.add(layers.Conv1D(256, 5,padding='same',\n",
    "                     input_shape=(248,12), kernel_initializer=init_mode))\n",
    "    model.add(layers.Activation('relu'))\n",
    "    model.add(layers.MaxPooling1D(pool_size=(4)))\n",
    "    model.add(layers.Dropout(0.6))\n",
    "\n",
    "    model.add(layers.Conv1D(128, 5,padding='same', kernel_initializer=init_mode))\n",
    "    model.add(layers.Activation('relu'))\n",
    "    model.add(layers.MaxPooling1D(pool_size=(4)))\n",
    "    model.add(layers.Dropout(0.5))\n",
    "\n",
    "    model.add(layers.Flatten())\n",
    "    model.add(layers.Dense(64, kernel_initializer=init_mode))\n",
    "    model.add(layers.Dense(1))\n",
    "    model.add(layers.Activation('sigmoid'))\n",
    "    \n",
    "    # compile model\n",
    "    model.compile(loss='binary_crossentropy', \n",
    "                  optimizer=Adam(lr = lr) , \n",
    "                  metrics=['accuracy'])\n",
    "    return model"
   ]
  },
  {
   "cell_type": "code",
   "execution_count": 81,
   "id": "4ad4af7a-5d69-407e-b4fb-ff7bbc005690",
   "metadata": {
    "tags": []
   },
   "outputs": [],
   "source": [
    "seed = 7\n",
    "np.random.seed(seed)"
   ]
  },
  {
   "cell_type": "code",
   "execution_count": 82,
   "id": "4e2f9c19-7795-415f-9377-b8c564776f8b",
   "metadata": {},
   "outputs": [],
   "source": [
    "model = create_model()"
   ]
  },
  {
   "cell_type": "code",
   "execution_count": 83,
   "id": "0aa531b6-05e5-4fda-a634-d2c10e102495",
   "metadata": {
    "tags": []
   },
   "outputs": [
    {
     "name": "stdout",
     "output_type": "stream",
     "text": [
      "The tensorboard extension is already loaded. To reload it, use:\n",
      "  %reload_ext tensorboard\n"
     ]
    }
   ],
   "source": [
    "# Load the TensorBoard notebook extension\n",
    "%load_ext tensorboard"
   ]
  },
  {
   "cell_type": "code",
   "execution_count": 84,
   "id": "acaa34f2-76f8-4f01-9874-0cd3cd4050e9",
   "metadata": {},
   "outputs": [],
   "source": [
    "import datetime, os"
   ]
  },
  {
   "cell_type": "code",
   "execution_count": 85,
   "id": "73c16a67-180f-418c-8df1-356bf1f34b6e",
   "metadata": {},
   "outputs": [],
   "source": [
    "logdir = os.path.join(\"logs\", datetime.datetime.now().strftime(\"%Y%m%d-%H%M%S\"))"
   ]
  },
  {
   "cell_type": "code",
   "execution_count": 86,
   "id": "623bb759-5071-499c-bfae-4203c080ba14",
   "metadata": {
    "tags": []
   },
   "outputs": [
    {
     "name": "stderr",
     "output_type": "stream",
     "text": [
      "2021-08-30 15:00:38.329954: I tensorflow/core/profiler/lib/profiler_session.cc:136] Profiler session initializing.\n",
      "2021-08-30 15:00:38.329996: I tensorflow/core/profiler/lib/profiler_session.cc:155] Profiler session started.\n",
      "2021-08-30 15:00:38.330068: I tensorflow/core/profiler/lib/profiler_session.cc:172] Profiler session tear down.\n"
     ]
    }
   ],
   "source": [
    "tensorboard_callback = tf.keras.callbacks.TensorBoard(logdir, histogram_freq=1)"
   ]
  },
  {
   "cell_type": "code",
   "execution_count": 87,
   "id": "96226f6b-c207-4f63-bf9b-88961613f8b1",
   "metadata": {},
   "outputs": [],
   "source": [
    "reduce_lr = tf.keras.callbacks.ReduceLROnPlateau(monitor='accuracy', \n",
    "                                                 factor=0.5, patience=4, \n",
    "                                                 verbose=1, mode='max', \n",
    "                                                 min_lr=0.000001)\n",
    "\n",
    "early_stop = tf.keras.callbacks.EarlyStopping(monitor='loss', patience=45, \n",
    "                                              verbose=1, restore_best_weights = True )\n",
    "\n",
    "# classweight \n",
    "from sklearn.utils import class_weight\n",
    "class_weights = class_weight.compute_class_weight('balanced', np.unique(y_train), y_train)\n",
    "class_weights = {l:c for l,c in zip(np.unique(y_train), class_weights)}"
   ]
  },
  {
   "cell_type": "code",
   "execution_count": 88,
   "id": "2b274bba-95f7-439b-ba17-2df3ff4d51ca",
   "metadata": {},
   "outputs": [
    {
     "name": "stdout",
     "output_type": "stream",
     "text": [
      "Epoch 1/500\n",
      " 36/300 [==>...........................] - ETA: 1s - loss: 1.6310 - accuracy: 0.5188"
     ]
    },
    {
     "name": "stderr",
     "output_type": "stream",
     "text": [
      "2021-08-30 15:00:39.614299: I tensorflow/core/profiler/lib/profiler_session.cc:136] Profiler session initializing.\n",
      "2021-08-30 15:00:39.614322: I tensorflow/core/profiler/lib/profiler_session.cc:155] Profiler session started.\n",
      "2021-08-30 15:00:39.638071: I tensorflow/core/profiler/lib/profiler_session.cc:71] Profiler session collecting data.\n",
      "2021-08-30 15:00:39.638814: I tensorflow/core/profiler/lib/profiler_session.cc:172] Profiler session tear down.\n",
      "2021-08-30 15:00:39.640369: I tensorflow/core/profiler/rpc/client/save_profile.cc:137] Creating directory: logs/20210830-150037/train/plugins/profile/2021_08_30_15_00_39\n",
      "2021-08-30 15:00:39.641206: I tensorflow/core/profiler/rpc/client/save_profile.cc:143] Dumped gzipped tool data for trace.json.gz to logs/20210830-150037/train/plugins/profile/2021_08_30_15_00_39/helemanc-Latitude-5410.trace.json.gz\n",
      "2021-08-30 15:00:39.642316: I tensorflow/core/profiler/rpc/client/save_profile.cc:137] Creating directory: logs/20210830-150037/train/plugins/profile/2021_08_30_15_00_39\n",
      "2021-08-30 15:00:39.642375: I tensorflow/core/profiler/rpc/client/save_profile.cc:143] Dumped gzipped tool data for memory_profile.json.gz to logs/20210830-150037/train/plugins/profile/2021_08_30_15_00_39/helemanc-Latitude-5410.memory_profile.json.gz\n",
      "2021-08-30 15:00:39.642560: I tensorflow/core/profiler/rpc/client/capture_profile.cc:251] Creating directory: logs/20210830-150037/train/plugins/profile/2021_08_30_15_00_39Dumped tool data for xplane.pb to logs/20210830-150037/train/plugins/profile/2021_08_30_15_00_39/helemanc-Latitude-5410.xplane.pb\n",
      "Dumped tool data for overview_page.pb to logs/20210830-150037/train/plugins/profile/2021_08_30_15_00_39/helemanc-Latitude-5410.overview_page.pb\n",
      "Dumped tool data for input_pipeline.pb to logs/20210830-150037/train/plugins/profile/2021_08_30_15_00_39/helemanc-Latitude-5410.input_pipeline.pb\n",
      "Dumped tool data for tensorflow_stats.pb to logs/20210830-150037/train/plugins/profile/2021_08_30_15_00_39/helemanc-Latitude-5410.tensorflow_stats.pb\n",
      "Dumped tool data for kernel_stats.pb to logs/20210830-150037/train/plugins/profile/2021_08_30_15_00_39/helemanc-Latitude-5410.kernel_stats.pb\n",
      "\n"
     ]
    },
    {
     "name": "stdout",
     "output_type": "stream",
     "text": [
      "300/300 [==============================] - 2s 6ms/step - loss: 0.9858 - accuracy: 0.5598 - val_loss: 0.5874 - val_accuracy: 0.7000\n",
      "Epoch 2/500\n",
      "300/300 [==============================] - 1s 5ms/step - loss: 0.6549 - accuracy: 0.6359 - val_loss: 0.5850 - val_accuracy: 0.7417\n",
      "Epoch 3/500\n",
      "300/300 [==============================] - 1s 5ms/step - loss: 0.6241 - accuracy: 0.6656 - val_loss: 0.5521 - val_accuracy: 0.7167\n",
      "Epoch 4/500\n",
      "300/300 [==============================] - 1s 5ms/step - loss: 0.5639 - accuracy: 0.7090 - val_loss: 0.4857 - val_accuracy: 0.8000\n",
      "Epoch 5/500\n",
      "300/300 [==============================] - 2s 5ms/step - loss: 0.5592 - accuracy: 0.7289 - val_loss: 0.5110 - val_accuracy: 0.8083\n",
      "Epoch 6/500\n",
      "300/300 [==============================] - 1s 5ms/step - loss: 0.5287 - accuracy: 0.7204 - val_loss: 0.4807 - val_accuracy: 0.8083\n",
      "Epoch 7/500\n",
      "300/300 [==============================] - 2s 5ms/step - loss: 0.5368 - accuracy: 0.7081 - val_loss: 0.4465 - val_accuracy: 0.7667\n",
      "Epoch 8/500\n",
      "300/300 [==============================] - 1s 5ms/step - loss: 0.5196 - accuracy: 0.7458 - val_loss: 0.4293 - val_accuracy: 0.7667\n",
      "Epoch 9/500\n",
      "300/300 [==============================] - 1s 5ms/step - loss: 0.4460 - accuracy: 0.7824 - val_loss: 0.4040 - val_accuracy: 0.8167\n",
      "Epoch 10/500\n",
      "300/300 [==============================] - 1s 5ms/step - loss: 0.4521 - accuracy: 0.7780 - val_loss: 0.4875 - val_accuracy: 0.7667\n",
      "Epoch 11/500\n",
      "300/300 [==============================] - 1s 5ms/step - loss: 0.4505 - accuracy: 0.7961 - val_loss: 0.3900 - val_accuracy: 0.8417\n",
      "Epoch 12/500\n",
      "300/300 [==============================] - 1s 5ms/step - loss: 0.4254 - accuracy: 0.7979 - val_loss: 0.3701 - val_accuracy: 0.8333\n",
      "Epoch 13/500\n",
      "300/300 [==============================] - 1s 5ms/step - loss: 0.3840 - accuracy: 0.8135 - val_loss: 0.4168 - val_accuracy: 0.7917\n",
      "Epoch 14/500\n",
      "300/300 [==============================] - 1s 5ms/step - loss: 0.3623 - accuracy: 0.8429 - val_loss: 0.3731 - val_accuracy: 0.8417\n",
      "Epoch 15/500\n",
      "300/300 [==============================] - 1s 5ms/step - loss: 0.3854 - accuracy: 0.8274 - val_loss: 0.3767 - val_accuracy: 0.7833\n",
      "Epoch 16/500\n",
      "300/300 [==============================] - 1s 5ms/step - loss: 0.3714 - accuracy: 0.8399 - val_loss: 0.3817 - val_accuracy: 0.8583\n",
      "Epoch 17/500\n",
      "300/300 [==============================] - 1s 5ms/step - loss: 0.3453 - accuracy: 0.8524 - val_loss: 0.4340 - val_accuracy: 0.7917\n",
      "Epoch 18/500\n",
      "300/300 [==============================] - 1s 5ms/step - loss: 0.3117 - accuracy: 0.8483 - val_loss: 0.4456 - val_accuracy: 0.7667\n",
      "Epoch 19/500\n",
      "300/300 [==============================] - 1s 5ms/step - loss: 0.3177 - accuracy: 0.8579 - val_loss: 0.3392 - val_accuracy: 0.8417\n",
      "Epoch 20/500\n",
      "300/300 [==============================] - 2s 5ms/step - loss: 0.3358 - accuracy: 0.8432 - val_loss: 0.3455 - val_accuracy: 0.8500\n",
      "Epoch 21/500\n",
      "300/300 [==============================] - 2s 5ms/step - loss: 0.3012 - accuracy: 0.8525 - val_loss: 0.2887 - val_accuracy: 0.9000\n",
      "Epoch 22/500\n",
      "300/300 [==============================] - 1s 5ms/step - loss: 0.2887 - accuracy: 0.8799 - val_loss: 0.3653 - val_accuracy: 0.8500\n",
      "Epoch 23/500\n",
      "300/300 [==============================] - 1s 5ms/step - loss: 0.2910 - accuracy: 0.8765 - val_loss: 0.3137 - val_accuracy: 0.8833\n",
      "Epoch 24/500\n",
      "300/300 [==============================] - 1s 5ms/step - loss: 0.2921 - accuracy: 0.8757 - val_loss: 0.3244 - val_accuracy: 0.8583\n",
      "Epoch 25/500\n",
      "300/300 [==============================] - 1s 5ms/step - loss: 0.3194 - accuracy: 0.8839 - val_loss: 0.4058 - val_accuracy: 0.8000\n",
      "Epoch 26/500\n",
      "300/300 [==============================] - 2s 5ms/step - loss: 0.2885 - accuracy: 0.8587 - val_loss: 0.2882 - val_accuracy: 0.8583\n",
      "Epoch 27/500\n",
      "300/300 [==============================] - 1s 5ms/step - loss: 0.2749 - accuracy: 0.8772 - val_loss: 0.4148 - val_accuracy: 0.8167\n",
      "Epoch 28/500\n",
      "300/300 [==============================] - 1s 5ms/step - loss: 0.2434 - accuracy: 0.8928 - val_loss: 0.4090 - val_accuracy: 0.7917\n",
      "Epoch 29/500\n",
      "300/300 [==============================] - 1s 5ms/step - loss: 0.2632 - accuracy: 0.8888 - val_loss: 0.3549 - val_accuracy: 0.8333\n",
      "Epoch 30/500\n",
      "300/300 [==============================] - 1s 5ms/step - loss: 0.2242 - accuracy: 0.9005 - val_loss: 0.3292 - val_accuracy: 0.8667\n",
      "Epoch 31/500\n",
      "300/300 [==============================] - 1s 5ms/step - loss: 0.2379 - accuracy: 0.9000 - val_loss: 0.2894 - val_accuracy: 0.8917\n",
      "Epoch 32/500\n",
      "300/300 [==============================] - 1s 5ms/step - loss: 0.1928 - accuracy: 0.9288 - val_loss: 0.2863 - val_accuracy: 0.9000\n",
      "Epoch 33/500\n",
      "300/300 [==============================] - 2s 5ms/step - loss: 0.2111 - accuracy: 0.9075 - val_loss: 0.3066 - val_accuracy: 0.8583\n",
      "Epoch 34/500\n",
      "300/300 [==============================] - 2s 6ms/step - loss: 0.2352 - accuracy: 0.9095 - val_loss: 0.4028 - val_accuracy: 0.8167\n",
      "Epoch 35/500\n",
      "300/300 [==============================] - 2s 6ms/step - loss: 0.2327 - accuracy: 0.8955 - val_loss: 0.3102 - val_accuracy: 0.8500\n",
      "Epoch 36/500\n",
      "300/300 [==============================] - 1s 5ms/step - loss: 0.2204 - accuracy: 0.9101 - val_loss: 0.3864 - val_accuracy: 0.8000\n",
      "Epoch 37/500\n",
      "300/300 [==============================] - 1s 5ms/step - loss: 0.2212 - accuracy: 0.9170 - val_loss: 0.2836 - val_accuracy: 0.8833\n",
      "Epoch 38/500\n",
      "300/300 [==============================] - 1s 5ms/step - loss: 0.1948 - accuracy: 0.9167 - val_loss: 0.3584 - val_accuracy: 0.8250\n",
      "Epoch 39/500\n",
      "300/300 [==============================] - 2s 5ms/step - loss: 0.1836 - accuracy: 0.9315 - val_loss: 0.2576 - val_accuracy: 0.8750\n",
      "Epoch 40/500\n",
      "300/300 [==============================] - 2s 5ms/step - loss: 0.1703 - accuracy: 0.9317 - val_loss: 0.1986 - val_accuracy: 0.9083\n",
      "Epoch 41/500\n",
      "300/300 [==============================] - 1s 5ms/step - loss: 0.1974 - accuracy: 0.9118 - val_loss: 0.4399 - val_accuracy: 0.8167\n",
      "Epoch 42/500\n",
      "300/300 [==============================] - 1s 5ms/step - loss: 0.1519 - accuracy: 0.9452 - val_loss: 0.2324 - val_accuracy: 0.9000\n",
      "Epoch 43/500\n",
      "300/300 [==============================] - 1s 5ms/step - loss: 0.1676 - accuracy: 0.9334 - val_loss: 0.4380 - val_accuracy: 0.7917\n",
      "Epoch 44/500\n",
      "300/300 [==============================] - 1s 5ms/step - loss: 0.1757 - accuracy: 0.9269 - val_loss: 0.3418 - val_accuracy: 0.8417\n",
      "Epoch 45/500\n",
      "300/300 [==============================] - 1s 5ms/step - loss: 0.1543 - accuracy: 0.9381 - val_loss: 0.2563 - val_accuracy: 0.8667\n",
      "Epoch 46/500\n",
      "300/300 [==============================] - 1s 5ms/step - loss: 0.1406 - accuracy: 0.9433 - val_loss: 0.2522 - val_accuracy: 0.8833\n",
      "\n",
      "Epoch 00046: ReduceLROnPlateau reducing learning rate to 0.0005000000237487257.\n",
      "Epoch 47/500\n",
      "300/300 [==============================] - 1s 5ms/step - loss: 0.1401 - accuracy: 0.9394 - val_loss: 0.2731 - val_accuracy: 0.8750\n",
      "Epoch 48/500\n",
      "300/300 [==============================] - 1s 5ms/step - loss: 0.1330 - accuracy: 0.9427 - val_loss: 0.2044 - val_accuracy: 0.9083\n",
      "Epoch 49/500\n",
      "300/300 [==============================] - 1s 5ms/step - loss: 0.0916 - accuracy: 0.9590 - val_loss: 0.3049 - val_accuracy: 0.8500\n",
      "Epoch 50/500\n",
      "300/300 [==============================] - 1s 5ms/step - loss: 0.1322 - accuracy: 0.9525 - val_loss: 0.2641 - val_accuracy: 0.8833\n",
      "Epoch 51/500\n",
      "300/300 [==============================] - 1s 5ms/step - loss: 0.0816 - accuracy: 0.9692 - val_loss: 0.2423 - val_accuracy: 0.9083\n",
      "Epoch 52/500\n",
      "300/300 [==============================] - 1s 5ms/step - loss: 0.0783 - accuracy: 0.9672 - val_loss: 0.1812 - val_accuracy: 0.9250\n",
      "Epoch 53/500\n",
      "300/300 [==============================] - 1s 5ms/step - loss: 0.1293 - accuracy: 0.9513 - val_loss: 0.1776 - val_accuracy: 0.9333\n",
      "Epoch 54/500\n",
      "300/300 [==============================] - 1s 5ms/step - loss: 0.1018 - accuracy: 0.9576 - val_loss: 0.1890 - val_accuracy: 0.9000\n",
      "Epoch 55/500\n",
      "300/300 [==============================] - 2s 5ms/step - loss: 0.1274 - accuracy: 0.9489 - val_loss: 0.2297 - val_accuracy: 0.9000\n",
      "Epoch 56/500\n",
      "300/300 [==============================] - 1s 5ms/step - loss: 0.0962 - accuracy: 0.9689 - val_loss: 0.2219 - val_accuracy: 0.9167\n",
      "Epoch 57/500\n",
      "300/300 [==============================] - 1s 5ms/step - loss: 0.1000 - accuracy: 0.9676 - val_loss: 0.1862 - val_accuracy: 0.9250\n",
      "Epoch 58/500\n",
      "300/300 [==============================] - 2s 5ms/step - loss: 0.1246 - accuracy: 0.9446 - val_loss: 0.2708 - val_accuracy: 0.8667\n",
      "Epoch 59/500\n",
      "300/300 [==============================] - 2s 5ms/step - loss: 0.0659 - accuracy: 0.9763 - val_loss: 0.2463 - val_accuracy: 0.8833\n",
      "Epoch 60/500\n",
      "300/300 [==============================] - 2s 5ms/step - loss: 0.1447 - accuracy: 0.9458 - val_loss: 0.2053 - val_accuracy: 0.9083\n",
      "\n",
      "Epoch 00060: ReduceLROnPlateau reducing learning rate to 0.0002500000118743628.\n",
      "Epoch 61/500\n",
      "300/300 [==============================] - 1s 5ms/step - loss: 0.0665 - accuracy: 0.9813 - val_loss: 0.1954 - val_accuracy: 0.9167\n",
      "Epoch 62/500\n",
      "300/300 [==============================] - 1s 5ms/step - loss: 0.1153 - accuracy: 0.9669 - val_loss: 0.2206 - val_accuracy: 0.9083\n",
      "Epoch 63/500\n",
      "300/300 [==============================] - 2s 5ms/step - loss: 0.0762 - accuracy: 0.9641 - val_loss: 0.2384 - val_accuracy: 0.8833\n",
      "Epoch 64/500\n",
      "300/300 [==============================] - 1s 5ms/step - loss: 0.0714 - accuracy: 0.9714 - val_loss: 0.2103 - val_accuracy: 0.9000\n",
      "Epoch 65/500\n",
      "300/300 [==============================] - 2s 5ms/step - loss: 0.0572 - accuracy: 0.9761 - val_loss: 0.1934 - val_accuracy: 0.9250\n",
      "\n",
      "Epoch 00065: ReduceLROnPlateau reducing learning rate to 0.0001250000059371814.\n",
      "Epoch 66/500\n",
      "300/300 [==============================] - 1s 5ms/step - loss: 0.0501 - accuracy: 0.9839 - val_loss: 0.1632 - val_accuracy: 0.9333\n",
      "Epoch 67/500\n",
      "300/300 [==============================] - 2s 5ms/step - loss: 0.0548 - accuracy: 0.9793 - val_loss: 0.1751 - val_accuracy: 0.9250\n",
      "Epoch 68/500\n",
      "300/300 [==============================] - 2s 5ms/step - loss: 0.0638 - accuracy: 0.9697 - val_loss: 0.1470 - val_accuracy: 0.9417\n",
      "Epoch 69/500\n",
      "300/300 [==============================] - 1s 5ms/step - loss: 0.0752 - accuracy: 0.9750 - val_loss: 0.1662 - val_accuracy: 0.9333\n",
      "\n",
      "Epoch 00069: ReduceLROnPlateau reducing learning rate to 6.25000029685907e-05.\n",
      "Epoch 70/500\n",
      "300/300 [==============================] - 1s 5ms/step - loss: 0.0831 - accuracy: 0.9631 - val_loss: 0.1651 - val_accuracy: 0.9333\n",
      "Epoch 71/500\n",
      "300/300 [==============================] - 1s 5ms/step - loss: 0.0450 - accuracy: 0.9834 - val_loss: 0.1705 - val_accuracy: 0.9333\n",
      "Epoch 72/500\n",
      "300/300 [==============================] - 1s 5ms/step - loss: 0.0559 - accuracy: 0.9815 - val_loss: 0.1638 - val_accuracy: 0.9250\n",
      "Epoch 73/500\n",
      "300/300 [==============================] - 2s 5ms/step - loss: 0.0455 - accuracy: 0.9821 - val_loss: 0.1534 - val_accuracy: 0.9417\n",
      "\n",
      "Epoch 00073: ReduceLROnPlateau reducing learning rate to 3.125000148429535e-05.\n",
      "Epoch 74/500\n",
      "300/300 [==============================] - 2s 6ms/step - loss: 0.0560 - accuracy: 0.9759 - val_loss: 0.1629 - val_accuracy: 0.9333\n",
      "Epoch 75/500\n",
      "300/300 [==============================] - 2s 6ms/step - loss: 0.0526 - accuracy: 0.9763 - val_loss: 0.1694 - val_accuracy: 0.9333\n",
      "Epoch 76/500\n",
      "300/300 [==============================] - 2s 5ms/step - loss: 0.0417 - accuracy: 0.9886 - val_loss: 0.1686 - val_accuracy: 0.9333\n",
      "Epoch 77/500\n",
      "300/300 [==============================] - 1s 5ms/step - loss: 0.0515 - accuracy: 0.9788 - val_loss: 0.1624 - val_accuracy: 0.9417\n",
      "Epoch 78/500\n",
      "300/300 [==============================] - 2s 5ms/step - loss: 0.0545 - accuracy: 0.9700 - val_loss: 0.1799 - val_accuracy: 0.9167\n",
      "Epoch 79/500\n",
      "300/300 [==============================] - 2s 5ms/step - loss: 0.0526 - accuracy: 0.9812 - val_loss: 0.1631 - val_accuracy: 0.9250\n",
      "Epoch 80/500\n",
      "300/300 [==============================] - 2s 5ms/step - loss: 0.0482 - accuracy: 0.9823 - val_loss: 0.1589 - val_accuracy: 0.9333\n",
      "\n",
      "Epoch 00080: ReduceLROnPlateau reducing learning rate to 1.5625000742147677e-05.\n",
      "Epoch 81/500\n",
      "300/300 [==============================] - 2s 5ms/step - loss: 0.0581 - accuracy: 0.9771 - val_loss: 0.1563 - val_accuracy: 0.9333\n",
      "Epoch 82/500\n",
      "300/300 [==============================] - 2s 5ms/step - loss: 0.0437 - accuracy: 0.9857 - val_loss: 0.1603 - val_accuracy: 0.9333\n",
      "Epoch 83/500\n",
      "300/300 [==============================] - 2s 5ms/step - loss: 0.0472 - accuracy: 0.9803 - val_loss: 0.1600 - val_accuracy: 0.9250\n",
      "Epoch 84/500\n",
      "300/300 [==============================] - 2s 5ms/step - loss: 0.0600 - accuracy: 0.9758 - val_loss: 0.1608 - val_accuracy: 0.9250\n",
      "Epoch 85/500\n",
      "300/300 [==============================] - 2s 5ms/step - loss: 0.0590 - accuracy: 0.9841 - val_loss: 0.1636 - val_accuracy: 0.9250\n",
      "Epoch 86/500\n",
      "300/300 [==============================] - 2s 5ms/step - loss: 0.0667 - accuracy: 0.9712 - val_loss: 0.1616 - val_accuracy: 0.9250\n",
      "\n",
      "Epoch 00086: ReduceLROnPlateau reducing learning rate to 7.812500371073838e-06.\n",
      "Epoch 87/500\n",
      "300/300 [==============================] - 2s 5ms/step - loss: 0.0580 - accuracy: 0.9821 - val_loss: 0.1636 - val_accuracy: 0.9250\n",
      "Epoch 88/500\n",
      "300/300 [==============================] - 2s 5ms/step - loss: 0.0499 - accuracy: 0.9847 - val_loss: 0.1619 - val_accuracy: 0.9250\n",
      "Epoch 89/500\n",
      "300/300 [==============================] - 1s 5ms/step - loss: 0.0452 - accuracy: 0.9844 - val_loss: 0.1638 - val_accuracy: 0.9250\n",
      "Epoch 90/500\n",
      "300/300 [==============================] - 1s 5ms/step - loss: 0.0691 - accuracy: 0.9683 - val_loss: 0.1618 - val_accuracy: 0.9333\n",
      "\n",
      "Epoch 00090: ReduceLROnPlateau reducing learning rate to 3.906250185536919e-06.\n",
      "Epoch 91/500\n",
      "300/300 [==============================] - 1s 5ms/step - loss: 0.0451 - accuracy: 0.9821 - val_loss: 0.1621 - val_accuracy: 0.9250\n",
      "Epoch 92/500\n",
      "300/300 [==============================] - 2s 5ms/step - loss: 0.0474 - accuracy: 0.9842 - val_loss: 0.1635 - val_accuracy: 0.9250\n",
      "Epoch 93/500\n",
      "300/300 [==============================] - 2s 5ms/step - loss: 0.0382 - accuracy: 0.9864 - val_loss: 0.1635 - val_accuracy: 0.9250\n",
      "Epoch 94/500\n",
      "300/300 [==============================] - 2s 5ms/step - loss: 0.0337 - accuracy: 0.9854 - val_loss: 0.1610 - val_accuracy: 0.9333\n",
      "\n",
      "Epoch 00094: ReduceLROnPlateau reducing learning rate to 1.9531250927684596e-06.\n",
      "Epoch 95/500\n",
      "300/300 [==============================] - 2s 5ms/step - loss: 0.0370 - accuracy: 0.9846 - val_loss: 0.1612 - val_accuracy: 0.9333\n",
      "Epoch 96/500\n",
      "300/300 [==============================] - 2s 5ms/step - loss: 0.0450 - accuracy: 0.9780 - val_loss: 0.1617 - val_accuracy: 0.9333\n",
      "Epoch 97/500\n",
      "300/300 [==============================] - 2s 5ms/step - loss: 0.0557 - accuracy: 0.9836 - val_loss: 0.1619 - val_accuracy: 0.9333\n",
      "Epoch 98/500\n",
      "300/300 [==============================] - 2s 5ms/step - loss: 0.0345 - accuracy: 0.9832 - val_loss: 0.1617 - val_accuracy: 0.9333\n",
      "Epoch 99/500\n",
      "300/300 [==============================] - 2s 5ms/step - loss: 0.0401 - accuracy: 0.9842 - val_loss: 0.1628 - val_accuracy: 0.9333\n",
      "Epoch 100/500\n",
      "300/300 [==============================] - 2s 5ms/step - loss: 0.0455 - accuracy: 0.9857 - val_loss: 0.1636 - val_accuracy: 0.9250\n",
      "Epoch 101/500\n",
      "300/300 [==============================] - 2s 5ms/step - loss: 0.0716 - accuracy: 0.9792 - val_loss: 0.1646 - val_accuracy: 0.9250\n",
      "Epoch 102/500\n",
      "300/300 [==============================] - 2s 5ms/step - loss: 0.0459 - accuracy: 0.9801 - val_loss: 0.1646 - val_accuracy: 0.9250\n",
      "Epoch 103/500\n",
      "300/300 [==============================] - 2s 5ms/step - loss: 0.0503 - accuracy: 0.9817 - val_loss: 0.1645 - val_accuracy: 0.9250\n",
      "Epoch 104/500\n",
      "300/300 [==============================] - 2s 5ms/step - loss: 0.0438 - accuracy: 0.9829 - val_loss: 0.1645 - val_accuracy: 0.9250\n",
      "\n",
      "Epoch 00104: ReduceLROnPlateau reducing learning rate to 1e-06.\n",
      "Epoch 105/500\n",
      "300/300 [==============================] - 2s 5ms/step - loss: 0.0526 - accuracy: 0.9841 - val_loss: 0.1647 - val_accuracy: 0.9250\n",
      "Epoch 106/500\n",
      "300/300 [==============================] - 2s 5ms/step - loss: 0.0513 - accuracy: 0.9776 - val_loss: 0.1646 - val_accuracy: 0.9250\n",
      "Epoch 107/500\n",
      "300/300 [==============================] - 2s 5ms/step - loss: 0.0321 - accuracy: 0.9854 - val_loss: 0.1647 - val_accuracy: 0.9250\n",
      "Epoch 108/500\n",
      "300/300 [==============================] - 2s 5ms/step - loss: 0.0605 - accuracy: 0.9842 - val_loss: 0.1647 - val_accuracy: 0.9250\n",
      "Epoch 109/500\n",
      "300/300 [==============================] - 2s 5ms/step - loss: 0.0548 - accuracy: 0.9765 - val_loss: 0.1646 - val_accuracy: 0.9250\n",
      "Epoch 110/500\n",
      "300/300 [==============================] - 2s 5ms/step - loss: 0.0455 - accuracy: 0.9833 - val_loss: 0.1649 - val_accuracy: 0.9250\n",
      "Epoch 111/500\n",
      "300/300 [==============================] - 2s 5ms/step - loss: 0.0465 - accuracy: 0.9880 - val_loss: 0.1648 - val_accuracy: 0.9250\n",
      "Epoch 112/500\n",
      "300/300 [==============================] - 2s 5ms/step - loss: 0.0565 - accuracy: 0.9841 - val_loss: 0.1650 - val_accuracy: 0.9250\n",
      "Epoch 113/500\n",
      "300/300 [==============================] - 2s 5ms/step - loss: 0.0364 - accuracy: 0.9901 - val_loss: 0.1647 - val_accuracy: 0.9250\n",
      "Epoch 114/500\n",
      "300/300 [==============================] - 2s 5ms/step - loss: 0.0377 - accuracy: 0.9851 - val_loss: 0.1643 - val_accuracy: 0.9250\n",
      "Epoch 115/500\n",
      "300/300 [==============================] - 2s 5ms/step - loss: 0.0456 - accuracy: 0.9880 - val_loss: 0.1637 - val_accuracy: 0.9250\n",
      "Epoch 116/500\n",
      "300/300 [==============================] - 2s 5ms/step - loss: 0.0442 - accuracy: 0.9812 - val_loss: 0.1640 - val_accuracy: 0.9250\n",
      "Epoch 117/500\n",
      "300/300 [==============================] - 2s 5ms/step - loss: 0.0585 - accuracy: 0.9810 - val_loss: 0.1638 - val_accuracy: 0.9250\n",
      "Epoch 118/500\n",
      "300/300 [==============================] - 2s 5ms/step - loss: 0.0515 - accuracy: 0.9806 - val_loss: 0.1640 - val_accuracy: 0.9250\n",
      "Epoch 119/500\n",
      "300/300 [==============================] - 2s 5ms/step - loss: 0.0466 - accuracy: 0.9807 - val_loss: 0.1638 - val_accuracy: 0.9250\n",
      "Epoch 120/500\n",
      "300/300 [==============================] - 2s 5ms/step - loss: 0.0358 - accuracy: 0.9894 - val_loss: 0.1637 - val_accuracy: 0.9250\n",
      "Epoch 121/500\n",
      "300/300 [==============================] - 2s 5ms/step - loss: 0.0487 - accuracy: 0.9811 - val_loss: 0.1627 - val_accuracy: 0.9333\n",
      "Epoch 122/500\n",
      "300/300 [==============================] - 2s 5ms/step - loss: 0.0655 - accuracy: 0.9719 - val_loss: 0.1629 - val_accuracy: 0.9333\n",
      "Epoch 123/500\n",
      "300/300 [==============================] - 2s 5ms/step - loss: 0.0362 - accuracy: 0.9890 - val_loss: 0.1634 - val_accuracy: 0.9250\n",
      "Epoch 124/500\n",
      "300/300 [==============================] - 2s 5ms/step - loss: 0.0462 - accuracy: 0.9760 - val_loss: 0.1631 - val_accuracy: 0.9333\n",
      "Epoch 125/500\n",
      "300/300 [==============================] - 2s 5ms/step - loss: 0.0360 - accuracy: 0.9794 - val_loss: 0.1631 - val_accuracy: 0.9333\n",
      "Epoch 126/500\n",
      "300/300 [==============================] - 2s 5ms/step - loss: 0.0466 - accuracy: 0.9834 - val_loss: 0.1635 - val_accuracy: 0.9333\n",
      "Epoch 127/500\n",
      "300/300 [==============================] - 2s 5ms/step - loss: 0.0527 - accuracy: 0.9835 - val_loss: 0.1641 - val_accuracy: 0.9250\n",
      "Epoch 128/500\n",
      "300/300 [==============================] - 2s 5ms/step - loss: 0.0562 - accuracy: 0.9816 - val_loss: 0.1642 - val_accuracy: 0.9250\n",
      "Epoch 129/500\n",
      "300/300 [==============================] - 2s 5ms/step - loss: 0.0490 - accuracy: 0.9812 - val_loss: 0.1635 - val_accuracy: 0.9333\n",
      "Epoch 130/500\n",
      "300/300 [==============================] - 2s 5ms/step - loss: 0.0590 - accuracy: 0.9823 - val_loss: 0.1633 - val_accuracy: 0.9333\n",
      "Epoch 131/500\n",
      "300/300 [==============================] - 2s 5ms/step - loss: 0.0693 - accuracy: 0.9763 - val_loss: 0.1634 - val_accuracy: 0.9333\n",
      "Epoch 132/500\n",
      "300/300 [==============================] - 2s 5ms/step - loss: 0.0441 - accuracy: 0.9807 - val_loss: 0.1631 - val_accuracy: 0.9333\n",
      "Epoch 133/500\n",
      "300/300 [==============================] - 2s 5ms/step - loss: 0.0468 - accuracy: 0.9838 - val_loss: 0.1634 - val_accuracy: 0.9333\n",
      "Epoch 134/500\n",
      "300/300 [==============================] - 2s 5ms/step - loss: 0.0452 - accuracy: 0.9810 - val_loss: 0.1633 - val_accuracy: 0.9333\n",
      "Epoch 135/500\n",
      "300/300 [==============================] - 2s 5ms/step - loss: 0.0430 - accuracy: 0.9829 - val_loss: 0.1635 - val_accuracy: 0.9333\n",
      "Epoch 136/500\n",
      "300/300 [==============================] - 2s 5ms/step - loss: 0.0697 - accuracy: 0.9745 - val_loss: 0.1637 - val_accuracy: 0.9333\n",
      "Epoch 137/500\n",
      "300/300 [==============================] - 2s 5ms/step - loss: 0.0543 - accuracy: 0.9762 - val_loss: 0.1638 - val_accuracy: 0.9333\n",
      "Epoch 138/500\n",
      "300/300 [==============================] - 2s 5ms/step - loss: 0.0598 - accuracy: 0.9766 - val_loss: 0.1639 - val_accuracy: 0.9333\n",
      "Epoch 139/500\n",
      "300/300 [==============================] - 2s 5ms/step - loss: 0.0384 - accuracy: 0.9881 - val_loss: 0.1639 - val_accuracy: 0.9333\n",
      "Epoch 140/500\n",
      "300/300 [==============================] - 2s 5ms/step - loss: 0.0393 - accuracy: 0.9882 - val_loss: 0.1642 - val_accuracy: 0.9333\n",
      "Epoch 141/500\n",
      "300/300 [==============================] - 2s 5ms/step - loss: 0.0589 - accuracy: 0.9727 - val_loss: 0.1645 - val_accuracy: 0.9333\n",
      "Epoch 142/500\n",
      "300/300 [==============================] - 2s 5ms/step - loss: 0.0404 - accuracy: 0.9869 - val_loss: 0.1645 - val_accuracy: 0.9333\n",
      "Epoch 143/500\n",
      "300/300 [==============================] - 2s 5ms/step - loss: 0.0603 - accuracy: 0.9738 - val_loss: 0.1643 - val_accuracy: 0.9333\n",
      "Epoch 144/500\n",
      "300/300 [==============================] - 2s 5ms/step - loss: 0.0395 - accuracy: 0.9877 - val_loss: 0.1642 - val_accuracy: 0.9333\n",
      "Epoch 145/500\n",
      "300/300 [==============================] - 2s 5ms/step - loss: 0.0663 - accuracy: 0.9744 - val_loss: 0.1640 - val_accuracy: 0.9333\n",
      "Epoch 146/500\n",
      "300/300 [==============================] - 2s 5ms/step - loss: 0.0343 - accuracy: 0.9892 - val_loss: 0.1637 - val_accuracy: 0.9333\n",
      "Epoch 147/500\n",
      "300/300 [==============================] - 2s 5ms/step - loss: 0.0312 - accuracy: 0.9910 - val_loss: 0.1637 - val_accuracy: 0.9333\n",
      "Epoch 148/500\n",
      "300/300 [==============================] - 2s 5ms/step - loss: 0.0417 - accuracy: 0.9822 - val_loss: 0.1640 - val_accuracy: 0.9333\n",
      "Epoch 149/500\n",
      "300/300 [==============================] - 2s 5ms/step - loss: 0.0408 - accuracy: 0.9872 - val_loss: 0.1642 - val_accuracy: 0.9333\n",
      "Epoch 150/500\n",
      "300/300 [==============================] - 2s 5ms/step - loss: 0.0355 - accuracy: 0.9887 - val_loss: 0.1644 - val_accuracy: 0.9333\n",
      "Epoch 151/500\n",
      "300/300 [==============================] - 2s 5ms/step - loss: 0.0274 - accuracy: 0.9901 - val_loss: 0.1648 - val_accuracy: 0.9333\n",
      "Epoch 152/500\n",
      "300/300 [==============================] - 2s 5ms/step - loss: 0.0530 - accuracy: 0.9820 - val_loss: 0.1649 - val_accuracy: 0.9333\n",
      "Restoring model weights from the end of the best epoch.\n",
      "Epoch 00152: early stopping\n"
     ]
    }
   ],
   "source": [
    "history = model.fit(X_train, y_train, batch_size=4, epochs=500, validation_data=(X_val, y_val),\n",
    "           callbacks=[reduce_lr, early_stop, tensorboard_callback], class_weight = class_weights)"
   ]
  },
  {
   "cell_type": "code",
   "execution_count": 89,
   "id": "9de8954c-537a-475e-b9e9-558069bad303",
   "metadata": {},
   "outputs": [
    {
     "data": {
      "text/plain": [
       "Reusing TensorBoard on port 6006 (pid 31441), started 3:45:23 ago. (Use '!kill 31441' to kill it.)"
      ]
     },
     "metadata": {},
     "output_type": "display_data"
    },
    {
     "data": {
      "text/html": [
       "\n",
       "      <iframe id=\"tensorboard-frame-fe17eacbf1f19cf6\" width=\"100%\" height=\"800\" frameborder=\"0\">\n",
       "      </iframe>\n",
       "      <script>\n",
       "        (function() {\n",
       "          const frame = document.getElementById(\"tensorboard-frame-fe17eacbf1f19cf6\");\n",
       "          const url = new URL(\"/\", window.location);\n",
       "          const port = 6006;\n",
       "          if (port) {\n",
       "            url.port = port;\n",
       "          }\n",
       "          frame.src = url;\n",
       "        })();\n",
       "      </script>\n",
       "    "
      ],
      "text/plain": [
       "<IPython.core.display.HTML object>"
      ]
     },
     "metadata": {},
     "output_type": "display_data"
    }
   ],
   "source": [
    "%tensorboard --logdir logs"
   ]
  },
  {
   "cell_type": "code",
   "execution_count": 90,
   "id": "60020796-f15b-4b63-9dc7-75e2ad53d730",
   "metadata": {},
   "outputs": [
    {
     "name": "stdout",
     "output_type": "stream",
     "text": [
      "30/30 [==============================] - 0s 1ms/step - loss: 0.3353 - accuracy: 0.8667\n"
     ]
    },
    {
     "data": {
      "text/plain": [
       "[0.3352874219417572, 0.8666666746139526]"
      ]
     },
     "execution_count": 90,
     "metadata": {},
     "output_type": "execute_result"
    }
   ],
   "source": [
    "model.evaluate(X_test, y_test, batch_size=4)"
   ]
  },
  {
   "cell_type": "code",
   "execution_count": 91,
   "id": "fb7e7213-090e-48fa-8271-9caf1ea2f1b8",
   "metadata": {
    "jupyter": {
     "source_hidden": true
    },
    "tags": []
   },
   "outputs": [
    {
     "name": "stdout",
     "output_type": "stream",
     "text": [
      "              precision    recall  f1-score   support\n",
      "\n",
      "           0       0.83      0.89      0.86        56\n",
      "           1       0.90      0.84      0.87        64\n",
      "\n",
      "    accuracy                           0.87       120\n",
      "   macro avg       0.87      0.87      0.87       120\n",
      "weighted avg       0.87      0.87      0.87       120\n",
      "\n"
     ]
    }
   ],
   "source": [
    "from sklearn.metrics import classification_report\n",
    "predictions = model.predict(X_test)\n",
    "pred = [1 * (x[0]>=0.50) for x in predictions] #0.5 o 0.52? \n",
    "print(classification_report(y_test, pred))"
   ]
  },
  {
   "cell_type": "markdown",
   "id": "8b2a60fc-910b-4f0f-aa3e-b04121a2fb7f",
   "metadata": {},
   "source": [
    "## Save best model "
   ]
  },
  {
   "cell_type": "code",
   "execution_count": 92,
   "id": "b2cdb2aa-c457-4e2b-9f2e-195a88478ee6",
   "metadata": {
    "jupyter": {
     "source_hidden": true
    },
    "tags": []
   },
   "outputs": [
    {
     "name": "stderr",
     "output_type": "stream",
     "text": [
      "2021-08-30 15:57:30.426908: W tensorflow/python/util/util.cc:348] Sets are not currently considered sequences, but this may change in the future, so consider avoiding using them.\n"
     ]
    },
    {
     "name": "stdout",
     "output_type": "stream",
     "text": [
      "INFO:tensorflow:Assets written to: /home/helemanc/Desktop/Binary_Model/models/binary_model_ravdess_13_after_optimization/assets\n"
     ]
    }
   ],
   "source": [
    "model.save(\"/home/helemanc/Desktop/Binary_Model/models/binary_model_ravdess_13_after_optimization\")"
   ]
  },
  {
   "cell_type": "code",
   "execution_count": null,
   "id": "e28cff2c-b090-48b5-b395-16dd48bc0174",
   "metadata": {
    "jupyter": {
     "source_hidden": true
    },
    "tags": []
   },
   "outputs": [],
   "source": []
  }
 ],
 "metadata": {
  "kernelspec": {
   "display_name": "Python 3 (ipykernel)",
   "language": "python",
   "name": "python3"
  },
  "language_info": {
   "codemirror_mode": {
    "name": "ipython",
    "version": 3
   },
   "file_extension": ".py",
   "mimetype": "text/x-python",
   "name": "python",
   "nbconvert_exporter": "python",
   "pygments_lexer": "ipython3",
   "version": "3.8.10"
  }
 },
 "nbformat": 4,
 "nbformat_minor": 5
}

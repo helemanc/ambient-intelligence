{
 "cells": [
  {
   "cell_type": "markdown",
   "id": "81fa2700-211c-469f-9989-9b8c1643e4ef",
   "metadata": {
    "tags": []
   },
   "source": [
    "# Configuration\n",
    "\n",
    "NOTES: The warnings after the import are referred to the fact that Tensorflow 2.x versions are built to directly look for a GPU in the system. The warning can be forgot if you are not going to use the GPU. "
   ]
  },
  {
   "cell_type": "code",
   "execution_count": 576,
   "id": "74509724-118b-45df-b61d-9329d3c5d1ce",
   "metadata": {},
   "outputs": [],
   "source": [
    "LENGTH_CHOSEN = 126520"
   ]
  },
  {
   "cell_type": "code",
   "execution_count": 250,
   "id": "6306dee7-faac-4624-ba5a-38fa1a498907",
   "metadata": {},
   "outputs": [
    {
     "name": "stdout",
     "output_type": "stream",
     "text": [
      "Collecting fsspec\n",
      "  Downloading fsspec-2021.7.0-py3-none-any.whl (118 kB)\n",
      "\u001b[K     |████████████████████████████████| 118 kB 1.8 MB/s eta 0:00:01\n",
      "\u001b[?25hInstalling collected packages: fsspec\n",
      "Successfully installed fsspec-2021.7.0\n"
     ]
    }
   ],
   "source": [
    "!pip install fsspec"
   ]
  },
  {
   "cell_type": "code",
   "execution_count": 2,
   "id": "b8655e71-6eca-4b83-8700-829086ac7be2",
   "metadata": {},
   "outputs": [
    {
     "name": "stdout",
     "output_type": "stream",
     "text": [
      "created virtual environment CPython3.8.10.final.0-64 in 113ms\n",
      "  creator CPython3Posix(dest=/home/helemanc/Desktop/Binary_Model/myenv, clear=False, global=False)\n",
      "  seeder FromAppData(download=False, pip=latest, setuptools=latest, wheel=latest, pkg_resources=latest, via=copy, app_data_dir=/home/helemanc/.local/share/virtualenv/seed-app-data/v1.0.1.debian.1)\n",
      "  activators BashActivator,CShellActivator,FishActivator,PowerShellActivator,PythonActivator,XonshActivator\n"
     ]
    }
   ],
   "source": [
    "!virtualenv myenv"
   ]
  },
  {
   "cell_type": "code",
   "execution_count": 3,
   "id": "92283daf-6907-41c0-84c5-4b6c7dca9329",
   "metadata": {},
   "outputs": [],
   "source": [
    "!python3 -m venv myenv"
   ]
  },
  {
   "cell_type": "code",
   "execution_count": 1,
   "id": "be1754d6-f6ce-4b83-bf69-f9762d0b126e",
   "metadata": {},
   "outputs": [],
   "source": [
    "!source myenv/bin/activate"
   ]
  },
  {
   "cell_type": "code",
   "execution_count": 5,
   "id": "3f9987f0-8e03-4508-8c85-24c53ca46583",
   "metadata": {},
   "outputs": [
    {
     "name": "stdout",
     "output_type": "stream",
     "text": [
      "Collecting seaborn\n",
      "  Downloading seaborn-0.11.2-py3-none-any.whl (292 kB)\n",
      "\u001b[K     |████████████████████████████████| 292 kB 1.1 MB/s eta 0:00:01\n",
      "\u001b[?25hRequirement already satisfied: numpy>=1.15 in /home/helemanc/.local/lib/python3.8/site-packages (from seaborn) (1.19.5)\n",
      "Requirement already satisfied: pandas>=0.23 in /home/helemanc/.local/lib/python3.8/site-packages (from seaborn) (1.3.2)\n",
      "Requirement already satisfied: matplotlib>=2.2 in /usr/local/lib/python3.8/dist-packages/matplotlib-3.4.1-py3.8-linux-x86_64.egg (from seaborn) (3.4.1)\n",
      "Requirement already satisfied: scipy>=1.0 in /usr/local/lib/python3.8/dist-packages (from seaborn) (1.6.3)\n",
      "Requirement already satisfied: pytz>=2017.3 in /usr/lib/python3/dist-packages (from pandas>=0.23->seaborn) (2019.3)\n",
      "Requirement already satisfied: python-dateutil>=2.7.3 in /usr/lib/python3/dist-packages (from pandas>=0.23->seaborn) (2.7.3)\n",
      "Requirement already satisfied: cycler>=0.10 in /usr/local/lib/python3.8/dist-packages/cycler-0.10.0-py3.8.egg (from matplotlib>=2.2->seaborn) (0.10.0)\n",
      "Requirement already satisfied: kiwisolver>=1.0.1 in /usr/local/lib/python3.8/dist-packages/kiwisolver-1.3.1-py3.8-linux-x86_64.egg (from matplotlib>=2.2->seaborn) (1.3.1)\n",
      "Requirement already satisfied: pillow>=6.2.0 in /usr/lib/python3/dist-packages (from matplotlib>=2.2->seaborn) (7.0.0)\n",
      "Requirement already satisfied: pyparsing>=2.2.1 in /home/helemanc/.local/lib/python3.8/site-packages (from matplotlib>=2.2->seaborn) (2.4.7)\n",
      "Requirement already satisfied: six in /home/helemanc/.local/lib/python3.8/site-packages (from cycler>=0.10->matplotlib>=2.2->seaborn) (1.15.0)\n",
      "Installing collected packages: seaborn\n",
      "Successfully installed seaborn-0.11.2\n"
     ]
    }
   ],
   "source": [
    "!pip install seaborn"
   ]
  },
  {
   "cell_type": "code",
   "execution_count": 14,
   "id": "e56f968e-ce11-45e2-a8f9-24cc4c26dfc9",
   "metadata": {},
   "outputs": [
    {
     "name": "stdout",
     "output_type": "stream",
     "text": [
      "Collecting ipywidgets\n",
      "  Downloading ipywidgets-7.6.3-py2.py3-none-any.whl (121 kB)\n",
      "\u001b[K     |████████████████████████████████| 121 kB 1.3 MB/s eta 0:00:01\n",
      "\u001b[?25hRequirement already satisfied: nbformat>=4.2.0 in /home/helemanc/.local/lib/python3.8/site-packages (from ipywidgets) (5.1.3)\n",
      "Collecting widgetsnbextension~=3.5.0\n",
      "  Downloading widgetsnbextension-3.5.1-py2.py3-none-any.whl (2.2 MB)\n",
      "\u001b[K     |████████████████████████████████| 2.2 MB 4.0 MB/s eta 0:00:01\n",
      "\u001b[?25hRequirement already satisfied: ipython>=4.0.0; python_version >= \"3.3\" in /home/helemanc/.local/lib/python3.8/site-packages (from ipywidgets) (7.26.0)\n",
      "Requirement already satisfied: ipykernel>=4.5.1 in /home/helemanc/.local/lib/python3.8/site-packages (from ipywidgets) (6.2.0)\n",
      "Requirement already satisfied: traitlets>=4.3.1 in /home/helemanc/.local/lib/python3.8/site-packages (from ipywidgets) (5.0.5)\n",
      "Collecting jupyterlab-widgets>=1.0.0; python_version >= \"3.6\"\n",
      "  Downloading jupyterlab_widgets-1.0.0-py3-none-any.whl (243 kB)\n",
      "\u001b[K     |████████████████████████████████| 243 kB 9.0 MB/s eta 0:00:01\n",
      "\u001b[?25hRequirement already satisfied: jupyter-core in /home/helemanc/.local/lib/python3.8/site-packages (from nbformat>=4.2.0->ipywidgets) (4.7.1)\n",
      "Requirement already satisfied: jsonschema!=2.5.0,>=2.4 in /home/helemanc/.local/lib/python3.8/site-packages (from nbformat>=4.2.0->ipywidgets) (3.2.0)\n",
      "Requirement already satisfied: ipython-genutils in /home/helemanc/.local/lib/python3.8/site-packages (from nbformat>=4.2.0->ipywidgets) (0.2.0)\n",
      "Requirement already satisfied: notebook>=4.4.1 in /home/helemanc/.local/lib/python3.8/site-packages (from widgetsnbextension~=3.5.0->ipywidgets) (6.4.3)\n",
      "Requirement already satisfied: backcall in /home/helemanc/.local/lib/python3.8/site-packages (from ipython>=4.0.0; python_version >= \"3.3\"->ipywidgets) (0.2.0)\n",
      "Requirement already satisfied: pexpect>4.3; sys_platform != \"win32\" in /usr/lib/python3/dist-packages (from ipython>=4.0.0; python_version >= \"3.3\"->ipywidgets) (4.6.0)\n",
      "Requirement already satisfied: pickleshare in /home/helemanc/.local/lib/python3.8/site-packages (from ipython>=4.0.0; python_version >= \"3.3\"->ipywidgets) (0.7.5)\n",
      "Requirement already satisfied: matplotlib-inline in /home/helemanc/.local/lib/python3.8/site-packages (from ipython>=4.0.0; python_version >= \"3.3\"->ipywidgets) (0.1.2)\n",
      "Requirement already satisfied: decorator in /usr/local/lib/python3.8/dist-packages/decorator-5.0.7-py3.8.egg (from ipython>=4.0.0; python_version >= \"3.3\"->ipywidgets) (5.0.7)\n",
      "Requirement already satisfied: prompt-toolkit!=3.0.0,!=3.0.1,<3.1.0,>=2.0.0 in /home/helemanc/.local/lib/python3.8/site-packages (from ipython>=4.0.0; python_version >= \"3.3\"->ipywidgets) (3.0.19)\n",
      "Requirement already satisfied: setuptools>=18.5 in /usr/lib/python3/dist-packages (from ipython>=4.0.0; python_version >= \"3.3\"->ipywidgets) (45.2.0)\n",
      "Requirement already satisfied: pygments in /home/helemanc/.local/lib/python3.8/site-packages (from ipython>=4.0.0; python_version >= \"3.3\"->ipywidgets) (2.10.0)\n",
      "Requirement already satisfied: jedi>=0.16 in /home/helemanc/.local/lib/python3.8/site-packages (from ipython>=4.0.0; python_version >= \"3.3\"->ipywidgets) (0.18.0)\n",
      "Requirement already satisfied: jupyter-client<8.0 in /home/helemanc/.local/lib/python3.8/site-packages (from ipykernel>=4.5.1->ipywidgets) (6.1.12)\n",
      "Requirement already satisfied: debugpy<2.0,>=1.0.0 in /home/helemanc/.local/lib/python3.8/site-packages (from ipykernel>=4.5.1->ipywidgets) (1.4.1)\n",
      "Requirement already satisfied: tornado<7.0,>=4.2 in /home/helemanc/.local/lib/python3.8/site-packages (from ipykernel>=4.5.1->ipywidgets) (6.1)\n",
      "Requirement already satisfied: six>=1.11.0 in /home/helemanc/.local/lib/python3.8/site-packages (from jsonschema!=2.5.0,>=2.4->nbformat>=4.2.0->ipywidgets) (1.15.0)\n",
      "Requirement already satisfied: pyrsistent>=0.14.0 in /home/helemanc/.local/lib/python3.8/site-packages (from jsonschema!=2.5.0,>=2.4->nbformat>=4.2.0->ipywidgets) (0.18.0)\n",
      "Requirement already satisfied: attrs>=17.4.0 in /home/helemanc/.local/lib/python3.8/site-packages (from jsonschema!=2.5.0,>=2.4->nbformat>=4.2.0->ipywidgets) (21.2.0)\n",
      "Requirement already satisfied: Send2Trash>=1.5.0 in /home/helemanc/.local/lib/python3.8/site-packages (from notebook>=4.4.1->widgetsnbextension~=3.5.0->ipywidgets) (1.8.0)\n",
      "Requirement already satisfied: nbconvert in /home/helemanc/.local/lib/python3.8/site-packages (from notebook>=4.4.1->widgetsnbextension~=3.5.0->ipywidgets) (6.1.0)\n",
      "Requirement already satisfied: pyzmq>=17 in /home/helemanc/.local/lib/python3.8/site-packages (from notebook>=4.4.1->widgetsnbextension~=3.5.0->ipywidgets) (22.2.1)\n",
      "Requirement already satisfied: prometheus-client in /home/helemanc/.local/lib/python3.8/site-packages (from notebook>=4.4.1->widgetsnbextension~=3.5.0->ipywidgets) (0.11.0)\n",
      "Requirement already satisfied: argon2-cffi in /home/helemanc/.local/lib/python3.8/site-packages (from notebook>=4.4.1->widgetsnbextension~=3.5.0->ipywidgets) (20.1.0)\n",
      "Requirement already satisfied: terminado>=0.8.3 in /home/helemanc/.local/lib/python3.8/site-packages (from notebook>=4.4.1->widgetsnbextension~=3.5.0->ipywidgets) (0.11.0)\n",
      "Requirement already satisfied: jinja2 in /home/helemanc/.local/lib/python3.8/site-packages (from notebook>=4.4.1->widgetsnbextension~=3.5.0->ipywidgets) (3.0.1)\n",
      "Requirement already satisfied: wcwidth in /home/helemanc/.local/lib/python3.8/site-packages (from prompt-toolkit!=3.0.0,!=3.0.1,<3.1.0,>=2.0.0->ipython>=4.0.0; python_version >= \"3.3\"->ipywidgets) (0.2.5)\n",
      "Requirement already satisfied: parso<0.9.0,>=0.8.0 in /home/helemanc/.local/lib/python3.8/site-packages (from jedi>=0.16->ipython>=4.0.0; python_version >= \"3.3\"->ipywidgets) (0.8.2)\n",
      "Requirement already satisfied: python-dateutil>=2.1 in /usr/lib/python3/dist-packages (from jupyter-client<8.0->ipykernel>=4.5.1->ipywidgets) (2.7.3)\n",
      "Requirement already satisfied: bleach in /home/helemanc/.local/lib/python3.8/site-packages (from nbconvert->notebook>=4.4.1->widgetsnbextension~=3.5.0->ipywidgets) (4.0.0)\n",
      "Requirement already satisfied: defusedxml in /home/helemanc/.local/lib/python3.8/site-packages (from nbconvert->notebook>=4.4.1->widgetsnbextension~=3.5.0->ipywidgets) (0.7.1)\n",
      "Requirement already satisfied: jupyterlab-pygments in /home/helemanc/.local/lib/python3.8/site-packages (from nbconvert->notebook>=4.4.1->widgetsnbextension~=3.5.0->ipywidgets) (0.1.2)\n",
      "Requirement already satisfied: entrypoints>=0.2.2 in /usr/lib/python3/dist-packages (from nbconvert->notebook>=4.4.1->widgetsnbextension~=3.5.0->ipywidgets) (0.3)\n",
      "Requirement already satisfied: pandocfilters>=1.4.1 in /home/helemanc/.local/lib/python3.8/site-packages (from nbconvert->notebook>=4.4.1->widgetsnbextension~=3.5.0->ipywidgets) (1.4.3)\n",
      "Requirement already satisfied: mistune<2,>=0.8.1 in /home/helemanc/.local/lib/python3.8/site-packages (from nbconvert->notebook>=4.4.1->widgetsnbextension~=3.5.0->ipywidgets) (0.8.4)\n",
      "Requirement already satisfied: nbclient<0.6.0,>=0.5.0 in /home/helemanc/.local/lib/python3.8/site-packages (from nbconvert->notebook>=4.4.1->widgetsnbextension~=3.5.0->ipywidgets) (0.5.4)\n",
      "Requirement already satisfied: testpath in /home/helemanc/.local/lib/python3.8/site-packages (from nbconvert->notebook>=4.4.1->widgetsnbextension~=3.5.0->ipywidgets) (0.5.0)\n",
      "Requirement already satisfied: cffi>=1.0.0 in /usr/local/lib/python3.8/dist-packages/cffi-1.14.5-py3.8-linux-x86_64.egg (from argon2-cffi->notebook>=4.4.1->widgetsnbextension~=3.5.0->ipywidgets) (1.14.5)\n",
      "Requirement already satisfied: ptyprocess; os_name != \"nt\" in /home/helemanc/.local/lib/python3.8/site-packages (from terminado>=0.8.3->notebook>=4.4.1->widgetsnbextension~=3.5.0->ipywidgets) (0.7.0)\n",
      "Requirement already satisfied: MarkupSafe>=2.0 in /home/helemanc/.local/lib/python3.8/site-packages (from jinja2->notebook>=4.4.1->widgetsnbextension~=3.5.0->ipywidgets) (2.0.1)\n",
      "Requirement already satisfied: packaging in /usr/local/lib/python3.8/dist-packages/packaging-20.9-py3.8.egg (from bleach->nbconvert->notebook>=4.4.1->widgetsnbextension~=3.5.0->ipywidgets) (20.9)\n",
      "Requirement already satisfied: webencodings in /home/helemanc/.local/lib/python3.8/site-packages (from bleach->nbconvert->notebook>=4.4.1->widgetsnbextension~=3.5.0->ipywidgets) (0.5.1)\n",
      "Requirement already satisfied: nest-asyncio in /home/helemanc/.local/lib/python3.8/site-packages (from nbclient<0.6.0,>=0.5.0->nbconvert->notebook>=4.4.1->widgetsnbextension~=3.5.0->ipywidgets) (1.5.1)\n",
      "Requirement already satisfied: pycparser in /usr/local/lib/python3.8/dist-packages/pycparser-2.20-py3.8.egg (from cffi>=1.0.0->argon2-cffi->notebook>=4.4.1->widgetsnbextension~=3.5.0->ipywidgets) (2.20)\n",
      "Requirement already satisfied: pyparsing>=2.0.2 in /home/helemanc/.local/lib/python3.8/site-packages (from packaging->bleach->nbconvert->notebook>=4.4.1->widgetsnbextension~=3.5.0->ipywidgets) (2.4.7)\n",
      "Installing collected packages: widgetsnbextension, jupyterlab-widgets, ipywidgets\n",
      "Successfully installed ipywidgets-7.6.3 jupyterlab-widgets-1.0.0 widgetsnbextension-3.5.1\n"
     ]
    }
   ],
   "source": [
    "!pip install ipywidgets"
   ]
  },
  {
   "cell_type": "code",
   "execution_count": 2,
   "id": "457adaab-95ab-4f15-babc-2a6ae211fa22",
   "metadata": {
    "tags": []
   },
   "outputs": [
    {
     "name": "stderr",
     "output_type": "stream",
     "text": [
      "2021-08-20 15:40:07.763502: W tensorflow/stream_executor/platform/default/dso_loader.cc:60] Could not load dynamic library 'libcudart.so.11.0'; dlerror: libcudart.so.11.0: cannot open shared object file: No such file or directory\n",
      "2021-08-20 15:40:07.763542: I tensorflow/stream_executor/cuda/cudart_stub.cc:29] Ignore above cudart dlerror if you do not have a GPU set up on your machine.\n",
      "2021-08-20 15:40:09.345858: I tensorflow/compiler/jit/xla_cpu_device.cc:41] Not creating XLA devices, tf_xla_enable_xla_devices not set\n"
     ]
    },
    {
     "data": {
      "text/plain": [
       "[]"
      ]
     },
     "execution_count": 2,
     "metadata": {},
     "output_type": "execute_result"
    },
    {
     "name": "stderr",
     "output_type": "stream",
     "text": [
      "2021-08-20 15:40:09.350001: I tensorflow/stream_executor/platform/default/dso_loader.cc:49] Successfully opened dynamic library libcuda.so.1\n",
      "2021-08-20 15:40:09.433425: E tensorflow/stream_executor/cuda/cuda_driver.cc:328] failed call to cuInit: CUDA_ERROR_NO_DEVICE: no CUDA-capable device is detected\n",
      "2021-08-20 15:40:09.433454: I tensorflow/stream_executor/cuda/cuda_diagnostics.cc:156] kernel driver does not appear to be running on this host (helemanc-Latitude-5410): /proc/driver/nvidia/version does not exist\n"
     ]
    }
   ],
   "source": [
    "import os\n",
    "import librosa\n",
    "import numpy as np\n",
    "from tqdm.notebook import tqdm\n",
    "import pandas as pd\n",
    "import matplotlib.pyplot as plt\n",
    "import warnings\n",
    "warnings.filterwarnings(\"ignore\")\n",
    "import seaborn as sns\n",
    "sns.set_style('whitegrid')\n",
    "import IPython.display as ipd\n",
    "import librosa.display\n",
    "import numpy as np\n",
    "import pickle\n",
    "import scipy\n",
    "import ipywidgets\n",
    "import math\n",
    "\n",
    "from sklearn.model_selection import train_test_split\n",
    "from sklearn.ensemble import RandomForestClassifier\n",
    "from sklearn.preprocessing import StandardScaler, LabelEncoder\n",
    "from sklearn.pipeline import make_pipeline\n",
    "from sklearn.cluster import KMeans\n",
    "from sklearn.metrics import accuracy_score, confusion_matrix\n",
    "from scipy.cluster.hierarchy import dendrogram\n",
    "from sklearn.cluster import AgglomerativeClustering\n",
    "\n",
    "from tqdm import tqdm\n",
    "\n",
    "import tensorflow as tf\n",
    "from tensorflow.keras.layers import Dense, Dropout, Conv2D, AveragePooling1D, MaxPooling2D, Flatten\n",
    "from tensorflow.keras.optimizers import SGD\n",
    "from tensorflow.keras.models import Sequential\n",
    "from tensorflow.keras import layers\n",
    "from tensorflow.keras import regularizers\n",
    "\n",
    "# from livelossplot import PlotLossesKeras\n",
    "tf.config.list_physical_devices('GPU')"
   ]
  },
  {
   "cell_type": "markdown",
   "id": "851cc29e-c41e-48ee-9193-3294f82095a6",
   "metadata": {},
   "source": [
    "# Get data from datasets"
   ]
  },
  {
   "cell_type": "code",
   "execution_count": 434,
   "id": "247ddc08-b445-4331-b800-ac8d17e5008a",
   "metadata": {},
   "outputs": [],
   "source": [
    "main_path = '/media/helemanc/OS/Users/i2CAT/Desktop/Datasets SER/'\n",
    "TESS = os.path.join(main_path, \"tess/TESS Toronto emotional speech set data/\") \n",
    "RAV = os.path.join(main_path, \"ravdess-emotional-speech-audio/audio_speech_actors_01-24\")\n",
    "SAVEE = os.path.join(main_path, \"savee/ALL/\")\n",
    "CREMA = os.path.join(main_path, \"creamd/AudioWAV/\")\n",
    "\n",
    "dir_list = os.listdir(RAV)"
   ]
  },
  {
   "cell_type": "markdown",
   "id": "3bcbb335-6c0f-42de-85a6-4e6ec2e9ea63",
   "metadata": {
    "tags": []
   },
   "source": [
    "## RADVESS"
   ]
  },
  {
   "cell_type": "code",
   "execution_count": 496,
   "id": "9d7c6a6d-ec4f-4a05-8c5d-598502b448f4",
   "metadata": {},
   "outputs": [
    {
     "name": "stderr",
     "output_type": "stream",
     "text": [
      "25it [00:00, 1398.70it/s]\n"
     ]
    }
   ],
   "source": [
    "lst = []\n",
    "emotion = []\n",
    "voc_channel = []\n",
    "full_path = []\n",
    "modality = []\n",
    "intensity = []\n",
    "actors = []\n",
    "phrase =[]\n",
    "\n",
    "for root, dirs, files in tqdm(os.walk(RAV)):\n",
    "    for file in files:\n",
    "        try:\n",
    "            #Load librosa array, obtain mfcss, store the file and the mfcss information in a new array\n",
    "            # X, sample_rate = librosa.load(os.path.join(root,file), res_type='kaiser_fast')\n",
    "            # mfccs = np.mean(librosa.feature.mfcc(y=X, sr=sample_rate, n_mfcc=40).T,axis=0) \n",
    "            # The instruction below converts the labels (from 1 to 8) to a series from 0 to 7\n",
    "            # This is because our predictor needs to start from 0 otherwise it will try to predict also 0.\n",
    "           \n",
    "            modal = int(file[1:2])\n",
    "            vchan = int(file[4:5])\n",
    "            lab = int(file[7:8])\n",
    "            ints = int(file[10:11])\n",
    "            phr = int(file[13:14])\n",
    "            act = int(file[18:20])\n",
    "            # arr = mfccs, lab\n",
    "            # lst.append(arr)\n",
    "            \n",
    "            modality.append(modal)\n",
    "            voc_channel.append(vchan)\n",
    "            emotion.append(lab) #only labels\n",
    "            intensity.append(ints)\n",
    "            phrase.append(phr)\n",
    "            actors.append(act)\n",
    "            \n",
    "            full_path.append((root, file)) # only files\n",
    "          # If the file is not valid, skip it\n",
    "        except ValueError:\n",
    "            continue"
   ]
  },
  {
   "cell_type": "code",
   "execution_count": 497,
   "id": "79d9eefc-0ec2-4023-9780-a8fad4f85939",
   "metadata": {},
   "outputs": [],
   "source": [
    "# 01 = neutral, 02 = calm, 03 = happy, 04 = sad, 05 = angry, 06 = fearful, 07 = disgust, 08 = surprised\n",
    "emotions_list = ['neutral', 'calm', 'happy', 'sadness', 'angry', 'fear', 'disgust', 'surprise']\n",
    "emotion_dict = {em[0]+1:em[1] for em in enumerate(emotions_list)}\n",
    "\n",
    "df = pd.DataFrame([emotion, voc_channel, modality, intensity, actors, actors,phrase, full_path]).T\n",
    "df.columns = ['emotion', 'voc_channel', 'modality', 'intensity', 'actors', 'gender', 'phrase', 'path']\n",
    "df['emotion'] = df['emotion'].map(emotion_dict)\n",
    "df['voc_channel'] = df['voc_channel'].map({1: 'speech', 2:'song'})\n",
    "df['modality'] = df['modality'].map({1: 'full AV', 2:'video only', 3:'audio only'})\n",
    "df['intensity'] = df['intensity'].map({1: 'normal', 2:'strong'})\n",
    "df['actors'] = df['actors']\n",
    "df['gender'] = df['actors'].apply(lambda x: 'female' if x%2 == 0 else 'male')\n",
    "df['phrase'] = df['phrase'].map({1: 'Kids are talking by the door', 2:'Dogs are sitting by the door'})\n",
    "df['path'] = df['path'].apply(lambda x: x[0] + '/' + x[1])"
   ]
  },
  {
   "cell_type": "code",
   "execution_count": 498,
   "id": "adbafbe2-9bef-414a-b9e0-e507b2d6ef84",
   "metadata": {},
   "outputs": [],
   "source": [
    "# remove files with noise to apply the same noise to all files for data augmentation \n",
    "df = df[~df.path.str.contains('noise')]"
   ]
  },
  {
   "cell_type": "code",
   "execution_count": 499,
   "id": "52e49e6c-c03d-41cd-bc41-586947e0516c",
   "metadata": {},
   "outputs": [
    {
     "data": {
      "text/html": [
       "<div>\n",
       "<style scoped>\n",
       "    .dataframe tbody tr th:only-of-type {\n",
       "        vertical-align: middle;\n",
       "    }\n",
       "\n",
       "    .dataframe tbody tr th {\n",
       "        vertical-align: top;\n",
       "    }\n",
       "\n",
       "    .dataframe thead th {\n",
       "        text-align: right;\n",
       "    }\n",
       "</style>\n",
       "<table border=\"1\" class=\"dataframe\">\n",
       "  <thead>\n",
       "    <tr style=\"text-align: right;\">\n",
       "      <th></th>\n",
       "      <th>emotion</th>\n",
       "      <th>voc_channel</th>\n",
       "      <th>modality</th>\n",
       "      <th>intensity</th>\n",
       "      <th>actors</th>\n",
       "      <th>gender</th>\n",
       "      <th>phrase</th>\n",
       "      <th>path</th>\n",
       "    </tr>\n",
       "  </thead>\n",
       "  <tbody>\n",
       "    <tr>\n",
       "      <th>0</th>\n",
       "      <td>disgust</td>\n",
       "      <td>speech</td>\n",
       "      <td>audio only</td>\n",
       "      <td>normal</td>\n",
       "      <td>1</td>\n",
       "      <td>male</td>\n",
       "      <td>Dogs are sitting by the door</td>\n",
       "      <td>/media/helemanc/OS/Users/i2CAT/Desktop/Dataset...</td>\n",
       "    </tr>\n",
       "    <tr>\n",
       "      <th>2</th>\n",
       "      <td>disgust</td>\n",
       "      <td>speech</td>\n",
       "      <td>audio only</td>\n",
       "      <td>strong</td>\n",
       "      <td>1</td>\n",
       "      <td>male</td>\n",
       "      <td>Kids are talking by the door</td>\n",
       "      <td>/media/helemanc/OS/Users/i2CAT/Desktop/Dataset...</td>\n",
       "    </tr>\n",
       "    <tr>\n",
       "      <th>4</th>\n",
       "      <td>disgust</td>\n",
       "      <td>speech</td>\n",
       "      <td>audio only</td>\n",
       "      <td>strong</td>\n",
       "      <td>1</td>\n",
       "      <td>male</td>\n",
       "      <td>Kids are talking by the door</td>\n",
       "      <td>/media/helemanc/OS/Users/i2CAT/Desktop/Dataset...</td>\n",
       "    </tr>\n",
       "    <tr>\n",
       "      <th>6</th>\n",
       "      <td>disgust</td>\n",
       "      <td>speech</td>\n",
       "      <td>audio only</td>\n",
       "      <td>strong</td>\n",
       "      <td>1</td>\n",
       "      <td>male</td>\n",
       "      <td>Dogs are sitting by the door</td>\n",
       "      <td>/media/helemanc/OS/Users/i2CAT/Desktop/Dataset...</td>\n",
       "    </tr>\n",
       "    <tr>\n",
       "      <th>8</th>\n",
       "      <td>disgust</td>\n",
       "      <td>speech</td>\n",
       "      <td>audio only</td>\n",
       "      <td>strong</td>\n",
       "      <td>1</td>\n",
       "      <td>male</td>\n",
       "      <td>Dogs are sitting by the door</td>\n",
       "      <td>/media/helemanc/OS/Users/i2CAT/Desktop/Dataset...</td>\n",
       "    </tr>\n",
       "  </tbody>\n",
       "</table>\n",
       "</div>"
      ],
      "text/plain": [
       "   emotion voc_channel    modality intensity actors gender  \\\n",
       "0  disgust      speech  audio only    normal      1   male   \n",
       "2  disgust      speech  audio only    strong      1   male   \n",
       "4  disgust      speech  audio only    strong      1   male   \n",
       "6  disgust      speech  audio only    strong      1   male   \n",
       "8  disgust      speech  audio only    strong      1   male   \n",
       "\n",
       "                         phrase  \\\n",
       "0  Dogs are sitting by the door   \n",
       "2  Kids are talking by the door   \n",
       "4  Kids are talking by the door   \n",
       "6  Dogs are sitting by the door   \n",
       "8  Dogs are sitting by the door   \n",
       "\n",
       "                                                path  \n",
       "0  /media/helemanc/OS/Users/i2CAT/Desktop/Dataset...  \n",
       "2  /media/helemanc/OS/Users/i2CAT/Desktop/Dataset...  \n",
       "4  /media/helemanc/OS/Users/i2CAT/Desktop/Dataset...  \n",
       "6  /media/helemanc/OS/Users/i2CAT/Desktop/Dataset...  \n",
       "8  /media/helemanc/OS/Users/i2CAT/Desktop/Dataset...  "
      ]
     },
     "execution_count": 499,
     "metadata": {},
     "output_type": "execute_result"
    }
   ],
   "source": [
    "df.head()"
   ]
  },
  {
   "cell_type": "code",
   "execution_count": 500,
   "id": "5b5f697c-ae87-47d9-a33d-ca66081fb9e3",
   "metadata": {},
   "outputs": [],
   "source": [
    "# only speech\n",
    "RAV_df = df\n",
    "RAV_df = RAV_df.loc[RAV_df.voc_channel == 'speech']"
   ]
  },
  {
   "cell_type": "code",
   "execution_count": 501,
   "id": "3cd6aa88-d08f-4576-a079-de6e72957828",
   "metadata": {},
   "outputs": [],
   "source": [
    "RAV_df.insert(0, \"emotion_label\", RAV_df.emotion, True)"
   ]
  },
  {
   "cell_type": "code",
   "execution_count": 502,
   "id": "0aa8d9af-6c5c-4f3f-bc13-a0ae916e1649",
   "metadata": {},
   "outputs": [],
   "source": [
    "RAV_df = RAV_df.drop(['emotion', 'voc_channel', 'modality', 'intensity', 'phrase'], 1)"
   ]
  },
  {
   "cell_type": "code",
   "execution_count": 503,
   "id": "3e856bdc-5485-46ff-bdc4-1dfb6fb6fc93",
   "metadata": {},
   "outputs": [
    {
     "data": {
      "text/html": [
       "<div>\n",
       "<style scoped>\n",
       "    .dataframe tbody tr th:only-of-type {\n",
       "        vertical-align: middle;\n",
       "    }\n",
       "\n",
       "    .dataframe tbody tr th {\n",
       "        vertical-align: top;\n",
       "    }\n",
       "\n",
       "    .dataframe thead th {\n",
       "        text-align: right;\n",
       "    }\n",
       "</style>\n",
       "<table border=\"1\" class=\"dataframe\">\n",
       "  <thead>\n",
       "    <tr style=\"text-align: right;\">\n",
       "      <th></th>\n",
       "      <th>emotion_label</th>\n",
       "      <th>actors</th>\n",
       "      <th>gender</th>\n",
       "      <th>path</th>\n",
       "    </tr>\n",
       "  </thead>\n",
       "  <tbody>\n",
       "    <tr>\n",
       "      <th>0</th>\n",
       "      <td>disgust</td>\n",
       "      <td>1</td>\n",
       "      <td>male</td>\n",
       "      <td>/media/helemanc/OS/Users/i2CAT/Desktop/Dataset...</td>\n",
       "    </tr>\n",
       "    <tr>\n",
       "      <th>2</th>\n",
       "      <td>disgust</td>\n",
       "      <td>1</td>\n",
       "      <td>male</td>\n",
       "      <td>/media/helemanc/OS/Users/i2CAT/Desktop/Dataset...</td>\n",
       "    </tr>\n",
       "    <tr>\n",
       "      <th>4</th>\n",
       "      <td>disgust</td>\n",
       "      <td>1</td>\n",
       "      <td>male</td>\n",
       "      <td>/media/helemanc/OS/Users/i2CAT/Desktop/Dataset...</td>\n",
       "    </tr>\n",
       "    <tr>\n",
       "      <th>6</th>\n",
       "      <td>disgust</td>\n",
       "      <td>1</td>\n",
       "      <td>male</td>\n",
       "      <td>/media/helemanc/OS/Users/i2CAT/Desktop/Dataset...</td>\n",
       "    </tr>\n",
       "    <tr>\n",
       "      <th>8</th>\n",
       "      <td>disgust</td>\n",
       "      <td>1</td>\n",
       "      <td>male</td>\n",
       "      <td>/media/helemanc/OS/Users/i2CAT/Desktop/Dataset...</td>\n",
       "    </tr>\n",
       "    <tr>\n",
       "      <th>...</th>\n",
       "      <td>...</td>\n",
       "      <td>...</td>\n",
       "      <td>...</td>\n",
       "      <td>...</td>\n",
       "    </tr>\n",
       "    <tr>\n",
       "      <th>2871</th>\n",
       "      <td>neutral</td>\n",
       "      <td>24</td>\n",
       "      <td>female</td>\n",
       "      <td>/media/helemanc/OS/Users/i2CAT/Desktop/Dataset...</td>\n",
       "    </tr>\n",
       "    <tr>\n",
       "      <th>2873</th>\n",
       "      <td>neutral</td>\n",
       "      <td>24</td>\n",
       "      <td>female</td>\n",
       "      <td>/media/helemanc/OS/Users/i2CAT/Desktop/Dataset...</td>\n",
       "    </tr>\n",
       "    <tr>\n",
       "      <th>2875</th>\n",
       "      <td>calm</td>\n",
       "      <td>24</td>\n",
       "      <td>female</td>\n",
       "      <td>/media/helemanc/OS/Users/i2CAT/Desktop/Dataset...</td>\n",
       "    </tr>\n",
       "    <tr>\n",
       "      <th>2877</th>\n",
       "      <td>calm</td>\n",
       "      <td>24</td>\n",
       "      <td>female</td>\n",
       "      <td>/media/helemanc/OS/Users/i2CAT/Desktop/Dataset...</td>\n",
       "    </tr>\n",
       "    <tr>\n",
       "      <th>2879</th>\n",
       "      <td>calm</td>\n",
       "      <td>24</td>\n",
       "      <td>female</td>\n",
       "      <td>/media/helemanc/OS/Users/i2CAT/Desktop/Dataset...</td>\n",
       "    </tr>\n",
       "  </tbody>\n",
       "</table>\n",
       "<p>1440 rows × 4 columns</p>\n",
       "</div>"
      ],
      "text/plain": [
       "     emotion_label actors  gender  \\\n",
       "0          disgust      1    male   \n",
       "2          disgust      1    male   \n",
       "4          disgust      1    male   \n",
       "6          disgust      1    male   \n",
       "8          disgust      1    male   \n",
       "...            ...    ...     ...   \n",
       "2871       neutral     24  female   \n",
       "2873       neutral     24  female   \n",
       "2875          calm     24  female   \n",
       "2877          calm     24  female   \n",
       "2879          calm     24  female   \n",
       "\n",
       "                                                   path  \n",
       "0     /media/helemanc/OS/Users/i2CAT/Desktop/Dataset...  \n",
       "2     /media/helemanc/OS/Users/i2CAT/Desktop/Dataset...  \n",
       "4     /media/helemanc/OS/Users/i2CAT/Desktop/Dataset...  \n",
       "6     /media/helemanc/OS/Users/i2CAT/Desktop/Dataset...  \n",
       "8     /media/helemanc/OS/Users/i2CAT/Desktop/Dataset...  \n",
       "...                                                 ...  \n",
       "2871  /media/helemanc/OS/Users/i2CAT/Desktop/Dataset...  \n",
       "2873  /media/helemanc/OS/Users/i2CAT/Desktop/Dataset...  \n",
       "2875  /media/helemanc/OS/Users/i2CAT/Desktop/Dataset...  \n",
       "2877  /media/helemanc/OS/Users/i2CAT/Desktop/Dataset...  \n",
       "2879  /media/helemanc/OS/Users/i2CAT/Desktop/Dataset...  \n",
       "\n",
       "[1440 rows x 4 columns]"
      ]
     },
     "execution_count": 503,
     "metadata": {},
     "output_type": "execute_result"
    }
   ],
   "source": [
    "RAV_df"
   ]
  },
  {
   "cell_type": "code",
   "execution_count": 504,
   "id": "33a73a97-cd1c-412e-9504-27dda27d8f95",
   "metadata": {
    "tags": []
   },
   "outputs": [],
   "source": [
    "RAV_train = []\n",
    "RAV_val = []\n",
    "RAV_test = []"
   ]
  },
  {
   "cell_type": "code",
   "execution_count": 505,
   "id": "3c56fd18-6d0c-4854-b83b-358219116864",
   "metadata": {},
   "outputs": [
    {
     "data": {
      "text/plain": [
       "(1200, 120, 120)"
      ]
     },
     "execution_count": 505,
     "metadata": {},
     "output_type": "execute_result"
    }
   ],
   "source": [
    "for index, row in RAV_df.iterrows():\n",
    "    if row['actors'] in range(1,21): \n",
    "        RAV_train.append(row) \n",
    "    elif row['actors'] in range(21,23): \n",
    "        RAV_val.append(row)\n",
    "    elif row['actors'] in range(23,25): \n",
    "        RAV_test.append(row)\n",
    "len(RAV_train), len(RAV_val), len(RAV_test)"
   ]
  },
  {
   "cell_type": "code",
   "execution_count": 506,
   "id": "72dbb4ab-349c-437e-b894-e832ddc75c40",
   "metadata": {},
   "outputs": [],
   "source": [
    "RAV_train = pd.DataFrame(RAV_train)\n",
    "RAV_val = pd.DataFrame(RAV_val)\n",
    "RAV_test = pd.DataFrame(RAV_test)"
   ]
  },
  {
   "cell_type": "code",
   "execution_count": 507,
   "id": "0ddc4a85-6796-4fc8-8d03-a46dcb94886b",
   "metadata": {
    "tags": []
   },
   "outputs": [],
   "source": [
    "RAV_train = RAV_train.drop(['actors'], 1)\n",
    "RAV_val = RAV_val.drop(['actors'], 1)\n",
    "RAV_test = RAV_test.drop(['actors'], 1)"
   ]
  },
  {
   "cell_type": "code",
   "execution_count": 508,
   "id": "beff2112-5d8b-449f-9a80-525fb4896c04",
   "metadata": {},
   "outputs": [
    {
     "data": {
      "text/html": [
       "<div>\n",
       "<style scoped>\n",
       "    .dataframe tbody tr th:only-of-type {\n",
       "        vertical-align: middle;\n",
       "    }\n",
       "\n",
       "    .dataframe tbody tr th {\n",
       "        vertical-align: top;\n",
       "    }\n",
       "\n",
       "    .dataframe thead th {\n",
       "        text-align: right;\n",
       "    }\n",
       "</style>\n",
       "<table border=\"1\" class=\"dataframe\">\n",
       "  <thead>\n",
       "    <tr style=\"text-align: right;\">\n",
       "      <th></th>\n",
       "      <th>emotion_label</th>\n",
       "      <th>gender</th>\n",
       "      <th>path</th>\n",
       "    </tr>\n",
       "  </thead>\n",
       "  <tbody>\n",
       "    <tr>\n",
       "      <th>0</th>\n",
       "      <td>disgust</td>\n",
       "      <td>male</td>\n",
       "      <td>/media/helemanc/OS/Users/i2CAT/Desktop/Dataset...</td>\n",
       "    </tr>\n",
       "    <tr>\n",
       "      <th>2</th>\n",
       "      <td>disgust</td>\n",
       "      <td>male</td>\n",
       "      <td>/media/helemanc/OS/Users/i2CAT/Desktop/Dataset...</td>\n",
       "    </tr>\n",
       "    <tr>\n",
       "      <th>4</th>\n",
       "      <td>disgust</td>\n",
       "      <td>male</td>\n",
       "      <td>/media/helemanc/OS/Users/i2CAT/Desktop/Dataset...</td>\n",
       "    </tr>\n",
       "    <tr>\n",
       "      <th>6</th>\n",
       "      <td>disgust</td>\n",
       "      <td>male</td>\n",
       "      <td>/media/helemanc/OS/Users/i2CAT/Desktop/Dataset...</td>\n",
       "    </tr>\n",
       "    <tr>\n",
       "      <th>8</th>\n",
       "      <td>disgust</td>\n",
       "      <td>male</td>\n",
       "      <td>/media/helemanc/OS/Users/i2CAT/Desktop/Dataset...</td>\n",
       "    </tr>\n",
       "  </tbody>\n",
       "</table>\n",
       "</div>"
      ],
      "text/plain": [
       "  emotion_label gender                                               path\n",
       "0       disgust   male  /media/helemanc/OS/Users/i2CAT/Desktop/Dataset...\n",
       "2       disgust   male  /media/helemanc/OS/Users/i2CAT/Desktop/Dataset...\n",
       "4       disgust   male  /media/helemanc/OS/Users/i2CAT/Desktop/Dataset...\n",
       "6       disgust   male  /media/helemanc/OS/Users/i2CAT/Desktop/Dataset...\n",
       "8       disgust   male  /media/helemanc/OS/Users/i2CAT/Desktop/Dataset..."
      ]
     },
     "execution_count": 508,
     "metadata": {},
     "output_type": "execute_result"
    }
   ],
   "source": [
    "RAV_train.head()"
   ]
  },
  {
   "cell_type": "code",
   "execution_count": 509,
   "id": "12cccb24-96f0-4742-ad9b-3dfea943cd64",
   "metadata": {},
   "outputs": [
    {
     "data": {
      "text/html": [
       "<div>\n",
       "<style scoped>\n",
       "    .dataframe tbody tr th:only-of-type {\n",
       "        vertical-align: middle;\n",
       "    }\n",
       "\n",
       "    .dataframe tbody tr th {\n",
       "        vertical-align: top;\n",
       "    }\n",
       "\n",
       "    .dataframe thead th {\n",
       "        text-align: right;\n",
       "    }\n",
       "</style>\n",
       "<table border=\"1\" class=\"dataframe\">\n",
       "  <thead>\n",
       "    <tr style=\"text-align: right;\">\n",
       "      <th></th>\n",
       "      <th>emotion_label</th>\n",
       "      <th>gender</th>\n",
       "      <th>path</th>\n",
       "    </tr>\n",
       "  </thead>\n",
       "  <tbody>\n",
       "    <tr>\n",
       "      <th>2400</th>\n",
       "      <td>angry</td>\n",
       "      <td>male</td>\n",
       "      <td>/media/helemanc/OS/Users/i2CAT/Desktop/Dataset...</td>\n",
       "    </tr>\n",
       "    <tr>\n",
       "      <th>2402</th>\n",
       "      <td>fear</td>\n",
       "      <td>male</td>\n",
       "      <td>/media/helemanc/OS/Users/i2CAT/Desktop/Dataset...</td>\n",
       "    </tr>\n",
       "    <tr>\n",
       "      <th>2404</th>\n",
       "      <td>fear</td>\n",
       "      <td>male</td>\n",
       "      <td>/media/helemanc/OS/Users/i2CAT/Desktop/Dataset...</td>\n",
       "    </tr>\n",
       "    <tr>\n",
       "      <th>2406</th>\n",
       "      <td>fear</td>\n",
       "      <td>male</td>\n",
       "      <td>/media/helemanc/OS/Users/i2CAT/Desktop/Dataset...</td>\n",
       "    </tr>\n",
       "    <tr>\n",
       "      <th>2408</th>\n",
       "      <td>fear</td>\n",
       "      <td>male</td>\n",
       "      <td>/media/helemanc/OS/Users/i2CAT/Desktop/Dataset...</td>\n",
       "    </tr>\n",
       "  </tbody>\n",
       "</table>\n",
       "</div>"
      ],
      "text/plain": [
       "     emotion_label gender                                               path\n",
       "2400         angry   male  /media/helemanc/OS/Users/i2CAT/Desktop/Dataset...\n",
       "2402          fear   male  /media/helemanc/OS/Users/i2CAT/Desktop/Dataset...\n",
       "2404          fear   male  /media/helemanc/OS/Users/i2CAT/Desktop/Dataset...\n",
       "2406          fear   male  /media/helemanc/OS/Users/i2CAT/Desktop/Dataset...\n",
       "2408          fear   male  /media/helemanc/OS/Users/i2CAT/Desktop/Dataset..."
      ]
     },
     "execution_count": 509,
     "metadata": {},
     "output_type": "execute_result"
    }
   ],
   "source": [
    "RAV_val.head()"
   ]
  },
  {
   "cell_type": "markdown",
   "id": "a3ca8dc4-14fc-4b62-bd47-7a7fc2743940",
   "metadata": {
    "tags": []
   },
   "source": [
    "## SAVEE"
   ]
  },
  {
   "cell_type": "code",
   "execution_count": 510,
   "id": "7764a84a-f680-4a3e-93d6-cd358b71519f",
   "metadata": {},
   "outputs": [
    {
     "data": {
      "text/plain": [
       "neutral     120\n",
       "sadness      60\n",
       "surprise     60\n",
       "happy        60\n",
       "disgust      60\n",
       "fear         60\n",
       "angry        60\n",
       "Name: emotion_label, dtype: int64"
      ]
     },
     "execution_count": 510,
     "metadata": {},
     "output_type": "execute_result"
    }
   ],
   "source": [
    "# Get the data location for SAVEE\n",
    "dir_list = os.listdir(SAVEE)\n",
    "\n",
    "# parse the filename to get the emotions\n",
    "emotion=[]\n",
    "path = []\n",
    "actors = []\n",
    "gender = []\n",
    "for i in dir_list:\n",
    "    actors.append(i[:2])\n",
    "    if i[-8:-6]=='_a':\n",
    "        emotion.append('angry')\n",
    "        gender.append('male')\n",
    "    elif i[-8:-6]=='_d':\n",
    "        emotion.append('disgust')\n",
    "        gender.append('male')\n",
    "    elif i[-8:-6]=='_f':\n",
    "        emotion.append('fear')\n",
    "        gender.append('male')\n",
    "    elif i[-8:-6]=='_h':\n",
    "        emotion.append('happy')\n",
    "        gender.append('male')\n",
    "    elif i[-8:-6]=='_n':\n",
    "        emotion.append('neutral')\n",
    "        gender.append('male')\n",
    "    elif i[-8:-6]=='sa':\n",
    "        emotion.append('sadness')\n",
    "        gender.append('male')\n",
    "    elif i[-8:-6]=='su':\n",
    "        emotion.append('surprise')\n",
    "        gender.append('male') \n",
    "    else:\n",
    "        emotion.append('Unknown') \n",
    "    path.append(SAVEE + i)\n",
    "    \n",
    "# Now check out the label count distribution \n",
    "SAVEE_df = pd.DataFrame(emotion, columns = ['emotion_label'])\n",
    "                      \n",
    "SAVEE_df = pd.concat([SAVEE_df,\n",
    "                      pd.DataFrame(actors, columns = ['actors']),\n",
    "                      pd.DataFrame(gender, columns = ['gender']), \n",
    "                      pd.DataFrame(path, columns = ['path'])], axis = 1)\n",
    "SAVEE_df.emotion_label.value_counts()"
   ]
  },
  {
   "cell_type": "code",
   "execution_count": 511,
   "id": "c83650a3-9b50-4d56-b339-0b6218b05d59",
   "metadata": {},
   "outputs": [
    {
     "data": {
      "text/html": [
       "<div>\n",
       "<style scoped>\n",
       "    .dataframe tbody tr th:only-of-type {\n",
       "        vertical-align: middle;\n",
       "    }\n",
       "\n",
       "    .dataframe tbody tr th {\n",
       "        vertical-align: top;\n",
       "    }\n",
       "\n",
       "    .dataframe thead th {\n",
       "        text-align: right;\n",
       "    }\n",
       "</style>\n",
       "<table border=\"1\" class=\"dataframe\">\n",
       "  <thead>\n",
       "    <tr style=\"text-align: right;\">\n",
       "      <th></th>\n",
       "      <th>emotion_label</th>\n",
       "      <th>actors</th>\n",
       "      <th>gender</th>\n",
       "      <th>path</th>\n",
       "    </tr>\n",
       "  </thead>\n",
       "  <tbody>\n",
       "    <tr>\n",
       "      <th>0</th>\n",
       "      <td>neutral</td>\n",
       "      <td>DC</td>\n",
       "      <td>male</td>\n",
       "      <td>/media/helemanc/OS/Users/i2CAT/Desktop/Dataset...</td>\n",
       "    </tr>\n",
       "    <tr>\n",
       "      <th>1</th>\n",
       "      <td>sadness</td>\n",
       "      <td>KL</td>\n",
       "      <td>male</td>\n",
       "      <td>/media/helemanc/OS/Users/i2CAT/Desktop/Dataset...</td>\n",
       "    </tr>\n",
       "    <tr>\n",
       "      <th>2</th>\n",
       "      <td>sadness</td>\n",
       "      <td>KL</td>\n",
       "      <td>male</td>\n",
       "      <td>/media/helemanc/OS/Users/i2CAT/Desktop/Dataset...</td>\n",
       "    </tr>\n",
       "    <tr>\n",
       "      <th>3</th>\n",
       "      <td>sadness</td>\n",
       "      <td>KL</td>\n",
       "      <td>male</td>\n",
       "      <td>/media/helemanc/OS/Users/i2CAT/Desktop/Dataset...</td>\n",
       "    </tr>\n",
       "    <tr>\n",
       "      <th>4</th>\n",
       "      <td>sadness</td>\n",
       "      <td>KL</td>\n",
       "      <td>male</td>\n",
       "      <td>/media/helemanc/OS/Users/i2CAT/Desktop/Dataset...</td>\n",
       "    </tr>\n",
       "  </tbody>\n",
       "</table>\n",
       "</div>"
      ],
      "text/plain": [
       "  emotion_label actors gender  \\\n",
       "0       neutral     DC   male   \n",
       "1       sadness     KL   male   \n",
       "2       sadness     KL   male   \n",
       "3       sadness     KL   male   \n",
       "4       sadness     KL   male   \n",
       "\n",
       "                                                path  \n",
       "0  /media/helemanc/OS/Users/i2CAT/Desktop/Dataset...  \n",
       "1  /media/helemanc/OS/Users/i2CAT/Desktop/Dataset...  \n",
       "2  /media/helemanc/OS/Users/i2CAT/Desktop/Dataset...  \n",
       "3  /media/helemanc/OS/Users/i2CAT/Desktop/Dataset...  \n",
       "4  /media/helemanc/OS/Users/i2CAT/Desktop/Dataset...  "
      ]
     },
     "execution_count": 511,
     "metadata": {},
     "output_type": "execute_result"
    }
   ],
   "source": [
    "SAVEE_df.head()"
   ]
  },
  {
   "cell_type": "code",
   "execution_count": 512,
   "id": "c9ce260c-3ff9-425d-a022-554433e12c7c",
   "metadata": {},
   "outputs": [],
   "source": [
    "SAVEE_train = []\n",
    "SAVEE_val = []\n",
    "SAVEE_test = []"
   ]
  },
  {
   "cell_type": "code",
   "execution_count": 513,
   "id": "3329e55b-6afc-4164-b9ea-f8aefbb2b340",
   "metadata": {},
   "outputs": [
    {
     "data": {
      "text/plain": [
       "(240, 120, 120)"
      ]
     },
     "execution_count": 513,
     "metadata": {},
     "output_type": "execute_result"
    }
   ],
   "source": [
    "#DC, JE, JK, KL\n",
    "for index, row in SAVEE_df.iterrows(): \n",
    "    if row['actors'] == 'DC' or row ['actors'] == 'JE':\n",
    "        SAVEE_train.append(row)\n",
    "    elif row['actors'] == 'JK': \n",
    "        SAVEE_val.append(row)\n",
    "    else: \n",
    "        SAVEE_test.append(row)\n",
    "len(SAVEE_train), len(SAVEE_val), len(SAVEE_test)"
   ]
  },
  {
   "cell_type": "code",
   "execution_count": 514,
   "id": "776d9561-fd61-4471-b101-759f049976bb",
   "metadata": {},
   "outputs": [],
   "source": [
    "SAVEE_train = pd.DataFrame(SAVEE_train)\n",
    "SAVEE_val = pd.DataFrame(SAVEE_val)\n",
    "SAVEE_test = pd.DataFrame(SAVEE_test)"
   ]
  },
  {
   "cell_type": "code",
   "execution_count": 515,
   "id": "f917ecbb-92e4-45d2-bfae-2e1ca5e0eb7e",
   "metadata": {},
   "outputs": [],
   "source": [
    "SAVEE_train = SAVEE_train.drop(['actors'], 1)\n",
    "SAVEE_val = SAVEE_val.drop(['actors'], 1)\n",
    "SAVEE_test = SAVEE_test.drop(['actors'], 1)"
   ]
  },
  {
   "cell_type": "markdown",
   "id": "7bfaef70-496c-48e6-affc-d52dadeab953",
   "metadata": {},
   "source": [
    "## TESS"
   ]
  },
  {
   "cell_type": "code",
   "execution_count": 516,
   "id": "39c24e81-8204-44ec-b504-cfa50dc2605e",
   "metadata": {},
   "outputs": [
    {
     "data": {
      "text/plain": [
       "angry       1200\n",
       "fear         800\n",
       "surprise     800\n",
       "sadness      800\n",
       "disgust      800\n",
       "neutral      800\n",
       "happy        400\n",
       "Name: emotion_label, dtype: int64"
      ]
     },
     "execution_count": 516,
     "metadata": {},
     "output_type": "execute_result"
    }
   ],
   "source": [
    "dir_list = os.listdir(TESS)\n",
    "dir_list.sort()\n",
    "dir_list\n",
    "\n",
    "path = []\n",
    "emotion = []\n",
    "gender = []\n",
    "actors = []\n",
    "\n",
    "for i in dir_list:\n",
    "    fname = os.listdir(TESS + i)\n",
    "    for f in fname:\n",
    "        if i == 'OAF_angry':\n",
    "            emotion.append('angry')\n",
    "            gender.append('female')\n",
    "            actors.append('OAF')\n",
    "        elif i == 'YAF_angry': \n",
    "            emotion.append('angry')\n",
    "            gender.append('female')\n",
    "            actors.append('YAF')\n",
    "            \n",
    "            \n",
    "        elif i == 'OAF_disgust' :\n",
    "            emotion.append('disgust')\n",
    "            gender.append('female')\n",
    "            actors.append('OAF')\n",
    "        elif i == 'YAF_disgust': \n",
    "            emotion.append('disgust')\n",
    "            gender.append('female')\n",
    "            actors.append('YAF')\n",
    "            \n",
    "            \n",
    "        elif i == 'OAF_Fear':\n",
    "            emotion.append('fear')\n",
    "            gender.append('female')\n",
    "            actors.append('OAF')\n",
    "        elif i == 'YAF_fear': \n",
    "            emotion.append('fear')\n",
    "            gender.append('female')\n",
    "            actors.append('YAF') \n",
    "            \n",
    "            \n",
    "        elif i == 'OAF_happy' :\n",
    "            emotion.append('happy')\n",
    "            gender.append('female')\n",
    "            actors.append('OAF')\n",
    "        elif i == 'YAF_happy': \n",
    "            emotion.append('angry')\n",
    "            gender.append('female')\n",
    "            actors.append('YAF')            \n",
    "            \n",
    "        elif i == 'OAF_neutral':\n",
    "            emotion.append('neutral')\n",
    "            gender.append('female')\n",
    "            actors.append('OAF')   \n",
    "        elif i == 'YAF_neutral': \n",
    "            emotion.append('neutral')\n",
    "            gender.append('female')\n",
    "            actors.append('YAF')      \n",
    "            \n",
    "                \n",
    "        elif i == 'OAF_Pleasant_surprise':\n",
    "            emotion.append('surprise')\n",
    "            gender.append('female')\n",
    "            actors.append('OAF')\n",
    "        \n",
    "        elif i == 'YAF_pleasant_surprised': \n",
    "            emotion.append('surprise')\n",
    "            gender.append('female')\n",
    "            actors.append('YAF')            \n",
    "            \n",
    "        elif i == 'OAF_Sad':\n",
    "            emotion.append('sadness')\n",
    "            gender.append('female')\n",
    "            actors.append('OAF')\n",
    "        elif i == 'YAF_sad': \n",
    "            emotion.append('sadness')\n",
    "            gender.append('female')\n",
    "            actors.append('YAF')            \n",
    "        else:\n",
    "            emotion.append('Unknown')\n",
    "        path.append(TESS + i + \"/\" + f)\n",
    "\n",
    "TESS_df = pd.DataFrame(emotion, columns = ['emotion_label'])\n",
    "TESS_df = pd.concat([TESS_df, pd.DataFrame(gender, columns = ['gender']), \n",
    "                     pd.DataFrame(actors, columns= ['actors']),\n",
    "                     pd.DataFrame(path, columns = ['path'])],axis=1)\n",
    "TESS_df.emotion_label.value_counts()"
   ]
  },
  {
   "cell_type": "code",
   "execution_count": 517,
   "id": "97e96c83-3919-4759-9eea-d981e3bed837",
   "metadata": {
    "tags": []
   },
   "outputs": [],
   "source": [
    "TESS_df= TESS_df[~TESS_df.path.str.contains('noise')]"
   ]
  },
  {
   "cell_type": "code",
   "execution_count": 518,
   "id": "7c5dca4a-2af2-4f2d-95d0-e0b05046aa06",
   "metadata": {},
   "outputs": [],
   "source": [
    "TESS_train = []\n",
    "TESS_test = []"
   ]
  },
  {
   "cell_type": "code",
   "execution_count": 519,
   "id": "510dc521-7ce5-412c-8047-c8378115b988",
   "metadata": {},
   "outputs": [
    {
     "data": {
      "text/plain": [
       "(1400, 1400)"
      ]
     },
     "execution_count": 519,
     "metadata": {},
     "output_type": "execute_result"
    }
   ],
   "source": [
    "for index, row in TESS_df.iterrows(): \n",
    "    if row['actors'] == 'YAF': \n",
    "        TESS_train.append(row)\n",
    "    else: \n",
    "        TESS_test.append(row)\n",
    "len(TESS_train), len(TESS_test)"
   ]
  },
  {
   "cell_type": "code",
   "execution_count": 520,
   "id": "432b7e85-41ac-4145-a433-af0fcff76942",
   "metadata": {
    "tags": []
   },
   "outputs": [],
   "source": [
    "TESS_train = pd.DataFrame(TESS_train)\n",
    "TESS_test = pd.DataFrame(TESS_test)"
   ]
  },
  {
   "cell_type": "markdown",
   "id": "98fe421a-61ba-45bc-b610-d010122520ca",
   "metadata": {},
   "source": [
    "## CREMA-D"
   ]
  },
  {
   "cell_type": "code",
   "execution_count": 521,
   "id": "a95f552c-e04b-4460-bab0-a1096ba1fd4b",
   "metadata": {
    "tags": []
   },
   "outputs": [],
   "source": [
    "males = [1,\n",
    "5,\n",
    "11,\n",
    "14,\n",
    "15,\n",
    "16,\n",
    "17,\n",
    "19,\n",
    "22,\n",
    "23,\n",
    "26,\n",
    "27,\n",
    "31,\n",
    "32,\n",
    "33,\n",
    "34,\n",
    "35,\n",
    "36,\n",
    "38,\n",
    "39,\n",
    "41,\n",
    "42,\n",
    "44,\n",
    "45,\n",
    "48,\n",
    "50,\n",
    "51,\n",
    "57,\n",
    "59, \n",
    "62, \n",
    "64,\n",
    "65, \n",
    "66,\n",
    "67,\n",
    "68,\n",
    "69,\n",
    "70,\n",
    "71,\n",
    "77, \n",
    "80, \n",
    "81, \n",
    "83, \n",
    "85, \n",
    "86, \n",
    "87,\n",
    "88, \n",
    "90]"
   ]
  },
  {
   "cell_type": "code",
   "execution_count": 522,
   "id": "39386c53-595e-459c-a258-808760741b63",
   "metadata": {},
   "outputs": [],
   "source": [
    "females = [ 2,\n",
    "3,\n",
    "4,\n",
    "6,\n",
    "7,\n",
    "8,\n",
    "9,\n",
    "10,\n",
    "12,\n",
    "13,\n",
    "18,\n",
    "20,\n",
    "21,\n",
    "24,\n",
    "25,\n",
    "28,\n",
    "29,\n",
    "30,\n",
    "37,\n",
    "40,\n",
    "43,\n",
    "46,\n",
    "47,\n",
    "49,\n",
    "52,\n",
    "53,\n",
    "54,\n",
    "55,\n",
    "56, \n",
    "58, \n",
    "60,\n",
    "61,\n",
    "63,\n",
    "72, \n",
    "73, \n",
    "74, \n",
    "75, \n",
    "76, \n",
    "78, \n",
    "79, \n",
    "82, \n",
    "84, \n",
    "89, \n",
    "91]"
   ]
  },
  {
   "cell_type": "code",
   "execution_count": 523,
   "id": "cb0c6032-873e-4211-a866-81146563eb67",
   "metadata": {},
   "outputs": [
    {
     "data": {
      "text/html": [
       "<div>\n",
       "<style scoped>\n",
       "    .dataframe tbody tr th:only-of-type {\n",
       "        vertical-align: middle;\n",
       "    }\n",
       "\n",
       "    .dataframe tbody tr th {\n",
       "        vertical-align: top;\n",
       "    }\n",
       "\n",
       "    .dataframe thead th {\n",
       "        text-align: right;\n",
       "    }\n",
       "</style>\n",
       "<table border=\"1\" class=\"dataframe\">\n",
       "  <thead>\n",
       "    <tr style=\"text-align: right;\">\n",
       "      <th></th>\n",
       "      <th>emotion_label</th>\n",
       "      <th>actors</th>\n",
       "      <th>gender</th>\n",
       "      <th>path</th>\n",
       "    </tr>\n",
       "  </thead>\n",
       "  <tbody>\n",
       "    <tr>\n",
       "      <th>0</th>\n",
       "      <td>happy</td>\n",
       "      <td>91</td>\n",
       "      <td>female</td>\n",
       "      <td>/media/helemanc/OS/Users/i2CAT/Desktop/Dataset...</td>\n",
       "    </tr>\n",
       "    <tr>\n",
       "      <th>1</th>\n",
       "      <td>sadness</td>\n",
       "      <td>91</td>\n",
       "      <td>female</td>\n",
       "      <td>/media/helemanc/OS/Users/i2CAT/Desktop/Dataset...</td>\n",
       "    </tr>\n",
       "    <tr>\n",
       "      <th>2</th>\n",
       "      <td>angry</td>\n",
       "      <td>91</td>\n",
       "      <td>female</td>\n",
       "      <td>/media/helemanc/OS/Users/i2CAT/Desktop/Dataset...</td>\n",
       "    </tr>\n",
       "    <tr>\n",
       "      <th>3</th>\n",
       "      <td>disgust</td>\n",
       "      <td>91</td>\n",
       "      <td>female</td>\n",
       "      <td>/media/helemanc/OS/Users/i2CAT/Desktop/Dataset...</td>\n",
       "    </tr>\n",
       "    <tr>\n",
       "      <th>4</th>\n",
       "      <td>fear</td>\n",
       "      <td>91</td>\n",
       "      <td>female</td>\n",
       "      <td>/media/helemanc/OS/Users/i2CAT/Desktop/Dataset...</td>\n",
       "    </tr>\n",
       "  </tbody>\n",
       "</table>\n",
       "</div>"
      ],
      "text/plain": [
       "  emotion_label actors  gender  \\\n",
       "0         happy     91  female   \n",
       "1       sadness     91  female   \n",
       "2         angry     91  female   \n",
       "3       disgust     91  female   \n",
       "4          fear     91  female   \n",
       "\n",
       "                                                path  \n",
       "0  /media/helemanc/OS/Users/i2CAT/Desktop/Dataset...  \n",
       "1  /media/helemanc/OS/Users/i2CAT/Desktop/Dataset...  \n",
       "2  /media/helemanc/OS/Users/i2CAT/Desktop/Dataset...  \n",
       "3  /media/helemanc/OS/Users/i2CAT/Desktop/Dataset...  \n",
       "4  /media/helemanc/OS/Users/i2CAT/Desktop/Dataset...  "
      ]
     },
     "execution_count": 523,
     "metadata": {},
     "output_type": "execute_result"
    }
   ],
   "source": [
    "crema_directory_list = os.listdir(CREMA)\n",
    "\n",
    "file_emotion = []\n",
    "file_path = []\n",
    "actors = []\n",
    "gender = []\n",
    "\n",
    "\n",
    "\n",
    "\n",
    "for file in crema_directory_list:\n",
    "\n",
    "    # storing file emotions\n",
    "    part=file.split('_')\n",
    "    \n",
    "    # use only high intensity files\n",
    "    if \"HI\" in part[3] :\n",
    "        actor = part[0][2:]\n",
    "        actors.append(actor)\n",
    "        if int(actor) in males:\n",
    "            gender.append('male')\n",
    "        else: \n",
    "            gender.append('female')\n",
    "    \n",
    "        # storing file paths\n",
    "        file_path.append(CREMA + file)\n",
    "        if part[2] == 'SAD':\n",
    "            file_emotion.append('sadness')\n",
    "        elif part[2] == 'ANG':\n",
    "            file_emotion.append('angry')\n",
    "        elif part[2] == 'DIS':\n",
    "            file_emotion.append('disgust')\n",
    "        elif part[2] == 'FEA':\n",
    "            file_emotion.append('fear')\n",
    "        elif part[2] == 'HAP':\n",
    "            file_emotion.append('happy')\n",
    "        elif part[2] == 'NEU':\n",
    "            file_emotion.append('neutral')\n",
    "        else:\n",
    "            file_emotion.append('Unknown')\n",
    "\n",
    "# dataframe for emotion of files\n",
    "emotion_df = pd.DataFrame(file_emotion, columns=['emotion_label'])\n",
    "\n",
    "# dataframe for path of files.\n",
    "path_df = pd.DataFrame(file_path, columns=['path'])\n",
    "actors_df = pd.DataFrame(actors, columns=['actors'])\n",
    "gender_df = pd.DataFrame(gender, columns=['gender'])                      \n",
    "Crema_df = pd.concat([emotion_df, actors_df, gender_df, path_df], axis=1)\n",
    "Crema_df.head()"
   ]
  },
  {
   "cell_type": "code",
   "execution_count": 524,
   "id": "6902c933-5612-40b0-ac21-0873d9a79a39",
   "metadata": {},
   "outputs": [
    {
     "data": {
      "text/plain": [
       "(455, 4)"
      ]
     },
     "execution_count": 524,
     "metadata": {},
     "output_type": "execute_result"
    }
   ],
   "source": [
    "Crema_df.shape"
   ]
  },
  {
   "cell_type": "code",
   "execution_count": 525,
   "id": "2dd29284-72ae-42d2-aafe-f4609cc58a4b",
   "metadata": {},
   "outputs": [],
   "source": [
    "actor_files = {}\n",
    "\n",
    "for index, row in Crema_df.iterrows():\n",
    "    actor = row['actors']\n",
    "    if actor not in actor_files.keys(): \n",
    "        actor_files[actor] = 1\n",
    "    else: \n",
    "        actor_files[actor]+=1"
   ]
  },
  {
   "cell_type": "code",
   "execution_count": 526,
   "id": "dda69221-a09d-4084-a66d-6b73d4a60cbf",
   "metadata": {},
   "outputs": [
    {
     "data": {
      "text/plain": [
       "{'91': 5,\n",
       " '90': 5,\n",
       " '89': 5,\n",
       " '88': 5,\n",
       " '87': 5,\n",
       " '86': 5,\n",
       " '85': 5,\n",
       " '84': 5,\n",
       " '83': 5,\n",
       " '82': 5,\n",
       " '81': 5,\n",
       " '80': 5,\n",
       " '79': 5,\n",
       " '78': 5,\n",
       " '77': 5,\n",
       " '76': 5,\n",
       " '75': 5,\n",
       " '74': 5,\n",
       " '73': 5,\n",
       " '72': 5,\n",
       " '71': 5,\n",
       " '70': 5,\n",
       " '69': 5,\n",
       " '68': 5,\n",
       " '67': 5,\n",
       " '66': 5,\n",
       " '65': 5,\n",
       " '64': 5,\n",
       " '63': 5,\n",
       " '62': 5,\n",
       " '61': 5,\n",
       " '60': 5,\n",
       " '59': 5,\n",
       " '58': 5,\n",
       " '57': 5,\n",
       " '56': 5,\n",
       " '55': 5,\n",
       " '54': 5,\n",
       " '53': 5,\n",
       " '52': 5,\n",
       " '51': 5,\n",
       " '50': 5,\n",
       " '49': 5,\n",
       " '48': 5,\n",
       " '47': 5,\n",
       " '46': 5,\n",
       " '45': 5,\n",
       " '44': 5,\n",
       " '43': 5,\n",
       " '42': 5,\n",
       " '41': 5,\n",
       " '40': 5,\n",
       " '39': 5,\n",
       " '38': 5,\n",
       " '37': 5,\n",
       " '36': 5,\n",
       " '35': 5,\n",
       " '34': 5,\n",
       " '33': 5,\n",
       " '32': 5,\n",
       " '31': 5,\n",
       " '30': 5,\n",
       " '29': 5,\n",
       " '28': 5,\n",
       " '27': 5,\n",
       " '26': 5,\n",
       " '25': 5,\n",
       " '24': 5,\n",
       " '23': 5,\n",
       " '22': 5,\n",
       " '21': 5,\n",
       " '20': 5,\n",
       " '19': 5,\n",
       " '18': 5,\n",
       " '17': 5,\n",
       " '16': 5,\n",
       " '15': 5,\n",
       " '14': 5,\n",
       " '13': 5,\n",
       " '12': 5,\n",
       " '11': 5,\n",
       " '10': 5,\n",
       " '09': 5,\n",
       " '08': 5,\n",
       " '07': 5,\n",
       " '06': 5,\n",
       " '05': 5,\n",
       " '04': 5,\n",
       " '03': 5,\n",
       " '02': 5,\n",
       " '01': 5}"
      ]
     },
     "execution_count": 526,
     "metadata": {},
     "output_type": "execute_result"
    }
   ],
   "source": [
    "actor_files"
   ]
  },
  {
   "cell_type": "code",
   "execution_count": 527,
   "id": "63614434-445d-46cd-a7d5-f80e8cffdafd",
   "metadata": {},
   "outputs": [],
   "source": [
    "count_males = 0 \n",
    "count_females = 0 \n",
    "male_list = []\n",
    "for index, row in Crema_df.iterrows(): \n",
    "    gender = row['gender']\n",
    "    actor = row['actors']\n",
    "    if gender == 'male':\n",
    "        count_males +=1\n",
    "        if actor not in male_list: \n",
    "            male_list.append(actor)\n",
    "    else: \n",
    "        count_females +=1"
   ]
  },
  {
   "cell_type": "code",
   "execution_count": 528,
   "id": "050de4db-060a-4469-8c95-2acd622a6636",
   "metadata": {},
   "outputs": [
    {
     "data": {
      "text/plain": [
       "(235, 220)"
      ]
     },
     "execution_count": 528,
     "metadata": {},
     "output_type": "execute_result"
    }
   ],
   "source": [
    "count_males, count_females"
   ]
  },
  {
   "cell_type": "markdown",
   "id": "f55b7c93-6bf9-45d9-ac15-e09438f2e85f",
   "metadata": {},
   "source": [
    "Since there are more males than females we will remove randomly 3 male actors (since there are exactly 5 audio files per actor)"
   ]
  },
  {
   "cell_type": "code",
   "execution_count": 529,
   "id": "53ce34a2-b1ea-41b8-90a7-39297deec882",
   "metadata": {},
   "outputs": [
    {
     "data": {
      "text/plain": [
       "['17', '80', '88']"
      ]
     },
     "execution_count": 529,
     "metadata": {},
     "output_type": "execute_result"
    }
   ],
   "source": [
    "import random \n",
    "random.seed(42)\n",
    "males_to_remove = random.sample(male_list, 3)\n",
    "males_to_remove"
   ]
  },
  {
   "cell_type": "code",
   "execution_count": 530,
   "id": "4323118b-1eed-4409-a19f-cf1963ed03aa",
   "metadata": {},
   "outputs": [],
   "source": [
    "new_df = []\n",
    "for index, row in Crema_df.iterrows(): \n",
    "    if row['actors'] not in males_to_remove: \n",
    "        new_df.append(row)"
   ]
  },
  {
   "cell_type": "code",
   "execution_count": 531,
   "id": "5c0cf57d-070c-447b-a891-f1053cbea5cb",
   "metadata": {},
   "outputs": [],
   "source": [
    "CREMA_df = pd.DataFrame(new_df)"
   ]
  },
  {
   "cell_type": "code",
   "execution_count": 532,
   "id": "cef757f1-507b-40af-94f6-2a08a9a8135f",
   "metadata": {},
   "outputs": [],
   "source": [
    "for index, row in CREMA_df.iterrows(): \n",
    "    if row['actors'] == '17': \n",
    "        print(\"Elements not removed\")"
   ]
  },
  {
   "cell_type": "code",
   "execution_count": 533,
   "id": "11db02c1-1fc1-4413-9005-880854e1486f",
   "metadata": {},
   "outputs": [],
   "source": [
    "count_males = 0 \n",
    "count_females = 0 \n",
    "male_list = []\n",
    "female_list = []\n",
    "for index, row in CREMA_df.iterrows(): \n",
    "    gender = row['gender']\n",
    "    actor = row['actors']\n",
    "    if gender == 'male':\n",
    "        count_males +=1\n",
    "        if actor not in male_list: \n",
    "            male_list.append(actor)\n",
    "    else: \n",
    "        count_females +=1\n",
    "        if actor not in female_list: \n",
    "            female_list.append(actor)"
   ]
  },
  {
   "cell_type": "code",
   "execution_count": 534,
   "id": "003eab13-6e57-49b6-b72e-e06231732f9f",
   "metadata": {},
   "outputs": [
    {
     "data": {
      "text/plain": [
       "(220, 220)"
      ]
     },
     "execution_count": 534,
     "metadata": {},
     "output_type": "execute_result"
    }
   ],
   "source": [
    "count_males, count_females"
   ]
  },
  {
   "cell_type": "code",
   "execution_count": 535,
   "id": "8aa564e0-e26f-4ac0-9b8a-d3e7b5423b7b",
   "metadata": {},
   "outputs": [
    {
     "data": {
      "text/plain": [
       "44"
      ]
     },
     "execution_count": 535,
     "metadata": {},
     "output_type": "execute_result"
    }
   ],
   "source": [
    "len(female_list)"
   ]
  },
  {
   "cell_type": "code",
   "execution_count": 536,
   "id": "daaab4a1-8854-4af2-b00a-7210d30d813e",
   "metadata": {},
   "outputs": [
    {
     "data": {
      "text/plain": [
       "44"
      ]
     },
     "execution_count": 536,
     "metadata": {},
     "output_type": "execute_result"
    }
   ],
   "source": [
    "len(male_list)"
   ]
  },
  {
   "cell_type": "code",
   "execution_count": 537,
   "id": "19d41aba-a6bd-4a0c-8473-69bc78466a64",
   "metadata": {},
   "outputs": [],
   "source": [
    "CREMA_train = []\n",
    "CREMA_val = []\n",
    "CREMA_test = []"
   ]
  },
  {
   "cell_type": "code",
   "execution_count": 538,
   "id": "a87f0ee1-4d5b-4c4c-a005-36afc83fdf11",
   "metadata": {},
   "outputs": [],
   "source": [
    "females_train = random.sample(female_list, 32)\n",
    "males_train = random.sample(male_list, 32)\n",
    "\n",
    "# remove the elements assigned to train \n",
    "for element in females_train:\n",
    "    if element in female_list:\n",
    "        female_list.remove(element)\n",
    "        \n",
    "for element in males_train:\n",
    "    if element in male_list:\n",
    "        male_list.remove(element)\n",
    "\n",
    "         \n",
    "females_val = random.sample(female_list, 6) \n",
    "males_val = random.sample(male_list, 6) \n",
    "\n",
    "# remove the elements assigned to val\n",
    "for element in females_val:\n",
    "    if element in female_list:\n",
    "        female_list.remove(element)\n",
    "        \n",
    "for element in males_val:\n",
    "    if element in male_list:\n",
    "        male_list.remove(element)\n",
    "        \n",
    "females_test = random.sample(female_list, 6) \n",
    "males_test = random.sample(male_list, 6)        "
   ]
  },
  {
   "cell_type": "code",
   "execution_count": 539,
   "id": "42904415-8fe9-435c-a442-640bf629f0d1",
   "metadata": {},
   "outputs": [
    {
     "data": {
      "text/plain": [
       "(['54',\n",
       "  '56',\n",
       "  '58',\n",
       "  '74',\n",
       "  '76',\n",
       "  '13',\n",
       "  '78',\n",
       "  '29',\n",
       "  '84',\n",
       "  '89',\n",
       "  '09',\n",
       "  '60',\n",
       "  '04',\n",
       "  '55',\n",
       "  '52',\n",
       "  '91',\n",
       "  '02',\n",
       "  '07',\n",
       "  '46',\n",
       "  '49',\n",
       "  '37',\n",
       "  '10',\n",
       "  '20',\n",
       "  '75',\n",
       "  '21',\n",
       "  '53',\n",
       "  '06',\n",
       "  '28',\n",
       "  '18',\n",
       "  '63',\n",
       "  '30',\n",
       "  '03'],\n",
       " ['57',\n",
       "  '69',\n",
       "  '65',\n",
       "  '45',\n",
       "  '77',\n",
       "  '81',\n",
       "  '41',\n",
       "  '15',\n",
       "  '44',\n",
       "  '23',\n",
       "  '59',\n",
       "  '86',\n",
       "  '34',\n",
       "  '01',\n",
       "  '85',\n",
       "  '66',\n",
       "  '31',\n",
       "  '33',\n",
       "  '05',\n",
       "  '48',\n",
       "  '50',\n",
       "  '67',\n",
       "  '51',\n",
       "  '22',\n",
       "  '36',\n",
       "  '87',\n",
       "  '71',\n",
       "  '39',\n",
       "  '42',\n",
       "  '11',\n",
       "  '32',\n",
       "  '14'],\n",
       " ['43', '61', '40', '47', '73', '24'],\n",
       " ['62', '68', '64', '83', '70', '26'],\n",
       " ['08', '79', '12', '25', '72', '82'],\n",
       " ['16', '19', '38', '35', '27', '90'])"
      ]
     },
     "execution_count": 539,
     "metadata": {},
     "output_type": "execute_result"
    }
   ],
   "source": [
    "females_train, males_train, females_val, males_val, females_test, males_test"
   ]
  },
  {
   "cell_type": "code",
   "execution_count": 540,
   "id": "9612e9b2-f0a6-4da3-9535-1ae93106c1b4",
   "metadata": {},
   "outputs": [],
   "source": [
    "train = females_train + males_train \n",
    "val = females_val + males_val \n",
    "test = females_test + males_test"
   ]
  },
  {
   "cell_type": "code",
   "execution_count": 541,
   "id": "6caf5aed-e8ba-456b-9d14-707420c0f554",
   "metadata": {
    "tags": []
   },
   "outputs": [],
   "source": [
    "for index, row in CREMA_df.iterrows(): \n",
    "    gender = row['gender']\n",
    "    actor = row['actors']\n",
    "    if actor in train: \n",
    "        CREMA_train.append(row)\n",
    "    elif actor in val: \n",
    "        CREMA_val.append(row)\n",
    "    else:\n",
    "        CREMA_test.append(row)"
   ]
  },
  {
   "cell_type": "code",
   "execution_count": 542,
   "id": "c0bef776-aba5-4c9c-a26d-ad3ce437d03f",
   "metadata": {},
   "outputs": [],
   "source": [
    "CREMA_train = pd.DataFrame(CREMA_train) \n",
    "CREMA_val = pd.DataFrame(CREMA_val) \n",
    "CREMA_test = pd.DataFrame(CREMA_test)"
   ]
  },
  {
   "cell_type": "code",
   "execution_count": 543,
   "id": "eaf859d0-b630-4da7-8e96-4a3433d1343d",
   "metadata": {
    "tags": []
   },
   "outputs": [
    {
     "data": {
      "text/plain": [
       "((320, 4), (60, 4), (60, 4))"
      ]
     },
     "execution_count": 543,
     "metadata": {},
     "output_type": "execute_result"
    }
   ],
   "source": [
    "CREMA_train.shape, CREMA_val.shape, CREMA_test.shape"
   ]
  },
  {
   "cell_type": "code",
   "execution_count": 544,
   "id": "1af6a23f-6547-420a-b510-0b25d2e2b5ff",
   "metadata": {
    "tags": []
   },
   "outputs": [
    {
     "data": {
      "text/html": [
       "<div>\n",
       "<style scoped>\n",
       "    .dataframe tbody tr th:only-of-type {\n",
       "        vertical-align: middle;\n",
       "    }\n",
       "\n",
       "    .dataframe tbody tr th {\n",
       "        vertical-align: top;\n",
       "    }\n",
       "\n",
       "    .dataframe thead th {\n",
       "        text-align: right;\n",
       "    }\n",
       "</style>\n",
       "<table border=\"1\" class=\"dataframe\">\n",
       "  <thead>\n",
       "    <tr style=\"text-align: right;\">\n",
       "      <th></th>\n",
       "      <th>emotion_label</th>\n",
       "      <th>actors</th>\n",
       "      <th>gender</th>\n",
       "      <th>path</th>\n",
       "    </tr>\n",
       "  </thead>\n",
       "  <tbody>\n",
       "    <tr>\n",
       "      <th>0</th>\n",
       "      <td>happy</td>\n",
       "      <td>91</td>\n",
       "      <td>female</td>\n",
       "      <td>/media/helemanc/OS/Users/i2CAT/Desktop/Dataset...</td>\n",
       "    </tr>\n",
       "    <tr>\n",
       "      <th>1</th>\n",
       "      <td>sadness</td>\n",
       "      <td>91</td>\n",
       "      <td>female</td>\n",
       "      <td>/media/helemanc/OS/Users/i2CAT/Desktop/Dataset...</td>\n",
       "    </tr>\n",
       "    <tr>\n",
       "      <th>2</th>\n",
       "      <td>angry</td>\n",
       "      <td>91</td>\n",
       "      <td>female</td>\n",
       "      <td>/media/helemanc/OS/Users/i2CAT/Desktop/Dataset...</td>\n",
       "    </tr>\n",
       "    <tr>\n",
       "      <th>3</th>\n",
       "      <td>disgust</td>\n",
       "      <td>91</td>\n",
       "      <td>female</td>\n",
       "      <td>/media/helemanc/OS/Users/i2CAT/Desktop/Dataset...</td>\n",
       "    </tr>\n",
       "    <tr>\n",
       "      <th>4</th>\n",
       "      <td>fear</td>\n",
       "      <td>91</td>\n",
       "      <td>female</td>\n",
       "      <td>/media/helemanc/OS/Users/i2CAT/Desktop/Dataset...</td>\n",
       "    </tr>\n",
       "  </tbody>\n",
       "</table>\n",
       "</div>"
      ],
      "text/plain": [
       "  emotion_label actors  gender  \\\n",
       "0         happy     91  female   \n",
       "1       sadness     91  female   \n",
       "2         angry     91  female   \n",
       "3       disgust     91  female   \n",
       "4          fear     91  female   \n",
       "\n",
       "                                                path  \n",
       "0  /media/helemanc/OS/Users/i2CAT/Desktop/Dataset...  \n",
       "1  /media/helemanc/OS/Users/i2CAT/Desktop/Dataset...  \n",
       "2  /media/helemanc/OS/Users/i2CAT/Desktop/Dataset...  \n",
       "3  /media/helemanc/OS/Users/i2CAT/Desktop/Dataset...  \n",
       "4  /media/helemanc/OS/Users/i2CAT/Desktop/Dataset...  "
      ]
     },
     "execution_count": 544,
     "metadata": {},
     "output_type": "execute_result"
    }
   ],
   "source": [
    "CREMA_train.head()"
   ]
  },
  {
   "cell_type": "code",
   "execution_count": 545,
   "id": "2dd1d194-eb35-4d14-93ec-6674661b299e",
   "metadata": {
    "tags": []
   },
   "outputs": [],
   "source": [
    "CREMA_train = CREMA_train.drop(['actors'], 1)\n",
    "CREMA_val = CREMA_val.drop(['actors'], 1)\n",
    "CREMA_test = CREMA_test.drop(['actors'], 1)"
   ]
  },
  {
   "cell_type": "markdown",
   "id": "147e4601-b170-49c2-92b3-b40efca5cbd9",
   "metadata": {},
   "source": [
    "## Combine datasets"
   ]
  },
  {
   "cell_type": "code",
   "execution_count": 546,
   "id": "6077ec68-a6a4-4c5c-a2ac-9303f33190d0",
   "metadata": {},
   "outputs": [],
   "source": [
    "df_train = pd.concat([RAV_train, SAVEE_train, TESS_train, CREMA_train])"
   ]
  },
  {
   "cell_type": "code",
   "execution_count": 547,
   "id": "759f5527-3128-4bdf-8532-87b96b7a4a9a",
   "metadata": {},
   "outputs": [],
   "source": [
    "df_val = pd.concat([RAV_val, SAVEE_val, CREMA_val])"
   ]
  },
  {
   "cell_type": "code",
   "execution_count": 548,
   "id": "ec55623d-79a9-4249-9412-134739db4fa4",
   "metadata": {},
   "outputs": [],
   "source": [
    "df_test = pd.concat([RAV_test, SAVEE_test, TESS_test, CREMA_test])"
   ]
  },
  {
   "cell_type": "code",
   "execution_count": 549,
   "id": "2a54be3e-0c77-4a8e-a76a-b3b54acee7a8",
   "metadata": {
    "collapsed": true,
    "jupyter": {
     "outputs_hidden": true
    },
    "tags": []
   },
   "outputs": [
    {
     "data": {
      "text/plain": [
       "((3160, 4), (300, 3), (1700, 4))"
      ]
     },
     "execution_count": 549,
     "metadata": {},
     "output_type": "execute_result"
    }
   ],
   "source": [
    "df_train.shape, df_val.shape, df_test.shape"
   ]
  },
  {
   "cell_type": "markdown",
   "id": "175049e8-ef74-450f-a8d0-2db1701c42db",
   "metadata": {},
   "source": [
    "## Save dataframes to retrieve paths for Training, Val and Test"
   ]
  },
  {
   "cell_type": "code",
   "execution_count": 550,
   "id": "4bc94b4a-1379-4be9-8032-510aa6beceb6",
   "metadata": {},
   "outputs": [],
   "source": [
    "preprocess_path = \"/home/helemanc/Desktop/Binary_Model/pre-processed\""
   ]
  },
  {
   "cell_type": "code",
   "execution_count": 551,
   "id": "43ef64c0-ab3b-4975-9de0-0545e4636996",
   "metadata": {},
   "outputs": [],
   "source": [
    "df_train.to_csv(os.path.join(preprocess_path,\"df_train.csv\"), index=False)"
   ]
  },
  {
   "cell_type": "code",
   "execution_count": 552,
   "id": "b19e96eb-6bea-40b3-9692-ea2a6ea797be",
   "metadata": {},
   "outputs": [],
   "source": [
    "df_val.to_csv(os.path.join(preprocess_path,\"df_val.csv\"), index=False)"
   ]
  },
  {
   "cell_type": "code",
   "execution_count": 553,
   "id": "3e866cb9-dc54-45c6-9a9a-ff6211a621ea",
   "metadata": {},
   "outputs": [],
   "source": [
    "df_test.to_csv(os.path.join(preprocess_path,\"df_test.csv\"), index=False)"
   ]
  },
  {
   "cell_type": "markdown",
   "id": "3c23b195-7eab-4353-ae04-0e7ff76176fe",
   "metadata": {
    "tags": []
   },
   "source": [
    "# Load Dataframes"
   ]
  },
  {
   "cell_type": "code",
   "execution_count": 554,
   "id": "fb964cd1-edfb-4e63-86c7-4e06852da313",
   "metadata": {
    "tags": []
   },
   "outputs": [],
   "source": [
    "preprocess_path = \"/home/helemanc/Desktop/Binary_Model/pre-processed\"\n",
    "\n",
    "df_train = pd.read_csv(os.path.join(preprocess_path,\"df_train.csv\"))\n",
    "df_val = pd.read_csv(os.path.join(preprocess_path,\"df_val.csv\"))\n",
    "df_test = pd.read_csv(os.path.join(preprocess_path,\"df_test.csv\"))                      "
   ]
  },
  {
   "cell_type": "markdown",
   "id": "1a45753b-cc4e-490c-9165-4480aa4e09a1",
   "metadata": {},
   "source": [
    "# Check Bit-Depth of wav files"
   ]
  },
  {
   "cell_type": "code",
   "execution_count": 423,
   "id": "08e3e494-fbd4-428a-846e-15cffe344936",
   "metadata": {},
   "outputs": [],
   "source": [
    "from soundfile import SoundFile"
   ]
  },
  {
   "cell_type": "code",
   "execution_count": 418,
   "id": "4d9d0c4d-ada5-4c71-b481-da6cda1de942",
   "metadata": {},
   "outputs": [],
   "source": [
    "ravdess_bd = []\n",
    "savee_bd = []\n",
    "tess_bd = []\n",
    "crema_bd = []\n",
    "\n",
    "\n",
    "for index, row in df_train.iterrows(): \n",
    "    path = row['path']\n",
    "    file = SoundFile(path)\n",
    "    if 'ravdess' in path:\n",
    "        ravdess_bd.append(file.subtype)\n",
    "    elif 'savee' in path: \n",
    "        savee_bd.append(file.subtype)\n",
    "    elif 'creamd' in path: \n",
    "        crema_bd.append(file.subtype) \n",
    "    else: \n",
    "        tess_bd.append(file.subtype)\n",
    "         "
   ]
  },
  {
   "cell_type": "code",
   "execution_count": 419,
   "id": "b99d77c1-19df-405a-ba21-e84d3f053c46",
   "metadata": {},
   "outputs": [],
   "source": [
    "# check that all the audio files of a dataset have the same bith depth \n",
    "for el in ravdess_bd: \n",
    "    if el != 'PCM_16':\n",
    "        print('Diff')"
   ]
  },
  {
   "cell_type": "code",
   "execution_count": 407,
   "id": "c3b15017-1d10-42bd-a46a-4f537f285bd3",
   "metadata": {},
   "outputs": [],
   "source": [
    "for el in savee_bd: \n",
    "    if el != 'PCM_16':\n",
    "        print('Diff')"
   ]
  },
  {
   "cell_type": "code",
   "execution_count": 408,
   "id": "b1d34ef9-aeca-4ef6-89a5-e9eadaf08b76",
   "metadata": {},
   "outputs": [],
   "source": [
    "for el in tess_bd: \n",
    "    if el != 'PCM_16':\n",
    "        print('Diff')"
   ]
  },
  {
   "cell_type": "code",
   "execution_count": 409,
   "id": "28de8c47-86ef-4128-88d2-037631566876",
   "metadata": {},
   "outputs": [],
   "source": [
    "for el in crema_bd: \n",
    "    if el != 'PCM_16':\n",
    "        print('Diff')"
   ]
  },
  {
   "cell_type": "markdown",
   "id": "0fc1560e-72fe-4f93-9fbd-f916a299bad3",
   "metadata": {
    "tags": []
   },
   "source": [
    "# Check the volume of wav files - PENDING \n",
    "\n",
    "To check the volume we are going to compute the rms for each audio files. Later we will plot the distribution of the volume for each database. \n",
    "https://docs.python.org/3/library/audioop.html"
   ]
  },
  {
   "cell_type": "code",
   "execution_count": 420,
   "id": "dd3a422c-956c-4656-ade9-2f6f8650c8bd",
   "metadata": {},
   "outputs": [],
   "source": [
    "ravdess_volume = []\n",
    "savee_volume = []\n",
    "tess_volume = []\n",
    "crema_volume = []"
   ]
  },
  {
   "cell_type": "code",
   "execution_count": 431,
   "id": "bbae2f9f-d68d-411a-9c07-707d6b61398e",
   "metadata": {},
   "outputs": [
    {
     "name": "stdout",
     "output_type": "stream",
     "text": [
      "/media/helemanc/OS/Users/i2CAT/Desktop/Datasets SER/ravdess-emotional-speech-audio/audio_speech_actors_01-24/Actor_01/03-01-07-01-02-02-01.wav\n",
      "0.002891028\n",
      "/media/helemanc/OS/Users/i2CAT/Desktop/Datasets SER/ravdess-emotional-speech-audio/audio_speech_actors_01-24/Actor_01/03-01-07-02-01-01-01.wav\n",
      "0.011250242\n",
      "/media/helemanc/OS/Users/i2CAT/Desktop/Datasets SER/ravdess-emotional-speech-audio/audio_speech_actors_01-24/Actor_01/03-01-07-02-01-02-01.wav\n",
      "0.012449847\n",
      "/media/helemanc/OS/Users/i2CAT/Desktop/Datasets SER/ravdess-emotional-speech-audio/audio_speech_actors_01-24/Actor_01/03-01-07-02-02-01-01.wav\n",
      "0.011299619\n",
      "/media/helemanc/OS/Users/i2CAT/Desktop/Datasets SER/ravdess-emotional-speech-audio/audio_speech_actors_01-24/Actor_01/03-01-07-02-02-02-01.wav\n",
      "0.01152588\n",
      "/media/helemanc/OS/Users/i2CAT/Desktop/Datasets SER/ravdess-emotional-speech-audio/audio_speech_actors_01-24/Actor_01/03-01-08-01-01-01-01.wav\n",
      "0.0031425061\n",
      "/media/helemanc/OS/Users/i2CAT/Desktop/Datasets SER/ravdess-emotional-speech-audio/audio_speech_actors_01-24/Actor_01/03-01-08-01-01-02-01.wav\n",
      "0.003142836\n",
      "/media/helemanc/OS/Users/i2CAT/Desktop/Datasets SER/ravdess-emotional-speech-audio/audio_speech_actors_01-24/Actor_01/03-01-08-01-02-01-01.wav\n",
      "0.0033445435\n",
      "/media/helemanc/OS/Users/i2CAT/Desktop/Datasets SER/ravdess-emotional-speech-audio/audio_speech_actors_01-24/Actor_01/03-01-08-01-02-02-01.wav\n",
      "0.003933922\n",
      "/media/helemanc/OS/Users/i2CAT/Desktop/Datasets SER/ravdess-emotional-speech-audio/audio_speech_actors_01-24/Actor_01/03-01-08-02-01-01-01.wav\n",
      "0.007144012\n",
      "/media/helemanc/OS/Users/i2CAT/Desktop/Datasets SER/ravdess-emotional-speech-audio/audio_speech_actors_01-24/Actor_01/03-01-08-02-01-02-01.wav\n",
      "0.009437374\n",
      "/media/helemanc/OS/Users/i2CAT/Desktop/Datasets SER/ravdess-emotional-speech-audio/audio_speech_actors_01-24/Actor_01/03-01-08-02-02-01-01.wav\n",
      "0.006996199\n",
      "/media/helemanc/OS/Users/i2CAT/Desktop/Datasets SER/ravdess-emotional-speech-audio/audio_speech_actors_01-24/Actor_01/03-01-08-02-02-02-01.wav\n",
      "0.00950041\n",
      "/media/helemanc/OS/Users/i2CAT/Desktop/Datasets SER/ravdess-emotional-speech-audio/audio_speech_actors_01-24/Actor_01/03-01-04-02-02-02-01.wav\n",
      "0.0061380276\n",
      "/media/helemanc/OS/Users/i2CAT/Desktop/Datasets SER/ravdess-emotional-speech-audio/audio_speech_actors_01-24/Actor_01/03-01-05-01-01-01-01.wav\n",
      "0.008680008\n",
      "/media/helemanc/OS/Users/i2CAT/Desktop/Datasets SER/ravdess-emotional-speech-audio/audio_speech_actors_01-24/Actor_01/03-01-05-01-01-02-01.wav\n",
      "0.009724915\n",
      "/media/helemanc/OS/Users/i2CAT/Desktop/Datasets SER/ravdess-emotional-speech-audio/audio_speech_actors_01-24/Actor_01/03-01-05-01-02-01-01.wav\n",
      "0.0069091106\n",
      "/media/helemanc/OS/Users/i2CAT/Desktop/Datasets SER/ravdess-emotional-speech-audio/audio_speech_actors_01-24/Actor_01/03-01-05-01-02-02-01.wav\n",
      "0.010852489\n",
      "/media/helemanc/OS/Users/i2CAT/Desktop/Datasets SER/ravdess-emotional-speech-audio/audio_speech_actors_01-24/Actor_01/03-01-05-02-01-01-01.wav\n",
      "0.053951383\n",
      "/media/helemanc/OS/Users/i2CAT/Desktop/Datasets SER/ravdess-emotional-speech-audio/audio_speech_actors_01-24/Actor_01/03-01-05-02-01-02-01.wav\n",
      "0.0329866\n",
      "/media/helemanc/OS/Users/i2CAT/Desktop/Datasets SER/ravdess-emotional-speech-audio/audio_speech_actors_01-24/Actor_01/03-01-05-02-02-01-01.wav\n",
      "0.03281328\n",
      "/media/helemanc/OS/Users/i2CAT/Desktop/Datasets SER/ravdess-emotional-speech-audio/audio_speech_actors_01-24/Actor_01/03-01-05-02-02-02-01.wav\n",
      "0.092645615\n",
      "/media/helemanc/OS/Users/i2CAT/Desktop/Datasets SER/ravdess-emotional-speech-audio/audio_speech_actors_01-24/Actor_01/03-01-06-01-01-01-01.wav\n",
      "0.005965429\n",
      "/media/helemanc/OS/Users/i2CAT/Desktop/Datasets SER/ravdess-emotional-speech-audio/audio_speech_actors_01-24/Actor_01/03-01-06-01-01-02-01.wav\n",
      "0.0056967204\n",
      "/media/helemanc/OS/Users/i2CAT/Desktop/Datasets SER/ravdess-emotional-speech-audio/audio_speech_actors_01-24/Actor_01/03-01-06-01-02-01-01.wav\n",
      "0.0049561965\n",
      "/media/helemanc/OS/Users/i2CAT/Desktop/Datasets SER/ravdess-emotional-speech-audio/audio_speech_actors_01-24/Actor_01/03-01-03-01-01-02-01.wav\n",
      "0.004908628\n",
      "/media/helemanc/OS/Users/i2CAT/Desktop/Datasets SER/ravdess-emotional-speech-audio/audio_speech_actors_01-24/Actor_01/03-01-03-01-02-01-01.wav\n",
      "0.0037529273\n",
      "/media/helemanc/OS/Users/i2CAT/Desktop/Datasets SER/ravdess-emotional-speech-audio/audio_speech_actors_01-24/Actor_01/03-01-03-01-02-02-01.wav\n",
      "0.0037523515\n",
      "/media/helemanc/OS/Users/i2CAT/Desktop/Datasets SER/ravdess-emotional-speech-audio/audio_speech_actors_01-24/Actor_01/03-01-03-02-01-01-01.wav\n",
      "0.0064417245\n",
      "/media/helemanc/OS/Users/i2CAT/Desktop/Datasets SER/ravdess-emotional-speech-audio/audio_speech_actors_01-24/Actor_01/03-01-03-02-01-02-01.wav\n",
      "0.008209796\n",
      "/media/helemanc/OS/Users/i2CAT/Desktop/Datasets SER/ravdess-emotional-speech-audio/audio_speech_actors_01-24/Actor_01/03-01-03-02-02-01-01.wav\n",
      "0.010935009\n",
      "/media/helemanc/OS/Users/i2CAT/Desktop/Datasets SER/ravdess-emotional-speech-audio/audio_speech_actors_01-24/Actor_01/03-01-03-02-02-02-01.wav\n",
      "0.010206849\n",
      "/media/helemanc/OS/Users/i2CAT/Desktop/Datasets SER/ravdess-emotional-speech-audio/audio_speech_actors_01-24/Actor_01/03-01-04-01-01-01-01.wav\n",
      "0.0021572986\n",
      "/media/helemanc/OS/Users/i2CAT/Desktop/Datasets SER/ravdess-emotional-speech-audio/audio_speech_actors_01-24/Actor_01/03-01-04-01-01-02-01.wav\n",
      "0.0020078549\n",
      "/media/helemanc/OS/Users/i2CAT/Desktop/Datasets SER/ravdess-emotional-speech-audio/audio_speech_actors_01-24/Actor_01/03-01-04-01-02-01-01.wav\n",
      "0.0017559091\n",
      "/media/helemanc/OS/Users/i2CAT/Desktop/Datasets SER/ravdess-emotional-speech-audio/audio_speech_actors_01-24/Actor_01/03-01-04-01-02-02-01.wav\n",
      "0.0023001241\n",
      "/media/helemanc/OS/Users/i2CAT/Desktop/Datasets SER/ravdess-emotional-speech-audio/audio_speech_actors_01-24/Actor_01/03-01-04-02-01-01-01.wav\n",
      "0.0029319841\n",
      "/media/helemanc/OS/Users/i2CAT/Desktop/Datasets SER/ravdess-emotional-speech-audio/audio_speech_actors_01-24/Actor_01/03-01-04-02-01-02-01.wav\n",
      "0.0048141656\n",
      "/media/helemanc/OS/Users/i2CAT/Desktop/Datasets SER/ravdess-emotional-speech-audio/audio_speech_actors_01-24/Actor_01/03-01-04-02-02-01-01.wav\n",
      "0.005045288\n",
      "/media/helemanc/OS/Users/i2CAT/Desktop/Datasets SER/ravdess-emotional-speech-audio/audio_speech_actors_01-24/Actor_01/03-01-06-01-02-02-01.wav\n",
      "0.004582121\n",
      "/media/helemanc/OS/Users/i2CAT/Desktop/Datasets SER/ravdess-emotional-speech-audio/audio_speech_actors_01-24/Actor_01/03-01-06-02-01-01-01.wav\n",
      "0.016492225\n",
      "/media/helemanc/OS/Users/i2CAT/Desktop/Datasets SER/ravdess-emotional-speech-audio/audio_speech_actors_01-24/Actor_01/03-01-06-02-01-02-01.wav\n",
      "0.022539504\n",
      "/media/helemanc/OS/Users/i2CAT/Desktop/Datasets SER/ravdess-emotional-speech-audio/audio_speech_actors_01-24/Actor_01/03-01-06-02-02-01-01.wav\n",
      "0.036915585\n",
      "/media/helemanc/OS/Users/i2CAT/Desktop/Datasets SER/ravdess-emotional-speech-audio/audio_speech_actors_01-24/Actor_01/03-01-06-02-02-02-01.wav\n",
      "0.024964359\n",
      "/media/helemanc/OS/Users/i2CAT/Desktop/Datasets SER/ravdess-emotional-speech-audio/audio_speech_actors_01-24/Actor_01/03-01-07-01-01-01-01.wav\n",
      "0.0026100695\n",
      "/media/helemanc/OS/Users/i2CAT/Desktop/Datasets SER/ravdess-emotional-speech-audio/audio_speech_actors_01-24/Actor_01/03-01-07-01-01-02-01.wav\n",
      "0.0030146432\n",
      "/media/helemanc/OS/Users/i2CAT/Desktop/Datasets SER/ravdess-emotional-speech-audio/audio_speech_actors_01-24/Actor_01/03-01-07-01-02-01-01.wav\n",
      "0.0028131863\n",
      "/media/helemanc/OS/Users/i2CAT/Desktop/Datasets SER/ravdess-emotional-speech-audio/audio_speech_actors_01-24/Actor_01/03-01-02-01-02-01-01.wav\n",
      "0.002620414\n",
      "/media/helemanc/OS/Users/i2CAT/Desktop/Datasets SER/ravdess-emotional-speech-audio/audio_speech_actors_01-24/Actor_01/03-01-02-01-02-02-01.wav\n",
      "0.0026788008\n",
      "/media/helemanc/OS/Users/i2CAT/Desktop/Datasets SER/ravdess-emotional-speech-audio/audio_speech_actors_01-24/Actor_01/03-01-02-02-01-01-01.wav\n",
      "0.0015032766\n",
      "/media/helemanc/OS/Users/i2CAT/Desktop/Datasets SER/ravdess-emotional-speech-audio/audio_speech_actors_01-24/Actor_01/03-01-02-02-01-02-01.wav\n",
      "0.0016145473\n",
      "/media/helemanc/OS/Users/i2CAT/Desktop/Datasets SER/ravdess-emotional-speech-audio/audio_speech_actors_01-24/Actor_01/03-01-02-02-02-01-01.wav\n",
      "0.0020961473\n",
      "/media/helemanc/OS/Users/i2CAT/Desktop/Datasets SER/ravdess-emotional-speech-audio/audio_speech_actors_01-24/Actor_01/03-01-02-02-02-02-01.wav\n",
      "0.0021400296\n",
      "/media/helemanc/OS/Users/i2CAT/Desktop/Datasets SER/ravdess-emotional-speech-audio/audio_speech_actors_01-24/Actor_01/03-01-03-01-01-01-01.wav\n",
      "0.004270502\n",
      "/media/helemanc/OS/Users/i2CAT/Desktop/Datasets SER/ravdess-emotional-speech-audio/audio_speech_actors_01-24/Actor_01/03-01-01-01-01-01-01.wav\n",
      "0.0022577597\n",
      "/media/helemanc/OS/Users/i2CAT/Desktop/Datasets SER/ravdess-emotional-speech-audio/audio_speech_actors_01-24/Actor_01/03-01-01-01-01-02-01.wav\n",
      "0.0024238622\n",
      "/media/helemanc/OS/Users/i2CAT/Desktop/Datasets SER/ravdess-emotional-speech-audio/audio_speech_actors_01-24/Actor_01/03-01-01-01-02-01-01.wav\n",
      "0.002817898\n",
      "/media/helemanc/OS/Users/i2CAT/Desktop/Datasets SER/ravdess-emotional-speech-audio/audio_speech_actors_01-24/Actor_01/03-01-01-01-02-02-01.wav\n",
      "0.002626325\n",
      "/media/helemanc/OS/Users/i2CAT/Desktop/Datasets SER/ravdess-emotional-speech-audio/audio_speech_actors_01-24/Actor_01/03-01-02-01-01-01-01.wav\n",
      "0.0016565343\n",
      "/media/helemanc/OS/Users/i2CAT/Desktop/Datasets SER/ravdess-emotional-speech-audio/audio_speech_actors_01-24/Actor_01/03-01-02-01-01-02-01.wav\n",
      "0.0017544491\n",
      "/media/helemanc/OS/Users/i2CAT/Desktop/Datasets SER/ravdess-emotional-speech-audio/audio_speech_actors_01-24/Actor_02/03-01-07-01-02-02-02.wav\n",
      "0.0046527567\n",
      "/media/helemanc/OS/Users/i2CAT/Desktop/Datasets SER/ravdess-emotional-speech-audio/audio_speech_actors_01-24/Actor_02/03-01-07-02-01-01-02.wav\n",
      "0.005736439\n",
      "/media/helemanc/OS/Users/i2CAT/Desktop/Datasets SER/ravdess-emotional-speech-audio/audio_speech_actors_01-24/Actor_02/03-01-07-02-01-02-02.wav\n",
      "0.0060307514\n",
      "/media/helemanc/OS/Users/i2CAT/Desktop/Datasets SER/ravdess-emotional-speech-audio/audio_speech_actors_01-24/Actor_02/03-01-07-02-02-01-02.wav\n",
      "0.007947634\n",
      "/media/helemanc/OS/Users/i2CAT/Desktop/Datasets SER/ravdess-emotional-speech-audio/audio_speech_actors_01-24/Actor_02/03-01-07-02-02-02-02.wav\n",
      "0.0075449147\n",
      "/media/helemanc/OS/Users/i2CAT/Desktop/Datasets SER/ravdess-emotional-speech-audio/audio_speech_actors_01-24/Actor_02/03-01-08-01-01-01-02.wav\n",
      "0.0070363977\n",
      "/media/helemanc/OS/Users/i2CAT/Desktop/Datasets SER/ravdess-emotional-speech-audio/audio_speech_actors_01-24/Actor_02/03-01-08-01-01-02-02.wav\n",
      "0.005479563\n",
      "/media/helemanc/OS/Users/i2CAT/Desktop/Datasets SER/ravdess-emotional-speech-audio/audio_speech_actors_01-24/Actor_02/03-01-08-01-02-01-02.wav\n",
      "0.0067931246\n",
      "/media/helemanc/OS/Users/i2CAT/Desktop/Datasets SER/ravdess-emotional-speech-audio/audio_speech_actors_01-24/Actor_02/03-01-08-01-02-02-02.wav\n",
      "0.0071834153\n",
      "/media/helemanc/OS/Users/i2CAT/Desktop/Datasets SER/ravdess-emotional-speech-audio/audio_speech_actors_01-24/Actor_02/03-01-08-02-01-01-02.wav\n",
      "0.009040813\n",
      "/media/helemanc/OS/Users/i2CAT/Desktop/Datasets SER/ravdess-emotional-speech-audio/audio_speech_actors_01-24/Actor_02/03-01-08-02-01-02-02.wav\n",
      "0.008953113\n",
      "/media/helemanc/OS/Users/i2CAT/Desktop/Datasets SER/ravdess-emotional-speech-audio/audio_speech_actors_01-24/Actor_02/03-01-08-02-02-01-02.wav\n",
      "0.01224563\n",
      "/media/helemanc/OS/Users/i2CAT/Desktop/Datasets SER/ravdess-emotional-speech-audio/audio_speech_actors_01-24/Actor_02/03-01-08-02-02-02-02.wav\n",
      "0.012769352\n",
      "/media/helemanc/OS/Users/i2CAT/Desktop/Datasets SER/ravdess-emotional-speech-audio/audio_speech_actors_01-24/Actor_02/03-01-05-01-02-01-02.wav\n",
      "0.008313686\n",
      "/media/helemanc/OS/Users/i2CAT/Desktop/Datasets SER/ravdess-emotional-speech-audio/audio_speech_actors_01-24/Actor_02/03-01-05-01-02-02-02.wav\n",
      "0.008044586\n",
      "/media/helemanc/OS/Users/i2CAT/Desktop/Datasets SER/ravdess-emotional-speech-audio/audio_speech_actors_01-24/Actor_02/03-01-05-02-01-01-02.wav\n",
      "0.024126837\n",
      "/media/helemanc/OS/Users/i2CAT/Desktop/Datasets SER/ravdess-emotional-speech-audio/audio_speech_actors_01-24/Actor_02/03-01-05-02-01-02-02.wav\n",
      "0.019293873\n",
      "/media/helemanc/OS/Users/i2CAT/Desktop/Datasets SER/ravdess-emotional-speech-audio/audio_speech_actors_01-24/Actor_02/03-01-05-02-02-01-02.wav\n",
      "0.045836985\n",
      "/media/helemanc/OS/Users/i2CAT/Desktop/Datasets SER/ravdess-emotional-speech-audio/audio_speech_actors_01-24/Actor_02/03-01-05-02-02-02-02.wav\n",
      "0.040513854\n",
      "/media/helemanc/OS/Users/i2CAT/Desktop/Datasets SER/ravdess-emotional-speech-audio/audio_speech_actors_01-24/Actor_02/03-01-06-01-01-01-02.wav\n",
      "0.007441416\n",
      "/media/helemanc/OS/Users/i2CAT/Desktop/Datasets SER/ravdess-emotional-speech-audio/audio_speech_actors_01-24/Actor_02/03-01-06-01-01-02-02.wav\n",
      "0.007861687\n",
      "/media/helemanc/OS/Users/i2CAT/Desktop/Datasets SER/ravdess-emotional-speech-audio/audio_speech_actors_01-24/Actor_02/03-01-06-01-02-01-02.wav\n",
      "0.008618185\n",
      "/media/helemanc/OS/Users/i2CAT/Desktop/Datasets SER/ravdess-emotional-speech-audio/audio_speech_actors_01-24/Actor_02/03-01-03-01-02-02-02.wav\n",
      "0.0065337373\n",
      "/media/helemanc/OS/Users/i2CAT/Desktop/Datasets SER/ravdess-emotional-speech-audio/audio_speech_actors_01-24/Actor_02/03-01-03-02-01-01-02.wav\n",
      "0.01643695\n",
      "/media/helemanc/OS/Users/i2CAT/Desktop/Datasets SER/ravdess-emotional-speech-audio/audio_speech_actors_01-24/Actor_02/03-01-03-02-01-02-02.wav\n",
      "0.016858779\n",
      "/media/helemanc/OS/Users/i2CAT/Desktop/Datasets SER/ravdess-emotional-speech-audio/audio_speech_actors_01-24/Actor_02/03-01-03-02-02-01-02.wav\n",
      "0.011567853\n",
      "/media/helemanc/OS/Users/i2CAT/Desktop/Datasets SER/ravdess-emotional-speech-audio/audio_speech_actors_01-24/Actor_02/03-01-03-02-02-02-02.wav\n",
      "0.012938896\n",
      "/media/helemanc/OS/Users/i2CAT/Desktop/Datasets SER/ravdess-emotional-speech-audio/audio_speech_actors_01-24/Actor_02/03-01-04-01-01-01-02.wav\n",
      "0.0028468273\n",
      "/media/helemanc/OS/Users/i2CAT/Desktop/Datasets SER/ravdess-emotional-speech-audio/audio_speech_actors_01-24/Actor_02/03-01-04-01-01-02-02.wav\n",
      "0.0031518796\n",
      "/media/helemanc/OS/Users/i2CAT/Desktop/Datasets SER/ravdess-emotional-speech-audio/audio_speech_actors_01-24/Actor_02/03-01-06-02-01-01-02.wav\n",
      "0.013410763\n",
      "/media/helemanc/OS/Users/i2CAT/Desktop/Datasets SER/ravdess-emotional-speech-audio/audio_speech_actors_01-24/Actor_02/03-01-06-02-01-02-02.wav\n",
      "0.01711877\n",
      "/media/helemanc/OS/Users/i2CAT/Desktop/Datasets SER/ravdess-emotional-speech-audio/audio_speech_actors_01-24/Actor_02/03-01-06-02-02-01-02.wav\n",
      "0.018888256\n",
      "/media/helemanc/OS/Users/i2CAT/Desktop/Datasets SER/ravdess-emotional-speech-audio/audio_speech_actors_01-24/Actor_02/03-01-06-02-02-02-02.wav\n",
      "0.015923537\n",
      "/media/helemanc/OS/Users/i2CAT/Desktop/Datasets SER/ravdess-emotional-speech-audio/audio_speech_actors_01-24/Actor_02/03-01-07-01-01-01-02.wav\n",
      "0.0032665925\n",
      "/media/helemanc/OS/Users/i2CAT/Desktop/Datasets SER/ravdess-emotional-speech-audio/audio_speech_actors_01-24/Actor_02/03-01-07-01-01-02-02.wav\n",
      "0.0030364424\n",
      "/media/helemanc/OS/Users/i2CAT/Desktop/Datasets SER/ravdess-emotional-speech-audio/audio_speech_actors_01-24/Actor_02/03-01-07-01-02-01-02.wav\n",
      "0.0048950613\n",
      "/media/helemanc/OS/Users/i2CAT/Desktop/Datasets SER/ravdess-emotional-speech-audio/audio_speech_actors_01-24/Actor_02/03-01-04-01-02-01-02.wav\n",
      "0.0032909112\n",
      "/media/helemanc/OS/Users/i2CAT/Desktop/Datasets SER/ravdess-emotional-speech-audio/audio_speech_actors_01-24/Actor_02/03-01-06-01-02-02-02.wav\n",
      "0.009069744\n",
      "/media/helemanc/OS/Users/i2CAT/Desktop/Datasets SER/ravdess-emotional-speech-audio/audio_speech_actors_01-24/Actor_02/03-01-02-02-01-01-02.wav\n",
      "0.0027408653\n",
      "/media/helemanc/OS/Users/i2CAT/Desktop/Datasets SER/ravdess-emotional-speech-audio/audio_speech_actors_01-24/Actor_02/03-01-02-02-01-02-02.wav\n",
      "0.0030362394\n",
      "/media/helemanc/OS/Users/i2CAT/Desktop/Datasets SER/ravdess-emotional-speech-audio/audio_speech_actors_01-24/Actor_02/03-01-02-02-02-01-02.wav\n",
      "0.0033785729\n",
      "/media/helemanc/OS/Users/i2CAT/Desktop/Datasets SER/ravdess-emotional-speech-audio/audio_speech_actors_01-24/Actor_02/03-01-02-02-02-02-02.wav\n",
      "0.0033030396\n",
      "/media/helemanc/OS/Users/i2CAT/Desktop/Datasets SER/ravdess-emotional-speech-audio/audio_speech_actors_01-24/Actor_02/03-01-03-01-01-01-02.wav\n",
      "0.0067798616\n",
      "/media/helemanc/OS/Users/i2CAT/Desktop/Datasets SER/ravdess-emotional-speech-audio/audio_speech_actors_01-24/Actor_02/03-01-03-01-01-02-02.wav\n",
      "0.0060741534\n",
      "/media/helemanc/OS/Users/i2CAT/Desktop/Datasets SER/ravdess-emotional-speech-audio/audio_speech_actors_01-24/Actor_02/03-01-03-01-02-01-02.wav\n",
      "0.0067249434\n",
      "/media/helemanc/OS/Users/i2CAT/Desktop/Datasets SER/ravdess-emotional-speech-audio/audio_speech_actors_01-24/Actor_02/03-01-04-01-02-02-02.wav\n",
      "0.0029707174\n",
      "/media/helemanc/OS/Users/i2CAT/Desktop/Datasets SER/ravdess-emotional-speech-audio/audio_speech_actors_01-24/Actor_02/03-01-04-02-01-01-02.wav\n",
      "0.0026970091\n",
      "/media/helemanc/OS/Users/i2CAT/Desktop/Datasets SER/ravdess-emotional-speech-audio/audio_speech_actors_01-24/Actor_02/03-01-04-02-01-02-02.wav\n",
      "0.0024562252\n",
      "/media/helemanc/OS/Users/i2CAT/Desktop/Datasets SER/ravdess-emotional-speech-audio/audio_speech_actors_01-24/Actor_02/03-01-04-02-02-01-02.wav\n",
      "0.0036567554\n",
      "/media/helemanc/OS/Users/i2CAT/Desktop/Datasets SER/ravdess-emotional-speech-audio/audio_speech_actors_01-24/Actor_02/03-01-04-02-02-02-02.wav\n",
      "0.0031586203\n",
      "/media/helemanc/OS/Users/i2CAT/Desktop/Datasets SER/ravdess-emotional-speech-audio/audio_speech_actors_01-24/Actor_02/03-01-05-01-01-01-02.wav\n",
      "0.006917993\n",
      "/media/helemanc/OS/Users/i2CAT/Desktop/Datasets SER/ravdess-emotional-speech-audio/audio_speech_actors_01-24/Actor_02/03-01-05-01-01-02-02.wav\n",
      "0.0074239466\n",
      "/media/helemanc/OS/Users/i2CAT/Desktop/Datasets SER/ravdess-emotional-speech-audio/audio_speech_actors_01-24/Actor_02/03-01-01-01-01-02-02.wav\n",
      "0.0035289694\n",
      "/media/helemanc/OS/Users/i2CAT/Desktop/Datasets SER/ravdess-emotional-speech-audio/audio_speech_actors_01-24/Actor_02/03-01-01-01-02-01-02.wav\n",
      "0.0053396216\n",
      "/media/helemanc/OS/Users/i2CAT/Desktop/Datasets SER/ravdess-emotional-speech-audio/audio_speech_actors_01-24/Actor_02/03-01-01-01-02-02-02.wav\n",
      "0.004841496\n",
      "/media/helemanc/OS/Users/i2CAT/Desktop/Datasets SER/ravdess-emotional-speech-audio/audio_speech_actors_01-24/Actor_02/03-01-02-01-01-01-02.wav\n",
      "0.0032915215\n",
      "/media/helemanc/OS/Users/i2CAT/Desktop/Datasets SER/ravdess-emotional-speech-audio/audio_speech_actors_01-24/Actor_02/03-01-02-01-01-02-02.wav\n",
      "0.003385862\n",
      "/media/helemanc/OS/Users/i2CAT/Desktop/Datasets SER/ravdess-emotional-speech-audio/audio_speech_actors_01-24/Actor_02/03-01-02-01-02-01-02.wav\n",
      "0.0036988882\n",
      "/media/helemanc/OS/Users/i2CAT/Desktop/Datasets SER/ravdess-emotional-speech-audio/audio_speech_actors_01-24/Actor_02/03-01-02-01-02-02-02.wav\n",
      "0.0036577866\n",
      "/media/helemanc/OS/Users/i2CAT/Desktop/Datasets SER/ravdess-emotional-speech-audio/audio_speech_actors_01-24/Actor_02/03-01-01-01-01-01-02.wav\n",
      "0.0036225417\n",
      "/media/helemanc/OS/Users/i2CAT/Desktop/Datasets SER/ravdess-emotional-speech-audio/audio_speech_actors_01-24/Actor_03/03-01-07-01-01-01-03.wav\n",
      "0.005216683\n",
      "/media/helemanc/OS/Users/i2CAT/Desktop/Datasets SER/ravdess-emotional-speech-audio/audio_speech_actors_01-24/Actor_03/03-01-07-01-01-02-03.wav\n",
      "0.0036182874\n",
      "/media/helemanc/OS/Users/i2CAT/Desktop/Datasets SER/ravdess-emotional-speech-audio/audio_speech_actors_01-24/Actor_03/03-01-07-01-02-01-03.wav\n",
      "0.003777773\n",
      "/media/helemanc/OS/Users/i2CAT/Desktop/Datasets SER/ravdess-emotional-speech-audio/audio_speech_actors_01-24/Actor_03/03-01-07-01-02-02-03.wav\n",
      "0.0065224706\n",
      "/media/helemanc/OS/Users/i2CAT/Desktop/Datasets SER/ravdess-emotional-speech-audio/audio_speech_actors_01-24/Actor_03/03-01-07-02-01-01-03.wav\n",
      "0.0045641046\n",
      "/media/helemanc/OS/Users/i2CAT/Desktop/Datasets SER/ravdess-emotional-speech-audio/audio_speech_actors_01-24/Actor_03/03-01-07-02-01-02-03.wav\n",
      "0.004701018\n",
      "/media/helemanc/OS/Users/i2CAT/Desktop/Datasets SER/ravdess-emotional-speech-audio/audio_speech_actors_01-24/Actor_03/03-01-07-02-02-01-03.wav\n",
      "0.008542043\n",
      "/media/helemanc/OS/Users/i2CAT/Desktop/Datasets SER/ravdess-emotional-speech-audio/audio_speech_actors_01-24/Actor_03/03-01-07-02-02-02-03.wav\n",
      "0.013944108\n",
      "/media/helemanc/OS/Users/i2CAT/Desktop/Datasets SER/ravdess-emotional-speech-audio/audio_speech_actors_01-24/Actor_03/03-01-08-01-01-01-03.wav\n",
      "0.0067588524\n",
      "/media/helemanc/OS/Users/i2CAT/Desktop/Datasets SER/ravdess-emotional-speech-audio/audio_speech_actors_01-24/Actor_03/03-01-05-01-02-01-03.wav\n",
      "0.007015055\n",
      "/media/helemanc/OS/Users/i2CAT/Desktop/Datasets SER/ravdess-emotional-speech-audio/audio_speech_actors_01-24/Actor_03/03-01-05-01-02-02-03.wav\n",
      "0.011215503\n",
      "/media/helemanc/OS/Users/i2CAT/Desktop/Datasets SER/ravdess-emotional-speech-audio/audio_speech_actors_01-24/Actor_03/03-01-05-02-01-01-03.wav\n",
      "0.05547896\n",
      "/media/helemanc/OS/Users/i2CAT/Desktop/Datasets SER/ravdess-emotional-speech-audio/audio_speech_actors_01-24/Actor_03/03-01-05-02-01-02-03.wav\n",
      "0.051584084\n",
      "/media/helemanc/OS/Users/i2CAT/Desktop/Datasets SER/ravdess-emotional-speech-audio/audio_speech_actors_01-24/Actor_03/03-01-05-02-02-01-03.wav\n",
      "0.047998257\n",
      "/media/helemanc/OS/Users/i2CAT/Desktop/Datasets SER/ravdess-emotional-speech-audio/audio_speech_actors_01-24/Actor_03/03-01-05-02-02-02-03.wav\n",
      "0.066117354\n",
      "/media/helemanc/OS/Users/i2CAT/Desktop/Datasets SER/ravdess-emotional-speech-audio/audio_speech_actors_01-24/Actor_03/03-01-06-01-01-01-03.wav\n",
      "0.0040969867\n",
      "/media/helemanc/OS/Users/i2CAT/Desktop/Datasets SER/ravdess-emotional-speech-audio/audio_speech_actors_01-24/Actor_03/03-01-06-01-01-02-03.wav\n",
      "0.0073576877\n",
      "/media/helemanc/OS/Users/i2CAT/Desktop/Datasets SER/ravdess-emotional-speech-audio/audio_speech_actors_01-24/Actor_03/03-01-06-01-02-01-03.wav\n",
      "0.008650394\n",
      "/media/helemanc/OS/Users/i2CAT/Desktop/Datasets SER/ravdess-emotional-speech-audio/audio_speech_actors_01-24/Actor_03/03-01-06-01-02-02-03.wav\n",
      "0.0073494012\n",
      "/media/helemanc/OS/Users/i2CAT/Desktop/Datasets SER/ravdess-emotional-speech-audio/audio_speech_actors_01-24/Actor_03/03-01-06-02-01-01-03.wav\n",
      "0.026568055\n",
      "/media/helemanc/OS/Users/i2CAT/Desktop/Datasets SER/ravdess-emotional-speech-audio/audio_speech_actors_01-24/Actor_03/03-01-06-02-01-02-03.wav\n",
      "0.04547288\n",
      "/media/helemanc/OS/Users/i2CAT/Desktop/Datasets SER/ravdess-emotional-speech-audio/audio_speech_actors_01-24/Actor_03/03-01-06-02-02-01-03.wav\n",
      "0.028807206\n",
      "/media/helemanc/OS/Users/i2CAT/Desktop/Datasets SER/ravdess-emotional-speech-audio/audio_speech_actors_01-24/Actor_03/03-01-06-02-02-02-03.wav\n",
      "0.037288904\n",
      "/media/helemanc/OS/Users/i2CAT/Desktop/Datasets SER/ravdess-emotional-speech-audio/audio_speech_actors_01-24/Actor_03/03-01-03-02-01-01-03.wav\n",
      "0.02295713\n",
      "/media/helemanc/OS/Users/i2CAT/Desktop/Datasets SER/ravdess-emotional-speech-audio/audio_speech_actors_01-24/Actor_03/03-01-03-02-01-02-03.wav\n",
      "0.03480687\n",
      "/media/helemanc/OS/Users/i2CAT/Desktop/Datasets SER/ravdess-emotional-speech-audio/audio_speech_actors_01-24/Actor_03/03-01-03-02-02-01-03.wav\n",
      "0.04328186\n",
      "/media/helemanc/OS/Users/i2CAT/Desktop/Datasets SER/ravdess-emotional-speech-audio/audio_speech_actors_01-24/Actor_03/03-01-03-02-02-02-03.wav\n",
      "0.024261698\n",
      "/media/helemanc/OS/Users/i2CAT/Desktop/Datasets SER/ravdess-emotional-speech-audio/audio_speech_actors_01-24/Actor_03/03-01-04-01-01-01-03.wav\n",
      "0.0023919307\n",
      "/media/helemanc/OS/Users/i2CAT/Desktop/Datasets SER/ravdess-emotional-speech-audio/audio_speech_actors_01-24/Actor_03/03-01-04-01-01-02-03.wav\n",
      "0.002454635\n",
      "/media/helemanc/OS/Users/i2CAT/Desktop/Datasets SER/ravdess-emotional-speech-audio/audio_speech_actors_01-24/Actor_03/03-01-04-01-02-01-03.wav\n",
      "0.0042397273\n",
      "/media/helemanc/OS/Users/i2CAT/Desktop/Datasets SER/ravdess-emotional-speech-audio/audio_speech_actors_01-24/Actor_03/03-01-04-01-02-02-03.wav\n",
      "0.0039966037\n",
      "/media/helemanc/OS/Users/i2CAT/Desktop/Datasets SER/ravdess-emotional-speech-audio/audio_speech_actors_01-24/Actor_03/03-01-04-02-01-01-03.wav\n",
      "0.012072972\n",
      "/media/helemanc/OS/Users/i2CAT/Desktop/Datasets SER/ravdess-emotional-speech-audio/audio_speech_actors_01-24/Actor_03/03-01-04-02-01-02-03.wav\n",
      "0.017502142\n",
      "/media/helemanc/OS/Users/i2CAT/Desktop/Datasets SER/ravdess-emotional-speech-audio/audio_speech_actors_01-24/Actor_03/03-01-04-02-02-01-03.wav\n",
      "0.0200805\n",
      "/media/helemanc/OS/Users/i2CAT/Desktop/Datasets SER/ravdess-emotional-speech-audio/audio_speech_actors_01-24/Actor_03/03-01-04-02-02-02-03.wav\n",
      "0.017557925\n",
      "/media/helemanc/OS/Users/i2CAT/Desktop/Datasets SER/ravdess-emotional-speech-audio/audio_speech_actors_01-24/Actor_03/03-01-05-01-01-01-03.wav\n",
      "0.002393899\n",
      "/media/helemanc/OS/Users/i2CAT/Desktop/Datasets SER/ravdess-emotional-speech-audio/audio_speech_actors_01-24/Actor_03/03-01-05-01-01-02-03.wav\n",
      "0.009017167\n",
      "/media/helemanc/OS/Users/i2CAT/Desktop/Datasets SER/ravdess-emotional-speech-audio/audio_speech_actors_01-24/Actor_03/03-01-08-01-01-02-03.wav\n",
      "0.007538817\n",
      "/media/helemanc/OS/Users/i2CAT/Desktop/Datasets SER/ravdess-emotional-speech-audio/audio_speech_actors_01-24/Actor_03/03-01-08-01-02-01-03.wav\n",
      "0.006106774\n",
      "/media/helemanc/OS/Users/i2CAT/Desktop/Datasets SER/ravdess-emotional-speech-audio/audio_speech_actors_01-24/Actor_03/03-01-08-01-02-02-03.wav\n",
      "0.009574995\n",
      "/media/helemanc/OS/Users/i2CAT/Desktop/Datasets SER/ravdess-emotional-speech-audio/audio_speech_actors_01-24/Actor_03/03-01-08-02-01-01-03.wav\n",
      "0.013749598\n",
      "/media/helemanc/OS/Users/i2CAT/Desktop/Datasets SER/ravdess-emotional-speech-audio/audio_speech_actors_01-24/Actor_03/03-01-08-02-01-02-03.wav\n",
      "0.016965726\n",
      "/media/helemanc/OS/Users/i2CAT/Desktop/Datasets SER/ravdess-emotional-speech-audio/audio_speech_actors_01-24/Actor_03/03-01-08-02-02-01-03.wav\n",
      "0.017670492\n",
      "/media/helemanc/OS/Users/i2CAT/Desktop/Datasets SER/ravdess-emotional-speech-audio/audio_speech_actors_01-24/Actor_03/03-01-08-02-02-02-03.wav\n",
      "0.010405566\n",
      "/media/helemanc/OS/Users/i2CAT/Desktop/Datasets SER/ravdess-emotional-speech-audio/audio_speech_actors_01-24/Actor_03/03-01-02-02-01-01-03.wav\n",
      "0.004564746\n",
      "/media/helemanc/OS/Users/i2CAT/Desktop/Datasets SER/ravdess-emotional-speech-audio/audio_speech_actors_01-24/Actor_03/03-01-02-02-01-02-03.wav\n",
      "0.007909812\n",
      "/media/helemanc/OS/Users/i2CAT/Desktop/Datasets SER/ravdess-emotional-speech-audio/audio_speech_actors_01-24/Actor_03/03-01-02-02-02-01-03.wav\n",
      "0.009374999\n",
      "/media/helemanc/OS/Users/i2CAT/Desktop/Datasets SER/ravdess-emotional-speech-audio/audio_speech_actors_01-24/Actor_03/03-01-02-02-02-02-03.wav\n",
      "0.00888998\n",
      "/media/helemanc/OS/Users/i2CAT/Desktop/Datasets SER/ravdess-emotional-speech-audio/audio_speech_actors_01-24/Actor_03/03-01-03-01-01-01-03.wav\n",
      "0.007868865\n",
      "/media/helemanc/OS/Users/i2CAT/Desktop/Datasets SER/ravdess-emotional-speech-audio/audio_speech_actors_01-24/Actor_03/03-01-03-01-01-02-03.wav\n",
      "0.010775497\n",
      "/media/helemanc/OS/Users/i2CAT/Desktop/Datasets SER/ravdess-emotional-speech-audio/audio_speech_actors_01-24/Actor_03/03-01-03-01-02-01-03.wav\n",
      "0.010002594\n",
      "/media/helemanc/OS/Users/i2CAT/Desktop/Datasets SER/ravdess-emotional-speech-audio/audio_speech_actors_01-24/Actor_03/03-01-03-01-02-02-03.wav\n",
      "0.0067610014\n",
      "/media/helemanc/OS/Users/i2CAT/Desktop/Datasets SER/ravdess-emotional-speech-audio/audio_speech_actors_01-24/Actor_03/03-01-01-01-01-02-03.wav\n",
      "0.003762223\n",
      "/media/helemanc/OS/Users/i2CAT/Desktop/Datasets SER/ravdess-emotional-speech-audio/audio_speech_actors_01-24/Actor_03/03-01-01-01-02-01-03.wav\n",
      "0.0042641335\n",
      "/media/helemanc/OS/Users/i2CAT/Desktop/Datasets SER/ravdess-emotional-speech-audio/audio_speech_actors_01-24/Actor_03/03-01-01-01-02-02-03.wav\n",
      "0.004553281\n",
      "/media/helemanc/OS/Users/i2CAT/Desktop/Datasets SER/ravdess-emotional-speech-audio/audio_speech_actors_01-24/Actor_03/03-01-02-01-01-01-03.wav\n",
      "0.0027750947\n",
      "/media/helemanc/OS/Users/i2CAT/Desktop/Datasets SER/ravdess-emotional-speech-audio/audio_speech_actors_01-24/Actor_03/03-01-02-01-01-02-03.wav\n",
      "0.0029832174\n",
      "/media/helemanc/OS/Users/i2CAT/Desktop/Datasets SER/ravdess-emotional-speech-audio/audio_speech_actors_01-24/Actor_03/03-01-02-01-02-01-03.wav\n",
      "0.002950412\n",
      "/media/helemanc/OS/Users/i2CAT/Desktop/Datasets SER/ravdess-emotional-speech-audio/audio_speech_actors_01-24/Actor_03/03-01-02-01-02-02-03.wav\n",
      "0.008080563\n",
      "/media/helemanc/OS/Users/i2CAT/Desktop/Datasets SER/ravdess-emotional-speech-audio/audio_speech_actors_01-24/Actor_03/03-01-01-01-01-01-03.wav\n",
      "0.004001828\n",
      "/media/helemanc/OS/Users/i2CAT/Desktop/Datasets SER/ravdess-emotional-speech-audio/audio_speech_actors_01-24/Actor_04/03-01-06-02-01-01-04.wav\n",
      "0.024479588\n",
      "/media/helemanc/OS/Users/i2CAT/Desktop/Datasets SER/ravdess-emotional-speech-audio/audio_speech_actors_01-24/Actor_04/03-01-06-02-01-02-04.wav\n",
      "0.025700485\n",
      "/media/helemanc/OS/Users/i2CAT/Desktop/Datasets SER/ravdess-emotional-speech-audio/audio_speech_actors_01-24/Actor_04/03-01-06-02-02-01-04.wav\n",
      "0.033100467\n",
      "/media/helemanc/OS/Users/i2CAT/Desktop/Datasets SER/ravdess-emotional-speech-audio/audio_speech_actors_01-24/Actor_04/03-01-06-02-02-02-04.wav\n",
      "0.033323105\n",
      "/media/helemanc/OS/Users/i2CAT/Desktop/Datasets SER/ravdess-emotional-speech-audio/audio_speech_actors_01-24/Actor_04/03-01-07-01-01-01-04.wav\n",
      "0.005190338\n",
      "/media/helemanc/OS/Users/i2CAT/Desktop/Datasets SER/ravdess-emotional-speech-audio/audio_speech_actors_01-24/Actor_04/03-01-07-01-01-02-04.wav\n",
      "0.005957125\n",
      "/media/helemanc/OS/Users/i2CAT/Desktop/Datasets SER/ravdess-emotional-speech-audio/audio_speech_actors_01-24/Actor_04/03-01-07-01-02-01-04.wav\n",
      "0.008492979\n",
      "/media/helemanc/OS/Users/i2CAT/Desktop/Datasets SER/ravdess-emotional-speech-audio/audio_speech_actors_01-24/Actor_04/03-01-07-01-02-02-04.wav\n",
      "0.009382741\n",
      "/media/helemanc/OS/Users/i2CAT/Desktop/Datasets SER/ravdess-emotional-speech-audio/audio_speech_actors_01-24/Actor_04/03-01-07-02-01-01-04.wav\n",
      "0.015875097\n",
      "/media/helemanc/OS/Users/i2CAT/Desktop/Datasets SER/ravdess-emotional-speech-audio/audio_speech_actors_01-24/Actor_04/03-01-07-02-01-02-04.wav\n",
      "0.011946581\n",
      "/media/helemanc/OS/Users/i2CAT/Desktop/Datasets SER/ravdess-emotional-speech-audio/audio_speech_actors_01-24/Actor_04/03-01-07-02-02-01-04.wav\n",
      "0.009859869\n",
      "/media/helemanc/OS/Users/i2CAT/Desktop/Datasets SER/ravdess-emotional-speech-audio/audio_speech_actors_01-24/Actor_04/03-01-04-02-02-01-04.wav\n",
      "0.030530468\n",
      "/media/helemanc/OS/Users/i2CAT/Desktop/Datasets SER/ravdess-emotional-speech-audio/audio_speech_actors_01-24/Actor_04/03-01-04-02-02-02-04.wav\n",
      "0.020728614\n",
      "/media/helemanc/OS/Users/i2CAT/Desktop/Datasets SER/ravdess-emotional-speech-audio/audio_speech_actors_01-24/Actor_04/03-01-05-01-01-01-04.wav\n",
      "0.007927639\n",
      "/media/helemanc/OS/Users/i2CAT/Desktop/Datasets SER/ravdess-emotional-speech-audio/audio_speech_actors_01-24/Actor_04/03-01-05-01-01-02-04.wav\n",
      "0.010256418\n",
      "/media/helemanc/OS/Users/i2CAT/Desktop/Datasets SER/ravdess-emotional-speech-audio/audio_speech_actors_01-24/Actor_04/03-01-05-01-02-01-04.wav\n",
      "0.011532127\n",
      "/media/helemanc/OS/Users/i2CAT/Desktop/Datasets SER/ravdess-emotional-speech-audio/audio_speech_actors_01-24/Actor_04/03-01-05-01-02-02-04.wav\n",
      "0.007961211\n",
      "/media/helemanc/OS/Users/i2CAT/Desktop/Datasets SER/ravdess-emotional-speech-audio/audio_speech_actors_01-24/Actor_04/03-01-05-02-01-01-04.wav\n",
      "0.03734888\n",
      "/media/helemanc/OS/Users/i2CAT/Desktop/Datasets SER/ravdess-emotional-speech-audio/audio_speech_actors_01-24/Actor_04/03-01-05-02-01-02-04.wav\n",
      "0.028245857\n",
      "/media/helemanc/OS/Users/i2CAT/Desktop/Datasets SER/ravdess-emotional-speech-audio/audio_speech_actors_01-24/Actor_04/03-01-05-02-02-01-04.wav\n",
      "0.04059577\n",
      "/media/helemanc/OS/Users/i2CAT/Desktop/Datasets SER/ravdess-emotional-speech-audio/audio_speech_actors_01-24/Actor_04/03-01-05-02-02-02-04.wav\n",
      "0.027205557\n",
      "/media/helemanc/OS/Users/i2CAT/Desktop/Datasets SER/ravdess-emotional-speech-audio/audio_speech_actors_01-24/Actor_04/03-01-06-01-01-01-04.wav\n",
      "0.008503926\n",
      "/media/helemanc/OS/Users/i2CAT/Desktop/Datasets SER/ravdess-emotional-speech-audio/audio_speech_actors_01-24/Actor_04/03-01-06-01-01-02-04.wav\n",
      "0.010244271\n",
      "/media/helemanc/OS/Users/i2CAT/Desktop/Datasets SER/ravdess-emotional-speech-audio/audio_speech_actors_01-24/Actor_04/03-01-06-01-02-01-04.wav\n",
      "0.010592398\n",
      "/media/helemanc/OS/Users/i2CAT/Desktop/Datasets SER/ravdess-emotional-speech-audio/audio_speech_actors_01-24/Actor_04/03-01-06-01-02-02-04.wav\n",
      "0.0101396525\n",
      "/media/helemanc/OS/Users/i2CAT/Desktop/Datasets SER/ravdess-emotional-speech-audio/audio_speech_actors_01-24/Actor_04/03-01-07-02-02-02-04.wav\n",
      "0.013328067\n",
      "/media/helemanc/OS/Users/i2CAT/Desktop/Datasets SER/ravdess-emotional-speech-audio/audio_speech_actors_01-24/Actor_04/03-01-08-01-01-01-04.wav\n",
      "0.0063199415\n",
      "/media/helemanc/OS/Users/i2CAT/Desktop/Datasets SER/ravdess-emotional-speech-audio/audio_speech_actors_01-24/Actor_04/03-01-08-01-01-02-04.wav\n",
      "0.00868038\n",
      "/media/helemanc/OS/Users/i2CAT/Desktop/Datasets SER/ravdess-emotional-speech-audio/audio_speech_actors_01-24/Actor_04/03-01-08-01-02-01-04.wav\n",
      "0.010297028\n",
      "/media/helemanc/OS/Users/i2CAT/Desktop/Datasets SER/ravdess-emotional-speech-audio/audio_speech_actors_01-24/Actor_04/03-01-08-01-02-02-04.wav\n",
      "0.010347565\n",
      "/media/helemanc/OS/Users/i2CAT/Desktop/Datasets SER/ravdess-emotional-speech-audio/audio_speech_actors_01-24/Actor_04/03-01-08-02-01-01-04.wav\n",
      "0.019936306\n",
      "/media/helemanc/OS/Users/i2CAT/Desktop/Datasets SER/ravdess-emotional-speech-audio/audio_speech_actors_01-24/Actor_04/03-01-08-02-01-02-04.wav\n",
      "0.016977651\n",
      "/media/helemanc/OS/Users/i2CAT/Desktop/Datasets SER/ravdess-emotional-speech-audio/audio_speech_actors_01-24/Actor_04/03-01-08-02-02-01-04.wav\n",
      "0.019138467\n",
      "/media/helemanc/OS/Users/i2CAT/Desktop/Datasets SER/ravdess-emotional-speech-audio/audio_speech_actors_01-24/Actor_04/03-01-08-02-02-02-04.wav\n",
      "0.022940945\n",
      "/media/helemanc/OS/Users/i2CAT/Desktop/Datasets SER/ravdess-emotional-speech-audio/audio_speech_actors_01-24/Actor_04/03-01-03-01-02-01-04.wav\n",
      "0.0053947596\n",
      "/media/helemanc/OS/Users/i2CAT/Desktop/Datasets SER/ravdess-emotional-speech-audio/audio_speech_actors_01-24/Actor_04/03-01-03-01-02-02-04.wav\n",
      "0.0070185484\n",
      "/media/helemanc/OS/Users/i2CAT/Desktop/Datasets SER/ravdess-emotional-speech-audio/audio_speech_actors_01-24/Actor_04/03-01-03-02-01-01-04.wav\n",
      "0.013727041\n",
      "/media/helemanc/OS/Users/i2CAT/Desktop/Datasets SER/ravdess-emotional-speech-audio/audio_speech_actors_01-24/Actor_04/03-01-03-02-01-02-04.wav\n",
      "0.018233513\n",
      "/media/helemanc/OS/Users/i2CAT/Desktop/Datasets SER/ravdess-emotional-speech-audio/audio_speech_actors_01-24/Actor_04/03-01-03-02-02-01-04.wav\n",
      "0.015840992\n",
      "/media/helemanc/OS/Users/i2CAT/Desktop/Datasets SER/ravdess-emotional-speech-audio/audio_speech_actors_01-24/Actor_04/03-01-03-02-02-02-04.wav\n",
      "0.024882007\n",
      "/media/helemanc/OS/Users/i2CAT/Desktop/Datasets SER/ravdess-emotional-speech-audio/audio_speech_actors_01-24/Actor_04/03-01-04-01-01-01-04.wav\n",
      "0.0024682344\n",
      "/media/helemanc/OS/Users/i2CAT/Desktop/Datasets SER/ravdess-emotional-speech-audio/audio_speech_actors_01-24/Actor_04/03-01-04-01-01-02-04.wav\n",
      "0.0073646787\n",
      "/media/helemanc/OS/Users/i2CAT/Desktop/Datasets SER/ravdess-emotional-speech-audio/audio_speech_actors_01-24/Actor_04/03-01-04-01-02-01-04.wav\n",
      "0.007855937\n",
      "/media/helemanc/OS/Users/i2CAT/Desktop/Datasets SER/ravdess-emotional-speech-audio/audio_speech_actors_01-24/Actor_04/03-01-04-01-02-02-04.wav\n",
      "0.0072234613\n",
      "/media/helemanc/OS/Users/i2CAT/Desktop/Datasets SER/ravdess-emotional-speech-audio/audio_speech_actors_01-24/Actor_04/03-01-04-02-01-01-04.wav\n",
      "0.012916796\n",
      "/media/helemanc/OS/Users/i2CAT/Desktop/Datasets SER/ravdess-emotional-speech-audio/audio_speech_actors_01-24/Actor_04/03-01-04-02-01-02-04.wav\n",
      "0.015851386\n",
      "/media/helemanc/OS/Users/i2CAT/Desktop/Datasets SER/ravdess-emotional-speech-audio/audio_speech_actors_01-24/Actor_04/03-01-02-01-02-02-04.wav\n",
      "0.0027042627\n",
      "/media/helemanc/OS/Users/i2CAT/Desktop/Datasets SER/ravdess-emotional-speech-audio/audio_speech_actors_01-24/Actor_04/03-01-02-02-01-01-04.wav\n",
      "0.0026135908\n",
      "/media/helemanc/OS/Users/i2CAT/Desktop/Datasets SER/ravdess-emotional-speech-audio/audio_speech_actors_01-24/Actor_04/03-01-02-02-01-02-04.wav\n",
      "0.002706971\n",
      "/media/helemanc/OS/Users/i2CAT/Desktop/Datasets SER/ravdess-emotional-speech-audio/audio_speech_actors_01-24/Actor_04/03-01-02-02-02-01-04.wav\n",
      "0.0032276192\n",
      "/media/helemanc/OS/Users/i2CAT/Desktop/Datasets SER/ravdess-emotional-speech-audio/audio_speech_actors_01-24/Actor_04/03-01-02-02-02-02-04.wav\n",
      "0.0028670183\n",
      "/media/helemanc/OS/Users/i2CAT/Desktop/Datasets SER/ravdess-emotional-speech-audio/audio_speech_actors_01-24/Actor_04/03-01-03-01-01-01-04.wav\n",
      "0.004503291\n",
      "/media/helemanc/OS/Users/i2CAT/Desktop/Datasets SER/ravdess-emotional-speech-audio/audio_speech_actors_01-24/Actor_04/03-01-03-01-01-02-04.wav\n",
      "0.0066847745\n",
      "/media/helemanc/OS/Users/i2CAT/Desktop/Datasets SER/ravdess-emotional-speech-audio/audio_speech_actors_01-24/Actor_04/03-01-01-01-01-01-04.wav\n",
      "0.0024726905\n",
      "/media/helemanc/OS/Users/i2CAT/Desktop/Datasets SER/ravdess-emotional-speech-audio/audio_speech_actors_01-24/Actor_04/03-01-01-01-01-02-04.wav\n",
      "0.0027499932\n",
      "/media/helemanc/OS/Users/i2CAT/Desktop/Datasets SER/ravdess-emotional-speech-audio/audio_speech_actors_01-24/Actor_04/03-01-01-01-02-01-04.wav\n",
      "0.0025748622\n",
      "/media/helemanc/OS/Users/i2CAT/Desktop/Datasets SER/ravdess-emotional-speech-audio/audio_speech_actors_01-24/Actor_04/03-01-01-01-02-02-04.wav\n",
      "0.002157683\n",
      "/media/helemanc/OS/Users/i2CAT/Desktop/Datasets SER/ravdess-emotional-speech-audio/audio_speech_actors_01-24/Actor_04/03-01-02-01-01-01-04.wav\n",
      "0.002766782\n",
      "/media/helemanc/OS/Users/i2CAT/Desktop/Datasets SER/ravdess-emotional-speech-audio/audio_speech_actors_01-24/Actor_04/03-01-02-01-01-02-04.wav\n",
      "0.0029854923\n",
      "/media/helemanc/OS/Users/i2CAT/Desktop/Datasets SER/ravdess-emotional-speech-audio/audio_speech_actors_01-24/Actor_04/03-01-02-01-02-01-04.wav\n",
      "0.0039496208\n",
      "/media/helemanc/OS/Users/i2CAT/Desktop/Datasets SER/ravdess-emotional-speech-audio/audio_speech_actors_01-24/Actor_05/03-01-05-02-02-02-05.wav\n",
      "0.061646443\n",
      "/media/helemanc/OS/Users/i2CAT/Desktop/Datasets SER/ravdess-emotional-speech-audio/audio_speech_actors_01-24/Actor_05/03-01-06-01-01-01-05.wav\n",
      "0.0031923468\n",
      "/media/helemanc/OS/Users/i2CAT/Desktop/Datasets SER/ravdess-emotional-speech-audio/audio_speech_actors_01-24/Actor_05/03-01-06-01-01-02-05.wav\n",
      "0.00279447\n",
      "/media/helemanc/OS/Users/i2CAT/Desktop/Datasets SER/ravdess-emotional-speech-audio/audio_speech_actors_01-24/Actor_05/03-01-06-01-02-01-05.wav\n",
      "0.0021572849\n",
      "/media/helemanc/OS/Users/i2CAT/Desktop/Datasets SER/ravdess-emotional-speech-audio/audio_speech_actors_01-24/Actor_05/03-01-06-01-02-02-05.wav\n",
      "0.004755054\n",
      "/media/helemanc/OS/Users/i2CAT/Desktop/Datasets SER/ravdess-emotional-speech-audio/audio_speech_actors_01-24/Actor_05/03-01-06-02-01-01-05.wav\n",
      "0.020229055\n",
      "/media/helemanc/OS/Users/i2CAT/Desktop/Datasets SER/ravdess-emotional-speech-audio/audio_speech_actors_01-24/Actor_05/03-01-06-02-01-02-05.wav\n",
      "0.020166108\n",
      "/media/helemanc/OS/Users/i2CAT/Desktop/Datasets SER/ravdess-emotional-speech-audio/audio_speech_actors_01-24/Actor_05/03-01-06-02-02-01-05.wav\n",
      "0.019106219\n",
      "/media/helemanc/OS/Users/i2CAT/Desktop/Datasets SER/ravdess-emotional-speech-audio/audio_speech_actors_01-24/Actor_05/03-01-06-02-02-02-05.wav\n",
      "0.019103445\n",
      "/media/helemanc/OS/Users/i2CAT/Desktop/Datasets SER/ravdess-emotional-speech-audio/audio_speech_actors_01-24/Actor_05/03-01-07-01-01-01-05.wav\n",
      "0.0009720418\n",
      "/media/helemanc/OS/Users/i2CAT/Desktop/Datasets SER/ravdess-emotional-speech-audio/audio_speech_actors_01-24/Actor_05/03-01-07-01-01-02-05.wav\n",
      "0.0016213044\n",
      "/media/helemanc/OS/Users/i2CAT/Desktop/Datasets SER/ravdess-emotional-speech-audio/audio_speech_actors_01-24/Actor_05/03-01-07-01-02-01-05.wav\n",
      "0.0015085068\n",
      "/media/helemanc/OS/Users/i2CAT/Desktop/Datasets SER/ravdess-emotional-speech-audio/audio_speech_actors_01-24/Actor_05/03-01-04-01-01-02-05.wav\n",
      "0.00075541256\n",
      "/media/helemanc/OS/Users/i2CAT/Desktop/Datasets SER/ravdess-emotional-speech-audio/audio_speech_actors_01-24/Actor_05/03-01-04-01-02-01-05.wav\n",
      "0.00079562457\n",
      "/media/helemanc/OS/Users/i2CAT/Desktop/Datasets SER/ravdess-emotional-speech-audio/audio_speech_actors_01-24/Actor_05/03-01-04-01-02-02-05.wav\n",
      "0.00090367877\n",
      "/media/helemanc/OS/Users/i2CAT/Desktop/Datasets SER/ravdess-emotional-speech-audio/audio_speech_actors_01-24/Actor_05/03-01-04-02-01-01-05.wav\n",
      "0.0012094445\n",
      "/media/helemanc/OS/Users/i2CAT/Desktop/Datasets SER/ravdess-emotional-speech-audio/audio_speech_actors_01-24/Actor_05/03-01-04-02-01-02-05.wav\n",
      "0.00094694615\n",
      "/media/helemanc/OS/Users/i2CAT/Desktop/Datasets SER/ravdess-emotional-speech-audio/audio_speech_actors_01-24/Actor_05/03-01-04-02-02-01-05.wav\n",
      "0.0013762246\n",
      "/media/helemanc/OS/Users/i2CAT/Desktop/Datasets SER/ravdess-emotional-speech-audio/audio_speech_actors_01-24/Actor_05/03-01-04-02-02-02-05.wav\n",
      "0.0012371641\n",
      "/media/helemanc/OS/Users/i2CAT/Desktop/Datasets SER/ravdess-emotional-speech-audio/audio_speech_actors_01-24/Actor_05/03-01-05-01-01-01-05.wav\n",
      "0.011038088\n",
      "/media/helemanc/OS/Users/i2CAT/Desktop/Datasets SER/ravdess-emotional-speech-audio/audio_speech_actors_01-24/Actor_05/03-01-05-01-01-02-05.wav\n",
      "0.009637128\n",
      "/media/helemanc/OS/Users/i2CAT/Desktop/Datasets SER/ravdess-emotional-speech-audio/audio_speech_actors_01-24/Actor_05/03-01-05-01-02-01-05.wav\n",
      "0.0034520314\n",
      "/media/helemanc/OS/Users/i2CAT/Desktop/Datasets SER/ravdess-emotional-speech-audio/audio_speech_actors_01-24/Actor_05/03-01-05-01-02-02-05.wav\n",
      "0.0057202885\n",
      "/media/helemanc/OS/Users/i2CAT/Desktop/Datasets SER/ravdess-emotional-speech-audio/audio_speech_actors_01-24/Actor_05/03-01-05-02-01-01-05.wav\n",
      "0.039288446\n",
      "/media/helemanc/OS/Users/i2CAT/Desktop/Datasets SER/ravdess-emotional-speech-audio/audio_speech_actors_01-24/Actor_05/03-01-05-02-01-02-05.wav\n",
      "0.03640662\n",
      "/media/helemanc/OS/Users/i2CAT/Desktop/Datasets SER/ravdess-emotional-speech-audio/audio_speech_actors_01-24/Actor_05/03-01-05-02-02-01-05.wav\n",
      "0.05534047\n",
      "/media/helemanc/OS/Users/i2CAT/Desktop/Datasets SER/ravdess-emotional-speech-audio/audio_speech_actors_01-24/Actor_05/03-01-07-01-02-02-05.wav\n",
      "0.0024922325\n",
      "/media/helemanc/OS/Users/i2CAT/Desktop/Datasets SER/ravdess-emotional-speech-audio/audio_speech_actors_01-24/Actor_05/03-01-07-02-01-01-05.wav\n",
      "0.0019124195\n",
      "/media/helemanc/OS/Users/i2CAT/Desktop/Datasets SER/ravdess-emotional-speech-audio/audio_speech_actors_01-24/Actor_05/03-01-07-02-01-02-05.wav\n",
      "0.0043244855\n",
      "/media/helemanc/OS/Users/i2CAT/Desktop/Datasets SER/ravdess-emotional-speech-audio/audio_speech_actors_01-24/Actor_05/03-01-07-02-02-01-05.wav\n",
      "0.005066772\n",
      "/media/helemanc/OS/Users/i2CAT/Desktop/Datasets SER/ravdess-emotional-speech-audio/audio_speech_actors_01-24/Actor_05/03-01-07-02-02-02-05.wav\n",
      "0.0027203558\n",
      "/media/helemanc/OS/Users/i2CAT/Desktop/Datasets SER/ravdess-emotional-speech-audio/audio_speech_actors_01-24/Actor_05/03-01-08-01-01-01-05.wav\n",
      "0.00384103\n",
      "/media/helemanc/OS/Users/i2CAT/Desktop/Datasets SER/ravdess-emotional-speech-audio/audio_speech_actors_01-24/Actor_05/03-01-08-01-01-02-05.wav\n",
      "0.0047598453\n",
      "/media/helemanc/OS/Users/i2CAT/Desktop/Datasets SER/ravdess-emotional-speech-audio/audio_speech_actors_01-24/Actor_05/03-01-08-01-02-01-05.wav\n",
      "0.003689132\n",
      "/media/helemanc/OS/Users/i2CAT/Desktop/Datasets SER/ravdess-emotional-speech-audio/audio_speech_actors_01-24/Actor_05/03-01-08-01-02-02-05.wav\n",
      "0.005467369\n",
      "/media/helemanc/OS/Users/i2CAT/Desktop/Datasets SER/ravdess-emotional-speech-audio/audio_speech_actors_01-24/Actor_05/03-01-08-02-01-01-05.wav\n",
      "0.0043608225\n",
      "/media/helemanc/OS/Users/i2CAT/Desktop/Datasets SER/ravdess-emotional-speech-audio/audio_speech_actors_01-24/Actor_05/03-01-08-02-01-02-05.wav\n",
      "0.006441643\n",
      "/media/helemanc/OS/Users/i2CAT/Desktop/Datasets SER/ravdess-emotional-speech-audio/audio_speech_actors_01-24/Actor_05/03-01-08-02-02-01-05.wav\n",
      "0.0072822906\n",
      "/media/helemanc/OS/Users/i2CAT/Desktop/Datasets SER/ravdess-emotional-speech-audio/audio_speech_actors_01-24/Actor_05/03-01-08-02-02-02-05.wav\n",
      "0.007319418\n",
      "/media/helemanc/OS/Users/i2CAT/Desktop/Datasets SER/ravdess-emotional-speech-audio/audio_speech_actors_01-24/Actor_05/03-01-03-01-02-01-05.wav\n",
      "0.0023452698\n",
      "/media/helemanc/OS/Users/i2CAT/Desktop/Datasets SER/ravdess-emotional-speech-audio/audio_speech_actors_01-24/Actor_05/03-01-03-01-02-02-05.wav\n",
      "0.0047010444\n",
      "/media/helemanc/OS/Users/i2CAT/Desktop/Datasets SER/ravdess-emotional-speech-audio/audio_speech_actors_01-24/Actor_05/03-01-03-02-01-01-05.wav\n",
      "0.0037622093\n",
      "/media/helemanc/OS/Users/i2CAT/Desktop/Datasets SER/ravdess-emotional-speech-audio/audio_speech_actors_01-24/Actor_05/03-01-03-02-01-02-05.wav\n",
      "0.00932808\n",
      "/media/helemanc/OS/Users/i2CAT/Desktop/Datasets SER/ravdess-emotional-speech-audio/audio_speech_actors_01-24/Actor_05/03-01-03-02-02-01-05.wav\n",
      "0.008653921\n",
      "/media/helemanc/OS/Users/i2CAT/Desktop/Datasets SER/ravdess-emotional-speech-audio/audio_speech_actors_01-24/Actor_05/03-01-03-02-02-02-05.wav\n",
      "0.008181045\n",
      "/media/helemanc/OS/Users/i2CAT/Desktop/Datasets SER/ravdess-emotional-speech-audio/audio_speech_actors_01-24/Actor_05/03-01-04-01-01-01-05.wav\n",
      "0.00073946966\n",
      "/media/helemanc/OS/Users/i2CAT/Desktop/Datasets SER/ravdess-emotional-speech-audio/audio_speech_actors_01-24/Actor_05/03-01-02-01-02-01-05.wav\n",
      "0.0010548735\n",
      "/media/helemanc/OS/Users/i2CAT/Desktop/Datasets SER/ravdess-emotional-speech-audio/audio_speech_actors_01-24/Actor_05/03-01-03-01-01-02-05.wav\n",
      "0.0030835036\n",
      "/media/helemanc/OS/Users/i2CAT/Desktop/Datasets SER/ravdess-emotional-speech-audio/audio_speech_actors_01-24/Actor_05/03-01-02-01-02-02-05.wav\n",
      "0.0017731554\n",
      "/media/helemanc/OS/Users/i2CAT/Desktop/Datasets SER/ravdess-emotional-speech-audio/audio_speech_actors_01-24/Actor_05/03-01-02-02-01-01-05.wav\n",
      "0.0010339301\n",
      "/media/helemanc/OS/Users/i2CAT/Desktop/Datasets SER/ravdess-emotional-speech-audio/audio_speech_actors_01-24/Actor_05/03-01-02-02-01-02-05.wav\n",
      "0.00049993355\n",
      "/media/helemanc/OS/Users/i2CAT/Desktop/Datasets SER/ravdess-emotional-speech-audio/audio_speech_actors_01-24/Actor_05/03-01-02-02-02-01-05.wav\n",
      "0.0008587237\n",
      "/media/helemanc/OS/Users/i2CAT/Desktop/Datasets SER/ravdess-emotional-speech-audio/audio_speech_actors_01-24/Actor_05/03-01-02-02-02-02-05.wav\n",
      "0.0006930977\n",
      "/media/helemanc/OS/Users/i2CAT/Desktop/Datasets SER/ravdess-emotional-speech-audio/audio_speech_actors_01-24/Actor_05/03-01-03-01-01-01-05.wav\n",
      "0.002383196\n",
      "/media/helemanc/OS/Users/i2CAT/Desktop/Datasets SER/ravdess-emotional-speech-audio/audio_speech_actors_01-24/Actor_05/03-01-01-01-01-01-05.wav\n",
      "0.001517426\n",
      "/media/helemanc/OS/Users/i2CAT/Desktop/Datasets SER/ravdess-emotional-speech-audio/audio_speech_actors_01-24/Actor_05/03-01-01-01-01-02-05.wav\n",
      "0.0012626519\n",
      "/media/helemanc/OS/Users/i2CAT/Desktop/Datasets SER/ravdess-emotional-speech-audio/audio_speech_actors_01-24/Actor_05/03-01-01-01-02-01-05.wav\n",
      "0.0021406598\n",
      "/media/helemanc/OS/Users/i2CAT/Desktop/Datasets SER/ravdess-emotional-speech-audio/audio_speech_actors_01-24/Actor_05/03-01-01-01-02-02-05.wav\n",
      "0.001736837\n",
      "/media/helemanc/OS/Users/i2CAT/Desktop/Datasets SER/ravdess-emotional-speech-audio/audio_speech_actors_01-24/Actor_05/03-01-02-01-01-01-05.wav\n",
      "0.0011147955\n",
      "/media/helemanc/OS/Users/i2CAT/Desktop/Datasets SER/ravdess-emotional-speech-audio/audio_speech_actors_01-24/Actor_05/03-01-02-01-01-02-05.wav\n",
      "0.0007045888\n",
      "/media/helemanc/OS/Users/i2CAT/Desktop/Datasets SER/ravdess-emotional-speech-audio/audio_speech_actors_01-24/Actor_06/03-01-07-01-01-02-06.wav\n",
      "0.00083962036\n",
      "/media/helemanc/OS/Users/i2CAT/Desktop/Datasets SER/ravdess-emotional-speech-audio/audio_speech_actors_01-24/Actor_06/03-01-07-01-02-01-06.wav\n",
      "0.0012528265\n",
      "/media/helemanc/OS/Users/i2CAT/Desktop/Datasets SER/ravdess-emotional-speech-audio/audio_speech_actors_01-24/Actor_06/03-01-07-01-02-02-06.wav\n",
      "0.0012363053\n",
      "/media/helemanc/OS/Users/i2CAT/Desktop/Datasets SER/ravdess-emotional-speech-audio/audio_speech_actors_01-24/Actor_06/03-01-07-02-01-01-06.wav\n",
      "0.0065683792\n",
      "/media/helemanc/OS/Users/i2CAT/Desktop/Datasets SER/ravdess-emotional-speech-audio/audio_speech_actors_01-24/Actor_06/03-01-07-02-01-02-06.wav\n",
      "0.0033394762\n",
      "/media/helemanc/OS/Users/i2CAT/Desktop/Datasets SER/ravdess-emotional-speech-audio/audio_speech_actors_01-24/Actor_06/03-01-07-02-02-01-06.wav\n",
      "0.005107862\n",
      "/media/helemanc/OS/Users/i2CAT/Desktop/Datasets SER/ravdess-emotional-speech-audio/audio_speech_actors_01-24/Actor_06/03-01-07-02-02-02-06.wav\n",
      "0.0036574255\n",
      "/media/helemanc/OS/Users/i2CAT/Desktop/Datasets SER/ravdess-emotional-speech-audio/audio_speech_actors_01-24/Actor_06/03-01-08-01-01-01-06.wav\n",
      "0.0018084815\n",
      "/media/helemanc/OS/Users/i2CAT/Desktop/Datasets SER/ravdess-emotional-speech-audio/audio_speech_actors_01-24/Actor_06/03-01-04-02-02-02-06.wav\n",
      "0.0051199268\n",
      "/media/helemanc/OS/Users/i2CAT/Desktop/Datasets SER/ravdess-emotional-speech-audio/audio_speech_actors_01-24/Actor_06/03-01-05-01-01-01-06.wav\n",
      "0.0037309206\n",
      "/media/helemanc/OS/Users/i2CAT/Desktop/Datasets SER/ravdess-emotional-speech-audio/audio_speech_actors_01-24/Actor_06/03-01-05-01-01-02-06.wav\n",
      "0.004184371\n",
      "/media/helemanc/OS/Users/i2CAT/Desktop/Datasets SER/ravdess-emotional-speech-audio/audio_speech_actors_01-24/Actor_06/03-01-05-01-02-01-06.wav\n",
      "0.006214659\n",
      "/media/helemanc/OS/Users/i2CAT/Desktop/Datasets SER/ravdess-emotional-speech-audio/audio_speech_actors_01-24/Actor_06/03-01-05-01-02-02-06.wav\n",
      "0.007674464\n",
      "/media/helemanc/OS/Users/i2CAT/Desktop/Datasets SER/ravdess-emotional-speech-audio/audio_speech_actors_01-24/Actor_06/03-01-05-02-01-01-06.wav\n",
      "0.06881114\n",
      "/media/helemanc/OS/Users/i2CAT/Desktop/Datasets SER/ravdess-emotional-speech-audio/audio_speech_actors_01-24/Actor_06/03-01-05-02-01-02-06.wav\n",
      "0.063175544\n",
      "/media/helemanc/OS/Users/i2CAT/Desktop/Datasets SER/ravdess-emotional-speech-audio/audio_speech_actors_01-24/Actor_06/03-01-05-02-02-01-06.wav\n",
      "0.05695179\n",
      "/media/helemanc/OS/Users/i2CAT/Desktop/Datasets SER/ravdess-emotional-speech-audio/audio_speech_actors_01-24/Actor_06/03-01-03-01-01-02-06.wav\n",
      "0.0054667476\n",
      "/media/helemanc/OS/Users/i2CAT/Desktop/Datasets SER/ravdess-emotional-speech-audio/audio_speech_actors_01-24/Actor_06/03-01-03-01-02-01-06.wav\n",
      "0.003714946\n",
      "/media/helemanc/OS/Users/i2CAT/Desktop/Datasets SER/ravdess-emotional-speech-audio/audio_speech_actors_01-24/Actor_06/03-01-03-01-02-02-06.wav\n",
      "0.0045030294\n",
      "/media/helemanc/OS/Users/i2CAT/Desktop/Datasets SER/ravdess-emotional-speech-audio/audio_speech_actors_01-24/Actor_06/03-01-03-02-01-01-06.wav\n",
      "0.028056335\n",
      "/media/helemanc/OS/Users/i2CAT/Desktop/Datasets SER/ravdess-emotional-speech-audio/audio_speech_actors_01-24/Actor_06/03-01-03-02-01-02-06.wav\n",
      "0.02503541\n",
      "/media/helemanc/OS/Users/i2CAT/Desktop/Datasets SER/ravdess-emotional-speech-audio/audio_speech_actors_01-24/Actor_06/03-01-03-02-02-01-06.wav\n",
      "0.025599265\n",
      "/media/helemanc/OS/Users/i2CAT/Desktop/Datasets SER/ravdess-emotional-speech-audio/audio_speech_actors_01-24/Actor_06/03-01-03-02-02-02-06.wav\n",
      "0.029629707\n",
      "/media/helemanc/OS/Users/i2CAT/Desktop/Datasets SER/ravdess-emotional-speech-audio/audio_speech_actors_01-24/Actor_06/03-01-04-01-01-01-06.wav\n",
      "0.0010105749\n",
      "/media/helemanc/OS/Users/i2CAT/Desktop/Datasets SER/ravdess-emotional-speech-audio/audio_speech_actors_01-24/Actor_06/03-01-04-01-01-02-06.wav\n",
      "0.0010905396\n",
      "/media/helemanc/OS/Users/i2CAT/Desktop/Datasets SER/ravdess-emotional-speech-audio/audio_speech_actors_01-24/Actor_06/03-01-04-01-02-01-06.wav\n",
      "0.0019666266\n",
      "/media/helemanc/OS/Users/i2CAT/Desktop/Datasets SER/ravdess-emotional-speech-audio/audio_speech_actors_01-24/Actor_06/03-01-04-01-02-02-06.wav\n",
      "0.0015754931\n",
      "/media/helemanc/OS/Users/i2CAT/Desktop/Datasets SER/ravdess-emotional-speech-audio/audio_speech_actors_01-24/Actor_06/03-01-04-02-01-01-06.wav\n",
      "0.010887635\n",
      "/media/helemanc/OS/Users/i2CAT/Desktop/Datasets SER/ravdess-emotional-speech-audio/audio_speech_actors_01-24/Actor_06/03-01-04-02-01-02-06.wav\n",
      "0.0012142425\n",
      "/media/helemanc/OS/Users/i2CAT/Desktop/Datasets SER/ravdess-emotional-speech-audio/audio_speech_actors_01-24/Actor_06/03-01-04-02-02-01-06.wav\n",
      "0.0085824905\n",
      "/media/helemanc/OS/Users/i2CAT/Desktop/Datasets SER/ravdess-emotional-speech-audio/audio_speech_actors_01-24/Actor_06/03-01-08-01-01-02-06.wav\n",
      "0.0023050809\n",
      "/media/helemanc/OS/Users/i2CAT/Desktop/Datasets SER/ravdess-emotional-speech-audio/audio_speech_actors_01-24/Actor_06/03-01-08-01-02-01-06.wav\n",
      "0.0026721105\n",
      "/media/helemanc/OS/Users/i2CAT/Desktop/Datasets SER/ravdess-emotional-speech-audio/audio_speech_actors_01-24/Actor_06/03-01-08-01-02-02-06.wav\n",
      "0.0024870038\n",
      "/media/helemanc/OS/Users/i2CAT/Desktop/Datasets SER/ravdess-emotional-speech-audio/audio_speech_actors_01-24/Actor_06/03-01-08-02-01-01-06.wav\n",
      "0.0021443835\n",
      "/media/helemanc/OS/Users/i2CAT/Desktop/Datasets SER/ravdess-emotional-speech-audio/audio_speech_actors_01-24/Actor_06/03-01-08-02-01-02-06.wav\n",
      "0.0072552953\n",
      "/media/helemanc/OS/Users/i2CAT/Desktop/Datasets SER/ravdess-emotional-speech-audio/audio_speech_actors_01-24/Actor_06/03-01-08-02-02-01-06.wav\n",
      "0.0074444585\n",
      "/media/helemanc/OS/Users/i2CAT/Desktop/Datasets SER/ravdess-emotional-speech-audio/audio_speech_actors_01-24/Actor_06/03-01-08-02-02-02-06.wav\n",
      "0.007881775\n",
      "/media/helemanc/OS/Users/i2CAT/Desktop/Datasets SER/ravdess-emotional-speech-audio/audio_speech_actors_01-24/Actor_06/03-01-05-02-02-02-06.wav\n",
      "0.053718735\n",
      "/media/helemanc/OS/Users/i2CAT/Desktop/Datasets SER/ravdess-emotional-speech-audio/audio_speech_actors_01-24/Actor_06/03-01-06-01-01-01-06.wav\n",
      "0.0023681324\n",
      "/media/helemanc/OS/Users/i2CAT/Desktop/Datasets SER/ravdess-emotional-speech-audio/audio_speech_actors_01-24/Actor_06/03-01-06-01-01-02-06.wav\n",
      "0.0023792228\n",
      "/media/helemanc/OS/Users/i2CAT/Desktop/Datasets SER/ravdess-emotional-speech-audio/audio_speech_actors_01-24/Actor_06/03-01-06-01-02-01-06.wav\n",
      "0.003418937\n",
      "/media/helemanc/OS/Users/i2CAT/Desktop/Datasets SER/ravdess-emotional-speech-audio/audio_speech_actors_01-24/Actor_06/03-01-06-01-02-02-06.wav\n",
      "0.003298349\n",
      "/media/helemanc/OS/Users/i2CAT/Desktop/Datasets SER/ravdess-emotional-speech-audio/audio_speech_actors_01-24/Actor_06/03-01-06-02-01-01-06.wav\n",
      "0.058995254\n",
      "/media/helemanc/OS/Users/i2CAT/Desktop/Datasets SER/ravdess-emotional-speech-audio/audio_speech_actors_01-24/Actor_06/03-01-06-02-01-02-06.wav\n",
      "0.054133147\n",
      "/media/helemanc/OS/Users/i2CAT/Desktop/Datasets SER/ravdess-emotional-speech-audio/audio_speech_actors_01-24/Actor_06/03-01-06-02-02-01-06.wav\n",
      "0.039405167\n",
      "/media/helemanc/OS/Users/i2CAT/Desktop/Datasets SER/ravdess-emotional-speech-audio/audio_speech_actors_01-24/Actor_06/03-01-06-02-02-02-06.wav\n",
      "0.07617286\n",
      "/media/helemanc/OS/Users/i2CAT/Desktop/Datasets SER/ravdess-emotional-speech-audio/audio_speech_actors_01-24/Actor_06/03-01-07-01-01-01-06.wav\n",
      "0.001146895\n",
      "/media/helemanc/OS/Users/i2CAT/Desktop/Datasets SER/ravdess-emotional-speech-audio/audio_speech_actors_01-24/Actor_06/03-01-02-01-02-01-06.wav\n",
      "0.0013900261\n",
      "/media/helemanc/OS/Users/i2CAT/Desktop/Datasets SER/ravdess-emotional-speech-audio/audio_speech_actors_01-24/Actor_06/03-01-02-01-02-02-06.wav\n",
      "0.0020848273\n",
      "/media/helemanc/OS/Users/i2CAT/Desktop/Datasets SER/ravdess-emotional-speech-audio/audio_speech_actors_01-24/Actor_06/03-01-02-02-01-01-06.wav\n",
      "0.0010633345\n",
      "/media/helemanc/OS/Users/i2CAT/Desktop/Datasets SER/ravdess-emotional-speech-audio/audio_speech_actors_01-24/Actor_06/03-01-02-02-01-02-06.wav\n",
      "0.0010278221\n",
      "/media/helemanc/OS/Users/i2CAT/Desktop/Datasets SER/ravdess-emotional-speech-audio/audio_speech_actors_01-24/Actor_06/03-01-02-02-02-01-06.wav\n",
      "0.0016011483\n",
      "/media/helemanc/OS/Users/i2CAT/Desktop/Datasets SER/ravdess-emotional-speech-audio/audio_speech_actors_01-24/Actor_06/03-01-02-02-02-02-06.wav\n",
      "0.0011097259\n",
      "/media/helemanc/OS/Users/i2CAT/Desktop/Datasets SER/ravdess-emotional-speech-audio/audio_speech_actors_01-24/Actor_06/03-01-03-01-01-01-06.wav\n",
      "0.0037139086\n",
      "/media/helemanc/OS/Users/i2CAT/Desktop/Datasets SER/ravdess-emotional-speech-audio/audio_speech_actors_01-24/Actor_06/03-01-01-01-01-01-06.wav\n",
      "0.0015999478\n",
      "/media/helemanc/OS/Users/i2CAT/Desktop/Datasets SER/ravdess-emotional-speech-audio/audio_speech_actors_01-24/Actor_06/03-01-01-01-01-02-06.wav\n",
      "0.0020166072\n",
      "/media/helemanc/OS/Users/i2CAT/Desktop/Datasets SER/ravdess-emotional-speech-audio/audio_speech_actors_01-24/Actor_06/03-01-01-01-02-01-06.wav\n",
      "0.0021583594\n",
      "/media/helemanc/OS/Users/i2CAT/Desktop/Datasets SER/ravdess-emotional-speech-audio/audio_speech_actors_01-24/Actor_06/03-01-01-01-02-02-06.wav\n",
      "0.0021600924\n",
      "/media/helemanc/OS/Users/i2CAT/Desktop/Datasets SER/ravdess-emotional-speech-audio/audio_speech_actors_01-24/Actor_06/03-01-02-01-01-01-06.wav\n",
      "0.00085112767\n",
      "/media/helemanc/OS/Users/i2CAT/Desktop/Datasets SER/ravdess-emotional-speech-audio/audio_speech_actors_01-24/Actor_06/03-01-02-01-01-02-06.wav\n",
      "0.0009841078\n",
      "/media/helemanc/OS/Users/i2CAT/Desktop/Datasets SER/ravdess-emotional-speech-audio/audio_speech_actors_01-24/Actor_07/03-01-07-01-02-02-07.wav\n",
      "0.002836346\n",
      "/media/helemanc/OS/Users/i2CAT/Desktop/Datasets SER/ravdess-emotional-speech-audio/audio_speech_actors_01-24/Actor_07/03-01-07-02-01-01-07.wav\n",
      "0.008740791\n",
      "/media/helemanc/OS/Users/i2CAT/Desktop/Datasets SER/ravdess-emotional-speech-audio/audio_speech_actors_01-24/Actor_07/03-01-07-02-01-02-07.wav\n",
      "0.0052495864\n",
      "/media/helemanc/OS/Users/i2CAT/Desktop/Datasets SER/ravdess-emotional-speech-audio/audio_speech_actors_01-24/Actor_07/03-01-07-02-02-01-07.wav\n",
      "0.0054196957\n",
      "/media/helemanc/OS/Users/i2CAT/Desktop/Datasets SER/ravdess-emotional-speech-audio/audio_speech_actors_01-24/Actor_07/03-01-07-02-02-02-07.wav\n",
      "0.0064236443\n",
      "/media/helemanc/OS/Users/i2CAT/Desktop/Datasets SER/ravdess-emotional-speech-audio/audio_speech_actors_01-24/Actor_07/03-01-08-01-01-01-07.wav\n",
      "0.0040060305\n",
      "/media/helemanc/OS/Users/i2CAT/Desktop/Datasets SER/ravdess-emotional-speech-audio/audio_speech_actors_01-24/Actor_07/03-01-08-01-01-02-07.wav\n",
      "0.004747583\n",
      "/media/helemanc/OS/Users/i2CAT/Desktop/Datasets SER/ravdess-emotional-speech-audio/audio_speech_actors_01-24/Actor_07/03-01-08-01-02-01-07.wav\n",
      "0.0041816463\n",
      "/media/helemanc/OS/Users/i2CAT/Desktop/Datasets SER/ravdess-emotional-speech-audio/audio_speech_actors_01-24/Actor_07/03-01-08-01-02-02-07.wav\n",
      "0.004622367\n",
      "/media/helemanc/OS/Users/i2CAT/Desktop/Datasets SER/ravdess-emotional-speech-audio/audio_speech_actors_01-24/Actor_07/03-01-08-02-01-01-07.wav\n",
      "0.012583821\n",
      "/media/helemanc/OS/Users/i2CAT/Desktop/Datasets SER/ravdess-emotional-speech-audio/audio_speech_actors_01-24/Actor_07/03-01-08-02-01-02-07.wav\n",
      "0.005701438\n",
      "/media/helemanc/OS/Users/i2CAT/Desktop/Datasets SER/ravdess-emotional-speech-audio/audio_speech_actors_01-24/Actor_07/03-01-08-02-02-01-07.wav\n",
      "0.011840884\n",
      "/media/helemanc/OS/Users/i2CAT/Desktop/Datasets SER/ravdess-emotional-speech-audio/audio_speech_actors_01-24/Actor_07/03-01-08-02-02-02-07.wav\n",
      "0.008040463\n",
      "/media/helemanc/OS/Users/i2CAT/Desktop/Datasets SER/ravdess-emotional-speech-audio/audio_speech_actors_01-24/Actor_07/03-01-05-01-01-01-07.wav\n",
      "0.013206944\n",
      "/media/helemanc/OS/Users/i2CAT/Desktop/Datasets SER/ravdess-emotional-speech-audio/audio_speech_actors_01-24/Actor_07/03-01-05-01-01-02-07.wav\n",
      "0.029416526\n",
      "/media/helemanc/OS/Users/i2CAT/Desktop/Datasets SER/ravdess-emotional-speech-audio/audio_speech_actors_01-24/Actor_07/03-01-05-01-02-01-07.wav\n",
      "0.0044342997\n",
      "/media/helemanc/OS/Users/i2CAT/Desktop/Datasets SER/ravdess-emotional-speech-audio/audio_speech_actors_01-24/Actor_07/03-01-05-01-02-02-07.wav\n",
      "0.010754379\n",
      "/media/helemanc/OS/Users/i2CAT/Desktop/Datasets SER/ravdess-emotional-speech-audio/audio_speech_actors_01-24/Actor_07/03-01-05-02-01-01-07.wav\n",
      "0.023561954\n",
      "/media/helemanc/OS/Users/i2CAT/Desktop/Datasets SER/ravdess-emotional-speech-audio/audio_speech_actors_01-24/Actor_07/03-01-05-02-01-02-07.wav\n",
      "0.045447357\n",
      "/media/helemanc/OS/Users/i2CAT/Desktop/Datasets SER/ravdess-emotional-speech-audio/audio_speech_actors_01-24/Actor_07/03-01-05-02-02-01-07.wav\n",
      "0.06801026\n",
      "/media/helemanc/OS/Users/i2CAT/Desktop/Datasets SER/ravdess-emotional-speech-audio/audio_speech_actors_01-24/Actor_07/03-01-05-02-02-02-07.wav\n",
      "0.058000617\n",
      "/media/helemanc/OS/Users/i2CAT/Desktop/Datasets SER/ravdess-emotional-speech-audio/audio_speech_actors_01-24/Actor_07/03-01-03-01-02-01-07.wav\n",
      "0.0041160444\n",
      "/media/helemanc/OS/Users/i2CAT/Desktop/Datasets SER/ravdess-emotional-speech-audio/audio_speech_actors_01-24/Actor_07/03-01-03-01-02-02-07.wav\n",
      "0.0041160444\n",
      "/media/helemanc/OS/Users/i2CAT/Desktop/Datasets SER/ravdess-emotional-speech-audio/audio_speech_actors_01-24/Actor_07/03-01-03-02-01-01-07.wav\n",
      "0.01610252\n",
      "/media/helemanc/OS/Users/i2CAT/Desktop/Datasets SER/ravdess-emotional-speech-audio/audio_speech_actors_01-24/Actor_07/03-01-03-02-01-02-07.wav\n",
      "0.01831979\n",
      "/media/helemanc/OS/Users/i2CAT/Desktop/Datasets SER/ravdess-emotional-speech-audio/audio_speech_actors_01-24/Actor_07/03-01-03-02-02-01-07.wav\n",
      "0.014417066\n",
      "/media/helemanc/OS/Users/i2CAT/Desktop/Datasets SER/ravdess-emotional-speech-audio/audio_speech_actors_01-24/Actor_07/03-01-03-02-02-02-07.wav\n",
      "0.02245775\n",
      "/media/helemanc/OS/Users/i2CAT/Desktop/Datasets SER/ravdess-emotional-speech-audio/audio_speech_actors_01-24/Actor_07/03-01-04-01-01-01-07.wav\n",
      "0.0015532138\n",
      "/media/helemanc/OS/Users/i2CAT/Desktop/Datasets SER/ravdess-emotional-speech-audio/audio_speech_actors_01-24/Actor_07/03-01-04-01-01-02-07.wav\n",
      "0.0016831878\n",
      "/media/helemanc/OS/Users/i2CAT/Desktop/Datasets SER/ravdess-emotional-speech-audio/audio_speech_actors_01-24/Actor_07/03-01-04-01-02-01-07.wav\n",
      "0.0017362845\n",
      "/media/helemanc/OS/Users/i2CAT/Desktop/Datasets SER/ravdess-emotional-speech-audio/audio_speech_actors_01-24/Actor_07/03-01-04-01-02-02-07.wav\n",
      "0.004006738\n",
      "/media/helemanc/OS/Users/i2CAT/Desktop/Datasets SER/ravdess-emotional-speech-audio/audio_speech_actors_01-24/Actor_07/03-01-04-02-01-01-07.wav\n",
      "0.0035996577\n",
      "/media/helemanc/OS/Users/i2CAT/Desktop/Datasets SER/ravdess-emotional-speech-audio/audio_speech_actors_01-24/Actor_07/03-01-04-02-01-02-07.wav\n",
      "0.0042767143\n",
      "/media/helemanc/OS/Users/i2CAT/Desktop/Datasets SER/ravdess-emotional-speech-audio/audio_speech_actors_01-24/Actor_07/03-01-04-02-02-01-07.wav\n",
      "0.0066799093\n",
      "/media/helemanc/OS/Users/i2CAT/Desktop/Datasets SER/ravdess-emotional-speech-audio/audio_speech_actors_01-24/Actor_07/03-01-04-02-02-02-07.wav\n",
      "0.0053390334\n",
      "/media/helemanc/OS/Users/i2CAT/Desktop/Datasets SER/ravdess-emotional-speech-audio/audio_speech_actors_01-24/Actor_07/03-01-06-01-01-01-07.wav\n",
      "0.00364702\n",
      "/media/helemanc/OS/Users/i2CAT/Desktop/Datasets SER/ravdess-emotional-speech-audio/audio_speech_actors_01-24/Actor_07/03-01-06-01-01-02-07.wav\n",
      "0.00439434\n",
      "/media/helemanc/OS/Users/i2CAT/Desktop/Datasets SER/ravdess-emotional-speech-audio/audio_speech_actors_01-24/Actor_07/03-01-06-01-02-01-07.wav\n",
      "0.0041261474\n",
      "/media/helemanc/OS/Users/i2CAT/Desktop/Datasets SER/ravdess-emotional-speech-audio/audio_speech_actors_01-24/Actor_07/03-01-06-01-02-02-07.wav\n",
      "0.0037761715\n",
      "/media/helemanc/OS/Users/i2CAT/Desktop/Datasets SER/ravdess-emotional-speech-audio/audio_speech_actors_01-24/Actor_07/03-01-06-02-01-01-07.wav\n",
      "0.018502198\n",
      "/media/helemanc/OS/Users/i2CAT/Desktop/Datasets SER/ravdess-emotional-speech-audio/audio_speech_actors_01-24/Actor_07/03-01-06-02-01-02-07.wav\n",
      "0.013041428\n",
      "/media/helemanc/OS/Users/i2CAT/Desktop/Datasets SER/ravdess-emotional-speech-audio/audio_speech_actors_01-24/Actor_07/03-01-06-02-02-01-07.wav\n",
      "0.028256766\n",
      "/media/helemanc/OS/Users/i2CAT/Desktop/Datasets SER/ravdess-emotional-speech-audio/audio_speech_actors_01-24/Actor_07/03-01-06-02-02-02-07.wav\n",
      "0.029089428\n",
      "/media/helemanc/OS/Users/i2CAT/Desktop/Datasets SER/ravdess-emotional-speech-audio/audio_speech_actors_01-24/Actor_07/03-01-07-01-01-01-07.wav\n",
      "0.0020971552\n",
      "/media/helemanc/OS/Users/i2CAT/Desktop/Datasets SER/ravdess-emotional-speech-audio/audio_speech_actors_01-24/Actor_07/03-01-07-01-01-02-07.wav\n",
      "0.002503543\n",
      "/media/helemanc/OS/Users/i2CAT/Desktop/Datasets SER/ravdess-emotional-speech-audio/audio_speech_actors_01-24/Actor_07/03-01-07-01-02-01-07.wav\n",
      "0.0016919269\n",
      "/media/helemanc/OS/Users/i2CAT/Desktop/Datasets SER/ravdess-emotional-speech-audio/audio_speech_actors_01-24/Actor_07/03-01-02-01-02-02-07.wav\n",
      "0.0019545665\n",
      "/media/helemanc/OS/Users/i2CAT/Desktop/Datasets SER/ravdess-emotional-speech-audio/audio_speech_actors_01-24/Actor_07/03-01-02-02-01-01-07.wav\n",
      "0.0018014268\n",
      "/media/helemanc/OS/Users/i2CAT/Desktop/Datasets SER/ravdess-emotional-speech-audio/audio_speech_actors_01-24/Actor_07/03-01-02-02-01-02-07.wav\n",
      "0.0018967186\n",
      "/media/helemanc/OS/Users/i2CAT/Desktop/Datasets SER/ravdess-emotional-speech-audio/audio_speech_actors_01-24/Actor_07/03-01-02-02-02-01-07.wav\n",
      "0.0024201863\n",
      "/media/helemanc/OS/Users/i2CAT/Desktop/Datasets SER/ravdess-emotional-speech-audio/audio_speech_actors_01-24/Actor_07/03-01-02-02-02-02-07.wav\n",
      "0.001968519\n",
      "/media/helemanc/OS/Users/i2CAT/Desktop/Datasets SER/ravdess-emotional-speech-audio/audio_speech_actors_01-24/Actor_07/03-01-03-01-01-01-07.wav\n",
      "0.0020143082\n",
      "/media/helemanc/OS/Users/i2CAT/Desktop/Datasets SER/ravdess-emotional-speech-audio/audio_speech_actors_01-24/Actor_07/03-01-03-01-01-02-07.wav\n",
      "0.0034979982\n",
      "/media/helemanc/OS/Users/i2CAT/Desktop/Datasets SER/ravdess-emotional-speech-audio/audio_speech_actors_01-24/Actor_07/03-01-01-01-01-01-07.wav\n",
      "0.0026729184\n",
      "/media/helemanc/OS/Users/i2CAT/Desktop/Datasets SER/ravdess-emotional-speech-audio/audio_speech_actors_01-24/Actor_07/03-01-01-01-01-02-07.wav\n",
      "0.0028455614\n",
      "/media/helemanc/OS/Users/i2CAT/Desktop/Datasets SER/ravdess-emotional-speech-audio/audio_speech_actors_01-24/Actor_07/03-01-01-01-02-01-07.wav\n",
      "0.0031349224\n",
      "/media/helemanc/OS/Users/i2CAT/Desktop/Datasets SER/ravdess-emotional-speech-audio/audio_speech_actors_01-24/Actor_07/03-01-01-01-02-02-07.wav\n",
      "0.0025283361\n",
      "/media/helemanc/OS/Users/i2CAT/Desktop/Datasets SER/ravdess-emotional-speech-audio/audio_speech_actors_01-24/Actor_07/03-01-02-01-01-01-07.wav\n",
      "0.001792858\n",
      "/media/helemanc/OS/Users/i2CAT/Desktop/Datasets SER/ravdess-emotional-speech-audio/audio_speech_actors_01-24/Actor_07/03-01-02-01-01-02-07.wav\n",
      "0.0015767872\n",
      "/media/helemanc/OS/Users/i2CAT/Desktop/Datasets SER/ravdess-emotional-speech-audio/audio_speech_actors_01-24/Actor_07/03-01-02-01-02-01-07.wav\n",
      "0.0018811747\n",
      "/media/helemanc/OS/Users/i2CAT/Desktop/Datasets SER/ravdess-emotional-speech-audio/audio_speech_actors_01-24/Actor_08/03-01-07-01-02-02-08.wav\n",
      "0.0029753598\n",
      "/media/helemanc/OS/Users/i2CAT/Desktop/Datasets SER/ravdess-emotional-speech-audio/audio_speech_actors_01-24/Actor_08/03-01-07-02-01-01-08.wav\n",
      "0.004397588\n",
      "/media/helemanc/OS/Users/i2CAT/Desktop/Datasets SER/ravdess-emotional-speech-audio/audio_speech_actors_01-24/Actor_08/03-01-07-02-01-02-08.wav\n",
      "0.0030422157\n",
      "/media/helemanc/OS/Users/i2CAT/Desktop/Datasets SER/ravdess-emotional-speech-audio/audio_speech_actors_01-24/Actor_08/03-01-07-02-02-01-08.wav\n",
      "0.0036515004\n",
      "/media/helemanc/OS/Users/i2CAT/Desktop/Datasets SER/ravdess-emotional-speech-audio/audio_speech_actors_01-24/Actor_08/03-01-07-02-02-02-08.wav\n",
      "0.0050572087\n",
      "/media/helemanc/OS/Users/i2CAT/Desktop/Datasets SER/ravdess-emotional-speech-audio/audio_speech_actors_01-24/Actor_08/03-01-08-01-01-01-08.wav\n",
      "0.003724002\n",
      "/media/helemanc/OS/Users/i2CAT/Desktop/Datasets SER/ravdess-emotional-speech-audio/audio_speech_actors_01-24/Actor_08/03-01-08-01-01-02-08.wav\n",
      "0.0044647665\n",
      "/media/helemanc/OS/Users/i2CAT/Desktop/Datasets SER/ravdess-emotional-speech-audio/audio_speech_actors_01-24/Actor_08/03-01-08-01-02-01-08.wav\n",
      "0.0066907126\n",
      "/media/helemanc/OS/Users/i2CAT/Desktop/Datasets SER/ravdess-emotional-speech-audio/audio_speech_actors_01-24/Actor_08/03-01-08-01-02-02-08.wav\n",
      "0.005158238\n",
      "/media/helemanc/OS/Users/i2CAT/Desktop/Datasets SER/ravdess-emotional-speech-audio/audio_speech_actors_01-24/Actor_08/03-01-08-02-01-01-08.wav\n",
      "0.006887216\n",
      "/media/helemanc/OS/Users/i2CAT/Desktop/Datasets SER/ravdess-emotional-speech-audio/audio_speech_actors_01-24/Actor_08/03-01-08-02-01-02-08.wav\n",
      "0.007825516\n",
      "/media/helemanc/OS/Users/i2CAT/Desktop/Datasets SER/ravdess-emotional-speech-audio/audio_speech_actors_01-24/Actor_08/03-01-08-02-02-01-08.wav\n",
      "0.00998759\n",
      "/media/helemanc/OS/Users/i2CAT/Desktop/Datasets SER/ravdess-emotional-speech-audio/audio_speech_actors_01-24/Actor_08/03-01-08-02-02-02-08.wav\n",
      "0.009855018\n",
      "/media/helemanc/OS/Users/i2CAT/Desktop/Datasets SER/ravdess-emotional-speech-audio/audio_speech_actors_01-24/Actor_08/03-01-05-01-02-02-08.wav\n",
      "0.008828931\n",
      "/media/helemanc/OS/Users/i2CAT/Desktop/Datasets SER/ravdess-emotional-speech-audio/audio_speech_actors_01-24/Actor_08/03-01-05-02-01-01-08.wav\n",
      "0.022200702\n",
      "/media/helemanc/OS/Users/i2CAT/Desktop/Datasets SER/ravdess-emotional-speech-audio/audio_speech_actors_01-24/Actor_08/03-01-05-02-01-02-08.wav\n",
      "0.04927795\n",
      "/media/helemanc/OS/Users/i2CAT/Desktop/Datasets SER/ravdess-emotional-speech-audio/audio_speech_actors_01-24/Actor_08/03-01-05-02-02-01-08.wav\n",
      "0.02189009\n",
      "/media/helemanc/OS/Users/i2CAT/Desktop/Datasets SER/ravdess-emotional-speech-audio/audio_speech_actors_01-24/Actor_08/03-01-05-02-02-02-08.wav\n",
      "0.023625081\n",
      "/media/helemanc/OS/Users/i2CAT/Desktop/Datasets SER/ravdess-emotional-speech-audio/audio_speech_actors_01-24/Actor_08/03-01-06-01-01-01-08.wav\n",
      "0.0087569365\n",
      "/media/helemanc/OS/Users/i2CAT/Desktop/Datasets SER/ravdess-emotional-speech-audio/audio_speech_actors_01-24/Actor_08/03-01-06-01-01-02-08.wav\n",
      "0.009931602\n",
      "/media/helemanc/OS/Users/i2CAT/Desktop/Datasets SER/ravdess-emotional-speech-audio/audio_speech_actors_01-24/Actor_08/03-01-06-01-02-01-08.wav\n",
      "0.010847158\n",
      "/media/helemanc/OS/Users/i2CAT/Desktop/Datasets SER/ravdess-emotional-speech-audio/audio_speech_actors_01-24/Actor_08/03-01-06-01-02-02-08.wav\n",
      "0.00830396\n",
      "/media/helemanc/OS/Users/i2CAT/Desktop/Datasets SER/ravdess-emotional-speech-audio/audio_speech_actors_01-24/Actor_08/03-01-03-01-02-02-08.wav\n",
      "0.0046941456\n",
      "/media/helemanc/OS/Users/i2CAT/Desktop/Datasets SER/ravdess-emotional-speech-audio/audio_speech_actors_01-24/Actor_08/03-01-03-02-01-01-08.wav\n",
      "0.010981783\n",
      "/media/helemanc/OS/Users/i2CAT/Desktop/Datasets SER/ravdess-emotional-speech-audio/audio_speech_actors_01-24/Actor_08/03-01-03-02-01-02-08.wav\n",
      "0.010331476\n",
      "/media/helemanc/OS/Users/i2CAT/Desktop/Datasets SER/ravdess-emotional-speech-audio/audio_speech_actors_01-24/Actor_08/03-01-03-02-02-01-08.wav\n",
      "0.0115461135\n",
      "/media/helemanc/OS/Users/i2CAT/Desktop/Datasets SER/ravdess-emotional-speech-audio/audio_speech_actors_01-24/Actor_08/03-01-03-02-02-02-08.wav\n",
      "0.009169262\n",
      "/media/helemanc/OS/Users/i2CAT/Desktop/Datasets SER/ravdess-emotional-speech-audio/audio_speech_actors_01-24/Actor_08/03-01-04-01-01-01-08.wav\n",
      "0.0015764474\n",
      "/media/helemanc/OS/Users/i2CAT/Desktop/Datasets SER/ravdess-emotional-speech-audio/audio_speech_actors_01-24/Actor_08/03-01-04-01-01-02-08.wav\n",
      "0.0014254249\n",
      "/media/helemanc/OS/Users/i2CAT/Desktop/Datasets SER/ravdess-emotional-speech-audio/audio_speech_actors_01-24/Actor_08/03-01-04-01-02-01-08.wav\n",
      "0.0014633129\n",
      "/media/helemanc/OS/Users/i2CAT/Desktop/Datasets SER/ravdess-emotional-speech-audio/audio_speech_actors_01-24/Actor_08/03-01-06-02-01-01-08.wav\n",
      "0.023013247\n",
      "/media/helemanc/OS/Users/i2CAT/Desktop/Datasets SER/ravdess-emotional-speech-audio/audio_speech_actors_01-24/Actor_08/03-01-06-02-01-02-08.wav\n",
      "0.02620327\n",
      "/media/helemanc/OS/Users/i2CAT/Desktop/Datasets SER/ravdess-emotional-speech-audio/audio_speech_actors_01-24/Actor_08/03-01-06-02-02-01-08.wav\n",
      "0.024691202\n",
      "/media/helemanc/OS/Users/i2CAT/Desktop/Datasets SER/ravdess-emotional-speech-audio/audio_speech_actors_01-24/Actor_08/03-01-06-02-02-02-08.wav\n",
      "0.032318987\n",
      "/media/helemanc/OS/Users/i2CAT/Desktop/Datasets SER/ravdess-emotional-speech-audio/audio_speech_actors_01-24/Actor_08/03-01-07-01-01-01-08.wav\n",
      "0.0024695476\n",
      "/media/helemanc/OS/Users/i2CAT/Desktop/Datasets SER/ravdess-emotional-speech-audio/audio_speech_actors_01-24/Actor_08/03-01-07-01-01-02-08.wav\n",
      "0.0020910944\n",
      "/media/helemanc/OS/Users/i2CAT/Desktop/Datasets SER/ravdess-emotional-speech-audio/audio_speech_actors_01-24/Actor_08/03-01-07-01-02-01-08.wav\n",
      "0.0030987586\n",
      "/media/helemanc/OS/Users/i2CAT/Desktop/Datasets SER/ravdess-emotional-speech-audio/audio_speech_actors_01-24/Actor_08/03-01-04-01-02-02-08.wav\n",
      "0.0014662072\n",
      "/media/helemanc/OS/Users/i2CAT/Desktop/Datasets SER/ravdess-emotional-speech-audio/audio_speech_actors_01-24/Actor_08/03-01-04-02-01-01-08.wav\n",
      "0.0032908928\n",
      "/media/helemanc/OS/Users/i2CAT/Desktop/Datasets SER/ravdess-emotional-speech-audio/audio_speech_actors_01-24/Actor_08/03-01-04-02-01-02-08.wav\n",
      "0.0033103607\n",
      "/media/helemanc/OS/Users/i2CAT/Desktop/Datasets SER/ravdess-emotional-speech-audio/audio_speech_actors_01-24/Actor_08/03-01-04-02-02-01-08.wav\n",
      "0.003206588\n",
      "/media/helemanc/OS/Users/i2CAT/Desktop/Datasets SER/ravdess-emotional-speech-audio/audio_speech_actors_01-24/Actor_08/03-01-04-02-02-02-08.wav\n",
      "0.0049830195\n",
      "/media/helemanc/OS/Users/i2CAT/Desktop/Datasets SER/ravdess-emotional-speech-audio/audio_speech_actors_01-24/Actor_08/03-01-05-01-01-01-08.wav\n",
      "0.009200423\n",
      "/media/helemanc/OS/Users/i2CAT/Desktop/Datasets SER/ravdess-emotional-speech-audio/audio_speech_actors_01-24/Actor_08/03-01-05-01-01-02-08.wav\n",
      "0.009300294\n",
      "/media/helemanc/OS/Users/i2CAT/Desktop/Datasets SER/ravdess-emotional-speech-audio/audio_speech_actors_01-24/Actor_08/03-01-05-01-02-01-08.wav\n",
      "0.0072343685\n",
      "/media/helemanc/OS/Users/i2CAT/Desktop/Datasets SER/ravdess-emotional-speech-audio/audio_speech_actors_01-24/Actor_08/03-01-02-02-01-01-08.wav\n",
      "0.001441214\n",
      "/media/helemanc/OS/Users/i2CAT/Desktop/Datasets SER/ravdess-emotional-speech-audio/audio_speech_actors_01-24/Actor_08/03-01-02-02-01-02-08.wav\n",
      "0.0015045557\n",
      "/media/helemanc/OS/Users/i2CAT/Desktop/Datasets SER/ravdess-emotional-speech-audio/audio_speech_actors_01-24/Actor_08/03-01-02-02-02-01-08.wav\n",
      "0.0015728275\n",
      "/media/helemanc/OS/Users/i2CAT/Desktop/Datasets SER/ravdess-emotional-speech-audio/audio_speech_actors_01-24/Actor_08/03-01-02-02-02-02-08.wav\n",
      "0.0016913405\n",
      "/media/helemanc/OS/Users/i2CAT/Desktop/Datasets SER/ravdess-emotional-speech-audio/audio_speech_actors_01-24/Actor_08/03-01-03-01-01-01-08.wav\n",
      "0.0036463311\n",
      "/media/helemanc/OS/Users/i2CAT/Desktop/Datasets SER/ravdess-emotional-speech-audio/audio_speech_actors_01-24/Actor_08/03-01-03-01-01-02-08.wav\n",
      "0.0037664392\n",
      "/media/helemanc/OS/Users/i2CAT/Desktop/Datasets SER/ravdess-emotional-speech-audio/audio_speech_actors_01-24/Actor_08/03-01-03-01-02-01-08.wav\n",
      "0.0038231954\n",
      "/media/helemanc/OS/Users/i2CAT/Desktop/Datasets SER/ravdess-emotional-speech-audio/audio_speech_actors_01-24/Actor_08/03-01-01-01-01-02-08.wav\n",
      "0.0025932547\n",
      "/media/helemanc/OS/Users/i2CAT/Desktop/Datasets SER/ravdess-emotional-speech-audio/audio_speech_actors_01-24/Actor_08/03-01-01-01-02-01-08.wav\n",
      "0.0029562204\n",
      "/media/helemanc/OS/Users/i2CAT/Desktop/Datasets SER/ravdess-emotional-speech-audio/audio_speech_actors_01-24/Actor_08/03-01-01-01-02-02-08.wav\n",
      "0.0028251042\n",
      "/media/helemanc/OS/Users/i2CAT/Desktop/Datasets SER/ravdess-emotional-speech-audio/audio_speech_actors_01-24/Actor_08/03-01-02-01-01-01-08.wav\n",
      "0.001736784\n",
      "/media/helemanc/OS/Users/i2CAT/Desktop/Datasets SER/ravdess-emotional-speech-audio/audio_speech_actors_01-24/Actor_08/03-01-02-01-01-02-08.wav\n",
      "0.0016126571\n",
      "/media/helemanc/OS/Users/i2CAT/Desktop/Datasets SER/ravdess-emotional-speech-audio/audio_speech_actors_01-24/Actor_08/03-01-02-01-02-01-08.wav\n",
      "0.00198639\n",
      "/media/helemanc/OS/Users/i2CAT/Desktop/Datasets SER/ravdess-emotional-speech-audio/audio_speech_actors_01-24/Actor_08/03-01-02-01-02-02-08.wav\n",
      "0.0017608146\n",
      "/media/helemanc/OS/Users/i2CAT/Desktop/Datasets SER/ravdess-emotional-speech-audio/audio_speech_actors_01-24/Actor_08/03-01-01-01-01-01-08.wav\n",
      "0.0025213135\n",
      "/media/helemanc/OS/Users/i2CAT/Desktop/Datasets SER/ravdess-emotional-speech-audio/audio_speech_actors_01-24/Actor_09/03-01-07-01-02-02-09.wav\n",
      "0.001380459\n",
      "/media/helemanc/OS/Users/i2CAT/Desktop/Datasets SER/ravdess-emotional-speech-audio/audio_speech_actors_01-24/Actor_09/03-01-07-02-01-01-09.wav\n",
      "0.0015210751\n",
      "/media/helemanc/OS/Users/i2CAT/Desktop/Datasets SER/ravdess-emotional-speech-audio/audio_speech_actors_01-24/Actor_09/03-01-07-02-01-02-09.wav\n",
      "0.0017716939\n",
      "/media/helemanc/OS/Users/i2CAT/Desktop/Datasets SER/ravdess-emotional-speech-audio/audio_speech_actors_01-24/Actor_09/03-01-07-02-02-01-09.wav\n",
      "0.0026811103\n",
      "/media/helemanc/OS/Users/i2CAT/Desktop/Datasets SER/ravdess-emotional-speech-audio/audio_speech_actors_01-24/Actor_09/03-01-07-02-02-02-09.wav\n",
      "0.0028289156\n",
      "/media/helemanc/OS/Users/i2CAT/Desktop/Datasets SER/ravdess-emotional-speech-audio/audio_speech_actors_01-24/Actor_09/03-01-08-01-01-01-09.wav\n",
      "0.00090022734\n",
      "/media/helemanc/OS/Users/i2CAT/Desktop/Datasets SER/ravdess-emotional-speech-audio/audio_speech_actors_01-24/Actor_09/03-01-08-01-01-02-09.wav\n",
      "0.00094528496\n",
      "/media/helemanc/OS/Users/i2CAT/Desktop/Datasets SER/ravdess-emotional-speech-audio/audio_speech_actors_01-24/Actor_09/03-01-08-01-02-01-09.wav\n",
      "0.0014344674\n",
      "/media/helemanc/OS/Users/i2CAT/Desktop/Datasets SER/ravdess-emotional-speech-audio/audio_speech_actors_01-24/Actor_09/03-01-08-01-02-02-09.wav\n",
      "0.0013447698\n",
      "/media/helemanc/OS/Users/i2CAT/Desktop/Datasets SER/ravdess-emotional-speech-audio/audio_speech_actors_01-24/Actor_09/03-01-08-02-01-01-09.wav\n",
      "0.002699807\n",
      "/media/helemanc/OS/Users/i2CAT/Desktop/Datasets SER/ravdess-emotional-speech-audio/audio_speech_actors_01-24/Actor_09/03-01-08-02-01-02-09.wav\n",
      "0.001865418\n",
      "/media/helemanc/OS/Users/i2CAT/Desktop/Datasets SER/ravdess-emotional-speech-audio/audio_speech_actors_01-24/Actor_09/03-01-08-02-02-01-09.wav\n",
      "0.0017490748\n",
      "/media/helemanc/OS/Users/i2CAT/Desktop/Datasets SER/ravdess-emotional-speech-audio/audio_speech_actors_01-24/Actor_09/03-01-08-02-02-02-09.wav\n"
     ]
    },
    {
     "ename": "KeyboardInterrupt",
     "evalue": "",
     "output_type": "error",
     "traceback": [
      "\u001b[0;31m---------------------------------------------------------------------------\u001b[0m",
      "\u001b[0;31mKeyboardInterrupt\u001b[0m                         Traceback (most recent call last)",
      "\u001b[0;32m/tmp/ipykernel_3559/457335078.py\u001b[0m in \u001b[0;36m<module>\u001b[0;34m\u001b[0m\n\u001b[1;32m      6\u001b[0m     \u001b[0mpath\u001b[0m \u001b[0;34m=\u001b[0m \u001b[0mrow\u001b[0m\u001b[0;34m[\u001b[0m\u001b[0;34m'path'\u001b[0m\u001b[0;34m]\u001b[0m\u001b[0;34m\u001b[0m\u001b[0;34m\u001b[0m\u001b[0m\n\u001b[1;32m      7\u001b[0m     \u001b[0mprint\u001b[0m\u001b[0;34m(\u001b[0m\u001b[0mpath\u001b[0m\u001b[0;34m)\u001b[0m\u001b[0;34m\u001b[0m\u001b[0;34m\u001b[0m\u001b[0m\n\u001b[0;32m----> 8\u001b[0;31m     \u001b[0mdata\u001b[0m\u001b[0;34m,\u001b[0m \u001b[0msamplerate\u001b[0m \u001b[0;34m=\u001b[0m \u001b[0mlibrosa\u001b[0m\u001b[0;34m.\u001b[0m\u001b[0mload\u001b[0m\u001b[0;34m(\u001b[0m\u001b[0mpath\u001b[0m\u001b[0;34m)\u001b[0m\u001b[0;34m\u001b[0m\u001b[0;34m\u001b[0m\u001b[0m\n\u001b[0m\u001b[1;32m      9\u001b[0m \u001b[0;34m\u001b[0m\u001b[0m\n\u001b[1;32m     10\u001b[0m     \u001b[0;32mif\u001b[0m \u001b[0;34m'ravdess'\u001b[0m \u001b[0;32min\u001b[0m \u001b[0mpath\u001b[0m\u001b[0;34m:\u001b[0m\u001b[0;34m\u001b[0m\u001b[0;34m\u001b[0m\u001b[0m\n",
      "\u001b[0;32m/usr/local/lib/python3.8/dist-packages/librosa-0.8.0-py3.8.egg/librosa/core/audio.py\u001b[0m in \u001b[0;36mload\u001b[0;34m(path, sr, mono, offset, duration, dtype, res_type)\u001b[0m\n\u001b[1;32m    170\u001b[0m \u001b[0;34m\u001b[0m\u001b[0m\n\u001b[1;32m    171\u001b[0m     \u001b[0;32mif\u001b[0m \u001b[0msr\u001b[0m \u001b[0;32mis\u001b[0m \u001b[0;32mnot\u001b[0m \u001b[0;32mNone\u001b[0m\u001b[0;34m:\u001b[0m\u001b[0;34m\u001b[0m\u001b[0;34m\u001b[0m\u001b[0m\n\u001b[0;32m--> 172\u001b[0;31m         \u001b[0my\u001b[0m \u001b[0;34m=\u001b[0m \u001b[0mresample\u001b[0m\u001b[0;34m(\u001b[0m\u001b[0my\u001b[0m\u001b[0;34m,\u001b[0m \u001b[0msr_native\u001b[0m\u001b[0;34m,\u001b[0m \u001b[0msr\u001b[0m\u001b[0;34m,\u001b[0m \u001b[0mres_type\u001b[0m\u001b[0;34m=\u001b[0m\u001b[0mres_type\u001b[0m\u001b[0;34m)\u001b[0m\u001b[0;34m\u001b[0m\u001b[0;34m\u001b[0m\u001b[0m\n\u001b[0m\u001b[1;32m    173\u001b[0m \u001b[0;34m\u001b[0m\u001b[0m\n\u001b[1;32m    174\u001b[0m     \u001b[0;32melse\u001b[0m\u001b[0;34m:\u001b[0m\u001b[0;34m\u001b[0m\u001b[0;34m\u001b[0m\u001b[0m\n",
      "\u001b[0;32m/usr/local/lib/python3.8/dist-packages/librosa-0.8.0-py3.8.egg/librosa/core/audio.py\u001b[0m in \u001b[0;36mresample\u001b[0;34m(y, orig_sr, target_sr, res_type, fix, scale, **kwargs)\u001b[0m\n\u001b[1;32m    582\u001b[0m         \u001b[0my_hat\u001b[0m \u001b[0;34m=\u001b[0m \u001b[0msamplerate\u001b[0m\u001b[0;34m.\u001b[0m\u001b[0mresample\u001b[0m\u001b[0;34m(\u001b[0m\u001b[0my\u001b[0m\u001b[0;34m.\u001b[0m\u001b[0mT\u001b[0m\u001b[0;34m,\u001b[0m \u001b[0mratio\u001b[0m\u001b[0;34m,\u001b[0m \u001b[0mconverter_type\u001b[0m\u001b[0;34m=\u001b[0m\u001b[0mres_type\u001b[0m\u001b[0;34m)\u001b[0m\u001b[0;34m.\u001b[0m\u001b[0mT\u001b[0m\u001b[0;34m\u001b[0m\u001b[0;34m\u001b[0m\u001b[0m\n\u001b[1;32m    583\u001b[0m     \u001b[0;32melse\u001b[0m\u001b[0;34m:\u001b[0m\u001b[0;34m\u001b[0m\u001b[0;34m\u001b[0m\u001b[0m\n\u001b[0;32m--> 584\u001b[0;31m         \u001b[0my_hat\u001b[0m \u001b[0;34m=\u001b[0m \u001b[0mresampy\u001b[0m\u001b[0;34m.\u001b[0m\u001b[0mresample\u001b[0m\u001b[0;34m(\u001b[0m\u001b[0my\u001b[0m\u001b[0;34m,\u001b[0m \u001b[0morig_sr\u001b[0m\u001b[0;34m,\u001b[0m \u001b[0mtarget_sr\u001b[0m\u001b[0;34m,\u001b[0m \u001b[0mfilter\u001b[0m\u001b[0;34m=\u001b[0m\u001b[0mres_type\u001b[0m\u001b[0;34m,\u001b[0m \u001b[0maxis\u001b[0m\u001b[0;34m=\u001b[0m\u001b[0;34m-\u001b[0m\u001b[0;36m1\u001b[0m\u001b[0;34m)\u001b[0m\u001b[0;34m\u001b[0m\u001b[0;34m\u001b[0m\u001b[0m\n\u001b[0m\u001b[1;32m    585\u001b[0m \u001b[0;34m\u001b[0m\u001b[0m\n\u001b[1;32m    586\u001b[0m     \u001b[0;32mif\u001b[0m \u001b[0mfix\u001b[0m\u001b[0;34m:\u001b[0m\u001b[0;34m\u001b[0m\u001b[0;34m\u001b[0m\u001b[0m\n",
      "\u001b[0;32m/usr/local/lib/python3.8/dist-packages/resampy-0.2.2-py3.8.egg/resampy/core.py\u001b[0m in \u001b[0;36mresample\u001b[0;34m(x, sr_orig, sr_new, axis, filter, **kwargs)\u001b[0m\n\u001b[1;32m    118\u001b[0m     \u001b[0mx_2d\u001b[0m \u001b[0;34m=\u001b[0m \u001b[0mx\u001b[0m\u001b[0;34m.\u001b[0m\u001b[0mswapaxes\u001b[0m\u001b[0;34m(\u001b[0m\u001b[0;36m0\u001b[0m\u001b[0;34m,\u001b[0m \u001b[0maxis\u001b[0m\u001b[0;34m)\u001b[0m\u001b[0;34m.\u001b[0m\u001b[0mreshape\u001b[0m\u001b[0;34m(\u001b[0m\u001b[0;34m(\u001b[0m\u001b[0mx\u001b[0m\u001b[0;34m.\u001b[0m\u001b[0mshape\u001b[0m\u001b[0;34m[\u001b[0m\u001b[0maxis\u001b[0m\u001b[0;34m]\u001b[0m\u001b[0;34m,\u001b[0m \u001b[0;34m-\u001b[0m\u001b[0;36m1\u001b[0m\u001b[0;34m)\u001b[0m\u001b[0;34m)\u001b[0m\u001b[0;34m\u001b[0m\u001b[0;34m\u001b[0m\u001b[0m\n\u001b[1;32m    119\u001b[0m     \u001b[0my_2d\u001b[0m \u001b[0;34m=\u001b[0m \u001b[0my\u001b[0m\u001b[0;34m.\u001b[0m\u001b[0mswapaxes\u001b[0m\u001b[0;34m(\u001b[0m\u001b[0;36m0\u001b[0m\u001b[0;34m,\u001b[0m \u001b[0maxis\u001b[0m\u001b[0;34m)\u001b[0m\u001b[0;34m.\u001b[0m\u001b[0mreshape\u001b[0m\u001b[0;34m(\u001b[0m\u001b[0;34m(\u001b[0m\u001b[0my\u001b[0m\u001b[0;34m.\u001b[0m\u001b[0mshape\u001b[0m\u001b[0;34m[\u001b[0m\u001b[0maxis\u001b[0m\u001b[0;34m]\u001b[0m\u001b[0;34m,\u001b[0m \u001b[0;34m-\u001b[0m\u001b[0;36m1\u001b[0m\u001b[0;34m)\u001b[0m\u001b[0;34m)\u001b[0m\u001b[0;34m\u001b[0m\u001b[0;34m\u001b[0m\u001b[0m\n\u001b[0;32m--> 120\u001b[0;31m     \u001b[0mresample_f\u001b[0m\u001b[0;34m(\u001b[0m\u001b[0mx_2d\u001b[0m\u001b[0;34m,\u001b[0m \u001b[0my_2d\u001b[0m\u001b[0;34m,\u001b[0m \u001b[0msample_ratio\u001b[0m\u001b[0;34m,\u001b[0m \u001b[0minterp_win\u001b[0m\u001b[0;34m,\u001b[0m \u001b[0minterp_delta\u001b[0m\u001b[0;34m,\u001b[0m \u001b[0mprecision\u001b[0m\u001b[0;34m)\u001b[0m\u001b[0;34m\u001b[0m\u001b[0;34m\u001b[0m\u001b[0m\n\u001b[0m\u001b[1;32m    121\u001b[0m \u001b[0;34m\u001b[0m\u001b[0m\n\u001b[1;32m    122\u001b[0m     \u001b[0;32mreturn\u001b[0m \u001b[0my\u001b[0m\u001b[0;34m\u001b[0m\u001b[0;34m\u001b[0m\u001b[0m\n",
      "\u001b[0;31mKeyboardInterrupt\u001b[0m: "
     ]
    }
   ],
   "source": [
    "import audioop\n",
    "import wave\n",
    "\n",
    "\n",
    "for index, row in df_train.iterrows(): \n",
    "    path = row['path']\n",
    "    print(path)\n",
    "    data, samplerate = librosa.load(path)\n",
    "    \n",
    "    if 'ravdess' in path:\n",
    "        #print(audioop.rms(data,2))\n",
    "        #print(path)\n",
    "        print(np.mean(librosa.feature.rms(data)))\n",
    "        #ravdess_bd.append(audioop.rms(file,2))\n",
    "    '''\n",
    "    elif 'savee' in path: \n",
    "        savee_bd.append(file.subtype)\n",
    "    elif 'creamd' in path: \n",
    "        crema_bd.append(file.subtype) \n",
    "    else: \n",
    "        tess_bd.append(file.subtype)\n",
    "    '''\n",
    "         "
   ]
  },
  {
   "cell_type": "code",
   "execution_count": null,
   "id": "a6733608-f7ff-4525-bce6-10d3917d1c2d",
   "metadata": {},
   "outputs": [],
   "source": []
  },
  {
   "cell_type": "code",
   "execution_count": null,
   "id": "2fea55cf-3f91-49d0-a09a-0100ea337751",
   "metadata": {},
   "outputs": [],
   "source": []
  },
  {
   "cell_type": "markdown",
   "id": "4281c6c4-e76c-4de1-bf50-838d2aaf84ba",
   "metadata": {
    "tags": []
   },
   "source": [
    "# Feature extraction"
   ]
  },
  {
   "cell_type": "code",
   "execution_count": 555,
   "id": "03056404-9642-4a56-b497-d29db53144f0",
   "metadata": {},
   "outputs": [
    {
     "data": {
      "text/plain": [
       "array(['disgust', 'surprise', 'sadness', 'angry', 'fear', 'happy', 'calm',\n",
       "       'neutral'], dtype=object)"
      ]
     },
     "execution_count": 555,
     "metadata": {},
     "output_type": "execute_result"
    }
   ],
   "source": [
    "df_train['emotion_label'].unique()"
   ]
  },
  {
   "cell_type": "code",
   "execution_count": 556,
   "id": "1fc51b42-af0c-4e18-a5c8-ffe1d38ed075",
   "metadata": {},
   "outputs": [
    {
     "data": {
      "image/png": "[encoded data removed]",
      "text/plain": [
       "<Figure size 432x288 with 1 Axes>"
      ]
     },
     "metadata": {},
     "output_type": "display_data"
    }
   ],
   "source": [
    "plt.title('Emotions distribution')\n",
    "plt.hist(df_train['emotion_label'])\n",
    "# plt.hist(y)\n",
    "plt.show()"
   ]
  },
  {
   "cell_type": "code",
   "execution_count": 557,
   "id": "534bd54e-054d-47b8-bb15-83c827214ed8",
   "metadata": {},
   "outputs": [
    {
     "data": {
      "image/png": "[encoded data removed]",
      "text/plain": [
       "<Figure size 432x288 with 1 Axes>"
      ]
     },
     "metadata": {},
     "output_type": "display_data"
    }
   ],
   "source": [
    "plt.title('Emotions distribution')\n",
    "plt.hist(df_val['emotion_label'])\n",
    "# plt.hist(y)\n",
    "plt.show()"
   ]
  },
  {
   "cell_type": "code",
   "execution_count": 558,
   "id": "76dcd8c8-4fc3-4b1b-91d9-8bf19a0f3193",
   "metadata": {},
   "outputs": [
    {
     "data": {
      "image/png": "[encoded data removed]",
      "text/plain": [
       "<Figure size 432x288 with 1 Axes>"
      ]
     },
     "metadata": {},
     "output_type": "display_data"
    }
   ],
   "source": [
    "plt.title('Emotions distribution')\n",
    "plt.hist(df_test['emotion_label'])\n",
    "# plt.hist(y)\n",
    "plt.show()"
   ]
  },
  {
   "cell_type": "code",
   "execution_count": null,
   "id": "cba1b3f4-c0c3-4583-b906-7a6493d09091",
   "metadata": {},
   "outputs": [],
   "source": [
    "df_train.shape"
   ]
  },
  {
   "cell_type": "markdown",
   "id": "8b9b8ade-276b-451d-ad81-6d0ae422e3ac",
   "metadata": {},
   "source": [
    "## Utils"
   ]
  },
  {
   "cell_type": "code",
   "execution_count": 608,
   "id": "9525fd86-02c1-489d-a514-f7584fdc85f4",
   "metadata": {},
   "outputs": [],
   "source": [
    "def load_files(df):\n",
    "    X = []\n",
    "    for i in tqdm(df['path']): \n",
    "        X.append(librosa.load(i, res_type='kaiser_fast', sr=44100))\n",
    "    return X\n",
    "\n",
    "def extract_samples(X): \n",
    "    samples = []\n",
    "    for ind,i in enumerate(X):\n",
    "        samples.append(i[0])\n",
    "    return samples \n",
    "\n",
    "def extract_labels(df): \n",
    "    labels = df['emotion_label'].copy()\n",
    "    return labels \n",
    "\n",
    "def compute_lengths(samples): \n",
    "    lengths = [len(x) for x in samples]\n",
    "    return lengths \n",
    "\n",
    "def check_outliers(lengths):\n",
    "    # outliers\n",
    "    lengths = np.array(lengths)\n",
    "    print((lengths > 300000).sum())\n",
    "    new_lengths = lengths[lengths < 300000]\n",
    "    return new_lengths \n",
    "\n",
    "def compute_mean_length(lengths): \n",
    "    return lengths.mean()\n",
    "\n",
    "def cut_and_pad(samples, labels, length_chosen = LENGTH_CHOSEN): \n",
    "    X_new = []\n",
    "    y_new = []\n",
    "    count = 0 \n",
    "    for ind,i in enumerate(samples):\n",
    "        if i.shape[0] < 300000:\n",
    "            if i.shape[0] > length_chosen:\n",
    "                new = i[:length_chosen]\n",
    "                X_new.append(new)\n",
    "            elif i.shape[0] < length_chosen:\n",
    "                new = np.pad(i,math.ceil((length_chosen-i.shape[0])/2), mode='median')\n",
    "                X_new.append(new)\n",
    "            else:\n",
    "                X_new.append(i)\n",
    "            y_new.append(labels[count])\n",
    "        count+=1\n",
    "    \n",
    "    return X_new, y_new\n",
    "\n",
    "# Data Augmentation \n",
    "def noise(data):\n",
    "    noise_amp = 0.035*np.random.uniform()*np.amax(data)\n",
    "    data = data + noise_amp*np.random.normal(size=data.shape[0])\n",
    "    return data\n",
    "\n",
    "# Data Augmentation \n",
    "def pitch(data, sampling_rate, pitch_factor=0.7):\n",
    "    return librosa.effects.pitch_shift(data, sampling_rate, pitch_factor)\n",
    "    \n",
    "def compute_mfccs(samples): \n",
    "    mfccs = []\n",
    "    for i in tqdm(samples):\n",
    "        mfcc = librosa.feature.mfcc(y=i, sr=44100, n_mfcc=40)\n",
    "        mfcc = mfcc.T\n",
    "        mfccs.append(mfcc)\n",
    "    mfccs = np.array(mfccs)\n",
    "    return mfccs \n",
    "\n",
    "def compute_mfccs_augmentation(samples, labels): \n",
    "    mfccs = []\n",
    "    counter = 0 \n",
    "    for i in tqdm(samples):\n",
    "\n",
    "       # Weiner Filtering on original noise \n",
    "        samples_weiner = scipy.signal.wiener(i)\n",
    "        is_fin = np.isfinite(samples_weiner).all()\n",
    "\n",
    "\n",
    "        # Data Augmentation - Noise \n",
    "        noise_audio = noise(samples_weiner)\n",
    "\n",
    "        # Data Augmentation - Pitch \n",
    "        pitch_audio = pitch(samples_weiner, sampling_rate=44100)\n",
    "\n",
    "\n",
    "        # Data Augmentation -  pitch + noise \n",
    "        pn = pitch(noise_audio, sampling_rate = 44100)\n",
    "\n",
    "\n",
    "        if is_fin: \n",
    "          # MFCC\n",
    "\n",
    "          mfcc = librosa.feature.mfcc(y=i, sr=44100, n_mfcc=40)\n",
    "          mfcc = mfcc.T\n",
    "          mfccs.append(mfcc)\n",
    "\n",
    "          mfcc_augmented = librosa.feature.mfcc(y=samples_weiner, sr=44100, n_mfcc=40)\n",
    "          mfcc_augmented = mfcc_augmented.T\n",
    "          mfccs.append(mfcc_augmented)\n",
    "\n",
    "          mfcc_augmented_pitch = librosa.feature.mfcc(y=noise_audio, sr=44100, n_mfcc=40)\n",
    "          mfcc_augmented_pitch = mfcc_augmented_pitch.T\n",
    "          mfccs.append(mfcc_augmented_pitch)\n",
    "\n",
    "          mfcc_augmented_p = librosa.feature.mfcc(y=pitch_audio, sr=44100, n_mfcc=40)\n",
    "          mfcc_augmented_p = mfcc_augmented_p.T\n",
    "          mfccs.append(mfcc_augmented_p) \n",
    "\n",
    "          mfcc_augmented_pn = librosa.feature.mfcc(y=pn, sr=44100, n_mfcc=40)\n",
    "          mfcc_augmented_pn = mfcc_augmented_pn.T\n",
    "          mfccs.append(mfcc_augmented_pn) \n",
    "    \n",
    "    mfccs = np.array(mfccs)\n",
    "    \n",
    "    # Copy labels \n",
    "    y_prov = []\n",
    "    y = labels \n",
    "    for i in range(len(y)): \n",
    "      y_prov.append(y[i])\n",
    "      y_prov.append(y[i])\n",
    "      y_prov.append(y[i])\n",
    "      y_prov.append(y[i])\n",
    "      y_prov.append(y[i])\n",
    "    y = np.asarray(y_prov)\n",
    "\n",
    "    return mfccs, y \n",
    "\n",
    "\n",
    "\n"
   ]
  },
  {
   "cell_type": "markdown",
   "id": "e66be1ae-198c-4de2-ac9a-80dde4e2ae22",
   "metadata": {},
   "source": [
    "## Train"
   ]
  },
  {
   "cell_type": "markdown",
   "id": "f80c3e87-280d-4364-b93e-9be30b9ac32f",
   "metadata": {},
   "source": [
    "### Load samples and labels "
   ]
  },
  {
   "cell_type": "code",
   "execution_count": 563,
   "id": "cd23339e-f985-4074-8877-a78c607e4844",
   "metadata": {},
   "outputs": [
    {
     "name": "stderr",
     "output_type": "stream",
     "text": [
      "100%|███████████████████████████████████████| 3160/3160 [01:05<00:00, 48.13it/s]\n"
     ]
    }
   ],
   "source": [
    "load_train = load_files(df_train)"
   ]
  },
  {
   "cell_type": "code",
   "execution_count": 582,
   "id": "f616916b-f616-4ce3-97ec-33ea7501d9db",
   "metadata": {},
   "outputs": [],
   "source": [
    "samples_train = extract_samples(load_train)"
   ]
  },
  {
   "cell_type": "code",
   "execution_count": 590,
   "id": "fdb033af-9619-4d6a-9207-a4c30ff987b4",
   "metadata": {},
   "outputs": [],
   "source": [
    "labels_train = extract_labels(df_train)"
   ]
  },
  {
   "cell_type": "markdown",
   "id": "a63c84eb-f1d3-40e9-841b-d157dfca4075",
   "metadata": {},
   "source": [
    "### Decide length"
   ]
  },
  {
   "cell_type": "code",
   "execution_count": 584,
   "id": "89d0f9f5-0083-449f-a098-45fac5ad9a15",
   "metadata": {},
   "outputs": [],
   "source": [
    "lengths = compute_lengths(samples_train) "
   ]
  },
  {
   "cell_type": "code",
   "execution_count": 585,
   "id": "110414d3-3638-4e24-9018-c72228777f4c",
   "metadata": {},
   "outputs": [
    {
     "name": "stdout",
     "output_type": "stream",
     "text": [
      "2\n"
     ]
    }
   ],
   "source": [
    "new_lengths = check_outliers(lengths) "
   ]
  },
  {
   "cell_type": "code",
   "execution_count": 586,
   "id": "87b10243-0cff-4bb6-ac6a-c0e01aeece3b",
   "metadata": {},
   "outputs": [],
   "source": [
    "mean_length = compute_mean_length(new_lengths)"
   ]
  },
  {
   "cell_type": "code",
   "execution_count": 587,
   "id": "c763a0ca-8312-4674-80cf-ff440678bfef",
   "metadata": {},
   "outputs": [
    {
     "data": {
      "text/plain": [
       "126519.63679544015"
      ]
     },
     "execution_count": 587,
     "metadata": {},
     "output_type": "execute_result"
    }
   ],
   "source": [
    "mean_length"
   ]
  },
  {
   "cell_type": "markdown",
   "id": "920458ef-cbd2-423c-a586-62a40031e23c",
   "metadata": {},
   "source": [
    "### Cut and Pad"
   ]
  },
  {
   "cell_type": "code",
   "execution_count": 593,
   "id": "7da4b92e-4391-4398-8910-2619aee6c18a",
   "metadata": {},
   "outputs": [],
   "source": [
    "samples_train, labels_train = cut_and_pad(samples_train, labels_train)"
   ]
  },
  {
   "cell_type": "code",
   "execution_count": 594,
   "id": "94e8122e-c5f7-4bc0-ac21-8be4c10c7787",
   "metadata": {},
   "outputs": [
    {
     "name": "stdout",
     "output_type": "stream",
     "text": [
      "(3158,) (3158,)\n"
     ]
    }
   ],
   "source": [
    "samples_train = np.array(samples_train)\n",
    "labels_train = np.array(labels_train)\n",
    "print(samples_train.shape, labels_train.shape)"
   ]
  },
  {
   "cell_type": "markdown",
   "id": "988defb8-4664-4298-923c-c4912f5dbbfb",
   "metadata": {},
   "source": [
    "### Feature Extraction - Without Data Augmentation "
   ]
  },
  {
   "cell_type": "code",
   "execution_count": 609,
   "id": "2aa7e214-bac1-4e3a-a00e-acce350d61aa",
   "metadata": {},
   "outputs": [
    {
     "name": "stderr",
     "output_type": "stream",
     "text": [
      "100%|███████████████████████████████████████| 3158/3158 [01:01<00:00, 51.17it/s]\n"
     ]
    }
   ],
   "source": [
    "mfccs_train = compute_mfccs(samples_train)"
   ]
  },
  {
   "cell_type": "code",
   "execution_count": 610,
   "id": "a548d130-b281-479a-97db-c34bdcb2fc18",
   "metadata": {},
   "outputs": [
    {
     "data": {
      "text/plain": [
       "(3158, 248, 40)"
      ]
     },
     "execution_count": 610,
     "metadata": {},
     "output_type": "execute_result"
    }
   ],
   "source": [
    "mfccs_train.shape"
   ]
  },
  {
   "cell_type": "markdown",
   "id": "cdb949fc-8075-4226-8277-4bae1b958c02",
   "metadata": {},
   "source": [
    "### Save features and labels"
   ]
  },
  {
   "cell_type": "code",
   "execution_count": 611,
   "id": "31bdfb61-356c-4038-9aa8-625e80d57fea",
   "metadata": {},
   "outputs": [],
   "source": [
    "preprocess_path = \"/home/helemanc/Desktop/Binary_Model/pre-processed\"\n",
    "mfccs_train_path = os.path.join(preprocess_path,\"mfccs_train.pkl\")\n",
    "labels_train_path = os.path.join(preprocess_path,\"labels_train.pkl\")\n",
    "\n",
    "with open(mfccs_train_path, 'wb') as f:\n",
    "        pickle.dump(mfccs_train , f)\n",
    "        \n",
    "with open(labels_train_path, 'wb') as f:\n",
    "        pickle.dump(labels_train , f)"
   ]
  },
  {
   "cell_type": "markdown",
   "id": "5ac19915-4381-46cb-adf9-f3b8ef78cb5b",
   "metadata": {},
   "source": [
    "### Feature Extraction - With Data Augmentation"
   ]
  },
  {
   "cell_type": "code",
   "execution_count": 612,
   "id": "facf69a4-ec0a-49c1-9ede-94c1ecb32a21",
   "metadata": {},
   "outputs": [
    {
     "name": "stderr",
     "output_type": "stream",
     "text": [
      "100%|███████████████████████████████████████| 3158/3158 [25:42<00:00,  2.05it/s]\n"
     ]
    }
   ],
   "source": [
    "mfccs_train_aug, labels_train_aug = compute_mfccs_augmentation(samples_train, labels_train)"
   ]
  },
  {
   "cell_type": "code",
   "execution_count": 615,
   "id": "73fe5f45-a4ac-45e0-a17a-ad0bee53dfeb",
   "metadata": {
    "tags": []
   },
   "outputs": [
    {
     "data": {
      "text/plain": [
       "((15790, 248, 40), (15790,))"
      ]
     },
     "execution_count": 615,
     "metadata": {},
     "output_type": "execute_result"
    }
   ],
   "source": [
    "mfccs_train_aug.shape, labels_train_aug.shape"
   ]
  },
  {
   "cell_type": "markdown",
   "id": "545b83ce-d1c0-4edc-91b7-15310f7b3f88",
   "metadata": {},
   "source": [
    "### Save features and labels"
   ]
  },
  {
   "cell_type": "code",
   "execution_count": 614,
   "id": "e92da6bd-f526-4266-b817-03dede6acd57",
   "metadata": {},
   "outputs": [],
   "source": [
    "preprocess_path = \"/home/helemanc/Desktop/Binary_Model/pre-processed\"\n",
    "mfccs_aug_train_path = os.path.join(preprocess_path,\"mfccs_train_aug.pkl\")\n",
    "labels_aug_train_path = os.path.join(preprocess_path,\"labels_train_aug.pkl\")\n",
    "\n",
    "with open(mfccs_aug_train_path, 'wb') as f:\n",
    "        pickle.dump(mfccs_train_aug , f)\n",
    "        \n",
    "with open(labels_aug_train_path, 'wb') as f:\n",
    "        pickle.dump(labels_train_aug , f)"
   ]
  },
  {
   "cell_type": "markdown",
   "id": "7cdecdca-938e-4eeb-a8fd-94c156cc38a3",
   "metadata": {
    "tags": []
   },
   "source": [
    "## Val"
   ]
  },
  {
   "cell_type": "markdown",
   "id": "ca1109a1-6467-4111-9789-9cbe0ffbfc8b",
   "metadata": {
    "tags": []
   },
   "source": [
    "### Load samples and labels"
   ]
  },
  {
   "cell_type": "code",
   "execution_count": 616,
   "id": "2639d4c6-f8ab-4c74-8226-bbdc7fdc6e87",
   "metadata": {},
   "outputs": [
    {
     "name": "stderr",
     "output_type": "stream",
     "text": [
      "100%|█████████████████████████████████████████| 300/300 [00:05<00:00, 57.61it/s]\n"
     ]
    }
   ],
   "source": [
    "load_val = load_files(df_val)"
   ]
  },
  {
   "cell_type": "code",
   "execution_count": 617,
   "id": "8a481d56-6337-4be1-9b3e-2f03a04db544",
   "metadata": {},
   "outputs": [],
   "source": [
    "samples_val = extract_samples(load_val)"
   ]
  },
  {
   "cell_type": "code",
   "execution_count": 618,
   "id": "91ab2a92-1b05-46e4-8497-ddf310a1325b",
   "metadata": {
    "tags": []
   },
   "outputs": [],
   "source": [
    "labels_val = extract_labels(df_val)"
   ]
  },
  {
   "cell_type": "markdown",
   "id": "a9e9480a-871a-409c-ba88-fe3044a1428d",
   "metadata": {},
   "source": [
    "### Cut and Pad "
   ]
  },
  {
   "cell_type": "code",
   "execution_count": 619,
   "id": "cc3e29f4-ac1a-4df9-8f8f-7fa991943460",
   "metadata": {},
   "outputs": [],
   "source": [
    "samples_val, labels_val = cut_and_pad(samples_val, labels_val)"
   ]
  },
  {
   "cell_type": "code",
   "execution_count": 620,
   "id": "244c9951-d19e-4335-a406-2d01af6275a7",
   "metadata": {},
   "outputs": [
    {
     "name": "stdout",
     "output_type": "stream",
     "text": [
      "(299,) (299,)\n"
     ]
    }
   ],
   "source": [
    "samples_val = np.array(samples_val)\n",
    "labels_val = np.array(labels_val)\n",
    "print(samples_val.shape, labels_val.shape)"
   ]
  },
  {
   "cell_type": "markdown",
   "id": "5a4bce3f-1290-44cb-879c-bafa8e229da7",
   "metadata": {},
   "source": [
    "### Feature Extraction"
   ]
  },
  {
   "cell_type": "code",
   "execution_count": 621,
   "id": "7c30823f-8649-4f8d-a531-63ec465e9aaf",
   "metadata": {},
   "outputs": [
    {
     "name": "stderr",
     "output_type": "stream",
     "text": [
      "100%|█████████████████████████████████████████| 299/299 [00:05<00:00, 57.71it/s]\n"
     ]
    }
   ],
   "source": [
    "mfccs_val = compute_mfccs(samples_val)"
   ]
  },
  {
   "cell_type": "code",
   "execution_count": 622,
   "id": "04f83b98-833e-4269-b731-aaccf4e6f7a5",
   "metadata": {},
   "outputs": [
    {
     "data": {
      "text/plain": [
       "(299, 248, 40)"
      ]
     },
     "execution_count": 622,
     "metadata": {},
     "output_type": "execute_result"
    }
   ],
   "source": [
    "mfccs_val.shape"
   ]
  },
  {
   "cell_type": "markdown",
   "id": "fa61042d-20b6-4875-b1e1-bfdff8998cb1",
   "metadata": {},
   "source": [
    "### Save features and labels"
   ]
  },
  {
   "cell_type": "code",
   "execution_count": 624,
   "id": "138c8e68-7b9f-4a76-b84c-5e6cf40b42dc",
   "metadata": {},
   "outputs": [],
   "source": [
    "preprocess_path = \"/home/helemanc/Desktop/Binary_Model/pre-processed\"\n",
    "mfccs_val_path = os.path.join(preprocess_path,\"mfccs_val.pkl\")\n",
    "labels_val_path = os.path.join(preprocess_path,\"labels_val.pkl\")\n",
    "\n",
    "with open(mfccs_val_path, 'wb') as f:\n",
    "        pickle.dump(mfccs_val , f)\n",
    "        \n",
    "with open(labels_val_path, 'wb') as f:\n",
    "        pickle.dump(labels_val , f)"
   ]
  },
  {
   "cell_type": "markdown",
   "id": "a10c6062-597e-40b0-8844-40d0a13489fe",
   "metadata": {},
   "source": [
    "## Test"
   ]
  },
  {
   "cell_type": "markdown",
   "id": "8e3e3327-3155-4740-952c-d4bc28f24f5c",
   "metadata": {
    "tags": []
   },
   "source": [
    "### Load samples and labels"
   ]
  },
  {
   "cell_type": "code",
   "execution_count": 625,
   "id": "baef72f2-0373-4c34-a3f0-a24ebe72a8e3",
   "metadata": {},
   "outputs": [
    {
     "name": "stderr",
     "output_type": "stream",
     "text": [
      "100%|███████████████████████████████████████| 1700/1700 [00:31<00:00, 54.25it/s]\n"
     ]
    }
   ],
   "source": [
    "load_test = load_files(df_test)"
   ]
  },
  {
   "cell_type": "code",
   "execution_count": 626,
   "id": "a5d54852-9c16-4f29-aee9-b5a12f7bec18",
   "metadata": {},
   "outputs": [],
   "source": [
    "samples_test = extract_samples(load_test)"
   ]
  },
  {
   "cell_type": "code",
   "execution_count": 627,
   "id": "c1343dc0-8e89-4c64-9e9d-f7c094b04762",
   "metadata": {
    "tags": []
   },
   "outputs": [],
   "source": [
    "labels_test = extract_labels(df_test)"
   ]
  },
  {
   "cell_type": "markdown",
   "id": "899c0878-8f84-4b55-9203-ab8d3e35b2ec",
   "metadata": {},
   "source": [
    "### Cut and Pad "
   ]
  },
  {
   "cell_type": "code",
   "execution_count": 628,
   "id": "c9dec053-6ee1-42f1-9fcc-75df44fb0405",
   "metadata": {},
   "outputs": [],
   "source": [
    "samples_test, labels_test = cut_and_pad(samples_test, labels_test)"
   ]
  },
  {
   "cell_type": "code",
   "execution_count": 629,
   "id": "bf161c39-40ca-43e2-99aa-bf9eee2289d4",
   "metadata": {},
   "outputs": [
    {
     "name": "stdout",
     "output_type": "stream",
     "text": [
      "(1700,) (1700,)\n"
     ]
    }
   ],
   "source": [
    "samples_test = np.array(samples_test)\n",
    "labels_test = np.array(labels_test)\n",
    "print(samples_test.shape, labels_test.shape)"
   ]
  },
  {
   "cell_type": "markdown",
   "id": "153ff928-62f5-49bd-b86c-5d9ad52db621",
   "metadata": {},
   "source": [
    "### Feature Extraction"
   ]
  },
  {
   "cell_type": "code",
   "execution_count": 630,
   "id": "c2971d02-89bd-4083-a375-f21d7bf1bcd2",
   "metadata": {},
   "outputs": [
    {
     "name": "stderr",
     "output_type": "stream",
     "text": [
      "100%|███████████████████████████████████████| 1700/1700 [00:36<00:00, 46.77it/s]\n"
     ]
    }
   ],
   "source": [
    "mfccs_test = compute_mfccs(samples_test)"
   ]
  },
  {
   "cell_type": "code",
   "execution_count": 631,
   "id": "24259b2f-50b4-4431-90f5-8e7d2aaaf5fb",
   "metadata": {},
   "outputs": [
    {
     "data": {
      "text/plain": [
       "(1700, 248, 40)"
      ]
     },
     "execution_count": 631,
     "metadata": {},
     "output_type": "execute_result"
    }
   ],
   "source": [
    "mfccs_test.shape"
   ]
  },
  {
   "cell_type": "markdown",
   "id": "672623e4-e399-433d-83e9-34fcff8424b9",
   "metadata": {},
   "source": [
    "### Save features and labels"
   ]
  },
  {
   "cell_type": "code",
   "execution_count": 632,
   "id": "93ce9590-e66f-4e8d-8f1e-ec328bdcdbe0",
   "metadata": {
    "tags": []
   },
   "outputs": [],
   "source": [
    "preprocess_path = \"/home/helemanc/Desktop/Binary_Model/pre-processed\"\n",
    "mfccs_test_path = os.path.join(preprocess_path,\"mfccs_test.pkl\")\n",
    "labels_test_path = os.path.join(preprocess_path,\"labels_test.pkl\")\n",
    "\n",
    "with open(mfccs_test_path, 'wb') as f:\n",
    "        pickle.dump(mfccs_test , f)\n",
    "        \n",
    "with open(labels_test_path, 'wb') as f:\n",
    "        pickle.dump(labels_test , f)"
   ]
  },
  {
   "cell_type": "markdown",
   "id": "d2571022-48ce-46f0-a78c-11e6a530553a",
   "metadata": {},
   "source": [
    "# Load features and Labels"
   ]
  },
  {
   "cell_type": "code",
   "execution_count": 209,
   "id": "aa1a3424-845b-489c-96dd-a671861be3b6",
   "metadata": {},
   "outputs": [],
   "source": [
    "preprocess_path = \"/home/helemanc/Desktop/Binary_Model/pre-processed\"\n",
    "mfccs_train_path = os.path.join(preprocess_path,\"mfccs_train.pkl\")\n",
    "labels_train_path = os.path.join(preprocess_path,\"labels_train.pkl\")\n",
    "\n",
    "mfccs_aug_train_path = os.path.join(preprocess_path,\"mfccs_train_aug.pkl\")\n",
    "labels_aug_train_path = os.path.join(preprocess_path,\"labels_train_aug.pkl\")\n",
    "\n",
    "mfccs_val_path = os.path.join(preprocess_path,\"mfccs_val.pkl\")\n",
    "labels_val_path = os.path.join(preprocess_path,\"labels_val.pkl\")\n",
    "\n",
    "mfccs_test_path = os.path.join(preprocess_path,\"mfccs_test.pkl\")\n",
    "labels_test_path = os.path.join(preprocess_path,\"labels_test.pkl\")\n"
   ]
  },
  {
   "cell_type": "code",
   "execution_count": 210,
   "id": "a54babdf-4c19-4975-be72-24245667c85c",
   "metadata": {},
   "outputs": [],
   "source": [
    "mfccs_train = pickle.load(open(mfccs_train_path, 'rb'))\n",
    "labels_train = pickle.load(open(labels_train_path, 'rb'))\n",
    "\n",
    "mfccs_train_aug = pickle.load(open(mfccs_aug_train_path, 'rb'))\n",
    "labels_train_aug = pickle.load(open(labels_aug_train_path, 'rb'))\n",
    "\n",
    "mfccs_val = pickle.load(open(mfccs_val_path, 'rb'))\n",
    "labels_val = pickle.load(open(labels_val_path, 'rb'))\n",
    "\n",
    "mfccs_test = pickle.load(open(mfccs_test_path, 'rb'))\n",
    "labels_test = pickle.load(open(labels_test_path, 'rb'))"
   ]
  },
  {
   "cell_type": "markdown",
   "id": "847e8c59-9771-4bbd-8bbd-59a12163e252",
   "metadata": {
    "tags": []
   },
   "source": [
    "# Encode Labels - Binary "
   ]
  },
  {
   "cell_type": "code",
   "execution_count": 211,
   "id": "53c5745b-0011-48d0-b7ae-5a6bccf15de8",
   "metadata": {
    "tags": []
   },
   "outputs": [],
   "source": [
    "emotion_enc = {'fear':1, 'disgust':1, 'neutral':0, 'calm':0,  'happy':0, 'sadness':1, 'surprise':0, 'angry':1}"
   ]
  },
  {
   "cell_type": "code",
   "execution_count": 64,
   "id": "a769273d-a9ab-487b-a0d6-bddf197234c0",
   "metadata": {},
   "outputs": [],
   "source": [
    "y_train = pd.Series(labels_train).replace(emotion_enc)\n",
    "y_train_aug = pd.Series(labels_train_aug).map(emotion_enc)\n",
    "y_val = pd.Series(labels_val).map(emotion_enc)\n",
    "y_test = pd.Series(labels_test).map(emotion_enc)"
   ]
  },
  {
   "cell_type": "markdown",
   "id": "6aa53f68-895b-4be7-a171-f0d8bd03f441",
   "metadata": {},
   "source": [
    "# Train, Val, Test (X) "
   ]
  },
  {
   "cell_type": "code",
   "execution_count": 212,
   "id": "ad9e5037-0418-4a11-97b7-b7fdd5b74b29",
   "metadata": {},
   "outputs": [],
   "source": [
    "X_train = mfccs_train\n",
    "X_train_aug = mfccs_train_aug \n",
    "X_val = mfccs_val\n",
    "X_test = mfccs_test "
   ]
  },
  {
   "cell_type": "markdown",
   "id": "8f45bc35-efd7-48b5-884e-2c5d4196f959",
   "metadata": {},
   "source": [
    "# Standard Scaling "
   ]
  },
  {
   "cell_type": "markdown",
   "id": "eb159d23-1e40-40e5-a03f-efbc2e26621e",
   "metadata": {},
   "source": [
    "## Without Augmentation"
   ]
  },
  {
   "cell_type": "code",
   "execution_count": 213,
   "id": "5147d5dd-051b-4b3d-8d11-0406d2fef565",
   "metadata": {
    "tags": []
   },
   "outputs": [],
   "source": [
    "from sklearn.preprocessing import StandardScaler\n",
    "scaler = StandardScaler()\n",
    "X_train = scaler.fit_transform(X_train.reshape(-1, X_train.shape[-1])).reshape(X_train.shape)\n",
    "X_test = scaler.transform(X_test.reshape(-1, X_test.shape[-1])).reshape(X_test.shape)\n",
    "X_val = scaler.transform(X_val.reshape(-1, X_val.shape[-1])).reshape(X_val.shape)"
   ]
  },
  {
   "cell_type": "markdown",
   "id": "acd5062b-c015-459c-a155-066a4caf7b5e",
   "metadata": {},
   "source": [
    "## Save Scaler"
   ]
  },
  {
   "cell_type": "code",
   "execution_count": 67,
   "id": "2bdac329-091f-4262-820c-71d500d23f82",
   "metadata": {},
   "outputs": [],
   "source": [
    "data_model_path = \"/home/helemanc/Desktop/Binary_Model/data_model\"\n",
    "scaler_path = os.path.join(data_model_path,\"scaler.pkl\")\n",
    "with open(scaler_path, 'wb') as f:\n",
    "     pickle.dump(scaler,f)"
   ]
  },
  {
   "cell_type": "markdown",
   "id": "f190c778-7f6c-4c13-bba0-f692edbe72cc",
   "metadata": {},
   "source": [
    "## Save scaled data "
   ]
  },
  {
   "cell_type": "code",
   "execution_count": 68,
   "id": "adf02aea-2d5f-4f8c-a80c-91f1b861f13c",
   "metadata": {},
   "outputs": [],
   "source": [
    "X_train_path = os.path.join(data_model_path,\"X_train.pkl\")\n",
    "X_test_path = os.path.join(data_model_path,\"X_test.pkl\")\n",
    "X_val_path =  os.path.join(data_model_path,\"X_val.pkl\")\n",
    "y_train_path = os.path.join(data_model_path,\"y_train.pkl\")\n",
    "y_test_path = os.path.join(data_model_path,\"y_test.pkl\")\n",
    "y_val_path = os.path.join(data_model_path,\"y_val.pkl\")\n",
    "\n",
    "\n",
    "\n",
    "with open(scaler_path, 'wb') as f:\n",
    "     pickle.dump(scaler,f)\n",
    "        \n",
    "with open(X_train_path, 'wb') as f:\n",
    "     pickle.dump(X_train,f)\n",
    "        \n",
    "with open(X_test_path, 'wb') as f:\n",
    "     pickle.dump(X_test,f)    \n",
    "           \n",
    "with open(X_val_path, 'wb') as f:\n",
    "     pickle.dump(X_val,f)     \n",
    "        \n",
    "with open(y_train_path, 'wb') as f:\n",
    "     pickle.dump(y_train,f)\n",
    "        \n",
    "with open(y_test_path, 'wb') as f:\n",
    "     pickle.dump(y_test,f)\n",
    "        \n",
    "with open(y_val_path, 'wb') as f:\n",
    "     pickle.dump(y_val,f)"
   ]
  },
  {
   "cell_type": "markdown",
   "id": "afb1652c-458a-460b-a4e9-5da879434884",
   "metadata": {},
   "source": [
    "## With Augmentation"
   ]
  },
  {
   "cell_type": "code",
   "execution_count": 57,
   "id": "4f31f525-5f58-441f-925c-d4d82b60ed68",
   "metadata": {},
   "outputs": [],
   "source": [
    "from sklearn.preprocessing import StandardScaler\n",
    "scaler_aug = StandardScaler()\n",
    "X_train_aug = scaler_aug.fit_transform(X_train_aug.reshape(-1, X_train_aug.shape[-1])).reshape(X_train_aug.shape)\n",
    "X_test_aug = scaler_aug.transform(X_test.reshape(-1, X_test.shape[-1])).reshape(X_test.shape)\n",
    "X_val_aug = scaler_aug.transform(X_val.reshape(-1, X_val.shape[-1])).reshape(X_val.shape)"
   ]
  },
  {
   "cell_type": "markdown",
   "id": "abfec447-96ca-4298-82ef-b9709c4caab3",
   "metadata": {},
   "source": [
    "## Save Scaler"
   ]
  },
  {
   "cell_type": "code",
   "execution_count": 58,
   "id": "c89192af-d925-4dca-ac8c-e545a4b5c2df",
   "metadata": {},
   "outputs": [],
   "source": [
    "data_model_path = \"/home/helemanc/Desktop/Binary_Model/data_model_augmented\"\n",
    "scaler_aug_path = os.path.join(data_model_path,\"scaler_aug.pkl\")\n",
    "with open(scaler_aug_path, 'wb') as f:\n",
    "     pickle.dump(scaler_aug,f)"
   ]
  },
  {
   "cell_type": "code",
   "execution_count": 59,
   "id": "51490d27-b3b6-4672-8738-b20d119a9547",
   "metadata": {},
   "outputs": [],
   "source": [
    "X_train_path = os.path.join(data_model_path,\"X_train_aug.pkl\")\n",
    "X_test_path = os.path.join(data_model_path,\"X_test.pkl\")\n",
    "X_val_path =  os.path.join(data_model_path,\"X_val.pkl\")\n",
    "y_train_path = os.path.join(data_model_path,\"y_train_aug.pkl\")\n",
    "y_test_path = os.path.join(data_model_path,\"y_test.pkl\")\n",
    "y_val_path = os.path.join(data_model_path,\"y_val.pkl\")\n",
    "\n",
    "\n",
    "\n",
    "with open(scaler_path, 'wb') as f:\n",
    "     pickle.dump(scaler,f)\n",
    "        \n",
    "with open(X_train_path, 'wb') as f:\n",
    "     pickle.dump(X_train_aug,f)\n",
    "        \n",
    "with open(X_test_path, 'wb') as f:\n",
    "     pickle.dump(X_test,f)    \n",
    "           \n",
    "with open(X_val_path, 'wb') as f:\n",
    "     pickle.dump(X_val,f)     \n",
    "        \n",
    "with open(y_train_path, 'wb') as f:\n",
    "     pickle.dump(y_train_aug,f)\n",
    "        \n",
    "with open(y_test_path, 'wb') as f:\n",
    "     pickle.dump(y_test,f)\n",
    "        \n",
    "with open(y_val_path, 'wb') as f:\n",
    "     pickle.dump(y_val,f)"
   ]
  },
  {
   "cell_type": "markdown",
   "id": "ab927ae7-1be8-42d2-a6db-ed1ad64e24f2",
   "metadata": {
    "tags": []
   },
   "source": [
    "# Model "
   ]
  },
  {
   "cell_type": "code",
   "execution_count": 217,
   "id": "670152da-070b-4817-9837-84f3827a1a02",
   "metadata": {},
   "outputs": [
    {
     "name": "stdout",
     "output_type": "stream",
     "text": [
      "Model: \"sequential_18\"\n",
      "_________________________________________________________________\n",
      "Layer (type)                 Output Shape              Param #   \n",
      "=================================================================\n",
      "conv1d_34 (Conv1D)           (None, 248, 128)          25728     \n",
      "_________________________________________________________________\n",
      "activation_48 (Activation)   (None, 248, 128)          0         \n",
      "_________________________________________________________________\n",
      "max_pooling1d_33 (MaxPooling (None, 62, 128)           0         \n",
      "_________________________________________________________________\n",
      "dropout_33 (Dropout)         (None, 62, 128)           0         \n",
      "_________________________________________________________________\n",
      "conv1d_35 (Conv1D)           (None, 62, 64)            41024     \n",
      "_________________________________________________________________\n",
      "activation_49 (Activation)   (None, 62, 64)            0         \n",
      "_________________________________________________________________\n",
      "max_pooling1d_34 (MaxPooling (None, 15, 64)            0         \n",
      "_________________________________________________________________\n",
      "dropout_34 (Dropout)         (None, 15, 64)            0         \n",
      "_________________________________________________________________\n",
      "conv1d_36 (Conv1D)           (None, 15, 32)            10272     \n",
      "_________________________________________________________________\n",
      "activation_50 (Activation)   (None, 15, 32)            0         \n",
      "_________________________________________________________________\n",
      "max_pooling1d_35 (MaxPooling (None, 3, 32)             0         \n",
      "_________________________________________________________________\n",
      "dropout_35 (Dropout)         (None, 3, 32)             0         \n",
      "_________________________________________________________________\n",
      "flatten_15 (Flatten)         (None, 96)                0         \n",
      "_________________________________________________________________\n",
      "dense_30 (Dense)             (None, 32)                3104      \n",
      "_________________________________________________________________\n",
      "dense_31 (Dense)             (None, 1)                 33        \n",
      "_________________________________________________________________\n",
      "activation_51 (Activation)   (None, 1)                 0         \n",
      "=================================================================\n",
      "Total params: 80,161\n",
      "Trainable params: 80,161\n",
      "Non-trainable params: 0\n",
      "_________________________________________________________________\n"
     ]
    }
   ],
   "source": [
    "model = Sequential()\n",
    "\n",
    "model.add(layers.Conv1D(128, 5,padding='same',\n",
    "                 input_shape=(248,40), kernel_initializer=tf.keras.initializers.HeNormal(seed=0)))\n",
    "model.add(layers.Activation('relu'))\n",
    "model.add(layers.MaxPooling1D(pool_size=(4)))\n",
    "model.add(layers.Dropout(0.2))\n",
    "\n",
    "model.add(layers.Conv1D(64, 5,padding='same', kernel_initializer=tf.keras.initializers.HeNormal(seed=0)))\n",
    "model.add(layers.Activation('relu'))\n",
    "model.add(layers.MaxPooling1D(pool_size=(4)))\n",
    "model.add(layers.Dropout(0.1))\n",
    "\n",
    "model.add(layers.Conv1D(32, 5,padding='same', kernel_initializer=tf.keras.initializers.HeNormal(seed=0)))\n",
    "model.add(layers.Activation('relu'))\n",
    "model.add(layers.MaxPooling1D(pool_size=(4)))\n",
    "model.add(layers.Dropout(0.1))\n",
    "\n",
    "model.add(layers.Flatten())\n",
    "model.add(layers.Dense(32,  kernel_initializer=tf.keras.initializers.HeNormal(seed=0)))\n",
    "model.add(layers.Dense(1))\n",
    "model.add(layers.Activation('sigmoid'))\n",
    "\n",
    "model.summary()"
   ]
  },
  {
   "cell_type": "code",
   "execution_count": null,
   "id": "25bb01aa-170b-4a2e-a29f-aa6302f54bb6",
   "metadata": {},
   "outputs": [],
   "source": []
  },
  {
   "cell_type": "markdown",
   "id": "f6d361ac-80ab-4ea0-8e0d-0bbf4c17d91f",
   "metadata": {},
   "source": [
    "# Training"
   ]
  },
  {
   "cell_type": "markdown",
   "id": "4ac8c884-2fee-481c-ab48-a703ca4d7e27",
   "metadata": {
    "tags": []
   },
   "source": [
    "## Without Augmentation"
   ]
  },
  {
   "cell_type": "markdown",
   "id": "548f8035-2afe-49ca-b828-287e718f26b0",
   "metadata": {
    "tags": []
   },
   "source": [
    "### Load Data"
   ]
  },
  {
   "cell_type": "code",
   "execution_count": 197,
   "id": "877b4cb0-90b4-4313-a328-1185e2ec65a9",
   "metadata": {},
   "outputs": [],
   "source": [
    "X_train = pickle.load(open( \"/home/helemanc/Desktop/Binary_Model/data_model/X_train.pkl\", 'rb'))\n",
    "X_val = pickle.load(open( \"/home/helemanc/Desktop/Binary_Model/data_model/X_val.pkl\", 'rb'))\n",
    "X_test = pickle.load(open( \"/home/helemanc/Desktop/Binary_Model/data_model/X_test.pkl\", 'rb'))\n",
    "y_train = pickle.load(open( \"/home/helemanc/Desktop/Binary_Model/data_model/y_train.pkl\", 'rb'))\n",
    "y_val = pickle.load(open( \"/home/helemanc/Desktop/Binary_Model/data_model/y_val.pkl\", 'rb'))\n",
    "y_test =  pickle.load(open( \"/home/helemanc/Desktop/Binary_Model/data_model/y_test.pkl\", 'rb'))"
   ]
  },
  {
   "cell_type": "code",
   "execution_count": 218,
   "id": "6a77c1c4-936a-4e7d-a748-04c6a999ad7b",
   "metadata": {},
   "outputs": [],
   "source": [
    "weight_path = \"/home/helemanc/Desktop/Binary_Model/weights/binary_model_l1l2.hdf5\"\n",
    "\n",
    "reduce_lr = tf.keras.callbacks.ReduceLROnPlateau(monitor='val_accuracy', \n",
    "                                                 factor=0.5, patience=4, \n",
    "                                                 verbose=1, mode='max', \n",
    "                                                 min_lr=0.00001)\n",
    "\n",
    "early_stop = tf.keras.callbacks.EarlyStopping(monitor='val_loss', patience=45, \n",
    "                                              verbose=1)\n",
    "\n",
    "model_checkpoint = tf.keras.callbacks.ModelCheckpoint(filepath=weight_path, \n",
    "                                                      save_weights_only=True, \n",
    "                                                      monitor='val_accuracy', \n",
    "                                                      mode='max', \n",
    "                                                      save_best_only=True)\n",
    "# classweight \n",
    "from sklearn.utils import class_weight\n",
    "class_weights = class_weight.compute_class_weight('balanced', np.unique(y_train), y_train)\n",
    "class_weights = {l:c for l,c in zip(np.unique(y_train), class_weights)}\n"
   ]
  },
  {
   "cell_type": "code",
   "execution_count": 219,
   "id": "539f4443-54d1-4bd2-a9a5-0538b834de8b",
   "metadata": {},
   "outputs": [],
   "source": [
    "model.compile(loss='binary_crossentropy', optimizer='adam', metrics='accuracy')"
   ]
  },
  {
   "cell_type": "markdown",
   "id": "62f65b60-3cb4-4354-b5d6-cab16cc049c6",
   "metadata": {},
   "source": [
    "### Train"
   ]
  },
  {
   "cell_type": "code",
   "execution_count": 222,
   "id": "f47f81b7-61c5-4f6a-aa27-3ad94dc7d0b8",
   "metadata": {},
   "outputs": [
    {
     "name": "stdout",
     "output_type": "stream",
     "text": [
      "Epoch 1/500\n",
      "198/198 [==============================] - 2s 12ms/step - loss: 0.2392 - accuracy: 0.8870 - val_loss: 0.6471 - val_accuracy: 0.6656\n",
      "Epoch 2/500\n",
      "198/198 [==============================] - 2s 11ms/step - loss: 0.2354 - accuracy: 0.8958 - val_loss: 0.6715 - val_accuracy: 0.6555\n",
      "Epoch 3/500\n",
      "198/198 [==============================] - 2s 11ms/step - loss: 0.2051 - accuracy: 0.9069 - val_loss: 0.8688 - val_accuracy: 0.6020\n",
      "Epoch 4/500\n",
      "198/198 [==============================] - 2s 11ms/step - loss: 0.1968 - accuracy: 0.9142 - val_loss: 0.6790 - val_accuracy: 0.6957\n",
      "Epoch 5/500\n",
      "198/198 [==============================] - 2s 12ms/step - loss: 0.1730 - accuracy: 0.9253 - val_loss: 0.7215 - val_accuracy: 0.6923\n",
      "Epoch 6/500\n",
      "198/198 [==============================] - 2s 11ms/step - loss: 0.1602 - accuracy: 0.9348 - val_loss: 0.6770 - val_accuracy: 0.6856\n",
      "Epoch 7/500\n",
      "198/198 [==============================] - 2s 12ms/step - loss: 0.1417 - accuracy: 0.9424 - val_loss: 0.6547 - val_accuracy: 0.6856\n",
      "Epoch 8/500\n",
      "198/198 [==============================] - 2s 11ms/step - loss: 0.1426 - accuracy: 0.9389 - val_loss: 0.8245 - val_accuracy: 0.7057\n",
      "Epoch 9/500\n",
      "198/198 [==============================] - 2s 11ms/step - loss: 0.1602 - accuracy: 0.9402 - val_loss: 0.7176 - val_accuracy: 0.6656\n",
      "Epoch 10/500\n",
      "198/198 [==============================] - 3s 14ms/step - loss: 0.1273 - accuracy: 0.9487 - val_loss: 0.7695 - val_accuracy: 0.7023\n",
      "Epoch 11/500\n",
      "198/198 [==============================] - 2s 10ms/step - loss: 0.1190 - accuracy: 0.9503 - val_loss: 0.8657 - val_accuracy: 0.6957\n",
      "Epoch 12/500\n",
      "198/198 [==============================] - 2s 12ms/step - loss: 0.1054 - accuracy: 0.9614 - val_loss: 0.9254 - val_accuracy: 0.7023\n",
      "\n",
      "Epoch 00012: ReduceLROnPlateau reducing learning rate to 0.0005000000237487257.\n",
      "Epoch 13/500\n",
      "198/198 [==============================] - 2s 10ms/step - loss: 0.0637 - accuracy: 0.9750 - val_loss: 0.7665 - val_accuracy: 0.7023\n",
      "Epoch 14/500\n",
      "198/198 [==============================] - 2s 10ms/step - loss: 0.0531 - accuracy: 0.9804 - val_loss: 0.8502 - val_accuracy: 0.6923\n",
      "Epoch 15/500\n",
      "198/198 [==============================] - 2s 10ms/step - loss: 0.0436 - accuracy: 0.9842 - val_loss: 0.7553 - val_accuracy: 0.7525\n",
      "Epoch 16/500\n",
      "198/198 [==============================] - 2s 10ms/step - loss: 0.0473 - accuracy: 0.9813 - val_loss: 0.9944 - val_accuracy: 0.7090\n",
      "Epoch 17/500\n",
      "198/198 [==============================] - 2s 10ms/step - loss: 0.0389 - accuracy: 0.9854 - val_loss: 1.1669 - val_accuracy: 0.6756\n",
      "Epoch 18/500\n",
      "198/198 [==============================] - 2s 10ms/step - loss: 0.0458 - accuracy: 0.9807 - val_loss: 0.9580 - val_accuracy: 0.7224\n",
      "Epoch 19/500\n",
      "198/198 [==============================] - 2s 10ms/step - loss: 0.0366 - accuracy: 0.9861 - val_loss: 0.9434 - val_accuracy: 0.7191\n",
      "\n",
      "Epoch 00019: ReduceLROnPlateau reducing learning rate to 0.0002500000118743628.\n",
      "Epoch 20/500\n",
      "198/198 [==============================] - 2s 10ms/step - loss: 0.0220 - accuracy: 0.9921 - val_loss: 1.0218 - val_accuracy: 0.7191\n",
      "Epoch 21/500\n",
      "198/198 [==============================] - 2s 11ms/step - loss: 0.0249 - accuracy: 0.9899 - val_loss: 1.0837 - val_accuracy: 0.7057\n",
      "Epoch 22/500\n",
      "198/198 [==============================] - 2s 10ms/step - loss: 0.0198 - accuracy: 0.9956 - val_loss: 0.9872 - val_accuracy: 0.7358\n",
      "Epoch 23/500\n",
      "198/198 [==============================] - 2s 10ms/step - loss: 0.0250 - accuracy: 0.9908 - val_loss: 1.1197 - val_accuracy: 0.7191\n",
      "\n",
      "Epoch 00023: ReduceLROnPlateau reducing learning rate to 0.0001250000059371814.\n",
      "Epoch 24/500\n",
      "198/198 [==============================] - 2s 10ms/step - loss: 0.0213 - accuracy: 0.9940 - val_loss: 1.0777 - val_accuracy: 0.7224\n",
      "Epoch 25/500\n",
      "198/198 [==============================] - 2s 11ms/step - loss: 0.0196 - accuracy: 0.9918 - val_loss: 1.0735 - val_accuracy: 0.7224\n",
      "Epoch 26/500\n",
      "198/198 [==============================] - 2s 10ms/step - loss: 0.0135 - accuracy: 0.9956 - val_loss: 1.0412 - val_accuracy: 0.7224\n",
      "Epoch 27/500\n",
      "198/198 [==============================] - 2s 10ms/step - loss: 0.0167 - accuracy: 0.9953 - val_loss: 1.1110 - val_accuracy: 0.7291\n",
      "\n",
      "Epoch 00027: ReduceLROnPlateau reducing learning rate to 6.25000029685907e-05.\n",
      "Epoch 28/500\n",
      "198/198 [==============================] - 2s 10ms/step - loss: 0.0152 - accuracy: 0.9934 - val_loss: 1.0785 - val_accuracy: 0.7090\n",
      "Epoch 29/500\n",
      "198/198 [==============================] - 2s 10ms/step - loss: 0.0136 - accuracy: 0.9959 - val_loss: 1.0880 - val_accuracy: 0.7191\n",
      "Epoch 30/500\n",
      "198/198 [==============================] - 2s 10ms/step - loss: 0.0104 - accuracy: 0.9968 - val_loss: 1.0772 - val_accuracy: 0.7124\n",
      "Epoch 31/500\n",
      "198/198 [==============================] - 2s 10ms/step - loss: 0.0097 - accuracy: 0.9975 - val_loss: 1.1147 - val_accuracy: 0.7191\n",
      "\n",
      "Epoch 00031: ReduceLROnPlateau reducing learning rate to 3.125000148429535e-05.\n",
      "Epoch 32/500\n",
      "198/198 [==============================] - 2s 10ms/step - loss: 0.0109 - accuracy: 0.9968 - val_loss: 1.1105 - val_accuracy: 0.7124\n",
      "Epoch 33/500\n",
      "198/198 [==============================] - 2s 10ms/step - loss: 0.0151 - accuracy: 0.9946 - val_loss: 1.1491 - val_accuracy: 0.7191\n",
      "Epoch 34/500\n",
      "198/198 [==============================] - 2s 10ms/step - loss: 0.0108 - accuracy: 0.9968 - val_loss: 1.1535 - val_accuracy: 0.7191\n",
      "Epoch 35/500\n",
      "198/198 [==============================] - 2s 10ms/step - loss: 0.0117 - accuracy: 0.9959 - val_loss: 1.1650 - val_accuracy: 0.7157\n",
      "\n",
      "Epoch 00035: ReduceLROnPlateau reducing learning rate to 1.5625000742147677e-05.\n",
      "Epoch 36/500\n",
      "198/198 [==============================] - 2s 10ms/step - loss: 0.0089 - accuracy: 0.9978 - val_loss: 1.1612 - val_accuracy: 0.7191\n",
      "Epoch 37/500\n",
      "198/198 [==============================] - 2s 10ms/step - loss: 0.0095 - accuracy: 0.9965 - val_loss: 1.1621 - val_accuracy: 0.7124\n",
      "Epoch 38/500\n",
      "198/198 [==============================] - 2s 10ms/step - loss: 0.0089 - accuracy: 0.9975 - val_loss: 1.1684 - val_accuracy: 0.7157\n",
      "Epoch 39/500\n",
      "198/198 [==============================] - 2s 10ms/step - loss: 0.0098 - accuracy: 0.9968 - val_loss: 1.1750 - val_accuracy: 0.7157\n",
      "\n",
      "Epoch 00039: ReduceLROnPlateau reducing learning rate to 1e-05.\n",
      "Epoch 40/500\n",
      "198/198 [==============================] - 2s 10ms/step - loss: 0.0121 - accuracy: 0.9959 - val_loss: 1.1712 - val_accuracy: 0.7124\n",
      "Epoch 41/500\n",
      "198/198 [==============================] - 2s 10ms/step - loss: 0.0105 - accuracy: 0.9975 - val_loss: 1.1655 - val_accuracy: 0.7191\n",
      "Epoch 42/500\n",
      "198/198 [==============================] - 2s 10ms/step - loss: 0.0093 - accuracy: 0.9965 - val_loss: 1.1737 - val_accuracy: 0.7191\n",
      "Epoch 43/500\n",
      "198/198 [==============================] - 2s 10ms/step - loss: 0.0099 - accuracy: 0.9968 - val_loss: 1.1900 - val_accuracy: 0.7191\n",
      "Epoch 44/500\n",
      "198/198 [==============================] - 2s 10ms/step - loss: 0.0136 - accuracy: 0.9949 - val_loss: 1.1720 - val_accuracy: 0.7124\n",
      "Epoch 45/500\n",
      "198/198 [==============================] - 2s 10ms/step - loss: 0.0106 - accuracy: 0.9975 - val_loss: 1.1729 - val_accuracy: 0.7124\n",
      "Epoch 46/500\n",
      "198/198 [==============================] - 2s 10ms/step - loss: 0.0115 - accuracy: 0.9959 - val_loss: 1.1595 - val_accuracy: 0.7090\n",
      "Epoch 00046: early stopping\n"
     ]
    }
   ],
   "source": [
    "history = model.fit(X_train, y_train, batch_size=16, epochs=500, validation_data=(X_val, y_val),\n",
    "           callbacks=[reduce_lr, early_stop, model_checkpoint], class_weight = class_weights)"
   ]
  },
  {
   "cell_type": "markdown",
   "id": "90d48d7f-1e8b-4ff7-bb7e-bd2781b6b77f",
   "metadata": {},
   "source": [
    "### Plot Training Graphs"
   ]
  },
  {
   "cell_type": "code",
   "execution_count": 223,
   "id": "bd0d66df-df39-4a0a-8f67-25f1ba1f0311",
   "metadata": {},
   "outputs": [
    {
     "data": {
      "image/png": "[encoded data removed]",
      "text/plain": [
       "<Figure size 432x288 with 1 Axes>"
      ]
     },
     "metadata": {},
     "output_type": "display_data"
    }
   ],
   "source": [
    "plt.plot(history.history['loss'])\n",
    "plt.plot(history.history['val_loss'])\n",
    "plt.title('model loss')\n",
    "plt.ylabel('loss')\n",
    "plt.xlabel('epoch')\n",
    "plt.legend(['train', 'val'], loc='upper left')\n",
    "plt.show()"
   ]
  },
  {
   "cell_type": "code",
   "execution_count": 224,
   "id": "42dcca30-8bdb-4b32-a9b0-f709f6205dda",
   "metadata": {},
   "outputs": [
    {
     "data": {
      "image/png": "[encoded data removed]",
      "text/plain": [
       "<Figure size 432x288 with 1 Axes>"
      ]
     },
     "metadata": {},
     "output_type": "display_data"
    }
   ],
   "source": [
    "plt.plot(history.history['accuracy'])\n",
    "plt.plot(history.history['val_accuracy'])\n",
    "plt.title('model accuracy')\n",
    "plt.ylabel('acc')\n",
    "plt.xlabel('epoch')\n",
    "plt.legend(['train', 'val'], loc='upper left')\n",
    "plt.show()"
   ]
  },
  {
   "cell_type": "markdown",
   "id": "a03f9da2-35d7-4128-9f69-e3eed6725441",
   "metadata": {},
   "source": [
    "### Save Model"
   ]
  },
  {
   "cell_type": "code",
   "execution_count": 87,
   "id": "972b3c69-465c-42e6-b83f-7514667943a0",
   "metadata": {},
   "outputs": [
    {
     "name": "stderr",
     "output_type": "stream",
     "text": [
      "2021-08-23 11:45:07.689142: W tensorflow/python/util/util.cc:348] Sets are not currently considered sequences, but this may change in the future, so consider avoiding using them.\n"
     ]
    },
    {
     "name": "stdout",
     "output_type": "stream",
     "text": [
      "INFO:tensorflow:Assets written to: /home/helemanc/Desktop/Binary_Model/models/binary_model/assets\n"
     ]
    }
   ],
   "source": [
    "model.save(\"/home/helemanc/Desktop/Binary_Model/models/binary_model\")"
   ]
  },
  {
   "cell_type": "markdown",
   "id": "c3ba69f2-0d2d-4c2c-9ae7-708650b12f37",
   "metadata": {},
   "source": [
    "### Evaluate Model"
   ]
  },
  {
   "cell_type": "code",
   "execution_count": 88,
   "id": "a7aad9da-21eb-4cb5-a715-db56651220ba",
   "metadata": {},
   "outputs": [],
   "source": [
    "model_loaded = tf.keras.models.load_model(\"/home/helemanc/Desktop/Binary_Model/models/binary_model\")"
   ]
  },
  {
   "cell_type": "code",
   "execution_count": 89,
   "id": "da02606d-49d3-4cab-bbf4-11d4c767ea6a",
   "metadata": {},
   "outputs": [
    {
     "name": "stdout",
     "output_type": "stream",
     "text": [
      "107/107 [==============================] - 1s 5ms/step - loss: 1.7341 - accuracy: 0.5888\n"
     ]
    },
    {
     "data": {
      "text/plain": [
       "[1.7340623140335083, 0.5888235569000244]"
      ]
     },
     "execution_count": 89,
     "metadata": {},
     "output_type": "execute_result"
    }
   ],
   "source": [
    "model_loaded.evaluate(X_test, y_test, batch_size=16)"
   ]
  },
  {
   "cell_type": "code",
   "execution_count": 90,
   "id": "4cb14b27-c958-4a3a-bf5c-dca4eab3c32c",
   "metadata": {
    "collapsed": true,
    "jupyter": {
     "outputs_hidden": true
    },
    "tags": []
   },
   "outputs": [
    {
     "name": "stdout",
     "output_type": "stream",
     "text": [
      "              precision    recall  f1-score   support\n",
      "\n",
      "           0       0.42      0.58      0.49       728\n",
      "           1       0.56      0.41      0.47       972\n",
      "\n",
      "    accuracy                           0.48      1700\n",
      "   macro avg       0.49      0.49      0.48      1700\n",
      "weighted avg       0.50      0.48      0.48      1700\n",
      "\n"
     ]
    }
   ],
   "source": [
    "from sklearn.metrics import classification_report\n",
    "predictions = model_loaded.predict(X_test)\n",
    "pred = [1 * (x[0]>=0.50) for x in predictions] #0.5 o 0.52? \n",
    "print(classification_report(y_test, pred))"
   ]
  },
  {
   "cell_type": "markdown",
   "id": "6c938dc9-2643-4289-b7ac-f12317a89636",
   "metadata": {
    "tags": []
   },
   "source": [
    "## Without Augmentation - Shuffle Input Data"
   ]
  },
  {
   "cell_type": "markdown",
   "id": "50691a10-e0e9-4fdf-8547-5a5f96df8f50",
   "metadata": {
    "tags": []
   },
   "source": [
    "### Load Data"
   ]
  },
  {
   "cell_type": "code",
   "execution_count": 81,
   "id": "f74a5dc7-75b2-437b-8cfb-dd8aa1489681",
   "metadata": {},
   "outputs": [],
   "source": [
    "X_train = pickle.load(open( \"/home/helemanc/Desktop/Binary_Model/data_model/X_train.pkl\", 'rb'))\n",
    "X_val = pickle.load(open( \"/home/helemanc/Desktop/Binary_Model/data_model/X_val.pkl\", 'rb'))\n",
    "X_test = pickle.load(open( \"/home/helemanc/Desktop/Binary_Model/data_model/X_test.pkl\", 'rb'))\n",
    "y_train = pickle.load(open( \"/home/helemanc/Desktop/Binary_Model/data_model/y_train.pkl\", 'rb'))\n",
    "y_val = pickle.load(open( \"/home/helemanc/Desktop/Binary_Model/data_model/y_val.pkl\", 'rb'))\n",
    "y_test =  pickle.load(open( \"/home/helemanc/Desktop/Binary_Model/data_model/y_test.pkl\", 'rb'))"
   ]
  },
  {
   "cell_type": "code",
   "execution_count": 221,
   "id": "0cc615ca-9ead-422a-866e-040aed2f9037",
   "metadata": {},
   "outputs": [],
   "source": [
    "from sklearn.utils import shuffle\n",
    "X_train, y_train = shuffle(X_train, y_train)"
   ]
  },
  {
   "cell_type": "code",
   "execution_count": 135,
   "id": "83b04ccc-5f8f-42fe-abe4-d17b96c1844a",
   "metadata": {},
   "outputs": [],
   "source": [
    "weight_path = \"/home/helemanc/Desktop/Binary_Model/weights/binary_model_shuffle.hdf5\"\n",
    "\n",
    "reduce_lr = tf.keras.callbacks.ReduceLROnPlateau(monitor='val_accuracy', \n",
    "                                                 factor=0.5, patience=4, \n",
    "                                                 verbose=1, mode='max', \n",
    "                                                 min_lr=0.00001)\n",
    "\n",
    "early_stop = tf.keras.callbacks.EarlyStopping(monitor='val_loss', patience=45, \n",
    "                                              verbose=1)\n",
    "\n",
    "model_checkpoint = tf.keras.callbacks.ModelCheckpoint(filepath=weight_path, \n",
    "                                                      save_weights_only=True, \n",
    "                                                      monitor='val_accuracy', \n",
    "                                                      mode='max', \n",
    "                                                      save_best_only=True)\n",
    "# classweight \n",
    "from sklearn.utils import class_weight\n",
    "class_weights = class_weight.compute_class_weight('balanced', np.unique(y_train), y_train)\n",
    "class_weights = {l:c for l,c in zip(np.unique(y_train), class_weights)}\n"
   ]
  },
  {
   "cell_type": "code",
   "execution_count": 136,
   "id": "a69ac13a-fc3b-4671-bceb-0b7f211525a5",
   "metadata": {},
   "outputs": [],
   "source": [
    "model.compile(loss='binary_crossentropy', optimizer='adam', metrics='accuracy')"
   ]
  },
  {
   "cell_type": "markdown",
   "id": "f8b240fc-f82e-4da3-b8a6-e60595c9d9bb",
   "metadata": {},
   "source": [
    "### Train"
   ]
  },
  {
   "cell_type": "code",
   "execution_count": 137,
   "id": "5fa768e0-5f5f-420e-9b19-b76cd7334753",
   "metadata": {},
   "outputs": [
    {
     "name": "stdout",
     "output_type": "stream",
     "text": [
      "Epoch 1/500\n",
      "198/198 [==============================] - 4s 16ms/step - loss: 0.1199 - accuracy: 0.9797 - val_loss: 1.2262 - val_accuracy: 0.7291\n",
      "Epoch 2/500\n",
      "198/198 [==============================] - 3s 16ms/step - loss: 0.1204 - accuracy: 0.9796 - val_loss: 1.4017 - val_accuracy: 0.7057\n",
      "Epoch 3/500\n",
      "198/198 [==============================] - 3s 15ms/step - loss: 0.1086 - accuracy: 0.9812 - val_loss: 1.0301 - val_accuracy: 0.6823\n",
      "Epoch 4/500\n",
      "198/198 [==============================] - 3s 15ms/step - loss: 0.1166 - accuracy: 0.9803 - val_loss: 1.1104 - val_accuracy: 0.6756\n",
      "Epoch 5/500\n",
      "198/198 [==============================] - 3s 15ms/step - loss: 0.1198 - accuracy: 0.9822 - val_loss: 1.2360 - val_accuracy: 0.6957\n",
      "\n",
      "Epoch 00005: ReduceLROnPlateau reducing learning rate to 0.0005000000237487257.\n",
      "Epoch 6/500\n",
      "198/198 [==============================] - 3s 15ms/step - loss: 0.0947 - accuracy: 0.9901 - val_loss: 1.3156 - val_accuracy: 0.7157\n",
      "Epoch 7/500\n",
      "198/198 [==============================] - 3s 16ms/step - loss: 0.0896 - accuracy: 0.9884 - val_loss: 1.3553 - val_accuracy: 0.7224\n",
      "Epoch 8/500\n",
      "198/198 [==============================] - 3s 15ms/step - loss: 0.0797 - accuracy: 0.9940 - val_loss: 1.3968 - val_accuracy: 0.6789\n",
      "Epoch 9/500\n",
      "198/198 [==============================] - 3s 15ms/step - loss: 0.0778 - accuracy: 0.9941 - val_loss: 1.3505 - val_accuracy: 0.7124\n",
      "\n",
      "Epoch 00009: ReduceLROnPlateau reducing learning rate to 0.0002500000118743628.\n",
      "Epoch 10/500\n",
      "198/198 [==============================] - 2s 12ms/step - loss: 0.0705 - accuracy: 0.9970 - val_loss: 1.4151 - val_accuracy: 0.7291\n",
      "Epoch 11/500\n",
      "198/198 [==============================] - 2s 12ms/step - loss: 0.0686 - accuracy: 0.9971 - val_loss: 1.6909 - val_accuracy: 0.7090\n",
      "Epoch 12/500\n",
      "198/198 [==============================] - 2s 12ms/step - loss: 0.0734 - accuracy: 0.9944 - val_loss: 1.5880 - val_accuracy: 0.7023\n",
      "Epoch 13/500\n",
      "198/198 [==============================] - 2s 12ms/step - loss: 0.0679 - accuracy: 0.9972 - val_loss: 1.3232 - val_accuracy: 0.7191\n",
      "\n",
      "Epoch 00013: ReduceLROnPlateau reducing learning rate to 0.0001250000059371814.\n",
      "Epoch 14/500\n",
      "198/198 [==============================] - 3s 15ms/step - loss: 0.0667 - accuracy: 0.9980 - val_loss: 1.3250 - val_accuracy: 0.7124\n",
      "Epoch 15/500\n",
      "198/198 [==============================] - 3s 17ms/step - loss: 0.0695 - accuracy: 0.9951 - val_loss: 1.3313 - val_accuracy: 0.7090\n",
      "Epoch 16/500\n",
      "198/198 [==============================] - 3s 15ms/step - loss: 0.0650 - accuracy: 0.9975 - val_loss: 1.3897 - val_accuracy: 0.7090\n",
      "Epoch 17/500\n",
      "198/198 [==============================] - 3s 16ms/step - loss: 0.0643 - accuracy: 0.9983 - val_loss: 1.4287 - val_accuracy: 0.7057\n",
      "\n",
      "Epoch 00017: ReduceLROnPlateau reducing learning rate to 6.25000029685907e-05.\n",
      "Epoch 18/500\n",
      "198/198 [==============================] - 3s 16ms/step - loss: 0.0614 - accuracy: 0.9982 - val_loss: 1.4131 - val_accuracy: 0.7224\n",
      "Epoch 19/500\n",
      "198/198 [==============================] - 3s 15ms/step - loss: 0.0634 - accuracy: 0.9982 - val_loss: 1.4008 - val_accuracy: 0.7191\n",
      "Epoch 20/500\n",
      "198/198 [==============================] - 3s 15ms/step - loss: 0.0621 - accuracy: 0.9974 - val_loss: 1.3909 - val_accuracy: 0.7191\n",
      "Epoch 21/500\n",
      "198/198 [==============================] - 3s 15ms/step - loss: 0.0595 - accuracy: 0.9997 - val_loss: 1.4198 - val_accuracy: 0.7090\n",
      "\n",
      "Epoch 00021: ReduceLROnPlateau reducing learning rate to 3.125000148429535e-05.\n",
      "Epoch 22/500\n",
      "198/198 [==============================] - 3s 14ms/step - loss: 0.0603 - accuracy: 0.9984 - val_loss: 1.4159 - val_accuracy: 0.7124\n",
      "Epoch 23/500\n",
      "198/198 [==============================] - 3s 13ms/step - loss: 0.0632 - accuracy: 0.9989 - val_loss: 1.4129 - val_accuracy: 0.7258\n",
      "Epoch 24/500\n",
      "198/198 [==============================] - 3s 14ms/step - loss: 0.0617 - accuracy: 0.9987 - val_loss: 1.4163 - val_accuracy: 0.7157\n",
      "Epoch 25/500\n",
      "198/198 [==============================] - 3s 13ms/step - loss: 0.0624 - accuracy: 0.9974 - val_loss: 1.4185 - val_accuracy: 0.7124\n",
      "\n",
      "Epoch 00025: ReduceLROnPlateau reducing learning rate to 1.5625000742147677e-05.\n",
      "Epoch 26/500\n",
      "198/198 [==============================] - 3s 16ms/step - loss: 0.0577 - accuracy: 0.9999 - val_loss: 1.3861 - val_accuracy: 0.7057\n",
      "Epoch 27/500\n",
      "198/198 [==============================] - 4s 19ms/step - loss: 0.0588 - accuracy: 0.9993 - val_loss: 1.3815 - val_accuracy: 0.7157\n",
      "Epoch 28/500\n",
      "198/198 [==============================] - 3s 15ms/step - loss: 0.0585 - accuracy: 0.9997 - val_loss: 1.3868 - val_accuracy: 0.7157\n",
      "Epoch 29/500\n",
      "198/198 [==============================] - 2s 12ms/step - loss: 0.0648 - accuracy: 0.9958 - val_loss: 1.3714 - val_accuracy: 0.7090\n",
      "\n",
      "Epoch 00029: ReduceLROnPlateau reducing learning rate to 1e-05.\n",
      "Epoch 30/500\n",
      "198/198 [==============================] - 3s 13ms/step - loss: 0.0580 - accuracy: 0.9995 - val_loss: 1.3746 - val_accuracy: 0.7157\n",
      "Epoch 31/500\n",
      "198/198 [==============================] - 2s 12ms/step - loss: 0.0593 - accuracy: 0.9990 - val_loss: 1.3831 - val_accuracy: 0.7157\n",
      "Epoch 32/500\n",
      "198/198 [==============================] - 3s 13ms/step - loss: 0.0606 - accuracy: 0.9978 - val_loss: 1.3719 - val_accuracy: 0.7124\n",
      "Epoch 33/500\n",
      "198/198 [==============================] - 4s 19ms/step - loss: 0.0576 - accuracy: 0.9996 - val_loss: 1.3775 - val_accuracy: 0.7124\n",
      "Epoch 34/500\n",
      "198/198 [==============================] - 3s 16ms/step - loss: 0.0579 - accuracy: 0.9996 - val_loss: 1.3746 - val_accuracy: 0.7224\n",
      "Epoch 35/500\n",
      "198/198 [==============================] - 3s 15ms/step - loss: 0.0584 - accuracy: 0.9995 - val_loss: 1.3847 - val_accuracy: 0.7124\n",
      "Epoch 36/500\n",
      "198/198 [==============================] - 3s 14ms/step - loss: 0.0614 - accuracy: 0.9971 - val_loss: 1.3817 - val_accuracy: 0.7157\n",
      "Epoch 37/500\n",
      "198/198 [==============================] - 3s 13ms/step - loss: 0.0600 - accuracy: 0.9971 - val_loss: 1.3645 - val_accuracy: 0.7157\n",
      "Epoch 38/500\n",
      "198/198 [==============================] - 3s 13ms/step - loss: 0.0569 - accuracy: 0.9998 - val_loss: 1.3624 - val_accuracy: 0.7157\n",
      "Epoch 39/500\n",
      "198/198 [==============================] - 3s 13ms/step - loss: 0.0580 - accuracy: 0.9985 - val_loss: 1.3671 - val_accuracy: 0.7191\n",
      "Epoch 40/500\n",
      "198/198 [==============================] - 3s 13ms/step - loss: 0.0599 - accuracy: 0.9985 - val_loss: 1.3692 - val_accuracy: 0.7157\n",
      "Epoch 41/500\n",
      "198/198 [==============================] - 3s 13ms/step - loss: 0.0583 - accuracy: 0.9987 - val_loss: 1.3513 - val_accuracy: 0.7191\n",
      "Epoch 42/500\n",
      "198/198 [==============================] - 3s 13ms/step - loss: 0.0574 - accuracy: 0.9995 - val_loss: 1.3570 - val_accuracy: 0.7191\n",
      "Epoch 43/500\n",
      "198/198 [==============================] - 3s 13ms/step - loss: 0.0564 - accuracy: 1.0000 - val_loss: 1.3582 - val_accuracy: 0.7157\n",
      "Epoch 44/500\n",
      "198/198 [==============================] - 3s 13ms/step - loss: 0.0564 - accuracy: 0.9999 - val_loss: 1.3656 - val_accuracy: 0.7157\n",
      "Epoch 45/500\n",
      "198/198 [==============================] - 3s 13ms/step - loss: 0.0577 - accuracy: 0.9993 - val_loss: 1.3524 - val_accuracy: 0.7191\n",
      "Epoch 46/500\n",
      "198/198 [==============================] - 3s 13ms/step - loss: 0.0579 - accuracy: 0.9989 - val_loss: 1.3524 - val_accuracy: 0.7224\n",
      "Epoch 47/500\n",
      "198/198 [==============================] - 2s 13ms/step - loss: 0.0559 - accuracy: 0.9998 - val_loss: 1.3604 - val_accuracy: 0.7191\n",
      "Epoch 48/500\n",
      "198/198 [==============================] - 2s 13ms/step - loss: 0.0562 - accuracy: 0.9989 - val_loss: 1.3659 - val_accuracy: 0.7191\n",
      "Epoch 00048: early stopping\n"
     ]
    }
   ],
   "source": [
    "history = model.fit(X_train, y_train, batch_size=16, epochs=500, validation_data=(X_val, y_val),\n",
    "           callbacks=[reduce_lr, early_stop, model_checkpoint], class_weight = class_weights)"
   ]
  },
  {
   "cell_type": "markdown",
   "id": "4951cd7a-cea6-47f6-8db6-731cb123f555",
   "metadata": {},
   "source": [
    "### Plot Training Graphs"
   ]
  },
  {
   "cell_type": "code",
   "execution_count": 138,
   "id": "cc31d525-730f-4430-9bbc-c74b4d8a56af",
   "metadata": {},
   "outputs": [
    {
     "data": {
      "image/png": "[encoded data removed]",
      "text/plain": [
       "<Figure size 432x288 with 1 Axes>"
      ]
     },
     "metadata": {},
     "output_type": "display_data"
    }
   ],
   "source": [
    "plt.plot(history.history['loss'])\n",
    "plt.plot(history.history['val_loss'])\n",
    "plt.title('model loss')\n",
    "plt.ylabel('loss')\n",
    "plt.xlabel('epoch')\n",
    "plt.legend(['train', 'val'], loc='upper left')\n",
    "plt.show()"
   ]
  },
  {
   "cell_type": "code",
   "execution_count": 139,
   "id": "3f513e2e-6c9a-4daa-9b3b-a0ea477d5fe4",
   "metadata": {},
   "outputs": [
    {
     "data": {
      "image/png": "[encoded data removed]",
      "text/plain": [
       "<Figure size 432x288 with 1 Axes>"
      ]
     },
     "metadata": {},
     "output_type": "display_data"
    }
   ],
   "source": [
    "plt.plot(history.history['accuracy'])\n",
    "plt.plot(history.history['val_accuracy'])\n",
    "plt.title('model accuracy')\n",
    "plt.ylabel('acc')\n",
    "plt.xlabel('epoch')\n",
    "plt.legend(['train', 'val'], loc='upper left')\n",
    "plt.show()"
   ]
  },
  {
   "cell_type": "markdown",
   "id": "9d83e7cb-a69c-4632-b663-a2468da5ef78",
   "metadata": {},
   "source": [
    "### Save Model"
   ]
  },
  {
   "cell_type": "code",
   "execution_count": 140,
   "id": "bbca227f-7ca7-42f1-8be8-7728fd07b963",
   "metadata": {},
   "outputs": [
    {
     "name": "stdout",
     "output_type": "stream",
     "text": [
      "INFO:tensorflow:Assets written to: /home/helemanc/Desktop/Binary_Model/models/binary_model_shuffle/assets\n"
     ]
    }
   ],
   "source": [
    "model.save(\"/home/helemanc/Desktop/Binary_Model/models/binary_model_shuffle\")"
   ]
  },
  {
   "cell_type": "markdown",
   "id": "a9abc46b-d9b8-465a-8e3f-ba13c10609b1",
   "metadata": {},
   "source": [
    "### Evaluate Model"
   ]
  },
  {
   "cell_type": "code",
   "execution_count": 141,
   "id": "7b231e54-d0e0-4b0c-97a8-58b0932781e9",
   "metadata": {},
   "outputs": [],
   "source": [
    "model_loaded = tf.keras.models.load_model(\"/home/helemanc/Desktop/Binary_Model/models/binary_model_shuffle\")"
   ]
  },
  {
   "cell_type": "code",
   "execution_count": 142,
   "id": "bc70d15e-9841-435e-a0c3-644889266e23",
   "metadata": {},
   "outputs": [
    {
     "name": "stdout",
     "output_type": "stream",
     "text": [
      "107/107 [==============================] - 1s 4ms/step - loss: 1.6039 - accuracy: 0.6388\n"
     ]
    },
    {
     "data": {
      "text/plain": [
       "[1.6038637161254883, 0.6388235092163086]"
      ]
     },
     "execution_count": 142,
     "metadata": {},
     "output_type": "execute_result"
    }
   ],
   "source": [
    "model_loaded.evaluate(X_test, y_test, batch_size=16)"
   ]
  },
  {
   "cell_type": "code",
   "execution_count": 143,
   "id": "bb169140-d4db-4b10-bb83-0782ae8187a8",
   "metadata": {
    "tags": []
   },
   "outputs": [
    {
     "name": "stdout",
     "output_type": "stream",
     "text": [
      "              precision    recall  f1-score   support\n",
      "\n",
      "           0       0.56      0.71      0.63       728\n",
      "           1       0.73      0.59      0.65       972\n",
      "\n",
      "    accuracy                           0.64      1700\n",
      "   macro avg       0.65      0.65      0.64      1700\n",
      "weighted avg       0.66      0.64      0.64      1700\n",
      "\n"
     ]
    }
   ],
   "source": [
    "from sklearn.metrics import classification_report\n",
    "predictions = model_loaded.predict(X_test)\n",
    "pred = [1 * (x[0]>=0.50) for x in predictions] #0.5 o 0.52? \n",
    "print(classification_report(y_test, pred))"
   ]
  },
  {
   "cell_type": "markdown",
   "id": "6bd0d9e6-de51-440a-8486-affdedf50d43",
   "metadata": {
    "tags": []
   },
   "source": [
    "## Without Augmentation - CrossValidation"
   ]
  },
  {
   "cell_type": "markdown",
   "id": "f6ff6bff-24a6-4afd-9b26-a69b39f4c158",
   "metadata": {},
   "source": [
    "### Load Data"
   ]
  },
  {
   "cell_type": "code",
   "execution_count": 125,
   "id": "ea8b6039-5c52-42a5-935f-bcf020ad6fd1",
   "metadata": {},
   "outputs": [],
   "source": [
    "X_train = pickle.load(open( \"/home/helemanc/Desktop/Binary_Model/data_model/X_train.pkl\", 'rb'))\n",
    "X_val = pickle.load(open( \"/home/helemanc/Desktop/Binary_Model/data_model/X_val.pkl\", 'rb'))\n",
    "X_test = pickle.load(open( \"/home/helemanc/Desktop/Binary_Model/data_model/X_test.pkl\", 'rb'))\n",
    "y_train = pickle.load(open( \"/home/helemanc/Desktop/Binary_Model/data_model/y_train.pkl\", 'rb'))\n",
    "y_val = pickle.load(open( \"/home/helemanc/Desktop/Binary_Model/data_model/y_val.pkl\", 'rb'))\n",
    "y_test =  pickle.load(open( \"/home/helemanc/Desktop/Binary_Model/data_model/y_test.pkl\", 'rb'))"
   ]
  },
  {
   "cell_type": "code",
   "execution_count": 126,
   "id": "910bfda1-7d03-49b4-abad-14bf0b9ff5f2",
   "metadata": {},
   "outputs": [],
   "source": [
    "#weight_path = \"/home/helemanc/Desktop/Binary_Model/weights/binary_model.hdf5\"\n",
    "\n",
    "reduce_lr = tf.keras.callbacks.ReduceLROnPlateau(monitor='val_accuracy', \n",
    "                                                 factor=0.5, patience=4, \n",
    "                                                 verbose=1, mode='max', \n",
    "                                                 min_lr=0.00001)\n",
    "\n",
    "early_stop = tf.keras.callbacks.EarlyStopping(monitor='val_loss', patience=45, \n",
    "                                              verbose=1)\n",
    "\n",
    "#model_checkpoint = tf.keras.callbacks.ModelCheckpoint(filepath=weight_path, \n",
    "#                                                      save_weights_only=True, \n",
    "#                                                      monitor='val_accuracy', \n",
    "#                                                      mode='max', \n",
    "#                                                      save_best_only=True)\n",
    "# classweight \n",
    "from sklearn.utils import class_weight\n",
    "class_weights = class_weight.compute_class_weight('balanced', np.unique(y_train), y_train)\n",
    "class_weights = {l:c for l,c in zip(np.unique(y_train), class_weights)}\n"
   ]
  },
  {
   "cell_type": "code",
   "execution_count": 127,
   "id": "8cf2ab80-7eeb-4075-8354-21a55997900f",
   "metadata": {},
   "outputs": [],
   "source": [
    "def create_model(): \n",
    "    model = Sequential()\n",
    "\n",
    "    model.add(layers.Conv1D(256, 5,padding='same',\n",
    "                     input_shape=(248,40), kernel_regularizer=regularizers.l2(0.001)))\n",
    "    model.add(layers.Activation('relu'))\n",
    "    model.add(layers.MaxPooling1D(pool_size=(8)))\n",
    "    model.add(layers.Dropout(0.2))\n",
    "\n",
    "    model.add(layers.Conv1D(128, 5,padding='same', kernel_regularizer=regularizers.l2(0.001)))\n",
    "    model.add(layers.Activation('relu'))\n",
    "    model.add(layers.MaxPooling1D(pool_size=(4)))\n",
    "    model.add(layers.Dropout(0.1))\n",
    "\n",
    "    model.add(layers.Flatten())\n",
    "    model.add(layers.Dense(64))\n",
    "    model.add(layers.Dense(1))\n",
    "    model.add(layers.Activation('sigmoid'))\n",
    "    model.compile(loss='binary_crossentropy', optimizer='adam', metrics='accuracy')\n",
    "\n",
    "    model.summary()\n",
    "    return model"
   ]
  },
  {
   "cell_type": "markdown",
   "id": "780ebb6b-2414-41ee-9d7b-8e2275933d97",
   "metadata": {},
   "source": [
    "### Train"
   ]
  },
  {
   "cell_type": "code",
   "execution_count": 128,
   "id": "2bc95f83-e0d6-41ff-93df-c77d7dfb9a5a",
   "metadata": {},
   "outputs": [],
   "source": [
    "from tensorflow.keras.wrappers.scikit_learn import KerasRegressor\n",
    "from sklearn.model_selection import RepeatedKFold, cross_val_score"
   ]
  },
  {
   "cell_type": "code",
   "execution_count": 129,
   "id": "e1308fe3-3250-459b-9bce-b001e2e0c5f0",
   "metadata": {},
   "outputs": [
    {
     "name": "stdout",
     "output_type": "stream",
     "text": [
      "Model: \"sequential_3\"\n",
      "_________________________________________________________________\n",
      "Layer (type)                 Output Shape              Param #   \n",
      "=================================================================\n",
      "conv1d_6 (Conv1D)            (None, 248, 256)          51456     \n",
      "_________________________________________________________________\n",
      "activation_9 (Activation)    (None, 248, 256)          0         \n",
      "_________________________________________________________________\n",
      "max_pooling1d_6 (MaxPooling1 (None, 31, 256)           0         \n",
      "_________________________________________________________________\n",
      "dropout_6 (Dropout)          (None, 31, 256)           0         \n",
      "_________________________________________________________________\n",
      "conv1d_7 (Conv1D)            (None, 31, 128)           163968    \n",
      "_________________________________________________________________\n",
      "activation_10 (Activation)   (None, 31, 128)           0         \n",
      "_________________________________________________________________\n",
      "max_pooling1d_7 (MaxPooling1 (None, 7, 128)            0         \n",
      "_________________________________________________________________\n",
      "dropout_7 (Dropout)          (None, 7, 128)            0         \n",
      "_________________________________________________________________\n",
      "flatten_3 (Flatten)          (None, 896)               0         \n",
      "_________________________________________________________________\n",
      "dense_6 (Dense)              (None, 64)                57408     \n",
      "_________________________________________________________________\n",
      "dense_7 (Dense)              (None, 1)                 65        \n",
      "_________________________________________________________________\n",
      "activation_11 (Activation)   (None, 1)                 0         \n",
      "=================================================================\n",
      "Total params: 272,897\n",
      "Trainable params: 272,897\n",
      "Non-trainable params: 0\n",
      "_________________________________________________________________\n"
     ]
    }
   ],
   "source": [
    "estimator= KerasRegressor(build_fn= create_model(), epochs=500, batch_size=16, verbose=0)"
   ]
  },
  {
   "cell_type": "code",
   "execution_count": 130,
   "id": "7cf63f53-52d3-4551-b840-d11478f471e2",
   "metadata": {},
   "outputs": [],
   "source": [
    "kfold= RepeatedKFold(n_splits=5, n_repeats=100)"
   ]
  },
  {
   "cell_type": "code",
   "execution_count": 132,
   "id": "8473afed-ec82-46de-acbf-4801de880a79",
   "metadata": {},
   "outputs": [
    {
     "data": {
      "text/plain": [
       "nan"
      ]
     },
     "execution_count": 132,
     "metadata": {},
     "output_type": "execute_result"
    }
   ],
   "source": [
    "results= cross_val_score(estimator, X_train, y_train, cv=kfold, n_jobs=1)  # 2 cpus\n",
    "results.mean()  "
   ]
  },
  {
   "cell_type": "code",
   "execution_count": 84,
   "id": "e7b71eef-f059-4f00-b630-583238e82d8c",
   "metadata": {},
   "outputs": [
    {
     "name": "stdout",
     "output_type": "stream",
     "text": [
      "Epoch 1/500\n",
      "198/198 [==============================] - 4s 17ms/step - loss: 0.9021 - accuracy: 0.7001 - val_loss: 0.9011 - val_accuracy: 0.5953\n",
      "Epoch 2/500\n",
      "198/198 [==============================] - 3s 16ms/step - loss: 0.5497 - accuracy: 0.8037 - val_loss: 0.9081 - val_accuracy: 0.5953\n",
      "Epoch 3/500\n",
      "198/198 [==============================] - 3s 16ms/step - loss: 0.5036 - accuracy: 0.8207 - val_loss: 0.9483 - val_accuracy: 0.5853\n",
      "Epoch 4/500\n",
      "198/198 [==============================] - 3s 16ms/step - loss: 0.4481 - accuracy: 0.8505 - val_loss: 0.9705 - val_accuracy: 0.5886\n",
      "Epoch 5/500\n",
      "198/198 [==============================] - 3s 16ms/step - loss: 0.3875 - accuracy: 0.8738 - val_loss: 0.8131 - val_accuracy: 0.6355\n",
      "Epoch 6/500\n",
      "198/198 [==============================] - 3s 16ms/step - loss: 0.3635 - accuracy: 0.8873 - val_loss: 0.9322 - val_accuracy: 0.6054\n",
      "Epoch 7/500\n",
      "198/198 [==============================] - 3s 16ms/step - loss: 0.3634 - accuracy: 0.8829 - val_loss: 0.8649 - val_accuracy: 0.6187\n",
      "Epoch 8/500\n",
      "198/198 [==============================] - 3s 16ms/step - loss: 0.3383 - accuracy: 0.9007 - val_loss: 0.8614 - val_accuracy: 0.6455\n",
      "Epoch 9/500\n",
      "198/198 [==============================] - 3s 17ms/step - loss: 0.3179 - accuracy: 0.9108 - val_loss: 0.7559 - val_accuracy: 0.6421\n",
      "Epoch 10/500\n",
      "198/198 [==============================] - 3s 17ms/step - loss: 0.2921 - accuracy: 0.9262 - val_loss: 0.6609 - val_accuracy: 0.7391\n",
      "Epoch 11/500\n",
      "198/198 [==============================] - 3s 16ms/step - loss: 0.2496 - accuracy: 0.9463 - val_loss: 0.7203 - val_accuracy: 0.7525\n",
      "Epoch 12/500\n",
      "198/198 [==============================] - 3s 16ms/step - loss: 0.2925 - accuracy: 0.9261 - val_loss: 0.6877 - val_accuracy: 0.7258\n",
      "Epoch 13/500\n",
      "198/198 [==============================] - 3s 16ms/step - loss: 0.2528 - accuracy: 0.9410 - val_loss: 0.7634 - val_accuracy: 0.7592\n",
      "Epoch 14/500\n",
      "198/198 [==============================] - 3s 16ms/step - loss: 0.2771 - accuracy: 0.9445 - val_loss: 0.7232 - val_accuracy: 0.7425\n",
      "Epoch 15/500\n",
      "198/198 [==============================] - 3s 16ms/step - loss: 0.2520 - accuracy: 0.9499 - val_loss: 0.9572 - val_accuracy: 0.7258\n",
      "Epoch 16/500\n",
      "198/198 [==============================] - 3s 16ms/step - loss: 0.2464 - accuracy: 0.9546 - val_loss: 0.7505 - val_accuracy: 0.7492\n",
      "Epoch 17/500\n",
      "198/198 [==============================] - 3s 16ms/step - loss: 0.2360 - accuracy: 0.9542 - val_loss: 0.8286 - val_accuracy: 0.7124\n",
      "\n",
      "Epoch 00017: ReduceLROnPlateau reducing learning rate to 0.0005000000237487257.\n",
      "Epoch 18/500\n",
      "198/198 [==============================] - 3s 17ms/step - loss: 0.2320 - accuracy: 0.9627 - val_loss: 0.8810 - val_accuracy: 0.7324\n",
      "Epoch 19/500\n",
      "198/198 [==============================] - 4s 18ms/step - loss: 0.1663 - accuracy: 0.9879 - val_loss: 0.9477 - val_accuracy: 0.7759\n",
      "Epoch 20/500\n",
      "198/198 [==============================] - 3s 16ms/step - loss: 0.1596 - accuracy: 0.9870 - val_loss: 1.0123 - val_accuracy: 0.7358\n",
      "Epoch 21/500\n",
      "198/198 [==============================] - 3s 17ms/step - loss: 0.1593 - accuracy: 0.9834 - val_loss: 0.9794 - val_accuracy: 0.7458\n",
      "Epoch 22/500\n",
      "198/198 [==============================] - 3s 16ms/step - loss: 0.1673 - accuracy: 0.9845 - val_loss: 1.0294 - val_accuracy: 0.7291\n",
      "Epoch 23/500\n",
      "198/198 [==============================] - 3s 16ms/step - loss: 0.1542 - accuracy: 0.9846 - val_loss: 1.0939 - val_accuracy: 0.7492\n",
      "\n",
      "Epoch 00023: ReduceLROnPlateau reducing learning rate to 0.0002500000118743628.\n",
      "Epoch 24/500\n",
      "198/198 [==============================] - 3s 16ms/step - loss: 0.1444 - accuracy: 0.9881 - val_loss: 0.9375 - val_accuracy: 0.7525\n",
      "Epoch 25/500\n",
      "198/198 [==============================] - 3s 16ms/step - loss: 0.1268 - accuracy: 0.9947 - val_loss: 1.0956 - val_accuracy: 0.7492\n",
      "Epoch 26/500\n",
      "198/198 [==============================] - 3s 15ms/step - loss: 0.1238 - accuracy: 0.9973 - val_loss: 1.0185 - val_accuracy: 0.7659\n",
      "Epoch 27/500\n",
      "198/198 [==============================] - 3s 16ms/step - loss: 0.1286 - accuracy: 0.9936 - val_loss: 0.9888 - val_accuracy: 0.7458\n",
      "\n",
      "Epoch 00027: ReduceLROnPlateau reducing learning rate to 0.0001250000059371814.\n",
      "Epoch 28/500\n",
      "198/198 [==============================] - 3s 16ms/step - loss: 0.1191 - accuracy: 0.9950 - val_loss: 1.0625 - val_accuracy: 0.7625\n",
      "Epoch 29/500\n",
      "198/198 [==============================] - 3s 17ms/step - loss: 0.1132 - accuracy: 0.9990 - val_loss: 1.0410 - val_accuracy: 0.7692\n",
      "Epoch 30/500\n",
      "198/198 [==============================] - 3s 16ms/step - loss: 0.1234 - accuracy: 0.9945 - val_loss: 1.0726 - val_accuracy: 0.7625\n",
      "Epoch 31/500\n",
      "198/198 [==============================] - 3s 17ms/step - loss: 0.1108 - accuracy: 0.9990 - val_loss: 1.0523 - val_accuracy: 0.7659\n",
      "\n",
      "Epoch 00031: ReduceLROnPlateau reducing learning rate to 6.25000029685907e-05.\n",
      "Epoch 32/500\n",
      "198/198 [==============================] - 3s 16ms/step - loss: 0.1097 - accuracy: 0.9983 - val_loss: 1.0864 - val_accuracy: 0.7759\n",
      "Epoch 33/500\n",
      "198/198 [==============================] - 3s 16ms/step - loss: 0.1102 - accuracy: 0.9967 - val_loss: 1.0822 - val_accuracy: 0.7659\n",
      "Epoch 34/500\n",
      "198/198 [==============================] - 3s 16ms/step - loss: 0.1039 - accuracy: 0.9983 - val_loss: 1.1089 - val_accuracy: 0.7692\n",
      "Epoch 35/500\n",
      "198/198 [==============================] - 3s 17ms/step - loss: 0.1039 - accuracy: 0.9985 - val_loss: 1.1206 - val_accuracy: 0.7726\n",
      "\n",
      "Epoch 00035: ReduceLROnPlateau reducing learning rate to 3.125000148429535e-05.\n",
      "Epoch 36/500\n",
      "198/198 [==============================] - 3s 16ms/step - loss: 0.1026 - accuracy: 0.9975 - val_loss: 1.1057 - val_accuracy: 0.7793\n",
      "Epoch 37/500\n",
      "198/198 [==============================] - 3s 16ms/step - loss: 0.1029 - accuracy: 0.9970 - val_loss: 1.0560 - val_accuracy: 0.7759\n",
      "Epoch 38/500\n",
      "198/198 [==============================] - 3s 16ms/step - loss: 0.1016 - accuracy: 0.9988 - val_loss: 1.0835 - val_accuracy: 0.7759\n",
      "Epoch 39/500\n",
      "198/198 [==============================] - 3s 16ms/step - loss: 0.1024 - accuracy: 0.9976 - val_loss: 1.0995 - val_accuracy: 0.7860\n",
      "Epoch 40/500\n",
      "198/198 [==============================] - 3s 16ms/step - loss: 0.1012 - accuracy: 0.9984 - val_loss: 1.1233 - val_accuracy: 0.7726\n",
      "Epoch 41/500\n",
      "198/198 [==============================] - 3s 16ms/step - loss: 0.0994 - accuracy: 0.9980 - val_loss: 1.0748 - val_accuracy: 0.7793\n",
      "Epoch 42/500\n",
      "198/198 [==============================] - 3s 16ms/step - loss: 0.1032 - accuracy: 0.9950 - val_loss: 1.0338 - val_accuracy: 0.7793\n",
      "Epoch 43/500\n",
      "198/198 [==============================] - 3s 15ms/step - loss: 0.0996 - accuracy: 0.9980 - val_loss: 1.0275 - val_accuracy: 0.7726\n",
      "\n",
      "Epoch 00043: ReduceLROnPlateau reducing learning rate to 1.5625000742147677e-05.\n",
      "Epoch 44/500\n",
      "198/198 [==============================] - 3s 17ms/step - loss: 0.1000 - accuracy: 0.9980 - val_loss: 1.0394 - val_accuracy: 0.7726\n",
      "Epoch 45/500\n",
      "198/198 [==============================] - 4s 18ms/step - loss: 0.0967 - accuracy: 0.9990 - val_loss: 1.0439 - val_accuracy: 0.7692\n",
      "Epoch 46/500\n",
      "198/198 [==============================] - 4s 18ms/step - loss: 0.0951 - accuracy: 0.9992 - val_loss: 1.0552 - val_accuracy: 0.7659\n",
      "Epoch 47/500\n",
      "198/198 [==============================] - 4s 18ms/step - loss: 0.0937 - accuracy: 0.9997 - val_loss: 1.0579 - val_accuracy: 0.7625\n",
      "\n",
      "Epoch 00047: ReduceLROnPlateau reducing learning rate to 1e-05.\n",
      "Epoch 48/500\n",
      "198/198 [==============================] - 3s 18ms/step - loss: 0.0938 - accuracy: 1.0000 - val_loss: 1.0678 - val_accuracy: 0.7726\n",
      "Epoch 49/500\n",
      "198/198 [==============================] - 3s 18ms/step - loss: 0.0972 - accuracy: 0.9971 - val_loss: 1.0460 - val_accuracy: 0.7625\n",
      "Epoch 50/500\n",
      "198/198 [==============================] - 3s 17ms/step - loss: 0.0946 - accuracy: 0.9996 - val_loss: 1.0537 - val_accuracy: 0.7625\n",
      "Epoch 51/500\n",
      "198/198 [==============================] - 3s 18ms/step - loss: 0.0951 - accuracy: 0.9997 - val_loss: 1.0517 - val_accuracy: 0.7625\n",
      "Epoch 52/500\n",
      "198/198 [==============================] - 3s 17ms/step - loss: 0.0970 - accuracy: 0.9976 - val_loss: 1.0702 - val_accuracy: 0.7625\n",
      "Epoch 53/500\n",
      "198/198 [==============================] - 3s 17ms/step - loss: 0.0956 - accuracy: 0.9974 - val_loss: 1.0742 - val_accuracy: 0.7625\n",
      "Epoch 54/500\n",
      "198/198 [==============================] - 3s 17ms/step - loss: 0.0977 - accuracy: 0.9966 - val_loss: 1.0757 - val_accuracy: 0.7625\n",
      "Epoch 55/500\n",
      "198/198 [==============================] - 4s 19ms/step - loss: 0.0968 - accuracy: 0.9975 - val_loss: 1.0681 - val_accuracy: 0.7625\n",
      "Epoch 00055: early stopping\n"
     ]
    }
   ],
   "source": [
    "history = model.fit(X_train, y_train, batch_size=16, epochs=500, validation_data=(X_val, y_val),\n",
    "           callbacks=[reduce_lr, early_stop], class_weight = class_weights)"
   ]
  },
  {
   "cell_type": "markdown",
   "id": "0b6b9696-868d-4abc-83b0-6842d16efb3b",
   "metadata": {},
   "source": [
    "### Plot Training Graphs"
   ]
  },
  {
   "cell_type": "code",
   "execution_count": 86,
   "id": "c196b606-406c-4cda-b636-8ccae2661556",
   "metadata": {},
   "outputs": [
    {
     "data": {
      "image/png": "[encoded data removed]",
      "text/plain": [
       "<Figure size 432x288 with 1 Axes>"
      ]
     },
     "metadata": {},
     "output_type": "display_data"
    }
   ],
   "source": [
    "plt.plot(history.history['loss'])\n",
    "plt.plot(history.history['val_loss'])\n",
    "plt.title('model loss')\n",
    "plt.ylabel('loss')\n",
    "plt.xlabel('epoch')\n",
    "plt.legend(['train', 'val'], loc='upper left')\n",
    "plt.show()"
   ]
  },
  {
   "cell_type": "code",
   "execution_count": 92,
   "id": "8fa274c1-1141-4fc0-a838-8d728f8195dd",
   "metadata": {},
   "outputs": [
    {
     "data": {
      "image/png": "[encoded data removed]",
      "text/plain": [
       "<Figure size 432x288 with 1 Axes>"
      ]
     },
     "metadata": {},
     "output_type": "display_data"
    }
   ],
   "source": [
    "plt.plot(history.history['accuracy'])\n",
    "plt.plot(history.history['val_accuracy'])\n",
    "plt.title('model accuracy')\n",
    "plt.ylabel('acc')\n",
    "plt.xlabel('epoch')\n",
    "plt.legend(['train', 'val'], loc='upper left')\n",
    "plt.show()"
   ]
  },
  {
   "cell_type": "markdown",
   "id": "b0998db4-6f0e-4f2a-822b-dbd3552d17b1",
   "metadata": {},
   "source": [
    "### Save Model"
   ]
  },
  {
   "cell_type": "code",
   "execution_count": 87,
   "id": "6496241b-54b2-4708-a606-f2b57b99692e",
   "metadata": {},
   "outputs": [
    {
     "name": "stderr",
     "output_type": "stream",
     "text": [
      "2021-08-23 11:45:07.689142: W tensorflow/python/util/util.cc:348] Sets are not currently considered sequences, but this may change in the future, so consider avoiding using them.\n"
     ]
    },
    {
     "name": "stdout",
     "output_type": "stream",
     "text": [
      "INFO:tensorflow:Assets written to: /home/helemanc/Desktop/Binary_Model/models/binary_model/assets\n"
     ]
    }
   ],
   "source": [
    "model.save(\"/home/helemanc/Desktop/Binary_Model/models/binary_model\")"
   ]
  },
  {
   "cell_type": "markdown",
   "id": "3be3375f-734e-453e-a308-74142fea1a72",
   "metadata": {},
   "source": [
    "### Evaluate Model"
   ]
  },
  {
   "cell_type": "code",
   "execution_count": 88,
   "id": "2e6b3ccf-bbd4-4c90-8840-97a8e6d0b23e",
   "metadata": {},
   "outputs": [],
   "source": [
    "model_loaded = tf.keras.models.load_model(\"/home/helemanc/Desktop/Binary_Model/models/binary_model\")"
   ]
  },
  {
   "cell_type": "code",
   "execution_count": 89,
   "id": "eac9df71-736b-400c-ae6b-3effbd5f7283",
   "metadata": {},
   "outputs": [
    {
     "name": "stdout",
     "output_type": "stream",
     "text": [
      "107/107 [==============================] - 1s 5ms/step - loss: 1.7341 - accuracy: 0.5888\n"
     ]
    },
    {
     "data": {
      "text/plain": [
       "[1.7340623140335083, 0.5888235569000244]"
      ]
     },
     "execution_count": 89,
     "metadata": {},
     "output_type": "execute_result"
    }
   ],
   "source": [
    "model_loaded.evaluate(X_test, y_test, batch_size=16)"
   ]
  },
  {
   "cell_type": "code",
   "execution_count": 90,
   "id": "924f740c-77b5-483b-8787-02c489c61f22",
   "metadata": {
    "collapsed": true,
    "jupyter": {
     "outputs_hidden": true
    },
    "tags": []
   },
   "outputs": [
    {
     "name": "stdout",
     "output_type": "stream",
     "text": [
      "              precision    recall  f1-score   support\n",
      "\n",
      "           0       0.52      0.65      0.58       728\n",
      "           1       0.67      0.54      0.60       972\n",
      "\n",
      "    accuracy                           0.59      1700\n",
      "   macro avg       0.60      0.60      0.59      1700\n",
      "weighted avg       0.61      0.59      0.59      1700\n",
      "\n"
     ]
    }
   ],
   "source": [
    "from sklearn.metrics import classification_report\n",
    "predictions = model_loaded.predict(X_test)\n",
    "pred = [1 * (x[0]>=0.50) for x in predictions] #0.5 o 0.52? \n",
    "print(classification_report(y_test, pred))"
   ]
  },
  {
   "cell_type": "markdown",
   "id": "8f5aa2ac-2a52-4120-bd58-731c5e7a756c",
   "metadata": {
    "tags": []
   },
   "source": [
    "## With Augmentation"
   ]
  },
  {
   "cell_type": "markdown",
   "id": "b4fadb28-328b-4199-88ae-7256d7d25807",
   "metadata": {
    "tags": []
   },
   "source": [
    "### Load Data"
   ]
  },
  {
   "cell_type": "code",
   "execution_count": 114,
   "id": "dd9161df-89d2-4844-a0a4-8cdcbc254ea0",
   "metadata": {},
   "outputs": [],
   "source": [
    "X_train_aug = pickle.load(open( \"/home/helemanc/Desktop/Binary_Model/data_model_augmented/X_train_aug.pkl\", 'rb'))\n",
    "X_val = pickle.load(open( \"/home/helemanc/Desktop/Binary_Model/data_model_augmented/X_val.pkl\", 'rb'))\n",
    "X_test = pickle.load(open( \"/home/helemanc/Desktop/Binary_Model/data_model_augmented/X_test.pkl\", 'rb'))\n",
    "y_train_aug = pickle.load(open( \"/home/helemanc/Desktop/Binary_Model/data_model_augmented/y_train_aug.pkl\", 'rb'))\n",
    "y_val = pickle.load(open( \"/home/helemanc/Desktop/Binary_Model/data_model_augmented/y_val.pkl\", 'rb'))\n",
    "y_test =  pickle.load(open( \"/home/helemanc/Desktop/Binary_Model/data_model_augmented/y_test.pkl\", 'rb'))"
   ]
  },
  {
   "cell_type": "code",
   "execution_count": 115,
   "id": "9cab6c34-5b6a-43ee-81b6-518342d42d02",
   "metadata": {},
   "outputs": [
    {
     "name": "stdout",
     "output_type": "stream",
     "text": [
      "[[   0 1144]\n",
      " [   1 2014]]\n"
     ]
    }
   ],
   "source": [
    "(unique, counts) = np.unique(y_train, return_counts=True)\n",
    "frequencies = np.asarray((unique, counts)).T\n",
    "print(frequencies)"
   ]
  },
  {
   "cell_type": "code",
   "execution_count": 116,
   "id": "877184ad-c8f0-4879-9509-9d6dc251955a",
   "metadata": {},
   "outputs": [],
   "source": [
    "weight_path = \"/home/helemanc/Desktop/Binary_Model/weights/binary_model_augmented.hdf5\"\n",
    "\n",
    "reduce_lr = tf.keras.callbacks.ReduceLROnPlateau(monitor='val_accuracy', \n",
    "                                                 factor=0.5, patience=4, \n",
    "                                                 verbose=1, mode='max', \n",
    "                                                 min_lr=0.00001)\n",
    "\n",
    "early_stop = tf.keras.callbacks.EarlyStopping(monitor='val_loss', patience=45, \n",
    "                                              verbose=1)\n",
    "\n",
    "model_checkpoint = tf.keras.callbacks.ModelCheckpoint(filepath=weight_path, \n",
    "                                                      save_weights_only=True, \n",
    "                                                      monitor='val_accuracy', \n",
    "                                                      mode='max', \n",
    "                                                      save_best_only=True)\n",
    "# classweight \n",
    "from sklearn.utils import class_weight\n",
    "class_weights = class_weight.compute_class_weight('balanced', np.unique(y_train_aug), y_train_aug)\n",
    "class_weights = {l:c for l,c in zip(np.unique(y_train_aug), class_weights)}\n"
   ]
  },
  {
   "cell_type": "code",
   "execution_count": 117,
   "id": "a2a1185c-3315-41c8-b569-830d9be47396",
   "metadata": {},
   "outputs": [],
   "source": [
    "model.compile(loss='binary_crossentropy', optimizer='adam', metrics='accuracy')"
   ]
  },
  {
   "cell_type": "markdown",
   "id": "1c3c00c8-ac22-4273-9002-7091b3f4685b",
   "metadata": {},
   "source": [
    "### Train"
   ]
  },
  {
   "cell_type": "code",
   "execution_count": 118,
   "id": "0b317521-54a1-4cc3-a763-0f1e3c86c50a",
   "metadata": {},
   "outputs": [
    {
     "name": "stdout",
     "output_type": "stream",
     "text": [
      "Epoch 1/500\n",
      "987/987 [==============================] - 15s 15ms/step - loss: 0.1497 - accuracy: 0.9660 - val_loss: 0.9984 - val_accuracy: 0.7090\n",
      "Epoch 2/500\n",
      "987/987 [==============================] - 14s 15ms/step - loss: 0.1421 - accuracy: 0.9711 - val_loss: 0.9997 - val_accuracy: 0.7224\n",
      "Epoch 3/500\n",
      "987/987 [==============================] - 14s 14ms/step - loss: 0.1576 - accuracy: 0.9684 - val_loss: 1.0661 - val_accuracy: 0.7157\n",
      "Epoch 4/500\n",
      "987/987 [==============================] - 12s 12ms/step - loss: 0.1722 - accuracy: 0.9675 - val_loss: 0.7942 - val_accuracy: 0.7726\n",
      "Epoch 5/500\n",
      "987/987 [==============================] - 14s 14ms/step - loss: 0.1705 - accuracy: 0.9713 - val_loss: 0.9018 - val_accuracy: 0.7525\n",
      "Epoch 6/500\n",
      "987/987 [==============================] - 15s 15ms/step - loss: 0.1794 - accuracy: 0.9692 - val_loss: 0.9474 - val_accuracy: 0.7492\n",
      "Epoch 7/500\n",
      "987/987 [==============================] - 16s 16ms/step - loss: 0.1753 - accuracy: 0.9745 - val_loss: 0.9878 - val_accuracy: 0.6957\n",
      "Epoch 8/500\n",
      "987/987 [==============================] - 17s 17ms/step - loss: 0.1790 - accuracy: 0.9701 - val_loss: 0.8293 - val_accuracy: 0.7258\n",
      "\n",
      "Epoch 00008: ReduceLROnPlateau reducing learning rate to 0.0005000000237487257.\n",
      "Epoch 9/500\n",
      "987/987 [==============================] - 16s 16ms/step - loss: 0.1611 - accuracy: 0.9782 - val_loss: 1.2436 - val_accuracy: 0.7324\n",
      "Epoch 10/500\n",
      "987/987 [==============================] - 14s 15ms/step - loss: 0.1421 - accuracy: 0.9851 - val_loss: 1.1627 - val_accuracy: 0.7157\n",
      "Epoch 11/500\n",
      "987/987 [==============================] - 13s 14ms/step - loss: 0.1313 - accuracy: 0.9855 - val_loss: 1.1679 - val_accuracy: 0.7726\n",
      "Epoch 12/500\n",
      "987/987 [==============================] - 14s 14ms/step - loss: 0.1345 - accuracy: 0.9834 - val_loss: 1.1791 - val_accuracy: 0.7224\n",
      "\n",
      "Epoch 00012: ReduceLROnPlateau reducing learning rate to 0.0002500000118743628.\n",
      "Epoch 13/500\n",
      "987/987 [==============================] - 14s 14ms/step - loss: 0.1143 - accuracy: 0.9909 - val_loss: 1.3511 - val_accuracy: 0.7057\n",
      "Epoch 14/500\n",
      "987/987 [==============================] - 15s 15ms/step - loss: 0.1052 - accuracy: 0.9916 - val_loss: 1.4392 - val_accuracy: 0.7191\n",
      "Epoch 15/500\n",
      "987/987 [==============================] - 15s 15ms/step - loss: 0.1005 - accuracy: 0.9923 - val_loss: 1.4371 - val_accuracy: 0.7124\n",
      "Epoch 16/500\n",
      "987/987 [==============================] - 14s 15ms/step - loss: 0.0908 - accuracy: 0.9936 - val_loss: 1.5332 - val_accuracy: 0.7191\n",
      "\n",
      "Epoch 00016: ReduceLROnPlateau reducing learning rate to 0.0001250000059371814.\n",
      "Epoch 17/500\n",
      "987/987 [==============================] - 15s 15ms/step - loss: 0.0850 - accuracy: 0.9950 - val_loss: 1.5079 - val_accuracy: 0.7224\n",
      "Epoch 18/500\n",
      "987/987 [==============================] - 15s 15ms/step - loss: 0.0821 - accuracy: 0.9954 - val_loss: 1.4398 - val_accuracy: 0.7425\n",
      "Epoch 19/500\n",
      "987/987 [==============================] - 15s 15ms/step - loss: 0.0791 - accuracy: 0.9956 - val_loss: 1.5493 - val_accuracy: 0.7425\n",
      "Epoch 20/500\n",
      "987/987 [==============================] - 15s 15ms/step - loss: 0.0809 - accuracy: 0.9958 - val_loss: 1.4489 - val_accuracy: 0.7425\n",
      "\n",
      "Epoch 00020: ReduceLROnPlateau reducing learning rate to 6.25000029685907e-05.\n",
      "Epoch 21/500\n",
      "987/987 [==============================] - 15s 15ms/step - loss: 0.0710 - accuracy: 0.9972 - val_loss: 1.4985 - val_accuracy: 0.7492\n",
      "Epoch 22/500\n",
      "987/987 [==============================] - 15s 15ms/step - loss: 0.0708 - accuracy: 0.9968 - val_loss: 1.6001 - val_accuracy: 0.7425\n",
      "Epoch 23/500\n",
      "987/987 [==============================] - 14s 14ms/step - loss: 0.0690 - accuracy: 0.9971 - val_loss: 1.5419 - val_accuracy: 0.7425\n",
      "Epoch 24/500\n",
      "987/987 [==============================] - 15s 15ms/step - loss: 0.0661 - accuracy: 0.9978 - val_loss: 1.5377 - val_accuracy: 0.7224\n",
      "\n",
      "Epoch 00024: ReduceLROnPlateau reducing learning rate to 3.125000148429535e-05.\n",
      "Epoch 25/500\n",
      "987/987 [==============================] - 14s 15ms/step - loss: 0.0660 - accuracy: 0.9971 - val_loss: 1.5460 - val_accuracy: 0.7391\n",
      "Epoch 26/500\n",
      "987/987 [==============================] - 14s 15ms/step - loss: 0.0630 - accuracy: 0.9986 - val_loss: 1.5411 - val_accuracy: 0.7559\n",
      "Epoch 27/500\n",
      "987/987 [==============================] - 15s 15ms/step - loss: 0.0626 - accuracy: 0.9983 - val_loss: 1.5202 - val_accuracy: 0.7559\n",
      "Epoch 28/500\n",
      "987/987 [==============================] - 14s 14ms/step - loss: 0.0647 - accuracy: 0.9968 - val_loss: 1.6306 - val_accuracy: 0.7592\n",
      "\n",
      "Epoch 00028: ReduceLROnPlateau reducing learning rate to 1.5625000742147677e-05.\n",
      "Epoch 29/500\n",
      "987/987 [==============================] - 14s 14ms/step - loss: 0.0613 - accuracy: 0.9984 - val_loss: 1.6597 - val_accuracy: 0.7525\n",
      "Epoch 30/500\n",
      "987/987 [==============================] - 14s 14ms/step - loss: 0.0624 - accuracy: 0.9966 - val_loss: 1.6454 - val_accuracy: 0.7425\n",
      "Epoch 31/500\n",
      "987/987 [==============================] - 14s 14ms/step - loss: 0.0607 - accuracy: 0.9980 - val_loss: 1.6760 - val_accuracy: 0.7525\n",
      "Epoch 32/500\n",
      "987/987 [==============================] - 14s 15ms/step - loss: 0.0593 - accuracy: 0.9981 - val_loss: 1.6950 - val_accuracy: 0.7358\n",
      "\n",
      "Epoch 00032: ReduceLROnPlateau reducing learning rate to 1e-05.\n",
      "Epoch 33/500\n",
      "987/987 [==============================] - 15s 15ms/step - loss: 0.0595 - accuracy: 0.9985 - val_loss: 1.6646 - val_accuracy: 0.7358\n",
      "Epoch 34/500\n",
      "987/987 [==============================] - 14s 14ms/step - loss: 0.0592 - accuracy: 0.9981 - val_loss: 1.6507 - val_accuracy: 0.7425\n",
      "Epoch 35/500\n",
      "987/987 [==============================] - 14s 14ms/step - loss: 0.0582 - accuracy: 0.9983 - val_loss: 1.6620 - val_accuracy: 0.7391\n",
      "Epoch 36/500\n",
      "987/987 [==============================] - 15s 15ms/step - loss: 0.0571 - accuracy: 0.9989 - val_loss: 1.6890 - val_accuracy: 0.7358\n",
      "Epoch 37/500\n",
      "987/987 [==============================] - 14s 14ms/step - loss: 0.0581 - accuracy: 0.9981 - val_loss: 1.6761 - val_accuracy: 0.7559\n",
      "Epoch 38/500\n",
      "987/987 [==============================] - 14s 15ms/step - loss: 0.0564 - accuracy: 0.9991 - val_loss: 1.6777 - val_accuracy: 0.7324\n",
      "Epoch 39/500\n",
      "987/987 [==============================] - 15s 15ms/step - loss: 0.0572 - accuracy: 0.9988 - val_loss: 1.6291 - val_accuracy: 0.7592\n",
      "Epoch 40/500\n",
      "987/987 [==============================] - 15s 15ms/step - loss: 0.0576 - accuracy: 0.9988 - val_loss: 1.6845 - val_accuracy: 0.7559\n",
      "Epoch 41/500\n",
      "987/987 [==============================] - 15s 15ms/step - loss: 0.0565 - accuracy: 0.9985 - val_loss: 1.6578 - val_accuracy: 0.7592\n",
      "Epoch 42/500\n",
      "987/987 [==============================] - 14s 14ms/step - loss: 0.0558 - accuracy: 0.9989 - val_loss: 1.6221 - val_accuracy: 0.7525\n",
      "Epoch 43/500\n",
      "987/987 [==============================] - 15s 15ms/step - loss: 0.0563 - accuracy: 0.9979 - val_loss: 1.6778 - val_accuracy: 0.7358\n",
      "Epoch 44/500\n",
      "987/987 [==============================] - 13s 13ms/step - loss: 0.0566 - accuracy: 0.9984 - val_loss: 1.6809 - val_accuracy: 0.7358\n",
      "Epoch 45/500\n",
      "987/987 [==============================] - 15s 15ms/step - loss: 0.0549 - accuracy: 0.9990 - val_loss: 1.6505 - val_accuracy: 0.7559\n",
      "Epoch 46/500\n",
      "987/987 [==============================] - 15s 15ms/step - loss: 0.0555 - accuracy: 0.9986 - val_loss: 1.6653 - val_accuracy: 0.7425\n",
      "Epoch 47/500\n",
      "987/987 [==============================] - 14s 15ms/step - loss: 0.0571 - accuracy: 0.9979 - val_loss: 1.6400 - val_accuracy: 0.7425\n",
      "Epoch 48/500\n",
      "987/987 [==============================] - 14s 14ms/step - loss: 0.0561 - accuracy: 0.9982 - val_loss: 1.6550 - val_accuracy: 0.7425\n",
      "Epoch 49/500\n",
      "987/987 [==============================] - 14s 15ms/step - loss: 0.0553 - accuracy: 0.9990 - val_loss: 1.6595 - val_accuracy: 0.7525\n",
      "Epoch 00049: early stopping\n"
     ]
    }
   ],
   "source": [
    "history = model.fit(X_train_aug, y_train_aug, batch_size=16, epochs=500, validation_data=(X_val_aug, y_val),\n",
    "           callbacks=[reduce_lr, early_stop, model_checkpoint], class_weight = class_weights)\n"
   ]
  },
  {
   "cell_type": "markdown",
   "id": "53ac9618-41cf-4197-b633-b40ff609d674",
   "metadata": {},
   "source": [
    "### Plot Training Graphs"
   ]
  },
  {
   "cell_type": "code",
   "execution_count": 119,
   "id": "be94e4ce-6c41-4c9a-a4ec-30b21da73734",
   "metadata": {},
   "outputs": [
    {
     "data": {
      "image/png": "[encoded data removed]",
      "text/plain": [
       "<Figure size 432x288 with 1 Axes>"
      ]
     },
     "metadata": {},
     "output_type": "display_data"
    }
   ],
   "source": [
    "plt.plot(history.history['loss'])\n",
    "plt.plot(history.history['val_loss'])\n",
    "plt.title('model loss')\n",
    "plt.ylabel('loss')\n",
    "plt.xlabel('epoch')\n",
    "plt.legend(['train', 'val'], loc='upper left')\n",
    "plt.show()"
   ]
  },
  {
   "cell_type": "code",
   "execution_count": 120,
   "id": "02fbeb07-59a1-459a-8adc-2996252d84b9",
   "metadata": {},
   "outputs": [
    {
     "data": {
      "image/png": "[encoded data removed]",
      "text/plain": [
       "<Figure size 432x288 with 1 Axes>"
      ]
     },
     "metadata": {},
     "output_type": "display_data"
    }
   ],
   "source": [
    "plt.plot(history.history['accuracy'])\n",
    "plt.plot(history.history['val_accuracy'])\n",
    "plt.title('model accuracy')\n",
    "plt.ylabel('acc')\n",
    "plt.xlabel('epoch')\n",
    "plt.legend(['train', 'val'], loc='upper left')\n",
    "plt.show()"
   ]
  },
  {
   "cell_type": "markdown",
   "id": "855fa71b-fb64-4292-a20d-ddca62e2d2b9",
   "metadata": {},
   "source": [
    "### Save Model"
   ]
  },
  {
   "cell_type": "code",
   "execution_count": 121,
   "id": "586864de-39a7-4e85-9f07-54e860262f7e",
   "metadata": {},
   "outputs": [
    {
     "name": "stdout",
     "output_type": "stream",
     "text": [
      "INFO:tensorflow:Assets written to: /home/helemanc/Desktop/Binary_Model/models/binary_model_aug/assets\n"
     ]
    }
   ],
   "source": [
    "model.save(\"/home/helemanc/Desktop/Binary_Model/models/binary_model_aug\")"
   ]
  },
  {
   "cell_type": "markdown",
   "id": "9265abcd-94bb-45f3-94f5-afb497d44f40",
   "metadata": {},
   "source": [
    "### Evaluate Model"
   ]
  },
  {
   "cell_type": "code",
   "execution_count": 122,
   "id": "59362357-88e0-45cf-8953-6011a54c685c",
   "metadata": {},
   "outputs": [],
   "source": [
    "model_loaded = tf.keras.models.load_model(\"/home/helemanc/Desktop/Binary_Model/models/binary_model_aug\")"
   ]
  },
  {
   "cell_type": "code",
   "execution_count": 123,
   "id": "4f87c48d-40f3-46c2-bbfe-b3106c8fca69",
   "metadata": {},
   "outputs": [
    {
     "name": "stdout",
     "output_type": "stream",
     "text": [
      "107/107 [==============================] - 1s 4ms/step - loss: 341.3233 - accuracy: 0.5718\n"
     ]
    },
    {
     "data": {
      "text/plain": [
       "[341.3233337402344, 0.5717647075653076]"
      ]
     },
     "execution_count": 123,
     "metadata": {},
     "output_type": "execute_result"
    }
   ],
   "source": [
    "model_loaded.evaluate(X_test, y_test, batch_size=16)"
   ]
  },
  {
   "cell_type": "code",
   "execution_count": 124,
   "id": "d5a8683e-61d3-415a-862b-78dba61d5209",
   "metadata": {
    "tags": []
   },
   "outputs": [
    {
     "name": "stdout",
     "output_type": "stream",
     "text": [
      "              precision    recall  f1-score   support\n",
      "\n",
      "           0       0.00      0.00      0.00       728\n",
      "           1       0.57      1.00      0.73       972\n",
      "\n",
      "    accuracy                           0.57      1700\n",
      "   macro avg       0.29      0.50      0.36      1700\n",
      "weighted avg       0.33      0.57      0.42      1700\n",
      "\n"
     ]
    }
   ],
   "source": [
    "from sklearn.metrics import classification_report\n",
    "predictions = model_loaded.predict(X_test)\n",
    "pred = [1 * (x[0]>=0.50) for x in predictions] #0.5 o 0.52? \n",
    "print(classification_report(y_test, pred))"
   ]
  },
  {
   "cell_type": "code",
   "execution_count": null,
   "id": "2036c309-84df-4423-aa87-8d7db834584e",
   "metadata": {},
   "outputs": [],
   "source": []
  }
 ],
 "metadata": {
  "kernelspec": {
   "display_name": "Python 3 (ipykernel)",
   "language": "python",
   "name": "python3"
  },
  "language_info": {
   "codemirror_mode": {
    "name": "ipython",
    "version": 3
   },
   "file_extension": ".py",
   "mimetype": "text/x-python",
   "name": "python",
   "nbconvert_exporter": "python",
   "pygments_lexer": "ipython3",
   "version": "3.8.10"
  },
  "toc-autonumbering": true,
  "toc-showmarkdowntxt": false
 },
 "nbformat": 4,
 "nbformat_minor": 5
}
